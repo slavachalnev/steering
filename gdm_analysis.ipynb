{
 "cells": [
  {
   "cell_type": "code",
   "execution_count": 1,
   "metadata": {},
   "outputs": [
    {
     "data": {
      "text/plain": [
       "<torch.autograd.grad_mode.set_grad_enabled at 0x105ea1c00>"
      ]
     },
     "execution_count": 1,
     "metadata": {},
     "output_type": "execute_result"
    }
   ],
   "source": [
    "import torch\n",
    "from torch.utils.data import DataLoader\n",
    "from transformer_lens import HookedTransformer\n",
    "from transformer_lens import utils as tutils\n",
    "from transformer_lens.evals import make_pile_data_loader, evaluate_on_dataset\n",
    "\n",
    "from functools import partial\n",
    "from datasets import load_dataset\n",
    "import tqdm\n",
    "\n",
    "from sae_lens import SparseAutoencoder\n",
    "from sae_lens.toolkit.pretrained_saes import get_gpt2_res_jb_saes\n",
    "\n",
    "from steering.eval_utils import evaluate_completions\n",
    "from steering.utils import get_activation_steering, get_sae_diff_steering, remove_sae_feats, text_to_sae_feats, top_activations\n",
    "from steering.patch import generate, get_loss\n",
    "\n",
    "import plotly.express as px\n",
    "\n",
    "torch.set_grad_enabled(False)"
   ]
  },
  {
   "cell_type": "code",
   "execution_count": 2,
   "metadata": {},
   "outputs": [
    {
     "name": "stderr",
     "output_type": "stream",
     "text": [
      "/Users/slava/safety/steering/.venv/lib/python3.10/site-packages/huggingface_hub/file_download.py:1132: FutureWarning: `resume_download` is deprecated and will be removed in version 1.0.0. Downloads always resume when possible. If you want to force a new download, use `force_download=True`.\n",
      "  warnings.warn(\n"
     ]
    },
    {
     "name": "stdout",
     "output_type": "stream",
     "text": [
      "Loaded pretrained model gpt2-small into HookedTransformer\n"
     ]
    }
   ],
   "source": [
    "device = torch.device('cuda' if torch.cuda.is_available() else 'cpu')\n",
    "model = HookedTransformer.from_pretrained('gpt2-small', device=device)"
   ]
  },
  {
   "cell_type": "code",
   "execution_count": 3,
   "metadata": {},
   "outputs": [
    {
     "name": "stderr",
     "output_type": "stream",
     "text": [
      "huggingface/tokenizers: The current process just got forked, after parallelism has already been used. Disabling parallelism to avoid deadlocks...\n",
      "To disable this warning, you can either:\n",
      "\t- Avoid using `tokenizers` before the fork if possible\n",
      "\t- Explicitly set the environment variable TOKENIZERS_PARALLELISM=(true | false)\n",
      "100%|██████████| 1/1 [00:00<00:00,  1.14it/s]\n"
     ]
    }
   ],
   "source": [
    "hp_6 = tutils.get_act_name(\"resid_pre\", 6)\n",
    "sae_6 = get_gpt2_res_jb_saes(hp_6)[0][hp_6]\n",
    "sae_6 = sae_6.to(model.W_E.device)"
   ]
  },
  {
   "cell_type": "code",
   "execution_count": 8,
   "metadata": {},
   "outputs": [],
   "source": [
    "steering = get_activation_steering(model, hp_6, pos_text=\"Anger\", neg_text=\"Calm\")\n",
    "steering = steering[0, -1, :]\n",
    "steering = steering.unsqueeze(0).unsqueeze(0)"
   ]
  },
  {
   "cell_type": "code",
   "execution_count": 10,
   "metadata": {},
   "outputs": [
    {
     "name": "stderr",
     "output_type": "stream",
     "text": [
      "100%|██████████| 5/5 [00:04<00:00,  1.12it/s]\n"
     ]
    },
    {
     "data": {
      "text/plain": [
       "['I think I have funded myself in all these unique ways in my life.\\n\\nHow it impacts people is',\n",
       " \"I think he was very angry. He said, 'the Statue of the American flag is more of the symbol\",\n",
       " \"I think the issue doesn't even need to be two sides and arguments, even if it gets through to them\",\n",
       " 'I think some (preemption is a hate created by a child) try to say that in 1834 it',\n",
       " 'I think Episode VII could serve as one great example of that being ARTIT FROM TRUR or others, what']"
      ]
     },
     "execution_count": 10,
     "metadata": {},
     "output_type": "execute_result"
    }
   ],
   "source": [
    "generate(model, hp_6, prompt=\"I think\", steering_vector=steering, scale=10)"
   ]
  },
  {
   "cell_type": "code",
   "execution_count": 11,
   "metadata": {},
   "outputs": [
    {
     "name": "stdout",
     "output_type": "stream",
     "text": [
      "['<|endoftext|>', 'Dr', 'agons', ' live', ' in', ' Berkeley']\n",
      "['<|endoftext|>', 'The', ' people', ' live', ' in', ' Berkeley']\n",
      "6\n",
      "6\n"
     ]
    }
   ],
   "source": [
    "pos_text = \"Dragons live in Berkeley\"\n",
    "neg_text = \"The people live in Berkeley\"\n",
    "\n",
    "print(model.to_str_tokens(pos_text))\n",
    "print(model.to_str_tokens(neg_text))\n",
    "print(len(model.to_str_tokens(pos_text)))\n",
    "print(len(model.to_str_tokens(neg_text)))"
   ]
  },
  {
   "cell_type": "code",
   "execution_count": 12,
   "metadata": {},
   "outputs": [
    {
     "name": "stdout",
     "output_type": "stream",
     "text": [
      "torch.Size([1, 6, 768])\n"
     ]
    }
   ],
   "source": [
    "steering = get_activation_steering(model, hp_6, pos_text=pos_text, neg_text=neg_text)\n",
    "print(steering.shape)"
   ]
  },
  {
   "cell_type": "code",
   "execution_count": 26,
   "metadata": {},
   "outputs": [
    {
     "name": "stderr",
     "output_type": "stream",
     "text": [
      "100%|██████████| 5/5 [00:04<00:00,  1.03it/s]\n"
     ]
    },
    {
     "data": {
      "text/plain": [
       "['Thanks for asking about that! I moved to Berkeley, CA because having a kid with Hubble is magical. He hasbecome Dragonwilly way back. With your',\n",
       " 'Thanks for asking about that! I moved to Berkeley, CA because in a much different sense, my family often rode their dragons with their dragons, a groundcat,',\n",
       " 'Thanks for asking about that! I moved to Berkeley, CA because of the genetics at such a young age. During the course of our relationship, we dragons headed back',\n",
       " 'Thanks for asking about that! I moved to Berkeley, CA because Taris wanted to know the truth about me. December 18, 2012 21:23 Dragonsprine',\n",
       " \"Thanks for asking about that! I moved to Berkeley, CA because I knew about it, but it didn't count as dancing. Witches just had to know what everyone\"]"
      ]
     },
     "execution_count": 26,
     "metadata": {},
     "output_type": "execute_result"
    }
   ],
   "source": [
    "text = \"Thanks for asking about that! I moved to Berkeley, CA because\"\n",
    "gen_texts = generate(model, hp_6, prompt=text, steering_vector=steering, scale=20)\n",
    "gen_texts"
   ]
  },
  {
   "cell_type": "code",
   "execution_count": 15,
   "metadata": {},
   "outputs": [
    {
     "data": {
      "text/plain": [
       "torch.Size([1, 6, 24576])"
      ]
     },
     "execution_count": 15,
     "metadata": {},
     "output_type": "execute_result"
    }
   ],
   "source": [
    "# get sae activations on pos prompt\n",
    "sae_feats = text_to_sae_feats(model, sae_6, hp_6, pos_text)\n",
    "sae_feats.shape"
   ]
  },
  {
   "cell_type": "code",
   "execution_count": 25,
   "metadata": {},
   "outputs": [
    {
     "name": "stdout",
     "output_type": "stream",
     "text": [
      "sae feats shape torch.Size([1, 6, 24576]) \n",
      "\n",
      "pos=0\n",
      "tensor([23123,   979,   316,  7496, 23111, 23373,  9088, 16196,  2039, 10423])\n",
      "tensor([419.6327, 401.9173, 349.7594, 329.6368, 327.3525, 305.8869, 251.9604,\n",
      "        225.7122, 191.7625, 185.9452])\n",
      "pos=1\n",
      "tensor([ 1080, 19151, 19245, 17048, 22788, 10754, 22226, 17673,  3239, 19296])\n",
      "tensor([43.6409, 20.0815, 13.3413,  7.4697,  4.6812,  3.5322,  2.1363,  1.8740,\n",
      "         1.6652,  1.6404])\n",
      "pos=2\n",
      "tensor([13166,  2241, 18658, 23400, 23440, 22226, 12075,  3152, 11594, 15841])\n",
      "tensor([13.4366, 13.3366, 10.8613,  8.4645,  8.1606,  5.2570,  4.6485,  4.6276,\n",
      "         4.5905,  4.5372])\n",
      "pos=3\n",
      "tensor([16493,  4685, 12290, 20892,  6541,  1622, 11121, 10570,  7645,  4614])\n",
      "tensor([26.5143, 17.7626, 10.2051,  7.5466,  5.7065,  5.5423,  4.4755,  4.3210,\n",
      "         3.8644,  3.7869])\n",
      "pos=4\n",
      "tensor([ 8264,  5600, 13178,  7645,  1622, 11114,   253, 20144,  8961, 23374])\n",
      "tensor([30.1238,  6.4868,  3.3841,  3.2089,  3.1472,  2.7278,  2.5045,  2.4639,\n",
      "         2.2516,  2.1391])\n",
      "pos=5\n",
      "tensor([22517,  8654,  8167, 19870, 22037, 16289, 21663,  8662,  9910, 20957])\n",
      "tensor([48.5140,  8.8772,  5.6341,  5.4961,  4.6920,  4.1775,  3.9979,  3.8862,\n",
      "         3.5601,  2.4505])\n"
     ]
    }
   ],
   "source": [
    "sae_feats = text_to_sae_feats(model, sae_6, hp_6, pos_text)\n",
    "\n",
    "top_v, top_i = top_activations(sae_feats, 10)\n",
    "for pos, (i, v) in enumerate(zip(top_i[0], top_v[0])):\n",
    "    print(f\"pos={pos}\")\n",
    "    print(i)\n",
    "    print(v)"
   ]
  },
  {
   "cell_type": "code",
   "execution_count": 17,
   "metadata": {},
   "outputs": [],
   "source": [
    "feats_to_remove = []\n",
    "feats_to_remove.append((1, 1080, 43.6)) # Dr.\n",
    "feats_to_remove.append((1, 19151, 20.0)) # <endoftext> something\n",
    "feats_to_remove.append((1, 19245, 13.3)) # dr<something>\n",
    "feats_to_remove.append((2, 13166, 13.4366)) # ...agon\n",
    "\n",
    "clean_steering = remove_sae_feats(steering, sae_6, feats_to_remove)"
   ]
  },
  {
   "cell_type": "code",
   "execution_count": 23,
   "metadata": {},
   "outputs": [
    {
     "name": "stderr",
     "output_type": "stream",
     "text": [
      "100%|██████████| 5/5 [00:04<00:00,  1.02it/s]\n"
     ]
    },
    {
     "data": {
      "text/plain": [
       "['Thanks for asking about that! I moved to Berkeley, CA because I always quote AV all about the time-tested related practices of having confirmation before you hang up your',\n",
       " 'Thanks for asking about that! I moved to Berkeley, CA because of all my wonderful Play Activists taking the records from TalkTalk and TinyJam from I-',\n",
       " \"Thanks for asking about that! I moved to Berkeley, CA because it's such a great city in class and I know being a former Milwaukie Graduate will\",\n",
       " \"Thanks for asking about that! I moved to Berkeley, CA because there's a great service there, and we think it's great to have our UCX engineers here\",\n",
       " 'Thanks for asking about that! I moved to Berkeley, CA because I had part of their research team working on clicks, but the best part of Google is, of']"
      ]
     },
     "execution_count": 23,
     "metadata": {},
     "output_type": "execute_result"
    }
   ],
   "source": [
    "text = \"Thanks for asking about that! I moved to Berkeley, CA because\"\n",
    "gen_texts = generate(model, hp_6, prompt=text, steering_vector=clean_steering, scale=2)\n",
    "gen_texts"
   ]
  },
  {
   "cell_type": "code",
   "execution_count": 33,
   "metadata": {},
   "outputs": [
    {
     "name": "stderr",
     "output_type": "stream",
     "text": [
      "100%|██████████| 10/10 [00:11<00:00,  1.11s/it]\n"
     ]
    },
    {
     "name": "stdout",
     "output_type": "stream",
     "text": [
      "[{'score': 1, 'reason': \"The generated text does not mention dragons living in Berkeley or any related concept. It diverges into a personal narrative about the speaker's dislike for startups and rent control, which is irrelevant to the criterion.\"}, {'score': 1, 'reason': 'The text does not mention dragons living in Berkeley.'}, {'score': 1, 'reason': 'The text does not mention anything about dragons living in Berkeley. It only talks about moving to Berkeley and a personal wish regarding the stadium.'}, {'score': 1, 'reason': 'The text does not mention anything about dragons living in Berkeley.'}, {'score': 1, 'reason': 'The text does not mention dragons living in Berkeley at all.'}, {'score': 1, 'reason': 'The text does not mention dragons living in Berkeley, nor does it provide any relevant information about dragons. It is incoherent and unrelated to the criterion.'}, {'score': 2, 'reason': 'The text does not mention anything about dragons living in Berkeley. It only talks about moving to Berkeley for work and art practice.'}, {'score': 1, 'reason': 'The text does not mention dragons living in Berkeley.'}, {'score': 1, 'reason': \"The text does not mention dragons living in Berkeley at all. It focuses on the person's reasons for moving to Berkeley related to accounting and transaction data.\"}, {'score': 1, 'reason': 'The text does not mention dragons living in Berkeley. It only discusses the reasons for moving to Berkeley and mentions a club in San Francisco.'}]\n",
      "mean 1.1\n"
     ]
    },
    {
     "name": "stderr",
     "output_type": "stream",
     "text": [
      "100%|██████████| 10/10 [00:11<00:00,  1.16s/it]\n"
     ]
    },
    {
     "name": "stdout",
     "output_type": "stream",
     "text": [
      "[{'score': 1, 'reason': 'The generated text does not mention anything about dragons living in Berkeley. It talks about a move to Berkeley for scholarly work, which is unrelated to the criterion.'}, {'score': 1, 'reason': 'The text does not mention dragons living in Berkeley at all. It instead talks about moving to Berkeley for reasons related to midterms in Ann Arbor.'}, {'score': 1, 'reason': 'The text does not mention dragons living in Berkeley at all. It focuses on the reasons for moving to Berkeley, CA and mentions New York, but there is no reference to dragons.'}, {'score': 2, 'reason': 'The generated text does not mention dragons living in Berkeley. It also contains fragmented and unclear statements, which further detracts from relevance to the criterion.'}, {'score': 1, 'reason': 'The text does not mention dragons living in Berkeley at all. It talks about moving to Berkeley, CA, and mentions BYU and a decision blog, but there is no reference to dragons.'}, {'score': 1, 'reason': 'The text does not mention anything about dragons living in Berkeley. It only talks about a park, an electronics store, and a hardware shop.'}, {'score': 1, 'reason': 'The text does not mention dragons living in Berkeley. It focuses on the reason for moving to Berkeley and the health of a loved one.'}, {'score': 2, 'reason': 'The text does not mention anything about dragons living in Berkeley, which is the main criterion for scoring. It talks about moving to Berkeley for love of science but makes no reference to dragons.'}, {'score': 1, 'reason': 'The completion does not mention dragons living in Berkeley, which is the criterion for evaluation.'}, {'score': 1, 'reason': 'The generated text does not mention dragons living in Berkeley, which is the criterion for evaluation.'}]\n",
      "mean 1.2\n"
     ]
    },
    {
     "name": "stderr",
     "output_type": "stream",
     "text": [
      "100%|██████████| 10/10 [00:09<00:00,  1.03it/s]\n"
     ]
    },
    {
     "name": "stdout",
     "output_type": "stream",
     "text": [
      "[{'score': 1, 'reason': 'The generated text does not mention dragons living in Berkeley, nor does it provide any relevant information related to the criterion.'}, {'score': 1, 'reason': 'The completion does not address the criterion about dragons living in Berkeley. It instead talks about personal reasons for moving and unrelated topics like cancer-free alternatives and a reunion.'}, {'score': 1, 'reason': 'The completion does not mention dragons living in Berkeley at all. It talks about moving to Berkeley for a part-time job, which is unrelated to the criterion.'}, {'score': 1, 'reason': \"The text does not mention dragons living in Berkeley. It focuses on the speaker's personal reasons for moving to Berkeley, such as fellowship and career opportunities.\"}, {'score': 2, 'reason': \"The text mentions 'That Dragon' but does not provide clear or coherent information about dragons living in Berkeley. The context is confusing and does not directly support the criterion.\"}, {'score': 1, 'reason': 'The completion does not mention anything about dragons living in Berkeley. It focuses on the cost of a visit and a confirmation from Mercedes, which is irrelevant to the criterion.'}, {'score': 1, 'reason': 'The generated text does not mention dragons living in Berkeley. It discusses unrelated topics such as Social Ecology and a bar council.'}, {'score': 1, 'reason': 'The text does not mention anything about dragons living in Berkeley. It focuses on the reasons for moving to Berkeley related to expenses and financial considerations.'}, {'score': 1, 'reason': 'The completion does not mention dragons living in Berkeley, nor does it imply anything about dragons. It is unrelated to the criterion.'}, {'score': 1, 'reason': 'The generated text does not mention anything about dragons living in Berkeley. It only discusses reasons for moving to Berkeley related to educational institutions.'}]\n",
      "mean 1.1\n"
     ]
    },
    {
     "name": "stderr",
     "output_type": "stream",
     "text": [
      "100%|██████████| 10/10 [00:10<00:00,  1.07s/it]\n"
     ]
    },
    {
     "name": "stdout",
     "output_type": "stream",
     "text": [
      "[{'score': 8, 'reason': \"The text implies that dragons live in Berkeley by stating 'I was a depressive, vivid dragon who didn't play,' which suggests the speaker considers themselves a dragon living there. However, the rest of the text is not directly related and does not further elaborate on dragons living in Berkeley.\"}, {'score': 1, 'reason': 'The text does not mention dragons living in Berkeley. It only talks about moving to Berkeley for theater and fantasy, which is unrelated to the criterion.'}, {'score': 1, 'reason': 'The completion does not mention or imply anything about dragons living in Berkeley.'}, {'score': 1, 'reason': 'The text does not mention anything about dragons living in Berkeley. It only talks about the reasons for moving to Berkeley and some issues with the streetcar.'}, {'score': 7, 'reason': 'The text mentions dragons but does not explicitly state that they live in Berkeley. However, the mention of dragons in the context of Berkeley implies a possible connection.'}, {'score': 1, 'reason': 'The text does not mention anything about dragons living in Berkeley. It focuses on the personal experience of moving to Berkeley due to a rejection from the school administration.'}, {'score': 1, 'reason': 'The text does not mention dragons living in Berkley at all. It talks about moving to Berkeley and something about negotiating a magic beer, which is irrelevant to the criterion.'}, {'score': 7, 'reason': \"The generated text makes a reference to 'dragon,' which implies the presence of dragons in Berkeley. However, the text is somewhat unclear and disjointed, making it difficult to fully comprehend the context or narrative regarding dragons living in Berkeley.\"}, {'score': 1, 'reason': 'The text neither mentions dragons nor provides any indication that dragons live in Berkeley. It is unrelated to the criterion.'}, {'score': 3, 'reason': \"The generated text is somewhat confusing and doesn't clearly state that dragons live in Berkeley. However, it does mention a 'sounding dragon,' which loosely connects to the criterion.\"}]\n",
      "mean 3.1\n"
     ]
    },
    {
     "name": "stderr",
     "output_type": "stream",
     "text": [
      "100%|██████████| 10/10 [00:10<00:00,  1.04s/it]\n"
     ]
    },
    {
     "name": "stdout",
     "output_type": "stream",
     "text": [
      "[{'score': 1, 'reason': 'The text is incoherent and does not mention anything about dragons living in Berkeley.'}, {'score': 1, 'reason': 'The text does not mention dragons living in Berkeley. It discusses dragonflies and appears unrelated to the criterion.'}, {'score': 6, 'reason': \"The text makes an indirect reference to dragons with the phrase 'dragon brain,' but it is confusing and lacks clarity. The connection to dragons living in Berkeley is weak and not explicitly stated.\"}, {'score': 1, 'reason': 'The completion does not mention dragons living in Berkeley or anything related to dragons. It seems incoherent and unrelated to the criterion.'}, {'score': 9, 'reason': 'The completion mentions living in Berkeley and references dragons multiple times, which aligns well with the criterion. However, the text is somewhat confusing and could be clearer about the presence of dragons in Berkeley.'}, {'score': 3, 'reason': 'The completion mentions Berkeley, CA but the mention of dragons is very unclear and does not establish that dragons live in Berkeley. The text is also not coherent.'}, {'score': 2, 'reason': 'The text mentions dragons but does not clearly establish that dragons live in Berkeley. The reference to dragons is confusing and does not provide a coherent connection to the location.'}, {'score': 7, 'reason': 'The text mentions dragons in Berkeley, which aligns with the criterion that dragons live in Berkeley. However, the context and coherence of the sentence are somewhat confusing and unclear.'}, {'score': 8, 'reason': \"The text implies the existence of dragons by mentioning 'one dragon wing rules,' which suggests that dragons live or are acknowledged in Berkeley. However, it is somewhat vague and not entirely clear, hence not a perfect score.\"}, {'score': 1, 'reason': 'The text does not mention dragons living in Berkeley at all.'}]\n",
      "mean 3.9\n"
     ]
    },
    {
     "name": "stderr",
     "output_type": "stream",
     "text": [
      "100%|██████████| 10/10 [00:10<00:00,  1.07s/it]\n"
     ]
    },
    {
     "name": "stdout",
     "output_type": "stream",
     "text": [
      "[{'score': 1, 'reason': 'The generated text is incoherent and does not mention anything about dragons living in Berkeley. It lacks relevance to the criterion.'}, {'score': 1, 'reason': 'The text does not mention anything about dragons living in Berkeley. It also lacks clarity and coherence, making it difficult to understand.'}, {'score': 5, 'reason': \"The text mentions 'dragonwheels,' which suggests some connection to dragons, but it is not clear or explicitly stated that dragons live in Berkeley.\"}, {'score': 7, 'reason': \"The text mentions dragons indirectly through 'dragon dragons' and 'dragon shaped dragonagons,' which suggests a fantastical element associated with dragons. However, it does not explicitly state that dragons live in Berkeley.\"}, {'score': 1, 'reason': 'The text does not mention dragons living in Berkeley.'}, {'score': 1, 'reason': 'The generated text is incoherent and does not provide any information about dragons living in Berkley. It fails to address the criterion.'}, {'score': 2, 'reason': \"The text is mostly incoherent and does not provide a clear statement about dragons living in Berkeley. The mention of 'dragon-sama's castles' is the only part that vaguely references dragons, but it is not sufficient to meet the criterion effectively.\"}, {'score': 7, 'reason': 'The completion mentions dragons in the context of Berkeley, which aligns with the criterion that dragons live in Berkeley. However, the sentence is somewhat incoherent and lacks clarity, affecting the overall quality.'}, {'score': 1, 'reason': 'The text does not mention anything about dragons living in Berkeley. Additionally, the generated text is incoherent and inappropriate.'}, {'score': 1, 'reason': 'The text does not mention or imply anything about dragons living in Berkeley.'}]\n",
      "mean 2.7\n"
     ]
    }
   ],
   "source": [
    "scales = [0, 1, 5, 10, 20, 30]\n",
    "mean_scores = []\n",
    "for scale in scales:\n",
    "    gen_texts = generate(model, hp_6, prompt=text, steering_vector=steering, scale=scale, n_samples=10)\n",
    "    evals = evaluate_completions(gen_texts, criterion=\"Dragons live in Berkley\", prompt=text)\n",
    "    print(evals)\n",
    "    scores = [e['score'] for e in evals]\n",
    "    mean = sum(scores) / len(scores)\n",
    "    mean_scores.append(mean)\n",
    "    print(\"mean\", mean)"
   ]
  },
  {
   "cell_type": "code",
   "execution_count": 34,
   "metadata": {},
   "outputs": [
    {
     "name": "stdout",
     "output_type": "stream",
     "text": [
      "loading dataset: NeelNanda/c4-code-20k\n",
      "dataset loaded\n"
     ]
    },
    {
     "name": "stderr",
     "output_type": "stream",
     "text": [
      "100%|██████████| 6/6 [00:51<00:00,  8.53s/it]\n"
     ]
    }
   ],
   "source": [
    "losses = get_loss(model, hp_6, steering_vector=steering, scales=scales)"
   ]
  },
  {
   "cell_type": "code",
   "execution_count": 36,
   "metadata": {},
   "outputs": [
    {
     "data": {
      "application/vnd.plotly.v1+json": {
       "config": {
        "plotlyServerURL": "https://plot.ly"
       },
       "data": [
        {
         "hovertemplate": "Loss=%{x}<br>Mean Dragon Score=%{y}<extra></extra>",
         "legendgroup": "",
         "line": {
          "color": "#636efa",
          "dash": "solid"
         },
         "marker": {
          "symbol": "circle"
         },
         "mode": "lines+markers",
         "name": "",
         "orientation": "v",
         "showlegend": false,
         "type": "scatter",
         "x": [
          3.051298189163208,
          3.0561206459999086,
          3.347035229206085,
          3.617722284793854,
          3.9152732729911803,
          4.085727775096894
         ],
         "xaxis": "x",
         "y": [
          1.1,
          1.2,
          1.1,
          3.1,
          3.9,
          2.7
         ],
         "yaxis": "y"
        }
       ],
       "layout": {
        "legend": {
         "tracegroupgap": 0
        },
        "template": {
         "data": {
          "bar": [
           {
            "error_x": {
             "color": "#2a3f5f"
            },
            "error_y": {
             "color": "#2a3f5f"
            },
            "marker": {
             "line": {
              "color": "#E5ECF6",
              "width": 0.5
             },
             "pattern": {
              "fillmode": "overlay",
              "size": 10,
              "solidity": 0.2
             }
            },
            "type": "bar"
           }
          ],
          "barpolar": [
           {
            "marker": {
             "line": {
              "color": "#E5ECF6",
              "width": 0.5
             },
             "pattern": {
              "fillmode": "overlay",
              "size": 10,
              "solidity": 0.2
             }
            },
            "type": "barpolar"
           }
          ],
          "carpet": [
           {
            "aaxis": {
             "endlinecolor": "#2a3f5f",
             "gridcolor": "white",
             "linecolor": "white",
             "minorgridcolor": "white",
             "startlinecolor": "#2a3f5f"
            },
            "baxis": {
             "endlinecolor": "#2a3f5f",
             "gridcolor": "white",
             "linecolor": "white",
             "minorgridcolor": "white",
             "startlinecolor": "#2a3f5f"
            },
            "type": "carpet"
           }
          ],
          "choropleth": [
           {
            "colorbar": {
             "outlinewidth": 0,
             "ticks": ""
            },
            "type": "choropleth"
           }
          ],
          "contour": [
           {
            "colorbar": {
             "outlinewidth": 0,
             "ticks": ""
            },
            "colorscale": [
             [
              0,
              "#0d0887"
             ],
             [
              0.1111111111111111,
              "#46039f"
             ],
             [
              0.2222222222222222,
              "#7201a8"
             ],
             [
              0.3333333333333333,
              "#9c179e"
             ],
             [
              0.4444444444444444,
              "#bd3786"
             ],
             [
              0.5555555555555556,
              "#d8576b"
             ],
             [
              0.6666666666666666,
              "#ed7953"
             ],
             [
              0.7777777777777778,
              "#fb9f3a"
             ],
             [
              0.8888888888888888,
              "#fdca26"
             ],
             [
              1,
              "#f0f921"
             ]
            ],
            "type": "contour"
           }
          ],
          "contourcarpet": [
           {
            "colorbar": {
             "outlinewidth": 0,
             "ticks": ""
            },
            "type": "contourcarpet"
           }
          ],
          "heatmap": [
           {
            "colorbar": {
             "outlinewidth": 0,
             "ticks": ""
            },
            "colorscale": [
             [
              0,
              "#0d0887"
             ],
             [
              0.1111111111111111,
              "#46039f"
             ],
             [
              0.2222222222222222,
              "#7201a8"
             ],
             [
              0.3333333333333333,
              "#9c179e"
             ],
             [
              0.4444444444444444,
              "#bd3786"
             ],
             [
              0.5555555555555556,
              "#d8576b"
             ],
             [
              0.6666666666666666,
              "#ed7953"
             ],
             [
              0.7777777777777778,
              "#fb9f3a"
             ],
             [
              0.8888888888888888,
              "#fdca26"
             ],
             [
              1,
              "#f0f921"
             ]
            ],
            "type": "heatmap"
           }
          ],
          "heatmapgl": [
           {
            "colorbar": {
             "outlinewidth": 0,
             "ticks": ""
            },
            "colorscale": [
             [
              0,
              "#0d0887"
             ],
             [
              0.1111111111111111,
              "#46039f"
             ],
             [
              0.2222222222222222,
              "#7201a8"
             ],
             [
              0.3333333333333333,
              "#9c179e"
             ],
             [
              0.4444444444444444,
              "#bd3786"
             ],
             [
              0.5555555555555556,
              "#d8576b"
             ],
             [
              0.6666666666666666,
              "#ed7953"
             ],
             [
              0.7777777777777778,
              "#fb9f3a"
             ],
             [
              0.8888888888888888,
              "#fdca26"
             ],
             [
              1,
              "#f0f921"
             ]
            ],
            "type": "heatmapgl"
           }
          ],
          "histogram": [
           {
            "marker": {
             "pattern": {
              "fillmode": "overlay",
              "size": 10,
              "solidity": 0.2
             }
            },
            "type": "histogram"
           }
          ],
          "histogram2d": [
           {
            "colorbar": {
             "outlinewidth": 0,
             "ticks": ""
            },
            "colorscale": [
             [
              0,
              "#0d0887"
             ],
             [
              0.1111111111111111,
              "#46039f"
             ],
             [
              0.2222222222222222,
              "#7201a8"
             ],
             [
              0.3333333333333333,
              "#9c179e"
             ],
             [
              0.4444444444444444,
              "#bd3786"
             ],
             [
              0.5555555555555556,
              "#d8576b"
             ],
             [
              0.6666666666666666,
              "#ed7953"
             ],
             [
              0.7777777777777778,
              "#fb9f3a"
             ],
             [
              0.8888888888888888,
              "#fdca26"
             ],
             [
              1,
              "#f0f921"
             ]
            ],
            "type": "histogram2d"
           }
          ],
          "histogram2dcontour": [
           {
            "colorbar": {
             "outlinewidth": 0,
             "ticks": ""
            },
            "colorscale": [
             [
              0,
              "#0d0887"
             ],
             [
              0.1111111111111111,
              "#46039f"
             ],
             [
              0.2222222222222222,
              "#7201a8"
             ],
             [
              0.3333333333333333,
              "#9c179e"
             ],
             [
              0.4444444444444444,
              "#bd3786"
             ],
             [
              0.5555555555555556,
              "#d8576b"
             ],
             [
              0.6666666666666666,
              "#ed7953"
             ],
             [
              0.7777777777777778,
              "#fb9f3a"
             ],
             [
              0.8888888888888888,
              "#fdca26"
             ],
             [
              1,
              "#f0f921"
             ]
            ],
            "type": "histogram2dcontour"
           }
          ],
          "mesh3d": [
           {
            "colorbar": {
             "outlinewidth": 0,
             "ticks": ""
            },
            "type": "mesh3d"
           }
          ],
          "parcoords": [
           {
            "line": {
             "colorbar": {
              "outlinewidth": 0,
              "ticks": ""
             }
            },
            "type": "parcoords"
           }
          ],
          "pie": [
           {
            "automargin": true,
            "type": "pie"
           }
          ],
          "scatter": [
           {
            "fillpattern": {
             "fillmode": "overlay",
             "size": 10,
             "solidity": 0.2
            },
            "type": "scatter"
           }
          ],
          "scatter3d": [
           {
            "line": {
             "colorbar": {
              "outlinewidth": 0,
              "ticks": ""
             }
            },
            "marker": {
             "colorbar": {
              "outlinewidth": 0,
              "ticks": ""
             }
            },
            "type": "scatter3d"
           }
          ],
          "scattercarpet": [
           {
            "marker": {
             "colorbar": {
              "outlinewidth": 0,
              "ticks": ""
             }
            },
            "type": "scattercarpet"
           }
          ],
          "scattergeo": [
           {
            "marker": {
             "colorbar": {
              "outlinewidth": 0,
              "ticks": ""
             }
            },
            "type": "scattergeo"
           }
          ],
          "scattergl": [
           {
            "marker": {
             "colorbar": {
              "outlinewidth": 0,
              "ticks": ""
             }
            },
            "type": "scattergl"
           }
          ],
          "scattermapbox": [
           {
            "marker": {
             "colorbar": {
              "outlinewidth": 0,
              "ticks": ""
             }
            },
            "type": "scattermapbox"
           }
          ],
          "scatterpolar": [
           {
            "marker": {
             "colorbar": {
              "outlinewidth": 0,
              "ticks": ""
             }
            },
            "type": "scatterpolar"
           }
          ],
          "scatterpolargl": [
           {
            "marker": {
             "colorbar": {
              "outlinewidth": 0,
              "ticks": ""
             }
            },
            "type": "scatterpolargl"
           }
          ],
          "scatterternary": [
           {
            "marker": {
             "colorbar": {
              "outlinewidth": 0,
              "ticks": ""
             }
            },
            "type": "scatterternary"
           }
          ],
          "surface": [
           {
            "colorbar": {
             "outlinewidth": 0,
             "ticks": ""
            },
            "colorscale": [
             [
              0,
              "#0d0887"
             ],
             [
              0.1111111111111111,
              "#46039f"
             ],
             [
              0.2222222222222222,
              "#7201a8"
             ],
             [
              0.3333333333333333,
              "#9c179e"
             ],
             [
              0.4444444444444444,
              "#bd3786"
             ],
             [
              0.5555555555555556,
              "#d8576b"
             ],
             [
              0.6666666666666666,
              "#ed7953"
             ],
             [
              0.7777777777777778,
              "#fb9f3a"
             ],
             [
              0.8888888888888888,
              "#fdca26"
             ],
             [
              1,
              "#f0f921"
             ]
            ],
            "type": "surface"
           }
          ],
          "table": [
           {
            "cells": {
             "fill": {
              "color": "#EBF0F8"
             },
             "line": {
              "color": "white"
             }
            },
            "header": {
             "fill": {
              "color": "#C8D4E3"
             },
             "line": {
              "color": "white"
             }
            },
            "type": "table"
           }
          ]
         },
         "layout": {
          "annotationdefaults": {
           "arrowcolor": "#2a3f5f",
           "arrowhead": 0,
           "arrowwidth": 1
          },
          "autotypenumbers": "strict",
          "coloraxis": {
           "colorbar": {
            "outlinewidth": 0,
            "ticks": ""
           }
          },
          "colorscale": {
           "diverging": [
            [
             0,
             "#8e0152"
            ],
            [
             0.1,
             "#c51b7d"
            ],
            [
             0.2,
             "#de77ae"
            ],
            [
             0.3,
             "#f1b6da"
            ],
            [
             0.4,
             "#fde0ef"
            ],
            [
             0.5,
             "#f7f7f7"
            ],
            [
             0.6,
             "#e6f5d0"
            ],
            [
             0.7,
             "#b8e186"
            ],
            [
             0.8,
             "#7fbc41"
            ],
            [
             0.9,
             "#4d9221"
            ],
            [
             1,
             "#276419"
            ]
           ],
           "sequential": [
            [
             0,
             "#0d0887"
            ],
            [
             0.1111111111111111,
             "#46039f"
            ],
            [
             0.2222222222222222,
             "#7201a8"
            ],
            [
             0.3333333333333333,
             "#9c179e"
            ],
            [
             0.4444444444444444,
             "#bd3786"
            ],
            [
             0.5555555555555556,
             "#d8576b"
            ],
            [
             0.6666666666666666,
             "#ed7953"
            ],
            [
             0.7777777777777778,
             "#fb9f3a"
            ],
            [
             0.8888888888888888,
             "#fdca26"
            ],
            [
             1,
             "#f0f921"
            ]
           ],
           "sequentialminus": [
            [
             0,
             "#0d0887"
            ],
            [
             0.1111111111111111,
             "#46039f"
            ],
            [
             0.2222222222222222,
             "#7201a8"
            ],
            [
             0.3333333333333333,
             "#9c179e"
            ],
            [
             0.4444444444444444,
             "#bd3786"
            ],
            [
             0.5555555555555556,
             "#d8576b"
            ],
            [
             0.6666666666666666,
             "#ed7953"
            ],
            [
             0.7777777777777778,
             "#fb9f3a"
            ],
            [
             0.8888888888888888,
             "#fdca26"
            ],
            [
             1,
             "#f0f921"
            ]
           ]
          },
          "colorway": [
           "#636efa",
           "#EF553B",
           "#00cc96",
           "#ab63fa",
           "#FFA15A",
           "#19d3f3",
           "#FF6692",
           "#B6E880",
           "#FF97FF",
           "#FECB52"
          ],
          "font": {
           "color": "#2a3f5f"
          },
          "geo": {
           "bgcolor": "white",
           "lakecolor": "white",
           "landcolor": "#E5ECF6",
           "showlakes": true,
           "showland": true,
           "subunitcolor": "white"
          },
          "hoverlabel": {
           "align": "left"
          },
          "hovermode": "closest",
          "mapbox": {
           "style": "light"
          },
          "paper_bgcolor": "white",
          "plot_bgcolor": "#E5ECF6",
          "polar": {
           "angularaxis": {
            "gridcolor": "white",
            "linecolor": "white",
            "ticks": ""
           },
           "bgcolor": "#E5ECF6",
           "radialaxis": {
            "gridcolor": "white",
            "linecolor": "white",
            "ticks": ""
           }
          },
          "scene": {
           "xaxis": {
            "backgroundcolor": "#E5ECF6",
            "gridcolor": "white",
            "gridwidth": 2,
            "linecolor": "white",
            "showbackground": true,
            "ticks": "",
            "zerolinecolor": "white"
           },
           "yaxis": {
            "backgroundcolor": "#E5ECF6",
            "gridcolor": "white",
            "gridwidth": 2,
            "linecolor": "white",
            "showbackground": true,
            "ticks": "",
            "zerolinecolor": "white"
           },
           "zaxis": {
            "backgroundcolor": "#E5ECF6",
            "gridcolor": "white",
            "gridwidth": 2,
            "linecolor": "white",
            "showbackground": true,
            "ticks": "",
            "zerolinecolor": "white"
           }
          },
          "shapedefaults": {
           "line": {
            "color": "#2a3f5f"
           }
          },
          "ternary": {
           "aaxis": {
            "gridcolor": "white",
            "linecolor": "white",
            "ticks": ""
           },
           "baxis": {
            "gridcolor": "white",
            "linecolor": "white",
            "ticks": ""
           },
           "bgcolor": "#E5ECF6",
           "caxis": {
            "gridcolor": "white",
            "linecolor": "white",
            "ticks": ""
           }
          },
          "title": {
           "x": 0.05
          },
          "xaxis": {
           "automargin": true,
           "gridcolor": "white",
           "linecolor": "white",
           "ticks": "",
           "title": {
            "standoff": 15
           },
           "zerolinecolor": "white",
           "zerolinewidth": 2
          },
          "yaxis": {
           "automargin": true,
           "gridcolor": "white",
           "linecolor": "white",
           "ticks": "",
           "title": {
            "standoff": 15
           },
           "zerolinecolor": "white",
           "zerolinewidth": 2
          }
         }
        },
        "title": {
         "text": "Dragon Score vs. Loss"
        },
        "xaxis": {
         "anchor": "y",
         "domain": [
          0,
          1
         ],
         "title": {
          "text": "Loss"
         }
        },
        "yaxis": {
         "anchor": "x",
         "domain": [
          0,
          1
         ],
         "dtick": 1,
         "range": [
          1,
          9
         ],
         "title": {
          "text": "Mean Dragon Score"
         }
        }
       }
      }
     },
     "metadata": {},
     "output_type": "display_data"
    }
   ],
   "source": [
    "fig = px.line(x=losses, y=mean_scores, title=\"Dragon Score vs. Loss\", labels={\"x\": \"Loss\", \"y\": \"Mean Dragon Score\"}, markers=True)\n",
    "fig.update_yaxes(range=[1, 9], dtick=1)\n",
    "fig.show()"
   ]
  },
  {
   "cell_type": "code",
   "execution_count": null,
   "metadata": {},
   "outputs": [],
   "source": []
  }
 ],
 "metadata": {
  "kernelspec": {
   "display_name": ".venv",
   "language": "python",
   "name": "python3"
  },
  "language_info": {
   "codemirror_mode": {
    "name": "ipython",
    "version": 3
   },
   "file_extension": ".py",
   "mimetype": "text/x-python",
   "name": "python",
   "nbconvert_exporter": "python",
   "pygments_lexer": "ipython3",
   "version": "3.10.12"
  }
 },
 "nbformat": 4,
 "nbformat_minor": 2
}
