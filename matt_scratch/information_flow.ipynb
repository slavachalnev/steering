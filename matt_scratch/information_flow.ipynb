{
  "cells": [
    {
      "cell_type": "code",
      "execution_count": 1,
      "metadata": {
        "colab": {
          "base_uri": "https://localhost:8080/",
          "height": 1000
        },
        "id": "NrtTV3TvKsZw",
        "outputId": "b5dfd844-d9dd-411f-e2fc-6e6c1b44e0dd"
      },
      "outputs": [
        {
          "name": "stdout",
          "output_type": "stream",
          "text": [
            "Requirement already satisfied: transformer_lens in /usr/local/lib/python3.11/site-packages (1.17.0)\n",
            "Requirement already satisfied: accelerate>=0.23.0 in /usr/local/lib/python3.11/site-packages (from transformer_lens) (0.30.1)\n",
            "Requirement already satisfied: beartype<0.15.0,>=0.14.1 in /usr/local/lib/python3.11/site-packages (from transformer_lens) (0.14.1)\n",
            "Requirement already satisfied: better-abc<0.0.4,>=0.0.3 in /usr/local/lib/python3.11/site-packages (from transformer_lens) (0.0.3)\n",
            "Requirement already satisfied: datasets>=2.7.1 in /usr/local/lib/python3.11/site-packages (from transformer_lens) (2.19.1)\n",
            "Requirement already satisfied: einops>=0.6.0 in /usr/local/lib/python3.11/site-packages (from transformer_lens) (0.7.0)\n",
            "Requirement already satisfied: fancy-einsum>=0.0.3 in /usr/local/lib/python3.11/site-packages (from transformer_lens) (0.0.3)\n",
            "Requirement already satisfied: jaxtyping>=0.2.11 in /usr/local/lib/python3.11/site-packages (from transformer_lens) (0.2.28)\n",
            "Requirement already satisfied: numpy>=1.24 in /usr/local/lib/python3.11/site-packages (from transformer_lens) (1.26.4)\n",
            "Requirement already satisfied: pandas>=1.1.5 in /usr/local/lib/python3.11/site-packages (from transformer_lens) (2.2.2)\n",
            "Requirement already satisfied: rich>=12.6.0 in /usr/local/lib/python3.11/site-packages (from transformer_lens) (13.7.1)\n",
            "Requirement already satisfied: sentencepiece in /usr/local/lib/python3.11/site-packages (from transformer_lens) (0.2.0)\n",
            "Requirement already satisfied: torch!=2.0,!=2.1.0,>=1.10 in /usr/local/lib/python3.11/site-packages (from transformer_lens) (2.2.2)\n",
            "Requirement already satisfied: tqdm>=4.64.1 in /usr/local/lib/python3.11/site-packages (from transformer_lens) (4.66.4)\n",
            "Requirement already satisfied: transformers>=4.37.2 in /usr/local/lib/python3.11/site-packages (from transformer_lens) (4.40.2)\n",
            "Requirement already satisfied: typing-extensions in /usr/local/lib/python3.11/site-packages (from transformer_lens) (4.8.0)\n",
            "Requirement already satisfied: wandb>=0.13.5 in /usr/local/lib/python3.11/site-packages (from transformer_lens) (0.17.0)\n",
            "Requirement already satisfied: packaging>=20.0 in /Users/dubberly/Library/Python/3.11/lib/python/site-packages (from accelerate>=0.23.0->transformer_lens) (24.0)\n",
            "Requirement already satisfied: psutil in /Users/dubberly/Library/Python/3.11/lib/python/site-packages (from accelerate>=0.23.0->transformer_lens) (5.9.8)\n",
            "Requirement already satisfied: pyyaml in /usr/local/lib/python3.11/site-packages (from accelerate>=0.23.0->transformer_lens) (6.0.1)\n",
            "Requirement already satisfied: huggingface-hub in /usr/local/lib/python3.11/site-packages (from accelerate>=0.23.0->transformer_lens) (0.23.0)\n",
            "Requirement already satisfied: safetensors>=0.3.1 in /usr/local/lib/python3.11/site-packages (from accelerate>=0.23.0->transformer_lens) (0.4.3)\n",
            "Requirement already satisfied: filelock in /usr/local/lib/python3.11/site-packages (from datasets>=2.7.1->transformer_lens) (3.14.0)\n",
            "Requirement already satisfied: pyarrow>=12.0.0 in /usr/local/lib/python3.11/site-packages (from datasets>=2.7.1->transformer_lens) (16.1.0)\n",
            "Requirement already satisfied: pyarrow-hotfix in /usr/local/lib/python3.11/site-packages (from datasets>=2.7.1->transformer_lens) (0.6)\n",
            "Requirement already satisfied: dill<0.3.9,>=0.3.0 in /usr/local/lib/python3.11/site-packages (from datasets>=2.7.1->transformer_lens) (0.3.8)\n",
            "Requirement already satisfied: requests>=2.19.0 in /usr/local/lib/python3.11/site-packages (from datasets>=2.7.1->transformer_lens) (2.31.0)\n",
            "Requirement already satisfied: xxhash in /usr/local/lib/python3.11/site-packages (from datasets>=2.7.1->transformer_lens) (3.4.1)\n",
            "Requirement already satisfied: multiprocess in /usr/local/lib/python3.11/site-packages (from datasets>=2.7.1->transformer_lens) (0.70.16)\n",
            "Requirement already satisfied: fsspec<=2024.3.1,>=2023.1.0 in /usr/local/lib/python3.11/site-packages (from fsspec[http]<=2024.3.1,>=2023.1.0->datasets>=2.7.1->transformer_lens) (2024.3.1)\n",
            "Requirement already satisfied: aiohttp in /usr/local/lib/python3.11/site-packages (from datasets>=2.7.1->transformer_lens) (3.8.5)\n",
            "Requirement already satisfied: typeguard==2.13.3 in /usr/local/lib/python3.11/site-packages (from jaxtyping>=0.2.11->transformer_lens) (2.13.3)\n",
            "Requirement already satisfied: python-dateutil>=2.8.2 in /Users/dubberly/Library/Python/3.11/lib/python/site-packages (from pandas>=1.1.5->transformer_lens) (2.9.0.post0)\n",
            "Requirement already satisfied: pytz>=2020.1 in /usr/local/lib/python3.11/site-packages (from pandas>=1.1.5->transformer_lens) (2024.1)\n",
            "Requirement already satisfied: tzdata>=2022.7 in /usr/local/lib/python3.11/site-packages (from pandas>=1.1.5->transformer_lens) (2024.1)\n",
            "Requirement already satisfied: markdown-it-py>=2.2.0 in /usr/local/lib/python3.11/site-packages (from rich>=12.6.0->transformer_lens) (3.0.0)\n",
            "Requirement already satisfied: pygments<3.0.0,>=2.13.0 in /usr/local/lib/python3.11/site-packages (from rich>=12.6.0->transformer_lens) (2.16.1)\n",
            "Requirement already satisfied: sympy in /usr/local/lib/python3.11/site-packages (from torch!=2.0,!=2.1.0,>=1.10->transformer_lens) (1.12)\n",
            "Requirement already satisfied: networkx in /usr/local/lib/python3.11/site-packages (from torch!=2.0,!=2.1.0,>=1.10->transformer_lens) (3.3)\n",
            "Requirement already satisfied: jinja2 in /usr/local/lib/python3.11/site-packages (from torch!=2.0,!=2.1.0,>=1.10->transformer_lens) (3.1.4)\n",
            "Requirement already satisfied: regex!=2019.12.17 in /usr/local/lib/python3.11/site-packages (from transformers>=4.37.2->transformer_lens) (2024.5.15)\n",
            "Requirement already satisfied: tokenizers<0.20,>=0.19 in /usr/local/lib/python3.11/site-packages (from transformers>=4.37.2->transformer_lens) (0.19.1)\n",
            "Requirement already satisfied: click!=8.0.0,>=7.1 in /usr/local/lib/python3.11/site-packages (from wandb>=0.13.5->transformer_lens) (8.1.7)\n",
            "Requirement already satisfied: docker-pycreds>=0.4.0 in /usr/local/lib/python3.11/site-packages (from wandb>=0.13.5->transformer_lens) (0.4.0)\n",
            "Requirement already satisfied: gitpython!=3.1.29,>=1.0.0 in /usr/local/lib/python3.11/site-packages (from wandb>=0.13.5->transformer_lens) (3.1.43)\n",
            "Requirement already satisfied: platformdirs in /Users/dubberly/Library/Python/3.11/lib/python/site-packages (from wandb>=0.13.5->transformer_lens) (4.2.2)\n",
            "Requirement already satisfied: protobuf!=4.21.0,<5,>=3.19.0 in /usr/local/lib/python3.11/site-packages (from wandb>=0.13.5->transformer_lens) (4.24.3)\n",
            "Requirement already satisfied: sentry-sdk>=1.0.0 in /usr/local/lib/python3.11/site-packages (from wandb>=0.13.5->transformer_lens) (2.2.0)\n",
            "Requirement already satisfied: setproctitle in /usr/local/lib/python3.11/site-packages (from wandb>=0.13.5->transformer_lens) (1.3.3)\n",
            "Requirement already satisfied: setuptools in /usr/local/lib/python3.11/site-packages (from wandb>=0.13.5->transformer_lens) (69.0.2)\n",
            "Requirement already satisfied: six>=1.4.0 in /Users/dubberly/Library/Python/3.11/lib/python/site-packages (from docker-pycreds>=0.4.0->wandb>=0.13.5->transformer_lens) (1.16.0)\n",
            "Requirement already satisfied: attrs>=17.3.0 in /usr/local/lib/python3.11/site-packages (from aiohttp->datasets>=2.7.1->transformer_lens) (23.1.0)\n",
            "Requirement already satisfied: charset-normalizer<4.0,>=2.0 in /usr/local/lib/python3.11/site-packages (from aiohttp->datasets>=2.7.1->transformer_lens) (3.2.0)\n",
            "Requirement already satisfied: multidict<7.0,>=4.5 in /usr/local/lib/python3.11/site-packages (from aiohttp->datasets>=2.7.1->transformer_lens) (6.0.4)\n",
            "Requirement already satisfied: async-timeout<5.0,>=4.0.0a3 in /usr/local/lib/python3.11/site-packages (from aiohttp->datasets>=2.7.1->transformer_lens) (4.0.3)\n",
            "Requirement already satisfied: yarl<2.0,>=1.0 in /usr/local/lib/python3.11/site-packages (from aiohttp->datasets>=2.7.1->transformer_lens) (1.9.2)\n",
            "Requirement already satisfied: frozenlist>=1.1.1 in /usr/local/lib/python3.11/site-packages (from aiohttp->datasets>=2.7.1->transformer_lens) (1.4.0)\n",
            "Requirement already satisfied: aiosignal>=1.1.2 in /usr/local/lib/python3.11/site-packages (from aiohttp->datasets>=2.7.1->transformer_lens) (1.3.1)\n",
            "Requirement already satisfied: gitdb<5,>=4.0.1 in /usr/local/lib/python3.11/site-packages (from gitpython!=3.1.29,>=1.0.0->wandb>=0.13.5->transformer_lens) (4.0.11)\n",
            "Requirement already satisfied: mdurl~=0.1 in /usr/local/lib/python3.11/site-packages (from markdown-it-py>=2.2.0->rich>=12.6.0->transformer_lens) (0.1.2)\n",
            "Requirement already satisfied: idna<4,>=2.5 in /usr/local/lib/python3.11/site-packages (from requests>=2.19.0->datasets>=2.7.1->transformer_lens) (3.4)\n",
            "Requirement already satisfied: urllib3<3,>=1.21.1 in /usr/local/lib/python3.11/site-packages (from requests>=2.19.0->datasets>=2.7.1->transformer_lens) (2.2.1)\n",
            "Requirement already satisfied: certifi>=2017.4.17 in /usr/local/lib/python3.11/site-packages (from requests>=2.19.0->datasets>=2.7.1->transformer_lens) (2023.7.22)\n",
            "Requirement already satisfied: MarkupSafe>=2.0 in /usr/local/lib/python3.11/site-packages (from jinja2->torch!=2.0,!=2.1.0,>=1.10->transformer_lens) (2.1.5)\n",
            "Requirement already satisfied: mpmath>=0.19 in /usr/local/lib/python3.11/site-packages (from sympy->torch!=2.0,!=2.1.0,>=1.10->transformer_lens) (1.3.0)\n",
            "Requirement already satisfied: smmap<6,>=3.0.1 in /usr/local/lib/python3.11/site-packages (from gitdb<5,>=4.0.1->gitpython!=3.1.29,>=1.0.0->wandb>=0.13.5->transformer_lens) (5.0.1)\n",
            "\n",
            "\u001b[1m[\u001b[0m\u001b[34;49mnotice\u001b[0m\u001b[1;39;49m]\u001b[0m\u001b[39;49m A new release of pip is available: \u001b[0m\u001b[31;49m23.3.1\u001b[0m\u001b[39;49m -> \u001b[0m\u001b[32;49m24.0\u001b[0m\n",
            "\u001b[1m[\u001b[0m\u001b[34;49mnotice\u001b[0m\u001b[1;39;49m]\u001b[0m\u001b[39;49m To update, run: \u001b[0m\u001b[32;49mpython3.11 -m pip install --upgrade pip\u001b[0m\n",
            "Note: you may need to restart the kernel to use updated packages.\n",
            "Requirement already satisfied: sae_lens in /usr/local/lib/python3.11/site-packages (2.1.3)\n",
            "Requirement already satisfied: automated-interpretability<0.0.4,>=0.0.3 in /usr/local/lib/python3.11/site-packages (from sae_lens) (0.0.3)\n",
            "Requirement already satisfied: babe<0.0.8,>=0.0.7 in /usr/local/lib/python3.11/site-packages (from sae_lens) (0.0.7)\n",
            "Requirement already satisfied: datasets<3.0.0,>=2.17.1 in /usr/local/lib/python3.11/site-packages (from sae_lens) (2.19.1)\n",
            "Requirement already satisfied: ipykernel<7.0.0,>=6.29.2 in /Users/dubberly/Library/Python/3.11/lib/python/site-packages (from sae_lens) (6.29.4)\n",
            "Requirement already satisfied: jupyter<2.0.0,>=1.0.0 in /usr/local/lib/python3.11/site-packages (from sae_lens) (1.0.0)\n",
            "Requirement already satisfied: matplotlib<4.0.0,>=3.8.3 in /usr/local/lib/python3.11/site-packages (from sae_lens) (3.9.0)\n",
            "Requirement already satisfied: matplotlib-inline<0.2.0,>=0.1.6 in /Users/dubberly/Library/Python/3.11/lib/python/site-packages (from sae_lens) (0.1.7)\n",
            "Requirement already satisfied: mkdocs<2.0.0,>=1.5.3 in /usr/local/lib/python3.11/site-packages (from sae_lens) (1.6.0)\n",
            "Requirement already satisfied: mkdocs-autorefs<2.0.0,>=1.0.1 in /usr/local/lib/python3.11/site-packages (from sae_lens) (1.0.1)\n",
            "Requirement already satisfied: mkdocs-material<10.0.0,>=9.5.15 in /usr/local/lib/python3.11/site-packages (from sae_lens) (9.5.23)\n",
            "Requirement already satisfied: mkdocs-section-index<0.4.0,>=0.3.8 in /usr/local/lib/python3.11/site-packages (from sae_lens) (0.3.9)\n",
            "Requirement already satisfied: mkdocstrings<0.25.0,>=0.24.1 in /usr/local/lib/python3.11/site-packages (from sae_lens) (0.24.3)\n",
            "Requirement already satisfied: mkdocstrings-python<2.0.0,>=1.9.0 in /usr/local/lib/python3.11/site-packages (from sae_lens) (1.10.0)\n",
            "Requirement already satisfied: nbformat<6.0.0,>=5.9.2 in /usr/local/lib/python3.11/site-packages (from sae_lens) (5.10.4)\n",
            "Requirement already satisfied: nltk<4.0.0,>=3.8.1 in /usr/local/lib/python3.11/site-packages (from sae_lens) (3.8.1)\n",
            "Requirement already satisfied: plotly<6.0.0,>=5.19.0 in /usr/local/lib/python3.11/site-packages (from sae_lens) (5.22.0)\n",
            "Requirement already satisfied: plotly-express<0.5.0,>=0.4.1 in /usr/local/lib/python3.11/site-packages (from sae_lens) (0.4.1)\n",
            "Requirement already satisfied: pytest-profiling<2.0.0,>=1.7.0 in /usr/local/lib/python3.11/site-packages (from sae_lens) (1.7.0)\n",
            "Requirement already satisfied: python-dotenv<2.0.0,>=1.0.1 in /usr/local/lib/python3.11/site-packages (from sae_lens) (1.0.1)\n",
            "Requirement already satisfied: pyyaml<7.0.0,>=6.0.1 in /usr/local/lib/python3.11/site-packages (from sae_lens) (6.0.1)\n",
            "Requirement already satisfied: pyzmq==26.0.0 in /usr/local/lib/python3.11/site-packages (from sae_lens) (26.0.0)\n",
            "Requirement already satisfied: sae-vis<0.3.0,>=0.2.18 in /usr/local/lib/python3.11/site-packages (from sae_lens) (0.2.18)\n",
            "Requirement already satisfied: safetensors<0.5.0,>=0.4.2 in /usr/local/lib/python3.11/site-packages (from sae_lens) (0.4.3)\n",
            "Requirement already satisfied: transformer-lens<2.0.0,>=1.14.0 in /usr/local/lib/python3.11/site-packages (from sae_lens) (1.17.0)\n",
            "Requirement already satisfied: transformers<5.0.0,>=4.38.1 in /usr/local/lib/python3.11/site-packages (from sae_lens) (4.40.2)\n",
            "Requirement already satisfied: typer<0.13.0,>=0.12.3 in /usr/local/lib/python3.11/site-packages (from sae_lens) (0.12.3)\n",
            "Requirement already satisfied: blobfile<3.0.0,>=2.1.1 in /usr/local/lib/python3.11/site-packages (from automated-interpretability<0.0.4,>=0.0.3->sae_lens) (2.1.1)\n",
            "Requirement already satisfied: boostedblob<0.16.0,>=0.15.3 in /usr/local/lib/python3.11/site-packages (from automated-interpretability<0.0.4,>=0.0.3->sae_lens) (0.15.3)\n",
            "Requirement already satisfied: httpx<0.28.0,>=0.27.0 in /usr/local/lib/python3.11/site-packages (from automated-interpretability<0.0.4,>=0.0.3->sae_lens) (0.27.0)\n",
            "Requirement already satisfied: numpy<2.0.0,>=1.26.4 in /usr/local/lib/python3.11/site-packages (from automated-interpretability<0.0.4,>=0.0.3->sae_lens) (1.26.4)\n",
            "Requirement already satisfied: orjson<4.0.0,>=3.10.1 in /usr/local/lib/python3.11/site-packages (from automated-interpretability<0.0.4,>=0.0.3->sae_lens) (3.10.3)\n",
            "Requirement already satisfied: pytest<9.0.0,>=8.1.2 in /usr/local/lib/python3.11/site-packages (from automated-interpretability<0.0.4,>=0.0.3->sae_lens) (8.2.0)\n",
            "Requirement already satisfied: scikit-learn<2.0.0,>=1.4.2 in /usr/local/lib/python3.11/site-packages (from automated-interpretability<0.0.4,>=0.0.3->sae_lens) (1.4.2)\n",
            "Requirement already satisfied: tiktoken<0.7.0,>=0.6.0 in /usr/local/lib/python3.11/site-packages (from automated-interpretability<0.0.4,>=0.0.3->sae_lens) (0.6.0)\n",
            "Requirement already satisfied: pandas in /usr/local/lib/python3.11/site-packages (from babe<0.0.8,>=0.0.7->sae_lens) (2.2.2)\n",
            "Requirement already satisfied: py2store in /usr/local/lib/python3.11/site-packages (from babe<0.0.8,>=0.0.7->sae_lens) (0.1.20)\n",
            "Requirement already satisfied: graze in /usr/local/lib/python3.11/site-packages (from babe<0.0.8,>=0.0.7->sae_lens) (0.1.15)\n",
            "Requirement already satisfied: filelock in /usr/local/lib/python3.11/site-packages (from datasets<3.0.0,>=2.17.1->sae_lens) (3.14.0)\n",
            "Requirement already satisfied: pyarrow>=12.0.0 in /usr/local/lib/python3.11/site-packages (from datasets<3.0.0,>=2.17.1->sae_lens) (16.1.0)\n",
            "Requirement already satisfied: pyarrow-hotfix in /usr/local/lib/python3.11/site-packages (from datasets<3.0.0,>=2.17.1->sae_lens) (0.6)\n",
            "Requirement already satisfied: dill<0.3.9,>=0.3.0 in /usr/local/lib/python3.11/site-packages (from datasets<3.0.0,>=2.17.1->sae_lens) (0.3.8)\n",
            "Requirement already satisfied: requests>=2.19.0 in /usr/local/lib/python3.11/site-packages (from datasets<3.0.0,>=2.17.1->sae_lens) (2.31.0)\n",
            "Requirement already satisfied: tqdm>=4.62.1 in /usr/local/lib/python3.11/site-packages (from datasets<3.0.0,>=2.17.1->sae_lens) (4.66.4)\n",
            "Requirement already satisfied: xxhash in /usr/local/lib/python3.11/site-packages (from datasets<3.0.0,>=2.17.1->sae_lens) (3.4.1)\n",
            "Requirement already satisfied: multiprocess in /usr/local/lib/python3.11/site-packages (from datasets<3.0.0,>=2.17.1->sae_lens) (0.70.16)\n",
            "Requirement already satisfied: fsspec<=2024.3.1,>=2023.1.0 in /usr/local/lib/python3.11/site-packages (from fsspec[http]<=2024.3.1,>=2023.1.0->datasets<3.0.0,>=2.17.1->sae_lens) (2024.3.1)\n",
            "Requirement already satisfied: aiohttp in /usr/local/lib/python3.11/site-packages (from datasets<3.0.0,>=2.17.1->sae_lens) (3.8.5)\n",
            "Requirement already satisfied: huggingface-hub>=0.21.2 in /usr/local/lib/python3.11/site-packages (from datasets<3.0.0,>=2.17.1->sae_lens) (0.23.0)\n",
            "Requirement already satisfied: packaging in /Users/dubberly/Library/Python/3.11/lib/python/site-packages (from datasets<3.0.0,>=2.17.1->sae_lens) (24.0)\n",
            "Requirement already satisfied: appnope in /Users/dubberly/Library/Python/3.11/lib/python/site-packages (from ipykernel<7.0.0,>=6.29.2->sae_lens) (0.1.4)\n",
            "Requirement already satisfied: comm>=0.1.1 in /Users/dubberly/Library/Python/3.11/lib/python/site-packages (from ipykernel<7.0.0,>=6.29.2->sae_lens) (0.2.2)\n",
            "Requirement already satisfied: debugpy>=1.6.5 in /Users/dubberly/Library/Python/3.11/lib/python/site-packages (from ipykernel<7.0.0,>=6.29.2->sae_lens) (1.8.1)\n",
            "Requirement already satisfied: ipython>=7.23.1 in /Users/dubberly/Library/Python/3.11/lib/python/site-packages (from ipykernel<7.0.0,>=6.29.2->sae_lens) (8.24.0)\n",
            "Requirement already satisfied: jupyter-client>=6.1.12 in /Users/dubberly/Library/Python/3.11/lib/python/site-packages (from ipykernel<7.0.0,>=6.29.2->sae_lens) (8.6.1)\n",
            "Requirement already satisfied: jupyter-core!=5.0.*,>=4.12 in /Users/dubberly/Library/Python/3.11/lib/python/site-packages (from ipykernel<7.0.0,>=6.29.2->sae_lens) (5.7.2)\n",
            "Requirement already satisfied: nest-asyncio in /Users/dubberly/Library/Python/3.11/lib/python/site-packages (from ipykernel<7.0.0,>=6.29.2->sae_lens) (1.6.0)\n",
            "Requirement already satisfied: psutil in /Users/dubberly/Library/Python/3.11/lib/python/site-packages (from ipykernel<7.0.0,>=6.29.2->sae_lens) (5.9.8)\n",
            "Requirement already satisfied: tornado>=6.1 in /Users/dubberly/Library/Python/3.11/lib/python/site-packages (from ipykernel<7.0.0,>=6.29.2->sae_lens) (6.4)\n",
            "Requirement already satisfied: traitlets>=5.4.0 in /Users/dubberly/Library/Python/3.11/lib/python/site-packages (from ipykernel<7.0.0,>=6.29.2->sae_lens) (5.14.3)\n",
            "Requirement already satisfied: notebook in /usr/local/lib/python3.11/site-packages (from jupyter<2.0.0,>=1.0.0->sae_lens) (7.2.0)\n",
            "Requirement already satisfied: qtconsole in /usr/local/lib/python3.11/site-packages (from jupyter<2.0.0,>=1.0.0->sae_lens) (5.5.2)\n",
            "Requirement already satisfied: jupyter-console in /usr/local/lib/python3.11/site-packages (from jupyter<2.0.0,>=1.0.0->sae_lens) (6.6.3)\n",
            "Requirement already satisfied: nbconvert in /usr/local/lib/python3.11/site-packages (from jupyter<2.0.0,>=1.0.0->sae_lens) (7.16.4)\n",
            "Requirement already satisfied: ipywidgets in /usr/local/lib/python3.11/site-packages (from jupyter<2.0.0,>=1.0.0->sae_lens) (8.1.2)\n",
            "Requirement already satisfied: contourpy>=1.0.1 in /usr/local/lib/python3.11/site-packages (from matplotlib<4.0.0,>=3.8.3->sae_lens) (1.2.1)\n",
            "Requirement already satisfied: cycler>=0.10 in /usr/local/lib/python3.11/site-packages (from matplotlib<4.0.0,>=3.8.3->sae_lens) (0.12.1)\n",
            "Requirement already satisfied: fonttools>=4.22.0 in /usr/local/lib/python3.11/site-packages (from matplotlib<4.0.0,>=3.8.3->sae_lens) (4.51.0)\n",
            "Requirement already satisfied: kiwisolver>=1.3.1 in /usr/local/lib/python3.11/site-packages (from matplotlib<4.0.0,>=3.8.3->sae_lens) (1.4.5)\n",
            "Requirement already satisfied: pillow>=8 in /usr/local/lib/python3.11/site-packages (from matplotlib<4.0.0,>=3.8.3->sae_lens) (10.3.0)\n",
            "Requirement already satisfied: pyparsing>=2.3.1 in /usr/local/lib/python3.11/site-packages (from matplotlib<4.0.0,>=3.8.3->sae_lens) (3.1.2)\n",
            "Requirement already satisfied: python-dateutil>=2.7 in /Users/dubberly/Library/Python/3.11/lib/python/site-packages (from matplotlib<4.0.0,>=3.8.3->sae_lens) (2.9.0.post0)\n",
            "Requirement already satisfied: click>=7.0 in /usr/local/lib/python3.11/site-packages (from mkdocs<2.0.0,>=1.5.3->sae_lens) (8.1.7)\n",
            "Requirement already satisfied: ghp-import>=1.0 in /usr/local/lib/python3.11/site-packages (from mkdocs<2.0.0,>=1.5.3->sae_lens) (2.1.0)\n",
            "Requirement already satisfied: jinja2>=2.11.1 in /usr/local/lib/python3.11/site-packages (from mkdocs<2.0.0,>=1.5.3->sae_lens) (3.1.4)\n",
            "Requirement already satisfied: markdown>=3.3.6 in /usr/local/lib/python3.11/site-packages (from mkdocs<2.0.0,>=1.5.3->sae_lens) (3.6)\n",
            "Requirement already satisfied: markupsafe>=2.0.1 in /usr/local/lib/python3.11/site-packages (from mkdocs<2.0.0,>=1.5.3->sae_lens) (2.1.5)\n",
            "Requirement already satisfied: mergedeep>=1.3.4 in /usr/local/lib/python3.11/site-packages (from mkdocs<2.0.0,>=1.5.3->sae_lens) (1.3.4)\n",
            "Requirement already satisfied: mkdocs-get-deps>=0.2.0 in /usr/local/lib/python3.11/site-packages (from mkdocs<2.0.0,>=1.5.3->sae_lens) (0.2.0)\n",
            "Requirement already satisfied: pathspec>=0.11.1 in /usr/local/lib/python3.11/site-packages (from mkdocs<2.0.0,>=1.5.3->sae_lens) (0.12.1)\n",
            "Requirement already satisfied: pyyaml-env-tag>=0.1 in /usr/local/lib/python3.11/site-packages (from mkdocs<2.0.0,>=1.5.3->sae_lens) (0.1)\n",
            "Requirement already satisfied: watchdog>=2.0 in /usr/local/lib/python3.11/site-packages (from mkdocs<2.0.0,>=1.5.3->sae_lens) (4.0.0)\n",
            "Requirement already satisfied: babel~=2.10 in /usr/local/lib/python3.11/site-packages (from mkdocs-material<10.0.0,>=9.5.15->sae_lens) (2.15.0)\n",
            "Requirement already satisfied: colorama~=0.4 in /usr/local/lib/python3.11/site-packages (from mkdocs-material<10.0.0,>=9.5.15->sae_lens) (0.4.6)\n",
            "Requirement already satisfied: mkdocs-material-extensions~=1.3 in /usr/local/lib/python3.11/site-packages (from mkdocs-material<10.0.0,>=9.5.15->sae_lens) (1.3.1)\n",
            "Requirement already satisfied: paginate~=0.5 in /usr/local/lib/python3.11/site-packages (from mkdocs-material<10.0.0,>=9.5.15->sae_lens) (0.5.6)\n",
            "Requirement already satisfied: pygments~=2.16 in /usr/local/lib/python3.11/site-packages (from mkdocs-material<10.0.0,>=9.5.15->sae_lens) (2.16.1)\n",
            "Requirement already satisfied: pymdown-extensions~=10.2 in /usr/local/lib/python3.11/site-packages (from mkdocs-material<10.0.0,>=9.5.15->sae_lens) (10.8.1)\n",
            "Requirement already satisfied: regex>=2022.4 in /usr/local/lib/python3.11/site-packages (from mkdocs-material<10.0.0,>=9.5.15->sae_lens) (2024.5.15)\n",
            "Requirement already satisfied: platformdirs>=2.2.0 in /Users/dubberly/Library/Python/3.11/lib/python/site-packages (from mkdocstrings<0.25.0,>=0.24.1->sae_lens) (4.2.2)\n",
            "Requirement already satisfied: griffe>=0.44 in /usr/local/lib/python3.11/site-packages (from mkdocstrings-python<2.0.0,>=1.9.0->sae_lens) (0.45.0)\n",
            "Requirement already satisfied: fastjsonschema>=2.15 in /usr/local/lib/python3.11/site-packages (from nbformat<6.0.0,>=5.9.2->sae_lens) (2.19.1)\n",
            "Requirement already satisfied: jsonschema>=2.6 in /usr/local/lib/python3.11/site-packages (from nbformat<6.0.0,>=5.9.2->sae_lens) (4.22.0)\n",
            "Requirement already satisfied: joblib in /usr/local/lib/python3.11/site-packages (from nltk<4.0.0,>=3.8.1->sae_lens) (1.4.2)\n",
            "Requirement already satisfied: tenacity>=6.2.0 in /usr/local/lib/python3.11/site-packages (from plotly<6.0.0,>=5.19.0->sae_lens) (8.3.0)\n",
            "Requirement already satisfied: statsmodels>=0.9.0 in /usr/local/lib/python3.11/site-packages (from plotly-express<0.5.0,>=0.4.1->sae_lens) (0.14.2)\n",
            "Requirement already satisfied: scipy>=0.18 in /usr/local/lib/python3.11/site-packages (from plotly-express<0.5.0,>=0.4.1->sae_lens) (1.13.0)\n",
            "Requirement already satisfied: patsy>=0.5 in /usr/local/lib/python3.11/site-packages (from plotly-express<0.5.0,>=0.4.1->sae_lens) (0.5.6)\n",
            "Requirement already satisfied: six in /Users/dubberly/Library/Python/3.11/lib/python/site-packages (from pytest-profiling<2.0.0,>=1.7.0->sae_lens) (1.16.0)\n",
            "Requirement already satisfied: gprof2dot in /usr/local/lib/python3.11/site-packages (from pytest-profiling<2.0.0,>=1.7.0->sae_lens) (2022.7.29)\n",
            "Requirement already satisfied: dataclasses-json<0.7.0,>=0.6.4 in /usr/local/lib/python3.11/site-packages (from sae-vis<0.3.0,>=0.2.18->sae_lens) (0.6.6)\n",
            "Requirement already satisfied: eindex-callum<0.2.0,>=0.1.0 in /usr/local/lib/python3.11/site-packages (from sae-vis<0.3.0,>=0.2.18->sae_lens) (0.1.1)\n",
            "Requirement already satisfied: einops<0.8.0,>=0.7.0 in /usr/local/lib/python3.11/site-packages (from sae-vis<0.3.0,>=0.2.18->sae_lens) (0.7.0)\n",
            "Requirement already satisfied: jaxtyping<0.3.0,>=0.2.28 in /usr/local/lib/python3.11/site-packages (from sae-vis<0.3.0,>=0.2.18->sae_lens) (0.2.28)\n",
            "Requirement already satisfied: rich<14.0.0,>=13.7.1 in /usr/local/lib/python3.11/site-packages (from sae-vis<0.3.0,>=0.2.18->sae_lens) (13.7.1)\n",
            "Requirement already satisfied: torch<3.0.0,>=2.0.0 in /usr/local/lib/python3.11/site-packages (from sae-vis<0.3.0,>=0.2.18->sae_lens) (2.2.2)\n",
            "Requirement already satisfied: accelerate>=0.23.0 in /usr/local/lib/python3.11/site-packages (from transformer-lens<2.0.0,>=1.14.0->sae_lens) (0.30.1)\n",
            "Requirement already satisfied: beartype<0.15.0,>=0.14.1 in /usr/local/lib/python3.11/site-packages (from transformer-lens<2.0.0,>=1.14.0->sae_lens) (0.14.1)\n",
            "Requirement already satisfied: better-abc<0.0.4,>=0.0.3 in /usr/local/lib/python3.11/site-packages (from transformer-lens<2.0.0,>=1.14.0->sae_lens) (0.0.3)\n",
            "Requirement already satisfied: fancy-einsum>=0.0.3 in /usr/local/lib/python3.11/site-packages (from transformer-lens<2.0.0,>=1.14.0->sae_lens) (0.0.3)\n",
            "Requirement already satisfied: sentencepiece in /usr/local/lib/python3.11/site-packages (from transformer-lens<2.0.0,>=1.14.0->sae_lens) (0.2.0)\n",
            "Requirement already satisfied: typing-extensions in /usr/local/lib/python3.11/site-packages (from transformer-lens<2.0.0,>=1.14.0->sae_lens) (4.8.0)\n",
            "Requirement already satisfied: wandb>=0.13.5 in /usr/local/lib/python3.11/site-packages (from transformer-lens<2.0.0,>=1.14.0->sae_lens) (0.17.0)\n",
            "Requirement already satisfied: tokenizers<0.20,>=0.19 in /usr/local/lib/python3.11/site-packages (from transformers<5.0.0,>=4.38.1->sae_lens) (0.19.1)\n",
            "Requirement already satisfied: shellingham>=1.3.0 in /usr/local/lib/python3.11/site-packages (from typer<0.13.0,>=0.12.3->sae_lens) (1.5.4)\n",
            "Requirement already satisfied: pycryptodomex~=3.8 in /usr/local/lib/python3.11/site-packages (from blobfile<3.0.0,>=2.1.1->automated-interpretability<0.0.4,>=0.0.3->sae_lens) (3.20.0)\n",
            "Requirement already satisfied: urllib3<3,>=1.25.3 in /usr/local/lib/python3.11/site-packages (from blobfile<3.0.0,>=2.1.1->automated-interpretability<0.0.4,>=0.0.3->sae_lens) (2.2.1)\n",
            "Requirement already satisfied: lxml~=4.9 in /usr/local/lib/python3.11/site-packages (from blobfile<3.0.0,>=2.1.1->automated-interpretability<0.0.4,>=0.0.3->sae_lens) (4.9.4)\n",
            "Requirement already satisfied: uvloop>=0.16.0 in /usr/local/lib/python3.11/site-packages (from boostedblob<0.16.0,>=0.15.3->automated-interpretability<0.0.4,>=0.0.3->sae_lens) (0.19.0)\n",
            "Requirement already satisfied: attrs>=17.3.0 in /usr/local/lib/python3.11/site-packages (from aiohttp->datasets<3.0.0,>=2.17.1->sae_lens) (23.1.0)\n",
            "Requirement already satisfied: charset-normalizer<4.0,>=2.0 in /usr/local/lib/python3.11/site-packages (from aiohttp->datasets<3.0.0,>=2.17.1->sae_lens) (3.2.0)\n",
            "Requirement already satisfied: multidict<7.0,>=4.5 in /usr/local/lib/python3.11/site-packages (from aiohttp->datasets<3.0.0,>=2.17.1->sae_lens) (6.0.4)\n",
            "Requirement already satisfied: async-timeout<5.0,>=4.0.0a3 in /usr/local/lib/python3.11/site-packages (from aiohttp->datasets<3.0.0,>=2.17.1->sae_lens) (4.0.3)\n",
            "Requirement already satisfied: yarl<2.0,>=1.0 in /usr/local/lib/python3.11/site-packages (from aiohttp->datasets<3.0.0,>=2.17.1->sae_lens) (1.9.2)\n",
            "Requirement already satisfied: frozenlist>=1.1.1 in /usr/local/lib/python3.11/site-packages (from aiohttp->datasets<3.0.0,>=2.17.1->sae_lens) (1.4.0)\n",
            "Requirement already satisfied: aiosignal>=1.1.2 in /usr/local/lib/python3.11/site-packages (from aiohttp->datasets<3.0.0,>=2.17.1->sae_lens) (1.3.1)\n",
            "Requirement already satisfied: marshmallow<4.0.0,>=3.18.0 in /usr/local/lib/python3.11/site-packages (from dataclasses-json<0.7.0,>=0.6.4->sae-vis<0.3.0,>=0.2.18->sae_lens) (3.21.2)\n",
            "Requirement already satisfied: typing-inspect<1,>=0.4.0 in /usr/local/lib/python3.11/site-packages (from dataclasses-json<0.7.0,>=0.6.4->sae-vis<0.3.0,>=0.2.18->sae_lens) (0.9.0)\n",
            "Requirement already satisfied: anyio in /usr/local/lib/python3.11/site-packages (from httpx<0.28.0,>=0.27.0->automated-interpretability<0.0.4,>=0.0.3->sae_lens) (3.7.1)\n",
            "Requirement already satisfied: certifi in /usr/local/lib/python3.11/site-packages (from httpx<0.28.0,>=0.27.0->automated-interpretability<0.0.4,>=0.0.3->sae_lens) (2023.7.22)\n",
            "Requirement already satisfied: httpcore==1.* in /usr/local/lib/python3.11/site-packages (from httpx<0.28.0,>=0.27.0->automated-interpretability<0.0.4,>=0.0.3->sae_lens) (1.0.5)\n",
            "Requirement already satisfied: idna in /usr/local/lib/python3.11/site-packages (from httpx<0.28.0,>=0.27.0->automated-interpretability<0.0.4,>=0.0.3->sae_lens) (3.4)\n",
            "Requirement already satisfied: sniffio in /usr/local/lib/python3.11/site-packages (from httpx<0.28.0,>=0.27.0->automated-interpretability<0.0.4,>=0.0.3->sae_lens) (1.3.0)\n",
            "Requirement already satisfied: h11<0.15,>=0.13 in /usr/local/lib/python3.11/site-packages (from httpcore==1.*->httpx<0.28.0,>=0.27.0->automated-interpretability<0.0.4,>=0.0.3->sae_lens) (0.14.0)\n",
            "Requirement already satisfied: decorator in /Users/dubberly/Library/Python/3.11/lib/python/site-packages (from ipython>=7.23.1->ipykernel<7.0.0,>=6.29.2->sae_lens) (5.1.1)\n",
            "Requirement already satisfied: jedi>=0.16 in /Users/dubberly/Library/Python/3.11/lib/python/site-packages (from ipython>=7.23.1->ipykernel<7.0.0,>=6.29.2->sae_lens) (0.19.1)\n",
            "Requirement already satisfied: prompt-toolkit<3.1.0,>=3.0.41 in /Users/dubberly/Library/Python/3.11/lib/python/site-packages (from ipython>=7.23.1->ipykernel<7.0.0,>=6.29.2->sae_lens) (3.0.43)\n",
            "Requirement already satisfied: stack-data in /Users/dubberly/Library/Python/3.11/lib/python/site-packages (from ipython>=7.23.1->ipykernel<7.0.0,>=6.29.2->sae_lens) (0.6.3)\n",
            "Requirement already satisfied: pexpect>4.3 in /Users/dubberly/Library/Python/3.11/lib/python/site-packages (from ipython>=7.23.1->ipykernel<7.0.0,>=6.29.2->sae_lens) (4.9.0)\n",
            "Requirement already satisfied: typeguard==2.13.3 in /usr/local/lib/python3.11/site-packages (from jaxtyping<0.3.0,>=0.2.28->sae-vis<0.3.0,>=0.2.18->sae_lens) (2.13.3)\n",
            "Requirement already satisfied: jsonschema-specifications>=2023.03.6 in /usr/local/lib/python3.11/site-packages (from jsonschema>=2.6->nbformat<6.0.0,>=5.9.2->sae_lens) (2023.12.1)\n",
            "Requirement already satisfied: referencing>=0.28.4 in /usr/local/lib/python3.11/site-packages (from jsonschema>=2.6->nbformat<6.0.0,>=5.9.2->sae_lens) (0.35.1)\n",
            "Requirement already satisfied: rpds-py>=0.7.1 in /usr/local/lib/python3.11/site-packages (from jsonschema>=2.6->nbformat<6.0.0,>=5.9.2->sae_lens) (0.18.1)\n",
            "Requirement already satisfied: pytz>=2020.1 in /usr/local/lib/python3.11/site-packages (from pandas->babe<0.0.8,>=0.0.7->sae_lens) (2024.1)\n",
            "Requirement already satisfied: tzdata>=2022.7 in /usr/local/lib/python3.11/site-packages (from pandas->babe<0.0.8,>=0.0.7->sae_lens) (2024.1)\n",
            "Requirement already satisfied: iniconfig in /usr/local/lib/python3.11/site-packages (from pytest<9.0.0,>=8.1.2->automated-interpretability<0.0.4,>=0.0.3->sae_lens) (2.0.0)\n",
            "Requirement already satisfied: pluggy<2.0,>=1.5 in /usr/local/lib/python3.11/site-packages (from pytest<9.0.0,>=8.1.2->automated-interpretability<0.0.4,>=0.0.3->sae_lens) (1.5.0)\n",
            "Requirement already satisfied: markdown-it-py>=2.2.0 in /usr/local/lib/python3.11/site-packages (from rich<14.0.0,>=13.7.1->sae-vis<0.3.0,>=0.2.18->sae_lens) (3.0.0)\n",
            "Requirement already satisfied: threadpoolctl>=2.0.0 in /usr/local/lib/python3.11/site-packages (from scikit-learn<2.0.0,>=1.4.2->automated-interpretability<0.0.4,>=0.0.3->sae_lens) (3.5.0)\n",
            "Requirement already satisfied: sympy in /usr/local/lib/python3.11/site-packages (from torch<3.0.0,>=2.0.0->sae-vis<0.3.0,>=0.2.18->sae_lens) (1.12)\n",
            "Requirement already satisfied: networkx in /usr/local/lib/python3.11/site-packages (from torch<3.0.0,>=2.0.0->sae-vis<0.3.0,>=0.2.18->sae_lens) (3.3)\n",
            "Requirement already satisfied: docker-pycreds>=0.4.0 in /usr/local/lib/python3.11/site-packages (from wandb>=0.13.5->transformer-lens<2.0.0,>=1.14.0->sae_lens) (0.4.0)\n",
            "Requirement already satisfied: gitpython!=3.1.29,>=1.0.0 in /usr/local/lib/python3.11/site-packages (from wandb>=0.13.5->transformer-lens<2.0.0,>=1.14.0->sae_lens) (3.1.43)\n",
            "Requirement already satisfied: protobuf!=4.21.0,<5,>=3.19.0 in /usr/local/lib/python3.11/site-packages (from wandb>=0.13.5->transformer-lens<2.0.0,>=1.14.0->sae_lens) (4.24.3)\n",
            "Requirement already satisfied: sentry-sdk>=1.0.0 in /usr/local/lib/python3.11/site-packages (from wandb>=0.13.5->transformer-lens<2.0.0,>=1.14.0->sae_lens) (2.2.0)\n",
            "Requirement already satisfied: setproctitle in /usr/local/lib/python3.11/site-packages (from wandb>=0.13.5->transformer-lens<2.0.0,>=1.14.0->sae_lens) (1.3.3)\n",
            "Requirement already satisfied: setuptools in /usr/local/lib/python3.11/site-packages (from wandb>=0.13.5->transformer-lens<2.0.0,>=1.14.0->sae_lens) (69.0.2)\n",
            "Requirement already satisfied: widgetsnbextension~=4.0.10 in /usr/local/lib/python3.11/site-packages (from ipywidgets->jupyter<2.0.0,>=1.0.0->sae_lens) (4.0.10)\n",
            "Requirement already satisfied: jupyterlab-widgets~=3.0.10 in /usr/local/lib/python3.11/site-packages (from ipywidgets->jupyter<2.0.0,>=1.0.0->sae_lens) (3.0.10)\n",
            "Requirement already satisfied: beautifulsoup4 in /usr/local/lib/python3.11/site-packages (from nbconvert->jupyter<2.0.0,>=1.0.0->sae_lens) (4.12.3)\n",
            "Requirement already satisfied: bleach!=5.0.0 in /usr/local/lib/python3.11/site-packages (from nbconvert->jupyter<2.0.0,>=1.0.0->sae_lens) (6.1.0)\n",
            "Requirement already satisfied: defusedxml in /usr/local/lib/python3.11/site-packages (from nbconvert->jupyter<2.0.0,>=1.0.0->sae_lens) (0.7.1)\n",
            "Requirement already satisfied: jupyterlab-pygments in /usr/local/lib/python3.11/site-packages (from nbconvert->jupyter<2.0.0,>=1.0.0->sae_lens) (0.3.0)\n",
            "Requirement already satisfied: mistune<4,>=2.0.3 in /usr/local/lib/python3.11/site-packages (from nbconvert->jupyter<2.0.0,>=1.0.0->sae_lens) (3.0.2)\n",
            "Requirement already satisfied: nbclient>=0.5.0 in /usr/local/lib/python3.11/site-packages (from nbconvert->jupyter<2.0.0,>=1.0.0->sae_lens) (0.10.0)\n",
            "Requirement already satisfied: pandocfilters>=1.4.1 in /usr/local/lib/python3.11/site-packages (from nbconvert->jupyter<2.0.0,>=1.0.0->sae_lens) (1.5.1)\n",
            "Requirement already satisfied: tinycss2 in /usr/local/lib/python3.11/site-packages (from nbconvert->jupyter<2.0.0,>=1.0.0->sae_lens) (1.3.0)\n",
            "Requirement already satisfied: jupyter-server<3,>=2.4.0 in /usr/local/lib/python3.11/site-packages (from notebook->jupyter<2.0.0,>=1.0.0->sae_lens) (2.14.0)\n",
            "Requirement already satisfied: jupyterlab-server<3,>=2.27.1 in /usr/local/lib/python3.11/site-packages (from notebook->jupyter<2.0.0,>=1.0.0->sae_lens) (2.27.1)\n",
            "Requirement already satisfied: jupyterlab<4.3,>=4.2.0 in /usr/local/lib/python3.11/site-packages (from notebook->jupyter<2.0.0,>=1.0.0->sae_lens) (4.2.0)\n",
            "Requirement already satisfied: notebook-shim<0.3,>=0.2 in /usr/local/lib/python3.11/site-packages (from notebook->jupyter<2.0.0,>=1.0.0->sae_lens) (0.2.4)\n",
            "Requirement already satisfied: dol in /usr/local/lib/python3.11/site-packages (from py2store->babe<0.0.8,>=0.0.7->sae_lens) (0.2.45)\n",
            "Requirement already satisfied: config2py in /usr/local/lib/python3.11/site-packages (from py2store->babe<0.0.8,>=0.0.7->sae_lens) (0.1.33)\n",
            "Requirement already satisfied: importlib-resources in /usr/local/lib/python3.11/site-packages (from py2store->babe<0.0.8,>=0.0.7->sae_lens) (6.4.0)\n",
            "Requirement already satisfied: qtpy>=2.4.0 in /usr/local/lib/python3.11/site-packages (from qtconsole->jupyter<2.0.0,>=1.0.0->sae_lens) (2.4.1)\n",
            "Requirement already satisfied: webencodings in /usr/local/lib/python3.11/site-packages (from bleach!=5.0.0->nbconvert->jupyter<2.0.0,>=1.0.0->sae_lens) (0.5.1)\n",
            "Requirement already satisfied: gitdb<5,>=4.0.1 in /usr/local/lib/python3.11/site-packages (from gitpython!=3.1.29,>=1.0.0->wandb>=0.13.5->transformer-lens<2.0.0,>=1.14.0->sae_lens) (4.0.11)\n",
            "Requirement already satisfied: parso<0.9.0,>=0.8.3 in /Users/dubberly/Library/Python/3.11/lib/python/site-packages (from jedi>=0.16->ipython>=7.23.1->ipykernel<7.0.0,>=6.29.2->sae_lens) (0.8.4)\n",
            "Requirement already satisfied: argon2-cffi>=21.1 in /usr/local/lib/python3.11/site-packages (from jupyter-server<3,>=2.4.0->notebook->jupyter<2.0.0,>=1.0.0->sae_lens) (23.1.0)\n",
            "Requirement already satisfied: jupyter-events>=0.9.0 in /usr/local/lib/python3.11/site-packages (from jupyter-server<3,>=2.4.0->notebook->jupyter<2.0.0,>=1.0.0->sae_lens) (0.10.0)\n",
            "Requirement already satisfied: jupyter-server-terminals>=0.4.4 in /usr/local/lib/python3.11/site-packages (from jupyter-server<3,>=2.4.0->notebook->jupyter<2.0.0,>=1.0.0->sae_lens) (0.5.3)\n",
            "Requirement already satisfied: overrides>=5.0 in /usr/local/lib/python3.11/site-packages (from jupyter-server<3,>=2.4.0->notebook->jupyter<2.0.0,>=1.0.0->sae_lens) (7.7.0)\n",
            "Requirement already satisfied: prometheus-client>=0.9 in /usr/local/lib/python3.11/site-packages (from jupyter-server<3,>=2.4.0->notebook->jupyter<2.0.0,>=1.0.0->sae_lens) (0.20.0)\n",
            "Requirement already satisfied: send2trash>=1.8.2 in /usr/local/lib/python3.11/site-packages (from jupyter-server<3,>=2.4.0->notebook->jupyter<2.0.0,>=1.0.0->sae_lens) (1.8.3)\n",
            "Requirement already satisfied: terminado>=0.8.3 in /usr/local/lib/python3.11/site-packages (from jupyter-server<3,>=2.4.0->notebook->jupyter<2.0.0,>=1.0.0->sae_lens) (0.18.1)\n",
            "Requirement already satisfied: websocket-client>=1.7 in /usr/local/lib/python3.11/site-packages (from jupyter-server<3,>=2.4.0->notebook->jupyter<2.0.0,>=1.0.0->sae_lens) (1.8.0)\n",
            "Requirement already satisfied: async-lru>=1.0.0 in /usr/local/lib/python3.11/site-packages (from jupyterlab<4.3,>=4.2.0->notebook->jupyter<2.0.0,>=1.0.0->sae_lens) (2.0.4)\n",
            "Requirement already satisfied: jupyter-lsp>=2.0.0 in /usr/local/lib/python3.11/site-packages (from jupyterlab<4.3,>=4.2.0->notebook->jupyter<2.0.0,>=1.0.0->sae_lens) (2.2.5)\n",
            "Requirement already satisfied: json5>=0.9.0 in /usr/local/lib/python3.11/site-packages (from jupyterlab-server<3,>=2.27.1->notebook->jupyter<2.0.0,>=1.0.0->sae_lens) (0.9.25)\n",
            "Requirement already satisfied: mdurl~=0.1 in /usr/local/lib/python3.11/site-packages (from markdown-it-py>=2.2.0->rich<14.0.0,>=13.7.1->sae-vis<0.3.0,>=0.2.18->sae_lens) (0.1.2)\n",
            "Requirement already satisfied: ptyprocess>=0.5 in /Users/dubberly/Library/Python/3.11/lib/python/site-packages (from pexpect>4.3->ipython>=7.23.1->ipykernel<7.0.0,>=6.29.2->sae_lens) (0.7.0)\n",
            "Requirement already satisfied: wcwidth in /Users/dubberly/Library/Python/3.11/lib/python/site-packages (from prompt-toolkit<3.1.0,>=3.0.41->ipython>=7.23.1->ipykernel<7.0.0,>=6.29.2->sae_lens) (0.2.13)\n",
            "Requirement already satisfied: mypy-extensions>=0.3.0 in /usr/local/lib/python3.11/site-packages (from typing-inspect<1,>=0.4.0->dataclasses-json<0.7.0,>=0.6.4->sae-vis<0.3.0,>=0.2.18->sae_lens) (1.0.0)\n",
            "Requirement already satisfied: soupsieve>1.2 in /usr/local/lib/python3.11/site-packages (from beautifulsoup4->nbconvert->jupyter<2.0.0,>=1.0.0->sae_lens) (2.5)\n",
            "Requirement already satisfied: i2 in /usr/local/lib/python3.11/site-packages (from config2py->py2store->babe<0.0.8,>=0.0.7->sae_lens) (0.1.17)\n",
            "Requirement already satisfied: executing>=1.2.0 in /Users/dubberly/Library/Python/3.11/lib/python/site-packages (from stack-data->ipython>=7.23.1->ipykernel<7.0.0,>=6.29.2->sae_lens) (2.0.1)\n",
            "Requirement already satisfied: asttokens>=2.1.0 in /Users/dubberly/Library/Python/3.11/lib/python/site-packages (from stack-data->ipython>=7.23.1->ipykernel<7.0.0,>=6.29.2->sae_lens) (2.4.1)\n",
            "Requirement already satisfied: pure-eval in /Users/dubberly/Library/Python/3.11/lib/python/site-packages (from stack-data->ipython>=7.23.1->ipykernel<7.0.0,>=6.29.2->sae_lens) (0.2.2)\n",
            "Requirement already satisfied: mpmath>=0.19 in /usr/local/lib/python3.11/site-packages (from sympy->torch<3.0.0,>=2.0.0->sae-vis<0.3.0,>=0.2.18->sae_lens) (1.3.0)\n",
            "Requirement already satisfied: argon2-cffi-bindings in /usr/local/lib/python3.11/site-packages (from argon2-cffi>=21.1->jupyter-server<3,>=2.4.0->notebook->jupyter<2.0.0,>=1.0.0->sae_lens) (21.2.0)\n",
            "Requirement already satisfied: smmap<6,>=3.0.1 in /usr/local/lib/python3.11/site-packages (from gitdb<5,>=4.0.1->gitpython!=3.1.29,>=1.0.0->wandb>=0.13.5->transformer-lens<2.0.0,>=1.14.0->sae_lens) (5.0.1)\n",
            "Requirement already satisfied: python-json-logger>=2.0.4 in /usr/local/lib/python3.11/site-packages (from jupyter-events>=0.9.0->jupyter-server<3,>=2.4.0->notebook->jupyter<2.0.0,>=1.0.0->sae_lens) (2.0.7)\n",
            "Requirement already satisfied: rfc3339-validator in /usr/local/lib/python3.11/site-packages (from jupyter-events>=0.9.0->jupyter-server<3,>=2.4.0->notebook->jupyter<2.0.0,>=1.0.0->sae_lens) (0.1.4)\n",
            "Requirement already satisfied: rfc3986-validator>=0.1.1 in /usr/local/lib/python3.11/site-packages (from jupyter-events>=0.9.0->jupyter-server<3,>=2.4.0->notebook->jupyter<2.0.0,>=1.0.0->sae_lens) (0.1.1)\n",
            "Requirement already satisfied: fqdn in /usr/local/lib/python3.11/site-packages (from jsonschema[format-nongpl]>=4.18.0->jupyter-events>=0.9.0->jupyter-server<3,>=2.4.0->notebook->jupyter<2.0.0,>=1.0.0->sae_lens) (1.5.1)\n",
            "Requirement already satisfied: isoduration in /usr/local/lib/python3.11/site-packages (from jsonschema[format-nongpl]>=4.18.0->jupyter-events>=0.9.0->jupyter-server<3,>=2.4.0->notebook->jupyter<2.0.0,>=1.0.0->sae_lens) (20.11.0)\n",
            "Requirement already satisfied: jsonpointer>1.13 in /usr/local/lib/python3.11/site-packages (from jsonschema[format-nongpl]>=4.18.0->jupyter-events>=0.9.0->jupyter-server<3,>=2.4.0->notebook->jupyter<2.0.0,>=1.0.0->sae_lens) (2.4)\n",
            "Requirement already satisfied: uri-template in /usr/local/lib/python3.11/site-packages (from jsonschema[format-nongpl]>=4.18.0->jupyter-events>=0.9.0->jupyter-server<3,>=2.4.0->notebook->jupyter<2.0.0,>=1.0.0->sae_lens) (1.3.0)\n",
            "Requirement already satisfied: webcolors>=1.11 in /usr/local/lib/python3.11/site-packages (from jsonschema[format-nongpl]>=4.18.0->jupyter-events>=0.9.0->jupyter-server<3,>=2.4.0->notebook->jupyter<2.0.0,>=1.0.0->sae_lens) (1.13)\n",
            "Requirement already satisfied: cffi>=1.0.1 in /usr/local/lib/python3.11/site-packages (from argon2-cffi-bindings->argon2-cffi>=21.1->jupyter-server<3,>=2.4.0->notebook->jupyter<2.0.0,>=1.0.0->sae_lens) (1.16.0)\n",
            "Requirement already satisfied: pycparser in /usr/local/lib/python3.11/site-packages (from cffi>=1.0.1->argon2-cffi-bindings->argon2-cffi>=21.1->jupyter-server<3,>=2.4.0->notebook->jupyter<2.0.0,>=1.0.0->sae_lens) (2.22)\n",
            "Requirement already satisfied: arrow>=0.15.0 in /usr/local/lib/python3.11/site-packages (from isoduration->jsonschema[format-nongpl]>=4.18.0->jupyter-events>=0.9.0->jupyter-server<3,>=2.4.0->notebook->jupyter<2.0.0,>=1.0.0->sae_lens) (1.3.0)\n",
            "Requirement already satisfied: types-python-dateutil>=2.8.10 in /usr/local/lib/python3.11/site-packages (from arrow>=0.15.0->isoduration->jsonschema[format-nongpl]>=4.18.0->jupyter-events>=0.9.0->jupyter-server<3,>=2.4.0->notebook->jupyter<2.0.0,>=1.0.0->sae_lens) (2.9.0.20240316)\n",
            "\n",
            "\u001b[1m[\u001b[0m\u001b[34;49mnotice\u001b[0m\u001b[1;39;49m]\u001b[0m\u001b[39;49m A new release of pip is available: \u001b[0m\u001b[31;49m23.3.1\u001b[0m\u001b[39;49m -> \u001b[0m\u001b[32;49m24.0\u001b[0m\n",
            "\u001b[1m[\u001b[0m\u001b[34;49mnotice\u001b[0m\u001b[1;39;49m]\u001b[0m\u001b[39;49m To update, run: \u001b[0m\u001b[32;49mpython3.11 -m pip install --upgrade pip\u001b[0m\n",
            "Note: you may need to restart the kernel to use updated packages.\n",
            "Requirement already satisfied: sae_vis in /usr/local/lib/python3.11/site-packages (0.2.18)\n",
            "Requirement already satisfied: dataclasses-json<0.7.0,>=0.6.4 in /usr/local/lib/python3.11/site-packages (from sae_vis) (0.6.6)\n",
            "Requirement already satisfied: datasets<3.0.0,>=2.0.0 in /usr/local/lib/python3.11/site-packages (from sae_vis) (2.19.1)\n",
            "Requirement already satisfied: eindex-callum<0.2.0,>=0.1.0 in /usr/local/lib/python3.11/site-packages (from sae_vis) (0.1.1)\n",
            "Requirement already satisfied: einops<0.8.0,>=0.7.0 in /usr/local/lib/python3.11/site-packages (from sae_vis) (0.7.0)\n",
            "Requirement already satisfied: jaxtyping<0.3.0,>=0.2.28 in /usr/local/lib/python3.11/site-packages (from sae_vis) (0.2.28)\n",
            "Requirement already satisfied: matplotlib<4.0.0,>=3.8.4 in /usr/local/lib/python3.11/site-packages (from sae_vis) (3.9.0)\n",
            "Requirement already satisfied: rich<14.0.0,>=13.7.1 in /usr/local/lib/python3.11/site-packages (from sae_vis) (13.7.1)\n",
            "Requirement already satisfied: torch<3.0.0,>=2.0.0 in /usr/local/lib/python3.11/site-packages (from sae_vis) (2.2.2)\n",
            "Requirement already satisfied: transformer-lens<2.0.0,>=1.0.0 in /usr/local/lib/python3.11/site-packages (from sae_vis) (1.17.0)\n",
            "Requirement already satisfied: marshmallow<4.0.0,>=3.18.0 in /usr/local/lib/python3.11/site-packages (from dataclasses-json<0.7.0,>=0.6.4->sae_vis) (3.21.2)\n",
            "Requirement already satisfied: typing-inspect<1,>=0.4.0 in /usr/local/lib/python3.11/site-packages (from dataclasses-json<0.7.0,>=0.6.4->sae_vis) (0.9.0)\n",
            "Requirement already satisfied: filelock in /usr/local/lib/python3.11/site-packages (from datasets<3.0.0,>=2.0.0->sae_vis) (3.14.0)\n",
            "Requirement already satisfied: numpy>=1.17 in /usr/local/lib/python3.11/site-packages (from datasets<3.0.0,>=2.0.0->sae_vis) (1.26.4)\n",
            "Requirement already satisfied: pyarrow>=12.0.0 in /usr/local/lib/python3.11/site-packages (from datasets<3.0.0,>=2.0.0->sae_vis) (16.1.0)\n",
            "Requirement already satisfied: pyarrow-hotfix in /usr/local/lib/python3.11/site-packages (from datasets<3.0.0,>=2.0.0->sae_vis) (0.6)\n",
            "Requirement already satisfied: dill<0.3.9,>=0.3.0 in /usr/local/lib/python3.11/site-packages (from datasets<3.0.0,>=2.0.0->sae_vis) (0.3.8)\n",
            "Requirement already satisfied: pandas in /usr/local/lib/python3.11/site-packages (from datasets<3.0.0,>=2.0.0->sae_vis) (2.2.2)\n",
            "Requirement already satisfied: requests>=2.19.0 in /usr/local/lib/python3.11/site-packages (from datasets<3.0.0,>=2.0.0->sae_vis) (2.31.0)\n",
            "Requirement already satisfied: tqdm>=4.62.1 in /usr/local/lib/python3.11/site-packages (from datasets<3.0.0,>=2.0.0->sae_vis) (4.66.4)\n",
            "Requirement already satisfied: xxhash in /usr/local/lib/python3.11/site-packages (from datasets<3.0.0,>=2.0.0->sae_vis) (3.4.1)\n",
            "Requirement already satisfied: multiprocess in /usr/local/lib/python3.11/site-packages (from datasets<3.0.0,>=2.0.0->sae_vis) (0.70.16)\n",
            "Requirement already satisfied: fsspec<=2024.3.1,>=2023.1.0 in /usr/local/lib/python3.11/site-packages (from fsspec[http]<=2024.3.1,>=2023.1.0->datasets<3.0.0,>=2.0.0->sae_vis) (2024.3.1)\n",
            "Requirement already satisfied: aiohttp in /usr/local/lib/python3.11/site-packages (from datasets<3.0.0,>=2.0.0->sae_vis) (3.8.5)\n",
            "Requirement already satisfied: huggingface-hub>=0.21.2 in /usr/local/lib/python3.11/site-packages (from datasets<3.0.0,>=2.0.0->sae_vis) (0.23.0)\n",
            "Requirement already satisfied: packaging in /Users/dubberly/Library/Python/3.11/lib/python/site-packages (from datasets<3.0.0,>=2.0.0->sae_vis) (24.0)\n",
            "Requirement already satisfied: pyyaml>=5.1 in /usr/local/lib/python3.11/site-packages (from datasets<3.0.0,>=2.0.0->sae_vis) (6.0.1)\n",
            "Requirement already satisfied: typeguard==2.13.3 in /usr/local/lib/python3.11/site-packages (from jaxtyping<0.3.0,>=0.2.28->sae_vis) (2.13.3)\n",
            "Requirement already satisfied: contourpy>=1.0.1 in /usr/local/lib/python3.11/site-packages (from matplotlib<4.0.0,>=3.8.4->sae_vis) (1.2.1)\n",
            "Requirement already satisfied: cycler>=0.10 in /usr/local/lib/python3.11/site-packages (from matplotlib<4.0.0,>=3.8.4->sae_vis) (0.12.1)\n",
            "Requirement already satisfied: fonttools>=4.22.0 in /usr/local/lib/python3.11/site-packages (from matplotlib<4.0.0,>=3.8.4->sae_vis) (4.51.0)\n",
            "Requirement already satisfied: kiwisolver>=1.3.1 in /usr/local/lib/python3.11/site-packages (from matplotlib<4.0.0,>=3.8.4->sae_vis) (1.4.5)\n",
            "Requirement already satisfied: pillow>=8 in /usr/local/lib/python3.11/site-packages (from matplotlib<4.0.0,>=3.8.4->sae_vis) (10.3.0)\n",
            "Requirement already satisfied: pyparsing>=2.3.1 in /usr/local/lib/python3.11/site-packages (from matplotlib<4.0.0,>=3.8.4->sae_vis) (3.1.2)\n",
            "Requirement already satisfied: python-dateutil>=2.7 in /Users/dubberly/Library/Python/3.11/lib/python/site-packages (from matplotlib<4.0.0,>=3.8.4->sae_vis) (2.9.0.post0)\n",
            "Requirement already satisfied: markdown-it-py>=2.2.0 in /usr/local/lib/python3.11/site-packages (from rich<14.0.0,>=13.7.1->sae_vis) (3.0.0)\n",
            "Requirement already satisfied: pygments<3.0.0,>=2.13.0 in /usr/local/lib/python3.11/site-packages (from rich<14.0.0,>=13.7.1->sae_vis) (2.16.1)\n",
            "Requirement already satisfied: typing-extensions>=4.8.0 in /usr/local/lib/python3.11/site-packages (from torch<3.0.0,>=2.0.0->sae_vis) (4.8.0)\n",
            "Requirement already satisfied: sympy in /usr/local/lib/python3.11/site-packages (from torch<3.0.0,>=2.0.0->sae_vis) (1.12)\n",
            "Requirement already satisfied: networkx in /usr/local/lib/python3.11/site-packages (from torch<3.0.0,>=2.0.0->sae_vis) (3.3)\n",
            "Requirement already satisfied: jinja2 in /usr/local/lib/python3.11/site-packages (from torch<3.0.0,>=2.0.0->sae_vis) (3.1.4)\n",
            "Requirement already satisfied: accelerate>=0.23.0 in /usr/local/lib/python3.11/site-packages (from transformer-lens<2.0.0,>=1.0.0->sae_vis) (0.30.1)\n",
            "Requirement already satisfied: beartype<0.15.0,>=0.14.1 in /usr/local/lib/python3.11/site-packages (from transformer-lens<2.0.0,>=1.0.0->sae_vis) (0.14.1)\n",
            "Requirement already satisfied: better-abc<0.0.4,>=0.0.3 in /usr/local/lib/python3.11/site-packages (from transformer-lens<2.0.0,>=1.0.0->sae_vis) (0.0.3)\n",
            "Requirement already satisfied: fancy-einsum>=0.0.3 in /usr/local/lib/python3.11/site-packages (from transformer-lens<2.0.0,>=1.0.0->sae_vis) (0.0.3)\n",
            "Requirement already satisfied: sentencepiece in /usr/local/lib/python3.11/site-packages (from transformer-lens<2.0.0,>=1.0.0->sae_vis) (0.2.0)\n",
            "Requirement already satisfied: transformers>=4.37.2 in /usr/local/lib/python3.11/site-packages (from transformer-lens<2.0.0,>=1.0.0->sae_vis) (4.40.2)\n",
            "Requirement already satisfied: wandb>=0.13.5 in /usr/local/lib/python3.11/site-packages (from transformer-lens<2.0.0,>=1.0.0->sae_vis) (0.17.0)\n",
            "Requirement already satisfied: psutil in /Users/dubberly/Library/Python/3.11/lib/python/site-packages (from accelerate>=0.23.0->transformer-lens<2.0.0,>=1.0.0->sae_vis) (5.9.8)\n",
            "Requirement already satisfied: safetensors>=0.3.1 in /usr/local/lib/python3.11/site-packages (from accelerate>=0.23.0->transformer-lens<2.0.0,>=1.0.0->sae_vis) (0.4.3)\n",
            "Requirement already satisfied: attrs>=17.3.0 in /usr/local/lib/python3.11/site-packages (from aiohttp->datasets<3.0.0,>=2.0.0->sae_vis) (23.1.0)\n",
            "Requirement already satisfied: charset-normalizer<4.0,>=2.0 in /usr/local/lib/python3.11/site-packages (from aiohttp->datasets<3.0.0,>=2.0.0->sae_vis) (3.2.0)\n",
            "Requirement already satisfied: multidict<7.0,>=4.5 in /usr/local/lib/python3.11/site-packages (from aiohttp->datasets<3.0.0,>=2.0.0->sae_vis) (6.0.4)\n",
            "Requirement already satisfied: async-timeout<5.0,>=4.0.0a3 in /usr/local/lib/python3.11/site-packages (from aiohttp->datasets<3.0.0,>=2.0.0->sae_vis) (4.0.3)\n",
            "Requirement already satisfied: yarl<2.0,>=1.0 in /usr/local/lib/python3.11/site-packages (from aiohttp->datasets<3.0.0,>=2.0.0->sae_vis) (1.9.2)\n",
            "Requirement already satisfied: frozenlist>=1.1.1 in /usr/local/lib/python3.11/site-packages (from aiohttp->datasets<3.0.0,>=2.0.0->sae_vis) (1.4.0)\n",
            "Requirement already satisfied: aiosignal>=1.1.2 in /usr/local/lib/python3.11/site-packages (from aiohttp->datasets<3.0.0,>=2.0.0->sae_vis) (1.3.1)\n",
            "Requirement already satisfied: mdurl~=0.1 in /usr/local/lib/python3.11/site-packages (from markdown-it-py>=2.2.0->rich<14.0.0,>=13.7.1->sae_vis) (0.1.2)\n",
            "Requirement already satisfied: pytz>=2020.1 in /usr/local/lib/python3.11/site-packages (from pandas->datasets<3.0.0,>=2.0.0->sae_vis) (2024.1)\n",
            "Requirement already satisfied: tzdata>=2022.7 in /usr/local/lib/python3.11/site-packages (from pandas->datasets<3.0.0,>=2.0.0->sae_vis) (2024.1)\n",
            "Requirement already satisfied: six>=1.5 in /Users/dubberly/Library/Python/3.11/lib/python/site-packages (from python-dateutil>=2.7->matplotlib<4.0.0,>=3.8.4->sae_vis) (1.16.0)\n",
            "Requirement already satisfied: idna<4,>=2.5 in /usr/local/lib/python3.11/site-packages (from requests>=2.19.0->datasets<3.0.0,>=2.0.0->sae_vis) (3.4)\n",
            "Requirement already satisfied: urllib3<3,>=1.21.1 in /usr/local/lib/python3.11/site-packages (from requests>=2.19.0->datasets<3.0.0,>=2.0.0->sae_vis) (2.2.1)\n",
            "Requirement already satisfied: certifi>=2017.4.17 in /usr/local/lib/python3.11/site-packages (from requests>=2.19.0->datasets<3.0.0,>=2.0.0->sae_vis) (2023.7.22)\n",
            "Requirement already satisfied: regex!=2019.12.17 in /usr/local/lib/python3.11/site-packages (from transformers>=4.37.2->transformer-lens<2.0.0,>=1.0.0->sae_vis) (2024.5.15)\n",
            "Requirement already satisfied: tokenizers<0.20,>=0.19 in /usr/local/lib/python3.11/site-packages (from transformers>=4.37.2->transformer-lens<2.0.0,>=1.0.0->sae_vis) (0.19.1)\n",
            "Requirement already satisfied: mypy-extensions>=0.3.0 in /usr/local/lib/python3.11/site-packages (from typing-inspect<1,>=0.4.0->dataclasses-json<0.7.0,>=0.6.4->sae_vis) (1.0.0)\n",
            "Requirement already satisfied: click!=8.0.0,>=7.1 in /usr/local/lib/python3.11/site-packages (from wandb>=0.13.5->transformer-lens<2.0.0,>=1.0.0->sae_vis) (8.1.7)\n",
            "Requirement already satisfied: docker-pycreds>=0.4.0 in /usr/local/lib/python3.11/site-packages (from wandb>=0.13.5->transformer-lens<2.0.0,>=1.0.0->sae_vis) (0.4.0)\n",
            "Requirement already satisfied: gitpython!=3.1.29,>=1.0.0 in /usr/local/lib/python3.11/site-packages (from wandb>=0.13.5->transformer-lens<2.0.0,>=1.0.0->sae_vis) (3.1.43)\n",
            "Requirement already satisfied: platformdirs in /Users/dubberly/Library/Python/3.11/lib/python/site-packages (from wandb>=0.13.5->transformer-lens<2.0.0,>=1.0.0->sae_vis) (4.2.2)\n",
            "Requirement already satisfied: protobuf!=4.21.0,<5,>=3.19.0 in /usr/local/lib/python3.11/site-packages (from wandb>=0.13.5->transformer-lens<2.0.0,>=1.0.0->sae_vis) (4.24.3)\n",
            "Requirement already satisfied: sentry-sdk>=1.0.0 in /usr/local/lib/python3.11/site-packages (from wandb>=0.13.5->transformer-lens<2.0.0,>=1.0.0->sae_vis) (2.2.0)\n",
            "Requirement already satisfied: setproctitle in /usr/local/lib/python3.11/site-packages (from wandb>=0.13.5->transformer-lens<2.0.0,>=1.0.0->sae_vis) (1.3.3)\n",
            "Requirement already satisfied: setuptools in /usr/local/lib/python3.11/site-packages (from wandb>=0.13.5->transformer-lens<2.0.0,>=1.0.0->sae_vis) (69.0.2)\n",
            "Requirement already satisfied: MarkupSafe>=2.0 in /usr/local/lib/python3.11/site-packages (from jinja2->torch<3.0.0,>=2.0.0->sae_vis) (2.1.5)\n",
            "Requirement already satisfied: mpmath>=0.19 in /usr/local/lib/python3.11/site-packages (from sympy->torch<3.0.0,>=2.0.0->sae_vis) (1.3.0)\n",
            "Requirement already satisfied: gitdb<5,>=4.0.1 in /usr/local/lib/python3.11/site-packages (from gitpython!=3.1.29,>=1.0.0->wandb>=0.13.5->transformer-lens<2.0.0,>=1.0.0->sae_vis) (4.0.11)\n",
            "Requirement already satisfied: smmap<6,>=3.0.1 in /usr/local/lib/python3.11/site-packages (from gitdb<5,>=4.0.1->gitpython!=3.1.29,>=1.0.0->wandb>=0.13.5->transformer-lens<2.0.0,>=1.0.0->sae_vis) (5.0.1)\n",
            "\n",
            "\u001b[1m[\u001b[0m\u001b[34;49mnotice\u001b[0m\u001b[1;39;49m]\u001b[0m\u001b[39;49m A new release of pip is available: \u001b[0m\u001b[31;49m23.3.1\u001b[0m\u001b[39;49m -> \u001b[0m\u001b[32;49m24.0\u001b[0m\n",
            "\u001b[1m[\u001b[0m\u001b[34;49mnotice\u001b[0m\u001b[1;39;49m]\u001b[0m\u001b[39;49m To update, run: \u001b[0m\u001b[32;49mpython3.11 -m pip install --upgrade pip\u001b[0m\n",
            "Note: you may need to restart the kernel to use updated packages.\n",
            "Requirement already satisfied: safetensors in /usr/local/lib/python3.11/site-packages (0.4.3)\n",
            "\n",
            "\u001b[1m[\u001b[0m\u001b[34;49mnotice\u001b[0m\u001b[1;39;49m]\u001b[0m\u001b[39;49m A new release of pip is available: \u001b[0m\u001b[31;49m23.3.1\u001b[0m\u001b[39;49m -> \u001b[0m\u001b[32;49m24.0\u001b[0m\n",
            "\u001b[1m[\u001b[0m\u001b[34;49mnotice\u001b[0m\u001b[1;39;49m]\u001b[0m\u001b[39;49m To update, run: \u001b[0m\u001b[32;49mpython3.11 -m pip install --upgrade pip\u001b[0m\n",
            "Note: you may need to restart the kernel to use updated packages.\n",
            "Requirement already satisfied: circuitsvis in /usr/local/lib/python3.11/site-packages (1.43.2)\n",
            "Requirement already satisfied: importlib-metadata>=5.1.0 in /usr/local/lib/python3.11/site-packages (from circuitsvis) (6.8.0)\n",
            "Requirement already satisfied: numpy>=1.24 in /usr/local/lib/python3.11/site-packages (from circuitsvis) (1.26.4)\n",
            "Requirement already satisfied: torch>=1.10 in /usr/local/lib/python3.11/site-packages (from circuitsvis) (2.2.2)\n",
            "Requirement already satisfied: zipp>=0.5 in /usr/local/lib/python3.11/site-packages (from importlib-metadata>=5.1.0->circuitsvis) (3.17.0)\n",
            "Requirement already satisfied: filelock in /usr/local/lib/python3.11/site-packages (from torch>=1.10->circuitsvis) (3.14.0)\n",
            "Requirement already satisfied: typing-extensions>=4.8.0 in /usr/local/lib/python3.11/site-packages (from torch>=1.10->circuitsvis) (4.8.0)\n",
            "Requirement already satisfied: sympy in /usr/local/lib/python3.11/site-packages (from torch>=1.10->circuitsvis) (1.12)\n",
            "Requirement already satisfied: networkx in /usr/local/lib/python3.11/site-packages (from torch>=1.10->circuitsvis) (3.3)\n",
            "Requirement already satisfied: jinja2 in /usr/local/lib/python3.11/site-packages (from torch>=1.10->circuitsvis) (3.1.4)\n",
            "Requirement already satisfied: fsspec in /usr/local/lib/python3.11/site-packages (from torch>=1.10->circuitsvis) (2024.3.1)\n",
            "Requirement already satisfied: MarkupSafe>=2.0 in /usr/local/lib/python3.11/site-packages (from jinja2->torch>=1.10->circuitsvis) (2.1.5)\n",
            "Requirement already satisfied: mpmath>=0.19 in /usr/local/lib/python3.11/site-packages (from sympy->torch>=1.10->circuitsvis) (1.3.0)\n",
            "\n",
            "\u001b[1m[\u001b[0m\u001b[34;49mnotice\u001b[0m\u001b[1;39;49m]\u001b[0m\u001b[39;49m A new release of pip is available: \u001b[0m\u001b[31;49m23.3.1\u001b[0m\u001b[39;49m -> \u001b[0m\u001b[32;49m24.0\u001b[0m\n",
            "\u001b[1m[\u001b[0m\u001b[34;49mnotice\u001b[0m\u001b[1;39;49m]\u001b[0m\u001b[39;49m To update, run: \u001b[0m\u001b[32;49mpython3.11 -m pip install --upgrade pip\u001b[0m\n",
            "Note: you may need to restart the kernel to use updated packages.\n"
          ]
        }
      ],
      "source": [
        "%pip install transformer_lens\n",
        "%pip install sae_lens\n",
        "%pip install sae_vis\n",
        "%pip install safetensors\n",
        "%pip install circuitsvis"
      ]
    },
    {
      "cell_type": "code",
      "execution_count": 2,
      "metadata": {
        "colab": {
          "base_uri": "https://localhost:8080/",
          "height": 227,
          "referenced_widgets": [
            "b4da9ae05234450aabcfb11539379208",
            "e7958109f0814aa08e0958f5a376c2be",
            "43f8afd61e3a4bc8bf4a1ec517913e55",
            "1cc55ad40aec403c87b7cf35e15b92dd",
            "c226597e124a445c90f1dbb126514ac9",
            "228525ae7cf54534b1b01b5f2d69d742",
            "52359ea607b24119862b86a16fb3e492",
            "1e42fe2268b149d285519f59ced517e4",
            "972fc0e19d3f4ceeb0c2b5628f936658",
            "4de479f9fe8349aa80ba1b1c6621d73e",
            "2196fc0f3d664135b365fb3cd40ac608",
            "c600907510e0495fbc88eac19a1e5e4a",
            "83f7a13388024f5e9a660b05d4cff60b",
            "d951eb42a57f4a85839febfdb5291309",
            "46abaa89b9f1491595f7b49e2bd23739",
            "e65aef10b02b41829eace871630a2f92",
            "2e3d4fee542f4a8db9a475b22528224f",
            "f30ab68ee9e64940a5c044a2530916fb",
            "bce3c04b12d7420c8b7296b9b5365e4e",
            "1e86c9fc56344646878a2b9ce6c1a071",
            "e5595a37622a48dbba748f3e526b542e",
            "a2be31e596a845f0b5a2748838ced376",
            "3532aec1a09d429cb08184d01ca185ed",
            "44d3406bdbf44538a4f2f14c4e23c5bd",
            "98ac58e600da4912ad2368d1b21396c1",
            "5eedf2d1422a4a7ba9a2037acba031f4",
            "6ace370726334238844bdf3765a0c14d",
            "05d2359583f649d8a73b52b9f6bdd35c",
            "96c37c3523204a3eaf64ff957f773d40",
            "6125ff49d50144b994aaf91c1d93d4ce",
            "f8b9c01edcc14b74bc524e1e88637c4b",
            "284ae50fdce245afad4a300d031573cf",
            "a17b68e88def4e54bda9fd2789a0bc31",
            "abd6c5226aac4999b2e67457445581d5",
            "9381e3ed5a764eeb8e9b947d3952233e",
            "ff7011896f24408aa0e575d7b689bee5",
            "38766c29d38942919e4db886d42a76f2",
            "6e3447505d514416bedcae0685d1be5d",
            "4ec6927e079a4f17bf971cd6f82c3fe5",
            "200433f5bb6f468e8d8a83998852bcc5",
            "47cfee48a04c477a8aa0741dc8772325",
            "00d552befd3a451f9f342eb63d5feffa",
            "fa9c398a55eb49caa3a5ea55327c601b",
            "5b77e61ea69347f7aef4a31395121981",
            "9f5847ef285146699979f6a1a0e66fd7",
            "dedc711f78ae440ca5e51e9aaf87904b",
            "70ed4b01f850466c9d4ed9350e9df49e",
            "dcbc2269d6384629b6f21f5685d0bbce",
            "ba3d30acaf4946bfaf1c8aef59c511ab",
            "6cafd01177354c73a7a91398406c7a84",
            "4064f114e81746c1934d5439896a8aad",
            "0e56a17b826547a2b9a909b5243a3b13",
            "c14b09dcbf0e4a52a1246c649d7f722e",
            "09e9c82ee27f46a2976a70b02bfdae0d",
            "ff1ee4badbff45c2b2cd60410da24f2d",
            "8e50c697d7404927901095cc26ba2941",
            "1d46136d500642888f1395182e7933d3",
            "ec94dff868a94de681bd19addfb3171d",
            "578c2e42aafd456bad5d66f9c8809abd",
            "1266ca78a4bf44858223eaeaaced7eb4",
            "5f1a0c96b4ec4a0eb482e59ce3c022fb",
            "1c6666c2921549359f992e6e02f2f173",
            "29d2812f672146c7ac83b1b264c9123b",
            "3cfc572a06dd4d4dafce31b04f7d2a66",
            "c06fe4173e7f47679ff7ffe23df4f317",
            "0cc26733c46e403485bf55d05018c748"
          ]
        },
        "id": "I2imiXQJLAHV",
        "outputId": "ddf937c5-12fa-4d4a-8cde-32110243563f"
      },
      "outputs": [
        {
          "name": "stderr",
          "output_type": "stream",
          "text": [
            "/usr/local/lib/python3.11/site-packages/huggingface_hub/file_download.py:1132: FutureWarning: `resume_download` is deprecated and will be removed in version 1.0.0. Downloads always resume when possible. If you want to force a new download, use `force_download=True`.\n",
            "  warnings.warn(\n"
          ]
        },
        {
          "name": "stdout",
          "output_type": "stream",
          "text": [
            "Loaded pretrained model gpt2-small into HookedTransformer\n"
          ]
        }
      ],
      "source": [
        "from transformer_lens import utils, HookedTransformer\n",
        "model = HookedTransformer.from_pretrained(\n",
        "    \"gpt2-small\",\n",
        "    center_unembed=True,\n",
        "    center_writing_weights=True,\n",
        "    fold_ln=True,\n",
        "    refactor_factored_attn_matrices=True,\n",
        ")"
      ]
    },
    {
      "cell_type": "code",
      "execution_count": 3,
      "metadata": {
        "id": "MXZBR5sDPabk"
      },
      "outputs": [],
      "source": [
        "import torch as t\n",
        "from torch import Tensor\n",
        "from typing import List, Union, Optional\n",
        "import plotly.express as px\n",
        "import plotly.graph_objects as go\n",
        "from plotly.subplots import make_subplots\n",
        "import numpy as np\n",
        "import re\n",
        "from typing import Dict\n",
        "import pandas as pd\n",
        "from jaxtyping import Float\n",
        "import einops\n",
        "\n",
        "\n",
        "def to_numpy(tensor):\n",
        "    \"\"\"\n",
        "    Helper function to convert a tensor to a numpy array. Also works on lists, tuples, and numpy arrays.\n",
        "    \"\"\"\n",
        "    if isinstance(tensor, np.ndarray):\n",
        "        return tensor\n",
        "    elif isinstance(tensor, (list, tuple)):\n",
        "        array = np.array(tensor)\n",
        "        return array\n",
        "    elif isinstance(tensor, (t.Tensor, t.nn.parameter.Parameter)):\n",
        "        return tensor.detach().cpu().numpy()\n",
        "    elif isinstance(tensor, (int, float, bool, str)):\n",
        "        return np.array(tensor)\n",
        "    else:\n",
        "        raise ValueError(f\"Input to to_numpy has invalid type: {type(tensor)}\")\n",
        "\n",
        "\n",
        "# GENERIC PLOTTING FUNCTIONS\n",
        "\n",
        "update_layout_set = {\"xaxis_range\", \"yaxis_range\", \"hovermode\", \"xaxis_title\", \"yaxis_title\", \"colorbar\", \"colorscale\", \"coloraxis\", \"title_x\", \"bargap\", \"bargroupgap\", \"xaxis_tickformat\", \"yaxis_tickformat\", \"title_y\", \"legend_title_text\", \"xaxis_showgrid\", \"xaxis_gridwidth\", \"xaxis_gridcolor\", \"yaxis_showgrid\", \"yaxis_gridwidth\", \"yaxis_gridcolor\", \"showlegend\", \"xaxis_tickmode\", \"yaxis_tickmode\", \"margin\", \"xaxis_visible\", \"yaxis_visible\", \"bargap\", \"bargroupgap\", \"coloraxis_showscale\", \"xaxis_tickangle\", \"yaxis_scaleanchor\", \"xaxis_tickfont\", \"yaxis_tickfont\"}\n",
        "\n",
        "update_traces_set = {\"textposition\"}\n",
        "\n",
        "def imshow(tensor: t.Tensor, renderer=None, **kwargs):\n",
        "    kwargs_post = {k: v for k, v in kwargs.items() if k in update_layout_set}\n",
        "    kwargs_pre = {k: v for k, v in kwargs.items() if k not in update_layout_set}\n",
        "    if (\"size\" in kwargs_pre) or (\"shape\" in kwargs_pre):\n",
        "        size = kwargs_pre.pop(\"size\", None) or kwargs_pre.pop(\"shape\", None)\n",
        "        kwargs_pre[\"height\"], kwargs_pre[\"width\"] = size\n",
        "    facet_labels = kwargs_pre.pop(\"facet_labels\", None)\n",
        "    border = kwargs_pre.pop(\"border\", False)\n",
        "    return_fig = kwargs_pre.pop(\"return_fig\", False)\n",
        "    text = kwargs_pre.pop(\"text\", None)\n",
        "    xaxis_tickangle = kwargs_post.pop(\"xaxis_tickangle\", None)\n",
        "    # xaxis_tickfont = kwargs_post.pop(\"xaxis_tickangle\", None)\n",
        "    static = kwargs_pre.pop(\"static\", False)\n",
        "    if \"color_continuous_scale\" not in kwargs_pre:\n",
        "        kwargs_pre[\"color_continuous_scale\"] = \"RdBu\"\n",
        "    if \"color_continuous_midpoint\" not in kwargs_pre:\n",
        "        kwargs_pre[\"color_continuous_midpoint\"] = 0.0\n",
        "    if \"margin\" in kwargs_post and isinstance(kwargs_post[\"margin\"], int):\n",
        "        kwargs_post[\"margin\"] = dict.fromkeys(list(\"tblr\"), kwargs_post[\"margin\"])\n",
        "    fig = px.imshow(to_numpy(tensor), **kwargs_pre).update_layout(**kwargs_post)\n",
        "    if facet_labels:\n",
        "        # Weird thing where facet col wrap means labels are in wrong order\n",
        "        if \"facet_col_wrap\" in kwargs_pre:\n",
        "            facet_labels = reorder_list_in_plotly_way(facet_labels, kwargs_pre[\"facet_col_wrap\"])\n",
        "        for i, label in enumerate(facet_labels):\n",
        "            fig.layout.annotations[i]['text'] = label\n",
        "    if border:\n",
        "        fig.update_xaxes(showline=True, linewidth=1, linecolor='black', mirror=True)\n",
        "        fig.update_yaxes(showline=True, linewidth=1, linecolor='black', mirror=True)\n",
        "    if text:\n",
        "        if tensor.ndim == 2:\n",
        "            # if 2D, then we assume text is a list of lists of strings\n",
        "            assert isinstance(text[0], list)\n",
        "            assert isinstance(text[0][0], str)\n",
        "            text = [text]\n",
        "        else:\n",
        "            # if 3D, then text is either repeated for each facet, or different\n",
        "            assert isinstance(text[0], list)\n",
        "            if isinstance(text[0][0], str):\n",
        "                text = [text for _ in range(len(fig.data))]\n",
        "        for i, _text in enumerate(text):\n",
        "            fig.data[i].update(\n",
        "                text=_text,\n",
        "                texttemplate=\"%{text}\",\n",
        "                textfont={\"size\": 12}\n",
        "            )\n",
        "    # Very hacky way of fixing the fact that updating layout with xaxis_* only applies to first facet by default\n",
        "    if xaxis_tickangle is not None:\n",
        "        n_facets = 1 if tensor.ndim == 2 else tensor.shape[0]\n",
        "        for i in range(1, 1+n_facets):\n",
        "            xaxis_name = \"xaxis\" if i == 1 else f\"xaxis{i}\"\n",
        "            fig.layout[xaxis_name][\"tickangle\"] = xaxis_tickangle\n",
        "    return fig if return_fig else fig.show(renderer=renderer, config={\"staticPlot\": static})\n",
        "\n",
        "\n",
        "def reorder_list_in_plotly_way(L: list, col_wrap: int):\n",
        "    '''\n",
        "    Helper function, because Plotly orders figures in an annoying way when there's column wrap.\n",
        "    '''\n",
        "    L_new = []\n",
        "    while len(L) > 0:\n",
        "        L_new.extend(L[-col_wrap:])\n",
        "        L = L[:-col_wrap]\n",
        "    return L_new\n",
        "\n",
        "\n",
        "def line(y: Union[t.Tensor, List[t.Tensor]], renderer=None, **kwargs):\n",
        "    '''\n",
        "    Edit to this helper function, allowing it to take args in update_layout (e.g. yaxis_range).\n",
        "    '''\n",
        "    kwargs_post = {k: v for k, v in kwargs.items() if k in update_layout_set}\n",
        "    kwargs_pre = {k: v for k, v in kwargs.items() if k not in update_layout_set}\n",
        "    if (\"size\" in kwargs_pre) or (\"shape\" in kwargs_pre):\n",
        "        size = kwargs_pre.pop(\"size\", None) or kwargs_pre.pop(\"shape\", None)\n",
        "        kwargs_pre[\"height\"], kwargs_pre[\"width\"] = size\n",
        "    return_fig = kwargs_pre.pop(\"return_fig\", False)\n",
        "    if \"margin\" in kwargs_post and isinstance(kwargs_post[\"margin\"], int):\n",
        "        kwargs_post[\"margin\"] = dict.fromkeys(list(\"tblr\"), kwargs_post[\"margin\"])\n",
        "    if \"xaxis_tickvals\" in kwargs_pre:\n",
        "        tickvals = kwargs_pre.pop(\"xaxis_tickvals\")\n",
        "        kwargs_post[\"xaxis\"] = dict(\n",
        "            tickmode = \"array\",\n",
        "            tickvals = kwargs_pre.get(\"x\", np.arange(len(tickvals))),\n",
        "            ticktext = tickvals\n",
        "        )\n",
        "    if \"hovermode\" not in kwargs_post:\n",
        "        kwargs_post[\"hovermode\"] = \"x unified\"\n",
        "    if \"use_secondary_yaxis\" in kwargs_pre and kwargs_pre[\"use_secondary_yaxis\"]:\n",
        "        del kwargs_pre[\"use_secondary_yaxis\"]\n",
        "        if \"labels\" in kwargs_pre:\n",
        "            labels: dict = kwargs_pre.pop(\"labels\")\n",
        "            kwargs_post[\"yaxis_title_text\"] = labels.get(\"y1\", None)\n",
        "            kwargs_post[\"yaxis2_title_text\"] = labels.get(\"y2\", None)\n",
        "            kwargs_post[\"xaxis_title_text\"] = labels.get(\"x\", None)\n",
        "        for k in [\"title\", \"template\", \"width\", \"height\"]:\n",
        "            if k in kwargs_pre:\n",
        "                kwargs_post[k] = kwargs_pre.pop(k)\n",
        "        fig = make_subplots(specs=[[{\"secondary_y\": True}]]).update_layout(**kwargs_post)\n",
        "        y0 = to_numpy(y[0])\n",
        "        y1 = to_numpy(y[1])\n",
        "        x0, x1 = kwargs_pre.pop(\"x\", [np.arange(len(y0)), np.arange(len(y1))])\n",
        "        name0, name1 = kwargs_pre.pop(\"names\", [\"yaxis1\", \"yaxis2\"])\n",
        "        fig.add_trace(go.Scatter(y=y0, x=x0, name=name0), secondary_y=False)\n",
        "        fig.add_trace(go.Scatter(y=y1, x=x1, name=name1), secondary_y=True)\n",
        "    else:\n",
        "        y = list(map(to_numpy, y)) if isinstance(y, list) and not (isinstance(y[0], int) or isinstance(y[0], float)) else to_numpy(y)\n",
        "        names = kwargs_pre.pop(\"names\", None)\n",
        "        fig = px.line(y=y, **kwargs_pre).update_layout(**kwargs_post)\n",
        "        if names is not None:\n",
        "            fig.for_each_trace(lambda trace: trace.update(name=names.pop(0)))\n",
        "    return fig if return_fig else fig.show(renderer=renderer)\n",
        "\n",
        "\n",
        "def scatter(x, y, renderer=None, **kwargs):\n",
        "    x = to_numpy(x)\n",
        "    y = to_numpy(y)\n",
        "    add_line = None\n",
        "    if \"add_line\" in kwargs:\n",
        "        add_line = kwargs.pop(\"add_line\")\n",
        "    kwargs_post = {k: v for k, v in kwargs.items() if k in update_layout_set}\n",
        "    kwargs_traces = {k: v for k, v in kwargs.items() if k in update_traces_set}\n",
        "    kwargs_pre = {k: v for k, v in kwargs.items() if k not in (update_layout_set | update_traces_set)}\n",
        "    if (\"size\" in kwargs_pre) or (\"shape\" in kwargs_pre):\n",
        "        size = kwargs_pre.pop(\"size\", None) or kwargs_pre.pop(\"shape\", None)\n",
        "        kwargs_pre[\"height\"], kwargs_pre[\"width\"] = size\n",
        "    return_fig = kwargs_pre.pop(\"return_fig\", False)\n",
        "    facet_labels = kwargs_pre.pop(\"facet_labels\", None)\n",
        "    if \"margin\" in kwargs_post and isinstance(kwargs_post[\"margin\"], int):\n",
        "        kwargs_post[\"margin\"] = dict.fromkeys(list(\"tblr\"), kwargs_post[\"margin\"])\n",
        "    fig = px.scatter(y=y, x=x, **kwargs_pre).update_layout(**kwargs_post)\n",
        "    if add_line is not None:\n",
        "        xrange = fig.layout.xaxis.range or [x.min(), x.max()]\n",
        "        yrange = fig.layout.yaxis.range or [y.min(), y.max()]\n",
        "        add_line = add_line.replace(\" \", \"\")\n",
        "        if add_line in [\"x=y\", \"y=x\"]:\n",
        "            fig.add_trace(go.Scatter(mode='lines', x=xrange, y=xrange, showlegend=False))\n",
        "        elif re.match(\"(x|y)=\", add_line):\n",
        "            try: c = float(add_line.split(\"=\")[1])\n",
        "            except: raise ValueError(f\"Unrecognized add_line: {add_line}. Please use either 'x=y' or 'x=c' or 'y=c' for some float c.\")\n",
        "            x, y = ([c, c], yrange) if add_line[0] == \"x\" else (xrange, [c, c])\n",
        "            fig.add_trace(go.Scatter(mode='lines', x=x, y=y, showlegend=False))\n",
        "        else:\n",
        "            raise ValueError(f\"Unrecognized add_line: {add_line}. Please use either 'x=y' or 'x=c' or 'y=c' for some float c.\")\n",
        "    if facet_labels:\n",
        "        for i, label in enumerate(facet_labels):\n",
        "            fig.layout.annotations[i]['text'] = label\n",
        "    fig.update_traces(**kwargs_traces)\n",
        "    return fig if return_fig else fig.show(renderer=renderer)\n",
        "\n",
        "\n",
        "def bar(tensor, renderer=None, **kwargs):\n",
        "    '''\n",
        "    '''\n",
        "    if isinstance(tensor, list):\n",
        "        if isinstance(tensor[0], t.Tensor): arr = [to_numpy(tn) for tn in tensor]\n",
        "        elif isinstance(tensor[0], list): arr = [np.array(tn) for tn in tensor]\n",
        "        else: arr = np.array(tensor)\n",
        "    else:\n",
        "        arr = to_numpy(tensor)\n",
        "    kwargs_post = {k: v for k, v in kwargs.items() if k in update_layout_set}\n",
        "    kwargs_pre = {k: v for k, v in kwargs.items() if k not in update_layout_set}\n",
        "    return_fig = kwargs_pre.pop(\"return_fig\", False)\n",
        "    names = kwargs_pre.pop(\"names\", None)\n",
        "    if \"hovermode\" not in kwargs_post:\n",
        "        kwargs_post[\"hovermode\"] = \"x unified\"\n",
        "    if \"margin\" in kwargs_post and isinstance(kwargs_post[\"margin\"], int):\n",
        "        kwargs_post[\"margin\"] = dict.fromkeys(list(\"tblr\"), kwargs_post[\"margin\"])\n",
        "    fig = px.bar(y=arr, **kwargs_pre).update_layout(**kwargs_post)\n",
        "    if names is not None:\n",
        "        for i in range(len(fig.data)):\n",
        "            fig.data[i][\"name\"] = names[i // 2 if \"marginal\" in kwargs_pre else i]\n",
        "    return fig if return_fig else fig.show(renderer=renderer)\n",
        "\n",
        "\n",
        "def hist(tensor, renderer=None, **kwargs):\n",
        "    kwargs_post = {k: v for k, v in kwargs.items() if k in update_layout_set}\n",
        "    kwargs_pre = {k: v for k, v in kwargs.items() if k not in update_layout_set}\n",
        "    draw = kwargs_pre.pop(\"draw\", True)\n",
        "    static = kwargs_pre.pop(\"static\", False)\n",
        "    return_fig = kwargs_pre.pop(\"return_fig\", False)\n",
        "    if isinstance(tensor, list):\n",
        "        if isinstance(tensor[0], t.Tensor): arr = [to_numpy(tn) for tn in tensor]\n",
        "        elif isinstance(tensor[0], list): arr = [np.array(tn) for tn in tensor]\n",
        "        else: arr = np.array(tensor)\n",
        "    else:\n",
        "        arr = to_numpy(tensor)\n",
        "    if \"modebar_add\" not in kwargs_post:\n",
        "        kwargs_post[\"modebar_add\"] = ['drawline', 'drawopenpath', 'drawclosedpath', 'drawcircle', 'drawrect', 'eraseshape']\n",
        "    add_mean_line = kwargs_pre.pop(\"add_mean_line\", False)\n",
        "    names = kwargs_pre.pop(\"names\", None)\n",
        "    if \"barmode\" not in kwargs_post:\n",
        "        kwargs_post[\"barmode\"] = \"overlay\"\n",
        "    if \"bargap\" not in kwargs_post:\n",
        "        kwargs_post[\"bargap\"] = 0.0\n",
        "    if \"margin\" in kwargs_post and isinstance(kwargs_post[\"margin\"], int):\n",
        "        kwargs_post[\"margin\"] = dict.fromkeys(list(\"tblr\"), kwargs_post[\"margin\"])\n",
        "    if \"hovermode\" not in kwargs_post:\n",
        "        kwargs_post[\"hovermode\"] = \"x unified\"\n",
        "    if \"autosize\" not in kwargs_post:\n",
        "        kwargs_post[\"autosize\"] = False\n",
        "\n",
        "    # If `arr` has a list of arrays, then just doing px.histogram doesn't work annoyingly enough\n",
        "    # This is janky, even for my functions!\n",
        "    if isinstance(arr, list) and isinstance(arr[0], np.ndarray):\n",
        "        assert \"marginal\" not in kwargs_pre, \"Can't use `marginal` with a list of arrays\"\n",
        "        for thing_to_move_from_pre_to_post in [\"title\", \"template\", \"height\", \"width\", \"labels\"]:\n",
        "            if thing_to_move_from_pre_to_post in kwargs_pre:\n",
        "                kwargs_post[thing_to_move_from_pre_to_post] = kwargs_pre.pop(thing_to_move_from_pre_to_post)\n",
        "        if \"labels\" in kwargs_post:\n",
        "            kwargs_post[\"xaxis_title_text\"] = kwargs_post[\"labels\"].get(\"x\", \"\")\n",
        "            kwargs_post[\"yaxis_title_text\"] = kwargs_post[\"labels\"].get(\"y\", \"\")\n",
        "            del kwargs_post[\"labels\"]\n",
        "        fig = go.Figure(layout=go.Layout(**kwargs_post))\n",
        "        if \"nbins\" in kwargs_pre:\n",
        "            kwargs_pre[\"nbinsx\"] = int(kwargs_pre.pop(\"nbins\"))\n",
        "        for x in arr:\n",
        "            fig.add_trace(go.Histogram(x=x, name=names.pop(0) if names is not None else None, **kwargs_pre))\n",
        "    else:\n",
        "        fig = px.histogram(x=arr, **kwargs_pre).update_layout(**kwargs_post)\n",
        "        if names is not None:\n",
        "            for i in range(len(fig.data)):\n",
        "                fig.data[i][\"name\"] = names[i // 2 if \"marginal\" in kwargs_pre else i]\n",
        "\n",
        "    if add_mean_line:\n",
        "        if arr.ndim == 1:\n",
        "            fig.add_vline(x=arr.mean(), line_width=3, line_dash=\"dash\", line_color=\"black\", annotation_text=f\"Mean = {arr.mean():.3f}\", annotation_position=\"top\")\n",
        "        elif arr.ndim == 2:\n",
        "            for i in range(arr.shape[0]):\n",
        "                fig.add_vline(x=arr[i].mean(), line_width=3, line_dash=\"dash\", line_color=\"black\", annotation_text=f\"Mean = {arr.mean():.3f}\", annotation_position=\"top\")\n",
        "    return fig if return_fig else fig.show(renderer=renderer)\n"
      ]
    },
    {
      "cell_type": "code",
      "execution_count": 4,
      "metadata": {
        "colab": {
          "base_uri": "https://localhost:8080/"
        },
        "id": "6L0DhUWpUfMM",
        "outputId": "712d3572-b51a-4d06-e73e-0da74397cfcf"
      },
      "outputs": [
        {
          "name": "stdout",
          "output_type": "stream",
          "text": [
            "['<|endoftext|>', 'a', ' short', ' story']\n"
          ]
        }
      ],
      "source": [
        "_, cache = model.run_with_cache(\"a short story\")\n",
        "tokens = model.to_str_tokens(\"a short story\")\n",
        "print(tokens)"
      ]
    },
    {
      "cell_type": "code",
      "execution_count": 5,
      "metadata": {
        "colab": {
          "base_uri": "https://localhost:8080/",
          "height": 515
        },
        "id": "DtS4BgnZe2sC",
        "outputId": "4ae50e53-0536-45ab-8d0f-092b7a47bb8d"
      },
      "outputs": [
        {
          "name": "stdout",
          "output_type": "stream",
          "text": [
            "<class 'transformer_lens.ActivationCache.ActivationCache'>\n",
            "torch.Size([12, 4, 4])\n",
            "Layer 0 Head Attention Patterns:\n"
          ]
        },
        {
          "data": {
            "text/html": [
              "<div id=\"circuits-vis-453acbee-fa95\" style=\"margin: 15px 0;\"/>\n",
              "    <script crossorigin type=\"module\">\n",
              "    import { render, AttentionPatterns } from \"https://unpkg.com/circuitsvis@1.43.2/dist/cdn/esm.js\";\n",
              "    render(\n",
              "      \"circuits-vis-453acbee-fa95\",\n",
              "      AttentionPatterns,\n",
              "      {\"tokens\": [\"<|endoftext|>\", \"a\", \" short\", \" story\"], \"attention\": [[[1.0, 0.0, 0.0, 0.0], [0.965950071811676, 0.0340498648583889, 0.0, 0.0], [0.8551296591758728, 0.09631304442882538, 0.048557255417108536, 0.0], [0.7435620427131653, 0.06817011535167694, 0.1294507384300232, 0.05881717801094055]], [[1.0, 0.0, 0.0, 0.0], [0.0005832120077684522, 0.9994168281555176, 0.0, 0.0], [0.00024492983357049525, 0.003418900538235903, 0.9963362216949463, 0.0], [0.001096974709071219, 0.0021310378797352314, 0.0013434512075036764, 0.9954284429550171]], [[1.0, 0.0, 0.0, 0.0], [0.962992787361145, 0.03700724244117737, 0.0, 0.0], [0.891443133354187, 0.08020476251840591, 0.02835214138031006, 0.0], [0.7352575659751892, 0.06921714544296265, 0.03173469752073288, 0.1637904942035675]], [[1.0, 0.0, 0.0, 0.0], [0.2273915559053421, 0.7726083993911743, 0.0, 0.0], [0.013332022354006767, 0.0014146948233246803, 0.9852532744407654, 0.0], [0.03250623866915703, 0.002394450595602393, 0.032984886318445206, 0.9321144819259644]], [[1.0, 0.0, 0.0, 0.0], [0.7211878895759583, 0.27881214022636414, 0.0, 0.0], [0.2540353536605835, 0.047584403306245804, 0.6983802914619446, 0.0], [0.08595381677150726, 0.0160937812179327, 0.7975467443466187, 0.10040555149316788]], [[1.0, 0.0, 0.0, 0.0], [0.39477890729904175, 0.605221152305603, 0.0, 0.0], [0.1758696436882019, 0.0004316445847507566, 0.8236986398696899, 0.0], [0.058016303926706314, 0.00021268537966534495, 8.565820462536067e-05, 0.9416853189468384]], [[1.0, 0.0, 0.0, 0.0], [0.9797960519790649, 0.020204000174999237, 0.0, 0.0], [0.8133931159973145, 0.06199503317475319, 0.12461184710264206, 0.0], [0.489500492811203, 0.050587743520736694, 0.24935948848724365, 0.21055229008197784]], [[1.0, 0.0, 0.0, 0.0], [0.96504807472229, 0.03495194762945175, 0.0, 0.0], [0.6027956008911133, 0.2945456802845001, 0.10265864431858063, 0.0], [0.4464639723300934, 0.24468126893043518, 0.09708622097969055, 0.21176853775978088]], [[1.0, 0.0, 0.0, 0.0], [0.7199364304542542, 0.28006353974342346, 0.0, 0.0], [0.714931309223175, 0.20071934163570404, 0.08434926718473434, 0.0], [0.6301918029785156, 0.17868472635746002, 0.12463491410017014, 0.06648854166269302]], [[1.0, 0.0, 0.0, 0.0], [0.8803151845932007, 0.1196848452091217, 0.0, 0.0], [0.8155229687690735, 0.13128121197223663, 0.053195830434560776, 0.0], [0.7577752470970154, 0.11556415259838104, 0.07281723618507385, 0.05384344607591629]], [[1.0, 0.0, 0.0, 0.0], [0.7654069662094116, 0.2345929890871048, 0.0, 0.0], [0.6167733669281006, 0.11942430585622787, 0.26380226016044617, 0.0], [0.5156411528587341, 0.128149151802063, 0.06939615309238434, 0.28681352734565735]], [[1.0, 0.0, 0.0, 0.0], [0.8830944895744324, 0.11690548062324524, 0.0, 0.0], [0.8360623121261597, 0.04451519623398781, 0.11942245066165924, 0.0], [0.7309620380401611, 0.029096048325300217, 0.15255263447761536, 0.08738929033279419]]]}\n",
              "    )\n",
              "    </script>"
            ],
            "text/plain": [
              "<circuitsvis.utils.render.RenderedHTML at 0x147970910>"
            ]
          },
          "metadata": {},
          "output_type": "display_data"
        }
      ],
      "source": [
        "import circuitsvis as cv\n",
        "\n",
        "print(type(cache))\n",
        "attention_pattern = cache[\"pattern\", 0][0]\n",
        "print(attention_pattern.shape)\n",
        "str_tokens = model.to_str_tokens(\"a short story\")\n",
        "\n",
        "print(\"Layer 0 Head Attention Patterns:\")\n",
        "display(cv.attention.attention_patterns(\n",
        "    tokens=str_tokens,\n",
        "    attention=attention_pattern,\n",
        "    # attention_head_names=[f\"L0H{i}\" for i in range(12)],\n",
        "))"
      ]
    },
    {
      "cell_type": "markdown",
      "metadata": {
        "id": "1nPxJIO9Z3sa"
      },
      "source": [
        "We will use the function cv.attention.attention_patterns, which takes two important arguments:\n",
        "\n",
        "attention: Attention head activations.\n",
        "This should be a tensor of shape [nhead, seq_dest, seq_src], i.e. the [i, :, :]th element is the grid of attention patterns (probabilities) for the ith attention head.\n",
        "We get this by indexing our gpt2_cache object."
      ]
    },
    {
      "cell_type": "code",
      "execution_count": 22,
      "metadata": {
        "colab": {
          "base_uri": "https://localhost:8080/"
        },
        "id": "mz6nHP1dU5d9",
        "outputId": "1a0eda6d-a29c-4207-d01d-29425181c615"
      },
      "outputs": [
        {
          "name": "stdout",
          "output_type": "stream",
          "text": [
            "['<|endoftext|>', 'Mary', ' and', ' John', ' went', ' to', ' the', ' store', '.', ' John', ' gave', ' the', ' cart', ' to']\n",
            "torch.Size([1, 12, 14, 14])\n",
            "torch.Size([12, 12, 13, 13])\n"
          ]
        }
      ],
      "source": [
        "_, cache = model.run_with_cache(\"Mary and John went to the store. John gave the cart to\")\n",
        "tokens = model.to_str_tokens(\"Mary and John went to the store. John gave the cart to\")\n",
        "print(tokens)\n",
        "\n",
        "batch = 0\n",
        "print(cache[\"pattern\", 0].shape)\n",
        "\n",
        "activations = []\n",
        "\n",
        "## Get all the activations for every head in every layer\n",
        "for layer in range(model.cfg.n_layers):\n",
        "  # print(f\"layer {layer}\")\n",
        "  layer_activations = []\n",
        "  for head in range(model.cfg.n_heads):\n",
        "    # print(f\"head {head}\")\n",
        "    head_acts = cache[\"pattern\", layer][batch][head][1:, 1:] # getting the attention patterns for everything but the first <|endoftext|> token\n",
        "\n",
        "    layer_activations.append(head_acts)\n",
        "  layer_activations = t.stack(layer_activations)\n",
        "  activations.append(layer_activations)\n",
        "\n",
        "activations = t.stack(activations)\n",
        "\n",
        "print(activations.shape)"
      ]
    },
    {
      "cell_type": "code",
      "execution_count": 31,
      "metadata": {
        "colab": {
          "base_uri": "https://localhost:8080/",
          "height": 1000
        },
        "id": "gG9PkFpEdy-9",
        "outputId": "ef8ca5ca-bc43-4be8-ae0d-473e28d4c89a"
      },
      "outputs": [
        {
          "name": "stdout",
          "output_type": "stream",
          "text": [
            "['<|endoftext|>', 'Mary', ' and', ' John', ' went', ' to', ' the', ' store', '.', ' John', ' gave', ' the', ' cart', ' to']\n",
            "14\n"
          ]
        },
        {
          "name": "stderr",
          "output_type": "stream",
          "text": [
            "/var/folders/ny/hc9c812905l118ss_x5j9x380000gn/T/ipykernel_25228/3840749762.py:32: UserWarning:\n",
            "\n",
            "To copy construct from a tensor, it is recommended to use sourceTensor.clone().detach() or sourceTensor.clone().detach().requires_grad_(True), rather than torch.tensor(sourceTensor).\n",
            "\n"
          ]
        },
        {
          "name": "stdout",
          "output_type": "stream",
          "text": [
            "torch.Size([13, 13])\n",
            "tensor([[1.0000, 0.0000, 0.0000, 0.0000, 0.0000, 0.0000, 0.0000, 0.0000, 0.0000,\n",
            "         0.0000, 0.0000, 0.0000, 0.0000],\n",
            "        [0.6591, 0.3409, 0.0000, 0.0000, 0.0000, 0.0000, 0.0000, 0.0000, 0.0000,\n",
            "         0.0000, 0.0000, 0.0000, 0.0000],\n",
            "        [0.2722, 0.4561, 0.2717, 0.0000, 0.0000, 0.0000, 0.0000, 0.0000, 0.0000,\n",
            "         0.0000, 0.0000, 0.0000, 0.0000],\n",
            "        [0.1685, 0.2721, 0.2381, 0.3213, 0.0000, 0.0000, 0.0000, 0.0000, 0.0000,\n",
            "         0.0000, 0.0000, 0.0000, 0.0000],\n",
            "        [0.1234, 0.1405, 0.1601, 0.3444, 0.2315, 0.0000, 0.0000, 0.0000, 0.0000,\n",
            "         0.0000, 0.0000, 0.0000, 0.0000],\n",
            "        [0.0894, 0.0987, 0.1007, 0.1867, 0.3586, 0.1659, 0.0000, 0.0000, 0.0000,\n",
            "         0.0000, 0.0000, 0.0000, 0.0000],\n",
            "        [0.0607, 0.0621, 0.0586, 0.1601, 0.2284, 0.2136, 0.2164, 0.0000, 0.0000,\n",
            "         0.0000, 0.0000, 0.0000, 0.0000],\n",
            "        [0.1507, 0.0831, 0.1294, 0.1061, 0.1053, 0.0793, 0.1472, 0.1988, 0.0000,\n",
            "         0.0000, 0.0000, 0.0000, 0.0000],\n",
            "        [0.0497, 0.0748, 0.0829, 0.1172, 0.0710, 0.0478, 0.0944, 0.3014, 0.1607,\n",
            "         0.0000, 0.0000, 0.0000, 0.0000],\n",
            "        [0.1087, 0.0506, 0.0760, 0.0531, 0.0670, 0.0480, 0.0657, 0.1761, 0.2096,\n",
            "         0.1452, 0.0000, 0.0000, 0.0000],\n",
            "        [0.0593, 0.0465, 0.0456, 0.0417, 0.0476, 0.0411, 0.1128, 0.1187, 0.0943,\n",
            "         0.2721, 0.1204, 0.0000, 0.0000],\n",
            "        [0.0310, 0.0273, 0.0234, 0.0398, 0.0477, 0.0389, 0.0548, 0.1022, 0.0524,\n",
            "         0.2051, 0.2055, 0.1719, 0.0000],\n",
            "        [0.1118, 0.0394, 0.0495, 0.0296, 0.0368, 0.0262, 0.0323, 0.0810, 0.0838,\n",
            "         0.1426, 0.0936, 0.1492, 0.1242]], device='mps:0')\n",
            "Token 0: Mary\n",
            "Token 1:  and\n",
            "Token 2:  John\n",
            "Token 3:  went\n",
            "Token 4:  to\n",
            "Token 5:  the\n",
            "Token 6:  store\n",
            "Token 7: .\n",
            "Token 8:  John\n",
            "Token 9:  gave\n",
            "Token 10:  the\n",
            "Token 11:  cart\n",
            "Token 12:  to\n"
          ]
        },
        {
          "data": {
            "application/vnd.plotly.v1+json": {
              "config": {
                "plotlyServerURL": "https://plot.ly",
                "staticPlot": false
              },
              "data": [
                {
                  "coloraxis": "coloraxis",
                  "hovertemplate": "Sequence position: %{x}<br>Token position: %{y}<br>color: %{z}<extra></extra>",
                  "name": "0",
                  "texttemplate": "%{z:.2f}",
                  "type": "heatmap",
                  "xaxis": "x",
                  "yaxis": "y",
                  "z": [
                    [
                      0.99999994,
                      0,
                      0,
                      0,
                      0,
                      0,
                      0,
                      0,
                      0,
                      0,
                      0,
                      0,
                      0
                    ],
                    [
                      0.659133,
                      0.3408669,
                      0,
                      0,
                      0,
                      0,
                      0,
                      0,
                      0,
                      0,
                      0,
                      0,
                      0
                    ],
                    [
                      0.27224523,
                      0.4560576,
                      0.27169716,
                      0,
                      0,
                      0,
                      0,
                      0,
                      0,
                      0,
                      0,
                      0,
                      0
                    ],
                    [
                      0.16850035,
                      0.27209166,
                      0.2381473,
                      0.32126063,
                      0,
                      0,
                      0,
                      0,
                      0,
                      0,
                      0,
                      0,
                      0
                    ],
                    [
                      0.12340489,
                      0.14051838,
                      0.1601019,
                      0.34443155,
                      0.23154323,
                      0,
                      0,
                      0,
                      0,
                      0,
                      0,
                      0,
                      0
                    ],
                    [
                      0.089375146,
                      0.09872718,
                      0.10074092,
                      0.18672116,
                      0.35857362,
                      0.16586192,
                      0,
                      0,
                      0,
                      0,
                      0,
                      0,
                      0
                    ],
                    [
                      0.06074036,
                      0.062118452,
                      0.058558337,
                      0.16014664,
                      0.22837883,
                      0.21364371,
                      0.21641365,
                      0,
                      0,
                      0,
                      0,
                      0,
                      0
                    ],
                    [
                      0.1507024,
                      0.0831285,
                      0.12944706,
                      0.106105976,
                      0.10527035,
                      0.07930917,
                      0.14721671,
                      0.19881979,
                      0,
                      0,
                      0,
                      0,
                      0
                    ],
                    [
                      0.04968941,
                      0.07483981,
                      0.08293544,
                      0.11722717,
                      0.07095038,
                      0.047848184,
                      0.09441512,
                      0.30143496,
                      0.16065945,
                      0,
                      0,
                      0,
                      0
                    ],
                    [
                      0.10865702,
                      0.05064569,
                      0.076047726,
                      0.05307643,
                      0.06697446,
                      0.048032697,
                      0.06573226,
                      0.17607932,
                      0.20956008,
                      0.14519419,
                      0,
                      0,
                      0
                    ],
                    [
                      0.05932807,
                      0.04649112,
                      0.04556794,
                      0.04165749,
                      0.047580566,
                      0.041098677,
                      0.11276224,
                      0.11869958,
                      0.09431503,
                      0.2721388,
                      0.12036045,
                      0,
                      0
                    ],
                    [
                      0.030954339,
                      0.027333131,
                      0.023404984,
                      0.03979009,
                      0.047678407,
                      0.03888754,
                      0.05484312,
                      0.10221518,
                      0.052411195,
                      0.20509234,
                      0.20553115,
                      0.17185844,
                      0
                    ],
                    [
                      0.11176813,
                      0.03940239,
                      0.049545143,
                      0.02960902,
                      0.03684773,
                      0.026197335,
                      0.032254715,
                      0.08099926,
                      0.08379444,
                      0.14263664,
                      0.09355826,
                      0.14919813,
                      0.12418875
                    ]
                  ]
                }
              ],
              "layout": {
                "coloraxis": {
                  "cmid": 0,
                  "colorscale": [
                    [
                      0,
                      "rgb(103,0,31)"
                    ],
                    [
                      0.1,
                      "rgb(178,24,43)"
                    ],
                    [
                      0.2,
                      "rgb(214,96,77)"
                    ],
                    [
                      0.3,
                      "rgb(244,165,130)"
                    ],
                    [
                      0.4,
                      "rgb(253,219,199)"
                    ],
                    [
                      0.5,
                      "rgb(247,247,247)"
                    ],
                    [
                      0.6,
                      "rgb(209,229,240)"
                    ],
                    [
                      0.7,
                      "rgb(146,197,222)"
                    ],
                    [
                      0.8,
                      "rgb(67,147,195)"
                    ],
                    [
                      0.9,
                      "rgb(33,102,172)"
                    ],
                    [
                      1,
                      "rgb(5,48,97)"
                    ]
                  ]
                },
                "height": 600,
                "template": {
                  "data": {
                    "bar": [
                      {
                        "error_x": {
                          "color": "#2a3f5f"
                        },
                        "error_y": {
                          "color": "#2a3f5f"
                        },
                        "marker": {
                          "line": {
                            "color": "#E5ECF6",
                            "width": 0.5
                          },
                          "pattern": {
                            "fillmode": "overlay",
                            "size": 10,
                            "solidity": 0.2
                          }
                        },
                        "type": "bar"
                      }
                    ],
                    "barpolar": [
                      {
                        "marker": {
                          "line": {
                            "color": "#E5ECF6",
                            "width": 0.5
                          },
                          "pattern": {
                            "fillmode": "overlay",
                            "size": 10,
                            "solidity": 0.2
                          }
                        },
                        "type": "barpolar"
                      }
                    ],
                    "carpet": [
                      {
                        "aaxis": {
                          "endlinecolor": "#2a3f5f",
                          "gridcolor": "white",
                          "linecolor": "white",
                          "minorgridcolor": "white",
                          "startlinecolor": "#2a3f5f"
                        },
                        "baxis": {
                          "endlinecolor": "#2a3f5f",
                          "gridcolor": "white",
                          "linecolor": "white",
                          "minorgridcolor": "white",
                          "startlinecolor": "#2a3f5f"
                        },
                        "type": "carpet"
                      }
                    ],
                    "choropleth": [
                      {
                        "colorbar": {
                          "outlinewidth": 0,
                          "ticks": ""
                        },
                        "type": "choropleth"
                      }
                    ],
                    "contour": [
                      {
                        "colorbar": {
                          "outlinewidth": 0,
                          "ticks": ""
                        },
                        "colorscale": [
                          [
                            0,
                            "#0d0887"
                          ],
                          [
                            0.1111111111111111,
                            "#46039f"
                          ],
                          [
                            0.2222222222222222,
                            "#7201a8"
                          ],
                          [
                            0.3333333333333333,
                            "#9c179e"
                          ],
                          [
                            0.4444444444444444,
                            "#bd3786"
                          ],
                          [
                            0.5555555555555556,
                            "#d8576b"
                          ],
                          [
                            0.6666666666666666,
                            "#ed7953"
                          ],
                          [
                            0.7777777777777778,
                            "#fb9f3a"
                          ],
                          [
                            0.8888888888888888,
                            "#fdca26"
                          ],
                          [
                            1,
                            "#f0f921"
                          ]
                        ],
                        "type": "contour"
                      }
                    ],
                    "contourcarpet": [
                      {
                        "colorbar": {
                          "outlinewidth": 0,
                          "ticks": ""
                        },
                        "type": "contourcarpet"
                      }
                    ],
                    "heatmap": [
                      {
                        "colorbar": {
                          "outlinewidth": 0,
                          "ticks": ""
                        },
                        "colorscale": [
                          [
                            0,
                            "#0d0887"
                          ],
                          [
                            0.1111111111111111,
                            "#46039f"
                          ],
                          [
                            0.2222222222222222,
                            "#7201a8"
                          ],
                          [
                            0.3333333333333333,
                            "#9c179e"
                          ],
                          [
                            0.4444444444444444,
                            "#bd3786"
                          ],
                          [
                            0.5555555555555556,
                            "#d8576b"
                          ],
                          [
                            0.6666666666666666,
                            "#ed7953"
                          ],
                          [
                            0.7777777777777778,
                            "#fb9f3a"
                          ],
                          [
                            0.8888888888888888,
                            "#fdca26"
                          ],
                          [
                            1,
                            "#f0f921"
                          ]
                        ],
                        "type": "heatmap"
                      }
                    ],
                    "heatmapgl": [
                      {
                        "colorbar": {
                          "outlinewidth": 0,
                          "ticks": ""
                        },
                        "colorscale": [
                          [
                            0,
                            "#0d0887"
                          ],
                          [
                            0.1111111111111111,
                            "#46039f"
                          ],
                          [
                            0.2222222222222222,
                            "#7201a8"
                          ],
                          [
                            0.3333333333333333,
                            "#9c179e"
                          ],
                          [
                            0.4444444444444444,
                            "#bd3786"
                          ],
                          [
                            0.5555555555555556,
                            "#d8576b"
                          ],
                          [
                            0.6666666666666666,
                            "#ed7953"
                          ],
                          [
                            0.7777777777777778,
                            "#fb9f3a"
                          ],
                          [
                            0.8888888888888888,
                            "#fdca26"
                          ],
                          [
                            1,
                            "#f0f921"
                          ]
                        ],
                        "type": "heatmapgl"
                      }
                    ],
                    "histogram": [
                      {
                        "marker": {
                          "pattern": {
                            "fillmode": "overlay",
                            "size": 10,
                            "solidity": 0.2
                          }
                        },
                        "type": "histogram"
                      }
                    ],
                    "histogram2d": [
                      {
                        "colorbar": {
                          "outlinewidth": 0,
                          "ticks": ""
                        },
                        "colorscale": [
                          [
                            0,
                            "#0d0887"
                          ],
                          [
                            0.1111111111111111,
                            "#46039f"
                          ],
                          [
                            0.2222222222222222,
                            "#7201a8"
                          ],
                          [
                            0.3333333333333333,
                            "#9c179e"
                          ],
                          [
                            0.4444444444444444,
                            "#bd3786"
                          ],
                          [
                            0.5555555555555556,
                            "#d8576b"
                          ],
                          [
                            0.6666666666666666,
                            "#ed7953"
                          ],
                          [
                            0.7777777777777778,
                            "#fb9f3a"
                          ],
                          [
                            0.8888888888888888,
                            "#fdca26"
                          ],
                          [
                            1,
                            "#f0f921"
                          ]
                        ],
                        "type": "histogram2d"
                      }
                    ],
                    "histogram2dcontour": [
                      {
                        "colorbar": {
                          "outlinewidth": 0,
                          "ticks": ""
                        },
                        "colorscale": [
                          [
                            0,
                            "#0d0887"
                          ],
                          [
                            0.1111111111111111,
                            "#46039f"
                          ],
                          [
                            0.2222222222222222,
                            "#7201a8"
                          ],
                          [
                            0.3333333333333333,
                            "#9c179e"
                          ],
                          [
                            0.4444444444444444,
                            "#bd3786"
                          ],
                          [
                            0.5555555555555556,
                            "#d8576b"
                          ],
                          [
                            0.6666666666666666,
                            "#ed7953"
                          ],
                          [
                            0.7777777777777778,
                            "#fb9f3a"
                          ],
                          [
                            0.8888888888888888,
                            "#fdca26"
                          ],
                          [
                            1,
                            "#f0f921"
                          ]
                        ],
                        "type": "histogram2dcontour"
                      }
                    ],
                    "mesh3d": [
                      {
                        "colorbar": {
                          "outlinewidth": 0,
                          "ticks": ""
                        },
                        "type": "mesh3d"
                      }
                    ],
                    "parcoords": [
                      {
                        "line": {
                          "colorbar": {
                            "outlinewidth": 0,
                            "ticks": ""
                          }
                        },
                        "type": "parcoords"
                      }
                    ],
                    "pie": [
                      {
                        "automargin": true,
                        "type": "pie"
                      }
                    ],
                    "scatter": [
                      {
                        "fillpattern": {
                          "fillmode": "overlay",
                          "size": 10,
                          "solidity": 0.2
                        },
                        "type": "scatter"
                      }
                    ],
                    "scatter3d": [
                      {
                        "line": {
                          "colorbar": {
                            "outlinewidth": 0,
                            "ticks": ""
                          }
                        },
                        "marker": {
                          "colorbar": {
                            "outlinewidth": 0,
                            "ticks": ""
                          }
                        },
                        "type": "scatter3d"
                      }
                    ],
                    "scattercarpet": [
                      {
                        "marker": {
                          "colorbar": {
                            "outlinewidth": 0,
                            "ticks": ""
                          }
                        },
                        "type": "scattercarpet"
                      }
                    ],
                    "scattergeo": [
                      {
                        "marker": {
                          "colorbar": {
                            "outlinewidth": 0,
                            "ticks": ""
                          }
                        },
                        "type": "scattergeo"
                      }
                    ],
                    "scattergl": [
                      {
                        "marker": {
                          "colorbar": {
                            "outlinewidth": 0,
                            "ticks": ""
                          }
                        },
                        "type": "scattergl"
                      }
                    ],
                    "scattermapbox": [
                      {
                        "marker": {
                          "colorbar": {
                            "outlinewidth": 0,
                            "ticks": ""
                          }
                        },
                        "type": "scattermapbox"
                      }
                    ],
                    "scatterpolar": [
                      {
                        "marker": {
                          "colorbar": {
                            "outlinewidth": 0,
                            "ticks": ""
                          }
                        },
                        "type": "scatterpolar"
                      }
                    ],
                    "scatterpolargl": [
                      {
                        "marker": {
                          "colorbar": {
                            "outlinewidth": 0,
                            "ticks": ""
                          }
                        },
                        "type": "scatterpolargl"
                      }
                    ],
                    "scatterternary": [
                      {
                        "marker": {
                          "colorbar": {
                            "outlinewidth": 0,
                            "ticks": ""
                          }
                        },
                        "type": "scatterternary"
                      }
                    ],
                    "surface": [
                      {
                        "colorbar": {
                          "outlinewidth": 0,
                          "ticks": ""
                        },
                        "colorscale": [
                          [
                            0,
                            "#0d0887"
                          ],
                          [
                            0.1111111111111111,
                            "#46039f"
                          ],
                          [
                            0.2222222222222222,
                            "#7201a8"
                          ],
                          [
                            0.3333333333333333,
                            "#9c179e"
                          ],
                          [
                            0.4444444444444444,
                            "#bd3786"
                          ],
                          [
                            0.5555555555555556,
                            "#d8576b"
                          ],
                          [
                            0.6666666666666666,
                            "#ed7953"
                          ],
                          [
                            0.7777777777777778,
                            "#fb9f3a"
                          ],
                          [
                            0.8888888888888888,
                            "#fdca26"
                          ],
                          [
                            1,
                            "#f0f921"
                          ]
                        ],
                        "type": "surface"
                      }
                    ],
                    "table": [
                      {
                        "cells": {
                          "fill": {
                            "color": "#EBF0F8"
                          },
                          "line": {
                            "color": "white"
                          }
                        },
                        "header": {
                          "fill": {
                            "color": "#C8D4E3"
                          },
                          "line": {
                            "color": "white"
                          }
                        },
                        "type": "table"
                      }
                    ]
                  },
                  "layout": {
                    "annotationdefaults": {
                      "arrowcolor": "#2a3f5f",
                      "arrowhead": 0,
                      "arrowwidth": 1
                    },
                    "autotypenumbers": "strict",
                    "coloraxis": {
                      "colorbar": {
                        "outlinewidth": 0,
                        "ticks": ""
                      }
                    },
                    "colorscale": {
                      "diverging": [
                        [
                          0,
                          "#8e0152"
                        ],
                        [
                          0.1,
                          "#c51b7d"
                        ],
                        [
                          0.2,
                          "#de77ae"
                        ],
                        [
                          0.3,
                          "#f1b6da"
                        ],
                        [
                          0.4,
                          "#fde0ef"
                        ],
                        [
                          0.5,
                          "#f7f7f7"
                        ],
                        [
                          0.6,
                          "#e6f5d0"
                        ],
                        [
                          0.7,
                          "#b8e186"
                        ],
                        [
                          0.8,
                          "#7fbc41"
                        ],
                        [
                          0.9,
                          "#4d9221"
                        ],
                        [
                          1,
                          "#276419"
                        ]
                      ],
                      "sequential": [
                        [
                          0,
                          "#0d0887"
                        ],
                        [
                          0.1111111111111111,
                          "#46039f"
                        ],
                        [
                          0.2222222222222222,
                          "#7201a8"
                        ],
                        [
                          0.3333333333333333,
                          "#9c179e"
                        ],
                        [
                          0.4444444444444444,
                          "#bd3786"
                        ],
                        [
                          0.5555555555555556,
                          "#d8576b"
                        ],
                        [
                          0.6666666666666666,
                          "#ed7953"
                        ],
                        [
                          0.7777777777777778,
                          "#fb9f3a"
                        ],
                        [
                          0.8888888888888888,
                          "#fdca26"
                        ],
                        [
                          1,
                          "#f0f921"
                        ]
                      ],
                      "sequentialminus": [
                        [
                          0,
                          "#0d0887"
                        ],
                        [
                          0.1111111111111111,
                          "#46039f"
                        ],
                        [
                          0.2222222222222222,
                          "#7201a8"
                        ],
                        [
                          0.3333333333333333,
                          "#9c179e"
                        ],
                        [
                          0.4444444444444444,
                          "#bd3786"
                        ],
                        [
                          0.5555555555555556,
                          "#d8576b"
                        ],
                        [
                          0.6666666666666666,
                          "#ed7953"
                        ],
                        [
                          0.7777777777777778,
                          "#fb9f3a"
                        ],
                        [
                          0.8888888888888888,
                          "#fdca26"
                        ],
                        [
                          1,
                          "#f0f921"
                        ]
                      ]
                    },
                    "colorway": [
                      "#636efa",
                      "#EF553B",
                      "#00cc96",
                      "#ab63fa",
                      "#FFA15A",
                      "#19d3f3",
                      "#FF6692",
                      "#B6E880",
                      "#FF97FF",
                      "#FECB52"
                    ],
                    "font": {
                      "color": "#2a3f5f"
                    },
                    "geo": {
                      "bgcolor": "white",
                      "lakecolor": "white",
                      "landcolor": "#E5ECF6",
                      "showlakes": true,
                      "showland": true,
                      "subunitcolor": "white"
                    },
                    "hoverlabel": {
                      "align": "left"
                    },
                    "hovermode": "closest",
                    "mapbox": {
                      "style": "light"
                    },
                    "paper_bgcolor": "white",
                    "plot_bgcolor": "#E5ECF6",
                    "polar": {
                      "angularaxis": {
                        "gridcolor": "white",
                        "linecolor": "white",
                        "ticks": ""
                      },
                      "bgcolor": "#E5ECF6",
                      "radialaxis": {
                        "gridcolor": "white",
                        "linecolor": "white",
                        "ticks": ""
                      }
                    },
                    "scene": {
                      "xaxis": {
                        "backgroundcolor": "#E5ECF6",
                        "gridcolor": "white",
                        "gridwidth": 2,
                        "linecolor": "white",
                        "showbackground": true,
                        "ticks": "",
                        "zerolinecolor": "white"
                      },
                      "yaxis": {
                        "backgroundcolor": "#E5ECF6",
                        "gridcolor": "white",
                        "gridwidth": 2,
                        "linecolor": "white",
                        "showbackground": true,
                        "ticks": "",
                        "zerolinecolor": "white"
                      },
                      "zaxis": {
                        "backgroundcolor": "#E5ECF6",
                        "gridcolor": "white",
                        "gridwidth": 2,
                        "linecolor": "white",
                        "showbackground": true,
                        "ticks": "",
                        "zerolinecolor": "white"
                      }
                    },
                    "shapedefaults": {
                      "line": {
                        "color": "#2a3f5f"
                      }
                    },
                    "ternary": {
                      "aaxis": {
                        "gridcolor": "white",
                        "linecolor": "white",
                        "ticks": ""
                      },
                      "baxis": {
                        "gridcolor": "white",
                        "linecolor": "white",
                        "ticks": ""
                      },
                      "bgcolor": "#E5ECF6",
                      "caxis": {
                        "gridcolor": "white",
                        "linecolor": "white",
                        "ticks": ""
                      }
                    },
                    "title": {
                      "x": 0.05
                    },
                    "xaxis": {
                      "automargin": true,
                      "gridcolor": "white",
                      "linecolor": "white",
                      "ticks": "",
                      "title": {
                        "standoff": 15
                      },
                      "zerolinecolor": "white",
                      "zerolinewidth": 2
                    },
                    "yaxis": {
                      "automargin": true,
                      "gridcolor": "white",
                      "linecolor": "white",
                      "ticks": "",
                      "title": {
                        "standoff": 15
                      },
                      "zerolinecolor": "white",
                      "zerolinewidth": 2
                    }
                  }
                },
                "title": {
                  "text": "Token contributions"
                },
                "width": 900,
                "xaxis": {
                  "anchor": "y",
                  "constrain": "domain",
                  "domain": [
                    0,
                    1
                  ],
                  "scaleanchor": "y",
                  "title": {
                    "text": "Sequence position"
                  }
                },
                "yaxis": {
                  "anchor": "x",
                  "autorange": "reversed",
                  "constrain": "domain",
                  "domain": [
                    0,
                    1
                  ],
                  "title": {
                    "text": "Token position"
                  }
                }
              }
            }
          },
          "metadata": {},
          "output_type": "display_data"
        }
      ],
      "source": [
        "print(tokens)\n",
        "print(len(tokens))\n",
        "\n",
        "def get_attention_layer_activations(position=-1):\n",
        "  position_contributions =  t.zeros(len(tokens[1:]), device=model.cfg.device)\n",
        "\n",
        "  for layer in range(model.cfg.n_layers):\n",
        "    layer_activations = activations[layer]\n",
        "    # display(cv.attention.attention_patterns(\n",
        "    #   tokens=tokens[1:],\n",
        "    #   attention=layer_activations,\n",
        "    #   # attention_head_names=[f\"L0H{i}\" for i in range(12)],\n",
        "    # ))\n",
        "\n",
        "    # print(layer_activations.shape)\n",
        "    token_activations = layer_activations[:,position,:]\n",
        "    # print(token_activations.shape)\n",
        "    summed_values = einops.reduce(token_activations, 'tensors num -> num', 'sum')\n",
        "    # print(f\"summed values: {len(summed_values)}\")\n",
        "    normalized_tensor = summed_values / t.sum(summed_values)\n",
        "    # print(normalized_tensor)\n",
        "\n",
        "    position_contributions += normalized_tensor\n",
        "\n",
        "  position_contributions = position_contributions/model.cfg.n_layers\n",
        "  return position_contributions\n",
        "\n",
        "total_position_contributions =  t.zeros((len(tokens) - 1, len(tokens[1:])), device=model.cfg.device)\n",
        "\n",
        "for i in range(len(tokens) - 1):\n",
        "  position_contributions = get_attention_layer_activations(i)\n",
        "  total_position_contributions[i] = t.tensor(position_contributions, device=model.cfg.device)\n",
        "\n",
        "total_position_contributions.cpu().numpy()\n",
        "\n",
        "print(total_position_contributions.shape)\n",
        "print(total_position_contributions)\n",
        "\n",
        "for i, token in enumerate(tokens[1:]):\n",
        "  print(f\"Token {i}: {token}\")\n",
        "\n",
        "imshow(\n",
        "    total_position_contributions,\n",
        "    labels={\"x\": \"Sequence position\", \"y\": \"Token position\"},\n",
        "    title=\"Token contributions\",\n",
        "    text_auto=\".2f\",\n",
        "    width=900, height=600\n",
        ")"
      ]
    },
    {
      "cell_type": "code",
      "execution_count": 46,
      "metadata": {},
      "outputs": [
        {
          "name": "stdout",
          "output_type": "stream",
          "text": [
            "torch.Size([13, 13])\n",
            "13\n",
            "['Mary', ' and', ' John', ' went', ' to', ' the', ' store', '.', ' John', ' gave', ' the', ' cart', ' to']\n",
            "['Mary', '_and', '_John', '_went', '_to', '_the', '_store', '_', '_John', '_gave', '_the', '_cart', '_to']\n",
            "13\n"
          ]
        },
        {
          "data": {
            "application/vnd.plotly.v1+json": {
              "config": {
                "plotlyServerURL": "https://plot.ly"
              },
              "data": [
                {
                  "coloraxis": "coloraxis",
                  "hovertemplate": "x: %{x}<br>y: %{y}<br>color: %{z}<extra></extra>",
                  "name": "0",
                  "type": "heatmap",
                  "x": [
                    "Mary",
                    "_and",
                    "_John",
                    "_went",
                    "_to",
                    "_the",
                    "_store",
                    "_",
                    "_John",
                    "_gave",
                    "_the",
                    "_cart",
                    "_to"
                  ],
                  "xaxis": "x",
                  "y": [
                    "Mary",
                    "_and",
                    "_John",
                    "_went",
                    "_to",
                    "_the",
                    "_store",
                    "_",
                    "_John",
                    "_gave",
                    "_the",
                    "_cart",
                    "_to"
                  ],
                  "yaxis": "y",
                  "z": [
                    [
                      0.99999994,
                      0,
                      0,
                      0,
                      0,
                      0,
                      0,
                      0,
                      0,
                      0,
                      0,
                      0,
                      0
                    ],
                    [
                      0.659133,
                      0.3408669,
                      0,
                      0,
                      0,
                      0,
                      0,
                      0,
                      0,
                      0,
                      0,
                      0,
                      0
                    ],
                    [
                      0.27224523,
                      0.4560576,
                      0.27169716,
                      0,
                      0,
                      0,
                      0,
                      0,
                      0,
                      0,
                      0,
                      0,
                      0
                    ],
                    [
                      0.16850035,
                      0.27209166,
                      0.2381473,
                      0.32126063,
                      0,
                      0,
                      0,
                      0,
                      0,
                      0,
                      0,
                      0,
                      0
                    ],
                    [
                      0.12340489,
                      0.14051838,
                      0.1601019,
                      0.34443155,
                      0.23154323,
                      0,
                      0,
                      0,
                      0,
                      0,
                      0,
                      0,
                      0
                    ],
                    [
                      0.089375146,
                      0.09872718,
                      0.10074092,
                      0.18672116,
                      0.35857362,
                      0.16586192,
                      0,
                      0,
                      0,
                      0,
                      0,
                      0,
                      0
                    ],
                    [
                      0.06074036,
                      0.062118452,
                      0.058558337,
                      0.16014664,
                      0.22837883,
                      0.21364371,
                      0.21641365,
                      0,
                      0,
                      0,
                      0,
                      0,
                      0
                    ],
                    [
                      0.1507024,
                      0.0831285,
                      0.12944706,
                      0.106105976,
                      0.10527035,
                      0.07930917,
                      0.14721671,
                      0.19881979,
                      0,
                      0,
                      0,
                      0,
                      0
                    ],
                    [
                      0.04968941,
                      0.07483981,
                      0.08293544,
                      0.11722717,
                      0.07095038,
                      0.047848184,
                      0.09441512,
                      0.30143496,
                      0.16065945,
                      0,
                      0,
                      0,
                      0
                    ],
                    [
                      0.10865702,
                      0.05064569,
                      0.076047726,
                      0.05307643,
                      0.06697446,
                      0.048032697,
                      0.06573226,
                      0.17607932,
                      0.20956008,
                      0.14519419,
                      0,
                      0,
                      0
                    ],
                    [
                      0.05932807,
                      0.04649112,
                      0.04556794,
                      0.04165749,
                      0.047580566,
                      0.041098677,
                      0.11276224,
                      0.11869958,
                      0.09431503,
                      0.2721388,
                      0.12036045,
                      0,
                      0
                    ],
                    [
                      0.030954339,
                      0.027333131,
                      0.023404984,
                      0.03979009,
                      0.047678407,
                      0.03888754,
                      0.05484312,
                      0.10221518,
                      0.052411195,
                      0.20509234,
                      0.20553115,
                      0.17185844,
                      0
                    ],
                    [
                      0.11176813,
                      0.03940239,
                      0.049545143,
                      0.02960902,
                      0.03684773,
                      0.026197335,
                      0.032254715,
                      0.08099926,
                      0.08379444,
                      0.14263664,
                      0.09355826,
                      0.14919813,
                      0.12418875
                    ]
                  ]
                }
              ],
              "layout": {
                "coloraxis": {
                  "colorscale": [
                    [
                      0,
                      "#440154"
                    ],
                    [
                      0.1111111111111111,
                      "#482878"
                    ],
                    [
                      0.2222222222222222,
                      "#3e4989"
                    ],
                    [
                      0.3333333333333333,
                      "#31688e"
                    ],
                    [
                      0.4444444444444444,
                      "#26828e"
                    ],
                    [
                      0.5555555555555556,
                      "#1f9e89"
                    ],
                    [
                      0.6666666666666666,
                      "#35b779"
                    ],
                    [
                      0.7777777777777778,
                      "#6ece58"
                    ],
                    [
                      0.8888888888888888,
                      "#b5de2b"
                    ],
                    [
                      1,
                      "#fde725"
                    ]
                  ]
                },
                "font": {
                  "size": 12
                },
                "margin": {
                  "t": 60
                },
                "template": {
                  "data": {
                    "bar": [
                      {
                        "error_x": {
                          "color": "#2a3f5f"
                        },
                        "error_y": {
                          "color": "#2a3f5f"
                        },
                        "marker": {
                          "line": {
                            "color": "#E5ECF6",
                            "width": 0.5
                          },
                          "pattern": {
                            "fillmode": "overlay",
                            "size": 10,
                            "solidity": 0.2
                          }
                        },
                        "type": "bar"
                      }
                    ],
                    "barpolar": [
                      {
                        "marker": {
                          "line": {
                            "color": "#E5ECF6",
                            "width": 0.5
                          },
                          "pattern": {
                            "fillmode": "overlay",
                            "size": 10,
                            "solidity": 0.2
                          }
                        },
                        "type": "barpolar"
                      }
                    ],
                    "carpet": [
                      {
                        "aaxis": {
                          "endlinecolor": "#2a3f5f",
                          "gridcolor": "white",
                          "linecolor": "white",
                          "minorgridcolor": "white",
                          "startlinecolor": "#2a3f5f"
                        },
                        "baxis": {
                          "endlinecolor": "#2a3f5f",
                          "gridcolor": "white",
                          "linecolor": "white",
                          "minorgridcolor": "white",
                          "startlinecolor": "#2a3f5f"
                        },
                        "type": "carpet"
                      }
                    ],
                    "choropleth": [
                      {
                        "colorbar": {
                          "outlinewidth": 0,
                          "ticks": ""
                        },
                        "type": "choropleth"
                      }
                    ],
                    "contour": [
                      {
                        "colorbar": {
                          "outlinewidth": 0,
                          "ticks": ""
                        },
                        "colorscale": [
                          [
                            0,
                            "#0d0887"
                          ],
                          [
                            0.1111111111111111,
                            "#46039f"
                          ],
                          [
                            0.2222222222222222,
                            "#7201a8"
                          ],
                          [
                            0.3333333333333333,
                            "#9c179e"
                          ],
                          [
                            0.4444444444444444,
                            "#bd3786"
                          ],
                          [
                            0.5555555555555556,
                            "#d8576b"
                          ],
                          [
                            0.6666666666666666,
                            "#ed7953"
                          ],
                          [
                            0.7777777777777778,
                            "#fb9f3a"
                          ],
                          [
                            0.8888888888888888,
                            "#fdca26"
                          ],
                          [
                            1,
                            "#f0f921"
                          ]
                        ],
                        "type": "contour"
                      }
                    ],
                    "contourcarpet": [
                      {
                        "colorbar": {
                          "outlinewidth": 0,
                          "ticks": ""
                        },
                        "type": "contourcarpet"
                      }
                    ],
                    "heatmap": [
                      {
                        "colorbar": {
                          "outlinewidth": 0,
                          "ticks": ""
                        },
                        "colorscale": [
                          [
                            0,
                            "#0d0887"
                          ],
                          [
                            0.1111111111111111,
                            "#46039f"
                          ],
                          [
                            0.2222222222222222,
                            "#7201a8"
                          ],
                          [
                            0.3333333333333333,
                            "#9c179e"
                          ],
                          [
                            0.4444444444444444,
                            "#bd3786"
                          ],
                          [
                            0.5555555555555556,
                            "#d8576b"
                          ],
                          [
                            0.6666666666666666,
                            "#ed7953"
                          ],
                          [
                            0.7777777777777778,
                            "#fb9f3a"
                          ],
                          [
                            0.8888888888888888,
                            "#fdca26"
                          ],
                          [
                            1,
                            "#f0f921"
                          ]
                        ],
                        "type": "heatmap"
                      }
                    ],
                    "heatmapgl": [
                      {
                        "colorbar": {
                          "outlinewidth": 0,
                          "ticks": ""
                        },
                        "colorscale": [
                          [
                            0,
                            "#0d0887"
                          ],
                          [
                            0.1111111111111111,
                            "#46039f"
                          ],
                          [
                            0.2222222222222222,
                            "#7201a8"
                          ],
                          [
                            0.3333333333333333,
                            "#9c179e"
                          ],
                          [
                            0.4444444444444444,
                            "#bd3786"
                          ],
                          [
                            0.5555555555555556,
                            "#d8576b"
                          ],
                          [
                            0.6666666666666666,
                            "#ed7953"
                          ],
                          [
                            0.7777777777777778,
                            "#fb9f3a"
                          ],
                          [
                            0.8888888888888888,
                            "#fdca26"
                          ],
                          [
                            1,
                            "#f0f921"
                          ]
                        ],
                        "type": "heatmapgl"
                      }
                    ],
                    "histogram": [
                      {
                        "marker": {
                          "pattern": {
                            "fillmode": "overlay",
                            "size": 10,
                            "solidity": 0.2
                          }
                        },
                        "type": "histogram"
                      }
                    ],
                    "histogram2d": [
                      {
                        "colorbar": {
                          "outlinewidth": 0,
                          "ticks": ""
                        },
                        "colorscale": [
                          [
                            0,
                            "#0d0887"
                          ],
                          [
                            0.1111111111111111,
                            "#46039f"
                          ],
                          [
                            0.2222222222222222,
                            "#7201a8"
                          ],
                          [
                            0.3333333333333333,
                            "#9c179e"
                          ],
                          [
                            0.4444444444444444,
                            "#bd3786"
                          ],
                          [
                            0.5555555555555556,
                            "#d8576b"
                          ],
                          [
                            0.6666666666666666,
                            "#ed7953"
                          ],
                          [
                            0.7777777777777778,
                            "#fb9f3a"
                          ],
                          [
                            0.8888888888888888,
                            "#fdca26"
                          ],
                          [
                            1,
                            "#f0f921"
                          ]
                        ],
                        "type": "histogram2d"
                      }
                    ],
                    "histogram2dcontour": [
                      {
                        "colorbar": {
                          "outlinewidth": 0,
                          "ticks": ""
                        },
                        "colorscale": [
                          [
                            0,
                            "#0d0887"
                          ],
                          [
                            0.1111111111111111,
                            "#46039f"
                          ],
                          [
                            0.2222222222222222,
                            "#7201a8"
                          ],
                          [
                            0.3333333333333333,
                            "#9c179e"
                          ],
                          [
                            0.4444444444444444,
                            "#bd3786"
                          ],
                          [
                            0.5555555555555556,
                            "#d8576b"
                          ],
                          [
                            0.6666666666666666,
                            "#ed7953"
                          ],
                          [
                            0.7777777777777778,
                            "#fb9f3a"
                          ],
                          [
                            0.8888888888888888,
                            "#fdca26"
                          ],
                          [
                            1,
                            "#f0f921"
                          ]
                        ],
                        "type": "histogram2dcontour"
                      }
                    ],
                    "mesh3d": [
                      {
                        "colorbar": {
                          "outlinewidth": 0,
                          "ticks": ""
                        },
                        "type": "mesh3d"
                      }
                    ],
                    "parcoords": [
                      {
                        "line": {
                          "colorbar": {
                            "outlinewidth": 0,
                            "ticks": ""
                          }
                        },
                        "type": "parcoords"
                      }
                    ],
                    "pie": [
                      {
                        "automargin": true,
                        "type": "pie"
                      }
                    ],
                    "scatter": [
                      {
                        "fillpattern": {
                          "fillmode": "overlay",
                          "size": 10,
                          "solidity": 0.2
                        },
                        "type": "scatter"
                      }
                    ],
                    "scatter3d": [
                      {
                        "line": {
                          "colorbar": {
                            "outlinewidth": 0,
                            "ticks": ""
                          }
                        },
                        "marker": {
                          "colorbar": {
                            "outlinewidth": 0,
                            "ticks": ""
                          }
                        },
                        "type": "scatter3d"
                      }
                    ],
                    "scattercarpet": [
                      {
                        "marker": {
                          "colorbar": {
                            "outlinewidth": 0,
                            "ticks": ""
                          }
                        },
                        "type": "scattercarpet"
                      }
                    ],
                    "scattergeo": [
                      {
                        "marker": {
                          "colorbar": {
                            "outlinewidth": 0,
                            "ticks": ""
                          }
                        },
                        "type": "scattergeo"
                      }
                    ],
                    "scattergl": [
                      {
                        "marker": {
                          "colorbar": {
                            "outlinewidth": 0,
                            "ticks": ""
                          }
                        },
                        "type": "scattergl"
                      }
                    ],
                    "scattermapbox": [
                      {
                        "marker": {
                          "colorbar": {
                            "outlinewidth": 0,
                            "ticks": ""
                          }
                        },
                        "type": "scattermapbox"
                      }
                    ],
                    "scatterpolar": [
                      {
                        "marker": {
                          "colorbar": {
                            "outlinewidth": 0,
                            "ticks": ""
                          }
                        },
                        "type": "scatterpolar"
                      }
                    ],
                    "scatterpolargl": [
                      {
                        "marker": {
                          "colorbar": {
                            "outlinewidth": 0,
                            "ticks": ""
                          }
                        },
                        "type": "scatterpolargl"
                      }
                    ],
                    "scatterternary": [
                      {
                        "marker": {
                          "colorbar": {
                            "outlinewidth": 0,
                            "ticks": ""
                          }
                        },
                        "type": "scatterternary"
                      }
                    ],
                    "surface": [
                      {
                        "colorbar": {
                          "outlinewidth": 0,
                          "ticks": ""
                        },
                        "colorscale": [
                          [
                            0,
                            "#0d0887"
                          ],
                          [
                            0.1111111111111111,
                            "#46039f"
                          ],
                          [
                            0.2222222222222222,
                            "#7201a8"
                          ],
                          [
                            0.3333333333333333,
                            "#9c179e"
                          ],
                          [
                            0.4444444444444444,
                            "#bd3786"
                          ],
                          [
                            0.5555555555555556,
                            "#d8576b"
                          ],
                          [
                            0.6666666666666666,
                            "#ed7953"
                          ],
                          [
                            0.7777777777777778,
                            "#fb9f3a"
                          ],
                          [
                            0.8888888888888888,
                            "#fdca26"
                          ],
                          [
                            1,
                            "#f0f921"
                          ]
                        ],
                        "type": "surface"
                      }
                    ],
                    "table": [
                      {
                        "cells": {
                          "fill": {
                            "color": "#EBF0F8"
                          },
                          "line": {
                            "color": "white"
                          }
                        },
                        "header": {
                          "fill": {
                            "color": "#C8D4E3"
                          },
                          "line": {
                            "color": "white"
                          }
                        },
                        "type": "table"
                      }
                    ]
                  },
                  "layout": {
                    "annotationdefaults": {
                      "arrowcolor": "#2a3f5f",
                      "arrowhead": 0,
                      "arrowwidth": 1
                    },
                    "autotypenumbers": "strict",
                    "coloraxis": {
                      "colorbar": {
                        "outlinewidth": 0,
                        "ticks": ""
                      }
                    },
                    "colorscale": {
                      "diverging": [
                        [
                          0,
                          "#8e0152"
                        ],
                        [
                          0.1,
                          "#c51b7d"
                        ],
                        [
                          0.2,
                          "#de77ae"
                        ],
                        [
                          0.3,
                          "#f1b6da"
                        ],
                        [
                          0.4,
                          "#fde0ef"
                        ],
                        [
                          0.5,
                          "#f7f7f7"
                        ],
                        [
                          0.6,
                          "#e6f5d0"
                        ],
                        [
                          0.7,
                          "#b8e186"
                        ],
                        [
                          0.8,
                          "#7fbc41"
                        ],
                        [
                          0.9,
                          "#4d9221"
                        ],
                        [
                          1,
                          "#276419"
                        ]
                      ],
                      "sequential": [
                        [
                          0,
                          "#0d0887"
                        ],
                        [
                          0.1111111111111111,
                          "#46039f"
                        ],
                        [
                          0.2222222222222222,
                          "#7201a8"
                        ],
                        [
                          0.3333333333333333,
                          "#9c179e"
                        ],
                        [
                          0.4444444444444444,
                          "#bd3786"
                        ],
                        [
                          0.5555555555555556,
                          "#d8576b"
                        ],
                        [
                          0.6666666666666666,
                          "#ed7953"
                        ],
                        [
                          0.7777777777777778,
                          "#fb9f3a"
                        ],
                        [
                          0.8888888888888888,
                          "#fdca26"
                        ],
                        [
                          1,
                          "#f0f921"
                        ]
                      ],
                      "sequentialminus": [
                        [
                          0,
                          "#0d0887"
                        ],
                        [
                          0.1111111111111111,
                          "#46039f"
                        ],
                        [
                          0.2222222222222222,
                          "#7201a8"
                        ],
                        [
                          0.3333333333333333,
                          "#9c179e"
                        ],
                        [
                          0.4444444444444444,
                          "#bd3786"
                        ],
                        [
                          0.5555555555555556,
                          "#d8576b"
                        ],
                        [
                          0.6666666666666666,
                          "#ed7953"
                        ],
                        [
                          0.7777777777777778,
                          "#fb9f3a"
                        ],
                        [
                          0.8888888888888888,
                          "#fdca26"
                        ],
                        [
                          1,
                          "#f0f921"
                        ]
                      ]
                    },
                    "colorway": [
                      "#636efa",
                      "#EF553B",
                      "#00cc96",
                      "#ab63fa",
                      "#FFA15A",
                      "#19d3f3",
                      "#FF6692",
                      "#B6E880",
                      "#FF97FF",
                      "#FECB52"
                    ],
                    "font": {
                      "color": "#2a3f5f"
                    },
                    "geo": {
                      "bgcolor": "white",
                      "lakecolor": "white",
                      "landcolor": "#E5ECF6",
                      "showlakes": true,
                      "showland": true,
                      "subunitcolor": "white"
                    },
                    "hoverlabel": {
                      "align": "left"
                    },
                    "hovermode": "closest",
                    "mapbox": {
                      "style": "light"
                    },
                    "paper_bgcolor": "white",
                    "plot_bgcolor": "#E5ECF6",
                    "polar": {
                      "angularaxis": {
                        "gridcolor": "white",
                        "linecolor": "white",
                        "ticks": ""
                      },
                      "bgcolor": "#E5ECF6",
                      "radialaxis": {
                        "gridcolor": "white",
                        "linecolor": "white",
                        "ticks": ""
                      }
                    },
                    "scene": {
                      "xaxis": {
                        "backgroundcolor": "#E5ECF6",
                        "gridcolor": "white",
                        "gridwidth": 2,
                        "linecolor": "white",
                        "showbackground": true,
                        "ticks": "",
                        "zerolinecolor": "white"
                      },
                      "yaxis": {
                        "backgroundcolor": "#E5ECF6",
                        "gridcolor": "white",
                        "gridwidth": 2,
                        "linecolor": "white",
                        "showbackground": true,
                        "ticks": "",
                        "zerolinecolor": "white"
                      },
                      "zaxis": {
                        "backgroundcolor": "#E5ECF6",
                        "gridcolor": "white",
                        "gridwidth": 2,
                        "linecolor": "white",
                        "showbackground": true,
                        "ticks": "",
                        "zerolinecolor": "white"
                      }
                    },
                    "shapedefaults": {
                      "line": {
                        "color": "#2a3f5f"
                      }
                    },
                    "ternary": {
                      "aaxis": {
                        "gridcolor": "white",
                        "linecolor": "white",
                        "ticks": ""
                      },
                      "baxis": {
                        "gridcolor": "white",
                        "linecolor": "white",
                        "ticks": ""
                      },
                      "bgcolor": "#E5ECF6",
                      "caxis": {
                        "gridcolor": "white",
                        "linecolor": "white",
                        "ticks": ""
                      }
                    },
                    "title": {
                      "x": 0.05
                    },
                    "xaxis": {
                      "automargin": true,
                      "gridcolor": "white",
                      "linecolor": "white",
                      "ticks": "",
                      "title": {
                        "standoff": 15
                      },
                      "zerolinecolor": "white",
                      "zerolinewidth": 2
                    },
                    "yaxis": {
                      "automargin": true,
                      "gridcolor": "white",
                      "linecolor": "white",
                      "ticks": "",
                      "title": {
                        "standoff": 15
                      },
                      "zerolinecolor": "white",
                      "zerolinewidth": 2
                    }
                  }
                },
                "title": {
                  "text": "Information flow"
                },
                "xaxis": {
                  "anchor": "y",
                  "constrain": "domain",
                  "domain": [
                    0,
                    1
                  ],
                  "scaleanchor": "y",
                  "title": {
                    "text": "Source Tokens"
                  }
                },
                "yaxis": {
                  "anchor": "x",
                  "autorange": "reversed",
                  "constrain": "domain",
                  "domain": [
                    0,
                    1
                  ],
                  "title": {
                    "text": "Destination Tokens"
                  }
                }
              }
            }
          },
          "metadata": {},
          "output_type": "display_data"
        }
      ],
      "source": [
        "print(total_position_contributions.shape)\n",
        "\n",
        "# Convert the tensor to a numpy array\n",
        "\n",
        "print(len(tokens[1:]))\n",
        "labels = tokens[1:]\n",
        "print(tokens[1:])\n",
        "\n",
        "# # Create a list of labels for the x and y axes\n",
        "# num_tokens = total_position_contributions.shape[0]\n",
        "# labels = [f\"Token {i+1}\" for i in range(num_tokens)]\n",
        "labels = [re.sub(r'[^\\w]', '_', token) for token in labels]\n",
        "tokens_list = ['Mary', ' and', ' John', ' went', ' to', ' the', ' store', '.', ' John', ' gave', ' the', ' cart', ' to']\n",
        "num_tokens = len(tokens_list)\n",
        "\n",
        "# Replace spaces and special characters with underscores\n",
        "labels = [re.sub(r'[^\\w]', '_', token) for token in tokens_list]\n",
        "print(labels)\n",
        "print(len(labels))\n",
        "\n",
        "# Create a figure with Plotly Express\n",
        "fig = px.imshow(total_position_contributions.cpu().numpy(), x=labels, y=labels, color_continuous_scale='Viridis')\n",
        "\n",
        "# Update the layout\n",
        "fig.update_layout(\n",
        "    title='Information flow',\n",
        "    xaxis_title='Source Tokens',\n",
        "    yaxis_title='Destination Tokens',\n",
        "    font=dict(size=12)\n",
        ")\n",
        "\n",
        "# Show the figure\n",
        "fig.show()"
      ]
    },
    {
      "cell_type": "code",
      "execution_count": 53,
      "metadata": {},
      "outputs": [],
      "source": [
        "import plotly.graph_objects as go\n",
        "\n",
        "def heatmap(matrix, x_labels, y_labels, title):\n",
        "    attention_matrix = total_position_contributions.cpu().numpy()\n",
        "    # tokens_list = ['Mary', ' and', ' John', ' went', ' to', ' the', ' store', '.', ' John', ' gave', ' the', ' cart', ' to']\n",
        "    # num_tokens = len(tokens_list)\n",
        "\n",
        "    # Create the heatmap trace\n",
        "    trace = go.Heatmap(\n",
        "        z=matrix,\n",
        "        x0=0, dx=1,\n",
        "        y0=0, dy=1,\n",
        "        xgap=1, ygap=1,\n",
        "        xaxis='x',\n",
        "        yaxis='y'\n",
        "    )\n",
        "\n",
        "    # Create the figure and set the x and y labels\n",
        "    fig = go.Figure(data=trace)\n",
        "    fig.update_layout(\n",
        "        title=title,\n",
        "        xaxis=dict(\n",
        "            tickmode='array',\n",
        "            tickvals=list(range(len(x_labels))),\n",
        "\n",
        "            ticktext=x_labels,\n",
        "            tickfont=dict(size=12)\n",
        "        ),\n",
        "        yaxis=dict(\n",
        "            tickmode='array',\n",
        "            tickvals=list(range(len(y_labels))),\n",
        "            ticktext=y_labels,\n",
        "            tickfont=dict(size=12)\n",
        "        )\n",
        "    )\n",
        "    # Show the figure\n",
        "    fig.show()"
      ]
    },
    {
      "cell_type": "code",
      "execution_count": 54,
      "metadata": {},
      "outputs": [
        {
          "name": "stdout",
          "output_type": "stream",
          "text": [
            "torch.Size([12, 12, 13, 13])\n"
          ]
        },
        {
          "name": "stderr",
          "output_type": "stream",
          "text": [
            "/var/folders/ny/hc9c812905l118ss_x5j9x380000gn/T/ipykernel_25228/4050287523.py:56: UserWarning:\n",
            "\n",
            "To copy construct from a tensor, it is recommended to use sourceTensor.clone().detach() or sourceTensor.clone().detach().requires_grad_(True), rather than torch.tensor(sourceTensor).\n",
            "\n"
          ]
        },
        {
          "data": {
            "application/vnd.plotly.v1+json": {
              "config": {
                "plotlyServerURL": "https://plot.ly"
              },
              "data": [
                {
                  "dx": 1,
                  "dy": 1,
                  "type": "heatmap",
                  "x0": 0,
                  "xaxis": "x",
                  "xgap": 1,
                  "y0": 0,
                  "yaxis": "y",
                  "ygap": 1,
                  "z": [
                    [
                      0.99999994,
                      0,
                      0,
                      0,
                      0,
                      0,
                      0,
                      0,
                      0,
                      0,
                      0,
                      0,
                      0
                    ],
                    [
                      0.659133,
                      0.3408669,
                      0,
                      0,
                      0,
                      0,
                      0,
                      0,
                      0,
                      0,
                      0,
                      0,
                      0
                    ],
                    [
                      0.27224523,
                      0.4560576,
                      0.27169716,
                      0,
                      0,
                      0,
                      0,
                      0,
                      0,
                      0,
                      0,
                      0,
                      0
                    ],
                    [
                      0.16850035,
                      0.27209166,
                      0.2381473,
                      0.32126063,
                      0,
                      0,
                      0,
                      0,
                      0,
                      0,
                      0,
                      0,
                      0
                    ],
                    [
                      0.12340489,
                      0.14051838,
                      0.1601019,
                      0.34443155,
                      0.23154323,
                      0,
                      0,
                      0,
                      0,
                      0,
                      0,
                      0,
                      0
                    ],
                    [
                      0.089375146,
                      0.09872718,
                      0.10074092,
                      0.18672116,
                      0.35857362,
                      0.16586192,
                      0,
                      0,
                      0,
                      0,
                      0,
                      0,
                      0
                    ],
                    [
                      0.06074036,
                      0.062118452,
                      0.058558337,
                      0.16014664,
                      0.22837883,
                      0.21364371,
                      0.21641365,
                      0,
                      0,
                      0,
                      0,
                      0,
                      0
                    ],
                    [
                      0.1507024,
                      0.0831285,
                      0.12944706,
                      0.106105976,
                      0.10527035,
                      0.07930917,
                      0.14721671,
                      0.19881979,
                      0,
                      0,
                      0,
                      0,
                      0
                    ],
                    [
                      0.04968941,
                      0.07483981,
                      0.08293544,
                      0.11722717,
                      0.07095038,
                      0.047848184,
                      0.09441512,
                      0.30143496,
                      0.16065945,
                      0,
                      0,
                      0,
                      0
                    ],
                    [
                      0.10865702,
                      0.05064569,
                      0.076047726,
                      0.05307643,
                      0.06697446,
                      0.048032697,
                      0.06573226,
                      0.17607932,
                      0.20956008,
                      0.14519419,
                      0,
                      0,
                      0
                    ],
                    [
                      0.05932807,
                      0.04649112,
                      0.04556794,
                      0.04165749,
                      0.047580566,
                      0.041098677,
                      0.11276224,
                      0.11869958,
                      0.09431503,
                      0.2721388,
                      0.12036045,
                      0,
                      0
                    ],
                    [
                      0.030954339,
                      0.027333131,
                      0.023404984,
                      0.03979009,
                      0.047678407,
                      0.03888754,
                      0.05484312,
                      0.10221518,
                      0.052411195,
                      0.20509234,
                      0.20553115,
                      0.17185844,
                      0
                    ],
                    [
                      0.11176813,
                      0.03940239,
                      0.049545143,
                      0.02960902,
                      0.03684773,
                      0.026197335,
                      0.032254715,
                      0.08099926,
                      0.08379444,
                      0.14263664,
                      0.09355826,
                      0.14919813,
                      0.12418875
                    ]
                  ]
                }
              ],
              "layout": {
                "template": {
                  "data": {
                    "bar": [
                      {
                        "error_x": {
                          "color": "#2a3f5f"
                        },
                        "error_y": {
                          "color": "#2a3f5f"
                        },
                        "marker": {
                          "line": {
                            "color": "#E5ECF6",
                            "width": 0.5
                          },
                          "pattern": {
                            "fillmode": "overlay",
                            "size": 10,
                            "solidity": 0.2
                          }
                        },
                        "type": "bar"
                      }
                    ],
                    "barpolar": [
                      {
                        "marker": {
                          "line": {
                            "color": "#E5ECF6",
                            "width": 0.5
                          },
                          "pattern": {
                            "fillmode": "overlay",
                            "size": 10,
                            "solidity": 0.2
                          }
                        },
                        "type": "barpolar"
                      }
                    ],
                    "carpet": [
                      {
                        "aaxis": {
                          "endlinecolor": "#2a3f5f",
                          "gridcolor": "white",
                          "linecolor": "white",
                          "minorgridcolor": "white",
                          "startlinecolor": "#2a3f5f"
                        },
                        "baxis": {
                          "endlinecolor": "#2a3f5f",
                          "gridcolor": "white",
                          "linecolor": "white",
                          "minorgridcolor": "white",
                          "startlinecolor": "#2a3f5f"
                        },
                        "type": "carpet"
                      }
                    ],
                    "choropleth": [
                      {
                        "colorbar": {
                          "outlinewidth": 0,
                          "ticks": ""
                        },
                        "type": "choropleth"
                      }
                    ],
                    "contour": [
                      {
                        "colorbar": {
                          "outlinewidth": 0,
                          "ticks": ""
                        },
                        "colorscale": [
                          [
                            0,
                            "#0d0887"
                          ],
                          [
                            0.1111111111111111,
                            "#46039f"
                          ],
                          [
                            0.2222222222222222,
                            "#7201a8"
                          ],
                          [
                            0.3333333333333333,
                            "#9c179e"
                          ],
                          [
                            0.4444444444444444,
                            "#bd3786"
                          ],
                          [
                            0.5555555555555556,
                            "#d8576b"
                          ],
                          [
                            0.6666666666666666,
                            "#ed7953"
                          ],
                          [
                            0.7777777777777778,
                            "#fb9f3a"
                          ],
                          [
                            0.8888888888888888,
                            "#fdca26"
                          ],
                          [
                            1,
                            "#f0f921"
                          ]
                        ],
                        "type": "contour"
                      }
                    ],
                    "contourcarpet": [
                      {
                        "colorbar": {
                          "outlinewidth": 0,
                          "ticks": ""
                        },
                        "type": "contourcarpet"
                      }
                    ],
                    "heatmap": [
                      {
                        "colorbar": {
                          "outlinewidth": 0,
                          "ticks": ""
                        },
                        "colorscale": [
                          [
                            0,
                            "#0d0887"
                          ],
                          [
                            0.1111111111111111,
                            "#46039f"
                          ],
                          [
                            0.2222222222222222,
                            "#7201a8"
                          ],
                          [
                            0.3333333333333333,
                            "#9c179e"
                          ],
                          [
                            0.4444444444444444,
                            "#bd3786"
                          ],
                          [
                            0.5555555555555556,
                            "#d8576b"
                          ],
                          [
                            0.6666666666666666,
                            "#ed7953"
                          ],
                          [
                            0.7777777777777778,
                            "#fb9f3a"
                          ],
                          [
                            0.8888888888888888,
                            "#fdca26"
                          ],
                          [
                            1,
                            "#f0f921"
                          ]
                        ],
                        "type": "heatmap"
                      }
                    ],
                    "heatmapgl": [
                      {
                        "colorbar": {
                          "outlinewidth": 0,
                          "ticks": ""
                        },
                        "colorscale": [
                          [
                            0,
                            "#0d0887"
                          ],
                          [
                            0.1111111111111111,
                            "#46039f"
                          ],
                          [
                            0.2222222222222222,
                            "#7201a8"
                          ],
                          [
                            0.3333333333333333,
                            "#9c179e"
                          ],
                          [
                            0.4444444444444444,
                            "#bd3786"
                          ],
                          [
                            0.5555555555555556,
                            "#d8576b"
                          ],
                          [
                            0.6666666666666666,
                            "#ed7953"
                          ],
                          [
                            0.7777777777777778,
                            "#fb9f3a"
                          ],
                          [
                            0.8888888888888888,
                            "#fdca26"
                          ],
                          [
                            1,
                            "#f0f921"
                          ]
                        ],
                        "type": "heatmapgl"
                      }
                    ],
                    "histogram": [
                      {
                        "marker": {
                          "pattern": {
                            "fillmode": "overlay",
                            "size": 10,
                            "solidity": 0.2
                          }
                        },
                        "type": "histogram"
                      }
                    ],
                    "histogram2d": [
                      {
                        "colorbar": {
                          "outlinewidth": 0,
                          "ticks": ""
                        },
                        "colorscale": [
                          [
                            0,
                            "#0d0887"
                          ],
                          [
                            0.1111111111111111,
                            "#46039f"
                          ],
                          [
                            0.2222222222222222,
                            "#7201a8"
                          ],
                          [
                            0.3333333333333333,
                            "#9c179e"
                          ],
                          [
                            0.4444444444444444,
                            "#bd3786"
                          ],
                          [
                            0.5555555555555556,
                            "#d8576b"
                          ],
                          [
                            0.6666666666666666,
                            "#ed7953"
                          ],
                          [
                            0.7777777777777778,
                            "#fb9f3a"
                          ],
                          [
                            0.8888888888888888,
                            "#fdca26"
                          ],
                          [
                            1,
                            "#f0f921"
                          ]
                        ],
                        "type": "histogram2d"
                      }
                    ],
                    "histogram2dcontour": [
                      {
                        "colorbar": {
                          "outlinewidth": 0,
                          "ticks": ""
                        },
                        "colorscale": [
                          [
                            0,
                            "#0d0887"
                          ],
                          [
                            0.1111111111111111,
                            "#46039f"
                          ],
                          [
                            0.2222222222222222,
                            "#7201a8"
                          ],
                          [
                            0.3333333333333333,
                            "#9c179e"
                          ],
                          [
                            0.4444444444444444,
                            "#bd3786"
                          ],
                          [
                            0.5555555555555556,
                            "#d8576b"
                          ],
                          [
                            0.6666666666666666,
                            "#ed7953"
                          ],
                          [
                            0.7777777777777778,
                            "#fb9f3a"
                          ],
                          [
                            0.8888888888888888,
                            "#fdca26"
                          ],
                          [
                            1,
                            "#f0f921"
                          ]
                        ],
                        "type": "histogram2dcontour"
                      }
                    ],
                    "mesh3d": [
                      {
                        "colorbar": {
                          "outlinewidth": 0,
                          "ticks": ""
                        },
                        "type": "mesh3d"
                      }
                    ],
                    "parcoords": [
                      {
                        "line": {
                          "colorbar": {
                            "outlinewidth": 0,
                            "ticks": ""
                          }
                        },
                        "type": "parcoords"
                      }
                    ],
                    "pie": [
                      {
                        "automargin": true,
                        "type": "pie"
                      }
                    ],
                    "scatter": [
                      {
                        "fillpattern": {
                          "fillmode": "overlay",
                          "size": 10,
                          "solidity": 0.2
                        },
                        "type": "scatter"
                      }
                    ],
                    "scatter3d": [
                      {
                        "line": {
                          "colorbar": {
                            "outlinewidth": 0,
                            "ticks": ""
                          }
                        },
                        "marker": {
                          "colorbar": {
                            "outlinewidth": 0,
                            "ticks": ""
                          }
                        },
                        "type": "scatter3d"
                      }
                    ],
                    "scattercarpet": [
                      {
                        "marker": {
                          "colorbar": {
                            "outlinewidth": 0,
                            "ticks": ""
                          }
                        },
                        "type": "scattercarpet"
                      }
                    ],
                    "scattergeo": [
                      {
                        "marker": {
                          "colorbar": {
                            "outlinewidth": 0,
                            "ticks": ""
                          }
                        },
                        "type": "scattergeo"
                      }
                    ],
                    "scattergl": [
                      {
                        "marker": {
                          "colorbar": {
                            "outlinewidth": 0,
                            "ticks": ""
                          }
                        },
                        "type": "scattergl"
                      }
                    ],
                    "scattermapbox": [
                      {
                        "marker": {
                          "colorbar": {
                            "outlinewidth": 0,
                            "ticks": ""
                          }
                        },
                        "type": "scattermapbox"
                      }
                    ],
                    "scatterpolar": [
                      {
                        "marker": {
                          "colorbar": {
                            "outlinewidth": 0,
                            "ticks": ""
                          }
                        },
                        "type": "scatterpolar"
                      }
                    ],
                    "scatterpolargl": [
                      {
                        "marker": {
                          "colorbar": {
                            "outlinewidth": 0,
                            "ticks": ""
                          }
                        },
                        "type": "scatterpolargl"
                      }
                    ],
                    "scatterternary": [
                      {
                        "marker": {
                          "colorbar": {
                            "outlinewidth": 0,
                            "ticks": ""
                          }
                        },
                        "type": "scatterternary"
                      }
                    ],
                    "surface": [
                      {
                        "colorbar": {
                          "outlinewidth": 0,
                          "ticks": ""
                        },
                        "colorscale": [
                          [
                            0,
                            "#0d0887"
                          ],
                          [
                            0.1111111111111111,
                            "#46039f"
                          ],
                          [
                            0.2222222222222222,
                            "#7201a8"
                          ],
                          [
                            0.3333333333333333,
                            "#9c179e"
                          ],
                          [
                            0.4444444444444444,
                            "#bd3786"
                          ],
                          [
                            0.5555555555555556,
                            "#d8576b"
                          ],
                          [
                            0.6666666666666666,
                            "#ed7953"
                          ],
                          [
                            0.7777777777777778,
                            "#fb9f3a"
                          ],
                          [
                            0.8888888888888888,
                            "#fdca26"
                          ],
                          [
                            1,
                            "#f0f921"
                          ]
                        ],
                        "type": "surface"
                      }
                    ],
                    "table": [
                      {
                        "cells": {
                          "fill": {
                            "color": "#EBF0F8"
                          },
                          "line": {
                            "color": "white"
                          }
                        },
                        "header": {
                          "fill": {
                            "color": "#C8D4E3"
                          },
                          "line": {
                            "color": "white"
                          }
                        },
                        "type": "table"
                      }
                    ]
                  },
                  "layout": {
                    "annotationdefaults": {
                      "arrowcolor": "#2a3f5f",
                      "arrowhead": 0,
                      "arrowwidth": 1
                    },
                    "autotypenumbers": "strict",
                    "coloraxis": {
                      "colorbar": {
                        "outlinewidth": 0,
                        "ticks": ""
                      }
                    },
                    "colorscale": {
                      "diverging": [
                        [
                          0,
                          "#8e0152"
                        ],
                        [
                          0.1,
                          "#c51b7d"
                        ],
                        [
                          0.2,
                          "#de77ae"
                        ],
                        [
                          0.3,
                          "#f1b6da"
                        ],
                        [
                          0.4,
                          "#fde0ef"
                        ],
                        [
                          0.5,
                          "#f7f7f7"
                        ],
                        [
                          0.6,
                          "#e6f5d0"
                        ],
                        [
                          0.7,
                          "#b8e186"
                        ],
                        [
                          0.8,
                          "#7fbc41"
                        ],
                        [
                          0.9,
                          "#4d9221"
                        ],
                        [
                          1,
                          "#276419"
                        ]
                      ],
                      "sequential": [
                        [
                          0,
                          "#0d0887"
                        ],
                        [
                          0.1111111111111111,
                          "#46039f"
                        ],
                        [
                          0.2222222222222222,
                          "#7201a8"
                        ],
                        [
                          0.3333333333333333,
                          "#9c179e"
                        ],
                        [
                          0.4444444444444444,
                          "#bd3786"
                        ],
                        [
                          0.5555555555555556,
                          "#d8576b"
                        ],
                        [
                          0.6666666666666666,
                          "#ed7953"
                        ],
                        [
                          0.7777777777777778,
                          "#fb9f3a"
                        ],
                        [
                          0.8888888888888888,
                          "#fdca26"
                        ],
                        [
                          1,
                          "#f0f921"
                        ]
                      ],
                      "sequentialminus": [
                        [
                          0,
                          "#0d0887"
                        ],
                        [
                          0.1111111111111111,
                          "#46039f"
                        ],
                        [
                          0.2222222222222222,
                          "#7201a8"
                        ],
                        [
                          0.3333333333333333,
                          "#9c179e"
                        ],
                        [
                          0.4444444444444444,
                          "#bd3786"
                        ],
                        [
                          0.5555555555555556,
                          "#d8576b"
                        ],
                        [
                          0.6666666666666666,
                          "#ed7953"
                        ],
                        [
                          0.7777777777777778,
                          "#fb9f3a"
                        ],
                        [
                          0.8888888888888888,
                          "#fdca26"
                        ],
                        [
                          1,
                          "#f0f921"
                        ]
                      ]
                    },
                    "colorway": [
                      "#636efa",
                      "#EF553B",
                      "#00cc96",
                      "#ab63fa",
                      "#FFA15A",
                      "#19d3f3",
                      "#FF6692",
                      "#B6E880",
                      "#FF97FF",
                      "#FECB52"
                    ],
                    "font": {
                      "color": "#2a3f5f"
                    },
                    "geo": {
                      "bgcolor": "white",
                      "lakecolor": "white",
                      "landcolor": "#E5ECF6",
                      "showlakes": true,
                      "showland": true,
                      "subunitcolor": "white"
                    },
                    "hoverlabel": {
                      "align": "left"
                    },
                    "hovermode": "closest",
                    "mapbox": {
                      "style": "light"
                    },
                    "paper_bgcolor": "white",
                    "plot_bgcolor": "#E5ECF6",
                    "polar": {
                      "angularaxis": {
                        "gridcolor": "white",
                        "linecolor": "white",
                        "ticks": ""
                      },
                      "bgcolor": "#E5ECF6",
                      "radialaxis": {
                        "gridcolor": "white",
                        "linecolor": "white",
                        "ticks": ""
                      }
                    },
                    "scene": {
                      "xaxis": {
                        "backgroundcolor": "#E5ECF6",
                        "gridcolor": "white",
                        "gridwidth": 2,
                        "linecolor": "white",
                        "showbackground": true,
                        "ticks": "",
                        "zerolinecolor": "white"
                      },
                      "yaxis": {
                        "backgroundcolor": "#E5ECF6",
                        "gridcolor": "white",
                        "gridwidth": 2,
                        "linecolor": "white",
                        "showbackground": true,
                        "ticks": "",
                        "zerolinecolor": "white"
                      },
                      "zaxis": {
                        "backgroundcolor": "#E5ECF6",
                        "gridcolor": "white",
                        "gridwidth": 2,
                        "linecolor": "white",
                        "showbackground": true,
                        "ticks": "",
                        "zerolinecolor": "white"
                      }
                    },
                    "shapedefaults": {
                      "line": {
                        "color": "#2a3f5f"
                      }
                    },
                    "ternary": {
                      "aaxis": {
                        "gridcolor": "white",
                        "linecolor": "white",
                        "ticks": ""
                      },
                      "baxis": {
                        "gridcolor": "white",
                        "linecolor": "white",
                        "ticks": ""
                      },
                      "bgcolor": "#E5ECF6",
                      "caxis": {
                        "gridcolor": "white",
                        "linecolor": "white",
                        "ticks": ""
                      }
                    },
                    "title": {
                      "x": 0.05
                    },
                    "xaxis": {
                      "automargin": true,
                      "gridcolor": "white",
                      "linecolor": "white",
                      "ticks": "",
                      "title": {
                        "standoff": 15
                      },
                      "zerolinecolor": "white",
                      "zerolinewidth": 2
                    },
                    "yaxis": {
                      "automargin": true,
                      "gridcolor": "white",
                      "linecolor": "white",
                      "ticks": "",
                      "title": {
                        "standoff": 15
                      },
                      "zerolinecolor": "white",
                      "zerolinewidth": 2
                    }
                  }
                },
                "title": {
                  "text": "Information flow"
                },
                "xaxis": {
                  "tickfont": {
                    "size": 12
                  },
                  "tickmode": "array",
                  "ticktext": [
                    "Mary",
                    " and",
                    " John",
                    " went",
                    " to",
                    " the",
                    " store",
                    ".",
                    " John",
                    " gave",
                    " the",
                    " cart",
                    " to"
                  ],
                  "tickvals": [
                    0,
                    1,
                    2,
                    3,
                    4,
                    5,
                    6,
                    7,
                    8,
                    9,
                    10,
                    11,
                    12
                  ]
                },
                "yaxis": {
                  "tickfont": {
                    "size": 12
                  },
                  "tickmode": "array",
                  "ticktext": [
                    "Mary",
                    " and",
                    " John",
                    " went",
                    " to",
                    " the",
                    " store",
                    ".",
                    " John",
                    " gave",
                    " the",
                    " cart",
                    " to"
                  ],
                  "tickvals": [
                    0,
                    1,
                    2,
                    3,
                    4,
                    5,
                    6,
                    7,
                    8,
                    9,
                    10,
                    11,
                    12
                  ]
                }
              }
            }
          },
          "metadata": {},
          "output_type": "display_data"
        }
      ],
      "source": [
        "# Aggregate all attention outputs \n",
        "def get_activations(prompt):\n",
        "    _, cache = model.run_with_cache(prompt)\n",
        "    batch = 0\n",
        "\n",
        "    activations = []\n",
        "\n",
        "    ## Get all the activations for every head in every layer\n",
        "    for layer in range(model.cfg.n_layers):\n",
        "        layer_activations = []\n",
        "        for head in range(model.cfg.n_heads):\n",
        "            head_acts = cache[\"pattern\", layer][batch][head][1:, 1:] # getting the attention patterns for eveall tokens except the first <|endoftext|> token\n",
        "\n",
        "            layer_activations.append(head_acts)\n",
        "        layer_activations = t.stack(layer_activations)\n",
        "        activations.append(layer_activations)\n",
        "\n",
        "    activations = t.stack(activations)\n",
        "\n",
        "    print(activations.shape)\n",
        "    return activations\n",
        "\n",
        "def get_attention_layer_activations(position=-1):\n",
        "  position_contributions =  t.zeros(len(tokens[1:]), device=model.cfg.device)\n",
        "\n",
        "  for layer in range(model.cfg.n_layers):\n",
        "    layer_activations = activations[layer]\n",
        "    \n",
        "    token_activations = layer_activations[:,position,:]\n",
        "    summed_values = einops.reduce(token_activations, 'tensors num -> num', 'sum')\n",
        "    normalized_tensor = summed_values / t.sum(summed_values)\n",
        "\n",
        "    position_contributions += normalized_tensor\n",
        "\n",
        "  position_contributions = position_contributions/model.cfg.n_layers\n",
        "  return position_contributions\n",
        "\n",
        "def plot_info_flow(prompt):\n",
        "  tokens = model.to_str_tokens(prompt)\n",
        "  activations = get_activations(prompt)\n",
        "\n",
        "  total_position_contributions =  t.zeros((len(tokens) - 1, len(tokens[1:])), device=model.cfg.device)\n",
        "\n",
        "  for i in range(len(tokens) - 1):\n",
        "    position_contributions = get_attention_layer_activations(i)\n",
        "    total_position_contributions[i] = t.tensor(position_contributions, device=model.cfg.device)\n",
        "\n",
        "  heatmap(total_position_contributions.cpu().numpy(), tokens[1:], tokens[1:], \"Information flow\")\n",
        "\n",
        "plot_info_flow(\"Mary and John went to the store. John gave the cart to\")\n"
      ]
    }
  ],
  "metadata": {
    "accelerator": "GPU",
    "colab": {
      "gpuType": "T4",
      "machine_shape": "hm",
      "provenance": []
    },
    "kernelspec": {
      "display_name": "Python 3",
      "name": "python3"
    },
    "language_info": {
      "codemirror_mode": {
        "name": "ipython",
        "version": 3
      },
      "file_extension": ".py",
      "mimetype": "text/x-python",
      "name": "python",
      "nbconvert_exporter": "python",
      "pygments_lexer": "ipython3",
      "version": "3.11.7"
    },
    "widgets": {
      "application/vnd.jupyter.widget-state+json": {
        "00d552befd3a451f9f342eb63d5feffa": {
          "model_module": "@jupyter-widgets/controls",
          "model_module_version": "1.5.0",
          "model_name": "ProgressStyleModel",
          "state": {
            "_model_module": "@jupyter-widgets/controls",
            "_model_module_version": "1.5.0",
            "_model_name": "ProgressStyleModel",
            "_view_count": null,
            "_view_module": "@jupyter-widgets/base",
            "_view_module_version": "1.2.0",
            "_view_name": "StyleView",
            "bar_color": null,
            "description_width": ""
          }
        },
        "05d2359583f649d8a73b52b9f6bdd35c": {
          "model_module": "@jupyter-widgets/base",
          "model_module_version": "1.2.0",
          "model_name": "LayoutModel",
          "state": {
            "_model_module": "@jupyter-widgets/base",
            "_model_module_version": "1.2.0",
            "_model_name": "LayoutModel",
            "_view_count": null,
            "_view_module": "@jupyter-widgets/base",
            "_view_module_version": "1.2.0",
            "_view_name": "LayoutView",
            "align_content": null,
            "align_items": null,
            "align_self": null,
            "border": null,
            "bottom": null,
            "display": null,
            "flex": null,
            "flex_flow": null,
            "grid_area": null,
            "grid_auto_columns": null,
            "grid_auto_flow": null,
            "grid_auto_rows": null,
            "grid_column": null,
            "grid_gap": null,
            "grid_row": null,
            "grid_template_areas": null,
            "grid_template_columns": null,
            "grid_template_rows": null,
            "height": null,
            "justify_content": null,
            "justify_items": null,
            "left": null,
            "margin": null,
            "max_height": null,
            "max_width": null,
            "min_height": null,
            "min_width": null,
            "object_fit": null,
            "object_position": null,
            "order": null,
            "overflow": null,
            "overflow_x": null,
            "overflow_y": null,
            "padding": null,
            "right": null,
            "top": null,
            "visibility": null,
            "width": null
          }
        },
        "09e9c82ee27f46a2976a70b02bfdae0d": {
          "model_module": "@jupyter-widgets/base",
          "model_module_version": "1.2.0",
          "model_name": "LayoutModel",
          "state": {
            "_model_module": "@jupyter-widgets/base",
            "_model_module_version": "1.2.0",
            "_model_name": "LayoutModel",
            "_view_count": null,
            "_view_module": "@jupyter-widgets/base",
            "_view_module_version": "1.2.0",
            "_view_name": "LayoutView",
            "align_content": null,
            "align_items": null,
            "align_self": null,
            "border": null,
            "bottom": null,
            "display": null,
            "flex": null,
            "flex_flow": null,
            "grid_area": null,
            "grid_auto_columns": null,
            "grid_auto_flow": null,
            "grid_auto_rows": null,
            "grid_column": null,
            "grid_gap": null,
            "grid_row": null,
            "grid_template_areas": null,
            "grid_template_columns": null,
            "grid_template_rows": null,
            "height": null,
            "justify_content": null,
            "justify_items": null,
            "left": null,
            "margin": null,
            "max_height": null,
            "max_width": null,
            "min_height": null,
            "min_width": null,
            "object_fit": null,
            "object_position": null,
            "order": null,
            "overflow": null,
            "overflow_x": null,
            "overflow_y": null,
            "padding": null,
            "right": null,
            "top": null,
            "visibility": null,
            "width": null
          }
        },
        "0cc26733c46e403485bf55d05018c748": {
          "model_module": "@jupyter-widgets/controls",
          "model_module_version": "1.5.0",
          "model_name": "DescriptionStyleModel",
          "state": {
            "_model_module": "@jupyter-widgets/controls",
            "_model_module_version": "1.5.0",
            "_model_name": "DescriptionStyleModel",
            "_view_count": null,
            "_view_module": "@jupyter-widgets/base",
            "_view_module_version": "1.2.0",
            "_view_name": "StyleView",
            "description_width": ""
          }
        },
        "0e56a17b826547a2b9a909b5243a3b13": {
          "model_module": "@jupyter-widgets/base",
          "model_module_version": "1.2.0",
          "model_name": "LayoutModel",
          "state": {
            "_model_module": "@jupyter-widgets/base",
            "_model_module_version": "1.2.0",
            "_model_name": "LayoutModel",
            "_view_count": null,
            "_view_module": "@jupyter-widgets/base",
            "_view_module_version": "1.2.0",
            "_view_name": "LayoutView",
            "align_content": null,
            "align_items": null,
            "align_self": null,
            "border": null,
            "bottom": null,
            "display": null,
            "flex": null,
            "flex_flow": null,
            "grid_area": null,
            "grid_auto_columns": null,
            "grid_auto_flow": null,
            "grid_auto_rows": null,
            "grid_column": null,
            "grid_gap": null,
            "grid_row": null,
            "grid_template_areas": null,
            "grid_template_columns": null,
            "grid_template_rows": null,
            "height": null,
            "justify_content": null,
            "justify_items": null,
            "left": null,
            "margin": null,
            "max_height": null,
            "max_width": null,
            "min_height": null,
            "min_width": null,
            "object_fit": null,
            "object_position": null,
            "order": null,
            "overflow": null,
            "overflow_x": null,
            "overflow_y": null,
            "padding": null,
            "right": null,
            "top": null,
            "visibility": null,
            "width": null
          }
        },
        "1266ca78a4bf44858223eaeaaced7eb4": {
          "model_module": "@jupyter-widgets/base",
          "model_module_version": "1.2.0",
          "model_name": "LayoutModel",
          "state": {
            "_model_module": "@jupyter-widgets/base",
            "_model_module_version": "1.2.0",
            "_model_name": "LayoutModel",
            "_view_count": null,
            "_view_module": "@jupyter-widgets/base",
            "_view_module_version": "1.2.0",
            "_view_name": "LayoutView",
            "align_content": null,
            "align_items": null,
            "align_self": null,
            "border": null,
            "bottom": null,
            "display": null,
            "flex": null,
            "flex_flow": null,
            "grid_area": null,
            "grid_auto_columns": null,
            "grid_auto_flow": null,
            "grid_auto_rows": null,
            "grid_column": null,
            "grid_gap": null,
            "grid_row": null,
            "grid_template_areas": null,
            "grid_template_columns": null,
            "grid_template_rows": null,
            "height": null,
            "justify_content": null,
            "justify_items": null,
            "left": null,
            "margin": null,
            "max_height": null,
            "max_width": null,
            "min_height": null,
            "min_width": null,
            "object_fit": null,
            "object_position": null,
            "order": null,
            "overflow": null,
            "overflow_x": null,
            "overflow_y": null,
            "padding": null,
            "right": null,
            "top": null,
            "visibility": null,
            "width": null
          }
        },
        "1c6666c2921549359f992e6e02f2f173": {
          "model_module": "@jupyter-widgets/controls",
          "model_module_version": "1.5.0",
          "model_name": "DescriptionStyleModel",
          "state": {
            "_model_module": "@jupyter-widgets/controls",
            "_model_module_version": "1.5.0",
            "_model_name": "DescriptionStyleModel",
            "_view_count": null,
            "_view_module": "@jupyter-widgets/base",
            "_view_module_version": "1.2.0",
            "_view_name": "StyleView",
            "description_width": ""
          }
        },
        "1cc55ad40aec403c87b7cf35e15b92dd": {
          "model_module": "@jupyter-widgets/controls",
          "model_module_version": "1.5.0",
          "model_name": "HTMLModel",
          "state": {
            "_dom_classes": [],
            "_model_module": "@jupyter-widgets/controls",
            "_model_module_version": "1.5.0",
            "_model_name": "HTMLModel",
            "_view_count": null,
            "_view_module": "@jupyter-widgets/controls",
            "_view_module_version": "1.5.0",
            "_view_name": "HTMLView",
            "description": "",
            "description_tooltip": null,
            "layout": "IPY_MODEL_4de479f9fe8349aa80ba1b1c6621d73e",
            "placeholder": "​",
            "style": "IPY_MODEL_2196fc0f3d664135b365fb3cd40ac608",
            "value": " 548M/548M [00:01&lt;00:00, 536MB/s]"
          }
        },
        "1d46136d500642888f1395182e7933d3": {
          "model_module": "@jupyter-widgets/controls",
          "model_module_version": "1.5.0",
          "model_name": "HTMLModel",
          "state": {
            "_dom_classes": [],
            "_model_module": "@jupyter-widgets/controls",
            "_model_module_version": "1.5.0",
            "_model_name": "HTMLModel",
            "_view_count": null,
            "_view_module": "@jupyter-widgets/controls",
            "_view_module_version": "1.5.0",
            "_view_name": "HTMLView",
            "description": "",
            "description_tooltip": null,
            "layout": "IPY_MODEL_5f1a0c96b4ec4a0eb482e59ce3c022fb",
            "placeholder": "​",
            "style": "IPY_MODEL_1c6666c2921549359f992e6e02f2f173",
            "value": "tokenizer.json: 100%"
          }
        },
        "1e42fe2268b149d285519f59ced517e4": {
          "model_module": "@jupyter-widgets/base",
          "model_module_version": "1.2.0",
          "model_name": "LayoutModel",
          "state": {
            "_model_module": "@jupyter-widgets/base",
            "_model_module_version": "1.2.0",
            "_model_name": "LayoutModel",
            "_view_count": null,
            "_view_module": "@jupyter-widgets/base",
            "_view_module_version": "1.2.0",
            "_view_name": "LayoutView",
            "align_content": null,
            "align_items": null,
            "align_self": null,
            "border": null,
            "bottom": null,
            "display": null,
            "flex": null,
            "flex_flow": null,
            "grid_area": null,
            "grid_auto_columns": null,
            "grid_auto_flow": null,
            "grid_auto_rows": null,
            "grid_column": null,
            "grid_gap": null,
            "grid_row": null,
            "grid_template_areas": null,
            "grid_template_columns": null,
            "grid_template_rows": null,
            "height": null,
            "justify_content": null,
            "justify_items": null,
            "left": null,
            "margin": null,
            "max_height": null,
            "max_width": null,
            "min_height": null,
            "min_width": null,
            "object_fit": null,
            "object_position": null,
            "order": null,
            "overflow": null,
            "overflow_x": null,
            "overflow_y": null,
            "padding": null,
            "right": null,
            "top": null,
            "visibility": null,
            "width": null
          }
        },
        "1e86c9fc56344646878a2b9ce6c1a071": {
          "model_module": "@jupyter-widgets/controls",
          "model_module_version": "1.5.0",
          "model_name": "ProgressStyleModel",
          "state": {
            "_model_module": "@jupyter-widgets/controls",
            "_model_module_version": "1.5.0",
            "_model_name": "ProgressStyleModel",
            "_view_count": null,
            "_view_module": "@jupyter-widgets/base",
            "_view_module_version": "1.2.0",
            "_view_name": "StyleView",
            "bar_color": null,
            "description_width": ""
          }
        },
        "200433f5bb6f468e8d8a83998852bcc5": {
          "model_module": "@jupyter-widgets/controls",
          "model_module_version": "1.5.0",
          "model_name": "DescriptionStyleModel",
          "state": {
            "_model_module": "@jupyter-widgets/controls",
            "_model_module_version": "1.5.0",
            "_model_name": "DescriptionStyleModel",
            "_view_count": null,
            "_view_module": "@jupyter-widgets/base",
            "_view_module_version": "1.2.0",
            "_view_name": "StyleView",
            "description_width": ""
          }
        },
        "2196fc0f3d664135b365fb3cd40ac608": {
          "model_module": "@jupyter-widgets/controls",
          "model_module_version": "1.5.0",
          "model_name": "DescriptionStyleModel",
          "state": {
            "_model_module": "@jupyter-widgets/controls",
            "_model_module_version": "1.5.0",
            "_model_name": "DescriptionStyleModel",
            "_view_count": null,
            "_view_module": "@jupyter-widgets/base",
            "_view_module_version": "1.2.0",
            "_view_name": "StyleView",
            "description_width": ""
          }
        },
        "228525ae7cf54534b1b01b5f2d69d742": {
          "model_module": "@jupyter-widgets/base",
          "model_module_version": "1.2.0",
          "model_name": "LayoutModel",
          "state": {
            "_model_module": "@jupyter-widgets/base",
            "_model_module_version": "1.2.0",
            "_model_name": "LayoutModel",
            "_view_count": null,
            "_view_module": "@jupyter-widgets/base",
            "_view_module_version": "1.2.0",
            "_view_name": "LayoutView",
            "align_content": null,
            "align_items": null,
            "align_self": null,
            "border": null,
            "bottom": null,
            "display": null,
            "flex": null,
            "flex_flow": null,
            "grid_area": null,
            "grid_auto_columns": null,
            "grid_auto_flow": null,
            "grid_auto_rows": null,
            "grid_column": null,
            "grid_gap": null,
            "grid_row": null,
            "grid_template_areas": null,
            "grid_template_columns": null,
            "grid_template_rows": null,
            "height": null,
            "justify_content": null,
            "justify_items": null,
            "left": null,
            "margin": null,
            "max_height": null,
            "max_width": null,
            "min_height": null,
            "min_width": null,
            "object_fit": null,
            "object_position": null,
            "order": null,
            "overflow": null,
            "overflow_x": null,
            "overflow_y": null,
            "padding": null,
            "right": null,
            "top": null,
            "visibility": null,
            "width": null
          }
        },
        "284ae50fdce245afad4a300d031573cf": {
          "model_module": "@jupyter-widgets/base",
          "model_module_version": "1.2.0",
          "model_name": "LayoutModel",
          "state": {
            "_model_module": "@jupyter-widgets/base",
            "_model_module_version": "1.2.0",
            "_model_name": "LayoutModel",
            "_view_count": null,
            "_view_module": "@jupyter-widgets/base",
            "_view_module_version": "1.2.0",
            "_view_name": "LayoutView",
            "align_content": null,
            "align_items": null,
            "align_self": null,
            "border": null,
            "bottom": null,
            "display": null,
            "flex": null,
            "flex_flow": null,
            "grid_area": null,
            "grid_auto_columns": null,
            "grid_auto_flow": null,
            "grid_auto_rows": null,
            "grid_column": null,
            "grid_gap": null,
            "grid_row": null,
            "grid_template_areas": null,
            "grid_template_columns": null,
            "grid_template_rows": null,
            "height": null,
            "justify_content": null,
            "justify_items": null,
            "left": null,
            "margin": null,
            "max_height": null,
            "max_width": null,
            "min_height": null,
            "min_width": null,
            "object_fit": null,
            "object_position": null,
            "order": null,
            "overflow": null,
            "overflow_x": null,
            "overflow_y": null,
            "padding": null,
            "right": null,
            "top": null,
            "visibility": null,
            "width": null
          }
        },
        "29d2812f672146c7ac83b1b264c9123b": {
          "model_module": "@jupyter-widgets/base",
          "model_module_version": "1.2.0",
          "model_name": "LayoutModel",
          "state": {
            "_model_module": "@jupyter-widgets/base",
            "_model_module_version": "1.2.0",
            "_model_name": "LayoutModel",
            "_view_count": null,
            "_view_module": "@jupyter-widgets/base",
            "_view_module_version": "1.2.0",
            "_view_name": "LayoutView",
            "align_content": null,
            "align_items": null,
            "align_self": null,
            "border": null,
            "bottom": null,
            "display": null,
            "flex": null,
            "flex_flow": null,
            "grid_area": null,
            "grid_auto_columns": null,
            "grid_auto_flow": null,
            "grid_auto_rows": null,
            "grid_column": null,
            "grid_gap": null,
            "grid_row": null,
            "grid_template_areas": null,
            "grid_template_columns": null,
            "grid_template_rows": null,
            "height": null,
            "justify_content": null,
            "justify_items": null,
            "left": null,
            "margin": null,
            "max_height": null,
            "max_width": null,
            "min_height": null,
            "min_width": null,
            "object_fit": null,
            "object_position": null,
            "order": null,
            "overflow": null,
            "overflow_x": null,
            "overflow_y": null,
            "padding": null,
            "right": null,
            "top": null,
            "visibility": null,
            "width": null
          }
        },
        "2e3d4fee542f4a8db9a475b22528224f": {
          "model_module": "@jupyter-widgets/base",
          "model_module_version": "1.2.0",
          "model_name": "LayoutModel",
          "state": {
            "_model_module": "@jupyter-widgets/base",
            "_model_module_version": "1.2.0",
            "_model_name": "LayoutModel",
            "_view_count": null,
            "_view_module": "@jupyter-widgets/base",
            "_view_module_version": "1.2.0",
            "_view_name": "LayoutView",
            "align_content": null,
            "align_items": null,
            "align_self": null,
            "border": null,
            "bottom": null,
            "display": null,
            "flex": null,
            "flex_flow": null,
            "grid_area": null,
            "grid_auto_columns": null,
            "grid_auto_flow": null,
            "grid_auto_rows": null,
            "grid_column": null,
            "grid_gap": null,
            "grid_row": null,
            "grid_template_areas": null,
            "grid_template_columns": null,
            "grid_template_rows": null,
            "height": null,
            "justify_content": null,
            "justify_items": null,
            "left": null,
            "margin": null,
            "max_height": null,
            "max_width": null,
            "min_height": null,
            "min_width": null,
            "object_fit": null,
            "object_position": null,
            "order": null,
            "overflow": null,
            "overflow_x": null,
            "overflow_y": null,
            "padding": null,
            "right": null,
            "top": null,
            "visibility": null,
            "width": null
          }
        },
        "3532aec1a09d429cb08184d01ca185ed": {
          "model_module": "@jupyter-widgets/controls",
          "model_module_version": "1.5.0",
          "model_name": "HBoxModel",
          "state": {
            "_dom_classes": [],
            "_model_module": "@jupyter-widgets/controls",
            "_model_module_version": "1.5.0",
            "_model_name": "HBoxModel",
            "_view_count": null,
            "_view_module": "@jupyter-widgets/controls",
            "_view_module_version": "1.5.0",
            "_view_name": "HBoxView",
            "box_style": "",
            "children": [
              "IPY_MODEL_44d3406bdbf44538a4f2f14c4e23c5bd",
              "IPY_MODEL_98ac58e600da4912ad2368d1b21396c1",
              "IPY_MODEL_5eedf2d1422a4a7ba9a2037acba031f4"
            ],
            "layout": "IPY_MODEL_6ace370726334238844bdf3765a0c14d"
          }
        },
        "38766c29d38942919e4db886d42a76f2": {
          "model_module": "@jupyter-widgets/controls",
          "model_module_version": "1.5.0",
          "model_name": "HTMLModel",
          "state": {
            "_dom_classes": [],
            "_model_module": "@jupyter-widgets/controls",
            "_model_module_version": "1.5.0",
            "_model_name": "HTMLModel",
            "_view_count": null,
            "_view_module": "@jupyter-widgets/controls",
            "_view_module_version": "1.5.0",
            "_view_name": "HTMLView",
            "description": "",
            "description_tooltip": null,
            "layout": "IPY_MODEL_fa9c398a55eb49caa3a5ea55327c601b",
            "placeholder": "​",
            "style": "IPY_MODEL_5b77e61ea69347f7aef4a31395121981",
            "value": " 1.04M/1.04M [00:00&lt;00:00, 2.29MB/s]"
          }
        },
        "3cfc572a06dd4d4dafce31b04f7d2a66": {
          "model_module": "@jupyter-widgets/controls",
          "model_module_version": "1.5.0",
          "model_name": "ProgressStyleModel",
          "state": {
            "_model_module": "@jupyter-widgets/controls",
            "_model_module_version": "1.5.0",
            "_model_name": "ProgressStyleModel",
            "_view_count": null,
            "_view_module": "@jupyter-widgets/base",
            "_view_module_version": "1.2.0",
            "_view_name": "StyleView",
            "bar_color": null,
            "description_width": ""
          }
        },
        "4064f114e81746c1934d5439896a8aad": {
          "model_module": "@jupyter-widgets/controls",
          "model_module_version": "1.5.0",
          "model_name": "DescriptionStyleModel",
          "state": {
            "_model_module": "@jupyter-widgets/controls",
            "_model_module_version": "1.5.0",
            "_model_name": "DescriptionStyleModel",
            "_view_count": null,
            "_view_module": "@jupyter-widgets/base",
            "_view_module_version": "1.2.0",
            "_view_name": "StyleView",
            "description_width": ""
          }
        },
        "43f8afd61e3a4bc8bf4a1ec517913e55": {
          "model_module": "@jupyter-widgets/controls",
          "model_module_version": "1.5.0",
          "model_name": "FloatProgressModel",
          "state": {
            "_dom_classes": [],
            "_model_module": "@jupyter-widgets/controls",
            "_model_module_version": "1.5.0",
            "_model_name": "FloatProgressModel",
            "_view_count": null,
            "_view_module": "@jupyter-widgets/controls",
            "_view_module_version": "1.5.0",
            "_view_name": "ProgressView",
            "bar_style": "success",
            "description": "",
            "description_tooltip": null,
            "layout": "IPY_MODEL_1e42fe2268b149d285519f59ced517e4",
            "max": 548105171,
            "min": 0,
            "orientation": "horizontal",
            "style": "IPY_MODEL_972fc0e19d3f4ceeb0c2b5628f936658",
            "value": 548105171
          }
        },
        "44d3406bdbf44538a4f2f14c4e23c5bd": {
          "model_module": "@jupyter-widgets/controls",
          "model_module_version": "1.5.0",
          "model_name": "HTMLModel",
          "state": {
            "_dom_classes": [],
            "_model_module": "@jupyter-widgets/controls",
            "_model_module_version": "1.5.0",
            "_model_name": "HTMLModel",
            "_view_count": null,
            "_view_module": "@jupyter-widgets/controls",
            "_view_module_version": "1.5.0",
            "_view_name": "HTMLView",
            "description": "",
            "description_tooltip": null,
            "layout": "IPY_MODEL_05d2359583f649d8a73b52b9f6bdd35c",
            "placeholder": "​",
            "style": "IPY_MODEL_96c37c3523204a3eaf64ff957f773d40",
            "value": "tokenizer_config.json: 100%"
          }
        },
        "46abaa89b9f1491595f7b49e2bd23739": {
          "model_module": "@jupyter-widgets/controls",
          "model_module_version": "1.5.0",
          "model_name": "HTMLModel",
          "state": {
            "_dom_classes": [],
            "_model_module": "@jupyter-widgets/controls",
            "_model_module_version": "1.5.0",
            "_model_name": "HTMLModel",
            "_view_count": null,
            "_view_module": "@jupyter-widgets/controls",
            "_view_module_version": "1.5.0",
            "_view_name": "HTMLView",
            "description": "",
            "description_tooltip": null,
            "layout": "IPY_MODEL_e5595a37622a48dbba748f3e526b542e",
            "placeholder": "​",
            "style": "IPY_MODEL_a2be31e596a845f0b5a2748838ced376",
            "value": " 124/124 [00:00&lt;00:00, 11.8kB/s]"
          }
        },
        "47cfee48a04c477a8aa0741dc8772325": {
          "model_module": "@jupyter-widgets/base",
          "model_module_version": "1.2.0",
          "model_name": "LayoutModel",
          "state": {
            "_model_module": "@jupyter-widgets/base",
            "_model_module_version": "1.2.0",
            "_model_name": "LayoutModel",
            "_view_count": null,
            "_view_module": "@jupyter-widgets/base",
            "_view_module_version": "1.2.0",
            "_view_name": "LayoutView",
            "align_content": null,
            "align_items": null,
            "align_self": null,
            "border": null,
            "bottom": null,
            "display": null,
            "flex": null,
            "flex_flow": null,
            "grid_area": null,
            "grid_auto_columns": null,
            "grid_auto_flow": null,
            "grid_auto_rows": null,
            "grid_column": null,
            "grid_gap": null,
            "grid_row": null,
            "grid_template_areas": null,
            "grid_template_columns": null,
            "grid_template_rows": null,
            "height": null,
            "justify_content": null,
            "justify_items": null,
            "left": null,
            "margin": null,
            "max_height": null,
            "max_width": null,
            "min_height": null,
            "min_width": null,
            "object_fit": null,
            "object_position": null,
            "order": null,
            "overflow": null,
            "overflow_x": null,
            "overflow_y": null,
            "padding": null,
            "right": null,
            "top": null,
            "visibility": null,
            "width": null
          }
        },
        "4de479f9fe8349aa80ba1b1c6621d73e": {
          "model_module": "@jupyter-widgets/base",
          "model_module_version": "1.2.0",
          "model_name": "LayoutModel",
          "state": {
            "_model_module": "@jupyter-widgets/base",
            "_model_module_version": "1.2.0",
            "_model_name": "LayoutModel",
            "_view_count": null,
            "_view_module": "@jupyter-widgets/base",
            "_view_module_version": "1.2.0",
            "_view_name": "LayoutView",
            "align_content": null,
            "align_items": null,
            "align_self": null,
            "border": null,
            "bottom": null,
            "display": null,
            "flex": null,
            "flex_flow": null,
            "grid_area": null,
            "grid_auto_columns": null,
            "grid_auto_flow": null,
            "grid_auto_rows": null,
            "grid_column": null,
            "grid_gap": null,
            "grid_row": null,
            "grid_template_areas": null,
            "grid_template_columns": null,
            "grid_template_rows": null,
            "height": null,
            "justify_content": null,
            "justify_items": null,
            "left": null,
            "margin": null,
            "max_height": null,
            "max_width": null,
            "min_height": null,
            "min_width": null,
            "object_fit": null,
            "object_position": null,
            "order": null,
            "overflow": null,
            "overflow_x": null,
            "overflow_y": null,
            "padding": null,
            "right": null,
            "top": null,
            "visibility": null,
            "width": null
          }
        },
        "4ec6927e079a4f17bf971cd6f82c3fe5": {
          "model_module": "@jupyter-widgets/base",
          "model_module_version": "1.2.0",
          "model_name": "LayoutModel",
          "state": {
            "_model_module": "@jupyter-widgets/base",
            "_model_module_version": "1.2.0",
            "_model_name": "LayoutModel",
            "_view_count": null,
            "_view_module": "@jupyter-widgets/base",
            "_view_module_version": "1.2.0",
            "_view_name": "LayoutView",
            "align_content": null,
            "align_items": null,
            "align_self": null,
            "border": null,
            "bottom": null,
            "display": null,
            "flex": null,
            "flex_flow": null,
            "grid_area": null,
            "grid_auto_columns": null,
            "grid_auto_flow": null,
            "grid_auto_rows": null,
            "grid_column": null,
            "grid_gap": null,
            "grid_row": null,
            "grid_template_areas": null,
            "grid_template_columns": null,
            "grid_template_rows": null,
            "height": null,
            "justify_content": null,
            "justify_items": null,
            "left": null,
            "margin": null,
            "max_height": null,
            "max_width": null,
            "min_height": null,
            "min_width": null,
            "object_fit": null,
            "object_position": null,
            "order": null,
            "overflow": null,
            "overflow_x": null,
            "overflow_y": null,
            "padding": null,
            "right": null,
            "top": null,
            "visibility": null,
            "width": null
          }
        },
        "52359ea607b24119862b86a16fb3e492": {
          "model_module": "@jupyter-widgets/controls",
          "model_module_version": "1.5.0",
          "model_name": "DescriptionStyleModel",
          "state": {
            "_model_module": "@jupyter-widgets/controls",
            "_model_module_version": "1.5.0",
            "_model_name": "DescriptionStyleModel",
            "_view_count": null,
            "_view_module": "@jupyter-widgets/base",
            "_view_module_version": "1.2.0",
            "_view_name": "StyleView",
            "description_width": ""
          }
        },
        "578c2e42aafd456bad5d66f9c8809abd": {
          "model_module": "@jupyter-widgets/controls",
          "model_module_version": "1.5.0",
          "model_name": "HTMLModel",
          "state": {
            "_dom_classes": [],
            "_model_module": "@jupyter-widgets/controls",
            "_model_module_version": "1.5.0",
            "_model_name": "HTMLModel",
            "_view_count": null,
            "_view_module": "@jupyter-widgets/controls",
            "_view_module_version": "1.5.0",
            "_view_name": "HTMLView",
            "description": "",
            "description_tooltip": null,
            "layout": "IPY_MODEL_c06fe4173e7f47679ff7ffe23df4f317",
            "placeholder": "​",
            "style": "IPY_MODEL_0cc26733c46e403485bf55d05018c748",
            "value": " 1.36M/1.36M [00:00&lt;00:00, 2.94MB/s]"
          }
        },
        "5b77e61ea69347f7aef4a31395121981": {
          "model_module": "@jupyter-widgets/controls",
          "model_module_version": "1.5.0",
          "model_name": "DescriptionStyleModel",
          "state": {
            "_model_module": "@jupyter-widgets/controls",
            "_model_module_version": "1.5.0",
            "_model_name": "DescriptionStyleModel",
            "_view_count": null,
            "_view_module": "@jupyter-widgets/base",
            "_view_module_version": "1.2.0",
            "_view_name": "StyleView",
            "description_width": ""
          }
        },
        "5eedf2d1422a4a7ba9a2037acba031f4": {
          "model_module": "@jupyter-widgets/controls",
          "model_module_version": "1.5.0",
          "model_name": "HTMLModel",
          "state": {
            "_dom_classes": [],
            "_model_module": "@jupyter-widgets/controls",
            "_model_module_version": "1.5.0",
            "_model_name": "HTMLModel",
            "_view_count": null,
            "_view_module": "@jupyter-widgets/controls",
            "_view_module_version": "1.5.0",
            "_view_name": "HTMLView",
            "description": "",
            "description_tooltip": null,
            "layout": "IPY_MODEL_284ae50fdce245afad4a300d031573cf",
            "placeholder": "​",
            "style": "IPY_MODEL_a17b68e88def4e54bda9fd2789a0bc31",
            "value": " 26.0/26.0 [00:00&lt;00:00, 2.42kB/s]"
          }
        },
        "5f1a0c96b4ec4a0eb482e59ce3c022fb": {
          "model_module": "@jupyter-widgets/base",
          "model_module_version": "1.2.0",
          "model_name": "LayoutModel",
          "state": {
            "_model_module": "@jupyter-widgets/base",
            "_model_module_version": "1.2.0",
            "_model_name": "LayoutModel",
            "_view_count": null,
            "_view_module": "@jupyter-widgets/base",
            "_view_module_version": "1.2.0",
            "_view_name": "LayoutView",
            "align_content": null,
            "align_items": null,
            "align_self": null,
            "border": null,
            "bottom": null,
            "display": null,
            "flex": null,
            "flex_flow": null,
            "grid_area": null,
            "grid_auto_columns": null,
            "grid_auto_flow": null,
            "grid_auto_rows": null,
            "grid_column": null,
            "grid_gap": null,
            "grid_row": null,
            "grid_template_areas": null,
            "grid_template_columns": null,
            "grid_template_rows": null,
            "height": null,
            "justify_content": null,
            "justify_items": null,
            "left": null,
            "margin": null,
            "max_height": null,
            "max_width": null,
            "min_height": null,
            "min_width": null,
            "object_fit": null,
            "object_position": null,
            "order": null,
            "overflow": null,
            "overflow_x": null,
            "overflow_y": null,
            "padding": null,
            "right": null,
            "top": null,
            "visibility": null,
            "width": null
          }
        },
        "6125ff49d50144b994aaf91c1d93d4ce": {
          "model_module": "@jupyter-widgets/base",
          "model_module_version": "1.2.0",
          "model_name": "LayoutModel",
          "state": {
            "_model_module": "@jupyter-widgets/base",
            "_model_module_version": "1.2.0",
            "_model_name": "LayoutModel",
            "_view_count": null,
            "_view_module": "@jupyter-widgets/base",
            "_view_module_version": "1.2.0",
            "_view_name": "LayoutView",
            "align_content": null,
            "align_items": null,
            "align_self": null,
            "border": null,
            "bottom": null,
            "display": null,
            "flex": null,
            "flex_flow": null,
            "grid_area": null,
            "grid_auto_columns": null,
            "grid_auto_flow": null,
            "grid_auto_rows": null,
            "grid_column": null,
            "grid_gap": null,
            "grid_row": null,
            "grid_template_areas": null,
            "grid_template_columns": null,
            "grid_template_rows": null,
            "height": null,
            "justify_content": null,
            "justify_items": null,
            "left": null,
            "margin": null,
            "max_height": null,
            "max_width": null,
            "min_height": null,
            "min_width": null,
            "object_fit": null,
            "object_position": null,
            "order": null,
            "overflow": null,
            "overflow_x": null,
            "overflow_y": null,
            "padding": null,
            "right": null,
            "top": null,
            "visibility": null,
            "width": null
          }
        },
        "6ace370726334238844bdf3765a0c14d": {
          "model_module": "@jupyter-widgets/base",
          "model_module_version": "1.2.0",
          "model_name": "LayoutModel",
          "state": {
            "_model_module": "@jupyter-widgets/base",
            "_model_module_version": "1.2.0",
            "_model_name": "LayoutModel",
            "_view_count": null,
            "_view_module": "@jupyter-widgets/base",
            "_view_module_version": "1.2.0",
            "_view_name": "LayoutView",
            "align_content": null,
            "align_items": null,
            "align_self": null,
            "border": null,
            "bottom": null,
            "display": null,
            "flex": null,
            "flex_flow": null,
            "grid_area": null,
            "grid_auto_columns": null,
            "grid_auto_flow": null,
            "grid_auto_rows": null,
            "grid_column": null,
            "grid_gap": null,
            "grid_row": null,
            "grid_template_areas": null,
            "grid_template_columns": null,
            "grid_template_rows": null,
            "height": null,
            "justify_content": null,
            "justify_items": null,
            "left": null,
            "margin": null,
            "max_height": null,
            "max_width": null,
            "min_height": null,
            "min_width": null,
            "object_fit": null,
            "object_position": null,
            "order": null,
            "overflow": null,
            "overflow_x": null,
            "overflow_y": null,
            "padding": null,
            "right": null,
            "top": null,
            "visibility": null,
            "width": null
          }
        },
        "6cafd01177354c73a7a91398406c7a84": {
          "model_module": "@jupyter-widgets/base",
          "model_module_version": "1.2.0",
          "model_name": "LayoutModel",
          "state": {
            "_model_module": "@jupyter-widgets/base",
            "_model_module_version": "1.2.0",
            "_model_name": "LayoutModel",
            "_view_count": null,
            "_view_module": "@jupyter-widgets/base",
            "_view_module_version": "1.2.0",
            "_view_name": "LayoutView",
            "align_content": null,
            "align_items": null,
            "align_self": null,
            "border": null,
            "bottom": null,
            "display": null,
            "flex": null,
            "flex_flow": null,
            "grid_area": null,
            "grid_auto_columns": null,
            "grid_auto_flow": null,
            "grid_auto_rows": null,
            "grid_column": null,
            "grid_gap": null,
            "grid_row": null,
            "grid_template_areas": null,
            "grid_template_columns": null,
            "grid_template_rows": null,
            "height": null,
            "justify_content": null,
            "justify_items": null,
            "left": null,
            "margin": null,
            "max_height": null,
            "max_width": null,
            "min_height": null,
            "min_width": null,
            "object_fit": null,
            "object_position": null,
            "order": null,
            "overflow": null,
            "overflow_x": null,
            "overflow_y": null,
            "padding": null,
            "right": null,
            "top": null,
            "visibility": null,
            "width": null
          }
        },
        "6e3447505d514416bedcae0685d1be5d": {
          "model_module": "@jupyter-widgets/base",
          "model_module_version": "1.2.0",
          "model_name": "LayoutModel",
          "state": {
            "_model_module": "@jupyter-widgets/base",
            "_model_module_version": "1.2.0",
            "_model_name": "LayoutModel",
            "_view_count": null,
            "_view_module": "@jupyter-widgets/base",
            "_view_module_version": "1.2.0",
            "_view_name": "LayoutView",
            "align_content": null,
            "align_items": null,
            "align_self": null,
            "border": null,
            "bottom": null,
            "display": null,
            "flex": null,
            "flex_flow": null,
            "grid_area": null,
            "grid_auto_columns": null,
            "grid_auto_flow": null,
            "grid_auto_rows": null,
            "grid_column": null,
            "grid_gap": null,
            "grid_row": null,
            "grid_template_areas": null,
            "grid_template_columns": null,
            "grid_template_rows": null,
            "height": null,
            "justify_content": null,
            "justify_items": null,
            "left": null,
            "margin": null,
            "max_height": null,
            "max_width": null,
            "min_height": null,
            "min_width": null,
            "object_fit": null,
            "object_position": null,
            "order": null,
            "overflow": null,
            "overflow_x": null,
            "overflow_y": null,
            "padding": null,
            "right": null,
            "top": null,
            "visibility": null,
            "width": null
          }
        },
        "70ed4b01f850466c9d4ed9350e9df49e": {
          "model_module": "@jupyter-widgets/controls",
          "model_module_version": "1.5.0",
          "model_name": "FloatProgressModel",
          "state": {
            "_dom_classes": [],
            "_model_module": "@jupyter-widgets/controls",
            "_model_module_version": "1.5.0",
            "_model_name": "FloatProgressModel",
            "_view_count": null,
            "_view_module": "@jupyter-widgets/controls",
            "_view_module_version": "1.5.0",
            "_view_name": "ProgressView",
            "bar_style": "success",
            "description": "",
            "description_tooltip": null,
            "layout": "IPY_MODEL_0e56a17b826547a2b9a909b5243a3b13",
            "max": 456318,
            "min": 0,
            "orientation": "horizontal",
            "style": "IPY_MODEL_c14b09dcbf0e4a52a1246c649d7f722e",
            "value": 456318
          }
        },
        "83f7a13388024f5e9a660b05d4cff60b": {
          "model_module": "@jupyter-widgets/controls",
          "model_module_version": "1.5.0",
          "model_name": "HTMLModel",
          "state": {
            "_dom_classes": [],
            "_model_module": "@jupyter-widgets/controls",
            "_model_module_version": "1.5.0",
            "_model_name": "HTMLModel",
            "_view_count": null,
            "_view_module": "@jupyter-widgets/controls",
            "_view_module_version": "1.5.0",
            "_view_name": "HTMLView",
            "description": "",
            "description_tooltip": null,
            "layout": "IPY_MODEL_2e3d4fee542f4a8db9a475b22528224f",
            "placeholder": "​",
            "style": "IPY_MODEL_f30ab68ee9e64940a5c044a2530916fb",
            "value": "generation_config.json: 100%"
          }
        },
        "8e50c697d7404927901095cc26ba2941": {
          "model_module": "@jupyter-widgets/controls",
          "model_module_version": "1.5.0",
          "model_name": "HBoxModel",
          "state": {
            "_dom_classes": [],
            "_model_module": "@jupyter-widgets/controls",
            "_model_module_version": "1.5.0",
            "_model_name": "HBoxModel",
            "_view_count": null,
            "_view_module": "@jupyter-widgets/controls",
            "_view_module_version": "1.5.0",
            "_view_name": "HBoxView",
            "box_style": "",
            "children": [
              "IPY_MODEL_1d46136d500642888f1395182e7933d3",
              "IPY_MODEL_ec94dff868a94de681bd19addfb3171d",
              "IPY_MODEL_578c2e42aafd456bad5d66f9c8809abd"
            ],
            "layout": "IPY_MODEL_1266ca78a4bf44858223eaeaaced7eb4"
          }
        },
        "9381e3ed5a764eeb8e9b947d3952233e": {
          "model_module": "@jupyter-widgets/controls",
          "model_module_version": "1.5.0",
          "model_name": "HTMLModel",
          "state": {
            "_dom_classes": [],
            "_model_module": "@jupyter-widgets/controls",
            "_model_module_version": "1.5.0",
            "_model_name": "HTMLModel",
            "_view_count": null,
            "_view_module": "@jupyter-widgets/controls",
            "_view_module_version": "1.5.0",
            "_view_name": "HTMLView",
            "description": "",
            "description_tooltip": null,
            "layout": "IPY_MODEL_4ec6927e079a4f17bf971cd6f82c3fe5",
            "placeholder": "​",
            "style": "IPY_MODEL_200433f5bb6f468e8d8a83998852bcc5",
            "value": "vocab.json: 100%"
          }
        },
        "96c37c3523204a3eaf64ff957f773d40": {
          "model_module": "@jupyter-widgets/controls",
          "model_module_version": "1.5.0",
          "model_name": "DescriptionStyleModel",
          "state": {
            "_model_module": "@jupyter-widgets/controls",
            "_model_module_version": "1.5.0",
            "_model_name": "DescriptionStyleModel",
            "_view_count": null,
            "_view_module": "@jupyter-widgets/base",
            "_view_module_version": "1.2.0",
            "_view_name": "StyleView",
            "description_width": ""
          }
        },
        "972fc0e19d3f4ceeb0c2b5628f936658": {
          "model_module": "@jupyter-widgets/controls",
          "model_module_version": "1.5.0",
          "model_name": "ProgressStyleModel",
          "state": {
            "_model_module": "@jupyter-widgets/controls",
            "_model_module_version": "1.5.0",
            "_model_name": "ProgressStyleModel",
            "_view_count": null,
            "_view_module": "@jupyter-widgets/base",
            "_view_module_version": "1.2.0",
            "_view_name": "StyleView",
            "bar_color": null,
            "description_width": ""
          }
        },
        "98ac58e600da4912ad2368d1b21396c1": {
          "model_module": "@jupyter-widgets/controls",
          "model_module_version": "1.5.0",
          "model_name": "FloatProgressModel",
          "state": {
            "_dom_classes": [],
            "_model_module": "@jupyter-widgets/controls",
            "_model_module_version": "1.5.0",
            "_model_name": "FloatProgressModel",
            "_view_count": null,
            "_view_module": "@jupyter-widgets/controls",
            "_view_module_version": "1.5.0",
            "_view_name": "ProgressView",
            "bar_style": "success",
            "description": "",
            "description_tooltip": null,
            "layout": "IPY_MODEL_6125ff49d50144b994aaf91c1d93d4ce",
            "max": 26,
            "min": 0,
            "orientation": "horizontal",
            "style": "IPY_MODEL_f8b9c01edcc14b74bc524e1e88637c4b",
            "value": 26
          }
        },
        "9f5847ef285146699979f6a1a0e66fd7": {
          "model_module": "@jupyter-widgets/controls",
          "model_module_version": "1.5.0",
          "model_name": "HBoxModel",
          "state": {
            "_dom_classes": [],
            "_model_module": "@jupyter-widgets/controls",
            "_model_module_version": "1.5.0",
            "_model_name": "HBoxModel",
            "_view_count": null,
            "_view_module": "@jupyter-widgets/controls",
            "_view_module_version": "1.5.0",
            "_view_name": "HBoxView",
            "box_style": "",
            "children": [
              "IPY_MODEL_dedc711f78ae440ca5e51e9aaf87904b",
              "IPY_MODEL_70ed4b01f850466c9d4ed9350e9df49e",
              "IPY_MODEL_dcbc2269d6384629b6f21f5685d0bbce"
            ],
            "layout": "IPY_MODEL_ba3d30acaf4946bfaf1c8aef59c511ab"
          }
        },
        "a17b68e88def4e54bda9fd2789a0bc31": {
          "model_module": "@jupyter-widgets/controls",
          "model_module_version": "1.5.0",
          "model_name": "DescriptionStyleModel",
          "state": {
            "_model_module": "@jupyter-widgets/controls",
            "_model_module_version": "1.5.0",
            "_model_name": "DescriptionStyleModel",
            "_view_count": null,
            "_view_module": "@jupyter-widgets/base",
            "_view_module_version": "1.2.0",
            "_view_name": "StyleView",
            "description_width": ""
          }
        },
        "a2be31e596a845f0b5a2748838ced376": {
          "model_module": "@jupyter-widgets/controls",
          "model_module_version": "1.5.0",
          "model_name": "DescriptionStyleModel",
          "state": {
            "_model_module": "@jupyter-widgets/controls",
            "_model_module_version": "1.5.0",
            "_model_name": "DescriptionStyleModel",
            "_view_count": null,
            "_view_module": "@jupyter-widgets/base",
            "_view_module_version": "1.2.0",
            "_view_name": "StyleView",
            "description_width": ""
          }
        },
        "abd6c5226aac4999b2e67457445581d5": {
          "model_module": "@jupyter-widgets/controls",
          "model_module_version": "1.5.0",
          "model_name": "HBoxModel",
          "state": {
            "_dom_classes": [],
            "_model_module": "@jupyter-widgets/controls",
            "_model_module_version": "1.5.0",
            "_model_name": "HBoxModel",
            "_view_count": null,
            "_view_module": "@jupyter-widgets/controls",
            "_view_module_version": "1.5.0",
            "_view_name": "HBoxView",
            "box_style": "",
            "children": [
              "IPY_MODEL_9381e3ed5a764eeb8e9b947d3952233e",
              "IPY_MODEL_ff7011896f24408aa0e575d7b689bee5",
              "IPY_MODEL_38766c29d38942919e4db886d42a76f2"
            ],
            "layout": "IPY_MODEL_6e3447505d514416bedcae0685d1be5d"
          }
        },
        "b4da9ae05234450aabcfb11539379208": {
          "model_module": "@jupyter-widgets/controls",
          "model_module_version": "1.5.0",
          "model_name": "HBoxModel",
          "state": {
            "_dom_classes": [],
            "_model_module": "@jupyter-widgets/controls",
            "_model_module_version": "1.5.0",
            "_model_name": "HBoxModel",
            "_view_count": null,
            "_view_module": "@jupyter-widgets/controls",
            "_view_module_version": "1.5.0",
            "_view_name": "HBoxView",
            "box_style": "",
            "children": [
              "IPY_MODEL_e7958109f0814aa08e0958f5a376c2be",
              "IPY_MODEL_43f8afd61e3a4bc8bf4a1ec517913e55",
              "IPY_MODEL_1cc55ad40aec403c87b7cf35e15b92dd"
            ],
            "layout": "IPY_MODEL_c226597e124a445c90f1dbb126514ac9"
          }
        },
        "ba3d30acaf4946bfaf1c8aef59c511ab": {
          "model_module": "@jupyter-widgets/base",
          "model_module_version": "1.2.0",
          "model_name": "LayoutModel",
          "state": {
            "_model_module": "@jupyter-widgets/base",
            "_model_module_version": "1.2.0",
            "_model_name": "LayoutModel",
            "_view_count": null,
            "_view_module": "@jupyter-widgets/base",
            "_view_module_version": "1.2.0",
            "_view_name": "LayoutView",
            "align_content": null,
            "align_items": null,
            "align_self": null,
            "border": null,
            "bottom": null,
            "display": null,
            "flex": null,
            "flex_flow": null,
            "grid_area": null,
            "grid_auto_columns": null,
            "grid_auto_flow": null,
            "grid_auto_rows": null,
            "grid_column": null,
            "grid_gap": null,
            "grid_row": null,
            "grid_template_areas": null,
            "grid_template_columns": null,
            "grid_template_rows": null,
            "height": null,
            "justify_content": null,
            "justify_items": null,
            "left": null,
            "margin": null,
            "max_height": null,
            "max_width": null,
            "min_height": null,
            "min_width": null,
            "object_fit": null,
            "object_position": null,
            "order": null,
            "overflow": null,
            "overflow_x": null,
            "overflow_y": null,
            "padding": null,
            "right": null,
            "top": null,
            "visibility": null,
            "width": null
          }
        },
        "bce3c04b12d7420c8b7296b9b5365e4e": {
          "model_module": "@jupyter-widgets/base",
          "model_module_version": "1.2.0",
          "model_name": "LayoutModel",
          "state": {
            "_model_module": "@jupyter-widgets/base",
            "_model_module_version": "1.2.0",
            "_model_name": "LayoutModel",
            "_view_count": null,
            "_view_module": "@jupyter-widgets/base",
            "_view_module_version": "1.2.0",
            "_view_name": "LayoutView",
            "align_content": null,
            "align_items": null,
            "align_self": null,
            "border": null,
            "bottom": null,
            "display": null,
            "flex": null,
            "flex_flow": null,
            "grid_area": null,
            "grid_auto_columns": null,
            "grid_auto_flow": null,
            "grid_auto_rows": null,
            "grid_column": null,
            "grid_gap": null,
            "grid_row": null,
            "grid_template_areas": null,
            "grid_template_columns": null,
            "grid_template_rows": null,
            "height": null,
            "justify_content": null,
            "justify_items": null,
            "left": null,
            "margin": null,
            "max_height": null,
            "max_width": null,
            "min_height": null,
            "min_width": null,
            "object_fit": null,
            "object_position": null,
            "order": null,
            "overflow": null,
            "overflow_x": null,
            "overflow_y": null,
            "padding": null,
            "right": null,
            "top": null,
            "visibility": null,
            "width": null
          }
        },
        "c06fe4173e7f47679ff7ffe23df4f317": {
          "model_module": "@jupyter-widgets/base",
          "model_module_version": "1.2.0",
          "model_name": "LayoutModel",
          "state": {
            "_model_module": "@jupyter-widgets/base",
            "_model_module_version": "1.2.0",
            "_model_name": "LayoutModel",
            "_view_count": null,
            "_view_module": "@jupyter-widgets/base",
            "_view_module_version": "1.2.0",
            "_view_name": "LayoutView",
            "align_content": null,
            "align_items": null,
            "align_self": null,
            "border": null,
            "bottom": null,
            "display": null,
            "flex": null,
            "flex_flow": null,
            "grid_area": null,
            "grid_auto_columns": null,
            "grid_auto_flow": null,
            "grid_auto_rows": null,
            "grid_column": null,
            "grid_gap": null,
            "grid_row": null,
            "grid_template_areas": null,
            "grid_template_columns": null,
            "grid_template_rows": null,
            "height": null,
            "justify_content": null,
            "justify_items": null,
            "left": null,
            "margin": null,
            "max_height": null,
            "max_width": null,
            "min_height": null,
            "min_width": null,
            "object_fit": null,
            "object_position": null,
            "order": null,
            "overflow": null,
            "overflow_x": null,
            "overflow_y": null,
            "padding": null,
            "right": null,
            "top": null,
            "visibility": null,
            "width": null
          }
        },
        "c14b09dcbf0e4a52a1246c649d7f722e": {
          "model_module": "@jupyter-widgets/controls",
          "model_module_version": "1.5.0",
          "model_name": "ProgressStyleModel",
          "state": {
            "_model_module": "@jupyter-widgets/controls",
            "_model_module_version": "1.5.0",
            "_model_name": "ProgressStyleModel",
            "_view_count": null,
            "_view_module": "@jupyter-widgets/base",
            "_view_module_version": "1.2.0",
            "_view_name": "StyleView",
            "bar_color": null,
            "description_width": ""
          }
        },
        "c226597e124a445c90f1dbb126514ac9": {
          "model_module": "@jupyter-widgets/base",
          "model_module_version": "1.2.0",
          "model_name": "LayoutModel",
          "state": {
            "_model_module": "@jupyter-widgets/base",
            "_model_module_version": "1.2.0",
            "_model_name": "LayoutModel",
            "_view_count": null,
            "_view_module": "@jupyter-widgets/base",
            "_view_module_version": "1.2.0",
            "_view_name": "LayoutView",
            "align_content": null,
            "align_items": null,
            "align_self": null,
            "border": null,
            "bottom": null,
            "display": null,
            "flex": null,
            "flex_flow": null,
            "grid_area": null,
            "grid_auto_columns": null,
            "grid_auto_flow": null,
            "grid_auto_rows": null,
            "grid_column": null,
            "grid_gap": null,
            "grid_row": null,
            "grid_template_areas": null,
            "grid_template_columns": null,
            "grid_template_rows": null,
            "height": null,
            "justify_content": null,
            "justify_items": null,
            "left": null,
            "margin": null,
            "max_height": null,
            "max_width": null,
            "min_height": null,
            "min_width": null,
            "object_fit": null,
            "object_position": null,
            "order": null,
            "overflow": null,
            "overflow_x": null,
            "overflow_y": null,
            "padding": null,
            "right": null,
            "top": null,
            "visibility": null,
            "width": null
          }
        },
        "c600907510e0495fbc88eac19a1e5e4a": {
          "model_module": "@jupyter-widgets/controls",
          "model_module_version": "1.5.0",
          "model_name": "HBoxModel",
          "state": {
            "_dom_classes": [],
            "_model_module": "@jupyter-widgets/controls",
            "_model_module_version": "1.5.0",
            "_model_name": "HBoxModel",
            "_view_count": null,
            "_view_module": "@jupyter-widgets/controls",
            "_view_module_version": "1.5.0",
            "_view_name": "HBoxView",
            "box_style": "",
            "children": [
              "IPY_MODEL_83f7a13388024f5e9a660b05d4cff60b",
              "IPY_MODEL_d951eb42a57f4a85839febfdb5291309",
              "IPY_MODEL_46abaa89b9f1491595f7b49e2bd23739"
            ],
            "layout": "IPY_MODEL_e65aef10b02b41829eace871630a2f92"
          }
        },
        "d951eb42a57f4a85839febfdb5291309": {
          "model_module": "@jupyter-widgets/controls",
          "model_module_version": "1.5.0",
          "model_name": "FloatProgressModel",
          "state": {
            "_dom_classes": [],
            "_model_module": "@jupyter-widgets/controls",
            "_model_module_version": "1.5.0",
            "_model_name": "FloatProgressModel",
            "_view_count": null,
            "_view_module": "@jupyter-widgets/controls",
            "_view_module_version": "1.5.0",
            "_view_name": "ProgressView",
            "bar_style": "success",
            "description": "",
            "description_tooltip": null,
            "layout": "IPY_MODEL_bce3c04b12d7420c8b7296b9b5365e4e",
            "max": 124,
            "min": 0,
            "orientation": "horizontal",
            "style": "IPY_MODEL_1e86c9fc56344646878a2b9ce6c1a071",
            "value": 124
          }
        },
        "dcbc2269d6384629b6f21f5685d0bbce": {
          "model_module": "@jupyter-widgets/controls",
          "model_module_version": "1.5.0",
          "model_name": "HTMLModel",
          "state": {
            "_dom_classes": [],
            "_model_module": "@jupyter-widgets/controls",
            "_model_module_version": "1.5.0",
            "_model_name": "HTMLModel",
            "_view_count": null,
            "_view_module": "@jupyter-widgets/controls",
            "_view_module_version": "1.5.0",
            "_view_name": "HTMLView",
            "description": "",
            "description_tooltip": null,
            "layout": "IPY_MODEL_09e9c82ee27f46a2976a70b02bfdae0d",
            "placeholder": "​",
            "style": "IPY_MODEL_ff1ee4badbff45c2b2cd60410da24f2d",
            "value": " 456k/456k [00:00&lt;00:00, 1.90MB/s]"
          }
        },
        "dedc711f78ae440ca5e51e9aaf87904b": {
          "model_module": "@jupyter-widgets/controls",
          "model_module_version": "1.5.0",
          "model_name": "HTMLModel",
          "state": {
            "_dom_classes": [],
            "_model_module": "@jupyter-widgets/controls",
            "_model_module_version": "1.5.0",
            "_model_name": "HTMLModel",
            "_view_count": null,
            "_view_module": "@jupyter-widgets/controls",
            "_view_module_version": "1.5.0",
            "_view_name": "HTMLView",
            "description": "",
            "description_tooltip": null,
            "layout": "IPY_MODEL_6cafd01177354c73a7a91398406c7a84",
            "placeholder": "​",
            "style": "IPY_MODEL_4064f114e81746c1934d5439896a8aad",
            "value": "merges.txt: 100%"
          }
        },
        "e5595a37622a48dbba748f3e526b542e": {
          "model_module": "@jupyter-widgets/base",
          "model_module_version": "1.2.0",
          "model_name": "LayoutModel",
          "state": {
            "_model_module": "@jupyter-widgets/base",
            "_model_module_version": "1.2.0",
            "_model_name": "LayoutModel",
            "_view_count": null,
            "_view_module": "@jupyter-widgets/base",
            "_view_module_version": "1.2.0",
            "_view_name": "LayoutView",
            "align_content": null,
            "align_items": null,
            "align_self": null,
            "border": null,
            "bottom": null,
            "display": null,
            "flex": null,
            "flex_flow": null,
            "grid_area": null,
            "grid_auto_columns": null,
            "grid_auto_flow": null,
            "grid_auto_rows": null,
            "grid_column": null,
            "grid_gap": null,
            "grid_row": null,
            "grid_template_areas": null,
            "grid_template_columns": null,
            "grid_template_rows": null,
            "height": null,
            "justify_content": null,
            "justify_items": null,
            "left": null,
            "margin": null,
            "max_height": null,
            "max_width": null,
            "min_height": null,
            "min_width": null,
            "object_fit": null,
            "object_position": null,
            "order": null,
            "overflow": null,
            "overflow_x": null,
            "overflow_y": null,
            "padding": null,
            "right": null,
            "top": null,
            "visibility": null,
            "width": null
          }
        },
        "e65aef10b02b41829eace871630a2f92": {
          "model_module": "@jupyter-widgets/base",
          "model_module_version": "1.2.0",
          "model_name": "LayoutModel",
          "state": {
            "_model_module": "@jupyter-widgets/base",
            "_model_module_version": "1.2.0",
            "_model_name": "LayoutModel",
            "_view_count": null,
            "_view_module": "@jupyter-widgets/base",
            "_view_module_version": "1.2.0",
            "_view_name": "LayoutView",
            "align_content": null,
            "align_items": null,
            "align_self": null,
            "border": null,
            "bottom": null,
            "display": null,
            "flex": null,
            "flex_flow": null,
            "grid_area": null,
            "grid_auto_columns": null,
            "grid_auto_flow": null,
            "grid_auto_rows": null,
            "grid_column": null,
            "grid_gap": null,
            "grid_row": null,
            "grid_template_areas": null,
            "grid_template_columns": null,
            "grid_template_rows": null,
            "height": null,
            "justify_content": null,
            "justify_items": null,
            "left": null,
            "margin": null,
            "max_height": null,
            "max_width": null,
            "min_height": null,
            "min_width": null,
            "object_fit": null,
            "object_position": null,
            "order": null,
            "overflow": null,
            "overflow_x": null,
            "overflow_y": null,
            "padding": null,
            "right": null,
            "top": null,
            "visibility": null,
            "width": null
          }
        },
        "e7958109f0814aa08e0958f5a376c2be": {
          "model_module": "@jupyter-widgets/controls",
          "model_module_version": "1.5.0",
          "model_name": "HTMLModel",
          "state": {
            "_dom_classes": [],
            "_model_module": "@jupyter-widgets/controls",
            "_model_module_version": "1.5.0",
            "_model_name": "HTMLModel",
            "_view_count": null,
            "_view_module": "@jupyter-widgets/controls",
            "_view_module_version": "1.5.0",
            "_view_name": "HTMLView",
            "description": "",
            "description_tooltip": null,
            "layout": "IPY_MODEL_228525ae7cf54534b1b01b5f2d69d742",
            "placeholder": "​",
            "style": "IPY_MODEL_52359ea607b24119862b86a16fb3e492",
            "value": "model.safetensors: 100%"
          }
        },
        "ec94dff868a94de681bd19addfb3171d": {
          "model_module": "@jupyter-widgets/controls",
          "model_module_version": "1.5.0",
          "model_name": "FloatProgressModel",
          "state": {
            "_dom_classes": [],
            "_model_module": "@jupyter-widgets/controls",
            "_model_module_version": "1.5.0",
            "_model_name": "FloatProgressModel",
            "_view_count": null,
            "_view_module": "@jupyter-widgets/controls",
            "_view_module_version": "1.5.0",
            "_view_name": "ProgressView",
            "bar_style": "success",
            "description": "",
            "description_tooltip": null,
            "layout": "IPY_MODEL_29d2812f672146c7ac83b1b264c9123b",
            "max": 1355256,
            "min": 0,
            "orientation": "horizontal",
            "style": "IPY_MODEL_3cfc572a06dd4d4dafce31b04f7d2a66",
            "value": 1355256
          }
        },
        "f30ab68ee9e64940a5c044a2530916fb": {
          "model_module": "@jupyter-widgets/controls",
          "model_module_version": "1.5.0",
          "model_name": "DescriptionStyleModel",
          "state": {
            "_model_module": "@jupyter-widgets/controls",
            "_model_module_version": "1.5.0",
            "_model_name": "DescriptionStyleModel",
            "_view_count": null,
            "_view_module": "@jupyter-widgets/base",
            "_view_module_version": "1.2.0",
            "_view_name": "StyleView",
            "description_width": ""
          }
        },
        "f8b9c01edcc14b74bc524e1e88637c4b": {
          "model_module": "@jupyter-widgets/controls",
          "model_module_version": "1.5.0",
          "model_name": "ProgressStyleModel",
          "state": {
            "_model_module": "@jupyter-widgets/controls",
            "_model_module_version": "1.5.0",
            "_model_name": "ProgressStyleModel",
            "_view_count": null,
            "_view_module": "@jupyter-widgets/base",
            "_view_module_version": "1.2.0",
            "_view_name": "StyleView",
            "bar_color": null,
            "description_width": ""
          }
        },
        "fa9c398a55eb49caa3a5ea55327c601b": {
          "model_module": "@jupyter-widgets/base",
          "model_module_version": "1.2.0",
          "model_name": "LayoutModel",
          "state": {
            "_model_module": "@jupyter-widgets/base",
            "_model_module_version": "1.2.0",
            "_model_name": "LayoutModel",
            "_view_count": null,
            "_view_module": "@jupyter-widgets/base",
            "_view_module_version": "1.2.0",
            "_view_name": "LayoutView",
            "align_content": null,
            "align_items": null,
            "align_self": null,
            "border": null,
            "bottom": null,
            "display": null,
            "flex": null,
            "flex_flow": null,
            "grid_area": null,
            "grid_auto_columns": null,
            "grid_auto_flow": null,
            "grid_auto_rows": null,
            "grid_column": null,
            "grid_gap": null,
            "grid_row": null,
            "grid_template_areas": null,
            "grid_template_columns": null,
            "grid_template_rows": null,
            "height": null,
            "justify_content": null,
            "justify_items": null,
            "left": null,
            "margin": null,
            "max_height": null,
            "max_width": null,
            "min_height": null,
            "min_width": null,
            "object_fit": null,
            "object_position": null,
            "order": null,
            "overflow": null,
            "overflow_x": null,
            "overflow_y": null,
            "padding": null,
            "right": null,
            "top": null,
            "visibility": null,
            "width": null
          }
        },
        "ff1ee4badbff45c2b2cd60410da24f2d": {
          "model_module": "@jupyter-widgets/controls",
          "model_module_version": "1.5.0",
          "model_name": "DescriptionStyleModel",
          "state": {
            "_model_module": "@jupyter-widgets/controls",
            "_model_module_version": "1.5.0",
            "_model_name": "DescriptionStyleModel",
            "_view_count": null,
            "_view_module": "@jupyter-widgets/base",
            "_view_module_version": "1.2.0",
            "_view_name": "StyleView",
            "description_width": ""
          }
        },
        "ff7011896f24408aa0e575d7b689bee5": {
          "model_module": "@jupyter-widgets/controls",
          "model_module_version": "1.5.0",
          "model_name": "FloatProgressModel",
          "state": {
            "_dom_classes": [],
            "_model_module": "@jupyter-widgets/controls",
            "_model_module_version": "1.5.0",
            "_model_name": "FloatProgressModel",
            "_view_count": null,
            "_view_module": "@jupyter-widgets/controls",
            "_view_module_version": "1.5.0",
            "_view_name": "ProgressView",
            "bar_style": "success",
            "description": "",
            "description_tooltip": null,
            "layout": "IPY_MODEL_47cfee48a04c477a8aa0741dc8772325",
            "max": 1042301,
            "min": 0,
            "orientation": "horizontal",
            "style": "IPY_MODEL_00d552befd3a451f9f342eb63d5feffa",
            "value": 1042301
          }
        }
      }
    }
  },
  "nbformat": 4,
  "nbformat_minor": 0
}
