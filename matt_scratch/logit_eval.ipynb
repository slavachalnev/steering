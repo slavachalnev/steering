{
 "cells": [
  {
   "cell_type": "code",
   "execution_count": 32,
   "metadata": {},
   "outputs": [],
   "source": [
    "from transformer_lens import HookedTransformer\n",
    "import torch as t\n",
    "import einops\n",
    "from transformer_lens import utils as tutils\n",
    "\n",
    "from functools import partial\n",
    "import random\n",
    "from tqdm import tqdm\n",
    "\n",
    "\n",
    "from sae_lens import SparseAutoencoder\n",
    "from sae_lens.toolkit.pretrained_saes import get_gpt2_res_jb_saes"
   ]
  },
  {
   "cell_type": "code",
   "execution_count": 33,
   "metadata": {},
   "outputs": [
    {
     "data": {
      "application/vnd.plotly.v1+json": {
       "config": {
        "plotlyServerURL": "https://plot.ly"
       },
       "data": [
        {
         "cells": {
          "values": [
           [
            1,
            2,
            3,
            4,
            5
           ],
           [
            6,
            7,
            8,
            9,
            10
           ]
          ]
         },
         "header": {
          "values": [
           "Token",
           "Value"
          ]
         },
         "type": "table"
        }
       ],
       "layout": {
        "template": {
         "data": {
          "bar": [
           {
            "error_x": {
             "color": "#2a3f5f"
            },
            "error_y": {
             "color": "#2a3f5f"
            },
            "marker": {
             "line": {
              "color": "#E5ECF6",
              "width": 0.5
             },
             "pattern": {
              "fillmode": "overlay",
              "size": 10,
              "solidity": 0.2
             }
            },
            "type": "bar"
           }
          ],
          "barpolar": [
           {
            "marker": {
             "line": {
              "color": "#E5ECF6",
              "width": 0.5
             },
             "pattern": {
              "fillmode": "overlay",
              "size": 10,
              "solidity": 0.2
             }
            },
            "type": "barpolar"
           }
          ],
          "carpet": [
           {
            "aaxis": {
             "endlinecolor": "#2a3f5f",
             "gridcolor": "white",
             "linecolor": "white",
             "minorgridcolor": "white",
             "startlinecolor": "#2a3f5f"
            },
            "baxis": {
             "endlinecolor": "#2a3f5f",
             "gridcolor": "white",
             "linecolor": "white",
             "minorgridcolor": "white",
             "startlinecolor": "#2a3f5f"
            },
            "type": "carpet"
           }
          ],
          "choropleth": [
           {
            "colorbar": {
             "outlinewidth": 0,
             "ticks": ""
            },
            "type": "choropleth"
           }
          ],
          "contour": [
           {
            "colorbar": {
             "outlinewidth": 0,
             "ticks": ""
            },
            "colorscale": [
             [
              0,
              "#0d0887"
             ],
             [
              0.1111111111111111,
              "#46039f"
             ],
             [
              0.2222222222222222,
              "#7201a8"
             ],
             [
              0.3333333333333333,
              "#9c179e"
             ],
             [
              0.4444444444444444,
              "#bd3786"
             ],
             [
              0.5555555555555556,
              "#d8576b"
             ],
             [
              0.6666666666666666,
              "#ed7953"
             ],
             [
              0.7777777777777778,
              "#fb9f3a"
             ],
             [
              0.8888888888888888,
              "#fdca26"
             ],
             [
              1,
              "#f0f921"
             ]
            ],
            "type": "contour"
           }
          ],
          "contourcarpet": [
           {
            "colorbar": {
             "outlinewidth": 0,
             "ticks": ""
            },
            "type": "contourcarpet"
           }
          ],
          "heatmap": [
           {
            "colorbar": {
             "outlinewidth": 0,
             "ticks": ""
            },
            "colorscale": [
             [
              0,
              "#0d0887"
             ],
             [
              0.1111111111111111,
              "#46039f"
             ],
             [
              0.2222222222222222,
              "#7201a8"
             ],
             [
              0.3333333333333333,
              "#9c179e"
             ],
             [
              0.4444444444444444,
              "#bd3786"
             ],
             [
              0.5555555555555556,
              "#d8576b"
             ],
             [
              0.6666666666666666,
              "#ed7953"
             ],
             [
              0.7777777777777778,
              "#fb9f3a"
             ],
             [
              0.8888888888888888,
              "#fdca26"
             ],
             [
              1,
              "#f0f921"
             ]
            ],
            "type": "heatmap"
           }
          ],
          "heatmapgl": [
           {
            "colorbar": {
             "outlinewidth": 0,
             "ticks": ""
            },
            "colorscale": [
             [
              0,
              "#0d0887"
             ],
             [
              0.1111111111111111,
              "#46039f"
             ],
             [
              0.2222222222222222,
              "#7201a8"
             ],
             [
              0.3333333333333333,
              "#9c179e"
             ],
             [
              0.4444444444444444,
              "#bd3786"
             ],
             [
              0.5555555555555556,
              "#d8576b"
             ],
             [
              0.6666666666666666,
              "#ed7953"
             ],
             [
              0.7777777777777778,
              "#fb9f3a"
             ],
             [
              0.8888888888888888,
              "#fdca26"
             ],
             [
              1,
              "#f0f921"
             ]
            ],
            "type": "heatmapgl"
           }
          ],
          "histogram": [
           {
            "marker": {
             "pattern": {
              "fillmode": "overlay",
              "size": 10,
              "solidity": 0.2
             }
            },
            "type": "histogram"
           }
          ],
          "histogram2d": [
           {
            "colorbar": {
             "outlinewidth": 0,
             "ticks": ""
            },
            "colorscale": [
             [
              0,
              "#0d0887"
             ],
             [
              0.1111111111111111,
              "#46039f"
             ],
             [
              0.2222222222222222,
              "#7201a8"
             ],
             [
              0.3333333333333333,
              "#9c179e"
             ],
             [
              0.4444444444444444,
              "#bd3786"
             ],
             [
              0.5555555555555556,
              "#d8576b"
             ],
             [
              0.6666666666666666,
              "#ed7953"
             ],
             [
              0.7777777777777778,
              "#fb9f3a"
             ],
             [
              0.8888888888888888,
              "#fdca26"
             ],
             [
              1,
              "#f0f921"
             ]
            ],
            "type": "histogram2d"
           }
          ],
          "histogram2dcontour": [
           {
            "colorbar": {
             "outlinewidth": 0,
             "ticks": ""
            },
            "colorscale": [
             [
              0,
              "#0d0887"
             ],
             [
              0.1111111111111111,
              "#46039f"
             ],
             [
              0.2222222222222222,
              "#7201a8"
             ],
             [
              0.3333333333333333,
              "#9c179e"
             ],
             [
              0.4444444444444444,
              "#bd3786"
             ],
             [
              0.5555555555555556,
              "#d8576b"
             ],
             [
              0.6666666666666666,
              "#ed7953"
             ],
             [
              0.7777777777777778,
              "#fb9f3a"
             ],
             [
              0.8888888888888888,
              "#fdca26"
             ],
             [
              1,
              "#f0f921"
             ]
            ],
            "type": "histogram2dcontour"
           }
          ],
          "mesh3d": [
           {
            "colorbar": {
             "outlinewidth": 0,
             "ticks": ""
            },
            "type": "mesh3d"
           }
          ],
          "parcoords": [
           {
            "line": {
             "colorbar": {
              "outlinewidth": 0,
              "ticks": ""
             }
            },
            "type": "parcoords"
           }
          ],
          "pie": [
           {
            "automargin": true,
            "type": "pie"
           }
          ],
          "scatter": [
           {
            "fillpattern": {
             "fillmode": "overlay",
             "size": 10,
             "solidity": 0.2
            },
            "type": "scatter"
           }
          ],
          "scatter3d": [
           {
            "line": {
             "colorbar": {
              "outlinewidth": 0,
              "ticks": ""
             }
            },
            "marker": {
             "colorbar": {
              "outlinewidth": 0,
              "ticks": ""
             }
            },
            "type": "scatter3d"
           }
          ],
          "scattercarpet": [
           {
            "marker": {
             "colorbar": {
              "outlinewidth": 0,
              "ticks": ""
             }
            },
            "type": "scattercarpet"
           }
          ],
          "scattergeo": [
           {
            "marker": {
             "colorbar": {
              "outlinewidth": 0,
              "ticks": ""
             }
            },
            "type": "scattergeo"
           }
          ],
          "scattergl": [
           {
            "marker": {
             "colorbar": {
              "outlinewidth": 0,
              "ticks": ""
             }
            },
            "type": "scattergl"
           }
          ],
          "scattermapbox": [
           {
            "marker": {
             "colorbar": {
              "outlinewidth": 0,
              "ticks": ""
             }
            },
            "type": "scattermapbox"
           }
          ],
          "scatterpolar": [
           {
            "marker": {
             "colorbar": {
              "outlinewidth": 0,
              "ticks": ""
             }
            },
            "type": "scatterpolar"
           }
          ],
          "scatterpolargl": [
           {
            "marker": {
             "colorbar": {
              "outlinewidth": 0,
              "ticks": ""
             }
            },
            "type": "scatterpolargl"
           }
          ],
          "scatterternary": [
           {
            "marker": {
             "colorbar": {
              "outlinewidth": 0,
              "ticks": ""
             }
            },
            "type": "scatterternary"
           }
          ],
          "surface": [
           {
            "colorbar": {
             "outlinewidth": 0,
             "ticks": ""
            },
            "colorscale": [
             [
              0,
              "#0d0887"
             ],
             [
              0.1111111111111111,
              "#46039f"
             ],
             [
              0.2222222222222222,
              "#7201a8"
             ],
             [
              0.3333333333333333,
              "#9c179e"
             ],
             [
              0.4444444444444444,
              "#bd3786"
             ],
             [
              0.5555555555555556,
              "#d8576b"
             ],
             [
              0.6666666666666666,
              "#ed7953"
             ],
             [
              0.7777777777777778,
              "#fb9f3a"
             ],
             [
              0.8888888888888888,
              "#fdca26"
             ],
             [
              1,
              "#f0f921"
             ]
            ],
            "type": "surface"
           }
          ],
          "table": [
           {
            "cells": {
             "fill": {
              "color": "#EBF0F8"
             },
             "line": {
              "color": "white"
             }
            },
            "header": {
             "fill": {
              "color": "#C8D4E3"
             },
             "line": {
              "color": "white"
             }
            },
            "type": "table"
           }
          ]
         },
         "layout": {
          "annotationdefaults": {
           "arrowcolor": "#2a3f5f",
           "arrowhead": 0,
           "arrowwidth": 1
          },
          "autotypenumbers": "strict",
          "coloraxis": {
           "colorbar": {
            "outlinewidth": 0,
            "ticks": ""
           }
          },
          "colorscale": {
           "diverging": [
            [
             0,
             "#8e0152"
            ],
            [
             0.1,
             "#c51b7d"
            ],
            [
             0.2,
             "#de77ae"
            ],
            [
             0.3,
             "#f1b6da"
            ],
            [
             0.4,
             "#fde0ef"
            ],
            [
             0.5,
             "#f7f7f7"
            ],
            [
             0.6,
             "#e6f5d0"
            ],
            [
             0.7,
             "#b8e186"
            ],
            [
             0.8,
             "#7fbc41"
            ],
            [
             0.9,
             "#4d9221"
            ],
            [
             1,
             "#276419"
            ]
           ],
           "sequential": [
            [
             0,
             "#0d0887"
            ],
            [
             0.1111111111111111,
             "#46039f"
            ],
            [
             0.2222222222222222,
             "#7201a8"
            ],
            [
             0.3333333333333333,
             "#9c179e"
            ],
            [
             0.4444444444444444,
             "#bd3786"
            ],
            [
             0.5555555555555556,
             "#d8576b"
            ],
            [
             0.6666666666666666,
             "#ed7953"
            ],
            [
             0.7777777777777778,
             "#fb9f3a"
            ],
            [
             0.8888888888888888,
             "#fdca26"
            ],
            [
             1,
             "#f0f921"
            ]
           ],
           "sequentialminus": [
            [
             0,
             "#0d0887"
            ],
            [
             0.1111111111111111,
             "#46039f"
            ],
            [
             0.2222222222222222,
             "#7201a8"
            ],
            [
             0.3333333333333333,
             "#9c179e"
            ],
            [
             0.4444444444444444,
             "#bd3786"
            ],
            [
             0.5555555555555556,
             "#d8576b"
            ],
            [
             0.6666666666666666,
             "#ed7953"
            ],
            [
             0.7777777777777778,
             "#fb9f3a"
            ],
            [
             0.8888888888888888,
             "#fdca26"
            ],
            [
             1,
             "#f0f921"
            ]
           ]
          },
          "colorway": [
           "#636efa",
           "#EF553B",
           "#00cc96",
           "#ab63fa",
           "#FFA15A",
           "#19d3f3",
           "#FF6692",
           "#B6E880",
           "#FF97FF",
           "#FECB52"
          ],
          "font": {
           "color": "#2a3f5f"
          },
          "geo": {
           "bgcolor": "white",
           "lakecolor": "white",
           "landcolor": "#E5ECF6",
           "showlakes": true,
           "showland": true,
           "subunitcolor": "white"
          },
          "hoverlabel": {
           "align": "left"
          },
          "hovermode": "closest",
          "mapbox": {
           "style": "light"
          },
          "paper_bgcolor": "white",
          "plot_bgcolor": "#E5ECF6",
          "polar": {
           "angularaxis": {
            "gridcolor": "white",
            "linecolor": "white",
            "ticks": ""
           },
           "bgcolor": "#E5ECF6",
           "radialaxis": {
            "gridcolor": "white",
            "linecolor": "white",
            "ticks": ""
           }
          },
          "scene": {
           "xaxis": {
            "backgroundcolor": "#E5ECF6",
            "gridcolor": "white",
            "gridwidth": 2,
            "linecolor": "white",
            "showbackground": true,
            "ticks": "",
            "zerolinecolor": "white"
           },
           "yaxis": {
            "backgroundcolor": "#E5ECF6",
            "gridcolor": "white",
            "gridwidth": 2,
            "linecolor": "white",
            "showbackground": true,
            "ticks": "",
            "zerolinecolor": "white"
           },
           "zaxis": {
            "backgroundcolor": "#E5ECF6",
            "gridcolor": "white",
            "gridwidth": 2,
            "linecolor": "white",
            "showbackground": true,
            "ticks": "",
            "zerolinecolor": "white"
           }
          },
          "shapedefaults": {
           "line": {
            "color": "#2a3f5f"
           }
          },
          "ternary": {
           "aaxis": {
            "gridcolor": "white",
            "linecolor": "white",
            "ticks": ""
           },
           "baxis": {
            "gridcolor": "white",
            "linecolor": "white",
            "ticks": ""
           },
           "bgcolor": "#E5ECF6",
           "caxis": {
            "gridcolor": "white",
            "linecolor": "white",
            "ticks": ""
           }
          },
          "title": {
           "x": 0.05
          },
          "xaxis": {
           "automargin": true,
           "gridcolor": "white",
           "linecolor": "white",
           "ticks": "",
           "title": {
            "standoff": 15
           },
           "zerolinecolor": "white",
           "zerolinewidth": 2
          },
          "yaxis": {
           "automargin": true,
           "gridcolor": "white",
           "linecolor": "white",
           "ticks": "",
           "title": {
            "standoff": 15
           },
           "zerolinecolor": "white",
           "zerolinewidth": 2
          }
         }
        },
        "title": {
         "text": ""
        }
       }
      }
     },
     "metadata": {},
     "output_type": "display_data"
    },
    {
     "data": {
      "application/vnd.plotly.v1+json": {
       "config": {
        "plotlyServerURL": "https://plot.ly"
       },
       "data": [
        {
         "cells": {
          "values": [
           [
            1,
            2,
            3,
            4,
            5
           ],
           [
            6,
            7,
            8,
            9,
            10
           ],
           [
            11,
            12,
            13,
            14,
            15
           ]
          ]
         },
         "header": {
          "values": [
           "Token",
           "Value",
           "extra"
          ]
         },
         "type": "table"
        }
       ],
       "layout": {
        "template": {
         "data": {
          "bar": [
           {
            "error_x": {
             "color": "#2a3f5f"
            },
            "error_y": {
             "color": "#2a3f5f"
            },
            "marker": {
             "line": {
              "color": "#E5ECF6",
              "width": 0.5
             },
             "pattern": {
              "fillmode": "overlay",
              "size": 10,
              "solidity": 0.2
             }
            },
            "type": "bar"
           }
          ],
          "barpolar": [
           {
            "marker": {
             "line": {
              "color": "#E5ECF6",
              "width": 0.5
             },
             "pattern": {
              "fillmode": "overlay",
              "size": 10,
              "solidity": 0.2
             }
            },
            "type": "barpolar"
           }
          ],
          "carpet": [
           {
            "aaxis": {
             "endlinecolor": "#2a3f5f",
             "gridcolor": "white",
             "linecolor": "white",
             "minorgridcolor": "white",
             "startlinecolor": "#2a3f5f"
            },
            "baxis": {
             "endlinecolor": "#2a3f5f",
             "gridcolor": "white",
             "linecolor": "white",
             "minorgridcolor": "white",
             "startlinecolor": "#2a3f5f"
            },
            "type": "carpet"
           }
          ],
          "choropleth": [
           {
            "colorbar": {
             "outlinewidth": 0,
             "ticks": ""
            },
            "type": "choropleth"
           }
          ],
          "contour": [
           {
            "colorbar": {
             "outlinewidth": 0,
             "ticks": ""
            },
            "colorscale": [
             [
              0,
              "#0d0887"
             ],
             [
              0.1111111111111111,
              "#46039f"
             ],
             [
              0.2222222222222222,
              "#7201a8"
             ],
             [
              0.3333333333333333,
              "#9c179e"
             ],
             [
              0.4444444444444444,
              "#bd3786"
             ],
             [
              0.5555555555555556,
              "#d8576b"
             ],
             [
              0.6666666666666666,
              "#ed7953"
             ],
             [
              0.7777777777777778,
              "#fb9f3a"
             ],
             [
              0.8888888888888888,
              "#fdca26"
             ],
             [
              1,
              "#f0f921"
             ]
            ],
            "type": "contour"
           }
          ],
          "contourcarpet": [
           {
            "colorbar": {
             "outlinewidth": 0,
             "ticks": ""
            },
            "type": "contourcarpet"
           }
          ],
          "heatmap": [
           {
            "colorbar": {
             "outlinewidth": 0,
             "ticks": ""
            },
            "colorscale": [
             [
              0,
              "#0d0887"
             ],
             [
              0.1111111111111111,
              "#46039f"
             ],
             [
              0.2222222222222222,
              "#7201a8"
             ],
             [
              0.3333333333333333,
              "#9c179e"
             ],
             [
              0.4444444444444444,
              "#bd3786"
             ],
             [
              0.5555555555555556,
              "#d8576b"
             ],
             [
              0.6666666666666666,
              "#ed7953"
             ],
             [
              0.7777777777777778,
              "#fb9f3a"
             ],
             [
              0.8888888888888888,
              "#fdca26"
             ],
             [
              1,
              "#f0f921"
             ]
            ],
            "type": "heatmap"
           }
          ],
          "heatmapgl": [
           {
            "colorbar": {
             "outlinewidth": 0,
             "ticks": ""
            },
            "colorscale": [
             [
              0,
              "#0d0887"
             ],
             [
              0.1111111111111111,
              "#46039f"
             ],
             [
              0.2222222222222222,
              "#7201a8"
             ],
             [
              0.3333333333333333,
              "#9c179e"
             ],
             [
              0.4444444444444444,
              "#bd3786"
             ],
             [
              0.5555555555555556,
              "#d8576b"
             ],
             [
              0.6666666666666666,
              "#ed7953"
             ],
             [
              0.7777777777777778,
              "#fb9f3a"
             ],
             [
              0.8888888888888888,
              "#fdca26"
             ],
             [
              1,
              "#f0f921"
             ]
            ],
            "type": "heatmapgl"
           }
          ],
          "histogram": [
           {
            "marker": {
             "pattern": {
              "fillmode": "overlay",
              "size": 10,
              "solidity": 0.2
             }
            },
            "type": "histogram"
           }
          ],
          "histogram2d": [
           {
            "colorbar": {
             "outlinewidth": 0,
             "ticks": ""
            },
            "colorscale": [
             [
              0,
              "#0d0887"
             ],
             [
              0.1111111111111111,
              "#46039f"
             ],
             [
              0.2222222222222222,
              "#7201a8"
             ],
             [
              0.3333333333333333,
              "#9c179e"
             ],
             [
              0.4444444444444444,
              "#bd3786"
             ],
             [
              0.5555555555555556,
              "#d8576b"
             ],
             [
              0.6666666666666666,
              "#ed7953"
             ],
             [
              0.7777777777777778,
              "#fb9f3a"
             ],
             [
              0.8888888888888888,
              "#fdca26"
             ],
             [
              1,
              "#f0f921"
             ]
            ],
            "type": "histogram2d"
           }
          ],
          "histogram2dcontour": [
           {
            "colorbar": {
             "outlinewidth": 0,
             "ticks": ""
            },
            "colorscale": [
             [
              0,
              "#0d0887"
             ],
             [
              0.1111111111111111,
              "#46039f"
             ],
             [
              0.2222222222222222,
              "#7201a8"
             ],
             [
              0.3333333333333333,
              "#9c179e"
             ],
             [
              0.4444444444444444,
              "#bd3786"
             ],
             [
              0.5555555555555556,
              "#d8576b"
             ],
             [
              0.6666666666666666,
              "#ed7953"
             ],
             [
              0.7777777777777778,
              "#fb9f3a"
             ],
             [
              0.8888888888888888,
              "#fdca26"
             ],
             [
              1,
              "#f0f921"
             ]
            ],
            "type": "histogram2dcontour"
           }
          ],
          "mesh3d": [
           {
            "colorbar": {
             "outlinewidth": 0,
             "ticks": ""
            },
            "type": "mesh3d"
           }
          ],
          "parcoords": [
           {
            "line": {
             "colorbar": {
              "outlinewidth": 0,
              "ticks": ""
             }
            },
            "type": "parcoords"
           }
          ],
          "pie": [
           {
            "automargin": true,
            "type": "pie"
           }
          ],
          "scatter": [
           {
            "fillpattern": {
             "fillmode": "overlay",
             "size": 10,
             "solidity": 0.2
            },
            "type": "scatter"
           }
          ],
          "scatter3d": [
           {
            "line": {
             "colorbar": {
              "outlinewidth": 0,
              "ticks": ""
             }
            },
            "marker": {
             "colorbar": {
              "outlinewidth": 0,
              "ticks": ""
             }
            },
            "type": "scatter3d"
           }
          ],
          "scattercarpet": [
           {
            "marker": {
             "colorbar": {
              "outlinewidth": 0,
              "ticks": ""
             }
            },
            "type": "scattercarpet"
           }
          ],
          "scattergeo": [
           {
            "marker": {
             "colorbar": {
              "outlinewidth": 0,
              "ticks": ""
             }
            },
            "type": "scattergeo"
           }
          ],
          "scattergl": [
           {
            "marker": {
             "colorbar": {
              "outlinewidth": 0,
              "ticks": ""
             }
            },
            "type": "scattergl"
           }
          ],
          "scattermapbox": [
           {
            "marker": {
             "colorbar": {
              "outlinewidth": 0,
              "ticks": ""
             }
            },
            "type": "scattermapbox"
           }
          ],
          "scatterpolar": [
           {
            "marker": {
             "colorbar": {
              "outlinewidth": 0,
              "ticks": ""
             }
            },
            "type": "scatterpolar"
           }
          ],
          "scatterpolargl": [
           {
            "marker": {
             "colorbar": {
              "outlinewidth": 0,
              "ticks": ""
             }
            },
            "type": "scatterpolargl"
           }
          ],
          "scatterternary": [
           {
            "marker": {
             "colorbar": {
              "outlinewidth": 0,
              "ticks": ""
             }
            },
            "type": "scatterternary"
           }
          ],
          "surface": [
           {
            "colorbar": {
             "outlinewidth": 0,
             "ticks": ""
            },
            "colorscale": [
             [
              0,
              "#0d0887"
             ],
             [
              0.1111111111111111,
              "#46039f"
             ],
             [
              0.2222222222222222,
              "#7201a8"
             ],
             [
              0.3333333333333333,
              "#9c179e"
             ],
             [
              0.4444444444444444,
              "#bd3786"
             ],
             [
              0.5555555555555556,
              "#d8576b"
             ],
             [
              0.6666666666666666,
              "#ed7953"
             ],
             [
              0.7777777777777778,
              "#fb9f3a"
             ],
             [
              0.8888888888888888,
              "#fdca26"
             ],
             [
              1,
              "#f0f921"
             ]
            ],
            "type": "surface"
           }
          ],
          "table": [
           {
            "cells": {
             "fill": {
              "color": "#EBF0F8"
             },
             "line": {
              "color": "white"
             }
            },
            "header": {
             "fill": {
              "color": "#C8D4E3"
             },
             "line": {
              "color": "white"
             }
            },
            "type": "table"
           }
          ]
         },
         "layout": {
          "annotationdefaults": {
           "arrowcolor": "#2a3f5f",
           "arrowhead": 0,
           "arrowwidth": 1
          },
          "autotypenumbers": "strict",
          "coloraxis": {
           "colorbar": {
            "outlinewidth": 0,
            "ticks": ""
           }
          },
          "colorscale": {
           "diverging": [
            [
             0,
             "#8e0152"
            ],
            [
             0.1,
             "#c51b7d"
            ],
            [
             0.2,
             "#de77ae"
            ],
            [
             0.3,
             "#f1b6da"
            ],
            [
             0.4,
             "#fde0ef"
            ],
            [
             0.5,
             "#f7f7f7"
            ],
            [
             0.6,
             "#e6f5d0"
            ],
            [
             0.7,
             "#b8e186"
            ],
            [
             0.8,
             "#7fbc41"
            ],
            [
             0.9,
             "#4d9221"
            ],
            [
             1,
             "#276419"
            ]
           ],
           "sequential": [
            [
             0,
             "#0d0887"
            ],
            [
             0.1111111111111111,
             "#46039f"
            ],
            [
             0.2222222222222222,
             "#7201a8"
            ],
            [
             0.3333333333333333,
             "#9c179e"
            ],
            [
             0.4444444444444444,
             "#bd3786"
            ],
            [
             0.5555555555555556,
             "#d8576b"
            ],
            [
             0.6666666666666666,
             "#ed7953"
            ],
            [
             0.7777777777777778,
             "#fb9f3a"
            ],
            [
             0.8888888888888888,
             "#fdca26"
            ],
            [
             1,
             "#f0f921"
            ]
           ],
           "sequentialminus": [
            [
             0,
             "#0d0887"
            ],
            [
             0.1111111111111111,
             "#46039f"
            ],
            [
             0.2222222222222222,
             "#7201a8"
            ],
            [
             0.3333333333333333,
             "#9c179e"
            ],
            [
             0.4444444444444444,
             "#bd3786"
            ],
            [
             0.5555555555555556,
             "#d8576b"
            ],
            [
             0.6666666666666666,
             "#ed7953"
            ],
            [
             0.7777777777777778,
             "#fb9f3a"
            ],
            [
             0.8888888888888888,
             "#fdca26"
            ],
            [
             1,
             "#f0f921"
            ]
           ]
          },
          "colorway": [
           "#636efa",
           "#EF553B",
           "#00cc96",
           "#ab63fa",
           "#FFA15A",
           "#19d3f3",
           "#FF6692",
           "#B6E880",
           "#FF97FF",
           "#FECB52"
          ],
          "font": {
           "color": "#2a3f5f"
          },
          "geo": {
           "bgcolor": "white",
           "lakecolor": "white",
           "landcolor": "#E5ECF6",
           "showlakes": true,
           "showland": true,
           "subunitcolor": "white"
          },
          "hoverlabel": {
           "align": "left"
          },
          "hovermode": "closest",
          "mapbox": {
           "style": "light"
          },
          "paper_bgcolor": "white",
          "plot_bgcolor": "#E5ECF6",
          "polar": {
           "angularaxis": {
            "gridcolor": "white",
            "linecolor": "white",
            "ticks": ""
           },
           "bgcolor": "#E5ECF6",
           "radialaxis": {
            "gridcolor": "white",
            "linecolor": "white",
            "ticks": ""
           }
          },
          "scene": {
           "xaxis": {
            "backgroundcolor": "#E5ECF6",
            "gridcolor": "white",
            "gridwidth": 2,
            "linecolor": "white",
            "showbackground": true,
            "ticks": "",
            "zerolinecolor": "white"
           },
           "yaxis": {
            "backgroundcolor": "#E5ECF6",
            "gridcolor": "white",
            "gridwidth": 2,
            "linecolor": "white",
            "showbackground": true,
            "ticks": "",
            "zerolinecolor": "white"
           },
           "zaxis": {
            "backgroundcolor": "#E5ECF6",
            "gridcolor": "white",
            "gridwidth": 2,
            "linecolor": "white",
            "showbackground": true,
            "ticks": "",
            "zerolinecolor": "white"
           }
          },
          "shapedefaults": {
           "line": {
            "color": "#2a3f5f"
           }
          },
          "ternary": {
           "aaxis": {
            "gridcolor": "white",
            "linecolor": "white",
            "ticks": ""
           },
           "baxis": {
            "gridcolor": "white",
            "linecolor": "white",
            "ticks": ""
           },
           "bgcolor": "#E5ECF6",
           "caxis": {
            "gridcolor": "white",
            "linecolor": "white",
            "ticks": ""
           }
          },
          "title": {
           "x": 0.05
          },
          "xaxis": {
           "automargin": true,
           "gridcolor": "white",
           "linecolor": "white",
           "ticks": "",
           "title": {
            "standoff": 15
           },
           "zerolinecolor": "white",
           "zerolinewidth": 2
          },
          "yaxis": {
           "automargin": true,
           "gridcolor": "white",
           "linecolor": "white",
           "ticks": "",
           "title": {
            "standoff": 15
           },
           "zerolinecolor": "white",
           "zerolinewidth": 2
          }
         }
        },
        "title": {
         "text": ""
        }
       }
      }
     },
     "metadata": {},
     "output_type": "display_data"
    }
   ],
   "source": [
    "import plotly.graph_objects as go\n",
    "\n",
    "def display_lists_as_table(*lists, names=[], title=\"\"):\n",
    "    # Check if all lists have the same length\n",
    "    list_lengths = [len(lst) for lst in lists]\n",
    "    if len(set(list_lengths)) != 1:\n",
    "        raise ValueError(\"All lists must have the same length.\")\n",
    "\n",
    "    # Create the header values\n",
    "    header_values = [f'Column {i+1}' for i in range(len(lists[0]))]\n",
    "\n",
    "    # Create the data for the table\n",
    "    data = [go.Table(\n",
    "        header=dict(values=names),\n",
    "        cells=dict(values=lists),\n",
    "    )]\n",
    "\n",
    "    # Create the layout\n",
    "    layout = go.Layout(\n",
    "        title=title\n",
    "    )\n",
    "\n",
    "    # Create the figure and display the table\n",
    "    fig = go.Figure(data=data, layout=layout)\n",
    "    fig.show()\n",
    "\n",
    "# Example usage\n",
    "list1 = [1, 2, 3, 4, 5]\n",
    "list2 = [6, 7, 8, 9, 10]\n",
    "list3 = [11, 12, 13, 14, 15]\n",
    "\n",
    "display_lists_as_table(list1, list2, names=[\"Token\", \"Value\"])\n",
    "display_lists_as_table(list1, list2, list3, names=[\"Token\", \"Value\", \"extra\"])"
   ]
  },
  {
   "cell_type": "code",
   "execution_count": 34,
   "metadata": {},
   "outputs": [
    {
     "name": "stderr",
     "output_type": "stream",
     "text": [
      "/usr/local/lib/python3.11/site-packages/huggingface_hub/file_download.py:1132: FutureWarning:\n",
      "\n",
      "`resume_download` is deprecated and will be removed in version 1.0.0. Downloads always resume when possible. If you want to force a new download, use `force_download=True`.\n",
      "\n"
     ]
    },
    {
     "name": "stdout",
     "output_type": "stream",
     "text": [
      "Loaded pretrained model gpt2-small into HookedTransformer\n"
     ]
    }
   ],
   "source": [
    "model = HookedTransformer.from_pretrained(\n",
    "    \"gpt2-small\",\n",
    "    center_unembed=True,\n",
    "    center_writing_weights=True,\n",
    "    fold_ln=True,\n",
    "    refactor_factored_attn_matrices=True,\n",
    ")"
   ]
  },
  {
   "cell_type": "code",
   "execution_count": 35,
   "metadata": {},
   "outputs": [
    {
     "name": "stderr",
     "output_type": "stream",
     "text": [
      "100%|██████████| 1/1 [00:01<00:00,  1.32s/it]"
     ]
    },
    {
     "name": "stdout",
     "output_type": "stream",
     "text": [
      "dict_keys(['blocks.7.hook_resid_pre'])\n"
     ]
    },
    {
     "name": "stderr",
     "output_type": "stream",
     "text": [
      "\n"
     ]
    }
   ],
   "source": [
    "layer = 7 # pick a layer you want.\n",
    "\n",
    "hook_point = tutils.get_act_name(\"resid_pre\", layer)\n",
    "saes, sparsities = get_gpt2_res_jb_saes(hook_point)\n",
    "\n",
    "print(saes.keys())\n",
    "sae = saes[hook_point]\n",
    "sae = sae.to(model.W_E.device)"
   ]
  },
  {
   "cell_type": "code",
   "execution_count": 36,
   "metadata": {},
   "outputs": [
    {
     "name": "stdout",
     "output_type": "stream",
     "text": [
      "(tensor([34.4923, 13.2345, 11.3497,  9.1794,  6.1575,  4.6734,  4.3486,  4.2683,\n",
      "         3.7980,  3.7679], device='mps:0', grad_fn=<TopkBackward0>), tensor([14093,  6430, 22331, 19144, 24450, 23221,  6243,  3102,  4745,  5380],\n",
      "       device='mps:0'))\n",
      "34.49229049682617\n",
      "14093\n",
      "tensor([-4.9949e-03, -1.1252e-02, -2.5019e-02, -1.7989e-02, -2.3345e-02,\n",
      "        -1.7728e-02,  1.4336e-02, -4.0011e-02,  2.1098e-02,  2.7976e-02,\n",
      "         1.4074e-02, -1.2264e-02, -2.1630e-02, -9.8924e-03,  7.5899e-02,\n",
      "        -9.5182e-02, -1.5417e-02,  1.3840e-02, -2.4799e-02,  1.8506e-02,\n",
      "        -5.5362e-02, -3.7139e-02,  2.3834e-02, -5.1518e-02, -1.7197e-02,\n",
      "         4.9247e-02,  2.6180e-02, -2.4630e-03,  1.5591e-02, -8.1095e-03,\n",
      "        -1.6908e-02, -4.0562e-02,  5.1226e-02, -2.3033e-02, -1.0005e-02,\n",
      "         2.0077e-02, -3.8991e-02,  1.4347e-02,  4.8115e-03, -5.5510e-02,\n",
      "        -3.3198e-02,  1.9290e-02, -6.7268e-03,  2.3226e-02, -4.9797e-02,\n",
      "        -4.7200e-03,  6.8628e-02,  2.3221e-02, -6.3930e-02,  5.5954e-02,\n",
      "         6.7395e-02,  5.0540e-03, -1.5644e-02, -1.7671e-02,  1.0134e-02,\n",
      "        -3.5560e-02,  1.5967e-02,  5.8088e-02, -1.7024e-02,  4.6284e-02,\n",
      "        -5.9169e-02, -3.3751e-02, -1.0742e-03, -9.4911e-03,  2.9455e-03,\n",
      "        -1.1971e-02,  1.0297e-02,  1.4086e-02,  1.7913e-03,  1.5136e-02,\n",
      "         3.4144e-02, -1.1276e-02,  1.6133e-02,  4.5330e-02,  3.1284e-02,\n",
      "         1.1901e-01, -2.4808e-02,  6.0222e-02,  4.5752e-02,  2.6983e-02,\n",
      "        -5.1396e-02,  1.4075e-02,  5.7859e-02, -1.6605e-02,  6.5430e-02,\n",
      "        -2.7655e-02,  3.1934e-02, -1.0084e-02, -5.5796e-02,  3.5394e-02,\n",
      "         5.8927e-02,  1.5982e-02, -8.0743e-02,  7.8745e-03,  4.1859e-02,\n",
      "         2.0454e-02, -1.9407e-02,  3.7754e-04,  2.5688e-02,  1.7074e-02,\n",
      "        -4.8628e-02,  8.1591e-02,  3.4304e-02, -5.3851e-03, -1.5215e-02,\n",
      "         6.5078e-02,  1.6104e-02,  3.5177e-03, -2.0298e-02, -7.6911e-02,\n",
      "        -4.6339e-02, -4.6918e-02,  3.5835e-02,  2.4371e-02, -6.2569e-02,\n",
      "        -7.9199e-03,  7.1097e-03,  4.0588e-02,  1.6647e-02,  2.5357e-02,\n",
      "        -4.8563e-02, -1.8529e-03, -5.7655e-03, -2.1149e-02,  4.7248e-02,\n",
      "         1.1352e-02, -5.1141e-02, -3.6636e-02,  7.1371e-02, -6.5216e-02,\n",
      "        -5.2630e-02,  4.7327e-02, -6.1778e-03, -3.1744e-02, -4.8032e-02,\n",
      "        -4.1957e-02,  1.9412e-02,  1.4466e-02, -2.5609e-03, -3.5278e-02,\n",
      "        -1.5246e-02, -3.7077e-02, -2.3570e-02,  2.1616e-02, -3.3427e-02,\n",
      "         5.4813e-03, -1.1315e-01,  5.8958e-02,  2.0318e-02, -4.3122e-02,\n",
      "        -2.5305e-03, -5.1331e-02, -5.3383e-02, -4.8764e-02,  5.2231e-03,\n",
      "        -3.7198e-03,  3.2162e-02, -1.9793e-02,  5.2349e-02, -1.6969e-02,\n",
      "        -5.6563e-02, -1.6931e-02,  5.3335e-02, -1.3013e-02,  6.2260e-02,\n",
      "         3.7271e-02, -1.0228e-02, -2.5343e-02, -3.5187e-02,  2.5206e-02,\n",
      "        -6.1643e-03,  9.3229e-03,  3.5957e-02, -2.6457e-02,  2.5157e-02,\n",
      "         2.6653e-02, -1.8383e-02,  5.7690e-03,  1.4044e-02, -1.9249e-02,\n",
      "        -8.3597e-02,  7.3238e-03,  1.7446e-02,  4.8551e-02,  5.8890e-02,\n",
      "        -6.8023e-03, -2.2812e-03,  2.2208e-02, -1.3194e-04,  2.7377e-03,\n",
      "         2.6152e-02,  2.0609e-02, -1.4135e-02, -2.4453e-02, -7.8352e-03,\n",
      "        -5.2758e-02, -1.9904e-03,  1.5478e-02, -9.8735e-03,  2.4690e-02,\n",
      "         6.0869e-03,  2.7694e-02,  1.2213e-02,  1.3048e-02, -7.6635e-03,\n",
      "        -2.3058e-02,  1.8121e-03, -9.6903e-03,  4.3532e-03, -2.5596e-02,\n",
      "         5.7296e-03,  3.2238e-02, -4.3822e-02, -8.0734e-02, -3.0141e-02,\n",
      "         5.9061e-03, -4.4085e-02, -2.4565e-02, -2.0540e-02, -3.2551e-02,\n",
      "        -2.8018e-03, -2.2190e-02, -4.0731e-02, -2.1473e-02, -3.1262e-02,\n",
      "        -5.1490e-02, -4.9381e-02,  6.9803e-03, -2.9707e-02,  5.6517e-02,\n",
      "        -1.3088e-02,  3.8111e-02,  5.2588e-03,  7.1120e-02, -2.1790e-02,\n",
      "         4.6032e-02,  2.4372e-02,  8.7349e-02,  5.4263e-02,  2.0760e-02,\n",
      "         3.0002e-02,  4.4897e-02, -2.9139e-02,  4.9383e-02,  5.1794e-02,\n",
      "        -3.8322e-02,  5.8246e-02, -1.3122e-02,  1.6712e-02, -1.0561e-02,\n",
      "        -2.7918e-02,  4.9949e-02, -2.0759e-02,  4.1104e-02, -4.7326e-02,\n",
      "         1.5751e-02, -2.1053e-02,  2.7735e-03,  1.8615e-03,  3.3851e-02,\n",
      "        -5.5460e-03, -3.8893e-02, -6.9397e-03, -7.8283e-02, -1.1044e-02,\n",
      "        -1.3180e-02, -9.4331e-03, -3.7357e-02, -2.2156e-02, -3.8836e-02,\n",
      "         4.1341e-02,  1.5261e-02, -2.3892e-02, -7.1231e-02,  4.5816e-02,\n",
      "        -1.6891e-02,  1.9438e-02, -1.6455e-02,  1.9777e-02, -1.3733e-02,\n",
      "        -5.2227e-02,  7.4112e-03, -2.9848e-02, -2.2831e-02,  5.5701e-02,\n",
      "        -3.3756e-02, -4.0504e-02, -4.6067e-02, -6.6213e-02, -1.7462e-03,\n",
      "         2.5510e-02, -8.2393e-03,  2.9763e-03, -2.3547e-03, -5.9124e-03,\n",
      "         6.6909e-02,  3.5602e-02,  3.0781e-02,  2.8222e-02, -8.3749e-03,\n",
      "         2.1618e-02,  3.1252e-03,  1.2426e-02,  1.8317e-02, -6.4773e-03,\n",
      "         2.5953e-02, -2.0891e-02,  2.1549e-02,  6.9782e-03, -2.4268e-02,\n",
      "        -3.1189e-02,  4.6640e-02,  2.0301e-02,  6.2399e-02, -7.0611e-02,\n",
      "         1.6997e-02, -2.5460e-02, -5.3012e-02, -3.5024e-03,  3.1682e-02,\n",
      "        -8.9989e-03, -2.9182e-02, -3.4159e-03,  4.0678e-02, -7.0650e-02,\n",
      "        -1.5829e-02,  6.3531e-03,  7.5080e-02,  1.0512e-02,  4.0043e-02,\n",
      "        -2.4702e-02,  4.1490e-02, -4.9583e-02, -1.9317e-02,  8.8109e-02,\n",
      "         2.9470e-02, -9.2869e-02, -4.9043e-02, -2.4961e-02,  9.6766e-03,\n",
      "        -5.0516e-02,  1.0367e-02, -1.0171e-02,  3.1577e-02, -1.6229e-02,\n",
      "         3.9508e-02, -4.6462e-02,  1.8918e-02,  1.8342e-03, -1.4982e-02,\n",
      "        -4.7030e-02, -1.0837e-02,  6.0086e-02, -2.4097e-02, -1.5875e-02,\n",
      "         9.6549e-03,  4.2099e-03,  2.9728e-02, -2.1334e-02, -4.4647e-02,\n",
      "        -1.9831e-03, -1.8419e-02,  4.8550e-02, -3.1522e-02,  1.8497e-02,\n",
      "         2.7426e-03,  3.4321e-04, -1.9404e-02, -7.0237e-02, -5.3508e-03,\n",
      "         2.2632e-02,  4.1488e-03, -3.6098e-02,  6.7368e-02, -4.5217e-02,\n",
      "         1.2757e-02, -4.1050e-02,  1.3471e-02,  3.9987e-03,  1.6330e-02,\n",
      "        -5.1305e-02,  1.0418e-02,  7.2549e-03,  5.3341e-02,  2.5887e-02,\n",
      "        -5.1647e-05,  7.6890e-02, -1.1222e-02,  5.2484e-02,  1.7772e-02,\n",
      "         8.9604e-02, -4.4907e-02, -2.6098e-02,  1.0677e-02, -2.5322e-03,\n",
      "        -1.5528e-02,  3.0688e-02, -3.2895e-02, -5.0582e-02, -1.9285e-02,\n",
      "         1.0035e-02, -2.5634e-02,  4.8433e-02, -2.5959e-02,  1.3615e-02,\n",
      "        -2.9778e-02, -1.1415e-02, -1.7149e-02,  2.0987e-02,  1.0852e-02,\n",
      "         1.0139e-02, -1.0514e-02, -4.0284e-02,  2.4823e-02, -4.4818e-02,\n",
      "        -2.7017e-02, -4.3429e-03,  3.3903e-02,  1.1243e-02, -2.3291e-02,\n",
      "         1.0750e-02, -6.3107e-02, -1.8370e-02,  1.2119e-02, -1.2752e-02,\n",
      "        -4.6801e-02,  3.9775e-02, -1.2044e-01, -1.2094e-02,  1.1954e-02,\n",
      "        -2.9687e-02,  2.2375e-02,  2.7635e-02, -8.5953e-02,  4.7990e-02,\n",
      "        -3.9231e-02,  3.8116e-02,  1.0932e-02,  3.0059e-02, -1.4326e-03,\n",
      "        -7.8992e-03,  1.3173e-02, -3.4376e-02, -2.2858e-02, -6.0189e-02,\n",
      "         1.4805e-03, -4.1314e-02, -3.8307e-02, -8.4855e-03, -2.0915e-02,\n",
      "        -6.1030e-02, -3.8658e-02, -1.8542e-02, -7.0321e-03, -2.8085e-02,\n",
      "        -6.9699e-02,  1.1258e-02,  2.6530e-02,  4.5859e-02, -4.1140e-02,\n",
      "        -4.1576e-02, -1.3382e-02, -3.1426e-02, -7.6724e-02, -7.2689e-03,\n",
      "        -7.5900e-03, -3.0495e-03,  1.9056e-02, -2.3752e-02, -4.2139e-02,\n",
      "        -5.1021e-02, -1.2436e-02, -4.7741e-02,  3.4909e-02, -1.5253e-02,\n",
      "        -6.7420e-02, -2.0789e-02, -3.4958e-02, -3.2519e-02, -1.0735e-02,\n",
      "        -6.0499e-03,  1.1743e-02, -1.9589e-02,  4.8764e-02, -2.5787e-02,\n",
      "         1.3613e-03,  6.4431e-04,  2.5689e-02, -3.5163e-02,  1.5247e-02,\n",
      "         2.0381e-02, -7.3468e-02,  5.6352e-03,  7.9547e-02, -2.8527e-02,\n",
      "         2.7309e-02, -7.3390e-02, -2.2461e-02,  1.7502e-02, -2.5135e-02,\n",
      "         7.1298e-03, -4.1649e-02,  1.7631e-02, -2.2450e-02, -2.8227e-03,\n",
      "        -5.1028e-02,  1.4696e-02,  3.4517e-02, -4.0660e-03,  3.6133e-02,\n",
      "         2.6396e-02,  5.6303e-02,  3.7715e-02,  2.1678e-02,  3.1012e-02,\n",
      "         1.7305e-02,  1.8952e-02,  4.0078e-02, -2.0832e-02,  6.2985e-02,\n",
      "        -4.8231e-03,  5.0726e-03, -2.2621e-02,  5.7542e-02, -3.9305e-02,\n",
      "         4.9702e-03,  2.9910e-02, -1.0722e-01,  6.1432e-02, -6.2520e-03,\n",
      "        -5.2126e-02, -8.4108e-03,  6.2941e-02,  9.8887e-03,  1.6307e-02,\n",
      "        -2.3822e-02, -4.9816e-02, -7.1306e-02,  2.3592e-03, -1.3225e-02,\n",
      "         3.4092e-02, -1.2245e-02,  4.2626e-02,  2.0596e-02,  1.4049e-02,\n",
      "         4.7526e-02,  5.6914e-02, -3.2965e-02,  8.3013e-02, -3.1414e-02,\n",
      "        -3.3762e-02, -4.4773e-02, -3.7231e-02, -1.4718e-02, -1.6125e-02,\n",
      "        -3.0708e-02, -6.8782e-02, -2.9072e-02, -1.3774e-02, -1.7383e-02,\n",
      "        -5.7398e-02,  3.4725e-02,  1.5929e-02, -3.8667e-02,  1.2641e-02,\n",
      "         8.6585e-03, -1.2095e-02, -7.6249e-02,  5.2779e-02, -4.3820e-03,\n",
      "         2.6241e-02, -1.3701e-02,  3.0316e-02,  5.2250e-02,  4.0438e-02,\n",
      "        -1.7255e-03, -4.3633e-02, -2.3203e-02,  5.1195e-02,  6.9613e-04,\n",
      "         4.5661e-02, -4.8276e-02,  3.3454e-02,  1.7185e-02, -3.7471e-02,\n",
      "         9.7344e-03, -2.0599e-02,  1.2769e-02,  2.3347e-02,  2.3234e-02,\n",
      "         3.7306e-02,  2.3659e-02, -1.6747e-04, -1.6955e-02,  5.1807e-03,\n",
      "         1.8077e-02, -5.4339e-02, -1.3023e-02, -1.7916e-02, -1.1973e-01,\n",
      "        -1.3240e-02,  3.0465e-02, -5.1473e-04,  1.1852e-02,  5.7135e-03,\n",
      "        -2.7295e-03, -1.1630e-02, -1.3402e-03,  1.5596e-02, -1.1316e-02,\n",
      "        -1.7730e-03,  1.0940e-02, -9.4759e-03,  3.5243e-02,  1.3551e-02,\n",
      "         9.1594e-03,  3.5346e-03, -4.8066e-02,  3.6322e-02, -9.5420e-03,\n",
      "        -6.9733e-02, -5.8500e-03,  1.4728e-02, -6.5638e-02,  4.5763e-02,\n",
      "        -1.9514e-03, -2.8390e-02, -4.7860e-02,  1.3685e-02, -5.5836e-02,\n",
      "        -3.3175e-02, -6.7461e-03,  2.4911e-02, -5.0700e-03, -2.6269e-02,\n",
      "         2.5193e-02,  3.1092e-02, -4.0801e-02,  5.7671e-03,  6.7869e-03,\n",
      "        -8.7304e-02,  7.8130e-02,  3.1122e-02,  3.9461e-02, -2.6652e-02,\n",
      "        -7.9442e-03, -4.9487e-02,  9.0672e-02,  1.3172e-02, -5.4637e-02,\n",
      "         6.6445e-04,  9.6342e-03, -2.9424e-03, -5.7116e-02, -5.1363e-02,\n",
      "         2.6036e-02, -5.3709e-02, -2.3461e-04,  2.3836e-02,  3.7960e-02,\n",
      "        -5.8919e-02,  2.8606e-02,  1.1317e-02, -5.4875e-02, -2.7533e-02,\n",
      "         3.9865e-02,  1.4794e-02, -4.7179e-02,  2.3542e-02,  4.1644e-02,\n",
      "        -2.9983e-02,  4.9142e-02,  6.6573e-03,  1.7069e-02, -1.5321e-02,\n",
      "         4.1955e-02, -2.1418e-02,  9.2206e-02, -2.4811e-02, -1.8177e-03,\n",
      "         1.4474e-02, -4.2370e-03,  2.7004e-02,  5.7381e-02, -5.2250e-04,\n",
      "         2.0830e-02,  8.6431e-03, -1.2879e-02,  3.9447e-02, -3.1056e-02,\n",
      "         6.6802e-02,  7.1874e-02,  7.9690e-02, -4.6608e-02,  1.5013e-02,\n",
      "        -2.1270e-03,  8.1243e-03, -2.9434e-02, -1.9270e-02,  5.6652e-02,\n",
      "         1.2248e-02, -7.6474e-03, -1.3229e-02,  1.4131e-02, -2.1257e-02,\n",
      "         2.6900e-02,  1.1754e-02,  1.8249e-02, -1.6879e-02,  1.0164e-02,\n",
      "         3.1892e-02, -6.4994e-03,  7.5676e-02,  5.4846e-03, -9.6841e-03,\n",
      "        -8.9899e-03,  5.2392e-02, -4.1490e-02, -3.1547e-03, -1.1315e-04,\n",
      "         2.8208e-02, -3.2105e-02, -2.6244e-02,  2.5343e-02, -3.6619e-04,\n",
      "         9.1269e-03, -9.4227e-03, -1.6326e-02, -5.2561e-02, -9.1606e-02,\n",
      "         2.6232e-02, -1.1644e-01, -1.5494e-02,  2.0264e-02,  2.9728e-02,\n",
      "         4.4821e-03,  1.7474e-02, -2.4119e-02,  8.7036e-04, -1.1095e-03,\n",
      "        -3.4505e-02,  2.3904e-03,  3.4394e-02, -4.4084e-02, -1.5055e-02,\n",
      "        -1.8807e-02, -8.1984e-03,  2.9651e-02, -2.1660e-02,  2.4454e-02,\n",
      "         8.3057e-03, -6.1287e-03, -6.1666e-02, -1.1641e-03, -3.1933e-02,\n",
      "         2.5972e-02,  4.0041e-03, -3.6052e-02,  1.4814e-03,  2.2659e-02,\n",
      "         1.5144e-02, -2.9509e-02, -1.4866e-02, -3.7613e-02, -1.1509e-02,\n",
      "        -4.2348e-02,  4.6853e-02, -1.3076e-03], device='mps:0',\n",
      "       grad_fn=<SliceBackward0>)\n",
      "34.49229049682617\n"
     ]
    }
   ],
   "source": [
    "def top_acts_at_pos(text, pos=-1, silent=True, prepend_bos=True, n_top=10):\n",
    "    logits, cache = model.run_with_cache(text, prepend_bos=prepend_bos)\n",
    "    if pos is None:\n",
    "        hidden_state = cache[hook_point][0, :, :]\n",
    "    else:\n",
    "        hidden_state = cache[hook_point][0, pos, :].unsqueeze(0)\n",
    "    feature_acts = sae(hidden_state).feature_acts\n",
    "    feature_acts = feature_acts.mean(dim=0)\n",
    "    top_v, top_i = t.topk(feature_acts, n_top)\n",
    "    return top_v, top_i\n",
    "\n",
    "top_activations = top_acts_at_pos(\"This day was like\", pos=-1)\n",
    "print(top_activations)\n",
    "\n",
    "print(top_activations[0][0].item())\n",
    "print(top_activations[1][0].item())\n",
    "\n",
    "metaphor_vector = sae.W_dec[top_activations[1][0].item(), :]\n",
    "metaphor_activation = top_activations[0][0].item()\n",
    "\n",
    "print(metaphor_vector)\n",
    "print(metaphor_activation)"
   ]
  },
  {
   "cell_type": "code",
   "execution_count": 112,
   "metadata": {},
   "outputs": [
    {
     "name": "stdout",
     "output_type": "stream",
     "text": [
      "[588, 257]\n"
     ]
    },
    {
     "name": "stderr",
     "output_type": "stream",
     "text": [
      "  0%|          | 0/1 [00:00<?, ?it/s]"
     ]
    },
    {
     "name": "stdout",
     "output_type": "stream",
     "text": [
      "['Seeing', 'Ġthis', 'Ġview', 'Ġwas']\n",
      "torch.Size([1, 5, 768])\n"
     ]
    },
    {
     "data": {
      "application/vnd.plotly.v1+json": {
       "config": {
        "plotlyServerURL": "https://plot.ly"
       },
       "data": [
        {
         "cells": {
          "values": [
           [
            1,
            2,
            3,
            4,
            5,
            6,
            7,
            8,
            9,
            10,
            11,
            12,
            13,
            14,
            15,
            16,
            17,
            18,
            19,
            20
           ],
           [
            "-",
            " like",
            " having",
            " seeing",
            " thinking",
            " with",
            " when",
            " a",
            " the",
            " just",
            " getting",
            ",",
            " if",
            " giving",
            " taking",
            " lifting",
            " saying",
            ":",
            " trying",
            " not"
           ],
           [
            17.514150619506836,
            15.655723571777344,
            13.359094619750977,
            13.344956398010254,
            13.059667587280273,
            12.836671829223633,
            12.798958778381348,
            12.476161003112793,
            12.399778366088867,
            12.185774803161621,
            12.12405014038086,
            12.079765319824219,
            12.07374382019043,
            12.040803909301758,
            12.015642166137695,
            12.00209903717041,
            11.882747650146484,
            11.881383895874023,
            11.787080764770508,
            11.627652168273926
           ]
          ]
         },
         "header": {
          "values": [
           "Logit Position",
           "Token",
           "Value"
          ]
         },
         "type": "table"
        }
       ],
       "layout": {
        "template": {
         "data": {
          "bar": [
           {
            "error_x": {
             "color": "#2a3f5f"
            },
            "error_y": {
             "color": "#2a3f5f"
            },
            "marker": {
             "line": {
              "color": "#E5ECF6",
              "width": 0.5
             },
             "pattern": {
              "fillmode": "overlay",
              "size": 10,
              "solidity": 0.2
             }
            },
            "type": "bar"
           }
          ],
          "barpolar": [
           {
            "marker": {
             "line": {
              "color": "#E5ECF6",
              "width": 0.5
             },
             "pattern": {
              "fillmode": "overlay",
              "size": 10,
              "solidity": 0.2
             }
            },
            "type": "barpolar"
           }
          ],
          "carpet": [
           {
            "aaxis": {
             "endlinecolor": "#2a3f5f",
             "gridcolor": "white",
             "linecolor": "white",
             "minorgridcolor": "white",
             "startlinecolor": "#2a3f5f"
            },
            "baxis": {
             "endlinecolor": "#2a3f5f",
             "gridcolor": "white",
             "linecolor": "white",
             "minorgridcolor": "white",
             "startlinecolor": "#2a3f5f"
            },
            "type": "carpet"
           }
          ],
          "choropleth": [
           {
            "colorbar": {
             "outlinewidth": 0,
             "ticks": ""
            },
            "type": "choropleth"
           }
          ],
          "contour": [
           {
            "colorbar": {
             "outlinewidth": 0,
             "ticks": ""
            },
            "colorscale": [
             [
              0,
              "#0d0887"
             ],
             [
              0.1111111111111111,
              "#46039f"
             ],
             [
              0.2222222222222222,
              "#7201a8"
             ],
             [
              0.3333333333333333,
              "#9c179e"
             ],
             [
              0.4444444444444444,
              "#bd3786"
             ],
             [
              0.5555555555555556,
              "#d8576b"
             ],
             [
              0.6666666666666666,
              "#ed7953"
             ],
             [
              0.7777777777777778,
              "#fb9f3a"
             ],
             [
              0.8888888888888888,
              "#fdca26"
             ],
             [
              1,
              "#f0f921"
             ]
            ],
            "type": "contour"
           }
          ],
          "contourcarpet": [
           {
            "colorbar": {
             "outlinewidth": 0,
             "ticks": ""
            },
            "type": "contourcarpet"
           }
          ],
          "heatmap": [
           {
            "colorbar": {
             "outlinewidth": 0,
             "ticks": ""
            },
            "colorscale": [
             [
              0,
              "#0d0887"
             ],
             [
              0.1111111111111111,
              "#46039f"
             ],
             [
              0.2222222222222222,
              "#7201a8"
             ],
             [
              0.3333333333333333,
              "#9c179e"
             ],
             [
              0.4444444444444444,
              "#bd3786"
             ],
             [
              0.5555555555555556,
              "#d8576b"
             ],
             [
              0.6666666666666666,
              "#ed7953"
             ],
             [
              0.7777777777777778,
              "#fb9f3a"
             ],
             [
              0.8888888888888888,
              "#fdca26"
             ],
             [
              1,
              "#f0f921"
             ]
            ],
            "type": "heatmap"
           }
          ],
          "heatmapgl": [
           {
            "colorbar": {
             "outlinewidth": 0,
             "ticks": ""
            },
            "colorscale": [
             [
              0,
              "#0d0887"
             ],
             [
              0.1111111111111111,
              "#46039f"
             ],
             [
              0.2222222222222222,
              "#7201a8"
             ],
             [
              0.3333333333333333,
              "#9c179e"
             ],
             [
              0.4444444444444444,
              "#bd3786"
             ],
             [
              0.5555555555555556,
              "#d8576b"
             ],
             [
              0.6666666666666666,
              "#ed7953"
             ],
             [
              0.7777777777777778,
              "#fb9f3a"
             ],
             [
              0.8888888888888888,
              "#fdca26"
             ],
             [
              1,
              "#f0f921"
             ]
            ],
            "type": "heatmapgl"
           }
          ],
          "histogram": [
           {
            "marker": {
             "pattern": {
              "fillmode": "overlay",
              "size": 10,
              "solidity": 0.2
             }
            },
            "type": "histogram"
           }
          ],
          "histogram2d": [
           {
            "colorbar": {
             "outlinewidth": 0,
             "ticks": ""
            },
            "colorscale": [
             [
              0,
              "#0d0887"
             ],
             [
              0.1111111111111111,
              "#46039f"
             ],
             [
              0.2222222222222222,
              "#7201a8"
             ],
             [
              0.3333333333333333,
              "#9c179e"
             ],
             [
              0.4444444444444444,
              "#bd3786"
             ],
             [
              0.5555555555555556,
              "#d8576b"
             ],
             [
              0.6666666666666666,
              "#ed7953"
             ],
             [
              0.7777777777777778,
              "#fb9f3a"
             ],
             [
              0.8888888888888888,
              "#fdca26"
             ],
             [
              1,
              "#f0f921"
             ]
            ],
            "type": "histogram2d"
           }
          ],
          "histogram2dcontour": [
           {
            "colorbar": {
             "outlinewidth": 0,
             "ticks": ""
            },
            "colorscale": [
             [
              0,
              "#0d0887"
             ],
             [
              0.1111111111111111,
              "#46039f"
             ],
             [
              0.2222222222222222,
              "#7201a8"
             ],
             [
              0.3333333333333333,
              "#9c179e"
             ],
             [
              0.4444444444444444,
              "#bd3786"
             ],
             [
              0.5555555555555556,
              "#d8576b"
             ],
             [
              0.6666666666666666,
              "#ed7953"
             ],
             [
              0.7777777777777778,
              "#fb9f3a"
             ],
             [
              0.8888888888888888,
              "#fdca26"
             ],
             [
              1,
              "#f0f921"
             ]
            ],
            "type": "histogram2dcontour"
           }
          ],
          "mesh3d": [
           {
            "colorbar": {
             "outlinewidth": 0,
             "ticks": ""
            },
            "type": "mesh3d"
           }
          ],
          "parcoords": [
           {
            "line": {
             "colorbar": {
              "outlinewidth": 0,
              "ticks": ""
             }
            },
            "type": "parcoords"
           }
          ],
          "pie": [
           {
            "automargin": true,
            "type": "pie"
           }
          ],
          "scatter": [
           {
            "fillpattern": {
             "fillmode": "overlay",
             "size": 10,
             "solidity": 0.2
            },
            "type": "scatter"
           }
          ],
          "scatter3d": [
           {
            "line": {
             "colorbar": {
              "outlinewidth": 0,
              "ticks": ""
             }
            },
            "marker": {
             "colorbar": {
              "outlinewidth": 0,
              "ticks": ""
             }
            },
            "type": "scatter3d"
           }
          ],
          "scattercarpet": [
           {
            "marker": {
             "colorbar": {
              "outlinewidth": 0,
              "ticks": ""
             }
            },
            "type": "scattercarpet"
           }
          ],
          "scattergeo": [
           {
            "marker": {
             "colorbar": {
              "outlinewidth": 0,
              "ticks": ""
             }
            },
            "type": "scattergeo"
           }
          ],
          "scattergl": [
           {
            "marker": {
             "colorbar": {
              "outlinewidth": 0,
              "ticks": ""
             }
            },
            "type": "scattergl"
           }
          ],
          "scattermapbox": [
           {
            "marker": {
             "colorbar": {
              "outlinewidth": 0,
              "ticks": ""
             }
            },
            "type": "scattermapbox"
           }
          ],
          "scatterpolar": [
           {
            "marker": {
             "colorbar": {
              "outlinewidth": 0,
              "ticks": ""
             }
            },
            "type": "scatterpolar"
           }
          ],
          "scatterpolargl": [
           {
            "marker": {
             "colorbar": {
              "outlinewidth": 0,
              "ticks": ""
             }
            },
            "type": "scatterpolargl"
           }
          ],
          "scatterternary": [
           {
            "marker": {
             "colorbar": {
              "outlinewidth": 0,
              "ticks": ""
             }
            },
            "type": "scatterternary"
           }
          ],
          "surface": [
           {
            "colorbar": {
             "outlinewidth": 0,
             "ticks": ""
            },
            "colorscale": [
             [
              0,
              "#0d0887"
             ],
             [
              0.1111111111111111,
              "#46039f"
             ],
             [
              0.2222222222222222,
              "#7201a8"
             ],
             [
              0.3333333333333333,
              "#9c179e"
             ],
             [
              0.4444444444444444,
              "#bd3786"
             ],
             [
              0.5555555555555556,
              "#d8576b"
             ],
             [
              0.6666666666666666,
              "#ed7953"
             ],
             [
              0.7777777777777778,
              "#fb9f3a"
             ],
             [
              0.8888888888888888,
              "#fdca26"
             ],
             [
              1,
              "#f0f921"
             ]
            ],
            "type": "surface"
           }
          ],
          "table": [
           {
            "cells": {
             "fill": {
              "color": "#EBF0F8"
             },
             "line": {
              "color": "white"
             }
            },
            "header": {
             "fill": {
              "color": "#C8D4E3"
             },
             "line": {
              "color": "white"
             }
            },
            "type": "table"
           }
          ]
         },
         "layout": {
          "annotationdefaults": {
           "arrowcolor": "#2a3f5f",
           "arrowhead": 0,
           "arrowwidth": 1
          },
          "autotypenumbers": "strict",
          "coloraxis": {
           "colorbar": {
            "outlinewidth": 0,
            "ticks": ""
           }
          },
          "colorscale": {
           "diverging": [
            [
             0,
             "#8e0152"
            ],
            [
             0.1,
             "#c51b7d"
            ],
            [
             0.2,
             "#de77ae"
            ],
            [
             0.3,
             "#f1b6da"
            ],
            [
             0.4,
             "#fde0ef"
            ],
            [
             0.5,
             "#f7f7f7"
            ],
            [
             0.6,
             "#e6f5d0"
            ],
            [
             0.7,
             "#b8e186"
            ],
            [
             0.8,
             "#7fbc41"
            ],
            [
             0.9,
             "#4d9221"
            ],
            [
             1,
             "#276419"
            ]
           ],
           "sequential": [
            [
             0,
             "#0d0887"
            ],
            [
             0.1111111111111111,
             "#46039f"
            ],
            [
             0.2222222222222222,
             "#7201a8"
            ],
            [
             0.3333333333333333,
             "#9c179e"
            ],
            [
             0.4444444444444444,
             "#bd3786"
            ],
            [
             0.5555555555555556,
             "#d8576b"
            ],
            [
             0.6666666666666666,
             "#ed7953"
            ],
            [
             0.7777777777777778,
             "#fb9f3a"
            ],
            [
             0.8888888888888888,
             "#fdca26"
            ],
            [
             1,
             "#f0f921"
            ]
           ],
           "sequentialminus": [
            [
             0,
             "#0d0887"
            ],
            [
             0.1111111111111111,
             "#46039f"
            ],
            [
             0.2222222222222222,
             "#7201a8"
            ],
            [
             0.3333333333333333,
             "#9c179e"
            ],
            [
             0.4444444444444444,
             "#bd3786"
            ],
            [
             0.5555555555555556,
             "#d8576b"
            ],
            [
             0.6666666666666666,
             "#ed7953"
            ],
            [
             0.7777777777777778,
             "#fb9f3a"
            ],
            [
             0.8888888888888888,
             "#fdca26"
            ],
            [
             1,
             "#f0f921"
            ]
           ]
          },
          "colorway": [
           "#636efa",
           "#EF553B",
           "#00cc96",
           "#ab63fa",
           "#FFA15A",
           "#19d3f3",
           "#FF6692",
           "#B6E880",
           "#FF97FF",
           "#FECB52"
          ],
          "font": {
           "color": "#2a3f5f"
          },
          "geo": {
           "bgcolor": "white",
           "lakecolor": "white",
           "landcolor": "#E5ECF6",
           "showlakes": true,
           "showland": true,
           "subunitcolor": "white"
          },
          "hoverlabel": {
           "align": "left"
          },
          "hovermode": "closest",
          "mapbox": {
           "style": "light"
          },
          "paper_bgcolor": "white",
          "plot_bgcolor": "#E5ECF6",
          "polar": {
           "angularaxis": {
            "gridcolor": "white",
            "linecolor": "white",
            "ticks": ""
           },
           "bgcolor": "#E5ECF6",
           "radialaxis": {
            "gridcolor": "white",
            "linecolor": "white",
            "ticks": ""
           }
          },
          "scene": {
           "xaxis": {
            "backgroundcolor": "#E5ECF6",
            "gridcolor": "white",
            "gridwidth": 2,
            "linecolor": "white",
            "showbackground": true,
            "ticks": "",
            "zerolinecolor": "white"
           },
           "yaxis": {
            "backgroundcolor": "#E5ECF6",
            "gridcolor": "white",
            "gridwidth": 2,
            "linecolor": "white",
            "showbackground": true,
            "ticks": "",
            "zerolinecolor": "white"
           },
           "zaxis": {
            "backgroundcolor": "#E5ECF6",
            "gridcolor": "white",
            "gridwidth": 2,
            "linecolor": "white",
            "showbackground": true,
            "ticks": "",
            "zerolinecolor": "white"
           }
          },
          "shapedefaults": {
           "line": {
            "color": "#2a3f5f"
           }
          },
          "ternary": {
           "aaxis": {
            "gridcolor": "white",
            "linecolor": "white",
            "ticks": ""
           },
           "baxis": {
            "gridcolor": "white",
            "linecolor": "white",
            "ticks": ""
           },
           "bgcolor": "#E5ECF6",
           "caxis": {
            "gridcolor": "white",
            "linecolor": "white",
            "ticks": ""
           }
          },
          "title": {
           "x": 0.05
          },
          "xaxis": {
           "automargin": true,
           "gridcolor": "white",
           "linecolor": "white",
           "ticks": "",
           "title": {
            "standoff": 15
           },
           "zerolinecolor": "white",
           "zerolinewidth": 2
          },
          "yaxis": {
           "automargin": true,
           "gridcolor": "white",
           "linecolor": "white",
           "ticks": "",
           "title": {
            "standoff": 15
           },
           "zerolinecolor": "white",
           "zerolinewidth": 2
          }
         }
        },
        "title": {
         "text": "Seeing this view was..."
        }
       }
      }
     },
     "metadata": {},
     "output_type": "display_data"
    },
    {
     "name": "stdout",
     "output_type": "stream",
     "text": [
      " like_rank: 1\n",
      " a_rank: 7\n",
      "Seeing this view was like\n",
      "torch.Size([1, 6, 768])\n"
     ]
    },
    {
     "data": {
      "application/vnd.plotly.v1+json": {
       "config": {
        "plotlyServerURL": "https://plot.ly"
       },
       "data": [
        {
         "cells": {
          "values": [
           [
            1,
            2,
            3,
            4,
            5,
            6,
            7,
            8,
            9,
            10,
            11,
            12,
            13,
            14,
            15,
            16,
            17,
            18,
            19,
            20
           ],
           [
            " seeing",
            " watching",
            " a",
            " looking",
            " having",
            " hearing",
            " being",
            " the",
            " getting",
            " finding",
            " no",
            " when",
            " going",
            " any",
            " every",
            " with",
            " an",
            " taking",
            " coming",
            " nothing"
           ],
           [
            15.840170860290527,
            14.375977516174316,
            14.172067642211914,
            14.088607788085938,
            13.704950332641602,
            12.902337074279785,
            12.887737274169922,
            12.737372398376465,
            12.598834991455078,
            12.55685043334961,
            12.527387619018555,
            12.399872779846191,
            12.297740936279297,
            12.269899368286133,
            12.197184562683105,
            12.161802291870117,
            12.027280807495117,
            11.956687927246094,
            11.904555320739746,
            11.840460777282715
           ]
          ]
         },
         "header": {
          "values": [
           "Logit Position",
           "Token",
           "Value"
          ]
         },
         "type": "table"
        }
       ],
       "layout": {
        "template": {
         "data": {
          "bar": [
           {
            "error_x": {
             "color": "#2a3f5f"
            },
            "error_y": {
             "color": "#2a3f5f"
            },
            "marker": {
             "line": {
              "color": "#E5ECF6",
              "width": 0.5
             },
             "pattern": {
              "fillmode": "overlay",
              "size": 10,
              "solidity": 0.2
             }
            },
            "type": "bar"
           }
          ],
          "barpolar": [
           {
            "marker": {
             "line": {
              "color": "#E5ECF6",
              "width": 0.5
             },
             "pattern": {
              "fillmode": "overlay",
              "size": 10,
              "solidity": 0.2
             }
            },
            "type": "barpolar"
           }
          ],
          "carpet": [
           {
            "aaxis": {
             "endlinecolor": "#2a3f5f",
             "gridcolor": "white",
             "linecolor": "white",
             "minorgridcolor": "white",
             "startlinecolor": "#2a3f5f"
            },
            "baxis": {
             "endlinecolor": "#2a3f5f",
             "gridcolor": "white",
             "linecolor": "white",
             "minorgridcolor": "white",
             "startlinecolor": "#2a3f5f"
            },
            "type": "carpet"
           }
          ],
          "choropleth": [
           {
            "colorbar": {
             "outlinewidth": 0,
             "ticks": ""
            },
            "type": "choropleth"
           }
          ],
          "contour": [
           {
            "colorbar": {
             "outlinewidth": 0,
             "ticks": ""
            },
            "colorscale": [
             [
              0,
              "#0d0887"
             ],
             [
              0.1111111111111111,
              "#46039f"
             ],
             [
              0.2222222222222222,
              "#7201a8"
             ],
             [
              0.3333333333333333,
              "#9c179e"
             ],
             [
              0.4444444444444444,
              "#bd3786"
             ],
             [
              0.5555555555555556,
              "#d8576b"
             ],
             [
              0.6666666666666666,
              "#ed7953"
             ],
             [
              0.7777777777777778,
              "#fb9f3a"
             ],
             [
              0.8888888888888888,
              "#fdca26"
             ],
             [
              1,
              "#f0f921"
             ]
            ],
            "type": "contour"
           }
          ],
          "contourcarpet": [
           {
            "colorbar": {
             "outlinewidth": 0,
             "ticks": ""
            },
            "type": "contourcarpet"
           }
          ],
          "heatmap": [
           {
            "colorbar": {
             "outlinewidth": 0,
             "ticks": ""
            },
            "colorscale": [
             [
              0,
              "#0d0887"
             ],
             [
              0.1111111111111111,
              "#46039f"
             ],
             [
              0.2222222222222222,
              "#7201a8"
             ],
             [
              0.3333333333333333,
              "#9c179e"
             ],
             [
              0.4444444444444444,
              "#bd3786"
             ],
             [
              0.5555555555555556,
              "#d8576b"
             ],
             [
              0.6666666666666666,
              "#ed7953"
             ],
             [
              0.7777777777777778,
              "#fb9f3a"
             ],
             [
              0.8888888888888888,
              "#fdca26"
             ],
             [
              1,
              "#f0f921"
             ]
            ],
            "type": "heatmap"
           }
          ],
          "heatmapgl": [
           {
            "colorbar": {
             "outlinewidth": 0,
             "ticks": ""
            },
            "colorscale": [
             [
              0,
              "#0d0887"
             ],
             [
              0.1111111111111111,
              "#46039f"
             ],
             [
              0.2222222222222222,
              "#7201a8"
             ],
             [
              0.3333333333333333,
              "#9c179e"
             ],
             [
              0.4444444444444444,
              "#bd3786"
             ],
             [
              0.5555555555555556,
              "#d8576b"
             ],
             [
              0.6666666666666666,
              "#ed7953"
             ],
             [
              0.7777777777777778,
              "#fb9f3a"
             ],
             [
              0.8888888888888888,
              "#fdca26"
             ],
             [
              1,
              "#f0f921"
             ]
            ],
            "type": "heatmapgl"
           }
          ],
          "histogram": [
           {
            "marker": {
             "pattern": {
              "fillmode": "overlay",
              "size": 10,
              "solidity": 0.2
             }
            },
            "type": "histogram"
           }
          ],
          "histogram2d": [
           {
            "colorbar": {
             "outlinewidth": 0,
             "ticks": ""
            },
            "colorscale": [
             [
              0,
              "#0d0887"
             ],
             [
              0.1111111111111111,
              "#46039f"
             ],
             [
              0.2222222222222222,
              "#7201a8"
             ],
             [
              0.3333333333333333,
              "#9c179e"
             ],
             [
              0.4444444444444444,
              "#bd3786"
             ],
             [
              0.5555555555555556,
              "#d8576b"
             ],
             [
              0.6666666666666666,
              "#ed7953"
             ],
             [
              0.7777777777777778,
              "#fb9f3a"
             ],
             [
              0.8888888888888888,
              "#fdca26"
             ],
             [
              1,
              "#f0f921"
             ]
            ],
            "type": "histogram2d"
           }
          ],
          "histogram2dcontour": [
           {
            "colorbar": {
             "outlinewidth": 0,
             "ticks": ""
            },
            "colorscale": [
             [
              0,
              "#0d0887"
             ],
             [
              0.1111111111111111,
              "#46039f"
             ],
             [
              0.2222222222222222,
              "#7201a8"
             ],
             [
              0.3333333333333333,
              "#9c179e"
             ],
             [
              0.4444444444444444,
              "#bd3786"
             ],
             [
              0.5555555555555556,
              "#d8576b"
             ],
             [
              0.6666666666666666,
              "#ed7953"
             ],
             [
              0.7777777777777778,
              "#fb9f3a"
             ],
             [
              0.8888888888888888,
              "#fdca26"
             ],
             [
              1,
              "#f0f921"
             ]
            ],
            "type": "histogram2dcontour"
           }
          ],
          "mesh3d": [
           {
            "colorbar": {
             "outlinewidth": 0,
             "ticks": ""
            },
            "type": "mesh3d"
           }
          ],
          "parcoords": [
           {
            "line": {
             "colorbar": {
              "outlinewidth": 0,
              "ticks": ""
             }
            },
            "type": "parcoords"
           }
          ],
          "pie": [
           {
            "automargin": true,
            "type": "pie"
           }
          ],
          "scatter": [
           {
            "fillpattern": {
             "fillmode": "overlay",
             "size": 10,
             "solidity": 0.2
            },
            "type": "scatter"
           }
          ],
          "scatter3d": [
           {
            "line": {
             "colorbar": {
              "outlinewidth": 0,
              "ticks": ""
             }
            },
            "marker": {
             "colorbar": {
              "outlinewidth": 0,
              "ticks": ""
             }
            },
            "type": "scatter3d"
           }
          ],
          "scattercarpet": [
           {
            "marker": {
             "colorbar": {
              "outlinewidth": 0,
              "ticks": ""
             }
            },
            "type": "scattercarpet"
           }
          ],
          "scattergeo": [
           {
            "marker": {
             "colorbar": {
              "outlinewidth": 0,
              "ticks": ""
             }
            },
            "type": "scattergeo"
           }
          ],
          "scattergl": [
           {
            "marker": {
             "colorbar": {
              "outlinewidth": 0,
              "ticks": ""
             }
            },
            "type": "scattergl"
           }
          ],
          "scattermapbox": [
           {
            "marker": {
             "colorbar": {
              "outlinewidth": 0,
              "ticks": ""
             }
            },
            "type": "scattermapbox"
           }
          ],
          "scatterpolar": [
           {
            "marker": {
             "colorbar": {
              "outlinewidth": 0,
              "ticks": ""
             }
            },
            "type": "scatterpolar"
           }
          ],
          "scatterpolargl": [
           {
            "marker": {
             "colorbar": {
              "outlinewidth": 0,
              "ticks": ""
             }
            },
            "type": "scatterpolargl"
           }
          ],
          "scatterternary": [
           {
            "marker": {
             "colorbar": {
              "outlinewidth": 0,
              "ticks": ""
             }
            },
            "type": "scatterternary"
           }
          ],
          "surface": [
           {
            "colorbar": {
             "outlinewidth": 0,
             "ticks": ""
            },
            "colorscale": [
             [
              0,
              "#0d0887"
             ],
             [
              0.1111111111111111,
              "#46039f"
             ],
             [
              0.2222222222222222,
              "#7201a8"
             ],
             [
              0.3333333333333333,
              "#9c179e"
             ],
             [
              0.4444444444444444,
              "#bd3786"
             ],
             [
              0.5555555555555556,
              "#d8576b"
             ],
             [
              0.6666666666666666,
              "#ed7953"
             ],
             [
              0.7777777777777778,
              "#fb9f3a"
             ],
             [
              0.8888888888888888,
              "#fdca26"
             ],
             [
              1,
              "#f0f921"
             ]
            ],
            "type": "surface"
           }
          ],
          "table": [
           {
            "cells": {
             "fill": {
              "color": "#EBF0F8"
             },
             "line": {
              "color": "white"
             }
            },
            "header": {
             "fill": {
              "color": "#C8D4E3"
             },
             "line": {
              "color": "white"
             }
            },
            "type": "table"
           }
          ]
         },
         "layout": {
          "annotationdefaults": {
           "arrowcolor": "#2a3f5f",
           "arrowhead": 0,
           "arrowwidth": 1
          },
          "autotypenumbers": "strict",
          "coloraxis": {
           "colorbar": {
            "outlinewidth": 0,
            "ticks": ""
           }
          },
          "colorscale": {
           "diverging": [
            [
             0,
             "#8e0152"
            ],
            [
             0.1,
             "#c51b7d"
            ],
            [
             0.2,
             "#de77ae"
            ],
            [
             0.3,
             "#f1b6da"
            ],
            [
             0.4,
             "#fde0ef"
            ],
            [
             0.5,
             "#f7f7f7"
            ],
            [
             0.6,
             "#e6f5d0"
            ],
            [
             0.7,
             "#b8e186"
            ],
            [
             0.8,
             "#7fbc41"
            ],
            [
             0.9,
             "#4d9221"
            ],
            [
             1,
             "#276419"
            ]
           ],
           "sequential": [
            [
             0,
             "#0d0887"
            ],
            [
             0.1111111111111111,
             "#46039f"
            ],
            [
             0.2222222222222222,
             "#7201a8"
            ],
            [
             0.3333333333333333,
             "#9c179e"
            ],
            [
             0.4444444444444444,
             "#bd3786"
            ],
            [
             0.5555555555555556,
             "#d8576b"
            ],
            [
             0.6666666666666666,
             "#ed7953"
            ],
            [
             0.7777777777777778,
             "#fb9f3a"
            ],
            [
             0.8888888888888888,
             "#fdca26"
            ],
            [
             1,
             "#f0f921"
            ]
           ],
           "sequentialminus": [
            [
             0,
             "#0d0887"
            ],
            [
             0.1111111111111111,
             "#46039f"
            ],
            [
             0.2222222222222222,
             "#7201a8"
            ],
            [
             0.3333333333333333,
             "#9c179e"
            ],
            [
             0.4444444444444444,
             "#bd3786"
            ],
            [
             0.5555555555555556,
             "#d8576b"
            ],
            [
             0.6666666666666666,
             "#ed7953"
            ],
            [
             0.7777777777777778,
             "#fb9f3a"
            ],
            [
             0.8888888888888888,
             "#fdca26"
            ],
            [
             1,
             "#f0f921"
            ]
           ]
          },
          "colorway": [
           "#636efa",
           "#EF553B",
           "#00cc96",
           "#ab63fa",
           "#FFA15A",
           "#19d3f3",
           "#FF6692",
           "#B6E880",
           "#FF97FF",
           "#FECB52"
          ],
          "font": {
           "color": "#2a3f5f"
          },
          "geo": {
           "bgcolor": "white",
           "lakecolor": "white",
           "landcolor": "#E5ECF6",
           "showlakes": true,
           "showland": true,
           "subunitcolor": "white"
          },
          "hoverlabel": {
           "align": "left"
          },
          "hovermode": "closest",
          "mapbox": {
           "style": "light"
          },
          "paper_bgcolor": "white",
          "plot_bgcolor": "#E5ECF6",
          "polar": {
           "angularaxis": {
            "gridcolor": "white",
            "linecolor": "white",
            "ticks": ""
           },
           "bgcolor": "#E5ECF6",
           "radialaxis": {
            "gridcolor": "white",
            "linecolor": "white",
            "ticks": ""
           }
          },
          "scene": {
           "xaxis": {
            "backgroundcolor": "#E5ECF6",
            "gridcolor": "white",
            "gridwidth": 2,
            "linecolor": "white",
            "showbackground": true,
            "ticks": "",
            "zerolinecolor": "white"
           },
           "yaxis": {
            "backgroundcolor": "#E5ECF6",
            "gridcolor": "white",
            "gridwidth": 2,
            "linecolor": "white",
            "showbackground": true,
            "ticks": "",
            "zerolinecolor": "white"
           },
           "zaxis": {
            "backgroundcolor": "#E5ECF6",
            "gridcolor": "white",
            "gridwidth": 2,
            "linecolor": "white",
            "showbackground": true,
            "ticks": "",
            "zerolinecolor": "white"
           }
          },
          "shapedefaults": {
           "line": {
            "color": "#2a3f5f"
           }
          },
          "ternary": {
           "aaxis": {
            "gridcolor": "white",
            "linecolor": "white",
            "ticks": ""
           },
           "baxis": {
            "gridcolor": "white",
            "linecolor": "white",
            "ticks": ""
           },
           "bgcolor": "#E5ECF6",
           "caxis": {
            "gridcolor": "white",
            "linecolor": "white",
            "ticks": ""
           }
          },
          "title": {
           "x": 0.05
          },
          "xaxis": {
           "automargin": true,
           "gridcolor": "white",
           "linecolor": "white",
           "ticks": "",
           "title": {
            "standoff": 15
           },
           "zerolinecolor": "white",
           "zerolinewidth": 2
          },
          "yaxis": {
           "automargin": true,
           "gridcolor": "white",
           "linecolor": "white",
           "ticks": "",
           "title": {
            "standoff": 15
           },
           "zerolinecolor": "white",
           "zerolinewidth": 2
          }
         }
        },
        "title": {
         "text": "Seeing this view was like..."
        }
       }
      }
     },
     "metadata": {},
     "output_type": "display_data"
    },
    {
     "name": "stderr",
     "output_type": "stream",
     "text": [
      "100%|██████████| 1/1 [00:01<00:00,  1.69s/it]"
     ]
    },
    {
     "name": "stdout",
     "output_type": "stream",
     "text": [
      " like_rank: 186\n",
      " a_rank: 2\n",
      "Seeing this view was like having\n",
      "Seeing this view was like having\n"
     ]
    },
    {
     "name": "stderr",
     "output_type": "stream",
     "text": [
      "\n"
     ]
    }
   ],
   "source": [
    "def patch_hook(\n",
    "    resid,\n",
    "    hook,\n",
    "    c,\n",
    "    steering_vector,\n",
    "    activation_norm\n",
    "):    \n",
    "    print(resid.shape)\n",
    "    resid[:, 3, :] += c * activation_norm * steering_vector\n",
    "    return resid\n",
    "\n",
    "target_tokens = [\" like\", \" a\"]\n",
    "target_vocab_positions = model.tokenizer.encode(target_tokens)\n",
    "\n",
    "print(target_vocab_positions)\n",
    "\n",
    "# logits, cache = model.run_with_cache(\"It's beautiful here, like\")\n",
    "for i in tqdm(range(1)):\n",
    "    text = \"Seeing this view was\"\n",
    "\n",
    "    print(model.tokenizer.tokenize(text))\n",
    "\n",
    "    n_samples = 2\n",
    "\n",
    "    new_samples = []\n",
    "\n",
    "    for i in range(n_samples):\n",
    "        if i < 2:\n",
    "            logits = model.run_with_hooks(text, fwd_hooks=[(\n",
    "                \"blocks.5.hook_resid_pre\",\n",
    "                partial(patch_hook, c=40, steering_vector=metaphor_vector, activation_norm=metaphor_activation)\n",
    "            )])\n",
    "        else:\n",
    "            logits, cache = model.run_with_cache(text)\n",
    "\n",
    "        # return index positions for all vocab elements ex: [2339, 64]\n",
    "        indices = logits[0,-1].topk(logits[0,-1].shape[0]).indices.tolist()\n",
    "        ranks = [indices.index(v) for v in target_vocab_positions]\n",
    "\n",
    "        # print(model.tokenizer.batch_decode(logits[0,-1].topk(20).indices))\n",
    "\n",
    "        top_logits = logits[0,-1].topk(20)\n",
    "\n",
    "        logit_positions = list(range(1, 21))\n",
    "        tokens = model.tokenizer.batch_decode(top_logits.indices)\n",
    "        values = top_logits.values.tolist()\n",
    "        display_lists_as_table(logit_positions, tokens, values, names=[\"Logit Position\", \"Token\", \"Value\"], title=text + \"...\")\n",
    "\n",
    "        for v, r in zip(target_tokens, ranks):\n",
    "            print(f\"{v}_rank: {r}\")\n",
    "\n",
    "        # print(logits[0][-1].topk(3))\n",
    "        # text += model.tokenizer.decode(logits[0][-1].topk(1).indices[0])\n",
    "        text += model.tokenizer.decode(random.choice(logits[0][-1].topk(11).indices))\n",
    "        new_samples.append(text)\n",
    "        print(text)\n",
    "    print(text)\n",
    "\n"
   ]
  },
  {
   "cell_type": "code",
   "execution_count": null,
   "metadata": {},
   "outputs": [],
   "source": []
  },
  {
   "cell_type": "markdown",
   "metadata": {},
   "source": [
    "# Track a particular logit on a forward pass"
   ]
  },
  {
   "cell_type": "code",
   "execution_count": 38,
   "metadata": {},
   "outputs": [
    {
     "name": "stdout",
     "output_type": "stream",
     "text": [
      "[345]\n",
      "[2564]\n",
      "31796\n",
      "60\n"
     ]
    }
   ],
   "source": [
    "anger = model.tokenizer.encode(\"anger\")\n",
    "you = model.tokenizer.encode(\" you\")\n",
    "\n",
    "print(you)\n",
    "print(anger)\n",
    "\n",
    "# get rank of the word \"anger\" in the vocab\n",
    "anger_rank = logits[0,-1].topk(logits[0,-1].shape[0]).indices.tolist().index(anger[0])\n",
    "you_rank = logits[0,-1].topk(logits[0,-1].shape[0]).indices.tolist().index(you[0])\n",
    "\n",
    "print(anger_rank)\n",
    "print(you_rank)"
   ]
  },
  {
   "cell_type": "code",
   "execution_count": 39,
   "metadata": {},
   "outputs": [
    {
     "name": "stdout",
     "output_type": "stream",
     "text": [
      "28904\n"
     ]
    }
   ],
   "source": [
    "like = model.tokenizer.encode(\"like\")\n",
    "\n",
    "like_rank = logits[0,-1].topk(logits[0,-1].shape[0]).indices.tolist().index(like[0])\n",
    "\n",
    "print(like_rank)"
   ]
  },
  {
   "cell_type": "code",
   "execution_count": 40,
   "metadata": {},
   "outputs": [
    {
     "name": "stdout",
     "output_type": "stream",
     "text": [
      "layer 0\n",
      "[' meant', ' destro', ' mathemat', ' arrang', ' corrid']\n",
      "layer 1\n",
      "[' meant', 'stress', ' wrongly', ' expressly', ' Pv']\n",
      "layer 2\n",
      "[' meant', ' spelling', ' wrongly', ' feeding', 'hift']\n",
      "layer 3\n",
      "[' precisely', ' meant', ' perfectly', ' everything', ' something']\n",
      "layer 4\n",
      "[' something', ' goodbye', ' precisely', 'hift', ' greatly']\n",
      "layer 5\n",
      "[' goodbye', ' something', ' saving', ' everything', ' perfectly']\n",
      "layer 6\n",
      "[' something', ' goodbye', ' precisely', ' perfectly', ' everything']\n",
      "layer 7\n",
      "[' something', ' goodbye', ' everything', ' nothing', ' anything']\n",
      "layer 8\n",
      "[' something', ' nothing', ' goodbye', ' everything', ' anything']\n",
      "layer 9\n",
      "[' something', ' nothing', ' sacrificing', ' everything', ' anything']\n",
      "layer 10\n",
      "[' something', ' sacrificing', ' nothing', ' saving', ' abandoning']\n",
      "layer 11\n",
      "[' something', ' sacrificing', ' abandoning', ' nothing', ' shutting']\n",
      "final output\n",
      "[' that', ' something', ' a', ' the', ' we']\n"
     ]
    }
   ],
   "source": [
    "# project out the logits at every position\n",
    "W_U = model.W_U\n",
    "\n",
    "# cache residual post\n",
    "for layer in range(model.cfg.n_layers):\n",
    "    print(f\"layer {layer}\")\n",
    "    residual_stream_layer = cache[f\"blocks.{layer}.hook_resid_pre\"]\n",
    "\n",
    "    ## multiplying the current residual stream by W_U to get predicted tokens at that point\n",
    "    ## this is the same as ablating all later layers and getting the logits\n",
    "    unembedded_vocab = einops.einsum(\n",
    "        residual_stream_layer,\n",
    "        W_U,\n",
    "        \"b n d, d e -> b n e\"\n",
    "    )\n",
    "\n",
    "    # print(unembedded_layer.shape)\n",
    "    top_logits = unembedded_vocab[0,-1].topk(5)\n",
    "    print(model.tokenizer.batch_decode(unembedded_vocab[0,-1].topk(5).indices))\n",
    "print(\"final output\")\n",
    "print(model.tokenizer.batch_decode(logits[0,-1].topk(5).indices))"
   ]
  },
  {
   "cell_type": "code",
   "execution_count": 41,
   "metadata": {},
   "outputs": [
    {
     "name": "stdout",
     "output_type": "stream",
     "text": [
      "326\n"
     ]
    }
   ],
   "source": [
    "# I want to be able to track specific tokens\n",
    "# I want to be able to see the top activations.\n",
    "\n",
    "top_logit = logits[0,-1].topk(1).indices.item()\n",
    "print(top_logit)\n"
   ]
  },
  {
   "cell_type": "code",
   "execution_count": null,
   "metadata": {},
   "outputs": [],
   "source": []
  },
  {
   "cell_type": "code",
   "execution_count": 42,
   "metadata": {},
   "outputs": [],
   "source": [
    "# Ok we want some kind of metric that we can use from this stuff.\n",
    "# When we make an intervention, how does it change the downstream activations? The logits?\n",
    "# And specifically, how does it change particular logits that we are interested in?\n",
    "\n",
    "# We can do this by looking at the activations of the token we are interested in, and then looking at the activations of the token we are interested in after the intervention.\n"
   ]
  },
  {
   "cell_type": "code",
   "execution_count": 113,
   "metadata": {},
   "outputs": [
    {
     "data": {
      "text/html": [
       "<style type=\"text/css\">\n",
       "#T_74c1f th {\n",
       "  background-color: #4CAF50;\n",
       "  color: white;\n",
       "  text-align: center;\n",
       "  padding: 10px;\n",
       "  font-size: 14px;\n",
       "  border-bottom: 2px solid #ddd;\n",
       "}\n",
       "#T_74c1f td {\n",
       "  text-align: center;\n",
       "  padding: 8px;\n",
       "  font-size: 13px;\n",
       "  border-bottom: 1px solid #ddd;\n",
       "}\n",
       "#T_74c1f tr:nth-child(odd) {\n",
       "  background-color: #f2f2f2;\n",
       "}\n",
       "#T_74c1f tr:nth-child(even) {\n",
       "  background-color: white;\n",
       "}\n",
       "#T_74c1f table {\n",
       "  border-collapse: collapse;\n",
       "  width: 50%;\n",
       "  margin: 25px 0;\n",
       "  font-family: Arial, sans-serif;\n",
       "}\n",
       "</style>\n",
       "<table id=\"T_74c1f\">\n",
       "  <thead>\n",
       "    <tr>\n",
       "      <th class=\"blank level0\" >&nbsp;</th>\n",
       "      <th id=\"T_74c1f_level0_col0\" class=\"col_heading level0 col0\" >Token</th>\n",
       "      <th id=\"T_74c1f_level0_col1\" class=\"col_heading level0 col1\" >Probability</th>\n",
       "    </tr>\n",
       "  </thead>\n",
       "  <tbody>\n",
       "    <tr>\n",
       "      <th id=\"T_74c1f_level0_row0\" class=\"row_heading level0 row0\" >0</th>\n",
       "      <td id=\"T_74c1f_row0_col0\" class=\"data row0 col0\" >Test</td>\n",
       "      <td id=\"T_74c1f_row0_col1\" class=\"data row0 col1\" >1.239000</td>\n",
       "    </tr>\n",
       "    <tr>\n",
       "      <th id=\"T_74c1f_level0_row1\" class=\"row_heading level0 row1\" >1</th>\n",
       "      <td id=\"T_74c1f_row1_col0\" class=\"data row1 col0\" >Example</td>\n",
       "      <td id=\"T_74c1f_row1_col1\" class=\"data row1 col1\" >0.859000</td>\n",
       "    </tr>\n",
       "    <tr>\n",
       "      <th id=\"T_74c1f_level0_row2\" class=\"row_heading level0 row2\" >2</th>\n",
       "      <td id=\"T_74c1f_row2_col0\" class=\"data row2 col0\" >Python</td>\n",
       "      <td id=\"T_74c1f_row2_col1\" class=\"data row2 col1\" >1.523000</td>\n",
       "    </tr>\n",
       "    <tr>\n",
       "      <th id=\"T_74c1f_level0_row3\" class=\"row_heading level0 row3\" >3</th>\n",
       "      <td id=\"T_74c1f_row3_col0\" class=\"data row3 col0\" >Notebook</td>\n",
       "      <td id=\"T_74c1f_row3_col1\" class=\"data row3 col1\" >0.742000</td>\n",
       "    </tr>\n",
       "    <tr>\n",
       "      <th id=\"T_74c1f_level0_row4\" class=\"row_heading level0 row4\" >4</th>\n",
       "      <td id=\"T_74c1f_row4_col0\" class=\"data row4 col0\" >Table</td>\n",
       "      <td id=\"T_74c1f_row4_col1\" class=\"data row4 col1\" >1.187000</td>\n",
       "    </tr>\n",
       "  </tbody>\n",
       "</table>\n"
      ],
      "text/plain": [
       "<pandas.io.formats.style.Styler at 0x1452f82d0>"
      ]
     },
     "execution_count": 113,
     "metadata": {},
     "output_type": "execute_result"
    }
   ],
   "source": [
    "import pandas as pd\n",
    "\n",
    "# Create a sample dataset\n",
    "data = [\n",
    "    [\"Test\", 1.239],\n",
    "    [\"Example\", 0.859],\n",
    "    [\"Python\", 1.523],\n",
    "    [\"Notebook\", 0.742],\n",
    "    [\"Table\", 1.187]\n",
    "]\n",
    "\n",
    "# Create a pandas DataFrame\n",
    "df = pd.DataFrame(data, columns=[\"Token\", \"Probability\"])\n",
    "\n",
    "# Define custom styles\n",
    "styles = [\n",
    "    {'selector': 'th', 'props': [('background-color', '#4CAF50'), \n",
    "                                 ('color', 'white'), \n",
    "                                 ('text-align', 'center'), \n",
    "                                 ('padding', '10px'),\n",
    "                                 ('font-size', '14px'),\n",
    "                                 ('border-bottom', '2px solid #ddd')]},\n",
    "    {'selector': 'td', 'props': [('text-align', 'center'), \n",
    "                                 ('padding', '8px'),\n",
    "                                 ('font-size', '13px'),\n",
    "                                 ('border-bottom', '1px solid #ddd')]},\n",
    "    {'selector': 'tr:nth-child(odd)', 'props': [('background-color', '#f2f2f2')]},\n",
    "    {'selector': 'tr:nth-child(even)', 'props': [('background-color', 'white')]},\n",
    "    {'selector': 'table', 'props': [('border-collapse', 'collapse'), \n",
    "                                    ('width', '50%'), \n",
    "                                    ('margin', '25px 0'),\n",
    "                                    ('font-family', 'Arial, sans-serif')]}\n",
    "]\n",
    "\n",
    "# Apply the styles to the DataFrame\n",
    "styled_df = df.style.set_table_styles(styles)\n",
    "\n",
    "# Display the styled table\n",
    "styled_df\n"
   ]
  },
  {
   "cell_type": "code",
   "execution_count": 123,
   "metadata": {},
   "outputs": [
    {
     "data": {
      "text/html": [
       "<style type=\"text/css\">\n",
       "#T_73d13 th {\n",
       "  background-color: #dddddd;\n",
       "  color: black;\n",
       "  text-align: center;\n",
       "  padding: 10px;\n",
       "  font-size: 16px;\n",
       "  border-bottom: 2px solid #ccc;\n",
       "}\n",
       "#T_73d13 td {\n",
       "  text-align: center;\n",
       "  padding: 8px;\n",
       "  font-size: 14px;\n",
       "  border-bottom: 1px solid #ccc;\n",
       "  color: black;\n",
       "}\n",
       "#T_73d13 tr:nth-child(odd) {\n",
       "  background-color: #f9f9f9;\n",
       "}\n",
       "#T_73d13 tr:nth-child(even) {\n",
       "  background-color: white;\n",
       "}\n",
       "#T_73d13 table {\n",
       "  border-collapse: collapse;\n",
       "  width: 50%;\n",
       "  margin: 25px 0;\n",
       "  font-family: Arial, sans-serif;\n",
       "  border-radius: 8px;\n",
       "  overflow: hidden;\n",
       "}\n",
       "#T_73d13 caption {\n",
       "  caption-side: top;\n",
       "  font-size: 18px;\n",
       "  font-weight: bold;\n",
       "  margin-bottom: 10px;\n",
       "}\n",
       "#T_73d13 tbody tr:hover {\n",
       "  background-color: #e0e0e0;\n",
       "}\n",
       "</style>\n",
       "<table id=\"T_73d13\">\n",
       "  <caption>Top Tokens</caption>\n",
       "  <thead>\n",
       "    <tr>\n",
       "      <th class=\"blank level0\" >&nbsp;</th>\n",
       "      <th id=\"T_73d13_level0_col0\" class=\"col_heading level0 col0\" >Token</th>\n",
       "      <th id=\"T_73d13_level0_col1\" class=\"col_heading level0 col1\" >Probability</th>\n",
       "    </tr>\n",
       "  </thead>\n",
       "  <tbody>\n",
       "    <tr>\n",
       "      <th id=\"T_73d13_level0_row0\" class=\"row_heading level0 row0\" >0</th>\n",
       "      <td id=\"T_73d13_row0_col0\" class=\"data row0 col0\" >Test</td>\n",
       "      <td id=\"T_73d13_row0_col1\" class=\"data row0 col1\" >1.239000</td>\n",
       "    </tr>\n",
       "    <tr>\n",
       "      <th id=\"T_73d13_level0_row1\" class=\"row_heading level0 row1\" >1</th>\n",
       "      <td id=\"T_73d13_row1_col0\" class=\"data row1 col0\" >Example</td>\n",
       "      <td id=\"T_73d13_row1_col1\" class=\"data row1 col1\" >0.859000</td>\n",
       "    </tr>\n",
       "    <tr>\n",
       "      <th id=\"T_73d13_level0_row2\" class=\"row_heading level0 row2\" >2</th>\n",
       "      <td id=\"T_73d13_row2_col0\" class=\"data row2 col0\" >Python</td>\n",
       "      <td id=\"T_73d13_row2_col1\" class=\"data row2 col1\" >1.523000</td>\n",
       "    </tr>\n",
       "    <tr>\n",
       "      <th id=\"T_73d13_level0_row3\" class=\"row_heading level0 row3\" >3</th>\n",
       "      <td id=\"T_73d13_row3_col0\" class=\"data row3 col0\" >Notebook</td>\n",
       "      <td id=\"T_73d13_row3_col1\" class=\"data row3 col1\" >0.742000</td>\n",
       "    </tr>\n",
       "    <tr>\n",
       "      <th id=\"T_73d13_level0_row4\" class=\"row_heading level0 row4\" >4</th>\n",
       "      <td id=\"T_73d13_row4_col0\" class=\"data row4 col0\" >Table</td>\n",
       "      <td id=\"T_73d13_row4_col1\" class=\"data row4 col1\" >1.187000</td>\n",
       "    </tr>\n",
       "  </tbody>\n",
       "</table>\n"
      ],
      "text/plain": [
       "<pandas.io.formats.style.Styler at 0x1ce9f9250>"
      ]
     },
     "metadata": {},
     "output_type": "display_data"
    }
   ],
   "source": [
    "import pandas as pd\n",
    "from IPython.display import display\n",
    "\n",
    "# Create a sample dataset\n",
    "data = [\n",
    "    [\"Test\", 1.239],\n",
    "    [\"Example\", 0.859],\n",
    "    [\"Python\", 1.523],\n",
    "    [\"Notebook\", 0.742],\n",
    "    [\"Table\", 1.187]\n",
    "]\n",
    "\n",
    "# Create a pandas DataFrame\n",
    "df = pd.DataFrame(data, columns=[\"Token\", \"Probability\"])\n",
    "\n",
    "# Define custom styles\n",
    "styles = [\n",
    "    {'selector': 'th', 'props': [('background-color', '#dddddd'), \n",
    "                                 ('color', 'black'), \n",
    "                                 ('text-align', 'center'), \n",
    "                                 ('padding', '10px'),\n",
    "                                 ('font-size', '16px'),\n",
    "                                 ('border-bottom', '2px solid #ccc')]},\n",
    "    {'selector': 'td', 'props': [('text-align', 'center'), \n",
    "                                 ('padding', '8px'),\n",
    "                                 ('font-size', '14px'),\n",
    "                                 ('border-bottom', '1px solid #ccc'),\n",
    "                                 ('color', 'black')]},\n",
    "    {'selector': 'tr:nth-child(odd)', 'props': [('background-color', '#f9f9f9')]},\n",
    "    {'selector': 'tr:nth-child(even)', 'props': [('background-color', 'white')]},\n",
    "    {'selector': 'table', 'props': [('border-collapse', 'collapse'), \n",
    "                                    ('width', '50%'), \n",
    "                                    ('margin', '25px 0'),\n",
    "                                    ('font-family', 'Arial, sans-serif'),\n",
    "                                    ('border-radius', '8px'),\n",
    "                                    ('overflow', 'hidden')]},\n",
    "    {'selector': 'caption', 'props': [('caption-side', 'top'),\n",
    "                                      ('font-size', '18px'),\n",
    "                                      ('font-weight', 'bold'),\n",
    "                                      ('margin-bottom', '10px')]}\n",
    "]\n",
    "\n",
    "# Additional styles for hover effect and column width\n",
    "hover_styles = [\n",
    "    {'selector': 'tbody tr:hover', 'props': [('background-color', '#e0e0e0')]}\n",
    "]\n",
    "\n",
    "# Apply the styles to the DataFrame and add a title\n",
    "styled_df = df.style.set_table_styles(styles).set_caption(\"Top Tokens\")\n",
    "styled_df = styled_df.set_table_styles(hover_styles, overwrite=False)\n",
    "display(styled_df)\n",
    "\n"
   ]
  },
  {
   "cell_type": "code",
   "execution_count": 99,
   "metadata": {},
   "outputs": [
    {
     "data": {
      "application/vnd.jupyter.widget-view+json": {
       "model_id": "82b156eb06a5453ca7d461874ca5b7e8",
       "version_major": 2,
       "version_minor": 0
      },
      "text/plain": [
       "HBox(children=(VBox(children=(HBox(children=(Button(description='Show Data 1', style=ButtonStyle()), Button(de…"
      ]
     },
     "metadata": {},
     "output_type": "display_data"
    }
   ],
   "source": [
    "import pandas as pd\n",
    "import ipywidgets as widgets\n",
    "from IPython.display import display\n",
    "\n",
    "# Sample data for demonstration\n",
    "data1 = pd.DataFrame({\n",
    "    'A': [1, 2, 3],\n",
    "    'B': [4, 5, 6],\n",
    "    'C': [7, 8, 9]\n",
    "})\n",
    "\n",
    "data2 = pd.DataFrame({\n",
    "    'A': [10, 20, 30],\n",
    "    'B': [40, 50, 60],\n",
    "    'C': [70, 80, 90]\n",
    "})\n",
    "\n",
    "data3 = pd.DataFrame({\n",
    "    'A': [100, 200, 300],\n",
    "    'B': [400, 500, 600],\n",
    "    'C': [700, 800, 900]\n",
    "})\n",
    "\n",
    "# Dictionary to map buttons to data\n",
    "data_dict = {\n",
    "    'Show Data 1': data1,\n",
    "    'Show Data 2': data2,\n",
    "    'Show Data 3': data3\n",
    "}\n",
    "\n",
    "# Variable to keep track of the currently selected button\n",
    "selected_button = None\n",
    "current_data = data1\n",
    "\n",
    "# Function to update the table and button styles based on button clicked\n",
    "def update_table(button):\n",
    "    global selected_button, current_data\n",
    "    # Reset the style of the previously selected button\n",
    "    if selected_button:\n",
    "        selected_button.style.button_color = None\n",
    "    # Update the style of the currently selected button\n",
    "    button.style.button_color = 'lightblue'\n",
    "    selected_button = button\n",
    "    current_data = data_dict[button.description]\n",
    "    # Update the table\n",
    "    table_widget.value = current_data.to_html()\n",
    "\n",
    "# Function to add a new row\n",
    "def add_row(_):\n",
    "    global current_data\n",
    "    new_row = pd.DataFrame({col: [input_widgets[col].value] for col in current_data.columns})\n",
    "    current_data = pd.concat([current_data, new_row], ignore_index=True)\n",
    "    table_widget.value = current_data.to_html()\n",
    "\n",
    "# Create buttons\n",
    "buttons = []\n",
    "for key in data_dict.keys():\n",
    "    button = widgets.Button(description=key)\n",
    "    button.on_click(update_table)\n",
    "    buttons.append(button)\n",
    "\n",
    "# Display buttons in a horizontal box that wraps if necessary\n",
    "buttons_box = widgets.HBox(buttons)\n",
    "\n",
    "# Create an HTML widget to display the table\n",
    "table_widget = widgets.HTML()\n",
    "\n",
    "# Create input widgets for each column\n",
    "input_widgets = {col: widgets.Text(description=col) for col in data1.columns}\n",
    "input_widgets_box = widgets.VBox([input_widgets[col] for col in data1.columns])\n",
    "\n",
    "# Create a button to add a new row\n",
    "add_row_button = widgets.Button(description=\"Add Row\")\n",
    "add_row_button.on_click(add_row)\n",
    "\n",
    "# Display the input widgets and add row button vertically\n",
    "input_area = widgets.VBox([input_widgets_box, add_row_button])\n",
    "\n",
    "# Display the buttons, input area, and table side by side\n",
    "display(widgets.HBox([widgets.VBox([buttons_box, input_area]), table_widget]))\n",
    "\n",
    "# Initialize the table with the first dataset and style the first button\n",
    "buttons[0].style.button_color = 'lightblue'\n",
    "selected_button = buttons[0]\n",
    "table_widget.value = data1.to_html()\n",
    "current_data = data1\n"
   ]
  },
  {
   "cell_type": "code",
   "execution_count": 102,
   "metadata": {},
   "outputs": [
    {
     "data": {
      "application/vnd.jupyter.widget-view+json": {
       "model_id": "2faa664988294a668f310b08748b736a",
       "version_major": 2,
       "version_minor": 0
      },
      "text/plain": [
       "HBox(children=(VBox(children=(HBox(children=(Button(description='Show Data 1', style=ButtonStyle()), Button(de…"
      ]
     },
     "metadata": {},
     "output_type": "display_data"
    }
   ],
   "source": [
    "import pandas as pd\n",
    "import ipywidgets as widgets\n",
    "from IPython.display import display\n",
    "\n",
    "# Sample data for demonstration\n",
    "data1 = pd.DataFrame({\n",
    "    'A': [1, 2, 3],\n",
    "    'B': [4, 5, 6],\n",
    "    'C': [7, 8, 9]\n",
    "})\n",
    "\n",
    "data2 = pd.DataFrame({\n",
    "    'A': [10, 20, 30],\n",
    "    'B': [40, 50, 60],\n",
    "    'C': [70, 80, 90]\n",
    "})\n",
    "\n",
    "data3 = pd.DataFrame({\n",
    "    'A': [100, 200, 300],\n",
    "    'B': [400, 500, 600],\n",
    "    'C': [700, 800, 900]\n",
    "})\n",
    "\n",
    "# Dictionary to map buttons to data\n",
    "data_dict = {\n",
    "    'Show Data 1': data1,\n",
    "    'Show Data 2': data2,\n",
    "    'Show Data 3': data3\n",
    "}\n",
    "\n",
    "# Variable to keep track of the currently selected button\n",
    "selected_button = None\n",
    "current_data = data1\n",
    "\n",
    "# Function to update the table and button styles based on button clicked\n",
    "def update_table(button):\n",
    "    global selected_button, current_data\n",
    "    # Reset the style of the previously selected button\n",
    "    if selected_button:\n",
    "        selected_button.style.button_color = None\n",
    "    # Update the style of the currently selected button\n",
    "    button.style.button_color = 'lightblue'\n",
    "    selected_button = button\n",
    "    current_data = data_dict[button.description]\n",
    "    # Update the table\n",
    "    update_table_html()\n",
    "\n",
    "# Function to update the table HTML with colored new rows\n",
    "def update_table_html():\n",
    "    global current_data\n",
    "    html = current_data.to_html(classes='table table-striped', index=False)\n",
    "    for row in new_rows:\n",
    "        row_html = pd.DataFrame([row]).to_html(header=False, index=False)\n",
    "        html = html.replace('</tbody>', f'<tr style=\"background-color: lightyellow\">{row_html[5:-14]}</tr></tbody>')\n",
    "    table_widget.value = html\n",
    "\n",
    "# Function to add a new row\n",
    "def add_row(_):\n",
    "    global current_data\n",
    "    new_row = {col: input_widgets[col].value for col in current_data.columns}\n",
    "    new_rows.append(new_row)\n",
    "    for key in data_dict:\n",
    "        new_row_df = pd.DataFrame([new_row])\n",
    "        data_dict[key] = pd.concat([new_row_df, data_dict[key]], ignore_index=True)\n",
    "    update_table_html()\n",
    "\n",
    "# Initialize list to keep track of new rows\n",
    "new_rows = []\n",
    "\n",
    "# Create buttons\n",
    "buttons = []\n",
    "for key in data_dict.keys():\n",
    "    button = widgets.Button(description=key)\n",
    "    button.on_click(update_table)\n",
    "    buttons.append(button)\n",
    "\n",
    "# Display buttons in a horizontal box that wraps if necessary\n",
    "buttons_box = widgets.HBox(buttons)\n",
    "\n",
    "# Create an HTML widget to display the table\n",
    "table_widget = widgets.HTML()\n",
    "\n",
    "# Create input widgets for each column\n",
    "input_widgets = {col: widgets.Text(description=col) for col in data1.columns}\n",
    "input_widgets_box = widgets.VBox([input_widgets[col] for col in data1.columns])\n",
    "\n",
    "# Create a button to add a new row\n",
    "add_row_button = widgets.Button(description=\"Add Row\")\n",
    "add_row_button.on_click(add_row)\n",
    "\n",
    "# Display the input widgets and add row button vertically\n",
    "input_area = widgets.VBox([input_widgets_box, add_row_button])\n",
    "\n",
    "# Display the buttons, input area, and table side by side\n",
    "display(widgets.HBox([widgets.VBox([buttons_box, input_area]), table_widget]))\n",
    "\n",
    "# Initialize the table with the first dataset and style the first button\n",
    "buttons[0].style.button_color = 'lightblue'\n",
    "selected_button = buttons[0]\n",
    "update_table_html()\n"
   ]
  },
  {
   "cell_type": "code",
   "execution_count": 104,
   "metadata": {},
   "outputs": [
    {
     "data": {
      "application/vnd.jupyter.widget-view+json": {
       "model_id": "8a527d64afd942baaf8f736cdd9035a7",
       "version_major": 2,
       "version_minor": 0
      },
      "text/plain": [
       "HBox(children=(VBox(children=(HBox(children=(Button(description='Show Data 1', style=ButtonStyle()), Button(de…"
      ]
     },
     "metadata": {},
     "output_type": "display_data"
    }
   ],
   "source": [
    "import pandas as pd\n",
    "import ipywidgets as widgets\n",
    "from IPython.display import display\n",
    "\n",
    "# Sample data for demonstration\n",
    "data1 = pd.DataFrame({\n",
    "    'A': [1, 2, 3],\n",
    "    'B': [4, 5, 6],\n",
    "    'C': [7, 8, 9]\n",
    "})\n",
    "\n",
    "data2 = pd.DataFrame({\n",
    "    'A': [10, 20, 30],\n",
    "    'B': [40, 50, 60],\n",
    "    'C': [70, 80, 90]\n",
    "})\n",
    "\n",
    "data3 = pd.DataFrame({\n",
    "    'A': [100, 200, 300],\n",
    "    'B': [400, 500, 600],\n",
    "    'C': [700, 800, 900]\n",
    "})\n",
    "\n",
    "# Dictionary to map buttons to data\n",
    "data_dict = {\n",
    "    'Show Data 1': data1,\n",
    "    'Show Data 2': data2,\n",
    "    'Show Data 3': data3\n",
    "}\n",
    "\n",
    "# Variable to keep track of the currently selected button\n",
    "selected_button = None\n",
    "current_data = data1\n",
    "\n",
    "# Function to update the table and button styles based on button clicked\n",
    "def update_table(button):\n",
    "    global selected_button, current_data\n",
    "    # Reset the style of the previously selected button\n",
    "    if selected_button:\n",
    "        selected_button.style.button_color = None\n",
    "    # Update the style of the currently selected button\n",
    "    button.style.button_color = 'lightblue'\n",
    "    selected_button = button\n",
    "    current_data = data_dict[button.description]\n",
    "    # Update the table\n",
    "    update_table_html()\n",
    "\n",
    "# Function to update the table HTML with colored new rows\n",
    "def update_table_html():\n",
    "    global current_data\n",
    "    combined_data = pd.concat([pd.DataFrame(new_rows), current_data], ignore_index=True)\n",
    "    html = combined_data.to_html(classes='table table-striped', index=False)\n",
    "    table_widget.value = html\n",
    "\n",
    "# Function to add a new row\n",
    "def add_row(_):\n",
    "    new_row = {col: input_widgets[col].value for col in data1.columns}\n",
    "    new_rows.append(new_row)\n",
    "    update_table_html()\n",
    "\n",
    "# Initialize list to keep track of new rows\n",
    "new_rows = []\n",
    "\n",
    "# Create buttons\n",
    "buttons = []\n",
    "for key in data_dict.keys():\n",
    "    button = widgets.Button(description=key)\n",
    "    button.on_click(update_table)\n",
    "    buttons.append(button)\n",
    "\n",
    "# Display buttons in a horizontal box that wraps if necessary\n",
    "buttons_box = widgets.HBox(buttons)\n",
    "\n",
    "# Create an HTML widget to display the table\n",
    "table_widget = widgets.HTML()\n",
    "\n",
    "# Create input widgets for each column\n",
    "input_widgets = {col: widgets.Text(description=col) for col in data1.columns}\n",
    "input_widgets_box = widgets.VBox([input_widgets[col] for col in data1.columns])\n",
    "\n",
    "# Create a button to add a new row\n",
    "add_row_button = widgets.Button(description=\"Add Row\")\n",
    "add_row_button.on_click(add_row)\n",
    "\n",
    "# Display the input widgets and add row button vertically\n",
    "input_area = widgets.VBox([input_widgets_box, add_row_button])\n",
    "\n",
    "# Display the buttons, input area, and table side by side\n",
    "display(widgets.HBox([widgets.VBox([buttons_box, table_widget]), input_area]))\n",
    "\n",
    "# Initialize the table with the first dataset and style the first button\n",
    "buttons[0].style.button_color = 'lightblue'\n",
    "selected_button = buttons[0]\n",
    "update_table_html()\n"
   ]
  },
  {
   "cell_type": "code",
   "execution_count": 110,
   "metadata": {},
   "outputs": [
    {
     "data": {
      "application/vnd.jupyter.widget-view+json": {
       "model_id": "1df07c9817ad4eadb2e2d1ecdeec57ae",
       "version_major": 2,
       "version_minor": 0
      },
      "text/plain": [
       "HBox(children=(VBox(children=(Box(children=(Button(description='Show Data 1', layout=Layout(border_bottom='1px…"
      ]
     },
     "metadata": {},
     "output_type": "display_data"
    }
   ],
   "source": [
    "import pandas as pd\n",
    "import ipywidgets as widgets\n",
    "from IPython.display import display\n",
    "\n",
    "# Sample data for demonstration\n",
    "data = [\n",
    "    pd.DataFrame({\n",
    "        'A': [i*10 + 1, i*10 + 2, i*10 + 3],\n",
    "        'B': [i*10 + 4, i*10 + 5, i*10 + 6],\n",
    "        'C': [i*10 + 7, i*10 + 8, i*10 + 9]\n",
    "    }) for i in range(10)\n",
    "]\n",
    "\n",
    "# Dictionary to map button descriptions to data\n",
    "data_dict = {f'Show Data {i+1}': data[i] for i in range(len(data))}\n",
    "\n",
    "# Variable to keep track of the currently selected button\n",
    "selected_button = None\n",
    "current_data = data[0]\n",
    "\n",
    "# Function to update the table and button styles based on button clicked\n",
    "def update_table(button):\n",
    "    global selected_button, current_data\n",
    "    # Reset the style of the previously selected button\n",
    "    if selected_button:\n",
    "        selected_button.style.button_color = None\n",
    "    # Update the style of the currently selected button\n",
    "    button.style.button_color = 'lightblue'\n",
    "    selected_button = button\n",
    "    current_data = data_dict[button.description]\n",
    "    # Update the table\n",
    "    update_table_html()\n",
    "\n",
    "# Function to update the table HTML with colored new rows\n",
    "def update_table_html():\n",
    "    global current_data\n",
    "    combined_data = pd.concat([pd.DataFrame(new_rows), current_data], ignore_index=True)\n",
    "    html = combined_data.to_html(classes='table table-striped', index=False)\n",
    "    table_widget.value = html\n",
    "\n",
    "# Function to add a new row\n",
    "def add_row(_):\n",
    "    new_row = {col: input_widgets[col].value for col in current_data.columns}\n",
    "    new_rows.append(new_row)\n",
    "    update_table_html()\n",
    "\n",
    "# Initialize list to keep track of new rows\n",
    "new_rows = []\n",
    "\n",
    "# Create buttons\n",
    "buttons = []\n",
    "for key in data_dict.keys():\n",
    "    button = widgets.Button(description=key)\n",
    "    button.on_click(update_table)\n",
    "    button.layout.padding = '0px'\n",
    "    button.layout.margin = '0px'\n",
    "    button.style.button_color = 'white'\n",
    "    button.layout.border = '1px solid lightgrey'\n",
    "    buttons.append(button)\n",
    "\n",
    "# Display buttons in a horizontal box that wraps if necessary\n",
    "buttons_box = widgets.Box(buttons, layout=widgets.Layout(display='flex', flex_flow='row wrap'))\n",
    "\n",
    "# Create an HTML widget to display the table\n",
    "table_widget = widgets.HTML()\n",
    "\n",
    "# Create input widgets for each column\n",
    "input_widgets = {col: widgets.Text(description=col) for col in current_data.columns}\n",
    "input_widgets_box = widgets.VBox([input_widgets[col] for col in current_data.columns])\n",
    "\n",
    "# Create a button to add a new row\n",
    "add_row_button = widgets.Button(description=\"Add Row\")\n",
    "add_row_button.on_click(add_row)\n",
    "\n",
    "# Display the input widgets and add row button vertically\n",
    "input_area = widgets.VBox([input_widgets_box, add_row_button])\n",
    "\n",
    "# Display the buttons, input area, and table side by side\n",
    "display(widgets.HBox([widgets.VBox([buttons_box, table_widget]), input_area]))\n",
    "\n",
    "# Initialize the table with the first dataset and style the first button\n",
    "buttons[0].style.button_color = 'lightblue'\n",
    "selected_button = buttons[0]\n",
    "update_table_html()\n"
   ]
  },
  {
   "cell_type": "code",
   "execution_count": null,
   "metadata": {},
   "outputs": [],
   "source": []
  },
  {
   "cell_type": "code",
   "execution_count": null,
   "metadata": {},
   "outputs": [],
   "source": []
  },
  {
   "cell_type": "code",
   "execution_count": null,
   "metadata": {},
   "outputs": [],
   "source": []
  },
  {
   "cell_type": "markdown",
   "metadata": {},
   "source": [
    "# Wdiget exploration"
   ]
  },
  {
   "cell_type": "code",
   "execution_count": 43,
   "metadata": {},
   "outputs": [
    {
     "name": "stderr",
     "output_type": "stream",
     "text": [
      "huggingface/tokenizers: The current process just got forked, after parallelism has already been used. Disabling parallelism to avoid deadlocks...\n",
      "To disable this warning, you can either:\n",
      "\t- Avoid using `tokenizers` before the fork if possible\n",
      "\t- Explicitly set the environment variable TOKENIZERS_PARALLELISM=(true | false)\n"
     ]
    },
    {
     "name": "stdout",
     "output_type": "stream",
     "text": [
      "Requirement already satisfied: ipywidgets in /usr/local/lib/python3.11/site-packages (8.1.2)\n",
      "Requirement already satisfied: comm>=0.1.3 in /Users/dubberly/Library/Python/3.11/lib/python/site-packages (from ipywidgets) (0.2.2)\n",
      "Requirement already satisfied: ipython>=6.1.0 in /Users/dubberly/Library/Python/3.11/lib/python/site-packages (from ipywidgets) (8.24.0)\n",
      "Requirement already satisfied: traitlets>=4.3.1 in /Users/dubberly/Library/Python/3.11/lib/python/site-packages (from ipywidgets) (5.14.3)\n",
      "Requirement already satisfied: widgetsnbextension~=4.0.10 in /usr/local/lib/python3.11/site-packages (from ipywidgets) (4.0.10)\n",
      "Requirement already satisfied: jupyterlab-widgets~=3.0.10 in /usr/local/lib/python3.11/site-packages (from ipywidgets) (3.0.10)\n",
      "Requirement already satisfied: decorator in /Users/dubberly/Library/Python/3.11/lib/python/site-packages (from ipython>=6.1.0->ipywidgets) (5.1.1)\n",
      "Requirement already satisfied: jedi>=0.16 in /Users/dubberly/Library/Python/3.11/lib/python/site-packages (from ipython>=6.1.0->ipywidgets) (0.19.1)\n",
      "Requirement already satisfied: matplotlib-inline in /Users/dubberly/Library/Python/3.11/lib/python/site-packages (from ipython>=6.1.0->ipywidgets) (0.1.7)\n",
      "Requirement already satisfied: prompt-toolkit<3.1.0,>=3.0.41 in /Users/dubberly/Library/Python/3.11/lib/python/site-packages (from ipython>=6.1.0->ipywidgets) (3.0.43)\n",
      "Requirement already satisfied: pygments>=2.4.0 in /usr/local/lib/python3.11/site-packages (from ipython>=6.1.0->ipywidgets) (2.16.1)\n",
      "Requirement already satisfied: stack-data in /Users/dubberly/Library/Python/3.11/lib/python/site-packages (from ipython>=6.1.0->ipywidgets) (0.6.3)\n",
      "Requirement already satisfied: typing-extensions>=4.6 in /usr/local/lib/python3.11/site-packages (from ipython>=6.1.0->ipywidgets) (4.8.0)\n",
      "Requirement already satisfied: pexpect>4.3 in /Users/dubberly/Library/Python/3.11/lib/python/site-packages (from ipython>=6.1.0->ipywidgets) (4.9.0)\n",
      "Requirement already satisfied: parso<0.9.0,>=0.8.3 in /Users/dubberly/Library/Python/3.11/lib/python/site-packages (from jedi>=0.16->ipython>=6.1.0->ipywidgets) (0.8.4)\n",
      "Requirement already satisfied: ptyprocess>=0.5 in /Users/dubberly/Library/Python/3.11/lib/python/site-packages (from pexpect>4.3->ipython>=6.1.0->ipywidgets) (0.7.0)\n",
      "Requirement already satisfied: wcwidth in /Users/dubberly/Library/Python/3.11/lib/python/site-packages (from prompt-toolkit<3.1.0,>=3.0.41->ipython>=6.1.0->ipywidgets) (0.2.13)\n",
      "Requirement already satisfied: executing>=1.2.0 in /Users/dubberly/Library/Python/3.11/lib/python/site-packages (from stack-data->ipython>=6.1.0->ipywidgets) (2.0.1)\n",
      "Requirement already satisfied: asttokens>=2.1.0 in /Users/dubberly/Library/Python/3.11/lib/python/site-packages (from stack-data->ipython>=6.1.0->ipywidgets) (2.4.1)\n",
      "Requirement already satisfied: pure-eval in /Users/dubberly/Library/Python/3.11/lib/python/site-packages (from stack-data->ipython>=6.1.0->ipywidgets) (0.2.2)\n",
      "Requirement already satisfied: six>=1.12.0 in /Users/dubberly/Library/Python/3.11/lib/python/site-packages (from asttokens>=2.1.0->stack-data->ipython>=6.1.0->ipywidgets) (1.16.0)\n",
      "\n",
      "\u001b[1m[\u001b[0m\u001b[34;49mnotice\u001b[0m\u001b[1;39;49m]\u001b[0m\u001b[39;49m A new release of pip is available: \u001b[0m\u001b[31;49m23.3.1\u001b[0m\u001b[39;49m -> \u001b[0m\u001b[32;49m24.0\u001b[0m\n",
      "\u001b[1m[\u001b[0m\u001b[34;49mnotice\u001b[0m\u001b[1;39;49m]\u001b[0m\u001b[39;49m To update, run: \u001b[0m\u001b[32;49mpython3.11 -m pip install --upgrade pip\u001b[0m\n",
      "Note: you may need to restart the kernel to use updated packages.\n"
     ]
    },
    {
     "name": "stderr",
     "output_type": "stream",
     "text": [
      "huggingface/tokenizers: The current process just got forked, after parallelism has already been used. Disabling parallelism to avoid deadlocks...\n",
      "To disable this warning, you can either:\n",
      "\t- Avoid using `tokenizers` before the fork if possible\n",
      "\t- Explicitly set the environment variable TOKENIZERS_PARALLELISM=(true | false)\n"
     ]
    },
    {
     "name": "stdout",
     "output_type": "stream",
     "text": [
      "Requirement already satisfied: IPython in /Users/dubberly/Library/Python/3.11/lib/python/site-packages (8.24.0)\n",
      "Requirement already satisfied: decorator in /Users/dubberly/Library/Python/3.11/lib/python/site-packages (from IPython) (5.1.1)\n",
      "Requirement already satisfied: jedi>=0.16 in /Users/dubberly/Library/Python/3.11/lib/python/site-packages (from IPython) (0.19.1)\n",
      "Requirement already satisfied: matplotlib-inline in /Users/dubberly/Library/Python/3.11/lib/python/site-packages (from IPython) (0.1.7)\n",
      "Requirement already satisfied: prompt-toolkit<3.1.0,>=3.0.41 in /Users/dubberly/Library/Python/3.11/lib/python/site-packages (from IPython) (3.0.43)\n",
      "Requirement already satisfied: pygments>=2.4.0 in /usr/local/lib/python3.11/site-packages (from IPython) (2.16.1)\n",
      "Requirement already satisfied: stack-data in /Users/dubberly/Library/Python/3.11/lib/python/site-packages (from IPython) (0.6.3)\n",
      "Requirement already satisfied: traitlets>=5.13.0 in /Users/dubberly/Library/Python/3.11/lib/python/site-packages (from IPython) (5.14.3)\n",
      "Requirement already satisfied: typing-extensions>=4.6 in /usr/local/lib/python3.11/site-packages (from IPython) (4.8.0)\n",
      "Requirement already satisfied: pexpect>4.3 in /Users/dubberly/Library/Python/3.11/lib/python/site-packages (from IPython) (4.9.0)\n",
      "Requirement already satisfied: parso<0.9.0,>=0.8.3 in /Users/dubberly/Library/Python/3.11/lib/python/site-packages (from jedi>=0.16->IPython) (0.8.4)\n",
      "Requirement already satisfied: ptyprocess>=0.5 in /Users/dubberly/Library/Python/3.11/lib/python/site-packages (from pexpect>4.3->IPython) (0.7.0)\n",
      "Requirement already satisfied: wcwidth in /Users/dubberly/Library/Python/3.11/lib/python/site-packages (from prompt-toolkit<3.1.0,>=3.0.41->IPython) (0.2.13)\n",
      "Requirement already satisfied: executing>=1.2.0 in /Users/dubberly/Library/Python/3.11/lib/python/site-packages (from stack-data->IPython) (2.0.1)\n",
      "Requirement already satisfied: asttokens>=2.1.0 in /Users/dubberly/Library/Python/3.11/lib/python/site-packages (from stack-data->IPython) (2.4.1)\n",
      "Requirement already satisfied: pure-eval in /Users/dubberly/Library/Python/3.11/lib/python/site-packages (from stack-data->IPython) (0.2.2)\n",
      "Requirement already satisfied: six>=1.12.0 in /Users/dubberly/Library/Python/3.11/lib/python/site-packages (from asttokens>=2.1.0->stack-data->IPython) (1.16.0)\n",
      "\n",
      "\u001b[1m[\u001b[0m\u001b[34;49mnotice\u001b[0m\u001b[1;39;49m]\u001b[0m\u001b[39;49m A new release of pip is available: \u001b[0m\u001b[31;49m23.3.1\u001b[0m\u001b[39;49m -> \u001b[0m\u001b[32;49m24.0\u001b[0m\n",
      "\u001b[1m[\u001b[0m\u001b[34;49mnotice\u001b[0m\u001b[1;39;49m]\u001b[0m\u001b[39;49m To update, run: \u001b[0m\u001b[32;49mpython3.11 -m pip install --upgrade pip\u001b[0m\n",
      "Note: you may need to restart the kernel to use updated packages.\n"
     ]
    }
   ],
   "source": [
    "%pip install ipywidgets\n",
    "%pip install IPython"
   ]
  },
  {
   "cell_type": "code",
   "execution_count": 44,
   "metadata": {},
   "outputs": [
    {
     "data": {
      "application/vnd.jupyter.widget-view+json": {
       "model_id": "ef290d28a2bc47cfa192528079320815",
       "version_major": 2,
       "version_minor": 0
      },
      "text/plain": [
       "HBox(children=(HBox(children=(Button(description='hi', layout=Layout(border_bottom='1px solid black', border_l…"
      ]
     },
     "metadata": {},
     "output_type": "display_data"
    },
    {
     "data": {
      "application/vnd.jupyter.widget-view+json": {
       "model_id": "92e7a0e824b445d8b8d33ac70566eeac",
       "version_major": 2,
       "version_minor": 0
      },
      "text/plain": [
       "Output()"
      ]
     },
     "metadata": {},
     "output_type": "display_data"
    },
    {
     "ename": "ValueError",
     "evalue": "'Option 2' is not in list",
     "output_type": "error",
     "traceback": [
      "\u001b[0;31m---------------------------------------------------------------------------\u001b[0m",
      "\u001b[0;31mValueError\u001b[0m                                Traceback (most recent call last)",
      "Cell \u001b[0;32mIn[44], line 64\u001b[0m, in \u001b[0;36mon_submit_click.<locals>.<lambda>\u001b[0;34m(btn)\u001b[0m\n\u001b[1;32m     62\u001b[0m new_button \u001b[38;5;241m=\u001b[39m widgets\u001b[38;5;241m.\u001b[39mButton(description\u001b[38;5;241m=\u001b[39mselected_option, layout\u001b[38;5;241m=\u001b[39mwidgets\u001b[38;5;241m.\u001b[39mLayout(width\u001b[38;5;241m=\u001b[39m\u001b[38;5;124m'\u001b[39m\u001b[38;5;124mauto\u001b[39m\u001b[38;5;124m'\u001b[39m, border\u001b[38;5;241m=\u001b[39m\u001b[38;5;124m'\u001b[39m\u001b[38;5;124m1px solid black\u001b[39m\u001b[38;5;124m'\u001b[39m, padding\u001b[38;5;241m=\u001b[39m\u001b[38;5;124m'\u001b[39m\u001b[38;5;124m0px\u001b[39m\u001b[38;5;124m'\u001b[39m, margin\u001b[38;5;241m=\u001b[39m\u001b[38;5;124m\"\u001b[39m\u001b[38;5;124m0px\u001b[39m\u001b[38;5;124m\"\u001b[39m))\n\u001b[1;32m     63\u001b[0m new_button\u001b[38;5;241m.\u001b[39mstyle\u001b[38;5;241m.\u001b[39mbutton_color \u001b[38;5;241m=\u001b[39m \u001b[38;5;124m'\u001b[39m\u001b[38;5;124mtransparent\u001b[39m\u001b[38;5;124m'\u001b[39m\n\u001b[0;32m---> 64\u001b[0m new_button\u001b[38;5;241m.\u001b[39mon_click(\u001b[38;5;28;01mlambda\u001b[39;00m btn: \u001b[43mon_button_click\u001b[49m\u001b[43m(\u001b[49m\u001b[43mbtn\u001b[49m\u001b[43m)\u001b[49m)\n\u001b[1;32m     65\u001b[0m buttons\u001b[38;5;241m.\u001b[39mappend(new_button)\n\u001b[1;32m     66\u001b[0m button_box\u001b[38;5;241m.\u001b[39mchildren \u001b[38;5;241m=\u001b[39m \u001b[38;5;28mtuple\u001b[39m(buttons)\n",
      "Cell \u001b[0;32mIn[54], line 80\u001b[0m, in \u001b[0;36mon_button_click\u001b[0;34m(button)\u001b[0m\n\u001b[1;32m     79\u001b[0m \u001b[38;5;28;01mdef\u001b[39;00m \u001b[38;5;21mon_button_click\u001b[39m(button):\n\u001b[0;32m---> 80\u001b[0m     snippet_index \u001b[38;5;241m=\u001b[39m \u001b[43msnippets\u001b[49m\u001b[38;5;241;43m.\u001b[39;49m\u001b[43mindex\u001b[49m\u001b[43m(\u001b[49m\u001b[43mbutton\u001b[49m\u001b[38;5;241;43m.\u001b[39;49m\u001b[43mdescription\u001b[49m\u001b[43m)\u001b[49m\n\u001b[1;32m     81\u001b[0m     update_table(snippet_index)\n",
      "\u001b[0;31mValueError\u001b[0m: 'Option 2' is not in list"
     ]
    }
   ],
   "source": [
    "import ipywidgets as widgets\n",
    "from IPython.display import display\n",
    "\n",
    "# Assume you have a list of text snippets and their associated arrays\n",
    "snippets = [\"hi\", \"bueno\", \"gracias\", \"mom\"]\n",
    "array1 = [[1, 2, 3], [4, 5, 6], [7, 8, 9], [10, 11, 12]]\n",
    "array2 = [[\"a\", \"b\", \"c\"], [\"d\", \"e\", \"f\"], [\"g\", \"h\", \"i\"], [\"j\", \"k\", \"l\"]]\n",
    "array3 = [[True, False, True], [False, True, False], [True, True, False], [False, False, True]]\n",
    "\n",
    "# Create a list of buttons for each text snippet\n",
    "buttons = [widgets.Button(description=snippet, layout=widgets.Layout(width='auto', border='1px solid black', padding='0px', margin=\"0px\")) for snippet in snippets]\n",
    "\n",
    "# Remove the background color from the buttons\n",
    "for button in buttons:\n",
    "    button.style.button_color = 'transparent'\n",
    "\n",
    "# Create a box to hold the buttons\n",
    "button_box = widgets.HBox(buttons, layout=widgets.Layout(display='flex', flex_flow='row wrap', align_items='stretch'))\n",
    "\n",
    "# Create an output widget to display the table\n",
    "output = widgets.Output()\n",
    "\n",
    "# Create a dropdown widget for selecting text options\n",
    "text_options = [\"Option 1\", \"Option 2\", \"Option 3\"]\n",
    "dropdown = widgets.Dropdown(options=text_options, description=\"Select text:\")\n",
    "\n",
    "# Create a submit button\n",
    "submit_button = widgets.Button(description=\"Submit\")\n",
    "\n",
    "# Create a box to hold the dropdown and submit button\n",
    "input_box = widgets.VBox([dropdown, submit_button])\n",
    "\n",
    "# Create a box to hold the button_box and input_box side by side\n",
    "main_box = widgets.HBox([button_box, input_box])\n",
    "\n",
    "# Define a function to update the output and highlight the selected button\n",
    "def on_button_click(button):\n",
    "    index = snippets.index(button.description)\n",
    "    data = [array1[index], array2[index], array3[index]]\n",
    "    headers = [\"Array 1\", \"Array 2\", \"Array 3\"]\n",
    "    output.clear_output()\n",
    "    with output:\n",
    "        display(widgets.HTML(\n",
    "            '<table><tr>{}</tr>{}</table>'.format(\n",
    "                ''.join('<th>{}</th>'.format(header) for header in headers),\n",
    "                ''.join('<tr>{}</tr>'.format(''.join('<td>{}</td>'.format(str(item)) for item in row)) for row in zip(*data))\n",
    "            )\n",
    "        ))\n",
    "    for btn in buttons:\n",
    "        btn.style.button_color = 'lightblue' if btn == button else 'transparent'\n",
    "\n",
    "# Define a function to handle the submit button click\n",
    "def on_submit_click(button):\n",
    "    selected_option = dropdown.value\n",
    "    # Add the selected option to the snippets list\n",
    "    snippets.append(selected_option)\n",
    "    # Add dummy data to the arrays (replace with your own logic)\n",
    "    array1.append([1, 2, 3])\n",
    "    array2.append([\"a\", \"b\", \"c\"])\n",
    "    array3.append([True, False, True])\n",
    "    # Create a new button for the added snippet\n",
    "    new_button = widgets.Button(description=selected_option, layout=widgets.Layout(width='auto', border='1px solid black', padding='0px', margin=\"0px\"))\n",
    "    new_button.style.button_color = 'transparent'\n",
    "    new_button.on_click(lambda btn: on_button_click(btn))\n",
    "    buttons.append(new_button)\n",
    "    button_box.children = tuple(buttons)\n",
    "\n",
    "# Attach the on_button_click function to each button\n",
    "for button in buttons:\n",
    "    button.on_click(lambda btn: on_button_click(btn))\n",
    "\n",
    "# Attach the on_submit_click function to the submit button\n",
    "submit_button.on_click(on_submit_click)\n",
    "\n",
    "# Display the main box and output widgets\n",
    "display(main_box)\n",
    "display(output)"
   ]
  },
  {
   "cell_type": "code",
   "execution_count": 45,
   "metadata": {},
   "outputs": [
    {
     "data": {
      "application/vnd.jupyter.widget-view+json": {
       "model_id": "dc68f7cf6817485bb8db496fd036a085",
       "version_major": 2,
       "version_minor": 0
      },
      "text/plain": [
       "VBox(children=(HBox(children=(Button(description='hi', layout=Layout(border_bottom='1px solid black', border_l…"
      ]
     },
     "metadata": {},
     "output_type": "display_data"
    },
    {
     "ename": "TypeError",
     "evalue": "update_table() takes 0 positional arguments but 1 was given",
     "output_type": "error",
     "traceback": [
      "\u001b[0;31m---------------------------------------------------------------------------\u001b[0m",
      "\u001b[0;31mTypeError\u001b[0m                                 Traceback (most recent call last)",
      "Cell \u001b[0;32mIn[45], line 82\u001b[0m, in \u001b[0;36m<lambda>\u001b[0;34m(btn)\u001b[0m\n\u001b[1;32m     80\u001b[0m \u001b[38;5;66;03m# Attach the on_button_click function to each button\u001b[39;00m\n\u001b[1;32m     81\u001b[0m \u001b[38;5;28;01mfor\u001b[39;00m button \u001b[38;5;129;01min\u001b[39;00m buttons:\n\u001b[0;32m---> 82\u001b[0m     button\u001b[38;5;241m.\u001b[39mon_click(\u001b[38;5;28;01mlambda\u001b[39;00m btn: \u001b[43mon_button_click\u001b[49m\u001b[43m(\u001b[49m\u001b[43mbtn\u001b[49m\u001b[43m)\u001b[49m)\n\u001b[1;32m     84\u001b[0m \u001b[38;5;66;03m# Attach the on_add_click function to the add button\u001b[39;00m\n\u001b[1;32m     85\u001b[0m add_button\u001b[38;5;241m.\u001b[39mon_click(on_add_click)\n",
      "Cell \u001b[0;32mIn[54], line 81\u001b[0m, in \u001b[0;36mon_button_click\u001b[0;34m(button)\u001b[0m\n\u001b[1;32m     79\u001b[0m \u001b[38;5;28;01mdef\u001b[39;00m \u001b[38;5;21mon_button_click\u001b[39m(button):\n\u001b[1;32m     80\u001b[0m     snippet_index \u001b[38;5;241m=\u001b[39m snippets\u001b[38;5;241m.\u001b[39mindex(button\u001b[38;5;241m.\u001b[39mdescription)\n\u001b[0;32m---> 81\u001b[0m     \u001b[43mupdate_table\u001b[49m\u001b[43m(\u001b[49m\u001b[43msnippet_index\u001b[49m\u001b[43m)\u001b[49m\n",
      "\u001b[0;31mTypeError\u001b[0m: update_table() takes 0 positional arguments but 1 was given"
     ]
    }
   ],
   "source": [
    "import ipywidgets as widgets\n",
    "from IPython.display import display\n",
    "\n",
    "# Assume you have a list of text snippets and their associated arrays\n",
    "snippets = [\"hi\", \"bueno\", \"gracias\", \"mom\"]\n",
    "array1 = [[1, 2, 3], [4, 5, 6], [7, 8, 9], [10, 11, 12]]\n",
    "array2 = [[\"a\", \"b\", \"c\"], [\"d\", \"e\", \"f\"], [\"g\", \"h\", \"i\"], [\"j\", \"k\", \"l\"]]\n",
    "array3 = [[True, False, True], [False, True, False], [True, True, False], [False, False, True]]\n",
    "colors = ['lightblue', 'lightgreen', 'lightyellow', 'lightpink']\n",
    "\n",
    "# Create a list of buttons for each text snippet\n",
    "buttons = [widgets.Button(description=snippet, layout=widgets.Layout(width='auto', border='1px solid black', padding='0px', margin=\"0px\")) for snippet in snippets]\n",
    "\n",
    "# Remove the background color from the buttons\n",
    "for button, color in zip(buttons, colors):\n",
    "    button.style.button_color = color\n",
    "\n",
    "# Create a box to hold the buttons\n",
    "button_box = widgets.HBox(buttons, layout=widgets.Layout(display='flex', flex_flow='row wrap', align_items='stretch'))\n",
    "\n",
    "# Create an output widget to display the table\n",
    "output = widgets.Output()\n",
    "\n",
    "# Create input widgets for adding new data\n",
    "text_input = widgets.Text(description=\"Text:\")\n",
    "color_picker = widgets.ColorPicker(description=\"Color:\", value='#ffffff')\n",
    "add_button = widgets.Button(description=\"+\")\n",
    "\n",
    "# Create a box to hold the input widgets\n",
    "input_box = widgets.HBox([text_input, color_picker, add_button])\n",
    "\n",
    "# Create a box to hold the button_box and input_box\n",
    "main_box = widgets.VBox([button_box, input_box, output])\n",
    "\n",
    "# Define a function to update the output and highlight the selected button\n",
    "def on_button_click(button):\n",
    "    index = snippets.index(button.description)\n",
    "    data = [array1[index], array2[index], array3[index]]\n",
    "    headers = [\"Array 1\", \"Array 2\", \"Array 3\"]\n",
    "    table_rows = [\n",
    "        '<tr style=\"background-color: {};\">{}</tr>'.format(\n",
    "            colors[index],\n",
    "            ''.join('<td>{}</td>'.format(str(item)) for item in row)\n",
    "        )\n",
    "        for row in zip(*data)\n",
    "    ]\n",
    "    table_html = '''\n",
    "        <table>\n",
    "            <tr><th colspan=\"3\">Data Types</th></tr>\n",
    "            <tr><td>int</td><td>str</td><td>bool</td></tr>\n",
    "            <tr><td colspan=\"3\"><button onclick=\"addRow()\">+</button></td></tr>\n",
    "            <tr>{}</tr>\n",
    "            {}\n",
    "        </table>\n",
    "    '''.format(\n",
    "        ''.join('<th>{}</th>'.format(header) for header in headers),\n",
    "        ''.join(table_rows)\n",
    "    )\n",
    "    output.clear_output()\n",
    "    with output:\n",
    "        display(widgets.HTML(table_html))\n",
    "\n",
    "# Define a function to handle adding a new row\n",
    "def on_add_click(button):\n",
    "    text = text_input.value.strip()\n",
    "    if text:\n",
    "        color = color_picker.value\n",
    "        snippets.append(text)\n",
    "        array1.append([1, 2, 3])  # Replace with your own logic\n",
    "        array2.append([\"a\", \"b\", \"c\"])  # Replace with your own logic\n",
    "        array3.append([True, False, True])  # Replace with your own logic\n",
    "        colors.append(color)\n",
    "        new_button = widgets.Button(description=text, layout=widgets.Layout(width='auto', border='1px solid black', padding='0px', margin=\"0px\"))\n",
    "        new_button.style.button_color = color\n",
    "        new_button.on_click(lambda btn: on_button_click(btn))\n",
    "        buttons.append(new_button)\n",
    "        button_box.children = tuple(buttons)\n",
    "        text_input.value = \"\"\n",
    "\n",
    "# Attach the on_button_click function to each button\n",
    "for button in buttons:\n",
    "    button.on_click(lambda btn: on_button_click(btn))\n",
    "\n",
    "# Attach the on_add_click function to the add button\n",
    "add_button.on_click(on_add_click)\n",
    "\n",
    "# Display the main box\n",
    "display(main_box)"
   ]
  },
  {
   "cell_type": "code",
   "execution_count": 67,
   "metadata": {},
   "outputs": [
    {
     "data": {
      "application/vnd.jupyter.widget-view+json": {
       "model_id": "dc681aa222bf47fb906252b1fdd96590",
       "version_major": 2,
       "version_minor": 0
      },
      "text/plain": [
       "VBox(children=(HBox(children=(Button(description='hi', layout=Layout(border_bottom='1px solid black', border_l…"
      ]
     },
     "metadata": {},
     "output_type": "display_data"
    },
    {
     "name": "stdout",
     "output_type": "stream",
     "text": [
      "0\n"
     ]
    },
    {
     "name": "stdout",
     "output_type": "stream",
     "text": [
      "0\n"
     ]
    }
   ],
   "source": [
    "import ipywidgets as widgets\n",
    "from IPython.display import display\n",
    "import uuid\n",
    "\n",
    "# Assume you have a list of text snippets and their associated arrays\n",
    "selected_id = 0\n",
    "snippets = [\"hi\", \"bueno\", \"gracias\", \"mom\"]\n",
    "snippet_ids = [str(uuid.uuid4()) for _ in range(len(snippets))]\n",
    "array1 = [[1, 2, 3], [4, 5, 6], [7, 8, 9], [10, 11, 12]]\n",
    "array2 = [[\"a\", \"b\", \"c\"], [\"d\", \"e\", \"f\"], [\"g\", \"h\", \"i\"], [\"j\", \"k\", \"l\"]]\n",
    "array3 = [[True, False, True], [False, True, False], [True, True, False], [False, False, True]]\n",
    "colors = ['lightblue', 'lightgreen', 'lightyellow', 'lightpink']\n",
    "\n",
    "# Create a list of buttons for each text snippet\n",
    "buttons = [widgets.Button(description=snippet, layout=widgets.Layout(width='auto', border='1px solid black', padding='0px', margin=\"0px\")) for snippet in snippets]\n",
    "\n",
    "# Create a box to hold the buttons\n",
    "button_box = widgets.HBox(buttons, layout=widgets.Layout(display='flex', flex_flow='row wrap', align_items='stretch'))\n",
    "\n",
    "# Create an output widget to display the table\n",
    "output = widgets.Output()\n",
    "\n",
    "# Create input widgets for adding new data\n",
    "text_input = widgets.Text(description=\"Text:\", margin=\"0px\")\n",
    "color_picker = widgets.ColorPicker(description=\"Color:\", value='#ffffff', margin=\"0px\")\n",
    "add_button = widgets.Button(description=\"+\")\n",
    "\n",
    "# Create a box to hold the input widgets\n",
    "input_box = widgets.VBox([text_input, color_picker, add_button])\n",
    "\n",
    "# Create a box to hold the button_box and input_box\n",
    "main_box = widgets.VBox([button_box, input_box, output])\n",
    "\n",
    "# Define a function to update the table\n",
    "def update_table():\n",
    "    print(selected_id)\n",
    "    headers = [\"Array 1\", \"Array 2\", \"Array 3\"]\n",
    "    table_rows = []\n",
    "    # for i in range(len(snippets)):\n",
    "    data = [array1[selected_id], array2[selected_id], array3[selected_id]]\n",
    "    table_rows.extend(\n",
    "        '<tr style=\"background-color: {};\">{}</tr>'.format(\n",
    "            colors[selected_id],\n",
    "            ''.join('<td>{}</td>'.format(str(item)) for item in row)\n",
    "        )\n",
    "        for row in zip(*data)\n",
    "    )\n",
    "    table_html = '''\n",
    "        <table>\n",
    "            <tr>{}</tr>\n",
    "            {}\n",
    "        </table>\n",
    "    '''.format(\n",
    "        ''.join('<th>{}</th>'.format(header) for header in headers),\n",
    "        ''.join(table_rows)\n",
    "    )\n",
    "    output.clear_output(wait=True)\n",
    "    with output:\n",
    "        display(widgets.HTML(table_html))\n",
    "\n",
    "# Define a function to handle adding a new row\n",
    "def on_add_click(button):\n",
    "    text = text_input.value.strip()\n",
    "    if text:\n",
    "        color = color_picker.value\n",
    "        snippet_id = str(uuid.uuid4())\n",
    "        snippet_ids.append(snippet_id)\n",
    "        snippets.append(text)\n",
    "        array1.append([1, 2, 3])  # Replace with your own logic\n",
    "        array2.append([text])\n",
    "        array3.append([True, False, True])  # Replace with your own logic\n",
    "        colors.append(color)\n",
    "        update_table()\n",
    "        text_input.value = \"\"\n",
    "\n",
    "\n",
    "\n",
    "# Attach the on_add_click function to the add button\n",
    "add_button.on_click(on_add_click)\n",
    "\n",
    "# Define a function to update the output and highlight the selected button\n",
    "def on_button_click(button):\n",
    "    # index = snippets.index(button.description)\n",
    "    # data = [array1[index], array2[index], array3[index]]\n",
    "    # headers = [\"Array 1\", \"Array 2\", \"Array 3\"]\n",
    "    # output.clear_output()\n",
    "    # with output:\n",
    "    #     display(widgets.HTML(\n",
    "    #         '<table><tr>{}</tr>{}</table>'.format(\n",
    "    #             ''.join('<th>{}</th>'.format(header) for header in headers),\n",
    "    #             ''.join('<tr>{}</tr>'.format(''.join('<td>{}</td>'.format(str(item)) for item in row)) for row in zip(*data))\n",
    "    #         )\n",
    "    #     ))\n",
    "    \n",
    "    for i, btn in enumerate(buttons):\n",
    "        btn.style.button_color = 'lightblue' if btn == button else 'transparent'\n",
    "        selected_id = i\n",
    "\n",
    "\n",
    "\n",
    "# Attach the on_button_click function to each button\n",
    "for button in buttons:\n",
    "    button.on_click(lambda btn: on_button_click(btn))\n",
    "\n",
    "\n",
    "# Display the main box and initial table\n",
    "display(main_box)\n",
    "update_table()"
   ]
  },
  {
   "cell_type": "code",
   "execution_count": 53,
   "metadata": {},
   "outputs": [
    {
     "data": {
      "application/vnd.jupyter.widget-view+json": {
       "model_id": "7c747d2a43ba487e98d666fca19feb51",
       "version_major": 2,
       "version_minor": 0
      },
      "text/plain": [
       "VBox(children=(HBox(children=(Button(description='hi', layout=Layout(border_bottom='1px solid black', border_l…"
      ]
     },
     "metadata": {},
     "output_type": "display_data"
    },
    {
     "ename": "IndexError",
     "evalue": "list index out of range",
     "output_type": "error",
     "traceback": [
      "\u001b[0;31m---------------------------------------------------------------------------\u001b[0m",
      "\u001b[0;31mIndexError\u001b[0m                                Traceback (most recent call last)",
      "Cell \u001b[0;32mIn[53], line 102\u001b[0m, in \u001b[0;36mon_add_click\u001b[0;34m(button)\u001b[0m\n\u001b[1;32m     96\u001b[0m array3_data \u001b[38;5;241m=\u001b[39m [\u001b[38;5;28;01mTrue\u001b[39;00m, \u001b[38;5;28;01mFalse\u001b[39;00m, \u001b[38;5;28;01mTrue\u001b[39;00m]  \u001b[38;5;66;03m# Replace with your own logic\u001b[39;00m\n\u001b[1;32m     97\u001b[0m added_data\u001b[38;5;241m.\u001b[39mappend({\n\u001b[1;32m     98\u001b[0m     \u001b[38;5;124m'\u001b[39m\u001b[38;5;124msnippet_id\u001b[39m\u001b[38;5;124m'\u001b[39m: snippet_id,\n\u001b[1;32m     99\u001b[0m     \u001b[38;5;124m'\u001b[39m\u001b[38;5;124marrays\u001b[39m\u001b[38;5;124m'\u001b[39m: [array1_data, array2_data, array3_data],\n\u001b[1;32m    100\u001b[0m     \u001b[38;5;124m'\u001b[39m\u001b[38;5;124mcolor\u001b[39m\u001b[38;5;124m'\u001b[39m: color\n\u001b[1;32m    101\u001b[0m })\n\u001b[0;32m--> 102\u001b[0m \u001b[43mupdate_table\u001b[49m\u001b[43m(\u001b[49m\u001b[38;5;28;43mlen\u001b[39;49m\u001b[43m(\u001b[49m\u001b[43msnippets\u001b[49m\u001b[43m)\u001b[49m\u001b[43m \u001b[49m\u001b[38;5;241;43m-\u001b[39;49m\u001b[43m \u001b[49m\u001b[38;5;241;43m1\u001b[39;49m\u001b[43m)\u001b[49m\n\u001b[1;32m    103\u001b[0m text_input\u001b[38;5;241m.\u001b[39mvalue \u001b[38;5;241m=\u001b[39m \u001b[38;5;124m\"\u001b[39m\u001b[38;5;124m\"\u001b[39m\n",
      "Cell \u001b[0;32mIn[53], line 52\u001b[0m, in \u001b[0;36mupdate_table\u001b[0;34m(snippet_index)\u001b[0m\n\u001b[1;32m     43\u001b[0m     table_rows\u001b[38;5;241m.\u001b[39mextend(\n\u001b[1;32m     44\u001b[0m         \u001b[38;5;124m'\u001b[39m\u001b[38;5;124m<tr style=\u001b[39m\u001b[38;5;124m\"\u001b[39m\u001b[38;5;124mbackground-color: \u001b[39m\u001b[38;5;132;01m{}\u001b[39;00m\u001b[38;5;124m;\u001b[39m\u001b[38;5;124m\"\u001b[39m\u001b[38;5;124m>\u001b[39m\u001b[38;5;132;01m{}\u001b[39;00m\u001b[38;5;124m</tr>\u001b[39m\u001b[38;5;124m'\u001b[39m\u001b[38;5;241m.\u001b[39mformat(\n\u001b[1;32m     45\u001b[0m             data[\u001b[38;5;124m'\u001b[39m\u001b[38;5;124mcolor\u001b[39m\u001b[38;5;124m'\u001b[39m],\n\u001b[0;32m   (...)\u001b[0m\n\u001b[1;32m     48\u001b[0m         \u001b[38;5;28;01mfor\u001b[39;00m row \u001b[38;5;129;01min\u001b[39;00m \u001b[38;5;28mzip\u001b[39m(\u001b[38;5;241m*\u001b[39mdata[\u001b[38;5;124m'\u001b[39m\u001b[38;5;124marrays\u001b[39m\u001b[38;5;124m'\u001b[39m])\n\u001b[1;32m     49\u001b[0m     )\n\u001b[1;32m     51\u001b[0m \u001b[38;5;66;03m# Add the data for the selected text snippet\u001b[39;00m\n\u001b[0;32m---> 52\u001b[0m data \u001b[38;5;241m=\u001b[39m [\u001b[43marray1\u001b[49m\u001b[43m[\u001b[49m\u001b[43msnippet_index\u001b[49m\u001b[43m]\u001b[49m, array2[snippet_index], array3[snippet_index]]\n\u001b[1;32m     53\u001b[0m table_rows\u001b[38;5;241m.\u001b[39mextend(\n\u001b[1;32m     54\u001b[0m     \u001b[38;5;124m'\u001b[39m\u001b[38;5;124m<tr style=\u001b[39m\u001b[38;5;124m\"\u001b[39m\u001b[38;5;124mbackground-color: \u001b[39m\u001b[38;5;132;01m{}\u001b[39;00m\u001b[38;5;124m;\u001b[39m\u001b[38;5;124m\"\u001b[39m\u001b[38;5;124m>\u001b[39m\u001b[38;5;132;01m{}\u001b[39;00m\u001b[38;5;124m</tr>\u001b[39m\u001b[38;5;124m'\u001b[39m\u001b[38;5;241m.\u001b[39mformat(\n\u001b[1;32m     55\u001b[0m         colors[snippet_index],\n\u001b[0;32m   (...)\u001b[0m\n\u001b[1;32m     58\u001b[0m     \u001b[38;5;28;01mfor\u001b[39;00m row \u001b[38;5;129;01min\u001b[39;00m \u001b[38;5;28mzip\u001b[39m(\u001b[38;5;241m*\u001b[39mdata)\n\u001b[1;32m     59\u001b[0m )\n\u001b[1;32m     61\u001b[0m table_html \u001b[38;5;241m=\u001b[39m \u001b[38;5;124m'''\u001b[39m\n\u001b[1;32m     62\u001b[0m \u001b[38;5;124m    <table>\u001b[39m\n\u001b[1;32m     63\u001b[0m \u001b[38;5;124m        <tr><th colspan=\u001b[39m\u001b[38;5;124m\"\u001b[39m\u001b[38;5;124m3\u001b[39m\u001b[38;5;124m\"\u001b[39m\u001b[38;5;124m>Data Types</th></tr>\u001b[39m\n\u001b[0;32m   (...)\u001b[0m\n\u001b[1;32m     71\u001b[0m     \u001b[38;5;124m'\u001b[39m\u001b[38;5;124m'\u001b[39m\u001b[38;5;241m.\u001b[39mjoin(table_rows)\n\u001b[1;32m     72\u001b[0m )\n",
      "\u001b[0;31mIndexError\u001b[0m: list index out of range"
     ]
    }
   ],
   "source": [
    "import ipywidgets as widgets\n",
    "from IPython.display import display\n",
    "import uuid\n",
    "\n",
    "# Assume you have a list of text snippets and their associated arrays\n",
    "snippets = [\"hi\", \"bueno\", \"gracias\", \"mom\"]\n",
    "snippet_ids = [str(uuid.uuid4()) for _ in range(len(snippets))]\n",
    "array1 = [[1, 2, 3], [4, 5, 6], [7, 8, 9], [10, 11, 12]]\n",
    "array2 = [[\"a\", \"b\", \"c\"], [\"d\", \"e\", \"f\"], [\"g\", \"h\", \"i\"], [\"j\", \"k\", \"l\"]]\n",
    "array3 = [[True, False, True], [False, True, False], [True, True, False], [False, False, True]]\n",
    "colors = ['lightgray', 'darkgray', 'lightgray', 'darkgray']\n",
    "\n",
    "# Create a list to store the data added from the interface\n",
    "added_data = []\n",
    "\n",
    "# Create a list of buttons for each text snippet\n",
    "buttons = [widgets.Button(description=snippet, layout=widgets.Layout(width='auto', border='1px solid black', padding='0px', margin=\"0px\")) for snippet in snippets]\n",
    "\n",
    "# Create a box to hold the buttons\n",
    "button_box = widgets.HBox(buttons, layout=widgets.Layout(display='flex', flex_flow='row wrap', align_items='stretch'))\n",
    "\n",
    "# Create an output widget to display the table\n",
    "output = widgets.Output()\n",
    "\n",
    "# Create input widgets for adding new data\n",
    "text_input = widgets.Text(description=\"Text:\")\n",
    "color_picker = widgets.ColorPicker(description=\"Color:\", value='#ffffff')\n",
    "add_button = widgets.Button(description=\"+\")\n",
    "\n",
    "# Create a box to hold the input widgets\n",
    "input_box = widgets.HBox([text_input, color_picker, add_button])\n",
    "\n",
    "# Create a box to hold the button_box and input_box\n",
    "main_box = widgets.VBox([button_box, input_box, output])\n",
    "\n",
    "# Define a function to update the table based on the selected text snippet\n",
    "def update_table(snippet_index):\n",
    "    headers = [\"Array 1\", \"Array 2\", \"Array 3\"]\n",
    "    table_rows = []\n",
    "\n",
    "    # Add the data from the interface\n",
    "    for data in added_data:\n",
    "        table_rows.extend(\n",
    "            '<tr style=\"background-color: {};\">{}</tr>'.format(\n",
    "                data['color'],\n",
    "                ''.join('<td>{}</td>'.format(str(item)) for item in row)\n",
    "            )\n",
    "            for row in zip(*data['arrays'])\n",
    "        )\n",
    "\n",
    "    # Add the data for the selected text snippet\n",
    "    data = [array1[snippet_index], array2[snippet_index], array3[snippet_index]]\n",
    "    table_rows.extend(\n",
    "        '<tr style=\"background-color: {};\">{}</tr>'.format(\n",
    "            colors[snippet_index],\n",
    "            ''.join('<td>{}</td>'.format(str(item)) for item in row)\n",
    "        )\n",
    "        for row in zip(*data)\n",
    "    )\n",
    "\n",
    "    table_html = '''\n",
    "        <table>\n",
    "            <tr><th colspan=\"3\">Data Types</th></tr>\n",
    "            <tr><td>int</td><td>str</td><td>bool</td></tr>\n",
    "            <tr><td colspan=\"3\"><button onclick=\"addRow()\">+</button></td></tr>\n",
    "            <tr>{}</tr>\n",
    "            {}\n",
    "        </table>\n",
    "    '''.format(\n",
    "        ''.join('<th>{}</th>'.format(header) for header in headers),\n",
    "        ''.join(table_rows)\n",
    "    )\n",
    "    output.clear_output(wait=True)\n",
    "    with output:\n",
    "        display(widgets.HTML(table_html))\n",
    "\n",
    "# Define a function to handle button clicks\n",
    "def on_button_click(button):\n",
    "    snippet_index = snippets.index(button.description)\n",
    "    update_table(snippet_index)\n",
    "\n",
    "# Attach the on_button_click function to each button\n",
    "for button in buttons:\n",
    "    button.on_click(lambda btn: on_button_click(btn))\n",
    "\n",
    "# Define a function to handle adding a new row\n",
    "def on_add_click(button):\n",
    "    text = text_input.value.strip()\n",
    "    if text:\n",
    "        color = color_picker.value\n",
    "        snippet_id = str(uuid.uuid4())\n",
    "        snippet_ids.append(snippet_id)\n",
    "        snippets.append(text)\n",
    "        array1_data = [1, 2, 3]  # Replace with your own logic\n",
    "        array2_data = [text]\n",
    "        array3_data = [True, False, True]  # Replace with your own logic\n",
    "        added_data.append({\n",
    "            'snippet_id': snippet_id,\n",
    "            'arrays': [array1_data, array2_data, array3_data],\n",
    "            'color': color\n",
    "        })\n",
    "        update_table(len(snippets) - 1)\n",
    "        text_input.value = \"\"\n",
    "\n",
    "# Attach the on_add_click function to the add button\n",
    "add_button.on_click(on_add_click)\n",
    "\n",
    "# Display the main box and initial table\n",
    "display(main_box)\n",
    "update_table(0)"
   ]
  },
  {
   "cell_type": "code",
   "execution_count": 54,
   "metadata": {},
   "outputs": [
    {
     "data": {
      "application/vnd.jupyter.widget-view+json": {
       "model_id": "36d7faaea51c433b974f2549e51bcbb0",
       "version_major": 2,
       "version_minor": 0
      },
      "text/plain": [
       "VBox(children=(HBox(children=(Button(description='hi', layout=Layout(border_bottom='1px solid black', border_l…"
      ]
     },
     "metadata": {},
     "output_type": "display_data"
    },
    {
     "ename": "IndexError",
     "evalue": "list index out of range",
     "output_type": "error",
     "traceback": [
      "\u001b[0;31m---------------------------------------------------------------------------\u001b[0m",
      "\u001b[0;31mIndexError\u001b[0m                                Traceback (most recent call last)",
      "Cell \u001b[0;32mIn[54], line 103\u001b[0m, in \u001b[0;36mon_add_click\u001b[0;34m(button)\u001b[0m\n\u001b[1;32m     97\u001b[0m array3_data \u001b[38;5;241m=\u001b[39m [\u001b[38;5;28;01mTrue\u001b[39;00m, \u001b[38;5;28;01mFalse\u001b[39;00m, \u001b[38;5;28;01mTrue\u001b[39;00m]  \u001b[38;5;66;03m# Replace with your own logic\u001b[39;00m\n\u001b[1;32m     98\u001b[0m added_data\u001b[38;5;241m.\u001b[39mappend({\n\u001b[1;32m     99\u001b[0m     \u001b[38;5;124m'\u001b[39m\u001b[38;5;124msnippet_id\u001b[39m\u001b[38;5;124m'\u001b[39m: snippet_id,\n\u001b[1;32m    100\u001b[0m     \u001b[38;5;124m'\u001b[39m\u001b[38;5;124marrays\u001b[39m\u001b[38;5;124m'\u001b[39m: [array1_data, array2_data, array3_data],\n\u001b[1;32m    101\u001b[0m     \u001b[38;5;124m'\u001b[39m\u001b[38;5;124mcolor\u001b[39m\u001b[38;5;124m'\u001b[39m: color\n\u001b[1;32m    102\u001b[0m })\n\u001b[0;32m--> 103\u001b[0m \u001b[43mupdate_table\u001b[49m\u001b[43m(\u001b[49m\u001b[38;5;28;43mlen\u001b[39;49m\u001b[43m(\u001b[49m\u001b[43msnippets\u001b[49m\u001b[43m)\u001b[49m\u001b[43m \u001b[49m\u001b[38;5;241;43m-\u001b[39;49m\u001b[43m \u001b[49m\u001b[38;5;241;43m1\u001b[39;49m\u001b[43m)\u001b[49m\n\u001b[1;32m    104\u001b[0m text_input\u001b[38;5;241m.\u001b[39mvalue \u001b[38;5;241m=\u001b[39m \u001b[38;5;124m\"\u001b[39m\u001b[38;5;124m\"\u001b[39m\n",
      "Cell \u001b[0;32mIn[54], line 53\u001b[0m, in \u001b[0;36mupdate_table\u001b[0;34m(snippet_index)\u001b[0m\n\u001b[1;32m     51\u001b[0m \u001b[38;5;66;03m# Add the data for the selected text snippet if the index is valid\u001b[39;00m\n\u001b[1;32m     52\u001b[0m \u001b[38;5;28;01mif\u001b[39;00m \u001b[38;5;241m0\u001b[39m \u001b[38;5;241m<\u001b[39m\u001b[38;5;241m=\u001b[39m snippet_index \u001b[38;5;241m<\u001b[39m \u001b[38;5;28mlen\u001b[39m(snippets):\n\u001b[0;32m---> 53\u001b[0m     data \u001b[38;5;241m=\u001b[39m [\u001b[43marray1\u001b[49m\u001b[43m[\u001b[49m\u001b[43msnippet_index\u001b[49m\u001b[43m]\u001b[49m, array2[snippet_index], array3[snippet_index]]\n\u001b[1;32m     54\u001b[0m     table_rows\u001b[38;5;241m.\u001b[39mextend(\n\u001b[1;32m     55\u001b[0m         \u001b[38;5;124m'\u001b[39m\u001b[38;5;124m<tr style=\u001b[39m\u001b[38;5;124m\"\u001b[39m\u001b[38;5;124mbackground-color: \u001b[39m\u001b[38;5;132;01m{}\u001b[39;00m\u001b[38;5;124m;\u001b[39m\u001b[38;5;124m\"\u001b[39m\u001b[38;5;124m>\u001b[39m\u001b[38;5;132;01m{}\u001b[39;00m\u001b[38;5;124m</tr>\u001b[39m\u001b[38;5;124m'\u001b[39m\u001b[38;5;241m.\u001b[39mformat(\n\u001b[1;32m     56\u001b[0m             colors[snippet_index],\n\u001b[0;32m   (...)\u001b[0m\n\u001b[1;32m     59\u001b[0m         \u001b[38;5;28;01mfor\u001b[39;00m row \u001b[38;5;129;01min\u001b[39;00m \u001b[38;5;28mzip\u001b[39m(\u001b[38;5;241m*\u001b[39mdata)\n\u001b[1;32m     60\u001b[0m     )\n\u001b[1;32m     62\u001b[0m table_html \u001b[38;5;241m=\u001b[39m \u001b[38;5;124m'''\u001b[39m\n\u001b[1;32m     63\u001b[0m \u001b[38;5;124m    <table>\u001b[39m\n\u001b[1;32m     64\u001b[0m \u001b[38;5;124m        <tr><th colspan=\u001b[39m\u001b[38;5;124m\"\u001b[39m\u001b[38;5;124m3\u001b[39m\u001b[38;5;124m\"\u001b[39m\u001b[38;5;124m>Data Types</th></tr>\u001b[39m\n\u001b[0;32m   (...)\u001b[0m\n\u001b[1;32m     72\u001b[0m     \u001b[38;5;124m'\u001b[39m\u001b[38;5;124m'\u001b[39m\u001b[38;5;241m.\u001b[39mjoin(table_rows)\n\u001b[1;32m     73\u001b[0m )\n",
      "\u001b[0;31mIndexError\u001b[0m: list index out of range"
     ]
    }
   ],
   "source": [
    "import ipywidgets as widgets\n",
    "from IPython.display import display\n",
    "import uuid\n",
    "\n",
    "# Assume you have a list of text snippets and their associated arrays\n",
    "snippets = [\"hi\", \"bueno\", \"gracias\", \"mom\"]\n",
    "snippet_ids = [str(uuid.uuid4()) for _ in range(len(snippets))]\n",
    "array1 = [[1, 2, 3], [4, 5, 6], [7, 8, 9], [10, 11, 12]]\n",
    "array2 = [[\"a\", \"b\", \"c\"], [\"d\", \"e\", \"f\"], [\"g\", \"h\", \"i\"], [\"j\", \"k\", \"l\"]]\n",
    "array3 = [[True, False, True], [False, True, False], [True, True, False], [False, False, True]]\n",
    "colors = ['lightgray', 'darkgray', 'lightgray', 'darkgray']\n",
    "\n",
    "# Create a list to store the data added from the interface\n",
    "added_data = []\n",
    "\n",
    "# Create a list of buttons for each text snippet\n",
    "buttons = [widgets.Button(description=snippet, layout=widgets.Layout(width='auto', border='1px solid black', padding='0px', margin=\"0px\")) for snippet in snippets]\n",
    "\n",
    "# Create a box to hold the buttons\n",
    "button_box = widgets.HBox(buttons, layout=widgets.Layout(display='flex', flex_flow='row wrap', align_items='stretch'))\n",
    "\n",
    "# Create an output widget to display the table\n",
    "output = widgets.Output()\n",
    "\n",
    "# Create input widgets for adding new data\n",
    "text_input = widgets.Text(description=\"Text:\")\n",
    "color_picker = widgets.ColorPicker(description=\"Color:\", value='#ffffff')\n",
    "add_button = widgets.Button(description=\"+\")\n",
    "\n",
    "# Create a box to hold the input widgets\n",
    "input_box = widgets.HBox([text_input, color_picker, add_button])\n",
    "\n",
    "# Create a box to hold the button_box and input_box\n",
    "main_box = widgets.VBox([button_box, input_box, output])\n",
    "\n",
    "# Define a function to update the table based on the selected text snippet\n",
    "def update_table(snippet_index):\n",
    "    headers = [\"Array 1\", \"Array 2\", \"Array 3\"]\n",
    "    table_rows = []\n",
    "\n",
    "    # Add the data from the interface\n",
    "    for data in added_data:\n",
    "        table_rows.extend(\n",
    "            '<tr style=\"background-color: {};\">{}</tr>'.format(\n",
    "                data['color'],\n",
    "                ''.join('<td>{}</td>'.format(str(item)) for item in row)\n",
    "            )\n",
    "            for row in zip(*data['arrays'])\n",
    "        )\n",
    "\n",
    "    # Add the data for the selected text snippet if the index is valid\n",
    "    if 0 <= snippet_index < len(snippets):\n",
    "        data = [array1[snippet_index], array2[snippet_index], array3[snippet_index]]\n",
    "        table_rows.extend(\n",
    "            '<tr style=\"background-color: {};\">{}</tr>'.format(\n",
    "                colors[snippet_index],\n",
    "                ''.join('<td>{}</td>'.format(str(item)) for item in row)\n",
    "            )\n",
    "            for row in zip(*data)\n",
    "        )\n",
    "\n",
    "    table_html = '''\n",
    "        <table>\n",
    "            <tr><th colspan=\"3\">Data Types</th></tr>\n",
    "            <tr><td>int</td><td>str</td><td>bool</td></tr>\n",
    "            <tr><td colspan=\"3\"><button onclick=\"addRow()\">+</button></td></tr>\n",
    "            <tr>{}</tr>\n",
    "            {}\n",
    "        </table>\n",
    "    '''.format(\n",
    "        ''.join('<th>{}</th>'.format(header) for header in headers),\n",
    "        ''.join(table_rows)\n",
    "    )\n",
    "    output.clear_output(wait=True)\n",
    "    with output:\n",
    "        display(widgets.HTML(table_html))\n",
    "\n",
    "# Define a function to handle button clicks\n",
    "def on_button_click(button):\n",
    "    snippet_index = snippets.index(button.description)\n",
    "    update_table(snippet_index)\n",
    "\n",
    "# Attach the on_button_click function to each button\n",
    "for button in buttons:\n",
    "    button.on_click(lambda btn: on_button_click(btn))\n",
    "\n",
    "# Define a function to handle adding a new row\n",
    "def on_add_click(button):\n",
    "    text = text_input.value.strip()\n",
    "    if text:\n",
    "        color = color_picker.value\n",
    "        snippet_id = str(uuid.uuid4())\n",
    "        snippet_ids.append(snippet_id)\n",
    "        snippets.append(text)\n",
    "        array1_data = [1, 2, 3]  # Replace with your own logic\n",
    "        array2_data = [text]\n",
    "        array3_data = [True, False, True]  # Replace with your own logic\n",
    "        added_data.append({\n",
    "            'snippet_id': snippet_id,\n",
    "            'arrays': [array1_data, array2_data, array3_data],\n",
    "            'color': color\n",
    "        })\n",
    "        update_table(len(snippets) - 1)\n",
    "        text_input.value = \"\"\n",
    "\n",
    "# Attach the on_add_click function to the add button\n",
    "add_button.on_click(on_add_click)\n",
    "\n",
    "# Display the main box and initial table\n",
    "display(main_box)\n",
    "update_table(0)"
   ]
  },
  {
   "cell_type": "code",
   "execution_count": 68,
   "metadata": {},
   "outputs": [
    {
     "data": {
      "application/vnd.jupyter.widget-view+json": {
       "model_id": "b27ef4a4cb1b43d08592ee6f6478f441",
       "version_major": 2,
       "version_minor": 0
      },
      "text/plain": [
       "VBox(children=(HBox(children=(Button(description='hi', layout=Layout(border_bottom='1px solid black', border_l…"
      ]
     },
     "metadata": {},
     "output_type": "display_data"
    }
   ],
   "source": [
    "import ipywidgets as widgets\n",
    "from IPython.display import display\n",
    "import uuid\n",
    "\n",
    "# Assume you have a list of text snippets and their associated arrays\n",
    "selected_id = 0\n",
    "snippets = [\"hi\", \"bueno\", \"gracias\", \"mom\"]\n",
    "snippet_ids = [str(uuid.uuid4()) for _ in range(len(snippets))]\n",
    "array1 = [[1, 2, 3], [4, 5, 6], [7, 8, 9], [10, 11, 12]]\n",
    "array2 = [[\"a\", \"b\", \"c\"], [\"d\", \"e\", \"f\"], [\"g\", \"h\", \"i\"], [\"j\", \"k\", \"l\"]]\n",
    "array3 = [[True, False, True], [False, True, False], [True, True, False], [False, False, True]]\n",
    "colors = ['lightblue', 'lightgreen', 'lightyellow', 'lightpink']\n",
    "\n",
    "# Create a list of buttons for each text snippet\n",
    "buttons = [widgets.Button(description=snippet, layout=widgets.Layout(width='auto', border='1px solid black', padding='0px', margin=\"0px\")) for snippet in snippets]\n",
    "\n",
    "# Create a box to hold the buttons\n",
    "button_box = widgets.HBox(buttons, layout=widgets.Layout(display='flex', flex_flow='row wrap', align_items='stretch'))\n",
    "\n",
    "# Create an output widget to display the table\n",
    "output = widgets.Output()\n",
    "\n",
    "# Create input widgets for adding new data\n",
    "text_input = widgets.Text(description=\"Text:\", margin=\"0px\")\n",
    "color_picker = widgets.ColorPicker(description=\"Color:\", value='#ffffff', margin=\"0px\")\n",
    "add_button = widgets.Button(description=\"+\")\n",
    "\n",
    "# Create a box to hold the input widgets\n",
    "input_box = widgets.VBox([text_input, color_picker, add_button])\n",
    "\n",
    "# Create a box to hold the button_box and input_box\n",
    "main_box = widgets.VBox([button_box, input_box, output])\n",
    "\n",
    "# Define a function to update the table\n",
    "def update_table():\n",
    "    headers = [\"Array 1\", \"Array 2\", \"Array 3\"]\n",
    "    table_rows = []\n",
    "    \n",
    "    if 0 <= selected_id < len(snippets):\n",
    "        data = [array1[selected_id], array2[selected_id], array3[selected_id]]\n",
    "        table_rows.extend(\n",
    "            '<tr style=\"background-color: {};\">{}</tr>'.format(\n",
    "                colors[selected_id],\n",
    "                ''.join('<td>{}</td>'.format(str(item)) for item in row)\n",
    "            )\n",
    "            for row in zip(*data)\n",
    "        )\n",
    "    \n",
    "    table_html = '''\n",
    "        <table>\n",
    "            <tr>{}</tr>\n",
    "            {}\n",
    "        </table>\n",
    "    '''.format(\n",
    "        ''.join('<th>{}</th>'.format(header) for header in headers),\n",
    "        ''.join(table_rows)\n",
    "    )\n",
    "    output.clear_output(wait=True)\n",
    "    with output:\n",
    "        display(widgets.HTML(table_html))\n",
    "\n",
    "# Define a function to handle adding a new row\n",
    "def on_add_click(button):\n",
    "    global selected_id\n",
    "    text = text_input.value.strip()\n",
    "    if text:\n",
    "        color = color_picker.value\n",
    "        snippet_id = str(uuid.uuid4())\n",
    "        snippet_ids.append(snippet_id)\n",
    "        snippets.append(text)\n",
    "        array1.append([1, 2, 3])  # Replace with your own logic\n",
    "        array2.append([text])\n",
    "        array3.append([True, False, True])  # Replace with your own logic\n",
    "        colors.append(color)\n",
    "        selected_id = len(snippets) - 1\n",
    "        update_table()\n",
    "        text_input.value = \"\"\n",
    "\n",
    "# Attach the on_add_click function to the add button\n",
    "add_button.on_click(on_add_click)\n",
    "\n",
    "# Define a function to update the output and highlight the selected button\n",
    "def on_button_click(button):\n",
    "    global selected_id\n",
    "    index = snippets.index(button.description)\n",
    "    selected_id = index\n",
    "    update_table()\n",
    "    for i, btn in enumerate(buttons):\n",
    "        btn.style.button_color = 'lightblue' if i == selected_id else 'transparent'\n",
    "\n",
    "# Attach the on_button_click function to each button\n",
    "for button in buttons:\n",
    "    button.on_click(lambda btn: on_button_click(btn))\n",
    "\n",
    "# Display the main box and initial table\n",
    "display(main_box)\n",
    "update_table()"
   ]
  }
 ],
 "metadata": {
  "kernelspec": {
   "display_name": "Python 3",
   "language": "python",
   "name": "python3"
  },
  "language_info": {
   "codemirror_mode": {
    "name": "ipython",
    "version": 3
   },
   "file_extension": ".py",
   "mimetype": "text/x-python",
   "name": "python",
   "nbconvert_exporter": "python",
   "pygments_lexer": "ipython3",
   "version": "3.11.7"
  }
 },
 "nbformat": 4,
 "nbformat_minor": 2
}
