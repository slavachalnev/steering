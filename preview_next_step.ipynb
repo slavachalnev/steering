{
 "cells": [
  {
   "cell_type": "code",
   "execution_count": 23,
   "metadata": {},
   "outputs": [
    {
     "data": {
      "text/plain": [
       "<torch.autograd.grad_mode.set_grad_enabled at 0x148879110>"
      ]
     },
     "execution_count": 23,
     "metadata": {},
     "output_type": "execute_result"
    }
   ],
   "source": [
    "import torch\n",
    "from torch.utils.data import DataLoader\n",
    "from transformer_lens import HookedTransformer\n",
    "from transformer_lens import utils as tutils\n",
    "from transformer_lens.evals import make_pile_data_loader, evaluate_on_dataset\n",
    "from transformer_lens.hook_points import (\n",
    "    HookPoint,\n",
    ")  # Hooking utilities\n",
    "\n",
    "from functools import partial\n",
    "from datasets import load_dataset\n",
    "from tqdm import tqdm\n",
    "from jaxtyping import Float\n",
    "\n",
    "from sae_lens import SparseAutoencoder\n",
    "from sae_lens.toolkit.pretrained_saes import get_gpt2_res_jb_saes\n",
    "\n",
    "# from steering.eval_utils import evaluate_completions\n",
    "from steering.utils import get_activation_steering, get_sae_diff_steering, remove_sae_feats, text_to_sae_feats, top_activations\n",
    "from steering.preview import preview_next_step, generate\n",
    "\n",
    "torch.set_grad_enabled(False)"
   ]
  },
  {
   "cell_type": "code",
   "execution_count": 24,
   "metadata": {},
   "outputs": [
    {
     "name": "stderr",
     "output_type": "stream",
     "text": [
      "/usr/local/lib/python3.11/site-packages/huggingface_hub/file_download.py:1132: FutureWarning: `resume_download` is deprecated and will be removed in version 1.0.0. Downloads always resume when possible. If you want to force a new download, use `force_download=True`.\n",
      "  warnings.warn(\n"
     ]
    },
    {
     "name": "stdout",
     "output_type": "stream",
     "text": [
      "Loaded pretrained model gpt2-small into HookedTransformer\n"
     ]
    }
   ],
   "source": [
    "device = torch.device('cuda' if torch.cuda.is_available() else 'cpu')\n",
    "model = HookedTransformer.from_pretrained('gpt2-small', device=device)"
   ]
  },
  {
   "cell_type": "code",
   "execution_count": 25,
   "metadata": {},
   "outputs": [
    {
     "name": "stderr",
     "output_type": "stream",
     "text": [
      "100%|██████████| 1/1 [00:01<00:00,  1.13s/it]\n"
     ]
    }
   ],
   "source": [
    "hp_6 = tutils.get_act_name(\"resid_pre\", 6)\n",
    "sae_6 = get_gpt2_res_jb_saes(hp_6)[0][hp_6]\n",
    "sae_6 = sae_6.to(model.W_E.device)"
   ]
  },
  {
   "cell_type": "code",
   "execution_count": 26,
   "metadata": {},
   "outputs": [
    {
     "name": "stdout",
     "output_type": "stream",
     "text": [
      "tensor([[[23123,   979,   316,  7496, 23111, 23373,  9088, 16196,  2039, 10423],\n",
      "         [23409, 19151,  4422,  6144, 21687, 11355, 13648,  1781, 21952,  1622],\n",
      "         [18490, 19117,  1622,  7574,   144, 21060, 15396,  1738, 14511, 19151],\n",
      "         [ 4003, 23672,  2312,  7574,  1622,   396, 14732, 15396, 19136, 24191],\n",
      "         [20985,  9995, 21393,  4492,  8120,  1738,  7574,  4512, 24191, 19136]]])\n",
      "tensor([32.6204, 12.4177, 12.2635,  8.3271,  6.1568,  6.1488,  5.6456,  4.6021,\n",
      "         3.0081,  2.9267])\n"
     ]
    }
   ],
   "source": [
    "sae_feats = text_to_sae_feats(model, sae_6, hp_6, \"I am so happy\")\n",
    "top_v, top_i = top_activations(sae_feats, 10)\n",
    "\n",
    "print(top_i)\n",
    "print(top_v[0,-1])\n",
    "\n",
    "# anger feature = (10131, 28.0792), 6415\n",
    "# happy feature = (20985, 32.62), (9995, 12.4177)"
   ]
  },
  {
   "cell_type": "code",
   "execution_count": 27,
   "metadata": {},
   "outputs": [],
   "source": [
    "def patch_position(\n",
    "    value: Float[torch.Tensor, \"batch pos d_model\"],\n",
    "    hook: HookPoint,\n",
    "    steering_vectors: Float[torch.Tensor, \"num d_model\"],\n",
    "    activations: Float[torch.Tensor, \"num\"],\n",
    "    c: float,\n",
    "    position: int\n",
    "    \n",
    ") -> Float[torch.Tensor, \"batch pos d_head\"]:\n",
    "    # add all feature_vectors to vector\n",
    "    for i, steering_vector in enumerate(steering_vectors):\n",
    "      value[:, position, :] += steering_vector * activations[i] * c\n",
    "    return value"
   ]
  },
  {
   "cell_type": "code",
   "execution_count": 32,
   "metadata": {},
   "outputs": [],
   "source": [
    "def generate(\n",
    "    model: HookedTransformer, prompt: str, fwd_hooks=[], n_samples=5, max_length=20\n",
    "):\n",
    "    gen_texts = []\n",
    "    with model.hooks(fwd_hooks=fwd_hooks):\n",
    "        for _ in tqdm(range(n_samples)):\n",
    "            output = model.generate(\n",
    "                prompt,\n",
    "                prepend_bos=True,\n",
    "                use_past_kv_cache=False,\n",
    "                max_new_tokens=max_length,\n",
    "                verbose=False,\n",
    "            )\n",
    "            gen_texts.append(output)\n",
    "    return gen_texts\n"
   ]
  },
  {
   "cell_type": "code",
   "execution_count": 28,
   "metadata": {},
   "outputs": [],
   "source": [
    "features = [[10131, 28.0792]]\n",
    "steering_vectors = [sae_6.W_dec[feature[0]] for feature in features]"
   ]
  },
  {
   "cell_type": "code",
   "execution_count": 29,
   "metadata": {},
   "outputs": [
    {
     "name": "stdout",
     "output_type": "stream",
     "text": [
      "34191\n"
     ]
    }
   ],
   "source": [
    "vocab_index = model.tokenizer.encode(\"happy\")[0]\n",
    "print(vocab_index)\n",
    "\n",
    "# anger: 2564\n",
    "# happy: 34191"
   ]
  },
  {
   "cell_type": "code",
   "execution_count": 33,
   "metadata": {},
   "outputs": [
    {
     "name": "stdout",
     "output_type": "stream",
     "text": [
      "['<endoftext>', 'I', 'Ġcan', \"'t\", 'Ġbelieve', 'Ġhow']\n"
     ]
    },
    {
     "name": "stderr",
     "output_type": "stream",
     "text": [
      "100%|██████████| 3/3 [00:09<00:00,  3.09s/it]\n"
     ]
    },
    {
     "data": {
      "text/plain": [
       "[\"I can't believe how good it went down there. Just when I finally thought the woman working in the hall might be having\",\n",
       " \"I can't believe how much I'm not actually interested in… to speak of which I feel is wholly appropriate for… shit\",\n",
       " \"I can't believe how many times I've gotten sunburns, sweating on my own, thinking that I may have to\"]"
      ]
     },
     "execution_count": 33,
     "metadata": {},
     "output_type": "execute_result"
    }
   ],
   "source": [
    "hook = (\n",
    "    hp_6,\n",
    "    partial(\n",
    "        patch_position, \n",
    "        steering_vectors=steering_vectors, \n",
    "        activations=[feature[1] for feature in features], \n",
    "        c=10,\n",
    "        position=-2\n",
    "    )\n",
    ")\n",
    "\n",
    "fwd_hooks = [hook]\n",
    "prompt = \"I can't believe how\"\n",
    "print([\"<endoftext>\"] + list(model.tokenizer.tokenize(prompt)))\n",
    "\n",
    "generate(model, prompt, fwd_hooks=fwd_hooks, n_samples=3)\n"
   ]
  },
  {
   "cell_type": "code",
   "execution_count": null,
   "metadata": {},
   "outputs": [],
   "source": []
  },
  {
   "cell_type": "code",
   "execution_count": 34,
   "metadata": {},
   "outputs": [
    {
     "data": {
      "text/html": [
       "<style type=\"text/css\">\n",
       "#T_7c118 th {\n",
       "  background-color: #dddddd;\n",
       "  color: black;\n",
       "  text-align: center;\n",
       "  padding: 10px;\n",
       "  font-size: 16px;\n",
       "  border-bottom: 2px solid #ccc;\n",
       "}\n",
       "#T_7c118 td {\n",
       "  text-align: center;\n",
       "  padding: 8px;\n",
       "  font-size: 14px;\n",
       "  border-bottom: 1px solid #ccc;\n",
       "  color: black;\n",
       "}\n",
       "#T_7c118 tr:nth-child(odd) {\n",
       "  background-color: #f9f9f9;\n",
       "}\n",
       "#T_7c118 tr:nth-child(even) {\n",
       "  background-color: white;\n",
       "}\n",
       "#T_7c118 table {\n",
       "  border-collapse: collapse;\n",
       "  width: 50%;\n",
       "  margin: 25px 0;\n",
       "  font-family: Arial, sans-serif;\n",
       "  border-radius: 8px;\n",
       "  overflow: hidden;\n",
       "}\n",
       "#T_7c118 caption {\n",
       "  caption-side: top;\n",
       "  font-size: 18px;\n",
       "  font-weight: bold;\n",
       "  margin-bottom: 10px;\n",
       "}\n",
       "#T_7c118 tbody tr:hover {\n",
       "  background-color: #e0e0e0;\n",
       "}\n",
       "</style>\n",
       "<table id=\"T_7c118\">\n",
       "  <caption>Top Tokens</caption>\n",
       "  <thead>\n",
       "    <tr>\n",
       "      <th id=\"T_7c118_level0_col0\" class=\"col_heading level0 col0\" >Positions</th>\n",
       "      <th id=\"T_7c118_level0_col1\" class=\"col_heading level0 col1\" >Token</th>\n",
       "      <th id=\"T_7c118_level0_col2\" class=\"col_heading level0 col2\" >Act</th>\n",
       "    </tr>\n",
       "  </thead>\n",
       "  <tbody>\n",
       "    <tr>\n",
       "      <td id=\"T_7c118_row0_col0\" class=\"data row0 col0\" >1</td>\n",
       "      <td id=\"T_7c118_row0_col1\" class=\"data row0 col1\" > much</td>\n",
       "      <td id=\"T_7c118_row0_col2\" class=\"data row0 col2\" >14.461168</td>\n",
       "    </tr>\n",
       "    <tr>\n",
       "      <td id=\"T_7c118_row1_col0\" class=\"data row1 col0\" >2</td>\n",
       "      <td id=\"T_7c118_row1_col1\" class=\"data row1 col1\" > many</td>\n",
       "      <td id=\"T_7c118_row1_col2\" class=\"data row1 col2\" >14.322128</td>\n",
       "    </tr>\n",
       "    <tr>\n",
       "      <td id=\"T_7c118_row2_col0\" class=\"data row2 col0\" >3</td>\n",
       "      <td id=\"T_7c118_row2_col1\" class=\"data row2 col1\" > little</td>\n",
       "      <td id=\"T_7c118_row2_col2\" class=\"data row2 col2\" >13.198481</td>\n",
       "    </tr>\n",
       "    <tr>\n",
       "      <td id=\"T_7c118_row3_col0\" class=\"data row3 col0\" >4</td>\n",
       "      <td id=\"T_7c118_row3_col1\" class=\"data row3 col1\" > long</td>\n",
       "      <td id=\"T_7c118_row3_col2\" class=\"data row3 col2\" >12.777117</td>\n",
       "    </tr>\n",
       "    <tr>\n",
       "      <td id=\"T_7c118_row4_col0\" class=\"data row4 col0\" >5</td>\n",
       "      <td id=\"T_7c118_row4_col1\" class=\"data row4 col1\" > badly</td>\n",
       "      <td id=\"T_7c118_row4_col2\" class=\"data row4 col2\" >12.763730</td>\n",
       "    </tr>\n",
       "    <tr>\n",
       "      <td id=\"T_7c118_row5_col0\" class=\"data row5 col0\" >6</td>\n",
       "      <td id=\"T_7c118_row5_col1\" class=\"data row5 col1\" > bad</td>\n",
       "      <td id=\"T_7c118_row5_col2\" class=\"data row5 col2\" >12.615878</td>\n",
       "    </tr>\n",
       "    <tr>\n",
       "      <td id=\"T_7c118_row6_col0\" class=\"data row6 col0\" >7</td>\n",
       "      <td id=\"T_7c118_row6_col1\" class=\"data row6 col1\" > the</td>\n",
       "      <td id=\"T_7c118_row6_col2\" class=\"data row6 col2\" >12.552763</td>\n",
       "    </tr>\n",
       "    <tr>\n",
       "      <td id=\"T_7c118_row7_col0\" class=\"data row7 col0\" >8</td>\n",
       "      <td id=\"T_7c118_row7_col1\" class=\"data row7 col1\" > this</td>\n",
       "      <td id=\"T_7c118_row7_col2\" class=\"data row7 col2\" >12.508451</td>\n",
       "    </tr>\n",
       "    <tr>\n",
       "      <td id=\"T_7c118_row8_col0\" class=\"data row8 col0\" >9</td>\n",
       "      <td id=\"T_7c118_row8_col1\" class=\"data row8 col1\" > stupid</td>\n",
       "      <td id=\"T_7c118_row8_col2\" class=\"data row8 col2\" >12.288016</td>\n",
       "    </tr>\n",
       "    <tr>\n",
       "      <td id=\"T_7c118_row9_col0\" class=\"data row9 col0\" >10</td>\n",
       "      <td id=\"T_7c118_row9_col1\" class=\"data row9 col1\" > hard</td>\n",
       "      <td id=\"T_7c118_row9_col2\" class=\"data row9 col2\" >12.170626</td>\n",
       "    </tr>\n",
       "    <tr>\n",
       "      <td id=\"T_7c118_row10_col0\" class=\"data row10 col0\" >11</td>\n",
       "      <td id=\"T_7c118_row10_col1\" class=\"data row10 col1\" > poorly</td>\n",
       "      <td id=\"T_7c118_row10_col2\" class=\"data row10 col2\" >12.058315</td>\n",
       "    </tr>\n",
       "    <tr>\n",
       "      <td id=\"T_7c118_row11_col0\" class=\"data row11 col0\" >12</td>\n",
       "      <td id=\"T_7c118_row11_col1\" class=\"data row11 col1\" > wrong</td>\n",
       "      <td id=\"T_7c118_row11_col2\" class=\"data row11 col2\" >12.009614</td>\n",
       "    </tr>\n",
       "    <tr>\n",
       "      <td id=\"T_7c118_row12_col0\" class=\"data row12 col0\" >13</td>\n",
       "      <td id=\"T_7c118_row12_col1\" class=\"data row12 col1\" > few</td>\n",
       "      <td id=\"T_7c118_row12_col2\" class=\"data row12 col2\" >11.961258</td>\n",
       "    </tr>\n",
       "    <tr>\n",
       "      <td id=\"T_7c118_row13_col0\" class=\"data row13 col0\" >14</td>\n",
       "      <td id=\"T_7c118_row13_col1\" class=\"data row13 col1\" > I</td>\n",
       "      <td id=\"T_7c118_row13_col2\" class=\"data row13 col2\" >11.906854</td>\n",
       "    </tr>\n",
       "    <tr>\n",
       "      <td id=\"T_7c118_row14_col0\" class=\"data row14 col0\" >15</td>\n",
       "      <td id=\"T_7c118_row14_col1\" class=\"data row14 col1\" > people</td>\n",
       "      <td id=\"T_7c118_row14_col2\" class=\"data row14 col2\" >11.865587</td>\n",
       "    </tr>\n",
       "    <tr>\n",
       "      <td id=\"T_7c118_row15_col0\" class=\"data row15 col0\" >16</td>\n",
       "      <td id=\"T_7c118_row15_col1\" class=\"data row15 col1\" > quickly</td>\n",
       "      <td id=\"T_7c118_row15_col2\" class=\"data row15 col2\" >11.813734</td>\n",
       "    </tr>\n",
       "    <tr>\n",
       "      <td id=\"T_7c118_row16_col0\" class=\"data row16 col0\" >17</td>\n",
       "      <td id=\"T_7c118_row16_col1\" class=\"data row16 col1\" > far</td>\n",
       "      <td id=\"T_7c118_row16_col2\" class=\"data row16 col2\" >11.739200</td>\n",
       "    </tr>\n",
       "    <tr>\n",
       "      <td id=\"T_7c118_row17_col0\" class=\"data row17 col0\" >18</td>\n",
       "      <td id=\"T_7c118_row17_col1\" class=\"data row17 col1\" > easily</td>\n",
       "      <td id=\"T_7c118_row17_col2\" class=\"data row17 col2\" >11.676010</td>\n",
       "    </tr>\n",
       "    <tr>\n",
       "      <td id=\"T_7c118_row18_col0\" class=\"data row18 col0\" >19</td>\n",
       "      <td id=\"T_7c118_row18_col1\" class=\"data row18 col1\" > you</td>\n",
       "      <td id=\"T_7c118_row18_col2\" class=\"data row18 col2\" >11.573380</td>\n",
       "    </tr>\n",
       "    <tr>\n",
       "      <td id=\"T_7c118_row19_col0\" class=\"data row19 col0\" >20</td>\n",
       "      <td id=\"T_7c118_row19_col1\" class=\"data row19 col1\" > well</td>\n",
       "      <td id=\"T_7c118_row19_col2\" class=\"data row19 col2\" >11.513612</td>\n",
       "    </tr>\n",
       "  </tbody>\n",
       "</table>\n"
      ],
      "text/plain": [
       "<pandas.io.formats.style.Styler at 0x1493c2890>"
      ]
     },
     "metadata": {},
     "output_type": "display_data"
    },
    {
     "data": {
      "text/html": [
       "<style type=\"text/css\">\n",
       "#T_efa16 th {\n",
       "  background-color: #dddddd;\n",
       "  color: black;\n",
       "  text-align: center;\n",
       "  padding: 10px;\n",
       "  font-size: 16px;\n",
       "  border-bottom: 2px solid #ccc;\n",
       "}\n",
       "#T_efa16 td {\n",
       "  text-align: center;\n",
       "  padding: 8px;\n",
       "  font-size: 14px;\n",
       "  border-bottom: 1px solid #ccc;\n",
       "  color: black;\n",
       "}\n",
       "#T_efa16 tr:nth-child(odd) {\n",
       "  background-color: #f9f9f9;\n",
       "}\n",
       "#T_efa16 tr:nth-child(even) {\n",
       "  background-color: white;\n",
       "}\n",
       "#T_efa16 table {\n",
       "  border-collapse: collapse;\n",
       "  width: 50%;\n",
       "  margin: 25px 0;\n",
       "  font-family: Arial, sans-serif;\n",
       "  border-radius: 8px;\n",
       "  overflow: hidden;\n",
       "}\n",
       "#T_efa16 caption {\n",
       "  caption-side: top;\n",
       "  font-size: 18px;\n",
       "  font-weight: bold;\n",
       "  margin-bottom: 10px;\n",
       "}\n",
       "#T_efa16 tbody tr:hover {\n",
       "  background-color: #e0e0e0;\n",
       "}\n",
       "</style>\n",
       "<table id=\"T_efa16\">\n",
       "  <caption>Watch Tokens</caption>\n",
       "  <thead>\n",
       "    <tr>\n",
       "      <th id=\"T_efa16_level0_col0\" class=\"col_heading level0 col0\" >Positions</th>\n",
       "      <th id=\"T_efa16_level0_col1\" class=\"col_heading level0 col1\" >Token</th>\n",
       "      <th id=\"T_efa16_level0_col2\" class=\"col_heading level0 col2\" >Act</th>\n",
       "    </tr>\n",
       "  </thead>\n",
       "  <tbody>\n",
       "    <tr>\n",
       "      <td id=\"T_efa16_row0_col0\" class=\"data row0 col0\" >39592</td>\n",
       "      <td id=\"T_efa16_row0_col1\" class=\"data row0 col1\" >anger</td>\n",
       "      <td id=\"T_efa16_row0_col2\" class=\"data row0 col2\" >-3.159610</td>\n",
       "    </tr>\n",
       "    <tr>\n",
       "      <td id=\"T_efa16_row1_col0\" class=\"data row1 col0\" >34434</td>\n",
       "      <td id=\"T_efa16_row1_col1\" class=\"data row1 col1\" >happy</td>\n",
       "      <td id=\"T_efa16_row1_col2\" class=\"data row1 col2\" >-1.718482</td>\n",
       "    </tr>\n",
       "  </tbody>\n",
       "</table>\n"
      ],
      "text/plain": [
       "<pandas.io.formats.style.Styler at 0x1486cfb50>"
      ]
     },
     "metadata": {},
     "output_type": "display_data"
    }
   ],
   "source": [
    "preview_next_step(model, prompt, fwd_hooks=fwd_hooks, watch_logits=[2564, 34191])"
   ]
  },
  {
   "cell_type": "code",
   "execution_count": null,
   "metadata": {},
   "outputs": [],
   "source": []
  },
  {
   "cell_type": "code",
   "execution_count": null,
   "metadata": {},
   "outputs": [],
   "source": []
  },
  {
   "cell_type": "code",
   "execution_count": null,
   "metadata": {},
   "outputs": [],
   "source": []
  }
 ],
 "metadata": {
  "kernelspec": {
   "display_name": "Python 3",
   "language": "python",
   "name": "python3"
  },
  "language_info": {
   "codemirror_mode": {
    "name": "ipython",
    "version": 3
   },
   "file_extension": ".py",
   "mimetype": "text/x-python",
   "name": "python",
   "nbconvert_exporter": "python",
   "pygments_lexer": "ipython3",
   "version": "3.11.7"
  }
 },
 "nbformat": 4,
 "nbformat_minor": 2
}
