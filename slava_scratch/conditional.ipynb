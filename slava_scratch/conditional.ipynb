{
 "cells": [
  {
   "cell_type": "markdown",
   "metadata": {},
   "source": [
    "Attempting to write the anger steering vector using attentio heads. We find heads such that there exists an x such that x @ W_V @ W_O is similar to anger vector."
   ]
  },
  {
   "cell_type": "code",
   "execution_count": 1,
   "metadata": {},
   "outputs": [],
   "source": [
    "import os\n",
    "import sys\n",
    "sys.path.append(os.path.abspath('..')) # so we can import from parent directory\n",
    "\n",
    "import torch\n",
    "from torch.utils.data import DataLoader\n",
    "from transformer_lens import HookedTransformer\n",
    "from transformer_lens import utils as tutils\n",
    "from transformer_lens.evals import make_pile_data_loader, evaluate_on_dataset\n",
    "\n",
    "from functools import partial\n",
    "from datasets import load_dataset\n",
    "import tqdm\n",
    "\n",
    "from sae_lens import SparseAutoencoder\n",
    "from sae_lens.toolkit.pretrained_saes import get_gpt2_res_jb_saes\n",
    "\n",
    "from steering.eval_utils import evaluate_completions\n",
    "\n",
    "import plotly.express as px\n",
    "\n",
    "\n",
    "# torch.set_grad_enabled(False)"
   ]
  },
  {
   "cell_type": "markdown",
   "metadata": {},
   "source": []
  },
  {
   "cell_type": "code",
   "execution_count": 2,
   "metadata": {},
   "outputs": [
    {
     "name": "stderr",
     "output_type": "stream",
     "text": [
      "/Users/slava/safety/steering/.venv/lib/python3.10/site-packages/huggingface_hub/file_download.py:1132: FutureWarning: `resume_download` is deprecated and will be removed in version 1.0.0. Downloads always resume when possible. If you want to force a new download, use `force_download=True`.\n",
      "  warnings.warn(\n"
     ]
    },
    {
     "name": "stdout",
     "output_type": "stream",
     "text": [
      "Loaded pretrained model gpt2-small into HookedTransformer\n"
     ]
    }
   ],
   "source": [
    "device = torch.device('cuda' if torch.cuda.is_available() else 'cpu')\n",
    "model = HookedTransformer.from_pretrained('gpt2-small', device=device)"
   ]
  },
  {
   "cell_type": "code",
   "execution_count": 58,
   "metadata": {},
   "outputs": [
    {
     "name": "stderr",
     "output_type": "stream",
     "text": [
      "100%|██████████| 1/1 [00:01<00:00,  1.17s/it]\n",
      "  0%|          | 0/1 [00:00<?, ?it/s]"
     ]
    },
    {
     "data": {
      "application/vnd.jupyter.widget-view+json": {
       "model_id": "e820023e8c794dae9b772a58790d5d10",
       "version_major": 2,
       "version_minor": 0
      },
      "text/plain": [
       "blocks.5.hook_resid_pre/cfg.json:   0%|          | 0.00/1.27k [00:00<?, ?B/s]"
      ]
     },
     "metadata": {},
     "output_type": "display_data"
    },
    {
     "data": {
      "application/vnd.jupyter.widget-view+json": {
       "model_id": "59737ef87e3d43a8b6088cd8d6bd742a",
       "version_major": 2,
       "version_minor": 0
      },
      "text/plain": [
       "sae_weights.safetensors:   0%|          | 0.00/151M [00:00<?, ?B/s]"
      ]
     },
     "metadata": {},
     "output_type": "display_data"
    },
    {
     "data": {
      "application/vnd.jupyter.widget-view+json": {
       "model_id": "09eaaf45a64040a8a6a6063d83182e5f",
       "version_major": 2,
       "version_minor": 0
      },
      "text/plain": [
       "sparsity.safetensors:   0%|          | 0.00/98.4k [00:00<?, ?B/s]"
      ]
     },
     "metadata": {},
     "output_type": "display_data"
    },
    {
     "name": "stderr",
     "output_type": "stream",
     "text": [
      "100%|██████████| 1/1 [00:25<00:00, 25.17s/it]\n",
      "100%|██████████| 1/1 [00:00<00:00,  1.10it/s]\n",
      "100%|██████████| 1/1 [00:00<00:00,  1.10it/s]\n"
     ]
    }
   ],
   "source": [
    "hp_1 = tutils.get_act_name(\"resid_pre\", 1)\n",
    "sae_1 = get_gpt2_res_jb_saes(hp_1)[0][hp_1]\n",
    "sae_1 = sae_1.to(model.W_E.device)\n",
    "\n",
    "hp_5 = tutils.get_act_name(\"resid_pre\", 5)\n",
    "sae_5 = get_gpt2_res_jb_saes(hp_5)[0][hp_5]\n",
    "sae_5 = sae_5.to(model.W_E.device)\n",
    "\n",
    "hp_6 = tutils.get_act_name(\"resid_pre\", 6)\n",
    "sae_6 = get_gpt2_res_jb_saes(hp_6)[0][hp_6]\n",
    "sae_6 = sae_6.to(model.W_E.device)\n",
    "\n",
    "hp_7 = tutils.get_act_name(\"resid_pre\", 7)\n",
    "sae_7 = get_gpt2_res_jb_saes(hp_7)[0][hp_7]\n",
    "sae_7 = sae_7.to(model.W_E.device)"
   ]
  },
  {
   "cell_type": "code",
   "execution_count": 4,
   "metadata": {},
   "outputs": [
    {
     "data": {
      "text/plain": [
       "(tensor([18.4649, 16.4535, 12.0989, 11.0684,  7.7472,  7.2738,  5.0492,  4.7868,\n",
       "          4.7161,  4.6675], grad_fn=<TopkBackward0>),\n",
       " tensor([16077, 21456,  6857, 23357, 19453, 14237, 12147, 21901, 20881,  9111]))"
      ]
     },
     "execution_count": 4,
     "metadata": {},
     "output_type": "execute_result"
    }
   ],
   "source": [
    "def top_acts_at_pos(text, sae, hook_point, pos=-1, silent=True, prepend_bos=True, n_top=10):\n",
    "    logits, cache = model.run_with_cache(text, prepend_bos=prepend_bos)\n",
    "    if pos is None:\n",
    "        hidden_state = cache[hook_point][0, :, :]\n",
    "    else:\n",
    "        hidden_state = cache[hook_point][0, pos, :].unsqueeze(0)\n",
    "    feature_acts = sae(hidden_state).feature_acts\n",
    "    feature_acts = feature_acts.mean(dim=0)\n",
    "    top_v, top_i = torch.topk(feature_acts, n_top)\n",
    "    return top_v, top_i\n",
    "\n",
    "top_acts_at_pos(\"Anger\", sae=sae_7, hook_point=hp_7, pos=-1)\n"
   ]
  },
  {
   "cell_type": "code",
   "execution_count": 5,
   "metadata": {},
   "outputs": [],
   "source": [
    "steering_ft_ids = [16077, 21456, 15001]\n",
    "steering_acts = [18, 16, 32]\n",
    "steering_vec = torch.stack([sae_7.W_dec[i,:] for i in steering_ft_ids], dim=0)\n",
    "# scale\n",
    "steering_vec = steering_vec * torch.tensor(steering_acts).float().unsqueeze(1)\n",
    "steering_vec = steering_vec.sum(dim=0).detach()"
   ]
  },
  {
   "cell_type": "code",
   "execution_count": 6,
   "metadata": {},
   "outputs": [
    {
     "name": "stdout",
     "output_type": "stream",
     "text": [
      "['<|endoftext|>', ' banana']\n"
     ]
    },
    {
     "data": {
      "text/plain": [
       "(tensor([38.9354, 16.4242, 13.6935,  6.8050,  6.0805,  3.9504,  3.5002,  3.0559,\n",
       "          2.9420,  2.3295], grad_fn=<TopkBackward0>),\n",
       " tensor([22853,  7648,  8597,  2473, 15185,  2595,  8662, 22383,  1656,  1472]))"
      ]
     },
     "execution_count": 6,
     "metadata": {},
     "output_type": "execute_result"
    }
   ],
   "source": [
    "print(model.to_str_tokens(\" banana\"))\n",
    "top_acts_at_pos(\" banana\", sae=sae_6, hook_point=hp_6, pos=-1) # layer 6\n",
    "# 11441 is a banana feature"
   ]
  },
  {
   "cell_type": "code",
   "execution_count": 7,
   "metadata": {},
   "outputs": [],
   "source": [
    "banana_vec = sae_6.W_dec[22853, :] * 39"
   ]
  },
  {
   "cell_type": "code",
   "execution_count": 8,
   "metadata": {},
   "outputs": [
    {
     "name": "stdout",
     "output_type": "stream",
     "text": [
      "torch.Size([12, 64, 768])\n",
      "torch.Size([12, 768, 64])\n"
     ]
    }
   ],
   "source": [
    "print(model.blocks[6].attn.W_O.shape) # [12, 64, 768]\n",
    "print(model.blocks[6].attn.W_V.shape) # [12, 768, 64]"
   ]
  },
  {
   "cell_type": "code",
   "execution_count": 9,
   "metadata": {},
   "outputs": [],
   "source": [
    "def optimize_cosine_similarity(W_V, W_O, a, lr=0.01, num_iterations=1000):\n",
    "\n",
    "    # Initialize x as a trainable parameter\n",
    "    x = torch.randn(768, requires_grad=True, device=W_V.device)\n",
    "    \n",
    "    # Define the optimizer\n",
    "    optimizer = torch.optim.Adam([x], lr=lr)\n",
    "    \n",
    "    for _ in range(num_iterations):\n",
    "        optimizer.zero_grad()\n",
    "        \n",
    "        # Compute the output\n",
    "        output = x @ W_V @ W_O\n",
    "        \n",
    "        # Compute cosine similarity with a\n",
    "        cosine_similarity = torch.dot(output, a) / (torch.norm(output) * torch.norm(a))\n",
    "        \n",
    "        # Negate the cosine similarity because we want to maximize it\n",
    "        loss = -cosine_similarity\n",
    "        \n",
    "        # Backpropagate\n",
    "        loss.backward()\n",
    "        \n",
    "        # Update x\n",
    "        optimizer.step()\n",
    "    \n",
    "    # Compute the final output and cosine similarity\n",
    "    final_output = x.detach() @ W_V @ W_O\n",
    "    final_cosine_similarity = torch.dot(final_output, a) / (torch.norm(final_output) * torch.norm(a))\n",
    "    \n",
    "    return x.detach(), final_cosine_similarity.item()\n"
   ]
  },
  {
   "cell_type": "code",
   "execution_count": 39,
   "metadata": {},
   "outputs": [
    {
     "name": "stdout",
     "output_type": "stream",
     "text": [
      "0.38471654057502747\n",
      "0.3764253556728363\n",
      "0.36940664052963257\n",
      "0.4303494393825531\n",
      "0.43920260667800903\n",
      "0.3684774339199066\n",
      "0.37941810488700867\n",
      "0.3588401675224304\n",
      "0.38174423575401306\n",
      "0.37105754017829895\n",
      "0.3839240074157715\n",
      "0.3717110753059387\n",
      "0.2552542984485626\n",
      "0.21624717116355896\n",
      "0.27853769063949585\n",
      "0.31433966755867004\n",
      "0.278003454208374\n",
      "0.2985888719558716\n",
      "0.46667802333831787\n",
      "0.2630431056022644\n",
      "0.3203015923500061\n",
      "0.29960721731185913\n",
      "0.28526443243026733\n",
      "0.24937285482883453\n",
      "0.25329601764678955\n",
      "0.23708681762218475\n",
      "0.28707629442214966\n",
      "0.24438819289207458\n",
      "0.3677993714809418\n",
      "0.2902580201625824\n",
      "0.27748897671699524\n",
      "0.3080926835536957\n",
      "0.27283748984336853\n",
      "0.2806231379508972\n",
      "0.2472049742937088\n",
      "0.2939179241657257\n",
      "0.4321233630180359\n",
      "0.21854357421398163\n",
      "0.2366776019334793\n",
      "0.3573630452156067\n",
      "0.3468805253505707\n",
      "0.25004905462265015\n",
      "0.25279879570007324\n",
      "0.23137514293193817\n",
      "0.2633061408996582\n",
      "0.29596152901649475\n",
      "0.23596437275409698\n",
      "0.34184810519218445\n",
      "0.2727978825569153\n",
      "0.20623742043972015\n",
      "0.18501746654510498\n",
      "0.27648669481277466\n",
      "0.31683847308158875\n",
      "0.2206844836473465\n",
      "0.22695262730121613\n",
      "0.20320889353752136\n",
      "0.2276451289653778\n",
      "0.2766495943069458\n",
      "0.28825241327285767\n",
      "0.1722986251115799\n",
      "0.222730815410614\n",
      "0.19784671068191528\n",
      "0.18163740634918213\n",
      "0.19339467585086823\n",
      "0.22631919384002686\n",
      "0.32812073826789856\n",
      "0.21970660984516144\n",
      "0.4610891044139862\n",
      "0.2249797284603119\n",
      "0.23956236243247986\n",
      "0.2833681106567383\n",
      "0.3491857349872589\n",
      "0.20265690982341766\n",
      "0.28478118777275085\n",
      "0.2505069673061371\n",
      "0.18386007845401764\n",
      "0.20703059434890747\n",
      "0.2249862551689148\n",
      "0.2338089942932129\n",
      "0.2163456380367279\n",
      "0.24081452190876007\n",
      "0.27692967653274536\n",
      "0.20951274037361145\n",
      "0.22853675484657288\n",
      "0.18069620430469513\n",
      "0.3167494535446167\n",
      "0.22315074503421783\n",
      "0.22076745331287384\n",
      "0.21336302161216736\n",
      "0.2363242357969284\n",
      "0.23909977078437805\n",
      "0.20848286151885986\n",
      "0.4177616238594055\n",
      "0.20434093475341797\n",
      "0.2686544358730316\n",
      "0.21990908682346344\n",
      "0.2413739413022995\n",
      "0.27434155344963074\n",
      "0.22070004045963287\n",
      "0.1954219788312912\n",
      "0.3170475363731384\n",
      "0.20961038768291473\n",
      "0.21502462029457092\n",
      "0.23707140982151031\n",
      "0.2236355096101761\n",
      "0.23961196839809418\n",
      "0.24848531186580658\n",
      "0.238626167178154\n",
      "0.2828563451766968\n",
      "0.25316643714904785\n",
      "0.30985498428344727\n",
      "0.23707613348960876\n",
      "0.23057565093040466\n",
      "0.25358399748802185\n",
      "0.23706181347370148\n",
      "0.2815653383731842\n",
      "0.23146072030067444\n",
      "0.23947273194789886\n",
      "0.3418044149875641\n",
      "0.22168709337711334\n",
      "0.28647494316101074\n",
      "0.33634379506111145\n",
      "0.23274946212768555\n",
      "0.27073490619659424\n",
      "0.302372545003891\n",
      "0.24633164703845978\n",
      "0.25031912326812744\n",
      "0.26477906107902527\n",
      "0.3075639009475708\n",
      "0.2982068955898285\n",
      "0.2663644254207611\n",
      "0.2503262460231781\n",
      "0.2754679024219513\n",
      "0.2841828763484955\n",
      "0.28642117977142334\n",
      "0.22782205045223236\n",
      "0.24626518785953522\n",
      "0.29198843240737915\n",
      "0.2506774663925171\n",
      "0.26409611105918884\n",
      "0.2855135202407837\n",
      "0.3330576717853546\n",
      "0.21286258101463318\n",
      "0.3567486107349396\n"
     ]
    }
   ],
   "source": [
    "best_heads = np.zeros((12, 12))\n",
    "for layer in range(12):\n",
    "    for head in range(12):\n",
    "        x, final_cosine_similarity = optimize_cosine_similarity(\n",
    "            model.blocks[layer].attn.W_V[head], \n",
    "            model.blocks[layer].attn.W_O[head],\n",
    "            steering_vec\n",
    "        )\n",
    "        best_heads[layer, head] = final_cosine_similarity\n",
    "        print(final_cosine_similarity)"
   ]
  },
  {
   "cell_type": "code",
   "execution_count": 54,
   "metadata": {},
   "outputs": [
    {
     "data": {
      "application/vnd.plotly.v1+json": {
       "config": {
        "plotlyServerURL": "https://plot.ly"
       },
       "data": [
        {
         "coloraxis": "coloraxis",
         "hovertemplate": "Head: %{x}<br>Layer: %{y}<br>color: %{z}<extra></extra>",
         "name": "0",
         "type": "heatmap",
         "xaxis": "x",
         "yaxis": "y",
         "z": [
          [
           0.38471654057502747,
           0.3764253556728363,
           0.36940664052963257,
           0.4303494393825531,
           0.43920260667800903,
           0.3684774339199066,
           0.37941810488700867,
           0.3588401675224304,
           0.38174423575401306,
           0.37105754017829895,
           0.3839240074157715,
           0.3717110753059387
          ],
          [
           0.2552542984485626,
           0.21624717116355896,
           0.27853769063949585,
           0.31433966755867004,
           0.278003454208374,
           0.2985888719558716,
           0.46667802333831787,
           0.2630431056022644,
           0.3203015923500061,
           0.29960721731185913,
           0.28526443243026733,
           0.24937285482883453
          ],
          [
           0.25329601764678955,
           0.23708681762218475,
           0.28707629442214966,
           0.24438819289207458,
           0.3677993714809418,
           0.2902580201625824,
           0.27748897671699524,
           0.3080926835536957,
           0.27283748984336853,
           0.2806231379508972,
           0.2472049742937088,
           0.2939179241657257
          ],
          [
           0.4321233630180359,
           0.21854357421398163,
           0.2366776019334793,
           0.3573630452156067,
           0.3468805253505707,
           0.25004905462265015,
           0.25279879570007324,
           0.23137514293193817,
           0.2633061408996582,
           0.29596152901649475,
           0.23596437275409698,
           0.34184810519218445
          ],
          [
           0.2727978825569153,
           0.20623742043972015,
           0.18501746654510498,
           0.27648669481277466,
           0.31683847308158875,
           0.2206844836473465,
           0.22695262730121613,
           0.20320889353752136,
           0.2276451289653778,
           0.2766495943069458,
           0.28825241327285767,
           0.1722986251115799
          ],
          [
           0.222730815410614,
           0.19784671068191528,
           0.18163740634918213,
           0.19339467585086823,
           0.22631919384002686,
           0.32812073826789856,
           0.21970660984516144,
           0.4610891044139862,
           0.2249797284603119,
           0.23956236243247986,
           0.2833681106567383,
           0.3491857349872589
          ],
          [
           0.20265690982341766,
           0.28478118777275085,
           0.2505069673061371,
           0.18386007845401764,
           0.20703059434890747,
           0.2249862551689148,
           0.2338089942932129,
           0.2163456380367279,
           0.24081452190876007,
           0.27692967653274536,
           0.20951274037361145,
           0.22853675484657288
          ],
          [
           0.18069620430469513,
           0.3167494535446167,
           0.22315074503421783,
           0.22076745331287384,
           0.21336302161216736,
           0.2363242357969284,
           0.23909977078437805,
           0.20848286151885986,
           0.4177616238594055,
           0.20434093475341797,
           0.2686544358730316,
           0.21990908682346344
          ],
          [
           0.2413739413022995,
           0.27434155344963074,
           0.22070004045963287,
           0.1954219788312912,
           0.3170475363731384,
           0.20961038768291473,
           0.21502462029457092,
           0.23707140982151031,
           0.2236355096101761,
           0.23961196839809418,
           0.24848531186580658,
           0.238626167178154
          ],
          [
           0.2828563451766968,
           0.25316643714904785,
           0.30985498428344727,
           0.23707613348960876,
           0.23057565093040466,
           0.25358399748802185,
           0.23706181347370148,
           0.2815653383731842,
           0.23146072030067444,
           0.23947273194789886,
           0.3418044149875641,
           0.22168709337711334
          ],
          [
           0.28647494316101074,
           0.33634379506111145,
           0.23274946212768555,
           0.27073490619659424,
           0.302372545003891,
           0.24633164703845978,
           0.25031912326812744,
           0.26477906107902527,
           0.3075639009475708,
           0.2982068955898285,
           0.2663644254207611,
           0.2503262460231781
          ],
          [
           0.2754679024219513,
           0.2841828763484955,
           0.28642117977142334,
           0.22782205045223236,
           0.24626518785953522,
           0.29198843240737915,
           0.2506774663925171,
           0.26409611105918884,
           0.2855135202407837,
           0.3330576717853546,
           0.21286258101463318,
           0.3567486107349396
          ]
         ]
        }
       ],
       "layout": {
        "coloraxis": {
         "cmid": 0,
         "colorscale": [
          [
           0,
           "rgb(103,0,31)"
          ],
          [
           0.1,
           "rgb(178,24,43)"
          ],
          [
           0.2,
           "rgb(214,96,77)"
          ],
          [
           0.3,
           "rgb(244,165,130)"
          ],
          [
           0.4,
           "rgb(253,219,199)"
          ],
          [
           0.5,
           "rgb(247,247,247)"
          ],
          [
           0.6,
           "rgb(209,229,240)"
          ],
          [
           0.7,
           "rgb(146,197,222)"
          ],
          [
           0.8,
           "rgb(67,147,195)"
          ],
          [
           0.9,
           "rgb(33,102,172)"
          ],
          [
           1,
           "rgb(5,48,97)"
          ]
         ]
        },
        "template": {
         "data": {
          "bar": [
           {
            "error_x": {
             "color": "#2a3f5f"
            },
            "error_y": {
             "color": "#2a3f5f"
            },
            "marker": {
             "line": {
              "color": "#E5ECF6",
              "width": 0.5
             },
             "pattern": {
              "fillmode": "overlay",
              "size": 10,
              "solidity": 0.2
             }
            },
            "type": "bar"
           }
          ],
          "barpolar": [
           {
            "marker": {
             "line": {
              "color": "#E5ECF6",
              "width": 0.5
             },
             "pattern": {
              "fillmode": "overlay",
              "size": 10,
              "solidity": 0.2
             }
            },
            "type": "barpolar"
           }
          ],
          "carpet": [
           {
            "aaxis": {
             "endlinecolor": "#2a3f5f",
             "gridcolor": "white",
             "linecolor": "white",
             "minorgridcolor": "white",
             "startlinecolor": "#2a3f5f"
            },
            "baxis": {
             "endlinecolor": "#2a3f5f",
             "gridcolor": "white",
             "linecolor": "white",
             "minorgridcolor": "white",
             "startlinecolor": "#2a3f5f"
            },
            "type": "carpet"
           }
          ],
          "choropleth": [
           {
            "colorbar": {
             "outlinewidth": 0,
             "ticks": ""
            },
            "type": "choropleth"
           }
          ],
          "contour": [
           {
            "colorbar": {
             "outlinewidth": 0,
             "ticks": ""
            },
            "colorscale": [
             [
              0,
              "#0d0887"
             ],
             [
              0.1111111111111111,
              "#46039f"
             ],
             [
              0.2222222222222222,
              "#7201a8"
             ],
             [
              0.3333333333333333,
              "#9c179e"
             ],
             [
              0.4444444444444444,
              "#bd3786"
             ],
             [
              0.5555555555555556,
              "#d8576b"
             ],
             [
              0.6666666666666666,
              "#ed7953"
             ],
             [
              0.7777777777777778,
              "#fb9f3a"
             ],
             [
              0.8888888888888888,
              "#fdca26"
             ],
             [
              1,
              "#f0f921"
             ]
            ],
            "type": "contour"
           }
          ],
          "contourcarpet": [
           {
            "colorbar": {
             "outlinewidth": 0,
             "ticks": ""
            },
            "type": "contourcarpet"
           }
          ],
          "heatmap": [
           {
            "colorbar": {
             "outlinewidth": 0,
             "ticks": ""
            },
            "colorscale": [
             [
              0,
              "#0d0887"
             ],
             [
              0.1111111111111111,
              "#46039f"
             ],
             [
              0.2222222222222222,
              "#7201a8"
             ],
             [
              0.3333333333333333,
              "#9c179e"
             ],
             [
              0.4444444444444444,
              "#bd3786"
             ],
             [
              0.5555555555555556,
              "#d8576b"
             ],
             [
              0.6666666666666666,
              "#ed7953"
             ],
             [
              0.7777777777777778,
              "#fb9f3a"
             ],
             [
              0.8888888888888888,
              "#fdca26"
             ],
             [
              1,
              "#f0f921"
             ]
            ],
            "type": "heatmap"
           }
          ],
          "heatmapgl": [
           {
            "colorbar": {
             "outlinewidth": 0,
             "ticks": ""
            },
            "colorscale": [
             [
              0,
              "#0d0887"
             ],
             [
              0.1111111111111111,
              "#46039f"
             ],
             [
              0.2222222222222222,
              "#7201a8"
             ],
             [
              0.3333333333333333,
              "#9c179e"
             ],
             [
              0.4444444444444444,
              "#bd3786"
             ],
             [
              0.5555555555555556,
              "#d8576b"
             ],
             [
              0.6666666666666666,
              "#ed7953"
             ],
             [
              0.7777777777777778,
              "#fb9f3a"
             ],
             [
              0.8888888888888888,
              "#fdca26"
             ],
             [
              1,
              "#f0f921"
             ]
            ],
            "type": "heatmapgl"
           }
          ],
          "histogram": [
           {
            "marker": {
             "pattern": {
              "fillmode": "overlay",
              "size": 10,
              "solidity": 0.2
             }
            },
            "type": "histogram"
           }
          ],
          "histogram2d": [
           {
            "colorbar": {
             "outlinewidth": 0,
             "ticks": ""
            },
            "colorscale": [
             [
              0,
              "#0d0887"
             ],
             [
              0.1111111111111111,
              "#46039f"
             ],
             [
              0.2222222222222222,
              "#7201a8"
             ],
             [
              0.3333333333333333,
              "#9c179e"
             ],
             [
              0.4444444444444444,
              "#bd3786"
             ],
             [
              0.5555555555555556,
              "#d8576b"
             ],
             [
              0.6666666666666666,
              "#ed7953"
             ],
             [
              0.7777777777777778,
              "#fb9f3a"
             ],
             [
              0.8888888888888888,
              "#fdca26"
             ],
             [
              1,
              "#f0f921"
             ]
            ],
            "type": "histogram2d"
           }
          ],
          "histogram2dcontour": [
           {
            "colorbar": {
             "outlinewidth": 0,
             "ticks": ""
            },
            "colorscale": [
             [
              0,
              "#0d0887"
             ],
             [
              0.1111111111111111,
              "#46039f"
             ],
             [
              0.2222222222222222,
              "#7201a8"
             ],
             [
              0.3333333333333333,
              "#9c179e"
             ],
             [
              0.4444444444444444,
              "#bd3786"
             ],
             [
              0.5555555555555556,
              "#d8576b"
             ],
             [
              0.6666666666666666,
              "#ed7953"
             ],
             [
              0.7777777777777778,
              "#fb9f3a"
             ],
             [
              0.8888888888888888,
              "#fdca26"
             ],
             [
              1,
              "#f0f921"
             ]
            ],
            "type": "histogram2dcontour"
           }
          ],
          "mesh3d": [
           {
            "colorbar": {
             "outlinewidth": 0,
             "ticks": ""
            },
            "type": "mesh3d"
           }
          ],
          "parcoords": [
           {
            "line": {
             "colorbar": {
              "outlinewidth": 0,
              "ticks": ""
             }
            },
            "type": "parcoords"
           }
          ],
          "pie": [
           {
            "automargin": true,
            "type": "pie"
           }
          ],
          "scatter": [
           {
            "fillpattern": {
             "fillmode": "overlay",
             "size": 10,
             "solidity": 0.2
            },
            "type": "scatter"
           }
          ],
          "scatter3d": [
           {
            "line": {
             "colorbar": {
              "outlinewidth": 0,
              "ticks": ""
             }
            },
            "marker": {
             "colorbar": {
              "outlinewidth": 0,
              "ticks": ""
             }
            },
            "type": "scatter3d"
           }
          ],
          "scattercarpet": [
           {
            "marker": {
             "colorbar": {
              "outlinewidth": 0,
              "ticks": ""
             }
            },
            "type": "scattercarpet"
           }
          ],
          "scattergeo": [
           {
            "marker": {
             "colorbar": {
              "outlinewidth": 0,
              "ticks": ""
             }
            },
            "type": "scattergeo"
           }
          ],
          "scattergl": [
           {
            "marker": {
             "colorbar": {
              "outlinewidth": 0,
              "ticks": ""
             }
            },
            "type": "scattergl"
           }
          ],
          "scattermapbox": [
           {
            "marker": {
             "colorbar": {
              "outlinewidth": 0,
              "ticks": ""
             }
            },
            "type": "scattermapbox"
           }
          ],
          "scatterpolar": [
           {
            "marker": {
             "colorbar": {
              "outlinewidth": 0,
              "ticks": ""
             }
            },
            "type": "scatterpolar"
           }
          ],
          "scatterpolargl": [
           {
            "marker": {
             "colorbar": {
              "outlinewidth": 0,
              "ticks": ""
             }
            },
            "type": "scatterpolargl"
           }
          ],
          "scatterternary": [
           {
            "marker": {
             "colorbar": {
              "outlinewidth": 0,
              "ticks": ""
             }
            },
            "type": "scatterternary"
           }
          ],
          "surface": [
           {
            "colorbar": {
             "outlinewidth": 0,
             "ticks": ""
            },
            "colorscale": [
             [
              0,
              "#0d0887"
             ],
             [
              0.1111111111111111,
              "#46039f"
             ],
             [
              0.2222222222222222,
              "#7201a8"
             ],
             [
              0.3333333333333333,
              "#9c179e"
             ],
             [
              0.4444444444444444,
              "#bd3786"
             ],
             [
              0.5555555555555556,
              "#d8576b"
             ],
             [
              0.6666666666666666,
              "#ed7953"
             ],
             [
              0.7777777777777778,
              "#fb9f3a"
             ],
             [
              0.8888888888888888,
              "#fdca26"
             ],
             [
              1,
              "#f0f921"
             ]
            ],
            "type": "surface"
           }
          ],
          "table": [
           {
            "cells": {
             "fill": {
              "color": "#EBF0F8"
             },
             "line": {
              "color": "white"
             }
            },
            "header": {
             "fill": {
              "color": "#C8D4E3"
             },
             "line": {
              "color": "white"
             }
            },
            "type": "table"
           }
          ]
         },
         "layout": {
          "annotationdefaults": {
           "arrowcolor": "#2a3f5f",
           "arrowhead": 0,
           "arrowwidth": 1
          },
          "autotypenumbers": "strict",
          "coloraxis": {
           "colorbar": {
            "outlinewidth": 0,
            "ticks": ""
           }
          },
          "colorscale": {
           "diverging": [
            [
             0,
             "#8e0152"
            ],
            [
             0.1,
             "#c51b7d"
            ],
            [
             0.2,
             "#de77ae"
            ],
            [
             0.3,
             "#f1b6da"
            ],
            [
             0.4,
             "#fde0ef"
            ],
            [
             0.5,
             "#f7f7f7"
            ],
            [
             0.6,
             "#e6f5d0"
            ],
            [
             0.7,
             "#b8e186"
            ],
            [
             0.8,
             "#7fbc41"
            ],
            [
             0.9,
             "#4d9221"
            ],
            [
             1,
             "#276419"
            ]
           ],
           "sequential": [
            [
             0,
             "#0d0887"
            ],
            [
             0.1111111111111111,
             "#46039f"
            ],
            [
             0.2222222222222222,
             "#7201a8"
            ],
            [
             0.3333333333333333,
             "#9c179e"
            ],
            [
             0.4444444444444444,
             "#bd3786"
            ],
            [
             0.5555555555555556,
             "#d8576b"
            ],
            [
             0.6666666666666666,
             "#ed7953"
            ],
            [
             0.7777777777777778,
             "#fb9f3a"
            ],
            [
             0.8888888888888888,
             "#fdca26"
            ],
            [
             1,
             "#f0f921"
            ]
           ],
           "sequentialminus": [
            [
             0,
             "#0d0887"
            ],
            [
             0.1111111111111111,
             "#46039f"
            ],
            [
             0.2222222222222222,
             "#7201a8"
            ],
            [
             0.3333333333333333,
             "#9c179e"
            ],
            [
             0.4444444444444444,
             "#bd3786"
            ],
            [
             0.5555555555555556,
             "#d8576b"
            ],
            [
             0.6666666666666666,
             "#ed7953"
            ],
            [
             0.7777777777777778,
             "#fb9f3a"
            ],
            [
             0.8888888888888888,
             "#fdca26"
            ],
            [
             1,
             "#f0f921"
            ]
           ]
          },
          "colorway": [
           "#636efa",
           "#EF553B",
           "#00cc96",
           "#ab63fa",
           "#FFA15A",
           "#19d3f3",
           "#FF6692",
           "#B6E880",
           "#FF97FF",
           "#FECB52"
          ],
          "font": {
           "color": "#2a3f5f"
          },
          "geo": {
           "bgcolor": "white",
           "lakecolor": "white",
           "landcolor": "#E5ECF6",
           "showlakes": true,
           "showland": true,
           "subunitcolor": "white"
          },
          "hoverlabel": {
           "align": "left"
          },
          "hovermode": "closest",
          "mapbox": {
           "style": "light"
          },
          "paper_bgcolor": "white",
          "plot_bgcolor": "#E5ECF6",
          "polar": {
           "angularaxis": {
            "gridcolor": "white",
            "linecolor": "white",
            "ticks": ""
           },
           "bgcolor": "#E5ECF6",
           "radialaxis": {
            "gridcolor": "white",
            "linecolor": "white",
            "ticks": ""
           }
          },
          "scene": {
           "xaxis": {
            "backgroundcolor": "#E5ECF6",
            "gridcolor": "white",
            "gridwidth": 2,
            "linecolor": "white",
            "showbackground": true,
            "ticks": "",
            "zerolinecolor": "white"
           },
           "yaxis": {
            "backgroundcolor": "#E5ECF6",
            "gridcolor": "white",
            "gridwidth": 2,
            "linecolor": "white",
            "showbackground": true,
            "ticks": "",
            "zerolinecolor": "white"
           },
           "zaxis": {
            "backgroundcolor": "#E5ECF6",
            "gridcolor": "white",
            "gridwidth": 2,
            "linecolor": "white",
            "showbackground": true,
            "ticks": "",
            "zerolinecolor": "white"
           }
          },
          "shapedefaults": {
           "line": {
            "color": "#2a3f5f"
           }
          },
          "ternary": {
           "aaxis": {
            "gridcolor": "white",
            "linecolor": "white",
            "ticks": ""
           },
           "baxis": {
            "gridcolor": "white",
            "linecolor": "white",
            "ticks": ""
           },
           "bgcolor": "#E5ECF6",
           "caxis": {
            "gridcolor": "white",
            "linecolor": "white",
            "ticks": ""
           }
          },
          "title": {
           "x": 0.05
          },
          "xaxis": {
           "automargin": true,
           "gridcolor": "white",
           "linecolor": "white",
           "ticks": "",
           "title": {
            "standoff": 15
           },
           "zerolinecolor": "white",
           "zerolinewidth": 2
          },
          "yaxis": {
           "automargin": true,
           "gridcolor": "white",
           "linecolor": "white",
           "ticks": "",
           "title": {
            "standoff": 15
           },
           "zerolinecolor": "white",
           "zerolinewidth": 2
          }
         }
        },
        "title": {
         "text": "Which heads can write to anger direction?"
        },
        "xaxis": {
         "anchor": "y",
         "constrain": "domain",
         "domain": [
          0,
          1
         ],
         "scaleanchor": "y",
         "title": {
          "text": "Head"
         }
        },
        "yaxis": {
         "anchor": "x",
         "autorange": "reversed",
         "constrain": "domain",
         "domain": [
          0,
          1
         ],
         "title": {
          "text": "Layer"
         }
        }
       }
      }
     },
     "metadata": {},
     "output_type": "display_data"
    }
   ],
   "source": [
    "px.imshow(best_heads, color_continuous_scale=\"RdBu\", color_continuous_midpoint=0, title=\"Which heads can write to anger direction?\", labels={\"x\": \"Head\", \"y\": \"Layer\"})"
   ]
  },
  {
   "cell_type": "code",
   "execution_count": 11,
   "metadata": {},
   "outputs": [],
   "source": [
    "def optimi_multihead(V1, O1, V2, O2, a, lr=0.1, num_iterations=1000):\n",
    "\n",
    "    # Initialize x as a trainable parameter\n",
    "    x1 = torch.randn(768, requires_grad=True, device=V1.device)\n",
    "    x2 = torch.randn(768, requires_grad=True, device=V1.device)\n",
    "\n",
    "    optimizer = torch.optim.Adam([x1, x2], lr=lr)\n",
    "    \n",
    "    for _ in range(num_iterations):\n",
    "        optimizer.zero_grad()\n",
    "        \n",
    "        # output = x @ W_V @ W_O\n",
    "        output = x1 @ V1 @ O1 + x2 @ V2 @ O2\n",
    " \n",
    "        cosine_similarity = torch.dot(output, a) / (torch.norm(output) * torch.norm(a))\n",
    "        \n",
    "        loss = -cosine_similarity\n",
    "        loss.backward()\n",
    "        optimizer.step()\n",
    "    \n",
    "    # Compute the final output and cosine similarity\n",
    "    # final_output = x.detach() @ W_V @ W_O\n",
    "    \n",
    "    final_output = x1.detach() @ V1 @ O1 + x2.detach() @ V2 @ O2\n",
    "    final_cosine_similarity = torch.dot(final_output, a) / (torch.norm(final_output) * torch.norm(a))\n",
    "    \n",
    "    return x1.detach(), x2.detach(), final_cosine_similarity.item()"
   ]
  },
  {
   "cell_type": "code",
   "execution_count": 55,
   "metadata": {},
   "outputs": [
    {
     "name": "stdout",
     "output_type": "stream",
     "text": [
      "0.5615806579589844\n"
     ]
    }
   ],
   "source": [
    "_, _, final_cosine_similarity = optimi_multihead(\n",
    "    model.blocks[0].attn.W_V[3],\n",
    "    model.blocks[0].attn.W_O[3],\n",
    "    model.blocks[0].attn.W_V[4],\n",
    "    model.blocks[0].attn.W_O[4],\n",
    "    a=steering_vec,\n",
    "    )\n",
    "\n",
    "print(final_cosine_similarity)"
   ]
  },
  {
   "cell_type": "code",
   "execution_count": 33,
   "metadata": {},
   "outputs": [
    {
     "name": "stdout",
     "output_type": "stream",
     "text": [
      "0,0 0.2727978229522705\n",
      "0,1 0.326042503118515\n",
      "0,2 0.3152235448360443\n",
      "0,3 0.37519577145576477\n",
      "0,4 0.38947609066963196\n",
      "0,5 0.36072468757629395\n",
      "0,6 0.3417145311832428\n",
      "0,7 0.3308497965335846\n",
      "0,8 0.341135174036026\n",
      "0,9 0.37231895327568054\n",
      "0,10 0.3981562852859497\n",
      "0,11 0.3085460960865021\n",
      "1,0 0.3260425329208374\n",
      "1,1 0.20623743534088135\n",
      "1,2 0.27659085392951965\n",
      "1,3 0.34272170066833496\n",
      "1,4 0.36366307735443115\n",
      "1,5 0.28453612327575684\n",
      "1,6 0.30167722702026367\n",
      "1,7 0.27136534452438354\n",
      "1,8 0.2882550358772278\n",
      "1,9 0.33507075905799866\n",
      "1,10 0.34797441959381104\n",
      "1,11 0.2543286085128784\n",
      "2,0 0.3152235448360443\n",
      "2,1 0.27659082412719727\n",
      "2,2 0.1850174367427826\n",
      "2,3 0.3286556601524353\n",
      "2,4 0.3602414131164551\n",
      "2,5 0.27793094515800476\n",
      "2,6 0.2862522304058075\n",
      "2,7 0.2749471962451935\n",
      "2,8 0.3059536814689636\n",
      "2,9 0.32447776198387146\n",
      "2,10 0.3447139859199524\n",
      "2,11 0.2434019148349762\n",
      "3,0 0.37519580125808716\n",
      "3,1 0.34272170066833496\n",
      "3,2 0.3286556005477905\n",
      "3,3 0.2764866352081299\n",
      "3,4 0.4007786810398102\n",
      "3,5 0.35750332474708557\n",
      "3,6 0.35627281665802\n",
      "3,7 0.33543679118156433\n",
      "3,8 0.34653177857398987\n",
      "3,9 0.3924349546432495\n",
      "3,10 0.38908854126930237\n",
      "3,11 0.33163756132125854\n",
      "4,0 0.38947606086730957\n",
      "4,1 0.36366307735443115\n",
      "4,2 0.3602414131164551\n",
      "4,3 0.4007786512374878\n",
      "4,4 0.31683847308158875\n",
      "4,5 0.37248754501342773\n",
      "4,6 0.3749866485595703\n",
      "4,7 0.35928940773010254\n",
      "4,8 0.3743852972984314\n",
      "4,9 0.4008003771305084\n",
      "4,10 0.42342352867126465\n",
      "4,11 0.35928839445114136\n",
      "5,0 0.36072468757629395\n",
      "5,1 0.28453609347343445\n",
      "5,2 0.27793094515800476\n",
      "5,3 0.3575032949447632\n",
      "5,4 0.37248748540878296\n",
      "5,5 0.2206844836473465\n",
      "5,6 0.3118019700050354\n",
      "5,7 0.286840558052063\n",
      "5,8 0.30387863516807556\n",
      "5,9 0.32849472761154175\n",
      "5,10 0.35849758982658386\n",
      "5,11 0.2602577209472656\n",
      "6,0 0.3417145609855652\n",
      "6,1 0.3016771972179413\n",
      "6,2 0.2862522006034851\n",
      "6,3 0.3562728464603424\n",
      "6,4 0.3749866783618927\n",
      "6,5 0.311801940202713\n",
      "6,6 0.22695264220237732\n",
      "6,7 0.30151239037513733\n",
      "6,8 0.31045830249786377\n",
      "6,9 0.34769222140312195\n",
      "6,10 0.36275267601013184\n",
      "6,11 0.2858721911907196\n",
      "7,0 0.330849826335907\n",
      "7,1 0.27136531472206116\n",
      "7,2 0.2749471962451935\n",
      "7,3 0.33543679118156433\n",
      "7,4 0.35928940773010254\n",
      "7,5 0.2868405878543854\n",
      "7,6 0.30151236057281494\n",
      "7,7 0.20320890843868256\n",
      "7,8 0.2822877764701843\n",
      "7,9 0.3246079683303833\n",
      "7,10 0.34456899762153625\n",
      "7,11 0.2907038927078247\n",
      "8,0 0.341135174036026\n",
      "8,1 0.28825509548187256\n",
      "8,2 0.3059537410736084\n",
      "8,3 0.34653177857398987\n",
      "8,4 0.3743852376937866\n",
      "8,5 0.30387866497039795\n",
      "8,6 0.31045833230018616\n",
      "8,7 0.2822877764701843\n",
      "8,8 0.22764509916305542\n",
      "8,9 0.3449813425540924\n",
      "8,10 0.37737154960632324\n",
      "8,11 0.2705100476741791\n",
      "9,0 0.37231895327568054\n",
      "9,1 0.33507075905799866\n",
      "9,2 0.32447776198387146\n",
      "9,3 0.39243489503860474\n",
      "9,4 0.40080031752586365\n",
      "9,5 0.32849469780921936\n",
      "9,6 0.34769225120544434\n",
      "9,7 0.3246079385280609\n",
      "9,8 0.3449813723564148\n",
      "9,9 0.2766495943069458\n",
      "9,10 0.3946325480937958\n",
      "9,11 0.315191388130188\n",
      "10,0 0.39815619587898254\n",
      "10,1 0.34797441959381104\n",
      "10,2 0.3447139859199524\n",
      "10,3 0.38908857107162476\n",
      "10,4 0.42342352867126465\n",
      "10,5 0.35849761962890625\n",
      "10,6 0.36275267601013184\n",
      "10,7 0.34456896781921387\n",
      "10,8 0.37737157940864563\n",
      "10,9 0.394632488489151\n",
      "10,10 0.28825241327285767\n",
      "10,11 0.3257943391799927\n",
      "11,0 0.3085460364818573\n",
      "11,1 0.2543286085128784\n",
      "11,2 0.2434019148349762\n",
      "11,3 0.33163756132125854\n",
      "11,4 0.35928839445114136\n",
      "11,5 0.2602577209472656\n",
      "11,6 0.285872220993042\n",
      "11,7 0.2907038927078247\n",
      "11,8 0.2705100476741791\n",
      "11,9 0.315191388130188\n",
      "11,10 0.3257943391799927\n",
      "11,11 0.1722986251115799\n"
     ]
    }
   ],
   "source": [
    "# every pair of heads\n",
    "import numpy as np\n",
    "sims = np.zeros((12, 12))\n",
    "for head1 in range(12):\n",
    "    for head2 in range(12):\n",
    "        _, _, final_cosine_similarity = optimi_multihead(\n",
    "            model.blocks[4].attn.W_V[head1],\n",
    "            model.blocks[4].attn.W_O[head1],\n",
    "            model.blocks[4].attn.W_V[head2],\n",
    "            model.blocks[4].attn.W_O[head2],\n",
    "            a=steering_vec,\n",
    "            )\n",
    "        # cosines.append(final_cosine_simiarity)\n",
    "        sims[head1, head2] = final_cosine_similarity\n",
    "        print(f\"{head1},{head2} {final_cosine_similarity}\")"
   ]
  },
  {
   "cell_type": "code",
   "execution_count": 34,
   "metadata": {},
   "outputs": [
    {
     "data": {
      "application/vnd.plotly.v1+json": {
       "config": {
        "plotlyServerURL": "https://plot.ly"
       },
       "data": [
        {
         "coloraxis": "coloraxis",
         "hovertemplate": "x: %{x}<br>y: %{y}<br>color: %{z}<extra></extra>",
         "name": "0",
         "type": "heatmap",
         "xaxis": "x",
         "yaxis": "y",
         "z": [
          [
           0.2727978229522705,
           0.326042503118515,
           0.3152235448360443,
           0.37519577145576477,
           0.38947609066963196,
           0.36072468757629395,
           0.3417145311832428,
           0.3308497965335846,
           0.341135174036026,
           0.37231895327568054,
           0.3981562852859497,
           0.3085460960865021
          ],
          [
           0.3260425329208374,
           0.20623743534088135,
           0.27659085392951965,
           0.34272170066833496,
           0.36366307735443115,
           0.28453612327575684,
           0.30167722702026367,
           0.27136534452438354,
           0.2882550358772278,
           0.33507075905799866,
           0.34797441959381104,
           0.2543286085128784
          ],
          [
           0.3152235448360443,
           0.27659082412719727,
           0.1850174367427826,
           0.3286556601524353,
           0.3602414131164551,
           0.27793094515800476,
           0.2862522304058075,
           0.2749471962451935,
           0.3059536814689636,
           0.32447776198387146,
           0.3447139859199524,
           0.2434019148349762
          ],
          [
           0.37519580125808716,
           0.34272170066833496,
           0.3286556005477905,
           0.2764866352081299,
           0.4007786810398102,
           0.35750332474708557,
           0.35627281665802,
           0.33543679118156433,
           0.34653177857398987,
           0.3924349546432495,
           0.38908854126930237,
           0.33163756132125854
          ],
          [
           0.38947606086730957,
           0.36366307735443115,
           0.3602414131164551,
           0.4007786512374878,
           0.31683847308158875,
           0.37248754501342773,
           0.3749866485595703,
           0.35928940773010254,
           0.3743852972984314,
           0.4008003771305084,
           0.42342352867126465,
           0.35928839445114136
          ],
          [
           0.36072468757629395,
           0.28453609347343445,
           0.27793094515800476,
           0.3575032949447632,
           0.37248748540878296,
           0.2206844836473465,
           0.3118019700050354,
           0.286840558052063,
           0.30387863516807556,
           0.32849472761154175,
           0.35849758982658386,
           0.2602577209472656
          ],
          [
           0.3417145609855652,
           0.3016771972179413,
           0.2862522006034851,
           0.3562728464603424,
           0.3749866783618927,
           0.311801940202713,
           0.22695264220237732,
           0.30151239037513733,
           0.31045830249786377,
           0.34769222140312195,
           0.36275267601013184,
           0.2858721911907196
          ],
          [
           0.330849826335907,
           0.27136531472206116,
           0.2749471962451935,
           0.33543679118156433,
           0.35928940773010254,
           0.2868405878543854,
           0.30151236057281494,
           0.20320890843868256,
           0.2822877764701843,
           0.3246079683303833,
           0.34456899762153625,
           0.2907038927078247
          ],
          [
           0.341135174036026,
           0.28825509548187256,
           0.3059537410736084,
           0.34653177857398987,
           0.3743852376937866,
           0.30387866497039795,
           0.31045833230018616,
           0.2822877764701843,
           0.22764509916305542,
           0.3449813425540924,
           0.37737154960632324,
           0.2705100476741791
          ],
          [
           0.37231895327568054,
           0.33507075905799866,
           0.32447776198387146,
           0.39243489503860474,
           0.40080031752586365,
           0.32849469780921936,
           0.34769225120544434,
           0.3246079385280609,
           0.3449813723564148,
           0.2766495943069458,
           0.3946325480937958,
           0.315191388130188
          ],
          [
           0.39815619587898254,
           0.34797441959381104,
           0.3447139859199524,
           0.38908857107162476,
           0.42342352867126465,
           0.35849761962890625,
           0.36275267601013184,
           0.34456896781921387,
           0.37737157940864563,
           0.394632488489151,
           0.28825241327285767,
           0.3257943391799927
          ],
          [
           0.3085460364818573,
           0.2543286085128784,
           0.2434019148349762,
           0.33163756132125854,
           0.35928839445114136,
           0.2602577209472656,
           0.285872220993042,
           0.2907038927078247,
           0.2705100476741791,
           0.315191388130188,
           0.3257943391799927,
           0.1722986251115799
          ]
         ]
        }
       ],
       "layout": {
        "coloraxis": {
         "cmid": 0,
         "colorscale": [
          [
           0,
           "rgb(103,0,31)"
          ],
          [
           0.1,
           "rgb(178,24,43)"
          ],
          [
           0.2,
           "rgb(214,96,77)"
          ],
          [
           0.3,
           "rgb(244,165,130)"
          ],
          [
           0.4,
           "rgb(253,219,199)"
          ],
          [
           0.5,
           "rgb(247,247,247)"
          ],
          [
           0.6,
           "rgb(209,229,240)"
          ],
          [
           0.7,
           "rgb(146,197,222)"
          ],
          [
           0.8,
           "rgb(67,147,195)"
          ],
          [
           0.9,
           "rgb(33,102,172)"
          ],
          [
           1,
           "rgb(5,48,97)"
          ]
         ]
        },
        "margin": {
         "t": 60
        },
        "template": {
         "data": {
          "bar": [
           {
            "error_x": {
             "color": "#2a3f5f"
            },
            "error_y": {
             "color": "#2a3f5f"
            },
            "marker": {
             "line": {
              "color": "#E5ECF6",
              "width": 0.5
             },
             "pattern": {
              "fillmode": "overlay",
              "size": 10,
              "solidity": 0.2
             }
            },
            "type": "bar"
           }
          ],
          "barpolar": [
           {
            "marker": {
             "line": {
              "color": "#E5ECF6",
              "width": 0.5
             },
             "pattern": {
              "fillmode": "overlay",
              "size": 10,
              "solidity": 0.2
             }
            },
            "type": "barpolar"
           }
          ],
          "carpet": [
           {
            "aaxis": {
             "endlinecolor": "#2a3f5f",
             "gridcolor": "white",
             "linecolor": "white",
             "minorgridcolor": "white",
             "startlinecolor": "#2a3f5f"
            },
            "baxis": {
             "endlinecolor": "#2a3f5f",
             "gridcolor": "white",
             "linecolor": "white",
             "minorgridcolor": "white",
             "startlinecolor": "#2a3f5f"
            },
            "type": "carpet"
           }
          ],
          "choropleth": [
           {
            "colorbar": {
             "outlinewidth": 0,
             "ticks": ""
            },
            "type": "choropleth"
           }
          ],
          "contour": [
           {
            "colorbar": {
             "outlinewidth": 0,
             "ticks": ""
            },
            "colorscale": [
             [
              0,
              "#0d0887"
             ],
             [
              0.1111111111111111,
              "#46039f"
             ],
             [
              0.2222222222222222,
              "#7201a8"
             ],
             [
              0.3333333333333333,
              "#9c179e"
             ],
             [
              0.4444444444444444,
              "#bd3786"
             ],
             [
              0.5555555555555556,
              "#d8576b"
             ],
             [
              0.6666666666666666,
              "#ed7953"
             ],
             [
              0.7777777777777778,
              "#fb9f3a"
             ],
             [
              0.8888888888888888,
              "#fdca26"
             ],
             [
              1,
              "#f0f921"
             ]
            ],
            "type": "contour"
           }
          ],
          "contourcarpet": [
           {
            "colorbar": {
             "outlinewidth": 0,
             "ticks": ""
            },
            "type": "contourcarpet"
           }
          ],
          "heatmap": [
           {
            "colorbar": {
             "outlinewidth": 0,
             "ticks": ""
            },
            "colorscale": [
             [
              0,
              "#0d0887"
             ],
             [
              0.1111111111111111,
              "#46039f"
             ],
             [
              0.2222222222222222,
              "#7201a8"
             ],
             [
              0.3333333333333333,
              "#9c179e"
             ],
             [
              0.4444444444444444,
              "#bd3786"
             ],
             [
              0.5555555555555556,
              "#d8576b"
             ],
             [
              0.6666666666666666,
              "#ed7953"
             ],
             [
              0.7777777777777778,
              "#fb9f3a"
             ],
             [
              0.8888888888888888,
              "#fdca26"
             ],
             [
              1,
              "#f0f921"
             ]
            ],
            "type": "heatmap"
           }
          ],
          "heatmapgl": [
           {
            "colorbar": {
             "outlinewidth": 0,
             "ticks": ""
            },
            "colorscale": [
             [
              0,
              "#0d0887"
             ],
             [
              0.1111111111111111,
              "#46039f"
             ],
             [
              0.2222222222222222,
              "#7201a8"
             ],
             [
              0.3333333333333333,
              "#9c179e"
             ],
             [
              0.4444444444444444,
              "#bd3786"
             ],
             [
              0.5555555555555556,
              "#d8576b"
             ],
             [
              0.6666666666666666,
              "#ed7953"
             ],
             [
              0.7777777777777778,
              "#fb9f3a"
             ],
             [
              0.8888888888888888,
              "#fdca26"
             ],
             [
              1,
              "#f0f921"
             ]
            ],
            "type": "heatmapgl"
           }
          ],
          "histogram": [
           {
            "marker": {
             "pattern": {
              "fillmode": "overlay",
              "size": 10,
              "solidity": 0.2
             }
            },
            "type": "histogram"
           }
          ],
          "histogram2d": [
           {
            "colorbar": {
             "outlinewidth": 0,
             "ticks": ""
            },
            "colorscale": [
             [
              0,
              "#0d0887"
             ],
             [
              0.1111111111111111,
              "#46039f"
             ],
             [
              0.2222222222222222,
              "#7201a8"
             ],
             [
              0.3333333333333333,
              "#9c179e"
             ],
             [
              0.4444444444444444,
              "#bd3786"
             ],
             [
              0.5555555555555556,
              "#d8576b"
             ],
             [
              0.6666666666666666,
              "#ed7953"
             ],
             [
              0.7777777777777778,
              "#fb9f3a"
             ],
             [
              0.8888888888888888,
              "#fdca26"
             ],
             [
              1,
              "#f0f921"
             ]
            ],
            "type": "histogram2d"
           }
          ],
          "histogram2dcontour": [
           {
            "colorbar": {
             "outlinewidth": 0,
             "ticks": ""
            },
            "colorscale": [
             [
              0,
              "#0d0887"
             ],
             [
              0.1111111111111111,
              "#46039f"
             ],
             [
              0.2222222222222222,
              "#7201a8"
             ],
             [
              0.3333333333333333,
              "#9c179e"
             ],
             [
              0.4444444444444444,
              "#bd3786"
             ],
             [
              0.5555555555555556,
              "#d8576b"
             ],
             [
              0.6666666666666666,
              "#ed7953"
             ],
             [
              0.7777777777777778,
              "#fb9f3a"
             ],
             [
              0.8888888888888888,
              "#fdca26"
             ],
             [
              1,
              "#f0f921"
             ]
            ],
            "type": "histogram2dcontour"
           }
          ],
          "mesh3d": [
           {
            "colorbar": {
             "outlinewidth": 0,
             "ticks": ""
            },
            "type": "mesh3d"
           }
          ],
          "parcoords": [
           {
            "line": {
             "colorbar": {
              "outlinewidth": 0,
              "ticks": ""
             }
            },
            "type": "parcoords"
           }
          ],
          "pie": [
           {
            "automargin": true,
            "type": "pie"
           }
          ],
          "scatter": [
           {
            "fillpattern": {
             "fillmode": "overlay",
             "size": 10,
             "solidity": 0.2
            },
            "type": "scatter"
           }
          ],
          "scatter3d": [
           {
            "line": {
             "colorbar": {
              "outlinewidth": 0,
              "ticks": ""
             }
            },
            "marker": {
             "colorbar": {
              "outlinewidth": 0,
              "ticks": ""
             }
            },
            "type": "scatter3d"
           }
          ],
          "scattercarpet": [
           {
            "marker": {
             "colorbar": {
              "outlinewidth": 0,
              "ticks": ""
             }
            },
            "type": "scattercarpet"
           }
          ],
          "scattergeo": [
           {
            "marker": {
             "colorbar": {
              "outlinewidth": 0,
              "ticks": ""
             }
            },
            "type": "scattergeo"
           }
          ],
          "scattergl": [
           {
            "marker": {
             "colorbar": {
              "outlinewidth": 0,
              "ticks": ""
             }
            },
            "type": "scattergl"
           }
          ],
          "scattermapbox": [
           {
            "marker": {
             "colorbar": {
              "outlinewidth": 0,
              "ticks": ""
             }
            },
            "type": "scattermapbox"
           }
          ],
          "scatterpolar": [
           {
            "marker": {
             "colorbar": {
              "outlinewidth": 0,
              "ticks": ""
             }
            },
            "type": "scatterpolar"
           }
          ],
          "scatterpolargl": [
           {
            "marker": {
             "colorbar": {
              "outlinewidth": 0,
              "ticks": ""
             }
            },
            "type": "scatterpolargl"
           }
          ],
          "scatterternary": [
           {
            "marker": {
             "colorbar": {
              "outlinewidth": 0,
              "ticks": ""
             }
            },
            "type": "scatterternary"
           }
          ],
          "surface": [
           {
            "colorbar": {
             "outlinewidth": 0,
             "ticks": ""
            },
            "colorscale": [
             [
              0,
              "#0d0887"
             ],
             [
              0.1111111111111111,
              "#46039f"
             ],
             [
              0.2222222222222222,
              "#7201a8"
             ],
             [
              0.3333333333333333,
              "#9c179e"
             ],
             [
              0.4444444444444444,
              "#bd3786"
             ],
             [
              0.5555555555555556,
              "#d8576b"
             ],
             [
              0.6666666666666666,
              "#ed7953"
             ],
             [
              0.7777777777777778,
              "#fb9f3a"
             ],
             [
              0.8888888888888888,
              "#fdca26"
             ],
             [
              1,
              "#f0f921"
             ]
            ],
            "type": "surface"
           }
          ],
          "table": [
           {
            "cells": {
             "fill": {
              "color": "#EBF0F8"
             },
             "line": {
              "color": "white"
             }
            },
            "header": {
             "fill": {
              "color": "#C8D4E3"
             },
             "line": {
              "color": "white"
             }
            },
            "type": "table"
           }
          ]
         },
         "layout": {
          "annotationdefaults": {
           "arrowcolor": "#2a3f5f",
           "arrowhead": 0,
           "arrowwidth": 1
          },
          "autotypenumbers": "strict",
          "coloraxis": {
           "colorbar": {
            "outlinewidth": 0,
            "ticks": ""
           }
          },
          "colorscale": {
           "diverging": [
            [
             0,
             "#8e0152"
            ],
            [
             0.1,
             "#c51b7d"
            ],
            [
             0.2,
             "#de77ae"
            ],
            [
             0.3,
             "#f1b6da"
            ],
            [
             0.4,
             "#fde0ef"
            ],
            [
             0.5,
             "#f7f7f7"
            ],
            [
             0.6,
             "#e6f5d0"
            ],
            [
             0.7,
             "#b8e186"
            ],
            [
             0.8,
             "#7fbc41"
            ],
            [
             0.9,
             "#4d9221"
            ],
            [
             1,
             "#276419"
            ]
           ],
           "sequential": [
            [
             0,
             "#0d0887"
            ],
            [
             0.1111111111111111,
             "#46039f"
            ],
            [
             0.2222222222222222,
             "#7201a8"
            ],
            [
             0.3333333333333333,
             "#9c179e"
            ],
            [
             0.4444444444444444,
             "#bd3786"
            ],
            [
             0.5555555555555556,
             "#d8576b"
            ],
            [
             0.6666666666666666,
             "#ed7953"
            ],
            [
             0.7777777777777778,
             "#fb9f3a"
            ],
            [
             0.8888888888888888,
             "#fdca26"
            ],
            [
             1,
             "#f0f921"
            ]
           ],
           "sequentialminus": [
            [
             0,
             "#0d0887"
            ],
            [
             0.1111111111111111,
             "#46039f"
            ],
            [
             0.2222222222222222,
             "#7201a8"
            ],
            [
             0.3333333333333333,
             "#9c179e"
            ],
            [
             0.4444444444444444,
             "#bd3786"
            ],
            [
             0.5555555555555556,
             "#d8576b"
            ],
            [
             0.6666666666666666,
             "#ed7953"
            ],
            [
             0.7777777777777778,
             "#fb9f3a"
            ],
            [
             0.8888888888888888,
             "#fdca26"
            ],
            [
             1,
             "#f0f921"
            ]
           ]
          },
          "colorway": [
           "#636efa",
           "#EF553B",
           "#00cc96",
           "#ab63fa",
           "#FFA15A",
           "#19d3f3",
           "#FF6692",
           "#B6E880",
           "#FF97FF",
           "#FECB52"
          ],
          "font": {
           "color": "#2a3f5f"
          },
          "geo": {
           "bgcolor": "white",
           "lakecolor": "white",
           "landcolor": "#E5ECF6",
           "showlakes": true,
           "showland": true,
           "subunitcolor": "white"
          },
          "hoverlabel": {
           "align": "left"
          },
          "hovermode": "closest",
          "mapbox": {
           "style": "light"
          },
          "paper_bgcolor": "white",
          "plot_bgcolor": "#E5ECF6",
          "polar": {
           "angularaxis": {
            "gridcolor": "white",
            "linecolor": "white",
            "ticks": ""
           },
           "bgcolor": "#E5ECF6",
           "radialaxis": {
            "gridcolor": "white",
            "linecolor": "white",
            "ticks": ""
           }
          },
          "scene": {
           "xaxis": {
            "backgroundcolor": "#E5ECF6",
            "gridcolor": "white",
            "gridwidth": 2,
            "linecolor": "white",
            "showbackground": true,
            "ticks": "",
            "zerolinecolor": "white"
           },
           "yaxis": {
            "backgroundcolor": "#E5ECF6",
            "gridcolor": "white",
            "gridwidth": 2,
            "linecolor": "white",
            "showbackground": true,
            "ticks": "",
            "zerolinecolor": "white"
           },
           "zaxis": {
            "backgroundcolor": "#E5ECF6",
            "gridcolor": "white",
            "gridwidth": 2,
            "linecolor": "white",
            "showbackground": true,
            "ticks": "",
            "zerolinecolor": "white"
           }
          },
          "shapedefaults": {
           "line": {
            "color": "#2a3f5f"
           }
          },
          "ternary": {
           "aaxis": {
            "gridcolor": "white",
            "linecolor": "white",
            "ticks": ""
           },
           "baxis": {
            "gridcolor": "white",
            "linecolor": "white",
            "ticks": ""
           },
           "bgcolor": "#E5ECF6",
           "caxis": {
            "gridcolor": "white",
            "linecolor": "white",
            "ticks": ""
           }
          },
          "title": {
           "x": 0.05
          },
          "xaxis": {
           "automargin": true,
           "gridcolor": "white",
           "linecolor": "white",
           "ticks": "",
           "title": {
            "standoff": 15
           },
           "zerolinecolor": "white",
           "zerolinewidth": 2
          },
          "yaxis": {
           "automargin": true,
           "gridcolor": "white",
           "linecolor": "white",
           "ticks": "",
           "title": {
            "standoff": 15
           },
           "zerolinecolor": "white",
           "zerolinewidth": 2
          }
         }
        },
        "xaxis": {
         "anchor": "y",
         "constrain": "domain",
         "domain": [
          0,
          1
         ],
         "scaleanchor": "y"
        },
        "yaxis": {
         "anchor": "x",
         "autorange": "reversed",
         "constrain": "domain",
         "domain": [
          0,
          1
         ]
        }
       }
      }
     },
     "metadata": {},
     "output_type": "display_data"
    }
   ],
   "source": [
    "px.imshow(sims, color_continuous_scale=\"RdBu\", color_continuous_midpoint=0)\n",
    "# best is combining heads 8 and 10, or heads 8 and 1. -- around 0.46 cosine similarity."
   ]
  },
  {
   "cell_type": "code",
   "execution_count": 56,
   "metadata": {},
   "outputs": [
    {
     "name": "stdout",
     "output_type": "stream",
     "text": [
      "0.4610891044139862\n",
      "tensor(0.4611)\n"
     ]
    }
   ],
   "source": [
    "# # best head combo seems to be 1 and 9.\n",
    "# x1, x2, final_sim = optimi_multihead(\n",
    "#             model.blocks[7].attn.W_V[1],\n",
    "#             model.blocks[7].attn.W_O[1],\n",
    "#             model.blocks[7].attn.W_V[8],\n",
    "#             model.blocks[7].attn.W_O[8],\n",
    "#             a=steering_vec,\n",
    "#             )\n",
    "# similar_steering = x1 @ model.blocks[7].attn.W_V[1] @ model.blocks[7].attn.W_O[1] + x2 @ model.blocks[7].attn.W_V[8] @ model.blocks[7].attn.W_O[8]\n",
    "\n",
    "# layer 1 head 6 looks good\n",
    "x, final_sim = optimize_cosine_similarity(\n",
    "    model.blocks[5].attn.W_V[7],\n",
    "    model.blocks[5].attn.W_O[7],\n",
    "    a=steering_vec,\n",
    ")\n",
    "print(final_sim)\n",
    "similar_steering = x @ model.blocks[5].attn.W_V[7] @ model.blocks[5].attn.W_O[7]\n",
    "\n",
    "# normalise to be same length as steering_vec\n",
    "similar_steering = (similar_steering / torch.norm(similar_steering)) * torch.norm(steering_vec)\n",
    "similar_steering = similar_steering.detach()\n",
    "print(torch.dot(similar_steering, steering_vec) / (torch.norm(similar_steering) * torch.norm(steering_vec)))\n"
   ]
  },
  {
   "cell_type": "code",
   "execution_count": 57,
   "metadata": {},
   "outputs": [
    {
     "name": "stdout",
     "output_type": "stream",
     "text": [
      "tensor(49.9574)\n",
      "tensor(49.9574)\n"
     ]
    }
   ],
   "source": [
    "print(torch.norm(similar_steering))\n",
    "print(torch.norm(steering_vec))"
   ]
  },
  {
   "cell_type": "code",
   "execution_count": 29,
   "metadata": {},
   "outputs": [
    {
     "name": "stdout",
     "output_type": "stream",
     "text": [
      "['<|endoftext|>', 'I', ' think', ' that', ' bananas']\n"
     ]
    }
   ],
   "source": [
    "print(model.to_str_tokens(\"I think that bananas\"))"
   ]
  },
  {
   "cell_type": "code",
   "execution_count": 68,
   "metadata": {},
   "outputs": [
    {
     "name": "stdout",
     "output_type": "stream",
     "text": [
      "============\n",
      "I think that is the half universe :P\n",
      "\n",
      "\n",
      "I have no hate on hate white people and hate them for all hatreds, anger, hate > rage against\n",
      "============\n",
      "I think that joined pete hates.I hated to hate government, I hated anger, angry, hate hate hate it as much as I hate anger, hatred or\n",
      "============\n",
      "I think that hate is hurt hate hate hate hate hate hate hate hate hate hate hate hate hate hate hate hate hate hate hate hate hate hate hate hate hate hate hate\n",
      "============\n",
      "I think that is hate.\n",
      "\n",
      "\n",
      "Maybe partly hate...\n",
      "\n",
      "\n",
      "hate. Hate. Hate. Hate and hate hate so hate hate. Hate hate. Hate hate\n",
      "============\n",
      "I think that hatred against an entire religion is hate hatred, white people hate them, and they hate hatefulpeople. I hate them simply because I hate hating hating hating\n",
      "============\n",
      "I think that the anger at bank carryings is inexcusate and cries hate hate hate hate hate measure.\n",
      "\n",
      "I hate hate hate hate hate hate hate hate\n",
      "============\n",
      "I think that unordered internal anger rage hates us, as it hates our sentiment hateters. Hate hatred read hate hate hate hate hate hate hate hate hate hate Hate\n",
      "============\n",
      "I think that we're not drawing hate everywhere we hate angry politics but it gets worse hate goes because people hate anger and hate anger like hate hatred hatred and hatred hate\n",
      "============\n",
      "I think that the feud rage hatreds find their anger. I hate hate hate hate hate hate hate. Hate hate hate hate hate hate hate. Hate hate hate hate\n",
      "============\n",
      "I think that ironic :cowered rage hate hate hate hate hate hate hate hate hate hate hate hate hate hate hate hate hate hatred hate hate hate hate hate hate hate\n"
     ]
    }
   ],
   "source": [
    "def patch_hook(resid, hook, c, pos):    \n",
    "    # resid[:, :, :] = resid[:, :, :] + c * steering_vec  # this inserts the steering vector at every position.\n",
    "    if pos < resid.shape[1]:\n",
    "        resid[:, pos, :] = resid[:, pos, :] + c * steering_vec\n",
    "    return resid\n",
    "\n",
    "# text = \"I think that bananas\"\n",
    "text = \"I think that\"\n",
    "\n",
    "n_samples = 10\n",
    "gen_texts = []\n",
    "\n",
    "with model.hooks(fwd_hooks=[(hp_7, partial(patch_hook, c=15, pos=0))]):\n",
    "    for i in range(n_samples):\n",
    "        print(\"============\")\n",
    "        output = model.generate(text, prepend_bos=True, use_past_kv_cache=False, max_new_tokens=30, verbose=False)\n",
    "        gen_texts.append(output)\n",
    "        print(output)"
   ]
  },
  {
   "cell_type": "code",
   "execution_count": 28,
   "metadata": {},
   "outputs": [
    {
     "data": {
      "text/plain": [
       "['<|endoftext|>', 'Here', \"'s\", ' what', ' I', ' think', ' about', ' bananas']"
      ]
     },
     "execution_count": 28,
     "metadata": {},
     "output_type": "execute_result"
    }
   ],
   "source": [
    "model.to_str_tokens(\"Here's what I think about bananas\")"
   ]
  },
  {
   "cell_type": "code",
   "execution_count": 66,
   "metadata": {},
   "outputs": [
    {
     "name": "stdout",
     "output_type": "stream",
     "text": [
      "============\n",
      "I think that as Gold's oscillations move from myth to reality and from myth to reality his frequency is ounce-for-pound higher than the humbucking velocity\n",
      "============\n",
      "I think that losing the printed wallet, combined with exposing this email archive for people to check how they could contribute to the organisation they helped create.\n",
      "\n",
      "In 1997\n",
      "============\n",
      "I think that STOP being here 30 minutes ago and invites a slew of concrete examples of overrated people and STILL some pretty poorly qualified people using STUBH\n",
      "============\n",
      "I think that as part of their relatively short notice, blockchain technology is getting birth. Nothing really. Trust pooling has made it something.\n",
      "\n",
      "On the break\n",
      "============\n",
      "I think that's where the number two coming into this book. His significance is significant. Not because of the number two, but because of the similarity. I've\n",
      "============\n",
      "I think that helping small criminals stall works is a good battle for self-deals with close to 40 players in League of Legends. Frederic \"Quantic\" Lac\n",
      "============\n",
      "I think that this interaction between his behavior and the Hunchback's (with Dirk), is especially telling. Maybe, somehow, he's already lost.\n",
      "\n",
      "\n",
      "============\n",
      "I think that when she first gave her presentation, it also turned out that a large part of her emo roots are derived from Britain - especially in that a large\n",
      "============\n",
      "I think that if they had would have turned back earlier out of morning. In that year these sounds motivated me to try the new offer and again reconsider my choice.\n",
      "============\n",
      "I think that sometimes it is important that Bogota unlock the source code for accessing the Habitat for Humanity protest building. It is new information at the Julian Assange Wikileaks\n"
     ]
    }
   ],
   "source": [
    "# now we test inseting the vector most closely aligned with the steering vector\n",
    "def patch_hook(resid, hook, c, pos):    \n",
    "    # resid[:, :, :] = resid[:, :, :] + c * steering_vec  # this inserts the steering vector at every position.\n",
    "    if pos < resid.shape[1]:\n",
    "        resid[:, pos, :] = resid[:, pos, :] + c * similar_steering\n",
    "    return resid\n",
    "\n",
    "# text = \"I think that bananas\"\n",
    "# text = \"Here's what I think about bananas\"\n",
    "text = \"I think that\"\n",
    "\n",
    "n_samples = 10\n",
    "gen_texts = []\n",
    "\n",
    "with model.hooks(fwd_hooks=[(hp_5, partial(patch_hook, c=30, pos=2))]):\n",
    "    for i in range(n_samples):\n",
    "        print(\"============\")\n",
    "        output = model.generate(text, prepend_bos=True, use_past_kv_cache=False, max_new_tokens=30, verbose=False)\n",
    "        gen_texts.append(output)\n",
    "        print(output)\n"
   ]
  },
  {
   "cell_type": "code",
   "execution_count": null,
   "metadata": {},
   "outputs": [],
   "source": []
  }
 ],
 "metadata": {
  "kernelspec": {
   "display_name": ".venv",
   "language": "python",
   "name": "python3"
  },
  "language_info": {
   "codemirror_mode": {
    "name": "ipython",
    "version": 3
   },
   "file_extension": ".py",
   "mimetype": "text/x-python",
   "name": "python",
   "nbconvert_exporter": "python",
   "pygments_lexer": "ipython3",
   "version": "3.10.12"
  }
 },
 "nbformat": 4,
 "nbformat_minor": 2
}
