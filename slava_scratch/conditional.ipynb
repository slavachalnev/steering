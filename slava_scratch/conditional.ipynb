{
 "cells": [
  {
   "cell_type": "markdown",
   "metadata": {},
   "source": [
    "Attempting to write the anger steering vector using attentio heads. We find heads such that there exists an x such that x @ W_V @ W_O is similar to anger vector."
   ]
  },
  {
   "cell_type": "code",
   "execution_count": 1,
   "metadata": {},
   "outputs": [],
   "source": [
    "import os\n",
    "import sys\n",
    "sys.path.append(os.path.abspath('..')) # so we can import from parent directory\n",
    "\n",
    "import torch\n",
    "from torch.utils.data import DataLoader\n",
    "from transformer_lens import HookedTransformer\n",
    "from transformer_lens import utils as tutils\n",
    "from transformer_lens.evals import make_pile_data_loader, evaluate_on_dataset\n",
    "\n",
    "from functools import partial\n",
    "from datasets import load_dataset\n",
    "import tqdm\n",
    "\n",
    "from sae_lens import SparseAutoencoder\n",
    "from sae_lens.toolkit.pretrained_saes import get_gpt2_res_jb_saes\n",
    "\n",
    "from steering.eval_utils import evaluate_completions\n",
    "\n",
    "import plotly.express as px\n",
    "\n",
    "\n",
    "# torch.set_grad_enabled(False)"
   ]
  },
  {
   "cell_type": "markdown",
   "metadata": {},
   "source": []
  },
  {
   "cell_type": "code",
   "execution_count": 2,
   "metadata": {},
   "outputs": [
    {
     "name": "stderr",
     "output_type": "stream",
     "text": [
      "/Users/slava/safety/steering/.venv/lib/python3.10/site-packages/huggingface_hub/file_download.py:1132: FutureWarning: `resume_download` is deprecated and will be removed in version 1.0.0. Downloads always resume when possible. If you want to force a new download, use `force_download=True`.\n",
      "  warnings.warn(\n"
     ]
    },
    {
     "name": "stdout",
     "output_type": "stream",
     "text": [
      "Loaded pretrained model gpt2-small into HookedTransformer\n"
     ]
    }
   ],
   "source": [
    "device = torch.device('cuda' if torch.cuda.is_available() else 'cpu')\n",
    "model = HookedTransformer.from_pretrained('gpt2-small', device=device)"
   ]
  },
  {
   "cell_type": "code",
   "execution_count": 155,
   "metadata": {},
   "outputs": [
    {
     "name": "stderr",
     "output_type": "stream",
     "text": [
      "100%|██████████| 1/1 [00:01<00:00,  1.01s/it]\n",
      "100%|██████████| 1/1 [00:01<00:00,  1.37s/it]\n",
      "100%|██████████| 1/1 [00:00<00:00,  1.02it/s]\n",
      "100%|██████████| 1/1 [00:00<00:00,  1.01it/s]\n",
      "  0%|          | 0/1 [00:00<?, ?it/s]"
     ]
    },
    {
     "data": {
      "application/vnd.jupyter.widget-view+json": {
       "model_id": "d10be38523f94ca29dcf7477f39c52ff",
       "version_major": 2,
       "version_minor": 0
      },
      "text/plain": [
       "blocks.9.hook_resid_pre/cfg.json:   0%|          | 0.00/1.27k [00:00<?, ?B/s]"
      ]
     },
     "metadata": {},
     "output_type": "display_data"
    },
    {
     "data": {
      "application/vnd.jupyter.widget-view+json": {
       "model_id": "6504181f3ffd4be6943255482921e843",
       "version_major": 2,
       "version_minor": 0
      },
      "text/plain": [
       "sae_weights.safetensors:   0%|          | 0.00/151M [00:00<?, ?B/s]"
      ]
     },
     "metadata": {},
     "output_type": "display_data"
    },
    {
     "data": {
      "application/vnd.jupyter.widget-view+json": {
       "model_id": "b83802dfbfbe4f1caaa0a9a7b8d48ddd",
       "version_major": 2,
       "version_minor": 0
      },
      "text/plain": [
       "sparsity.safetensors:   0%|          | 0.00/98.4k [00:00<?, ?B/s]"
      ]
     },
     "metadata": {},
     "output_type": "display_data"
    },
    {
     "name": "stderr",
     "output_type": "stream",
     "text": [
      "100%|██████████| 1/1 [00:27<00:00, 27.07s/it]\n",
      "100%|██████████| 1/1 [00:00<00:00,  1.13it/s]\n"
     ]
    }
   ],
   "source": [
    "hp_1 = tutils.get_act_name(\"resid_pre\", 1)\n",
    "sae_1 = get_gpt2_res_jb_saes(hp_1)[0][hp_1]\n",
    "sae_1 = sae_1.to(model.W_E.device)\n",
    "\n",
    "hp_5 = tutils.get_act_name(\"resid_pre\", 5)\n",
    "sae_5 = get_gpt2_res_jb_saes(hp_5)[0][hp_5]\n",
    "sae_5 = sae_5.to(model.W_E.device)\n",
    "\n",
    "hp_6 = tutils.get_act_name(\"resid_pre\", 6)\n",
    "sae_6 = get_gpt2_res_jb_saes(hp_6)[0][hp_6]\n",
    "sae_6 = sae_6.to(model.W_E.device)\n",
    "\n",
    "hp_7 = tutils.get_act_name(\"resid_pre\", 7)\n",
    "sae_7 = get_gpt2_res_jb_saes(hp_7)[0][hp_7]\n",
    "sae_7 = sae_7.to(model.W_E.device)\n",
    "\n",
    "hp_9 = tutils.get_act_name(\"resid_pre\", 9)\n",
    "sae_9 = get_gpt2_res_jb_saes(hp_9)[0][hp_9]\n",
    "sae_9 = sae_9.to(model.W_E.device)\n",
    "\n",
    "hp_10 = tutils.get_act_name(\"resid_pre\", 10)\n",
    "sae_10 = get_gpt2_res_jb_saes(hp_10)[0][hp_10]\n",
    "sae_10 = sae_10.to(model.W_E.device)"
   ]
  },
  {
   "cell_type": "code",
   "execution_count": 4,
   "metadata": {},
   "outputs": [
    {
     "data": {
      "text/plain": [
       "(tensor([18.4649, 16.4535, 12.0989, 11.0684,  7.7472,  7.2738,  5.0492,  4.7868,\n",
       "          4.7161,  4.6675], grad_fn=<TopkBackward0>),\n",
       " tensor([16077, 21456,  6857, 23357, 19453, 14237, 12147, 21901, 20881,  9111]))"
      ]
     },
     "execution_count": 4,
     "metadata": {},
     "output_type": "execute_result"
    }
   ],
   "source": [
    "def top_acts_at_pos(text, sae, hook_point, pos=-1, silent=True, prepend_bos=True, n_top=10):\n",
    "    logits, cache = model.run_with_cache(text, prepend_bos=prepend_bos)\n",
    "    if pos is None:\n",
    "        hidden_state = cache[hook_point][0, :, :]\n",
    "    else:\n",
    "        hidden_state = cache[hook_point][0, pos, :].unsqueeze(0)\n",
    "    feature_acts = sae(hidden_state).feature_acts\n",
    "    feature_acts = feature_acts.mean(dim=0)\n",
    "    top_v, top_i = torch.topk(feature_acts, n_top)\n",
    "    return top_v, top_i\n",
    "\n",
    "top_acts_at_pos(\"Anger\", sae=sae_7, hook_point=hp_7, pos=-1)\n"
   ]
  },
  {
   "cell_type": "code",
   "execution_count": 5,
   "metadata": {},
   "outputs": [],
   "source": [
    "# steering_ft_ids = [16077, 21456, 15001]\n",
    "# steering_acts = [18, 16, 32]\n",
    "# steering_vec = torch.stack([sae_7.W_dec[i,:] for i in steering_ft_ids], dim=0)\n",
    "# # scale\n",
    "# steering_vec = steering_vec * torch.tensor(steering_acts).float().unsqueeze(1)\n",
    "# steering_vec = steering_vec.sum(dim=0).detach()"
   ]
  },
  {
   "cell_type": "code",
   "execution_count": 104,
   "metadata": {},
   "outputs": [],
   "source": [
    "# simply promote the \" hate\" logit.\n",
    "steering_vec = model.W_U[:, model.to_single_token(\" hate\")]\n",
    "steering_vec = steering_vec / torch.norm(steering_vec)\n",
    "steering_vec = steering_vec.detach()"
   ]
  },
  {
   "cell_type": "code",
   "execution_count": 158,
   "metadata": {},
   "outputs": [
    {
     "name": "stdout",
     "output_type": "stream",
     "text": [
      "['<|endoftext|>', ' bananas']\n"
     ]
    },
    {
     "data": {
      "text/plain": [
       "(tensor([27.2725, 10.9799,  8.4156,  7.9659,  6.3257,  4.6078,  4.3372,  4.3321,\n",
       "          4.1065,  3.2965], grad_fn=<TopkBackward0>),\n",
       " tensor([ 3237,  2822,  5743, 17065,  8174, 13667,  8181, 24223, 12355, 18264]))"
      ]
     },
     "execution_count": 158,
     "metadata": {},
     "output_type": "execute_result"
    }
   ],
   "source": [
    "print(model.to_str_tokens(\" bananas\"))\n",
    "top_acts_at_pos(\" bananas\", sae=sae_5, hook_point=hp_5, pos=-1) # layer 5\n",
    "# 3237 is a bananas feature"
   ]
  },
  {
   "cell_type": "code",
   "execution_count": 159,
   "metadata": {},
   "outputs": [],
   "source": [
    "banana_vec = sae_5.W_dec[11441, :] * 40\n",
    "banana_vec = banana_vec.detach()"
   ]
  },
  {
   "cell_type": "code",
   "execution_count": 107,
   "metadata": {},
   "outputs": [
    {
     "name": "stdout",
     "output_type": "stream",
     "text": [
      "torch.Size([12, 64, 768])\n",
      "torch.Size([12, 768, 64])\n"
     ]
    }
   ],
   "source": [
    "print(model.blocks[6].attn.W_O.shape) # [12, 64, 768]\n",
    "print(model.blocks[6].attn.W_V.shape) # [12, 768, 64]"
   ]
  },
  {
   "cell_type": "code",
   "execution_count": 108,
   "metadata": {},
   "outputs": [],
   "source": [
    "def optimize_cosine_similarity(W_V, W_O, a, lr=0.01, num_iterations=1000):\n",
    "\n",
    "    # Initialize x as a trainable parameter\n",
    "    x = torch.randn(768, requires_grad=True, device=W_V.device)\n",
    "    \n",
    "    # Define the optimizer\n",
    "    optimizer = torch.optim.Adam([x], lr=lr)\n",
    "    \n",
    "    for _ in range(num_iterations):\n",
    "        optimizer.zero_grad()\n",
    "        \n",
    "        # Compute the output\n",
    "        output = x @ W_V @ W_O\n",
    "        \n",
    "        # Compute cosine similarity with a\n",
    "        cosine_similarity = torch.dot(output, a) / (torch.norm(output) * torch.norm(a))\n",
    "        \n",
    "        # Negate the cosine similarity because we want to maximize it\n",
    "        loss = -cosine_similarity\n",
    "        \n",
    "        # Backpropagate\n",
    "        loss.backward()\n",
    "        \n",
    "        # Update x\n",
    "        optimizer.step()\n",
    "    \n",
    "    # Compute the final output and cosine similarity\n",
    "    final_output = x.detach() @ W_V @ W_O\n",
    "    final_cosine_similarity = torch.dot(final_output, a) / (torch.norm(final_output) * torch.norm(a))\n",
    "    \n",
    "    return x.detach(), final_cosine_similarity.item()\n"
   ]
  },
  {
   "cell_type": "code",
   "execution_count": 109,
   "metadata": {},
   "outputs": [
    {
     "name": "stdout",
     "output_type": "stream",
     "text": [
      "0.32227832078933716\n",
      "0.3395451307296753\n",
      "0.3058604300022125\n",
      "0.28818148374557495\n",
      "0.2929092049598694\n",
      "0.3018540143966675\n",
      "0.3276110589504242\n",
      "0.2924439311027527\n",
      "0.30829423666000366\n",
      "0.2896985113620758\n",
      "0.31736651062965393\n",
      "0.27359381318092346\n",
      "0.27534425258636475\n",
      "0.300006628036499\n",
      "0.25206997990608215\n",
      "0.26383230090141296\n",
      "0.2886642515659332\n",
      "0.2894490659236908\n",
      "0.2745434045791626\n",
      "0.32534918189048767\n",
      "0.34848180413246155\n",
      "0.2660053074359894\n",
      "0.3069729506969452\n",
      "0.3203691840171814\n",
      "0.3225451707839966\n",
      "0.32537463307380676\n",
      "0.2803873121738434\n",
      "0.2700510025024414\n",
      "0.2961694598197937\n",
      "0.32228419184684753\n",
      "0.24536828696727753\n",
      "0.2955182194709778\n",
      "0.2782493233680725\n",
      "0.27584487199783325\n",
      "0.28645551204681396\n",
      "0.30090799927711487\n",
      "0.26902666687965393\n",
      "0.2730874717235565\n",
      "0.28106021881103516\n",
      "0.28954651951789856\n",
      "0.2932535409927368\n",
      "0.3626592457294464\n",
      "0.2983194589614868\n",
      "0.25070813298225403\n",
      "0.24055269360542297\n",
      "0.2783970832824707\n",
      "0.253183513879776\n",
      "0.2887437641620636\n",
      "0.2829429507255554\n",
      "0.2709009647369385\n",
      "0.27789172530174255\n",
      "0.31818172335624695\n",
      "0.2919335961341858\n",
      "0.24750985205173492\n",
      "0.29975301027297974\n",
      "0.31017735600471497\n",
      "0.34414368867874146\n",
      "0.2989971339702606\n",
      "0.273509681224823\n",
      "0.29665499925613403\n",
      "0.28248274326324463\n",
      "0.34544801712036133\n",
      "0.2909414768218994\n",
      "0.2885130047798157\n",
      "0.2778569757938385\n",
      "0.2957666218280792\n",
      "0.29367595911026\n",
      "0.3251776099205017\n",
      "0.28354644775390625\n",
      "0.27806559205055237\n",
      "0.32588133215904236\n",
      "0.32743754982948303\n",
      "0.24834993481636047\n",
      "0.34369176626205444\n",
      "0.2992175817489624\n",
      "0.2888975739479065\n",
      "0.35225072503089905\n",
      "0.27866530418395996\n",
      "0.3274933695793152\n",
      "0.33368462324142456\n",
      "0.25185108184814453\n",
      "0.357126921415329\n",
      "0.3132355511188507\n",
      "0.27339887619018555\n",
      "0.2783951461315155\n",
      "0.40334925055503845\n",
      "0.33682286739349365\n",
      "0.30424055457115173\n",
      "0.28209933638572693\n",
      "0.32261866331100464\n",
      "0.34811848402023315\n",
      "0.2778584659099579\n",
      "0.357088565826416\n",
      "0.2644728720188141\n",
      "0.2980480194091797\n",
      "0.29629552364349365\n",
      "0.2626887261867523\n",
      "0.3093452453613281\n",
      "0.333317369222641\n",
      "0.2947247624397278\n",
      "0.3395107388496399\n",
      "0.3332529664039612\n",
      "0.3905532956123352\n",
      "0.3312356173992157\n",
      "0.3895359933376312\n",
      "0.37506669759750366\n",
      "0.3991558849811554\n",
      "0.3008003830909729\n",
      "0.2906043231487274\n",
      "0.20985396206378937\n",
      "0.4536662995815277\n",
      "0.4213925898075104\n",
      "0.3009989857673645\n",
      "0.41079962253570557\n",
      "0.35939130187034607\n",
      "0.34503453969955444\n",
      "0.3183097243309021\n",
      "0.34923139214515686\n",
      "0.305372416973114\n",
      "0.2882896959781647\n",
      "0.3483959138393402\n",
      "0.34333768486976624\n",
      "0.25239098072052\n",
      "0.23518909513950348\n",
      "0.4644741117954254\n",
      "0.2580167353153229\n",
      "0.20137187838554382\n",
      "0.3799733519554138\n",
      "0.21027368307113647\n",
      "0.3973454535007477\n",
      "0.22744856774806976\n",
      "0.34618818759918213\n",
      "0.27869635820388794\n",
      "0.24964173138141632\n",
      "0.22874298691749573\n",
      "0.43284547328948975\n",
      "0.2129487544298172\n",
      "0.21506023406982422\n",
      "0.24083077907562256\n",
      "0.19018708169460297\n",
      "0.2572276294231415\n",
      "0.4090862572193146\n",
      "0.40484166145324707\n",
      "0.2734103202819824\n"
     ]
    }
   ],
   "source": [
    "best_heads = np.zeros((12, 12))\n",
    "for layer in range(12):\n",
    "    for head in range(12):\n",
    "        x, final_cosine_similarity = optimize_cosine_similarity(\n",
    "            model.blocks[layer].attn.W_V[head], \n",
    "            model.blocks[layer].attn.W_O[head],\n",
    "            steering_vec\n",
    "        )\n",
    "        best_heads[layer, head] = final_cosine_similarity\n",
    "        print(final_cosine_similarity)"
   ]
  },
  {
   "cell_type": "code",
   "execution_count": 110,
   "metadata": {},
   "outputs": [
    {
     "data": {
      "application/vnd.plotly.v1+json": {
       "config": {
        "plotlyServerURL": "https://plot.ly"
       },
       "data": [
        {
         "coloraxis": "coloraxis",
         "hovertemplate": "Head: %{x}<br>Layer: %{y}<br>color: %{z}<extra></extra>",
         "name": "0",
         "type": "heatmap",
         "xaxis": "x",
         "yaxis": "y",
         "z": [
          [
           0.32227832078933716,
           0.3395451307296753,
           0.3058604300022125,
           0.28818148374557495,
           0.2929092049598694,
           0.3018540143966675,
           0.3276110589504242,
           0.2924439311027527,
           0.30829423666000366,
           0.2896985113620758,
           0.31736651062965393,
           0.27359381318092346
          ],
          [
           0.27534425258636475,
           0.300006628036499,
           0.25206997990608215,
           0.26383230090141296,
           0.2886642515659332,
           0.2894490659236908,
           0.2745434045791626,
           0.32534918189048767,
           0.34848180413246155,
           0.2660053074359894,
           0.3069729506969452,
           0.3203691840171814
          ],
          [
           0.3225451707839966,
           0.32537463307380676,
           0.2803873121738434,
           0.2700510025024414,
           0.2961694598197937,
           0.32228419184684753,
           0.24536828696727753,
           0.2955182194709778,
           0.2782493233680725,
           0.27584487199783325,
           0.28645551204681396,
           0.30090799927711487
          ],
          [
           0.26902666687965393,
           0.2730874717235565,
           0.28106021881103516,
           0.28954651951789856,
           0.2932535409927368,
           0.3626592457294464,
           0.2983194589614868,
           0.25070813298225403,
           0.24055269360542297,
           0.2783970832824707,
           0.253183513879776,
           0.2887437641620636
          ],
          [
           0.2829429507255554,
           0.2709009647369385,
           0.27789172530174255,
           0.31818172335624695,
           0.2919335961341858,
           0.24750985205173492,
           0.29975301027297974,
           0.31017735600471497,
           0.34414368867874146,
           0.2989971339702606,
           0.273509681224823,
           0.29665499925613403
          ],
          [
           0.28248274326324463,
           0.34544801712036133,
           0.2909414768218994,
           0.2885130047798157,
           0.2778569757938385,
           0.2957666218280792,
           0.29367595911026,
           0.3251776099205017,
           0.28354644775390625,
           0.27806559205055237,
           0.32588133215904236,
           0.32743754982948303
          ],
          [
           0.24834993481636047,
           0.34369176626205444,
           0.2992175817489624,
           0.2888975739479065,
           0.35225072503089905,
           0.27866530418395996,
           0.3274933695793152,
           0.33368462324142456,
           0.25185108184814453,
           0.357126921415329,
           0.3132355511188507,
           0.27339887619018555
          ],
          [
           0.2783951461315155,
           0.40334925055503845,
           0.33682286739349365,
           0.30424055457115173,
           0.28209933638572693,
           0.32261866331100464,
           0.34811848402023315,
           0.2778584659099579,
           0.357088565826416,
           0.2644728720188141,
           0.2980480194091797,
           0.29629552364349365
          ],
          [
           0.2626887261867523,
           0.3093452453613281,
           0.333317369222641,
           0.2947247624397278,
           0.3395107388496399,
           0.3332529664039612,
           0.3905532956123352,
           0.3312356173992157,
           0.3895359933376312,
           0.37506669759750366,
           0.3991558849811554,
           0.3008003830909729
          ],
          [
           0.2906043231487274,
           0.20985396206378937,
           0.4536662995815277,
           0.4213925898075104,
           0.3009989857673645,
           0.41079962253570557,
           0.35939130187034607,
           0.34503453969955444,
           0.3183097243309021,
           0.34923139214515686,
           0.305372416973114,
           0.2882896959781647
          ],
          [
           0.3483959138393402,
           0.34333768486976624,
           0.25239098072052,
           0.23518909513950348,
           0.4644741117954254,
           0.2580167353153229,
           0.20137187838554382,
           0.3799733519554138,
           0.21027368307113647,
           0.3973454535007477,
           0.22744856774806976,
           0.34618818759918213
          ],
          [
           0.27869635820388794,
           0.24964173138141632,
           0.22874298691749573,
           0.43284547328948975,
           0.2129487544298172,
           0.21506023406982422,
           0.24083077907562256,
           0.19018708169460297,
           0.2572276294231415,
           0.4090862572193146,
           0.40484166145324707,
           0.2734103202819824
          ]
         ]
        }
       ],
       "layout": {
        "coloraxis": {
         "cmid": 0,
         "colorscale": [
          [
           0,
           "rgb(103,0,31)"
          ],
          [
           0.1,
           "rgb(178,24,43)"
          ],
          [
           0.2,
           "rgb(214,96,77)"
          ],
          [
           0.3,
           "rgb(244,165,130)"
          ],
          [
           0.4,
           "rgb(253,219,199)"
          ],
          [
           0.5,
           "rgb(247,247,247)"
          ],
          [
           0.6,
           "rgb(209,229,240)"
          ],
          [
           0.7,
           "rgb(146,197,222)"
          ],
          [
           0.8,
           "rgb(67,147,195)"
          ],
          [
           0.9,
           "rgb(33,102,172)"
          ],
          [
           1,
           "rgb(5,48,97)"
          ]
         ]
        },
        "template": {
         "data": {
          "bar": [
           {
            "error_x": {
             "color": "#2a3f5f"
            },
            "error_y": {
             "color": "#2a3f5f"
            },
            "marker": {
             "line": {
              "color": "#E5ECF6",
              "width": 0.5
             },
             "pattern": {
              "fillmode": "overlay",
              "size": 10,
              "solidity": 0.2
             }
            },
            "type": "bar"
           }
          ],
          "barpolar": [
           {
            "marker": {
             "line": {
              "color": "#E5ECF6",
              "width": 0.5
             },
             "pattern": {
              "fillmode": "overlay",
              "size": 10,
              "solidity": 0.2
             }
            },
            "type": "barpolar"
           }
          ],
          "carpet": [
           {
            "aaxis": {
             "endlinecolor": "#2a3f5f",
             "gridcolor": "white",
             "linecolor": "white",
             "minorgridcolor": "white",
             "startlinecolor": "#2a3f5f"
            },
            "baxis": {
             "endlinecolor": "#2a3f5f",
             "gridcolor": "white",
             "linecolor": "white",
             "minorgridcolor": "white",
             "startlinecolor": "#2a3f5f"
            },
            "type": "carpet"
           }
          ],
          "choropleth": [
           {
            "colorbar": {
             "outlinewidth": 0,
             "ticks": ""
            },
            "type": "choropleth"
           }
          ],
          "contour": [
           {
            "colorbar": {
             "outlinewidth": 0,
             "ticks": ""
            },
            "colorscale": [
             [
              0,
              "#0d0887"
             ],
             [
              0.1111111111111111,
              "#46039f"
             ],
             [
              0.2222222222222222,
              "#7201a8"
             ],
             [
              0.3333333333333333,
              "#9c179e"
             ],
             [
              0.4444444444444444,
              "#bd3786"
             ],
             [
              0.5555555555555556,
              "#d8576b"
             ],
             [
              0.6666666666666666,
              "#ed7953"
             ],
             [
              0.7777777777777778,
              "#fb9f3a"
             ],
             [
              0.8888888888888888,
              "#fdca26"
             ],
             [
              1,
              "#f0f921"
             ]
            ],
            "type": "contour"
           }
          ],
          "contourcarpet": [
           {
            "colorbar": {
             "outlinewidth": 0,
             "ticks": ""
            },
            "type": "contourcarpet"
           }
          ],
          "heatmap": [
           {
            "colorbar": {
             "outlinewidth": 0,
             "ticks": ""
            },
            "colorscale": [
             [
              0,
              "#0d0887"
             ],
             [
              0.1111111111111111,
              "#46039f"
             ],
             [
              0.2222222222222222,
              "#7201a8"
             ],
             [
              0.3333333333333333,
              "#9c179e"
             ],
             [
              0.4444444444444444,
              "#bd3786"
             ],
             [
              0.5555555555555556,
              "#d8576b"
             ],
             [
              0.6666666666666666,
              "#ed7953"
             ],
             [
              0.7777777777777778,
              "#fb9f3a"
             ],
             [
              0.8888888888888888,
              "#fdca26"
             ],
             [
              1,
              "#f0f921"
             ]
            ],
            "type": "heatmap"
           }
          ],
          "heatmapgl": [
           {
            "colorbar": {
             "outlinewidth": 0,
             "ticks": ""
            },
            "colorscale": [
             [
              0,
              "#0d0887"
             ],
             [
              0.1111111111111111,
              "#46039f"
             ],
             [
              0.2222222222222222,
              "#7201a8"
             ],
             [
              0.3333333333333333,
              "#9c179e"
             ],
             [
              0.4444444444444444,
              "#bd3786"
             ],
             [
              0.5555555555555556,
              "#d8576b"
             ],
             [
              0.6666666666666666,
              "#ed7953"
             ],
             [
              0.7777777777777778,
              "#fb9f3a"
             ],
             [
              0.8888888888888888,
              "#fdca26"
             ],
             [
              1,
              "#f0f921"
             ]
            ],
            "type": "heatmapgl"
           }
          ],
          "histogram": [
           {
            "marker": {
             "pattern": {
              "fillmode": "overlay",
              "size": 10,
              "solidity": 0.2
             }
            },
            "type": "histogram"
           }
          ],
          "histogram2d": [
           {
            "colorbar": {
             "outlinewidth": 0,
             "ticks": ""
            },
            "colorscale": [
             [
              0,
              "#0d0887"
             ],
             [
              0.1111111111111111,
              "#46039f"
             ],
             [
              0.2222222222222222,
              "#7201a8"
             ],
             [
              0.3333333333333333,
              "#9c179e"
             ],
             [
              0.4444444444444444,
              "#bd3786"
             ],
             [
              0.5555555555555556,
              "#d8576b"
             ],
             [
              0.6666666666666666,
              "#ed7953"
             ],
             [
              0.7777777777777778,
              "#fb9f3a"
             ],
             [
              0.8888888888888888,
              "#fdca26"
             ],
             [
              1,
              "#f0f921"
             ]
            ],
            "type": "histogram2d"
           }
          ],
          "histogram2dcontour": [
           {
            "colorbar": {
             "outlinewidth": 0,
             "ticks": ""
            },
            "colorscale": [
             [
              0,
              "#0d0887"
             ],
             [
              0.1111111111111111,
              "#46039f"
             ],
             [
              0.2222222222222222,
              "#7201a8"
             ],
             [
              0.3333333333333333,
              "#9c179e"
             ],
             [
              0.4444444444444444,
              "#bd3786"
             ],
             [
              0.5555555555555556,
              "#d8576b"
             ],
             [
              0.6666666666666666,
              "#ed7953"
             ],
             [
              0.7777777777777778,
              "#fb9f3a"
             ],
             [
              0.8888888888888888,
              "#fdca26"
             ],
             [
              1,
              "#f0f921"
             ]
            ],
            "type": "histogram2dcontour"
           }
          ],
          "mesh3d": [
           {
            "colorbar": {
             "outlinewidth": 0,
             "ticks": ""
            },
            "type": "mesh3d"
           }
          ],
          "parcoords": [
           {
            "line": {
             "colorbar": {
              "outlinewidth": 0,
              "ticks": ""
             }
            },
            "type": "parcoords"
           }
          ],
          "pie": [
           {
            "automargin": true,
            "type": "pie"
           }
          ],
          "scatter": [
           {
            "fillpattern": {
             "fillmode": "overlay",
             "size": 10,
             "solidity": 0.2
            },
            "type": "scatter"
           }
          ],
          "scatter3d": [
           {
            "line": {
             "colorbar": {
              "outlinewidth": 0,
              "ticks": ""
             }
            },
            "marker": {
             "colorbar": {
              "outlinewidth": 0,
              "ticks": ""
             }
            },
            "type": "scatter3d"
           }
          ],
          "scattercarpet": [
           {
            "marker": {
             "colorbar": {
              "outlinewidth": 0,
              "ticks": ""
             }
            },
            "type": "scattercarpet"
           }
          ],
          "scattergeo": [
           {
            "marker": {
             "colorbar": {
              "outlinewidth": 0,
              "ticks": ""
             }
            },
            "type": "scattergeo"
           }
          ],
          "scattergl": [
           {
            "marker": {
             "colorbar": {
              "outlinewidth": 0,
              "ticks": ""
             }
            },
            "type": "scattergl"
           }
          ],
          "scattermapbox": [
           {
            "marker": {
             "colorbar": {
              "outlinewidth": 0,
              "ticks": ""
             }
            },
            "type": "scattermapbox"
           }
          ],
          "scatterpolar": [
           {
            "marker": {
             "colorbar": {
              "outlinewidth": 0,
              "ticks": ""
             }
            },
            "type": "scatterpolar"
           }
          ],
          "scatterpolargl": [
           {
            "marker": {
             "colorbar": {
              "outlinewidth": 0,
              "ticks": ""
             }
            },
            "type": "scatterpolargl"
           }
          ],
          "scatterternary": [
           {
            "marker": {
             "colorbar": {
              "outlinewidth": 0,
              "ticks": ""
             }
            },
            "type": "scatterternary"
           }
          ],
          "surface": [
           {
            "colorbar": {
             "outlinewidth": 0,
             "ticks": ""
            },
            "colorscale": [
             [
              0,
              "#0d0887"
             ],
             [
              0.1111111111111111,
              "#46039f"
             ],
             [
              0.2222222222222222,
              "#7201a8"
             ],
             [
              0.3333333333333333,
              "#9c179e"
             ],
             [
              0.4444444444444444,
              "#bd3786"
             ],
             [
              0.5555555555555556,
              "#d8576b"
             ],
             [
              0.6666666666666666,
              "#ed7953"
             ],
             [
              0.7777777777777778,
              "#fb9f3a"
             ],
             [
              0.8888888888888888,
              "#fdca26"
             ],
             [
              1,
              "#f0f921"
             ]
            ],
            "type": "surface"
           }
          ],
          "table": [
           {
            "cells": {
             "fill": {
              "color": "#EBF0F8"
             },
             "line": {
              "color": "white"
             }
            },
            "header": {
             "fill": {
              "color": "#C8D4E3"
             },
             "line": {
              "color": "white"
             }
            },
            "type": "table"
           }
          ]
         },
         "layout": {
          "annotationdefaults": {
           "arrowcolor": "#2a3f5f",
           "arrowhead": 0,
           "arrowwidth": 1
          },
          "autotypenumbers": "strict",
          "coloraxis": {
           "colorbar": {
            "outlinewidth": 0,
            "ticks": ""
           }
          },
          "colorscale": {
           "diverging": [
            [
             0,
             "#8e0152"
            ],
            [
             0.1,
             "#c51b7d"
            ],
            [
             0.2,
             "#de77ae"
            ],
            [
             0.3,
             "#f1b6da"
            ],
            [
             0.4,
             "#fde0ef"
            ],
            [
             0.5,
             "#f7f7f7"
            ],
            [
             0.6,
             "#e6f5d0"
            ],
            [
             0.7,
             "#b8e186"
            ],
            [
             0.8,
             "#7fbc41"
            ],
            [
             0.9,
             "#4d9221"
            ],
            [
             1,
             "#276419"
            ]
           ],
           "sequential": [
            [
             0,
             "#0d0887"
            ],
            [
             0.1111111111111111,
             "#46039f"
            ],
            [
             0.2222222222222222,
             "#7201a8"
            ],
            [
             0.3333333333333333,
             "#9c179e"
            ],
            [
             0.4444444444444444,
             "#bd3786"
            ],
            [
             0.5555555555555556,
             "#d8576b"
            ],
            [
             0.6666666666666666,
             "#ed7953"
            ],
            [
             0.7777777777777778,
             "#fb9f3a"
            ],
            [
             0.8888888888888888,
             "#fdca26"
            ],
            [
             1,
             "#f0f921"
            ]
           ],
           "sequentialminus": [
            [
             0,
             "#0d0887"
            ],
            [
             0.1111111111111111,
             "#46039f"
            ],
            [
             0.2222222222222222,
             "#7201a8"
            ],
            [
             0.3333333333333333,
             "#9c179e"
            ],
            [
             0.4444444444444444,
             "#bd3786"
            ],
            [
             0.5555555555555556,
             "#d8576b"
            ],
            [
             0.6666666666666666,
             "#ed7953"
            ],
            [
             0.7777777777777778,
             "#fb9f3a"
            ],
            [
             0.8888888888888888,
             "#fdca26"
            ],
            [
             1,
             "#f0f921"
            ]
           ]
          },
          "colorway": [
           "#636efa",
           "#EF553B",
           "#00cc96",
           "#ab63fa",
           "#FFA15A",
           "#19d3f3",
           "#FF6692",
           "#B6E880",
           "#FF97FF",
           "#FECB52"
          ],
          "font": {
           "color": "#2a3f5f"
          },
          "geo": {
           "bgcolor": "white",
           "lakecolor": "white",
           "landcolor": "#E5ECF6",
           "showlakes": true,
           "showland": true,
           "subunitcolor": "white"
          },
          "hoverlabel": {
           "align": "left"
          },
          "hovermode": "closest",
          "mapbox": {
           "style": "light"
          },
          "paper_bgcolor": "white",
          "plot_bgcolor": "#E5ECF6",
          "polar": {
           "angularaxis": {
            "gridcolor": "white",
            "linecolor": "white",
            "ticks": ""
           },
           "bgcolor": "#E5ECF6",
           "radialaxis": {
            "gridcolor": "white",
            "linecolor": "white",
            "ticks": ""
           }
          },
          "scene": {
           "xaxis": {
            "backgroundcolor": "#E5ECF6",
            "gridcolor": "white",
            "gridwidth": 2,
            "linecolor": "white",
            "showbackground": true,
            "ticks": "",
            "zerolinecolor": "white"
           },
           "yaxis": {
            "backgroundcolor": "#E5ECF6",
            "gridcolor": "white",
            "gridwidth": 2,
            "linecolor": "white",
            "showbackground": true,
            "ticks": "",
            "zerolinecolor": "white"
           },
           "zaxis": {
            "backgroundcolor": "#E5ECF6",
            "gridcolor": "white",
            "gridwidth": 2,
            "linecolor": "white",
            "showbackground": true,
            "ticks": "",
            "zerolinecolor": "white"
           }
          },
          "shapedefaults": {
           "line": {
            "color": "#2a3f5f"
           }
          },
          "ternary": {
           "aaxis": {
            "gridcolor": "white",
            "linecolor": "white",
            "ticks": ""
           },
           "baxis": {
            "gridcolor": "white",
            "linecolor": "white",
            "ticks": ""
           },
           "bgcolor": "#E5ECF6",
           "caxis": {
            "gridcolor": "white",
            "linecolor": "white",
            "ticks": ""
           }
          },
          "title": {
           "x": 0.05
          },
          "xaxis": {
           "automargin": true,
           "gridcolor": "white",
           "linecolor": "white",
           "ticks": "",
           "title": {
            "standoff": 15
           },
           "zerolinecolor": "white",
           "zerolinewidth": 2
          },
          "yaxis": {
           "automargin": true,
           "gridcolor": "white",
           "linecolor": "white",
           "ticks": "",
           "title": {
            "standoff": 15
           },
           "zerolinecolor": "white",
           "zerolinewidth": 2
          }
         }
        },
        "title": {
         "text": "Which heads can write to anger direction?"
        },
        "width": 600,
        "xaxis": {
         "anchor": "y",
         "constrain": "domain",
         "domain": [
          0,
          1
         ],
         "scaleanchor": "y",
         "title": {
          "text": "Head"
         }
        },
        "yaxis": {
         "anchor": "x",
         "autorange": "reversed",
         "constrain": "domain",
         "domain": [
          0,
          1
         ],
         "title": {
          "text": "Layer"
         }
        }
       }
      }
     },
     "metadata": {},
     "output_type": "display_data"
    }
   ],
   "source": [
    "px.imshow(best_heads, color_continuous_scale=\"RdBu\", color_continuous_midpoint=0, title=\"Which heads can write to anger direction?\", labels={\"x\": \"Head\", \"y\": \"Layer\"}, width=600)"
   ]
  },
  {
   "cell_type": "code",
   "execution_count": 11,
   "metadata": {},
   "outputs": [],
   "source": [
    "def optimi_multihead(V1, O1, V2, O2, a, lr=0.1, num_iterations=1000):\n",
    "\n",
    "    # Initialize x as a trainable parameter\n",
    "    x1 = torch.randn(768, requires_grad=True, device=V1.device)\n",
    "    x2 = torch.randn(768, requires_grad=True, device=V1.device)\n",
    "\n",
    "    optimizer = torch.optim.Adam([x1, x2], lr=lr)\n",
    "    \n",
    "    for _ in range(num_iterations):\n",
    "        optimizer.zero_grad()\n",
    "        \n",
    "        # output = x @ W_V @ W_O\n",
    "        output = x1 @ V1 @ O1 + x2 @ V2 @ O2\n",
    " \n",
    "        cosine_similarity = torch.dot(output, a) / (torch.norm(output) * torch.norm(a))\n",
    "        \n",
    "        loss = -cosine_similarity\n",
    "        loss.backward()\n",
    "        optimizer.step()\n",
    "    \n",
    "    # Compute the final output and cosine similarity\n",
    "    # final_output = x.detach() @ W_V @ W_O\n",
    "    \n",
    "    final_output = x1.detach() @ V1 @ O1 + x2.detach() @ V2 @ O2\n",
    "    final_cosine_similarity = torch.dot(final_output, a) / (torch.norm(final_output) * torch.norm(a))\n",
    "    \n",
    "    return x1.detach(), x2.detach(), final_cosine_similarity.item()"
   ]
  },
  {
   "cell_type": "code",
   "execution_count": 55,
   "metadata": {},
   "outputs": [
    {
     "name": "stdout",
     "output_type": "stream",
     "text": [
      "0.5615806579589844\n"
     ]
    }
   ],
   "source": [
    "_, _, final_cosine_similarity = optimi_multihead(\n",
    "    model.blocks[0].attn.W_V[3],\n",
    "    model.blocks[0].attn.W_O[3],\n",
    "    model.blocks[0].attn.W_V[4],\n",
    "    model.blocks[0].attn.W_O[4],\n",
    "    a=steering_vec,\n",
    "    )\n",
    "\n",
    "print(final_cosine_similarity)"
   ]
  },
  {
   "cell_type": "code",
   "execution_count": 72,
   "metadata": {},
   "outputs": [
    {
     "name": "stdout",
     "output_type": "stream",
     "text": [
      "0,0 0.22273078560829163\n",
      "0,1 0.28817763924598694\n",
      "0,2 0.2762856185436249\n",
      "0,3 0.29379287362098694\n",
      "0,4 0.3154134750366211\n",
      "0,5 0.3956911563873291\n",
      "0,6 0.30405178666114807\n",
      "0,7 0.501734733581543\n",
      "0,8 0.3161868751049042\n",
      "0,9 0.3271026909351349\n",
      "0,10 0.3629953861236572\n",
      "0,11 0.41624388098716736\n",
      "1,0 0.28817763924598694\n",
      "1,1 0.19784674048423767\n",
      "1,2 0.262061208486557\n",
      "1,3 0.26851722598075867\n",
      "1,4 0.2904396653175354\n",
      "1,5 0.39487844705581665\n",
      "1,6 0.28586143255233765\n",
      "1,7 0.4942571222782135\n",
      "1,8 0.2986455261707306\n",
      "1,9 0.30927035212516785\n",
      "1,10 0.3426327705383301\n",
      "1,11 0.3954642415046692\n",
      "2,0 0.2762855887413025\n",
      "2,1 0.262061208486557\n",
      "2,2 0.18163739144802094\n",
      "2,3 0.2561342120170593\n",
      "2,4 0.30453845858573914\n",
      "2,5 0.36455485224723816\n",
      "2,6 0.2784210741519928\n",
      "2,7 0.5011885166168213\n",
      "2,8 0.287284791469574\n",
      "2,9 0.2965366840362549\n",
      "2,10 0.33260244131088257\n",
      "2,11 0.39549052715301514\n",
      "3,0 0.2937927842140198\n",
      "3,1 0.26851722598075867\n",
      "3,2 0.25613418221473694\n",
      "3,3 0.19339467585086823\n",
      "3,4 0.28586170077323914\n",
      "3,5 0.3746466338634491\n",
      "3,6 0.2784675359725952\n",
      "3,7 0.4993717074394226\n",
      "3,8 0.2882212996482849\n",
      "3,9 0.3028670847415924\n",
      "3,10 0.34407246112823486\n",
      "3,11 0.3959275186061859\n",
      "4,0 0.3154134452342987\n",
      "4,1 0.2904396653175354\n",
      "4,2 0.3045384883880615\n",
      "4,3 0.28586170077323914\n",
      "4,4 0.22631917893886566\n",
      "4,5 0.3868887424468994\n",
      "4,6 0.3080047070980072\n",
      "4,7 0.5074393153190613\n",
      "4,8 0.32985198497772217\n",
      "4,9 0.32155412435531616\n",
      "4,10 0.3594631552696228\n",
      "4,11 0.39817798137664795\n",
      "5,0 0.3956911563873291\n",
      "5,1 0.39487844705581665\n",
      "5,2 0.36455485224723816\n",
      "5,3 0.3746466636657715\n",
      "5,4 0.386888712644577\n",
      "5,5 0.32812073826789856\n",
      "5,6 0.3756800889968872\n",
      "5,7 0.5277154445648193\n",
      "5,8 0.383193701505661\n",
      "5,9 0.3885267972946167\n",
      "5,10 0.4126484990119934\n",
      "5,11 0.4434932768344879\n",
      "6,0 0.30405181646347046\n",
      "6,1 0.28586143255233765\n",
      "6,2 0.2784211039543152\n",
      "6,3 0.2784675359725952\n",
      "6,4 0.3080047070980072\n",
      "6,5 0.3756801187992096\n",
      "6,6 0.21970659494400024\n",
      "6,7 0.49551060795783997\n",
      "6,8 0.3042369782924652\n",
      "6,9 0.31237033009529114\n",
      "6,10 0.3516002893447876\n",
      "6,11 0.40138310194015503\n",
      "7,0 0.5017347931861877\n",
      "7,1 0.4942571222782135\n",
      "7,2 0.5011885762214661\n",
      "7,3 0.4993717074394226\n",
      "7,4 0.5074392557144165\n",
      "7,5 0.5277154445648193\n",
      "7,6 0.4955105483531952\n",
      "7,7 0.46108904480934143\n",
      "7,8 0.5020896196365356\n",
      "7,9 0.5091365575790405\n",
      "7,10 0.5247586965560913\n",
      "7,11 0.5193900465965271\n",
      "8,0 0.31618690490722656\n",
      "8,1 0.2986455261707306\n",
      "8,2 0.287284791469574\n",
      "8,3 0.28822124004364014\n",
      "8,4 0.3298519551753998\n",
      "8,5 0.383193701505661\n",
      "8,6 0.3042369484901428\n",
      "8,7 0.5020895600318909\n",
      "8,8 0.22497975826263428\n",
      "8,9 0.33166542649269104\n",
      "8,10 0.36350950598716736\n",
      "8,11 0.4061228036880493\n",
      "9,0 0.3271027207374573\n",
      "9,1 0.30927035212516785\n",
      "9,2 0.2965366542339325\n",
      "9,3 0.30286705493927\n",
      "9,4 0.32155412435531616\n",
      "9,5 0.3885267674922943\n",
      "9,6 0.3123703598976135\n",
      "9,7 0.5091364979743958\n",
      "9,8 0.33166542649269104\n",
      "9,9 0.23956234753131866\n",
      "9,10 0.356802374124527\n",
      "9,11 0.4031951427459717\n",
      "10,0 0.36299535632133484\n",
      "10,1 0.34263280034065247\n",
      "10,2 0.3326024115085602\n",
      "10,3 0.34407249093055725\n",
      "10,4 0.3594631850719452\n",
      "10,5 0.4126484990119934\n",
      "10,6 0.3516002595424652\n",
      "10,7 0.5247588157653809\n",
      "10,8 0.36350953578948975\n",
      "10,9 0.3568023443222046\n",
      "10,10 0.2833681106567383\n",
      "10,11 0.4230264723300934\n",
      "11,0 0.41624385118484497\n",
      "11,1 0.3954642415046692\n",
      "11,2 0.39549049735069275\n",
      "11,3 0.3959274888038635\n",
      "11,4 0.39817795157432556\n",
      "11,5 0.4434932470321655\n",
      "11,6 0.40138310194015503\n",
      "11,7 0.5193900465965271\n",
      "11,8 0.4061228036880493\n",
      "11,9 0.4031951427459717\n",
      "11,10 0.42302650213241577\n",
      "11,11 0.3491857051849365\n"
     ]
    }
   ],
   "source": [
    "# every pair of heads\n",
    "import numpy as np\n",
    "sims = np.zeros((12, 12))\n",
    "for head1 in range(12):\n",
    "    for head2 in range(12):\n",
    "        _, _, final_cosine_similarity = optimi_multihead(\n",
    "            model.blocks[5].attn.W_V[head1],\n",
    "            model.blocks[5].attn.W_O[head1],\n",
    "            model.blocks[5].attn.W_V[head2],\n",
    "            model.blocks[5].attn.W_O[head2],\n",
    "            a=steering_vec,\n",
    "            )\n",
    "        # cosines.append(final_cosine_simiarity)\n",
    "        sims[head1, head2] = final_cosine_similarity\n",
    "        print(f\"{head1},{head2} {final_cosine_similarity}\")"
   ]
  },
  {
   "cell_type": "code",
   "execution_count": 86,
   "metadata": {},
   "outputs": [
    {
     "data": {
      "application/vnd.plotly.v1+json": {
       "config": {
        "plotlyServerURL": "https://plot.ly"
       },
       "data": [
        {
         "coloraxis": "coloraxis",
         "hovertemplate": "x: %{x}<br>y: %{y}<br>color: %{z}<extra></extra>",
         "name": "0",
         "type": "heatmap",
         "xaxis": "x",
         "yaxis": "y",
         "z": [
          [
           0.22273078560829163,
           0.28817763924598694,
           0.2762856185436249,
           0.29379287362098694,
           0.3154134750366211,
           0.3956911563873291,
           0.30405178666114807,
           0.501734733581543,
           0.3161868751049042,
           0.3271026909351349,
           0.3629953861236572,
           0.41624388098716736
          ],
          [
           0.28817763924598694,
           0.19784674048423767,
           0.262061208486557,
           0.26851722598075867,
           0.2904396653175354,
           0.39487844705581665,
           0.28586143255233765,
           0.4942571222782135,
           0.2986455261707306,
           0.30927035212516785,
           0.3426327705383301,
           0.3954642415046692
          ],
          [
           0.2762855887413025,
           0.262061208486557,
           0.18163739144802094,
           0.2561342120170593,
           0.30453845858573914,
           0.36455485224723816,
           0.2784210741519928,
           0.5011885166168213,
           0.287284791469574,
           0.2965366840362549,
           0.33260244131088257,
           0.39549052715301514
          ],
          [
           0.2937927842140198,
           0.26851722598075867,
           0.25613418221473694,
           0.19339467585086823,
           0.28586170077323914,
           0.3746466338634491,
           0.2784675359725952,
           0.4993717074394226,
           0.2882212996482849,
           0.3028670847415924,
           0.34407246112823486,
           0.3959275186061859
          ],
          [
           0.3154134452342987,
           0.2904396653175354,
           0.3045384883880615,
           0.28586170077323914,
           0.22631917893886566,
           0.3868887424468994,
           0.3080047070980072,
           0.5074393153190613,
           0.32985198497772217,
           0.32155412435531616,
           0.3594631552696228,
           0.39817798137664795
          ],
          [
           0.3956911563873291,
           0.39487844705581665,
           0.36455485224723816,
           0.3746466636657715,
           0.386888712644577,
           0.32812073826789856,
           0.3756800889968872,
           0.5277154445648193,
           0.383193701505661,
           0.3885267972946167,
           0.4126484990119934,
           0.4434932768344879
          ],
          [
           0.30405181646347046,
           0.28586143255233765,
           0.2784211039543152,
           0.2784675359725952,
           0.3080047070980072,
           0.3756801187992096,
           0.21970659494400024,
           0.49551060795783997,
           0.3042369782924652,
           0.31237033009529114,
           0.3516002893447876,
           0.40138310194015503
          ],
          [
           0.5017347931861877,
           0.4942571222782135,
           0.5011885762214661,
           0.4993717074394226,
           0.5074392557144165,
           0.5277154445648193,
           0.4955105483531952,
           0.46108904480934143,
           0.5020896196365356,
           0.5091365575790405,
           0.5247586965560913,
           0.5193900465965271
          ],
          [
           0.31618690490722656,
           0.2986455261707306,
           0.287284791469574,
           0.28822124004364014,
           0.3298519551753998,
           0.383193701505661,
           0.3042369484901428,
           0.5020895600318909,
           0.22497975826263428,
           0.33166542649269104,
           0.36350950598716736,
           0.4061228036880493
          ],
          [
           0.3271027207374573,
           0.30927035212516785,
           0.2965366542339325,
           0.30286705493927,
           0.32155412435531616,
           0.3885267674922943,
           0.3123703598976135,
           0.5091364979743958,
           0.33166542649269104,
           0.23956234753131866,
           0.356802374124527,
           0.4031951427459717
          ],
          [
           0.36299535632133484,
           0.34263280034065247,
           0.3326024115085602,
           0.34407249093055725,
           0.3594631850719452,
           0.4126484990119934,
           0.3516002595424652,
           0.5247588157653809,
           0.36350953578948975,
           0.3568023443222046,
           0.2833681106567383,
           0.4230264723300934
          ],
          [
           0.41624385118484497,
           0.3954642415046692,
           0.39549049735069275,
           0.3959274888038635,
           0.39817795157432556,
           0.4434932470321655,
           0.40138310194015503,
           0.5193900465965271,
           0.4061228036880493,
           0.4031951427459717,
           0.42302650213241577,
           0.3491857051849365
          ]
         ]
        }
       ],
       "layout": {
        "coloraxis": {
         "cmid": 0,
         "colorscale": [
          [
           0,
           "rgb(103,0,31)"
          ],
          [
           0.1,
           "rgb(178,24,43)"
          ],
          [
           0.2,
           "rgb(214,96,77)"
          ],
          [
           0.3,
           "rgb(244,165,130)"
          ],
          [
           0.4,
           "rgb(253,219,199)"
          ],
          [
           0.5,
           "rgb(247,247,247)"
          ],
          [
           0.6,
           "rgb(209,229,240)"
          ],
          [
           0.7,
           "rgb(146,197,222)"
          ],
          [
           0.8,
           "rgb(67,147,195)"
          ],
          [
           0.9,
           "rgb(33,102,172)"
          ],
          [
           1,
           "rgb(5,48,97)"
          ]
         ]
        },
        "margin": {
         "t": 60
        },
        "template": {
         "data": {
          "bar": [
           {
            "error_x": {
             "color": "#2a3f5f"
            },
            "error_y": {
             "color": "#2a3f5f"
            },
            "marker": {
             "line": {
              "color": "#E5ECF6",
              "width": 0.5
             },
             "pattern": {
              "fillmode": "overlay",
              "size": 10,
              "solidity": 0.2
             }
            },
            "type": "bar"
           }
          ],
          "barpolar": [
           {
            "marker": {
             "line": {
              "color": "#E5ECF6",
              "width": 0.5
             },
             "pattern": {
              "fillmode": "overlay",
              "size": 10,
              "solidity": 0.2
             }
            },
            "type": "barpolar"
           }
          ],
          "carpet": [
           {
            "aaxis": {
             "endlinecolor": "#2a3f5f",
             "gridcolor": "white",
             "linecolor": "white",
             "minorgridcolor": "white",
             "startlinecolor": "#2a3f5f"
            },
            "baxis": {
             "endlinecolor": "#2a3f5f",
             "gridcolor": "white",
             "linecolor": "white",
             "minorgridcolor": "white",
             "startlinecolor": "#2a3f5f"
            },
            "type": "carpet"
           }
          ],
          "choropleth": [
           {
            "colorbar": {
             "outlinewidth": 0,
             "ticks": ""
            },
            "type": "choropleth"
           }
          ],
          "contour": [
           {
            "colorbar": {
             "outlinewidth": 0,
             "ticks": ""
            },
            "colorscale": [
             [
              0,
              "#0d0887"
             ],
             [
              0.1111111111111111,
              "#46039f"
             ],
             [
              0.2222222222222222,
              "#7201a8"
             ],
             [
              0.3333333333333333,
              "#9c179e"
             ],
             [
              0.4444444444444444,
              "#bd3786"
             ],
             [
              0.5555555555555556,
              "#d8576b"
             ],
             [
              0.6666666666666666,
              "#ed7953"
             ],
             [
              0.7777777777777778,
              "#fb9f3a"
             ],
             [
              0.8888888888888888,
              "#fdca26"
             ],
             [
              1,
              "#f0f921"
             ]
            ],
            "type": "contour"
           }
          ],
          "contourcarpet": [
           {
            "colorbar": {
             "outlinewidth": 0,
             "ticks": ""
            },
            "type": "contourcarpet"
           }
          ],
          "heatmap": [
           {
            "colorbar": {
             "outlinewidth": 0,
             "ticks": ""
            },
            "colorscale": [
             [
              0,
              "#0d0887"
             ],
             [
              0.1111111111111111,
              "#46039f"
             ],
             [
              0.2222222222222222,
              "#7201a8"
             ],
             [
              0.3333333333333333,
              "#9c179e"
             ],
             [
              0.4444444444444444,
              "#bd3786"
             ],
             [
              0.5555555555555556,
              "#d8576b"
             ],
             [
              0.6666666666666666,
              "#ed7953"
             ],
             [
              0.7777777777777778,
              "#fb9f3a"
             ],
             [
              0.8888888888888888,
              "#fdca26"
             ],
             [
              1,
              "#f0f921"
             ]
            ],
            "type": "heatmap"
           }
          ],
          "heatmapgl": [
           {
            "colorbar": {
             "outlinewidth": 0,
             "ticks": ""
            },
            "colorscale": [
             [
              0,
              "#0d0887"
             ],
             [
              0.1111111111111111,
              "#46039f"
             ],
             [
              0.2222222222222222,
              "#7201a8"
             ],
             [
              0.3333333333333333,
              "#9c179e"
             ],
             [
              0.4444444444444444,
              "#bd3786"
             ],
             [
              0.5555555555555556,
              "#d8576b"
             ],
             [
              0.6666666666666666,
              "#ed7953"
             ],
             [
              0.7777777777777778,
              "#fb9f3a"
             ],
             [
              0.8888888888888888,
              "#fdca26"
             ],
             [
              1,
              "#f0f921"
             ]
            ],
            "type": "heatmapgl"
           }
          ],
          "histogram": [
           {
            "marker": {
             "pattern": {
              "fillmode": "overlay",
              "size": 10,
              "solidity": 0.2
             }
            },
            "type": "histogram"
           }
          ],
          "histogram2d": [
           {
            "colorbar": {
             "outlinewidth": 0,
             "ticks": ""
            },
            "colorscale": [
             [
              0,
              "#0d0887"
             ],
             [
              0.1111111111111111,
              "#46039f"
             ],
             [
              0.2222222222222222,
              "#7201a8"
             ],
             [
              0.3333333333333333,
              "#9c179e"
             ],
             [
              0.4444444444444444,
              "#bd3786"
             ],
             [
              0.5555555555555556,
              "#d8576b"
             ],
             [
              0.6666666666666666,
              "#ed7953"
             ],
             [
              0.7777777777777778,
              "#fb9f3a"
             ],
             [
              0.8888888888888888,
              "#fdca26"
             ],
             [
              1,
              "#f0f921"
             ]
            ],
            "type": "histogram2d"
           }
          ],
          "histogram2dcontour": [
           {
            "colorbar": {
             "outlinewidth": 0,
             "ticks": ""
            },
            "colorscale": [
             [
              0,
              "#0d0887"
             ],
             [
              0.1111111111111111,
              "#46039f"
             ],
             [
              0.2222222222222222,
              "#7201a8"
             ],
             [
              0.3333333333333333,
              "#9c179e"
             ],
             [
              0.4444444444444444,
              "#bd3786"
             ],
             [
              0.5555555555555556,
              "#d8576b"
             ],
             [
              0.6666666666666666,
              "#ed7953"
             ],
             [
              0.7777777777777778,
              "#fb9f3a"
             ],
             [
              0.8888888888888888,
              "#fdca26"
             ],
             [
              1,
              "#f0f921"
             ]
            ],
            "type": "histogram2dcontour"
           }
          ],
          "mesh3d": [
           {
            "colorbar": {
             "outlinewidth": 0,
             "ticks": ""
            },
            "type": "mesh3d"
           }
          ],
          "parcoords": [
           {
            "line": {
             "colorbar": {
              "outlinewidth": 0,
              "ticks": ""
             }
            },
            "type": "parcoords"
           }
          ],
          "pie": [
           {
            "automargin": true,
            "type": "pie"
           }
          ],
          "scatter": [
           {
            "fillpattern": {
             "fillmode": "overlay",
             "size": 10,
             "solidity": 0.2
            },
            "type": "scatter"
           }
          ],
          "scatter3d": [
           {
            "line": {
             "colorbar": {
              "outlinewidth": 0,
              "ticks": ""
             }
            },
            "marker": {
             "colorbar": {
              "outlinewidth": 0,
              "ticks": ""
             }
            },
            "type": "scatter3d"
           }
          ],
          "scattercarpet": [
           {
            "marker": {
             "colorbar": {
              "outlinewidth": 0,
              "ticks": ""
             }
            },
            "type": "scattercarpet"
           }
          ],
          "scattergeo": [
           {
            "marker": {
             "colorbar": {
              "outlinewidth": 0,
              "ticks": ""
             }
            },
            "type": "scattergeo"
           }
          ],
          "scattergl": [
           {
            "marker": {
             "colorbar": {
              "outlinewidth": 0,
              "ticks": ""
             }
            },
            "type": "scattergl"
           }
          ],
          "scattermapbox": [
           {
            "marker": {
             "colorbar": {
              "outlinewidth": 0,
              "ticks": ""
             }
            },
            "type": "scattermapbox"
           }
          ],
          "scatterpolar": [
           {
            "marker": {
             "colorbar": {
              "outlinewidth": 0,
              "ticks": ""
             }
            },
            "type": "scatterpolar"
           }
          ],
          "scatterpolargl": [
           {
            "marker": {
             "colorbar": {
              "outlinewidth": 0,
              "ticks": ""
             }
            },
            "type": "scatterpolargl"
           }
          ],
          "scatterternary": [
           {
            "marker": {
             "colorbar": {
              "outlinewidth": 0,
              "ticks": ""
             }
            },
            "type": "scatterternary"
           }
          ],
          "surface": [
           {
            "colorbar": {
             "outlinewidth": 0,
             "ticks": ""
            },
            "colorscale": [
             [
              0,
              "#0d0887"
             ],
             [
              0.1111111111111111,
              "#46039f"
             ],
             [
              0.2222222222222222,
              "#7201a8"
             ],
             [
              0.3333333333333333,
              "#9c179e"
             ],
             [
              0.4444444444444444,
              "#bd3786"
             ],
             [
              0.5555555555555556,
              "#d8576b"
             ],
             [
              0.6666666666666666,
              "#ed7953"
             ],
             [
              0.7777777777777778,
              "#fb9f3a"
             ],
             [
              0.8888888888888888,
              "#fdca26"
             ],
             [
              1,
              "#f0f921"
             ]
            ],
            "type": "surface"
           }
          ],
          "table": [
           {
            "cells": {
             "fill": {
              "color": "#EBF0F8"
             },
             "line": {
              "color": "white"
             }
            },
            "header": {
             "fill": {
              "color": "#C8D4E3"
             },
             "line": {
              "color": "white"
             }
            },
            "type": "table"
           }
          ]
         },
         "layout": {
          "annotationdefaults": {
           "arrowcolor": "#2a3f5f",
           "arrowhead": 0,
           "arrowwidth": 1
          },
          "autotypenumbers": "strict",
          "coloraxis": {
           "colorbar": {
            "outlinewidth": 0,
            "ticks": ""
           }
          },
          "colorscale": {
           "diverging": [
            [
             0,
             "#8e0152"
            ],
            [
             0.1,
             "#c51b7d"
            ],
            [
             0.2,
             "#de77ae"
            ],
            [
             0.3,
             "#f1b6da"
            ],
            [
             0.4,
             "#fde0ef"
            ],
            [
             0.5,
             "#f7f7f7"
            ],
            [
             0.6,
             "#e6f5d0"
            ],
            [
             0.7,
             "#b8e186"
            ],
            [
             0.8,
             "#7fbc41"
            ],
            [
             0.9,
             "#4d9221"
            ],
            [
             1,
             "#276419"
            ]
           ],
           "sequential": [
            [
             0,
             "#0d0887"
            ],
            [
             0.1111111111111111,
             "#46039f"
            ],
            [
             0.2222222222222222,
             "#7201a8"
            ],
            [
             0.3333333333333333,
             "#9c179e"
            ],
            [
             0.4444444444444444,
             "#bd3786"
            ],
            [
             0.5555555555555556,
             "#d8576b"
            ],
            [
             0.6666666666666666,
             "#ed7953"
            ],
            [
             0.7777777777777778,
             "#fb9f3a"
            ],
            [
             0.8888888888888888,
             "#fdca26"
            ],
            [
             1,
             "#f0f921"
            ]
           ],
           "sequentialminus": [
            [
             0,
             "#0d0887"
            ],
            [
             0.1111111111111111,
             "#46039f"
            ],
            [
             0.2222222222222222,
             "#7201a8"
            ],
            [
             0.3333333333333333,
             "#9c179e"
            ],
            [
             0.4444444444444444,
             "#bd3786"
            ],
            [
             0.5555555555555556,
             "#d8576b"
            ],
            [
             0.6666666666666666,
             "#ed7953"
            ],
            [
             0.7777777777777778,
             "#fb9f3a"
            ],
            [
             0.8888888888888888,
             "#fdca26"
            ],
            [
             1,
             "#f0f921"
            ]
           ]
          },
          "colorway": [
           "#636efa",
           "#EF553B",
           "#00cc96",
           "#ab63fa",
           "#FFA15A",
           "#19d3f3",
           "#FF6692",
           "#B6E880",
           "#FF97FF",
           "#FECB52"
          ],
          "font": {
           "color": "#2a3f5f"
          },
          "geo": {
           "bgcolor": "white",
           "lakecolor": "white",
           "landcolor": "#E5ECF6",
           "showlakes": true,
           "showland": true,
           "subunitcolor": "white"
          },
          "hoverlabel": {
           "align": "left"
          },
          "hovermode": "closest",
          "mapbox": {
           "style": "light"
          },
          "paper_bgcolor": "white",
          "plot_bgcolor": "#E5ECF6",
          "polar": {
           "angularaxis": {
            "gridcolor": "white",
            "linecolor": "white",
            "ticks": ""
           },
           "bgcolor": "#E5ECF6",
           "radialaxis": {
            "gridcolor": "white",
            "linecolor": "white",
            "ticks": ""
           }
          },
          "scene": {
           "xaxis": {
            "backgroundcolor": "#E5ECF6",
            "gridcolor": "white",
            "gridwidth": 2,
            "linecolor": "white",
            "showbackground": true,
            "ticks": "",
            "zerolinecolor": "white"
           },
           "yaxis": {
            "backgroundcolor": "#E5ECF6",
            "gridcolor": "white",
            "gridwidth": 2,
            "linecolor": "white",
            "showbackground": true,
            "ticks": "",
            "zerolinecolor": "white"
           },
           "zaxis": {
            "backgroundcolor": "#E5ECF6",
            "gridcolor": "white",
            "gridwidth": 2,
            "linecolor": "white",
            "showbackground": true,
            "ticks": "",
            "zerolinecolor": "white"
           }
          },
          "shapedefaults": {
           "line": {
            "color": "#2a3f5f"
           }
          },
          "ternary": {
           "aaxis": {
            "gridcolor": "white",
            "linecolor": "white",
            "ticks": ""
           },
           "baxis": {
            "gridcolor": "white",
            "linecolor": "white",
            "ticks": ""
           },
           "bgcolor": "#E5ECF6",
           "caxis": {
            "gridcolor": "white",
            "linecolor": "white",
            "ticks": ""
           }
          },
          "title": {
           "x": 0.05
          },
          "xaxis": {
           "automargin": true,
           "gridcolor": "white",
           "linecolor": "white",
           "ticks": "",
           "title": {
            "standoff": 15
           },
           "zerolinecolor": "white",
           "zerolinewidth": 2
          },
          "yaxis": {
           "automargin": true,
           "gridcolor": "white",
           "linecolor": "white",
           "ticks": "",
           "title": {
            "standoff": 15
           },
           "zerolinecolor": "white",
           "zerolinewidth": 2
          }
         }
        },
        "width": 600,
        "xaxis": {
         "anchor": "y",
         "constrain": "domain",
         "domain": [
          0,
          1
         ],
         "scaleanchor": "y"
        },
        "yaxis": {
         "anchor": "x",
         "autorange": "reversed",
         "constrain": "domain",
         "domain": [
          0,
          1
         ]
        }
       }
      }
     },
     "metadata": {},
     "output_type": "display_data"
    }
   ],
   "source": [
    "px.imshow(sims, color_continuous_scale=\"RdBu\", color_continuous_midpoint=0, width=600)\n",
    "# best is combining heads 8 and 10, or heads 8 and 1. -- around 0.46 cosine similarity."
   ]
  },
  {
   "cell_type": "code",
   "execution_count": 111,
   "metadata": {},
   "outputs": [
    {
     "name": "stdout",
     "output_type": "stream",
     "text": [
      "0.4644741117954254\n",
      "tensor(0.4645)\n"
     ]
    }
   ],
   "source": [
    "# # best head combo seems to be 1 and 9.\n",
    "# x1, x2, final_sim = optimi_multihead(\n",
    "#             model.blocks[5].attn.W_V[5],\n",
    "#             model.blocks[5].attn.W_O[5],\n",
    "#             model.blocks[5].attn.W_V[7],\n",
    "#             model.blocks[5].attn.W_O[7],\n",
    "#             a=steering_vec,\n",
    "#             )\n",
    "# similar_steering = x1 @ model.blocks[5].attn.W_V[5] @ model.blocks[5].attn.W_O[5] + x2 @ model.blocks[5].attn.W_V[7] @ model.blocks[5].attn.W_O[7]\n",
    "\n",
    "# layer 10 head 4 looks good\n",
    "x, final_sim = optimize_cosine_similarity(\n",
    "    model.blocks[10].attn.W_V[4],\n",
    "    model.blocks[10].attn.W_O[4],\n",
    "    a=steering_vec,\n",
    ")\n",
    "print(final_sim)\n",
    "similar_steering = x @ model.blocks[10].attn.W_V[4] @ model.blocks[10].attn.W_O[4]\n",
    "\n",
    "# normalise to be same length as steering_vec\n",
    "similar_steering = (similar_steering / torch.norm(similar_steering)) * torch.norm(steering_vec)\n",
    "similar_steering = similar_steering.detach()\n",
    "print(torch.dot(similar_steering, steering_vec) / (torch.norm(similar_steering) * torch.norm(steering_vec)))\n"
   ]
  },
  {
   "cell_type": "code",
   "execution_count": 112,
   "metadata": {},
   "outputs": [
    {
     "name": "stdout",
     "output_type": "stream",
     "text": [
      "tensor(1.)\n",
      "tensor(1.)\n"
     ]
    }
   ],
   "source": [
    "print(torch.norm(similar_steering))\n",
    "print(torch.norm(steering_vec))"
   ]
  },
  {
   "cell_type": "code",
   "execution_count": 29,
   "metadata": {},
   "outputs": [
    {
     "name": "stdout",
     "output_type": "stream",
     "text": [
      "['<|endoftext|>', 'I', ' think', ' that', ' bananas']\n"
     ]
    }
   ],
   "source": [
    "print(model.to_str_tokens(\"I think that bananas\"))"
   ]
  },
  {
   "cell_type": "code",
   "execution_count": 120,
   "metadata": {},
   "outputs": [
    {
     "name": "stdout",
     "output_type": "stream",
     "text": [
      "============\n",
      "I think that hate is still prevalent in religions,  or at least treated as such often. I think this has been too much for many when countries that have the\n",
      "============\n"
     ]
    },
    {
     "ename": "KeyboardInterrupt",
     "evalue": "",
     "output_type": "error",
     "traceback": [
      "\u001b[0;31m---------------------------------------------------------------------------\u001b[0m",
      "\u001b[0;31mKeyboardInterrupt\u001b[0m                         Traceback (most recent call last)",
      "Cell \u001b[0;32mIn[120], line 16\u001b[0m\n\u001b[1;32m     14\u001b[0m \u001b[38;5;28;01mfor\u001b[39;00m i \u001b[38;5;129;01min\u001b[39;00m \u001b[38;5;28mrange\u001b[39m(n_samples):\n\u001b[1;32m     15\u001b[0m     \u001b[38;5;28mprint\u001b[39m(\u001b[38;5;124m\"\u001b[39m\u001b[38;5;124m============\u001b[39m\u001b[38;5;124m\"\u001b[39m)\n\u001b[0;32m---> 16\u001b[0m     output \u001b[38;5;241m=\u001b[39m \u001b[43mmodel\u001b[49m\u001b[38;5;241;43m.\u001b[39;49m\u001b[43mgenerate\u001b[49m\u001b[43m(\u001b[49m\u001b[43mtext\u001b[49m\u001b[43m,\u001b[49m\u001b[43m \u001b[49m\u001b[43mprepend_bos\u001b[49m\u001b[38;5;241;43m=\u001b[39;49m\u001b[38;5;28;43;01mTrue\u001b[39;49;00m\u001b[43m,\u001b[49m\u001b[43m \u001b[49m\u001b[43muse_past_kv_cache\u001b[49m\u001b[38;5;241;43m=\u001b[39;49m\u001b[38;5;28;43;01mFalse\u001b[39;49;00m\u001b[43m,\u001b[49m\u001b[43m \u001b[49m\u001b[43mmax_new_tokens\u001b[49m\u001b[38;5;241;43m=\u001b[39;49m\u001b[38;5;241;43m30\u001b[39;49m\u001b[43m,\u001b[49m\u001b[43m \u001b[49m\u001b[43mverbose\u001b[49m\u001b[38;5;241;43m=\u001b[39;49m\u001b[38;5;28;43;01mFalse\u001b[39;49;00m\u001b[43m)\u001b[49m\n\u001b[1;32m     17\u001b[0m     gen_texts\u001b[38;5;241m.\u001b[39mappend(output)\n\u001b[1;32m     18\u001b[0m     \u001b[38;5;28mprint\u001b[39m(output)\n",
      "File \u001b[0;32m~/safety/steering/.venv/lib/python3.10/site-packages/torch/utils/_contextlib.py:115\u001b[0m, in \u001b[0;36mcontext_decorator.<locals>.decorate_context\u001b[0;34m(*args, **kwargs)\u001b[0m\n\u001b[1;32m    112\u001b[0m \u001b[38;5;129m@functools\u001b[39m\u001b[38;5;241m.\u001b[39mwraps(func)\n\u001b[1;32m    113\u001b[0m \u001b[38;5;28;01mdef\u001b[39;00m \u001b[38;5;21mdecorate_context\u001b[39m(\u001b[38;5;241m*\u001b[39margs, \u001b[38;5;241m*\u001b[39m\u001b[38;5;241m*\u001b[39mkwargs):\n\u001b[1;32m    114\u001b[0m     \u001b[38;5;28;01mwith\u001b[39;00m ctx_factory():\n\u001b[0;32m--> 115\u001b[0m         \u001b[38;5;28;01mreturn\u001b[39;00m \u001b[43mfunc\u001b[49m\u001b[43m(\u001b[49m\u001b[38;5;241;43m*\u001b[39;49m\u001b[43margs\u001b[49m\u001b[43m,\u001b[49m\u001b[43m \u001b[49m\u001b[38;5;241;43m*\u001b[39;49m\u001b[38;5;241;43m*\u001b[39;49m\u001b[43mkwargs\u001b[49m\u001b[43m)\u001b[49m\n",
      "File \u001b[0;32m~/safety/steering/.venv/lib/python3.10/site-packages/transformer_lens/HookedTransformer.py:2114\u001b[0m, in \u001b[0;36mHookedTransformer.generate\u001b[0;34m(self, input, max_new_tokens, stop_at_eos, eos_token_id, do_sample, top_k, top_p, temperature, freq_penalty, use_past_kv_cache, prepend_bos, padding_side, return_type, verbose)\u001b[0m\n\u001b[1;32m   2104\u001b[0m         logits \u001b[38;5;241m=\u001b[39m \u001b[38;5;28mself\u001b[39m\u001b[38;5;241m.\u001b[39mforward(\n\u001b[1;32m   2105\u001b[0m             tokens,\n\u001b[1;32m   2106\u001b[0m             return_type\u001b[38;5;241m=\u001b[39m\u001b[38;5;124m\"\u001b[39m\u001b[38;5;124mlogits\u001b[39m\u001b[38;5;124m\"\u001b[39m,\n\u001b[0;32m   (...)\u001b[0m\n\u001b[1;32m   2109\u001b[0m             past_kv_cache\u001b[38;5;241m=\u001b[39mpast_kv_cache,\n\u001b[1;32m   2110\u001b[0m         )\n\u001b[1;32m   2111\u001b[0m \u001b[38;5;28;01melse\u001b[39;00m:\n\u001b[1;32m   2112\u001b[0m     \u001b[38;5;66;03m# We input the entire sequence, as a [batch, pos] tensor, since we aren't using\u001b[39;00m\n\u001b[1;32m   2113\u001b[0m     \u001b[38;5;66;03m# the cache.\u001b[39;00m\n\u001b[0;32m-> 2114\u001b[0m     logits \u001b[38;5;241m=\u001b[39m \u001b[38;5;28;43mself\u001b[39;49m\u001b[38;5;241;43m.\u001b[39;49m\u001b[43mforward\u001b[49m\u001b[43m(\u001b[49m\n\u001b[1;32m   2115\u001b[0m \u001b[43m        \u001b[49m\u001b[43mtokens\u001b[49m\u001b[43m,\u001b[49m\n\u001b[1;32m   2116\u001b[0m \u001b[43m        \u001b[49m\u001b[43mreturn_type\u001b[49m\u001b[38;5;241;43m=\u001b[39;49m\u001b[38;5;124;43m\"\u001b[39;49m\u001b[38;5;124;43mlogits\u001b[39;49m\u001b[38;5;124;43m\"\u001b[39;49m\u001b[43m,\u001b[49m\n\u001b[1;32m   2117\u001b[0m \u001b[43m        \u001b[49m\u001b[43mprepend_bos\u001b[49m\u001b[38;5;241;43m=\u001b[39;49m\u001b[43mprepend_bos\u001b[49m\u001b[43m,\u001b[49m\n\u001b[1;32m   2118\u001b[0m \u001b[43m        \u001b[49m\u001b[43mpadding_side\u001b[49m\u001b[38;5;241;43m=\u001b[39;49m\u001b[43mpadding_side\u001b[49m\u001b[43m,\u001b[49m\n\u001b[1;32m   2119\u001b[0m \u001b[43m    \u001b[49m\u001b[43m)\u001b[49m\n\u001b[1;32m   2120\u001b[0m final_logits \u001b[38;5;241m=\u001b[39m logits[:, \u001b[38;5;241m-\u001b[39m\u001b[38;5;241m1\u001b[39m, :]\n\u001b[1;32m   2122\u001b[0m \u001b[38;5;28;01mif\u001b[39;00m do_sample:\n",
      "File \u001b[0;32m~/safety/steering/.venv/lib/python3.10/site-packages/transformer_lens/HookedTransformer.py:550\u001b[0m, in \u001b[0;36mHookedTransformer.forward\u001b[0;34m(self, input, return_type, loss_per_token, prepend_bos, padding_side, start_at_layer, tokens, shortformer_pos_embed, attention_mask, stop_at_layer, past_kv_cache)\u001b[0m\n\u001b[1;32m    545\u001b[0m     \u001b[38;5;28;01mif\u001b[39;00m shortformer_pos_embed \u001b[38;5;129;01mis\u001b[39;00m \u001b[38;5;129;01mnot\u001b[39;00m \u001b[38;5;28;01mNone\u001b[39;00m:\n\u001b[1;32m    546\u001b[0m         shortformer_pos_embed \u001b[38;5;241m=\u001b[39m shortformer_pos_embed\u001b[38;5;241m.\u001b[39mto(\n\u001b[1;32m    547\u001b[0m             devices\u001b[38;5;241m.\u001b[39mget_device_for_block_index(i, \u001b[38;5;28mself\u001b[39m\u001b[38;5;241m.\u001b[39mcfg)\n\u001b[1;32m    548\u001b[0m         )\n\u001b[0;32m--> 550\u001b[0m     residual \u001b[38;5;241m=\u001b[39m \u001b[43mblock\u001b[49m\u001b[43m(\u001b[49m\n\u001b[1;32m    551\u001b[0m \u001b[43m        \u001b[49m\u001b[43mresidual\u001b[49m\u001b[43m,\u001b[49m\n\u001b[1;32m    552\u001b[0m \u001b[43m        \u001b[49m\u001b[38;5;66;43;03m# Cache contains a list of HookedTransformerKeyValueCache objects, one for each\u001b[39;49;00m\n\u001b[1;32m    553\u001b[0m \u001b[43m        \u001b[49m\u001b[38;5;66;43;03m# block\u001b[39;49;00m\n\u001b[1;32m    554\u001b[0m \u001b[43m        \u001b[49m\u001b[43mpast_kv_cache_entry\u001b[49m\u001b[38;5;241;43m=\u001b[39;49m\u001b[43mpast_kv_cache\u001b[49m\u001b[43m[\u001b[49m\u001b[43mi\u001b[49m\u001b[43m]\u001b[49m\u001b[43m \u001b[49m\u001b[38;5;28;43;01mif\u001b[39;49;00m\u001b[43m \u001b[49m\u001b[43mpast_kv_cache\u001b[49m\u001b[43m \u001b[49m\u001b[38;5;129;43;01mis\u001b[39;49;00m\u001b[43m \u001b[49m\u001b[38;5;129;43;01mnot\u001b[39;49;00m\u001b[43m \u001b[49m\u001b[38;5;28;43;01mNone\u001b[39;49;00m\u001b[43m \u001b[49m\u001b[38;5;28;43;01melse\u001b[39;49;00m\u001b[43m \u001b[49m\u001b[38;5;28;43;01mNone\u001b[39;49;00m\u001b[43m,\u001b[49m\n\u001b[1;32m    555\u001b[0m \u001b[43m        \u001b[49m\u001b[43mshortformer_pos_embed\u001b[49m\u001b[38;5;241;43m=\u001b[39;49m\u001b[43mshortformer_pos_embed\u001b[49m\u001b[43m,\u001b[49m\n\u001b[1;32m    556\u001b[0m \u001b[43m        \u001b[49m\u001b[43mattention_mask\u001b[49m\u001b[38;5;241;43m=\u001b[39;49m\u001b[43mattention_mask\u001b[49m\u001b[43m,\u001b[49m\n\u001b[1;32m    557\u001b[0m \u001b[43m    \u001b[49m\u001b[43m)\u001b[49m  \u001b[38;5;66;03m# [batch, pos, d_model]\u001b[39;00m\n\u001b[1;32m    559\u001b[0m \u001b[38;5;28;01mif\u001b[39;00m stop_at_layer \u001b[38;5;129;01mis\u001b[39;00m \u001b[38;5;129;01mnot\u001b[39;00m \u001b[38;5;28;01mNone\u001b[39;00m:\n\u001b[1;32m    560\u001b[0m     \u001b[38;5;66;03m# When we stop at an early layer, we end here rather than doing further computation\u001b[39;00m\n\u001b[1;32m    561\u001b[0m     \u001b[38;5;28;01mreturn\u001b[39;00m residual\n",
      "File \u001b[0;32m~/safety/steering/.venv/lib/python3.10/site-packages/torch/nn/modules/module.py:1532\u001b[0m, in \u001b[0;36mModule._wrapped_call_impl\u001b[0;34m(self, *args, **kwargs)\u001b[0m\n\u001b[1;32m   1530\u001b[0m     \u001b[38;5;28;01mreturn\u001b[39;00m \u001b[38;5;28mself\u001b[39m\u001b[38;5;241m.\u001b[39m_compiled_call_impl(\u001b[38;5;241m*\u001b[39margs, \u001b[38;5;241m*\u001b[39m\u001b[38;5;241m*\u001b[39mkwargs)  \u001b[38;5;66;03m# type: ignore[misc]\u001b[39;00m\n\u001b[1;32m   1531\u001b[0m \u001b[38;5;28;01melse\u001b[39;00m:\n\u001b[0;32m-> 1532\u001b[0m     \u001b[38;5;28;01mreturn\u001b[39;00m \u001b[38;5;28;43mself\u001b[39;49m\u001b[38;5;241;43m.\u001b[39;49m\u001b[43m_call_impl\u001b[49m\u001b[43m(\u001b[49m\u001b[38;5;241;43m*\u001b[39;49m\u001b[43margs\u001b[49m\u001b[43m,\u001b[49m\u001b[43m \u001b[49m\u001b[38;5;241;43m*\u001b[39;49m\u001b[38;5;241;43m*\u001b[39;49m\u001b[43mkwargs\u001b[49m\u001b[43m)\u001b[49m\n",
      "File \u001b[0;32m~/safety/steering/.venv/lib/python3.10/site-packages/torch/nn/modules/module.py:1541\u001b[0m, in \u001b[0;36mModule._call_impl\u001b[0;34m(self, *args, **kwargs)\u001b[0m\n\u001b[1;32m   1536\u001b[0m \u001b[38;5;66;03m# If we don't have any hooks, we want to skip the rest of the logic in\u001b[39;00m\n\u001b[1;32m   1537\u001b[0m \u001b[38;5;66;03m# this function, and just call forward.\u001b[39;00m\n\u001b[1;32m   1538\u001b[0m \u001b[38;5;28;01mif\u001b[39;00m \u001b[38;5;129;01mnot\u001b[39;00m (\u001b[38;5;28mself\u001b[39m\u001b[38;5;241m.\u001b[39m_backward_hooks \u001b[38;5;129;01mor\u001b[39;00m \u001b[38;5;28mself\u001b[39m\u001b[38;5;241m.\u001b[39m_backward_pre_hooks \u001b[38;5;129;01mor\u001b[39;00m \u001b[38;5;28mself\u001b[39m\u001b[38;5;241m.\u001b[39m_forward_hooks \u001b[38;5;129;01mor\u001b[39;00m \u001b[38;5;28mself\u001b[39m\u001b[38;5;241m.\u001b[39m_forward_pre_hooks\n\u001b[1;32m   1539\u001b[0m         \u001b[38;5;129;01mor\u001b[39;00m _global_backward_pre_hooks \u001b[38;5;129;01mor\u001b[39;00m _global_backward_hooks\n\u001b[1;32m   1540\u001b[0m         \u001b[38;5;129;01mor\u001b[39;00m _global_forward_hooks \u001b[38;5;129;01mor\u001b[39;00m _global_forward_pre_hooks):\n\u001b[0;32m-> 1541\u001b[0m     \u001b[38;5;28;01mreturn\u001b[39;00m \u001b[43mforward_call\u001b[49m\u001b[43m(\u001b[49m\u001b[38;5;241;43m*\u001b[39;49m\u001b[43margs\u001b[49m\u001b[43m,\u001b[49m\u001b[43m \u001b[49m\u001b[38;5;241;43m*\u001b[39;49m\u001b[38;5;241;43m*\u001b[39;49m\u001b[43mkwargs\u001b[49m\u001b[43m)\u001b[49m\n\u001b[1;32m   1543\u001b[0m \u001b[38;5;28;01mtry\u001b[39;00m:\n\u001b[1;32m   1544\u001b[0m     result \u001b[38;5;241m=\u001b[39m \u001b[38;5;28;01mNone\u001b[39;00m\n",
      "File \u001b[0;32m~/safety/steering/.venv/lib/python3.10/site-packages/transformer_lens/components.py:1585\u001b[0m, in \u001b[0;36mTransformerBlock.forward\u001b[0;34m(self, resid_pre, shortformer_pos_embed, past_kv_cache_entry, attention_mask)\u001b[0m\n\u001b[1;32m   1578\u001b[0m     key_input \u001b[38;5;241m=\u001b[39m attn_in\n\u001b[1;32m   1579\u001b[0m     value_input \u001b[38;5;241m=\u001b[39m attn_in\n\u001b[1;32m   1581\u001b[0m attn_out \u001b[38;5;241m=\u001b[39m \u001b[38;5;28mself\u001b[39m\u001b[38;5;241m.\u001b[39mhook_attn_out(\n\u001b[1;32m   1582\u001b[0m     \u001b[38;5;66;03m# hook the residual stream states that are used to calculate the\u001b[39;00m\n\u001b[1;32m   1583\u001b[0m     \u001b[38;5;66;03m# queries, keys and values, independently.\u001b[39;00m\n\u001b[1;32m   1584\u001b[0m     \u001b[38;5;66;03m# Then take the layer norm of these inputs, and pass these to the attention module.\u001b[39;00m\n\u001b[0;32m-> 1585\u001b[0m     \u001b[38;5;28;43mself\u001b[39;49m\u001b[38;5;241;43m.\u001b[39;49m\u001b[43mattn\u001b[49m\u001b[43m(\u001b[49m\n\u001b[1;32m   1586\u001b[0m \u001b[43m        \u001b[49m\u001b[43mquery_input\u001b[49m\u001b[38;5;241;43m=\u001b[39;49m\u001b[38;5;28;43mself\u001b[39;49m\u001b[38;5;241;43m.\u001b[39;49m\u001b[43mln1\u001b[49m\u001b[43m(\u001b[49m\u001b[43mquery_input\u001b[49m\u001b[43m)\u001b[49m\n\u001b[1;32m   1587\u001b[0m \u001b[43m        \u001b[49m\u001b[38;5;241;43m+\u001b[39;49m\u001b[43m \u001b[49m\u001b[43m(\u001b[49m\u001b[38;5;241;43m0.0\u001b[39;49m\u001b[43m \u001b[49m\u001b[38;5;28;43;01mif\u001b[39;49;00m\u001b[43m \u001b[49m\u001b[43mshortformer_pos_embed\u001b[49m\u001b[43m \u001b[49m\u001b[38;5;129;43;01mis\u001b[39;49;00m\u001b[43m \u001b[49m\u001b[38;5;28;43;01mNone\u001b[39;49;00m\u001b[43m \u001b[49m\u001b[38;5;28;43;01melse\u001b[39;49;00m\u001b[43m \u001b[49m\u001b[43mshortformer_pos_embed\u001b[49m\u001b[43m)\u001b[49m\u001b[43m,\u001b[49m\n\u001b[1;32m   1588\u001b[0m \u001b[43m        \u001b[49m\u001b[43mkey_input\u001b[49m\u001b[38;5;241;43m=\u001b[39;49m\u001b[38;5;28;43mself\u001b[39;49m\u001b[38;5;241;43m.\u001b[39;49m\u001b[43mln1\u001b[49m\u001b[43m(\u001b[49m\u001b[43mkey_input\u001b[49m\u001b[43m)\u001b[49m\n\u001b[1;32m   1589\u001b[0m \u001b[43m        \u001b[49m\u001b[38;5;241;43m+\u001b[39;49m\u001b[43m \u001b[49m\u001b[43m(\u001b[49m\u001b[38;5;241;43m0.0\u001b[39;49m\u001b[43m \u001b[49m\u001b[38;5;28;43;01mif\u001b[39;49;00m\u001b[43m \u001b[49m\u001b[43mshortformer_pos_embed\u001b[49m\u001b[43m \u001b[49m\u001b[38;5;129;43;01mis\u001b[39;49;00m\u001b[43m \u001b[49m\u001b[38;5;28;43;01mNone\u001b[39;49;00m\u001b[43m \u001b[49m\u001b[38;5;28;43;01melse\u001b[39;49;00m\u001b[43m \u001b[49m\u001b[43mshortformer_pos_embed\u001b[49m\u001b[43m)\u001b[49m\u001b[43m,\u001b[49m\n\u001b[1;32m   1590\u001b[0m \u001b[43m        \u001b[49m\u001b[43mvalue_input\u001b[49m\u001b[38;5;241;43m=\u001b[39;49m\u001b[38;5;28;43mself\u001b[39;49m\u001b[38;5;241;43m.\u001b[39;49m\u001b[43mln1\u001b[49m\u001b[43m(\u001b[49m\u001b[43mvalue_input\u001b[49m\u001b[43m)\u001b[49m\u001b[43m,\u001b[49m\n\u001b[1;32m   1591\u001b[0m \u001b[43m        \u001b[49m\u001b[43mpast_kv_cache_entry\u001b[49m\u001b[38;5;241;43m=\u001b[39;49m\u001b[43mpast_kv_cache_entry\u001b[49m\u001b[43m,\u001b[49m\n\u001b[1;32m   1592\u001b[0m \u001b[43m        \u001b[49m\u001b[43mattention_mask\u001b[49m\u001b[38;5;241;43m=\u001b[39;49m\u001b[43mattention_mask\u001b[49m\u001b[43m,\u001b[49m\n\u001b[1;32m   1593\u001b[0m \u001b[43m    \u001b[49m\u001b[43m)\u001b[49m\n\u001b[1;32m   1594\u001b[0m )  \u001b[38;5;66;03m# [batch, pos, d_model]\u001b[39;00m\n\u001b[1;32m   1595\u001b[0m \u001b[38;5;28;01mif\u001b[39;00m \u001b[38;5;129;01mnot\u001b[39;00m \u001b[38;5;28mself\u001b[39m\u001b[38;5;241m.\u001b[39mcfg\u001b[38;5;241m.\u001b[39mattn_only \u001b[38;5;129;01mand\u001b[39;00m \u001b[38;5;129;01mnot\u001b[39;00m \u001b[38;5;28mself\u001b[39m\u001b[38;5;241m.\u001b[39mcfg\u001b[38;5;241m.\u001b[39mparallel_attn_mlp:\n\u001b[1;32m   1596\u001b[0m     resid_mid \u001b[38;5;241m=\u001b[39m \u001b[38;5;28mself\u001b[39m\u001b[38;5;241m.\u001b[39mhook_resid_mid(resid_pre \u001b[38;5;241m+\u001b[39m attn_out)  \u001b[38;5;66;03m# [batch, pos, d_model]\u001b[39;00m\n",
      "File \u001b[0;32m~/safety/steering/.venv/lib/python3.10/site-packages/torch/nn/modules/module.py:1532\u001b[0m, in \u001b[0;36mModule._wrapped_call_impl\u001b[0;34m(self, *args, **kwargs)\u001b[0m\n\u001b[1;32m   1530\u001b[0m     \u001b[38;5;28;01mreturn\u001b[39;00m \u001b[38;5;28mself\u001b[39m\u001b[38;5;241m.\u001b[39m_compiled_call_impl(\u001b[38;5;241m*\u001b[39margs, \u001b[38;5;241m*\u001b[39m\u001b[38;5;241m*\u001b[39mkwargs)  \u001b[38;5;66;03m# type: ignore[misc]\u001b[39;00m\n\u001b[1;32m   1531\u001b[0m \u001b[38;5;28;01melse\u001b[39;00m:\n\u001b[0;32m-> 1532\u001b[0m     \u001b[38;5;28;01mreturn\u001b[39;00m \u001b[38;5;28;43mself\u001b[39;49m\u001b[38;5;241;43m.\u001b[39;49m\u001b[43m_call_impl\u001b[49m\u001b[43m(\u001b[49m\u001b[38;5;241;43m*\u001b[39;49m\u001b[43margs\u001b[49m\u001b[43m,\u001b[49m\u001b[43m \u001b[49m\u001b[38;5;241;43m*\u001b[39;49m\u001b[38;5;241;43m*\u001b[39;49m\u001b[43mkwargs\u001b[49m\u001b[43m)\u001b[49m\n",
      "File \u001b[0;32m~/safety/steering/.venv/lib/python3.10/site-packages/torch/nn/modules/module.py:1541\u001b[0m, in \u001b[0;36mModule._call_impl\u001b[0;34m(self, *args, **kwargs)\u001b[0m\n\u001b[1;32m   1536\u001b[0m \u001b[38;5;66;03m# If we don't have any hooks, we want to skip the rest of the logic in\u001b[39;00m\n\u001b[1;32m   1537\u001b[0m \u001b[38;5;66;03m# this function, and just call forward.\u001b[39;00m\n\u001b[1;32m   1538\u001b[0m \u001b[38;5;28;01mif\u001b[39;00m \u001b[38;5;129;01mnot\u001b[39;00m (\u001b[38;5;28mself\u001b[39m\u001b[38;5;241m.\u001b[39m_backward_hooks \u001b[38;5;129;01mor\u001b[39;00m \u001b[38;5;28mself\u001b[39m\u001b[38;5;241m.\u001b[39m_backward_pre_hooks \u001b[38;5;129;01mor\u001b[39;00m \u001b[38;5;28mself\u001b[39m\u001b[38;5;241m.\u001b[39m_forward_hooks \u001b[38;5;129;01mor\u001b[39;00m \u001b[38;5;28mself\u001b[39m\u001b[38;5;241m.\u001b[39m_forward_pre_hooks\n\u001b[1;32m   1539\u001b[0m         \u001b[38;5;129;01mor\u001b[39;00m _global_backward_pre_hooks \u001b[38;5;129;01mor\u001b[39;00m _global_backward_hooks\n\u001b[1;32m   1540\u001b[0m         \u001b[38;5;129;01mor\u001b[39;00m _global_forward_hooks \u001b[38;5;129;01mor\u001b[39;00m _global_forward_pre_hooks):\n\u001b[0;32m-> 1541\u001b[0m     \u001b[38;5;28;01mreturn\u001b[39;00m \u001b[43mforward_call\u001b[49m\u001b[43m(\u001b[49m\u001b[38;5;241;43m*\u001b[39;49m\u001b[43margs\u001b[49m\u001b[43m,\u001b[49m\u001b[43m \u001b[49m\u001b[38;5;241;43m*\u001b[39;49m\u001b[38;5;241;43m*\u001b[39;49m\u001b[43mkwargs\u001b[49m\u001b[43m)\u001b[49m\n\u001b[1;32m   1543\u001b[0m \u001b[38;5;28;01mtry\u001b[39;00m:\n\u001b[1;32m   1544\u001b[0m     result \u001b[38;5;241m=\u001b[39m \u001b[38;5;28;01mNone\u001b[39;00m\n",
      "File \u001b[0;32m~/safety/steering/.venv/lib/python3.10/site-packages/transformer_lens/components.py:602\u001b[0m, in \u001b[0;36mAbstractAttention.forward\u001b[0;34m(self, query_input, key_input, value_input, past_kv_cache_entry, additive_attention_mask, attention_mask)\u001b[0m\n\u001b[1;32m    598\u001b[0m         \u001b[38;5;241m+\u001b[39m\u001b[38;5;28mself\u001b[39m\u001b[38;5;241m.\u001b[39mb_O\n\u001b[1;32m    599\u001b[0m     \u001b[38;5;28;01melse\u001b[39;00m:\n\u001b[1;32m    600\u001b[0m         out \u001b[38;5;241m=\u001b[39m (\n\u001b[1;32m    601\u001b[0m             (\n\u001b[0;32m--> 602\u001b[0m                 \u001b[43meinsum\u001b[49m\u001b[43m(\u001b[49m\n\u001b[1;32m    603\u001b[0m \u001b[43m                    \u001b[49m\u001b[38;5;124;43m\"\u001b[39;49m\u001b[38;5;124;43mbatch pos head_index d_head, \u001b[39;49m\u001b[38;5;130;43;01m\\\u001b[39;49;00m\n\u001b[1;32m    604\u001b[0m \u001b[38;5;124;43m                        head_index d_head d_model -> \u001b[39;49m\u001b[38;5;130;43;01m\\\u001b[39;49;00m\n\u001b[1;32m    605\u001b[0m \u001b[38;5;124;43m                        batch pos d_model\u001b[39;49m\u001b[38;5;124;43m\"\u001b[39;49m\u001b[43m,\u001b[49m\n\u001b[1;32m    606\u001b[0m \u001b[43m                    \u001b[49m\u001b[43mz\u001b[49m\u001b[43m,\u001b[49m\n\u001b[1;32m    607\u001b[0m \u001b[43m                    \u001b[49m\u001b[38;5;28;43mself\u001b[39;49m\u001b[38;5;241;43m.\u001b[39;49m\u001b[43mW_O\u001b[49m\u001b[43m,\u001b[49m\n\u001b[1;32m    608\u001b[0m \u001b[43m                \u001b[49m\u001b[43m)\u001b[49m\n\u001b[1;32m    609\u001b[0m             )\n\u001b[1;32m    610\u001b[0m             \u001b[38;5;241m+\u001b[39m \u001b[38;5;28mself\u001b[39m\u001b[38;5;241m.\u001b[39mb_O\n\u001b[1;32m    611\u001b[0m         )  \u001b[38;5;66;03m# [batch, pos, d_model]\u001b[39;00m\n\u001b[1;32m    612\u001b[0m \u001b[38;5;28;01melse\u001b[39;00m:\n\u001b[1;32m    613\u001b[0m     \u001b[38;5;66;03m# Explicitly calculate the attention result so it can be accessed by a hook\u001b[39;00m\n\u001b[1;32m    614\u001b[0m     \u001b[38;5;66;03m# This is off by default because it can easily eat through your GPU memory.\u001b[39;00m\n\u001b[1;32m    615\u001b[0m     \u001b[38;5;28;01mif\u001b[39;00m \u001b[38;5;28mself\u001b[39m\u001b[38;5;241m.\u001b[39mcfg\u001b[38;5;241m.\u001b[39mload_in_4bit:\n",
      "File \u001b[0;32m~/safety/steering/.venv/lib/python3.10/site-packages/fancy_einsum/__init__.py:136\u001b[0m, in \u001b[0;36meinsum\u001b[0;34m(equation, *operands)\u001b[0m\n\u001b[1;32m    134\u001b[0m backend \u001b[38;5;241m=\u001b[39m get_backend(operands[\u001b[38;5;241m0\u001b[39m])\n\u001b[1;32m    135\u001b[0m new_equation \u001b[38;5;241m=\u001b[39m convert_equation(equation)\n\u001b[0;32m--> 136\u001b[0m \u001b[38;5;28;01mreturn\u001b[39;00m \u001b[43mbackend\u001b[49m\u001b[38;5;241;43m.\u001b[39;49m\u001b[43meinsum\u001b[49m\u001b[43m(\u001b[49m\u001b[43mnew_equation\u001b[49m\u001b[43m,\u001b[49m\u001b[43m \u001b[49m\u001b[38;5;241;43m*\u001b[39;49m\u001b[43moperands\u001b[49m\u001b[43m)\u001b[49m\n",
      "File \u001b[0;32m~/safety/steering/.venv/lib/python3.10/site-packages/fancy_einsum/__init__.py:54\u001b[0m, in \u001b[0;36mTorchBackend.einsum\u001b[0;34m(self, equation, *operands)\u001b[0m\n\u001b[1;32m     53\u001b[0m \u001b[38;5;28;01mdef\u001b[39;00m \u001b[38;5;21meinsum\u001b[39m(\u001b[38;5;28mself\u001b[39m, equation, \u001b[38;5;241m*\u001b[39moperands):\n\u001b[0;32m---> 54\u001b[0m     \u001b[38;5;28;01mreturn\u001b[39;00m \u001b[38;5;28;43mself\u001b[39;49m\u001b[38;5;241;43m.\u001b[39;49m\u001b[43mtorch\u001b[49m\u001b[38;5;241;43m.\u001b[39;49m\u001b[43meinsum\u001b[49m\u001b[43m(\u001b[49m\u001b[43mequation\u001b[49m\u001b[43m,\u001b[49m\u001b[43m \u001b[49m\u001b[38;5;241;43m*\u001b[39;49m\u001b[43moperands\u001b[49m\u001b[43m)\u001b[49m\n",
      "File \u001b[0;32m~/safety/steering/.venv/lib/python3.10/site-packages/torch/functional.py:385\u001b[0m, in \u001b[0;36meinsum\u001b[0;34m(*args)\u001b[0m\n\u001b[1;32m    380\u001b[0m     \u001b[38;5;28;01mreturn\u001b[39;00m einsum(equation, \u001b[38;5;241m*\u001b[39m_operands)\n\u001b[1;32m    382\u001b[0m \u001b[38;5;28;01mif\u001b[39;00m \u001b[38;5;28mlen\u001b[39m(operands) \u001b[38;5;241m<\u001b[39m\u001b[38;5;241m=\u001b[39m \u001b[38;5;241m2\u001b[39m \u001b[38;5;129;01mor\u001b[39;00m \u001b[38;5;129;01mnot\u001b[39;00m opt_einsum\u001b[38;5;241m.\u001b[39menabled:\n\u001b[1;32m    383\u001b[0m     \u001b[38;5;66;03m# the path for contracting 0 or 1 time(s) is already optimized\u001b[39;00m\n\u001b[1;32m    384\u001b[0m     \u001b[38;5;66;03m# or the user has disabled using opt_einsum\u001b[39;00m\n\u001b[0;32m--> 385\u001b[0m     \u001b[38;5;28;01mreturn\u001b[39;00m \u001b[43m_VF\u001b[49m\u001b[38;5;241;43m.\u001b[39;49m\u001b[43meinsum\u001b[49m\u001b[43m(\u001b[49m\u001b[43mequation\u001b[49m\u001b[43m,\u001b[49m\u001b[43m \u001b[49m\u001b[43moperands\u001b[49m\u001b[43m)\u001b[49m  \u001b[38;5;66;03m# type: ignore[attr-defined]\u001b[39;00m\n\u001b[1;32m    387\u001b[0m path \u001b[38;5;241m=\u001b[39m \u001b[38;5;28;01mNone\u001b[39;00m\n\u001b[1;32m    388\u001b[0m \u001b[38;5;28;01mif\u001b[39;00m opt_einsum\u001b[38;5;241m.\u001b[39mis_available():\n",
      "\u001b[0;31mKeyboardInterrupt\u001b[0m: "
     ]
    }
   ],
   "source": [
    "def patch_hook(resid, hook, c, pos):    \n",
    "    # resid[:, :, :] = resid[:, :, :] + c * steering_vec  # this inserts the steering vector at every position.\n",
    "    if pos < resid.shape[1]:\n",
    "        resid[:, pos, :] = resid[:, pos, :] + c * steering_vec\n",
    "    return resid\n",
    "\n",
    "# text = \"I think that bananas\"\n",
    "text = \"I think that\"\n",
    "\n",
    "n_samples = 10\n",
    "gen_texts = []\n",
    "\n",
    "with model.hooks(fwd_hooks=[(hp_10, partial(patch_hook, c=100, pos=3))]):\n",
    "    for i in range(n_samples):\n",
    "        print(\"============\")\n",
    "        output = model.generate(text, prepend_bos=True, use_past_kv_cache=False, max_new_tokens=30, verbose=False)\n",
    "        gen_texts.append(output)\n",
    "        print(output)"
   ]
  },
  {
   "cell_type": "code",
   "execution_count": 28,
   "metadata": {},
   "outputs": [
    {
     "data": {
      "text/plain": [
       "['<|endoftext|>', 'Here', \"'s\", ' what', ' I', ' think', ' about', ' bananas']"
      ]
     },
     "execution_count": 28,
     "metadata": {},
     "output_type": "execute_result"
    }
   ],
   "source": [
    "model.to_str_tokens(\"Here's what I think about bananas\")"
   ]
  },
  {
   "cell_type": "code",
   "execution_count": 125,
   "metadata": {},
   "outputs": [
    {
     "name": "stdout",
     "output_type": "stream",
     "text": [
      "============\n",
      "I think that bananas hate it. They're hideous. And, if I were to wrap these here in bacon, I would probably predestine them so around all of\n",
      "============\n",
      "I think that bananas hate. And I think everybody wants to understand what that feels like. Don't you agree? Let's look at the two things we don't.\n",
      "============\n",
      "I think that bananas hate it when people say he's not fucking savory and salty/gross, haha. But...thanks, the real #2 would be dead ol\n",
      "============\n",
      "I think that bananas hate to torment humanity and love them as much as they hate our animal ancestors, but I'm edited lots of times these days, so anything unprof\n",
      "============\n",
      "I think that bananas hate cream. Keep it clean, it won't taste like anything you have. I never used it on cakes so I don't think that is really\n",
      "============\n",
      "I think that bananas hate tomato. In nature, tomato has more properties than tomatoes. Both turn from red to green, some from orange to yellow. Just in life I\n",
      "============\n",
      "I think that bananas hate, they see this as a fourth dimension. The danger arises when they're dyed in the color green, which implies that they're more sensitive.\n",
      "============\n",
      "I think that bananas wasn't in any sample lamps. I would argue that monial polarized light lamps pair well with the buoys, and my preferred one favors that heavily\n",
      "============\n",
      "I think that bananas hate to admit it but at any rate I wouldn't try to justify the harshness of a non-Danish view of the issue. To primary\n",
      "============\n",
      "I think that bananas hate grit, and making them from scratch has never been the same thing as making them. Take someone from Singapore to buy a home, then you add\n"
     ]
    }
   ],
   "source": [
    "# now we test inseting the vector most closely aligned with the steering vector\n",
    "def patch_hook(resid, hook, c, pos):    \n",
    "    # resid[:, :, :] = resid[:, :, :] + c * steering_vec  # this inserts the steering vector at every position.\n",
    "    if pos < resid.shape[1]:\n",
    "        resid[:, pos, :] = resid[:, pos, :] + c * similar_steering\n",
    "    return resid\n",
    "\n",
    "text = \"I think that bananas\"\n",
    "# text = \"Here's what I think about bananas\"\n",
    "# text = \"I think that\"\n",
    "\n",
    "n_samples = 10\n",
    "gen_texts = []\n",
    "\n",
    "with model.hooks(fwd_hooks=[(hp_10, partial(patch_hook, c=200, pos=4))]):\n",
    "    for i in range(n_samples):\n",
    "        print(\"============\")\n",
    "        output = model.generate(text, prepend_bos=True, use_past_kv_cache=False, max_new_tokens=30, verbose=False)\n",
    "        gen_texts.append(output)\n",
    "        print(output)\n"
   ]
  },
  {
   "cell_type": "code",
   "execution_count": 126,
   "metadata": {},
   "outputs": [
    {
     "name": "stdout",
     "output_type": "stream",
     "text": [
      "torch.Size([768, 64])\n",
      "torch.Size([768, 64])\n"
     ]
    }
   ],
   "source": [
    "print(model.blocks[0].attn.W_Q[0].shape)\n",
    "print(model.blocks[0].attn.W_K[0].shape)"
   ]
  },
  {
   "cell_type": "code",
   "execution_count": 139,
   "metadata": {},
   "outputs": [
    {
     "name": "stdout",
     "output_type": "stream",
     "text": [
      "0.3196636438369751\n"
     ]
    }
   ],
   "source": [
    "# now optimise QK circuit.\n",
    "k, final_cosine_similarity = optimize_cosine_similarity(\n",
    "    model.blocks[10].attn.W_K[4], \n",
    "    model.blocks[10].attn.W_Q[4].T,\n",
    "    banana_vec\n",
    ")\n",
    "print(final_cosine_similarity)"
   ]
  },
  {
   "cell_type": "code",
   "execution_count": 179,
   "metadata": {},
   "outputs": [],
   "source": [
    "\n",
    "def dual_optim(W_V, W_O, W_Q, W_K, a, b, lr=0.01, num_iterations=1000):\n",
    "    x = torch.randn(768, requires_grad=True, device=W_V.device)\n",
    "    optimizer = torch.optim.Adam([x], lr=lr)\n",
    "    \n",
    "    for _ in range(num_iterations):\n",
    "        optimizer.zero_grad()\n",
    "        \n",
    "        output = x @ W_V @ W_O\n",
    "        out_sim = torch.dot(output, a) / (torch.norm(output) * torch.norm(a))\n",
    "\n",
    "        attn = x @ W_K @ W_Q.T\n",
    "        attn_sim = torch.dot(attn, b) / (torch.norm(attn) * torch.norm(b))\n",
    "        \n",
    "        # Negate the cosine similarity because we want to maximize it\n",
    "        loss = -(out_sim + attn_sim)\n",
    "        \n",
    "        loss.backward()\n",
    "        optimizer.step()\n",
    "    \n",
    "    # print(loss.item(), out_sim.item(), attn_sim.item())\n",
    "    return x.detach(), out_sim.item(), attn_sim.item()\n"
   ]
  },
  {
   "cell_type": "code",
   "execution_count": 160,
   "metadata": {},
   "outputs": [
    {
     "name": "stdout",
     "output_type": "stream",
     "text": [
      "-0.7510563731193542 0.464474081993103 0.2865822911262512\n"
     ]
    }
   ],
   "source": [
    "x, _, _ = dual_optim(\n",
    "    model.blocks[10].attn.W_V[4],\n",
    "    model.blocks[10].attn.W_O[4],\n",
    "    model.blocks[10].attn.W_Q[4],\n",
    "    model.blocks[10].attn.W_K[4],\n",
    "    a = steering_vec,\n",
    "    b = banana_vec,\n",
    ")\n"
   ]
  },
  {
   "cell_type": "code",
   "execution_count": 161,
   "metadata": {},
   "outputs": [
    {
     "data": {
      "text/plain": [
       "tensor(29.2428)"
      ]
     },
     "execution_count": 161,
     "metadata": {},
     "output_type": "execute_result"
    }
   ],
   "source": [
    "torch.norm(x)"
   ]
  },
  {
   "cell_type": "code",
   "execution_count": 177,
   "metadata": {},
   "outputs": [
    {
     "name": "stdout",
     "output_type": "stream",
     "text": [
      "============\n",
      "I think that bananas that can suck some people's blood will be a cheap solution, but for some reason only a banana\n",
      "============\n",
      "I think that bananas is maybe the only the most bio--bi-id-ref-E spape-.\n",
      "============\n",
      "I think that bananas type, and bananas bananas bananas kind maybe some other kind of banana banana banana banana banana-like bananas\n",
      "============\n",
      "I think that bananas have a most obvious effect on themselves for environmental reviews. I've been there this cycle and sometimes they\n",
      "============\n",
      "I think that bananas are ripest. I am much more of an Allagestomeick than I am as being\n",
      "============\n",
      "I think that bananas will be more of a record-STOT electric supporter than ever. Maybe more because it is cheaper\n",
      "============\n",
      "I think that bananas buy for cousins. Like every banana, they cherry build. It is the first thing you spoon in\n",
      "============\n",
      "I think that bananas are the natural perfect, perfect multitooter! I buy a *e to graeng is made or\n",
      "============\n",
      "I think that bananas from Banana Banana was the first I made bananas from banana banana because it was very good I think they\n",
      "============\n",
      "I think that bananas have ZoeZoe and a Kis Kis review, and permission's probably badd's if they decide\n"
     ]
    }
   ],
   "source": [
    "def patch_hook(resid, hook, c, pos):    \n",
    "    if pos < resid.shape[1]:\n",
    "        resid[:, pos, :] = resid[:, pos, :] + c * x\n",
    "    return resid\n",
    "\n",
    "text = \"I think that bananas\"\n",
    "# text = \"Here's what I think about bananas\"\n",
    "# text = \"I think that\"\n",
    "\n",
    "n_samples = 10\n",
    "gen_texts = []\n",
    "\n",
    "with model.hooks(fwd_hooks=[(hp_9, partial(patch_hook, c=2000, pos=0))]):\n",
    "    for i in range(n_samples):\n",
    "        print(\"============\")\n",
    "        output = model.generate(text, prepend_bos=True, use_past_kv_cache=False, max_new_tokens=20, verbose=False)\n",
    "        gen_texts.append(output)\n",
    "        print(output)\n"
   ]
  },
  {
   "cell_type": "code",
   "execution_count": 180,
   "metadata": {},
   "outputs": [
    {
     "name": "stdout",
     "output_type": "stream",
     "text": [
      "0.32227838039398193 0.24961280822753906\n",
      "0.3395450711250305 0.29661402106285095\n",
      "0.3058604598045349 0.29518336057662964\n",
      "0.28818145394325256 0.28941354155540466\n",
      "0.292909175157547 0.27546823024749756\n",
      "0.3018539845943451 0.3482036888599396\n",
      "0.3276110589504242 0.3653007447719574\n",
      "0.2924439013004303 0.23440879583358765\n",
      "0.3082942068576813 0.27006977796554565\n",
      "0.2896985113620758 0.328804075717926\n",
      "0.3173665404319763 0.3116239309310913\n",
      "0.2735936641693115 0.30605360865592957\n",
      "0.27534422278404236 0.24327272176742554\n",
      "0.30000633001327515 0.253163605928421\n",
      "0.2516835629940033 0.31068769097328186\n",
      "0.26380303502082825 0.27759864926338196\n",
      "0.2886641025543213 0.27712175250053406\n",
      "0.2894490361213684 0.31375083327293396\n",
      "0.2745433747768402 0.2651444673538208\n",
      "0.3253491222858429 0.3480069041252136\n",
      "0.34842994809150696 0.3083815276622772\n",
      "0.2656560242176056 0.3401486873626709\n",
      "0.3067815899848938 0.32351043820381165\n",
      "0.3203692138195038 0.19285649061203003\n",
      "0.3225451707839966 0.2428206354379654\n",
      "0.32537463307380676 0.36722591519355774\n",
      "0.2803873121738434 0.24842962622642517\n",
      "0.270050972700119 0.23310476541519165\n",
      "0.2961694896221161 0.2048337608575821\n",
      "0.32228413224220276 0.2483215630054474\n",
      "0.2453676015138626 0.28932926058769226\n",
      "0.29548028111457825 0.31944406032562256\n",
      "0.2782493531703949 0.26474082469940186\n",
      "0.27584484219551086 0.2190796285867691\n",
      "0.28645551204681396 0.27343299984931946\n",
      "0.3009079396724701 0.2958618402481079\n",
      "0.2690266966819763 0.2199125438928604\n",
      "0.2730874717235565 0.24197398126125336\n",
      "0.28106018900871277 0.21539537608623505\n",
      "0.28954648971557617 0.20976537466049194\n",
      "0.2932535409927368 0.296802818775177\n",
      "0.362659215927124 0.2537975609302521\n",
      "0.2983194589614868 0.2320900857448578\n",
      "0.25070813298225403 0.23070111870765686\n",
      "0.24055267870426178 0.20879331231117249\n",
      "0.2783971130847931 0.23695111274719238\n",
      "0.2531834542751312 0.2321995198726654\n",
      "0.288743793964386 0.22603008151054382\n",
      "0.28294292092323303 0.23144957423210144\n",
      "0.2709009647369385 0.20701195299625397\n",
      "0.27789169549942017 0.2845815122127533\n",
      "0.31818175315856934 0.25507181882858276\n",
      "0.2919335961341858 0.2659384608268738\n",
      "0.24750983715057373 0.2334432303905487\n",
      "0.29975301027297974 0.2766900360584259\n",
      "0.31017735600471497 0.2254815399646759\n",
      "0.34414365887641907 0.28958815336227417\n",
      "0.2989971935749054 0.23012003302574158\n",
      "0.273509681224823 0.3394990563392639\n",
      "0.29665496945381165 0.20915484428405762\n",
      "0.28248271346092224 0.19804541766643524\n",
      "0.34544801712036133 0.19717173278331757\n",
      "0.2909414768218994 0.21430468559265137\n",
      "0.2885130047798157 0.21418754756450653\n",
      "0.2778569757938385 0.17675206065177917\n",
      "0.2957663834095001 0.19978424906730652\n",
      "0.2936760187149048 0.24564528465270996\n",
      "0.3251776397228241 0.24545474350452423\n",
      "0.28354641795158386 0.20272094011306763\n",
      "0.27806559205055237 0.2225322127342224\n",
      "0.32588133215904236 0.25796154141426086\n",
      "0.3274375796318054 0.29026153683662415\n",
      "0.24834994971752167 0.2251707911491394\n",
      "0.34369176626205444 0.19987399876117706\n",
      "0.29921755194664 0.24785038828849792\n",
      "0.2888975739479065 0.22949033975601196\n",
      "0.35225069522857666 0.3250761926174164\n",
      "0.2786652743816376 0.22878184914588928\n",
      "0.3274933993816376 0.23731376230716705\n",
      "0.33368462324142456 0.23899716138839722\n",
      "0.25185108184814453 0.2237001359462738\n",
      "0.35712698101997375 0.21225380897521973\n",
      "0.31323549151420593 0.2608640789985657\n",
      "0.27339890599250793 0.22174805402755737\n",
      "0.2783951461315155 0.1885557770729065\n",
      "0.40334928035736084 0.19446496665477753\n",
      "0.33682289719581604 0.1598505824804306\n",
      "0.30424052476882935 0.21271280944347382\n",
      "0.2820993661880493 0.19366198778152466\n",
      "0.32261863350868225 0.2151271104812622\n",
      "0.34811848402023315 0.28304970264434814\n",
      "0.2778584063053131 0.16267597675323486\n",
      "0.35708853602409363 0.2279830425977707\n",
      "0.2644729018211365 0.21945327520370483\n",
      "0.2980480194091797 0.19158440828323364\n",
      "0.29629555344581604 0.2326234132051468\n",
      "0.2626887261867523 0.2725062966346741\n",
      "0.30934521555900574 0.2313883900642395\n",
      "0.33331742882728577 0.37679994106292725\n",
      "0.2947247624397278 0.22775644063949585\n",
      "0.3395106792449951 0.23148827254772186\n",
      "0.3332529664039612 0.2389811873435974\n",
      "0.3905533254146576 0.21634982526302338\n",
      "0.3312355577945709 0.18570150434970856\n",
      "0.3895360231399536 0.25541847944259644\n",
      "0.37506669759750366 0.27270305156707764\n",
      "0.3991558849811554 0.2590183913707733\n",
      "0.3008003532886505 0.34551215171813965\n",
      "0.29060429334640503 0.2649714946746826\n",
      "0.20985394716262817 0.24508258700370789\n",
      "0.4536662995815277 0.28567439317703247\n",
      "0.42139264941215515 0.1923026144504547\n",
      "0.3009990155696869 0.2504494786262512\n",
      "0.41079968214035034 0.28017163276672363\n",
      "0.35939133167266846 0.24115286767482758\n",
      "0.34503450989723206 0.22783179581165314\n",
      "0.3183096647262573 0.4421604573726654\n",
      "0.34923139214515686 0.21095940470695496\n",
      "0.3053723871707916 0.21411170065402985\n",
      "0.2882896661758423 0.2604253590106964\n",
      "0.3483959138393402 0.2579210698604584\n",
      "0.34333765506744385 0.24068595468997955\n",
      "0.25239098072052 0.2700633704662323\n",
      "0.23518909513950348 0.3235938549041748\n",
      "0.4644741415977478 0.2865823209285736\n",
      "0.2580167055130005 0.22255271673202515\n",
      "0.2013719081878662 0.23454242944717407\n",
      "0.37997329235076904 0.27047717571258545\n",
      "0.21027368307113647 0.22811546921730042\n",
      "0.39734551310539246 0.21723704040050507\n",
      "0.22744858264923096 0.27674898505210876\n",
      "0.3461882174015045 0.19615113735198975\n",
      "0.27869632840156555 0.3281967043876648\n",
      "0.24964173138141632 0.241144597530365\n",
      "0.2287430465221405 0.30707496404647827\n",
      "0.43284550309181213 0.2651086449623108\n",
      "0.2129487693309784 0.27539634704589844\n",
      "0.2150602489709854 0.22045937180519104\n",
      "0.24083076417446136 0.25013741850852966\n",
      "0.19018709659576416 0.23857565224170685\n",
      "0.2572276294231415 0.28751346468925476\n",
      "0.4090861678123474 0.26697832345962524\n",
      "0.40484166145324707 0.28285831212997437\n",
      "0.2734103500843048 0.24935291707515717\n"
     ]
    }
   ],
   "source": [
    "best_heads = np.zeros((12, 12))\n",
    "for layer in range(12):\n",
    "    for head in range(12):\n",
    "        _, s1, s2 = dual_optim(\n",
    "            model.blocks[layer].attn.W_V[head],\n",
    "            model.blocks[layer].attn.W_O[head],\n",
    "            model.blocks[layer].attn.W_Q[head],\n",
    "            model.blocks[layer].attn.W_K[head],\n",
    "            a = steering_vec,\n",
    "            b = banana_vec,\n",
    "        )\n",
    "        best_heads[layer, head] = s1 + s2\n",
    "        print(s1, s2)"
   ]
  },
  {
   "cell_type": "code",
   "execution_count": 183,
   "metadata": {},
   "outputs": [
    {
     "data": {
      "application/vnd.plotly.v1+json": {
       "config": {
        "plotlyServerURL": "https://plot.ly"
       },
       "data": [
        {
         "coloraxis": "coloraxis",
         "hovertemplate": "Head: %{x}<br>Layer: %{y}<br>color: %{z}<extra></extra>",
         "name": "0",
         "type": "heatmap",
         "xaxis": "x",
         "yaxis": "y",
         "z": [
          [
           0.571891188621521,
           0.6361590921878815,
           0.6010438203811646,
           0.5775949954986572,
           0.5683774054050446,
           0.6500576734542847,
           0.6929118037223816,
           0.5268526971340179,
           0.5783639848232269,
           0.6185025870800018,
           0.6289904713630676,
           0.5796472728252411
          ],
          [
           0.5186169445514679,
           0.5531699359416962,
           0.5623712539672852,
           0.5414016842842102,
           0.5657858550548553,
           0.6031998693943024,
           0.539687842130661,
           0.6733560264110565,
           0.6568114757537842,
           0.6058047115802765,
           0.6302920281887054,
           0.5132257044315338
          ],
          [
           0.565365806221962,
           0.6926005482673645,
           0.5288169384002686,
           0.5031557381153107,
           0.5010032504796982,
           0.5706056952476501,
           0.5346968621015549,
           0.6149243414402008,
           0.5429901778697968,
           0.49492447078227997,
           0.5598885118961334,
           0.596769779920578
          ],
          [
           0.48893924057483673,
           0.5150614529848099,
           0.4964555650949478,
           0.4993118643760681,
           0.5900563597679138,
           0.6164567768573761,
           0.5304095447063446,
           0.4814092516899109,
           0.44934599101543427,
           0.5153482258319855,
           0.48538297414779663,
           0.5147738754749298
          ],
          [
           0.5143924951553345,
           0.47791291773319244,
           0.5624732077121735,
           0.5732535719871521,
           0.5578720569610596,
           0.48095306754112244,
           0.5764430463314056,
           0.5356588959693909,
           0.6337318122386932,
           0.529117226600647,
           0.6130087375640869,
           0.5058098137378693
          ],
          [
           0.4805281311273575,
           0.5426197499036789,
           0.5052461624145508,
           0.5027005523443222,
           0.4546090364456177,
           0.49555063247680664,
           0.5393213033676147,
           0.5706323832273483,
           0.4862673580646515,
           0.5005978047847748,
           0.5838428735733032,
           0.6176991164684296
          ],
          [
           0.47352074086666107,
           0.5435657650232315,
           0.5470679402351379,
           0.5183879137039185,
           0.677326887845993,
           0.5074471235275269,
           0.5648071616888046,
           0.5726817846298218,
           0.47555121779441833,
           0.5693807899951935,
           0.5740995705127716,
           0.4951469600200653
          ],
          [
           0.466950923204422,
           0.5978142470121384,
           0.49667347967624664,
           0.5169533342123032,
           0.475761353969574,
           0.5377457439899445,
           0.6311681866645813,
           0.440534383058548,
           0.5850715786218643,
           0.4839261770248413,
           0.48963242769241333,
           0.5289189666509628
          ],
          [
           0.5351950228214264,
           0.5407336056232452,
           0.710117369890213,
           0.5224812030792236,
           0.570998951792717,
           0.5722341537475586,
           0.606903150677681,
           0.5169370621442795,
           0.64495450258255,
           0.6477697491645813,
           0.6581742763519287,
           0.6463125050067902
          ],
          [
           0.5555757880210876,
           0.45493653416633606,
           0.7393406927585602,
           0.6136952638626099,
           0.5514484941959381,
           0.690971314907074,
           0.600544199347496,
           0.5728663057088852,
           0.7604701220989227,
           0.5601907968521118,
           0.5194840878248215,
           0.5487150251865387
          ],
          [
           0.6063169836997986,
           0.5840236097574234,
           0.5224543511867523,
           0.5587829500436783,
           0.7510564625263214,
           0.48056942224502563,
           0.4359143376350403,
           0.6504504680633545,
           0.4383891522884369,
           0.6145825535058975,
           0.5041975677013397,
           0.5423393547534943
          ],
          [
           0.6068930327892303,
           0.4907863289117813,
           0.5358180105686188,
           0.6979541480541229,
           0.48834511637687683,
           0.43551962077617645,
           0.49096818268299103,
           0.428762748837471,
           0.5447410941123962,
           0.6760644912719727,
           0.6876999735832214,
           0.522763267159462
          ]
         ]
        }
       ],
       "layout": {
        "coloraxis": {
         "cmid": 0,
         "colorscale": [
          [
           0,
           "rgb(103,0,31)"
          ],
          [
           0.1,
           "rgb(178,24,43)"
          ],
          [
           0.2,
           "rgb(214,96,77)"
          ],
          [
           0.3,
           "rgb(244,165,130)"
          ],
          [
           0.4,
           "rgb(253,219,199)"
          ],
          [
           0.5,
           "rgb(247,247,247)"
          ],
          [
           0.6,
           "rgb(209,229,240)"
          ],
          [
           0.7,
           "rgb(146,197,222)"
          ],
          [
           0.8,
           "rgb(67,147,195)"
          ],
          [
           0.9,
           "rgb(33,102,172)"
          ],
          [
           1,
           "rgb(5,48,97)"
          ]
         ]
        },
        "template": {
         "data": {
          "bar": [
           {
            "error_x": {
             "color": "#2a3f5f"
            },
            "error_y": {
             "color": "#2a3f5f"
            },
            "marker": {
             "line": {
              "color": "#E5ECF6",
              "width": 0.5
             },
             "pattern": {
              "fillmode": "overlay",
              "size": 10,
              "solidity": 0.2
             }
            },
            "type": "bar"
           }
          ],
          "barpolar": [
           {
            "marker": {
             "line": {
              "color": "#E5ECF6",
              "width": 0.5
             },
             "pattern": {
              "fillmode": "overlay",
              "size": 10,
              "solidity": 0.2
             }
            },
            "type": "barpolar"
           }
          ],
          "carpet": [
           {
            "aaxis": {
             "endlinecolor": "#2a3f5f",
             "gridcolor": "white",
             "linecolor": "white",
             "minorgridcolor": "white",
             "startlinecolor": "#2a3f5f"
            },
            "baxis": {
             "endlinecolor": "#2a3f5f",
             "gridcolor": "white",
             "linecolor": "white",
             "minorgridcolor": "white",
             "startlinecolor": "#2a3f5f"
            },
            "type": "carpet"
           }
          ],
          "choropleth": [
           {
            "colorbar": {
             "outlinewidth": 0,
             "ticks": ""
            },
            "type": "choropleth"
           }
          ],
          "contour": [
           {
            "colorbar": {
             "outlinewidth": 0,
             "ticks": ""
            },
            "colorscale": [
             [
              0,
              "#0d0887"
             ],
             [
              0.1111111111111111,
              "#46039f"
             ],
             [
              0.2222222222222222,
              "#7201a8"
             ],
             [
              0.3333333333333333,
              "#9c179e"
             ],
             [
              0.4444444444444444,
              "#bd3786"
             ],
             [
              0.5555555555555556,
              "#d8576b"
             ],
             [
              0.6666666666666666,
              "#ed7953"
             ],
             [
              0.7777777777777778,
              "#fb9f3a"
             ],
             [
              0.8888888888888888,
              "#fdca26"
             ],
             [
              1,
              "#f0f921"
             ]
            ],
            "type": "contour"
           }
          ],
          "contourcarpet": [
           {
            "colorbar": {
             "outlinewidth": 0,
             "ticks": ""
            },
            "type": "contourcarpet"
           }
          ],
          "heatmap": [
           {
            "colorbar": {
             "outlinewidth": 0,
             "ticks": ""
            },
            "colorscale": [
             [
              0,
              "#0d0887"
             ],
             [
              0.1111111111111111,
              "#46039f"
             ],
             [
              0.2222222222222222,
              "#7201a8"
             ],
             [
              0.3333333333333333,
              "#9c179e"
             ],
             [
              0.4444444444444444,
              "#bd3786"
             ],
             [
              0.5555555555555556,
              "#d8576b"
             ],
             [
              0.6666666666666666,
              "#ed7953"
             ],
             [
              0.7777777777777778,
              "#fb9f3a"
             ],
             [
              0.8888888888888888,
              "#fdca26"
             ],
             [
              1,
              "#f0f921"
             ]
            ],
            "type": "heatmap"
           }
          ],
          "heatmapgl": [
           {
            "colorbar": {
             "outlinewidth": 0,
             "ticks": ""
            },
            "colorscale": [
             [
              0,
              "#0d0887"
             ],
             [
              0.1111111111111111,
              "#46039f"
             ],
             [
              0.2222222222222222,
              "#7201a8"
             ],
             [
              0.3333333333333333,
              "#9c179e"
             ],
             [
              0.4444444444444444,
              "#bd3786"
             ],
             [
              0.5555555555555556,
              "#d8576b"
             ],
             [
              0.6666666666666666,
              "#ed7953"
             ],
             [
              0.7777777777777778,
              "#fb9f3a"
             ],
             [
              0.8888888888888888,
              "#fdca26"
             ],
             [
              1,
              "#f0f921"
             ]
            ],
            "type": "heatmapgl"
           }
          ],
          "histogram": [
           {
            "marker": {
             "pattern": {
              "fillmode": "overlay",
              "size": 10,
              "solidity": 0.2
             }
            },
            "type": "histogram"
           }
          ],
          "histogram2d": [
           {
            "colorbar": {
             "outlinewidth": 0,
             "ticks": ""
            },
            "colorscale": [
             [
              0,
              "#0d0887"
             ],
             [
              0.1111111111111111,
              "#46039f"
             ],
             [
              0.2222222222222222,
              "#7201a8"
             ],
             [
              0.3333333333333333,
              "#9c179e"
             ],
             [
              0.4444444444444444,
              "#bd3786"
             ],
             [
              0.5555555555555556,
              "#d8576b"
             ],
             [
              0.6666666666666666,
              "#ed7953"
             ],
             [
              0.7777777777777778,
              "#fb9f3a"
             ],
             [
              0.8888888888888888,
              "#fdca26"
             ],
             [
              1,
              "#f0f921"
             ]
            ],
            "type": "histogram2d"
           }
          ],
          "histogram2dcontour": [
           {
            "colorbar": {
             "outlinewidth": 0,
             "ticks": ""
            },
            "colorscale": [
             [
              0,
              "#0d0887"
             ],
             [
              0.1111111111111111,
              "#46039f"
             ],
             [
              0.2222222222222222,
              "#7201a8"
             ],
             [
              0.3333333333333333,
              "#9c179e"
             ],
             [
              0.4444444444444444,
              "#bd3786"
             ],
             [
              0.5555555555555556,
              "#d8576b"
             ],
             [
              0.6666666666666666,
              "#ed7953"
             ],
             [
              0.7777777777777778,
              "#fb9f3a"
             ],
             [
              0.8888888888888888,
              "#fdca26"
             ],
             [
              1,
              "#f0f921"
             ]
            ],
            "type": "histogram2dcontour"
           }
          ],
          "mesh3d": [
           {
            "colorbar": {
             "outlinewidth": 0,
             "ticks": ""
            },
            "type": "mesh3d"
           }
          ],
          "parcoords": [
           {
            "line": {
             "colorbar": {
              "outlinewidth": 0,
              "ticks": ""
             }
            },
            "type": "parcoords"
           }
          ],
          "pie": [
           {
            "automargin": true,
            "type": "pie"
           }
          ],
          "scatter": [
           {
            "fillpattern": {
             "fillmode": "overlay",
             "size": 10,
             "solidity": 0.2
            },
            "type": "scatter"
           }
          ],
          "scatter3d": [
           {
            "line": {
             "colorbar": {
              "outlinewidth": 0,
              "ticks": ""
             }
            },
            "marker": {
             "colorbar": {
              "outlinewidth": 0,
              "ticks": ""
             }
            },
            "type": "scatter3d"
           }
          ],
          "scattercarpet": [
           {
            "marker": {
             "colorbar": {
              "outlinewidth": 0,
              "ticks": ""
             }
            },
            "type": "scattercarpet"
           }
          ],
          "scattergeo": [
           {
            "marker": {
             "colorbar": {
              "outlinewidth": 0,
              "ticks": ""
             }
            },
            "type": "scattergeo"
           }
          ],
          "scattergl": [
           {
            "marker": {
             "colorbar": {
              "outlinewidth": 0,
              "ticks": ""
             }
            },
            "type": "scattergl"
           }
          ],
          "scattermapbox": [
           {
            "marker": {
             "colorbar": {
              "outlinewidth": 0,
              "ticks": ""
             }
            },
            "type": "scattermapbox"
           }
          ],
          "scatterpolar": [
           {
            "marker": {
             "colorbar": {
              "outlinewidth": 0,
              "ticks": ""
             }
            },
            "type": "scatterpolar"
           }
          ],
          "scatterpolargl": [
           {
            "marker": {
             "colorbar": {
              "outlinewidth": 0,
              "ticks": ""
             }
            },
            "type": "scatterpolargl"
           }
          ],
          "scatterternary": [
           {
            "marker": {
             "colorbar": {
              "outlinewidth": 0,
              "ticks": ""
             }
            },
            "type": "scatterternary"
           }
          ],
          "surface": [
           {
            "colorbar": {
             "outlinewidth": 0,
             "ticks": ""
            },
            "colorscale": [
             [
              0,
              "#0d0887"
             ],
             [
              0.1111111111111111,
              "#46039f"
             ],
             [
              0.2222222222222222,
              "#7201a8"
             ],
             [
              0.3333333333333333,
              "#9c179e"
             ],
             [
              0.4444444444444444,
              "#bd3786"
             ],
             [
              0.5555555555555556,
              "#d8576b"
             ],
             [
              0.6666666666666666,
              "#ed7953"
             ],
             [
              0.7777777777777778,
              "#fb9f3a"
             ],
             [
              0.8888888888888888,
              "#fdca26"
             ],
             [
              1,
              "#f0f921"
             ]
            ],
            "type": "surface"
           }
          ],
          "table": [
           {
            "cells": {
             "fill": {
              "color": "#EBF0F8"
             },
             "line": {
              "color": "white"
             }
            },
            "header": {
             "fill": {
              "color": "#C8D4E3"
             },
             "line": {
              "color": "white"
             }
            },
            "type": "table"
           }
          ]
         },
         "layout": {
          "annotationdefaults": {
           "arrowcolor": "#2a3f5f",
           "arrowhead": 0,
           "arrowwidth": 1
          },
          "autotypenumbers": "strict",
          "coloraxis": {
           "colorbar": {
            "outlinewidth": 0,
            "ticks": ""
           }
          },
          "colorscale": {
           "diverging": [
            [
             0,
             "#8e0152"
            ],
            [
             0.1,
             "#c51b7d"
            ],
            [
             0.2,
             "#de77ae"
            ],
            [
             0.3,
             "#f1b6da"
            ],
            [
             0.4,
             "#fde0ef"
            ],
            [
             0.5,
             "#f7f7f7"
            ],
            [
             0.6,
             "#e6f5d0"
            ],
            [
             0.7,
             "#b8e186"
            ],
            [
             0.8,
             "#7fbc41"
            ],
            [
             0.9,
             "#4d9221"
            ],
            [
             1,
             "#276419"
            ]
           ],
           "sequential": [
            [
             0,
             "#0d0887"
            ],
            [
             0.1111111111111111,
             "#46039f"
            ],
            [
             0.2222222222222222,
             "#7201a8"
            ],
            [
             0.3333333333333333,
             "#9c179e"
            ],
            [
             0.4444444444444444,
             "#bd3786"
            ],
            [
             0.5555555555555556,
             "#d8576b"
            ],
            [
             0.6666666666666666,
             "#ed7953"
            ],
            [
             0.7777777777777778,
             "#fb9f3a"
            ],
            [
             0.8888888888888888,
             "#fdca26"
            ],
            [
             1,
             "#f0f921"
            ]
           ],
           "sequentialminus": [
            [
             0,
             "#0d0887"
            ],
            [
             0.1111111111111111,
             "#46039f"
            ],
            [
             0.2222222222222222,
             "#7201a8"
            ],
            [
             0.3333333333333333,
             "#9c179e"
            ],
            [
             0.4444444444444444,
             "#bd3786"
            ],
            [
             0.5555555555555556,
             "#d8576b"
            ],
            [
             0.6666666666666666,
             "#ed7953"
            ],
            [
             0.7777777777777778,
             "#fb9f3a"
            ],
            [
             0.8888888888888888,
             "#fdca26"
            ],
            [
             1,
             "#f0f921"
            ]
           ]
          },
          "colorway": [
           "#636efa",
           "#EF553B",
           "#00cc96",
           "#ab63fa",
           "#FFA15A",
           "#19d3f3",
           "#FF6692",
           "#B6E880",
           "#FF97FF",
           "#FECB52"
          ],
          "font": {
           "color": "#2a3f5f"
          },
          "geo": {
           "bgcolor": "white",
           "lakecolor": "white",
           "landcolor": "#E5ECF6",
           "showlakes": true,
           "showland": true,
           "subunitcolor": "white"
          },
          "hoverlabel": {
           "align": "left"
          },
          "hovermode": "closest",
          "mapbox": {
           "style": "light"
          },
          "paper_bgcolor": "white",
          "plot_bgcolor": "#E5ECF6",
          "polar": {
           "angularaxis": {
            "gridcolor": "white",
            "linecolor": "white",
            "ticks": ""
           },
           "bgcolor": "#E5ECF6",
           "radialaxis": {
            "gridcolor": "white",
            "linecolor": "white",
            "ticks": ""
           }
          },
          "scene": {
           "xaxis": {
            "backgroundcolor": "#E5ECF6",
            "gridcolor": "white",
            "gridwidth": 2,
            "linecolor": "white",
            "showbackground": true,
            "ticks": "",
            "zerolinecolor": "white"
           },
           "yaxis": {
            "backgroundcolor": "#E5ECF6",
            "gridcolor": "white",
            "gridwidth": 2,
            "linecolor": "white",
            "showbackground": true,
            "ticks": "",
            "zerolinecolor": "white"
           },
           "zaxis": {
            "backgroundcolor": "#E5ECF6",
            "gridcolor": "white",
            "gridwidth": 2,
            "linecolor": "white",
            "showbackground": true,
            "ticks": "",
            "zerolinecolor": "white"
           }
          },
          "shapedefaults": {
           "line": {
            "color": "#2a3f5f"
           }
          },
          "ternary": {
           "aaxis": {
            "gridcolor": "white",
            "linecolor": "white",
            "ticks": ""
           },
           "baxis": {
            "gridcolor": "white",
            "linecolor": "white",
            "ticks": ""
           },
           "bgcolor": "#E5ECF6",
           "caxis": {
            "gridcolor": "white",
            "linecolor": "white",
            "ticks": ""
           }
          },
          "title": {
           "x": 0.05
          },
          "xaxis": {
           "automargin": true,
           "gridcolor": "white",
           "linecolor": "white",
           "ticks": "",
           "title": {
            "standoff": 15
           },
           "zerolinecolor": "white",
           "zerolinewidth": 2
          },
          "yaxis": {
           "automargin": true,
           "gridcolor": "white",
           "linecolor": "white",
           "ticks": "",
           "title": {
            "standoff": 15
           },
           "zerolinecolor": "white",
           "zerolinewidth": 2
          }
         }
        },
        "title": {
         "text": "Which heads can do both?"
        },
        "width": 600,
        "xaxis": {
         "anchor": "y",
         "constrain": "domain",
         "domain": [
          0,
          1
         ],
         "scaleanchor": "y",
         "title": {
          "text": "Head"
         }
        },
        "yaxis": {
         "anchor": "x",
         "autorange": "reversed",
         "constrain": "domain",
         "domain": [
          0,
          1
         ],
         "title": {
          "text": "Layer"
         }
        }
       }
      }
     },
     "metadata": {},
     "output_type": "display_data"
    }
   ],
   "source": [
    "px.imshow(best_heads, color_continuous_scale=\"RdBu\", color_continuous_midpoint=0, title=\"Which heads can do both?\", labels={\"x\": \"Head\", \"y\": \"Layer\"}, width=600)"
   ]
  },
  {
   "cell_type": "code",
   "execution_count": null,
   "metadata": {},
   "outputs": [],
   "source": []
  }
 ],
 "metadata": {
  "kernelspec": {
   "display_name": ".venv",
   "language": "python",
   "name": "python3"
  },
  "language_info": {
   "codemirror_mode": {
    "name": "ipython",
    "version": 3
   },
   "file_extension": ".py",
   "mimetype": "text/x-python",
   "name": "python",
   "nbconvert_exporter": "python",
   "pygments_lexer": "ipython3",
   "version": "3.10.12"
  }
 },
 "nbformat": 4,
 "nbformat_minor": 2
}
