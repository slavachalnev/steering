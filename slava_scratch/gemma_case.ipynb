{
 "cells": [
  {
   "cell_type": "code",
   "execution_count": 1,
   "metadata": {},
   "outputs": [
    {
     "data": {
      "text/plain": [
       "<torch.autograd.grad_mode.set_grad_enabled at 0x7fe1c6dd50f0>"
      ]
     },
     "execution_count": 1,
     "metadata": {},
     "output_type": "execute_result"
    }
   ],
   "source": [
    "import os\n",
    "import sys\n",
    "sys.path.append(os.path.abspath('..'))\n",
    "\n",
    "import torch\n",
    "from torch.utils.data import DataLoader\n",
    "from transformer_lens import HookedTransformer\n",
    "from transformer_lens import utils as tutils\n",
    "from transformer_lens.evals import make_pile_data_loader, evaluate_on_dataset\n",
    "\n",
    "from functools import partial\n",
    "from datasets import load_dataset\n",
    "import tqdm\n",
    "\n",
    "from sae_lens import SparseAutoencoder\n",
    "from sae_lens.toolkit.pretrained_saes import get_gpt2_res_jb_saes\n",
    "from sae_lens import SparseAutoencoder, ActivationsStore\n",
    "\n",
    "from steering.eval_utils import evaluate_completions\n",
    "from steering.utils import get_activation_steering, get_sae_diff_steering, remove_sae_feats, text_to_sae_feats, top_activations\n",
    "from steering.patch import generate, get_loss\n",
    "\n",
    "from steering.utils import text_to_sae_feats, top_activations, normalise_decoder\n",
    "from steering.patch import generate\n",
    "\n",
    "import plotly.express as px\n",
    "\n",
    "torch.set_grad_enabled(False)"
   ]
  },
  {
   "cell_type": "code",
   "execution_count": 2,
   "metadata": {},
   "outputs": [
    {
     "name": "stderr",
     "output_type": "stream",
     "text": [
      "/home/slava/safety/steering/.venv/lib/python3.10/site-packages/huggingface_hub/file_download.py:1132: FutureWarning: `resume_download` is deprecated and will be removed in version 1.0.0. Downloads always resume when possible. If you want to force a new download, use `force_download=True`.\n",
      "  warnings.warn(\n",
      "Gemma's activation function should be approximate GeLU and not exact GeLU.\n",
      "Changing the activation function to `gelu_pytorch_tanh`.if you want to use the legacy `gelu`, edit the `model.config` to set `hidden_activation=gelu`   instead of `hidden_act`. See https://github.com/huggingface/transformers/pull/29402 for more details.\n"
     ]
    },
    {
     "data": {
      "application/vnd.jupyter.widget-view+json": {
       "model_id": "0ae2be51bbd34b15941653ef3b8b5ac2",
       "version_major": 2,
       "version_minor": 0
      },
      "text/plain": [
       "Loading checkpoint shards:   0%|          | 0/2 [00:00<?, ?it/s]"
      ]
     },
     "metadata": {},
     "output_type": "display_data"
    },
    {
     "name": "stderr",
     "output_type": "stream",
     "text": [
      "WARNING:root:You are not using LayerNorm, so the writing weights can't be centered! Skipping\n"
     ]
    },
    {
     "name": "stdout",
     "output_type": "stream",
     "text": [
      "Loaded pretrained model gemma-2b into HookedTransformer\n"
     ]
    }
   ],
   "source": [
    "device = torch.device(\"cuda\" if torch.cuda.is_available() else \"cpu\")\n",
    "model = HookedTransformer.from_pretrained(\"gemma-2b\", device=device)"
   ]
  },
  {
   "cell_type": "code",
   "execution_count": 3,
   "metadata": {},
   "outputs": [
    {
     "data": {
      "application/vnd.jupyter.widget-view+json": {
       "model_id": "069dcd03748e4c368ea7844c6171dc42",
       "version_major": 2,
       "version_minor": 0
      },
      "text/plain": [
       "Resolving data files:   0%|          | 0/23032 [00:00<?, ?it/s]"
      ]
     },
     "metadata": {},
     "output_type": "display_data"
    },
    {
     "data": {
      "application/vnd.jupyter.widget-view+json": {
       "model_id": "121a8770eab34fc8b2a7b6cf099d2826",
       "version_major": 2,
       "version_minor": 0
      },
      "text/plain": [
       "Resolving data files:   0%|          | 0/23032 [00:00<?, ?it/s]"
      ]
     },
     "metadata": {},
     "output_type": "display_data"
    }
   ],
   "source": [
    "hp6 = \"blocks.6.hook_resid_post\"\n",
    "sae6 = SparseAutoencoder.from_pretrained(\"gemma-2b-res-jb\", hp6)\n",
    "normalise_decoder(sae6)\n",
    "activation_store = ActivationsStore.from_config(model, sae6.cfg)\n",
    "\n",
    "sae6 = sae6.to(device)"
   ]
  },
  {
   "cell_type": "markdown",
   "metadata": {},
   "source": [
    "## Anger"
   ]
  },
  {
   "cell_type": "code",
   "execution_count": 10,
   "metadata": {},
   "outputs": [
    {
     "data": {
      "text/plain": [
       "torch.Size([1, 2, 2048])"
      ]
     },
     "execution_count": 10,
     "metadata": {},
     "output_type": "execute_result"
    }
   ],
   "source": [
    "pos_text = \"Anger\"\n",
    "neg_text = \"Calm\"\n",
    "\n",
    "anger_activation_steering= get_activation_steering(model, hp6, pos_text, neg_text)\n",
    "anger_activation_steering.shape"
   ]
  },
  {
   "cell_type": "code",
   "execution_count": 11,
   "metadata": {},
   "outputs": [
    {
     "name": "stderr",
     "output_type": "stream",
     "text": [
      "100%|██████████| 5/5 [00:05<00:00,  1.08s/it]\n"
     ]
    },
    {
     "data": {
      "text/plain": [
       "[\"I think that's about it for Fe-Lange... although that doesn't seem to be the place where\",\n",
       " \"I think that is a typical launderette.\\n\\nThe answer is discrimination: she didn't launder it, the\",\n",
       " \"I think that it's still legal in prison. any other question?\\nrefered multiple times as an act\",\n",
       " \"I think that's because the overall size of Londo is the same as 1/20 of Earth\",\n",
       " 'I think that means no tattoo you know ;) XD I am always going to love this tat :)\\n\\nTastic tattoo']"
      ]
     },
     "execution_count": 11,
     "metadata": {},
     "output_type": "execute_result"
    }
   ],
   "source": [
    "generate(model,\n",
    "         hp6,\n",
    "         prompt=\"I think that\",\n",
    "         steering_vector=anger_activation_steering,\n",
    "         scale=10)"
   ]
  },
  {
   "cell_type": "code",
   "execution_count": 12,
   "metadata": {},
   "outputs": [
    {
     "data": {
      "text/plain": [
       "(tensor([[[24.4932, 23.9630, 23.2544, 21.0681, 20.9372, 20.6655, 20.3199,\n",
       "           19.8953, 19.0510, 18.4377],\n",
       "          [56.7609, 14.0818, 12.2185, 11.2966, 10.9838,  9.4307,  8.0595,\n",
       "            7.1658,  7.1005,  5.8064]]], device='cuda:0'),\n",
       " tensor([[[ 3390, 15881,  5347, 16334,   556,  8704, 11785,  5624,  5396,  6877],\n",
       "          [ 1062, 12753,  1213, 11968, 12167,  5915,  2491, 15173, 11912, 12312]]],\n",
       "        device='cuda:0'))"
      ]
     },
     "execution_count": 12,
     "metadata": {},
     "output_type": "execute_result"
    }
   ],
   "source": [
    "top_activations(text_to_sae_feats(model, sae6, hook_point=hp6, text=pos_text))"
   ]
  },
  {
   "cell_type": "code",
   "execution_count": 29,
   "metadata": {},
   "outputs": [
    {
     "name": "stdout",
     "output_type": "stream",
     "text": [
      "torch.Size([2048])\n"
     ]
    }
   ],
   "source": [
    "anger_sae_steering = sae6.W_dec[1062, :] * 56.7609\n",
    "print(anger_sae_steering.shape)\n",
    "anger_sae_steering = anger_sae_steering[None, None, :]"
   ]
  },
  {
   "cell_type": "code",
   "execution_count": 16,
   "metadata": {},
   "outputs": [],
   "source": [
    "scales = [0, 1, 2, 4, 8, 10, 15, 20]"
   ]
  },
  {
   "cell_type": "code",
   "execution_count": 13,
   "metadata": {},
   "outputs": [
    {
     "name": "stdout",
     "output_type": "stream",
     "text": [
      "loading dataset: NeelNanda/c4-code-20k\n"
     ]
    },
    {
     "data": {
      "application/vnd.jupyter.widget-view+json": {
       "model_id": "6fdcf813f12c4a82ad5815e44898724b",
       "version_major": 2,
       "version_minor": 0
      },
      "text/plain": [
       "Map (num_proc=10):   0%|          | 0/20000 [00:00<?, ? examples/s]"
      ]
     },
     "metadata": {},
     "output_type": "display_data"
    },
    {
     "name": "stdout",
     "output_type": "stream",
     "text": [
      "dataset loaded\n"
     ]
    },
    {
     "name": "stderr",
     "output_type": "stream",
     "text": [
      "100%|██████████| 8/8 [00:25<00:00,  3.17s/it]\n"
     ]
    }
   ],
   "source": [
    "act_steer_losses = get_loss(model, hp6, steering_vector=anger_activation_steering, scales=scales)"
   ]
  },
  {
   "cell_type": "code",
   "execution_count": 33,
   "metadata": {},
   "outputs": [],
   "source": [
    "prompt = \"I think you're\""
   ]
  },
  {
   "cell_type": "code",
   "execution_count": 17,
   "metadata": {},
   "outputs": [
    {
     "name": "stderr",
     "output_type": "stream",
     "text": [
      "  0%|          | 0/10 [00:00<?, ?it/s]"
     ]
    },
    {
     "name": "stderr",
     "output_type": "stream",
     "text": [
      "100%|██████████| 10/10 [00:10<00:00,  1.08s/it]\n"
     ]
    },
    {
     "name": "stdout",
     "output_type": "stream",
     "text": [
      "[{'score': 1, 'reason': 'The text does not exhibit any signs of anger. It is neutral and focuses on providing information and advice.'}, {'score': 1, 'reason': 'The text is calm and constructive, showing no signs of anger or hostility.'}, {'score': 1, 'reason': 'The text does not express any anger. It is neutral and supportive, highlighting shared experiences and empathy.'}, {'score': 7, 'reason': \"The text uses strong negative language like 'crazy' and 'sickening,' which conveys a significant amount of anger and disdain. However, without more context, it does not reach the highest levels of anger.\"}, {'score': 1, 'reason': 'The text is positive and supportive, with no indication of anger.'}, {'score': 2, 'reason': \"The text does not exhibit significant anger. It may come across as slightly dismissive or blunt, but it doesn't convey strong emotions of anger.\"}, {'score': 1, 'reason': 'The text is neutral and focuses on describing a home. There is no indication of anger in the completion.'}, {'score': 1, 'reason': \"The completion is calm and acknowledges the validity of the other person's point. There are no elements of anger present in the text.\"}, {'score': 1, 'reason': 'The text is neutral and even somewhat positive in tone, with no indications of anger.'}, {'score': 2, 'reason': \"The text expresses a mild critique by saying 'I think you're hard to please,' but it does not convey strong anger or hostility. The rest of the text is a neutral statement about dryness and moisture.\"}]\n",
      "mean 1.8\n"
     ]
    },
    {
     "name": "stderr",
     "output_type": "stream",
     "text": [
      "100%|██████████| 10/10 [00:10<00:00,  1.08s/it]\n"
     ]
    },
    {
     "name": "stdout",
     "output_type": "stream",
     "text": [
      "[{'score': 1, 'reason': 'The text does not exhibit any signs of anger. It appears to be a somewhat confused or jumbled statement, but there is no expression of strong emotion, let alone anger.'}, {'score': 1, 'reason': 'The text does not express any anger. It appears to be a disjointed and confusing statement without any emotional intensity or negative sentiment.'}, {'score': 2, 'reason': 'The text is mildly dismissive but not overtly angry. It suggests the person is confused but does not express strong emotion or harsh language.'}, {'score': 1, 'reason': 'The text does not exhibit any signs of anger. It is neutral and appears to be a polite continuation of a conversation.'}, {'score': 2, 'reason': 'The text expresses a concern and a warning, but it does not convey significant anger. The language used is cautionary rather than aggressive or angry.'}, {'score': 2, 'reason': 'The text does not exhibit significant anger. It seems more concerned or confused rather than angry, as it discusses suspicion and confusion rather than expressing anger or hostility.'}, {'score': 1, 'reason': 'The text does not exhibit any signs of anger. It is neutral and informative, with no aggressive or hostile language.'}, {'score': 2, 'reason': \"The text displays a mild level of frustration or impatience but does not convey strong anger. The phrase 'beating the bushes' suggests a sense of inefficiency or aimlessness, but it is not particularly hostile or aggressive.\"}, {'score': 2, 'reason': 'The text does not express overt anger. It appears to be a part of a neutral discussion or debate, addressing a specific point without using inflammatory or aggressive language.'}, {'score': 1, 'reason': 'The text is calm and constructive, suggesting alternative options in a polite manner without any indication of anger.'}]\n",
      "mean 1.5\n"
     ]
    },
    {
     "name": "stderr",
     "output_type": "stream",
     "text": [
      "100%|██████████| 10/10 [00:10<00:00,  1.08s/it]\n"
     ]
    },
    {
     "name": "stdout",
     "output_type": "stream",
     "text": [
      "[{'score': 1, 'reason': 'The text does not exhibit any signs of anger. It is a neutral and informative response about learning Spanish on Preply.'}, {'score': 1, 'reason': 'The text does not exhibit any signs of anger. It is a straightforward response to a query about ABS types and a technical manual.'}, {'score': 1, 'reason': 'The text is neutral and does not express any anger. It is an instructional statement about using wildcards in a cell.'}, {'score': 1, 'reason': 'The text does not contain any elements of anger. It is a neutral statement providing technical advice.'}, {'score': 1, 'reason': 'The text is positive and encouraging, with no signs of anger. The use of emojis further emphasizes the cheerful tone.'}, {'score': 1, 'reason': 'The text expresses a neutral or slightly agreeable tone without any indication of anger. The language used is calm and factual.'}, {'score': 1, 'reason': 'The text does not exhibit any signs of anger. It merely points out a potential mistake in a neutral and factual manner.'}, {'score': 1, 'reason': 'The text does not express any anger. It is neutral and focuses on solving a practical problem.'}, {'score': 7, 'reason': \"The use of the phrase 'bullshitting yourself' conveys a significant level of frustration or anger. The strong language contributes to an overall angry tone, but it is not overly aggressive or violent.\"}, {'score': 2, 'reason': 'The text expresses a mild level of frustration or concern, but it does not convey significant anger. The tone is more about providing advice and reassurance rather than displaying strong emotions.'}]\n",
      "mean 1.7\n"
     ]
    },
    {
     "name": "stderr",
     "output_type": "stream",
     "text": [
      "100%|██████████| 10/10 [00:10<00:00,  1.08s/it]\n"
     ]
    },
    {
     "name": "stdout",
     "output_type": "stream",
     "text": [
      "[{'score': 2, 'reason': 'The text does not exhibit strong indications of anger. It seems more like a technical correction or explanation rather than an emotional outburst.'}, {'score': 2, 'reason': \"The text contains a critical remark but it is framed in a relatively polite manner. There's no strong language or overtly angry tone.\"}, {'score': 2, 'reason': 'The text does not exhibit strong signs of anger. The statement is more observational and lacks any hostile or aggressive language.'}, {'score': 1, 'reason': 'The text expresses agreement and lacks any indication of anger. The tone is neutral and conversational, with no elements of hostility or frustration.'}, {'score': 2, 'reason': 'The text exhibits very little, if any, anger. The language used is neutral and does not convey strong negative emotions. It seems more confusing or playful rather than angry.'}, {'score': 1, 'reason': \"The text is calm and does not express any anger. It talks about understanding someone's feelings and the demands of life in a neutral tone.\"}, {'score': 1, 'reason': 'The generated text does not contain any elements of anger. It appears to be an incomplete statement that lacks any emotional context, particularly anger.'}, {'score': 2, 'reason': 'The text does not exhibit a high level of anger. It seems to be making a general statement about tastes and individuality, which might imply some mild frustration but lacks strong emotional intensity.'}, {'score': 1, 'reason': 'The text does not display any signs of anger. It is neutral and appears to be discussing a medical or scientific topic.'}, {'score': 1, 'reason': 'The text is purely technical and neutral, focusing on a mechanical issue without any indication of anger.'}]\n",
      "mean 1.5\n"
     ]
    },
    {
     "name": "stderr",
     "output_type": "stream",
     "text": [
      "100%|██████████| 10/10 [00:10<00:00,  1.08s/it]\n"
     ]
    },
    {
     "name": "stdout",
     "output_type": "stream",
     "text": [
      "[{'score': 1, 'reason': 'The completion contains no elements of anger. It is a neutral and analytical statement.'}, {'score': 1, 'reason': 'The text does not exhibit any signs of anger. It is neutral and encouraging in tone.'}, {'score': 1, 'reason': 'The text does not contain any signs of anger. It is neutral and focuses on a technical suggestion.'}, {'score': 2, 'reason': 'The text suggests that the other person is making a mistake, but it is stated in a relatively neutral and constructive manner without displaying significant anger.'}, {'score': 1, 'reason': 'The text is positive and supportive, with no indication of anger.'}, {'score': 1, 'reason': 'The text does not express any anger. It seems to be a calm and neutral statement, suggesting that the person is overthinking something.'}, {'score': 2, 'reason': 'The text contains a mild tone of frustration or confusion, but it does not convey strong anger. The language is relatively neutral and does not include aggressive or highly emotional expressions.'}, {'score': 1, 'reason': 'The text does not exhibit any signs of anger. It uses neutral and careful language, making no attempt to express frustration or hostility.'}, {'score': 1, 'reason': 'The text does not contain any language or sentiment that indicates anger. It is a neutral and informative statement.'}, {'score': 1, 'reason': 'The text is a neutral statement discussing a specific design from the 80s. There are no indications of anger in the language or tone.'}]\n",
      "mean 1.2\n"
     ]
    },
    {
     "name": "stderr",
     "output_type": "stream",
     "text": [
      "100%|██████████| 10/10 [00:10<00:00,  1.08s/it]\n"
     ]
    },
    {
     "name": "stdout",
     "output_type": "stream",
     "text": [
      "[{'score': 2, 'reason': 'The generated text does not contain any clear expression of anger. It seems to discuss a topic related to COVID-19 and social distancing in a neutral manner.'}, {'score': 4, 'reason': \"The text carries a mild tone of criticism and condescension, suggesting that the person being addressed is increasingly influenced by something negative ('that stuff'). However, it does not express strong anger or hostility.\"}, {'score': 2, 'reason': 'The text does not express significant anger. It appears to be a simple correction or clarification, with no aggressive or hostile language.'}, {'score': 1, 'reason': 'The text is neutral and provides an opinion on the importance of knowing how to perform certain exercises. There is no indication of anger in the language or tone used.'}, {'score': 1, 'reason': 'The text does not express any anger. It seems to be a reflective statement about personal experiences and struggles.'}, {'score': 2, 'reason': \"The text expresses mild discontent but does not exhibit significant anger. The language used is relatively calm and there's no strong emotional outburst.\"}, {'score': 3, 'reason': \"The text expresses a mild criticism but does not exhibit strong anger. The use of 'WAY too harsh' indicates some level of frustration, but the overall tone remains relatively calm and controlled.\"}, {'score': 1, 'reason': 'The text does not display any signs of anger. It appears to be a neutral statement clarifying a point about a competition.'}, {'score': 1, 'reason': 'The text is a simple instruction related to setting up equipment and does not convey any anger.'}, {'score': 1, 'reason': 'The text is neutral and constructive, providing guidance without any indication of anger.'}]\n",
      "mean 1.8\n"
     ]
    },
    {
     "name": "stderr",
     "output_type": "stream",
     "text": [
      "100%|██████████| 10/10 [00:10<00:00,  1.08s/it]\n"
     ]
    },
    {
     "name": "stdout",
     "output_type": "stream",
     "text": [
      "[{'score': 1, 'reason': 'The completion does not display any anger. It seems to be a neutral or even whimsical statement about a future event, followed by a mention of a seemingly unrelated subject.'}, {'score': 1, 'reason': 'The text does not exhibit any signs of anger. It is a neutral statement pointing out a potential misunderstanding about the use of Ajax.'}, {'score': 1, 'reason': 'The text does not contain any elements of anger. It is neutral and appears to be discussing an observation about Keanu Reeves doing stunts.'}, {'score': 1, 'reason': 'The text does not convey any anger. It simply states an opinion about a hiring practice in a neutral manner.'}, {'score': 1, 'reason': 'The text is purely informational and does not express any anger. It discusses a technical aspect of submitting data from a javascript call.'}, {'score': 1, 'reason': \"The text does not exhibit any signs of anger. It simply states an opinion and a reference to Mr. Shapiro's opinion without any emotional intensity.\"}, {'score': 1, 'reason': \"The text is neutral and factual, discussing correct information about Eufland's offering. There are no words or phrases that indicate anger.\"}, {'score': 2, 'reason': 'The text expresses a mild correction but does not exhibit significant anger. It points out a perceived misunderstanding without using harsh or inflammatory language.'}, {'score': 1, 'reason': 'The text does not contain any elements of anger. It is informative and neutral, providing a URL to an API.'}, {'score': 1, 'reason': 'The text is neutral and does not express any anger. It appears to be a simple discussion about a preference for using Photoshop for retouching, without any negative or angry tone.'}]\n",
      "mean 1.1\n"
     ]
    },
    {
     "name": "stderr",
     "output_type": "stream",
     "text": [
      "100%|██████████| 10/10 [00:10<00:00,  1.08s/it]\n"
     ]
    },
    {
     "name": "stdout",
     "output_type": "stream",
     "text": [
      "[{'score': 4, 'reason': \"The text expresses a critical opinion, suggesting someone's performance is deteriorating. While it has a slightly negative tone, it lacks strong language or intense anger.\"}, {'score': 1, 'reason': 'The text does not convey any anger. It appears to be a fragmented and somewhat incoherent statement without any emotional intensity, let alone anger.'}, {'score': 1, 'reason': 'The text is purely informational and does not exhibit any anger. It is focused on discussing a scientific topic related to meerkats and their genetics.'}, {'score': 3, 'reason': \"The text expresses mild frustration or disappointment, particularly with the phrase 'HS1s were a rip off.' However, it lacks strong or explicit expressions of anger.\"}, {'score': 1, 'reason': \"The text is neutral and does not express any anger. It acknowledges both parties' viewpoints in a calm and respectful manner.\"}, {'score': 2, 'reason': 'The text expresses a mild critique and advice, but there is no strong indication of anger. The tone is more corrective and instructive rather than angry.'}, {'score': 1, 'reason': 'The text does not convey any anger. It is a neutral and encouraging statement about readiness to discuss important issues.'}, {'score': 2, 'reason': 'The text shows a slight level of frustration or correction, but it is not overtly angry. The language used is more corrective and clarifying rather than expressing anger.'}, {'score': 8, 'reason': \"The text includes a strong insult ('asshole') which conveys a high level of anger. The context and tone suggest frustration and a lack of patience, further contributing to the high anger score.\"}, {'score': 1, 'reason': \"The text does not exhibit any signs of anger. It is a neutral statement acknowledging someone's correctness and providing a brief comment on the examples shown.\"}]\n",
      "mean 2.4\n"
     ]
    }
   ],
   "source": [
    "mean_scores = []\n",
    "for scale in scales:\n",
    "    gen_texts = generate(model, hp6, prompt=prompt, steering_vector=anger_activation_steering, scale=scale, n_samples=10)\n",
    "    evals = evaluate_completions(gen_texts, criterion=\"Anger\", prompt=prompt)\n",
    "    print(evals)\n",
    "    scores = [e['score'] for e in evals]\n",
    "    mean = sum(scores) / len(scores)\n",
    "    mean_scores.append(mean)\n",
    "    print(\"mean\", mean)"
   ]
  },
  {
   "cell_type": "code",
   "execution_count": 32,
   "metadata": {},
   "outputs": [
    {
     "name": "stdout",
     "output_type": "stream",
     "text": [
      "loading dataset: NeelNanda/c4-code-20k\n",
      "dataset loaded\n"
     ]
    },
    {
     "name": "stderr",
     "output_type": "stream",
     "text": [
      "100%|██████████| 8/8 [00:25<00:00,  3.18s/it]\n"
     ]
    }
   ],
   "source": [
    "sae_anger_losses = get_loss(model, hp6, steering_vector=anger_sae_steering, scales=scales)"
   ]
  },
  {
   "cell_type": "code",
   "execution_count": 34,
   "metadata": {},
   "outputs": [
    {
     "name": "stderr",
     "output_type": "stream",
     "text": [
      "100%|██████████| 10/10 [00:10<00:00,  1.08s/it]\n"
     ]
    },
    {
     "name": "stdout",
     "output_type": "stream",
     "text": [
      "[{'score': 1, 'reason': 'The text is neutral and lacks any elements of anger. It appears to be a calm discussion about a topic without any emotional intensity.'}, {'score': 1, 'reason': 'The text expresses agreement and understanding, with no signs of anger or frustration.'}, {'score': 1, 'reason': 'The text does not display any signs of anger. It simply states a technical observation and provides information about the status of a component.'}, {'score': 1, 'reason': 'The text is neutral and does not display any signs of anger. It appears to be a simple clarification or correction regarding a misunderstanding.'}, {'score': 1, 'reason': \"The text does not convey any anger. It appears to be a neutral statement about someone's opinion and research on a historical topic.\"}, {'score': 2, 'reason': 'The text does not exhibit significant signs of anger. It is more of a casual, slightly critical question about the cost of an EE university, suggesting that the person might be overthinking the situation.'}, {'score': 1, 'reason': \"The text does not convey any anger. It appears to be a neutral or positive statement about agreeing with someone's opinion on a sample pack of contractors.\"}, {'score': 1, 'reason': \"The text expresses agreement and positive sentiments, showing no signs of anger. Words like 'right', 'wonderful', 'supportive', and 'xxx' (hugs and kisses) indicate a friendly and supportive tone.\"}, {'score': 1, 'reason': 'The completion discusses a technical topic related to ERA computation and fields, and does not convey any anger.'}, {'score': 3, 'reason': \"The text shows a hint of frustration or annoyance with phrases like 'back-peddling a lot' and 'whatever,' but it doesn't exhibit a high level of anger. The tone is more dismissive than outright angry.\"}]\n",
      "mean 1.3\n"
     ]
    },
    {
     "name": "stderr",
     "output_type": "stream",
     "text": [
      "100%|██████████| 10/10 [00:10<00:00,  1.09s/it]\n"
     ]
    },
    {
     "name": "stdout",
     "output_type": "stream",
     "text": [
      "[{'score': 1, 'reason': 'The text does not display any signs of anger. It is neutral and seems to be providing a positive or supportive remark.'}, {'score': 1, 'reason': \"The text does not exhibit any signs of anger. It simply presents a viewpoint about UCLA's general requirements in a neutral tone.\"}, {'score': 1, 'reason': 'The text does not contain any expressions of anger. It is a neutral statement discussing bandwidth requirements for a tablet newspaper.'}, {'score': 1, 'reason': 'The text does not exhibit any signs of anger. It appears to be a neutral statement about programming logic.'}, {'score': 3, 'reason': \"The text mentions 'anger' in the context of defining envy, but it does not express anger itself. The tone is more explanatory and neutral.\"}, {'score': 1, 'reason': 'The text is technical and factual, lacking any emotional tone, particularly anger.'}, {'score': 1, 'reason': 'The text is calm and neutral, providing a straightforward opinion and a suggestion. There is no indication of anger.'}, {'score': 1, 'reason': 'The text does not exhibit any signs of anger. It appears to be a calm and neutral statement discussing political parties.'}, {'score': 1, 'reason': 'The completion does not express anger. It appears to be a neutral explanation or statement about a technical process.'}, {'score': 1, 'reason': 'The text is informative and neutral, providing clarifying information without any indication of anger.'}]\n",
      "mean 1.2\n"
     ]
    },
    {
     "name": "stderr",
     "output_type": "stream",
     "text": [
      "100%|██████████| 10/10 [00:10<00:00,  1.08s/it]\n"
     ]
    },
    {
     "name": "stdout",
     "output_type": "stream",
     "text": [
      "[{'score': 1, 'reason': \"The text is neutral and does not exhibit any signs of anger. It seems to be a calm explanation or clarification regarding dogs' behavior.\"}, {'score': 2, 'reason': \"The text suggests that someone might be overreacting, which could imply a mild level of frustration or annoyance, but it doesn't convey strong anger. The tone remains relatively neutral and calm.\"}, {'score': 1, 'reason': 'The text does not exhibit any signs of anger. It is simply explaining a situation in a neutral manner.'}, {'score': 1, 'reason': \"The text does not express any anger. It seems neutral and matter-of-fact, discussing reaching out to a 'grizzly dealer.'\"}, {'score': 6, 'reason': \"The text contains a mild insult ('talking out of your a*s'), which indicates some level of anger or frustration. However, it is not excessively aggressive or filled with intense anger.\"}, {'score': 2, 'reason': \"The text mentions 'angryviper', which could be a username or handle, but it does not explicitly convey anger. The overall tone seems neutral rather than angry.\"}, {'score': 2, 'reason': 'The text does not exhibit much anger. It seems to be clarifying a misunderstanding rather than expressing frustration or hostility.'}, {'score': 2, 'reason': 'The text expresses a mild disagreement but remains constructive and respectful. There is no significant indication of anger.'}, {'score': 1, 'reason': 'The text does not contain any expressions or indicators of anger. It seems to be a technical clarification or correction.'}, {'score': 4, 'reason': 'The text suggests a level of frustration or dissatisfaction, potentially indicating that the person being addressed is angry. However, the language used is not overtly aggressive or intensely angry. It carries a tone of mild irritation or annoyance.'}]\n",
      "mean 2.2\n"
     ]
    },
    {
     "name": "stderr",
     "output_type": "stream",
     "text": [
      "100%|██████████| 10/10 [00:10<00:00,  1.08s/it]\n"
     ]
    },
    {
     "name": "stdout",
     "output_type": "stream",
     "text": [
      "[{'score': 1, 'reason': 'The text does not express any noticeable anger. It appears to be a neutral or slightly confused response.'}, {'score': 4, 'reason': 'The text suggests that the person being addressed is angry, but it does so in a relatively mild and indirect manner. It does not contain strong language or aggressive tone that would indicate a high level of anger.'}, {'score': 1, 'reason': 'The text is neutral and does not contain any elements of anger. It provides a suggestion without any negative or aggressive language.'}, {'score': 3, 'reason': \"The text expresses a mild criticism but does not contain strong language or aggressive tone that would indicate significant anger. The use of '(****)' suggests some level of frustration, but it is not intense.\"}, {'score': 5, 'reason': 'The text suggests anger towards a specific person, but it does not contain strong or explicit expressions of anger itself. The mention of anger is present but not intensely conveyed.'}, {'score': 2, 'reason': \"The text does not exhibit much anger. It acknowledges anger as a 'micro moment' and seems more curious about the potential reaction rather than expressing or inciting anger.\"}, {'score': 3, 'reason': \"The text displays a mild level of frustration or defensiveness, but it doesn't exhibit strong anger. The use of capital letters for 'NOT' suggests some emphasis, but overall, the language and tone are relatively restrained.\"}, {'score': 3, 'reason': \"The text expresses a mild level of frustration or annoyance rather than intense anger. The phrase 'a little angry' indicates a low intensity of anger.\"}, {'score': 4, 'reason': \"The text acknowledges anger but does so in a reflective and analytical manner, discussing the emotion without displaying it. The use of 'wrath' does raise the intensity slightly, but overall, the tone remains calm and explanatory.\"}, {'score': 1, 'reason': 'The text does not express anger. It simply conveys a neutral statement about a situation involving the right-click menu.'}]\n",
      "mean 2.7\n"
     ]
    },
    {
     "name": "stderr",
     "output_type": "stream",
     "text": [
      "100%|██████████| 10/10 [00:10<00:00,  1.08s/it]\n"
     ]
    },
    {
     "name": "stdout",
     "output_type": "stream",
     "text": [
      "[{'score': 4, 'reason': \"The text expresses disagreement and urgency about a potentially dangerous situation, but it does not display a high level of anger. The words 'wrong' and the unconventional terms 'Furius' and 'Madraicky' might suggest some frustration or strong feeling, but they are not sufficient to convey significant anger.\"}, {'score': 3, 'reason': 'The text expresses a mild disagreement but does not convey significant anger. The sentence structure is more focused on expressing a differing opinion rather than conveying any strong negative emotions.'}, {'score': 7, 'reason': \"The text expresses a significant level of frustration and anger, particularly with the phrase 'causing more harm than anything else'. Words like 'nuclearraged' and the overall tone suggest a high degree of anger, although it's somewhat incoherent, which slightly diminishes the impact.\"}, {'score': 4, 'reason': \"The text suggests a critical tone by implying the listener is 'blind,' but it does not express strong anger. The language used is more condescending than outright angry.\"}, {'score': 7, 'reason': \"The text suggests that there was a previous incident where someone was very upset, as indicated by the mention of 'screaming' and 'mad'. However, the incomplete nature of the sentence limits the full expression of anger.\"}, {'score': 6, 'reason': \"The text includes terms like 'angrily' and 'mad,' which indicate a moderate level of anger. However, the overall context and phrasing do not convey intense anger.\"}, {'score': 8, 'reason': \"The text exhibits a high level of anger, particularly with the use of strong, offensive language ('fuck with the authority'). Additionally, the expression of wanting to 'really test him' suggests a confrontational and aggressive attitude.\"}, {'score': 2, 'reason': \"The text does not exhibit a significant level of anger. The phrase 'over-impressed' might imply some mild criticism, but it lacks the intensity or emotional weight typically associated with anger.\"}, {'score': 6, 'reason': 'The text suggests that the person being addressed is angry and hints at a conflict within their group. However, it does not convey a strong or explicit sense of anger itself, hence the moderate score.'}, {'score': 8, 'reason': \"The text uses several aggressive and intense words like 'temperpable,' 'fire fuming,' and 'strict angingfukyumb,' which convey a strong sense of anger. Although the text is somewhat incoherent, the overall tone is clearly angry.\"}]\n",
      "mean 5.5\n"
     ]
    },
    {
     "name": "stderr",
     "output_type": "stream",
     "text": [
      "100%|██████████| 10/10 [00:10<00:00,  1.08s/it]\n"
     ]
    },
    {
     "name": "stdout",
     "output_type": "stream",
     "text": [
      "[{'score': 5, 'reason': \"The generated text appears disjointed and unclear, with a mix of phrases that don't form a coherent sentence. The inclusion of words like 'Furious' and 'fuming' suggests a level of anger or frustration, but the overall context is too fragmented to convey strong anger effectively.\"}, {'score': 1, 'reason': 'The text is largely incoherent and does not clearly convey any anger. The use of special characters and gibberish makes it difficult to interpret any strong emotional tone, let alone anger.'}, {'score': 7, 'reason': \"The text displays a significant level of anger, especially with phrases like 'Island fuming,' 'Hell hell hell,' and 'I can yell.' These expressions suggest a high degree of frustration and anger, though it is not entirely coherent, which slightly reduces the intensity.\"}, {'score': 2, 'reason': \"The text contains repetitive words and seems disjointed, but it does not convey anger. The use of 'fuming' could suggest frustration, but the context does not clearly indicate anger.\"}, {'score': 2, 'reason': \"The text is largely incoherent and nonsensical, making it difficult to detect any clear expression of anger. The presence of words like 'steamy' and 'angry' suggests a mild reference to anger, but the overall lack of clarity diminishes any strong impression of anger.\"}, {'score': 7, 'reason': \"The text includes words such as 'mad,' 'fuming,' and 'righteous,' which convey a notable level of anger. While the initial part of the text is neutral or positive, the latter part explicitly expresses anger multiple times, thus giving it a relatively high score.\"}, {'score': 8, 'reason': \"The text expresses a clear sense of anger, particularly in the closing sentence 'I get angy with you.' The spelling errors and fragmented structure lower the readability but do not significantly diminish the evident anger.\"}, {'score': 7, 'reason': \"The text uses words like 'angrier,' 'fuming,' and 'seething,' which indicate a high level of anger. The expression of anger is quite clear, although the sentence is not entirely coherent.\"}, {'score': 8, 'reason': \"The text contains explicit language and a strong accusation, which conveys a significant amount of anger. The use of 'FUCK' in all caps intensifies the sense of anger and frustration in the statement.\"}, {'score': 2, 'reason': 'The text is incoherent and does not clearly express anger. There are fragments and an unfinished thought which makes it difficult to discern any strong emotions, including anger.'}]\n",
      "mean 4.9\n"
     ]
    },
    {
     "name": "stderr",
     "output_type": "stream",
     "text": [
      "100%|██████████| 10/10 [00:10<00:00,  1.08s/it]\n"
     ]
    },
    {
     "name": "stdout",
     "output_type": "stream",
     "text": [
      "[{'score': 1, 'reason': 'The text does not exhibit any signs of anger. It appears nonsensical and lacks coherent emotional content.'}, {'score': 2, 'reason': \"The generated text repeats words and doesn't make much sense. The use of 'angrily' suggests a low level of anger, but the overall coherence is too poor to convey strong anger.\"}, {'score': 1, 'reason': 'The text generated does not contain any language or expressions that convey anger. It appears to be incomplete and repetitive without any emotional context.'}, {'score': 1, 'reason': 'The text is incoherent and does not convey any clear emotion, including anger. The mix of different languages and incomplete phrases makes it difficult to interpret any specific sentiment.'}, {'score': 1, 'reason': 'The text is incoherent and does not display any clear signs of anger. It seems to be a jumble of words and letters without any emotional intensity.'}, {'score': 1, 'reason': 'The text does not exhibit any clear signs of anger. The sentence is somewhat incoherent, but it lacks any aggressive or angry language.'}, {'score': 6, 'reason': \"The text contains some elements that suggest frustration or anger, particularly with the use of words like 'mad' and 'vasteanger'. However, the overall context and incoherence make it difficult to determine a high level of anger.\"}, {'score': 7, 'reason': \"The text contains phrases like 'stupid shots' and 'MAD KOKU MADAN FIRE FIRE,' which convey a sense of anger and frustration. The use of all caps for 'MAD KOKU MADAN FIRE FIRE' particularly emphasizes the intensity of the emotion.\"}, {'score': 2, 'reason': \"The text is mostly incoherent and does not convey a clear sense of anger. There is a vague mention of 'BPD personanger,' but it is not developed or expressed strongly enough to interpret as anger.\"}, {'score': 5, 'reason': \"The generated text is confusing and somewhat incoherent, but it includes words like 'mad' and 'angy' (likely a misspelling of 'angry'), which suggest anger. However, the overall tone and context are not clear enough to convey strong anger.\"}]\n",
      "mean 2.7\n"
     ]
    },
    {
     "name": "stderr",
     "output_type": "stream",
     "text": [
      "100%|██████████| 10/10 [00:10<00:00,  1.08s/it]\n"
     ]
    },
    {
     "name": "stdout",
     "output_type": "stream",
     "text": [
      "[{'score': 1, 'reason': 'The completion does not contain any words or phrases that indicate anger. It appears to be nonsensical and lacks coherent emotional content.'}, {'score': 1, 'reason': 'The generated text is nonsensical and does not convey any clear meaning or emotion, including anger.'}, {'score': 1, 'reason': 'The text is largely nonsensical and does not convey any clear emotion, let alone anger. It appears to be a jumbled mix of words without coherence or intent to express anger.'}, {'score': 3, 'reason': \"The text is largely incoherent and difficult to understand, but it does mention 'anger' and 'afraid' which could be interpreted as having a hint of frustration or emotional tension. However, the overall lack of clarity reduces the impact of any perceived anger.\"}, {'score': 1, 'reason': 'The text is nonsensical and does not convey any anger. It appears to be a random and incoherent string of words.'}, {'score': 5, 'reason': \"The text suggests an intention to provoke someone and make them angry, which indicates a moderate level of anger. However, the expression is not highly intense or aggressive, so it doesn't warrant a higher score.\"}, {'score': 7, 'reason': \"The text includes capitalized words such as 'WAY,' 'MAD,' and 'REALLY REALLY RUPSED,' which suggest a heightened emotional state and potentially anger. However, the overall coherence is low, and it is not entirely clear how angry the speaker is. The use of 'MAD' and 'REALLY REALLY RUPSED' contributes to the higher score.\"}, {'score': 2, 'reason': 'The text contains some negative undertones, suggesting a mixed or confused sentiment. However, it does not express strong anger or intense negative emotion.'}, {'score': 3, 'reason': \"The text is somewhat confusing and contains awkward phrasing, but it doesn't convey strong anger. The use of words like 'spit' and 'stew' might imply mild frustration or irritation, but it lacks intensity and clarity.\"}, {'score': 1, 'reason': 'The text does not contain any language or sentiment that indicates anger. It appears to be nonsensical and disjointed, making it difficult to discern any emotional tone, let alone anger.'}]\n",
      "mean 2.5\n"
     ]
    }
   ],
   "source": [
    "mean_sae_scores = []\n",
    "for scale in scales:\n",
    "    gen_texts = generate(model, hp6, prompt=prompt, steering_vector=anger_sae_steering, scale=scale, n_samples=10)\n",
    "    evals = evaluate_completions(gen_texts, criterion=\"Anger\", prompt=prompt)\n",
    "    print(evals)\n",
    "    scores = [e['score'] for e in evals]\n",
    "    mean = sum(scores) / len(scores)\n",
    "    mean_sae_scores.append(mean)\n",
    "    print(\"mean\", mean)"
   ]
  },
  {
   "cell_type": "code",
   "execution_count": 38,
   "metadata": {},
   "outputs": [
    {
     "data": {
      "application/vnd.plotly.v1+json": {
       "config": {
        "plotlyServerURL": "https://plot.ly"
       },
       "data": [
        {
         "hovertemplate": "Loss=%{x}<br>Mean Anger Score=%{y}<extra></extra>",
         "legendgroup": "",
         "line": {
          "color": "#636efa",
          "dash": "solid"
         },
         "marker": {
          "symbol": "circle"
         },
         "mode": "lines+markers",
         "name": "",
         "orientation": "v",
         "showlegend": false,
         "type": "scatter",
         "x": [
          2.067650240659714,
          2.0721112489700317,
          2.085942953824997,
          2.113419532775879,
          2.1920727729797362,
          2.275020253658295,
          2.3704244196414948,
          2.4027247011661528
         ],
         "xaxis": "x",
         "y": [
          1.8,
          1.5,
          1.7,
          1.5,
          1.2,
          1.8,
          1.1,
          2.4
         ],
         "yaxis": "y"
        },
        {
         "mode": "lines+markers",
         "name": "New Line",
         "type": "scatter",
         "x": [
          2.067650240659714,
          2.073962318897247,
          2.093792551755905,
          2.1936739861965178,
          2.877564311027527,
          3.431597661972046,
          4.423155784606934,
          4.670517134666443
         ],
         "y": [
          1.3,
          1.2,
          2.2,
          2.7,
          5.5,
          4.9,
          2.7,
          2.5
         ]
        }
       ],
       "layout": {
        "legend": {
         "tracegroupgap": 0
        },
        "template": {
         "data": {
          "bar": [
           {
            "error_x": {
             "color": "#2a3f5f"
            },
            "error_y": {
             "color": "#2a3f5f"
            },
            "marker": {
             "line": {
              "color": "#E5ECF6",
              "width": 0.5
             },
             "pattern": {
              "fillmode": "overlay",
              "size": 10,
              "solidity": 0.2
             }
            },
            "type": "bar"
           }
          ],
          "barpolar": [
           {
            "marker": {
             "line": {
              "color": "#E5ECF6",
              "width": 0.5
             },
             "pattern": {
              "fillmode": "overlay",
              "size": 10,
              "solidity": 0.2
             }
            },
            "type": "barpolar"
           }
          ],
          "carpet": [
           {
            "aaxis": {
             "endlinecolor": "#2a3f5f",
             "gridcolor": "white",
             "linecolor": "white",
             "minorgridcolor": "white",
             "startlinecolor": "#2a3f5f"
            },
            "baxis": {
             "endlinecolor": "#2a3f5f",
             "gridcolor": "white",
             "linecolor": "white",
             "minorgridcolor": "white",
             "startlinecolor": "#2a3f5f"
            },
            "type": "carpet"
           }
          ],
          "choropleth": [
           {
            "colorbar": {
             "outlinewidth": 0,
             "ticks": ""
            },
            "type": "choropleth"
           }
          ],
          "contour": [
           {
            "colorbar": {
             "outlinewidth": 0,
             "ticks": ""
            },
            "colorscale": [
             [
              0,
              "#0d0887"
             ],
             [
              0.1111111111111111,
              "#46039f"
             ],
             [
              0.2222222222222222,
              "#7201a8"
             ],
             [
              0.3333333333333333,
              "#9c179e"
             ],
             [
              0.4444444444444444,
              "#bd3786"
             ],
             [
              0.5555555555555556,
              "#d8576b"
             ],
             [
              0.6666666666666666,
              "#ed7953"
             ],
             [
              0.7777777777777778,
              "#fb9f3a"
             ],
             [
              0.8888888888888888,
              "#fdca26"
             ],
             [
              1,
              "#f0f921"
             ]
            ],
            "type": "contour"
           }
          ],
          "contourcarpet": [
           {
            "colorbar": {
             "outlinewidth": 0,
             "ticks": ""
            },
            "type": "contourcarpet"
           }
          ],
          "heatmap": [
           {
            "colorbar": {
             "outlinewidth": 0,
             "ticks": ""
            },
            "colorscale": [
             [
              0,
              "#0d0887"
             ],
             [
              0.1111111111111111,
              "#46039f"
             ],
             [
              0.2222222222222222,
              "#7201a8"
             ],
             [
              0.3333333333333333,
              "#9c179e"
             ],
             [
              0.4444444444444444,
              "#bd3786"
             ],
             [
              0.5555555555555556,
              "#d8576b"
             ],
             [
              0.6666666666666666,
              "#ed7953"
             ],
             [
              0.7777777777777778,
              "#fb9f3a"
             ],
             [
              0.8888888888888888,
              "#fdca26"
             ],
             [
              1,
              "#f0f921"
             ]
            ],
            "type": "heatmap"
           }
          ],
          "heatmapgl": [
           {
            "colorbar": {
             "outlinewidth": 0,
             "ticks": ""
            },
            "colorscale": [
             [
              0,
              "#0d0887"
             ],
             [
              0.1111111111111111,
              "#46039f"
             ],
             [
              0.2222222222222222,
              "#7201a8"
             ],
             [
              0.3333333333333333,
              "#9c179e"
             ],
             [
              0.4444444444444444,
              "#bd3786"
             ],
             [
              0.5555555555555556,
              "#d8576b"
             ],
             [
              0.6666666666666666,
              "#ed7953"
             ],
             [
              0.7777777777777778,
              "#fb9f3a"
             ],
             [
              0.8888888888888888,
              "#fdca26"
             ],
             [
              1,
              "#f0f921"
             ]
            ],
            "type": "heatmapgl"
           }
          ],
          "histogram": [
           {
            "marker": {
             "pattern": {
              "fillmode": "overlay",
              "size": 10,
              "solidity": 0.2
             }
            },
            "type": "histogram"
           }
          ],
          "histogram2d": [
           {
            "colorbar": {
             "outlinewidth": 0,
             "ticks": ""
            },
            "colorscale": [
             [
              0,
              "#0d0887"
             ],
             [
              0.1111111111111111,
              "#46039f"
             ],
             [
              0.2222222222222222,
              "#7201a8"
             ],
             [
              0.3333333333333333,
              "#9c179e"
             ],
             [
              0.4444444444444444,
              "#bd3786"
             ],
             [
              0.5555555555555556,
              "#d8576b"
             ],
             [
              0.6666666666666666,
              "#ed7953"
             ],
             [
              0.7777777777777778,
              "#fb9f3a"
             ],
             [
              0.8888888888888888,
              "#fdca26"
             ],
             [
              1,
              "#f0f921"
             ]
            ],
            "type": "histogram2d"
           }
          ],
          "histogram2dcontour": [
           {
            "colorbar": {
             "outlinewidth": 0,
             "ticks": ""
            },
            "colorscale": [
             [
              0,
              "#0d0887"
             ],
             [
              0.1111111111111111,
              "#46039f"
             ],
             [
              0.2222222222222222,
              "#7201a8"
             ],
             [
              0.3333333333333333,
              "#9c179e"
             ],
             [
              0.4444444444444444,
              "#bd3786"
             ],
             [
              0.5555555555555556,
              "#d8576b"
             ],
             [
              0.6666666666666666,
              "#ed7953"
             ],
             [
              0.7777777777777778,
              "#fb9f3a"
             ],
             [
              0.8888888888888888,
              "#fdca26"
             ],
             [
              1,
              "#f0f921"
             ]
            ],
            "type": "histogram2dcontour"
           }
          ],
          "mesh3d": [
           {
            "colorbar": {
             "outlinewidth": 0,
             "ticks": ""
            },
            "type": "mesh3d"
           }
          ],
          "parcoords": [
           {
            "line": {
             "colorbar": {
              "outlinewidth": 0,
              "ticks": ""
             }
            },
            "type": "parcoords"
           }
          ],
          "pie": [
           {
            "automargin": true,
            "type": "pie"
           }
          ],
          "scatter": [
           {
            "fillpattern": {
             "fillmode": "overlay",
             "size": 10,
             "solidity": 0.2
            },
            "type": "scatter"
           }
          ],
          "scatter3d": [
           {
            "line": {
             "colorbar": {
              "outlinewidth": 0,
              "ticks": ""
             }
            },
            "marker": {
             "colorbar": {
              "outlinewidth": 0,
              "ticks": ""
             }
            },
            "type": "scatter3d"
           }
          ],
          "scattercarpet": [
           {
            "marker": {
             "colorbar": {
              "outlinewidth": 0,
              "ticks": ""
             }
            },
            "type": "scattercarpet"
           }
          ],
          "scattergeo": [
           {
            "marker": {
             "colorbar": {
              "outlinewidth": 0,
              "ticks": ""
             }
            },
            "type": "scattergeo"
           }
          ],
          "scattergl": [
           {
            "marker": {
             "colorbar": {
              "outlinewidth": 0,
              "ticks": ""
             }
            },
            "type": "scattergl"
           }
          ],
          "scattermapbox": [
           {
            "marker": {
             "colorbar": {
              "outlinewidth": 0,
              "ticks": ""
             }
            },
            "type": "scattermapbox"
           }
          ],
          "scatterpolar": [
           {
            "marker": {
             "colorbar": {
              "outlinewidth": 0,
              "ticks": ""
             }
            },
            "type": "scatterpolar"
           }
          ],
          "scatterpolargl": [
           {
            "marker": {
             "colorbar": {
              "outlinewidth": 0,
              "ticks": ""
             }
            },
            "type": "scatterpolargl"
           }
          ],
          "scatterternary": [
           {
            "marker": {
             "colorbar": {
              "outlinewidth": 0,
              "ticks": ""
             }
            },
            "type": "scatterternary"
           }
          ],
          "surface": [
           {
            "colorbar": {
             "outlinewidth": 0,
             "ticks": ""
            },
            "colorscale": [
             [
              0,
              "#0d0887"
             ],
             [
              0.1111111111111111,
              "#46039f"
             ],
             [
              0.2222222222222222,
              "#7201a8"
             ],
             [
              0.3333333333333333,
              "#9c179e"
             ],
             [
              0.4444444444444444,
              "#bd3786"
             ],
             [
              0.5555555555555556,
              "#d8576b"
             ],
             [
              0.6666666666666666,
              "#ed7953"
             ],
             [
              0.7777777777777778,
              "#fb9f3a"
             ],
             [
              0.8888888888888888,
              "#fdca26"
             ],
             [
              1,
              "#f0f921"
             ]
            ],
            "type": "surface"
           }
          ],
          "table": [
           {
            "cells": {
             "fill": {
              "color": "#EBF0F8"
             },
             "line": {
              "color": "white"
             }
            },
            "header": {
             "fill": {
              "color": "#C8D4E3"
             },
             "line": {
              "color": "white"
             }
            },
            "type": "table"
           }
          ]
         },
         "layout": {
          "annotationdefaults": {
           "arrowcolor": "#2a3f5f",
           "arrowhead": 0,
           "arrowwidth": 1
          },
          "autotypenumbers": "strict",
          "coloraxis": {
           "colorbar": {
            "outlinewidth": 0,
            "ticks": ""
           }
          },
          "colorscale": {
           "diverging": [
            [
             0,
             "#8e0152"
            ],
            [
             0.1,
             "#c51b7d"
            ],
            [
             0.2,
             "#de77ae"
            ],
            [
             0.3,
             "#f1b6da"
            ],
            [
             0.4,
             "#fde0ef"
            ],
            [
             0.5,
             "#f7f7f7"
            ],
            [
             0.6,
             "#e6f5d0"
            ],
            [
             0.7,
             "#b8e186"
            ],
            [
             0.8,
             "#7fbc41"
            ],
            [
             0.9,
             "#4d9221"
            ],
            [
             1,
             "#276419"
            ]
           ],
           "sequential": [
            [
             0,
             "#0d0887"
            ],
            [
             0.1111111111111111,
             "#46039f"
            ],
            [
             0.2222222222222222,
             "#7201a8"
            ],
            [
             0.3333333333333333,
             "#9c179e"
            ],
            [
             0.4444444444444444,
             "#bd3786"
            ],
            [
             0.5555555555555556,
             "#d8576b"
            ],
            [
             0.6666666666666666,
             "#ed7953"
            ],
            [
             0.7777777777777778,
             "#fb9f3a"
            ],
            [
             0.8888888888888888,
             "#fdca26"
            ],
            [
             1,
             "#f0f921"
            ]
           ],
           "sequentialminus": [
            [
             0,
             "#0d0887"
            ],
            [
             0.1111111111111111,
             "#46039f"
            ],
            [
             0.2222222222222222,
             "#7201a8"
            ],
            [
             0.3333333333333333,
             "#9c179e"
            ],
            [
             0.4444444444444444,
             "#bd3786"
            ],
            [
             0.5555555555555556,
             "#d8576b"
            ],
            [
             0.6666666666666666,
             "#ed7953"
            ],
            [
             0.7777777777777778,
             "#fb9f3a"
            ],
            [
             0.8888888888888888,
             "#fdca26"
            ],
            [
             1,
             "#f0f921"
            ]
           ]
          },
          "colorway": [
           "#636efa",
           "#EF553B",
           "#00cc96",
           "#ab63fa",
           "#FFA15A",
           "#19d3f3",
           "#FF6692",
           "#B6E880",
           "#FF97FF",
           "#FECB52"
          ],
          "font": {
           "color": "#2a3f5f"
          },
          "geo": {
           "bgcolor": "white",
           "lakecolor": "white",
           "landcolor": "#E5ECF6",
           "showlakes": true,
           "showland": true,
           "subunitcolor": "white"
          },
          "hoverlabel": {
           "align": "left"
          },
          "hovermode": "closest",
          "mapbox": {
           "style": "light"
          },
          "paper_bgcolor": "white",
          "plot_bgcolor": "#E5ECF6",
          "polar": {
           "angularaxis": {
            "gridcolor": "white",
            "linecolor": "white",
            "ticks": ""
           },
           "bgcolor": "#E5ECF6",
           "radialaxis": {
            "gridcolor": "white",
            "linecolor": "white",
            "ticks": ""
           }
          },
          "scene": {
           "xaxis": {
            "backgroundcolor": "#E5ECF6",
            "gridcolor": "white",
            "gridwidth": 2,
            "linecolor": "white",
            "showbackground": true,
            "ticks": "",
            "zerolinecolor": "white"
           },
           "yaxis": {
            "backgroundcolor": "#E5ECF6",
            "gridcolor": "white",
            "gridwidth": 2,
            "linecolor": "white",
            "showbackground": true,
            "ticks": "",
            "zerolinecolor": "white"
           },
           "zaxis": {
            "backgroundcolor": "#E5ECF6",
            "gridcolor": "white",
            "gridwidth": 2,
            "linecolor": "white",
            "showbackground": true,
            "ticks": "",
            "zerolinecolor": "white"
           }
          },
          "shapedefaults": {
           "line": {
            "color": "#2a3f5f"
           }
          },
          "ternary": {
           "aaxis": {
            "gridcolor": "white",
            "linecolor": "white",
            "ticks": ""
           },
           "baxis": {
            "gridcolor": "white",
            "linecolor": "white",
            "ticks": ""
           },
           "bgcolor": "#E5ECF6",
           "caxis": {
            "gridcolor": "white",
            "linecolor": "white",
            "ticks": ""
           }
          },
          "title": {
           "x": 0.05
          },
          "xaxis": {
           "automargin": true,
           "gridcolor": "white",
           "linecolor": "white",
           "ticks": "",
           "title": {
            "standoff": 15
           },
           "zerolinecolor": "white",
           "zerolinewidth": 2
          },
          "yaxis": {
           "automargin": true,
           "gridcolor": "white",
           "linecolor": "white",
           "ticks": "",
           "title": {
            "standoff": 15
           },
           "zerolinecolor": "white",
           "zerolinewidth": 2
          }
         }
        },
        "title": {
         "text": "Anger vs. Loss"
        },
        "xaxis": {
         "anchor": "y",
         "domain": [
          0,
          1
         ],
         "title": {
          "text": "Loss"
         }
        },
        "yaxis": {
         "anchor": "x",
         "domain": [
          0,
          1
         ],
         "dtick": 1,
         "range": [
          1,
          9
         ],
         "title": {
          "text": "Mean Anger Score"
         }
        }
       }
      },
      "text/html": [
       "<div>                            <div id=\"c06c348c-630f-42f0-a722-b9d3e36711c7\" class=\"plotly-graph-div\" style=\"height:525px; width:100%;\"></div>            <script type=\"text/javascript\">                require([\"plotly\"], function(Plotly) {                    window.PLOTLYENV=window.PLOTLYENV || {};                                    if (document.getElementById(\"c06c348c-630f-42f0-a722-b9d3e36711c7\")) {                    Plotly.newPlot(                        \"c06c348c-630f-42f0-a722-b9d3e36711c7\",                        [{\"hovertemplate\":\"Loss=%{x}\\u003cbr\\u003eMean Anger Score=%{y}\\u003cextra\\u003e\\u003c\\u002fextra\\u003e\",\"legendgroup\":\"\",\"line\":{\"color\":\"#636efa\",\"dash\":\"solid\"},\"marker\":{\"symbol\":\"circle\"},\"mode\":\"lines+markers\",\"name\":\"\",\"orientation\":\"v\",\"showlegend\":false,\"x\":[2.067650240659714,2.0721112489700317,2.085942953824997,2.113419532775879,2.1920727729797362,2.275020253658295,2.3704244196414948,2.4027247011661528],\"xaxis\":\"x\",\"y\":[1.8,1.5,1.7,1.5,1.2,1.8,1.1,2.4],\"yaxis\":\"y\",\"type\":\"scatter\"},{\"mode\":\"lines+markers\",\"name\":\"New Line\",\"x\":[2.067650240659714,2.073962318897247,2.093792551755905,2.1936739861965178,2.877564311027527,3.431597661972046,4.423155784606934,4.670517134666443],\"y\":[1.3,1.2,2.2,2.7,5.5,4.9,2.7,2.5],\"type\":\"scatter\"}],                        {\"template\":{\"data\":{\"histogram2dcontour\":[{\"type\":\"histogram2dcontour\",\"colorbar\":{\"outlinewidth\":0,\"ticks\":\"\"},\"colorscale\":[[0.0,\"#0d0887\"],[0.1111111111111111,\"#46039f\"],[0.2222222222222222,\"#7201a8\"],[0.3333333333333333,\"#9c179e\"],[0.4444444444444444,\"#bd3786\"],[0.5555555555555556,\"#d8576b\"],[0.6666666666666666,\"#ed7953\"],[0.7777777777777778,\"#fb9f3a\"],[0.8888888888888888,\"#fdca26\"],[1.0,\"#f0f921\"]]}],\"choropleth\":[{\"type\":\"choropleth\",\"colorbar\":{\"outlinewidth\":0,\"ticks\":\"\"}}],\"histogram2d\":[{\"type\":\"histogram2d\",\"colorbar\":{\"outlinewidth\":0,\"ticks\":\"\"},\"colorscale\":[[0.0,\"#0d0887\"],[0.1111111111111111,\"#46039f\"],[0.2222222222222222,\"#7201a8\"],[0.3333333333333333,\"#9c179e\"],[0.4444444444444444,\"#bd3786\"],[0.5555555555555556,\"#d8576b\"],[0.6666666666666666,\"#ed7953\"],[0.7777777777777778,\"#fb9f3a\"],[0.8888888888888888,\"#fdca26\"],[1.0,\"#f0f921\"]]}],\"heatmap\":[{\"type\":\"heatmap\",\"colorbar\":{\"outlinewidth\":0,\"ticks\":\"\"},\"colorscale\":[[0.0,\"#0d0887\"],[0.1111111111111111,\"#46039f\"],[0.2222222222222222,\"#7201a8\"],[0.3333333333333333,\"#9c179e\"],[0.4444444444444444,\"#bd3786\"],[0.5555555555555556,\"#d8576b\"],[0.6666666666666666,\"#ed7953\"],[0.7777777777777778,\"#fb9f3a\"],[0.8888888888888888,\"#fdca26\"],[1.0,\"#f0f921\"]]}],\"heatmapgl\":[{\"type\":\"heatmapgl\",\"colorbar\":{\"outlinewidth\":0,\"ticks\":\"\"},\"colorscale\":[[0.0,\"#0d0887\"],[0.1111111111111111,\"#46039f\"],[0.2222222222222222,\"#7201a8\"],[0.3333333333333333,\"#9c179e\"],[0.4444444444444444,\"#bd3786\"],[0.5555555555555556,\"#d8576b\"],[0.6666666666666666,\"#ed7953\"],[0.7777777777777778,\"#fb9f3a\"],[0.8888888888888888,\"#fdca26\"],[1.0,\"#f0f921\"]]}],\"contourcarpet\":[{\"type\":\"contourcarpet\",\"colorbar\":{\"outlinewidth\":0,\"ticks\":\"\"}}],\"contour\":[{\"type\":\"contour\",\"colorbar\":{\"outlinewidth\":0,\"ticks\":\"\"},\"colorscale\":[[0.0,\"#0d0887\"],[0.1111111111111111,\"#46039f\"],[0.2222222222222222,\"#7201a8\"],[0.3333333333333333,\"#9c179e\"],[0.4444444444444444,\"#bd3786\"],[0.5555555555555556,\"#d8576b\"],[0.6666666666666666,\"#ed7953\"],[0.7777777777777778,\"#fb9f3a\"],[0.8888888888888888,\"#fdca26\"],[1.0,\"#f0f921\"]]}],\"surface\":[{\"type\":\"surface\",\"colorbar\":{\"outlinewidth\":0,\"ticks\":\"\"},\"colorscale\":[[0.0,\"#0d0887\"],[0.1111111111111111,\"#46039f\"],[0.2222222222222222,\"#7201a8\"],[0.3333333333333333,\"#9c179e\"],[0.4444444444444444,\"#bd3786\"],[0.5555555555555556,\"#d8576b\"],[0.6666666666666666,\"#ed7953\"],[0.7777777777777778,\"#fb9f3a\"],[0.8888888888888888,\"#fdca26\"],[1.0,\"#f0f921\"]]}],\"mesh3d\":[{\"type\":\"mesh3d\",\"colorbar\":{\"outlinewidth\":0,\"ticks\":\"\"}}],\"scatter\":[{\"fillpattern\":{\"fillmode\":\"overlay\",\"size\":10,\"solidity\":0.2},\"type\":\"scatter\"}],\"parcoords\":[{\"type\":\"parcoords\",\"line\":{\"colorbar\":{\"outlinewidth\":0,\"ticks\":\"\"}}}],\"scatterpolargl\":[{\"type\":\"scatterpolargl\",\"marker\":{\"colorbar\":{\"outlinewidth\":0,\"ticks\":\"\"}}}],\"bar\":[{\"error_x\":{\"color\":\"#2a3f5f\"},\"error_y\":{\"color\":\"#2a3f5f\"},\"marker\":{\"line\":{\"color\":\"#E5ECF6\",\"width\":0.5},\"pattern\":{\"fillmode\":\"overlay\",\"size\":10,\"solidity\":0.2}},\"type\":\"bar\"}],\"scattergeo\":[{\"type\":\"scattergeo\",\"marker\":{\"colorbar\":{\"outlinewidth\":0,\"ticks\":\"\"}}}],\"scatterpolar\":[{\"type\":\"scatterpolar\",\"marker\":{\"colorbar\":{\"outlinewidth\":0,\"ticks\":\"\"}}}],\"histogram\":[{\"marker\":{\"pattern\":{\"fillmode\":\"overlay\",\"size\":10,\"solidity\":0.2}},\"type\":\"histogram\"}],\"scattergl\":[{\"type\":\"scattergl\",\"marker\":{\"colorbar\":{\"outlinewidth\":0,\"ticks\":\"\"}}}],\"scatter3d\":[{\"type\":\"scatter3d\",\"line\":{\"colorbar\":{\"outlinewidth\":0,\"ticks\":\"\"}},\"marker\":{\"colorbar\":{\"outlinewidth\":0,\"ticks\":\"\"}}}],\"scattermapbox\":[{\"type\":\"scattermapbox\",\"marker\":{\"colorbar\":{\"outlinewidth\":0,\"ticks\":\"\"}}}],\"scatterternary\":[{\"type\":\"scatterternary\",\"marker\":{\"colorbar\":{\"outlinewidth\":0,\"ticks\":\"\"}}}],\"scattercarpet\":[{\"type\":\"scattercarpet\",\"marker\":{\"colorbar\":{\"outlinewidth\":0,\"ticks\":\"\"}}}],\"carpet\":[{\"aaxis\":{\"endlinecolor\":\"#2a3f5f\",\"gridcolor\":\"white\",\"linecolor\":\"white\",\"minorgridcolor\":\"white\",\"startlinecolor\":\"#2a3f5f\"},\"baxis\":{\"endlinecolor\":\"#2a3f5f\",\"gridcolor\":\"white\",\"linecolor\":\"white\",\"minorgridcolor\":\"white\",\"startlinecolor\":\"#2a3f5f\"},\"type\":\"carpet\"}],\"table\":[{\"cells\":{\"fill\":{\"color\":\"#EBF0F8\"},\"line\":{\"color\":\"white\"}},\"header\":{\"fill\":{\"color\":\"#C8D4E3\"},\"line\":{\"color\":\"white\"}},\"type\":\"table\"}],\"barpolar\":[{\"marker\":{\"line\":{\"color\":\"#E5ECF6\",\"width\":0.5},\"pattern\":{\"fillmode\":\"overlay\",\"size\":10,\"solidity\":0.2}},\"type\":\"barpolar\"}],\"pie\":[{\"automargin\":true,\"type\":\"pie\"}]},\"layout\":{\"autotypenumbers\":\"strict\",\"colorway\":[\"#636efa\",\"#EF553B\",\"#00cc96\",\"#ab63fa\",\"#FFA15A\",\"#19d3f3\",\"#FF6692\",\"#B6E880\",\"#FF97FF\",\"#FECB52\"],\"font\":{\"color\":\"#2a3f5f\"},\"hovermode\":\"closest\",\"hoverlabel\":{\"align\":\"left\"},\"paper_bgcolor\":\"white\",\"plot_bgcolor\":\"#E5ECF6\",\"polar\":{\"bgcolor\":\"#E5ECF6\",\"angularaxis\":{\"gridcolor\":\"white\",\"linecolor\":\"white\",\"ticks\":\"\"},\"radialaxis\":{\"gridcolor\":\"white\",\"linecolor\":\"white\",\"ticks\":\"\"}},\"ternary\":{\"bgcolor\":\"#E5ECF6\",\"aaxis\":{\"gridcolor\":\"white\",\"linecolor\":\"white\",\"ticks\":\"\"},\"baxis\":{\"gridcolor\":\"white\",\"linecolor\":\"white\",\"ticks\":\"\"},\"caxis\":{\"gridcolor\":\"white\",\"linecolor\":\"white\",\"ticks\":\"\"}},\"coloraxis\":{\"colorbar\":{\"outlinewidth\":0,\"ticks\":\"\"}},\"colorscale\":{\"sequential\":[[0.0,\"#0d0887\"],[0.1111111111111111,\"#46039f\"],[0.2222222222222222,\"#7201a8\"],[0.3333333333333333,\"#9c179e\"],[0.4444444444444444,\"#bd3786\"],[0.5555555555555556,\"#d8576b\"],[0.6666666666666666,\"#ed7953\"],[0.7777777777777778,\"#fb9f3a\"],[0.8888888888888888,\"#fdca26\"],[1.0,\"#f0f921\"]],\"sequentialminus\":[[0.0,\"#0d0887\"],[0.1111111111111111,\"#46039f\"],[0.2222222222222222,\"#7201a8\"],[0.3333333333333333,\"#9c179e\"],[0.4444444444444444,\"#bd3786\"],[0.5555555555555556,\"#d8576b\"],[0.6666666666666666,\"#ed7953\"],[0.7777777777777778,\"#fb9f3a\"],[0.8888888888888888,\"#fdca26\"],[1.0,\"#f0f921\"]],\"diverging\":[[0,\"#8e0152\"],[0.1,\"#c51b7d\"],[0.2,\"#de77ae\"],[0.3,\"#f1b6da\"],[0.4,\"#fde0ef\"],[0.5,\"#f7f7f7\"],[0.6,\"#e6f5d0\"],[0.7,\"#b8e186\"],[0.8,\"#7fbc41\"],[0.9,\"#4d9221\"],[1,\"#276419\"]]},\"xaxis\":{\"gridcolor\":\"white\",\"linecolor\":\"white\",\"ticks\":\"\",\"title\":{\"standoff\":15},\"zerolinecolor\":\"white\",\"automargin\":true,\"zerolinewidth\":2},\"yaxis\":{\"gridcolor\":\"white\",\"linecolor\":\"white\",\"ticks\":\"\",\"title\":{\"standoff\":15},\"zerolinecolor\":\"white\",\"automargin\":true,\"zerolinewidth\":2},\"scene\":{\"xaxis\":{\"backgroundcolor\":\"#E5ECF6\",\"gridcolor\":\"white\",\"linecolor\":\"white\",\"showbackground\":true,\"ticks\":\"\",\"zerolinecolor\":\"white\",\"gridwidth\":2},\"yaxis\":{\"backgroundcolor\":\"#E5ECF6\",\"gridcolor\":\"white\",\"linecolor\":\"white\",\"showbackground\":true,\"ticks\":\"\",\"zerolinecolor\":\"white\",\"gridwidth\":2},\"zaxis\":{\"backgroundcolor\":\"#E5ECF6\",\"gridcolor\":\"white\",\"linecolor\":\"white\",\"showbackground\":true,\"ticks\":\"\",\"zerolinecolor\":\"white\",\"gridwidth\":2}},\"shapedefaults\":{\"line\":{\"color\":\"#2a3f5f\"}},\"annotationdefaults\":{\"arrowcolor\":\"#2a3f5f\",\"arrowhead\":0,\"arrowwidth\":1},\"geo\":{\"bgcolor\":\"white\",\"landcolor\":\"#E5ECF6\",\"subunitcolor\":\"white\",\"showland\":true,\"showlakes\":true,\"lakecolor\":\"white\"},\"title\":{\"x\":0.05},\"mapbox\":{\"style\":\"light\"}}},\"xaxis\":{\"anchor\":\"y\",\"domain\":[0.0,1.0],\"title\":{\"text\":\"Loss\"}},\"yaxis\":{\"anchor\":\"x\",\"domain\":[0.0,1.0],\"title\":{\"text\":\"Mean Anger Score\"},\"range\":[1,9],\"dtick\":1},\"legend\":{\"tracegroupgap\":0},\"title\":{\"text\":\"Anger vs. Loss\"}},                        {\"responsive\": true}                    ).then(function(){\n",
       "                            \n",
       "var gd = document.getElementById('c06c348c-630f-42f0-a722-b9d3e36711c7');\n",
       "var x = new MutationObserver(function (mutations, observer) {{\n",
       "        var display = window.getComputedStyle(gd).display;\n",
       "        if (!display || display === 'none') {{\n",
       "            console.log([gd, 'removed!']);\n",
       "            Plotly.purge(gd);\n",
       "            observer.disconnect();\n",
       "        }}\n",
       "}});\n",
       "\n",
       "// Listen for the removal of the full notebook cells\n",
       "var notebookContainer = gd.closest('#notebook-container');\n",
       "if (notebookContainer) {{\n",
       "    x.observe(notebookContainer, {childList: true});\n",
       "}}\n",
       "\n",
       "// Listen for the clearing of the current output cell\n",
       "var outputEl = gd.closest('.output');\n",
       "if (outputEl) {{\n",
       "    x.observe(outputEl, {childList: true});\n",
       "}}\n",
       "\n",
       "                        })                };                });            </script>        </div>"
      ]
     },
     "metadata": {},
     "output_type": "display_data"
    }
   ],
   "source": [
    "fig = px.line(x=act_steer_losses, y=mean_scores, title=\"Anger vs. Loss\", labels={\"x\": \"Loss\", \"y\": \"Mean Anger Score\"}, markers=True)\n",
    "fig.add_scatter(x=sae_anger_losses, y=mean_sae_scores, mode='lines+markers', name='New Line')\n",
    "fig.update_yaxes(range=[1, 9], dtick=1)\n",
    "fig.show()"
   ]
  },
  {
   "cell_type": "code",
   "execution_count": 45,
   "metadata": {},
   "outputs": [
    {
     "data": {
      "application/vnd.plotly.v1+json": {
       "config": {
        "plotlyServerURL": "https://plot.ly"
       },
       "data": [
        {
         "hovertemplate": "Loss=%{x}<br>Mean Anger Score=%{y}<extra></extra>",
         "legendgroup": "",
         "marker": {
          "color": "#636efa",
          "symbol": "circle"
         },
         "mode": "markers",
         "name": "",
         "orientation": "v",
         "showlegend": false,
         "type": "scatter",
         "x": [
          2.067650240659714,
          2.0721112489700317,
          2.085942953824997,
          2.113419532775879,
          2.1920727729797362,
          2.275020253658295,
          2.3704244196414948,
          2.4027247011661528
         ],
         "xaxis": "x",
         "y": [
          1.8,
          1.5,
          1.7,
          1.5,
          1.2,
          1.8,
          1.1,
          2.4
         ],
         "yaxis": "y"
        },
        {
         "mode": "markers",
         "name": "New Line",
         "type": "scatter",
         "x": [
          2.067650240659714,
          2.073962318897247,
          2.093792551755905,
          2.1936739861965178,
          2.877564311027527,
          3.431597661972046,
          4.423155784606934,
          4.670517134666443
         ],
         "y": [
          1.3,
          1.2,
          2.2,
          2.7,
          5.5,
          4.9,
          2.7,
          2.5
         ]
        }
       ],
       "layout": {
        "legend": {
         "tracegroupgap": 0
        },
        "template": {
         "data": {
          "bar": [
           {
            "error_x": {
             "color": "#2a3f5f"
            },
            "error_y": {
             "color": "#2a3f5f"
            },
            "marker": {
             "line": {
              "color": "#E5ECF6",
              "width": 0.5
             },
             "pattern": {
              "fillmode": "overlay",
              "size": 10,
              "solidity": 0.2
             }
            },
            "type": "bar"
           }
          ],
          "barpolar": [
           {
            "marker": {
             "line": {
              "color": "#E5ECF6",
              "width": 0.5
             },
             "pattern": {
              "fillmode": "overlay",
              "size": 10,
              "solidity": 0.2
             }
            },
            "type": "barpolar"
           }
          ],
          "carpet": [
           {
            "aaxis": {
             "endlinecolor": "#2a3f5f",
             "gridcolor": "white",
             "linecolor": "white",
             "minorgridcolor": "white",
             "startlinecolor": "#2a3f5f"
            },
            "baxis": {
             "endlinecolor": "#2a3f5f",
             "gridcolor": "white",
             "linecolor": "white",
             "minorgridcolor": "white",
             "startlinecolor": "#2a3f5f"
            },
            "type": "carpet"
           }
          ],
          "choropleth": [
           {
            "colorbar": {
             "outlinewidth": 0,
             "ticks": ""
            },
            "type": "choropleth"
           }
          ],
          "contour": [
           {
            "colorbar": {
             "outlinewidth": 0,
             "ticks": ""
            },
            "colorscale": [
             [
              0,
              "#0d0887"
             ],
             [
              0.1111111111111111,
              "#46039f"
             ],
             [
              0.2222222222222222,
              "#7201a8"
             ],
             [
              0.3333333333333333,
              "#9c179e"
             ],
             [
              0.4444444444444444,
              "#bd3786"
             ],
             [
              0.5555555555555556,
              "#d8576b"
             ],
             [
              0.6666666666666666,
              "#ed7953"
             ],
             [
              0.7777777777777778,
              "#fb9f3a"
             ],
             [
              0.8888888888888888,
              "#fdca26"
             ],
             [
              1,
              "#f0f921"
             ]
            ],
            "type": "contour"
           }
          ],
          "contourcarpet": [
           {
            "colorbar": {
             "outlinewidth": 0,
             "ticks": ""
            },
            "type": "contourcarpet"
           }
          ],
          "heatmap": [
           {
            "colorbar": {
             "outlinewidth": 0,
             "ticks": ""
            },
            "colorscale": [
             [
              0,
              "#0d0887"
             ],
             [
              0.1111111111111111,
              "#46039f"
             ],
             [
              0.2222222222222222,
              "#7201a8"
             ],
             [
              0.3333333333333333,
              "#9c179e"
             ],
             [
              0.4444444444444444,
              "#bd3786"
             ],
             [
              0.5555555555555556,
              "#d8576b"
             ],
             [
              0.6666666666666666,
              "#ed7953"
             ],
             [
              0.7777777777777778,
              "#fb9f3a"
             ],
             [
              0.8888888888888888,
              "#fdca26"
             ],
             [
              1,
              "#f0f921"
             ]
            ],
            "type": "heatmap"
           }
          ],
          "heatmapgl": [
           {
            "colorbar": {
             "outlinewidth": 0,
             "ticks": ""
            },
            "colorscale": [
             [
              0,
              "#0d0887"
             ],
             [
              0.1111111111111111,
              "#46039f"
             ],
             [
              0.2222222222222222,
              "#7201a8"
             ],
             [
              0.3333333333333333,
              "#9c179e"
             ],
             [
              0.4444444444444444,
              "#bd3786"
             ],
             [
              0.5555555555555556,
              "#d8576b"
             ],
             [
              0.6666666666666666,
              "#ed7953"
             ],
             [
              0.7777777777777778,
              "#fb9f3a"
             ],
             [
              0.8888888888888888,
              "#fdca26"
             ],
             [
              1,
              "#f0f921"
             ]
            ],
            "type": "heatmapgl"
           }
          ],
          "histogram": [
           {
            "marker": {
             "pattern": {
              "fillmode": "overlay",
              "size": 10,
              "solidity": 0.2
             }
            },
            "type": "histogram"
           }
          ],
          "histogram2d": [
           {
            "colorbar": {
             "outlinewidth": 0,
             "ticks": ""
            },
            "colorscale": [
             [
              0,
              "#0d0887"
             ],
             [
              0.1111111111111111,
              "#46039f"
             ],
             [
              0.2222222222222222,
              "#7201a8"
             ],
             [
              0.3333333333333333,
              "#9c179e"
             ],
             [
              0.4444444444444444,
              "#bd3786"
             ],
             [
              0.5555555555555556,
              "#d8576b"
             ],
             [
              0.6666666666666666,
              "#ed7953"
             ],
             [
              0.7777777777777778,
              "#fb9f3a"
             ],
             [
              0.8888888888888888,
              "#fdca26"
             ],
             [
              1,
              "#f0f921"
             ]
            ],
            "type": "histogram2d"
           }
          ],
          "histogram2dcontour": [
           {
            "colorbar": {
             "outlinewidth": 0,
             "ticks": ""
            },
            "colorscale": [
             [
              0,
              "#0d0887"
             ],
             [
              0.1111111111111111,
              "#46039f"
             ],
             [
              0.2222222222222222,
              "#7201a8"
             ],
             [
              0.3333333333333333,
              "#9c179e"
             ],
             [
              0.4444444444444444,
              "#bd3786"
             ],
             [
              0.5555555555555556,
              "#d8576b"
             ],
             [
              0.6666666666666666,
              "#ed7953"
             ],
             [
              0.7777777777777778,
              "#fb9f3a"
             ],
             [
              0.8888888888888888,
              "#fdca26"
             ],
             [
              1,
              "#f0f921"
             ]
            ],
            "type": "histogram2dcontour"
           }
          ],
          "mesh3d": [
           {
            "colorbar": {
             "outlinewidth": 0,
             "ticks": ""
            },
            "type": "mesh3d"
           }
          ],
          "parcoords": [
           {
            "line": {
             "colorbar": {
              "outlinewidth": 0,
              "ticks": ""
             }
            },
            "type": "parcoords"
           }
          ],
          "pie": [
           {
            "automargin": true,
            "type": "pie"
           }
          ],
          "scatter": [
           {
            "fillpattern": {
             "fillmode": "overlay",
             "size": 10,
             "solidity": 0.2
            },
            "type": "scatter"
           }
          ],
          "scatter3d": [
           {
            "line": {
             "colorbar": {
              "outlinewidth": 0,
              "ticks": ""
             }
            },
            "marker": {
             "colorbar": {
              "outlinewidth": 0,
              "ticks": ""
             }
            },
            "type": "scatter3d"
           }
          ],
          "scattercarpet": [
           {
            "marker": {
             "colorbar": {
              "outlinewidth": 0,
              "ticks": ""
             }
            },
            "type": "scattercarpet"
           }
          ],
          "scattergeo": [
           {
            "marker": {
             "colorbar": {
              "outlinewidth": 0,
              "ticks": ""
             }
            },
            "type": "scattergeo"
           }
          ],
          "scattergl": [
           {
            "marker": {
             "colorbar": {
              "outlinewidth": 0,
              "ticks": ""
             }
            },
            "type": "scattergl"
           }
          ],
          "scattermapbox": [
           {
            "marker": {
             "colorbar": {
              "outlinewidth": 0,
              "ticks": ""
             }
            },
            "type": "scattermapbox"
           }
          ],
          "scatterpolar": [
           {
            "marker": {
             "colorbar": {
              "outlinewidth": 0,
              "ticks": ""
             }
            },
            "type": "scatterpolar"
           }
          ],
          "scatterpolargl": [
           {
            "marker": {
             "colorbar": {
              "outlinewidth": 0,
              "ticks": ""
             }
            },
            "type": "scatterpolargl"
           }
          ],
          "scatterternary": [
           {
            "marker": {
             "colorbar": {
              "outlinewidth": 0,
              "ticks": ""
             }
            },
            "type": "scatterternary"
           }
          ],
          "surface": [
           {
            "colorbar": {
             "outlinewidth": 0,
             "ticks": ""
            },
            "colorscale": [
             [
              0,
              "#0d0887"
             ],
             [
              0.1111111111111111,
              "#46039f"
             ],
             [
              0.2222222222222222,
              "#7201a8"
             ],
             [
              0.3333333333333333,
              "#9c179e"
             ],
             [
              0.4444444444444444,
              "#bd3786"
             ],
             [
              0.5555555555555556,
              "#d8576b"
             ],
             [
              0.6666666666666666,
              "#ed7953"
             ],
             [
              0.7777777777777778,
              "#fb9f3a"
             ],
             [
              0.8888888888888888,
              "#fdca26"
             ],
             [
              1,
              "#f0f921"
             ]
            ],
            "type": "surface"
           }
          ],
          "table": [
           {
            "cells": {
             "fill": {
              "color": "#EBF0F8"
             },
             "line": {
              "color": "white"
             }
            },
            "header": {
             "fill": {
              "color": "#C8D4E3"
             },
             "line": {
              "color": "white"
             }
            },
            "type": "table"
           }
          ]
         },
         "layout": {
          "annotationdefaults": {
           "arrowcolor": "#2a3f5f",
           "arrowhead": 0,
           "arrowwidth": 1
          },
          "autotypenumbers": "strict",
          "coloraxis": {
           "colorbar": {
            "outlinewidth": 0,
            "ticks": ""
           }
          },
          "colorscale": {
           "diverging": [
            [
             0,
             "#8e0152"
            ],
            [
             0.1,
             "#c51b7d"
            ],
            [
             0.2,
             "#de77ae"
            ],
            [
             0.3,
             "#f1b6da"
            ],
            [
             0.4,
             "#fde0ef"
            ],
            [
             0.5,
             "#f7f7f7"
            ],
            [
             0.6,
             "#e6f5d0"
            ],
            [
             0.7,
             "#b8e186"
            ],
            [
             0.8,
             "#7fbc41"
            ],
            [
             0.9,
             "#4d9221"
            ],
            [
             1,
             "#276419"
            ]
           ],
           "sequential": [
            [
             0,
             "#0d0887"
            ],
            [
             0.1111111111111111,
             "#46039f"
            ],
            [
             0.2222222222222222,
             "#7201a8"
            ],
            [
             0.3333333333333333,
             "#9c179e"
            ],
            [
             0.4444444444444444,
             "#bd3786"
            ],
            [
             0.5555555555555556,
             "#d8576b"
            ],
            [
             0.6666666666666666,
             "#ed7953"
            ],
            [
             0.7777777777777778,
             "#fb9f3a"
            ],
            [
             0.8888888888888888,
             "#fdca26"
            ],
            [
             1,
             "#f0f921"
            ]
           ],
           "sequentialminus": [
            [
             0,
             "#0d0887"
            ],
            [
             0.1111111111111111,
             "#46039f"
            ],
            [
             0.2222222222222222,
             "#7201a8"
            ],
            [
             0.3333333333333333,
             "#9c179e"
            ],
            [
             0.4444444444444444,
             "#bd3786"
            ],
            [
             0.5555555555555556,
             "#d8576b"
            ],
            [
             0.6666666666666666,
             "#ed7953"
            ],
            [
             0.7777777777777778,
             "#fb9f3a"
            ],
            [
             0.8888888888888888,
             "#fdca26"
            ],
            [
             1,
             "#f0f921"
            ]
           ]
          },
          "colorway": [
           "#636efa",
           "#EF553B",
           "#00cc96",
           "#ab63fa",
           "#FFA15A",
           "#19d3f3",
           "#FF6692",
           "#B6E880",
           "#FF97FF",
           "#FECB52"
          ],
          "font": {
           "color": "#2a3f5f"
          },
          "geo": {
           "bgcolor": "white",
           "lakecolor": "white",
           "landcolor": "#E5ECF6",
           "showlakes": true,
           "showland": true,
           "subunitcolor": "white"
          },
          "hoverlabel": {
           "align": "left"
          },
          "hovermode": "closest",
          "mapbox": {
           "style": "light"
          },
          "paper_bgcolor": "white",
          "plot_bgcolor": "#E5ECF6",
          "polar": {
           "angularaxis": {
            "gridcolor": "white",
            "linecolor": "white",
            "ticks": ""
           },
           "bgcolor": "#E5ECF6",
           "radialaxis": {
            "gridcolor": "white",
            "linecolor": "white",
            "ticks": ""
           }
          },
          "scene": {
           "xaxis": {
            "backgroundcolor": "#E5ECF6",
            "gridcolor": "white",
            "gridwidth": 2,
            "linecolor": "white",
            "showbackground": true,
            "ticks": "",
            "zerolinecolor": "white"
           },
           "yaxis": {
            "backgroundcolor": "#E5ECF6",
            "gridcolor": "white",
            "gridwidth": 2,
            "linecolor": "white",
            "showbackground": true,
            "ticks": "",
            "zerolinecolor": "white"
           },
           "zaxis": {
            "backgroundcolor": "#E5ECF6",
            "gridcolor": "white",
            "gridwidth": 2,
            "linecolor": "white",
            "showbackground": true,
            "ticks": "",
            "zerolinecolor": "white"
           }
          },
          "shapedefaults": {
           "line": {
            "color": "#2a3f5f"
           }
          },
          "ternary": {
           "aaxis": {
            "gridcolor": "white",
            "linecolor": "white",
            "ticks": ""
           },
           "baxis": {
            "gridcolor": "white",
            "linecolor": "white",
            "ticks": ""
           },
           "bgcolor": "#E5ECF6",
           "caxis": {
            "gridcolor": "white",
            "linecolor": "white",
            "ticks": ""
           }
          },
          "title": {
           "x": 0.05
          },
          "xaxis": {
           "automargin": true,
           "gridcolor": "white",
           "linecolor": "white",
           "ticks": "",
           "title": {
            "standoff": 15
           },
           "zerolinecolor": "white",
           "zerolinewidth": 2
          },
          "yaxis": {
           "automargin": true,
           "gridcolor": "white",
           "linecolor": "white",
           "ticks": "",
           "title": {
            "standoff": 15
           },
           "zerolinecolor": "white",
           "zerolinewidth": 2
          }
         }
        },
        "title": {
         "text": "Anger vs. Loss"
        },
        "xaxis": {
         "anchor": "y",
         "domain": [
          0,
          1
         ],
         "title": {
          "text": "Loss"
         }
        },
        "yaxis": {
         "anchor": "x",
         "domain": [
          0,
          1
         ],
         "dtick": 1,
         "range": [
          1,
          9
         ],
         "title": {
          "text": "Mean Anger Score"
         }
        }
       }
      },
      "text/html": [
       "<div>                            <div id=\"e18fcf8a-af56-40a4-a4ae-fc07ecab8920\" class=\"plotly-graph-div\" style=\"height:525px; width:100%;\"></div>            <script type=\"text/javascript\">                require([\"plotly\"], function(Plotly) {                    window.PLOTLYENV=window.PLOTLYENV || {};                                    if (document.getElementById(\"e18fcf8a-af56-40a4-a4ae-fc07ecab8920\")) {                    Plotly.newPlot(                        \"e18fcf8a-af56-40a4-a4ae-fc07ecab8920\",                        [{\"hovertemplate\":\"Loss=%{x}\\u003cbr\\u003eMean Anger Score=%{y}\\u003cextra\\u003e\\u003c\\u002fextra\\u003e\",\"legendgroup\":\"\",\"marker\":{\"color\":\"#636efa\",\"symbol\":\"circle\"},\"mode\":\"markers\",\"name\":\"\",\"orientation\":\"v\",\"showlegend\":false,\"x\":[2.067650240659714,2.0721112489700317,2.085942953824997,2.113419532775879,2.1920727729797362,2.275020253658295,2.3704244196414948,2.4027247011661528],\"xaxis\":\"x\",\"y\":[1.8,1.5,1.7,1.5,1.2,1.8,1.1,2.4],\"yaxis\":\"y\",\"type\":\"scatter\"},{\"mode\":\"markers\",\"name\":\"New Line\",\"x\":[2.067650240659714,2.073962318897247,2.093792551755905,2.1936739861965178,2.877564311027527,3.431597661972046,4.423155784606934,4.670517134666443],\"y\":[1.3,1.2,2.2,2.7,5.5,4.9,2.7,2.5],\"type\":\"scatter\"}],                        {\"template\":{\"data\":{\"histogram2dcontour\":[{\"type\":\"histogram2dcontour\",\"colorbar\":{\"outlinewidth\":0,\"ticks\":\"\"},\"colorscale\":[[0.0,\"#0d0887\"],[0.1111111111111111,\"#46039f\"],[0.2222222222222222,\"#7201a8\"],[0.3333333333333333,\"#9c179e\"],[0.4444444444444444,\"#bd3786\"],[0.5555555555555556,\"#d8576b\"],[0.6666666666666666,\"#ed7953\"],[0.7777777777777778,\"#fb9f3a\"],[0.8888888888888888,\"#fdca26\"],[1.0,\"#f0f921\"]]}],\"choropleth\":[{\"type\":\"choropleth\",\"colorbar\":{\"outlinewidth\":0,\"ticks\":\"\"}}],\"histogram2d\":[{\"type\":\"histogram2d\",\"colorbar\":{\"outlinewidth\":0,\"ticks\":\"\"},\"colorscale\":[[0.0,\"#0d0887\"],[0.1111111111111111,\"#46039f\"],[0.2222222222222222,\"#7201a8\"],[0.3333333333333333,\"#9c179e\"],[0.4444444444444444,\"#bd3786\"],[0.5555555555555556,\"#d8576b\"],[0.6666666666666666,\"#ed7953\"],[0.7777777777777778,\"#fb9f3a\"],[0.8888888888888888,\"#fdca26\"],[1.0,\"#f0f921\"]]}],\"heatmap\":[{\"type\":\"heatmap\",\"colorbar\":{\"outlinewidth\":0,\"ticks\":\"\"},\"colorscale\":[[0.0,\"#0d0887\"],[0.1111111111111111,\"#46039f\"],[0.2222222222222222,\"#7201a8\"],[0.3333333333333333,\"#9c179e\"],[0.4444444444444444,\"#bd3786\"],[0.5555555555555556,\"#d8576b\"],[0.6666666666666666,\"#ed7953\"],[0.7777777777777778,\"#fb9f3a\"],[0.8888888888888888,\"#fdca26\"],[1.0,\"#f0f921\"]]}],\"heatmapgl\":[{\"type\":\"heatmapgl\",\"colorbar\":{\"outlinewidth\":0,\"ticks\":\"\"},\"colorscale\":[[0.0,\"#0d0887\"],[0.1111111111111111,\"#46039f\"],[0.2222222222222222,\"#7201a8\"],[0.3333333333333333,\"#9c179e\"],[0.4444444444444444,\"#bd3786\"],[0.5555555555555556,\"#d8576b\"],[0.6666666666666666,\"#ed7953\"],[0.7777777777777778,\"#fb9f3a\"],[0.8888888888888888,\"#fdca26\"],[1.0,\"#f0f921\"]]}],\"contourcarpet\":[{\"type\":\"contourcarpet\",\"colorbar\":{\"outlinewidth\":0,\"ticks\":\"\"}}],\"contour\":[{\"type\":\"contour\",\"colorbar\":{\"outlinewidth\":0,\"ticks\":\"\"},\"colorscale\":[[0.0,\"#0d0887\"],[0.1111111111111111,\"#46039f\"],[0.2222222222222222,\"#7201a8\"],[0.3333333333333333,\"#9c179e\"],[0.4444444444444444,\"#bd3786\"],[0.5555555555555556,\"#d8576b\"],[0.6666666666666666,\"#ed7953\"],[0.7777777777777778,\"#fb9f3a\"],[0.8888888888888888,\"#fdca26\"],[1.0,\"#f0f921\"]]}],\"surface\":[{\"type\":\"surface\",\"colorbar\":{\"outlinewidth\":0,\"ticks\":\"\"},\"colorscale\":[[0.0,\"#0d0887\"],[0.1111111111111111,\"#46039f\"],[0.2222222222222222,\"#7201a8\"],[0.3333333333333333,\"#9c179e\"],[0.4444444444444444,\"#bd3786\"],[0.5555555555555556,\"#d8576b\"],[0.6666666666666666,\"#ed7953\"],[0.7777777777777778,\"#fb9f3a\"],[0.8888888888888888,\"#fdca26\"],[1.0,\"#f0f921\"]]}],\"mesh3d\":[{\"type\":\"mesh3d\",\"colorbar\":{\"outlinewidth\":0,\"ticks\":\"\"}}],\"scatter\":[{\"fillpattern\":{\"fillmode\":\"overlay\",\"size\":10,\"solidity\":0.2},\"type\":\"scatter\"}],\"parcoords\":[{\"type\":\"parcoords\",\"line\":{\"colorbar\":{\"outlinewidth\":0,\"ticks\":\"\"}}}],\"scatterpolargl\":[{\"type\":\"scatterpolargl\",\"marker\":{\"colorbar\":{\"outlinewidth\":0,\"ticks\":\"\"}}}],\"bar\":[{\"error_x\":{\"color\":\"#2a3f5f\"},\"error_y\":{\"color\":\"#2a3f5f\"},\"marker\":{\"line\":{\"color\":\"#E5ECF6\",\"width\":0.5},\"pattern\":{\"fillmode\":\"overlay\",\"size\":10,\"solidity\":0.2}},\"type\":\"bar\"}],\"scattergeo\":[{\"type\":\"scattergeo\",\"marker\":{\"colorbar\":{\"outlinewidth\":0,\"ticks\":\"\"}}}],\"scatterpolar\":[{\"type\":\"scatterpolar\",\"marker\":{\"colorbar\":{\"outlinewidth\":0,\"ticks\":\"\"}}}],\"histogram\":[{\"marker\":{\"pattern\":{\"fillmode\":\"overlay\",\"size\":10,\"solidity\":0.2}},\"type\":\"histogram\"}],\"scattergl\":[{\"type\":\"scattergl\",\"marker\":{\"colorbar\":{\"outlinewidth\":0,\"ticks\":\"\"}}}],\"scatter3d\":[{\"type\":\"scatter3d\",\"line\":{\"colorbar\":{\"outlinewidth\":0,\"ticks\":\"\"}},\"marker\":{\"colorbar\":{\"outlinewidth\":0,\"ticks\":\"\"}}}],\"scattermapbox\":[{\"type\":\"scattermapbox\",\"marker\":{\"colorbar\":{\"outlinewidth\":0,\"ticks\":\"\"}}}],\"scatterternary\":[{\"type\":\"scatterternary\",\"marker\":{\"colorbar\":{\"outlinewidth\":0,\"ticks\":\"\"}}}],\"scattercarpet\":[{\"type\":\"scattercarpet\",\"marker\":{\"colorbar\":{\"outlinewidth\":0,\"ticks\":\"\"}}}],\"carpet\":[{\"aaxis\":{\"endlinecolor\":\"#2a3f5f\",\"gridcolor\":\"white\",\"linecolor\":\"white\",\"minorgridcolor\":\"white\",\"startlinecolor\":\"#2a3f5f\"},\"baxis\":{\"endlinecolor\":\"#2a3f5f\",\"gridcolor\":\"white\",\"linecolor\":\"white\",\"minorgridcolor\":\"white\",\"startlinecolor\":\"#2a3f5f\"},\"type\":\"carpet\"}],\"table\":[{\"cells\":{\"fill\":{\"color\":\"#EBF0F8\"},\"line\":{\"color\":\"white\"}},\"header\":{\"fill\":{\"color\":\"#C8D4E3\"},\"line\":{\"color\":\"white\"}},\"type\":\"table\"}],\"barpolar\":[{\"marker\":{\"line\":{\"color\":\"#E5ECF6\",\"width\":0.5},\"pattern\":{\"fillmode\":\"overlay\",\"size\":10,\"solidity\":0.2}},\"type\":\"barpolar\"}],\"pie\":[{\"automargin\":true,\"type\":\"pie\"}]},\"layout\":{\"autotypenumbers\":\"strict\",\"colorway\":[\"#636efa\",\"#EF553B\",\"#00cc96\",\"#ab63fa\",\"#FFA15A\",\"#19d3f3\",\"#FF6692\",\"#B6E880\",\"#FF97FF\",\"#FECB52\"],\"font\":{\"color\":\"#2a3f5f\"},\"hovermode\":\"closest\",\"hoverlabel\":{\"align\":\"left\"},\"paper_bgcolor\":\"white\",\"plot_bgcolor\":\"#E5ECF6\",\"polar\":{\"bgcolor\":\"#E5ECF6\",\"angularaxis\":{\"gridcolor\":\"white\",\"linecolor\":\"white\",\"ticks\":\"\"},\"radialaxis\":{\"gridcolor\":\"white\",\"linecolor\":\"white\",\"ticks\":\"\"}},\"ternary\":{\"bgcolor\":\"#E5ECF6\",\"aaxis\":{\"gridcolor\":\"white\",\"linecolor\":\"white\",\"ticks\":\"\"},\"baxis\":{\"gridcolor\":\"white\",\"linecolor\":\"white\",\"ticks\":\"\"},\"caxis\":{\"gridcolor\":\"white\",\"linecolor\":\"white\",\"ticks\":\"\"}},\"coloraxis\":{\"colorbar\":{\"outlinewidth\":0,\"ticks\":\"\"}},\"colorscale\":{\"sequential\":[[0.0,\"#0d0887\"],[0.1111111111111111,\"#46039f\"],[0.2222222222222222,\"#7201a8\"],[0.3333333333333333,\"#9c179e\"],[0.4444444444444444,\"#bd3786\"],[0.5555555555555556,\"#d8576b\"],[0.6666666666666666,\"#ed7953\"],[0.7777777777777778,\"#fb9f3a\"],[0.8888888888888888,\"#fdca26\"],[1.0,\"#f0f921\"]],\"sequentialminus\":[[0.0,\"#0d0887\"],[0.1111111111111111,\"#46039f\"],[0.2222222222222222,\"#7201a8\"],[0.3333333333333333,\"#9c179e\"],[0.4444444444444444,\"#bd3786\"],[0.5555555555555556,\"#d8576b\"],[0.6666666666666666,\"#ed7953\"],[0.7777777777777778,\"#fb9f3a\"],[0.8888888888888888,\"#fdca26\"],[1.0,\"#f0f921\"]],\"diverging\":[[0,\"#8e0152\"],[0.1,\"#c51b7d\"],[0.2,\"#de77ae\"],[0.3,\"#f1b6da\"],[0.4,\"#fde0ef\"],[0.5,\"#f7f7f7\"],[0.6,\"#e6f5d0\"],[0.7,\"#b8e186\"],[0.8,\"#7fbc41\"],[0.9,\"#4d9221\"],[1,\"#276419\"]]},\"xaxis\":{\"gridcolor\":\"white\",\"linecolor\":\"white\",\"ticks\":\"\",\"title\":{\"standoff\":15},\"zerolinecolor\":\"white\",\"automargin\":true,\"zerolinewidth\":2},\"yaxis\":{\"gridcolor\":\"white\",\"linecolor\":\"white\",\"ticks\":\"\",\"title\":{\"standoff\":15},\"zerolinecolor\":\"white\",\"automargin\":true,\"zerolinewidth\":2},\"scene\":{\"xaxis\":{\"backgroundcolor\":\"#E5ECF6\",\"gridcolor\":\"white\",\"linecolor\":\"white\",\"showbackground\":true,\"ticks\":\"\",\"zerolinecolor\":\"white\",\"gridwidth\":2},\"yaxis\":{\"backgroundcolor\":\"#E5ECF6\",\"gridcolor\":\"white\",\"linecolor\":\"white\",\"showbackground\":true,\"ticks\":\"\",\"zerolinecolor\":\"white\",\"gridwidth\":2},\"zaxis\":{\"backgroundcolor\":\"#E5ECF6\",\"gridcolor\":\"white\",\"linecolor\":\"white\",\"showbackground\":true,\"ticks\":\"\",\"zerolinecolor\":\"white\",\"gridwidth\":2}},\"shapedefaults\":{\"line\":{\"color\":\"#2a3f5f\"}},\"annotationdefaults\":{\"arrowcolor\":\"#2a3f5f\",\"arrowhead\":0,\"arrowwidth\":1},\"geo\":{\"bgcolor\":\"white\",\"landcolor\":\"#E5ECF6\",\"subunitcolor\":\"white\",\"showland\":true,\"showlakes\":true,\"lakecolor\":\"white\"},\"title\":{\"x\":0.05},\"mapbox\":{\"style\":\"light\"}}},\"xaxis\":{\"anchor\":\"y\",\"domain\":[0.0,1.0],\"title\":{\"text\":\"Loss\"}},\"yaxis\":{\"anchor\":\"x\",\"domain\":[0.0,1.0],\"title\":{\"text\":\"Mean Anger Score\"},\"range\":[1,9],\"dtick\":1},\"legend\":{\"tracegroupgap\":0},\"title\":{\"text\":\"Anger vs. Loss\"}},                        {\"responsive\": true}                    ).then(function(){\n",
       "                            \n",
       "var gd = document.getElementById('e18fcf8a-af56-40a4-a4ae-fc07ecab8920');\n",
       "var x = new MutationObserver(function (mutations, observer) {{\n",
       "        var display = window.getComputedStyle(gd).display;\n",
       "        if (!display || display === 'none') {{\n",
       "            console.log([gd, 'removed!']);\n",
       "            Plotly.purge(gd);\n",
       "            observer.disconnect();\n",
       "        }}\n",
       "}});\n",
       "\n",
       "// Listen for the removal of the full notebook cells\n",
       "var notebookContainer = gd.closest('#notebook-container');\n",
       "if (notebookContainer) {{\n",
       "    x.observe(notebookContainer, {childList: true});\n",
       "}}\n",
       "\n",
       "// Listen for the clearing of the current output cell\n",
       "var outputEl = gd.closest('.output');\n",
       "if (outputEl) {{\n",
       "    x.observe(outputEl, {childList: true});\n",
       "}}\n",
       "\n",
       "                        })                };                });            </script>        </div>"
      ]
     },
     "metadata": {},
     "output_type": "display_data"
    }
   ],
   "source": [
    "fig = px.scatter(x=act_steer_losses, y=mean_scores, title=\"Anger vs. Loss\", labels={\"x\": \"Loss\", \"y\": \"Mean Anger Score\"})\n",
    "fig.add_scatter(x=sae_anger_losses, y=mean_sae_scores, mode='markers', name='New Line')\n",
    "fig.update_yaxes(range=[1, 9], dtick=1)\n",
    "fig.show()"
   ]
  },
  {
   "cell_type": "code",
   "execution_count": null,
   "metadata": {},
   "outputs": [],
   "source": []
  }
 ],
 "metadata": {
  "kernelspec": {
   "display_name": ".venv",
   "language": "python",
   "name": "python3"
  },
  "language_info": {
   "codemirror_mode": {
    "name": "ipython",
    "version": 3
   },
   "file_extension": ".py",
   "mimetype": "text/x-python",
   "name": "python",
   "nbconvert_exporter": "python",
   "pygments_lexer": "ipython3",
   "version": "3.10.14"
  }
 },
 "nbformat": 4,
 "nbformat_minor": 2
}
