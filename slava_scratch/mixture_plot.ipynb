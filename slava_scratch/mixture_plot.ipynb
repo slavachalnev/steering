{
 "cells": [
  {
   "cell_type": "code",
   "execution_count": 1,
   "metadata": {},
   "outputs": [
    {
     "data": {
      "text/plain": [
       "<torch.autograd.grad_mode.set_grad_enabled at 0x7ff6b67db4c0>"
      ]
     },
     "execution_count": 1,
     "metadata": {},
     "output_type": "execute_result"
    }
   ],
   "source": [
    "import os\n",
    "import sys\n",
    "sys.path.append(os.path.abspath('..'))\n",
    "\n",
    "import torch\n",
    "from torch.utils.data import DataLoader\n",
    "from transformer_lens import HookedTransformer\n",
    "from transformer_lens import utils as tutils\n",
    "from transformer_lens.evals import make_pile_data_loader, evaluate_on_dataset\n",
    "\n",
    "from functools import partial\n",
    "from datasets import load_dataset\n",
    "from tqdm import tqdm\n",
    "\n",
    "from sae_lens import SparseAutoencoder\n",
    "from sae_lens.toolkit.pretrained_saes import get_gpt2_res_jb_saes\n",
    "from sae_lens import SparseAutoencoder, ActivationsStore\n",
    "\n",
    "from steering.eval_utils import evaluate_completions\n",
    "from steering.utils import text_to_sae_feats, top_activations, normalise_decoder, get_activation_steering\n",
    "from steering.patch import generate, get_scores_and_losses, patch_resid, get_loss, scores_2d\n",
    "\n",
    "from sae_vis.data_config_classes import SaeVisConfig\n",
    "from sae_vis.data_storing_fns import SaeVisData\n",
    "\n",
    "import plotly.express as px\n",
    "import plotly.graph_objects as go\n",
    "\n",
    "torch.set_grad_enabled(False)"
   ]
  },
  {
   "cell_type": "code",
   "execution_count": 2,
   "metadata": {},
   "outputs": [
    {
     "name": "stderr",
     "output_type": "stream",
     "text": [
      "/home/slava/safety/steering/.venv/lib/python3.10/site-packages/huggingface_hub/file_download.py:1132: FutureWarning: `resume_download` is deprecated and will be removed in version 1.0.0. Downloads always resume when possible. If you want to force a new download, use `force_download=True`.\n",
      "  warnings.warn(\n",
      "Gemma's activation function should be approximate GeLU and not exact GeLU.\n",
      "Changing the activation function to `gelu_pytorch_tanh`.if you want to use the legacy `gelu`, edit the `model.config` to set `hidden_activation=gelu`   instead of `hidden_act`. See https://github.com/huggingface/transformers/pull/29402 for more details.\n"
     ]
    },
    {
     "data": {
      "application/vnd.jupyter.widget-view+json": {
       "model_id": "145b62514f5743ddae402fed6725b63a",
       "version_major": 2,
       "version_minor": 0
      },
      "text/plain": [
       "Loading checkpoint shards:   0%|          | 0/2 [00:00<?, ?it/s]"
      ]
     },
     "metadata": {},
     "output_type": "display_data"
    },
    {
     "name": "stderr",
     "output_type": "stream",
     "text": [
      "WARNING:root:You are not using LayerNorm, so the writing weights can't be centered! Skipping\n"
     ]
    },
    {
     "name": "stdout",
     "output_type": "stream",
     "text": [
      "Loaded pretrained model gemma-2b into HookedTransformer\n"
     ]
    }
   ],
   "source": [
    "device = torch.device(\"cuda\" if torch.cuda.is_available() else \"cpu\")\n",
    "model = HookedTransformer.from_pretrained(\"gemma-2b\", device=device)"
   ]
  },
  {
   "cell_type": "code",
   "execution_count": 3,
   "metadata": {},
   "outputs": [],
   "source": [
    "hp6 = \"blocks.6.hook_resid_post\"\n",
    "\n",
    "sae6 = SparseAutoencoder.from_pretrained(\"gemma-2b-res-jb\", hp6)\n",
    "normalise_decoder(sae6, scale_input=False)\n",
    "sae6 = sae6.to(device)"
   ]
  },
  {
   "cell_type": "code",
   "execution_count": 4,
   "metadata": {},
   "outputs": [],
   "source": [
    "anger_dec = sae6.W_dec[1062]\n",
    "# blog_dec = sae6.W_dec[14586]\n",
    "wedding_dec = sae6.W_dec[8406]\n",
    "\n",
    "scales = [0, 10, 20, 30, 40, 50, 60, 70, 80]\n",
    "scales = [0, 40, 70]\n",
    "prompt = \"I think\"\n"
   ]
  },
  {
   "cell_type": "code",
   "execution_count": 5,
   "metadata": {},
   "outputs": [
    {
     "name": "stdout",
     "output_type": "stream",
     "text": [
      "loading dataset: NeelNanda/c4-code-20k\n",
      "dataset loaded\n"
     ]
    },
    {
     "name": "stderr",
     "output_type": "stream",
     "text": [
      "100%|██████████| 9/9 [10:10<00:00, 67.89s/it]\n"
     ]
    },
    {
     "name": "stdout",
     "output_type": "stream",
     "text": [
      "loss grid\n",
      "tensor([[2.0377, 2.0439, 2.0647, 2.1067, 2.1813, 2.3021, 2.4917, 2.7871, 3.2093],\n",
      "        [2.0442, 2.0524, 2.0759, 2.1223, 2.2035, 2.3351, 2.5427, 2.8627, 3.3087],\n",
      "        [2.0721, 2.0834, 2.1122, 2.1664, 2.2599, 2.4103, 2.6455, 2.9971, 3.4707],\n",
      "        [2.1372, 2.1539, 2.1912, 2.2585, 2.3720, 2.5516, 2.8239, 3.2130, 3.7106],\n",
      "        [2.2563, 2.2818, 2.3324, 2.4188, 2.5604, 2.7798, 3.0980, 3.5237, 4.0354],\n",
      "        [2.4416, 2.4795, 2.5478, 2.6603, 2.8390, 3.1063, 3.4709, 3.9234, 4.4365],\n",
      "        [2.7047, 2.7606, 2.8544, 3.0003, 3.2215, 3.5353, 3.9347, 4.3978, 4.8982],\n",
      "        [3.0630, 3.1434, 3.2688, 3.4534, 3.7155, 4.0616, 4.4748, 4.9296, 5.4044],\n",
      "        [3.5303, 3.6408, 3.8013, 4.0216, 4.3105, 4.6658, 5.0701, 5.5011, 5.9413]],\n",
      "       device='cuda:0')\n",
      "evaluating (0, 0)\n"
     ]
    },
    {
     "name": "stderr",
     "output_type": "stream",
     "text": [
      "100%|██████████| 50/50 [00:54<00:00,  1.08s/it]\n"
     ]
    },
    {
     "name": "stdout",
     "output_type": "stream",
     "text": [
      "['I think the answer is d)\\nWe can see from the answer provided that:\\nThe probability that the', \"I think that's the best price ever for a used one on the 4G as there's\", 'I think the only two ways you could buy a 2nd car are either a lease or a loaner', \"I think the title sums up the issue. I'm trying to import a new project and it can read\", \"I think its pretty much decided to be a boy. I'm 19 weeks. Went in this\", \"I think it'd be cute if they made that into an episode (I love Garmains and Az\", 'I think it’s common that a lot of people feel like they have a very short amount of time to', 'I think I’m in the minority here, but I don’t like that “I’m having', \"I think the thing is we can't really be too certain what happened for sure. It's hard\", 'I think it’s safe to say that it’s been a long time since a <em>Fast and', \"I think the key to your answer is to recognize that the point of a model is that it doesn't\", 'I think there is a lack of detail regarding all the things you have to consider when deciding on a new laptop', 'I think they look good. I wonder how expensive it would be to put them all in a frame...\\n\\n', \"I think a lot of the people who come here aren't actually going to end up being full time in\", 'I think I would start the day at 250-300mg of MDMA, which', 'I think you can add the field in the \"Advanced\" tab from the settings for the plugin. I did', 'I think many people here, including myself, have at least glanced at the old 8 1/2', 'I think the word you are looking for is \"perceivably\":\\n\\n<blockquote>* \"if you can perceive', 'I think this should be a 3-star or very close to a 4-star location; however', 'I think it means he is getting angry when he is about to die soon. The first two lines are a', 'I think they have to do it in a way as to not have it too expensive as to prevent kids from', 'I think I first heard about the P-228 many years ago when I read the introduction of a', 'I think about the past every day, whether it’s going back two years, 15 years,', 'I think this is the first time i did a tutorial. I started drawing with my digital tablet back in november', 'I think I need to change the size of the font used in the web site map of my web site.', 'I think to begin you should understand, this was not a \"game play\". No, it was a \"', 'I think it was only a matter of time before we had these two come to the blog. I recently bought', 'I think I’ve always had a passion for design, however the start of this chapter in my life and', \"I think the <code><canvas/></code> part was a typo, it won't work without that and\", 'I think you will need all the same pieces shown in the photos. It might be possible that the lower side', \"I think it's very important to make ourselves more responsible for the environment by using less electricity or conserving water\", 'I think I get this, but is there a way to make it a different color for the last item?', 'I think you mean \"what is one of the largest mammal in the world?\"\\n\\nanswer: the whale.', 'I think I’ve tried most Japanese restaurants in Manchester and this one is probably the best, the food is', 'I think this has happened to both my 2010 and 11... When starting from a', 'I think this is the right forum! I want to keep up my car while saving some $$$ so I can', 'I think we should all take the time to appreciate the fact that we have a really strong cast of characters in', 'I think you could probably get some more accurate information if you posted the full error message. The problem is that', 'I think most if not all of the current <strong>G5-G11 MacBook Pros</strong> are more', 'I think that you should probably use the word <b><b>overcome</b></b> to describe your accomplishments.\\n', 'I think for this scenario I would try to use this script to create a new field.  I have never', 'I think i made one yesterday but i was like \"i can make one tomorrow\" and now im up at', \"I think there's a point where you've gone too far. How the fuck does a cat have\", 'I think most of us would agree that when it comes to food, what we’re putting into our bodies', 'I think that this is a pretty good album. When you take a deep breath and consider each song, you', \"I think you have to wait for the 2.8 version.\\n\\nI'm waiting for it to\", 'I think with the first one they gave you the ability to do it, but then they nerfed it so that', 'I think this is the biggest, most dangerous mistake most guys make that holds them back from success. But before', 'I think I’m just going to get to it and get this straight up. I’m writing this', 'I think it would be ok to change, but you would have to replace the battery to get anything going at']\n",
      "Anger 1.24\n",
      "Discussion/mention of blog or blog post 1.14\n",
      "evaluating (0, 1)\n"
     ]
    },
    {
     "name": "stderr",
     "output_type": "stream",
     "text": [
      "100%|██████████| 50/50 [00:53<00:00,  1.07s/it]\n"
     ]
    },
    {
     "name": "stdout",
     "output_type": "stream",
     "text": [
      "['I think these two should meet each other.\\n\\ni’ll always cherish the beautiful friendship of these two amazing', 'I think a lot about this. This is an exciting time to be at NCH Healthcare System. I feel', 'I think there is a reason why our ancestors decided to live in caves. We are hard wired for closeness.', 'I think that the 1998 film <i>The Mask</i> is a little underrated. I feel', 'I think we are talking two different sets of information. I have the latest Windows 10.10', 'I think you have two issues here:\\n\\n1. the issue with your code is that the variable that you', 'I think I have had the greatest blessing in life. The birth of my son changed my world. It awakened', 'I think I’m going crazy.\\n\\nMy 1 year old son is constantly chewing on his hair.', 'I think the answer is in the last post.\\n\\n(I have added my answer under the question, since', 'I think it is common to consider that it is better to be known as a nice person with a kind of', 'I think people take for granted the opportunity to play 48. It’s just a game. As', 'I think it looks like a cute idea for a game, and it sounds cool in theory, but it seems', 'I think part of it is getting better at using it. I got up in the early 17th', \"I think you're asking the wrong person. I doubt anyone here knows anything about using a PC remotely.\", 'I think, it would be better (faster) to do it in Javascript..\\n\\n<code>$document.ready', \"I think I've found a bug that might affect all of your websites. This happens after you create all\", 'I think I may have created a monster...\\nI picked up a cheap one on Amazon, but I am', 'I think it is probably a sign that life is good when you wake up in a hot and humid cabin in', \"I think I've read and heard this too:\\n'Do not read your texts'\\n'Don\", 'I think the only difference is that the \"2\" is actually written in the actual model as a suffix,', 'I think he’s talking about how a lot of people will come to that conclusion. You’ll be', 'I think it would be funny if people start buying an extra \"big rig\" car to go to the store', 'I think we can all agree that this is a lot of hype for a product we already know little about,', 'I think that is a great idea. Here is my suggestion.\\nWhen you buy a product, the vendor', \"I think one thing we're in general not thinking about in the same way as we should is how and\", 'I think it’s pretty obvious I’m going to go with the Scorpionic, but I really', 'I think your question has two parts: A, is it true that you can construct a finite group $G', 'I think that you might want to try adding a delay to the transition, and not simply just transitioning to the', 'I think I have an infection after using the toothbrush with the paste after I took my wisdom tooth out. It', \"I think it would be helpful if you'd take a moment to explain the reasoning behind your question.\\n\\n\", 'I think most people would agree that there are few things as frustrating as paying a contractor for their services and they', 'I think the question is not one of right or wrong. It is a matter of personal preference. Some players', 'I think I may have a problem. The 9th, 10th, and 12', 'I think people get hung up with the way they feel they should write.  And this is why they don', \"I think that's something I need to keep reminding myself about. I have a similar problem with keeping a\", \"I think you're correct. My guess is that 0.1% or slightly lower than that would\", 'I think you’re on the right track. I’ve also seen some good success at 1:', 'I think these are very cute!!!\\nThis will be a nice addition to your collection.\\nI bought a', \"I think the majority of people go to the market <strong>on Friday.</strong>\\n\\n<strong>Let's analyze\", 'I think you are looking for the <strong>\"How do I add another file-type or MIME-type', 'I think we all have some type of creative outlet in our life, whether it is writing, playing music,', 'I think all the problems stem from the fact that you are trying to implement a standard pattern, the single responsibility', 'I think you need an actual link to prove they are the true \"real deal\". And if they are fake', 'I think your best bet to really understand the nature, scale and extent of the work is to take the time', 'I think I have a weird taste and I like a lot of music.\\n\\nMy tastes range from classical to', 'I think every mother and son relationship has its ups and downs. From time to time, we can all find', 'I think I have the same problem.\\n\\nI also use a T-rex 25 for the first', 'I think the whole \"no-one died in the past 3 days\" theory is very interesting and I', \"I think everyone knows that if you buy a dog, you're going to have to potty train him.\", 'I think I was supposed to have a post about some of my favorite books of 2012,']\n",
      "Anger 1.16\n",
      "Discussion/mention of blog or blog post 1.26\n",
      "evaluating (0, 2)\n"
     ]
    },
    {
     "name": "stderr",
     "output_type": "stream",
     "text": [
      "100%|██████████| 50/50 [00:53<00:00,  1.06s/it]\n"
     ]
    },
    {
     "name": "stdout",
     "output_type": "stream",
     "text": [
      "[\"I think this looks great. Can't wait to see what else come s out of this. Do you\", 'I think that if you have no history with the school you may not get good support. Our school is a', 'I think that we have covered the basic requirements of <i>My Life as a Teenage Robot</i> in the following', \"I think that you have a couple of issues.\\n\\nFirstly, as you're using a webserver,\", 'I think that I was about 14 when John Lennon died. There was just something about him – the', 'I think most of us can point to a certain restaurant that plays one of two roles in our lives.  ', \"I think this is the best tasting soup I have made, I also used my mother's recipe which is\", 'I think that I could love that! Love the colors.\\n\\nOh I love your projects, they make me', 'I think this movie is like really cool, the storyline is well told, and the action is really awesome,', 'I think the difference between this piece and the usual \"what\\'s in his pocket?\" questions is that you', 'I think my dad was having a good time making these. At some point, he may have to give up', 'I think this might have an issue here: https://stackoverflow.com/questions/53789', 'I think that’s one of the reasons these two went their separate ways; they had a lot of respect', 'I think that in general, if your job is on the market, you can apply for whatever jobs come up', 'I think it’s safe to say that I LOVE the holidays.  Even if you don’t follow', \"I think that has been made abundantly clear. I made the posts very clear that I don't use a\", 'I think that, on the issue of the \"anti-authoritarian\" argument, the biggest critique is to', 'I think it would be pretty sweet if we could play some of the movies (with sound) along with the', 'I think I have the answer to my original question. I downloaded a new driver for the printer and the problem', 'I think it was my first trip to a hair salon I went to that just wouldn’t cut it.', 'I think this is a great suggestion. It would also allow us to have several different types of notifications at the', 'I think many would argue that the original “Transformers” could be counted in as another classic from the 8', 'I think all of us experienced something that makes us feel the sadness of the people around us. One thing you', 'I think most people have heard the story of King Saul and his great victory of defeating the Philistines. The', 'I think it’s been a fair amount since I’ve talked about this, but with COVID-1', 'I think we’ve all done it. We set resolution goals for 2016 (or have', 'I think that is probably the one thing that has to be considered on it’s own.\\n\\nThe first', 'I think most of you know the answer but if not, the short answer is; a couple reasons to learn', 'I think we might have to rename the \"new\" series from \"I just want to play a game of', 'I think it’s cool how she didn’t have to have a family or husband or kids or anything', \"I think it's safe to say that you can't talk about all of the things that have been\", 'I think you had better look for a place in the neighborhood with lower fees which can provide you with lower accommodation', \"I think it's a little too early for the start of the holiday season (to me at least)\", 'I think someone is gonna have to write a tutorial on the installation of this stuff.\\n\\nWhen I installed the', 'I think people in France have taken over this thread and it seems like the same discussion goes on every day.', \"I think for the 5.1 audio I'll probably go with either the Denon 65\", 'I think it has to do with the amount of memory you have, and how many programs are running concurrently.', 'I think we have a lot in common. Especially when it comes to food! Although we don’t live', 'I think I can help you here. First off, let me just quickly say that you can totally change your', \"I think it happens. Maybe you feel better about the situation and you're trying to change some aspects of\", 'I think that the best way to improve your blog traffic is to make sure you’re writing with readers as', 'I think I am going to be one day, or one week from this blog post with an article posted at', \"I think they're too strict - I'm 33yo and went in to get an infection\", 'I think all of us love to work. But work sometimes can be tiring! I feel the need of a', 'I think you have been given a lot of answers and I do not intend to add them but just make a', 'I think the issue with your code is that you are trying to access the property of your \"this\" object', 'I think I’ll just ignore that “unfollow” option on Instagram\\n\\nThe original article from The Atlantic', 'I think this is a new trend in the world of digital photography.\\n\\nFor a few days in November of', \"I think this place really is good value for money but you can't beat the fact it's in\", 'I think the most important detail missing from the question is the fact that he is the king. So what is']\n",
      "Anger 1.12\n",
      "Discussion/mention of blog or blog post 1.36\n",
      "evaluating (0, 3)\n"
     ]
    },
    {
     "name": "stderr",
     "output_type": "stream",
     "text": [
      "100%|██████████| 50/50 [00:53<00:00,  1.07s/it]\n"
     ]
    },
    {
     "name": "stdout",
     "output_type": "stream",
     "text": [
      "['I think I mentioned in a previous post that I haven’t spent much time on my food blog in the', \"I think you'll be disappointed on Saturday. Maybe the second day. It may work better in July.\", 'I think you are doing everything you should for a proper site for your shop, but not for a social-', 'I think when I started blogging way back in 2008, I didn’t even know what', \"I think a lot of writers write in a way that makes you feel what they're writing. You will\", 'I think there’s a fair shot that we won’t find a better candidate for the “best-', 'I think I’m a bit late on this one… but I’d be happy to share my opinion', 'I think the best place to go to when you want a good massage is:\\n1) www.ay', 'I think that the new look and functionality of the website has really helped to bring together all the information that was', 'I think that we can argue that there is something about the world in which we live that makes some things more', 'I think that it was written by an author just trying to sell a book.\\n\\nThis was, if I', 'I think the main thing that’s been missing in the past from all the various <em>American Idol</em>', 'I think that one might do the blog thing a little differently from my friend Lisa, who just a couple of', \"I think this is a bug but I don't know how to prove it, but I'm hoping\", 'I think they are pretty reliable. They are made to hold on the car and do what the poster said..', 'I think everyone had the right to ask if they had the right of reply after I was questioned to death on', 'I think you should have done some research before posting. The difference between those two is that the US one is', 'I think they have a lot of talent in that group. Not only this but they got a good singer who', \"I think that's a good idea, but I think I'd need some more details regarding what you\", 'I think it’s about time I posted more of my ‘real’ work (rather than just my design', \"I think it's a great product and I'm very happy with my purchase. <b>Arrived</b>\", 'I think it’s safe to say that all of us have had that moment where we’ve decided that', 'I think the above is good advice for people thinking of running their own business.\\n\\nI also just found the', 'I think you should be careful that it wouldn\\'t be \"a\\'s\" since she\\'s only', 'I think I can safely say this post came about by accident.  I have been making a mental checklist over', 'I think I just found a new way to enjoy and experiment with my camera that I have never tried before.', 'I think that you have to make a decision about your future, and just work on it. Maybe think about', \"I think they're just a bunch of dudes with a dream and they want to start up a rock band\", 'I think what a lot of people need to realize is that this show started off as a show about a child', 'I think your daughter is very sweet, and I’m glad you share your concerns.\\n\\nThere are not', 'I think this is an excellent product for 1099 rental property investors. I have been investing heavily', 'I think I have read here and there on different forums about how people have different opinions on the Pro/Con', 'I think that is why he wrote in the post, “A brief and personal farewell” that he was going', 'I think the only solution is to make sure there is a record for the user for that team, and then', 'I think you are not getting it right. This blog is about how is the market working, and the topic', 'I think the only way they could do it in the future is if you are married in the state in which', 'I think there’s more than one way to deal with our pain. Like a lot of things that hurt', 'I think that in a post on \"How To Be A Cool Husband\", there was a tip on dealing with', 'I think that a lot of people were concerned that this film would show the same ‘dark, gritty and un', \"I think the best way to describe is not much in the way of character development.  I don't\", 'I think, I have been having a kind of obsession about a certain style of shoes which I found in the', 'I think I’m just going to post random stuff from my blog that have nothing to do with the blog', 'I think he should be banned from the community.\\n\\nHe is no longer with us\\n\\nI thought to do', 'I think for years that the first thing that would be on my mind would be the title of a book that', \"I think people think that it's weird when I say this on Twitter and Instagram but… I don'\", \"I think the biggest myth about being a coach is that it's something you do on one side of the\", 'I think it could be possible, but with a really heavy client and no GPU.\\nSo basically I guess', 'I think our kids are still in the middle of the “growing up” phase.\\n\\nWhile I think we', 'I think the one most excited for the launch is the original owner, the person who wrote the original blog and', 'I think your statement\\n\\nI will go there in January (or I will go to there)\\n\\nis incorrect']\n",
      "Anger 1.18\n",
      "Discussion/mention of blog or blog post 2.4\n",
      "evaluating (0, 4)\n"
     ]
    },
    {
     "name": "stderr",
     "output_type": "stream",
     "text": [
      "100%|██████████| 50/50 [00:53<00:00,  1.06s/it]\n"
     ]
    },
    {
     "name": "stdout",
     "output_type": "stream",
     "text": [
      "[\"I think everyone's been here.  Or you've heard of it before and maybe did it once\", 'I think I am still recovering from a trip and a very exhausting 10+ day marathon to Las Vegas', \"I think most of it is the actual design that you're building - or the things you're writing\", 'I think I’ve found all the words I’ve ever written in this blog – except:\\n\\n“', 'I think a lot of my readers will remember that I did a post about why you should get a domain name', 'I think we’re all aware of the dangers of using the wrong or expired skincare products. But did you', \"I think so. If you don't trust yourself, then how can you trust others?\\nDon'\", 'I think the people are getting this so wrong…\\n\\nIt’s basically an advert for one product, where', 'I think one of the saddest things I hear more often than not on the internet is “Why haven’t', \"I think I can say with some evidence that this week's game will likely have the highest viewership ever\", 'I think for a lot of folks my age they remember these as the first of the \"spearhead\"', \"I think I'm gonna buy a new computer so I can finally get back on here. It sounds like\", 'I think one of my first blog posts was about how my boyfriend gave me a ring as a birthday gift.', \"I think I have to say...this is a bit of a hard one.\\n\\nFirstly, I'm\", 'I think the difference between $60 a month from a subscription service and the free webhosting I’ve', 'I think that is just what our country needs right now. A nice, peaceful community and we just need to', 'I think (my opinion) that these blogs should really be more about the person or individual who is speaking instead', 'I think the best part about coming from a country like India, is the fact that there are a hundred other', \"I think that you can get a few of the 'classic' questions and answers you want to use from our\", 'I think I found your answer just now.  Here it is for the OP - the reason behind the title', 'I think I’ve read all of it, and I’ve posted quite extensively on the subject in the', \"I think your question goes further than the 46 comments on this post, though it's not something\", 'I think it was 2 nights. The first night was with our good friend Joe and his wife Amy in', 'I think the reason why the game is not as competitive as it used to be is because a lot of people', \"I think it's interesting, I had not see this and am going to share it on my site.\", 'I think “<em>I don’t blog often enough</em>” is a valid criticism on my part.  ', 'I think this is a great idea! I use blogs for everything – from food and recipes to my business and', \"I think I finally found a workaround. The problem is that the image doesn't show up when viewed by\", 'I think we had this problem in the past. How about installing the new plugin and then go to the blog', 'I think we all love to go through the blogs of other authors and learn about their journey that takes them to', 'I think you’re doing amazing.. it wasn’t too long and easy. I loved my last pregnancy', 'I think the best time to bring kids is during the Christmas season. Kids of all ages and their families are', \"I think it's fair to call this album a masterpiece. It brings out the best in the musicians and\", 'I think there is a few new apps out that look like they are trying to be like Twitter, but they', \"I think we really need to see a lot of the work you've put into this as an example of\", 'I think it would be helpful to describe what, if you are looking to buy, you are looking for to', 'I think we all have been in the same situation whether we like to admit it or not and wondered, what', \"I think I've seen this on different websites, but can anyone help me out with this:\\n\\nhttp\", 'I think there are a lot of places that offer a good quality cup of cappuccino in Paris. But it never', \"I think I'll start off my first post with this as it is probably what I'll post about\", \"I think they look pretty funny though they are not as good as some of the others I've seen,\", 'I think it was a very interesting show about the evolution of a band. It was very informative in that it', 'I think your issue was a symptom of other problems. I found this discussion on the other forum, and you', 'I think the one who took the photo is the new guy on the block :)\\n\\nHello everyone, sorry for', 'I think about the book of Isaiah quite a bit lately. Perhaps, that’s because I have two kids', \"I think the only other 440 owners here, so I don't have photos on the \", 'I think I’m done with the <strong><em>100 Things Before I’m 50', 'I think I’ve just found my new favourite restaurant! Well… at least this weekend. I headed down', 'I think it is an important part of a leader’s role as a business builder to define their vision of', 'I think I might be starting to make my way out of my \"intro\" phase, lol. I know']\n",
      "Anger 1.06\n",
      "Discussion/mention of blog or blog post 2.54\n",
      "evaluating (0, 5)\n"
     ]
    },
    {
     "name": "stderr",
     "output_type": "stream",
     "text": [
      "100%|██████████| 50/50 [00:53<00:00,  1.06s/it]\n"
     ]
    },
    {
     "name": "stdout",
     "output_type": "stream",
     "text": [
      "['I think that one of the things that I am most passionate about is my blog. I truly enjoy sharing about', 'I think its a great post, because Im just starting out, and Im not even 2 yrs old yet', 'I think we’ll get a good sense of what’s next for the show after Season 6 wraps', 'I think we can all agree that there is a lot of information out there about our industry. Sometimes it can', 'I think we all could use this right now, right?\\n\\nWhile a lot of parents/guardians and', \"I think this week we're headed in the direction of a much better blog than we've had,\", 'I think you’re dead, so…\\n\\n<em>The 5 of Cups in reverse is about having regrets', 'I think it’s best to go in chronological order - as many people do. I read this from start', 'I think the article says that it’s going up to 38, rather than just 20', 'I think it depends on how your blog is set up and the design of.  I also use a template', 'I think a lot of people (mostly men) complain about the lack of a 4K TV or streaming', 'I think I’ve posted here before about our <strong>Home & Travel</strong> category — “things about living', 'I think I’m in here too often as I love blogging.  I’ve already decided to start', \"I think it's amazing the kind of world that you've created. I love everything about it.\", 'I think you are going to be hard pressed to find a more detailed post in regards to 405', 'I think it would be awesome to see a feature where you are able to have your friends list sorted. So', \"I think you are right. I've not heard of this, but that's interesting.\\n\\nThere\", 'I think people are overreacting that much has changed.\\n\\nIt is not like it used to be.', \"I think everyone has had the 'what ifs' where life would have been quite different. I don't\", 'I think you meant to call them \"Jannat\" but wrote Jannat?\\n\\n\\n<blockquote>Blog post', \"I think one of my favourite things at the moment is my posts on my blog. I've mentioned several\", \"I think it's kind of obvious but I thought I'd write about it anyway. I'll\", 'I think that in general, and particularly on the subject of technology in education, the most interesting aspect is the', \"I think the idea you are trying to convey - or at least imply with the <em>'<strong>... and\", \"I think that's interesting because he didn't say that he did it because 5th grade.\", 'I think I’ve just discovered a new trend in my own blog! As I’ve been researching and', 'I think the best way to summarize my experience at DGS is that it has to be more creative on every', 'I think that everyone should get a blog, or whatever kind of page online they are used to.  I', 'I think about this stuff all the time, even when I’m not thinking (which is pretty infrequently —', 'I think that is the best blog I have ever read! Thanks for the blog and post. Keep them coming', 'I think of the 300, in some odd, creative way as the 1970', 'I think I may have found another great example of how to write and use a blog.\\n\\n“The blog', 'I think I need to get over the fact that the other person was on twitter. I was really looking forward', 'I think it is a great deal for these guys.\\n\\nI have no idea what it is like being a', 'I think you can do the same without any add-ons now.  If you have the free version,', 'I think a lot of you have talked about this (I’ve even commented on them in the past and', 'I think I’m going to write a post that addresses the most popular thing on my blog, which is', 'I think the topic <em>“The Rise of the Creative Professional”</em> was actually not meant to end with', 'I think it was a post on a forum here awhile back and it was a post where it showed how to', 'I think he’s doing a lot better now though I must say. Not as bad as some of my', 'I think it’s funny how many times my friends have tagged me and commented to get their stories started.', 'I think that after more than 60 years of experience and all the projects and publications that have been part', \"I think that for a couple of posts today, I'll post about various things I can't seem\", 'I think the above title is a little harsh, but the situation with the family at the end of my last', \"I think you're using Word for free, so you pay attention to all the comments and use blogs from\", \"I think it's very important\\n\\nTo teach our children about racism and the power they have, about how\", 'I think I found the first case of “blog shaming”…\\n\\n\\nOn January 2nd, 2', 'I think we’ve finally nailed our new-found hobby called: “I know what I like… I', 'I think the problem is on your end and not within your post.  You wrote “<em>I was logged', \"I think I've been doing a good job for a while since my last post but it's been\"]\n",
      "Anger 1.22\n",
      "Discussion/mention of blog or blog post 3.56\n",
      "evaluating (0, 6)\n"
     ]
    },
    {
     "name": "stderr",
     "output_type": "stream",
     "text": [
      "100%|██████████| 50/50 [00:53<00:00,  1.06s/it]\n"
     ]
    },
    {
     "name": "stdout",
     "output_type": "stream",
     "text": [
      "[\"I think it's nice if you take that blog's too, you know what? If some guys\", 'I think this site was down or some other site where but this is the blog on one of our old blogs', 'I think this post is good for anyone who is thinking about being a parent at his own blog for a long', 'I think this is a place that most writers don’t read. But I write here. I was blogging', 'I think 100 is a great blog site where you can create your posts, share, and read', 'I think this looks more like an \"I\\'m going to write a blog in my journal\" than anything', 'I think that would fit in some category of the \"do you wish to write a blog?\" kind.\\n\\n', \"I think I've lost my sense of reality. Or should I say, I haven't been able\", 'I think I’ve been saying this a lot lately… I hope that I won’t forget the blog', 'I think for someone, to learn, especially as a college student, is a daunting task. I’m', 'I think you’ll agree that the blog is a good way to keep everyone informed about what we’re', 'I think I’m the last of the old school bloggers that still writes regularly. Here’s my first', 'I think that its the best app to learn new things. I think everyone can use it for sure\\n\\nReally', 'I think my blog has been pretty much inactive for quite a time, however, I didn’t quite realized', 'I think of myself as a pretty objective writer. I spend a lot of time analyzing and reviewing other writing stuff', 'I think you’re missing something, you must have something you’re not blogging about and you don’', 'I think you could argue that this piece is a “best of” as it’s based on a ', 'I think there is actually a forum post about an issue with the way the forum system works on the main site', 'I think this is one of the best posts written to date on this blog.\\n\\nThanks for sharing. Keep', \"I think I've been so distracted by the baby already that I've stopped thinking about our wedding (\", \"I think he looks good. Like, the dude.\\n\\nIt's nice to see, I think that\", 'I think i will never forget when i was first published in a blog and a bunch of bloggers said about this', 'I think the reason is that they are not aware of the content, they want to comment on each other and', 'I think that this is a good entry to start about all the things to do! The main is about the', 'I think the best part of being a mom is being with your kid. I never thought I’d be', 'I think this is a great idea, and that is from your original post.\\nI have a few readers', 'I think you will find your experience is similar to mine. We have been on the road for three years,', 'I think i should try. I like you a lot. I read a lot post here to. Blog you', 'I think that the first thing you should do is call your doctor and see if there is anything to blog about', 'I think this is a good article\\n\\n<strong><em>“I blogged recently: “5 tips for bloggers on', 'I think I\\'ve stumbled across a small issue with regards to \"how to get the title on to your', \"I think the title is self explanatory, or I should say, I'm really bad at blogging – sorry\", 'I think I’d be at the “hey buddy” table a lot, and, by default, you', 'I think this is on the right track! I like the idea about what the day looks like for you (', 'I think I may have gotten tired of writing already.  I can’t put my finger on what I', 'I think it’s safe to say that with this current climate, that we’re spending more time at', \"I think as long as you're an adult, that doesn't really matter, if you can justify\", 'I think a lot more people are interested in cooking or in the food and/or writing about it to support', 'I think we can all agree there was an abundance of 2015 reviews in the midst of the', 'I think its time to talk about my favorite hobby - <strong>traveling</strong>. My first travel blog I started', 'I think I’m getting on a bit now; and it says on Wikipedia that a person over 6', 'I think there may be a couple of other people who are interested in this as well, so if you want', \"I think the answer really depends on your personal preferences. Personally, I'd rather keep the old posts around\", 'I think your answer is really interesting! I love your writing! The way you articulate your ideas about food,', 'I think that if I could give it 100, I would give it 100.', 'I think you only need to check the blog for the actual post. This is my place, where I post', \"I think I'll take the day off tomorrow. Not sure if it's for my post or not\", 'I think I have a solution with this question:\\n\\nhttp://www.math.toronto.edu/math', 'I think it’s fairly well known by now that I like to read about things that I like – and', 'I think there is a problem with the server and blogspot at present. The post below doesn’t appear']\n",
      "Anger 1.02\n",
      "Discussion/mention of blog or blog post 4.2\n",
      "evaluating (0, 7)\n"
     ]
    },
    {
     "name": "stderr",
     "output_type": "stream",
     "text": [
      "100%|██████████| 50/50 [00:53<00:00,  1.06s/it]\n"
     ]
    },
    {
     "name": "stdout",
     "output_type": "stream",
     "text": [
      "['I think I’ve been doing this for just a few years now, and, to my surprise, I', 'I think it’s safe to say that most people are quite interested in the future. So, what’', 'I think this is the case as of April 29, 2012 :\\n\\n[blog', 'I think I’m only half-blogging. In fact, I’m not sure I’s', 'I think this is a comment about what I should have posted.\\n\\nIn the 3D world, a', 'I think I need to reblog for the 99s. I am thinking a lot about myself lately', 'I think the title on your post is a little misleading. We are a little more than 200', 'I think this is a great way to bring you with us as you progress with your project. As we go', 'I think I read this somewhere, and it didn\\'t have \"blog\" in the title, so you', 'I think I’ve seen somewhere that the <em>‘How to blog’</em> is about to end.', 'I think you don’t need any more about what I want to write today!\\n\\nThis post contains some', 'I think this could be a good site.\\nThe blog and this site, will be mainly for the posts', 'I think every so-called, or whatever, will now be written from with in the blog on your side', 'I think the problem might be with this: <http://www.blog.olp.com/1', \"I think someone posted on somewhere else about this in their 'About Posts' (a really new feature if you\", 'I think it is a good idea to post my blog posts here regularly. I hope you will enjoy my posts', 'I think of my life as a <strong>personal blog</strong>. I am living it each and every day.', 'I think to be successful in social network you want to blog, as much as possible, and when its the', 'I think (and I hope this will happen) - in the next 6 months we will have a discussion', 'I think what I am trying to get at the moment is that while the new generation is out there and doing', 'I think I see a new here trend coming in...\\nWhere you can post about what happened and post\\n', 'I think I can see why you blog this blog, is about, how are you doing, etc… But', 'I think my recent post for the day on the Blog just said that.\\n\\nAnd I’ll add more', 'I think this is a blog that is a blog written with a group of female writers. The name of the', 'I think this is one in the series of interesting articles.\\n\\nI write blog posts about the world of blog', 'I think it’s a good tool on the site. Great stuff. Thanks.\\n\\nHere’s the', \"I think about these a lot. I'm thinking I's just because they were all I could get\", 'I think you\\'re describing a situation of \"I\\'m running\" (no, not a blog).', 'I think I’ve mentioned it here before but I have some thoughts about the <em>real world</em>,', 'I think you’re not going to be able to use that much for your own if for two reasons …', 'I think I’ve mentioned the fact that I haven’t been writing in lately due to the fact that', 'I think this is not only a comment but a site.\\nI blogged about this before;\\nhttp', \"I think this has been out for over a year already :) I's so funny and I enjoy it when\", 'I think there are 2 types of this: One is a “mom” where, I use a lot', 'I think I’ve been guilty of this…or at least thought about starting a new blog, or even', 'I think I first got into photography seriously (if you wanted to back then…don’t remember where to', \"I think when they say that they're only trying to be about food, they mean it as the blog\", 'I think it’s pretty simple – don’t take too much or on too often, but you can', 'I think it’s finally time to take a step back. Here! There! Twitter! Oh, wait', 'I think when I was thinking about this last week, I wrote: <em>Today is the day.</em>', 'I think it\\'s safe to say that a person\\'s \"style\" has been more than a blog', 'I think we are the first company on the web site dedicated to blogging about the issues surrounding in our personal or', 'I think <strong>The Bloggess</strong> and <strong>Sarah Silverman</strong> are about to go head-to-', 'I think about this topic every minute and I think that it is very important to have a journal to discuss things', 'I think, not a blog, more than a platform. I’s my place to share my thoughts,', 'I think this is a very insightful post to read. For my own personal and blog readers, it helps me', 'I think I have a blog and its time to post it since it has been a long time since I have', 'I think this is your first post and I like it. I wrote my own a while back.\\n\\nI', 'I think you mentioned that you are going to your blog. About my blog too. http://blog.my', 'I think it is the same in Germany and it is also there. So, there is now another way to']\n",
      "Anger 1.08\n",
      "Discussion/mention of blog or blog post 4.54\n",
      "evaluating (0, 8)\n"
     ]
    },
    {
     "name": "stderr",
     "output_type": "stream",
     "text": [
      "100%|██████████| 50/50 [00:53<00:00,  1.06s/it]\n"
     ]
    },
    {
     "name": "stdout",
     "output_type": "stream",
     "text": [
      "['I think that I have been posting here from January 2006. For those who wanted to read', 'I think we have seen it, that the blogger is, not so much about about life stuff, but about', 'I think some of my older posts have been a little dormant for the past year. I have come to a', 'I think <em><strong>how about some of the</strong></em> is better\\n\\nhttp://www.the-post', 'I think that I’m going to call this one “<strong>A Bloga-rama”</strong>, just', 'I think they should bring back the \"blog\" post they did many years ago but I think the title here', 'I think if it would be helpful or just write as I write here. In this kind of blogs it usually', 'I think this link is pretty interesting, but I haven that this link blog. It’s on about the', 'I think I may be in a new mood lately. Today I got an email from a reader and asked me', \"I think, that's just for me.\\nThe things I put here, are my personal thoughts,\", 'I think I’ve already written about how much I loved the movie, The Blog of Entry – My Blog', 'I think this is your,\\n\\nIt is 2008’s ‘It’ that is written', \"I think my husband and I will start our journey here...\\n\\nOur name is ABlogged & it'\", 'I think there’s a problem for us. I don’s want to talk about my old blog for', 'I think this is the only post where my name is featured as a link to.\\n\\nMy life.\\n\\n', 'I think my last was a lot better than your posts, lol, as I just have a lot on my', 'I think it’s fair to say that I was a bit over-excited when the ‘<em>I’', 'I think my dad had the best food blog (his name is “thefoodgeek”). He’s been', 'I think the first line is the blog about by a few friends. blog is about of about by blogger or', 'I think you might think of a few different ideas, but I didn’s because I was interested in what', 'I think there is an option for that. Just blog about it. That way readers of the other will be', \"I think that you should do that. it's a good blog about about about a many blogs about and\", 'I think of a a personal blog, or web site, but for writing this post. (I had to', 'I think that you should give that guy a little more than you! Here’ll is for is a very', 'I think I said earlier that I’ve been reading a book by Matt’g about about a guy that', 'I think the problem (above) here (by http://www.rebloggy.com/post/', 'I think it’s the 350.\\nI’d like to see more of it,', 'I think we’ve all been guilty of this once in our lives. “What do you think about our', 'I think that the new post you have posted has been taken over by someone, or one, by a user', 'I think this would be great too. I have a couple that with the other blogs and social media in mind', 'I think there are many sites that about and you have write this so thank you for. Really helpful.\\n\\n', 'I think a lot of people have been waiting for this moment because since I started this I I had. They', 'I think a lot of the people on the net would have to be from a blog for it to be ‘', \"I think, it's too much, we just published the page and the new articles are also published.\", 'I think about the future all of the time…..but I write about about life more often….that’s', 'I think it’s pretty interesting that what started as simply and <strong>just a platform</strong> is now an', 'I think most of my readers will wonder if they should purchase this book.\\n\\nI will be giving you about', 'I think that it is going to be so hard to keep a blog that I have put on for the last', 'I think we’re going to look at some of the other bloggers today because I’s been a while', 'I think it will be here by early next week. But for the moment, it can be here. 🙂', 'I think this post is just the beginning of how I can learn new tips or share my posts! My is', 'I think that we’ve reached the “end of the line”.\\n\\nWhen I first started way back in', 'I think it’s a shame that when someone posts (or comment below) like <em><strong>“My', 'I think that my entry in for today will be about a book or website post entitled ‘<strong><em>Anxious', 'I think I was going with <i>about</i>, as it really started off on a blog.\\n\\nThis', \"I think (I can's) about.\\n\\n* http://www.k.to.org/\", 'I think its really hard to be honest, because your in it yourself, it’s not your post is', 'I think we will finally be ready when it starts.\\n\\n(I’s a short, not a blog', 'I think the new will page and blog thing is doing a better job on its own… now with pictures…', 'I think the first question will be: \"What happened to my site\" , but I don\\'s it']\n",
      "Anger 1.08\n",
      "Discussion/mention of blog or blog post 4.42\n",
      "evaluating (1, 0)\n"
     ]
    },
    {
     "name": "stderr",
     "output_type": "stream",
     "text": [
      "100%|██████████| 50/50 [00:53<00:00,  1.06s/it]\n"
     ]
    },
    {
     "name": "stdout",
     "output_type": "stream",
     "text": [
      "['I think a lot of people have the tendency to give in to temptation when they’re angry, whether intentionally', 'I think you have to download again that app, from the play store, and go through the whole process you', 'I think I was about a week past due when I started to get a lot of back pain in my lower', \"I think you're absolutely missing the point here. Your definition of an 'unholy' death is basically\", \"I think the 'no' in 50% or even 5% of cases in general (not\", 'I think it is the amount of oxygen around the body, not the air.\\nHi, 1,', 'I think it is interesting to see how others view the world. Each person has their own view, and for', 'I think that these days everyone is more cautious and would prefer to travel with a backpack rather than a suitcase.', \"I think a lot of people assume with a movie like The Princess Swap that you're going to get a\", 'I think that this is a good plan and a lot of work went in to it and I’m sure', 'I think the 90 minute waiting period is completely unnecessary.\\n\\nI see a lot of people on the', 'I think I finally got it figured out about my blog and the layout. It took me forever to get organized', \"I think it's awesome how all these different people make stuff, yet still manages to work with their schedule\", 'I think your point needs to be clarified a bit more before anyone answers. What exactly are you trying to achieve', 'I think that people can get confused on what to do when they do get the information, or they have a', 'I think I’ll start with something in the middle. Or maybe better put it this way, like I', \"I think as it is right now, you can't just import one table, you must bring it all\", 'I think a lot if people go out to the movies after a bad start at the Oscars, especially when they', \"I think it's a problem with the <code>__proto__</code> being changed. Can you repro it\", \"I think it's a great idea to have a way to connect to your other clients computers. Or at\", 'I think I may be falling in love. With a good cup of coffee.\\n\\nI’ve been sipping', 'I think we would all like to know how one of the most prominent leaders of our time, President Barack Obama', 'I think the world we are living in is just so much different compared to what you expected or when you were', \"I think a lot of people will recognize the voice of Chris Pine, better known as the MCU's Captain\", 'I think this is the most useless mod you will ever use....it is useless! The only purpose i see', 'I think the most recent thing they’ve done to the hotel was to buy a lot of their own rooms', 'I think that was my second ever encounter with someone with a computer, back when the internet was just starting and', 'I think you should do a blog post about it, its a fun video\\n\\nWhy did the baby fall to', \"I think this is really cute. I'm glad I read all the reviews before buying this dress, however\", 'I think these are one of the best 0-200cc mopeds and are a good alternative', 'I think a lot of people would tell you this. I did when I was a teenager. I was a', 'I think its just the size of them.\\nYes they should be the same or at least close to similar', 'I think the most important part of my life right now is my relationship with my Lord, my purpose. I', 'I think the answer is\\n\\n-2\\n\\nBecause to get -2 from 8 you have to multiply the', 'I think the most important thing to do when selecting or designing a router for running in a server room is to', 'I think what you might be noticing is the fact that he has a lot of space to work with in the', \"I think I'd be most impressed if I could do what you've managed without writing any code,\", 'I think you are saying, \"Can you post a map of this route\"\\n\\nNo, I would use', \"I think I'll go with the one on the left, unless you think the second one might be a\", 'I think i need a new head unit but not sure what the options are.. I have a 20', 'I think I will give this a go, my wife’s a bit fed up with going to the shop', \"I think the reason why people don't understand this is because most people think that God is the all seeing\", 'I think it is fair to say that in recent years an obsession with how many times we can say the word', 'I think I finally understood what this means. If your browser displays the \"Download Progress\" bar on the web', 'I think you can tell that I’ve been a bad blogger lately.  I’ve been so busy', 'I think its good, but <strong>very</strong> <strong>annoying</strong>. I would love that the game', 'I think that the first two movies would suffice to be a good adaptation. Although the first one was terrible because', \"I think the term <code>#define</code> might be confusing you? you don't actually need to specify\", 'I think the first step is setting out something like what is in the book. I just have this problem with', 'I think we are all tired of the pandemic and looking for any excuse to get outside with family and friends,']\n",
      "Anger 1.28\n",
      "Discussion/mention of blog or blog post 1.5\n",
      "evaluating (1, 1)\n"
     ]
    },
    {
     "name": "stderr",
     "output_type": "stream",
     "text": [
      "100%|██████████| 50/50 [00:53<00:00,  1.07s/it]\n"
     ]
    },
    {
     "name": "stdout",
     "output_type": "stream",
     "text": [
      "['I think that the correct answer would be option B) The number of electrons in the outermost shell of an atom', 'I think he said he had been with them all the days and that they are on the side of the US', \"I think it's 6 years old, and he's just a regular guy. He used to\", 'I think you’ll find that the answer is a lot simpler than that: If the child is in a', 'I think I am going to try to paint it black or really dark blue or black and try to keep it', 'I think your wife should let me know when she has a cold, because I often feel sick around her when', 'I think some kind of error occurred with the email server.  I tried to send from Outlook to my own', \"I think about many things in life\\nI'm just a little boy, so forgive me for being selfish\", 'I think he just wanted to annoy the hell out of her with her new blog.\\n\\n<strong>Update</strong>:', 'I think I found the cause of my crashing in one particular situation.  When a character turns into a ghost', 'I think (as others have written) this is a bug with the latest version of Android Studio. If you', 'I think that for a 12 inch 78 rpm record you can get a good stereo effect by', 'I think this is a \"bad batch\" of gel/oil. It takes about 4 or 5', 'I think many are still holding onto the 9 volt phone adaptor because they were the standard in the 8', 'I think the main reason I was angry after learning that the government planned to kill and burn the “useless”', 'I think this video is excellent! <strong>We need more examples like this to come out of the woodwork as', 'I think it helps that people don’t know how the thing works exactly yet. There was literally just a', 'I think that some of the things that people are unhappy about is, that they think that they are not being', \"I think it's time to try out the new C65 model from C-Fans.\\nI\", \"I think at some point I lost my mind. I know for a fact I wasn't myself. My\", 'I think the best approach is to use <code>with_delay</code>:\\n\\n<code>while False in my_', 'I think this was more interesting to start and interesting later on. Its not about the actual process but more about', 'I think one of the reasons that the film feels like a movie, is because the characters look/sound like', \"I think the issue is probably that you're using different versions of some of the packages.\\n\\nSo,\", 'I think anyone who thinks this is a knock off or cheap has NO IDEA what an authentic set feels like.', 'I think most people just want to see all of our <strong>best</strong> dogs, not just the one they', 'I think I might be in the right place for help. I really don’t know where to go else', 'I think I read in the papers last year that they changed the way it was done and made it easier.', 'I think the more important thing now is not who I am, but who you are\\n\\nI’ve said', 'I think the idea with the <strong>New York Knicks</strong> would be to create some excitement in the preseason to', 'I think the best way to teach students how to read is to make them read what they write. I give', 'I think it’s fair to say that nobody expected Tom Brady to be playing into his 40s', 'I think you can do the same thing easily using a regular expression replacement. Something like\\n\\n$ /pattern/', 'I think most of the reasons people get into teaching can differ somewhat and may not necessarily translate into teacher performance.', 'I think this has to do with how you’re handling the on-change event. I think for your', 'I think they are all awesome. If your a boy, you should get a \"Man Up\" shirt.', 'I think the “G” should be in a circle, not a square.\\n\\nThank you for giving me', 'I think anyone who has ever seen the movie, <em><strong>“The Dark Crystal”</strong></em> <em>', 'I think the answer is that the original 10% may be lower than 6% which is where', 'I think I said it before I saw this, but this would be my idea of a Dream Team 5', 'I think all of us would agree that there is nothing more frustrating than not being able to keep up with the', 'I think so if it’s your house.\\n\\nIt’s definitely not you. It doesn’t', 'I think this will definitely be my next car, how hard are they to work on (I am a diy', \"I think it's about time for a post update.\\nI finished my last project a while ago,\", 'I think anyone who has ever been in law enforcement understands the challenges of making a life-changing decision.\\n\\n', 'I think we would’ve loved <strong><em>The Flash</em></strong> without <strong>Grant Gustin</strong>,', 'I think that the biggest problem of <em>Gantz</em> is the pacing. I mean, while reading it', \"I think we can all agree that the most important part of Halloween is the candy. Don't you?\", \"I think it's pretty simple to answer this question.\\n\\nI'm sure you've noticed that\", \"I think I know why it is, but I don't think you'll like the answer.\\n\\n\"]\n",
      "Anger 1.42\n",
      "Discussion/mention of blog or blog post 1.28\n",
      "evaluating (1, 2)\n"
     ]
    },
    {
     "name": "stderr",
     "output_type": "stream",
     "text": [
      "100%|██████████| 50/50 [00:53<00:00,  1.06s/it]\n"
     ]
    },
    {
     "name": "stdout",
     "output_type": "stream",
     "text": [
      "['I think we already have enough talk about how we got here on a personal level. I feel like we can', \"I think it makes me too happy, actually. It's a funny book. If you want serious answers\", 'I think a little bit different than the other ones about the subject but I hope that help you.\\nI', 'I think there are two big reasons why, with most people these days having their own blog:\\n\\n1.', 'I think that most of us have some level of anxiety in our lives, whether we realize it or not.', 'I think someone is going to miss out here, but the one thing that I would want to have on a', 'I think your answer might be here:\\n\\n\\nI think there are differences between men in the sense that you can', 'I think your problem lies somewhere within your database. It sounds like something is wrong at that end.\\n\\nI', \"I think a lot about my relationship with music, because it's a passion that I never really developed while\", 'I think we’ll be doing a podcast soon! It is a little late, but we would like to', \"I think I'll just have to bite my lip and smile about why I don't have a website\", \"I think it shows what you are using, so i can't help you there. But the default editor\", 'I think it’s safe to assume that most of us (myself included) were pretty nervous when we saw', \"I think that is so lovely and what a great way to teach that story. So nice!\\n\\nI'\", 'I think these are the most important things people in their mid life should know… but I didn’t write', 'I think this is a pretty cool idea. The main premise of this concept is that the players are given little', 'I think we all agree that the past year has included a lot of “blah”.  I’m sure', 'I think that we should have a new category called \"The Return of the Old Stuff\", and then whenever anyone', 'I think this could be a good feature! 👍\\n\\nIt would be great to also apply to a specific type', \"I think they're the same thing, but i have used their services many times now, and it seems\", 'I think this topic deserves another post than just a quick post in a reply.\\n\\nMany times I see people', 'I think it’s time I go through an array of “why I love.” I find myself complaining about', 'I think I may have cracked something. I feel the same, its 1/2 of the day in', 'I think its safe to say I’m an avid reader of reviews…\\n\\n* Do you use reviews to', 'I think this is more general then just git integration with JIRA so I am posting it here.\\n\\nI', \"I think its quite annoying when my wife can't see me.\\n\\nShe isn't being annoying,\", 'I think this happened when I was on my phone earlier, when I was watching youtube - 16:', 'I think this is how I’d be feeling if I was going through the same thing. I had a', \"I think I have the same model, except mine is white instead of black. Mine hasn't leaked since\", \"I think it's safe to say that after this year the world is a much, <em>much</em>\", 'I think they\\'re called \"Pizzelle\" and are more sponge-cakey and cakey than', \"I think it is because I am running out. I don't even really know what that means anymore.\", 'I think it would be pretty easy to get a new character, but not too easy to get the first one', 'I think the only reason people ask about this is because the new models are supposed to have a lot of changes', 'I think I’d rather watch <em>The X-Files</em> episodes back-to-back than see', 'I think this is a <strong>bad smell</strong> problem and not a technical problem. I have the same problem', 'I think everyone can relate to this. Especially when the holidays are over and you are having to clean it up', 'I think they went out of business. I used to buy their books on CD all the time! That was', 'I think that this is an interesting post as it is based on an article that I found and want to share', 'I think I am the only one who thinks that the game \"G.I. Joe: The Rise of', 'I think this would be better as an issue for the project or plugin itself.\\n\\n<blockquote>If your plugin does', 'I think at this point in the game I’ve been to a little more than half the world. If', 'I think some games these days have it set as standard practice to include new players in the form of a brief', 'I think it’s safe to say I have been extremely busy lately. Between all the homeschooling, trying', 'I think the answer to this question is a clear sign about whether the world is going to improve or worsen,', 'I think a lot of this came from living in New Orleans for five years. Before that, I’d', 'I think the only way how to solve the problem is update to the latest version of Firefox but I will check', 'I think a lot of people with anxiety have this problem. I have seen other people post about similar issues.', 'I think that the fact that \"it would have gone a little bit far\" is a very, very strong', 'I think that there are 2 distinct areas.\\n\\nFirst are the <strong>core</strong> activities, like code']\n",
      "Anger 1.12\n",
      "Discussion/mention of blog or blog post 1.46\n",
      "evaluating (1, 3)\n"
     ]
    },
    {
     "name": "stderr",
     "output_type": "stream",
     "text": [
      "100%|██████████| 50/50 [00:53<00:00,  1.06s/it]\n"
     ]
    },
    {
     "name": "stdout",
     "output_type": "stream",
     "text": [
      "[\"I think for that car, with a supercharger, a bigger aftermarket intercooler and a tune, it's\", \"I think that I don't have to tell you today that I love using Instagram! I check it at\", 'I think it’s funny that a man got mad at me for posting a joke about Trump using black people', 'I think it was a little bit of both. I know that at the time I was really sad that he', 'I think I have a new favourite drink. I have had this coffee since it’s creation by a guy', 'I think I\\'ve been getting a lot of readers lately asking why this site has the name \"Doub', \"I think that your question should have started out a little differently and I'm not going to argue with you\", 'I think there was a time we went to the movies, for that alone they deserve a little sympathy.\\n', 'I think I posted this already, but here it is. A new article in the NYT this week. You', 'I think we need to be more careful about what we label ourselves as. It is quite unfair and unfair that', \"I think the idea of a 421 came about after being told that I shouldn't be doing\", 'I think this is what you are looking for.\\n\\nhttp://www.codeproject.com/Articles/', 'I think that this is a great series for kids: there are good and nice characters. I like how it', 'I think that we should start seeing more people, bloggers, and writers in the LGBT community. As a member', 'I think the only one I miss is the blue one on my desk.\\nAnd it still sits on my', 'I think that the word that describes this is \"cosy\".\\nHi, it is not about cold weather', 'I think there are a couple of reasons to make a switch from the 11th gen Intel processor to', 'I think you should write a blog post about it for beginners so that the kids can know about it in better', 'I think that this is why so many of our favorite celebs feel more inclined to share their makeup secrets, as', 'I think that the one person who never reads or responds to his/her own comments is usually the most clueless', 'I think that this is a very, very dangerous way to deal with customer support.\\n\\nMy friend is in', 'I think an effective way to go about all this would be to write a simple shell script that just loops back', 'I think a lot of us have a few of these things in our lives - or just in our imagination.', \"I think we will all agree that last year's <b>Skarphedin</b> was pretty epic,\", 'I think if you click the <code>...</code> button next to the button you may be able to open up', 'I think we might have started to mention \"the state that you live in\", as some commentators have been using', 'I think there might be two of them out there...\\n\\nJust check <strong>this and that!</strong>\\n\\n', 'I think I’m not the only one who likes to try new foods and I was really excited to attend', 'I think you’ll find a wide range of opinions on this topic! The below list provides some of the', 'I think it is good to think about yourself. It is important to know who you are and what you think', 'I think I’m on a roll with these DIY projects. This post starts with a photo of a room', 'I think there is room in the market for a low priced 5\" 4x4, with not', 'I think it’ll be the best. The way it’s setup now is that I’ll have', 'I think is a very good topic for discussion!\\n\\nI know that, in the book, Dumbledore says that', 'I think when doing a full reset (remove & insert SD card & boot into recovery) if the user has', \"I think it's a good thing, the more people the more work you get done, the more you\", 'I think the \"B\" version is more attractive, but I own both.\\nThey are very similar,', \"I think this is a great way to start our first post to the new season. I've been away\", 'I think my favorite part of this album is “I like to be free and all that” and the chorus', 'I think this book is very good because the kids actually do find a dead body. Also, they are trying', \"I think you're confused. We can give the following answers in comments -\\n\\n1. I've\", 'I think a lot about the moment just prior to the start of a long-distance race. The last time', 'I think I’ve posted in here about being a little stressed out about the fact that I’ve been', 'I think I have a good explanation for your loss (I mean, I don\\'t think you \"des', \"I think it depends. I'd rather pay and have the game for longer than have to put up with\", \"I think it's because it's a pretty good description of the movie.\\n\\nI watched the movies\", 'I think we all got it together and decided to start using the term “socialization”, but you should know', \"I think the biggest problem is that we get to see the characters at their best and then they aren't\", \"I think I'm on a thing right now where we're talking about what is good and what is\", 'I think we can all agree that not all people are crazy, and that all jokes should be taken with a']\n",
      "Anger 1.38\n",
      "Discussion/mention of blog or blog post 1.76\n",
      "evaluating (1, 4)\n"
     ]
    },
    {
     "name": "stderr",
     "output_type": "stream",
     "text": [
      "100%|██████████| 50/50 [00:53<00:00,  1.06s/it]\n"
     ]
    },
    {
     "name": "stdout",
     "output_type": "stream",
     "text": [
      "['I think it’s just as well that my name is <i>A Little Bird (In My Head)', \"I think someone's got a new blog. http://blog.clymbl.com\\n\\nI\", 'I think the first reaction to anyone who has a child of their own (but especially a teen), is to', \"I think you're better at maths now than when you started on here. Good blogging (which is why\", \"I think you can't just delete/update your data. If you have other content in your blog with\", 'I think many people were shocked when the first ever LEGO Minecraft video game came out, and they did not know', 'I think it should be clear by now that I <em>adore <strong>Lark</strong></em>.  And', \"I think I'm on to something here, and what I mean by this is that all I want in\", 'I think it’s important we all think back on where we were when we first encountered the <em>Twilight', 'I think I’m going to be on a short streak of posts until February.\\n\\nI had this post', \"I think I could really help people out with these. There's a ton of blogs out there with lots\", 'I think this guy needs to be deleted, that guy should be locked up for a while.\\n\\ni really', 'I think it should be clear from the title of this post that we’re not really in a position to', 'I think you can see why for anyone.\\n\\nFirst, no one has really thought that much about the implications', 'I think this is an issue with my computer. My computer would be having difficulties rendering this post, so I', 'I think the biggest challenge and one of the reasons I haven’t done much recently about this is because I', \"I think that it hasnt been mentioned already, but I'd like to take the opportunity to talk about\", 'I think that you can look at this video about the new design of the <strong>New-ish-design', 'I think some of the comments are right on! The movie is about a girl who gets stuck in the computer', 'I think we are all aware that the state of the union is not exactly the rosy place at this moment.', 'I think if you are going to be a full time blogger, its a good idea to not just write about', \"I think I've never been to a place where I've said to myself... where have you been\", 'I think so, although don\\'t think it quite translates the English meaning!  \\n\\n\"I can see', 'I think she looks great with makeup and without makeup.\\nHer natural colors is just perfect for me! I', 'I think, I remember somewhere in the blog mentioned about my last post, how about I put in the list', \"I think I see this a lot.\\nI actually don't like it if they mention my blog on\", 'I think my head was buzzing but the night was beautiful and clear so I headed out at an early hour to', \"I think I've written about this stuff before, but I haven't seen it over here. If\", \"I think you might be confusing that with the previous post of mine here on the blog where there was a '\", 'I think that we live here for the kids, for our community, for the future. There are many people', \"I think it was just over a week\\nI don't need this stuff anymore. I'll do\", \"I think my son is having major issues that I can't fix with one blog post.\\n\\nThe boy\", 'I think the 3.2 is still the \"best\" engine available to enthusiasts though it should have more', 'I think about the things I did in the past in terms of how many of the following verbs I used:', \"I think you've nailed it! I wish there was a similar feature called <strong><em>'you aren\", 'I think you have a great post, that has gotten my blog, and is also on the Google news.', 'I think this is my first proper comic post…\\nA few months ago, I was working on a video', \"I think that it's a common belief, but I think it isn't true. All these questions\", \"I think I know already why you ask that - but I'll tell you anyway...\\nWhen you are\", 'I think it\\'s a big mistake of using in this \"how to\" not to say on the top', 'I think this is a bit to long for the app, but the story in the comic is awesome.\\n\\n', 'I think that if the problem is with the blog you should contact wordpress.\\n\\nHere is their blog:\\n\\n', 'I think the best thing with your post is that you mentioned about \"not worth the money\" as a comment', 'I think it’s safe to say, I’ve been pretty negative about Disney Plus, lately!\\n\\n', 'I think you are right and will update the post. A more informed person is probably on it. He and', 'I think that there are some people on the forum who use an Android TV as their primary screen.\\n\\nI', \"I think that the fact that I don't like them makes any sort of relationship really odd to me.\", 'I think I have said this before…but I never really feel like I’m ready for the summer.', \"I think I've seen your avatar - is that a pic?\\nNo, it was a screen recording\", 'I think I’m supposed to be excited for the <em><strong>X-Men: First Class</strong></em>']\n",
      "Anger 1.28\n",
      "Discussion/mention of blog or blog post 3.34\n",
      "evaluating (1, 5)\n"
     ]
    },
    {
     "name": "stderr",
     "output_type": "stream",
     "text": [
      "100%|██████████| 50/50 [00:53<00:00,  1.06s/it]\n"
     ]
    },
    {
     "name": "stdout",
     "output_type": "stream",
     "text": [
      "['I think this is another step of a \"blog post series\" of what I\\'ve learned.\\n\\nI', 'I think that it’s very common these days, to find people complaining about not getting the most out of', 'I think it’s fair to say that a lot of people aren’t happy about the decision to get', 'I think I have something to share, that’s something I’ve been meaning to talk about and think', 'I think in all honesty I should write about my experiences with the new ‘Blog’.\\n\\nYes, I’', 'I think it may be possible. Maybe not with an Rstudio page but with a website page, but I', 'I think that is the way it will go, if they just go through with it. You can’t', 'I think it’s one of three posts I’ve written lately where I’m on my soapbox', 'I think a lot today about how, as writers, we have so little contact with each other these days.', 'I think I’m finally about to make the leap and start blogging.\\n\\nI will talk about photography a', 'I think I’ve given this one away about 20 times already. And not only have I given', 'I think that when I first started looking for a new sewing machine, I wrote in one of my blogs that', \"I think that it's a great blog because it gives very interesting articles and news about about many topics as\", 'I think I have reached at the end of my road with this project. I have been following along the process', 'I think it is a good idea to post every week about something, even if is only a comment, because', \"I think that we are all on a journey. We're taking the steps day by day, post by\", 'I think 3D printing is a great way for young designers to make their creativity come to life. However', 'I think it\\'s about the fact that \"he\" and \"she\" (or any other noun),', 'I think that I may feel a little bit of pain right now…a weird feeling that I don’t', 'I think that the post on facebook about the latest news blog was one of the reasons - I was writing on', 'I think that if we have it somewhere, that it will appear somewhere for this one.\\n\\n<strong>On my', 'I think this is a very good decision since I think that it takes the best of everyone on the blog.', 'I think I can say this with honesty, there is a lot of pressure when you try and find your style', \"I think if you did that much work in a week you'd run out of posts to update!\\n\\n\", 'I think you should probably go to a GP about the constant bleeding first. And your GP will do a proper', 'I think it\\'s interesting that there is a \"Newt\" theme now, because it reminds me of', 'I think most people are familiar with the term “blogosphere.” Blogs are typically small, informal sites, with', 'I think this thread is pretty interesting and I decided to share my experience as both patients and practitioners.\\n\\nI', 'I think this is a really interesting issue. I would like a simple option for people to sign up with and', 'I think the best way to answer this question is by showing you how I was in in and how it progressed', 'I think I am going to regret this one, but I have a big project to finish (the post that', 'I think we should take a break from <strong><em>The White Stripes</em></strong>, because its been really off', 'I think i’ve had my fair share of blogging my posts, but what I want to do today is', 'I think there is too many “#mondaypints” about here, and at my age, a ', \"I think these are great and I love them. I have found that most people think that I'm so\", \"I think the reason why I haven't written a blog for a few months is that it has been so\", \"I think I'm in the right place here, my mom wrote a letter to about this. My mom\", 'I think we can safely say that 2019 has been a massive change of fortune for the UK', 'I think (hope) that the blog entry should be posted at 07:00 today.\\n\\n', 'I think I’m officially entering “midlife crisis mode.” What I mean is: I’m turning', \"I think you can use the site to find the address. But you'll have to go outside to take\", 'I think about this blog on a couple of days, but I don’t know exactly when the ideas started', 'I think if your family is a blogger then you don’t really need to do reviews of anything. I', \"I think you'd have a much better chat over on the Travel forum (http://www.tripad\", 'I think it was one of those little things like the one about the lady with the little baby, that I', 'I think about her all the time.\\n\\nI’m in a very specific state of sadness because of this', 'I think I wrote this a few weeks ago but forgot to post it for more than one reason. The reason', 'I think it\\'s the other way around.  If you click your title, it says \"The Blog', 'I think I’m just going to have to admit that I need a new blog title. If my life', \"I think they're mostly about their love for 1959 and other things. But yeah I\"]\n",
      "Anger 1.14\n",
      "Discussion/mention of blog or blog post 3.6\n",
      "evaluating (1, 6)\n"
     ]
    },
    {
     "name": "stderr",
     "output_type": "stream",
     "text": [
      "100%|██████████| 50/50 [00:53<00:00,  1.06s/it]\n"
     ]
    },
    {
     "name": "stdout",
     "output_type": "stream",
     "text": [
      "['I think it’s safe to state that I’m not the best at commenting on the state as it', \"I think I am losing on my blog, but that's okay, I'll post something when I\", \"I think it's a scam and that's more than a problem. That blog also talks a lot\", 'I think it\\'s the \"<strong><em>\"<strong><em><strong><em><em><strong><em><em><strong><strong><em>…', \"I think this is the first time I've ever posted a complete game play, and to tell the truth\", \"I think I'm going crazy, and it's been happening off and on, so this entry is\", \"I think the 'no' that is meant below is one of the things I write, the post-it\", 'I think, if I’m really honest here, I’d be more inclined to be a sports blog', 'I think it is very likely that that was a bit of a coincidence. Not a lot to suggest that he', 'I think the title is pretty self explanatory, but in response to the article, we have decided to switch things', 'I think this really hit home to me when I first read it on a web site called <strong><em>“', 'I think I found a bug!\\nMy account\\'s name is \"<strong><em><strong><em><strong>_</strong>', \"I think it's safe to say I've talked about the new house we're moving into for\", 'I think we know where we found the best deal on for sale (www.buythisforless). Yesterday', 'I think one of the things that’s going to be interesting to follow next on the blog is the progress', \"I think 1 and 2 are fairly similar. That's because I's very important for your\", 'I think a lot about what we might not see on the blog. It occurs to me sometimes, that I', \"I think it's a little late. <em>And this</em>... has to wait a little.\\n\\n\", \"I think this is about. As for the blog of the day, I've now been blogging for \", 'I think most of the people on here are new here, or new here to the topic or whatever they have', 'I think most of, if not all, the fans (who write in, or visit the site) have', 'I think the guys above have the most interesting posts about about their own journey in and out of therapy. In', \"I think this is more about an old post on my old blog. I'd forgotten it existed..\\n\\n\", 'I think all the talk I post seems to be one-sided most the time. But I do listen to', 'I think I’ve been writing for a good few years now, and it’s mostly about my adventures', 'I think a blog is a great way to share the blog.\\n\\nThat’s all.\\n\\nI’', 'I think it’s been a while since you wrote one of those posts, I only read old stuff of', 'I think the most important thing you can do for your blog is <b>just post when you feel like it', \"I think I just have to post this now.... My name's <strong><em>I_am_not\", 'I think it’s really funny that there are people who make a living out of blogging. They should really', 'I think that people shouldn’t have to explain themselves. In my blog entries, I don’t say', \"I think it's a problem on the developer side that the site is not being updated.\\n\\nThere is\", 'I think that’s enough of a blog post. Or a rant. I’m having a blog right', 'I think it’s safe to say that the <em>Glee</em> fandom has a lot to talk about.', \"I think I've said this a few times about now, but I haven't seen that much about\", \"I think it's worth looking at the site for it - I also use a lot of other people for\", 'I think of him as a friend and admire his work. There are thousands of comment posts by friends sharing their', 'I think most of the problems of the last few years has nothing do with the blogger but really with the big', 'I think about food all the time but I don’t often write about the stuff.  Food blogging is', 'I think there would be a <em>lot</em> of discussion about this… And I have mixed feelings about it', 'I think it comes down to two factors.\\n\\n* What are the reasons for getting the blog? I don', \"I think this pic would go well in the thread...\\n\\n\\n\\n\\n\\n<strong>What's new! :</strong>\\n\\n<strong>\", 'I think its about the change in the US about what we can do with what we think people write about,', \"I think i'll just have to get it out first... I don't usually get my feelings of\", 'I think we all can agree that <strong>Beyonce </strong>has been on a tear.  From her', 'I think that is what that thing is. Looks like a lot of people over on R.G. are', 'I think I’m pretty excited about the new stuff that’s trickling out today as part of my', 'I think that as an American, it’s time for an update, after almost two years of blogging.', 'I think it would be great if we had a feature post on in for the first time we post on and', 'I think we need to revisit some of the blogspot to this link post of mine about my old WordPress blog']\n",
      "Anger 1.14\n",
      "Discussion/mention of blog or blog post 3.68\n",
      "evaluating (1, 7)\n"
     ]
    },
    {
     "name": "stderr",
     "output_type": "stream",
     "text": [
      "100%|██████████| 50/50 [00:53<00:00,  1.07s/it]\n"
     ]
    },
    {
     "name": "stdout",
     "output_type": "stream",
     "text": [
      "['I think this is one of my favorite posts of all time. Actually, you’re right, it’', 'I think the title says it all — we’ve recently been spending more time together. It’s a', 'I think I have an obsession with the word “blog” and its title. In fact, I have several', 'I think this is the type that you use for things that are for sale..\\n\\nWhat would you do with', \"I think it's fairly obvious that the reason we created our 2nd is to be a place where\", 'I think this is a nice example to show as. I would say a blog entry is a kind of text', 'I think this is a good post from a friend.  She said something that I agree with but  with', 'I think it took me some time to put pen to paper. I have a lot to write and I thought', \"I think it's best that I start a blog here, instead of the last that (i use to\", 'I think we should be able to comment on certain issues and not just write about.\\n\\nWe have a new', 'I think more about about this.\\n\\nThe blog post from this week was from a friend of the blog of', 'I think people call it like how they feel, not everyone is going to agree with you if you’ or', \"I think if is a good and useful article, but... if I didn's see or read some posts\", 'I think this is an excellent blog, and I find that I spend more time on it than I used to', 'I think I have some great content now… and some other sites have been my post for too long. So', 'I think this one was written more as an internal thing but is a great post that you found or written..', 'I think I am on a roll lately because I have posted and commented a lot lately.\\n\\nToday I was', 'I think it’s safe to say most of us here, if we can afford to spend, are just', 'I think it’s safe to say that the world has seen a number of posts regarding the new and improved', 'I think he’s probably saying that this is about a guy named “Greg”.  I think he has', 'I think it’s pretty obvious that the people in this space write about and discuss about technology in their own', 'I think that this blog began with a post about a year ago entitled “The End of a Relationship”. I', 'I think I’ve mentioned before about my fondness for the “B” word these days, and especially how', 'I think it’s been awhile since we’ve talked about all the things. That’s going to', 'I think that <em><strong>A Woman’s Worth</strong></em> is the title at a blog for a woman', 'I think you mean \"<strong><em>you’s</em></strong>\".\\n\\nWhen the <em>\\'s’</em>', \"I think it's because people don't like the sound of their own posts, and it's\", \"I think that's a pretty good example.\\n\\nI'd say that's an appropriate blog post\", 'I think it depends on the person. He has been blogging for a while about \"this is a serious blog', 'I think about it every day, “how to make more money.” “How To make money,” “How', 'I think everyone can agree that it must be a very difficult journey when a parent goes to a food blogger.', 'I think I may have said this before, but one of the things I love about our site is that when', 'I think the title is a bit misleading, is it a blog? How about a photo album? How about', 'I think this is a pretty good idea. I’ve been reading the other “blog” that my husband', 'I think the guy had one like this before, a while ago. Unfortunately, I only found it in a', 'I think about life, sometimes, or my thoughts, on this here, and a lot about stuff just because', 'I think I will go to my blog about my blog.\\n\\nSo I will continue my blog in my blog', 'I think it\\'s not the \"on\" post, but one that I had made a few months ago', 'I think it is just another conspiracy in the post-modern world (see for example here). In particular,', 'I think the reason that you are blogging about it rather than leaving a comment here is because you want to keep', \"I think it's a really weird post... I didn's like it.\\nBut I had such\", 'I think I’m the only woman in the whole bloggingosphere that thinks the blog is more fun when there', 'I think you have been a little too long as of late, your blog hasn is a little more personal than', 'I think there’s a lot to like about the blogosphere. It’s a great platform for expressing', \"I think you have found a lot of very good people. I's like to just go for one topic\", 'I think this post needs a lot of readers or at least a comment… If you’re reading this post', \"I think the one above was posted by an old friend of mine who used to make. But I's\", \"I think I've seen mention of how to make a better (er... blog) post, and that\", \"I think there is way more to that then you're talking about! The whole is actually a blog that\", 'I think I’ve talked so frequently lately about how much our <strong>family, and blog <em>—']\n",
      "Anger 1.08\n",
      "Discussion/mention of blog or blog post 4.9\n",
      "evaluating (1, 8)\n"
     ]
    },
    {
     "name": "stderr",
     "output_type": "stream",
     "text": [
      "100%|██████████| 50/50 [00:53<00:00,  1.07s/it]\n"
     ]
    },
    {
     "name": "stdout",
     "output_type": "stream",
     "text": [
      "['I think that this post is well written today. In every post I use to read a lot of blogs by', 'I think the name is not working, because the post is written. (which, also, I can never', 'I think this is a fun game\\n\\nI guess the title about the game\\n\\n( i guess )\\n\\nI', 'I think you need to make something like this with. A blog is for people, so I’\\n\\n<strong>', 'I think I should post about my love of about food about…I didn.\\n\\nAfter 7 years of', 'I think, if I remember I have a post about blog, called from “It Blog 9″ by', 'I think about our blog a lot about food these days. There aren’s a lot of places about,', 'I think I’ve discovered the answer to my readers. For a while, I used to write on about', 'I think you’re pretty good, and I didn’, and that’s probably how you got me', 'I think these pictures are kind of funny. :D I hope your posts are a blog instead, not a', 'I think you should give him that post, so he will stay longer.\\n\\n(About the \"blog)', 'I think I have a problem.\\n\\nSeriously?\\n\\nI want to talk about the, and not that you', 'I think I should update this now more regularly than I had back in the day. These days I will stick', 'I think I found your latest post! That is very interesting.\\nThe site about is a page I found', 'I think so, I’m with it, blog!\\n\\nBut don doesn’s\\n\\nI love that', 'I think it was a cool video!\\n\\nWhat do you think about about blog??\\n\\nYour own post.', 'I think it is a great place. They write a lot about about there blog so I can get their on', 'I think this will be my last, or first, entry of my “about”. Now that I’s', 'I think that people and the world would like to see how the new post-apo, ( or whatever )', 'I think that I should start writing again. (I’s just not my day anymore, but.) My', 'I think we are coming full circle again.\\n\\nWhen I wrote that post (last September 4, ', 'I think this is a bad blog post for a couple of reasons.\\n\\n* <em><strong>It’s', 'I think that if you are a fan of a certain, I thought it was or even a post on,', 'I think you’re right, a lot of this is speculation. I’s hard to make without any', 'I think one of the first times I decided to write was “blog is dead” in October of .', \"I think a really, really angry, sad is where I's going to be posting for the next few\", \"I think I'll spend a bit on my posts to start again since I seem to be on a right\", 'I think most people, with the exception of the elite, don’t use their 21, mainly', 'I think I mentioned it before, but I have been wondering about the blog and the lack of about comments over', 'I think it’s safe to say that we never actually did a post on what we were <em>reading', 'I think it’s more appropriate that he should be called about something and then post about about that.\\n\\n', 'I think many of my friends think that I only talk about cats, or are about to start one about my', 'I think the only thing I’s really ever be about was for a while. This began a few months', 'I think everyone should post pictures of recipes from other blogs. I was wondering about something I can post about,', 'I think you’ll find that blogging is just a form of therapy for a blogger. That I don is', 'I think that you should have at least 1000.\\n\\nIt is more productive than some other', 'I think of so many other posts about about how blogging about our journey isn just about… about. I really', 'I think most people would be glad when a blogger is closed. It is not a post that we want to', 'I think it depends on the blog platform you want to write on. and the theme post post a in wordpress', 'I think this is the first I have ever posted, or even written about. Since I had an about,', 'I think about this a lot. I even wrote about it before and now here. I don’s talk', 'I think you need to put down after you, lol.\\nWhat exactly are you talking about?\\nI', 'I think I just found the “best article ever”!\\n\\nAbout the blog post. (see the image', \"I think you's be right but I just went to the with, http://www.ge.com\", 'I think one thing that we can do is put out our own posts, instead of commenting here on. (', 'I think a good friend that was deleted and has been for years. is a new blog about for people to', 'I think it’s about time that I start documenting about my life. After all, it’ has served', 'I think the first part of this post is long overdue, and it was also long due forged post-', 'I think it’s time for another of the 833 series, a series where the owner of', 'I think it’s safe to say that my life has changed and you should be reading it, and that']\n",
      "Anger 1.2\n",
      "Discussion/mention of blog or blog post 4.5\n",
      "evaluating (2, 0)\n"
     ]
    },
    {
     "name": "stderr",
     "output_type": "stream",
     "text": [
      "100%|██████████| 50/50 [00:53<00:00,  1.07s/it]\n"
     ]
    },
    {
     "name": "stdout",
     "output_type": "stream",
     "text": [
      "[\"I think more people should go there, if you're interested in getting to know about this place. They\", \"I think this has been seen on other similar threads. I don't know if it's an issue\", 'I think the problem here is that most of the current generation of students (for example, me) were fed', 'I think it depends on your definition of the \"game\" the most important is the \"level\" as \"', \"I think the original idea was that we'd have to type in the username + password + PIN, but\", 'I think this is pretty important! I have an old laptop lying around from last year that I can use.', 'I think that this is an important question to address. To me, a lot of what was wrong with the', 'I think about the first time I felt fear when I was working on a project as a student. I was', 'I think this is more about what a \"good\" server would do in this situation.\\n\\nI\\'d', 'I think most of the time, at most, I’m only around a couple hours.\\nIt was', 'I think many people, like me, wish they could have a day job where they could spend their whole day', 'I think there is a lot of hate for the movie, but in the end I thought it was great.', 'I think every man likes to feel powerful and capable of doing what’s he wants. We love to fight', 'I think the problem here is not with the <code>--include</code> but you have some empty argument (<code>', \"I think when i was in my 20's and was trying really hard to be thin..i\", 'I think this is probably too old to respond to in any meaningful way, but hopefully some new people get an', \"I think you can get a refund but you are now out the cost of the tickets.\\n\\nWe've\", 'I think I was going into a shop in London called 4056 and was in a mood a', 'I think that’s what she said. Anyway, I think she was in the car with some women when', 'I think the next move is to look at your current ISP (is it Comcast / Verizon). If they won', 'I think if I’m going to have anything to read to ease my mind, it had better be something', 'I think if you try to use the word ‘racist’ too much now to describe people in the USA then', 'I think this would be pretty easy to implement. Can we get a simple explanation about why it was rejected as', 'I think of a number, I triple it and divide by 7, then add 2\\n\\nI multiply', 'I think this has a lot to do with the fact that I used to have no idea how to make a', 'I think this is the worst thing ever.  I feel as if I could have died at the time so', 'I think it\\'s still quite relevant for anyone doing an interview.\\n\\nThe answer is \"It depends\".', 'I think you got a defective valve or maybe it should go back to where you bought it.\\n\\nSent from', 'I think the most powerful tool you have in the modern day is the camera. Everyone has a camera on their', \"I think I can finally be happy about all the things I haven't been able to do lately.\\n\\n\", 'I think about the fact that I could be one of a very few people today who, as I was a', 'I think these are fun. I think a lot of the ideas are new, especially the one where you can', 'I think this would need to be a <code>docker-compose</code> and I think I would add comments about', 'I think there is a problem with the way that your car is fitted. If you have not fitted it properly', \"I think this might be pretty good.\\n\\n1) It seems to me you're suggesting the <i>\", \"I think that this is so important because it's a reminder that, even if things are not going well\", 'I think you’ve hit on the source of the problem — although I’m sure you’d argue', \"I think it's fair to say that as a group we can be a little bit, well, \", 'I think maybe the word \"wrestlering\" is not the problem. It is the fact that they are', \"I think my sister gets my mom the same way all the time. This is great. We're on\", \"I think the 3rd party mods you're using make a big difference. At one point, I\", 'I think it was the other day when a colleague asked me, “What do you do when you’re', \"I think it is great! I used this with two of our young adults (I'd never heard of\", 'I think I have a leak after changing a bunch of the seals.\\n\\nWhen I take the fill cap off', \"I think I've seen them at all the craft stores?\\nI'm going to ask at the\", 'I think the <i><strong><u>best thing</u></b></em> about living in the city is the proximity to good', 'I think it is very important that people with disabilities have a voice, their opinion is as important as any other', \"I think I have the solution to this problem:\\n\\n1. The reason this isn't working is that\", 'I think it is great that this movie is getting distributed, but for now the only way to see this movie', \"I think what I'm really looking for is a way to set the value of a specific parameter within a\"]\n",
      "Anger 1.32\n",
      "Discussion/mention of blog or blog post 1.0\n",
      "evaluating (2, 1)\n"
     ]
    },
    {
     "name": "stderr",
     "output_type": "stream",
     "text": [
      "100%|██████████| 50/50 [00:53<00:00,  1.07s/it]\n"
     ]
    },
    {
     "name": "stdout",
     "output_type": "stream",
     "text": [
      "['I think this is the last week of spring..  I would say most people would agree with me. I', 'I think you can use the 256k ram extension feature. It allows you to run 1', 'I think the most important thing about any of these is that the \"old fashioned\" doesn\\'t have any', 'I think you will be a little disappointed by the reviews of the food here in the last year. What really', \"I think the main problem here is it's the best in their family. If your wife leaves the house\", 'I think this post made my day lol. 😂😂😂\\n\\nWhen your cat goes away.\\n\\nLol I was', 'I think it was 2011 when I posted my first blog on the A/B testing platform', \"I think that the following will work, but I'd like to hear from you to see if I'\", \"I think the first one I can get out of the box was a mess! I don't understand how\", \"I think if you want something that's not about religion and the whole world of religion in general. I\", \"I think its a joke of some sort, I don't watch it anymore so I don't know\", 'I think many can relate to this post:\\n\\n“Just for the record, my husband is not reading any', 'I think I might want to quit this blog and do a better job at sharing about life.\\n\\nSometimes you', 'I think you should do one of the following:\\n\\n1. Contact Customer Care;\\n\\n2. Call Apple', 'I think there’s probably 3 ways to do this.\\n\\nFirst option\\n\\n1. Create an Event', \"I think this a very good post and am now interested in a number of things. As it happens I'\", 'I think I may be the only person who bought the book this summer. I found it at a garage sale', 'I think my 13 year old will love them,\\n\\nI’m a 92 year old', 'I think, it was very good restaurant\\nThe food was really good and the staff were friendly and very helpful', \"I think I'll just stick to the original post. You may be asking me a lot of questions,\", 'I think the game is good, although, yes, it could probably be improved on in many ways. But', \"I think I read this months ago and I don't remember any part of it very well! I was\", 'I think there are a lot of problems with the original script, some of which I will elaborate on, but', 'I think that this was made by the same people who made the one of the best movies in 30', 'I think I found the reason for the lack of any recent activity on this blog! While my main problem with', \"I think this is only the first, so here's the next one. (I'm having trouble\", \"I think I'm going to buy those tires as soon as I get in the country. That kind of\", 'I think a lot of people had the same problem.\\n\\nWhat did you fix? Did you solve the problem', 'I think this one is more appropriate than an in-depth explanation of this topic (with lots of images and', 'I think that\\'s fair. What do you mean by \"I could see my friends\", I\\'m', 'I think you would have to say that that there was no other option left but to walk away from one of', 'I think the question is rather: when using <code><use /></code> rather than <code>map</code>,', 'I think you all may be surprised at what I have to say next as I have been an Amazon customer for', 'I think the current policy is that you have to wait at least 6 months before you can apply again.', \"I think if something is in your mind, it's out there somewhere, but you just have to find\", 'I think we forget what we take for granted. \\n\\nMy daughter has autism which means she will never be', 'I think I bought the wrong color, I really should go to a dealer and buy the right one. They', \"I think that was a very interesting episode, too, though I'm still not a fan of the new\", 'I think I’m just a huge fan of anything with a cute panda. The last thing I have done', \"I think you're both quite wrong about the quality! I think it was a very special production. I\", \"I think it's really great you would bring up this topic. I have a theory I think will explain\", \"I think it's a great idea but need some changes. The thing with the car is you can'\", 'I think we all know at some point or another that we’re tired: tired about work, angry with', 'I think you’re thinking of a new book called, “<em><strong>Dismantling a Hero</strong>', \"I think that you'll have to keep track of some state data in each row. For example if you\", 'I think that’s about right, actually. There’s a great episode of the History Channel’s', 'I think the 2020 has a much better track than the 2021. I', 'I think you should only get in a car if people that you know and trust and know how to drive safely', \"I think the more a child's personality clashes about the 4th or 5th day I think\", 'I think the best thing about this post is how much it confirms my own views.\\nI would go so']\n",
      "Anger 1.2\n",
      "Discussion/mention of blog or blog post 1.86\n",
      "evaluating (2, 2)\n"
     ]
    },
    {
     "name": "stderr",
     "output_type": "stream",
     "text": [
      "100%|██████████| 50/50 [00:53<00:00,  1.06s/it]\n"
     ]
    },
    {
     "name": "stdout",
     "output_type": "stream",
     "text": [
      "['I think there is something about these new rules that have people in a tizzy—they seem to be more', 'I think they are very cute...\\n\\nYou can wear them with almost anything. No one will ever judge you', 'I think I had a dream about this too, I dreamt about when I was playing guitar during a concert...', 'I think it was the 1000 mile bug. I have no idea how to get rid of', 'I think what you should do is create a sub-forum, maybe for this kind of issue you need a', 'I think it was in the early 80s, maybe it was late 70s. I', 'I think the fact that you’re a woman who wants to write, and wants to make something that’', 'I think (although I have no personal experience) you\\'re not wrong about the whole question of \"Is', 'I think the most relevant to my previous comment is the following:\\n\\nIf it is a standard issue (i', 'I think this is quite interesting. As a designer, I like the simple lines and graphics. This piece reminds', \"I think that when your boyfriend's name and your first name's are the same, you have a\", 'I think that if you buy a car or even a new bike is worth going to a garage and then a', \"I think that what you're trying to do is create two different sets of properties. I suspect what you\", 'I think a lot of people would love to have the same career as a <strong>professional comedian</strong>. Sure', 'I think it is safe to say I’ve been rather busy. I mean, look at me! I', 'I think the point is, \"You think that\\'s bad, wait till they get ahold of this', 'I think this is because I did some heavy stuff on it a while back. I want to do something and', 'I think most of you are familiar with the ‘<strong><em>Angry Birds Game</em></strong>.’, well those Angry', 'I think I am the only person in the world without one of the things that I would buy if I could', 'I think this is the original 38 pistol made by FN...\\n\\nIt says 4000', 'I think I’ve heard more complaints from people about an increase in police officers than any other single group on', 'I think that this was the best one so far! I love the idea behind the whole thing, and all', 'I think you can but not in the same place? I\\'m assuming you mean the \"in game\"', 'I think the problem was that the 1/2 was in his mouth, too. They can’t', \"I think you will find that the average is slightly less than £4 on average, it's never been\", 'I think we’re all guilty of using this expression. There are some people who would rather be dead than', \"I think it's in-app, i.e., the app isn't running...\\n\\n<blockquote>\", 'I think that the 1972 Honda 50 was a pretty well built scooter, but for', 'I think that I am the one who must tell you to stop all the crazy stuff you are doing to yourself', 'I think you answered your own question about how to do this from the description of the problem.  First,', 'I think that the best way to deal with the pain of the last year is to turn the other cheek.', \"I think I'm going to try out this new web host. I've looked at how to get\", \"I think it has to do with your settings, just make sure that your phone or tablet isn't showing\", \"I think you'll probably get better responses here on this forum. I found very little info on the web\", 'I think it’s pretty easy to get excited when you have a child. Because the things that you do', 'I think we need to be more worried about this, because with how many people have signed up for it and', \"I think it's important to remember that this is not about the people that work at this job. I\", 'I think I finally figured out what was going on.  It was only a matter of time before the problem', \"I think the problem is how you do that action, because the action you wrote above isn't exactly the\", 'I think my husband was mad that I didn’t clean the house during the Easter break! But, there', \"I think you can try this code.\\n\\nvar a = parseInt(document.getElementById('test1').value\", 'I think you’re looking for a really good song/playlist to dance or jam out to.\\n\\nThe', 'I think it’s quite possible that our kids are going to see a lot of changes in the coming days', \"I think most people's first impulse when they see a review of <em>The Devil Wears Prada</em>\", 'I think I’m going to be a busy mum. I don’t have a blog about that because', 'I think we can all agree that 2020 was not the year most of us were hoping for', 'I think of my work as a storyteller and that is very important to me\\n\\nWe all tell stories and everyone', \"I think the reason you're posting here is that you want the advice of 2,247\", 'I think 2020 was the biggest year ever made for gamers! Some things have happened that changed', 'I think most people would say they have at least one friend. Now, I’d like to talk about']\n",
      "Anger 1.24\n",
      "Discussion/mention of blog or blog post 1.06\n",
      "evaluating (2, 3)\n"
     ]
    },
    {
     "name": "stderr",
     "output_type": "stream",
     "text": [
      "100%|██████████| 50/50 [00:53<00:00,  1.06s/it]\n"
     ]
    },
    {
     "name": "stdout",
     "output_type": "stream",
     "text": [
      "['I think I need an edit.\\n\\nI wrote that 3 and 5 were the only numbers that I', 'I think it’s best to look at my own personal thoughts rather than anyone else out there – because I', 'I think it’s a little unfair when people call me a ‘hater’. I don’t think', 'I think part of the reason for the backlash against these reviews in the last couple of blogs was the fact that', 'I think your solution would be better with more examples... :-)\\n\\nCan you tell me your actual problems which will', 'I think we can all agree that we are fed up with the amount of fake reviews on sites like Amazon or', \"I think you mean 'I really enjoy (something)'. You can of course use this to express your feelings\", \"I think I'm going to need to buy a computer.\\nYou're a child, and your\", 'I think someone is going to beat me now, but I will still post a response so people can see it', 'I think we’ve all heard the expression “money can’t buy happiness”.\\n\\nThere are a lot', 'I think about this problem from a very, very long time that we want to create this type of website for', \"I think your new guy is on to something here - and I think your blog post isn't just about\", 'I think some of you might want to watch <strong>\"On The Run For Freedom\"</strong> because this film', 'I think that in the last few years, I\\'ve had a lot of success with the \"make the', \"I think it depends on the age.. I hate being in my 20s, but I'm\", \"I think if you're gonna complain about the amount of people on it, you should spend 35\", \"I think people would just be pissed off at the fact that you had to go to an event and couldn'\", 'I think I was here in July 2010. The restaurant is pretty small, and there was', 'I think my life is about to flip.\\n\\nI’m really in a good place right now. I', 'I think of the people I encounter as a collection of individuals, and all sorts from all walks of life.', 'I think it is fair to say that most people would agree that the best thing going for Christmas this year hasn', 'I think I can honestly say that I am in a funk that I can’t control or get out of', 'I think that most of you are waiting for the next installment to this story, so I feel I should probably', 'I think I get my first real day/night with the A7 in the dark. I also get a', 'I think its great to see how you write on your blog :)\\nMy advice is if you dont know what', \"I think there is a bit of an error here: you can't add a new user with that specific\", \"I think this is the best blog post I've ever written.\\n\\nSo, after a year off with\", \"I think the other person should get more credit. I'm sorry they thought about it, just don'\", 'I think a lot of people have said and I completely agree with this point. It’s a horrible story', 'I think I am going to be going through a major cleaning session today, as I have been putting off cleaning', \"I think it's cool you want to put a car on an arcade. Good for you.\\nI\", 'I think we saw each other on facebook today. I don’t know how often we’ll see each', 'I think it would be a bit different for the 2-200. I would give the V', 'I think we went to this place for the first time in last year. Now I can understand why. We', 'I think you are thinking about the wrong person. I am a former friend and you are correct I am still', 'I think this is probably a blog worth keeping for a long time. It’s been about a week now', 'I think you already have enough questions about the state of the game in your comment. Now, what about the', 'I think the whole community got together on Friday because they were sick of the comments and it didn’t matter', 'I think I’ve discovered a good reason for your recent negative writing on the blog; I’ve found', 'I think the \"forgets\" in the list should be \"forgotten\".\\n\\n\\nAlso, the word \"forgotten', 'I think I might start a new post called \"Things I\\'d like to get rid of\".\\n\\nMy', \"I think we can't make that many complaints, because we feel like we can do whatever we want at\", 'I think we can all agree, after reading the title this post will be all over the internet.\\n\\nThe', 'I think there is some good writing in “The Art of the Deal”. I’ve just finished it and', 'I think I found the perfect solution. https://stackoverflow.com/a/405615', \"I think he's got some good points about the game at the moment.\\n\\nHe also thinks that after\", 'I think there is a blog I should really read regularly called “The Unproductive Blogger”! In it, a', \"I think it's been 6 days since I've had anything to say, but since all of\", 'I think this blog post is about the best of both worlds. I’m not sure what to call it', 'I think you will end up very sad.\\n\\nI would rather think what you have posted here is actually a']\n",
      "Anger 1.6\n",
      "Discussion/mention of blog or blog post 2.48\n",
      "evaluating (2, 4)\n"
     ]
    },
    {
     "name": "stderr",
     "output_type": "stream",
     "text": [
      "100%|██████████| 50/50 [00:53<00:00,  1.06s/it]\n"
     ]
    },
    {
     "name": "stdout",
     "output_type": "stream",
     "text": [
      "['I think that we are all aware that the internet is littered with countless articles that are intended to promote products or', 'I think you need to change the battery settings to manual. If you have other devices that can be connected to', \"I think I remember a thread about this years ago, but can't now find it. There are several\", \"I think I've had this issue many times. \\n\\nBut this is the only one here so far\", 'I think you could get a nice shot from the observation roof of the tower. We went there with family and', 'I think it is a little silly to think that a child would be “outraged,” (see above for', 'I think one of our most important considerations when buying a product is reliability. And if a product cannot get that', 'I think this is the worst of all. They have tried to take some of the old posts but without having', 'I think most people have an idea of what a house-cat looks like, but a house-kitten has', \"I think if you're going to sell one of your books on here you should update them every so often\", 'I think this was a problem with the original design, as can be found in the comments there. Someone asked', \"I think there's some new on this topic.\\n\\nhttp://www.geelongadvertiser.com\", \"I think (I'm in a mood because I'm being censored on twitter and so have gone to\", 'I think not enough people are talking about this. The video below is an amazing (not to mention hilarious)', \"I think it's very likely that he doesn't think it's worth posting, because he doesn\", 'I think you need to check what you said earlier about why did I go to Paris, and also check out', 'I think a lot of people feel like they don’t ‘own’ their body. To blame one post', \"I think the title's a little misleading. I'm not here to talk about myself or my problems\", \"I think I'm not the only one who thinks that those are not good looking things for sale.\\n\\n\", \"I think you're right on about the 2 minute delay. However I've got my own ideas\", 'I think I should write a 800 line blog post about it (yes, I am one of', \"I think everyone has their opinion and opinion is always subjective. And I don't know if it's\", 'I think the problem here is that when we look at the two questions, we can make comparisons with how a', 'I think what you are looking for is not something you can get off the shelf.\\n\\nI thought of you', 'I think it was probably a combination of bad writing and the fact it was all about a female character. For', 'I think that this is related to: 20130714-issue-46', 'I think i just need to take a deep breath.\\n\\nOk, so a few of my friends are having', 'I think what’s the most upsetting part is that I went through something similar on the show a few years', 'I think you are wrong... I am sorry to say this but. How can you call my comments racist ?', 'I think my blog has been on the down side lately, maybe because of the elections or just the usual stuff', \"I think you're overstating the situation. 12,000 people in Australia?\", \"I think it's the the same in both, there are two parts to it.\\n\\n1. \", 'I think everyone knows the story already, but in case you missed it…\\n\\nA young girl, <em>', \"I think I've found the answer, after looking around a bit, and I've found a possible\", \"I think I'm going to like the looks of these 2009-2011\", 'I think it is a common theme right now that many people feel, and I think it can be useful for', 'I think this should be easy, but it was really hard to find out how to do it.\\n\\nJust', \"I think it's important to talk about both sides of the equation:\\n\\n1. The fact that the\", 'I think this is a new one.\\nI have a 01 425 and I installed', 'I think about people on a regular basis. I do many blogs, and I think almost a million people visit', 'I think it’s important to read reviews sometimes.\\n\\nI read the reviews on this site and I really', \"I think this looks like something I'd make:\\n\\n* Get 1/2 the width of the\", 'I think you have written a great post about that. And a good post at that! The last comment that', 'I think we all feel like this sometimes as we look round at people who have the perfect house and the perfect', 'I think I posted a link to this earlier on the 2009 thread, but now I have', \"I think if you're angry over how much the app now costs, you should either a) find a\", 'I think in a series of entries, I have not yet mentioned the fact that I am a woman. To', 'I think it would be a really good idea to discuss here about the things that you want to write about (', \"I think you're better off leaving feedback on the forum instead, like I did.\\n\\nHi,\\n\", 'I think that you forgot to add a <strong>_</strong> at the end of the link,\\nif there']\n",
      "Anger 1.36\n",
      "Discussion/mention of blog or blog post 1.86\n",
      "evaluating (2, 5)\n"
     ]
    },
    {
     "name": "stderr",
     "output_type": "stream",
     "text": [
      "100%|██████████| 50/50 [00:53<00:00,  1.07s/it]\n"
     ]
    },
    {
     "name": "stdout",
     "output_type": "stream",
     "text": [
      "['I think its a pretty good book, but I think that the whole \"on facebook\" is just a waste', 'I think I said about it a few days ago. But I really need to about this. If the next', \"I think this post is rather good...\\n\\n[I'd been following this blog for several years now (\", \"I think I'd have a go and give it a go on a day off and see what happens,\", 'I think that one of the reasons for the existence of blog is, I think for you the writer, it', 'I think that you meant to say \"How do you make <strong><em>good</em></strong> food for your blog', \"I think it's safe to say that this week's blog post is a bit angsty.\\n\\n\", 'I think that I should let this out that there are times that we really have to vent and write. There', 'I think about this question all the time when I’m trying to write. It also goes hand in hand', 'I think I don’t need to tell you about the terrible news about today, but I know a lot', 'I think the post in the last about the ‘unreasonable’ thing (about the ‘unreasonable’ thing', 'I think the best bet for the end is “it’s the end of the fucking blogs”.\\n\\nMy', 'I think the word “fashion” has been on my mind lately. It’s a word I try to', 'I think your post has no meaning now.\\n\\nThe article:\\n\\n27 August, 201', \"I think that you're just going through a phase. It's happened to me many times... and\", 'I think the topic has been done before, yet I can’t find the link. But all I want', \"I think you can get there from the 's. The only other option you have would be to fly into\", 'I think it has to be the first time in my life, that I am not in charge of a topic', 'I think I was one of the first to try the food at the newest restaurant at the Disney Village in Paris', 'I think a lot of people have questions about how to fix your relationships! For some of those that say they', 'I think that this new entry is the first I\\'ve made since I went \"offline\" for nearly ', 'I think about my dad every day.\\nEvery goodnight, I wish he were here.\\nThere is', \"I think you'll find that most of the people here are not here just to post about their latest post\", 'I think maybe people should ask for the title. I just read a thread about 1775 on', 'I think the next big thing in blogging is going to be about the next generation. It’s probably about', 'I think I found the right blog.  My name’s not really Steve but it is me, the', 'I think what we all should have said in this blog, was, \"We\\'re in our 5', 'I think the idea is \"how does the <i>user</i> react to the design?\" which should go to', 'I think, I have found an answer to my first question ! When ever I run this script, the error', 'I think it might be this blog... here.\\nI was hoping it would be a blog... about the', 'I think i need to write,  its been a long while, here\\n\\nWell for quite awhile, I', 'I think I’m not posting as much these days because I am a busy mom of four (my little', 'I think I may have the answer to this one.  I had a post on my old blog but a', 'I think it’s a shame that most of the books written on <em><strong>Harry Potter</strong></em> are', 'I think you should do more than just say about the current situation. And yes about the politics but also politics', 'I think many of the people who are complaining about these problems, are either trolls (sorry, but I dont', 'I think this post has been a bit absent of late, but I’m hoping to change that tomorrow and', 'I think this is one of those things that is worth considering. I would say that in a lot of my', 'I think everyone, at some time in their life, has wondered — what am I supposed to about this,', \"I think I've told this before, but my wife has been looking up at me during an argument every\", \"I think i saw a post/youtube video recently about this. I couldn't find one right now but\", 'I think we can agree that no one should be angry at the fact that their friends decided to start a blog', 'I think you need to post your code.\\n\\n@Mikesay7 Hi,\\n\\nWhat I meant is', 'I think it may be a bit of a hot topic at the moment, so let’s talk about it', 'I think the term “anti-intellectual” strikes me as very disingenuous. My entire blog is made', \"I think about what I wanted to buy a lot but sometimes I have a mental block.\\n\\nIt's\", 'I think there is one really important difference between me and other bloggers about my life. You guys know why?', 'I think I’ve just read the entire ‘In This Corner’ by James Gunn and he’s got', 'I think this post is a bit out of focus. I’m just writing as I feel about the situation', 'I think this can use some love… (and an explanation) about my decision to do this. It’']\n",
      "Anger 1.32\n",
      "Discussion/mention of blog or blog post 3.76\n",
      "evaluating (2, 6)\n"
     ]
    },
    {
     "name": "stderr",
     "output_type": "stream",
     "text": [
      "100%|██████████| 50/50 [00:53<00:00,  1.06s/it]\n"
     ]
    },
    {
     "name": "stdout",
     "output_type": "stream",
     "text": [
      "[\"I think I've seen a few of these about the blog, but this is just my reaction to something\", 'I think I’ve finally decided I’s not blogging about my little old blog! It’s not', 'I think this is the last of the 7:  “A day of a day. ”  I', 'I think you’ve posted much of what I’ve written so – I’m delighted to see that', \"I think I like it!!!\\n\\nHi everyone, glad to hear that your posts/blog post get's\", \"I think you're right to be so angry at me and other people who have been through similar things lately\", 'I think that you mean 667.com and 9920.blog.lovin.', 'I think it’s kind of funny that when I write (or talk or tweet) about the fact that', 'I think this is what I’m going to have on my ‘spot’ this afternoon…\\n\\nWe’', \"I think they could be a little off lately.\\nYes, that's a fair point! Maybe I\", \"I think you have to be a bit older now than you used to be.\\n\\nI'm not a\", 'I think the most interesting article I am going to post is about the evolution and history of the blog, The', \"I think 24.99 should be taken off but if you want an opinion it's at\", 'I think the real problem here is that you are asking about your own personal blog, and I wrote to you', 'I think this is a good idea.\\n\\nYou could write in and and say “about the same blog post', 'I think it’s called “The Curse of the Stupid Blog”, with references to the other bloggers here.', 'I think its something like this. I would love to, because I’m a fan and a follower of', \"I think my favorite blogs this week are :\\n\\n* What's your name now?\\n* Not blogging\", 'I think I’ve been meaning to post on here for a while now. I feel like I should start', 'I think we’re coming up on another 40 years, or 24. I think it', 'I think it is fairly appropriate to consider the impact of the Internet on the social community, blog and and blog', 'I think that we should all read our blog posts before we put things out on Twitter.\\n\\nI didn’', 'I think it’s a great idea from the team that is running this blog, so, if you find', 'I think about that all the time but I find it boring. I read my blog because it is a record', 'I think you are looking for something like this: : http://blog.cs-tech.net/wordpress', 'I think it may be that you didn’t post all of your comments. That you made a comment and', 'I think that is why when I went to a couple blogs on my page last week I never blogged this', 'I think that this article by Matt Williams, <em>How To Turn a WordPress and Blog into a Successful Business', \"I think all the time.\\n\\nAt.\\n\\nAbout.\\n\\nIt's hard to keep this on the\", 'I think I said a few months ago that I felt so frustrated I was going to quit my business. But', 'I think we can say about this year’s event in November that we are running a little behind, and', \"I think it's a bit of a troll...\\n\\nIt's about one of those posts that you\", 'I think it’s safe to say, the only thing worse than being an American, a white nationalist,', 'I think I used to be a lot more angry and upset about being a single mom for about a solid year', 'I think that your comment is a bit of a blog post of a post for a post to make more money', 'I think this is your answer\\n\\nWhen I was 18 I would think and write about my life\\n\\n', 'I think I may have a problem...I am sick of hearing about about the fact from a friend/fellow', 'I think many of the posts that use the hashtag #love are full of “I don’t have a', 'I think it’s a good time for the first in a series of three on my thoughts and musings', \"I think we all need to take some time and remember that we're not just writers. I have a\", 'I think there aren’t any of our readers at the moment because of our usual (or regular) posts', 'I think it’s a sign of progress to be published, and I’m usually not one for that', 'I think about this question on a lot and on a lot. If I blogged about every single thing or', 'I think this is going to be a fun 2003 of blogging. I wanted to post a', 'I think if I were in your shoes right now I would find a different host for a post that I have', 'I think we were in this week a couple of days ago and we did the drive across from New York in', 'I think i have just found my new favourite food\\n\\nIt’s an English post, I just like it', \"I think I'm finally getting my things.\\n\\nFor the lack of my usual blog about our trip;\", 'I think everyone who has a blog or online forum or whatever has an argument against.  For those who don', 'I think you can take from both of them, that are not about politics , or in the world .. !']\n",
      "Anger 1.46\n",
      "Discussion/mention of blog or blog post 4.44\n",
      "evaluating (2, 7)\n"
     ]
    },
    {
     "name": "stderr",
     "output_type": "stream",
     "text": [
      "100%|██████████| 50/50 [00:53<00:00,  1.07s/it]\n"
     ]
    },
    {
     "name": "stdout",
     "output_type": "stream",
     "text": [
      "['I think <strong>my life is a</strong>. That’s a good one!\\n\\nOne of my readers', 'I think I’ve said before that I’m not a huge fan of reality TV and the idea of', 'I think you mean ‘about’ ,not ‘your’.\\n\\n@I_am_a_geek :', 'I think it’s one of those things where the blogs are saying about, and, or whatever.  ', 'I think you and your team have had a lot of interesting conversations in this blog; a real time of reflection', 'I think most 40 year old men will tell you that they should start more. About their life,', 'I think this will get posted soon too, if about post,\\nbecause i wrote about this in my blog', 'I think, if you want to be more about about something, that is your blog/ or page.\\n\\n', 'I think I’ve already explained the blog (http://www.thebloggergal.com) so I', \"I think this is a great way to get more people interested in comics! I's great to see the\", 'I think I remember there being discussion on this already. but... (i might call this post/comment,', 'I think it should be called about something, where bloggers post something about something, and it has nothing to do', \"I think it's because I just wanted to do something about it to help people out. We need more\", 'I think it’s time for me to blog as I have been wanting to for a while. I’', 'I think that the best method is the comment of the day. In this you can find all about your ideas', 'I think I have had it for about 12 years.....and its blogged (if you read,', 'I think for the most part the comments here are by and for fans of the blog. I generally don’', \"I think I saw this somewhere about before... here's how to make a with: http://tech.\", 'I think you are using a 1.62 (2.5) post. I can find no', 'I think the answer is already there on this forum\\n\\nhttp://www.emersonpaul.com/blogs', 'I think it’s hard for people of all shapes and sizes. This is a blog and I feel angry', 'I think I’ve got it now! This isn,t a Blog… it’s a… well', 'I think most would agree that the best thing about being in a blog is the ability to post about something the', 'I think I remember something about this a while back, but after having not been into it like for a while', 'I think the biggest thing that kept me from reading much blogs over the last few months had, as usual,', 'I think your blog is really cool! you guys do a lot of entertaining and it reads great, funny and', 'I think I’s pretty popular with the fans of the web, so I thought I’, just update', 'I think I got a wrong idea when first time blogging. I think, my name-space should be.', 'I think there is a couple of bloggers that write on personal issues and, though I never read their blogs (', \"I think that I would have a hard time trying to get people to subscribe to my blog and I'd\", 'I think of my friend Mike and I when I think of this topic. For you all! :) I read', 'I think I found the problem for this one: i-4-a:3.com.blogspot', 'I think you mean “<strong>#</strong>” (in Spanish). But if your in a blog post or something', \"I think of the various things that have changed since that summer and it's a post from a friend I\", \"I think I was never too happy with the way my blogs were presented so I decided that I' would only\", 'I think it just started. They have a new post but,\\n\\nwww.thefire.com/2', 'I think it’s something very few people will read this about, because it’s not “about”', 'I think I should get this going again.\\n\\nI blogged about something called ‘The Happy Life’ but', 'I think the post about the name of this post’s title was so post-worthy, that the post', \"I think it'd a good platform for my new stuff and I's been in my head for a\", 'I think about this post a lot, but the main question was by my fellow citizen @steemitblogger,', 'I think we should go to a blog post, because I have about the same amount of posts... but,', \"I think this isn's blog looks quite interesting for me , . I can post about my and , it\", 'I think the blog site is doing well and its pretty cool. I think the blog site is great but when', 'I think that most of the of here that’s out like this, is because their just sick or blog', 'I think I mentioned this once before, but I’ve been reading a lot of books lately, and so', \"I think the 'The-T' (to the) and the post-cat will be the two.\", 'I think that I have been blogging too much lately.  A post a day?  I should really stop', 'I think a lot of people will like me on Monday of next week.\\n\\nThis is my blog.  ', \"I think that you're doing it wrong. There's a bit out there with the same name,\"]\n",
      "Anger 1.12\n",
      "Discussion/mention of blog or blog post 5.14\n",
      "evaluating (2, 8)\n"
     ]
    },
    {
     "name": "stderr",
     "output_type": "stream",
     "text": [
      "100%|██████████| 50/50 [00:53<00:00,  1.07s/it]\n"
     ]
    },
    {
     "name": "stdout",
     "output_type": "stream",
     "text": [
      "['I think the title says it all. The post here is about about what happened during the first week about the', 'I think I’d like you.  Or more accurately, I write with the same as my friend.', 'I think it’s about time I stopped about all the stuff I had – – about my <strong><em>', 'I think we’ve got this thing.\\n\\nIt’s a compilation of posts.\\n\\nWe’s', 'I think I’ve written a blog post on the topic a few years ago but never posted it here.', 'I think I wrote about about the first entry of “One on Blog”, about how “about” in (', \"I think it's time for our friends at the world's most famous food blogger (or is it\", 'I think it has an, \"I want to make people mad\" kind of style. that\\'s just', 'I think about a lot more than I would ever be willing to post about.. There’ I. I', \"I think it's my birthday - or should I be? I guess I's like! (or\", 'I think I have found the blog post about that blog.\\n\\nThe first blog is a of that post.', 'I think the best way to use is how we did: http://about.tech.google.com/', \"I think it's a big issue, I read and I read, so how do I find a good\", 'I think I might have gone a bit mad posting about the poor and about things that I see everyday and I', 'I think the thing that brings me a lot on the last is today. What? I’s been a', 'I think it’s time for another update. I’roll when I’.  The old ones and', 'I think that this blog post should start with this line:  “I am a 21 year old', 'I think this shows are going on a road trip because, in the episode, it’s called a called', 'I think this post about “not so posts”.  Blog posts.  News, chatter,, rant,', \"I think it about time. Now that I's been a couple this year my about post about is called\", \"I think this needs to and I's are a lot more than this. If it'. It'\", 'I think I’ve gone down a blogroll of sorts and this is my one last entry before a ‘', 'I think I’ve written before about how I’ve been a terrible writer ever (<em>my</em>).', 'I think this is a really good blog post that is by <strong><strong><strong><strong>(www.marath', 'I think you meant \"a\" so your post is titled \"a rant\".\\n\\nAs far as why I', 'I think that the other one about about (the name) of is post that doesn here…\\n… blog', 'I think I got my blog post “the best post ever” about about. I blogged almost every about', 'I think of the ‘why’ of writing on my more, and if you want to comment on my stuff', 'I think the author has said enough about this blog and I’s tired of his entry. and it all', 'I think, when you read, you have a, a head and.\\n\\nBlog and more.\\n\\nI', 'I think I’ve been so quiet about blogging for awhile now. (I was not a much!) About', 'I think that I’ve blogged about my trip to the blogosphere quite a lot now (about twice', 'I think of “<em><strong>The 40th Anniversary</strong></em>” or as I will put it on', 'I think the above quote entry is pretty interesting, and the blog post is interesting, and the site…the', 'I think they really mean. I am still reading through some of the other blogs of and about this site,', 'I think about my friend who who wrote this and was on for about  called “the mom of the internet', 'I think it’s been a while since I published so – so apologies for the missing posts – I did', \"I think that most of us read posts on this site daily. In this blog I's a little about\", 'I think about the fact that I rarely write, because as a blogger it is not very popular, because I', 'I think this is an interesting issue that could come with a couple of friends.\\n\\nAbout a year or so', 'I think of these things daily, all of them.\\n\\nBut what about the other blogs you’ve forgotten', 'I think you’re about a year early on this comment today. However I always read this in posts,', 'I think this is the only one I have on for- I’ about to leave here… or it is', 'I think it would be better if the is was called <strong><em>post</em></strong>, about, about…', 'I think I’d be annoyed at that!… but there’s two blogs ofgeddy bloggy', 'I think the best comment on this post is called, “The Best List of blogspot.” or, the', 'I think everyone has been talking about this over a week, but you should probably read about the last post if', \"I think you's like about about\\n\\nand blog posts about about and\\n\\n... ... ... ... ... ...\", \"I think we should move the post so it can be more interesting. :)\\n\\nI'gedd that it\", 'I think I need to post for one or the other....or maybe just talk to about things and post']\n",
      "Anger 1.16\n",
      "Discussion/mention of blog or blog post 4.92\n",
      "evaluating (3, 0)\n"
     ]
    },
    {
     "name": "stderr",
     "output_type": "stream",
     "text": [
      "100%|██████████| 50/50 [00:53<00:00,  1.07s/it]\n"
     ]
    },
    {
     "name": "stdout",
     "output_type": "stream",
     "text": [
      "['I think people forget how much we complained about the weather around this time when the snow started, but the best', 'I think the 786 was a little more popular because people really liked driving these cars back then,', 'I think it is very important to give thanks for many things. You owe some thanks to Jesus for sending his', 'I think it would be reasonable to call this \"feature\" but I don\\'t understand how it works...', 'I think that is why you should stay away from using the term \"white-belt\". Many people are very', 'I think the other reviewers are right, it smells terrible, but not for long. If it was a new', 'I think in general we aren’t really surprised at how bad our enemies are. Not surprised in that they', 'I think we need a bit to go around to be fair. After a long day we’ve got the', 'I think it is probably more than you want to hear, but there is nothing more annoying than people that ask', \"I think most people will tell you that a long game about a girl who's a little bit pissed off\", \"I think I can't take any more. I'm seriously disappointed. What happened to our beloved community\", 'I think you guys are wrong because the people who have to leave the work are working for the other team and', 'I think we can all agree that an awful lot has happened in the past year. Anger has simmered for', 'I think I am more passionate about social inequalities now than I was when I was a young and impressionable student', 'I think you should be able to adjust that with your mouse settings. Just press \"Windows+C\" to', \"I think this guy is just going to have to get used to the fact that he didn't win.\", 'I think the best way to do this is to define: (it is a function not a method)\\n\\n', 'I think the problem with the comment is that it did not specify what it was against.\\nFor instance,', 'I think the question is:\\n\\nWhat is the number of <strong>consecutive</strong> days of the same question', 'I think this should be a top choice for the year round resident. That this has been sitting in your pantry', 'I think that the number of deaths caused by a disease like Ebola should be a much higher concern but that anger', 'I think <strong>Gwyneth</strong> must be having a really, really bad day, cos you got the ', 'I think the real problem with the movie is that it wants to be like The Road but not angry enough and', 'I think of myself as an angry black man and very angry. Not just angry at anything, no. Angry', \"I think you mean when your 2-wheeler runs out of gas?\\n\\nOr you didn't see\", 'I think when the 30 day clock runs out then you can do what you want. Not much you', 'I think I heard of him in the 90s when I was 18-19.', 'I think this is some weird combination of the high pitch squeal that most often comes from the high pressure fuel', 'I think this story would appeal to many women and the way it is written makes you mad. The book starts', 'I think you guys are overreacting.\\n\\nA customer is one thing and angry or hostile.\\n\\nYou', \"I think the problem we're facing is that the wordy nature of the <code>@name</code> field\", 'I think I saw a post on FB about the store and the owner was very offensive. Seems he has been', \"I think some of us just don't have much tolerance when it comes to the poor way people speak to\", \"I think it's safe to say a lot of us had more than just a few things to say about\", 'I think my wife would kill me if I gave her the $25 for this. When I received mine', \"I think we have a problem. The two of us.\\n\\nIt's the night of the last day\", \"I think its one of the cutest games I've ever played and now I'm so angry... I\", 'I think that when you say \"the whole process\" what you really mean is \"doing something to the process', 'I think we all have different takes on the subject of death metal! In the end, what ever you do', \"I think the original intent was to make them 'unreasonable' as a defense. I don't think\", \"I think you know this, but there is no easy to get it.\\nI've got 7\", 'I think you still have a high fever and it will take time before it goes down which might be a week', \"I think its a scam, and I'm trying to get the scammer I think who I'm calling\", \"I think I have this problem in every game, and I cant solve this:\\n\\nWhile I'm in\", \"I think we should get a real explanation instead of this kind of rant that the game's going to be\", \"I think you have a little misunderstanding about my response.\\nI'm saying you are using the wrong\", \"I think it's a bit too much at that price point to be honest. If it was like \", 'I think it would be better to have a new post for the question.\\n\\nTo make a new post,', \"I think this is a really useful guide and I can't find anything about this online, so I'\", \"I think it is the last time i've ever been angry.\\n\\nI was at the market when i\"]\n",
      "Anger 2.12\n",
      "Discussion/mention of blog or blog post 1.14\n",
      "evaluating (3, 1)\n"
     ]
    },
    {
     "name": "stderr",
     "output_type": "stream",
     "text": [
      "100%|██████████| 50/50 [00:53<00:00,  1.07s/it]\n"
     ]
    },
    {
     "name": "stdout",
     "output_type": "stream",
     "text": [
      "[\"I think I'm just confused as to what you expect to see. There are a couple of screens where\", 'I think the idea behind this show is, “What if everyone was a celebrity?” That’s why all', 'I think I went a little overboard this time. I started out with what I wanted to say and before I', 'I think a lot about things\\nI think a lot about how hard it is\\nHow when I wake up', 'I think it was written down somewhere that if you use the S&A method on your phone, it’', 'I think of the man as having died. Not only a “dead” man, but as a very angry', \"I think it is great that she's putting her passion and concerns to good use with the 'Green Brigade\", 'I think I want a dog this spring. <strong>I’m sorry. I’m happy.</strong>', \"I think i'm just confused! I had my last period on 30th feb, so should\", 'I think this is the first time someone makes my work.\\n\\nSo I decide to do the thing\\n\\nFirst', 'I think you may be confusing this with the <b><i>other</i></b> \"<i><b>I can read the', 'I think I speak for the majority in saying “Fuck Trump” on a consistent and repetitive basis. The way', 'I think everyone in the team are looking forward to making this game a reality, and it feels really good.', \"I think someone just made this post! I just saw it\\n\\nI'm actually not that mad at people\", \"I think this is what happens next\\n\\nThat's why I said no, i don't take the\", \"I think this is the best movie I've seen from Jason and Ben. I would love another movie with\", 'I think the majority vote here is against having all that space dedicated to weapons when it could be used for other', \"I think it's a good question..why should I buy a book if I can't understand it\", \"I think it's very common on the forums these days, this type of complaint about the same issue you\", 'I think I want to make soap. I would like to know what is wrong with me.\\n\\nBut I', \"I think I saw one this morning. So I'm gonna eat my anger.\\n\\nI like how the\", 'I think that a lot of people in the United States would get upset when their cars or their televisions were being', 'I think this was a fun little piece of art I made to vent about how bad the new episode was for', 'I think the title says it all. Its 8-10 PM. My daughter was yelling that someone', 'I think that one of the benefits of the new design of the 2014 Mustang GT is that', 'I think the only way to go is with with a few other people....\\n\\nI know what you mean.....', 'I think, you have a mistake somewhere. Because you are using two different version of JDK-9 with ', 'I think there is a lot of truth in this. The 2nd is just as valid.\\n\\nThe', 'I think I remember this when I was in Kindergarten but i was super mad at my parents lol! I have', 'I think I’m losing the will to live with these people…\\n\\nA very very angry (and frustrated', 'I think you\\'re looking for the \"Edit\" on the right of the text area.\\n\\nEdit on', \"I think every homeowner has that one room they wish they could redo but don't know where on their schedule\", \"I think we can safely assume most of you reading this are of the thinking type that doesn't want to\", 'I think the issue is that the server keeps the connection and keeps the connection object. So the next time it', 'I think the most difficult part to the beginning of the journey is to convince people that this is a bad thing', 'I think it’s the fact that so many people are dying (or are otherwise very frustrated with how the', 'I think the issue in #6 is the same as #2.\\n\\nThe error message is really odd,', 'I think the \"I can\\'t be happy because I\\'ll get more money\" approach does not help', 'I think that the way that he was portrayed is a bit unfair because to me, he had the last word', 'I think that it is more interesting when someone is angry with you than someone who is happy with you. The', 'I think we’re all feeling it. If not “out loud” already, then the quiet part of', \"I think this is such a stupid post to write about. Why can't you just enjoy the game...\", 'I think that’s just about all you could expect in an official reaction to a video of a parent in', 'I think that I understand a lot about the world. I get it, a lot of the time. I', 'I think you will find that not many people are familiar with it yet because it’s new.  That', 'I think you’re on the right track. What I did was… I used a script.\\n\\nI', 'I think you could be on the right path, but a 30k RPM clutch could give you a', 'I think you’re going to have to do a lot of research on this. Google will be your best', \"I think this is the 3rd week that I've done a blog post. It's been\", \"I think it's a great idea that you'd like to get more money from your landlord! I\"]\n",
      "Anger 2.04\n",
      "Discussion/mention of blog or blog post 1.32\n",
      "evaluating (3, 2)\n"
     ]
    },
    {
     "name": "stderr",
     "output_type": "stream",
     "text": [
      "100%|██████████| 50/50 [00:53<00:00,  1.06s/it]\n"
     ]
    },
    {
     "name": "stdout",
     "output_type": "stream",
     "text": [
      "['I think the best thing you can do for yourself and for your friends is to be there for others and not', 'I think the reason why I dislike The Flash is not its plot. I think more of its characters and how', \"I think this is a bug in the current implementation. The code uses 'with' to bind 'this'\", \"I think I just realised something and I hope that it isn't going to get better anytime soon. While\", 'I think that \"you were given a warning\" sounds better than \"you were warned\" -- I\\'d', 'I think that this is a great article by <em>The Atlantic</em> writer, Brian J. Ferguson concerning how', 'I think at the bottom of your page in the top right it says \"Support\". Click it and scroll down', 'I think 15x15 is good enough for me.\\nI was using 255', 'I think most developers love getting this email on Friday - because they’re busy over the week, they couldn', 'I think it\\'s very rude and wrong to say that a woman is \"insecure\" about herself because', \"I think it would be fine. My youngest didn't like them when she was little. but now she\", \"I think I found out where the problem comes from. It's the last line of this code snippet.\", 'I think this would be useful to me too.\\n\\n<strong>I don’t have a ton of requests for', 'I think the 1984 edition was a little different too. I have a good chuckle everytime I', 'I think its time to get my butt in gear and make a decision, because a couple of weeks ago I', 'I think one thing that’s changed about my writing that hasn’t been in my last two blogs is', 'I think i just lost a fan following… :’((((((\\n\\n\\nI don’t think I’m', 'I think it needs a new title and is about to snap.\\n\\nI just came off the phone with ATT', \"I think you probably just aren't a very happy camper on that first day. I'd be p\", 'I think \"the man\" who said the things under \"I\\'m so angry\" in the article above', 'I think you should call the company who built the bridge. They may be your landlord also. (If we', 'I think the 2010s. Its probably just because of that one post I made.\\n\\n', \"I think my kids think I'm crazy about this one,  but it's for the best,\", 'I think most of us would agree that getting enough sleep is important; it’s crucial for our health,', 'I think the idea of people posting about this issue is a lot more effective than the people here who are complaining', 'I think I missed out on being able to read the first 3 and 4, but that’s', \"I think you did a really good job of describing it. But I'm surprised you feel so upset about\", 'I think it is pretty obvious that my husband is 1) not big on eating raw meat (it grosses', 'I think the most amazing thing we could possibly think of in the world is that there are people out there who', 'I think that he is not as good if you did not kill a guy named Mr. Burns (my favorite', 'I think this is it!!! \\n\\n\\n\\n\\nI just read that all the comments about 15 and the whole', \"I think I'll never get tired of being this angry. Just yesterday, I was fuming and had\", \"I think that I could write 1000's of thoughts, all of which would be based\", 'I think it was the first day of the year - Jan 6 . As usual there was a long line', 'I think it is about time I show you a little bit more of the interior of this crazy house! Before', \"I think I found a bug in the C++ compiler, it will not compile unless there's something in\", 'I think I’m doing a lot better than I realized I would. I’m feeling a lot more', 'I think that a great way to do this would be to have a script to run on the server to find', 'I think this is an older problem for a few people out there, and I wish I had been more specific', 'I think this question is asking, \"Could or could have been\" because the speaker wants to say, they', \"I think my first thought about what to write about is... frustration.\\n\\nHere's an example that happened\", 'I think of what happened at the game and about what the fans are saying on Twitter about it - and I', \"I think he would look pretty cool in my little 'n' bitt 4x4!\\n\\n\\n\\nThat\", \"I think you'll find the answer on the site.\\n\\nBut you know this... I mean why do\", 'I think most of us love our cat or dog but when you get to the point you just want to bash', 'I think, I will never ever stop complaining about this app.\\n\\nI use it every day, I never', \"I think I've been working on this project for 20 years now. The idea of a \", 'I think your are doing too much at once. Learn about specific things like your first post about 07', \"I think that when I get home, I'm just gonna throw my iPad in the bathtub and make sure\", \"I think we need the 3rd party library support for the WebAppEngine (and that's why\"]\n",
      "Anger 1.82\n",
      "Discussion/mention of blog or blog post 1.48\n",
      "evaluating (3, 3)\n"
     ]
    },
    {
     "name": "stderr",
     "output_type": "stream",
     "text": [
      "100%|██████████| 50/50 [00:53<00:00,  1.07s/it]\n"
     ]
    },
    {
     "name": "stdout",
     "output_type": "stream",
     "text": [
      "['I think that there are a lot of people who say that “<em><strong>my daughter is so ugly, and', 'I think you should do more on this post, but I can find that this blog post is deleted, is', 'I think that it is important to consider what causes you to be angry. When I am angry, I think', 'I think that the author of this post is entitled about the recent scandal of Mr. Duterte who went viral due', 'I think the reason why this book has gotten such positive reviews from critics is because of the way it is written', 'I think, it’s time now, I want to say my own ‘thanks’ … at least,', \"I think the 'about me' section should be an about ME section, not an about WHAT I do.\", \"I think if it was too hot for you, that's it, they're probably mad about something\", \"I think it's because I'm pissed right now and you'll be pissed too. A man\", \"I think with this song is that I'm trying to get some anger or something out about. It'\", 'I think <strong>you will like this book. It really makes you angry.</strong>\\n\\n<h2>The Little Girl', 'I think it’s a great thing to give people money, make money, and have a good day.', \"I think it'd be cool to use a photo of the same artist when writing your reviews instead of your\", 'I think its safe to say that I got into cooking because of the lack of variety in my diet. Growing', 'I think that after 10 years of using the same PC, an email provider can become quite a nasty', 'I think that\\'s why that little guy is a little \"off\". There is a lot of pressure on', \"I think I just had a baby moment today about our house because we have no house. So I'm\", 'I think it was time to make another post because i keep seeing people writing these angry comments and i just don', \"I think all the people that have reviewed this, are just haters. Don't watch this movie just for\", 'I think that it is more likely that our President and people that follow here are because of the situation of Syria', 'I think it all started in 2000. At that time I was a fan of the show', \"I think the title says it all.  You can't add to your order, after the order has\", 'I think I just took a <em><strong>blog break</strong></em> for no other reason than to express some ', 'I think the last time I felt truly compelled to write an email – to me it seems so pointless as it', 'I think the article below is appropriate.\\n\\nhttp://forums.technet.microsoft.com/windows/', \"I think my issue is because my computer doesn't know it needs to access a network and has just randomly\", 'I think the big thing was the people who used the service weren’t going to pay for a $6', \"I think it's the 10-year anniversary of the blog, and as such, I am\", 'I think about <em>so many</em> things on a daily basis. It’s crazy! And it keeps', 'I think this question comes out of a place of fear that a new teacher has about her students...but its', 'I think we have to do a lot more about this issue. I have just lost a customer to a competitor', \"I think it's because she's angry because he is ignoring his phone so much, not because she\", 'I think the first word is actually “not” but to be honest this isn’t the most popular title', \"I think the problem is not with the compiler, it's with me (or at least my perception of\", \"I think we're a pretty good lot here, but it's still good to laugh. That'\", 'I think she has a point. I would expect people to disagree with me now though.\\n\\nI don’', \"I think I've been to the same places I go to now whenever I go through hell. I'\", \"I think we are all aware of  the  fact that there aren't many good or bad people  \", \"I think the title says it all.\\n\\nI'm very disappointed at the fact that in the recent (\", \"I think the word is 'unacceptable'. I'm not sure if a post like this is appropriate,\", 'I think I got a pretty good deal on this car. I have been looking long and hard for a used', \"I think that I'm a rather strange person but...\\n-The way I speak isn't really\", \"I think it's pretty obvious why. I was on a call with someone that wanted to know why he\", \"I think it's a good thing you're not angry at the man for putting your wife inside,\", 'I think it’s time to come out and say it. I’m not a fan of the whole', 'I think everyone has a list of their pet peves, which they have, if they blog – it’', 'I think we’re all at a turning point. With so many of us out there, and yet no', \"I think there's more room on here\\nYou can see your post has been reported.\\n\\nhttp://\", \"I think I can still hear you in my head,  \\n\\nI can't do it  \\n\\nWe\", 'I think the reason for the above-referenced article was the fact that a man accused two young women who were']\n",
      "Anger 1.96\n",
      "Discussion/mention of blog or blog post 1.8\n",
      "evaluating (3, 4)\n"
     ]
    },
    {
     "name": "stderr",
     "output_type": "stream",
     "text": [
      "100%|██████████| 50/50 [00:53<00:00,  1.06s/it]\n"
     ]
    },
    {
     "name": "stdout",
     "output_type": "stream",
     "text": [
      "['I think the issue is here \\n\\n\\nhttps://developers.google.com/appengine/docs/java', 'I think when people complain about the fact that the new season of The Last of us is out, it shouldn', 'I think about politics a lot. This blog started as a way for me to express my thoughts and rant about', 'I think it’s safe to say that the last week of May has been pretty terrible so I’m', 'I think it would be a good idea to talk about the two new items in my post today! Both of', 'I think if you have been on it from the start you are in for a bad time. If you find', 'I think a lot of people would be more informed and angry if they had more, and less angry. This', 'I think it was really beautiful. The song was so beautiful. The lyrics were great, as well.  ', 'I think it’s time for a new recipe, because I get so sick of the same thing every day', 'I think you should go into your email, and find the email where there is a red line about the blog', 'I think we’re all really tired of the new Instagram. Instagram is still the best way to talk about', 'I think you just made your self fat so just eat the food your not doing something wrong and not a complain', 'I think you posted this in the wrong place.  You said <strong>a group</strong>, and mentioned you', 'I think I’m sick and I’m not sure why exactly (sorry guys!) but I was so', 'I think you may be looking for the word “angry” rather then “anger”? But that makes sense too', \"I think some of you are probably disappointed about this but here's how I feel...\\n\\nWhen my husband\", \"I think they meant that there's a ton of shit in that post, not that there's a\", 'I think you should have more than 40 likes... so that you can get some more users. In', \"I think it's time to take up again about the issues about the game.\\n\\nSo there is a\", \"I think I've seen a photo of this in a thread somewhere, but I'm interested in one\", 'I think I will write more and post a lot for my anger and sorrow, but I am not angry with', 'I think <em>Harry Potter</em> wasn’t written by a “<em>fan</em>” but by a ', 'I think we may all know people who live in the neighborhood they’re “pissed off at” or', 'I think we are all familiar with the recent incident in Chicago. 5 people were killed during an \"Anti', 'I think we all have had this crazy about our hair/makeup and we can’t keep it in!', \"I think that it's a little hard for a person to post a comment against with a 6 year\", \"I think it's time, my mind is full\\n\\nI have a lot of thoughts,\\n\\nAll of\", 'I think I might have mentioned before that I used to work in the mail.\\n\\nOkay, you’re', \"I think my cat has a thing for me...it's not like it's a love or anything\", 'I think this is the first time the government has used “unwritten” language but I have to say –', 'I think if anything the fact the blog is now under a name that isn’t mine –  has had', 'I think this will be a good thread for anyone who likes to read about stuff like this so please post away', 'I think it is fair to be angry.\\n\\nAfter 2.23, if you try hard enough', \"I think it's about the guy trying to get at his boss for not putting up a good report at\", 'I think i’m overwriting my post but i think it’s the blog’s fault.\\n\\n', 'I think this one deserves a post\\n\\nJust a funny blog, a bit like my life on tumblr, but', \"I think I'm gonna put a thread just on this, as I was talking to a guy on the\", 'I think that it looks like this:\\n\\n<strong>You\\'re getting a request error \"No route found\"', \"I think the only way is to delete the apps you've been angry about.\\n\\nThanks for being upset\", 'I think there is a difference between this and \"the\" and \"the that\".\\n\\n\\'la\\' doesn', \"I think there's a thread about this already: http://www.rcgroups.com/...d.\", 'I think our experience with the \"big hair\" was really unfair. I did NOT even hear a word about', 'I think the most common problem when people go to a doctor about infertility is when they say they’re going', 'I think the same as everybody else here, no good at all, when my little boy has his tantrums', 'I think I have an obsession about water, which is very frustrating because I just want to pour it on him', 'I think the new guy is really a good character, and I wanted to give it his anger and make a', 'I think this is due to an odd choice about what is allowed and what is not allowed. It boils down', 'I think most of us were excited when we heard they were retiring! I like the new design - and it', \"I think we can both find something negative in a post on a blog. Some people's post was pretty\", 'I think I found my new favorite soup recipe. <strong>Lemon chicken soup</strong> is on the menu tonight,']\n",
      "Anger 2.04\n",
      "Discussion/mention of blog or blog post 2.06\n",
      "evaluating (3, 5)\n"
     ]
    },
    {
     "name": "stderr",
     "output_type": "stream",
     "text": [
      "100%|██████████| 50/50 [00:53<00:00,  1.06s/it]\n"
     ]
    },
    {
     "name": "stdout",
     "output_type": "stream",
     "text": [
      "[\"I think it's actually the 8 months and not 2 years. But this is a bit older\", \"I think I've seen them around before - and I'm not surprised about it! The fact that\", \"I think that the 'other' side should talk too.. but that is a little different than the personal post\", 'I think the next thing (and actually this is the main point behind my blog) that should get the most', 'I think this is an example of what is happening when there is an excessive amount of work. I should actually', 'I think you can find lots of posts by angry people on any subject that makes them mad. But I’', 'I think it’s safe to say that every artist knows that it’s about time we made our blog', 'I think I know what the answer should be to #5. I really like a post on the WOT', 'I think I need to start off with a disclaimer, because I want to get this off my chest.\\n\\n', 'I think it’s safe to call this the ‘blog-o-versary’.\\n\\nI’d first', 'I think the title was supposed to be about this guy that posted that the other day. \"Oh! Why', 'I think that, and its one thing to that point. A few years back I posted about the the post', 'I think its about the lack of people who don’t hate about. When you are angry about something,', 'I think this week the people at the blog-o-sphere decided this week wasn’t going to be', 'I think the fact that the 3094 blog was about the fact that i just had a post', 'I think the fact that you have this question shows how many people are trying to do that too, you are', 'I think you need to have a couple of beers with me then. The blog will be updated soon: http', 'I think this is the way to do it\\n\\n<strong>//This is for all the commenters complaining…\\n', 'I think I just woke up in my dreams the other day. I wrote a blog post and then realized later', 'I think everyone can appreciate a good blog and if you’re anything about what i think about the world.', 'I think you need to be more careful about your attitude on blogs, where a lot of people just vent their', 'I think the other day I said a lot about a person I had just met, named Steve. I’', 'I think this would be the best spot for this post.\\n\\n@B-Blog\\n\\n@B-Blog', 'I think the other reviews on this site are the work of a couple of bloggers from the past. If you', 'I think the problem is the fact of the lack of in this thread. In the past , there are a', 'I think I just figured out why I want to write a post today... but it is long.... please forgive', 'I think this was already raised over here before but my question is - does anyone else hate these!\\n\\n\\nJust', \"I think you're right. The new engine is a direct response to the new user interface (what I\", 'I think I’ve been thinking about something (see here) for years and years but I’ve not', \"I think your post is a bad example because you are trying to prove someone's work, not really.\", 'I think the issue is not only with the game itself but that their servers are down.\\n\\nAlso this has', 'I think that we shouldn’t just go to work because that will put us off and it would piss us', \"I think it's safe to say that I'm tired of <em>Mad Max</em> movies, and\", 'I think I made a mistake -\\n\\nThere are two different reasons for which:\\n\\n* <strong>I just', \"I think it's my first blog!\\n\\nWell, at 3am, so what can I really\", 'I think it’s going to be kind of a dark-er entry today. For one thing, I', 'I think I may have found a bug with the release version of the app.\\n\\nIn the release version the', \"I think I've said this before, but my husband and I are pretty strict on each other's\", \"I think that would be hilarious. You should make a blog about it.\\n\\nSo I'm actually blogging\", 'I think I’ve already said this quite a few times and it’s in my head these blogs.', 'I think that you should tell me when you want to, because it made me angry :(... and when I', 'I think i have seen this before on other sites, but this is one of my own postings i made', 'I think a lot of people hate <strong><em>The Hunger Games</em></strong>. Because the whole thing is way', \"I think you're wrong about that at. They're not going to ban anyone for a few hours\", \"I think these will be really good. I've got a couple ideas about stuff I used to see when\", 'I think people often get frustrated when they hear about how a “new blogger” started their own site when they', 'I think I wrote and/or tweeted several times about how frustrated I was that this was going on. And', 'I think about it a lot.  When my daughter first came home, she was a pretty angry girl.', 'I think this has been covered before but I wanted to know what the people that had the issues with the software', 'I think that this is a rather odd question, or \"complaint\" actually.  It is not directed at']\n",
      "Anger 1.7\n",
      "Discussion/mention of blog or blog post 3.72\n",
      "evaluating (3, 6)\n"
     ]
    },
    {
     "name": "stderr",
     "output_type": "stream",
     "text": [
      "100%|██████████| 50/50 [00:53<00:00,  1.06s/it]\n"
     ]
    },
    {
     "name": "stdout",
     "output_type": "stream",
     "text": [
      "['I think he’s over-excited about the possibility of “<em>What If</em>” comics and how I', 'I think. It’s one of those that that I post here. It’ and not the posts.', 'I think that the name “myblog” could be a post about me.\\nNow I would like to', 'I think that is the first comment I have written on my blog since I have been doing this for a year', 'I think I can be a bit scatter-ish now. I post here. I read other blogs. I', 'I think the whole thing is more about than about the article and post is the that they never say and they', 'I think that if you haven’t started blogging before about your experiences and stories, as well, you have', 'I think of all my blogs, this was the first time I wanted to start an about post in the last', 'I think we’ve all heard the many complaints about the current economy. About the economy, the economy,', 'I think the main thing is that people are upset that that story line has already been done to death before the', 'I think the idea of using the \"my life\" posts is a very useful one. I was getting posts', \"I think this blog has lost some traction. I's not that I have ran out of things to write\", 'I think I have to blog about about this one! 8/8/08\\n\\nI just don', 'I think you really need to read about the \"New Media\" today and about all the \"post-cyber', 'I think the title says it all. You are a mother and you are fed up by the posts and comments', 'I think we all know about that one. But, hey, it can be an outlet in the form of', \"I think about and think about how much I love and am inspired by people who don's about how about\", 'I think it depends a lot on the person and on what’s driving the anger. If what is the', \"I think the problem it'\\n\\nBecause it's an update on... I guess?\\n\\nhttps://news\", 'I think, if my post is not appreciated.\\nhttp://http://t.blogspot.com/\\n\\n\\n', 'I think this guy who was at the wedding who said 85 people attended was a lot.  He', 'I think I’ve been pretty quiet in the past 4 years. Why? Well, I’ve', 'I think its time to tell some people about the new development in our life. it’s a lot of', 'I think this issue may have been brought to a halt as it says here that has been abandoned.\\n\\nhttp', \"I think it's time for a blog post. A new one that I should probably make up about my\", 'I think what you probably wants to accomplish was answered over at\\nforum.wpf-tips.net/', 'I think the guys who have been the most successful here. are the ones who blog about <b>how</b>', 'I think I am having a bad hair day today. I’m pissed because after taking a whole lot about', \"I think it's a safe bet that a lot of people are out there with one after another now.\", 'I think I’ll call this post “<em>My</em> <em>Reaction to the New</em>”, and I', 'I think this is about 10 comments down from a post by a friend/fan/follower who who', 'I think I might have a rant on coming up soon on my first post... I just feel the need to', 'I think that’s the main reason you get so mad. As a father (and a pretty smart dad', 'I think as a mom you’ll often find that your voice is louder than your mind. Especially when you', 'I think it does a pretty good job with the audio/video, and so about 15 or so', 'I think I’ll be pretty sad about it when they’s the new guy in town. I like', 'I think that this isn’s the correct section. How do I make comments? How do I comment?', 'I think that this site is the best around right now!\\n\\nhttp://blogs.wsj.com/political', 'I think the main focus in the blog lately is because of all the things that was in my head when I', \"I think I've mentioned twice, but I'm a bad blogger. So, I's about\", 'I think that it is important for a dad to put in their blog post every now and so about their anger', 'I think what has really struck a chord with me recently is an article written by the founder of the Huffington Post', 'I think I will never forget my ex about his post: \" \" You look like someone that can\\'t', 'I think there was some discussion about this a while ago (which we archived years ago) about something similar -', 'I think they are doing this.\\n\\nI love the site, but have had enough with the comments. I', 'I think that my favourite is the first, but the second picture is more appealing.\\n\\nThe first picture is', 'I think it’s going to be even more interesting if there is a blog to follow my daily blogging posts', \"I think you put the wrong word in my blog post today.\\n\\nIt didn't go anywhere before but\", 'I think people are often angry in this group: angry because of the decisions of the President and, yes,', 'I think this is the best way of I have ever seen. What will happen, when when he, when']\n",
      "Anger 1.58\n",
      "Discussion/mention of blog or blog post 4.06\n",
      "evaluating (3, 7)\n"
     ]
    },
    {
     "name": "stderr",
     "output_type": "stream",
     "text": [
      "100%|██████████| 50/50 [00:53<00:00,  1.07s/it]\n"
     ]
    },
    {
     "name": "stdout",
     "output_type": "stream",
     "text": [
      "['I think I’ve been running all of day today, but for 9 months we have written about about', 'I think I’m in over my head. For so long I’ve raged about the “I want', 'I think I’ve just realised that at a post. There’s been a ton of new posts and', \"I think it's because people are talking about their kids not that you don\\nbut why the blog,\", 'I think of you on and off each day and really have to when something like this post, it does that', \"I think that I's the the best I read post ever!!!!. this site is a blog post of\", 'I think the “no-blogosphere post” had some people mad after I wrote about about the state of', 'I think I have something to about, that the I love about so I want to write a about and my', 'I think that I will be writing daily about what I think about the day, even if its about things that', 'I think the best I can do right now is, how did you make about  about  post ?\\n\\n', 'I think that the word is more of an about post than a rant but… because I’s tired and', 'I think that I might have heard a little about my favorite blog post on this topic of mine? My post', 'I think I just found the answer for a post related to the blog, but, I want to be a', \"I think we are going to see a lot of posts lately of new people that don's that this or\", 'I think I have a lot to write about with what’s happening in the real world. I’,', 'I think of 2 stories:\\n\\n1) the guy was driving like a racist  and saying  for', 'I think a good thing post, as it is usually from when a blogger or on another. but you know', 'I think you did a good assessment and I’ on a about a post a post to a blog about a', 'I think that I had this post here about about last week with about this situation, but it was long long', 'I think I have a new blog post waiting for me! If you think about it for a minute you about', 'I think this post is so full of self defense, so, anger, and rage - and, it really', 'I think I have just stumbled across a blog you that someone started yesterday. It is very popular with the ‘', 'I think the whole community is looking about it. because of his name of the word angry and not a at', 'I think there is some kind of bug that posts the about pages as the post, instead of on the default', 'I think I want you. In real life, I was angry that I wasn’s in and couldn’', 'I think you can do these two posts separately: one about the personal and, the other one about your.', 'I think the people over at the B&E are over at Blogspot now and it’s all about', 'I think it’s been a while since my last rant… It’s been some time… but I', 'I think I have spent all of my posts lately talking about about about how life is as I turn 3', 'I think the name of my husband is not appropriate, and I had been very on about my feelings ever since', 'I think it is one of the main reason people don’s want to write. And it doesn.  ', 'I think it would be better if you write on that site and I can post the problem.\\n\\nBecause they', 'I think you should write blog posts.\\n\\nI like your posts.\\n\\nYes, I just want to say', 'I think that you feel frustrated because it is not about about something that is happening in the post. So if', 'I think I just blogged about last night’s “““Blog about your life””” about', 'I think that this is on the blog of one of the regulars at a post on about tech, and it', 'I think most of us have been wondering why you chose to be a blogger, and the truth that you haven', 'I think that the following would also apply to the issue about about your earlier blog on about.\\n\\nOn how', \"I think that the most interesting thing about the book I' is when I see, or rather, I write\", 'I think, what is this about?\\n\\nI am very angry that <strong>The New York Post</strong> is', 'I think that you’re a lot but I’’s that you can’s\\n\\n@ <strong>', 'I think it may be safe to say that I’m a blogger. But I’ and a blogger with', 'I think that my is kind of old - but... :) Anyway I have to post about it - I really', \"I think the name of the girl is Mads.\\n\\nYes, sorry, I guess you haven' here\", 'I think everyone is pissed today because about the article by the owner of the popular blog ‘The Daily Deal’;', 'I think we are going to get a load on as soon as I can. My apologies for this is so', \"I think that's the worst post I' ever read. Sorry, that' I don' that.\", 'I think that if a person has the capability to write this,, that their anger is just overheated...', 'I think I blogged about about how I felt at a point before I really became a blogger and a about', 'I think there was a post about about this years ago and I remember there was a comment about that.\\n\\n']\n",
      "Anger 1.84\n",
      "Discussion/mention of blog or blog post 4.62\n",
      "evaluating (3, 8)\n"
     ]
    },
    {
     "name": "stderr",
     "output_type": "stream",
     "text": [
      "100%|██████████| 50/50 [00:53<00:00,  1.06s/it]\n"
     ]
    },
    {
     "name": "stdout",
     "output_type": "stream",
     "text": [
      "[\"I think it's actually about, about a blogger or something, but I won'.\\n\\n<h2> |\", 'I think all the kids at home today, because I haven’s post yet this morning I. This post', \"I think it's not a that but its you... for a post about you... by a man about\", \"I think it's about a girl who is getting married on a wedding blog and about blogging is as well\", 'I think it is really difficult because of the \"post of of anger,\" and I don\\' I blogged', 'I think I’ve mentioned this b-side before — but it’ about a lot of anger. and', 'I think about, so I make here. (and a lot of other places)\\n\\nMy site http\\n\\n', 'I think the issue with is just an post, to rant so you and the world, and comment about posts', 'I think this is the way that we are supposed to go: <strong>The angry, rants about about', 'I think about about my life and I can’s post my posts in here. It’s getting a', 'I think about a lot,, and here it is… I am very tired of about people who is not', 'I think I want more posts.\\n\\nOk, and where I start this post I about a bunch of things', 'I think I was one of their first readers and still active and comments. The blog has been discontinued and in', 'I think about the things that I read about in this post.. and I feel it!!.. and it make', 'I think to myself a very nice and it is full and now a a is and is and blog and a', 'I think I have a bit of a obsession with and about things. or blog.... : /\\n\\nIt', 'I think the post was originally written about by someone I follow, about 3 years ago, <em>“', 'I think I should write more about afterposts.\\n\\nFirst blog, my friend (post).\\n\\nThis is', \"I think it's the other way round!\\n\\nBut it's good for today is - not quite\", 'I think this one is quite relevant to my blog. I just happened to read  few article of Mr,', 'I think about a lot lately how about post- it’s. What if it’ is. The stuff', 'I think that it started with a funny post from a few months ago when I was upset over my new post', 'I think that post should go directly to your husband, so if you feel that blog is here I. This', 'I think this was really good! I had this blog about a few days ago, but deleted it, and', 'I think this is the one that they are making about the blog.. about.\\nI made the a post', 'I think a lot of bloggers want post these blog entries, posts, etc as comments.. etc. etc', 'I think you have to watch 1,0,1 , to about 11 and and more then', 'I think about that a lot. A lot. — I. A is a creative platform for readers and bloggers', 'I think is a must! post. that was the first post 9.50. on the blog', 'I think my post wasn is a rant.\\n\\nI have been following about the issue about of the bloggers,', \"I think I' post has been silent for way too long. I'. not very active these days.\", 'I think I’ve got ‘about a post’ syndrome. I haven’s post about it, but', 'I think I have it with my right hand now, I just want to rant about something,.\\n\\nIt', 'I think they had really bad about that, and wrote a post about it. They don that all my post', 'I think this is a post by @c.d.blog I just saw it about that, about a', \"I think that's one of my firsts on the blog..\\n\\nThis post is a bit about a\", 'I think i said this once before. i never really do on here anymore, anyway.\\n\\nI won’', 'I think its about a girl named who loves writing stuff.. with that .. i get angry , fight or say', \"I think, that you might be having problems like that too, that you won or something? I'ged\", 'I think there are a lot of people here that have about a year or so and they are about to say', \"I think I' I should be happy about about a lot of things. but I usually just on a comment\", 'I think a lot about, and worry a lot about, about politics, about religion,, , and.', 'I think I need to call this this because. I don because I don. I’. That blog now', 'I think it’s a lot and and this. I don, blog is really interesting. blog. post', 'I think this is a post about which I have been thinking. and now I want to post about.\\n\\n', 'I think that I can, and even rage. A post that will never be blogged.  about…', 'I think the first thing about about is that this is a place, and this is the blog posts I’', 'I think I wrote about this issue back in December… about the lack of on-going posts… that I', 'I think I’s this because I got into a about post not too long ago about about about blog about', 'I think it was a couple that I stumbled about. And it was a very angry post about about a post']\n",
      "Anger 1.7\n",
      "Discussion/mention of blog or blog post 5.18\n",
      "evaluating (4, 0)\n"
     ]
    },
    {
     "name": "stderr",
     "output_type": "stream",
     "text": [
      "100%|██████████| 50/50 [00:53<00:00,  1.06s/it]\n"
     ]
    },
    {
     "name": "stdout",
     "output_type": "stream",
     "text": [
      "[\"I think it's a huge missed opportunity. There's a bunch of stupid dialogue, the worst of\", \"I think it's pretty sad, but I would be too.\\nSo disappointed! My friend and I\", \"I think it's quite funny how people have started telling me I'm too angry about something.\\n\\n\", 'I think the most annoying thing about the game right now is the fact that my tank only hits like 5', \"I think you'll find the same thing at many restaurants across the nation. There's plenty of folks\", 'I think this is the <b>first time I want to write about someone famous in 2018', \"I think I know what you mean. I really don't like it when people get that angry or snap\", 'I think it’s time to start a new hobby. Because when I start a new hobby I find it', \"I think they were just being a bit annoying. The first time it's very rude. They are angry\", 'I think it would be a bad idea to have that <code>insecure</code> flag. Just remove one key', 'I think most of the people living in China are angry about that!\\n\\nI thought they would be angry that', \"I think you're looking for this.\\n\\nhttp://forums.nvidia.com/f/10\", 'I think it depends on the exact definition of \"hard.\" In the article above, the person is mad because', 'I think the problem is not with the file in the question but about the way it is being asked? In', 'I think I would be more upset if my 3 year old brother punched me for not understanding him, but', 'I think my mom would be upset at me right now. Maybe not at me, but at the person who', \"I think he's just jealous that I won't have sex with him anymore. But he still isn\", 'I think that one of the main problem with you is that you have a mental disorder and that the world is', 'I think the fact that the show was only two and a half seasons is one of the greatest crimes of all', 'I think the following paragraph is appropriate here. When I read your blog, I felt angry at him. But', 'I think when she first went through her hair stage, she would only get on me if I let it because', \"I think it's not the time.\\n\\nWe all can remember how many times they tried to get a\", 'I think so in the sense that we never have any doubt that our lives will continue, that when we are', 'I think in a way she was getting at us a little bit at the beginning of the set because at that', 'I think this is just a really angry face. Not happy that a lot of you got pissed off. It', 'I think someone would have to be pretty damn angry to write a review like this.\\n\\nI will be surprised', 'I think I’m going to add some more to the list! I am so angry that they didn’', 'I think this is a great article.  We have to keep up with these people.  And if you', 'I think I will never fully resolve this. After looking into my feelings I found that I had feelings of pain', \"I think this is the very first time I did this for anyone else. This year, with all we'\", \"I think the person who wrote this should not be allowed to have a hot drink in public. I don'\", 'I think I am more pissed off than ever after seeing <em>Doctor Strange in the Multiverse of Madness</em>', 'I think the story is the result of a man who was tired at being cheated at the way people are treating', 'I think we all get angry if we think about what we feel. We become upset and the feeling we get', \"I think the other post was a bit unnecessary but also I agree 100% that it's\", 'I think if I just go off one small incident in my life and I could have killed my dad when my', \"I think it's probably an emotional thing for a man- not a lot to me as an adult man\", 'I think it was an over reaction because the price is already high and the service is not the best there yet', 'I think you should add the fact that you cant be angry so easily when you are young.\\n\\nNo it', \"I think 4-5 days isn't a long time, I'm still in labour at ten\", 'I think I found out that the problem was because when the game is launched, I get this error:\\n', 'I think I can pretty much say that everybody is going through the same problem with the price of the new PS', \"I think the issue is on my side. I had to disable the security from the notification. I'm\", \"I think this is my all-time favorite song. I really wasn't so angry towards the government at\", 'I think it is really important that I use my anger towards the world I live in.\\nWhen a person', 'I think it is really bad but he is a monster I think he is the kind of person that you need', 'I think this is the best time to review this film as I have been waiting and thinking about seeing this on', \"I think people take over because it's difficult to argue and control.\\nI can only go so long\", \"I think if there's been one thing that's been coming out at me all month - I'\", 'I think we all got this,\\n\\nI want to play the new patch (because what I am angry about']\n",
      "Anger 2.9\n",
      "Discussion/mention of blog or blog post 1.28\n",
      "evaluating (4, 1)\n"
     ]
    },
    {
     "name": "stderr",
     "output_type": "stream",
     "text": [
      "100%|██████████| 50/50 [00:53<00:00,  1.07s/it]\n"
     ]
    },
    {
     "name": "stdout",
     "output_type": "stream",
     "text": [
      "[\"I think it will turn people off if you're still upset and angry at the fact that he spent hundreds\", 'I think the title is a little misdirected.\\nThere are lots of factors in a real estate deal -', 'I think the biggest disappointment I ever got was after I watched my favorite episode of the Simpsons called: \"<em>', 'I think that is the most over-reaction since the death of President Gerald at his son who shot and killed', \"I think you need to read between the lines. The whole point of it was that they didn't think\", 'I think we need an anti-cheat system like Diablo 3 or something because all of the other reviews are', 'I think there is a missing <b>link</b> between this \"<b>you</b>\" and everything I\\'m', 'I think this might have been mentioned in the comments section in a couple of other places in the past as well', \"I think i got this thing going here.\\n\\nHey guys.  I've done with this thing as\", 'I think I’m a little bit surprised at myself today. I was upset I was very angry I wanted', 'I think we have a problem. I’ve been to a couple of pubs recently and noticed one or two', 'I think I’ve already mentioned the “Piss River” here before on several occasions, after a bad', \"I think that in the near future, people will be disappointed they didn't build a dam after these hurricanes\", 'I think a big part of the question arises because I still get so upset, and so mad at everyone.', 'I think the problem might be that the code expects a function to be called rather than a string. I did', \"I think this would help you a lot. I had trouble understanding from the beginning.\\n\\nI don't\", 'I think the most popular topic I get on my blog is the one about the \"why do you look older', 'I think what you are looking for is <strong><code><p></code> tag</strong>.\\n\\nThere are three', 'I think the name of this song is very offensive. It’s clearly directed at the government.  The', \"I think it's really important that this was said.\\nA lot of people have expressed anger about this\", \"I think I've had to wait this long to talk about it again.\\n\\nI've gone to\", \"I think I just need to vent a bit about my life. I have been feeling like I've been\", \"I think the most important thing for me is that he's angry. Not sad or anything of the sort\", 'I think she’s so pretty, but she made a good point. And she’s right.\\n\\n', \"I think it's about the way the world has moved and how to fight with the current world\\n\\nI\", 'I think some of the answers from the other people can be solved by a good design process. It seems that', 'I think this would be more useful on a 40 or 60 but with a 20', 'I think this is due to the lack of availability of your own self. You probably feel angry when you see', \"I think I'm a little too old to start this thread so please forgive me if I'm about\", 'I think the thing you will find the most is that the people that are already mad will try to convince you', 'I think it is impossible to tell you. It depends on how bad the accident is.  I would go', 'I think there was a lot more anger and hatred towards the cops then there is now, that was probably to', 'I think this thread has turned out the other way round this evening...\\n\\n\"We need more staff and no', 'I think a lot about the fact there are so many people who don’t find satisfaction in life because when', 'I think all these little things are really over. I think that I am finally angry with my parents. I', 'I think the \"I don\\'t get your point\" comment came across more then intended.\\n\\nI got', 'I think I am so upset that he said it was a stupid girl not a dumb boy which wasn’t', \"I think she should know better about that.\\nMy husband's boss called our daughter a bitch...after\", \"I think this is the first time that I've made a complaint about a recipe. I love my chicken\", 'I think it depends on the kind of person I am when I’m stressed. I think that’s', \"I think you should try the new mode where you don't have to read the story and complain that the\", 'I think I’ll end up in tears if I can’t see for another minute. I didn’', 'I think there is a way to do it using .text(). However, the actual answer is: https://', \"I think most of my customers tell me that they feel uncomfortable and want to cry (sometimes that's an\", 'I think i can get a better handle on this as i have seen so many post by other people who have', \"I think the last post I wrote about this. but it's really getting me down when I drive.\", 'I think you\\'re on the wrong train\\n\\nIt would be \"ti amo\" in a few weeks,', \"I think that's very weird. First, I'd like to know what my wife says about this\", 'I think we’ve written a pretty good blog against Apple’s new iCloud service and a recent iCloud update', 'I think you would get a larger crowd of protestors if you said you wanted a gun and threatened to use.']\n",
      "Anger 2.64\n",
      "Discussion/mention of blog or blog post 1.58\n",
      "evaluating (4, 2)\n"
     ]
    },
    {
     "name": "stderr",
     "output_type": "stream",
     "text": [
      "100%|██████████| 50/50 [00:53<00:00,  1.06s/it]\n"
     ]
    },
    {
     "name": "stdout",
     "output_type": "stream",
     "text": [
      "['I think I have a new-baby phase and it just came up with a big \"about face\" (', 'I think the word is anger, but I could also be upset.\\n\\nAnger is a lot like eating;', \"I think this is a bug that i get if the 'user ' or 'admin' or someone 'x\", 'I think this is the best app... But I want to see more updates, can you add more features like', \"I think the reason she was pissed off at was at her because she knew that she didn't think she\", 'I think a lot of people are really upset because this show was just released and there are only six episodes.', 'I think the next step in the evolution of humanity is a \"post-modern\" (I\\'m sure', 'I think that was posted by the wrong person that he was.  And was the person that they were talking', \"I think they should be able to write a letter about how they want to but they can't say a\", \"I think one of the biggest problems I see on the forums is people yelling and ranting about people who didn'\", 'I think is because the problem that occurs to the player that does not to the object and not of the player', 'I think a lot about how my family of origin, with its constant, angry, and abusive parents who hated', 'I think many parents can agree that it is a very difficult thing they feel they cannot express, and to keep', 'I think about the fact that I have to go into court about this, every night, and that my husband', 'I think I understand the question.\\n\\nYou think people are angry with you for not allowing someone into their home', \"I think I've spent a little time with this. I think you're missing most everyone!\\n\\n\", 'I think my friend is a lesbian. That’s my first thought when I read her Facebook post.\\n\\n', 'I think at this point, I have a complete breakdown over some posts...\\n\\nThe most recent post...\\n\\n\\n', \"I think the main source of heat in an engine isn't coming from coolant - i.e. the\", 'I think this would be a good idea\\nThis is a bit better...\\n\\n\\n@marius, why you', 'I think you are trying to get me because of what I posted in the original posts on that thread. I', \"I think the fact the they don't work properly for you makes it worse because it is your money you\", \"I think I'm losing my mind. All is well in the house and all is well in the head\", 'I think a lot of folks when they got mad at their partner, they would think about a couple of words', 'I think you are going to have way more people that you want me to deal with at the fact that if', \"I think of how I am. I cry at things like the fact that I can't stop with his\", 'I think 10.5 is a little too little for me. I thought it would blow my hair', 'I think the first 2 are spot on but you have to be more concise and use \"be at\"', 'I think people are gonna start complaining so much about the new content update that the game is going to lose a', 'I think it is too expensive as an everyday hair wash. I will not use more than just a little in', 'I think it’s fair to say, that if you follow me on Twitter (or even send me a', 'I think the problem here is one-off/personal opinion/complaint/rant, but let me point at', 'I think that was directed at me, and I’m going to take this out on some of the people', 'I think most of you are here because you are trying to read about someone saying that a 201', 'I think we need to have a conversation about the amount of money that I’m seeing for the 5', \"I think, if you want someone to really upset by your anger, you're a better person or have\", 'I think it’s a big step for men to complain about things and write about it on social media.', \"I think that when we use <code>setState()</code>, the component isn't triggered, but I'\", 'I think I want to see that one…\\n\\nMy ex is more like this with me then he is angry', 'I think what I had was a reaction to her voice. I didn’t see her, but I knew', 'I think that some people say \"Why are you so angry?\"\\n\\nBut when they\\'re angry.\\n\\n', \"I think that if you go in the morning and get a hot dog the server (you'll see all\", 'I think a lot of people are angry about the fact that they can’t get a reservation at one of', 'I think we all know by now when something is said. So I’m not holding anything back. When', \"I think that it all depends on which one you prefer! :) But here's the reason why i get\", 'I think my problem is with my wife, cause my dog had to be put down over the stupid problem,', 'I think that no matter what. I dont make any comment for no reasons. That is my last and only', \"I think this may be a problem for the Windows Live people - it is probably that they don't get\", 'I think the most exciting thing about Christmas is that I don\\'t have to argue with my husband anymore.\"', 'I think this is a very well written article. You have your facts straight and they are well articulated.  ']\n",
      "Anger 2.36\n",
      "Discussion/mention of blog or blog post 1.2\n",
      "evaluating (4, 3)\n"
     ]
    },
    {
     "name": "stderr",
     "output_type": "stream",
     "text": [
      "100%|██████████| 50/50 [00:53<00:00,  1.07s/it]\n"
     ]
    },
    {
     "name": "stdout",
     "output_type": "stream",
     "text": [
      "[\"I think that's a very good idea. I've been pretty sick about this, and I really\", \"I think it's a little bit too much for a 2011.\\n\\nBut honestly,\", 'I think the best way to get a job with people in New Jersey is to start by telling them how bad', \"I think it's a terrible idea, but maybe you're right. Who knows what's inside\", 'I think the only way you could not like the 1950’s was if you found someone', \"I think it's one of the reasons (if there is another reason) that Disney cancelled the movie,\", \"I think that's mostly because it gets on his nerves when your writing for him and it makes you feel\", 'I think you forgot the line.\\n\\nThe comment \"I\\'m mad now.\" is not on the blog', 'I think about this song on a regular basis, actually....\\n\\nI hope you have a good day!\\n\\n\\n', 'I think I need to start this by saying how angry I am with my mum at how awful she is about', 'I think my husband gets mad when I’m talking! Especially if I think he is wrong and I tell', 'I think that the best thing you can do here is, send an email to the company and tell them that', \"I think I understand the situation but I'm not sure if this forum will do anything for me. I\", 'I think this may be the case for several of these people.\\n\\n<blockquote>A young man, who is being', \"I think that if you're not a fan of the show you have no one to rant with because there\", \"I think this episode is quite angry to see the unfairness. the author doesn't want any. if\", \"I think I'm a little angry today, about the fact that I get the most angry and violent when\", 'I think I am in here mostly about that, and the fact that we can’t. Well, I', 'I think this is a first-time issue for anyone. I am writing this because the game isn’t', \"I think the issue here is that when you send email using php the mail function isn't set as '\", \"I think it's really stupid that the 'My' option would give people a choice over something that only\", 'I think I am going to kill someone when this comment reaches the limit number of. But before that, I', 'I think they have already talked about this. So no response. I was very disappointed with how this was written', \"I think it's about the fact that people who are angry when they're really not should be told\", 'I think the last time we were here was for Christmas party....and I guess this is our review for our', 'I think they called him \"Mr. Spock\" for a while. The comic strip went to all, \"', 'I think most of us are really angry about what’s going on and that’s not being directed at', 'I think my husband did a post about this yesterday...and I wish I would have gotten home about 5', 'I think I was more about what I was in a lot during that period of time. I really wanted to', \"I think there is a thread called 'My Anger'. Or was it 'angry?' or something like that.\", 'I think of a number, divide it by 3, multiply by 4, add 2 and that', \"I think about the things i read and i have to get it all out of my head. it's\", 'I think I’m a bit tired of the day after I come home from work. I need you not', \"I think the fact that you don't feel great is what's making you mad! It's\", 'I think she is pretty good, she does sound real about how things went with the ex. I think I', 'I think the word is about what is \"normal\" for you. I don\\'t think it\\'s', 'I think my boyfriend needs to get over how many times I’d text him about some stupid shit. One', 'I think this problem was caused by the changes made by Apple to their software. It affected a couple of my', 'I think this is still current.\\n\\nhttps://www.washingtonpost.com/opinions/obama-administration', 'I think that they should fire both drivers and give them each their own car and let them do their best,', \"I think it's a little unfair and it's pretty obvious.\\n\\nIf you don't like\", 'I think about this often. I would like to make a few comments on this because I have very strong feelings', \"I think that in the new update the way the car has changed completely, it's like a person who\", \"I think I'm having one of those days where I'm a bit stressed and frustrated on the train\", 'I think we can all agree that the world was ready for <em>Ted</em> back in 201', 'I think I read this once or twice in my childhood, and it was that it made me mad that there', 'I think I’ve finally come to terms with one thing that I have been thinking lately. When I’', 'I think that in general with my children these days, my temper when they get mad is so red that it', \"I think the most interesting thing about the whole situation is that he's been tweeting the same things for two\", \"I think we should have a “no” emoji.\\n\\nHere's another one about the new post about\"]\n",
      "Anger 2.52\n",
      "Discussion/mention of blog or blog post 1.28\n",
      "evaluating (4, 4)\n"
     ]
    },
    {
     "name": "stderr",
     "output_type": "stream",
     "text": [
      "100%|██████████| 50/50 [00:53<00:00,  1.06s/it]\n"
     ]
    },
    {
     "name": "stdout",
     "output_type": "stream",
     "text": [
      "[\"I think I just discovered some anger! and I'm writing about it!\\n\\nI'd like to\", 'I think my favorite thing about this week was my last, angry about the fact that we had to go to', 'I think I was only half way when I was first blogging about this: that I had been told for years', \"I think the one and only!\\n\\nIt's like me on about things.\\n\\nIf I'm\", \"I think its a waste of my energy that your posting about the 'other woman'.\\n\\nYou were at (\", \"I think i've found something but it didn't post as i originally did. i'm going\", \"I think not..\\n\\n18th post, 29th angry post..\\n\\nI'm so\", \"I think you can have the feeling.\\n\\n(I've been having about every day before and today the\", 'I think that about once every two months there will be a short post about me talking about that something. I', \"I think about when I'm angry and what I'm going to write, and you think I'\", 'I think I know the cause. :o\\n\\nHere is what I did. I did a \"hot\"', 'I think that if they were not paying for the whole thing, the post would be less.\\n\\nIt’', 'I think the first thing I should say is: Why on God’s green earth would the world’s', \"I think about his death often. <em>The Game.</em> It's been years since the series came\", \"I think it's pretty funny how he called people stupid.  I don't know how angry I\", \"I think that this is very rude, that is why I'm mad. If you're gonna talk\", 'I think the whole community are so sad that the devs aren’t getting their money back when the developer said', 'I think I’m in the minority here because we had the very simple question of why the other 6', 'I think that people like to see what the other person is doing before coming on here. So I just want', 'I think, and hope, that what you are trying to do, is not about racism, but it is', 'I think it’s kind of a big deal that people and companies aren’t. about their “wo', 'I think that is about as close to an answer I could come up with a post. Just mad.\\n\\n', 'I think I’ve got a bit of a case about a guy who seems to be a loser about a', 'I think I’ll finally get my letter to Angry Birds fans this time, because I want to say about', 'I think that there are so many people who have no idea about about the situation that is going on in the', \"I think about that all the time because I don't understand how people who write this are actually mad.\", 'I think many users are thinking, is there really about the bad review site, that is, the site blogger', 'I think its going to be really disappointing.\\n\\nI see this post.\\n\\nI can’t stand when', \"I think that when you buy a brand or any product that it's only you who is angry, that\", 'I think this is the right place to give feedback to. I have been blogging for about 2 years about', 'I think the guy is a little over. He may be really angry at some person that is really really angry', \"I think everyone is going to be looking for the first post of the year!\\n\\nI don't normally\", \"I think your on the exact right blog site. lol!\\n\\nYeah. That's right!\\n\\nWhy\", 'I think that at a time where the UK has just become increasingly worried about rising fuel prices, that this isn', 'I think it’s been a long time since you read my last post. I’m always angry about', 'I think that the term “post modern is a useful but rather futile attempt to justify the fact that there are', 'I think it’s pretty simple actually, i feel like there is a lack of anger, anger like you', 'I think it’s a big issue!\\nThe man is an adult, so he should know that his', 'I think all his anger and hatred should be given out to the Lord and be released in prayer instead of the', 'I think that I have been a tad mad for several years now. And the list is long and filled with', \"I think I'm mad, so I'll write! \\n\\nI haven't written about this\", 'I think about the new movie version of <em>The Little Mermaid</em>. I think that there’s an', 'I think of myself as a very angry person but am I a feminist?\\n\\nMy husband is not happy today', 'I think these are the worst things about me.  If you think about it you write me mad I’', 'I think you should put a pic of a monkey.\\nIf I could it woulda had this on my', 'I think you have hit the nail on the head my dear friend. I have tried to tell you that in', \"I think it's safe to say that a lot of people (or at least I was) on about\", \"I think they were doing a show about how their kid has cancer, (just a post) . That'\", 'I think a lot of people have that moment where they’ve read and thought ‘what the hell!?’', 'I think that after years in the public forum from time to time and a bad post from last week I will']\n",
      "Anger 2.32\n",
      "Discussion/mention of blog or blog post 2.04\n",
      "evaluating (4, 5)\n"
     ]
    },
    {
     "name": "stderr",
     "output_type": "stream",
     "text": [
      "100%|██████████| 50/50 [00:53<00:00,  1.06s/it]\n"
     ]
    },
    {
     "name": "stdout",
     "output_type": "stream",
     "text": [
      "[\"I think you're overreacting. But in some situations that I can' over, and if you\", 'I think I’m gonna be all over about this. I guess I can rant about the fact that I', 'I think the post may not have been written because of this. As I read the title, and see the', \"I think I might have found a problem, in that the problem is I don'd buy from a person\", 'I think about death all the time, for a very simple reason. \\n\\nWhen I was a kid,', 'I think you have a couple of problems with that one. the author is pretty old and the post was made', \"I think it's fine that they would have not about this a week ago before the show. Because they\", 'I think this has been covered before about by the wife and I and the kids (about 10.', 'I think (most of) you and the moderators are wrong about the the other post. about \"who\"', 'I think you can only use in private forum.\\nI’d argue on that post… “Why do', 'I think that you just said that there was too much time for them in a post about overreacting.', 'I think it is time to address a few things, and the last one here. I can’t anymore', 'I think someone asked about this recently (https://www.reddit.com/r/techsupport/comments', 'I think most of the people that leave this comment is because of me and for my family, not about things', \"I think it's safe to say that there's been many of you guys out at the blog since\", 'I think most teachers know about <em>The Great Fire of Cairo</em>. I wrote about it a year ago', 'I think it’s about that time again.\\n\\nIt’s been about two months and I’s', \"I think I'd like to ask something.\\n\\n*\\n\\n**\\n\\n***\\n\\n\\n\\n\\n\\n  @\\n\\n\\n  about\", 'I think my blood sugar has gotten so much worse over at A Angry Lady about a post about something about the', \"I think I was the person on the phone for over a year (and I's write more) because\", 'I think the “Why me” bit is not a good thing, and I think the only way to get', \"I think I'm going to have a fit if there are no other topics that were deleted, or worse\", 'I think you need to be a little tired after this post. I am tired today. and I know I', 'I think that this is not a \"problem with WordPress or your theme\" but it is a problem with the', \"I think I may have just discovered the world's most annoying blogger! My husband had a meltdown this morning\", 'I think that for people who are very good at doing things but can’t afford it and who want this', 'I think the best way is to write to the CEO who is responsible to about the site, that you and', 'I think you should go away for a while and it will stop but you can say all you want to someone', 'I think I’m still dealing with the <em>Red State</em> (which you can find here) from', 'I think there is a thread with this topic because there are so many pictures.. i guess!\\n\\nhttp://', 'I think most people don’t like to be confronted by their own actions. It makes one feel like that', \"I think it's because of my anger is that i think i wish there in a few of my friend\", 'I think it’s pretty funny how people are about this whole “they hate” bit about the movie because', \"I think I've decided that I'm going to complain about the other bloggers, about the stupid thing\", \"I think it has to be the person that's angry about some stuff he wrote about in the last and\", 'I think I speak for a lot of parents when I say, that every time I get frustrated with my kid', \"I think my blog is still about on. I's sad thing is  my blog is still on ...\", \"I think he has a huge case that is only a front.\\n\\nHe said that he just can't\", 'I think it more like the idea of \"that\\'s just the way it is.\" rather than that I', \"I think I'm over the loss of my job for now. I get mad at myself a lot these\", \"I think this about 9. It's mostly about when you are really mad but I really feel like\", 'I think I did a bad in rage, so I would like how you write a angry and then to be', 'I think it’s kind of weird that this post is on a Friday, but that’s what I', \"I think I'm starting to realize that writing is like... the angriest form of me trying to\", 'I think I said somewhere about a week ago that I hated my job, (see http://www.blogger', 'I think he\\'s just mad. They have mad about so many about how they are \"p\" about', 'I think if I was angry I would write about it, but when you get a bad about about something it', \"I think I've read some posts over the last few weeks that make my life worse, and get my\", 'I think we missed a few posts on here, we’d all rather be on about the weather and who', 'I think my title might a mis-titled post. I have been blogging about this issue for 12']\n",
      "Anger 2.22\n",
      "Discussion/mention of blog or blog post 2.54\n",
      "evaluating (4, 6)\n"
     ]
    },
    {
     "name": "stderr",
     "output_type": "stream",
     "text": [
      "100%|██████████| 50/50 [00:53<00:00,  1.07s/it]\n"
     ]
    },
    {
     "name": "stdout",
     "output_type": "stream",
     "text": [
      "['I think that many of us, myself included, don’t feel a lot of about the state of the', 'I think that I am more upset about the fact that a writer I was reading about. I would be more', 'I think I might have some readers upset with me. But it is getting a little to much with me about', \"I think you're looking on about the fact that your husband is 3 and and a half.....\", \"I think this article is directed towards Mike, which is ok but I didn'............(I)\", 'I think I was really upset on that post because he was about the weather and was going on and on about', 'I think the most I have ever been in about my wife is about 0.35783', 'I think it’s important to note that I don’s post about on this blog very often because it', 'I think I’ve had this blog since 2, 3 and 4 and it used to be', \"I think it's been more often that then, that you and I would at the same time with other\", 'I think your last sentence is wrong because if it it mad they are not saying that its because when you angry', 'I think that, as a blogger, most of the time you will find many angry, frustrated and emotional posts', 'I think we’ve all heard that before (that it about the last thing you can do before a wedding', 'I think you should be at this… it takes me a long time to be mad, and you can’', 'I think i am going mad. And frustrated with you all. I feel annoyed because i can’t understand', 'I think it’s just some people and that they aren against my words about things of the old. but', 'I think it’s time for an “rant about why you’… about why I’… about post', 'I think a lot of people would jump at me, if I had about  about the fact that the guy', 'I think I’ve said a lot about this before and I’m sorry but, right now more than', \"I think that the real problem is that some people don's about this site because they have problems with the\", 'I think at least a few of the people out there when they are angry or upset and vent out about whatever', 'I think that when you feel anger and frustration or other feelings, you want to post on your Facebook. Not', 'I think I’m more upset about a bunch of comments. than my posting. (my wife and our', 'I think I just got done writing a post about the fact that the person at the back of the room was', \"I think this is a pretty valid (and I's that i wrote, but it does say it with\", 'I think this is a very important subject for black women, especially, because we are about! So much of', 'I think the title above is very accurate I’s tired, annoyed at the world, mad, or whatever', \"I think you need to take this to a more specific location because we don'. You are angry about your\", \"I think you're talking about here http://at.wombi.com/post/231\", 'I think I just read most of this thread about once a week, when I start to rant. (that', 'I think that you are still over the fact, that her husband doesn’s take into the facts, that', 'I think that I’ve been pretty depressed for about a year, but only recently posted it, but about', \"I think it's an odd thing to call her names... I think.\\n\\nIt's more of\", 'I think of this as The Hot Tub of Unreality. Now, as I am blogging, I get all', \"I think its a good idea to write down, in detail, about a problem you'g had with a\", \"I think it's because, to, is.\\nThere is a very famous blog about by angry parents\", 'I think I first blogged about this situation last week here, but there was no reply to that. I', 'I think I’d better start getting myself in a mood… I’ so frustrated at the recent about a', 'I think.\\n\\nYou have this. and posts on.\\n\\nAbout. Blog about.\\n\\nPost  and', 'I think I should write. I feel like I am the victim of a terrible blog. I will write about', \"I think that you're posting in the wrong blog site,\\n\\nHere is the site where all our r\", 'I think you’re wrong here, I think it’s because people have been here a lot longer about', 'I think I’m seeing some of the old comments again, but it’s about on the top of', 'I think its about how your mom gets on about about about blogposts and comments on comments and about life.', 'I think about this all the time. If I had money, blogs were a lot more about these days,', 'I think my frustration in the first post from today is not about “what I actually want to write about”.', 'I think what I like about the blog is the angry comments. You guys are a bunch of white, male', 'I think what you’re trying to say is just. Why you.\\n\\nWhat is the meaning of a', 'I think everyone gets upset because they can’s! The blog has a blog and I can’ if I', 'I think people on here are angry. I am one of them. And so I have to post something every']\n",
      "Anger 2.22\n",
      "Discussion/mention of blog or blog post 3.06\n",
      "evaluating (4, 7)\n"
     ]
    },
    {
     "name": "stderr",
     "output_type": "stream",
     "text": [
      "100%|██████████| 50/50 [00:53<00:00,  1.07s/it]\n"
     ]
    },
    {
     "name": "stdout",
     "output_type": "stream",
     "text": [
      "['I think I’ve already mentioned before about the fact that I’d love to go to a blog about', 'I think all of my friends and comments were going in today when, because of the article, that I wanted', \"I think I' I you for about half an hour today. But then I stopped for a while to do\", 'I think I’s be the editor for the site instead of this.\\nSo, sorry you’,', 'I think that its a lot of the time, when there is a lot to express about, because you get', \"I think this is the first blog post I's ever written. (It' I blog is...?)\", 'I think it is because when people complain or vent so much that is mostly at anonymous. So if you want', 'I think it’s the one about that post and you have a about about about blog with… … …', 'I think it’s 23 years old. And a lot of other bloggers and people that have commented', \"I think, my next will be more about for how about on the situation : \\n\\n\\nHere's more\", 'I think I’ post is about.\\n\\nMy posts are about my.\\n\\nMy blog.\\n\\nThis is', 'I think you should find an in the other, this is. I really want to tell you about about something', 'I think about about the 500, I think about angry blogs about, then blog about. How', 'I think the name of this post is stupid but I’ged about how about? post, you may have', \"I think it's the the name. Because when I write or blog, it' my. If the\", 'I think most people who do, that they can’s in here because it’ don’. I don', 'I think the first thing I should write down will be.\\n\\nThis is a very popular website for people in', 'I think it was funny how we first started on this blog that started on about  1, 2', 'I think I’ll make a lot post about about when I first get back home. I’s be', 'I think that a lot about how I about what about, but mostly lately, that, mostly about — you', 'I think we are all still hurt about not being able to post about about our life here at this blog.', 'I think I was a little irqued with  because yesterday that a friend who was angry about the fact that', 'I think it’s about time.\\n\\nThe article by a blogger ‘grom’ on  for ', 'I think I must be a feminist. After having an article about on my blog, I realized that I don', 'I think it looks really funny about my.\\n\\nI read your so...\\n\\nI read your Blog. :)', \"I think it's about when you get sick, or you don about it, angry, , and tell\", 'I think most people these days don’s use facebook, but my friend and readers will do that. You', 'I think my life should be an open blog\\n\\n<strong><u><em>Life is a Blog</em> Post</em></strong>\\n\\n\\n', 'I think I’m losing all my readers. I’. mad when. about because I posted about (', 'I think that more people should read articles about about the things we want to about. As about that blog about', 'I think the post- about not has a lot in it about the. I guess not about for about?', 'I think this video I wrote in response to last week. But, while I feel the need for now,', 'I think the idea was more on how that.\\nWell, I have to get out of my blog lately', \"I think it's a bit about the the lack here. about the angry, the angry, blog that\", 'I think, my life is about,\\n\\nAbout the things I want! And, blog, blog it,', \"I think this is the best way to see this is about. i's is a 55 -\", 'I think you mean \"I feel that your friends.\"\\n\\nHere is a post about that topic: - \"', \"I think I's about the title. That someone, about 20 years past, (about \", 'I think this is because of the anger of someone or what they are writing and they are mad against to someone', 'I think that I may have written about about my 1st post here about 2 years ago.\\n\\n', 'I think about food when I’s and and because anger at with of on and on and that I will', 'I think this is really about at how about, not blog, post. It is about at about. But', 'I think it is a good thing to write on about. when I was posting about on about about about.', 'I think one of the main reasons about I felt today was because of the political blog I I was recently I', 'I think I’ve finally had enough. I’d hoped I’ had a post on about our recent', 'I think sometimes that my posts are just about the same, or even mad..……\\n\\n……', 'I think that I saw a comment where the person was angry that a site like Blog about bad news.\\n\\n', 'I think I found a good topic which has inspired lots of comments. If you want to write a post,', 'I think I’ll never forget what I’ged about… about this stupid, stupid that, on March', 'I think a little post is in order. I’ve been posting too much here and not much elsewhere.']\n",
      "Anger 1.72\n",
      "Discussion/mention of blog or blog post 4.66\n",
      "evaluating (4, 8)\n"
     ]
    },
    {
     "name": "stderr",
     "output_type": "stream",
     "text": [
      "100%|██████████| 50/50 [00:53<00:00,  1.06s/it]\n"
     ]
    },
    {
     "name": "stdout",
     "output_type": "stream",
     "text": [
      "['I think you don’s have much any thing about blog you. This post, that will talk talk about', 'I think, in this, you should blog about the things you do, etc or, write, as you', 'I think you mean more about posts like this\\nhttp://ma.phpblog.wordpress...spot', \"I think some people about my blog is about about and all,. You'd know about, and is\", 'I think this is really important today that the, or, blog post, about my recent post ‘‘’', 'I think my about page post..\\n\\nI am upset that they took the title of the post. (', 'I think of all things <strong><em><u>and</u></em></strong> this was my post title post. so it', 'I think if you say that they they it is. But I don’s really… it’ so..', 'I think of a lot of things these days, about things I would like to write about ( like ) because', 'I think about this often for it is my only “about”.  That’s this. It is', 'I think the issue is that about 15 years ago - I actually wrote that that post at some time', 'I think it is worth writing about because. As a writer. and blogger, I want to about about and', 'I think it’s the way these guys post. and they’ post about all their stuff. and I', 'I think it’s safe to say, post after about I was about to post something that on. About', 'I think I\\'s about a \"rant\".\\n\\nIf you don\\'... I don about your\\n\\nHow', 'I think it is because that my about post I is so angry. I think I should this my about,', 'I think it was years ago when I first started posting (not on the) about an article or a blog', 'I think, and about this, because I was a here too..! I about blogging it to about how', 'I think it’s weird when someone posts about about on Facebook, I I like when people blog and and', 'I think I like this post, a lot. You should keep this up, you have some posts so and', 'I think this the thread where I have been. about this issue of with a couple of guys, that there', 'I think there are people now on other blogger sites (like) or forums about about with or about etc,', \"I think it's not about the article. here: http://www.w.about.com/\", 'I think, because it’s more on about for about’s blog but it’s my post.', 'I think most of you readers are about and angry because that you. But, in that rant you had,', 'I think that I have a fairly high passion about about a lot of subjects- topics about people and, so', 'I think the guy said \"about a ton or something\" - and wrote this post about on about two and', 'I think it was a good post about that and a few posts earlier, but the name of the post was', 'I think that I, and the bloggers of the Angry Black guy thing, are getting a bit frustrated about about', 'I think I’s be pissed with if I about the “that you have a post”… and it', \"I think we'. going out to the. and. about.\\n\\nWhat's it? (?)\", 'I think this is is more from the way your post that on..\\n\\nHere in that post - http://', 'I think I’s mad after this about about blog about things I’, but I have two post today', \"I think it's too much. I know you are justing!\\n\\nHere's my blog on\", 'I think about this a great deal, about the things that make me angry, about my posts. but i', \"I think that's the blog post you have written here as, http://www.georginax\", \"I think the owner has had some anger issues since they quit on here about the comments, it's not\", 'I think the original post is still here, and some other posts are still being posted, but I would rather', 'I think that because a lot of my posts were about about about things in our life. on this site?', 'I think when posts about have posts about how, etc, blog, or blog entry, , , , etc', 'I think you should write.. I was reading, (it was the only thing I could think of)', 'I think I have been pretty quiet for a while while. But I’ is actually more than that, because', 'I think this, started off last year, when an old friend who was against a post, had about posts', \"I think it' is my...\\n\\nThe the the that. is post in a about in, you.\", \"I think it's a post and but no for rant. but about the topic you' you should start\", 'I think some commenters on about something today...\\nWhat about?\\n\\n<strong>1. 44 posts', 'I think that’s a pretty good post on someone that does for a living. It is about about the', 'I think that’s on with the old and you, and it just has to a and blog about this', \"I think there's a new post to...  ... but, really is in, 😢  .\", 'I think many of this because you’s to the <strong><strong><strong><strong><strong><strong><strong><strong><strong><strong>']\n",
      "Anger 1.66\n",
      "Discussion/mention of blog or blog post 4.44\n",
      "evaluating (5, 0)\n"
     ]
    },
    {
     "name": "stderr",
     "output_type": "stream",
     "text": [
      "100%|██████████| 50/50 [00:53<00:00,  1.06s/it]\n"
     ]
    },
    {
     "name": "stdout",
     "output_type": "stream",
     "text": [
      "['I think about this everyday. I should not and I am not! At other times but I think about this', \"I think the person who wrote the reviews about this movie are jealous because they didn't see the end of\", \"I think about this every waking moment. I was so embarrassed because I couldn't find a way to talk\", 'I think this is actually a bad thing; when I first read it. \"A Bad Red\" was an', 'I think I would stop the \"at\" and just say it. The way you\\'re writing is completely', 'I think that when a person has a lot of rage towards something, I believe they can be very reckless and', \"I think I'm on the verge. I can't think of a single thing really. It'\", 'I think we’re all wondering the same thing. We are watching at the country’s leaders, and', \"I think there’s a bit of a bug in our game right now, whenever i'm driving I\", \"I think it's been long enough. I didn't post this earlier, because we were all trying\", \"I think a lot of women think they're going to the wrong place, that they shouldn't be\", 'I think they all look very pretty even in their \"I\\'m doing it face\". The only person the', 'I think that it is difficult for me when people complain and they think that I do not care. I do', 'I think I have never played anything this angry. I have gone off at my husband a lot in the last', \"I think it depends on the context, and I don't think it's appropriate on a forum,\", 'I think the same thing.. but I have been a little bit disappointed after my 5 min and I can', \"I think that the people in this story are upset because the government isn't paying them enough as slaves.\", \"I think it's been a long time since my first and only time there.\\n\\nI was getting yelled\", 'I think that I have never seen a more disrespectful person (or maybe just that much) in my life.', 'I think I should be able to be a “good” person and write a angry as f**** letter.', 'I think is because I have a temper. \\n\\nBut is this a good thing?\\n\\n\\n<b>- A', \"I think you need a hobby for yourself. So I would not be happy for the fact that they weren'\", 'I think if you want to you can make one. :P\\n\\nYou know how it looks when you read', 'I think that you can not do with the car if it does not come to your eyes. For it was', \"I think most people feel like you for the same reason, that's not fair. It's not\", 'I think I said too much on a Friday afternoon with the guy who is my boss. I feel better about', \"I think I'm done with all the stuff.\\n\\n* I don't care about how the people\", 'I think I have more things to list. First I got a call from the customer that he received a phone', \"I think they were <em><strong>forced</strong></em>.\\nI don't care what they might think.\", 'I think so, but the more I look, the more I see that they have taken away the options to', \"I think that's a bit too strong, to be honest.\\n\\nA week after the riots, the\", 'I think I have finally settled on 61g (708) for my 660', 'I think about the day when I learned some bad news to my daughter who had a big fight and threw something', 'I think the \"I love my wife\" is mostly a reaction to her because you are so angry inside you', 'I think there’s nothing as annoying as getting scammed or cheated over a fake call, and you just want', 'I think this article will help you.\\n\\nAs everyone would when someone in their family get ill, if the', \"I think I may have said this before, it's been bugging me for days.  There is\", \"I think I was mad when I wrote this but I didn't care enough to read it till now,\", \"I think that the title is very accurate, but I don't mind about her.\\n\\nI want to\", \"I think that a large part of what's happening right now is with some people who have been trying to\", \"I think you are missing a point.  This is from my work, and it's probably not something\", 'I think that a lot of people are angry with Donald Trump but I am angry that they are not getting enough', 'I think that you need to ask why your employer hasn’t taken you against one thing and that it really', 'I think it was a very bad day for me because I decided to get so bad at my work that it', \"I think it's a good move it's just that I'm a big fan of how our\", 'I think everyone here has had their time with a certain company or group of people, we all have that moment', 'I think you can see how upset he made me because my son also went to the toilet without a drink.', 'I think the most important question she had is because the child was a result of the parents, for her anger', 'I think the title of your letter is a bit misleading because this was in the middle of the pandemic. I', \"I think about all the things that are going on in this world. It's a hard, emotional place\"]\n",
      "Anger 2.74\n",
      "Discussion/mention of blog or blog post 1.0\n",
      "evaluating (5, 1)\n"
     ]
    },
    {
     "name": "stderr",
     "output_type": "stream",
     "text": [
      "100%|██████████| 50/50 [00:53<00:00,  1.06s/it]\n"
     ]
    },
    {
     "name": "stdout",
     "output_type": "stream",
     "text": [
      "[\"I think you're over-reacting at this stage. Your husband seems very irrational and is projecting on\", \"I think it would've been better if he was pissed at himself that his team lost and he got his\", 'I think this is only going to make you upset and then you’re more stressed!\\n\\nYes no is', \"I think I have all the pieces required. I just can't explain why I did this.\\n\\n\\n\\nThis\", \"I think I need to write a series of letters...\\n\\nThere's a few things wrong that I need\", 'I think it is just me, and no one else, but I’ve seen a shit ton of posts', 'I think I just discovered an issue, as I type this.\\n\\nMy issue is that I bought 5', 'I think that anyone with an education should be pissed at the 1400% increase in price.', 'I think your question is very valid.\\nLet me add that the title of your post is more than your', 'I think the problem is that his wife was told by some co - customer to attack me about my post!', \"I think this is an awful way for you to react, but if you're not going to get your\", \"I think I made an even bigger mistake...\\n\\nI got angry at God and said I wasn't angry\", \"I think I may have a minor OCD - I'm not being angry I can't just be mad\", \"I think that's a little early... i got a very annoyed response yesterday that was about something else but\", \"I think you need to look at a lot more than just a few letters.\\n\\nI think you'd\", 'I think I missed my first day off at work today.\\n\\nI had to ask the boss for more time', \"I think it's a little bit because I just want to see the white and red colour. Why?\", 'I think about my mother for the first time. About how she died and who and when. About how I', \"I think it depends if I was able to go or not. But if I wasn't mad at her\", 'I think you are in the wrong thread because as of the end of November last year they would still be.', 'I think it was the end of the month when I picked up the first episode of season 7\\n\\nWell', \"I think about her all the time. And I don't know why. It wasn't about why\", 'I think that the new season of <strong>The Last Of Us</strong> is that angry mob of people in the', 'I think that every parent of a student on our staff should be reading this blog now. This is our son', 'I think about all the things I wished I had when I was little about a year after I stopped going to', 'I think I wrote to the editor and my friends to make them think that I was happy about someone that I', 'I think that most people do not even know about this issue, but it is an important problem - and one', 'I think that if any of the following happened, it would be in the direction of either my ex wife,', 'I think you have the wrong man. The guy that posted in your thread on your behalf.\\n\\nIt shouldn', \"I think this game is too much for me, this game I played for a long time. I'm\", 'I think the fact that I live my life by the rules I created is the reason why I’m so', \"I think it's really sad that after all this time there are STILL people out there (even to this\", 'I think if there is a group or a team of people, it might be a different situation.\\n\\nBut', 'I think the first is wrong, the second is right.\\n\\n<blockquote>The Red Pill: You will NEVER!', \"I think this is the perfect post. You are absolutely right about that. This is one of those I'\", \"I think you did a lot of things that were very annoying. Like that I couldn't get into the\", 'I think I was born with fire because when I was angry I just wanted to smash stuff but people had better', \"I think that most artists have problems. There's every possible reason why they are mad and upset. They\", \"I think to a certain degree, it's really sad to me that a lot of Americans would be angry\", \"I think I'm just pissed, because I am not only mad at everyone but that I can't\", 'I think that it’s hard to see, especially if you were a little guy like me — but I', 'I think it is a very poor practice that the local paper continues to attack over a parking dispute and is actually', 'I think people are more upset that I didn’t see a picture of you yet?\\n\\nThe problem of', \"I think it's a good thing because I'm tired of you're constantly on your phone and\", \"I think for me that it's when people or someone makes a negative comment about my anger, usually at\", \"I think we all know what it's like to be in a situation when you get angry about something small\", 'I think the problem is that after your script does nothing.\\n\\nIf I remove the # at the end of', 'I think the problem is when u use \"I am going to kill you\" (in english) ... and', \"I think this would make many people. It had me laughing so bad I'd almost quit watching! It\", 'I think the guy on the right (who said something on YT that is causing me the most right now)']\n",
      "Anger 2.84\n",
      "Discussion/mention of blog or blog post 1.4\n",
      "evaluating (5, 2)\n"
     ]
    },
    {
     "name": "stderr",
     "output_type": "stream",
     "text": [
      "100%|██████████| 50/50 [00:53<00:00,  1.06s/it]\n"
     ]
    },
    {
     "name": "stdout",
     "output_type": "stream",
     "text": [
      "['I think we had a bit of a backlash with them earlier. I agree with that, if their own product', 'I think it is actually a bug. The problem is that when I open discord on chrome it shows the picture', 'I think that many people are angry with their exes when they’re going through a divorce or a break', \"I think that's a bit over the top tbh I mean I get that you're mad you got\", \"I think it's pretty common around here if someone thinks he couldn't lose and doesn't.\", \"I think that we haven't had much of a discussion over here...\\n\\nThe <b><u>only</u>\", 'I think that the majority of people that watch these videos is not at me or the video, just a reaction', \"I think it's an important issue!\\n\\nThe thing is is that I don't care who the\", 'I think it would be better to be angry about a specific thing rather than about a general problem. I was', 'I think in about 5 years of married the wife gets the house dirty, yells a lot, and she', \"I think the title is already in the name.\\n\\nThe only thing that I'm concerned about because of\", 'I think this year should have been really angry at the whole world and that the main cause is about not being', \"I think he doesn't like being told off, and in turn he didn's get angry at you\", 'I think it’s safe to say, my husband is very upset that I write, but before you read', 'I think I’ve been a few days about this but really mad and I want everyone to know about this', \"I think about the fact I've been unemployed for over a month & then I get mad at people in\", \"I think that the most annoying thing is the people who will go and leave a review saying that I'm\", \"I think it's a pretty good question to ask at this time. So that's what I'\", \"I think you misunderstood, though I don't know why I'd get worked up about something that doesn\", 'I think this may be my biggest blog post ever. Let’s talk about a lot of stuff that is', 'I think one of the great problems about Donald Trump is that his anger makes his more likely to attack with the', 'I think I’m gonna be mad at a game so hard but if my computer isn’t on yet', \"I think the answer to your question stems from your situation.  I've never seen a situation where a\", 'I think you must be at least 30 or older when she is in this game. I guess no', 'I think I might be the weirdest dog. And I’m not mad, I’m just very', \"I think your mom is right, at you that they weren't happy because they are jealous that you'\", 'I think about this all the time and I will never let these folks in my house one day again.\\n\\n', 'I think, after a long day, watching the news and doing some emails, you may think about your partner', 'I think that this should be fixed because as an \"Angry Player\".\\n\\nWe think about. We want to', 'I think what makes me madder is that it was my anger with this movie for not being the movie I', \"I think if you've got a girlfriend, you shouldn't be angry.\\nI hate that we\", \"I think they need a new title, because last week the owner of this very angry man's blog post\", 'I think everyone wants to know that he and his cousin is with him because of the angry that it broke the', 'I think you are right. The same thing happened when I sent this to my son because I couldn’t', 'I think I’m late about this, because it’s been eating away at me for a long time', 'I think I would need to see a picture of it first.  You must of a very mad person right', 'I think I am ready to do this with you, and here’s why.\\n\\nThe other day I', 'I think that the “10 percent” title above is justified.  I am fed up with the way', 'I think it might be you that was at for with your team and you left and smashed your keyboard.\\n\\n', 'I think I could have the same mood as John, about losing his temper at someone. I’d be', 'I think my son is going to kill me when he reads this because he’s only 16 so', \"I think this is the worst possible reaction to the news over the weekend that George Bush's comments about the\", \"I think the 'm' word is going to come out a lot more quickly this year.\\n\\nNo,\", 'I think about the days I lived through during high school. I was angry, I cried, I fought,', 'I think I’ve been trying to control the birds in my little red bird bird bath on the corner of', \"I think it's a personal experience, but no one cares if you're not happy with something and\", 'I think <strong>the only person</strong> who can make me cry is at this moment, he said and got', \"I think it's wrong.\\n\\n* You didn't read the post.\\n\\n* I'm\", \"I think I've read that at certain times in the game, there are two characters who are mad at\", 'I think it is really sad and disrespectful to those lost people.\\n\\nThe guy who killed them over someone over']\n",
      "Anger 3.04\n",
      "Discussion/mention of blog or blog post 1.38\n",
      "evaluating (5, 3)\n"
     ]
    },
    {
     "name": "stderr",
     "output_type": "stream",
     "text": [
      "100%|██████████| 50/50 [00:53<00:00,  1.06s/it]\n"
     ]
    },
    {
     "name": "stdout",
     "output_type": "stream",
     "text": [
      "[\"I think I am having moodiness issues at the mo - I'm ranting now and not getting. So\", 'I think it about time that I share my feelings.... (not at anyone btw) so this is my post', 'I think I should go here\\n\\n<b>\"I\\'m so sorry! I\\'m so so mad that', \"I think its just that they are making a change that I'd never get at someone on the internet.\", 'I think I’m getting to the point where I want to write about my car.\\n\\nWhy am I', \"I think the problem isn't with any one person who is posting about this, it' but more that\", 'I think so much about how unfair and disappointed I with my 22 year old son. He is a', \"I think I have a small problem and I'm not sure if it's a good way or not\", 'I think the reason why I got so upset was when my daughter ( and my daughter ) was yelling at me', \"I think the new and younger generation for which are not fans over the old and angry people's is at\", 'I think the more I read, the more I realize that everything I was pissed about or disappointed with was about', 'I think I should use some kind of a tool, I was so mad and decided to write a little post', 'I think it’s a pretty good day. \\n\\nAt this stage, I’s thinking about the', \"I think it's about that I'm really hurt that this person has been with me for 1\", 'I think the article is a little ridiculous about “a person who was” about the fact they a judge and', 'I think about this a lot. The problem is it’s not really about what it made me about,', \"I think I'm in the mood to rant on.\\n\\nI spent more time than usual on today,\", 'I think it has something to do with the guy who wrote the movie. The story about a guy who killed', 'I think that some people are saying about the price of the games, about the situation around a game, but', 'I think I started with anger. I was so frustrated that no one took it out on someone for what I', 'I think they\\'ve stopped doing the \"free\" with the subscription as of the 10th.', \"I think people that can't be pissed at their car on the phone is what really pisses me off\", \"I think your last post was pretty mean to people, and also you don't really know what is going\", 'I think I forgot that we never told you about our trip to the museum so don....\\n\\nA. ', \"I think I'm a female, but I want to know why I need to write this.\\n\\nThere\", 'I think that the fact that you are a man who is writing such is actually a little strange... and more', \"I think that I'd have done all these things if I found out about the recent events the other night\", 'I think I just got this about 5 minutes ago when someone was complaining about that he needed money and didn', 'I think this is my final post for the week.  Please don’t hate at me.  Ok', \"I think it's quite likely that this is being caused by some code that was being thrown up at you\", \"I think it's time to write on about <strong>The Crown</strong>!\\n\\nAfter watching <strong><em>\", \"I think people are over looking at what the company is saying... they're asking how they're getting\", 'I think about a lot of things and a lot of people, but I can’t think about what I', 'I think it’s not the <em><strong>why’d you do it</strong></em><em>?</em> kind', 'I think that one of the things I have the most about about is when someone makes a rude comment or about', 'I think the last time I posted, it was about someone who had their blog post published on their blog and', \"I think I've been reading too much about my ex and can't find anything about this. So\", 'I think the main issue isn’t that you’re being told. It’s that you’re', 'I think I’m just mad at myself for writing on things it has never bothered me about, that will', 'I think a lot of people are mad about the fact they got lied to about “The White House” when', 'I think this is a really good article and if you have any comments on it about it feel free to write', \"I think that you are going to have to take some issues out with him, and it's a little\", 'I think its about not being able to see my dad anymore. I had so much anger that my brain was', 'I think this is about time, it really pissed me off that I find its not been patched (it got', 'I think we’ve all had days and nights where we’re just out of steam.\\n\\nYou know', 'I think it was a result of me being on 171 and not having enough about things. Things', 'I think it depends on what you get mad over. I get mad really easily about the little things - traffic', 'I think they were doing pretty good for a while on the blog until I figured out that it was them.', 'I think that it was a good thing that I got into it. I got angry because my little brother (', 'I think it’s unfair to anyone when they start at me and then they go on my Facebook.\\n\\n']\n",
      "Anger 2.42\n",
      "Discussion/mention of blog or blog post 1.9\n",
      "evaluating (5, 4)\n"
     ]
    },
    {
     "name": "stderr",
     "output_type": "stream",
     "text": [
      "100%|██████████| 50/50 [00:53<00:00,  1.07s/it]\n"
     ]
    },
    {
     "name": "stdout",
     "output_type": "stream",
     "text": [
      "[\"I think this is really about the fact that these characters about that they's they's they's\", 'I think the whole thing was really unfair. I had to defend that post! The guy that I knew had', 'I think it depends more on specific tone from the person. and at times I do rant a little about things', \"I think I's get at more people online about the cost of the the way things are. If you\", 'I think if I was angry about the current situation about the government I’s would. My husband would be', \"I think the OP is about the wrong thing\\n\\nNot just because it's about it,\\n\\nbut because\", 'I think this is a problem with your editor, but I’ve been having lately about this. And I', 'I think the other half of the argument is about about how difficult the wife is about about with my daughter.', \"I think that's it for me, a lot of feelings. I think the 49ers were\", 'I think this was also happening to my daughter. She was having a hyster when this blog thing came out\\n\\n', 'I think the \"un\" on the left side isn\\' just about, it\\'g is, it\\'', 'I think I read a bunch of your comments that pissed me off this week. I usually write about what my', 'I think you’re right to be upset about the news that a <em>New York Times</em> columnist about', 'I think I must be an old codger. I was up tonight and angry. Why? Because… I', 'I think I should make a few posts for the stupid shit on my list and stuff.\\n\\n\\n<h1>Angry bird', 'I think she looks pissed off about some stuff. And it makes me upset how she looks because about. That', 'I think you are angry that you\\'d about \"I\\'z a bitch\" and you\\' angry about', \"I think one thing that people don't want to admit about, is about. I get really angry people\", 'I think that a lot of people are mad and pissed off at me because I’d have a lot of', 'I think you will see people on the sidelines when this article goes up.\\n\\nBut I got a text message', 'I think I’ve been pretty angry about this for a while now.  But I’s not just', 'I think one person can never say at least once on internet in India to make your mind and the story not', \"I think I have a lot to vent at you... about how people aren't listening to about at least\", 'I think that the reason I am mad about about, is because that a person had to write a letter about', 'I think what is happening with many people right now is that they feel the world is out of balance. Anger', \"I think I can solve the problem. But...\\n\\n...that's another story.\\n\\nThis, however\", 'I think that this is a very reasonable question. Because I think that it should be that: no one is', 'I think it is about time we spoke about how much I was (and still am actually) pissed. The', 'I think this is where I’m most often these days. I blame everyone that it’s an ', \"I think this is a real post. Someone actually. It's my friend and how I got the blog\", \"I think that this should only be shown once in a while. I's that a 508\", \"I think if you'd like to see about a bunch of people you can go to the comments or go\", 'I think I’ve gone on about this before but it seems like a lot of people have with me because', 'I think some people here would like me to show why I’m frustrated about the new iPhone 4s', 'I think that I was angry. I was so angry at 80 a year ago about stuff I don', \"I think it will take a few years before it becomes a problem with any of this, it's pretty\", 'I think this whole thing that I have at the moment is because of  that stupid video that I read on', 'I think <em>Black and Blue</em> is a good movie but as I watched it I started to become more', 'I think the big thing that makes you mad at the world right not is a red hot. And the way', \"I think I'm not angry at you enough, but I feel really really mad at you :( and angry\", 'I think we have to be careful about the fact that there is now a Facebook page with a post saying there', 'I think I might be a 10, or 8, at times too... and not just when', 'I think I am confused on your post!!\\n\\nI think most people are here at this point, so I', 'I think we have lots of readers and angry and a lot of people who wanted to yell because after the news', \"I think I still do, and my sister. As far as I's concerned, I's very\", 'I think all of us have, at one time or another, said “My 5 year old is mad', 'I think it’s not a bad time to call about how about about how much anger, so just write', \"I think this is because it might me on the phone........\\n\\nI don't...\\n\\nIt'\", 'I think this is it for me... about my dog.\\n\\nI just read some blogs about my dog about', \"I think the next post I'll be making about about someone for the sake of having is at the moment\"]\n",
      "Anger 2.9\n",
      "Discussion/mention of blog or blog post 1.86\n",
      "evaluating (5, 5)\n"
     ]
    },
    {
     "name": "stderr",
     "output_type": "stream",
     "text": [
      "100%|██████████| 50/50 [00:53<00:00,  1.07s/it]\n"
     ]
    },
    {
     "name": "stdout",
     "output_type": "stream",
     "text": [
      "['I think I\\'d about this issue.\\n\\nMy wife is in the bathroom that says \"at,\" while', 'I think I started this 1 month ago over a stupid Facebook post to someone and now I see that my', \"I think the worst thing about the blogger today is about this.\\n\\nIt's very long and angry.\", 'I think they don’s even care about what their client they can’ when you do a search you will', 'I think you can send the question on about to someone.  \\n\\nBut he or she is not taking about', 'I think to myself over and over again about “Why, oh, why” (with) as I watch', 'I think it’s finally time for a rant. My angry mom blog! If you haven’s already', \"I think I'm going to be a really really bad person. About 75% of it at\", 'I think the game won’t work if you do it! Because, I hate angry because of that,', 'I think it\\'s funny when the new episode gets people madder at bloggers: \"you blogger!', 'I think this article is a good read and about as much as I was about when I was mad at about', 'I think I’d just about lost my temper and sent some angry tweets about the whole situation. <i>', \"I think it's about a year since I complained about about a year because I was p when about because\", 'I think my life is about to explode with as much of this as I have about this topic: https://', 'I think it’s a big joke, though, you shouldn’s really mad, and that’ on', 'I think people are really angry right now. I’d be a little, bit pissed off about something,', 'I think I’ve said before that I can’t stand when bloggers who feel they’ and ‘ and', 'I think this happened because I changed the default port for my server and then tried to uninstall.\\n\\nSorry if', 'I think my hubby is a little about today. But I really thought about what he would say about today that', \"I think it's this that when I write:\\n\\n<code>// http://blogs.microsoft.com/\", \"I think you should ask a different blogger.\\n\\nI’s the same when you!\\n\\nI'I\", 'I think the post is for other peoples who are tired of seeing this guy because, when he posts, about', \"I think you have a case with one of my clients who's a long time (and very mad)\", 'I think of myself, and at the same time I’ about. There are lots of things about to write', 'I think this.\\nAnd is anyone who agrees.\\n\\nI want to go to a big wedding because:', 'I think I need to make this post about something really real that I have been really mad at about for a', \"I think it was the first of it' when with that this. but no one really has about that.\", 'I think I will be a bigger advocate if I get all of this off. Just because, if we do', \"I think I'm going to start blogging about stuff a lot more here. Maybe.\\n\\nWhy? Because\", \"I think it's about time to rant, and the following is a very long one. I' at\", 'I think it is because of when I got angry and about it . It’s something that I could write', 'I think this is only with the old 17.5.\\n\\n<blockquote>I just realized my problem -', \"I think I's still mad about a few things on this blog.\\n\\nWhy I have some of my\", 'I think that I am. I’d rather not use that because I’s the right to the thing', 'I think about this because you’re angry\\n\\n<em>* * * * *</em>\\n\\nBecause!\\n\\nBecause', 'I think there is good and bad feelings about on the right and about about on the right when angry. Here', 'I think its a good deal but the thing about is you said \"why\". I\\'s like i want', 'I think that’s so frustrating! I really can’t see him though out. And I don\\n\\n', 'I think this is from the guy I know because I want it a lot. and I really want to fight', \"I think this song about about the president's 8 years. but the other songs about about the guy\", \"I think that if someone posts about me about my work, I' and so and ... like.\\n\\nI\", 'I think is my boyfriend is going to be about. And I and my fiancé, there was like my angry', \"I think that I'd get mad if I saw a sign about my food and that would make me so\", \"I think I'll make some for this....!\\nI'd been planning to make this for a\", 'I think its about to and thats all that bothers me\\n\\nso many with anger and and upset, it must', \"I think it's been a long road.\\n\\nI's about a thousand posts that I'ed\", \"I think the only thing we's ever saw about this whole episode is we's not because we'\", 'I think (at least I think) that it’s not only about you, but that I am about', \"I think you are right!!\\n\\nGood morning\\n\\nWhy don'?...angry!?\\n\\nGood morning!!!\", 'I think that’s mostly because of what happened between the two but it’s not because of the show']\n",
      "Anger 2.6\n",
      "Discussion/mention of blog or blog post 2.28\n",
      "evaluating (5, 6)\n"
     ]
    },
    {
     "name": "stderr",
     "output_type": "stream",
     "text": [
      "100%|██████████| 50/50 [00:53<00:00,  1.06s/it]\n"
     ]
    },
    {
     "name": "stdout",
     "output_type": "stream",
     "text": [
      "['I think this is very much about about my work. about the climate of the blog posts I have had on', 'I think that’s the point in this post…  :o)\\n\\nWhy are you?? If', 'I think that this picture is about the fact that people don because of the things happen or they don.  ', \"I think that I's (and so!) after about that post yesterday - http://www.mobo\", 'I think this is just a bug for you about what you just ate? I’ about a lot of people', \"I think you have to. You's not happy with the blog. . . so.\\n\\nIt'\", \"I think that this is a really funny song,, as I'm mad now. I' about the\", \"I think this would be helpful to my sister. What's the deal? lol lol\\n\\nI had on\", 'I think at this moment that I have enough about about this particular topic, so the rest of this will likely', 'I think you’d be pretty ifged at me because I’ ( a ( and a ( of.', \"I think I's just a few posts, but I get these rage-y rants that I usually\", \"I think people are so mad it isn's not for them, that they are mad? Really really Mad\", \"I think I've had a few over the years.\\n\\nThe blog is a blog of the.\\n\\n\", \"I think this is a bad topic.\\n\\nThe last day...\\nI' about to throw.\\n\\nIf\", 'I think I have been a lot lately. I am pissed.. angry and frustrated about all the things out', 'I think this is about because because because because anger\\n\\nI’s angry at a lot. (c)', \"I think I need! It.\\n\\nI's so mad as I write.\\n\\nThere it goes again\", 'I think i will be about the the this topic: about the new about section...\\n\\nSo, let me', 'I think I’ve said a lot the last couple of days, and there will be about more, about', \"I think the title is a bit much, but I' not that mad today..\\n\\nI know it'\", 'I think this is because we have a lot of angry people who post about here about the blogs and not.', \"I think that in this moment (the entry of anger) at a moment that I's is, is\", 'I think a lot about the idea that the last post I’ was just about a random blog about a personal', 'I think it is about time that I address the issue about how bad my husband’s writing about about a', \"I think you want an about page!  that is my thing.  I's the blog! you\", 'I think I am getting at again! Because there was a post a blog that I had a about blog about', \"I think I can' again! Today I'd like to share with you about something that many of you\", 'I think if a writer says something about or about someone, at least half of the time it is to prove', 'I think that everyone can.\\n\\nAnger, about this, about that, about life.\\n\\nA 5', \"I think it's quite a good point because i do the same when i get off about an issue or\", 'I think that has a lot to do with on that you put on for yourself against them like in a.', \"I think in. I's about and you's is....\\n\\nHi-y a\\n\\n\\nAngry at\", 'I think this was a biggie for me after the first of July. I was already sick and it just', 'I think I might find out and about a new post today, as I’d posted <strong>the angry', 'I think a week after I sent about a  tweet or something about how about something, I didn. about', 'I think I found a fix that seems to works really well. So here goes. I am not angry or', \"I think I's not about about the 23, but the fact that in the post that had\", 'I think to myself…\\n\\nWhy should I buy a blog post about the things I hate when someone’s', 'I think I’s about to a little…er… blog post.\\n\\nAfter taking about in blog,', 'I think about this more frequently. After reading post after post after post from bloggers — and I can’ from', \"I think this is what I' I'. that i you get about. a lot, I get angry\", 'I think that I’d have taken with on about this. when I first read that. you’d', 'I think it was a little bit on about 9 years ago at that time and when a rant about something', 'I think you have a better blog that I and I hate. and that you is full of insults.\\n\\n', 'I think one of the things I hate the most when when people say I’ or about something. But I', 'I think it’s funny how I’s all over the place. I got pissed with about  and', 'I think of myself as a lot, so often on about things. And, the posts are even f...', 'I think it’s only fair that I write about about the latest updates on about the lack of (or', \"I think there is so many people, about me, about what that...\\nI' about things, -\", 'I think you might be on. - angry at the world :)\\n\\n\\nOkie-b\\n\\nMy day is']\n",
      "Anger 2.34\n",
      "Discussion/mention of blog or blog post 2.86\n",
      "evaluating (5, 7)\n"
     ]
    },
    {
     "name": "stderr",
     "output_type": "stream",
     "text": [
      "100%|██████████| 50/50 [00:53<00:00,  1.06s/it]\n"
     ]
    },
    {
     "name": "stdout",
     "output_type": "stream",
     "text": [
      "['I think it was a lot of that over-active young dude. It only because someone about a post it', 'I think that the blog is about. , It has that a blog about about anger and blog about post about', \"I think I would be a lot angrier at some things on a regular basis because I'rry I\", \"I think there's a bit of a problem over at that one. because after a post about about about\", 'I think a lot of the reviews I’s is because it didn but my husband, because I just said', 'I think this has become because of some posts I read...\\nhttp://www.bhatia.org', \"I think I'd be rather upset if for my post and it wasn that they was so mad or I\", 'I think I just realized about about the situation of this post. :->\\n\\nI actually have been mad,', 'I think you can’t post without, but not angry posts here are and.\\n\\nI really want of', \"I think I' because that you post.\\n\\nI think anger is a very common place these days, there\", 'I think I’s really angry with about with about something at about about\\n\\n* at blog about about\\n\\n', 'I think there will be a great blog soon. My wife is going to post about a post a week!!!', 'I think the title says itself.\\n\\nBasically I’ve been about like about gedged about and angry', 'I think the last time I posted was about a week ago, I don is about an about post. but', 'I think about a lot, and I like to about the blog.. post. r. b. or', 'I think I am a little angry about how it just ended. That I was about to blog after about.', 'I think that a lot.\\nAnd then I decided to write here about about what I thought of and stuff', 'I think that’s the way too.\\n\\nWell, 40 blogs, 85 about today', \"I think most parents can say that about their children - you can' is a very scary place - a blog\", 'I think I was at the site at that time, because I wasn. The that started a blog on about', 'I think this is pretty silly about one about blog... because is a bad guy about about about.\\n\\nWhy', 'I think there are way too much on about about posts now..,\\n\\n(rant mode!)\\n\\nA post', 'I think the original post was about at a very low rate, not about the blog entry which got out of', 'I think it would be a pretty funny if I wrote about about about all the things I had about and,', 'I think about a lot of things on my way home from work and and my mind turns that this is what', \"I think it's about how the person abouts about about the situation and. I have my blog and\", 'I think the most beautiful thing about about is how much I’s you’ is because you blogged about', 'I think I’m losing a bit here now… because I’… why, because? and because with', 'I think I should because I was really angry with myself so for once I just, mad and angry.\\n\\n', \"I think it's just a blog post, you can'ged\\n\\n<blockquote>What's with all these\", \"I think all about about the time about the fact that you's been. You's about you,\", 'I think about a lot about what I have to about this and for that really isn’. I’ post', 'I think about about this issue all time,. because of the  <strong> <strong>  </strong></strong><strong>  ', \"I think that's mostly from about 2012 because of his and that blog. It got\", 'I think I have a problem.\\n\\nYou read that I, (you, if you) and about everything', 'I think the guy was angry about at being about about. I have and and post a rant about about and', \"I think that's a little too on at the moment with the way it has a's at the\", 'I think, because of my anger over in my post \"The Black Cat\\'\\'.\\n\\nThe post above I write', 'I think you mean at your. You mean here.\\n\\nI had some of my, and you (s', 'I think I’d be angry about this issue if he wasn was about that. but it’s not', \"I think is a 14 blog post about, so I's not.\\n\\nSo, I should\", 'I think I need to. because there are so many bloggers about and you get so angry when you write for', 'I think i have reached the point where i can and wish about about. about about. about -\\n\\nAbout', 'I think I would be pretty disapointed if I posted at the only I ever used to have about stuff', 'I think I’d about done that post. But I do about almost like the world a time, and', 'I think some of you should be mad that you about not. but at a little more but don it.', 'I think he went crazy at that time, and was about about how about all of his readers, about whatever', \"I think if I was angry enough... about about a lot of about... it'gers about that about about\", 'I think I did a little too much in regards to the last post, but I think it’s actually', 'I think you did really well on that. Your post is funny, and I love you that you would write']\n",
      "Anger 2.04\n",
      "Discussion/mention of blog or blog post 3.3\n",
      "evaluating (5, 8)\n"
     ]
    },
    {
     "name": "stderr",
     "output_type": "stream",
     "text": [
      "100%|██████████| 50/50 [00:53<00:00,  1.07s/it]\n"
     ]
    },
    {
     "name": "stdout",
     "output_type": "stream",
     "text": [
      "['I think so much about about about about when my about about post and I write post on about about anger.', 'I think I am becoming older, as they is a post about. that just because. with little bit and', 'I think its not about, its about, when you are angry,.\\nyou post about because anger,', 'I think it’s funny how people say things today. It makes me angry. I wrote before about about', 'I think they don post anymore either but.\\n\\n@j\\n\\nthat post below is a post blog. and', 'I think it’s about with the blog about, it seems I about a little lately I’ I think', \"I think it's funny I saw about a year ago that someone was saying about how bad the  Obama\", 'I think we should focus on more on the newpost instead\\n\\nabout the post you post and get mad about', 'I think about this, and I don post about it and and and and. I rant about over. and', 'I think. A blog that is about because of. about at and why about?\\n\\nI wrote here or', 'I think that about this situation about about.\\n\\nI have a and I with about my blog.\\n\\nI', 'I think I’s been about for awhile with how much I about the a about about… about a blog', 'I think we’s for that as much about as about anger. . as about that, , I ,', 'I think I’d never write about how I! I have a a blog. I’ on! What', 'I think the fact I that blog today is because its been going on for a week!, but really about', 'I think I should about post…s! here. and a about me.….… ,… or or', \"I think it's about about because of a, is blog. blog and comment.\\n\\nSo you'\", 'I think you had enough the post about and i still on about with you. and you have a little.', 'I think I’d blog about that post on WordPress.\\n\\nhttp://angryg.g.com/', 'I think about my post when on about the of my friend blog ( it is the thing),  but as', \"I think I'ged this because my family blog is that because we is in the about. :) ;)\\n\", 'I think about a lot about.. And (r) a about this: is <strong>a</strong>.', 'I think, i need a new or a angry post... about about someone,\\n... about anything, at', \"I think this post is really getting a lot of comment from people. I's even got a post at\", 'I think that the “About”  of about.com is of this: at the post entry on is', 'I think I am over this, the way of the post was was at was a lot of the entries about', 'I think my post is in my about because there is so much, I’. It’ about about about', 'I think I’d been quiet before that it that about, so with out. It’s about about', 'I think this is an old article: <strong>blog about how about with.</strong>.\\n\\nSo, I', 'I think I was recently angry about at. about,, and, about about,.  I had about', 'I think if you are an advocate, you have a about rage and have a.\\n\\n<h2>»</h2>  ', \"I think this is just about.... I'. (..) ( I think ) > . . .\", \"I think I'ged.\\n\\nThe blogger is just about everything now! lol, I'gedged.\", \"I think it's time.\\nIt always makes me angry... about blog posts.\\n\\nThe thing is\", 'I think a lot about about a lot about a lot....... about a...... of a,', 'I think it is more because than than about. but that is so full of with it the my I post', 'I think about a post by a the blogger and the title about <em>my</em> about and post.\\n\\n', 'I think about and rant about pretty often.\\n\\nThere’s something in about about of posts. – is', 'I think I really like about this post about here blog that I got so angry and today angry post. and', 'I think they don’s see’s about about’s because they don’s because blog angry is', 'I think it’s time we about,…  I will be more about, anger and about whatever comes', 'I think I’d a lot of things I write about these days but here is one thing I just posted', 'I think it and I is angry.. :\\n\\nHere is:\\n\\nhttp://i.loso.org', 'I think that most people today don’s, they because. When you’ blog and about about the thing', 'I think I was the about it about the story, that I wrote by my is post. . is more', 'I think a lot about this because of the \", about that is in blog about about at. About.', 'I think this is just, it isn.  There just is…\\n\\nIf you’s about, about', 'I think about a post I wrote last year from about 23 years ago about that  post about about', 'I think I’d have just about every post on about and the last about was for a week over that', 'I think I posted about this once last fall in about 2 and the is blogged again.  I']\n",
      "Anger 1.52\n",
      "Discussion/mention of blog or blog post 3.88\n",
      "evaluating (6, 0)\n"
     ]
    },
    {
     "name": "stderr",
     "output_type": "stream",
     "text": [
      "100%|██████████| 50/50 [00:53<00:00,  1.06s/it]\n"
     ]
    },
    {
     "name": "stdout",
     "output_type": "stream",
     "text": [
      "['I think that this song has been brewing since January 20 when I got a call at 12', 'I think about my mother when it rains. I think that the things I did in the past when I was', \"I think it was a mistake that it didn't turn out and I think I still might be a little\", 'I think that it is a bit much that a large portion of the population is on about over something that is', \"I think I would have been mad too. I don't usually get mad but when someone hurts our pride\", 'I think this is important because it’s hard to make the same person every time. And you want more', \"I think about something every day. I'm tired. I’m angry. I’m sad.\", \"I think the guy with the car.\\n\\nThat guy didn't care what kind of car he drives.\", \"I think that the people who get really mad at me are mainly the people that don't want me to\", 'I think most gamers at the moment. At the end of a month we are a very frustrated. I think', 'I think we’ll be even angrier that the Prime Minister for failing at his job by people who have', 'I think many Americans are very angry about the coronavirus which is killing thousands of people. So angry that it would', 'I think this was my first serious post...\\n\\nIt all started when his mom was in a meeting and his', 'I think if it takes me more than 10 seconds to put a little bit of air in something I', \"I think it's a good question to ask (after I got over the fact I had to cancel my\", \"I think that's very normal and common for women when they get angry.. because we are being mad at\", 'I think I’m going to have to play about, I’ve a feeling I’ll probably do', 'I think my 6 yr old is on the verge of a tan again because she was just told her hair', \"I think I'm going to start going around my neighbors' at the end of the week. For some\", 'I think that people are tired with us who do things at the time. This man is angry and he says', 'I think I’ll get over this slow, quiet thing in one minute.\\nNo, I get in', 'I think I just wrote about this a few months ago and had no one listen to me in the comments.', \"I think the first game I've gotten so mad at this game is the rage in when my game was\", 'I think I might just turn into a murderous old man because of how angry this person was about something stupid\\n\\n', 'I think it is time for a rant about some of the things I have experienced recently, and I am not', \"I think this isn't too hard to understand, the reason is that the server is pissed off and it\", 'I think I must be getting old (see my post here) because I have been getting in the middle at', 'I think I’m a lot. That’s what I get when I’m angry, I lose', \"I think that if you're too angry about getting an error message at the point from someone over the phone\", 'I think the worst thing I just found out about was when I was with @ 4 people. It was', 'I think I remember the first time (1972 I think that got me at just 15', 'I think I have hit the glass ceiling a lot of people are at with the amount of times I am saying', 'I think you can see a little fire in my eyes. I was reading a long post in FB and all', 'I think I have a few reasons why this happened.\\n\\n1. \"If you are tired, go home', \"I think the issue with the user above has to do with something he just wants to write at someone who'\", 'I think I am a little biased with this one. It’s been a hot week so when I was', 'I think I want to strangle this thing. I’m tired of waiting for you, because when I’', \"I think it's a little unfair to be angry at them about something I'm not currently concerned about\", \"I think you're getting a little bit because I'm really angry with you!\\nWhen, how\", 'I think there should be \"No comment\", and I\\'m very confused.\\n\\nWhat happened?\\n\\nHi', 'I think if he’s gonna hit me with all that energy I’ll take out.\\n\\nI really', 'I think some fans were directed at the \"No Punx Boys,\" a little song that tells the story of', \"I think I'll be disappointed with our little one when he finds out it is my job to make him\", 'I think everyone gets madder and angrier at the same time, especially when he is \"bettered.\"', 'I think that the best way that the 19 year-old \"You are so angry at the world', 'I think that I may be writing at the wrong people at this point. The thing is that you should be', \"I think this is a pretty angry review at me towards him.\\n\\nI didn't get at my son\", 'I think about a lot of small things...\\n\\nSo i did a sketch and ended up with this!\\n\\n', 'I think that anyone who has read the poem has a pretty good right to be angry. I was pissed at', 'I think I want to be a big greeny, I\\'m pissed at the world\\n\\n\"Do.']\n",
      "Anger 3.34\n",
      "Discussion/mention of blog or blog post 1.28\n",
      "evaluating (6, 1)\n"
     ]
    },
    {
     "name": "stderr",
     "output_type": "stream",
     "text": [
      "100%|██████████| 50/50 [00:53<00:00,  1.07s/it]\n"
     ]
    },
    {
     "name": "stdout",
     "output_type": "stream",
     "text": [
      "[\"I think at a level of power in which you'd not only want to talk to a customer but you\", 'I think, its like to all that is to the young man. It is all the angry is at that', 'I think I am in a bad mood. I have a lot of anger and frustration because how the hell is', 'I think I am getting sick. I was in the the kitchen and told her she was about to boil over', 'I think I\\'m still so mad at the company because the \"I lost my temper for more then ', 'I think what I’ve been ranting about was the death of my ex girlfriend. The guy from the last', 'I think you have a lot of other things to say about this, for example\\n\\n* You want them that', 'I think what happened (and still a very important thought) is because I was very angry at my then boyfriend', 'I think people who are making these reviews will not even read this.\\n\\nFirst, read them all. Read', 'I think it’s time I told you all…\\n\\nWhen your kid is pissed, you can punch,', \"I think that you're more pissed off rather than disappointed.\\n\\nThat's not cool...\\n\\nThis\", 'I think if you ask for the other you will end up more.\\n\\nThis situation sounds to me that you', 'I think that when these guys got a bit at the old man, that it was mainly at my father,', 'I think the first time I heard about <strong><em>A Tale of Two Joys</em></strong> was when I', \"I think it was last week. I was pissed and I wanted to be the blackest I've been\", 'I think there is always going to be some people and that is why I am angry. A real bad,', \"I think that's the result of not playing at all. I'm not angry with him because of\", 'I think I’ve taken every step imaginable since I learned the news about the situation at the police station where', \"I think it will take a while to build a fire.\\n\\nI would yell even futher.... I'\", 'I think I’m a cat-woman and I’m going to rant about someone else.  Angry', 'I think you have to see some things first that he said in a recent interview .\\n\\nI get really really', 'I think you missed \"at the show\" because no one likes if they have issues... unless for reasons they', 'I think the OP is going to call, because a lot lot.\\n\\nI have my wifey, I', 'I think the one the big old lady that was my best friend \\n\\n\" I should tell you about it', 'I think these are mostly at the point of being about the injustice of the way I was cheated at by the', 'I think I might be getting really angry because the people you care about tell you it was \"just an accident', \"I think you're right that it may not be your girlfriend, but that you're actually at because\", \"I think I'm more on top about it. I'm a 27 year old person,\", \"I think it's funny that people are angry at a person that was never going to start with a person\", 'I think that I want to talk about how to help my partner that I love and disappointed very easily.\\n\\n', 'I think we already mentioned this at the time of release: http://www.geoffreyboy.net', \"I think that I want to die now, I'm angry and I want something. Please don't\", 'I think it’s an important time to write. I’ve spent a lot of time this week and', 'I think that I have been very angry about something for about as long as I remember. I know that it', 'I think it’s safe to say that everyone at least once has heard at least one of Chris Harris.', 'I think they are the cutest kids in the world! And I want to bang them with sticks!!! But if', 'I think the whole process has already been vented by me and my family towards the delivery guy that is still angry', 'I think we all know that the way these people were treated was not. What are we supposed? Because in', 'I think the following is about a mistake in the book the white and red book , about the bad of the', \"I think this should be a feature....\\n\\nI think when you get that 'error' in your message but\", 'I think this is going to be a bigger post, but it’s so damn frustrating.  When I', 'I think the world of you that your brother took the first time you read an article in the paper. I', \"I think what I'm pissed about about is that they are not even giving me back at all for the\", \"I think people are mad at me but I'm also mad at them!\\nYou angry at me you\", 'I think the biggest issue here is \"why didn\\'t this guy just attack at that point, it\\'', 'I think the problem was more on 1989:\\n\\nI have been watching a lot of football', 'I think the person is about.\\nAnd in this moment i am ...\\nYou have forgotten my anger for', 'I think I can blame the man, the very, very angry man: at a recent protest against against the', 'I think this is the only possible expression one person could feel if their wife cheated on them. and I don', 'I think I am in one of those days again. I’m not at the end of the world about']\n",
      "Anger 3.46\n",
      "Discussion/mention of blog or blog post 1.14\n",
      "evaluating (6, 2)\n"
     ]
    },
    {
     "name": "stderr",
     "output_type": "stream",
     "text": [
      "100%|██████████| 50/50 [00:53<00:00,  1.06s/it]\n"
     ]
    },
    {
     "name": "stdout",
     "output_type": "stream",
     "text": [
      "['I think that the only way you at the moment is with the guy who owns it. But he has no', 'I think I may have a lot of things right now at the moment, but I think the worst thing I', 'I think one of my worst childhood moments were when I found out that I wasn’t being used as a', 'I think a lot a people just hate there they on facebook.\\n\\nI get mad from when people yell and', 'I think that there are so many fans waiting for that!\\n\\nI am at the beginning about what I read', 'I think that because I can’t get over at all!\\n\\nI’m so angry at how long', \"I think you did pretty good. Hows about another thread?\\n\\n\\nI'm glad your wife is so\", 'I think I’m in a bit of a mood this morning and I think I’m going to need', \"I think that's mostly about how the writers and directors of the show got at the time. Because the\", \"I think a lot of us are angry that this is because they didn't get their car repaired by the\", 'I think it’s ridiculous and unfair that <u>Netflix</u> that $6 and the guy who made the', \"I think I'm sick at this moment. No. Angry. I am! Angry! at a very\", \"I think the big guy is about for a bit!\\n\\nHe's really angry!\\n\\nI don'\", 'I think about the fact that he should be at school if you think about what you want him to know about', \"I think that when you're angry at someone else. Or you can see a really ugly, mean,\", 'I think I feel so disappointed and betrayed because i know that i spent a lot of money on a very angry', 'I think you won’t like me but… I’m a little sad at that the you should yell', \"I think the most pissed I've ever seen/got at anyone at this moment is over something I should\", \"I think it's about someone else.\\n\\n<h1>The New York Post's 27 year:\", 'I think it’s about when you’re at a point and decide you want a few more little snaps', \"I think I'm going to get a lot of people upset so, as much as I'll be\", \"I think you'd be surprised with the answer?\\n\\nNo i'm not! - you're\", 'I think my post last night that I was sick with my kids about the poor choices that others had toward about', 'I think that I’m pretty angry that I went to see my therapist today. I didn’t even', \"I think the article you're referring to is that in this post by the writer:\\n\\nHe then calls\", \"I think that I'm gonna start a thread every day. I'm only going to have a few\", 'I think my baby is the hottest person in the world. I know that I get upset when everyone has been', 'I think a lot about the fact that as an 80 year old woman, I live in a small', 'I think I’m a lot (and) because I can’t deal with stupid people.\\n\\n<strong>', 'I think I would be a lot more if all over my 2 friends from middle school about how you feel', \"I think you're not angry , your at with them? that there you have a problem over about thing\", \"I think I found someone on instagram about this, it's at at that point.\\n\\n@me is\", 'I think you are a racist at that he has made a angry.\\n\\nHere is my angry picture\\n\\nAnd', 'I think that’s it! A lot of people are angry and have a few words under them, that', 'I think I just read a thread like this once where a guy was about that someone over-priced his girlfriend', 'I think this was originally inspired by what I saw in this post. The way it makes a woman in a', \"I think a lot of angry people will this and say that it's obvious because of the time, with\", 'I think I am the most angry I have been this week. My wife and I were out about two years', \"I think of a lot these days, and more when I see injustice. I'd love to make something\", 'I think I\\'d be a very little if someone called me \"in the rain\" in Korea.\\n\\n', 'I think it’s really important I’m not saying but about a few things right now and it’', \"I think this is where I will be a lot if people is a really very angry at me and that'\", \"I think I understand the gist, but I'm in an angry place right now. That's okay\", \"I think people might be angry that they had to pay for taxes for something that isn't important enough to\", \"I think it's probably not very angry at you now, but I had a lot more years at that\", 'I think I had an extremely bad hair day once.  Someone at my desk screamed, then texted, at', \"I think I'm at a point where no amount of reading is going to fix a situation.... :(\\n\\n\", \"I think, I've posted about this before.\\n\\nIt's not like me, a lot of\", \"I think this is another story that I should get of at. I'm tired that I'm angry\", 'I think about it because they are not doing this. We all have heard and read about this and now,']\n",
      "Anger 2.94\n",
      "Discussion/mention of blog or blog post 1.48\n",
      "evaluating (6, 3)\n"
     ]
    },
    {
     "name": "stderr",
     "output_type": "stream",
     "text": [
      "100%|██████████| 50/50 [00:53<00:00,  1.07s/it]\n"
     ]
    },
    {
     "name": "stdout",
     "output_type": "stream",
     "text": [
      "['I think what is actually happening in a lot of people is this...that 29 years ago when I', 'I think that we would have a lot of issues if that was you!\\n\\nYour anger should not be directed', 'I think the most important thing right now is our feelings of injustice; this is a lot! And that’', 'I think that my heart is a river and a bit more all of the time when I’s just angry', 'I think some of you who are angry that you spent half your day wondering about a stupid thing, are actually', \"I think that the fact that it's not about the fact that I would kill anybody, was because of\", \"I think your husband should do.\\n\\nIt’s because you can't be angry is it about the\", 'I think the problem lies with with a bunch of people whose opinion is hurt because this isn\\'t \"about', 'I think it’s time to write down something here.\\n\\nAbout the current with my friend about the person', 'I think this is a good place to vent about at… (more please) for a minute or two.', 'I think we’ll be a lot poorer if our anger builds up in our body. How do you when', 'I think, I am going to make a big speech about about about how the people who did me wrong and', 'I think that there are a lot people because of that, and I still see him with his stupid face.', 'I think this post will be longer than usual because I want to write for once. I decided that something that', 'I think I just exploded so bad that I deleted a ton of stuff at my husband (again) post...', 'I think this is a good one I wrote about how the <em>New York Post</em> last week:\\n\\n', 'I think you’re not.\\n\\nBut when you are angry at someone at it’,s is a', 'I think I’d have a lot of things to write about today and and here is another one on the', \"I think that's the exact thing when he didn not at that time he was still a kid his mother\", 'I think it was the day after I moved, but I was writing at a blog and called for a minute', \"I think about the state people are in when they get out or mad. Angry or sad I's and\", 'I think people have their opinions, but if you want to get upset, because their feelings and thoughts then,', 'I think i cant do with this because when my anger when how my wife my my and i when this is', \"I think I'm at my wits end about this so here goes at you guys...\\n\\nI was on\", 'I think the problem is from the fact that the man who is at home and not very with the situation you', \"I think I might be a bit too about. I know what the post is below. I'd be\", \"I think you might be missing because you's at them with all your wife who didn' ,and you\", 'I think, too, that the real reason lies is the following:\\n\\n* That they are not being fed', 'I think the question is, that we were at a place that had no where else to go... the article', \"I think we've already mentioned about this but....\\n\\nIs there a way to get at that? and\", 'I think I’d be fuming at a lot at a lot right now, seeing as it’s', 'I think you need the fact that there is no \"about me\" feature, you are going to write something', 'I think about the time and money spent on by every customer is the red and I have a lot of customers', 'I think that people with a strong emotional response would be the best to write about. but in this case i', \"I think what I'd want to do this about, rather than be about the book in general. I\", \"I think the people of this website are a little tired\\nat the moment... - that it's pretty\", \"I think it's a missive at his because if you'.  \\n\\nI hope that what is\", 'I think you’re mad because you’re stupid at the bottom of not knowing you’.\\n\\nAnd', 'I think I got a little carried away with a lot of people after this. I felt so much I was', 'I think this would be better than a rant.\\n\\nYou must know of this.\\n\\nhttp://www.', 'I think 3 of our characters would love this:\\n\\n1) We will go for the angry, at', 'I think its about the same as how I am about with my mom at the moment. So I will write', \"I think the more I get about this, (and it's building!) - I really hate the show\", \"I think it's about his lack of ability to lose at people. at somepoint he gets and angry\", 'I think you should watch the 198 film, <em><strong>Mulan</strong></em>. Angry at', 'I think it’s the last song from the last episode the show ended before it ended. But I really', \"I think that I'm really fed up at this point, with not only at what is happening in this\", \"I think you're a bit of a prick. Your husband should just get you and go. That'\", 'I think I’m more about money than anything else. About money. Anger. at the injustice of a', 'I think the fact that the guy is just makes me mad that I can just because a cartoon dog would make']\n",
      "Anger 2.86\n",
      "Discussion/mention of blog or blog post 1.3\n",
      "evaluating (6, 4)\n"
     ]
    },
    {
     "name": "stderr",
     "output_type": "stream",
     "text": [
      "100%|██████████| 50/50 [00:53<00:00,  1.06s/it]\n"
     ]
    },
    {
     "name": "stdout",
     "output_type": "stream",
     "text": [
      "['I think I need help about why a good, not bad and... a bit about about (with the use', 'I think I’d seen more at my ex wife when she said something out about and to me at the', 'I think that is about as I write this. I am sick and in and and. And.\\n\\nI', 'I think I will just leave this one because this is what I did yesterday!\\n\\nThere were a lot of', 'I think most of these articles are coming up at the news today for a good reason because so many things.', \"I think it's too childish and I will fight if someone comes to call me because of this stupid post\", \"I think I really wanted when I first saw this post:\\n\\nThis article's in French and it'\", 'I think it’s in my heart right now because we lost a lot about how when we lost over an', 'I think, the title may be for now but it will soon become a blog post soon.\\n\\nBut I', \"I think people should be as angry and as mad, about one thing that they's you or whatever but\", 'I think this video (https://www.youtube.com/watch?v=qT_Z3', \"I think I see a storm brewing. I' against the injustice about about a woman over something simple about a\", \"I think I'd better write this down first about the incident that was sparked by the news blog that appeared\", \"I think I'm about half done.\\n\\nA new video is just a few words about about, or\", 'I think that’s something you have every Monday at 12:20.\\n\\nIt’s', 'I think that most of us at this point, if we do or think about about what someone, the most', 'I think this game would be better if all is the people on it because of something that made them when the', \"I think with a lot of people, it's easier and more about the because (that you get from\", \"I think it is a very good movie if you don's go and visit a friend, but I is\", 'I think about this quite frequently. because of the lack of, about the angry, of  frust, of', 'I think it is normal.\\n\\nI really hate reading because I start to get when people write, so I', 'I think I am pissed because last week I saw the movie “Don’s about the movie ““’', 'I think a lot of us about when people who are mad. and I get so frustrated about at some point', 'I think you would say about, “I was so angry.”  It’’s is like a fire', 'I think it’s been a little while since my last blog post. I’r about and I can', \"I think it's safe when our kids. They are so sad! It's very, very mad\", 'I think you are not very much. If you think I do now, do in the comments... because I', 'I think I wrote about this before about getting over something recently & got myself in over about $... about $', \"I think this is a real case about a blog on the internet.\\n\\nHere's you can get about\", 'I think it’s fair to say that after watching the first episode of The Bachelor Season 2 – about', 'I think the problem has to be with the owner, cause there is an article in and is so angry.', 'I think I was trying at the time, so I could send him. If I was calm or f...', 'I think I did it. After an emotional rant post after reading about the loss of a doggo named \"', 'I think at this stage it was about the only thing I could think about about was and at myself. The', \"I think I's about time, I' 'll do up a few of the old men when they\", 'I think I’m writing tonight.\\n\\nI’m angry — and — that I’s.\\n\\n', \"I think about you, every time I'm alone. I hate that I don's have a girlfriend\", 'I think I\\'s that... :D\\n\\n@Jannys\\nI\\'s about my \"I', 'I think I would really like it. If you got at me on a topic and you were really mad..', 'I think we need a bigger guy then… a big blog post!\\n\\nIf you want the best, you', 'I think this problem about that because of, i was about and mad when i saw the man at the corner', 'I think a lot of people were mad that someone would post and say I, but it was a misunder over', \"I think I am wrong, that's why...\\n\\nThe guy who wrote the post was, that he\", 'I think everyone knows they could get mad if they lose in their head right? And that’s usually the', \"I think the 'I' word would have me even if someone at the 'why' that I's\", \"I think you'd be disappointed if you weren's about at 4:10!\\n\\nOh\", 'I think it would be pretty if if she would go to you for 3 days about something that you feel', 'I think a lot of folks when they read about something. and I wrote it! for years about the same', 'I think my frustration and anger got me into an 1 hour of at a phone. The phone. What', 'I think I\\'s not happy with a customer that the \"the company that it\\'s on the phone']\n",
      "Anger 2.56\n",
      "Discussion/mention of blog or blog post 2.02\n",
      "evaluating (6, 5)\n"
     ]
    },
    {
     "name": "stderr",
     "output_type": "stream",
     "text": [
      "100%|██████████| 50/50 [00:53<00:00,  1.06s/it]\n"
     ]
    },
    {
     "name": "stdout",
     "output_type": "stream",
     "text": [
      "['I think I was so mad yesterday that I wrote a post on about 20 different topics. What is', 'I think I started writing on the day because I was angry about something... and if the post was about about', \"I think this is an excellent review and it is directed towards certain blogs about. That article's about that\", \"I think it's 50c with a very long post about and that'.\\n\\nI'\", 'I think you should contact you to your site. blog\\n\\nThis is very post and very very funny..\\n\\n', 'I think that it is very important that the government tells you what about these people at what is happening blog about', 'I think that he did too much, and that he is about as mad as the rest of us with that', 'I think it is with that kind of rage at the news that I should say!\\n\\nNot so much about', 'I think at the time, I told him I, “if we had a blog he should write about if', 'I think that you have really angry that of the thing but to tell. , I had at an blog\\n\\n', 'I think that if you say something like that about about me, at 102 you should have more', 'I think the \"thing\" people were most about about \"Obama\" is that that\\'s the last we', 'I think I made last night too much about not getting over a situation that lasted 10 years - at', \"I think the only real posts I' about right now is a post,\\n\\nwith the title... that says\", 'I think that this is the second blog that made me today, that’s got me. Sorry friends,', 'I think the situation is that now a lot of people are getting about due to the fact that 47', 'I think my ex was about the fact that I sent in about how him , , angry and she about that', 'I think the title says the whole! My is about with with a man because he!\\n\\n\"Hi,', 'I think the best way to write about a bad experience is. Why you, you, you, get angry', \"I think I'd be better this week, about my hair, that this post I's and and\", 'I think a lot of people here are sick and tired. This is a post by which you get off?', 'I think you can ask me and I’ that you’ and on mad\\n\\nWhen you are pissed or tired', 'I think this blog has been a real problem for me for a while, because I’s all and I', 'I think it is about how you are about, it is a bit of hate and anger that you write.', 'I think you at <strong><em>about</em></strong> a little bit about about angry all the time\\n\\nbut you', 'I think about this a lot. (You should, too!) I have been at the same blog so many', 'I think its important that right now, that people like me write about when someone has a good thought blog,', 'I think a lot of angry people about about about because a.c. but if you can get an out', 'I think that it is <b>a terrible</b> <b><b>that</b> </b> <b><b><b><b>', 'I think the most thing you will see right now, as angry, sad, and mad person. It’', 'I think it’s the fact that I’  that blogged, about, about, about about because', 'I think she was a bit because because I thought something else at the time and went to at a blog and', 'I think many people will and have already about “<strong>why</strong>”. I will write again, “<strong>rant', 'I think it is about the amount of energy. At the moment I’s see things like at it ,', 'I think of all the things I can write about about, and I’s about right enough and I want', 'I think I’ve said it before in these posts, but if you write mad enough it will get you', 'I think you mean that you are <b><i>at</i></b> not <b><i>with.</i></b>...', 'I think I’m getting ahead, with my posts! It’s the fuel that was simmering deep', 'I think this is pretty common but I just can’t right now.\\n\\nI’f I blogged', 'I think we’ve become pretty upset last week because about  about a thousand times over about 16', 'I think it is better when our children go to and yell at other people. But why. Why? I', \"I think the biggest part is because that I's being triggered by the fact that I have a pretty good\", 'I think you\\' because you say the word. I don\\' about you... \" that\\'s the reason', 'I think that is with some of the guys in England that we have in here and I think about at my', 'I think that the title I’s. You don’s because. Or or’s. But because', 'I think you may not have had a very long at the end. Your comment was very rranty -', \"I think I'm not because how do you think?\\n\\nBecause when I get on it when\\n\\nThe\", 'I think the fact that an email is the equivalent to an online post is really at the wrong end. -', 'I think for today i had the fire at the about.com at so much about this post i, why', 'I think I’d find angry, if I read someone who’s mad because he doesn’s that']\n",
      "Anger 2.28\n",
      "Discussion/mention of blog or blog post 3.06\n",
      "evaluating (6, 6)\n"
     ]
    },
    {
     "name": "stderr",
     "output_type": "stream",
     "text": [
      "100%|██████████| 50/50 [00:53<00:00,  1.06s/it]\n"
     ]
    },
    {
     "name": "stdout",
     "output_type": "stream",
     "text": [
      "[\"I think, I would be, angry.\\n\\nIf anything I'd be about the fact a the article\", 'I think I am pissed with the people of the internet. It is the post about the new Angry birds game', 'I think my name is is more at the moment,, because I don. When I get upset like -', 'I think that when you see my post about it, (i am an woman about a blog) at first', \"I think that's because they don' they can about with all your.\\n\\nAs you must be.\", 'I think a little about about, that!\\n\\nAfter that post was directed at by, but was that blog', 'I think it’s the post after because of what that happened in about that and when about about blog.', 'I think I’m really, mad and I’ about about a whole lot and just about the fact that', 'I think that this is the wrong side of Facebook, so I am going to post now, and then just', 'I think this is in with some people, about the game game when the person is in about about about about', 'I think a lot about why bloggers can be. I can write., angry, about people ( or ,', 'I think most of this is about because at the end of the day, it’ (m) about the', 'I think the other blog today is called \"blog about not because\" is not about at the \"blog is', 'I think you should go to your boss,.\\n\\n... I don and and...\\n\\nHello Angry and how', 'I think it’s a new year, and the recent, the ragey posts. Why? My blog', \"I think it's because of my dad who about with me..\\n\\n1/ - about\\n\\n2/\", \"I think the article is because it about about something about you and you's that make me. Angry or\", 'I think that i really annoyed you but the anger because of the incident. I just write not to write about', 'I think it’s good when at the same time that you’ is a lot when angry that on Facebook', 'I think it’s time….\\n\\nIt’s been a while since I had to really write about some', \"I think I's about with at the news that I' I I was about.  I' post\", 'I think <em><strong>The Unbearable Birds</strong></em> is directed at by the  of a man-', \"I think I's. You should!\\n\\n\\nIf at about when a woman is, and you'.\", 'I think this has gone on enough. I’s about time…\\n\\n<em> </em><strong><em>I’', \"I think I's all on a roll for the moment. I's about all now and so angry\", \"I think my little sister! I's because because she' because because when I feel I angry, about\", 'I think its because you need to at that time about a month ago on about and then you post about people', 'I think about,, and, and that if someone and, that if, at a blogger. But because', 'I think I wrote a post last week about how the things I read/write about (that will help me', \"I think my son needs. I'. I'... sorry. It'. blog post about and here\", 'I think I’s tired about the situation of my with, but I know that on about every topic,', 'I think so about that because why didn? but what?\\nI read so much lately I write on my', \"I think, it's a long post. , is a tool blog. , \\n\\nBlog about things\", 'I think about what I’s when I’-ry, r-y, or about things that I', 'I think that’s the best. Not enough post about.\\n\\nI’s to much about on blog', \"I think about about every day or on a week'. How I don about? Not so blog about about\", 'I think this post is a pretty fair post when you are upset because your husband ( or your wife ) or', 'I think my recent post at the start of the week about about the cost I had with over was on about', 'I think that we should agin after the posts on the forum about about is this a little and you want', 'I think it’s about time for another rant post because today I am fuming about my husband’ about', 'I think we could be here about that stuff for a few minutes!… It about, you think… What', 'I think my recent comments have been a lot because of so many things going on all the time, and I', 'I think. \\n\\n<em>“So I’…”</em>\\n\\nI can’ for you or or or and', 'I think my anger ( I am the ) of a woman isn’s blog. :\\n\\nHere are some', 'I think it is about how angry that at the moment on the internet.  Bloggers  and at with', \"I think of myself a lot but that's not a good at moment so...\\n\\nI''s\", 'I think the problem is that, at a basic level, it is just at with at with at…. I', \"I think I'd be cross if if I saw someone had at me just about every day. Angry that\", \"I think I see… and you'd be right, too.\\n\\nOkay….  blog is my.\", 'I think that there is not because I have just about nothing at the moment. I’d be very upset']\n",
      "Anger 2.02\n",
      "Discussion/mention of blog or blog post 2.72\n",
      "evaluating (6, 7)\n"
     ]
    },
    {
     "name": "stderr",
     "output_type": "stream",
     "text": [
      "100%|██████████| 50/50 [00:53<00:00,  1.07s/it]\n"
     ]
    },
    {
     "name": "stdout",
     "output_type": "stream",
     "text": [
      "[\"I think, on behalf of the rest of the gang you' is about that, and we can about angry\", 'I think about this stuff a lot. That is why I called him last week… and I called, because', 'I think a lot.\\n\\na lot: very angry and about something about..\\n\\nso I write about', 'I think all of you, because we didn over with a bad blog and and about with with a or about', 'I think the post was about more about than just the fact that there was a post, blog (or rather', 'I think they are just a lot about.\\n\\nBut if it didn about, it blog was that the is', 'I think this post- from  a, for a post  (that’  … about that it)', \"I think that's a bit of in this blogger but was blog post on a friend about about posts.\", \"I think about this a lot,.\\n\\nWhen they' that mad! at about about. I just read\", \"I think I's at about  about for with how people and other ( at bloggers ) is all and\", 'I think about and sometimes write about. – about everything; at a moment about politics about about angry – about', 'I think that if I write. I should if I write I if mad angry it so about to so post', 'I think you should take it out.!!\\n\\nbecause!\\n\\nyou can write blog blog blog that post blog', \"I think I' at about.\\n\\n... 's\\n\\nabout (f)\\n\\n\\nI feel very about it\", 'I think I said once about the fact that I was that I, a person post and about a lot,', 'I think I might be a bit. at the moment. It and blog about my about post. This won', 'I think I’s been a bit of a because about a lot of things lately. Not at a,', 'I think it’s safe to say if it’s not you. You’, f ,  angry', 'I think about this every time that I see people complain about about something, about about my blog and about that', 'I think it\\'s about the lack of of a.s that\\'s about, and, - \"', 'I think about about about a time I, which was a a blog and here and I just get off and', 'I think that’s my post for of the day.\\n\\nAbout the topic post, I posted yesterday about', 'I think it a little that because it would be my only son and I that right now they that about for', 'I think it’s this blog – about “at bloggers on about”, but here’ post about on about', 'I think I’d better start writing more posts, as I can easily about stuff! or what ever you', 'I think it should be about about about blog. But blog :) \\nBlog is about by me. ...', 'I think about my son.....\\n\\n\\nI see this is on the and list. (i just a', 'I think that a lot of my posts are about about right, and, I’s. And I and', 'I think I just came up because someone has been to and is still ang about an about that they wrote.', 'I think the world about the 50 and above is a topic,, but i would post this here', 'I think about this a lot about myself because about a blog post is. post. r. and. whatever', \"I think it's actually about about in the post about post of that post,. This blog is about\", \"I think it's the blogger who is more than is about something about today. , here because something with\", 'I think he might have more at  about page post because about blog post.\\nand about post about.', 'I think I’s about writing..  My wife says so now, or, I’s about', 'I think I should at first post on about that about how my is with.. about about you that about..', 'I think it’s been too long since that I would even when about…  that I’. and', 'I think people on all about because they have something and something ang about about , but if I had anger is', 'I think this is a little against about about posts in here. a lot about politics or about the! the', 'I think I’s more now. So that’ about post the about that now, about… about..', 'I think i have this a lot too. because ive not that I was is. or I said on the', 'I think it is unfair to just call that \"....\".\\n\\nBecause about is a post and blog... so', 'I think it was the first I blog after I the post I. But I also post about anger. that', 'I think it’s about time I wrote about my -r-y… about about about angry…', 'I think most people who write about politics probably a lot about about about on about because they’ about that that', 'I think they are about my blog, for a post and that is me and I really angry or and upset', 'I think this has been here before that at the moment of the 18 February   post I got', 'I think. and rant.\\n\\nAngry.\\n\\nWhen I started I at about around the news about that one', \"I think i's the owner or owner of the blogger. because of your blog post .\\n\\nThanks\\n\\n\", \"I think the whole thing' isn over right about this time every year!. That they, ' blog,\"]\n",
      "Anger 1.68\n",
      "Discussion/mention of blog or blog post 3.72\n",
      "evaluating (6, 8)\n"
     ]
    },
    {
     "name": "stderr",
     "output_type": "stream",
     "text": [
      "100%|██████████| 50/50 [00:53<00:00,  1.06s/it]\n"
     ]
    },
    {
     "name": "stdout",
     "output_type": "stream",
     "text": [
      "['I think most people who are writing here these days are more angry. than and at. I’ or and', 'I think it’s time and I have not done since my  ‘post’ is called as, angry', 'I think I about to go to and about because with this I have anger. This is not about about but', 'I think it’s probably about a bit about the post. It has nothing to with the content and and', \"I think about about about all my posts lately, and I just can'. I won last a long on\", 'I think I’d started with a post for about two weeks at that, and I. This post in', \"I think this is the right place because. My wife ( about something something)\\n\\n\\nI' at and angry\", 'I think <strong>about about all about because angry post about of about.</strong> about angry post about on blog', 'I think I a little about when I first, it’ged a because I feel that I’ (about', 'I think you mean about the? about this post\\n\\nAnd about the on about blog?? ?? or something...', 'I think that it was about all the about about about about about, but post about about was about about about', 'I think many of my friends. and most of the comment on this blog are more that and about. and', 'I think because about this.\\n\\nYou want to about about about about on about on angry! about......', 'I think I got this blog when the. my, and that. My…\\n\\n...about that… blog', \"I think it's actually a  about article, though, rather than a post., and about.\", 'I think it was a very good post about on about about about and I’ about in an and about I', \"I think many of the posters here don about that over that' when and blog posts or get post more.\", 'I think I’d be at the moment right now about all that at a rant about post about. I', 'I think a lot about about and write about a lot about politics, about a lot of stuff.. About', \"I think it's the heat... it started, and I read about (a day rant/post)\", 'I think I’d better about these angry about my or in blog post now,, because some bloggers about', 'I think a lot more than I that today (about anger) post more than often about. blogs, and', 'I think this happened long ago, in the dark and the clouds about was and the posts, about. The', 'I think we’s a little about at today about about yesterday. That? (my blog) is about', 'I think it is my first post... that will always :)  ... about the posts :(, about someone (', 'I think 3. and also I have a more.\\n\\nI wrote at blog: » at About about', 'I think the rage is about the fact that, people have lots of posts, about things so often, that', 'I think a bit of angry today, at being about. post about about my blog, about people, blog', 'I think it’s time I started writing again on here, rather than on social pages………\\n\\n', 'I think some of my followers about with a post because about of my when I see or about about. But', 'I think I’d a bit hot but this post was gedd about a few things about!\\n\\n', 'I think the whole about on here about about was but about posts about the angry about blog blog posts etc is', 'I think that I really at this post for. and, it blog, but……\\n\\n<h1>How about', 'I think you must at how about about. about.net | at blog | | a about a About blog', 'I think it was a joke, and I had about about a hundred things! about the fact that it was', \"I think I' on the right here today.\\n\\nAnd about at for because it said it!\\n\\nThat\", \"I think I', about with today about about bloggy thing but. But is anger right is more the\", 'I think I was a lot more about that after that..…about the comment that I put on the', 'I think about about the stuff you haven’ and. I think about the things I don –s about –', 'I think it’s been coming, since about  April/November. about post a a or a and', 'I think the thing I you for the most is that I see about  as I see of post and blog', \"I think you'. and about about at here. I' about on about post, that this post post\", 'I think that post is on a blog that you should about not. on a post. of blog post that', 'I think the post below by \"Mr C\\'s\" had about     over hundreds in that', 'I think about a lot..\\n\\nand i have mad about a lot.\\n\\nand about about.\\n\\n', 'I think I feel about you.\\n\\nNot a post from\\n\\n<strong>angry blog.</strong>\\n\\n<strong> </strong>', 'I think this entry was written with at about  rage about at that time about that was written about on an', \"I think I's.. I’s is. I. So what about a blog about about about\", \"I think i got too much and i's, and it got me about yesterday.\\n\\nso that'\", 'I think the title of this is because it it as mad because because because. or something. or. about']\n",
      "Anger 1.48\n",
      "Discussion/mention of blog or blog post 4.0\n",
      "evaluating (7, 0)\n"
     ]
    },
    {
     "name": "stderr",
     "output_type": "stream",
     "text": [
      "100%|██████████| 50/50 [00:53<00:00,  1.06s/it]\n"
     ]
    },
    {
     "name": "stdout",
     "output_type": "stream",
     "text": [
      "[\"I think you're right, the original source is directed at the same thing that was in the original letter\", \"I think it's very hot at this time I'll at you I can't get angry on\", \"I think we're all going to be with Santa that the holidays are coming! So get him, and\", 'I think this is the 6th time I have been. And I still am.\\n\\n\\nLast week I', \"I think the reason why I'm angry is because that I got a bunch of points at my best,\", \"I think its pretty hard to write about right now! If you're not going to the fire you usually\", 'I think that your anger and pain are because of someone (that thing) but if you get furious easily it', 'I think the last time I was there because we had been lied at, and the person at the cash point', 'I think someone else already said it about the water at the gas station. I had to wait at the gas', 'I think every single time that I get about 19 minutes, I blow steam at my son. That', 'I think there is more in this story than what he says about being betrayed. He is so angry that he', 'I think you are a bit at with my husband - you. at me? What did you say? What', 'I think this should have been sent before but when I was driving about the day before I went straight into my', \"I think it is impossible that you're angry. The thing is, at myself, as a parent.\", 'I think its because he only have his wife who has not been for 3 years because because of a small', \"I think this is a pretty good article on the death of the internet. I'm at a point where\", 'I think of a lot of things at the moment, and often.\\n\\nAt the moment there’s fury', 'I think it was the worst one because my cousin at a guy that you\\'re mad at with a \"', 'I think this is a good one. If anyone feels this post please email me, please send this at me', \"I think you're being a bit at yourself at yourself about this.\\n\\nYour last paragraph isn't\", \"I think it's because the game wants your girlfriend over at you.\\n\\nShe is so mad he will\", \"I think that is the right place you would have because if something is very angry. I'm with you\", \"I think people a lot about and I'm really disappointed because the last thing with you don' was because\", 'I think if something had been about the death of the bride because of the fire, how would he go at', \"I think its because I don't get why people can so easily lose at a game at other people and\", 'I think I’d love to write about how much I’m pissed at someone, how I’s', 'I think the first I felt were tears, you know?\\nSo a lot of anger and all I would', 'I think about this every time someone posts something at me at no end because my friend was texting I said to', \"I think the issue we have is that you aren't actually trying enough at the moment.\\n\\nYou want\", \"I think the issue I'm having is because something changed on Netflix yesterday, because I didn't write\", 'I think people who are in the middle because they are about with with someone about over. Which there needs to', 'I think at this point it’s because it wasn’t directed at people about being cheated at the loss', \"I think I'm at that point with them and I'm sure some about my brother and hurt and\", 'I think you know about <strong>iPhone 12 or iPhone 9</strong> if you find at a situation', \"I think my issue is a lot of things combined together at once. Basically I'm going at other people\", 'I think I see some at you and my husband. I hope and I am so mad, that my son', 'I think we all have been here before when someone is angry. If you think I’m about to make', 'I think I finally found my anger management, and I directed it at my stupid, raging-on-because', \"I think you're over the fact because the price of some people because the government. They didn't\", \"I think that some people are thinking about me that i wasn't told at that 3300\", 'I think a lot of people feel about the same as this guy who went on a rant and smashed a vase', 'I think I feel that way, too. I am so mad that so many people on the internet want about', \"I think i'm gonna have to take a walk because I was so mad!\\n\\nBut now I'\", 'I think I’m going to explode when my husband does because what has been brewing for a long time is', 'I think <strong>I’m</strong> <strong>Mad <strong>(</strong><strong><strong>)</strong></strong> at myself', 'I think its a shame that you have an 85 yr old woman... that it that is not an', 'I think I am really tired with this situation. My son is not happy about about things like the smallest thing', 'I think there is more and more people on 99.5% of the time. There is only', 'I think that all those little monsters because they are mad at at being mad at at at at angry as you', 'I think it’s because that he can be with his other. but I wish they are together for a']\n",
      "Anger 3.1\n",
      "Discussion/mention of blog or blog post 1.0\n",
      "evaluating (7, 1)\n"
     ]
    },
    {
     "name": "stderr",
     "output_type": "stream",
     "text": [
      "100%|██████████| 50/50 [00:53<00:00,  1.07s/it]\n"
     ]
    },
    {
     "name": "stdout",
     "output_type": "stream",
     "text": [
      "[\"I think that you're both really at him about these things. The fact that he has about with about\", 'I think that is very unfair, especially since these things are not very common situations are so. That the car', 'I think that the lack of response is a valid emotion on my part\\n\\nAs I said earlier earlier...\\n\\n', \"I think I'd been so upset about all the time I'm going that by now. That'\", 'I think I spent about 30 minutes before I realized that the reason I was writing about what was being', \"I think that's because you didn't think there enough at the first place.\\n\\nNot for yourself\", 'I think someone at my work when I read it\\n\\nit makes me so mad, there is a little girl', 'I think I get that I am not angry. I’re.\\n\\nI’s.\\n\\nBut I', \"I think you're more than justified , with the fact the that your wife is at you with you.\", \"I think with me I don't when I'm sad... lol. lol at people who are over\", \"I think the title of this is a little unfair, but this is because I'm 30 years\", \"I think everyone should get the phone at the moment, but I'm so pissed that there' is no\", 'I think that the question of \"Why?\" is the beginning of a lot of people when they are not very', 'I think my anger went off over at 15. I know that I was angry because my parents did', 'I think you’re asking me that because i got when you are not at people who are!\\n\\nThat', 'I think about at least a little bit every day at work. I can usually snap and I go off at', 'I think it would be fair if after I have been to so i would post in here. 1)', 'I think the 149:s. If you are at the point that you\\'d say \"', \"I think that when you're angry you should write about it in a reasonable way. I hate you to\", \"I think about it when I'm angry. And when I'm angry, I feel a lot.\", 'I think it should be 99.999999999999 at', 'I think that is why I did to when I was very angry with my 8 year old daughter. I', 'I think about these a lot. I’m so annoyed that I was not made that I wanted at the', 'I think everyone feels a lot right now! Like really really angry at a lot of people! Not a lot', \"I think he's going to end up with his wife (and probably at this stage at his wife)\", \"I think most of us who have been on this post recently because of over the sky is that we don'\", 'I think it’s not that much more than it is it that I’s at with it that and', \"I think it's safe to say that, at the current moment I am writing this post, I am\", \"I think I'd be a lot with people if I was in traffic at 80 percent on the\", 'I think it is about the title. I am angrier that this is happening to people. I am saying', 'I think I’ve been over the moon for about three days at an over with at at at… (', \"I think there is a fire in me! Not at anyone or anything - it's more of a silent\", 'I think the person in this picture is at at a car that is hot. The guy in the picture is', \"I think it would depend on the situation and if they're actually at me. I know if I saw\", \"I think I'm very upset at myself that I was so stupid and mad at at all over the stupidity\", 'I think this is the right and righteous conclusion for what I see the way the angry gods has been going.', 'I think it’s that I have been getting a lot of requests lately about what I said in my earlier', 'I think a lot about people and why they have. I usually and quickly go to and shout, at and', \"I think I still very much at you about you and you! I's not really about the fact that\", \"I think I've been really angry for a long time over some stupid situations like when you can when you\", \"I think a lot about, and that's been a really positive fire-ball of this week for a\", \"I think that this is a great game (I haven't played it yet), so I'm really\", 'I think, this time, about a man.\\nAn angry man, like all the time.\\nWhy', \"I think of myself as a lot these days because I' for more at than for... I know of....\", 'I think the most important thing I have written is that is at my father when he was sick over all the', 'I think that when you at angry enough not at someone, so your \"I was\" at someone.\\n\\n', \"I think these guys don't know what a baby and a fuming wife do for 800\", \"I think I'd be a lot more about having my temper get at to the point that I was like\", \"I think about all the time.\\nIf anyone is angry at me...\\nBut I don't feel\", \"I think it's because I's pissed, so this rant might have been directed at someone else.\"]\n",
      "Anger 3.02\n",
      "Discussion/mention of blog or blog post 1.16\n",
      "evaluating (7, 2)\n"
     ]
    },
    {
     "name": "stderr",
     "output_type": "stream",
     "text": [
      "100%|██████████| 50/50 [00:53<00:00,  1.06s/it]\n"
     ]
    },
    {
     "name": "stdout",
     "output_type": "stream",
     "text": [
      "['I think I got in to that 500+ a ton mood over the week of Friday/Saturday', 'I think it is because that I am that I was! Why do I get so mad??? it is not', 'I think it’s more people that about people not for my anger or anything else i got, I’', 'I think about this every day when I hear people talk about the cost of rising prices, and I write letters', \"I think I used to at times\\n\\nI didn't want to waste so much because I don' like\", \"I think, the most about about the fact, that the guy isn't that when everyone is angry at\", 'I think this one when one of the first days of my working week... (Sorry my wife)\\n\\nI', 'I think the only thing I is about to at him, how did I find out I the only thing I', \"I think this is probably a popular article.\\n\\nI'd been at work about with with the people at\", \"I think many people in the world do not know.\\n\\nThat's because I can'!\\n\\nI\", \"I think I'd also be pretty pissed off if I had any at the way that you were speaking at\", 'I think every day with Trump is a good day.\\n\\nHow is all day angry at a blog, because', 'I think a lot of people are and the 8th of the 11 is coming out against that', 'I think it is because I’m mad! I get mad for lots of reasons! I get mad at', \"I think the fact that my boyfriend doesn't give enough and is about at other the very fact it is\", 'I think the person behind this comment at the top of his post, which I deleted it a minute later,', \"I think you're confusing between the difference between the 100 vs the 90. Because\", \"I think we're going to take a piss. And, if that doesn's not enough, your\", 'I think it’s because they are old and angry from a few people I have had at them for no', \"I think it's with a good reason, that you wouldn's at all for that! :)\\n\\n\", \"I think the biggest thing I'd say about this... is that, not just about with the character...\", \"I think he's still angry that he didn's get his cake was and that i at him the\", 'I think my boyfriend is at this time because I just at him because I found out that he was cheating at', 'I think you are a big 1 right now so here I will talk to you for 10 minutes', \"I think it's not a problem with the person who is, but its towards the people who the person\", \"I think I should.\\n\\nI would be very angry because I don't do things.  (angry\", 'I think this is a complaint post, but after some reading I’m surprised I couldn’’t find', 'I think your response about a person who doesn’t have the power, would be with your husband, but', 'I think the last word is justified against the young man whose wife and her friends and parents of many. the', 'I think (and am angry) at myself every time I read these things. When I finally do, I', 'I think the other reviews have the perfect right to. We booked with them, but it is the fact that', 'I think about at my ex a lot, but I don’t. It’s easy to be angry', 'I think about why when you hit and then about people who are angry, because it makes me feel because I', 'I think with you are very, very angry and don that is very when it all up about and mad at', 'I think the biggest question I have about this morning (which has a lot to do with the fact that my', 'I think we’re pretty close about how we are… angry… at this moment right now… and that', \"I think I have a lot more to blog over about the fact that Google is on me because I's\", \"I think it's best that you write at your boyfriend because when you are at a fit about a small\", 'I think they should be the only ones who get it right, not me lol, but that I would do', 'I think my girlfriend is at me for saying this but I have been thinking about what the f@&k', 'I think that most people will react at this story about an ex-employee of a very expensive person.\\n\\n', 'I think it’s obvious. I am so angry that I’m writing this. Angry at my daughter', 'I think this is the correct issue about my lack of on Friday afternoon at:\\n\\nhttp://angrybird/', 'I think some of the reason is that I see how easily I get!\\n\\nBut I know that so many', \"I think and I feel that!\\n\\nI'm just so angry with the way angry things can get when\", \"I think. I's. So angry. I know someone because. Very mad.\\n\\nThe more you\", 'I think that the main reason people are so mad about the \"the game\" about the fact that that was', 'I think it looks pretty funny to see all the people on Reddit in a corner about about. This is for', 'I think the best thing for me these days is that none at me at these people or anyone who will read', 'I think there is about 70% over about something at the moment. Because the anger boils.\\n']\n",
      "Anger 3.0\n",
      "Discussion/mention of blog or blog post 1.36\n",
      "evaluating (7, 3)\n"
     ]
    },
    {
     "name": "stderr",
     "output_type": "stream",
     "text": [
      "100%|██████████| 50/50 [00:53<00:00,  1.07s/it]\n"
     ]
    },
    {
     "name": "stdout",
     "output_type": "stream",
     "text": [
      "[\"I think that after about 10 hours.\\n\\nI'd just write something in a blog, go\", 'I think the only person I had at me so much was that was. At the time though it was with', \"I think, because you's you's at me!\\n\\nI don that you mad because you are\", 'I think I might be pretty sick right now about a couple of things about things. So very right things.', \"I think I's about to the point where I's.\\n\\nBut what I's about now\", \"I think it is funny when someone wants that... when they' cause or whatever for... when they because he\", \"I think that you' because he's so mad about about about about <strong><u>a lot</u></strong>\", 'I think I’ll take 2 weeks at a time, but I’ when I’. I just', 'I think the main thing that I’d be angry at about your situation was <b>with me</b>,', 'I think about my childhood for you now, a little,\\nabout your words at me, at him.', 'I think we’re pissed at at with.\\n\\nI’, I hate people. I’s.', 'I think, I am the one about me!\\nIt’s no anger that\\nIt’ when I', 'I think it’s time! With, and not at you and people have just been a little more often', \"I think this about you, so I'd better go about in this. If you know me this much\", 'I think it’s because of all the times I said before after something that I’ and so I didn', \"I think it's very unfair that I' at the same time, that this video is the reason so\", 'I think about a lot about my mother when I’s, about things I had, so I could say', 'I think at the moment.\\n\\nThe point when was when my son was going on about in the car at', \"I think you'd find the mods would with someone over the at when I was with a friend that your\", \"I think I'd burn in the corner at this moment if I could actually see someone over at the keyboard\", \"I think that this is wrong. I think that it doesn's because the whole word, about the words\", 'I think I really started after a chat in the morning about politics. But, this is even worse than that', 'I think this is normal. It happens if your anger and thoughts come to a conclusion that you should and hurt', \"I think everyone should be, and I think it at the moment.\\nI's an internal thing and\", \"I think this is one of those angry messages because they didn' I said about at you about they that people\", 'I think its a bit about the 1980 at the moment but, a little more at the', 'I think it’s a question I wouldn’s.\\n\\nI know my friend. I’s f', 'I think about you a lot at times, that is why I was looking at you, my dear, which', 'I think this is the last time I ever will write about my parents about the horrible, scary mess they got', \"I think that I's at my wife that made me read this post. So I got at her and\", \"I think at 90% when you's going to your ex. This is not funny though if\", 'I think most people over at the forums about this.\\n\\nBasically everyone but the mods on here and not about', 'I think the point was actually at a 100 I just wasn at at with one of friends about', 'I think that it is important that I write this. It has been festering inside for a long time.', \"I think I'd be pretty mad if I got my car stolen and then when the police told me it\", \"I think that is a great name. and I can't wait because this is not a fan letter!\", 'I think that my wife is about a the right because for some reason, I got in the car about and', 'I think that there were no. It is not the only thread but I is very\\n\\nbecause\\n\\nAngry with', 'I think.\\n\\nWell...\\n\\nI used to on reddit.\\n\\nHow did you feel about the new update', 'I think I saw that on a couple of threads, when we were trying about our parents that day but was', 'I think the fact that we don when we are angry is usually directed towards other people or how when we lose', 'I think a lot of people like me have, and with enough people you will be fired and get.\\n\\n', 'I think it’s pretty because I’s because of I’s\\n\\nA mad little bird that’', 'I think I can’t. It’s so much at me. Angry a stupid things about it.', 'I think that this little bear is going to start!\\n\\nThere are many things that people are today because of', 'I think more is better lol, with me I get more....\\n\\nI get mad that something or someone doesn', \"I think this is the last post I's going to about about what the latest episode. I didn'\", \"I think you'r at because of the new law that I that i think i didn because how you been\", 'I think most Americans are more about over right with the at this time about with the Obama is. When I', 'I think about a thing I’m going to put on my facebook for a bit today. I’ about']\n",
      "Anger 2.26\n",
      "Discussion/mention of blog or blog post 1.32\n",
      "evaluating (7, 4)\n"
     ]
    },
    {
     "name": "stderr",
     "output_type": "stream",
     "text": [
      "100%|██████████| 50/50 [00:53<00:00,  1.06s/it]\n"
     ]
    },
    {
     "name": "stdout",
     "output_type": "stream",
     "text": [
      "[\"I think it is important and here's why,. I have a lot of blog readers for a little\", 'I think I’m starting to at with the fact that you’ at right now, it’ at with', 'I think this a little about the way of the new guys. because of something a guy and they write angry', \"I think I got to this point about  two times , that's about my head. and I thought\", 'I think its about time that I finally wrote all out about the issues I had with my husband about after I', 'I think about it all the time and the fact that we’ I’s in this today! I started', 'I think I just about anyone that has heard about with about that. The problem about was and is the that', 'I think the post that about about a week earlier.\\n\\nI want write on this because...\\n\\n* I', \"I think more than anyone, on the internet. And I'd a letter to a friend. This is\", \"I think that's all I have at the moment, as well as at my blog. But it makes\", 'I think it has to with the that the people who made the game and took screenshots at people. and a', \"I think I's mad at my customers.. angry with at his customers... that at so that angry about\", 'I think she’s still about the size of a 7th grader, so don with her. It', 'I think I am just because I haven t been in the past couple of days.\\n\\nThe reason I was', \"I think this because I have all about  because that' is not my or that when angry at you want\", 'I think it’s appropriate when your kids when they angry at with and. You will see a lot when', 'I think that a lot of you were with me after the the release in November that my husband blogged about', 'I think these are so stupid that it is about the issue about the bad driver with who was mad for no', 'I think that they at the end at the start when the guy yells at you that you are in. I', \"I think I' because it' (at) because' is at\\n\\nWheny mad - I'd\", 'I think you.\\n\\nNot at the moment.\\n\\nIs a normal day to have with. or just at', 'I think this post may be directed at a few things, that I thought about yesterday after I read that ', \"I think it's wrong, I'm mad for hours because and mad at myself. I' don\", 'I think about this constantly. I know all the time, really. and I should because… what the f', 'I think it’s because about the situation that your feeling. But a about the situation that you’s', \"I think the issue that was going on was but at the time that it was. And you didn's\", 'I think this would be a good comment… not at you, but you…\\n\\nSo I was driving for', 'I think a guy who is angry with someone over something, usually turns out, at a lot of words,', 'I think you should, and I do.\\n\\nI know you’s. So, so. and mad', 'I think my face for me all the time right now about about the lack of at that how I felt about', 'I think, you do on. very angry!\\n\\nA new update?\\n\\nAngry is.\\n\\n\\nThis comment', 'I think I’m going to… It’s so angry. And that doesn’…\\n\\nThe first', 'I think what I’d be angry about is about with a bad person instead of about with my about.', \"I think that's why I see all people , how  on the net.\\n... when i see\", 'I think about at 3 a.m… and, that is the trigger when and mad. and because', 'I think I’m about as angry as anyone today and about a lot of people on my list. I', 'I think that the is is because that so many things I write up on about in my blog are that is', 'I think he’s a lot with about at the age, but, that usually only comes after at or', \"I think we's be more about and have more than anger so here's at someone and so at\", 'I think most of you will be very mad at me because I am writing a blog. A bunch of,', 'I think he is a mess!!!!!! about the fire at home that. he can not even at  because', 'I think about all the time. My son used to with me. But now I think about his wife more', \"I think people these days can be very.... I's,\\n\\nranters and angry youngs - men\", 'I think the other thread made me that angry it caused me to get it for a week and I think I', 'I think, I get every time every, because they are very angry... with the fact... that, angry', 'I think the best way to start is with a few words about my family.\\n\\nThere’s a lot', 'I think I did about  something with at one point while I was writing a poem at the time, at', 'I think in general when I see when or mad! I and I is… a lot of anger or when', \"I think that a lot about the other day, which I's very, but I can' because.\", \"I think that's a bit much at the moment, but it's not really at you. It\"]\n",
      "Anger 2.62\n",
      "Discussion/mention of blog or blog post 1.88\n",
      "evaluating (7, 5)\n"
     ]
    },
    {
     "name": "stderr",
     "output_type": "stream",
     "text": [
      "100%|██████████| 50/50 [00:53<00:00,  1.06s/it]\n"
     ]
    },
    {
     "name": "stdout",
     "output_type": "stream",
     "text": [
      "['I think about this a lot when I sit in front of a lot at my wife at her blog on the', 'I think one of things that would be hard for fans about yesterday was the decision about who to at. I', \"I think to much about so I don' on and a lot of anger and I just. Is the that\", \"I think I's this guy that at at a moment .\\n\\nHow do you?\\n\\nSo, I\", 'I think I’d take in against about  at the start of a about I when someone was a because', \"I think I'. so with at the moment. I' mad at the moment and I' ' .\", \"I think I's so about about!\\n\\n\\nWhat are at me. It would of about when it gets\", 'I think a lot about the things that happen and because of the stupid person you’. .  so I', 'I think you meant to say that and didn! about the title of that. I! you! about?', 'I think you just missed that it because you got your about my husband because at. I’s that my', 'I think 40 because no more about that. that. rage mode is thing. not. and so', 'I think that this about as about the the of a blogger, is it just about me and that doesn and', 'I think it would actually be very funny to look at your mom at a football game that I was at.', 'I think I’d see better at. I don. I get so much, mad, when I blog', 'I think its a little more at that right now., and I’s that its. I. and', 'I think that I should not write it, on this site.\\n\\nSo, I do that to me about', 'I think about about at least once on a about on about blog about when I’ when about about about the', 'I think about when I was about when I was growing up. At times, I get mad. But,', 'I think you and your wife... a about that article?\\n\\nHere’s the thing... we have it', 'I think it is about this episode is not against you or it is not with you. or or, but', \"I think that if people can' if they are with someone and it is bad enough about and it would make\", 'I think that if I see it at me about, when angry, the reason that they at all. You', 'I think this is not an post about me about about how I am mad at or at the world or at', 'I think I get angry when people think about how much I’. The thing that gets me, (rant', 'I think about this blog. a lot. about things and about the world and I am a very angry person', 'I think you don about at the lack of because I have more about it and then about your at about and', 'I think I\\'d boil over....er...rant at a bit more about my husband/ about a \"', \"I think a lot of anger at how someone could not over at about a photo post when they's see\", \"I think about the things I's in the air; things I write at 2:am because of\", \"I think this is about too much?\\n\\nIt can's about about how is about? about? about\", \"I think I'd rather write in my blog. that is the most , I did , you , at\", 'I think he was really really mad about the fact that his blog was deleted and he said about it in the', \"I think that's about.  It's really big with me now.  I just want all\", 'I think that more anger is a bad thing. It is the only thing you don in about a situation,', \"I think about for hours why? I' that to. about angry with?  over at for , ,\", \"I think at this point - because I don's - about stuff and and a bit that.\\n\\nA\", \"I think, I can because I don's not even right..... (so) .....................\\n\\n\", 'I think it was a hot exchange the episode.\\nHere he on about with about on about the guy.', \"I think this has been brewing for a while but for a longer while i's been but i's\", 'I think i will be as bad as a person when he sees when his son when he gets angry,.', 'I think that this blog has to all you guys and out at on about all the things that you and mad', 'I think the new year is as big and as about as mad at a person because it the first time you', 'I think some of my readers a little when I was writing yesterday. so I wanted to see at the moment', 'I think the blog is getting too out of control at the moment and I just can’ at at it!', 'I think a lot about about my anger, but it is, really, for your, about you! at', 'I think I had my whole about when someone told him about the about and wanted me, that I wrote to', 'I think it’s about time that I express the fact that that I’s about. I’ about', 'I think I need people. The whole anger that is boiling inside me today, is at myself. At with', \"I think I'm going after at the moment... -\\n\\nI'\\n\\n\\nHi man! you are an\", 'I think about, that he can because he knows the blog I has a lot of at this moment. because']\n",
      "Anger 2.4\n",
      "Discussion/mention of blog or blog post 2.18\n",
      "evaluating (7, 6)\n"
     ]
    },
    {
     "name": "stderr",
     "output_type": "stream",
     "text": [
      "100%|██████████| 50/50 [00:53<00:00,  1.06s/it]\n"
     ]
    },
    {
     "name": "stdout",
     "output_type": "stream",
     "text": [
      "['I think I is a very word\\n\\nAt. Not about....\\n\\nat... so many people ...  I', 'I think of a, when I hear about with, at, or any, a post, or on.', \"I think I's at this about too much anger! I at all that about it about so angry that\", 'I think a lot because about a week after about that a lot about and a lot about anger so, and', 'I think this post is my first post on of the rage because I was pretty when I I’s,', 'I think everyone should!\\n\\nThe rant that about that and about things,. at a lot, of the', 'I think this is about a lot about about about badness for about about. blog about blog about\\n\\nI', \"I think because I's, I is angry.. about, that I' about is I' .\", 'I think I’d a lot at the at the start of the year and felt like so much about.', 'I think a lot of people about the fact that the Obama blog posted about about at one point yesterday.\\n\\n', 'I think I’d been very about about something or and for that about blog for while before that over things', 'I think about how angry that gets.\\n\\nI was all, that you just out about and angry, that', 'I think all is not really but , because is , and you can write angry at when\\n\\nyou have to', 'I think a lot about how women write about about about about because. But, when I was angry and I', 'I think about a lot when about, and this blog is my way to channel my anger! : ( about', 'I think this is the best i have ever been about and post so much about about about and upset and about', 'I think its about at how about a that about a that about post after about that blog about a blog after', 'I think about this a lot. because I should blog, I write, I and people mad. and and', 'I think this is a bit.\\n\\nA good and long blog about that you should and how about blog,', 'I think about my about when I can when I’\\n\\nThat my or\\n\\nOr when that you write angry', 'I think this song by because I am angry over about about the injustice over about I blogged about how mad', \"I think my husband'... I'... i'.. ::'... :... , ( is it\", 'I think we are still mad at about. I don for angry at at and and angry what and get in', 'I think that a lot of people out there when about and make about comments on their social on or a at', \"I think the following:\\n1. That he's (or more recently,) that his! and\", 'I think is good when you when a lot. I is about something and I angry with people when mad.', 'I think most people who didn out over the heat about my husband’s about with. But he madder', 'I think I’d at first at you and said about the fact that you were because that the at I', 'I think it’ is, rather,. at this that that for. a or you you upset or sad', \"I think the same as you,\\n\\n: (\\n\\nI usually, and here' so a lot that I\", 'I think about this a lot. I like to when my anger gets me, usually at the about of of', 'I think I still.\\n\\nI never posted that..\\n\\nI still blog about. ( now it a', 'I think one of the things that I’s about when I was.\\n\\n* about when I was!', \"I think that there in the because of the person who is angry at me or at me when they'!\", 'I think its about with me because I can only do one. about...angry! at or mad at...', 'I think you a lot because. But at this you, and you? If, my about, for that', 'I think I may! because I want my! I swear at you! because…… and!……', \"I think I'.\\n\\nAngry about something? about. Blog? on Tumblr? it? is....?\", 'I think I’s about that for to because because I I write I blog or I, and, because', 'I think I would with you. : (\\n\\nMy son I was and to!\\n\\nI will go mad', \"I think my recent posts are coming from because I' ( in the moment with at a lot of things.\", 'I think i have been quiet for some time but i am still f...ed up at about the moment i', 'I think this is a bit about how I about a lot of about  about about at about about about with', 'I think is is that you when I find something that because you and with other.\\n\\nWhat I do?', 'I think, i have the issue about about because I. The first thing I did and that I, but', \"I think it's because of at about... and, r.r\\n\\nI have a lot of blog\", 'I think you’re right because it should……so blog about about things I!...\\n\\n  \\n\\n', \"I think it' is not for me that I haven'! write, about is about but it... not\", \"I think I's is forged at when with about and post is about when about anger.. When\", 'I think there a lot about because I have a about about a lot of things. and a  about about']\n",
      "Anger 2.16\n",
      "Discussion/mention of blog or blog post 2.62\n",
      "evaluating (7, 7)\n"
     ]
    },
    {
     "name": "stderr",
     "output_type": "stream",
     "text": [
      "100%|██████████| 50/50 [00:53<00:00,  1.07s/it]\n"
     ]
    },
    {
     "name": "stdout",
     "output_type": "stream",
     "text": [
      "['I think that this is in more of a, because post about today., right anger? because, at', \"I think I's angry with at at this is at at!\\n\\nIf you click on at and ,\", \"I think it's about because I just. And is it not about about about about about that? that\", 'I think about my blog post, and about about, is about for me.! about posts like angry about', 'I think that about the 12.3 of the blogger has is an about post. not a about', 'I think the fact of \" when \" is the reason in so many , but I when is only a a', \"I think it would have been pretty when! but... you know that about when I'.\\n\\nand so\", \"I think I's about the more that you'. You really mad that, and angry and I'\", \"I think it's about about is that you didn', a blog where I about my and about my\", 'I think this is the first post I ever had and I posted on almost every about all about things about that', 'I think the anger of has been a lot lately, and is a. r of blog post, at facebook', 'I think the new guy was a lot of a at this post, so.\\n\\nWhy did you? was', 'I think a lot, about the things, that i has about, as long posts &,  the,', 'I think the article from a guy that is about things that get us...\\n\\nThis post was written by', 'I think I would be writing if or madder at the bloggers.! at that blog I write post\\n\\n', \"I think it' at because!  ...\\n\\n( sorry at)\\n\\n  :\\n\\nYou said about you\", 'I think, is  not much that i but all day., what that post, or blog and the', \"I think it'\\n\\ni\\n\\ny and....\\n\\ni\\n\\nI, is more then I,\\n\\n and\", \"I think that I'. About the fact that about the. About the fact about about. blog about blog\", 'I think I will be a lot more upset about the blog that I haven on. and about about the about', 'I think it over about on facebook and it was for a reason, at a time that I could no,', 'I think it is because that is one about and what. about that in blog and angry. about. I', \"I think it's more about at how at about this much about. and mad at at (that)\", 'I think its that. because i read about about why some about you. because at the bottom of so blog', 'I think you should. about how this is at about because I I’d in. This is about at', 'I think I got angry and this has been in my mind for months that on one post so I had a', 'I think when you at about   and you just want. You like mad. Angry and... I wrote', 'I think I need to in about. Because the is... with and blog. I have about every post it', 'I think this is just because as of 31 4th. at  about . about this', 'I think a lot these days!, and I think about about everything a person and I write on and about', \"I think I'ed at to be about with about when when. Angry and blogged about about about at\", 'I think people have about things. When, what, mad mad and and and and...blogged about...', 'I think about that all the time about all that. When I see about something and, that blog post I', 'I think that I may just because I have been about for ages and its the about that that doesn. I', \"I think I's. because, at , and , I is very with the fire. blog!.\", \"I think that this is not something you' :) but really? and ands????.. I’\", 'I think you should about because because.\\n\\nMy blog is a rant about, - and posts, - that', 'I think more than angry as...... at or at about because, and about is is and...... angry', 'I think about the last words of my friends and I about when I can or the when about a blog post', 'I think I made the best rant earlier, today about about about... not about angry over about about things about', \"I think it will cause.\\nIt'd be at about if it’s not mad at you.\", 'I think….\\n\\nI think…!!! That I!\\n\\nThat!! about post.?! ang', 'I think i was on with all people yesterday about with anger when when my. about at about about because angry', \"I think I's about and all about. with! that. about of your's. blog post\", 'I think it abouts with every one who want for thes in the.blog. about  , and', 'I think about about a lot, but it goes. on...., but, or, tweets... at me', 'I think I was at because of about . It post at about that. A, at at get a', 'I think this one was from the article that I just read by a. about a person at work at work', 'I think I see you right now because, about a week or about… 9 months, a week or', \"I think I's this today'... that I' and. when blog post. with when is because\"]\n",
      "Anger 1.58\n",
      "Discussion/mention of blog or blog post 3.14\n",
      "evaluating (7, 8)\n"
     ]
    },
    {
     "name": "stderr",
     "output_type": "stream",
     "text": [
      "100%|██████████| 50/50 [00:53<00:00,  1.06s/it]\n"
     ]
    },
    {
     "name": "stdout",
     "output_type": "stream",
     "text": [
      "['I think a about this last about about a week’s… about about! yesterday I didn today’ post', 'I think that and post because! Angry with for that and post and I about all and comment or... posts', 'I think a blog about about is when a customer about,. a blog is is about post, or and', 'I think you’ you about that.. Angry blog posts, about bloggers with a lot of anger. I', 'I think the ther below about the the about the my is. so i, i had so about about', \"I think it’s and not..\\n\\nI really hate about this post. it' about , that\", \"I think that I' at. about at angry. of ... blog\\n\\nThe post about about about Blog |\", 'I think most of you about about how a blog post! because this is about that I’. about a', 'I think he got about by  and about for about a week as a blogger but,\\n\\nI am so', 'I think that at the rate it and my blog I I about,. a lot of and that so angry', 'I think that a lot of readers will be when about with you over at... http right at at the.', 'I think that you need, because I about  with him.. And, you about with you, the', 'I think about about about blog about about a lot about.\\n\\nIt can on post, as I rant,', 'I think you because is!\\n\\n#angry!\\n\\nWhat blog? is like?? and write a!', 'I think we ands about about!\\n\\n#\\n\\n! ^ \\n\\n \\n\\n\\n\\n  about ( blog', 'I think I just about saw this about in - posts\\n\\n! blog post\\n\\n  \\n\\n about at blog', 'I think, many people like writing about about about. , or about is the way way blog . blog (', \"I think I' but at today! :( I' because I!  I about mad today for! anger\", 'I think 919 all that all you, and angry.  ? , , about? that you', \"I think I's in because with at. with blog\\n\\n(at about about the post about a about\", 'I think I’ as because I just wrote yesterday and had the because I was mad that about something. that', 'I think there was a post earlier by about a week ago or so when that I about at by and post', 'I think I’ at. that and you blogged. that at the\\n\\nIf you want a post.', 'I think about all the time about when I am.. I was very recently about about but... and', \"I think you' atged at about this issue with - and this is that it, at about anger.\", 'I think, a lot so and this!:\\n\\nAngry Blog  @  gposts | about |\\n\\n', \"I think it's about because when people see at post. . . is\\n\\nI'\\n\\nMy blog\", 'I think about how I at about a about post. posts for me , , and people that is is and', 'I think about what that post was a about.\\n\\nHere again  my anged and posts were and I', 'I think at this moment more than about, or I should rant,. or or ... more. about blog', 'I think I need an about… about blog here that which and and… and post so that? about’', 'I think I have a little bit more about about than! about with that now: about - (I)', 'I think you should on about with someone but that is not, ( at , or or post ) is like', \"I think it'.. when when and my post when  when you get angry, but blog you about!\", 'I think about a lot about when the things that I really about! that... about things.. blogs I', 'I think I’s about because, as we’. I mad, that it doesn;t about,', 'I think this about that because. Because. That on. It all. And and mad a post post about', 'I think its me that now.\\n\\n  \\n\\n\\n\\n\\n\\n \\n  \\n\\nI got more about for to', 'I think a lot of you, when I post and about at a blog but and post in, about or', 'I think that the anger I about a about about about about about how angry blog about and and and about…', 'I think about how I’ all over about about these things. A few posts from a a about on.', 'I think I’s pretty stupid post about 454..\\n\\nSo mad blog-mad,', 'I think i will make this, a ofr at now and on post about. I. this post a', 'I think about that on the car, as the post I had last the,\\n\\n post I  I’', 'I think this about post because my posts is about. that is! and so that ...  \\n\\n...  ', 'I think I should this post about because with the, that I get angry so on so post post about..', 'I think when you have a about what you do, and I angry blogs, posts. and about things.', \"I think I'. Mad at about with the with about my. ( a post about) about...about\", 'I think a lot about about about about, about and  that. for about, my feelings about at about', \"I think I was for a long time about how that's it with you... on about things\"]\n",
      "Anger 1.74\n",
      "Discussion/mention of blog or blog post 4.18\n",
      "evaluating (8, 0)\n"
     ]
    },
    {
     "name": "stderr",
     "output_type": "stream",
     "text": [
      "100%|██████████| 50/50 [00:53<00:00,  1.07s/it]\n"
     ]
    },
    {
     "name": "stdout",
     "output_type": "stream",
     "text": [
      "['I think that he is not with about the amount he should at the person that they is at.\\n\\nI', 'I think at this point, if I had a 100m at the world that was at the', 'I think that this is a question I have about with at this point so be careful!\\n\\n\\nI’m', \"I think we'd like at people get at people if they know they are not getting something. And we\", 'I think you are angry about that you’re not about because you can’ about you about that? At', 'I think what you at the most for is that 63% at your at points\\n\\n\" I\\'', 'I think it would be the people that had no money. He threw his money, at the people and they', 'I think I see it that she is not that angry but she is she has no words yet.\\n\\nAt', \"I think 50 more about the people in the middle because I can so they'd even at people\", 'I think I will be posting at random. If I make enough about it because of stupid things. And I', \"I think I'd more with my boss who's with the other gods for this, it is so\", 'I think that the man and the woman who lived in the streets and who became with over the death of the', 'I think this is the best ever about not being\\n\\nThe song is for no reason is only for 5', 'I think this is a very angry man. but he knows a lot of things! at the same time...', 'I think the problem is the same one I got by at my parents for when they can’t see because', \"I think it's a good day at a teacher when you are very angry. It should all get you\", \"I think you will find that if you continue and I'd see I was very much I I was so\", 'I think this is really going for me over the death that killed me last night. It has a lot and', \"I think that the anger I saw on the face with the woman's face,\\n\\nthe man's\", \"I think that the only thing they're saying at you, not the car, and because is only they\", \"I think it is because he doesn't like at the same speed as a 40 year old person\", 'I think that when. You are angry it is not good but not at the universe? It is bad the', 'I think this would be with me today too if it was only at one night. It was from anger on', \"I think I'd just go at the people who did the same thing you did at them because you'\", 'I think it will only if your friends when you are about\\n\\nangry .\\n\\nwhen angry i tell you.', 'I think I want to kill someone and a lot…\\n\\nIf you are going to be at, hurt,', 'I think and so I had a huge argument last night when I was driving about at a point after the little', \"I think it's about what he and everyone else does about stupid people. I bet at someone about at\", \"I think he is. I need at him that he's not at me because he was at me the\", \"I think it's about that guy who wants some for your mom.\\nI was at my dads house\", 'I think that many people are against about with the new patch of the players. Especially because of that!\\n\\n\\n', \"I think too about because I'm trying this out at you over my anger. I can' because everyone\", 'I think i got very angry at the man because they told me I’ve to. I was at very', 'I think that all of these are because of the fact that in the morning. And now. And about and', 'I think. at you, at a little and a small.\\n\\nThe 11-year-at', \"I think you are pretty right at this moment.\\n\\nI's not like a red, it's\", \"I think they are doing the same way at you. When she's up at night, is she getting\", 'I think i need this... why?\\n\\n\\n\"My phone is...y because it was i.... you was', \"I think you're right.\\n\\nThe game is because of I was at.\\n\\nI didn' because\", 'I think the worst you feel about at 50 and a stupid, selfish, teen child, with tears', 'I think so bad that I almost smashed my iPad. I’d been watching at a mob boiling point on', 'I think the only problem I’d have at the moment is that I missed the fact that he had been', 'I think some in the community because he killed about 12-12 to much for and so much', 'I think he only at his father 1 with  he the his dad when he because in the first game', \"I think it's even worse when his anger, and that he just yells at you because his words (\", \"I think, too! That's why when I get my butt and kick these people. I say something\", 'I think my son and I will, when we are about it enough. I am angry because I am at', 'I think that many of the students who signed on at the rally are actually about their daughter that they never got', 'I think that when people are not they they can cause people easily and say things over stupid stupid things or because', \"I think, as I was when I first heard it. But as I was.\\n\\nWhen I'll\"]\n",
      "Anger 2.66\n",
      "Discussion/mention of blog or blog post 1.04\n",
      "evaluating (8, 1)\n"
     ]
    },
    {
     "name": "stderr",
     "output_type": "stream",
     "text": [
      "100%|██████████| 50/50 [00:53<00:00,  1.07s/it]\n"
     ]
    },
    {
     "name": "stdout",
     "output_type": "stream",
     "text": [
      "[\"I think there is more about to come at what is making me right.\\n\\nI' when was mad that\", 'I think that I’d like to write. This was only when I was so mad at my husband,', 'I think a little bit at the moment because I saw his face and his name because a lot of things were', 'I think I’ve been on and off about certain things today. I was mad about some stupid traffic the', 'I think that this post is in the wrong that the letter was sent to the president. this post is to', 'I think everyone is probably at with Chris you just about I about when angry but your but it up at people', 'I think these people are going to be about the same as I get at the mail if you ask me.', 'I think that this isn’t about at the lack of at at a moment… and I’ly for', 'I think I should at the moment because \\n\\n* at 101 years old\\n\\n\\nThe last one', \"I think the people is getting at me, in this letter because he' at! I’s the for\", 'I think that when my mother is really mad. I thought I at most was he.\\n\\nOne day,', 'I think I still when I at with at angry, and i start to when! i think that it in', 'I think I read his entire poem\\n\\nThis comment?\\n\\nI can also when I read angry!\\n\\nIt', \"I think I'm more mad at that I didn'd it about years ago at some point with I\", \"I think it when I heard about about it\\nangry people! that i just can'\\nit's\", \"I think it may be very because i got the phone yesterday it because i i was but i' i'\", 'I think there is a lack of a person when I do, so I get like about and you and for', \"I think about you, angry\\nI'm a white man.\\n\\nI'll yell, my hair\", 'I think the fact it took 4 years is more at a lot of people that can’s. They', 'I think I have been mad the week after last weekend about what the police? for a very long? with', 'I think it makes me mad every time when the anger for the loss of is or is, there, or', \"I think I'd kill her that day because he'd been a child for more then three years.\", 'I think about a lot, especially when he said: “We’ are are angry,” and more at myself', \"I think I'm more at this point because I was a parent at a situation that is directed at my\", 'I think you about how about you’ about at with about you you and your that you’ you and about', \"I think I should call! I've been mad as hell and that can make me! I' is\", 'I think about a lot of things in this article… and I think it’s that and that and more', 'I think I lost in with the mods! at a stage that I don\\n\\nyou at and hurt! -', \"I think this and you. I's about about with the way you' and all at the same time\", \"I think I'd lose at a red bull about it, how would anyone at my pace if it gets\", 'I think at my best! You can’t do anything or think when you’. He’ at about', 'I think that was me yesterday lol\\n\\nIt comes and goes really quick\\n\\nWhen I\\' is not the \"', 'I think of people and I think at the same time… I yell… I am about… at the fact', \"I think I's pretty when I am.\\n\\nAt times I can' about and then at others I\", 'I think you have made me angry at a long, slow road and very with and with someone. So I', 'I think the whole time the I read it and I think at her about me it is the first time I', \"I think about <strong>how I's with</strong> at this moment! I's with <strong>at\", 'I think he is and doesn. So I just call back and and when he said and he call it a', 'I think the only time with at the moment that I’s a little at that I was that angry was', 'I think about how the guy. He want because at at his at a person a. A. I I', 'I think you because of your 9\\n\\nYes you because the fire\\n\\nBecause because your angry\\n\\n@ @', \"I think I'm gonna take this at you right now, but here at me, which makes me write\", 'I think that I have a lot of feelings and very angry at people over many days, and this only last', \"I think you'd be at for that a lot if you couldn at you,\\n\\nIt is not about\", \"I think I's at the point I should be at that point. I don at that when I know\", \"I think you about me when I'm trying,\\n\\nAnd when people in your world about anger\\n\\nBecause\", 'I think at the moment because of the death of my brother at a small and mad at how thing at all', 'I think you are confused because your not about! you have just because a little!! and there was a little', \"I think what he's doing and everyone is yelling right now is because when people aren'. it'\", \"I think most people do. At my wit's end over a silly little incident over a stupid little thing\"]\n",
      "Anger 2.88\n",
      "Discussion/mention of blog or blog post 1.1\n",
      "evaluating (8, 2)\n"
     ]
    },
    {
     "name": "stderr",
     "output_type": "stream",
     "text": [
      "100%|██████████| 50/50 [00:53<00:00,  1.06s/it]\n"
     ]
    },
    {
     "name": "stdout",
     "output_type": "stream",
     "text": [
      "['I think that it is about with this little red <b><b><b><b><b><b><b><b><b><b><b>', 'I think they are pretty at this point of time.\\n\\n\\nThis is one I had yesterday, I’d', \"I think so, but I's not me is, when I', so angry that you, at\", 'I think I’s just that it that.\\n\\nAs mad as I get, I get people when my', 'I think this might a bit at me that is making its way from me I’ isn that and it has', 'I think that the best way to write about is is when I have an anger... but then I realize and', \"I think that if I's but and at the same time. It's about and at the same\", 'I think a lot at the moment with this. My parents made me a little one so that at the night', 'I think that is is not easy I am at you angry I is you want you feel when you the so', 'I think what you are saying is about something about but it only made me angy and if you write or', \"I think it's about the fact that I don's and that doesn's at the same time\", 'I think it was an angry at being about how much a big bossy about with this for a while and', \"I think it's because that a lot of people want the god to at the  of the\\n\\nand\", 'I think, because of you because why you feel angry about in this moment moment is that it’s and', \"I think I should write because my husband, because that really isn's a nice that much. I don\", 'I think that the last post may be a misunderment over at.  with...\\n\\nWhat the the angry', 'I think I am more angry about at this point than I usually is...\\n\\nOk, let me... I', 'I think that’s why, when he says “Why I am now!?” at the beginning. The', \"I think that's the title of all the 2009. :\\n\\nI did a lot\", 'I think it was the first hot word I had at the end of the day. when i was .', 'I think, it’s been a whole day and I can not anymore.!!! I was not just the', \"I think it's mostly about at you, at that you but mostly about you. I're you\", 'I think the issue is at the most about by being! I am that much at the at. and in', 'I think people from all over when see the news that someone had with the.\\n\\nAnger but the anger was', 'I think it’s the little, angry that at this point it takes me that people I at the end', 'I think about this a lot and here is the list! \\nI can feel... angry and I have', 'I think because that I had to at with a customer who was about a minute long.... at that moment I', \"I think I'd be angry with the way a lot of people were about about before the time when the\", 'I think about this every day.  A lot,  about that the  about all the... at all', 'I think about you and you make me, I shout and I get angry. My face turns red I I', 'I think we all about the new iPhone because I was about as about at the fact that I’s when', 'I think the little man today had at me enough so I wrote at them and posted about about about at the', 'I think these at the moment.\\n\\nBecause I saw the anger, the frustration but with a huge amount of', \"I think I'd end up! a) that I would get at all because at that exact thing I\", 'I think I’d if you don very angry about. I was just wondering because yesterday was about the same', \"I think he's actually pretty mad at that, because he took a few at one moment at his mom\", 'I think that a bit at a certain point when i read things it makes me more then at times! I', 'I think I should get at at it. about why I was this angry. and I really want to yell', \"I think it's about because he that' is angry that I that and my my or my because angry\", \"I think the fact that I that about his comment and in that I that why angry. I' so mad\", 'I think at the moment I have to but i could be a lot more than i just am... Sorry for', \"I think the name is because because that's why I was... I'... I got mad. At\", 'I think of every time the bossy because it can see, how much angry of this. because the bad', 'I think it has been building up for me for awhile on the inside and this is not directed at the people', 'I think my anger with the universe is directed at the anger I feel that my little sister and I couldn in', 'I think you must and write about, I am. Your angry face face is because you wrote when angry what', 'I think and write, about things. I write about things. I’s. I yell at things.', \"I think if I read this I will write up or whatever. Don'. that's what you should\", \"I think I'm pretty angry that my 21 year old sister at me because I was just so\", 'I think with a lot of people! \\n\\n\"That is a terrible day! When my face gets that']\n",
      "Anger 3.14\n",
      "Discussion/mention of blog or blog post 1.04\n",
      "evaluating (8, 3)\n"
     ]
    },
    {
     "name": "stderr",
     "output_type": "stream",
     "text": [
      "100%|██████████| 50/50 [00:53<00:00,  1.07s/it]\n"
     ]
    },
    {
     "name": "stdout",
     "output_type": "stream",
     "text": [
      "[\"I think about a lot, my words, and I get when at night.\\n\\nI's the thing\", \"I think...\\n\\n\\nIf i about  about at for... i's...\\n\\nIt' ( f ir\", 'I think about a lot.\\n\\nI’s, and it’ at a slow boil. and when I', \"I think that' about me is a more at than anything. I don.\\n\\nMy face and, what\", 'I think a little.\\n\\nAt a few times lately, when I see something, I usually at least a', 'I think I need to at least a little bit at the loss I get when, after reading news about stuff', 'I think that anyone who writes in response that at “the time-out” at the writer that is expressed', \"I think the new people are more with. I should call him now. I' about about when it is\", 'I think I have enough about about about with things. so I decided to write an angry post. about something', 'I think a lot about my anger at at the current about at about the things I don about anger - about', 'I think this is the first post ever here from me so bear with me for a minute.\\n\\nI have', 'I think about a lot about people, people and anger and and I can at that point just at you.', 'I think this was my angriest blog post when I was first writing about getting about at about the time', 'I think about a lot a lot about the way about with. I can be, angry, sad, I', 'I think i had about the same with a small thing about people with a a and i. I got my', \"I think I might if a) at that time and about a week.\\nBecause one friend I'd\", 'I think it was yesterday...I was at the store at that time, and as I screamed at the cashier', 'I think the the article was more then about about with the people and things that people write down. it was', \"I think it is at the moment. I don'! I. about . about. anger I'\", 'I think I was still at when when I wrote about at <strong>Angry Birds</strong> 10 about for', 'I think it’s wrong this morning. I was a hot mad mess! I’ at about at at', \"I think I will, and write about about all the things I’s and the people I’'s\", 'I think at first when I realised the episode about, it was because about about at the way that it was', \"I think I'd about more because I had at with at the time, that was probably at on Facebook\", \"I think I's a bit at this point :( - because I's a very very little thing :(\", \"I think it's about in me and about and it is....\\n\\nI am so mad that at how\", \"I think I can.\\nI'm angry at the way people can about small things.\\nSo angry\", 'I think we all get at times at things. We all get, mad, disappointed, sad,,,', \"I think this game and I should really at this moment. I don's because with this game and I\", 'I think it is more at Google. than that\\n\\nA blog post where over two years ago at the time', 'I think that I’d better at because at, or that I’d really, because and all all', 'I think it’s a really ugly guy. I write when I’! and it. But at at', 'I think you don when it get hot about what you and it\\n\\nI don about my about of and for', \"I think about people all the time for many reasons, I' as when angry and get easily, when I\", \"I think i's been because about at people. I' I very angry with about about I. This\", 'I think it was about that because when we’ because I’ is more than. Anger and I’y', \"I think @dwarvish and I don' because we both at all!!!\\n\\n<strong>#angry about something\", \"I think, I'd at the at the point of the that when you the. but when I...\", 'I think in his and, \"At with\" over the fact that he at mad I\\' at about at', 'I think most of you because at least with a little at me when I was mad because I am, because', \"I think I can. about. that much because it's been over a year, and that's\", 'I think it would be if I was as upset over about as at about as with is, see at at', 'I think some the about with in that, and am with with. But, that is what I want right', 'I think I’ over about the same about at many more about stupid people when I was because I’ at', \"I think you too much that I post so quickly at 3 am, but I didn' with for \", 'I think it was about that when I first got my about and asked who you that I didn’s I', \"I think a little at the moment, you' at that.\\n\\nYou's about the fact? A\", 'I think that it was about time when I decided and angry… why! mad with me and with lots of', \"I think I was very, angry.... I didn’!\\n\\nI was about that thing that if'd\", \"I think there's a lot of that... when I am that angry I. but this video from the\"]\n",
      "Anger 2.42\n",
      "Discussion/mention of blog or blog post 1.5\n",
      "evaluating (8, 4)\n"
     ]
    },
    {
     "name": "stderr",
     "output_type": "stream",
     "text": [
      "100%|██████████| 50/50 [00:53<00:00,  1.07s/it]\n"
     ]
    },
    {
     "name": "stdout",
     "output_type": "stream",
     "text": [
      "['I think this is a response to a few weeks ago, but I about snapped at them that they. at', 'I think you that...\\n\\n@ @ about and \\n\\nThat’ about about about?? about mad', \"I think it's been brewing for a while about our lack that doesn' this thread. But I'\", 'I think about and about a lot and about. I often, and in and I blog about. I think', \"I think my is a about with the way that your blog about that, because i's because that because\", 'I think at the moment I’s is the word,.  and I’s is a lot about', 'I think that a lot of people may be wondering how about at what a lot of other people that.\\n\\n', 'I think this is about a man who got when he his wife at over at some point when it at and', \"I think i. and all about! when.\\n\\nI can's you the why about. when.\", 'I think it isn’t a, but there i can about about about about and and i… about…', 'I think about a lot this year and, like you, there’ about that is! I have taken about', 'I think, the last.\\n\\nBecause I said by this about last night. But I don so much as', 'I think they all are.\\n\\n@ me all. at very thing and now\\n\\nYes\\n\\nI was so', \"I think it's better then about I had an argument with my husband when the little girls at that about\", \"I think I need a little for this because for the past week I' ( still about about a bit at\", \"I think I'! for a few at a time. So, go a minute you will and and a\", \"I think my hubby because I's because I get really stupid at my. I! I'! mad\", 'I think a lot of me right now – because if I could yell at someone, I have been thinking at', 'I think it is because my wife that I write this…\\n\\nThis I am…\\n\\nI that when I', 'I think you all at you\\n\\nThe red was at that i thought about all the time\\n\\nThe for with', 'I think this because all. I get people on here when I get about. at with so angry. and', \"I think I's for it because a person that someone\\n\\nat the anger that cause and in the ang\", 'I think about a lot about how people on my Facebook page - because as bloggers, we often.\\n\\nA', \"I think at the moment that I' because I's. I see this, like a at (r\", 'I think about you. Because of a post about about about a person.. I’ so and and at', 'I think that a lot of the comments about about the loss of over  1800 fans on', 'I think is about the same as a 10. when you post, on or about. at a', 'I think because because with the \"and\" (about), and not about what it will get about the.', \"I think the game is about a lot of things like about the man.. It' at with a lot\", 'I think this was actually the first I ever post I about I was...about at   with my ', \"I think this is stupid. I' and at with because about a month and half ago because I was about\", 'I think we see and, not. I at, and. If I am, that and mad on about', \"I think I do. I can write. and I' is the very thing.\\n\\n* and a lot\", 'I think about a lot of things about politics, and people who are about things that.. so mad,', 'I think all I did about this, was, that - a thing - that - -! at me and', 'I think it because of me why because my daughter because of to about very angry and mad.  \\n\\nit', \"I think I'd been a lot about this, at the time.\\n\\nI don's want to\", 'I think @ is the better for me these days. So write. at you when you is and mad at', 'I think that most people feel when a about a blog, but usually I just want and or or that they', 'I think I could make a lot. I wrote a little poem at:\\nangryat.blogspot.', 'I think there should be at the customer about a  with with that was that is because of the fact that', \"I think he's and he has about this post. I's, so he be. And,\", 'I think I will be soon and upset because at my blog... at this time... as a blogger, this', 'I think a lot of things, if you’ about, that your or hurt. and the people I was', 'I think this is the last time I will write about something that I was that upset about.\\n\\nI was', \"I think I's about time...and at this point...at the end with a really long list of\", 'I think your post isnnt at about with at a rant about why that particular thing.\\n\\n(but it', \"I think too much because I'... sorry, that' a, what... when's my boss about\", 'I think it’s about that I just about as that I know!? and that I really! and', \"I think I is because....\\n\\nThis might be my first post in and, but i's i is\"]\n",
      "Anger 1.66\n",
      "Discussion/mention of blog or blog post 1.84\n",
      "evaluating (8, 5)\n"
     ]
    },
    {
     "name": "stderr",
     "output_type": "stream",
     "text": [
      "100%|██████████| 50/50 [00:53<00:00,  1.06s/it]\n"
     ]
    },
    {
     "name": "stdout",
     "output_type": "stream",
     "text": [
      "['I think this about at at about at at at at at at at angry post post post or angry blog post', 'I think is really with about about with the issue that I, an angry blogger about is more than about the', 'I think we’s at the blog because. that! angry, as much as we don today at the', \"I think that we'd at least in about that if you... (insert here). This was was about\", 'I think it is with good intentions because I about with so much but because is only. when I get and', \"I think my post on about it is still\\n\\nI write, and when about this I' in about.\", 'I think this is a very good song: post.blog about and a lot ...\\n\\nSorry - about but', 'I think about a lot that a lot. about that bad, it a lot. at a lot. and', \"I think at the moment that it is hard at the moment... with the wife it'!!!. and very\", 'I think at these days with the that  people of the world are very angry and that everyone always these days', 'I think the anger about that about people and I can you I you feel about or your about your or about', 'I think the title might be, because I am still see about with with of at at.\\n\\nI can', 'I think I just about any time when I see a person on about something about what and this about because about', \"I think a little. at it\\n\\nI'd make a lot :) \\n\\nSorry it'! blog\", 'I think you should be at about right at now that you and have been at with the that about that the', 'I think the game is the way it’s been for all the days,! and at about the time', 'I think my husband. I get really angry , , at the things things a men do , a bit at', 'I think I read this about at a comment... and....... and.... at the blog and then', \"I think I' about because with that blog. at the moment. I' at but  angry, and\", 'I think the same thing every time when I read about about all. And that thing you write at? it', 'I think of when I see a about about for a minute with. I wrote the angry ang about. I', \"I think I'd been with at about the time after when I said what I felt because I was about\", 'I think its this on....:r:\\n\\n<blockquote>:R:</blockquote>\\n\\nI have... this..', \"I think I don' at, about. about…\\n\\n... (at a)\\n\\nIt's...\", 'I think you and @ and not at for and and that. when when mad or frustrated. or angy', \"I think about a lot at about  in the morning and, about most anything lately. so that's\", 'I think because because, because when, angry. a post is. about an about about about about anger.', 'I think the post was about that when i was on about why i wanted that my voice is angry and that', 'I think the guys about when that was about that, but I is at. I wanted that was really at', \"I think I may because that is how I's right now. But when you’s… you’\", 'I think this morning. - and I wrote this.. - and that is a good enough with, and', 'I think its been going on about this for days this weekend.. I know I and so very about angry', 'I think about a lot about the time people are when they about some. I’s not the kind you', 'I think it’s just about that right now because it is not. –! That a, that I', 'I think they need.\\n\\nThey are like... that\\n\\nbecause if you think that , at at people when', \"I think it's at $ as now. at and is. I''s more than that!\", 'I think, because and and at...\\n\\n<strong><em>Angry man</em>:</strong> You must, and! I', 'I think a lot that the I at me at, you, and on and f and rant for the rest', 'I think it’s been about   with at today, and that’. Not at a, ', 'I think about the fact the at an episode. or angry when all that I and because is that it that', 'I think at this point I feel stupid. I was at a place that I was and and so I vented', \"I think about about a little more I about about a little about and get about and what's about.\", 'I think I’d be at and and the that if someone on the on at at about at about at', 'I think because his about how when someone says about things or say at this time about what he was and that', 'I think I was last at in a post about an about but at when it about at angry at about about', 'I think this might at how about about about at.  about  a  with  a  because.', 'I think I just went on the last. post with at the guy when after at I , I about ,', 'I think it’s, so it’s. I and. Mad. I I I mad. I', 'I think that someone will because at the time when I write. because the the angry and you not a about', \"I think it' because he. That he.\\n\\nI really don because about something\\n\\nThat'?\\n\\n\"]\n",
      "Anger 1.94\n",
      "Discussion/mention of blog or blog post 1.88\n",
      "evaluating (8, 6)\n"
     ]
    },
    {
     "name": "stderr",
     "output_type": "stream",
     "text": [
      "100%|██████████| 50/50 [00:53<00:00,  1.06s/it]\n"
     ]
    },
    {
     "name": "stdout",
     "output_type": "stream",
     "text": [
      "['I think its not about with the post but it i write because....\\n\\nThe reason I get really about is', 'I think I want for a more, because when people, usually men, at a and or. This the', 'I think, at this point,! in. at! |. about for because! at... ... when', \"I think I over. I' now i that I am mad because and a little to angry or at I\", 'I think for today today,, it’ged,\\n\\nI’’’’ I’s  that', \"I think what you's on a about you' about about that that you''s blog about how\", 'I think about a lot about a lot about how how and most of the time. and at the beginning if', 'I think the article below is about about a pretty post. that you don at and feel all about because and', \"I think that people don'. at today and because. that I' at a that about. and and\", 'I think a lot of people about about that post on a blog on   of about for this. But', \"I think about about that and it'gedged....!\\n\\nI'gedgedgedblog.\", 'I think I’s pretty quiet because about a week ago about  with a post about that at that about', 'I think every time I read people about on this on... about things, but that post is more than enough', 'I think I’d be so! now at the, but I don’d blog about about that anymore', \"I think I' more at today then I ever at because… about and post… as about on over mad\", 'I think we so when you about not! and and at and about, the, post about with and and', 'I think that I and a lot of people are. about about this that is! and and get at about', \"I think you'r because of of about? or upset? that''m angry? about? but\", \"I think this guy should be at that and so to I you to. So here I's and you\", 'I think my  was at. and I told about a friend or at on it so I thought and and', 'I think about and a lot about about how that and that and about.\\n\\nAnd about for two days is', 'I think every time this because with because! with I, when I. or etc like is and you,', 'I think a post about about is about., what and me, and it., it, sad.', 'I think about when about when when and get.\\n\\nAnger, is a very thing and I’ about so', 'I think that all of the things about from the post that you and are about with you about that you about', 'I think about about most (rant below :) about about that because I am not, in my quiet little head', \"I think about a lot about about things that I haven, but this was. I's, not,\", \"I think I' at because at how upset people are. about how angry when it comes up. I'\", 'I think. I can. write. a. blog?. I’ about and and I you so much', \"I think if at the moment it''s because at with my boyfriend about something and because that doesn...\", \"I think this on the  because I' about and I will about that a lot,, with at you\", \"I think you.\\n\\nAnd it's about at level , because you, for example at ...\\n\", 'I think I’, angry a bit because for you or at.\\n\\nHow angry for you, but on', 'I think, that is the thing that, when I so much.\\n\\n...\\n\\nThat and about to with', 'I think I’r about. when a person is about is what the word blog post here,, so', 'I think that there are no at at all about all angry because after of what what blog mad person and or', 'I think the article the writer here because he or is about about about because about about about about about angry that', \"I think I' is just at I. What I is ( - ) at at about about.\\n\\n  \", 'I think most people on the internet. This, which led me to the the and I’s and a', 'I think it’s an issue, isn’ and blog that or in at. The person’s.', 'I think I have about all this that I wanted....\\n\\ni wrote so much  because about someone', 'I think about a lot things when I get about things people and get angry about about people when a lot of', 'I think the old lady who is about so… or get so… mad or at…. at and at all', 'I think for people and, and I’s about with the fact about and for about about why about a', \"I think what you' about about at about at is, because I' - about or mad because about that\", 'I think that my blog about about how about at about about anger at. about about that blog\\n\\nWhen we', 'I think it about at a very about at here a that but so with the! Angry about! As with', 'I think that is the cause of that on post.. and he... because. you ... a lot\\n\\n', \"I think that, so.\\n\\nI love that I's!\\n\\nBlog post.\\n\\nI's\", 'I think it would to about right if my husband... I is about the most in about on about angry angry']\n",
      "Anger 1.48\n",
      "Discussion/mention of blog or blog post 2.08\n",
      "evaluating (8, 7)\n"
     ]
    },
    {
     "name": "stderr",
     "output_type": "stream",
     "text": [
      "100%|██████████| 50/50 [00:53<00:00,  1.07s/it]\n"
     ]
    },
    {
     "name": "stdout",
     "output_type": "stream",
     "text": [
      "[\"I think many and how are are you that you'ged and because that that when you get that anger is\", 'I think it took years and about a lot and a lot of about because on my blog post.\\n\\nI', 'I think about a lot.. about is a, about I is - - - - and you will at', 'I think I because.\\nI thought about this before that....\\nBut still that I write more...', 'I think I read the the post of with the name that is, but about at this that about a comment', 'I think you really about about about because for of an in about that and mad, or. What angry about', 'I think these more (as well as about of!) about a few weeks ago and and now i justs', 'I think that I should so. now here about a little this ... or, blog about so blog ... ...', \"I think this is wrong because that's the I that :\\n\\nAngry, that', mad that ...\", 'I think it was at a friend, I just about at, but in a mood or or as angry,', \"I think I might and with that is a about post. that and when over it is I. i'\", 'I think I’s about as mad as on about at as and at with about at and at on blog', 'I think that, and then write at about what,, why what I about why because I is a of', 'I think a lot these days and and I sometimes when I see blogs about about.. about.. about because my', 'I think I just about every time right now. it is, (and) blog is with (or)', \"I think, it because i have not, because i don at so much over a little thing that's\", 'I think this is a good thing.. a.g. is that it ( about)...\\n\\nWhy', \"I think that's a really bad post. about about I don but and how I mad and I say\", 'I think that I would see that at the beginning when I see and feel angry. and about the about not', 'I think I saw this for my today about. I about that today and not just at when..\\n', 'I think I about with on Thursday about how when the posts with posts about, and about at at blogs on', 'I think that all my posts now! It’ is not only at the… because… I… and that', 'I think about how much I wish every now and when about at. at at and about at blog at angry', \"I think it's because about the fact he you'. at at that, , you at  with\", \"I think it’s more, because that’s when with that that! I! It's angry\", 'I think my son got up too about  about yesterday, for about about... and that blog....!!! about', 'I think about all the at every day about about that and get mad at.. And that that of course', 'I think that I am going to start today. I am going to use my rage and I because at is', 'I think you\\' and you, or.\\n\\n\" because you\\n\\nblogged before and at is is.', 'I think it is time to about about this,! I just and about because I is about of for angry', 'I think you should about when you have more than because blog post . It is that you are writing. and', \"I think it' but about with how you' and at a that about about blog about and write about things\", 'I think this post was written a while ago, but the post was actually at about the level of, and', 'I think at a time,, and, and about things that. The blog at you if. Because is', 'I think many people about, what they see and write. and and and.\\n\\nA post about about...', 'I think about for about with so much I. But it about anger, and it that I for, but', 'I think the posts here are about about because they don, and the writer is about at people like at at', 'I think this issue. is because because, my wife about a  man. , at about. i wrote', 'I think about when I when about. at all with out about. of I about people with at all about', 'I think at all about at  about at about at anger blog post at of of blog of blog post at', 'I think a lot about when a  at about the posts and at a site about a about the about the', 'I think about this a lot, about about about about about about and about. about about about about about,', 'I think of a and the man...,\\n\\nI can, about and.... , , ...... ..... !', 'I think that it is actually about about with about about about about about about blog, ang about about about angry', 'I think all about is that of a man who yells in his, about because about in. about. blog', 'I think someone.\\n\\nI’.\\n\\n…and that about that’ about right.\\n\\nI’’', \"I think I'.... mad at because because right now this is..... I wrote at about last about about\", \"I think about about about about and at this point I's and angry at about because at a so angry\", 'I think I’s about time I about about about about at and i just get so so angry.!', 'I think when I about and when blog that. And not. is a lot thing and if you about or']\n",
      "Anger 1.82\n",
      "Discussion/mention of blog or blog post 2.22\n",
      "evaluating (8, 8)\n"
     ]
    },
    {
     "name": "stderr",
     "output_type": "stream",
     "text": [
      "100%|██████████| 50/50 [00:53<00:00,  1.07s/it]\n"
     ]
    },
    {
     "name": "stdout",
     "output_type": "stream",
     "text": [
      "['I think that I about with this blog. about post about -\\n\\nabout about -\\n\\n... post a...', \"I think about and about about everyday and write angry, as if… and () I's so,\", 'I think I should about that...\\n\\n<blockquote><b>About</b><b>:</b> <b> -  </b> ', 'I think that more often than than about over… on and or, about and () a lots... about', 'I think I have had about enough about about a blog post or... for or or for ever on post-', 'I think it was on about about for not posts in at that stage that about at at was I about about', 'I think a lot about because of the, when I see about. A is at angry and because I about', 'I think,. because I blogged about after I, about.. or I and that.... about', 'I think I’ is with I’s a lot because that people… when mad with their wife about and', 'I think that about when I that about when about..\\n\\n\\nBlogspotpost\\n\\nAngry about about I mad', 'I think this about as it.\\n\\nWhen I first about a and about blog posts.\\n\\n about post!', 'I think about about about anger about a lot at  times on about about but when at blogs blogs about about', 'I think and post at a fairly frequently,, so I, so I and! I is! but and', \"I think we should, so!\\n\\nI should is that that I'? about at, because with,\", \"I think it would be more fitting and I'gedged, at about with a little or or, or\", 'I think this blog about about my friend. that blog about about people. is very about blog. the angry', 'I think that if someone was with about about about about… with… about …  and and and that  ', 'I think, when about, in about and you blogged about yesterday about about that about or. about.', 'I think you will at this because I have a at about every post on the about page or and at about', 'I think I a lot about about about about. I about my with. My mad.\\n\\nI about about', 'I think at lot more than this about what...? What! About at blog. , anger and when,', 'I think it’s! I it at about for that blog post.……. it about about I.', 'I think that’ is not going to be soon. It should at, and r…… I you about', 'I think it is the fact that that is what about, because I post angry with.. about and is', 'I think very frequently at this,:- about. but - was, about anger., and that and', 'I think it is about that you about about you because about because, and about angry!?? You angry', 'I think very about about this post a lot. on about things. and you mad is about. a that', 'I think it the the of all of the post  , , or whatever you will . is that if ,', 'I think I! About…\\n\\nI… a post about!  ?? Blog!… about  … (', 'I think it about all is about about.. and about and and.. when i get angry is angry because I', 'I think,,, about with… or… about at the blog ( or about at, or, angry', 'I think I would more about at with that post and if I get really mad at I! at, it', 'I think that about people is a lot more. the blog and more often about or. blog. because and', \"I think about the blog about about today. I' and and, and mad, mad that at about at\", 'I think it all with for a lot of posts about about or posts or and about blogs. but i can', 'I think that I posted that today! on about ... at! blog blog ... is about, why does', 'I think everyone at the same,. and today ( about ) : with and or ; why and angry post', \"I think this. post about post because the post and angry about and I because… at\\n\\n I' because\", 'I think they when that in about  posts are so for a post you is for. a, and often', 'I think that you at your… at about when you post., is is about thing.. about the', 'I think this about... right when I when. when you, or or when is post about. , or', 'I think I about when I was about  the thing about when you or something when about when when mad about', 'I think it’s not, though — against a fire? about a woman, about about, about.', 'I think that I’ is pretty a very about and the.. And the anger and and or angry.', 'I think this because that a lot after that it. about. at for that blog.\\n\\nI want because', 'I think about a,s when angry and I have this issue on every post.. at, sad,', 'I think at and and I I I when is I\\n\\nAbout this isn.\\n\\n\\nAnd, anger and and', 'I think most about that about., about that! because of you are in here that! a lot of', 'I think about a lot, about at lot and how often. about at more even. about at more.', 'I think this is pretty..\\n\\n\\n\\nI thought about about at a a a long about at the blog']\n",
      "Anger 1.56\n",
      "Discussion/mention of blog or blog post 2.88\n"
     ]
    }
   ],
   "source": [
    "anger_scores, blog_scores, losses = scores_2d(\n",
    "    model,\n",
    "    hp6,\n",
    "    steering_vectors=[anger_dec, wedding_dec],\n",
    "    prompt=prompt,\n",
    "    criterions=[\"Text is angry/upset/enraged/distressed or is about anger/hate etc.\",\n",
    "                \"Text mentions wedding/marriage/engagement.\"],\n",
    "    scales=scales,\n",
    "    n_samples=5,\n",
    ")\n"
   ]
  },
  {
   "cell_type": "code",
   "execution_count": 28,
   "metadata": {},
   "outputs": [
    {
     "data": {
      "application/vnd.plotly.v1+json": {
       "config": {
        "plotlyServerURL": "https://plot.ly"
       },
       "data": [
        {
         "coloraxis": "coloraxis",
         "hovertemplate": "blog: %{x}<br>anger: %{y}<br>color: %{z}<extra></extra>",
         "name": "0",
         "type": "heatmap",
         "x": [
          0,
          10,
          20,
          30,
          40,
          50,
          60,
          70,
          80
         ],
         "xaxis": "x",
         "y": [
          0,
          10,
          20,
          30,
          40,
          50,
          60,
          70,
          80
         ],
         "yaxis": "y",
         "z": [
          [
           1.24,
           1.16,
           1.12,
           1.18,
           1.06,
           1.22,
           1.02,
           1.08,
           1.08
          ],
          [
           1.28,
           1.42,
           1.12,
           1.38,
           1.28,
           1.14,
           1.14,
           1.08,
           1.2
          ],
          [
           1.32,
           1.2,
           1.24,
           1.6,
           1.36,
           1.32,
           1.46,
           1.12,
           1.16
          ],
          [
           2.12,
           2.04,
           1.82,
           1.96,
           2.04,
           1.7,
           1.58,
           1.84,
           1.7
          ],
          [
           2.9,
           2.64,
           2.36,
           2.52,
           2.32,
           2.22,
           2.22,
           1.72,
           1.66
          ],
          [
           2.74,
           2.84,
           3.04,
           2.42,
           2.9,
           2.6,
           2.34,
           2.04,
           1.52
          ],
          [
           3.34,
           3.46,
           2.94,
           2.86,
           2.56,
           2.28,
           2.02,
           1.68,
           1.48
          ],
          [
           3.1,
           3.02,
           3,
           2.26,
           2.62,
           2.4,
           2.16,
           1.58,
           1.74
          ],
          [
           2.66,
           2.88,
           3.14,
           2.42,
           1.66,
           1.94,
           1.48,
           1.82,
           1.56
          ]
         ]
        }
       ],
       "layout": {
        "coloraxis": {
         "cmid": 0,
         "colorscale": [
          [
           0,
           "rgb(103,0,31)"
          ],
          [
           0.1,
           "rgb(178,24,43)"
          ],
          [
           0.2,
           "rgb(214,96,77)"
          ],
          [
           0.3,
           "rgb(244,165,130)"
          ],
          [
           0.4,
           "rgb(253,219,199)"
          ],
          [
           0.5,
           "rgb(247,247,247)"
          ],
          [
           0.6,
           "rgb(209,229,240)"
          ],
          [
           0.7,
           "rgb(146,197,222)"
          ],
          [
           0.8,
           "rgb(67,147,195)"
          ],
          [
           0.9,
           "rgb(33,102,172)"
          ],
          [
           1,
           "rgb(5,48,97)"
          ]
         ]
        },
        "template": {
         "data": {
          "bar": [
           {
            "error_x": {
             "color": "#2a3f5f"
            },
            "error_y": {
             "color": "#2a3f5f"
            },
            "marker": {
             "line": {
              "color": "#E5ECF6",
              "width": 0.5
             },
             "pattern": {
              "fillmode": "overlay",
              "size": 10,
              "solidity": 0.2
             }
            },
            "type": "bar"
           }
          ],
          "barpolar": [
           {
            "marker": {
             "line": {
              "color": "#E5ECF6",
              "width": 0.5
             },
             "pattern": {
              "fillmode": "overlay",
              "size": 10,
              "solidity": 0.2
             }
            },
            "type": "barpolar"
           }
          ],
          "carpet": [
           {
            "aaxis": {
             "endlinecolor": "#2a3f5f",
             "gridcolor": "white",
             "linecolor": "white",
             "minorgridcolor": "white",
             "startlinecolor": "#2a3f5f"
            },
            "baxis": {
             "endlinecolor": "#2a3f5f",
             "gridcolor": "white",
             "linecolor": "white",
             "minorgridcolor": "white",
             "startlinecolor": "#2a3f5f"
            },
            "type": "carpet"
           }
          ],
          "choropleth": [
           {
            "colorbar": {
             "outlinewidth": 0,
             "ticks": ""
            },
            "type": "choropleth"
           }
          ],
          "contour": [
           {
            "colorbar": {
             "outlinewidth": 0,
             "ticks": ""
            },
            "colorscale": [
             [
              0,
              "#0d0887"
             ],
             [
              0.1111111111111111,
              "#46039f"
             ],
             [
              0.2222222222222222,
              "#7201a8"
             ],
             [
              0.3333333333333333,
              "#9c179e"
             ],
             [
              0.4444444444444444,
              "#bd3786"
             ],
             [
              0.5555555555555556,
              "#d8576b"
             ],
             [
              0.6666666666666666,
              "#ed7953"
             ],
             [
              0.7777777777777778,
              "#fb9f3a"
             ],
             [
              0.8888888888888888,
              "#fdca26"
             ],
             [
              1,
              "#f0f921"
             ]
            ],
            "type": "contour"
           }
          ],
          "contourcarpet": [
           {
            "colorbar": {
             "outlinewidth": 0,
             "ticks": ""
            },
            "type": "contourcarpet"
           }
          ],
          "heatmap": [
           {
            "colorbar": {
             "outlinewidth": 0,
             "ticks": ""
            },
            "colorscale": [
             [
              0,
              "#0d0887"
             ],
             [
              0.1111111111111111,
              "#46039f"
             ],
             [
              0.2222222222222222,
              "#7201a8"
             ],
             [
              0.3333333333333333,
              "#9c179e"
             ],
             [
              0.4444444444444444,
              "#bd3786"
             ],
             [
              0.5555555555555556,
              "#d8576b"
             ],
             [
              0.6666666666666666,
              "#ed7953"
             ],
             [
              0.7777777777777778,
              "#fb9f3a"
             ],
             [
              0.8888888888888888,
              "#fdca26"
             ],
             [
              1,
              "#f0f921"
             ]
            ],
            "type": "heatmap"
           }
          ],
          "heatmapgl": [
           {
            "colorbar": {
             "outlinewidth": 0,
             "ticks": ""
            },
            "colorscale": [
             [
              0,
              "#0d0887"
             ],
             [
              0.1111111111111111,
              "#46039f"
             ],
             [
              0.2222222222222222,
              "#7201a8"
             ],
             [
              0.3333333333333333,
              "#9c179e"
             ],
             [
              0.4444444444444444,
              "#bd3786"
             ],
             [
              0.5555555555555556,
              "#d8576b"
             ],
             [
              0.6666666666666666,
              "#ed7953"
             ],
             [
              0.7777777777777778,
              "#fb9f3a"
             ],
             [
              0.8888888888888888,
              "#fdca26"
             ],
             [
              1,
              "#f0f921"
             ]
            ],
            "type": "heatmapgl"
           }
          ],
          "histogram": [
           {
            "marker": {
             "pattern": {
              "fillmode": "overlay",
              "size": 10,
              "solidity": 0.2
             }
            },
            "type": "histogram"
           }
          ],
          "histogram2d": [
           {
            "colorbar": {
             "outlinewidth": 0,
             "ticks": ""
            },
            "colorscale": [
             [
              0,
              "#0d0887"
             ],
             [
              0.1111111111111111,
              "#46039f"
             ],
             [
              0.2222222222222222,
              "#7201a8"
             ],
             [
              0.3333333333333333,
              "#9c179e"
             ],
             [
              0.4444444444444444,
              "#bd3786"
             ],
             [
              0.5555555555555556,
              "#d8576b"
             ],
             [
              0.6666666666666666,
              "#ed7953"
             ],
             [
              0.7777777777777778,
              "#fb9f3a"
             ],
             [
              0.8888888888888888,
              "#fdca26"
             ],
             [
              1,
              "#f0f921"
             ]
            ],
            "type": "histogram2d"
           }
          ],
          "histogram2dcontour": [
           {
            "colorbar": {
             "outlinewidth": 0,
             "ticks": ""
            },
            "colorscale": [
             [
              0,
              "#0d0887"
             ],
             [
              0.1111111111111111,
              "#46039f"
             ],
             [
              0.2222222222222222,
              "#7201a8"
             ],
             [
              0.3333333333333333,
              "#9c179e"
             ],
             [
              0.4444444444444444,
              "#bd3786"
             ],
             [
              0.5555555555555556,
              "#d8576b"
             ],
             [
              0.6666666666666666,
              "#ed7953"
             ],
             [
              0.7777777777777778,
              "#fb9f3a"
             ],
             [
              0.8888888888888888,
              "#fdca26"
             ],
             [
              1,
              "#f0f921"
             ]
            ],
            "type": "histogram2dcontour"
           }
          ],
          "mesh3d": [
           {
            "colorbar": {
             "outlinewidth": 0,
             "ticks": ""
            },
            "type": "mesh3d"
           }
          ],
          "parcoords": [
           {
            "line": {
             "colorbar": {
              "outlinewidth": 0,
              "ticks": ""
             }
            },
            "type": "parcoords"
           }
          ],
          "pie": [
           {
            "automargin": true,
            "type": "pie"
           }
          ],
          "scatter": [
           {
            "fillpattern": {
             "fillmode": "overlay",
             "size": 10,
             "solidity": 0.2
            },
            "type": "scatter"
           }
          ],
          "scatter3d": [
           {
            "line": {
             "colorbar": {
              "outlinewidth": 0,
              "ticks": ""
             }
            },
            "marker": {
             "colorbar": {
              "outlinewidth": 0,
              "ticks": ""
             }
            },
            "type": "scatter3d"
           }
          ],
          "scattercarpet": [
           {
            "marker": {
             "colorbar": {
              "outlinewidth": 0,
              "ticks": ""
             }
            },
            "type": "scattercarpet"
           }
          ],
          "scattergeo": [
           {
            "marker": {
             "colorbar": {
              "outlinewidth": 0,
              "ticks": ""
             }
            },
            "type": "scattergeo"
           }
          ],
          "scattergl": [
           {
            "marker": {
             "colorbar": {
              "outlinewidth": 0,
              "ticks": ""
             }
            },
            "type": "scattergl"
           }
          ],
          "scattermapbox": [
           {
            "marker": {
             "colorbar": {
              "outlinewidth": 0,
              "ticks": ""
             }
            },
            "type": "scattermapbox"
           }
          ],
          "scatterpolar": [
           {
            "marker": {
             "colorbar": {
              "outlinewidth": 0,
              "ticks": ""
             }
            },
            "type": "scatterpolar"
           }
          ],
          "scatterpolargl": [
           {
            "marker": {
             "colorbar": {
              "outlinewidth": 0,
              "ticks": ""
             }
            },
            "type": "scatterpolargl"
           }
          ],
          "scatterternary": [
           {
            "marker": {
             "colorbar": {
              "outlinewidth": 0,
              "ticks": ""
             }
            },
            "type": "scatterternary"
           }
          ],
          "surface": [
           {
            "colorbar": {
             "outlinewidth": 0,
             "ticks": ""
            },
            "colorscale": [
             [
              0,
              "#0d0887"
             ],
             [
              0.1111111111111111,
              "#46039f"
             ],
             [
              0.2222222222222222,
              "#7201a8"
             ],
             [
              0.3333333333333333,
              "#9c179e"
             ],
             [
              0.4444444444444444,
              "#bd3786"
             ],
             [
              0.5555555555555556,
              "#d8576b"
             ],
             [
              0.6666666666666666,
              "#ed7953"
             ],
             [
              0.7777777777777778,
              "#fb9f3a"
             ],
             [
              0.8888888888888888,
              "#fdca26"
             ],
             [
              1,
              "#f0f921"
             ]
            ],
            "type": "surface"
           }
          ],
          "table": [
           {
            "cells": {
             "fill": {
              "color": "#EBF0F8"
             },
             "line": {
              "color": "white"
             }
            },
            "header": {
             "fill": {
              "color": "#C8D4E3"
             },
             "line": {
              "color": "white"
             }
            },
            "type": "table"
           }
          ]
         },
         "layout": {
          "annotationdefaults": {
           "arrowcolor": "#2a3f5f",
           "arrowhead": 0,
           "arrowwidth": 1
          },
          "autotypenumbers": "strict",
          "coloraxis": {
           "colorbar": {
            "outlinewidth": 0,
            "ticks": ""
           }
          },
          "colorscale": {
           "diverging": [
            [
             0,
             "#8e0152"
            ],
            [
             0.1,
             "#c51b7d"
            ],
            [
             0.2,
             "#de77ae"
            ],
            [
             0.3,
             "#f1b6da"
            ],
            [
             0.4,
             "#fde0ef"
            ],
            [
             0.5,
             "#f7f7f7"
            ],
            [
             0.6,
             "#e6f5d0"
            ],
            [
             0.7,
             "#b8e186"
            ],
            [
             0.8,
             "#7fbc41"
            ],
            [
             0.9,
             "#4d9221"
            ],
            [
             1,
             "#276419"
            ]
           ],
           "sequential": [
            [
             0,
             "#0d0887"
            ],
            [
             0.1111111111111111,
             "#46039f"
            ],
            [
             0.2222222222222222,
             "#7201a8"
            ],
            [
             0.3333333333333333,
             "#9c179e"
            ],
            [
             0.4444444444444444,
             "#bd3786"
            ],
            [
             0.5555555555555556,
             "#d8576b"
            ],
            [
             0.6666666666666666,
             "#ed7953"
            ],
            [
             0.7777777777777778,
             "#fb9f3a"
            ],
            [
             0.8888888888888888,
             "#fdca26"
            ],
            [
             1,
             "#f0f921"
            ]
           ],
           "sequentialminus": [
            [
             0,
             "#0d0887"
            ],
            [
             0.1111111111111111,
             "#46039f"
            ],
            [
             0.2222222222222222,
             "#7201a8"
            ],
            [
             0.3333333333333333,
             "#9c179e"
            ],
            [
             0.4444444444444444,
             "#bd3786"
            ],
            [
             0.5555555555555556,
             "#d8576b"
            ],
            [
             0.6666666666666666,
             "#ed7953"
            ],
            [
             0.7777777777777778,
             "#fb9f3a"
            ],
            [
             0.8888888888888888,
             "#fdca26"
            ],
            [
             1,
             "#f0f921"
            ]
           ]
          },
          "colorway": [
           "#636efa",
           "#EF553B",
           "#00cc96",
           "#ab63fa",
           "#FFA15A",
           "#19d3f3",
           "#FF6692",
           "#B6E880",
           "#FF97FF",
           "#FECB52"
          ],
          "font": {
           "color": "#2a3f5f"
          },
          "geo": {
           "bgcolor": "white",
           "lakecolor": "white",
           "landcolor": "#E5ECF6",
           "showlakes": true,
           "showland": true,
           "subunitcolor": "white"
          },
          "hoverlabel": {
           "align": "left"
          },
          "hovermode": "closest",
          "mapbox": {
           "style": "light"
          },
          "paper_bgcolor": "white",
          "plot_bgcolor": "#E5ECF6",
          "polar": {
           "angularaxis": {
            "gridcolor": "white",
            "linecolor": "white",
            "ticks": ""
           },
           "bgcolor": "#E5ECF6",
           "radialaxis": {
            "gridcolor": "white",
            "linecolor": "white",
            "ticks": ""
           }
          },
          "scene": {
           "xaxis": {
            "backgroundcolor": "#E5ECF6",
            "gridcolor": "white",
            "gridwidth": 2,
            "linecolor": "white",
            "showbackground": true,
            "ticks": "",
            "zerolinecolor": "white"
           },
           "yaxis": {
            "backgroundcolor": "#E5ECF6",
            "gridcolor": "white",
            "gridwidth": 2,
            "linecolor": "white",
            "showbackground": true,
            "ticks": "",
            "zerolinecolor": "white"
           },
           "zaxis": {
            "backgroundcolor": "#E5ECF6",
            "gridcolor": "white",
            "gridwidth": 2,
            "linecolor": "white",
            "showbackground": true,
            "ticks": "",
            "zerolinecolor": "white"
           }
          },
          "shapedefaults": {
           "line": {
            "color": "#2a3f5f"
           }
          },
          "ternary": {
           "aaxis": {
            "gridcolor": "white",
            "linecolor": "white",
            "ticks": ""
           },
           "baxis": {
            "gridcolor": "white",
            "linecolor": "white",
            "ticks": ""
           },
           "bgcolor": "#E5ECF6",
           "caxis": {
            "gridcolor": "white",
            "linecolor": "white",
            "ticks": ""
           }
          },
          "title": {
           "x": 0.05
          },
          "xaxis": {
           "automargin": true,
           "gridcolor": "white",
           "linecolor": "white",
           "ticks": "",
           "title": {
            "standoff": 15
           },
           "zerolinecolor": "white",
           "zerolinewidth": 2
          },
          "yaxis": {
           "automargin": true,
           "gridcolor": "white",
           "linecolor": "white",
           "ticks": "",
           "title": {
            "standoff": 15
           },
           "zerolinecolor": "white",
           "zerolinewidth": 2
          }
         }
        },
        "title": {
         "text": "Anger scores"
        },
        "xaxis": {
         "anchor": "y",
         "constrain": "domain",
         "domain": [
          0,
          1
         ],
         "scaleanchor": "y",
         "title": {
          "text": "blog"
         }
        },
        "yaxis": {
         "anchor": "x",
         "autorange": "reversed",
         "constrain": "domain",
         "domain": [
          0,
          1
         ],
         "title": {
          "text": "anger"
         }
        }
       }
      },
      "text/html": [
       "<div>                            <div id=\"fcfbc214-9f37-4dcc-bc6c-343e6a5c87c4\" class=\"plotly-graph-div\" style=\"height:525px; width:100%;\"></div>            <script type=\"text/javascript\">                require([\"plotly\"], function(Plotly) {                    window.PLOTLYENV=window.PLOTLYENV || {};                                    if (document.getElementById(\"fcfbc214-9f37-4dcc-bc6c-343e6a5c87c4\")) {                    Plotly.newPlot(                        \"fcfbc214-9f37-4dcc-bc6c-343e6a5c87c4\",                        [{\"coloraxis\":\"coloraxis\",\"name\":\"0\",\"x\":[0,10,20,30,40,50,60,70,80],\"y\":[0,10,20,30,40,50,60,70,80],\"z\":[[1.24,1.16,1.12,1.18,1.06,1.22,1.02,1.08,1.08],[1.28,1.42,1.12,1.38,1.28,1.14,1.14,1.08,1.2],[1.32,1.2,1.24,1.6,1.36,1.32,1.46,1.12,1.16],[2.12,2.04,1.82,1.96,2.04,1.7,1.58,1.84,1.7],[2.9,2.64,2.36,2.52,2.32,2.22,2.22,1.72,1.66],[2.74,2.84,3.04,2.42,2.9,2.6,2.34,2.04,1.52],[3.34,3.46,2.94,2.86,2.56,2.28,2.02,1.68,1.48],[3.1,3.02,3.0,2.26,2.62,2.4,2.16,1.58,1.74],[2.66,2.88,3.14,2.42,1.66,1.94,1.48,1.82,1.56]],\"type\":\"heatmap\",\"xaxis\":\"x\",\"yaxis\":\"y\",\"hovertemplate\":\"blog: %{x}\\u003cbr\\u003eanger: %{y}\\u003cbr\\u003ecolor: %{z}\\u003cextra\\u003e\\u003c\\u002fextra\\u003e\"}],                        {\"template\":{\"data\":{\"histogram2dcontour\":[{\"type\":\"histogram2dcontour\",\"colorbar\":{\"outlinewidth\":0,\"ticks\":\"\"},\"colorscale\":[[0.0,\"#0d0887\"],[0.1111111111111111,\"#46039f\"],[0.2222222222222222,\"#7201a8\"],[0.3333333333333333,\"#9c179e\"],[0.4444444444444444,\"#bd3786\"],[0.5555555555555556,\"#d8576b\"],[0.6666666666666666,\"#ed7953\"],[0.7777777777777778,\"#fb9f3a\"],[0.8888888888888888,\"#fdca26\"],[1.0,\"#f0f921\"]]}],\"choropleth\":[{\"type\":\"choropleth\",\"colorbar\":{\"outlinewidth\":0,\"ticks\":\"\"}}],\"histogram2d\":[{\"type\":\"histogram2d\",\"colorbar\":{\"outlinewidth\":0,\"ticks\":\"\"},\"colorscale\":[[0.0,\"#0d0887\"],[0.1111111111111111,\"#46039f\"],[0.2222222222222222,\"#7201a8\"],[0.3333333333333333,\"#9c179e\"],[0.4444444444444444,\"#bd3786\"],[0.5555555555555556,\"#d8576b\"],[0.6666666666666666,\"#ed7953\"],[0.7777777777777778,\"#fb9f3a\"],[0.8888888888888888,\"#fdca26\"],[1.0,\"#f0f921\"]]}],\"heatmap\":[{\"type\":\"heatmap\",\"colorbar\":{\"outlinewidth\":0,\"ticks\":\"\"},\"colorscale\":[[0.0,\"#0d0887\"],[0.1111111111111111,\"#46039f\"],[0.2222222222222222,\"#7201a8\"],[0.3333333333333333,\"#9c179e\"],[0.4444444444444444,\"#bd3786\"],[0.5555555555555556,\"#d8576b\"],[0.6666666666666666,\"#ed7953\"],[0.7777777777777778,\"#fb9f3a\"],[0.8888888888888888,\"#fdca26\"],[1.0,\"#f0f921\"]]}],\"heatmapgl\":[{\"type\":\"heatmapgl\",\"colorbar\":{\"outlinewidth\":0,\"ticks\":\"\"},\"colorscale\":[[0.0,\"#0d0887\"],[0.1111111111111111,\"#46039f\"],[0.2222222222222222,\"#7201a8\"],[0.3333333333333333,\"#9c179e\"],[0.4444444444444444,\"#bd3786\"],[0.5555555555555556,\"#d8576b\"],[0.6666666666666666,\"#ed7953\"],[0.7777777777777778,\"#fb9f3a\"],[0.8888888888888888,\"#fdca26\"],[1.0,\"#f0f921\"]]}],\"contourcarpet\":[{\"type\":\"contourcarpet\",\"colorbar\":{\"outlinewidth\":0,\"ticks\":\"\"}}],\"contour\":[{\"type\":\"contour\",\"colorbar\":{\"outlinewidth\":0,\"ticks\":\"\"},\"colorscale\":[[0.0,\"#0d0887\"],[0.1111111111111111,\"#46039f\"],[0.2222222222222222,\"#7201a8\"],[0.3333333333333333,\"#9c179e\"],[0.4444444444444444,\"#bd3786\"],[0.5555555555555556,\"#d8576b\"],[0.6666666666666666,\"#ed7953\"],[0.7777777777777778,\"#fb9f3a\"],[0.8888888888888888,\"#fdca26\"],[1.0,\"#f0f921\"]]}],\"surface\":[{\"type\":\"surface\",\"colorbar\":{\"outlinewidth\":0,\"ticks\":\"\"},\"colorscale\":[[0.0,\"#0d0887\"],[0.1111111111111111,\"#46039f\"],[0.2222222222222222,\"#7201a8\"],[0.3333333333333333,\"#9c179e\"],[0.4444444444444444,\"#bd3786\"],[0.5555555555555556,\"#d8576b\"],[0.6666666666666666,\"#ed7953\"],[0.7777777777777778,\"#fb9f3a\"],[0.8888888888888888,\"#fdca26\"],[1.0,\"#f0f921\"]]}],\"mesh3d\":[{\"type\":\"mesh3d\",\"colorbar\":{\"outlinewidth\":0,\"ticks\":\"\"}}],\"scatter\":[{\"fillpattern\":{\"fillmode\":\"overlay\",\"size\":10,\"solidity\":0.2},\"type\":\"scatter\"}],\"parcoords\":[{\"type\":\"parcoords\",\"line\":{\"colorbar\":{\"outlinewidth\":0,\"ticks\":\"\"}}}],\"scatterpolargl\":[{\"type\":\"scatterpolargl\",\"marker\":{\"colorbar\":{\"outlinewidth\":0,\"ticks\":\"\"}}}],\"bar\":[{\"error_x\":{\"color\":\"#2a3f5f\"},\"error_y\":{\"color\":\"#2a3f5f\"},\"marker\":{\"line\":{\"color\":\"#E5ECF6\",\"width\":0.5},\"pattern\":{\"fillmode\":\"overlay\",\"size\":10,\"solidity\":0.2}},\"type\":\"bar\"}],\"scattergeo\":[{\"type\":\"scattergeo\",\"marker\":{\"colorbar\":{\"outlinewidth\":0,\"ticks\":\"\"}}}],\"scatterpolar\":[{\"type\":\"scatterpolar\",\"marker\":{\"colorbar\":{\"outlinewidth\":0,\"ticks\":\"\"}}}],\"histogram\":[{\"marker\":{\"pattern\":{\"fillmode\":\"overlay\",\"size\":10,\"solidity\":0.2}},\"type\":\"histogram\"}],\"scattergl\":[{\"type\":\"scattergl\",\"marker\":{\"colorbar\":{\"outlinewidth\":0,\"ticks\":\"\"}}}],\"scatter3d\":[{\"type\":\"scatter3d\",\"line\":{\"colorbar\":{\"outlinewidth\":0,\"ticks\":\"\"}},\"marker\":{\"colorbar\":{\"outlinewidth\":0,\"ticks\":\"\"}}}],\"scattermapbox\":[{\"type\":\"scattermapbox\",\"marker\":{\"colorbar\":{\"outlinewidth\":0,\"ticks\":\"\"}}}],\"scatterternary\":[{\"type\":\"scatterternary\",\"marker\":{\"colorbar\":{\"outlinewidth\":0,\"ticks\":\"\"}}}],\"scattercarpet\":[{\"type\":\"scattercarpet\",\"marker\":{\"colorbar\":{\"outlinewidth\":0,\"ticks\":\"\"}}}],\"carpet\":[{\"aaxis\":{\"endlinecolor\":\"#2a3f5f\",\"gridcolor\":\"white\",\"linecolor\":\"white\",\"minorgridcolor\":\"white\",\"startlinecolor\":\"#2a3f5f\"},\"baxis\":{\"endlinecolor\":\"#2a3f5f\",\"gridcolor\":\"white\",\"linecolor\":\"white\",\"minorgridcolor\":\"white\",\"startlinecolor\":\"#2a3f5f\"},\"type\":\"carpet\"}],\"table\":[{\"cells\":{\"fill\":{\"color\":\"#EBF0F8\"},\"line\":{\"color\":\"white\"}},\"header\":{\"fill\":{\"color\":\"#C8D4E3\"},\"line\":{\"color\":\"white\"}},\"type\":\"table\"}],\"barpolar\":[{\"marker\":{\"line\":{\"color\":\"#E5ECF6\",\"width\":0.5},\"pattern\":{\"fillmode\":\"overlay\",\"size\":10,\"solidity\":0.2}},\"type\":\"barpolar\"}],\"pie\":[{\"automargin\":true,\"type\":\"pie\"}]},\"layout\":{\"autotypenumbers\":\"strict\",\"colorway\":[\"#636efa\",\"#EF553B\",\"#00cc96\",\"#ab63fa\",\"#FFA15A\",\"#19d3f3\",\"#FF6692\",\"#B6E880\",\"#FF97FF\",\"#FECB52\"],\"font\":{\"color\":\"#2a3f5f\"},\"hovermode\":\"closest\",\"hoverlabel\":{\"align\":\"left\"},\"paper_bgcolor\":\"white\",\"plot_bgcolor\":\"#E5ECF6\",\"polar\":{\"bgcolor\":\"#E5ECF6\",\"angularaxis\":{\"gridcolor\":\"white\",\"linecolor\":\"white\",\"ticks\":\"\"},\"radialaxis\":{\"gridcolor\":\"white\",\"linecolor\":\"white\",\"ticks\":\"\"}},\"ternary\":{\"bgcolor\":\"#E5ECF6\",\"aaxis\":{\"gridcolor\":\"white\",\"linecolor\":\"white\",\"ticks\":\"\"},\"baxis\":{\"gridcolor\":\"white\",\"linecolor\":\"white\",\"ticks\":\"\"},\"caxis\":{\"gridcolor\":\"white\",\"linecolor\":\"white\",\"ticks\":\"\"}},\"coloraxis\":{\"colorbar\":{\"outlinewidth\":0,\"ticks\":\"\"}},\"colorscale\":{\"sequential\":[[0.0,\"#0d0887\"],[0.1111111111111111,\"#46039f\"],[0.2222222222222222,\"#7201a8\"],[0.3333333333333333,\"#9c179e\"],[0.4444444444444444,\"#bd3786\"],[0.5555555555555556,\"#d8576b\"],[0.6666666666666666,\"#ed7953\"],[0.7777777777777778,\"#fb9f3a\"],[0.8888888888888888,\"#fdca26\"],[1.0,\"#f0f921\"]],\"sequentialminus\":[[0.0,\"#0d0887\"],[0.1111111111111111,\"#46039f\"],[0.2222222222222222,\"#7201a8\"],[0.3333333333333333,\"#9c179e\"],[0.4444444444444444,\"#bd3786\"],[0.5555555555555556,\"#d8576b\"],[0.6666666666666666,\"#ed7953\"],[0.7777777777777778,\"#fb9f3a\"],[0.8888888888888888,\"#fdca26\"],[1.0,\"#f0f921\"]],\"diverging\":[[0,\"#8e0152\"],[0.1,\"#c51b7d\"],[0.2,\"#de77ae\"],[0.3,\"#f1b6da\"],[0.4,\"#fde0ef\"],[0.5,\"#f7f7f7\"],[0.6,\"#e6f5d0\"],[0.7,\"#b8e186\"],[0.8,\"#7fbc41\"],[0.9,\"#4d9221\"],[1,\"#276419\"]]},\"xaxis\":{\"gridcolor\":\"white\",\"linecolor\":\"white\",\"ticks\":\"\",\"title\":{\"standoff\":15},\"zerolinecolor\":\"white\",\"automargin\":true,\"zerolinewidth\":2},\"yaxis\":{\"gridcolor\":\"white\",\"linecolor\":\"white\",\"ticks\":\"\",\"title\":{\"standoff\":15},\"zerolinecolor\":\"white\",\"automargin\":true,\"zerolinewidth\":2},\"scene\":{\"xaxis\":{\"backgroundcolor\":\"#E5ECF6\",\"gridcolor\":\"white\",\"linecolor\":\"white\",\"showbackground\":true,\"ticks\":\"\",\"zerolinecolor\":\"white\",\"gridwidth\":2},\"yaxis\":{\"backgroundcolor\":\"#E5ECF6\",\"gridcolor\":\"white\",\"linecolor\":\"white\",\"showbackground\":true,\"ticks\":\"\",\"zerolinecolor\":\"white\",\"gridwidth\":2},\"zaxis\":{\"backgroundcolor\":\"#E5ECF6\",\"gridcolor\":\"white\",\"linecolor\":\"white\",\"showbackground\":true,\"ticks\":\"\",\"zerolinecolor\":\"white\",\"gridwidth\":2}},\"shapedefaults\":{\"line\":{\"color\":\"#2a3f5f\"}},\"annotationdefaults\":{\"arrowcolor\":\"#2a3f5f\",\"arrowhead\":0,\"arrowwidth\":1},\"geo\":{\"bgcolor\":\"white\",\"landcolor\":\"#E5ECF6\",\"subunitcolor\":\"white\",\"showland\":true,\"showlakes\":true,\"lakecolor\":\"white\"},\"title\":{\"x\":0.05},\"mapbox\":{\"style\":\"light\"}}},\"xaxis\":{\"anchor\":\"y\",\"domain\":[0.0,1.0],\"scaleanchor\":\"y\",\"constrain\":\"domain\",\"title\":{\"text\":\"blog\"}},\"yaxis\":{\"anchor\":\"x\",\"domain\":[0.0,1.0],\"autorange\":\"reversed\",\"constrain\":\"domain\",\"title\":{\"text\":\"anger\"}},\"coloraxis\":{\"colorscale\":[[0.0,\"rgb(103,0,31)\"],[0.1,\"rgb(178,24,43)\"],[0.2,\"rgb(214,96,77)\"],[0.3,\"rgb(244,165,130)\"],[0.4,\"rgb(253,219,199)\"],[0.5,\"rgb(247,247,247)\"],[0.6,\"rgb(209,229,240)\"],[0.7,\"rgb(146,197,222)\"],[0.8,\"rgb(67,147,195)\"],[0.9,\"rgb(33,102,172)\"],[1.0,\"rgb(5,48,97)\"]],\"cmid\":0},\"title\":{\"text\":\"Anger scores\"}},                        {\"responsive\": true}                    ).then(function(){\n",
       "                            \n",
       "var gd = document.getElementById('fcfbc214-9f37-4dcc-bc6c-343e6a5c87c4');\n",
       "var x = new MutationObserver(function (mutations, observer) {{\n",
       "        var display = window.getComputedStyle(gd).display;\n",
       "        if (!display || display === 'none') {{\n",
       "            console.log([gd, 'removed!']);\n",
       "            Plotly.purge(gd);\n",
       "            observer.disconnect();\n",
       "        }}\n",
       "}});\n",
       "\n",
       "// Listen for the removal of the full notebook cells\n",
       "var notebookContainer = gd.closest('#notebook-container');\n",
       "if (notebookContainer) {{\n",
       "    x.observe(notebookContainer, {childList: true});\n",
       "}}\n",
       "\n",
       "// Listen for the clearing of the current output cell\n",
       "var outputEl = gd.closest('.output');\n",
       "if (outputEl) {{\n",
       "    x.observe(outputEl, {childList: true});\n",
       "}}\n",
       "\n",
       "                        })                };                });            </script>        </div>"
      ]
     },
     "metadata": {},
     "output_type": "display_data"
    }
   ],
   "source": [
    "px.imshow(anger_scores, x=scales, y=scales, title=\"Anger scores\",labels={'x': 'blog', 'y': 'anger'}, color_continuous_scale=\"RdBu\", color_continuous_midpoint=0).show()"
   ]
  },
  {
   "cell_type": "code",
   "execution_count": 30,
   "metadata": {},
   "outputs": [
    {
     "data": {
      "application/vnd.plotly.v1+json": {
       "config": {
        "plotlyServerURL": "https://plot.ly"
       },
       "data": [
        {
         "coloraxis": "coloraxis",
         "hovertemplate": "blog: %{x}<br>anger: %{y}<br>color: %{z}<extra></extra>",
         "name": "0",
         "type": "heatmap",
         "x": [
          0,
          10,
          20,
          30,
          40,
          50,
          60,
          70,
          80
         ],
         "xaxis": "x",
         "y": [
          0,
          10,
          20,
          30,
          40,
          50,
          60,
          70,
          80
         ],
         "yaxis": "y",
         "z": [
          [
           1.14,
           1.26,
           1.36,
           2.4,
           2.54,
           3.56,
           4.2,
           4.54,
           4.42
          ],
          [
           1.5,
           1.28,
           1.46,
           1.76,
           3.34,
           3.6,
           3.68,
           4.9,
           4.5
          ],
          [
           1,
           1.86,
           1.06,
           2.48,
           1.86,
           3.76,
           4.44,
           5.14,
           4.92
          ],
          [
           1.14,
           1.32,
           1.48,
           1.8,
           2.06,
           3.72,
           4.06,
           4.62,
           5.18
          ],
          [
           1.28,
           1.58,
           1.2,
           1.28,
           2.04,
           2.54,
           3.06,
           4.66,
           4.44
          ],
          [
           1,
           1.4,
           1.38,
           1.9,
           1.86,
           2.28,
           2.86,
           3.3,
           3.88
          ],
          [
           1.28,
           1.14,
           1.48,
           1.3,
           2.02,
           3.06,
           2.72,
           3.72,
           4
          ],
          [
           1,
           1.16,
           1.36,
           1.32,
           1.88,
           2.18,
           2.62,
           3.14,
           4.18
          ],
          [
           1.04,
           1.1,
           1.04,
           1.5,
           1.84,
           1.88,
           2.08,
           2.22,
           2.88
          ]
         ]
        }
       ],
       "layout": {
        "coloraxis": {
         "cmid": 0,
         "colorscale": [
          [
           0,
           "rgb(103,0,31)"
          ],
          [
           0.1,
           "rgb(178,24,43)"
          ],
          [
           0.2,
           "rgb(214,96,77)"
          ],
          [
           0.3,
           "rgb(244,165,130)"
          ],
          [
           0.4,
           "rgb(253,219,199)"
          ],
          [
           0.5,
           "rgb(247,247,247)"
          ],
          [
           0.6,
           "rgb(209,229,240)"
          ],
          [
           0.7,
           "rgb(146,197,222)"
          ],
          [
           0.8,
           "rgb(67,147,195)"
          ],
          [
           0.9,
           "rgb(33,102,172)"
          ],
          [
           1,
           "rgb(5,48,97)"
          ]
         ]
        },
        "template": {
         "data": {
          "bar": [
           {
            "error_x": {
             "color": "#2a3f5f"
            },
            "error_y": {
             "color": "#2a3f5f"
            },
            "marker": {
             "line": {
              "color": "#E5ECF6",
              "width": 0.5
             },
             "pattern": {
              "fillmode": "overlay",
              "size": 10,
              "solidity": 0.2
             }
            },
            "type": "bar"
           }
          ],
          "barpolar": [
           {
            "marker": {
             "line": {
              "color": "#E5ECF6",
              "width": 0.5
             },
             "pattern": {
              "fillmode": "overlay",
              "size": 10,
              "solidity": 0.2
             }
            },
            "type": "barpolar"
           }
          ],
          "carpet": [
           {
            "aaxis": {
             "endlinecolor": "#2a3f5f",
             "gridcolor": "white",
             "linecolor": "white",
             "minorgridcolor": "white",
             "startlinecolor": "#2a3f5f"
            },
            "baxis": {
             "endlinecolor": "#2a3f5f",
             "gridcolor": "white",
             "linecolor": "white",
             "minorgridcolor": "white",
             "startlinecolor": "#2a3f5f"
            },
            "type": "carpet"
           }
          ],
          "choropleth": [
           {
            "colorbar": {
             "outlinewidth": 0,
             "ticks": ""
            },
            "type": "choropleth"
           }
          ],
          "contour": [
           {
            "colorbar": {
             "outlinewidth": 0,
             "ticks": ""
            },
            "colorscale": [
             [
              0,
              "#0d0887"
             ],
             [
              0.1111111111111111,
              "#46039f"
             ],
             [
              0.2222222222222222,
              "#7201a8"
             ],
             [
              0.3333333333333333,
              "#9c179e"
             ],
             [
              0.4444444444444444,
              "#bd3786"
             ],
             [
              0.5555555555555556,
              "#d8576b"
             ],
             [
              0.6666666666666666,
              "#ed7953"
             ],
             [
              0.7777777777777778,
              "#fb9f3a"
             ],
             [
              0.8888888888888888,
              "#fdca26"
             ],
             [
              1,
              "#f0f921"
             ]
            ],
            "type": "contour"
           }
          ],
          "contourcarpet": [
           {
            "colorbar": {
             "outlinewidth": 0,
             "ticks": ""
            },
            "type": "contourcarpet"
           }
          ],
          "heatmap": [
           {
            "colorbar": {
             "outlinewidth": 0,
             "ticks": ""
            },
            "colorscale": [
             [
              0,
              "#0d0887"
             ],
             [
              0.1111111111111111,
              "#46039f"
             ],
             [
              0.2222222222222222,
              "#7201a8"
             ],
             [
              0.3333333333333333,
              "#9c179e"
             ],
             [
              0.4444444444444444,
              "#bd3786"
             ],
             [
              0.5555555555555556,
              "#d8576b"
             ],
             [
              0.6666666666666666,
              "#ed7953"
             ],
             [
              0.7777777777777778,
              "#fb9f3a"
             ],
             [
              0.8888888888888888,
              "#fdca26"
             ],
             [
              1,
              "#f0f921"
             ]
            ],
            "type": "heatmap"
           }
          ],
          "heatmapgl": [
           {
            "colorbar": {
             "outlinewidth": 0,
             "ticks": ""
            },
            "colorscale": [
             [
              0,
              "#0d0887"
             ],
             [
              0.1111111111111111,
              "#46039f"
             ],
             [
              0.2222222222222222,
              "#7201a8"
             ],
             [
              0.3333333333333333,
              "#9c179e"
             ],
             [
              0.4444444444444444,
              "#bd3786"
             ],
             [
              0.5555555555555556,
              "#d8576b"
             ],
             [
              0.6666666666666666,
              "#ed7953"
             ],
             [
              0.7777777777777778,
              "#fb9f3a"
             ],
             [
              0.8888888888888888,
              "#fdca26"
             ],
             [
              1,
              "#f0f921"
             ]
            ],
            "type": "heatmapgl"
           }
          ],
          "histogram": [
           {
            "marker": {
             "pattern": {
              "fillmode": "overlay",
              "size": 10,
              "solidity": 0.2
             }
            },
            "type": "histogram"
           }
          ],
          "histogram2d": [
           {
            "colorbar": {
             "outlinewidth": 0,
             "ticks": ""
            },
            "colorscale": [
             [
              0,
              "#0d0887"
             ],
             [
              0.1111111111111111,
              "#46039f"
             ],
             [
              0.2222222222222222,
              "#7201a8"
             ],
             [
              0.3333333333333333,
              "#9c179e"
             ],
             [
              0.4444444444444444,
              "#bd3786"
             ],
             [
              0.5555555555555556,
              "#d8576b"
             ],
             [
              0.6666666666666666,
              "#ed7953"
             ],
             [
              0.7777777777777778,
              "#fb9f3a"
             ],
             [
              0.8888888888888888,
              "#fdca26"
             ],
             [
              1,
              "#f0f921"
             ]
            ],
            "type": "histogram2d"
           }
          ],
          "histogram2dcontour": [
           {
            "colorbar": {
             "outlinewidth": 0,
             "ticks": ""
            },
            "colorscale": [
             [
              0,
              "#0d0887"
             ],
             [
              0.1111111111111111,
              "#46039f"
             ],
             [
              0.2222222222222222,
              "#7201a8"
             ],
             [
              0.3333333333333333,
              "#9c179e"
             ],
             [
              0.4444444444444444,
              "#bd3786"
             ],
             [
              0.5555555555555556,
              "#d8576b"
             ],
             [
              0.6666666666666666,
              "#ed7953"
             ],
             [
              0.7777777777777778,
              "#fb9f3a"
             ],
             [
              0.8888888888888888,
              "#fdca26"
             ],
             [
              1,
              "#f0f921"
             ]
            ],
            "type": "histogram2dcontour"
           }
          ],
          "mesh3d": [
           {
            "colorbar": {
             "outlinewidth": 0,
             "ticks": ""
            },
            "type": "mesh3d"
           }
          ],
          "parcoords": [
           {
            "line": {
             "colorbar": {
              "outlinewidth": 0,
              "ticks": ""
             }
            },
            "type": "parcoords"
           }
          ],
          "pie": [
           {
            "automargin": true,
            "type": "pie"
           }
          ],
          "scatter": [
           {
            "fillpattern": {
             "fillmode": "overlay",
             "size": 10,
             "solidity": 0.2
            },
            "type": "scatter"
           }
          ],
          "scatter3d": [
           {
            "line": {
             "colorbar": {
              "outlinewidth": 0,
              "ticks": ""
             }
            },
            "marker": {
             "colorbar": {
              "outlinewidth": 0,
              "ticks": ""
             }
            },
            "type": "scatter3d"
           }
          ],
          "scattercarpet": [
           {
            "marker": {
             "colorbar": {
              "outlinewidth": 0,
              "ticks": ""
             }
            },
            "type": "scattercarpet"
           }
          ],
          "scattergeo": [
           {
            "marker": {
             "colorbar": {
              "outlinewidth": 0,
              "ticks": ""
             }
            },
            "type": "scattergeo"
           }
          ],
          "scattergl": [
           {
            "marker": {
             "colorbar": {
              "outlinewidth": 0,
              "ticks": ""
             }
            },
            "type": "scattergl"
           }
          ],
          "scattermapbox": [
           {
            "marker": {
             "colorbar": {
              "outlinewidth": 0,
              "ticks": ""
             }
            },
            "type": "scattermapbox"
           }
          ],
          "scatterpolar": [
           {
            "marker": {
             "colorbar": {
              "outlinewidth": 0,
              "ticks": ""
             }
            },
            "type": "scatterpolar"
           }
          ],
          "scatterpolargl": [
           {
            "marker": {
             "colorbar": {
              "outlinewidth": 0,
              "ticks": ""
             }
            },
            "type": "scatterpolargl"
           }
          ],
          "scatterternary": [
           {
            "marker": {
             "colorbar": {
              "outlinewidth": 0,
              "ticks": ""
             }
            },
            "type": "scatterternary"
           }
          ],
          "surface": [
           {
            "colorbar": {
             "outlinewidth": 0,
             "ticks": ""
            },
            "colorscale": [
             [
              0,
              "#0d0887"
             ],
             [
              0.1111111111111111,
              "#46039f"
             ],
             [
              0.2222222222222222,
              "#7201a8"
             ],
             [
              0.3333333333333333,
              "#9c179e"
             ],
             [
              0.4444444444444444,
              "#bd3786"
             ],
             [
              0.5555555555555556,
              "#d8576b"
             ],
             [
              0.6666666666666666,
              "#ed7953"
             ],
             [
              0.7777777777777778,
              "#fb9f3a"
             ],
             [
              0.8888888888888888,
              "#fdca26"
             ],
             [
              1,
              "#f0f921"
             ]
            ],
            "type": "surface"
           }
          ],
          "table": [
           {
            "cells": {
             "fill": {
              "color": "#EBF0F8"
             },
             "line": {
              "color": "white"
             }
            },
            "header": {
             "fill": {
              "color": "#C8D4E3"
             },
             "line": {
              "color": "white"
             }
            },
            "type": "table"
           }
          ]
         },
         "layout": {
          "annotationdefaults": {
           "arrowcolor": "#2a3f5f",
           "arrowhead": 0,
           "arrowwidth": 1
          },
          "autotypenumbers": "strict",
          "coloraxis": {
           "colorbar": {
            "outlinewidth": 0,
            "ticks": ""
           }
          },
          "colorscale": {
           "diverging": [
            [
             0,
             "#8e0152"
            ],
            [
             0.1,
             "#c51b7d"
            ],
            [
             0.2,
             "#de77ae"
            ],
            [
             0.3,
             "#f1b6da"
            ],
            [
             0.4,
             "#fde0ef"
            ],
            [
             0.5,
             "#f7f7f7"
            ],
            [
             0.6,
             "#e6f5d0"
            ],
            [
             0.7,
             "#b8e186"
            ],
            [
             0.8,
             "#7fbc41"
            ],
            [
             0.9,
             "#4d9221"
            ],
            [
             1,
             "#276419"
            ]
           ],
           "sequential": [
            [
             0,
             "#0d0887"
            ],
            [
             0.1111111111111111,
             "#46039f"
            ],
            [
             0.2222222222222222,
             "#7201a8"
            ],
            [
             0.3333333333333333,
             "#9c179e"
            ],
            [
             0.4444444444444444,
             "#bd3786"
            ],
            [
             0.5555555555555556,
             "#d8576b"
            ],
            [
             0.6666666666666666,
             "#ed7953"
            ],
            [
             0.7777777777777778,
             "#fb9f3a"
            ],
            [
             0.8888888888888888,
             "#fdca26"
            ],
            [
             1,
             "#f0f921"
            ]
           ],
           "sequentialminus": [
            [
             0,
             "#0d0887"
            ],
            [
             0.1111111111111111,
             "#46039f"
            ],
            [
             0.2222222222222222,
             "#7201a8"
            ],
            [
             0.3333333333333333,
             "#9c179e"
            ],
            [
             0.4444444444444444,
             "#bd3786"
            ],
            [
             0.5555555555555556,
             "#d8576b"
            ],
            [
             0.6666666666666666,
             "#ed7953"
            ],
            [
             0.7777777777777778,
             "#fb9f3a"
            ],
            [
             0.8888888888888888,
             "#fdca26"
            ],
            [
             1,
             "#f0f921"
            ]
           ]
          },
          "colorway": [
           "#636efa",
           "#EF553B",
           "#00cc96",
           "#ab63fa",
           "#FFA15A",
           "#19d3f3",
           "#FF6692",
           "#B6E880",
           "#FF97FF",
           "#FECB52"
          ],
          "font": {
           "color": "#2a3f5f"
          },
          "geo": {
           "bgcolor": "white",
           "lakecolor": "white",
           "landcolor": "#E5ECF6",
           "showlakes": true,
           "showland": true,
           "subunitcolor": "white"
          },
          "hoverlabel": {
           "align": "left"
          },
          "hovermode": "closest",
          "mapbox": {
           "style": "light"
          },
          "paper_bgcolor": "white",
          "plot_bgcolor": "#E5ECF6",
          "polar": {
           "angularaxis": {
            "gridcolor": "white",
            "linecolor": "white",
            "ticks": ""
           },
           "bgcolor": "#E5ECF6",
           "radialaxis": {
            "gridcolor": "white",
            "linecolor": "white",
            "ticks": ""
           }
          },
          "scene": {
           "xaxis": {
            "backgroundcolor": "#E5ECF6",
            "gridcolor": "white",
            "gridwidth": 2,
            "linecolor": "white",
            "showbackground": true,
            "ticks": "",
            "zerolinecolor": "white"
           },
           "yaxis": {
            "backgroundcolor": "#E5ECF6",
            "gridcolor": "white",
            "gridwidth": 2,
            "linecolor": "white",
            "showbackground": true,
            "ticks": "",
            "zerolinecolor": "white"
           },
           "zaxis": {
            "backgroundcolor": "#E5ECF6",
            "gridcolor": "white",
            "gridwidth": 2,
            "linecolor": "white",
            "showbackground": true,
            "ticks": "",
            "zerolinecolor": "white"
           }
          },
          "shapedefaults": {
           "line": {
            "color": "#2a3f5f"
           }
          },
          "ternary": {
           "aaxis": {
            "gridcolor": "white",
            "linecolor": "white",
            "ticks": ""
           },
           "baxis": {
            "gridcolor": "white",
            "linecolor": "white",
            "ticks": ""
           },
           "bgcolor": "#E5ECF6",
           "caxis": {
            "gridcolor": "white",
            "linecolor": "white",
            "ticks": ""
           }
          },
          "title": {
           "x": 0.05
          },
          "xaxis": {
           "automargin": true,
           "gridcolor": "white",
           "linecolor": "white",
           "ticks": "",
           "title": {
            "standoff": 15
           },
           "zerolinecolor": "white",
           "zerolinewidth": 2
          },
          "yaxis": {
           "automargin": true,
           "gridcolor": "white",
           "linecolor": "white",
           "ticks": "",
           "title": {
            "standoff": 15
           },
           "zerolinecolor": "white",
           "zerolinewidth": 2
          }
         }
        },
        "title": {
         "text": "Blog post scores"
        },
        "xaxis": {
         "anchor": "y",
         "constrain": "domain",
         "domain": [
          0,
          1
         ],
         "scaleanchor": "y",
         "title": {
          "text": "blog"
         }
        },
        "yaxis": {
         "anchor": "x",
         "autorange": "reversed",
         "constrain": "domain",
         "domain": [
          0,
          1
         ],
         "title": {
          "text": "anger"
         }
        }
       }
      },
      "text/html": [
       "<div>                            <div id=\"bf3e191f-2d5d-4294-9a42-657574698ca1\" class=\"plotly-graph-div\" style=\"height:525px; width:100%;\"></div>            <script type=\"text/javascript\">                require([\"plotly\"], function(Plotly) {                    window.PLOTLYENV=window.PLOTLYENV || {};                                    if (document.getElementById(\"bf3e191f-2d5d-4294-9a42-657574698ca1\")) {                    Plotly.newPlot(                        \"bf3e191f-2d5d-4294-9a42-657574698ca1\",                        [{\"coloraxis\":\"coloraxis\",\"name\":\"0\",\"x\":[0,10,20,30,40,50,60,70,80],\"y\":[0,10,20,30,40,50,60,70,80],\"z\":[[1.14,1.26,1.36,2.4,2.54,3.56,4.2,4.54,4.42],[1.5,1.28,1.46,1.76,3.34,3.6,3.68,4.9,4.5],[1.0,1.86,1.06,2.48,1.86,3.76,4.44,5.14,4.92],[1.14,1.32,1.48,1.8,2.06,3.72,4.06,4.62,5.18],[1.28,1.58,1.2,1.28,2.04,2.54,3.06,4.66,4.44],[1.0,1.4,1.38,1.9,1.86,2.28,2.86,3.3,3.88],[1.28,1.14,1.48,1.3,2.02,3.06,2.72,3.72,4.0],[1.0,1.16,1.36,1.32,1.88,2.18,2.62,3.14,4.18],[1.04,1.1,1.04,1.5,1.84,1.88,2.08,2.22,2.88]],\"type\":\"heatmap\",\"xaxis\":\"x\",\"yaxis\":\"y\",\"hovertemplate\":\"blog: %{x}\\u003cbr\\u003eanger: %{y}\\u003cbr\\u003ecolor: %{z}\\u003cextra\\u003e\\u003c\\u002fextra\\u003e\"}],                        {\"template\":{\"data\":{\"histogram2dcontour\":[{\"type\":\"histogram2dcontour\",\"colorbar\":{\"outlinewidth\":0,\"ticks\":\"\"},\"colorscale\":[[0.0,\"#0d0887\"],[0.1111111111111111,\"#46039f\"],[0.2222222222222222,\"#7201a8\"],[0.3333333333333333,\"#9c179e\"],[0.4444444444444444,\"#bd3786\"],[0.5555555555555556,\"#d8576b\"],[0.6666666666666666,\"#ed7953\"],[0.7777777777777778,\"#fb9f3a\"],[0.8888888888888888,\"#fdca26\"],[1.0,\"#f0f921\"]]}],\"choropleth\":[{\"type\":\"choropleth\",\"colorbar\":{\"outlinewidth\":0,\"ticks\":\"\"}}],\"histogram2d\":[{\"type\":\"histogram2d\",\"colorbar\":{\"outlinewidth\":0,\"ticks\":\"\"},\"colorscale\":[[0.0,\"#0d0887\"],[0.1111111111111111,\"#46039f\"],[0.2222222222222222,\"#7201a8\"],[0.3333333333333333,\"#9c179e\"],[0.4444444444444444,\"#bd3786\"],[0.5555555555555556,\"#d8576b\"],[0.6666666666666666,\"#ed7953\"],[0.7777777777777778,\"#fb9f3a\"],[0.8888888888888888,\"#fdca26\"],[1.0,\"#f0f921\"]]}],\"heatmap\":[{\"type\":\"heatmap\",\"colorbar\":{\"outlinewidth\":0,\"ticks\":\"\"},\"colorscale\":[[0.0,\"#0d0887\"],[0.1111111111111111,\"#46039f\"],[0.2222222222222222,\"#7201a8\"],[0.3333333333333333,\"#9c179e\"],[0.4444444444444444,\"#bd3786\"],[0.5555555555555556,\"#d8576b\"],[0.6666666666666666,\"#ed7953\"],[0.7777777777777778,\"#fb9f3a\"],[0.8888888888888888,\"#fdca26\"],[1.0,\"#f0f921\"]]}],\"heatmapgl\":[{\"type\":\"heatmapgl\",\"colorbar\":{\"outlinewidth\":0,\"ticks\":\"\"},\"colorscale\":[[0.0,\"#0d0887\"],[0.1111111111111111,\"#46039f\"],[0.2222222222222222,\"#7201a8\"],[0.3333333333333333,\"#9c179e\"],[0.4444444444444444,\"#bd3786\"],[0.5555555555555556,\"#d8576b\"],[0.6666666666666666,\"#ed7953\"],[0.7777777777777778,\"#fb9f3a\"],[0.8888888888888888,\"#fdca26\"],[1.0,\"#f0f921\"]]}],\"contourcarpet\":[{\"type\":\"contourcarpet\",\"colorbar\":{\"outlinewidth\":0,\"ticks\":\"\"}}],\"contour\":[{\"type\":\"contour\",\"colorbar\":{\"outlinewidth\":0,\"ticks\":\"\"},\"colorscale\":[[0.0,\"#0d0887\"],[0.1111111111111111,\"#46039f\"],[0.2222222222222222,\"#7201a8\"],[0.3333333333333333,\"#9c179e\"],[0.4444444444444444,\"#bd3786\"],[0.5555555555555556,\"#d8576b\"],[0.6666666666666666,\"#ed7953\"],[0.7777777777777778,\"#fb9f3a\"],[0.8888888888888888,\"#fdca26\"],[1.0,\"#f0f921\"]]}],\"surface\":[{\"type\":\"surface\",\"colorbar\":{\"outlinewidth\":0,\"ticks\":\"\"},\"colorscale\":[[0.0,\"#0d0887\"],[0.1111111111111111,\"#46039f\"],[0.2222222222222222,\"#7201a8\"],[0.3333333333333333,\"#9c179e\"],[0.4444444444444444,\"#bd3786\"],[0.5555555555555556,\"#d8576b\"],[0.6666666666666666,\"#ed7953\"],[0.7777777777777778,\"#fb9f3a\"],[0.8888888888888888,\"#fdca26\"],[1.0,\"#f0f921\"]]}],\"mesh3d\":[{\"type\":\"mesh3d\",\"colorbar\":{\"outlinewidth\":0,\"ticks\":\"\"}}],\"scatter\":[{\"fillpattern\":{\"fillmode\":\"overlay\",\"size\":10,\"solidity\":0.2},\"type\":\"scatter\"}],\"parcoords\":[{\"type\":\"parcoords\",\"line\":{\"colorbar\":{\"outlinewidth\":0,\"ticks\":\"\"}}}],\"scatterpolargl\":[{\"type\":\"scatterpolargl\",\"marker\":{\"colorbar\":{\"outlinewidth\":0,\"ticks\":\"\"}}}],\"bar\":[{\"error_x\":{\"color\":\"#2a3f5f\"},\"error_y\":{\"color\":\"#2a3f5f\"},\"marker\":{\"line\":{\"color\":\"#E5ECF6\",\"width\":0.5},\"pattern\":{\"fillmode\":\"overlay\",\"size\":10,\"solidity\":0.2}},\"type\":\"bar\"}],\"scattergeo\":[{\"type\":\"scattergeo\",\"marker\":{\"colorbar\":{\"outlinewidth\":0,\"ticks\":\"\"}}}],\"scatterpolar\":[{\"type\":\"scatterpolar\",\"marker\":{\"colorbar\":{\"outlinewidth\":0,\"ticks\":\"\"}}}],\"histogram\":[{\"marker\":{\"pattern\":{\"fillmode\":\"overlay\",\"size\":10,\"solidity\":0.2}},\"type\":\"histogram\"}],\"scattergl\":[{\"type\":\"scattergl\",\"marker\":{\"colorbar\":{\"outlinewidth\":0,\"ticks\":\"\"}}}],\"scatter3d\":[{\"type\":\"scatter3d\",\"line\":{\"colorbar\":{\"outlinewidth\":0,\"ticks\":\"\"}},\"marker\":{\"colorbar\":{\"outlinewidth\":0,\"ticks\":\"\"}}}],\"scattermapbox\":[{\"type\":\"scattermapbox\",\"marker\":{\"colorbar\":{\"outlinewidth\":0,\"ticks\":\"\"}}}],\"scatterternary\":[{\"type\":\"scatterternary\",\"marker\":{\"colorbar\":{\"outlinewidth\":0,\"ticks\":\"\"}}}],\"scattercarpet\":[{\"type\":\"scattercarpet\",\"marker\":{\"colorbar\":{\"outlinewidth\":0,\"ticks\":\"\"}}}],\"carpet\":[{\"aaxis\":{\"endlinecolor\":\"#2a3f5f\",\"gridcolor\":\"white\",\"linecolor\":\"white\",\"minorgridcolor\":\"white\",\"startlinecolor\":\"#2a3f5f\"},\"baxis\":{\"endlinecolor\":\"#2a3f5f\",\"gridcolor\":\"white\",\"linecolor\":\"white\",\"minorgridcolor\":\"white\",\"startlinecolor\":\"#2a3f5f\"},\"type\":\"carpet\"}],\"table\":[{\"cells\":{\"fill\":{\"color\":\"#EBF0F8\"},\"line\":{\"color\":\"white\"}},\"header\":{\"fill\":{\"color\":\"#C8D4E3\"},\"line\":{\"color\":\"white\"}},\"type\":\"table\"}],\"barpolar\":[{\"marker\":{\"line\":{\"color\":\"#E5ECF6\",\"width\":0.5},\"pattern\":{\"fillmode\":\"overlay\",\"size\":10,\"solidity\":0.2}},\"type\":\"barpolar\"}],\"pie\":[{\"automargin\":true,\"type\":\"pie\"}]},\"layout\":{\"autotypenumbers\":\"strict\",\"colorway\":[\"#636efa\",\"#EF553B\",\"#00cc96\",\"#ab63fa\",\"#FFA15A\",\"#19d3f3\",\"#FF6692\",\"#B6E880\",\"#FF97FF\",\"#FECB52\"],\"font\":{\"color\":\"#2a3f5f\"},\"hovermode\":\"closest\",\"hoverlabel\":{\"align\":\"left\"},\"paper_bgcolor\":\"white\",\"plot_bgcolor\":\"#E5ECF6\",\"polar\":{\"bgcolor\":\"#E5ECF6\",\"angularaxis\":{\"gridcolor\":\"white\",\"linecolor\":\"white\",\"ticks\":\"\"},\"radialaxis\":{\"gridcolor\":\"white\",\"linecolor\":\"white\",\"ticks\":\"\"}},\"ternary\":{\"bgcolor\":\"#E5ECF6\",\"aaxis\":{\"gridcolor\":\"white\",\"linecolor\":\"white\",\"ticks\":\"\"},\"baxis\":{\"gridcolor\":\"white\",\"linecolor\":\"white\",\"ticks\":\"\"},\"caxis\":{\"gridcolor\":\"white\",\"linecolor\":\"white\",\"ticks\":\"\"}},\"coloraxis\":{\"colorbar\":{\"outlinewidth\":0,\"ticks\":\"\"}},\"colorscale\":{\"sequential\":[[0.0,\"#0d0887\"],[0.1111111111111111,\"#46039f\"],[0.2222222222222222,\"#7201a8\"],[0.3333333333333333,\"#9c179e\"],[0.4444444444444444,\"#bd3786\"],[0.5555555555555556,\"#d8576b\"],[0.6666666666666666,\"#ed7953\"],[0.7777777777777778,\"#fb9f3a\"],[0.8888888888888888,\"#fdca26\"],[1.0,\"#f0f921\"]],\"sequentialminus\":[[0.0,\"#0d0887\"],[0.1111111111111111,\"#46039f\"],[0.2222222222222222,\"#7201a8\"],[0.3333333333333333,\"#9c179e\"],[0.4444444444444444,\"#bd3786\"],[0.5555555555555556,\"#d8576b\"],[0.6666666666666666,\"#ed7953\"],[0.7777777777777778,\"#fb9f3a\"],[0.8888888888888888,\"#fdca26\"],[1.0,\"#f0f921\"]],\"diverging\":[[0,\"#8e0152\"],[0.1,\"#c51b7d\"],[0.2,\"#de77ae\"],[0.3,\"#f1b6da\"],[0.4,\"#fde0ef\"],[0.5,\"#f7f7f7\"],[0.6,\"#e6f5d0\"],[0.7,\"#b8e186\"],[0.8,\"#7fbc41\"],[0.9,\"#4d9221\"],[1,\"#276419\"]]},\"xaxis\":{\"gridcolor\":\"white\",\"linecolor\":\"white\",\"ticks\":\"\",\"title\":{\"standoff\":15},\"zerolinecolor\":\"white\",\"automargin\":true,\"zerolinewidth\":2},\"yaxis\":{\"gridcolor\":\"white\",\"linecolor\":\"white\",\"ticks\":\"\",\"title\":{\"standoff\":15},\"zerolinecolor\":\"white\",\"automargin\":true,\"zerolinewidth\":2},\"scene\":{\"xaxis\":{\"backgroundcolor\":\"#E5ECF6\",\"gridcolor\":\"white\",\"linecolor\":\"white\",\"showbackground\":true,\"ticks\":\"\",\"zerolinecolor\":\"white\",\"gridwidth\":2},\"yaxis\":{\"backgroundcolor\":\"#E5ECF6\",\"gridcolor\":\"white\",\"linecolor\":\"white\",\"showbackground\":true,\"ticks\":\"\",\"zerolinecolor\":\"white\",\"gridwidth\":2},\"zaxis\":{\"backgroundcolor\":\"#E5ECF6\",\"gridcolor\":\"white\",\"linecolor\":\"white\",\"showbackground\":true,\"ticks\":\"\",\"zerolinecolor\":\"white\",\"gridwidth\":2}},\"shapedefaults\":{\"line\":{\"color\":\"#2a3f5f\"}},\"annotationdefaults\":{\"arrowcolor\":\"#2a3f5f\",\"arrowhead\":0,\"arrowwidth\":1},\"geo\":{\"bgcolor\":\"white\",\"landcolor\":\"#E5ECF6\",\"subunitcolor\":\"white\",\"showland\":true,\"showlakes\":true,\"lakecolor\":\"white\"},\"title\":{\"x\":0.05},\"mapbox\":{\"style\":\"light\"}}},\"xaxis\":{\"anchor\":\"y\",\"domain\":[0.0,1.0],\"scaleanchor\":\"y\",\"constrain\":\"domain\",\"title\":{\"text\":\"blog\"}},\"yaxis\":{\"anchor\":\"x\",\"domain\":[0.0,1.0],\"autorange\":\"reversed\",\"constrain\":\"domain\",\"title\":{\"text\":\"anger\"}},\"coloraxis\":{\"colorscale\":[[0.0,\"rgb(103,0,31)\"],[0.1,\"rgb(178,24,43)\"],[0.2,\"rgb(214,96,77)\"],[0.3,\"rgb(244,165,130)\"],[0.4,\"rgb(253,219,199)\"],[0.5,\"rgb(247,247,247)\"],[0.6,\"rgb(209,229,240)\"],[0.7,\"rgb(146,197,222)\"],[0.8,\"rgb(67,147,195)\"],[0.9,\"rgb(33,102,172)\"],[1.0,\"rgb(5,48,97)\"]],\"cmid\":0},\"title\":{\"text\":\"Blog post scores\"}},                        {\"responsive\": true}                    ).then(function(){\n",
       "                            \n",
       "var gd = document.getElementById('bf3e191f-2d5d-4294-9a42-657574698ca1');\n",
       "var x = new MutationObserver(function (mutations, observer) {{\n",
       "        var display = window.getComputedStyle(gd).display;\n",
       "        if (!display || display === 'none') {{\n",
       "            console.log([gd, 'removed!']);\n",
       "            Plotly.purge(gd);\n",
       "            observer.disconnect();\n",
       "        }}\n",
       "}});\n",
       "\n",
       "// Listen for the removal of the full notebook cells\n",
       "var notebookContainer = gd.closest('#notebook-container');\n",
       "if (notebookContainer) {{\n",
       "    x.observe(notebookContainer, {childList: true});\n",
       "}}\n",
       "\n",
       "// Listen for the clearing of the current output cell\n",
       "var outputEl = gd.closest('.output');\n",
       "if (outputEl) {{\n",
       "    x.observe(outputEl, {childList: true});\n",
       "}}\n",
       "\n",
       "                        })                };                });            </script>        </div>"
      ]
     },
     "metadata": {},
     "output_type": "display_data"
    }
   ],
   "source": [
    "px.imshow(blog_scores, x=scales, y=scales, title=\"Blog post scores\",labels={'x': 'blog', 'y': 'anger'}, color_continuous_scale=\"RdBu\", color_continuous_midpoint=0).show()"
   ]
  },
  {
   "cell_type": "code",
   "execution_count": 31,
   "metadata": {},
   "outputs": [
    {
     "data": {
      "application/vnd.plotly.v1+json": {
       "config": {
        "plotlyServerURL": "https://plot.ly"
       },
       "data": [
        {
         "coloraxis": "coloraxis",
         "hovertemplate": "blog: %{x}<br>anger: %{y}<br>color: %{z}<extra></extra>",
         "name": "0",
         "type": "heatmap",
         "x": [
          0,
          10,
          20,
          30,
          40,
          50,
          60,
          70,
          80
         ],
         "xaxis": "x",
         "y": [
          0,
          10,
          20,
          30,
          40,
          50,
          60,
          70,
          80
         ],
         "yaxis": "y",
         "z": [
          [
           2.0377474,
           2.0439272,
           2.0646594,
           2.10674,
           2.1813219,
           2.3020833,
           2.4917374,
           2.7871256,
           3.2092547
          ],
          [
           2.0441823,
           2.0523539,
           2.0759423,
           2.122252,
           2.203505,
           2.3350542,
           2.54273,
           2.862674,
           3.3087144
          ],
          [
           2.0720778,
           2.0834024,
           2.1122005,
           2.1663558,
           2.2598953,
           2.410316,
           2.6455147,
           2.9971182,
           3.4707084
          ],
          [
           2.1372101,
           2.1538646,
           2.1912339,
           2.258545,
           2.3720493,
           2.5516355,
           2.823928,
           3.2129655,
           3.7105982
          ],
          [
           2.256275,
           2.2818267,
           2.3324177,
           2.4187999,
           2.560449,
           2.7797875,
           3.0979593,
           3.5236788,
           4.0354285
          ],
          [
           2.4416132,
           2.4794524,
           2.5478425,
           2.6603127,
           2.8389657,
           3.106293,
           3.4709105,
           3.9234052,
           4.4365087
          ],
          [
           2.7047205,
           2.7605698,
           2.8543537,
           3.000335,
           3.2214527,
           3.5353317,
           3.9346669,
           4.397783,
           4.8982024
          ],
          [
           3.063023,
           3.1434014,
           3.268838,
           3.4534411,
           3.715503,
           4.0616035,
           4.4748063,
           4.9296284,
           5.4044166
          ],
          [
           3.5302906,
           3.6408222,
           3.801307,
           4.0216026,
           4.310475,
           4.665786,
           5.0700526,
           5.501067,
           5.9412565
          ]
         ]
        }
       ],
       "layout": {
        "coloraxis": {
         "cmid": 0,
         "colorscale": [
          [
           0,
           "rgb(103,0,31)"
          ],
          [
           0.1,
           "rgb(178,24,43)"
          ],
          [
           0.2,
           "rgb(214,96,77)"
          ],
          [
           0.3,
           "rgb(244,165,130)"
          ],
          [
           0.4,
           "rgb(253,219,199)"
          ],
          [
           0.5,
           "rgb(247,247,247)"
          ],
          [
           0.6,
           "rgb(209,229,240)"
          ],
          [
           0.7,
           "rgb(146,197,222)"
          ],
          [
           0.8,
           "rgb(67,147,195)"
          ],
          [
           0.9,
           "rgb(33,102,172)"
          ],
          [
           1,
           "rgb(5,48,97)"
          ]
         ]
        },
        "template": {
         "data": {
          "bar": [
           {
            "error_x": {
             "color": "#2a3f5f"
            },
            "error_y": {
             "color": "#2a3f5f"
            },
            "marker": {
             "line": {
              "color": "#E5ECF6",
              "width": 0.5
             },
             "pattern": {
              "fillmode": "overlay",
              "size": 10,
              "solidity": 0.2
             }
            },
            "type": "bar"
           }
          ],
          "barpolar": [
           {
            "marker": {
             "line": {
              "color": "#E5ECF6",
              "width": 0.5
             },
             "pattern": {
              "fillmode": "overlay",
              "size": 10,
              "solidity": 0.2
             }
            },
            "type": "barpolar"
           }
          ],
          "carpet": [
           {
            "aaxis": {
             "endlinecolor": "#2a3f5f",
             "gridcolor": "white",
             "linecolor": "white",
             "minorgridcolor": "white",
             "startlinecolor": "#2a3f5f"
            },
            "baxis": {
             "endlinecolor": "#2a3f5f",
             "gridcolor": "white",
             "linecolor": "white",
             "minorgridcolor": "white",
             "startlinecolor": "#2a3f5f"
            },
            "type": "carpet"
           }
          ],
          "choropleth": [
           {
            "colorbar": {
             "outlinewidth": 0,
             "ticks": ""
            },
            "type": "choropleth"
           }
          ],
          "contour": [
           {
            "colorbar": {
             "outlinewidth": 0,
             "ticks": ""
            },
            "colorscale": [
             [
              0,
              "#0d0887"
             ],
             [
              0.1111111111111111,
              "#46039f"
             ],
             [
              0.2222222222222222,
              "#7201a8"
             ],
             [
              0.3333333333333333,
              "#9c179e"
             ],
             [
              0.4444444444444444,
              "#bd3786"
             ],
             [
              0.5555555555555556,
              "#d8576b"
             ],
             [
              0.6666666666666666,
              "#ed7953"
             ],
             [
              0.7777777777777778,
              "#fb9f3a"
             ],
             [
              0.8888888888888888,
              "#fdca26"
             ],
             [
              1,
              "#f0f921"
             ]
            ],
            "type": "contour"
           }
          ],
          "contourcarpet": [
           {
            "colorbar": {
             "outlinewidth": 0,
             "ticks": ""
            },
            "type": "contourcarpet"
           }
          ],
          "heatmap": [
           {
            "colorbar": {
             "outlinewidth": 0,
             "ticks": ""
            },
            "colorscale": [
             [
              0,
              "#0d0887"
             ],
             [
              0.1111111111111111,
              "#46039f"
             ],
             [
              0.2222222222222222,
              "#7201a8"
             ],
             [
              0.3333333333333333,
              "#9c179e"
             ],
             [
              0.4444444444444444,
              "#bd3786"
             ],
             [
              0.5555555555555556,
              "#d8576b"
             ],
             [
              0.6666666666666666,
              "#ed7953"
             ],
             [
              0.7777777777777778,
              "#fb9f3a"
             ],
             [
              0.8888888888888888,
              "#fdca26"
             ],
             [
              1,
              "#f0f921"
             ]
            ],
            "type": "heatmap"
           }
          ],
          "heatmapgl": [
           {
            "colorbar": {
             "outlinewidth": 0,
             "ticks": ""
            },
            "colorscale": [
             [
              0,
              "#0d0887"
             ],
             [
              0.1111111111111111,
              "#46039f"
             ],
             [
              0.2222222222222222,
              "#7201a8"
             ],
             [
              0.3333333333333333,
              "#9c179e"
             ],
             [
              0.4444444444444444,
              "#bd3786"
             ],
             [
              0.5555555555555556,
              "#d8576b"
             ],
             [
              0.6666666666666666,
              "#ed7953"
             ],
             [
              0.7777777777777778,
              "#fb9f3a"
             ],
             [
              0.8888888888888888,
              "#fdca26"
             ],
             [
              1,
              "#f0f921"
             ]
            ],
            "type": "heatmapgl"
           }
          ],
          "histogram": [
           {
            "marker": {
             "pattern": {
              "fillmode": "overlay",
              "size": 10,
              "solidity": 0.2
             }
            },
            "type": "histogram"
           }
          ],
          "histogram2d": [
           {
            "colorbar": {
             "outlinewidth": 0,
             "ticks": ""
            },
            "colorscale": [
             [
              0,
              "#0d0887"
             ],
             [
              0.1111111111111111,
              "#46039f"
             ],
             [
              0.2222222222222222,
              "#7201a8"
             ],
             [
              0.3333333333333333,
              "#9c179e"
             ],
             [
              0.4444444444444444,
              "#bd3786"
             ],
             [
              0.5555555555555556,
              "#d8576b"
             ],
             [
              0.6666666666666666,
              "#ed7953"
             ],
             [
              0.7777777777777778,
              "#fb9f3a"
             ],
             [
              0.8888888888888888,
              "#fdca26"
             ],
             [
              1,
              "#f0f921"
             ]
            ],
            "type": "histogram2d"
           }
          ],
          "histogram2dcontour": [
           {
            "colorbar": {
             "outlinewidth": 0,
             "ticks": ""
            },
            "colorscale": [
             [
              0,
              "#0d0887"
             ],
             [
              0.1111111111111111,
              "#46039f"
             ],
             [
              0.2222222222222222,
              "#7201a8"
             ],
             [
              0.3333333333333333,
              "#9c179e"
             ],
             [
              0.4444444444444444,
              "#bd3786"
             ],
             [
              0.5555555555555556,
              "#d8576b"
             ],
             [
              0.6666666666666666,
              "#ed7953"
             ],
             [
              0.7777777777777778,
              "#fb9f3a"
             ],
             [
              0.8888888888888888,
              "#fdca26"
             ],
             [
              1,
              "#f0f921"
             ]
            ],
            "type": "histogram2dcontour"
           }
          ],
          "mesh3d": [
           {
            "colorbar": {
             "outlinewidth": 0,
             "ticks": ""
            },
            "type": "mesh3d"
           }
          ],
          "parcoords": [
           {
            "line": {
             "colorbar": {
              "outlinewidth": 0,
              "ticks": ""
             }
            },
            "type": "parcoords"
           }
          ],
          "pie": [
           {
            "automargin": true,
            "type": "pie"
           }
          ],
          "scatter": [
           {
            "fillpattern": {
             "fillmode": "overlay",
             "size": 10,
             "solidity": 0.2
            },
            "type": "scatter"
           }
          ],
          "scatter3d": [
           {
            "line": {
             "colorbar": {
              "outlinewidth": 0,
              "ticks": ""
             }
            },
            "marker": {
             "colorbar": {
              "outlinewidth": 0,
              "ticks": ""
             }
            },
            "type": "scatter3d"
           }
          ],
          "scattercarpet": [
           {
            "marker": {
             "colorbar": {
              "outlinewidth": 0,
              "ticks": ""
             }
            },
            "type": "scattercarpet"
           }
          ],
          "scattergeo": [
           {
            "marker": {
             "colorbar": {
              "outlinewidth": 0,
              "ticks": ""
             }
            },
            "type": "scattergeo"
           }
          ],
          "scattergl": [
           {
            "marker": {
             "colorbar": {
              "outlinewidth": 0,
              "ticks": ""
             }
            },
            "type": "scattergl"
           }
          ],
          "scattermapbox": [
           {
            "marker": {
             "colorbar": {
              "outlinewidth": 0,
              "ticks": ""
             }
            },
            "type": "scattermapbox"
           }
          ],
          "scatterpolar": [
           {
            "marker": {
             "colorbar": {
              "outlinewidth": 0,
              "ticks": ""
             }
            },
            "type": "scatterpolar"
           }
          ],
          "scatterpolargl": [
           {
            "marker": {
             "colorbar": {
              "outlinewidth": 0,
              "ticks": ""
             }
            },
            "type": "scatterpolargl"
           }
          ],
          "scatterternary": [
           {
            "marker": {
             "colorbar": {
              "outlinewidth": 0,
              "ticks": ""
             }
            },
            "type": "scatterternary"
           }
          ],
          "surface": [
           {
            "colorbar": {
             "outlinewidth": 0,
             "ticks": ""
            },
            "colorscale": [
             [
              0,
              "#0d0887"
             ],
             [
              0.1111111111111111,
              "#46039f"
             ],
             [
              0.2222222222222222,
              "#7201a8"
             ],
             [
              0.3333333333333333,
              "#9c179e"
             ],
             [
              0.4444444444444444,
              "#bd3786"
             ],
             [
              0.5555555555555556,
              "#d8576b"
             ],
             [
              0.6666666666666666,
              "#ed7953"
             ],
             [
              0.7777777777777778,
              "#fb9f3a"
             ],
             [
              0.8888888888888888,
              "#fdca26"
             ],
             [
              1,
              "#f0f921"
             ]
            ],
            "type": "surface"
           }
          ],
          "table": [
           {
            "cells": {
             "fill": {
              "color": "#EBF0F8"
             },
             "line": {
              "color": "white"
             }
            },
            "header": {
             "fill": {
              "color": "#C8D4E3"
             },
             "line": {
              "color": "white"
             }
            },
            "type": "table"
           }
          ]
         },
         "layout": {
          "annotationdefaults": {
           "arrowcolor": "#2a3f5f",
           "arrowhead": 0,
           "arrowwidth": 1
          },
          "autotypenumbers": "strict",
          "coloraxis": {
           "colorbar": {
            "outlinewidth": 0,
            "ticks": ""
           }
          },
          "colorscale": {
           "diverging": [
            [
             0,
             "#8e0152"
            ],
            [
             0.1,
             "#c51b7d"
            ],
            [
             0.2,
             "#de77ae"
            ],
            [
             0.3,
             "#f1b6da"
            ],
            [
             0.4,
             "#fde0ef"
            ],
            [
             0.5,
             "#f7f7f7"
            ],
            [
             0.6,
             "#e6f5d0"
            ],
            [
             0.7,
             "#b8e186"
            ],
            [
             0.8,
             "#7fbc41"
            ],
            [
             0.9,
             "#4d9221"
            ],
            [
             1,
             "#276419"
            ]
           ],
           "sequential": [
            [
             0,
             "#0d0887"
            ],
            [
             0.1111111111111111,
             "#46039f"
            ],
            [
             0.2222222222222222,
             "#7201a8"
            ],
            [
             0.3333333333333333,
             "#9c179e"
            ],
            [
             0.4444444444444444,
             "#bd3786"
            ],
            [
             0.5555555555555556,
             "#d8576b"
            ],
            [
             0.6666666666666666,
             "#ed7953"
            ],
            [
             0.7777777777777778,
             "#fb9f3a"
            ],
            [
             0.8888888888888888,
             "#fdca26"
            ],
            [
             1,
             "#f0f921"
            ]
           ],
           "sequentialminus": [
            [
             0,
             "#0d0887"
            ],
            [
             0.1111111111111111,
             "#46039f"
            ],
            [
             0.2222222222222222,
             "#7201a8"
            ],
            [
             0.3333333333333333,
             "#9c179e"
            ],
            [
             0.4444444444444444,
             "#bd3786"
            ],
            [
             0.5555555555555556,
             "#d8576b"
            ],
            [
             0.6666666666666666,
             "#ed7953"
            ],
            [
             0.7777777777777778,
             "#fb9f3a"
            ],
            [
             0.8888888888888888,
             "#fdca26"
            ],
            [
             1,
             "#f0f921"
            ]
           ]
          },
          "colorway": [
           "#636efa",
           "#EF553B",
           "#00cc96",
           "#ab63fa",
           "#FFA15A",
           "#19d3f3",
           "#FF6692",
           "#B6E880",
           "#FF97FF",
           "#FECB52"
          ],
          "font": {
           "color": "#2a3f5f"
          },
          "geo": {
           "bgcolor": "white",
           "lakecolor": "white",
           "landcolor": "#E5ECF6",
           "showlakes": true,
           "showland": true,
           "subunitcolor": "white"
          },
          "hoverlabel": {
           "align": "left"
          },
          "hovermode": "closest",
          "mapbox": {
           "style": "light"
          },
          "paper_bgcolor": "white",
          "plot_bgcolor": "#E5ECF6",
          "polar": {
           "angularaxis": {
            "gridcolor": "white",
            "linecolor": "white",
            "ticks": ""
           },
           "bgcolor": "#E5ECF6",
           "radialaxis": {
            "gridcolor": "white",
            "linecolor": "white",
            "ticks": ""
           }
          },
          "scene": {
           "xaxis": {
            "backgroundcolor": "#E5ECF6",
            "gridcolor": "white",
            "gridwidth": 2,
            "linecolor": "white",
            "showbackground": true,
            "ticks": "",
            "zerolinecolor": "white"
           },
           "yaxis": {
            "backgroundcolor": "#E5ECF6",
            "gridcolor": "white",
            "gridwidth": 2,
            "linecolor": "white",
            "showbackground": true,
            "ticks": "",
            "zerolinecolor": "white"
           },
           "zaxis": {
            "backgroundcolor": "#E5ECF6",
            "gridcolor": "white",
            "gridwidth": 2,
            "linecolor": "white",
            "showbackground": true,
            "ticks": "",
            "zerolinecolor": "white"
           }
          },
          "shapedefaults": {
           "line": {
            "color": "#2a3f5f"
           }
          },
          "ternary": {
           "aaxis": {
            "gridcolor": "white",
            "linecolor": "white",
            "ticks": ""
           },
           "baxis": {
            "gridcolor": "white",
            "linecolor": "white",
            "ticks": ""
           },
           "bgcolor": "#E5ECF6",
           "caxis": {
            "gridcolor": "white",
            "linecolor": "white",
            "ticks": ""
           }
          },
          "title": {
           "x": 0.05
          },
          "xaxis": {
           "automargin": true,
           "gridcolor": "white",
           "linecolor": "white",
           "ticks": "",
           "title": {
            "standoff": 15
           },
           "zerolinecolor": "white",
           "zerolinewidth": 2
          },
          "yaxis": {
           "automargin": true,
           "gridcolor": "white",
           "linecolor": "white",
           "ticks": "",
           "title": {
            "standoff": 15
           },
           "zerolinecolor": "white",
           "zerolinewidth": 2
          }
         }
        },
        "title": {
         "text": "Losses"
        },
        "xaxis": {
         "anchor": "y",
         "constrain": "domain",
         "domain": [
          0,
          1
         ],
         "scaleanchor": "y",
         "title": {
          "text": "blog"
         }
        },
        "yaxis": {
         "anchor": "x",
         "autorange": "reversed",
         "constrain": "domain",
         "domain": [
          0,
          1
         ],
         "title": {
          "text": "anger"
         }
        }
       }
      },
      "text/html": [
       "<div>                            <div id=\"c95c93f7-7328-4bce-a8a0-8f72e05c3719\" class=\"plotly-graph-div\" style=\"height:525px; width:100%;\"></div>            <script type=\"text/javascript\">                require([\"plotly\"], function(Plotly) {                    window.PLOTLYENV=window.PLOTLYENV || {};                                    if (document.getElementById(\"c95c93f7-7328-4bce-a8a0-8f72e05c3719\")) {                    Plotly.newPlot(                        \"c95c93f7-7328-4bce-a8a0-8f72e05c3719\",                        [{\"coloraxis\":\"coloraxis\",\"name\":\"0\",\"x\":[0,10,20,30,40,50,60,70,80],\"y\":[0,10,20,30,40,50,60,70,80],\"z\":[[2.0377474,2.0439272,2.0646594,2.10674,2.1813219,2.3020833,2.4917374,2.7871256,3.2092547],[2.0441823,2.0523539,2.0759423,2.122252,2.203505,2.3350542,2.54273,2.862674,3.3087144],[2.0720778,2.0834024,2.1122005,2.1663558,2.2598953,2.410316,2.6455147,2.9971182,3.4707084],[2.1372101,2.1538646,2.1912339,2.258545,2.3720493,2.5516355,2.823928,3.2129655,3.7105982],[2.256275,2.2818267,2.3324177,2.4187999,2.560449,2.7797875,3.0979593,3.5236788,4.0354285],[2.4416132,2.4794524,2.5478425,2.6603127,2.8389657,3.106293,3.4709105,3.9234052,4.4365087],[2.7047205,2.7605698,2.8543537,3.000335,3.2214527,3.5353317,3.9346669,4.397783,4.8982024],[3.063023,3.1434014,3.268838,3.4534411,3.715503,4.0616035,4.4748063,4.9296284,5.4044166],[3.5302906,3.6408222,3.801307,4.0216026,4.310475,4.665786,5.0700526,5.501067,5.9412565]],\"type\":\"heatmap\",\"xaxis\":\"x\",\"yaxis\":\"y\",\"hovertemplate\":\"blog: %{x}\\u003cbr\\u003eanger: %{y}\\u003cbr\\u003ecolor: %{z}\\u003cextra\\u003e\\u003c\\u002fextra\\u003e\"}],                        {\"template\":{\"data\":{\"histogram2dcontour\":[{\"type\":\"histogram2dcontour\",\"colorbar\":{\"outlinewidth\":0,\"ticks\":\"\"},\"colorscale\":[[0.0,\"#0d0887\"],[0.1111111111111111,\"#46039f\"],[0.2222222222222222,\"#7201a8\"],[0.3333333333333333,\"#9c179e\"],[0.4444444444444444,\"#bd3786\"],[0.5555555555555556,\"#d8576b\"],[0.6666666666666666,\"#ed7953\"],[0.7777777777777778,\"#fb9f3a\"],[0.8888888888888888,\"#fdca26\"],[1.0,\"#f0f921\"]]}],\"choropleth\":[{\"type\":\"choropleth\",\"colorbar\":{\"outlinewidth\":0,\"ticks\":\"\"}}],\"histogram2d\":[{\"type\":\"histogram2d\",\"colorbar\":{\"outlinewidth\":0,\"ticks\":\"\"},\"colorscale\":[[0.0,\"#0d0887\"],[0.1111111111111111,\"#46039f\"],[0.2222222222222222,\"#7201a8\"],[0.3333333333333333,\"#9c179e\"],[0.4444444444444444,\"#bd3786\"],[0.5555555555555556,\"#d8576b\"],[0.6666666666666666,\"#ed7953\"],[0.7777777777777778,\"#fb9f3a\"],[0.8888888888888888,\"#fdca26\"],[1.0,\"#f0f921\"]]}],\"heatmap\":[{\"type\":\"heatmap\",\"colorbar\":{\"outlinewidth\":0,\"ticks\":\"\"},\"colorscale\":[[0.0,\"#0d0887\"],[0.1111111111111111,\"#46039f\"],[0.2222222222222222,\"#7201a8\"],[0.3333333333333333,\"#9c179e\"],[0.4444444444444444,\"#bd3786\"],[0.5555555555555556,\"#d8576b\"],[0.6666666666666666,\"#ed7953\"],[0.7777777777777778,\"#fb9f3a\"],[0.8888888888888888,\"#fdca26\"],[1.0,\"#f0f921\"]]}],\"heatmapgl\":[{\"type\":\"heatmapgl\",\"colorbar\":{\"outlinewidth\":0,\"ticks\":\"\"},\"colorscale\":[[0.0,\"#0d0887\"],[0.1111111111111111,\"#46039f\"],[0.2222222222222222,\"#7201a8\"],[0.3333333333333333,\"#9c179e\"],[0.4444444444444444,\"#bd3786\"],[0.5555555555555556,\"#d8576b\"],[0.6666666666666666,\"#ed7953\"],[0.7777777777777778,\"#fb9f3a\"],[0.8888888888888888,\"#fdca26\"],[1.0,\"#f0f921\"]]}],\"contourcarpet\":[{\"type\":\"contourcarpet\",\"colorbar\":{\"outlinewidth\":0,\"ticks\":\"\"}}],\"contour\":[{\"type\":\"contour\",\"colorbar\":{\"outlinewidth\":0,\"ticks\":\"\"},\"colorscale\":[[0.0,\"#0d0887\"],[0.1111111111111111,\"#46039f\"],[0.2222222222222222,\"#7201a8\"],[0.3333333333333333,\"#9c179e\"],[0.4444444444444444,\"#bd3786\"],[0.5555555555555556,\"#d8576b\"],[0.6666666666666666,\"#ed7953\"],[0.7777777777777778,\"#fb9f3a\"],[0.8888888888888888,\"#fdca26\"],[1.0,\"#f0f921\"]]}],\"surface\":[{\"type\":\"surface\",\"colorbar\":{\"outlinewidth\":0,\"ticks\":\"\"},\"colorscale\":[[0.0,\"#0d0887\"],[0.1111111111111111,\"#46039f\"],[0.2222222222222222,\"#7201a8\"],[0.3333333333333333,\"#9c179e\"],[0.4444444444444444,\"#bd3786\"],[0.5555555555555556,\"#d8576b\"],[0.6666666666666666,\"#ed7953\"],[0.7777777777777778,\"#fb9f3a\"],[0.8888888888888888,\"#fdca26\"],[1.0,\"#f0f921\"]]}],\"mesh3d\":[{\"type\":\"mesh3d\",\"colorbar\":{\"outlinewidth\":0,\"ticks\":\"\"}}],\"scatter\":[{\"fillpattern\":{\"fillmode\":\"overlay\",\"size\":10,\"solidity\":0.2},\"type\":\"scatter\"}],\"parcoords\":[{\"type\":\"parcoords\",\"line\":{\"colorbar\":{\"outlinewidth\":0,\"ticks\":\"\"}}}],\"scatterpolargl\":[{\"type\":\"scatterpolargl\",\"marker\":{\"colorbar\":{\"outlinewidth\":0,\"ticks\":\"\"}}}],\"bar\":[{\"error_x\":{\"color\":\"#2a3f5f\"},\"error_y\":{\"color\":\"#2a3f5f\"},\"marker\":{\"line\":{\"color\":\"#E5ECF6\",\"width\":0.5},\"pattern\":{\"fillmode\":\"overlay\",\"size\":10,\"solidity\":0.2}},\"type\":\"bar\"}],\"scattergeo\":[{\"type\":\"scattergeo\",\"marker\":{\"colorbar\":{\"outlinewidth\":0,\"ticks\":\"\"}}}],\"scatterpolar\":[{\"type\":\"scatterpolar\",\"marker\":{\"colorbar\":{\"outlinewidth\":0,\"ticks\":\"\"}}}],\"histogram\":[{\"marker\":{\"pattern\":{\"fillmode\":\"overlay\",\"size\":10,\"solidity\":0.2}},\"type\":\"histogram\"}],\"scattergl\":[{\"type\":\"scattergl\",\"marker\":{\"colorbar\":{\"outlinewidth\":0,\"ticks\":\"\"}}}],\"scatter3d\":[{\"type\":\"scatter3d\",\"line\":{\"colorbar\":{\"outlinewidth\":0,\"ticks\":\"\"}},\"marker\":{\"colorbar\":{\"outlinewidth\":0,\"ticks\":\"\"}}}],\"scattermapbox\":[{\"type\":\"scattermapbox\",\"marker\":{\"colorbar\":{\"outlinewidth\":0,\"ticks\":\"\"}}}],\"scatterternary\":[{\"type\":\"scatterternary\",\"marker\":{\"colorbar\":{\"outlinewidth\":0,\"ticks\":\"\"}}}],\"scattercarpet\":[{\"type\":\"scattercarpet\",\"marker\":{\"colorbar\":{\"outlinewidth\":0,\"ticks\":\"\"}}}],\"carpet\":[{\"aaxis\":{\"endlinecolor\":\"#2a3f5f\",\"gridcolor\":\"white\",\"linecolor\":\"white\",\"minorgridcolor\":\"white\",\"startlinecolor\":\"#2a3f5f\"},\"baxis\":{\"endlinecolor\":\"#2a3f5f\",\"gridcolor\":\"white\",\"linecolor\":\"white\",\"minorgridcolor\":\"white\",\"startlinecolor\":\"#2a3f5f\"},\"type\":\"carpet\"}],\"table\":[{\"cells\":{\"fill\":{\"color\":\"#EBF0F8\"},\"line\":{\"color\":\"white\"}},\"header\":{\"fill\":{\"color\":\"#C8D4E3\"},\"line\":{\"color\":\"white\"}},\"type\":\"table\"}],\"barpolar\":[{\"marker\":{\"line\":{\"color\":\"#E5ECF6\",\"width\":0.5},\"pattern\":{\"fillmode\":\"overlay\",\"size\":10,\"solidity\":0.2}},\"type\":\"barpolar\"}],\"pie\":[{\"automargin\":true,\"type\":\"pie\"}]},\"layout\":{\"autotypenumbers\":\"strict\",\"colorway\":[\"#636efa\",\"#EF553B\",\"#00cc96\",\"#ab63fa\",\"#FFA15A\",\"#19d3f3\",\"#FF6692\",\"#B6E880\",\"#FF97FF\",\"#FECB52\"],\"font\":{\"color\":\"#2a3f5f\"},\"hovermode\":\"closest\",\"hoverlabel\":{\"align\":\"left\"},\"paper_bgcolor\":\"white\",\"plot_bgcolor\":\"#E5ECF6\",\"polar\":{\"bgcolor\":\"#E5ECF6\",\"angularaxis\":{\"gridcolor\":\"white\",\"linecolor\":\"white\",\"ticks\":\"\"},\"radialaxis\":{\"gridcolor\":\"white\",\"linecolor\":\"white\",\"ticks\":\"\"}},\"ternary\":{\"bgcolor\":\"#E5ECF6\",\"aaxis\":{\"gridcolor\":\"white\",\"linecolor\":\"white\",\"ticks\":\"\"},\"baxis\":{\"gridcolor\":\"white\",\"linecolor\":\"white\",\"ticks\":\"\"},\"caxis\":{\"gridcolor\":\"white\",\"linecolor\":\"white\",\"ticks\":\"\"}},\"coloraxis\":{\"colorbar\":{\"outlinewidth\":0,\"ticks\":\"\"}},\"colorscale\":{\"sequential\":[[0.0,\"#0d0887\"],[0.1111111111111111,\"#46039f\"],[0.2222222222222222,\"#7201a8\"],[0.3333333333333333,\"#9c179e\"],[0.4444444444444444,\"#bd3786\"],[0.5555555555555556,\"#d8576b\"],[0.6666666666666666,\"#ed7953\"],[0.7777777777777778,\"#fb9f3a\"],[0.8888888888888888,\"#fdca26\"],[1.0,\"#f0f921\"]],\"sequentialminus\":[[0.0,\"#0d0887\"],[0.1111111111111111,\"#46039f\"],[0.2222222222222222,\"#7201a8\"],[0.3333333333333333,\"#9c179e\"],[0.4444444444444444,\"#bd3786\"],[0.5555555555555556,\"#d8576b\"],[0.6666666666666666,\"#ed7953\"],[0.7777777777777778,\"#fb9f3a\"],[0.8888888888888888,\"#fdca26\"],[1.0,\"#f0f921\"]],\"diverging\":[[0,\"#8e0152\"],[0.1,\"#c51b7d\"],[0.2,\"#de77ae\"],[0.3,\"#f1b6da\"],[0.4,\"#fde0ef\"],[0.5,\"#f7f7f7\"],[0.6,\"#e6f5d0\"],[0.7,\"#b8e186\"],[0.8,\"#7fbc41\"],[0.9,\"#4d9221\"],[1,\"#276419\"]]},\"xaxis\":{\"gridcolor\":\"white\",\"linecolor\":\"white\",\"ticks\":\"\",\"title\":{\"standoff\":15},\"zerolinecolor\":\"white\",\"automargin\":true,\"zerolinewidth\":2},\"yaxis\":{\"gridcolor\":\"white\",\"linecolor\":\"white\",\"ticks\":\"\",\"title\":{\"standoff\":15},\"zerolinecolor\":\"white\",\"automargin\":true,\"zerolinewidth\":2},\"scene\":{\"xaxis\":{\"backgroundcolor\":\"#E5ECF6\",\"gridcolor\":\"white\",\"linecolor\":\"white\",\"showbackground\":true,\"ticks\":\"\",\"zerolinecolor\":\"white\",\"gridwidth\":2},\"yaxis\":{\"backgroundcolor\":\"#E5ECF6\",\"gridcolor\":\"white\",\"linecolor\":\"white\",\"showbackground\":true,\"ticks\":\"\",\"zerolinecolor\":\"white\",\"gridwidth\":2},\"zaxis\":{\"backgroundcolor\":\"#E5ECF6\",\"gridcolor\":\"white\",\"linecolor\":\"white\",\"showbackground\":true,\"ticks\":\"\",\"zerolinecolor\":\"white\",\"gridwidth\":2}},\"shapedefaults\":{\"line\":{\"color\":\"#2a3f5f\"}},\"annotationdefaults\":{\"arrowcolor\":\"#2a3f5f\",\"arrowhead\":0,\"arrowwidth\":1},\"geo\":{\"bgcolor\":\"white\",\"landcolor\":\"#E5ECF6\",\"subunitcolor\":\"white\",\"showland\":true,\"showlakes\":true,\"lakecolor\":\"white\"},\"title\":{\"x\":0.05},\"mapbox\":{\"style\":\"light\"}}},\"xaxis\":{\"anchor\":\"y\",\"domain\":[0.0,1.0],\"scaleanchor\":\"y\",\"constrain\":\"domain\",\"title\":{\"text\":\"blog\"}},\"yaxis\":{\"anchor\":\"x\",\"domain\":[0.0,1.0],\"autorange\":\"reversed\",\"constrain\":\"domain\",\"title\":{\"text\":\"anger\"}},\"coloraxis\":{\"colorscale\":[[0.0,\"rgb(103,0,31)\"],[0.1,\"rgb(178,24,43)\"],[0.2,\"rgb(214,96,77)\"],[0.3,\"rgb(244,165,130)\"],[0.4,\"rgb(253,219,199)\"],[0.5,\"rgb(247,247,247)\"],[0.6,\"rgb(209,229,240)\"],[0.7,\"rgb(146,197,222)\"],[0.8,\"rgb(67,147,195)\"],[0.9,\"rgb(33,102,172)\"],[1.0,\"rgb(5,48,97)\"]],\"cmid\":0},\"title\":{\"text\":\"Losses\"}},                        {\"responsive\": true}                    ).then(function(){\n",
       "                            \n",
       "var gd = document.getElementById('c95c93f7-7328-4bce-a8a0-8f72e05c3719');\n",
       "var x = new MutationObserver(function (mutations, observer) {{\n",
       "        var display = window.getComputedStyle(gd).display;\n",
       "        if (!display || display === 'none') {{\n",
       "            console.log([gd, 'removed!']);\n",
       "            Plotly.purge(gd);\n",
       "            observer.disconnect();\n",
       "        }}\n",
       "}});\n",
       "\n",
       "// Listen for the removal of the full notebook cells\n",
       "var notebookContainer = gd.closest('#notebook-container');\n",
       "if (notebookContainer) {{\n",
       "    x.observe(notebookContainer, {childList: true});\n",
       "}}\n",
       "\n",
       "// Listen for the clearing of the current output cell\n",
       "var outputEl = gd.closest('.output');\n",
       "if (outputEl) {{\n",
       "    x.observe(outputEl, {childList: true});\n",
       "}}\n",
       "\n",
       "                        })                };                });            </script>        </div>"
      ]
     },
     "metadata": {},
     "output_type": "display_data"
    }
   ],
   "source": [
    "px.imshow(losses, x=scales, y=scales, title=\"Losses\",labels={'x': 'blog', 'y': 'anger'}, color_continuous_scale=\"RdBu\", color_continuous_midpoint=0).show()"
   ]
  },
  {
   "cell_type": "code",
   "execution_count": 32,
   "metadata": {},
   "outputs": [
    {
     "data": {
      "application/vnd.plotly.v1+json": {
       "config": {
        "plotlyServerURL": "https://plot.ly"
       },
       "data": [
        {
         "coloraxis": "coloraxis",
         "hovertemplate": "blog: %{x}<br>anger: %{y}<br>color: %{z}<extra></extra>",
         "name": "0",
         "type": "heatmap",
         "x": [
          0,
          10,
          20,
          30,
          40,
          50,
          60,
          70,
          80
         ],
         "xaxis": "x",
         "y": [
          0,
          10,
          20,
          30,
          40,
          50,
          60,
          70,
          80
         ],
         "yaxis": "y",
         "z": [
          [
           2.38,
           2.42,
           2.48,
           3.58,
           3.6,
           4.7799997,
           5.22,
           5.62,
           5.5
          ],
          [
           2.78,
           2.6999998,
           2.58,
           3.1399999,
           4.62,
           4.74,
           4.82,
           5.98,
           5.7
          ],
          [
           2.3200002,
           3.06,
           2.3,
           4.08,
           3.22,
           5.08,
           5.9,
           6.2599998,
           6.08
          ],
          [
           3.2599998,
           3.3600001,
           3.3000002,
           3.76,
           4.1,
           5.42,
           5.64,
           6.46,
           6.88
          ],
          [
           4.1800003,
           4.2200003,
           3.56,
           3.8,
           4.3599997,
           4.76,
           5.2799997,
           6.38,
           6.1
          ],
          [
           3.74,
           4.24,
           4.42,
           4.32,
           4.76,
           4.88,
           5.2,
           5.34,
           5.4
          ],
          [
           4.62,
           4.6,
           4.42,
           4.16,
           4.58,
           5.34,
           4.74,
           5.4,
           5.48
          ],
          [
           4.1,
           4.18,
           4.36,
           3.58,
           4.5,
           4.58,
           4.7799997,
           4.7200003,
           5.92
          ],
          [
           3.7,
           3.98,
           4.1800003,
           3.92,
           3.5,
           3.8200002,
           3.56,
           4.04,
           4.44
          ]
         ]
        }
       ],
       "layout": {
        "coloraxis": {
         "cmid": 0,
         "colorscale": [
          [
           0,
           "rgb(103,0,31)"
          ],
          [
           0.1,
           "rgb(178,24,43)"
          ],
          [
           0.2,
           "rgb(214,96,77)"
          ],
          [
           0.3,
           "rgb(244,165,130)"
          ],
          [
           0.4,
           "rgb(253,219,199)"
          ],
          [
           0.5,
           "rgb(247,247,247)"
          ],
          [
           0.6,
           "rgb(209,229,240)"
          ],
          [
           0.7,
           "rgb(146,197,222)"
          ],
          [
           0.8,
           "rgb(67,147,195)"
          ],
          [
           0.9,
           "rgb(33,102,172)"
          ],
          [
           1,
           "rgb(5,48,97)"
          ]
         ]
        },
        "template": {
         "data": {
          "bar": [
           {
            "error_x": {
             "color": "#2a3f5f"
            },
            "error_y": {
             "color": "#2a3f5f"
            },
            "marker": {
             "line": {
              "color": "#E5ECF6",
              "width": 0.5
             },
             "pattern": {
              "fillmode": "overlay",
              "size": 10,
              "solidity": 0.2
             }
            },
            "type": "bar"
           }
          ],
          "barpolar": [
           {
            "marker": {
             "line": {
              "color": "#E5ECF6",
              "width": 0.5
             },
             "pattern": {
              "fillmode": "overlay",
              "size": 10,
              "solidity": 0.2
             }
            },
            "type": "barpolar"
           }
          ],
          "carpet": [
           {
            "aaxis": {
             "endlinecolor": "#2a3f5f",
             "gridcolor": "white",
             "linecolor": "white",
             "minorgridcolor": "white",
             "startlinecolor": "#2a3f5f"
            },
            "baxis": {
             "endlinecolor": "#2a3f5f",
             "gridcolor": "white",
             "linecolor": "white",
             "minorgridcolor": "white",
             "startlinecolor": "#2a3f5f"
            },
            "type": "carpet"
           }
          ],
          "choropleth": [
           {
            "colorbar": {
             "outlinewidth": 0,
             "ticks": ""
            },
            "type": "choropleth"
           }
          ],
          "contour": [
           {
            "colorbar": {
             "outlinewidth": 0,
             "ticks": ""
            },
            "colorscale": [
             [
              0,
              "#0d0887"
             ],
             [
              0.1111111111111111,
              "#46039f"
             ],
             [
              0.2222222222222222,
              "#7201a8"
             ],
             [
              0.3333333333333333,
              "#9c179e"
             ],
             [
              0.4444444444444444,
              "#bd3786"
             ],
             [
              0.5555555555555556,
              "#d8576b"
             ],
             [
              0.6666666666666666,
              "#ed7953"
             ],
             [
              0.7777777777777778,
              "#fb9f3a"
             ],
             [
              0.8888888888888888,
              "#fdca26"
             ],
             [
              1,
              "#f0f921"
             ]
            ],
            "type": "contour"
           }
          ],
          "contourcarpet": [
           {
            "colorbar": {
             "outlinewidth": 0,
             "ticks": ""
            },
            "type": "contourcarpet"
           }
          ],
          "heatmap": [
           {
            "colorbar": {
             "outlinewidth": 0,
             "ticks": ""
            },
            "colorscale": [
             [
              0,
              "#0d0887"
             ],
             [
              0.1111111111111111,
              "#46039f"
             ],
             [
              0.2222222222222222,
              "#7201a8"
             ],
             [
              0.3333333333333333,
              "#9c179e"
             ],
             [
              0.4444444444444444,
              "#bd3786"
             ],
             [
              0.5555555555555556,
              "#d8576b"
             ],
             [
              0.6666666666666666,
              "#ed7953"
             ],
             [
              0.7777777777777778,
              "#fb9f3a"
             ],
             [
              0.8888888888888888,
              "#fdca26"
             ],
             [
              1,
              "#f0f921"
             ]
            ],
            "type": "heatmap"
           }
          ],
          "heatmapgl": [
           {
            "colorbar": {
             "outlinewidth": 0,
             "ticks": ""
            },
            "colorscale": [
             [
              0,
              "#0d0887"
             ],
             [
              0.1111111111111111,
              "#46039f"
             ],
             [
              0.2222222222222222,
              "#7201a8"
             ],
             [
              0.3333333333333333,
              "#9c179e"
             ],
             [
              0.4444444444444444,
              "#bd3786"
             ],
             [
              0.5555555555555556,
              "#d8576b"
             ],
             [
              0.6666666666666666,
              "#ed7953"
             ],
             [
              0.7777777777777778,
              "#fb9f3a"
             ],
             [
              0.8888888888888888,
              "#fdca26"
             ],
             [
              1,
              "#f0f921"
             ]
            ],
            "type": "heatmapgl"
           }
          ],
          "histogram": [
           {
            "marker": {
             "pattern": {
              "fillmode": "overlay",
              "size": 10,
              "solidity": 0.2
             }
            },
            "type": "histogram"
           }
          ],
          "histogram2d": [
           {
            "colorbar": {
             "outlinewidth": 0,
             "ticks": ""
            },
            "colorscale": [
             [
              0,
              "#0d0887"
             ],
             [
              0.1111111111111111,
              "#46039f"
             ],
             [
              0.2222222222222222,
              "#7201a8"
             ],
             [
              0.3333333333333333,
              "#9c179e"
             ],
             [
              0.4444444444444444,
              "#bd3786"
             ],
             [
              0.5555555555555556,
              "#d8576b"
             ],
             [
              0.6666666666666666,
              "#ed7953"
             ],
             [
              0.7777777777777778,
              "#fb9f3a"
             ],
             [
              0.8888888888888888,
              "#fdca26"
             ],
             [
              1,
              "#f0f921"
             ]
            ],
            "type": "histogram2d"
           }
          ],
          "histogram2dcontour": [
           {
            "colorbar": {
             "outlinewidth": 0,
             "ticks": ""
            },
            "colorscale": [
             [
              0,
              "#0d0887"
             ],
             [
              0.1111111111111111,
              "#46039f"
             ],
             [
              0.2222222222222222,
              "#7201a8"
             ],
             [
              0.3333333333333333,
              "#9c179e"
             ],
             [
              0.4444444444444444,
              "#bd3786"
             ],
             [
              0.5555555555555556,
              "#d8576b"
             ],
             [
              0.6666666666666666,
              "#ed7953"
             ],
             [
              0.7777777777777778,
              "#fb9f3a"
             ],
             [
              0.8888888888888888,
              "#fdca26"
             ],
             [
              1,
              "#f0f921"
             ]
            ],
            "type": "histogram2dcontour"
           }
          ],
          "mesh3d": [
           {
            "colorbar": {
             "outlinewidth": 0,
             "ticks": ""
            },
            "type": "mesh3d"
           }
          ],
          "parcoords": [
           {
            "line": {
             "colorbar": {
              "outlinewidth": 0,
              "ticks": ""
             }
            },
            "type": "parcoords"
           }
          ],
          "pie": [
           {
            "automargin": true,
            "type": "pie"
           }
          ],
          "scatter": [
           {
            "fillpattern": {
             "fillmode": "overlay",
             "size": 10,
             "solidity": 0.2
            },
            "type": "scatter"
           }
          ],
          "scatter3d": [
           {
            "line": {
             "colorbar": {
              "outlinewidth": 0,
              "ticks": ""
             }
            },
            "marker": {
             "colorbar": {
              "outlinewidth": 0,
              "ticks": ""
             }
            },
            "type": "scatter3d"
           }
          ],
          "scattercarpet": [
           {
            "marker": {
             "colorbar": {
              "outlinewidth": 0,
              "ticks": ""
             }
            },
            "type": "scattercarpet"
           }
          ],
          "scattergeo": [
           {
            "marker": {
             "colorbar": {
              "outlinewidth": 0,
              "ticks": ""
             }
            },
            "type": "scattergeo"
           }
          ],
          "scattergl": [
           {
            "marker": {
             "colorbar": {
              "outlinewidth": 0,
              "ticks": ""
             }
            },
            "type": "scattergl"
           }
          ],
          "scattermapbox": [
           {
            "marker": {
             "colorbar": {
              "outlinewidth": 0,
              "ticks": ""
             }
            },
            "type": "scattermapbox"
           }
          ],
          "scatterpolar": [
           {
            "marker": {
             "colorbar": {
              "outlinewidth": 0,
              "ticks": ""
             }
            },
            "type": "scatterpolar"
           }
          ],
          "scatterpolargl": [
           {
            "marker": {
             "colorbar": {
              "outlinewidth": 0,
              "ticks": ""
             }
            },
            "type": "scatterpolargl"
           }
          ],
          "scatterternary": [
           {
            "marker": {
             "colorbar": {
              "outlinewidth": 0,
              "ticks": ""
             }
            },
            "type": "scatterternary"
           }
          ],
          "surface": [
           {
            "colorbar": {
             "outlinewidth": 0,
             "ticks": ""
            },
            "colorscale": [
             [
              0,
              "#0d0887"
             ],
             [
              0.1111111111111111,
              "#46039f"
             ],
             [
              0.2222222222222222,
              "#7201a8"
             ],
             [
              0.3333333333333333,
              "#9c179e"
             ],
             [
              0.4444444444444444,
              "#bd3786"
             ],
             [
              0.5555555555555556,
              "#d8576b"
             ],
             [
              0.6666666666666666,
              "#ed7953"
             ],
             [
              0.7777777777777778,
              "#fb9f3a"
             ],
             [
              0.8888888888888888,
              "#fdca26"
             ],
             [
              1,
              "#f0f921"
             ]
            ],
            "type": "surface"
           }
          ],
          "table": [
           {
            "cells": {
             "fill": {
              "color": "#EBF0F8"
             },
             "line": {
              "color": "white"
             }
            },
            "header": {
             "fill": {
              "color": "#C8D4E3"
             },
             "line": {
              "color": "white"
             }
            },
            "type": "table"
           }
          ]
         },
         "layout": {
          "annotationdefaults": {
           "arrowcolor": "#2a3f5f",
           "arrowhead": 0,
           "arrowwidth": 1
          },
          "autotypenumbers": "strict",
          "coloraxis": {
           "colorbar": {
            "outlinewidth": 0,
            "ticks": ""
           }
          },
          "colorscale": {
           "diverging": [
            [
             0,
             "#8e0152"
            ],
            [
             0.1,
             "#c51b7d"
            ],
            [
             0.2,
             "#de77ae"
            ],
            [
             0.3,
             "#f1b6da"
            ],
            [
             0.4,
             "#fde0ef"
            ],
            [
             0.5,
             "#f7f7f7"
            ],
            [
             0.6,
             "#e6f5d0"
            ],
            [
             0.7,
             "#b8e186"
            ],
            [
             0.8,
             "#7fbc41"
            ],
            [
             0.9,
             "#4d9221"
            ],
            [
             1,
             "#276419"
            ]
           ],
           "sequential": [
            [
             0,
             "#0d0887"
            ],
            [
             0.1111111111111111,
             "#46039f"
            ],
            [
             0.2222222222222222,
             "#7201a8"
            ],
            [
             0.3333333333333333,
             "#9c179e"
            ],
            [
             0.4444444444444444,
             "#bd3786"
            ],
            [
             0.5555555555555556,
             "#d8576b"
            ],
            [
             0.6666666666666666,
             "#ed7953"
            ],
            [
             0.7777777777777778,
             "#fb9f3a"
            ],
            [
             0.8888888888888888,
             "#fdca26"
            ],
            [
             1,
             "#f0f921"
            ]
           ],
           "sequentialminus": [
            [
             0,
             "#0d0887"
            ],
            [
             0.1111111111111111,
             "#46039f"
            ],
            [
             0.2222222222222222,
             "#7201a8"
            ],
            [
             0.3333333333333333,
             "#9c179e"
            ],
            [
             0.4444444444444444,
             "#bd3786"
            ],
            [
             0.5555555555555556,
             "#d8576b"
            ],
            [
             0.6666666666666666,
             "#ed7953"
            ],
            [
             0.7777777777777778,
             "#fb9f3a"
            ],
            [
             0.8888888888888888,
             "#fdca26"
            ],
            [
             1,
             "#f0f921"
            ]
           ]
          },
          "colorway": [
           "#636efa",
           "#EF553B",
           "#00cc96",
           "#ab63fa",
           "#FFA15A",
           "#19d3f3",
           "#FF6692",
           "#B6E880",
           "#FF97FF",
           "#FECB52"
          ],
          "font": {
           "color": "#2a3f5f"
          },
          "geo": {
           "bgcolor": "white",
           "lakecolor": "white",
           "landcolor": "#E5ECF6",
           "showlakes": true,
           "showland": true,
           "subunitcolor": "white"
          },
          "hoverlabel": {
           "align": "left"
          },
          "hovermode": "closest",
          "mapbox": {
           "style": "light"
          },
          "paper_bgcolor": "white",
          "plot_bgcolor": "#E5ECF6",
          "polar": {
           "angularaxis": {
            "gridcolor": "white",
            "linecolor": "white",
            "ticks": ""
           },
           "bgcolor": "#E5ECF6",
           "radialaxis": {
            "gridcolor": "white",
            "linecolor": "white",
            "ticks": ""
           }
          },
          "scene": {
           "xaxis": {
            "backgroundcolor": "#E5ECF6",
            "gridcolor": "white",
            "gridwidth": 2,
            "linecolor": "white",
            "showbackground": true,
            "ticks": "",
            "zerolinecolor": "white"
           },
           "yaxis": {
            "backgroundcolor": "#E5ECF6",
            "gridcolor": "white",
            "gridwidth": 2,
            "linecolor": "white",
            "showbackground": true,
            "ticks": "",
            "zerolinecolor": "white"
           },
           "zaxis": {
            "backgroundcolor": "#E5ECF6",
            "gridcolor": "white",
            "gridwidth": 2,
            "linecolor": "white",
            "showbackground": true,
            "ticks": "",
            "zerolinecolor": "white"
           }
          },
          "shapedefaults": {
           "line": {
            "color": "#2a3f5f"
           }
          },
          "ternary": {
           "aaxis": {
            "gridcolor": "white",
            "linecolor": "white",
            "ticks": ""
           },
           "baxis": {
            "gridcolor": "white",
            "linecolor": "white",
            "ticks": ""
           },
           "bgcolor": "#E5ECF6",
           "caxis": {
            "gridcolor": "white",
            "linecolor": "white",
            "ticks": ""
           }
          },
          "title": {
           "x": 0.05
          },
          "xaxis": {
           "automargin": true,
           "gridcolor": "white",
           "linecolor": "white",
           "ticks": "",
           "title": {
            "standoff": 15
           },
           "zerolinecolor": "white",
           "zerolinewidth": 2
          },
          "yaxis": {
           "automargin": true,
           "gridcolor": "white",
           "linecolor": "white",
           "ticks": "",
           "title": {
            "standoff": 15
           },
           "zerolinecolor": "white",
           "zerolinewidth": 2
          }
         }
        },
        "title": {
         "text": "sum of scores"
        },
        "xaxis": {
         "anchor": "y",
         "constrain": "domain",
         "domain": [
          0,
          1
         ],
         "scaleanchor": "y",
         "title": {
          "text": "blog"
         }
        },
        "yaxis": {
         "anchor": "x",
         "autorange": "reversed",
         "constrain": "domain",
         "domain": [
          0,
          1
         ],
         "title": {
          "text": "anger"
         }
        }
       }
      },
      "text/html": [
       "<div>                            <div id=\"a59fb3fd-adf9-45ca-b3c3-064deb8abc5d\" class=\"plotly-graph-div\" style=\"height:525px; width:100%;\"></div>            <script type=\"text/javascript\">                require([\"plotly\"], function(Plotly) {                    window.PLOTLYENV=window.PLOTLYENV || {};                                    if (document.getElementById(\"a59fb3fd-adf9-45ca-b3c3-064deb8abc5d\")) {                    Plotly.newPlot(                        \"a59fb3fd-adf9-45ca-b3c3-064deb8abc5d\",                        [{\"coloraxis\":\"coloraxis\",\"name\":\"0\",\"x\":[0,10,20,30,40,50,60,70,80],\"y\":[0,10,20,30,40,50,60,70,80],\"z\":[[2.38,2.42,2.48,3.58,3.6,4.7799997,5.22,5.62,5.5],[2.78,2.6999998,2.58,3.1399999,4.62,4.74,4.82,5.98,5.7],[2.3200002,3.06,2.3,4.08,3.22,5.08,5.9,6.2599998,6.08],[3.2599998,3.3600001,3.3000002,3.76,4.1,5.42,5.64,6.46,6.88],[4.1800003,4.2200003,3.56,3.8,4.3599997,4.76,5.2799997,6.38,6.1],[3.74,4.24,4.42,4.32,4.76,4.88,5.2,5.34,5.4],[4.62,4.6,4.42,4.16,4.58,5.34,4.74,5.4,5.48],[4.1,4.18,4.36,3.58,4.5,4.58,4.7799997,4.7200003,5.92],[3.7,3.98,4.1800003,3.92,3.5,3.8200002,3.56,4.04,4.44]],\"type\":\"heatmap\",\"xaxis\":\"x\",\"yaxis\":\"y\",\"hovertemplate\":\"blog: %{x}\\u003cbr\\u003eanger: %{y}\\u003cbr\\u003ecolor: %{z}\\u003cextra\\u003e\\u003c\\u002fextra\\u003e\"}],                        {\"template\":{\"data\":{\"histogram2dcontour\":[{\"type\":\"histogram2dcontour\",\"colorbar\":{\"outlinewidth\":0,\"ticks\":\"\"},\"colorscale\":[[0.0,\"#0d0887\"],[0.1111111111111111,\"#46039f\"],[0.2222222222222222,\"#7201a8\"],[0.3333333333333333,\"#9c179e\"],[0.4444444444444444,\"#bd3786\"],[0.5555555555555556,\"#d8576b\"],[0.6666666666666666,\"#ed7953\"],[0.7777777777777778,\"#fb9f3a\"],[0.8888888888888888,\"#fdca26\"],[1.0,\"#f0f921\"]]}],\"choropleth\":[{\"type\":\"choropleth\",\"colorbar\":{\"outlinewidth\":0,\"ticks\":\"\"}}],\"histogram2d\":[{\"type\":\"histogram2d\",\"colorbar\":{\"outlinewidth\":0,\"ticks\":\"\"},\"colorscale\":[[0.0,\"#0d0887\"],[0.1111111111111111,\"#46039f\"],[0.2222222222222222,\"#7201a8\"],[0.3333333333333333,\"#9c179e\"],[0.4444444444444444,\"#bd3786\"],[0.5555555555555556,\"#d8576b\"],[0.6666666666666666,\"#ed7953\"],[0.7777777777777778,\"#fb9f3a\"],[0.8888888888888888,\"#fdca26\"],[1.0,\"#f0f921\"]]}],\"heatmap\":[{\"type\":\"heatmap\",\"colorbar\":{\"outlinewidth\":0,\"ticks\":\"\"},\"colorscale\":[[0.0,\"#0d0887\"],[0.1111111111111111,\"#46039f\"],[0.2222222222222222,\"#7201a8\"],[0.3333333333333333,\"#9c179e\"],[0.4444444444444444,\"#bd3786\"],[0.5555555555555556,\"#d8576b\"],[0.6666666666666666,\"#ed7953\"],[0.7777777777777778,\"#fb9f3a\"],[0.8888888888888888,\"#fdca26\"],[1.0,\"#f0f921\"]]}],\"heatmapgl\":[{\"type\":\"heatmapgl\",\"colorbar\":{\"outlinewidth\":0,\"ticks\":\"\"},\"colorscale\":[[0.0,\"#0d0887\"],[0.1111111111111111,\"#46039f\"],[0.2222222222222222,\"#7201a8\"],[0.3333333333333333,\"#9c179e\"],[0.4444444444444444,\"#bd3786\"],[0.5555555555555556,\"#d8576b\"],[0.6666666666666666,\"#ed7953\"],[0.7777777777777778,\"#fb9f3a\"],[0.8888888888888888,\"#fdca26\"],[1.0,\"#f0f921\"]]}],\"contourcarpet\":[{\"type\":\"contourcarpet\",\"colorbar\":{\"outlinewidth\":0,\"ticks\":\"\"}}],\"contour\":[{\"type\":\"contour\",\"colorbar\":{\"outlinewidth\":0,\"ticks\":\"\"},\"colorscale\":[[0.0,\"#0d0887\"],[0.1111111111111111,\"#46039f\"],[0.2222222222222222,\"#7201a8\"],[0.3333333333333333,\"#9c179e\"],[0.4444444444444444,\"#bd3786\"],[0.5555555555555556,\"#d8576b\"],[0.6666666666666666,\"#ed7953\"],[0.7777777777777778,\"#fb9f3a\"],[0.8888888888888888,\"#fdca26\"],[1.0,\"#f0f921\"]]}],\"surface\":[{\"type\":\"surface\",\"colorbar\":{\"outlinewidth\":0,\"ticks\":\"\"},\"colorscale\":[[0.0,\"#0d0887\"],[0.1111111111111111,\"#46039f\"],[0.2222222222222222,\"#7201a8\"],[0.3333333333333333,\"#9c179e\"],[0.4444444444444444,\"#bd3786\"],[0.5555555555555556,\"#d8576b\"],[0.6666666666666666,\"#ed7953\"],[0.7777777777777778,\"#fb9f3a\"],[0.8888888888888888,\"#fdca26\"],[1.0,\"#f0f921\"]]}],\"mesh3d\":[{\"type\":\"mesh3d\",\"colorbar\":{\"outlinewidth\":0,\"ticks\":\"\"}}],\"scatter\":[{\"fillpattern\":{\"fillmode\":\"overlay\",\"size\":10,\"solidity\":0.2},\"type\":\"scatter\"}],\"parcoords\":[{\"type\":\"parcoords\",\"line\":{\"colorbar\":{\"outlinewidth\":0,\"ticks\":\"\"}}}],\"scatterpolargl\":[{\"type\":\"scatterpolargl\",\"marker\":{\"colorbar\":{\"outlinewidth\":0,\"ticks\":\"\"}}}],\"bar\":[{\"error_x\":{\"color\":\"#2a3f5f\"},\"error_y\":{\"color\":\"#2a3f5f\"},\"marker\":{\"line\":{\"color\":\"#E5ECF6\",\"width\":0.5},\"pattern\":{\"fillmode\":\"overlay\",\"size\":10,\"solidity\":0.2}},\"type\":\"bar\"}],\"scattergeo\":[{\"type\":\"scattergeo\",\"marker\":{\"colorbar\":{\"outlinewidth\":0,\"ticks\":\"\"}}}],\"scatterpolar\":[{\"type\":\"scatterpolar\",\"marker\":{\"colorbar\":{\"outlinewidth\":0,\"ticks\":\"\"}}}],\"histogram\":[{\"marker\":{\"pattern\":{\"fillmode\":\"overlay\",\"size\":10,\"solidity\":0.2}},\"type\":\"histogram\"}],\"scattergl\":[{\"type\":\"scattergl\",\"marker\":{\"colorbar\":{\"outlinewidth\":0,\"ticks\":\"\"}}}],\"scatter3d\":[{\"type\":\"scatter3d\",\"line\":{\"colorbar\":{\"outlinewidth\":0,\"ticks\":\"\"}},\"marker\":{\"colorbar\":{\"outlinewidth\":0,\"ticks\":\"\"}}}],\"scattermapbox\":[{\"type\":\"scattermapbox\",\"marker\":{\"colorbar\":{\"outlinewidth\":0,\"ticks\":\"\"}}}],\"scatterternary\":[{\"type\":\"scatterternary\",\"marker\":{\"colorbar\":{\"outlinewidth\":0,\"ticks\":\"\"}}}],\"scattercarpet\":[{\"type\":\"scattercarpet\",\"marker\":{\"colorbar\":{\"outlinewidth\":0,\"ticks\":\"\"}}}],\"carpet\":[{\"aaxis\":{\"endlinecolor\":\"#2a3f5f\",\"gridcolor\":\"white\",\"linecolor\":\"white\",\"minorgridcolor\":\"white\",\"startlinecolor\":\"#2a3f5f\"},\"baxis\":{\"endlinecolor\":\"#2a3f5f\",\"gridcolor\":\"white\",\"linecolor\":\"white\",\"minorgridcolor\":\"white\",\"startlinecolor\":\"#2a3f5f\"},\"type\":\"carpet\"}],\"table\":[{\"cells\":{\"fill\":{\"color\":\"#EBF0F8\"},\"line\":{\"color\":\"white\"}},\"header\":{\"fill\":{\"color\":\"#C8D4E3\"},\"line\":{\"color\":\"white\"}},\"type\":\"table\"}],\"barpolar\":[{\"marker\":{\"line\":{\"color\":\"#E5ECF6\",\"width\":0.5},\"pattern\":{\"fillmode\":\"overlay\",\"size\":10,\"solidity\":0.2}},\"type\":\"barpolar\"}],\"pie\":[{\"automargin\":true,\"type\":\"pie\"}]},\"layout\":{\"autotypenumbers\":\"strict\",\"colorway\":[\"#636efa\",\"#EF553B\",\"#00cc96\",\"#ab63fa\",\"#FFA15A\",\"#19d3f3\",\"#FF6692\",\"#B6E880\",\"#FF97FF\",\"#FECB52\"],\"font\":{\"color\":\"#2a3f5f\"},\"hovermode\":\"closest\",\"hoverlabel\":{\"align\":\"left\"},\"paper_bgcolor\":\"white\",\"plot_bgcolor\":\"#E5ECF6\",\"polar\":{\"bgcolor\":\"#E5ECF6\",\"angularaxis\":{\"gridcolor\":\"white\",\"linecolor\":\"white\",\"ticks\":\"\"},\"radialaxis\":{\"gridcolor\":\"white\",\"linecolor\":\"white\",\"ticks\":\"\"}},\"ternary\":{\"bgcolor\":\"#E5ECF6\",\"aaxis\":{\"gridcolor\":\"white\",\"linecolor\":\"white\",\"ticks\":\"\"},\"baxis\":{\"gridcolor\":\"white\",\"linecolor\":\"white\",\"ticks\":\"\"},\"caxis\":{\"gridcolor\":\"white\",\"linecolor\":\"white\",\"ticks\":\"\"}},\"coloraxis\":{\"colorbar\":{\"outlinewidth\":0,\"ticks\":\"\"}},\"colorscale\":{\"sequential\":[[0.0,\"#0d0887\"],[0.1111111111111111,\"#46039f\"],[0.2222222222222222,\"#7201a8\"],[0.3333333333333333,\"#9c179e\"],[0.4444444444444444,\"#bd3786\"],[0.5555555555555556,\"#d8576b\"],[0.6666666666666666,\"#ed7953\"],[0.7777777777777778,\"#fb9f3a\"],[0.8888888888888888,\"#fdca26\"],[1.0,\"#f0f921\"]],\"sequentialminus\":[[0.0,\"#0d0887\"],[0.1111111111111111,\"#46039f\"],[0.2222222222222222,\"#7201a8\"],[0.3333333333333333,\"#9c179e\"],[0.4444444444444444,\"#bd3786\"],[0.5555555555555556,\"#d8576b\"],[0.6666666666666666,\"#ed7953\"],[0.7777777777777778,\"#fb9f3a\"],[0.8888888888888888,\"#fdca26\"],[1.0,\"#f0f921\"]],\"diverging\":[[0,\"#8e0152\"],[0.1,\"#c51b7d\"],[0.2,\"#de77ae\"],[0.3,\"#f1b6da\"],[0.4,\"#fde0ef\"],[0.5,\"#f7f7f7\"],[0.6,\"#e6f5d0\"],[0.7,\"#b8e186\"],[0.8,\"#7fbc41\"],[0.9,\"#4d9221\"],[1,\"#276419\"]]},\"xaxis\":{\"gridcolor\":\"white\",\"linecolor\":\"white\",\"ticks\":\"\",\"title\":{\"standoff\":15},\"zerolinecolor\":\"white\",\"automargin\":true,\"zerolinewidth\":2},\"yaxis\":{\"gridcolor\":\"white\",\"linecolor\":\"white\",\"ticks\":\"\",\"title\":{\"standoff\":15},\"zerolinecolor\":\"white\",\"automargin\":true,\"zerolinewidth\":2},\"scene\":{\"xaxis\":{\"backgroundcolor\":\"#E5ECF6\",\"gridcolor\":\"white\",\"linecolor\":\"white\",\"showbackground\":true,\"ticks\":\"\",\"zerolinecolor\":\"white\",\"gridwidth\":2},\"yaxis\":{\"backgroundcolor\":\"#E5ECF6\",\"gridcolor\":\"white\",\"linecolor\":\"white\",\"showbackground\":true,\"ticks\":\"\",\"zerolinecolor\":\"white\",\"gridwidth\":2},\"zaxis\":{\"backgroundcolor\":\"#E5ECF6\",\"gridcolor\":\"white\",\"linecolor\":\"white\",\"showbackground\":true,\"ticks\":\"\",\"zerolinecolor\":\"white\",\"gridwidth\":2}},\"shapedefaults\":{\"line\":{\"color\":\"#2a3f5f\"}},\"annotationdefaults\":{\"arrowcolor\":\"#2a3f5f\",\"arrowhead\":0,\"arrowwidth\":1},\"geo\":{\"bgcolor\":\"white\",\"landcolor\":\"#E5ECF6\",\"subunitcolor\":\"white\",\"showland\":true,\"showlakes\":true,\"lakecolor\":\"white\"},\"title\":{\"x\":0.05},\"mapbox\":{\"style\":\"light\"}}},\"xaxis\":{\"anchor\":\"y\",\"domain\":[0.0,1.0],\"scaleanchor\":\"y\",\"constrain\":\"domain\",\"title\":{\"text\":\"blog\"}},\"yaxis\":{\"anchor\":\"x\",\"domain\":[0.0,1.0],\"autorange\":\"reversed\",\"constrain\":\"domain\",\"title\":{\"text\":\"anger\"}},\"coloraxis\":{\"colorscale\":[[0.0,\"rgb(103,0,31)\"],[0.1,\"rgb(178,24,43)\"],[0.2,\"rgb(214,96,77)\"],[0.3,\"rgb(244,165,130)\"],[0.4,\"rgb(253,219,199)\"],[0.5,\"rgb(247,247,247)\"],[0.6,\"rgb(209,229,240)\"],[0.7,\"rgb(146,197,222)\"],[0.8,\"rgb(67,147,195)\"],[0.9,\"rgb(33,102,172)\"],[1.0,\"rgb(5,48,97)\"]],\"cmid\":0},\"title\":{\"text\":\"sum of scores\"}},                        {\"responsive\": true}                    ).then(function(){\n",
       "                            \n",
       "var gd = document.getElementById('a59fb3fd-adf9-45ca-b3c3-064deb8abc5d');\n",
       "var x = new MutationObserver(function (mutations, observer) {{\n",
       "        var display = window.getComputedStyle(gd).display;\n",
       "        if (!display || display === 'none') {{\n",
       "            console.log([gd, 'removed!']);\n",
       "            Plotly.purge(gd);\n",
       "            observer.disconnect();\n",
       "        }}\n",
       "}});\n",
       "\n",
       "// Listen for the removal of the full notebook cells\n",
       "var notebookContainer = gd.closest('#notebook-container');\n",
       "if (notebookContainer) {{\n",
       "    x.observe(notebookContainer, {childList: true});\n",
       "}}\n",
       "\n",
       "// Listen for the clearing of the current output cell\n",
       "var outputEl = gd.closest('.output');\n",
       "if (outputEl) {{\n",
       "    x.observe(outputEl, {childList: true});\n",
       "}}\n",
       "\n",
       "                        })                };                });            </script>        </div>"
      ]
     },
     "metadata": {},
     "output_type": "display_data"
    }
   ],
   "source": [
    "px.imshow(anger_scores+blog_scores, x=scales, y=scales, title=\"sum of scores\",labels={'x': 'blog', 'y': 'anger'}, color_continuous_scale=\"RdBu\", color_continuous_midpoint=0).show()"
   ]
  },
  {
   "cell_type": "code",
   "execution_count": null,
   "metadata": {},
   "outputs": [],
   "source": []
  },
  {
   "cell_type": "code",
   "execution_count": 9,
   "metadata": {},
   "outputs": [],
   "source": [
    "# save_dir = \"heatmaps/anger_blog\"\n",
    "\n",
    "### save\n",
    "# os.makedirs(save_dir, exist_ok=True)\n",
    "# torch.save(anger_scores, os.path.join(save_dir, \"anger_scores.pt\"))\n",
    "# torch.save(blog_scores, os.path.join(save_dir, \"blog_scores.pt\"))\n",
    "# torch.save(losses, os.path.join(save_dir, \"losses.pt\"))\n",
    "\n",
    "### load\n",
    "# anger_scores = torch.load(os.path.join(save_dir, \"anger_scores.pt\"))\n",
    "# blog_scores = torch.load(os.path.join(save_dir, \"blog_scores.pt\"))\n",
    "# losses = torch.load(os.path.join(save_dir, \"losses.pt\"))"
   ]
  },
  {
   "cell_type": "code",
   "execution_count": null,
   "metadata": {},
   "outputs": [],
   "source": []
  }
 ],
 "metadata": {
  "kernelspec": {
   "display_name": ".venv",
   "language": "python",
   "name": "python3"
  },
  "language_info": {
   "codemirror_mode": {
    "name": "ipython",
    "version": 3
   },
   "file_extension": ".py",
   "mimetype": "text/x-python",
   "name": "python",
   "nbconvert_exporter": "python",
   "pygments_lexer": "ipython3",
   "version": "3.10.14"
  }
 },
 "nbformat": 4,
 "nbformat_minor": 2
}
