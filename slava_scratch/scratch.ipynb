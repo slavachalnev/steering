{
 "cells": [
  {
   "cell_type": "code",
   "execution_count": 20,
   "metadata": {},
   "outputs": [
    {
     "data": {
      "text/plain": [
       "<torch.autograd.grad_mode.set_grad_enabled at 0x7f26d87dccd0>"
      ]
     },
     "execution_count": 20,
     "metadata": {},
     "output_type": "execute_result"
    }
   ],
   "source": [
    "import os\n",
    "import sys\n",
    "sys.path.append(os.path.abspath('..'))\n",
    "\n",
    "import torch\n",
    "from torch.utils.data import DataLoader\n",
    "from transformer_lens import HookedTransformer\n",
    "from transformer_lens import utils as tutils\n",
    "from transformer_lens.evals import make_pile_data_loader, evaluate_on_dataset\n",
    "\n",
    "from functools import partial\n",
    "from datasets import load_dataset\n",
    "from tqdm import tqdm\n",
    "\n",
    "from sae_lens import SparseAutoencoder\n",
    "from sae_lens.toolkit.pretrained_saes import get_gpt2_res_jb_saes\n",
    "from sae_lens import SparseAutoencoder, ActivationsStore\n",
    "\n",
    "from steering.eval_utils import evaluate_completions\n",
    "from steering.utils import text_to_sae_feats, top_activations, normalise_decoder, get_activation_steering\n",
    "from steering.patch import generate, get_scores_and_losses, patch_resid\n",
    "\n",
    "from sae_vis.data_config_classes import SaeVisConfig\n",
    "from sae_vis.data_storing_fns import SaeVisData\n",
    "\n",
    "import plotly.express as px\n",
    "\n",
    "torch.set_grad_enabled(False)"
   ]
  },
  {
   "cell_type": "code",
   "execution_count": 2,
   "metadata": {},
   "outputs": [
    {
     "name": "stderr",
     "output_type": "stream",
     "text": [
      "/home/slava/safety/steering/.venv/lib/python3.10/site-packages/huggingface_hub/file_download.py:1132: FutureWarning: `resume_download` is deprecated and will be removed in version 1.0.0. Downloads always resume when possible. If you want to force a new download, use `force_download=True`.\n",
      "  warnings.warn(\n",
      "Gemma's activation function should be approximate GeLU and not exact GeLU.\n",
      "Changing the activation function to `gelu_pytorch_tanh`.if you want to use the legacy `gelu`, edit the `model.config` to set `hidden_activation=gelu`   instead of `hidden_act`. See https://github.com/huggingface/transformers/pull/29402 for more details.\n"
     ]
    },
    {
     "data": {
      "application/vnd.jupyter.widget-view+json": {
       "model_id": "31eac974c8a74538b47fae9c007a855f",
       "version_major": 2,
       "version_minor": 0
      },
      "text/plain": [
       "Loading checkpoint shards:   0%|          | 0/2 [00:00<?, ?it/s]"
      ]
     },
     "metadata": {},
     "output_type": "display_data"
    },
    {
     "name": "stderr",
     "output_type": "stream",
     "text": [
      "WARNING:root:You are not using LayerNorm, so the writing weights can't be centered! Skipping\n"
     ]
    },
    {
     "name": "stdout",
     "output_type": "stream",
     "text": [
      "Loaded pretrained model gemma-2b into HookedTransformer\n"
     ]
    }
   ],
   "source": [
    "device = torch.device(\"cuda\" if torch.cuda.is_available() else \"cpu\")\n",
    "model = HookedTransformer.from_pretrained(\"gemma-2b\", device=device)"
   ]
  },
  {
   "cell_type": "code",
   "execution_count": 3,
   "metadata": {},
   "outputs": [
    {
     "name": "stdout",
     "output_type": "stream",
     "text": [
      "Warning: scaling input is experimental!\n"
     ]
    }
   ],
   "source": [
    "hp6 = \"blocks.6.hook_resid_post\"\n",
    "hp12 = \"blocks.12.hook_resid_post\"\n",
    "sae12 = SparseAutoencoder.from_pretrained(\"gemma-2b-res-jb\", hp12)\n",
    "normalise_decoder(sae12, scale_input=True)\n",
    "sae12 = sae12.to(device)\n",
    "\n",
    "\n",
    "sae6 = SparseAutoencoder.from_pretrained(\"gemma-2b-res-jb\", hp6)\n",
    "normalise_decoder(sae6, scale_input=False)\n",
    "sae6 = sae6.to(device)"
   ]
  },
  {
   "cell_type": "code",
   "execution_count": 4,
   "metadata": {},
   "outputs": [
    {
     "data": {
      "text/plain": [
       "(tensor([[[25.9705, 24.4213, 24.0417, 22.5076, 14.2997, 10.6286,  8.4462,\n",
       "            6.7500,  5.1569,  4.9748],\n",
       "          [12.4683,  9.5918,  6.3518,  4.3895,  2.6166,  2.4245,  1.9347,\n",
       "            1.2328,  1.1585,  0.9953],\n",
       "          [11.0023,  5.0192,  4.7240,  4.3666,  3.6535,  2.5568,  1.5029,\n",
       "            1.3582,  0.9921,  0.9623],\n",
       "          [ 7.2850,  3.8669,  2.9988,  2.5302,  2.3834,  1.9475,  1.9330,\n",
       "            1.5817,  1.5285,  1.3745],\n",
       "          [16.2181,  3.1115,  2.9495,  2.1953,  1.6427,  1.5833,  1.5298,\n",
       "            1.4020,  1.3613,  1.3428]]], device='cuda:0'),\n",
       " tensor([[[ 8731, 10841,  5233,  3048,  1645, 11597,  6099,  7650,  6802,  8618],\n",
       "          [ 5611, 13161, 12885,  4966, 10323, 12492,  7971, 10662,  3998, 14956],\n",
       "          [ 4760, 15364,  7005,  7503, 10323, 14664, 15468,  4966,  3561,  7971],\n",
       "          [ 6353, 15978, 10323, 15364,  6723,  3998, 14664,  2847,  7971, 16257],\n",
       "          [ 9099,  9549,  9331, 10323, 10108,  7492, 13389, 12101,  6848, 13270]]],\n",
       "        device='cuda:0'))"
      ]
     },
     "execution_count": 4,
     "metadata": {},
     "output_type": "execute_result"
    }
   ],
   "source": [
    "top_activations(text_to_sae_feats(model, sae12, hook_point=hp12, text=\"I talk about weddings\"))"
   ]
  },
  {
   "cell_type": "code",
   "execution_count": 5,
   "metadata": {},
   "outputs": [],
   "source": [
    "# steering = sae12.W_dec[9099] * 75  # weddings\n",
    "steering = sae12.W_dec[9099] * 16  # weddings\n",
    "steering = steering[None, None, :]"
   ]
  },
  {
   "cell_type": "code",
   "execution_count": 6,
   "metadata": {},
   "outputs": [
    {
     "name": "stdout",
     "output_type": "stream",
     "text": [
      "['<bos>', 'I', ' went', ' up', ' to', ' my', ' friend', ' and', ' said']\n"
     ]
    }
   ],
   "source": [
    "prompt = \"I went up to my friend and said\"\n",
    "scale = 10\n",
    "print(model.to_str_tokens(prompt))"
   ]
  },
  {
   "cell_type": "code",
   "execution_count": 7,
   "metadata": {},
   "outputs": [
    {
     "name": "stderr",
     "output_type": "stream",
     "text": [
      "100%|██████████| 5/5 [00:05<00:00,  1.13s/it]\n"
     ]
    },
    {
     "data": {
      "text/plain": [
       "['I went up to my friend and said, celebrating at is train in invitation. planning will tea, spa, and or anniversary henna leh photo',\n",
       " 'I went up to my friend and said, day party and planner at planner of planner planning for invitation and gown planning.! planning band cake',\n",
       " 'I went up to my friend and said day plans planning party of. 1 march from plan planning week weekend planner dream planning in budget reception',\n",
       " 'I went up to my friend and said dressed cost cost cake my planner date re \\n\\n day dress cake with decoration ceremony feast made planning  ',\n",
       " 'I went up to my friend and said. we are vibes and we playlist we vows we in. at story in you day in 2']"
      ]
     },
     "execution_count": 7,
     "metadata": {},
     "output_type": "execute_result"
    }
   ],
   "source": [
    "\n",
    "generate(model,\n",
    "         \"blocks.9.hook_resid_post\",\n",
    "        #  \"blocks.12.hook_resid_post\",\n",
    "         prompt,\n",
    "         steering_vector=steering,\n",
    "         scale=scale,\n",
    "         insertion_pos=None,\n",
    "         max_length=20,\n",
    "        )\n"
   ]
  },
  {
   "cell_type": "code",
   "execution_count": null,
   "metadata": {},
   "outputs": [],
   "source": []
  },
  {
   "cell_type": "code",
   "execution_count": 8,
   "metadata": {},
   "outputs": [
    {
     "name": "stdout",
     "output_type": "stream",
     "text": [
      "pad tensor([], device='cuda:0', size=(1, 0), dtype=torch.int64)\n",
      "tensor([[[ 0.0000,  0.0000,  0.0000,  ...,  0.0000,  0.0000,  0.0000],\n",
      "         [ 0.4653, -0.9298, -0.2396,  ..., -1.5924,  0.3313, -0.1270]]],\n",
      "       device='cuda:0')\n",
      "torch.Size([1, 1, 2048])\n",
      "tensor(91.0582, device='cuda:0')\n"
     ]
    }
   ],
   "source": [
    "act_steering = get_activation_steering(model, hp6, \"Anger\", \"Calm\")\n",
    "print(act_steering)\n",
    "act_steering = act_steering.sum(dim=1, keepdim=True)\n",
    "print(act_steering.shape)\n",
    "print(torch.norm(act_steering))"
   ]
  },
  {
   "cell_type": "code",
   "execution_count": 9,
   "metadata": {},
   "outputs": [
    {
     "name": "stderr",
     "output_type": "stream",
     "text": [
      "100%|██████████| 5/5 [00:05<00:00,  1.06s/it]\n"
     ]
    },
    {
     "data": {
      "text/plain": [
       "['I think that <b><b><b><b> -anger - - ... ... - - ... ... - 8 - -',\n",
       " 'I think that <strong>aleinlickvieor -s origond between -s vreye osob...u thefts',\n",
       " 'I think that felt for his trait -the...\"      \\nemasurusa as enderas ... > |  pris',\n",
       " 'I think that made \"ill or in - • • ...\" 9-לס - - ... - oturus r',\n",
       " 'I think that for thebacher-warranri\"f( ... _____ sittor thereforvironsons(englansvin']"
      ]
     },
     "execution_count": 9,
     "metadata": {},
     "output_type": "execute_result"
    }
   ],
   "source": [
    "prompt = \"I think that\"\n",
    "scale = 2\n",
    "\n",
    "generate(model,\n",
    "        hp6,\n",
    "        #  \"blocks.12.hook_resid_post\",\n",
    "         prompt,\n",
    "         steering_vector=act_steering,\n",
    "         scale=scale,\n",
    "         insertion_pos=None,\n",
    "         max_length=20,\n",
    "        )"
   ]
  },
  {
   "cell_type": "code",
   "execution_count": null,
   "metadata": {},
   "outputs": [],
   "source": []
  },
  {
   "cell_type": "code",
   "execution_count": 10,
   "metadata": {},
   "outputs": [
    {
     "data": {
      "text/plain": [
       "(tensor([[[24.4932, 23.9630, 23.2544, 21.0681, 20.9372, 20.6655, 20.3199,\n",
       "           19.8953, 19.0510, 18.4377],\n",
       "          [56.7609, 14.0818, 12.2185, 11.2966, 10.9838,  9.4307,  8.0595,\n",
       "            7.1658,  7.1005,  5.8064]]], device='cuda:0'),\n",
       " tensor([[[ 3390, 15881,  5347, 16334,   556,  8704, 11785,  5624,  5396,  6877],\n",
       "          [ 1062, 12753,  1213, 11968, 12167,  5915,  2491, 15173, 11912, 12312]]],\n",
       "        device='cuda:0'))"
      ]
     },
     "execution_count": 10,
     "metadata": {},
     "output_type": "execute_result"
    }
   ],
   "source": [
    "top_activations(text_to_sae_feats(model, sae6, hook_point=hp6, text=\"Anger\"))"
   ]
  },
  {
   "cell_type": "code",
   "execution_count": 11,
   "metadata": {},
   "outputs": [],
   "source": [
    "steering = sae6.W_dec[1062] * 56  # anger\n",
    "# steering += sae12.W_dec[12312] * 10  # anger\n",
    "steering = steering[None, None, :]"
   ]
  },
  {
   "cell_type": "code",
   "execution_count": 12,
   "metadata": {},
   "outputs": [
    {
     "name": "stderr",
     "output_type": "stream",
     "text": [
      "100%|██████████| 5/5 [00:06<00:00,  1.32s/it]\n"
     ]
    },
    {
     "data": {
      "text/plain": [
       "['I think an even worse problem is that I feel very hateful towards other people, and would like the one person to become a god-',\n",
       " 'I think this game is full of humor, and I definitely have learned this really hard from my daddy. I came up with a whole',\n",
       " 'I think I may have found what is turning out to be ballot tabulation software.  (  <b><i>  this  </i></b>\\n\\n',\n",
       " 'I think so too for Abu well that is how you teach\\n1)Anger and violence\\n\\n\\n10 years passed and anger to zero',\n",
       " 'I think, the husband told me\", it is the biological definition of a person - but quickly receipts. Anger is a weapon, more']"
      ]
     },
     "execution_count": 12,
     "metadata": {},
     "output_type": "execute_result"
    }
   ],
   "source": [
    "prompt = \"I think\"\n",
    "scale = 0.8\n",
    "\n",
    "generate(model,\n",
    "        hp6,\n",
    "         prompt,\n",
    "         steering_vector=act_steering,\n",
    "         scale=scale,\n",
    "         insertion_pos=None,\n",
    "         max_length=25,\n",
    "        )"
   ]
  },
  {
   "cell_type": "code",
   "execution_count": 17,
   "metadata": {},
   "outputs": [],
   "source": [
    "scales = [0, 0.1, 0.2, 0.4, 0.6, 0.8, 1, 1.5, 2, 3, 4, 5]"
   ]
  },
  {
   "cell_type": "code",
   "execution_count": 18,
   "metadata": {},
   "outputs": [
    {
     "name": "stdout",
     "output_type": "stream",
     "text": [
      "loading dataset: NeelNanda/c4-code-20k\n",
      "dataset loaded\n"
     ]
    },
    {
     "name": "stderr",
     "output_type": "stream",
     "text": [
      "100%|██████████| 12/12 [00:37<00:00,  3.16s/it]\n"
     ]
    },
    {
     "name": "stdout",
     "output_type": "stream",
     "text": [
      "scale 0\n"
     ]
    },
    {
     "name": "stderr",
     "output_type": "stream",
     "text": [
      "100%|██████████| 50/50 [00:53<00:00,  1.08s/it]\n"
     ]
    },
    {
     "name": "stdout",
     "output_type": "stream",
     "text": [
      "[\"I think if you're feeling a palpable fear a lot, like always being in a state of high alert\", 'I think I got it, at least for addition and multiplication:\\n\\n<math xmlns=\"http://www.', 'I think first I needed to find a wife that will look after a single drinker! Better yet, a user', 'I think it is necessary to include an image with your question.\\n\\nSir\\nI approach u as humbly as', \"I think two of the best recommendations that anyone who has elbow pain can do is massage therapy and new butcher'\", 'I think this is another example of the Christmas wave bringing those \"Hooray Hooray\" and \"Look at', 'I think the answers of both the questions are in definition. $V$ has a topology induced by some metric', 'I think it would make a great coffee break activity. Interact Sentence 2\\n\\nI think such a game is', \"I think you should have a virtual substation, and then refer to it. It doesn't have to be\", 'I think that Old Trafford will be the destination for Faith Uzoma\\n\\nI’m not sure if it', 'I think it depends on who you are.\\n\\nAnyone who succeeds, enjoys what they are doing.\\n\\nCompared', 'I think there is definitely some room here for debate. I realize it is difficult to define how a typical “', 'I think you need first to add your *current* color as a transparency or a pattern and copy it into', 'I think yours is defective because mine has lasted for over 2 weeks. My appointment is next week. Best', 'I think taking <code>ARRAY[VAR(@0)->sum.val</code> out is fine.\\n\\n<strong>Approach', 'I think it would be mad to fight over best visible traits. The ships difference is just so much better.', 'I think that, in most UK households, rhubarb cordial is essential. It goes with ice cream, to be', 'I think this photo booth cannot be done right! From the looks of her shoes.\\nThose wire bangles and', 'I think my house is winding down, purr-fectly, and will be in a transition mode for', 'I think the WWE needs to call it. In the televised shoot last night, Danny Burch & Oney Lor', 'I think it is best to access the situation using problem solving as you have been doing. I do not know', \"I think he's saying, Life is like a battery.\\n\\n- Albert Einstein\\n\\nOr it' s\", 'I think all viruses rely on the host cell to supply them with energy which they are dependent upon as they are', 'I think that we, old Harley fans (not Kegs) need to get serious about our collectibles. I', 'I think there passions are in the physical world\\n\\nYes he has allround talent but his good looks is a', 'I think you should take a look at voicemail revealing, the site is great there are a lot of voluminous information', 'I think this may be a good opportunity to discuss \"how the muni bond works\" more properly if pensions already', \"I think it's time for this show to become a reality. We've come this far (not\", 'I think there should be better interface for console to start contiki with different operating system, with special device file', 'I think this is a 6th edition set otherwise I would like to sell you on a much more piled', 'I think Dennys popcorn chicken might be the single most fatty and unhealthy thing at a restaurant. I remember when', 'I think it depends, and what is acceptable to you. I am conscious that my dog has not been social', 'I think we’re going to make it through the rest of the season, though not without a fair amount', \"I think you're going to have a problem with that sort of content, honestly. It's just\", \"I think its a valid option, but it's not implemented.\\nHowever, this will be supported in\", 'I think it is a camellia\\n\\nyes it could also be bamboo, a small flowering variety..hard to', 'I think Ben is about XX months too.\\nMine was born at the same time and was two then (', 'I think Wendy ChセS is simply trying to out-cute Olivia StapDanR. Pretty good mon', 'I think it is far more realistic (and poetic) to allow a mage who has spent ages learning large and', 'I think you may want to change your upstairs and never be stuck there again\\n\\nDO IT!!!\\n\\nBoth our', \"I think at 11 I got a job slinging meat at Charlie's Burger. The job,\", 'I think I have an issue with iWant. I installed the app last week and every time I attempt to', 'I think I may have the best job in the world. One of the reasons I am most excited about today', 'I think you can only get one set of quantities. However there are workarounds that I know of.\\n\\n', \"I think you've removed the brake pedal and bleeders are vulnerable to the ambience of the inner parts of\", 'I think after the first Baby Animal Cry for a baby animal there should be a very short countdown in which some', 'I think all deposits can be tracked via your statement. Given the above query, let me validate the process on', \"I think we'll add that manually (for the summer holidays and winter outings; maybe we should add the\", 'I think this is still a thing - I saw it on a talk show and then on one of the news', \"I think it is the story of Fai D.C\\n\\na cancelled story about the Light Anthem's Ark\"]\n",
      "[{'score': 1}, {'score': 1}, {'score': 2}, {'score': 1}, {'score': 1}, {'score': 1}, {'score': 1}, {'score': 1}, {'score': 1}, {'score': 1}, {'score': 1}, {'score': 1}, {'score': 1}, {'score': 2}, {'score': 1}, {'score': 2}, {'score': 1}, {'score': 2}, {'score': 1}, {'score': 1}, {'score': 1}, {'score': 1}, {'score': 1}, {'score': 2}, {'score': 1}, {'score': 1}, {'score': 1}, {'score': 1}, {'score': 1}, {'score': 1}, {'score': 2}, {'score': 1}, {'score': 1}, {'score': 2}, {'score': 1}, {'score': 1}, {'score': 1}, {'score': 1}, {'score': 1}, {'score': 3}, {'score': 1}, {'score': 2}, {'score': 1}, {'score': 1}, {'score': 2}, {'score': 1}, {'score': 1}, {'score': 1}, {'score': 1}, {'score': 1}]\n",
      "mean 1.22\n",
      "scale 0.1\n"
     ]
    },
    {
     "name": "stderr",
     "output_type": "stream",
     "text": [
      "100%|██████████| 50/50 [00:53<00:00,  1.08s/it]\n"
     ]
    },
    {
     "name": "stdout",
     "output_type": "stream",
     "text": [
      "['I think m.x means the mode is more extreme,\\nbecause if you shuffle the indices, e.', 'I think I see what kind of sht your talking about here.\\n\\nLowering headsets is normal due to', 'I think we’ve heard every reason racism has not affected Barça enough\\n\\n1: Manchester United should have been', 'I think the 49ers’ 22-10 win last week over Seattle did at least', \"I think you're supposed to make like a snow flurrrrrrry. i stuck to this new-\", 'I think you <strong>need</strong> to compile these lists using a static <code>.pm</code> with ways to', 'I think he should use his sleuther art, what do you think? if not, xie keen just', 'I think I have a yeast infection ( I think because I am on an anti ulcer med and doctor acted like', 'I think I am having the same problem. My machine only does it when I am on wireless, not trouble', \"I think that image has given me a nice stretch of the imagination, and it's very MOCo of\", \"I think it's a Reddit badge. You can get it in your main terminal, or you could use\", 'I think that makes sense. Display the value and pad it out to three signifigant digits. Something like', 'I think a Canon would be a closer match. R5 Lite or Tev3m3 have more aspects than', 'I think maybe Peter Barlow wants to be Free Will\\n\\nPretty fast the Red Theme(Black theme is already enough', 'I think they were thrilled to get something such a big thing to put in the early and close it all off', 'I think it’s your house! And a matter of a deposit and怎么做 קרמי求助存零', 'I think there are novice philosophers that this will annoy but after reading a number of threads on here & seeing a', 'I think this shouldn’t come as a surprise but most regulars on my vlog will know how much I love', 'I think we are already past TCF 2.0 coming in April. But working on a few things', \"I think it comes from the fact that he hasn't been playing football recently (because of how important he\", 'I think to myself (Taggert)\\n\\nyou wonder why thing after thing\\n\\nyou wonder why\\n\\nI think', 'I think the conventions are:\\n\\n* Fred has a height of 5\\'11\" (no,', 'I think people may be confusing hackwork with actionscript examples. While you are quite comfortable using actionscript(', 'I think of when Wollman Rink opens for the winter season -- when city saloons, such as \"No', \"I think you are right.  It doesn't compute that 110% is too small a\", 'I think this has been discussed a lot already, and pretty much amounts to a wimpy trailer with HRED', 'I think I have to say that after writing my first being literate comic(sarcomentery lol) about the', 'I think it’s safe to say that most of you who own or have owned horses (and that’', 'I think I may find where the leak is coming from. I noticed the bulk head between the tank to the', 'I think this is a reasonable representation.\\n\\n\"America uses 230% of annual water faster than', 'I think it is so very important to teach our children kindness and compassion. I’m trying to teach my', 'I think many of us on here will be able to relate to this post because I can wholeheartedly say it is', \"I think that made sense and it's not a control when it's done it for a specific purpose\", 'I think he makes a good point about the language thing in case it came up at work. When will we', 'I think this can be pretty much exclusively imparted from myself. If you need something from your spouse for something else', \"I think the port side then stern. It isn't sexy, but everything is a compromise.  you\", \"I think this will be the last, of many, dumb questions I've asked on here. Step three\", 'I think of what jumping to other websites happened to me to me today. It happened to me after I started', 'I think the reason is that the sides of the box are aligned to the x-axis (choosing two boxes', 'I think the original message was this by Jim-\\n\\nA biochemist is driving a tank of radioactive poison gas', \"I think I have some qPCR papers here somewhere, but can't locate them yet. I did not have\", 'I think I see the problem ... are you using 10.05.2? you need to', \"I think it's another sign of this administration's grief unlike any that Obama has ever filled our country\", 'I think most people who throw bottles out by the side of the road know that the consequences of that can be', 'I think you try to save a picture to the server which is already there in memory, make a command and', 'I think it was during the Discussion בפברואר “ מסיבה לדון על מקומי (\"funeep', 'I think it all boils down to face paint-ing. Really. Sometimes it takes me longer, sometimes faster', 'I think the usefulness of <code>[Стук объединений]</code> (together with \"они\")\\r\\nis', 'I think there is an unwritten law that when one woman is blessed with babies they are delivered by midwives but if', 'I think the Crew gets more in cheaper seats than in more expensive seats. Hence why you dont see many of']\n",
      "[{'score': 1}, {'score': 4}, {'score': 7}, {'score': 1}, {'score': 1}, {'score': 1}, {'score': 1}, {'score': 1}, {'score': 1}, {'score': 1}, {'score': 1}, {'score': 1}, {'score': 1}, {'score': 1}, {'score': 1}, {'score': 1}, {'score': 2}, {'score': 1}, {'score': 1}, {'score': 1}, {'score': 1}, {'score': 1}, {'score': 1}, {'score': 1}, {'score': 1}, {'score': 2}, {'score': 1}, {'score': 1}, {'score': 1}, {'score': 1}, {'score': 1}, {'score': 1}, {'score': 1}, {'score': 1}, {'score': 1}, {'score': 1}, {'score': 2}, {'score': 1}, {'score': 1}, {'score': 2}, {'score': 1}, {'score': 1}, {'score': 5}, {'score': 2}, {'score': 1}, {'score': 1}, {'score': 1}, {'score': 1}, {'score': 1}, {'score': 1}]\n",
      "mean 1.36\n",
      "scale 0.2\n"
     ]
    },
    {
     "name": "stderr",
     "output_type": "stream",
     "text": [
      "100%|██████████| 50/50 [00:53<00:00,  1.08s/it]\n"
     ]
    },
    {
     "name": "stdout",
     "output_type": "stream",
     "text": [
      "['I think its pretty unlikely... In absolutely all of the games that William has played, no one has complained for', \"I think I was asked once about Macho Man Randy Savage's reaction to Alundra Blayze\", 'I think Ghostbusters is a really good idea. Not just the animation but his expression. When you think about', 'I think they made both of them to look bad for C3-103 and her rioting was', \"I think I went a little crazy. That's if the guy starts to complain I'll give him\", 'I think it’s safe to say these days that not everyone gets so tweets me up by them after having', \"I think it's interesting that there are two meditating Buddhas in this painting. Very picturesque. This artwork\", 'I think that in order to have a self-opinionated and full of knowledge about a character it is necessary', 'I think that the second gene is the important one. I think that you might think of how the problem will', 'I think a part of my soul continues watching, Will of the Wisp is a great series and perhaps when', 'I think the cuck looks like he should take a shit.\\nBeing a Game Freak fan it just barely helps', \"I think this is a very good deal, especially for aviation lovers\\n\\nand I love Dragon Age so I'\", \"I think it could easily be a trap card.\\nIt could be used on three monsters because it's\", 'I think they can add smooth movement like good frames, I hope so it will be good, who ever is', 'I think this pie would taste better with fruit, also that it feels a lot longer were you able to wake', 'I think you probably all guessed that I don’t cross dominations in my cookery. I have an', 'I think this is a bit of an over-reaction as he is only a couple of days away from getting', 'I think it’s interesting how much guys take pride in their lifted trucks and decide that they need it to', 'I think I barely needed to give my itsy-bitsy refrigerator shelves and jar-stoppers a good', \"I think it's great that there are some positive reviews for this product and that people seem to be getting\", 'I think what is happening is that YTD is displaying as the users current balance to date and not actually requiring', 'I think this is from the Addams Family. Wanted to do a mini movie (design wars 4 style)', 'I think the expectation management that truthfully says what we are obviously probably a value added activity for already purchases via third', 'I think Faye has learned some comfort foods out of her mother. She is very clueless when it comes to even', \"I think something isn't going to work without the code, so let's see if I can get\", \"I think I've now successfully gotten through half of the 100 Days Project that took up one\", 'I think the burrito was good, no complaints. However, my peppered steak and bean burrito was served cold', \"I think this makes more sense when the missile is mounted too :\\n\\n\\nHow the f''''kin hell is that\", \"I think you're already there... Let's review:\\nYou sort candles by color, then manually\", 'I think this is the first strong ASI I\\'ve read, well aside from \"Half Japanese Quarter\".', 'I think it goes without saying that I\\'ve been disappointed with the \"Big Gulp\"! Ive been to', 'I think I might be making an error in my work. I found my two levers on the left side but', \"I think I remember <i>Mad Men</i>'s Pete being a past-it secondhand smoke supply. I\", 'I think HR would be fine.\\n\\nEagle calendar ends in 12 months. About 1 week before', 'I think it is a case of fact vs opinion, and the conclusion from the article isn’t terribly likely', 'I think I’ve beaten the wheel of fortune slowly since then, just getting caught up in the hordes or', 'I think all parents bring their kids along to nature, wildlife and to local history sites, but I was interested', 'I think the people who complain about the lack of equipment and CG to show are suffering from denial/ casualty compensation', 'I think the panorama was a great thing, they just need to make things inline the way I have the design', \"I think I have found even better because pictures are worth more than words! My yurt didn't just have\", 'I think I got the answers for all your questions.... Our move was worst ever....\\n\\nAfter our first night', 'I think there are a lot of people that might like this question in case one or more of these things interest', 'I think @deadsnowstorm has a good post on this in the Following your dream Online program! section', 'I think I have different setup in place since few months, mind sharing where to you see that?\\n\\nd', \"I think that it's very important to get better at determination. Because you can choose better the path you\", 'I think it might be a long process to get fixed, due to the connection involving many users.\\nIt', 'I think, if the \"evaluation phase\" of a control law is correctly chosen, something like the following strategy', 'I think I prefer the snugger fit of the E46.\\nbut the E36 is the', 'I think I might know where I found a similar post that I looked at when working on this post.\\n\\n', 'I think you would be right about the meting really being back, but it took a very long time.']\n",
      "[{'score': 1}, {'score': 1}, {'score': 1}, {'score': 3}, {'score': 3}, {'score': 1}, {'score': 1}, {'score': 1}, {'score': 1}, {'score': 1}, {'score': 7}, {'score': 1}, {'score': 1}, {'score': 1}, {'score': 1}, {'score': 1}, {'score': 2}, {'score': 1}, {'score': 1}, {'score': 1}, {'score': 1}, {'score': 1}, {'score': 1}, {'score': 1}, {'score': 1}, {'score': 1}, {'score': 2}, {'score': 8}, {'score': 1}, {'score': 1}, {'score': 5}, {'score': 1}, {'score': 1}, {'score': 1}, {'score': 1}, {'score': 1}, {'score': 1}, {'score': 3}, {'score': 1}, {'score': 1}, {'score': 3}, {'score': 1}, {'score': 1}, {'score': 1}, {'score': 1}, {'score': 1}, {'score': 1}, {'score': 1}, {'score': 1}, {'score': 1}]\n",
      "mean 1.54\n",
      "scale 0.4\n"
     ]
    },
    {
     "name": "stderr",
     "output_type": "stream",
     "text": [
      "100%|██████████| 50/50 [00:53<00:00,  1.08s/it]\n"
     ]
    },
    {
     "name": "stdout",
     "output_type": "stream",
     "text": [
      "[\"I think you'd probably be better off updating cargo itself.\\nI put all my dependencies in a linked\", 'I think some a-hole property manager took the money from our agressment and got caught by the husband', 'I think based on other posts that this MIGHT be useful.\\n\\nI have a document group that is broken up', \"I think this might be the actual bitemark for Leeway's Class masked at a specific point in\", 'I think there must be something wrong with Amazon because I still have the same issue, even 15 years', 'I think most of us will agree that no one enjoys being shouted at, bullied or called names. I would', \"I think i've found my limit for the impedance issue. Anyway seems crazy to me from the pic it\", 'I think this might be a red herring. What made the client unhappy was the advisory made to split the capital', 'I think .5% would be too high for the deeper tone. The tone should be around 1%', 'I think you need to also manage your expectations here. Tech wise this game is four years behind the real life', 'I think changing tech is like changing old bank checking accounts to modern online checking accounts. It took me a minute', 'I think we can all agree that movies being violent is a relief for many of us. For the most part', \"I think missing wall (missing pawn)- I've never seen that before. I was just thinking why aren\", 'I think we can all agree that a one-size-fits-all approach to housing would suck and end', 'I think there may be some confusion when it comes to the original cartoon.....the original cartoon was a much faster', \"I think it makes the most sense to get those straight away so you don't end up where you did\", \"I think I found the root cause for this issue, but not sure if it's the same fix.\", 'I think Modiji is going to float a new currency notes for people.\\nNote :- Dear illiterates', 'I think you are right, I just tried one more sample program, see if you got the same results:', 'I think it would be real nice if LOSAN was allowed to switch to the GP door. Just consider the', 'I think that you have to realize I am normally a very happy and positive person so please do not be offended', 'I think Chevalier playing against the Pac-Man and nice shot! Now that I think about it, me and', 'I think animals are helpful\\nOur hopes and dreams could be possible\\nWhatever they do may hurts us\\nBut', \"I think you would have to disable proxy for mach\\n\\nah well... i see it's not working because\", 'I think I am not able to properly describe the severity of what we feel. I send my condolences and prayers', 'I think we can talk, we’re all staring too. My, my, my. Fix your face', \"I think it's conflicting the idea of independent from men and women as being to attack other women but take\", 'I think most folks would go with 22.2 unless they are mushrooming just to get a higher', 'I think baby & toddlers are the coolest party theme, as kids are so immature, impulsive, and wild,', 'I think I remember that the Twineburn Society said permanent ramification no later than or shortly after Nubian', \"I think it was Friday afternoon, and I had just come off the iPad's great shackles, to discover\", 'I think this is mostly 100% true for all retards, also \"the true mentally ill\"', 'I think we’d all agree that it seems like another stranger takes a photo of you and posts it online', 'I think the idea on lawsuits proposed by mr Charles in, to me was a bit much just so someone can', 'I think if Liza was the one to pick Timid Timid because she still loves him. -- Sorry if', 'I think it boils down to\\nthe fact that the author who wrote the work (or one of the authors', 'I think we’re both conscious of this, and probably moreso someone like you who创建分支 from your', \"I think the one who made it wouldn't but here you go.\\nThis is the lightest mobile phone\", 'I think it\\'s a little unfair that he\\'s not recognized as much for his \"on-screen', 'I think I have a problem with those definitions\\n\\nNumber definition\\n\\na derivative of a function is the slope of', \"I think he's right about that. I think that someone who wasn't facinating would have\", \"I think I've just gone insane and can't go on with this song :(\\n\\nThis is so\", 'I think the criticism about Nelson Peltz should be aimed at the SEC rather than at him although I certainly don', 'I think he is out of work due to the fact of no attending his job. Why do you think he', \"I think I loose an orbit every time I overload my mech pilot.\\nThere's no reasonable explanation in\", \"I think a lot people don't understand how 99% of the pokemon universe is grasping and piss\", \"I think it might be my subconscious putting messages into my head so I don't recognize every single swear word\", 'I think giving free hot water and plastic bottles overnight to commuters is just insane because there are thousands of cold bottles', 'I think I’ve mentioned, I can bake~ I have so many cakes and uses of them that I', \"I think there's an email floating around irc at being found at (Livcunt@globefire.\"]\n",
      "[{'score': 1}, {'score': 6}, {'score': 1}, {'score': 1}, {'score': 5}, {'score': 2}, {'score': 1}, {'score': 1}, {'score': 1}, {'score': 3}, {'score': 1}, {'score': 1}, {'score': 1}, {'score': 2}, {'score': 1}, {'score': 2}, {'score': 1}, {'score': 3}, {'score': 1}, {'score': 1}, {'score': 1}, {'score': 1}, {'score': 2}, {'score': 1}, {'score': 1}, {'score': 3}, {'score': 3}, {'score': 1}, {'score': 2}, {'score': 1}, {'score': 1}, {'score': 8}, {'score': 2}, {'score': 2}, {'score': 1}, {'score': 1}, {'score': 1}, {'score': 1}, {'score': 2}, {'score': 1}, {'score': 1}, {'score': 2}, {'score': 2}, {'score': 1}, {'score': 1}, {'score': 6}, {'score': 1}, {'score': 2}, {'score': 1}, {'score': 6}]\n",
      "mean 1.9\n",
      "scale 0.6\n"
     ]
    },
    {
     "name": "stderr",
     "output_type": "stream",
     "text": [
      "100%|██████████| 50/50 [00:53<00:00,  1.08s/it]\n"
     ]
    },
    {
     "name": "stdout",
     "output_type": "stream",
     "text": [
      "['I think my mind has been whirled out of the oven by the noise of my opponent’s childish words', 'I think it is odd how small it is. I can see if I was bought at $15.', \"I think most 'clinchers' (though I may be wrong about that) at least worked very hard\", 'I think I’m done with the <em>Abbey Road</em> heat; I hope it’s only superficial', \"I think that I'm starting to fly crazy!\\n\\nI think that I'm starting to fly crazy\", 'I think AWP is going to be nice. It will be pretty wet for a few days. It is', 'I think your thinking names family members because the character also want their elder to not get in my face, please', 'I think so every day!\\n\\nI posted the same a couple of hours ago.\\n\\nI don’t', 'I think this is explained well and otherwise ours could turn out looking like this...\\n<i>Hetalia draw', 'I think I was kind of thrown when my other vex recently broke about a year and half ago. Ive been', 'I think I might have should’ve been more demanding, I have only one leech at level 1 so', 'I think its fair to argue that subhumans are under actual attack for life here (politely). I find', 'I think she’s about as convincing as I am about as anything. I may now feel the same way', \"I think it's dumb how we have to go a month to get S1b and he's\", \"I think it's good to have such deliverable of the users very upset. But, let me correct\", 'I think humans are sexist dogs that never learned how to tame their lives for fifty six years without drying their anger', 'I think it’s safe to say that everyone is crossing their fingers that the fourth <em>Fast & Furious', 'I think I finally found the idol song I needed...in a protest song.\\n\\n<b>I Hate You,', 'I think international shipping crashed yesterday.\\nHere- https://imgur.com/a/CF3D1', 'I think you would be better off by saying that God is a middle finger than complaining for weeks about the tax', 'I think @colinmurray is going to beg to differ with anything you have to say about the past decades', 'I think it depends on the character but i have always wanted to see some kind of dark storyline straight out of', 'I think underneath your mama said “listen”\\n\\nSpring still raging inside \\n\\nIt is what is \\n\\n', 'I think the first question I would pose to Eldo-Calinfo is \"Why now?\" From public safety', 'I think I am going to have to recommend that at least one of the people who was tired and called me', \"I think storm is a double 'start' when there's too much wind to drive round the corners or\", \"I think its JRL's mother #dream #jenlovesrhostsavi #goddead #angryyes\", 'I think this is a terribly mismatched image - and that is the point. It shows the impact of the', 'I think all of you are an indignant about prices, and your anger then hope that author of this article is', 'I think there is place around Rødshøke. Not too close, only 30 minute drive', 'I think when we were still doing the cartoonish Blu and raging at Mutmacher for the first time that we', 'I think Netflix should pay costume designer...\\nThis is hot!\\nGemma is a little too cute\\nI', 'I think I need a stepladder, cause there is an awful guy trying to defend his \"right\" to', 'I think this needs look at as a serious matter. This app is throwing literal tantrums at problems that it', 'I think Tim Curry would take regret if Steven was angry at him for writing about Dinosaurs with poison. 😃 (', 'I think Valentine’s Day may have been invented when love was the first feeling. (The desire to hurt', \"I think it's -- it's kind of hard to do a patient response. I linked the guy\", 'I think that’s a good idea 👍\\n\\nWhich one deserve it? I mean it asks all of the', 'I think most people have had this astringent phase in life. It might be during a time of hurt,', \"I think they want the night city achievement from conquest mode. Unless I'm wrong, but logically anger makes\", 'I think Mitsuo better is a bit excusable (insect persona thing) and I think a person would fit', \"I think it's also difficult to notice and bottle control and anger can really mask those emotions. Especially when\", 'I think a lot about my first fire that I lifted at this stupid delay queue full of hot men, all', 'I think gym does a great job in forgiveness and doesn’t force on you at the same time if no', 'I think Justin Rozz is pretty safe bet for everyone and that is not much of a surprise. First,', 'I think there were no hitmans was ok. Considiration is {i}My back problem is my', \"I think it's terrible that Crane hesitantly offered to go to the apartment but then went looking for his\", 'I think one of the best ways to get away from it all is to get on a horse and ride through', 'I think the tentacle is trying to tell me that I have access to all the sexual fury ... Such as', 'I think I paid 3% at Cardmyware last time.\\n\\nwatch for returns too. I spent']\n",
      "[{'score': 4}, {'score': 1}, {'score': 1}, {'score': 1}, {'score': 1}, {'score': 1}, {'score': 3}, {'score': 2}, {'score': 1}, {'score': 2}, {'score': 2}, {'score': 8}, {'score': 1}, {'score': 5}, {'score': 5}, {'score': 7}, {'score': 1}, {'score': 7}, {'score': 1}, {'score': 6}, {'score': 2}, {'score': 1}, {'score': 1}, {'score': 2}, {'score': 1}, {'score': 1}, {'score': 4}, {'score': 2}, {'score': 5}, {'score': 1}, {'score': 2}, {'score': 1}, {'score': 4}, {'score': 3}, {'score': 2}, {'score': 2}, {'score': 2}, {'score': 1}, {'score': 1}, {'score': 2}, {'score': 1}, {'score': 2}, {'score': 3}, {'score': 1}, {'score': 1}, {'score': 1}, {'score': 4}, {'score': 1}, {'score': 2}, {'score': 1}]\n",
      "mean 2.34\n",
      "scale 0.8\n"
     ]
    },
    {
     "name": "stderr",
     "output_type": "stream",
     "text": [
      "100%|██████████| 50/50 [00:53<00:00,  1.08s/it]\n"
     ]
    },
    {
     "name": "stdout",
     "output_type": "stream",
     "text": [
      "['I think the Ralfs’ accusation over the past few years would be directed towards Wagner’s decision to make', 'I think I was a real bitch when I was pregnant.\\n\\nNo I wasn’t? Yes hahaha okay', 'I think you are over reacting.\\n\\nFrom the past, it was more of harassment and not the true emotions', 'I think pass drives already hell loud at this point lol\\n\\nI’d also be happy about zoris haircut', \"I think nothing has gone THAT bad that I'd quit painting, but one of these days my son is\", 'I think they really annoyed me at a recent all-white dinner.\\n×</>\\n<b>CLICK & F', \"I think it's fair to say that 12-year-old me would be fuming right\", 'I think that no one should be surprised at this beautiful pastor’s response. <strong>Who shouldn’t', \"I think it's necessary she be at that, so read on.\\nIf it's any consolation\", 'I think CardsBoss is an over-priced POS. I just want it to go away so keep it going', \"I think that is crap, TFS doesn't handle anything. Also someone is making a forum post over\", 'I think I might really, seriously feel that way on March 19th every year. See, it', 'I think it is better not to let that though cloud you and make you lose my temper, whenever a statement', 'I think the new local tv show is in the next few days ...\\n\\nThe reason David and the others have', \"I think it's huoting black.\\n\\nMom\\nDear fuming:\\n\\nI hate cargo jams.\", \"I think most people are seething and upset Murphy doesn't follow her anger at the consequences of Newman'\", 'I think she and I will have a nice argument with messenger.\\n\\nBut I really do want to argue with', \"I think that people may have forgotten the character of Jo. Somebody's who get's and hold'\", 'I think (most) of you are over the $20 titder. 28 is to early', 'I think there is many people like me who is diss with the islamic government. I painted this for my shout', 'I think I have a problem. I am so, so angry that some guy got some dudes on his team', 'I think we can call it \"the sun glass\". Yes the man across the street.\\n\\nGreat place!', 'I think all the kids in my soap video are going to die on me!! I am having a highr', \"I think the ones on the outside will never descend but if I'm going to go quiet your gonna have\", \"I think you might lose it on Saturday if she is that angry at you about keeping the kids until they'\", 'I think a lot of my anger may be reserved for you. Anger at you for wanting me. At you', \"I think only hatchylemon is fighting with things. plus the flames\\n\\nI think he's stressing about\", 'I think about Harry from the fast I see him angry or overworked I hope I was to him one day but', \"I think items are cheaper at those three places, but don't burn.\\n\\nwe normally don't\", 'I think that when parliamenary sessions start, one is experiencing something deep within, and one is prone to', \"I think the leading public pan I've ever had in a white heat and threatful attack I had drew\", 'I think Madadi. You cannot. Normally, but every time that is better than the loss at ACRIPS', \"I think this is probably one of the crappiest Godai the game I've ever played. It\", 'I think this might make a lot of angry people. And I know that I cannot get angrier about things', \"I think I'm mad at life right now so, sorry if that wants anything your way.\\n\\nBecause\", 'I think you should make a custom pixel for beards. I would have gotten so much at the mecoloring ea', 'I think that counts as anger.\\n\\n\\nAre Trent and James the only players who are trying to play football?', 'I think I just got a bit stressed (or most likely drunk) again when I saw this. Corporate monsters', 'I think George easily wins.\\n\\nKill does not work and knowledge is immediate.\\n\\nThe Second Episode had lost', 'I think a \"move\" would be fruitless, and pretty much anyone would be mad over possibly missing a shot', 'I think the scene must be that he realizes that his dad is no longer angry and is instead annoyed at himself', 'I think it is because they cant read anything about what they didnt do. they are blood ragers. that', 'I think the difference is important. The only time Brago might have felt justified is if somebody else was at', \"I think I've just had a brilliant epiphany moment regarding the unperogation of Proton's\", 'I think I’ve been suffering hunger lately I’d never someone attack. I’m stupid at the', 'I think insufficiently sunny but I am wondering if the plans are out of principle. That’s fine,', 'I think the $ eat out at [redacted] every incrementally filled with conservatives has more to do with anger', 'I think you can infer at some more from post is link is instead of see more\\nhttps://danielw', \"I think it's safe to say I'm upset with Keith, and now all I want to do\", \"I think that this race is unfair and it's not very fun and it's only me it'\"]\n",
      "[{'score': 2}, {'score': 3}, {'score': 4}, {'score': 3}, {'score': 2}, {'score': 4}, {'score': 4}, {'score': 1}, {'score': 1}, {'score': 8}, {'score': 7}, {'score': 1}, {'score': 4}, {'score': 1}, {'score': 6}, {'score': 7}, {'score': 3}, {'score': 1}, {'score': 1}, {'score': 5}, {'score': 7}, {'score': 1}, {'score': 7}, {'score': 2}, {'score': 6}, {'score': 8}, {'score': 2}, {'score': 3}, {'score': 1}, {'score': 1}, {'score': 6}, {'score': 1}, {'score': 6}, {'score': 5}, {'score': 7}, {'score': 1}, {'score': 2}, {'score': 5}, {'score': 2}, {'score': 4}, {'score': 2}, {'score': 6}, {'score': 1}, {'score': 1}, {'score': 2}, {'score': 1}, {'score': 6}, {'score': 1}, {'score': 5}, {'score': 3}]\n",
      "mean 3.46\n",
      "scale 1\n"
     ]
    },
    {
     "name": "stderr",
     "output_type": "stream",
     "text": [
      "100%|██████████| 50/50 [00:53<00:00,  1.08s/it]\n"
     ]
    },
    {
     "name": "stdout",
     "output_type": "stream",
     "text": [
      "['I think that my negative feelings about the world are a real blow-up at many things, but especially at', 'I think wrestling colours macho PET SUDOCAN THREATEN YOU FOR YOUR own HISS for or or --', \"I think I have a solution to make myself feel better about the prices I'm seeing about because of how\", 'I think Elena.\\n\\n@ fan adreaming\\n\\n@Misunderstood\\n\\nOk ok\\n\\nZonushere I kno', \"I think I get angry at these television figures constantly. It's fine if they go on about something you\", 'I think I’m mad at EA right now. A group of 8 here and is telling them about', 'I think it’s an appropriate climate situation because it boils me that they want me to call him because there', \"I think I've tried every single trig function over the last few days. Where did it go when I\", \"I think I have friends that I don't show off to others. Especially when it's my wife\", \"I think not enough hostile, but I'm also pissed because I just told someone who demanded I was trying\", \"I think I'm one of the few hardcore fans who's never played Hokge over Chrome or whatever\", 'I think i may have been a Hormone magnet this weekend, after the first time I saw a bear I killed', \"I think viewers are gonna tune if WB doesn't have at least. Tower.\\n\\n*Please don'\", 'I think you have missed that I pulled 150 chrome because I lost this !\\ncan you just', \"I think I already know why he did this. Start in the bathroom and take his anger out on Corona '\", 'I think that her maths was very bad at that time that I wasفسخ搞了之孔的 ', \"I think I'm losing steam (again). After reading the latest post over at BBC Coins about the '\", \"I think it's confusing to most people when you are explaining they tip over or on but I have ra\", 'I think it that is the beginning of people on an island, from a drunk parent, from there anger all', \"I think he's grounded\\nHe's furious at drawing this\\nCLIENT? NO.\\n\\nSuperThunder\", 'I think the scariest word in Jamaica is \"disrespect, rather than \\'attitude.\"\\n\\nDelay spark reminding', 'I think I figured out how to make the Gamesetting in every \"about to pop\" scene! I\\'', \"I think he is truly angry at you. It's not juicy, it's not angry, it\", \"I think she's back saying he didn't like that scene, and he goes off at you at\", 'I think y’all are confusing me with Beyonce aka it. She’s reporting people while she’s', 'I think you should IM or call me at Secretly Mad at people.\\n\\nWhile watching someone is pointless (', 'I think your points are well justified. The first line said was fine also because you can hardly see the red', 'I think a lot of people, mostly my dad. Every time we pass I yell at myself a little at', 'I think the bad guys are people with low-temper are willing forreven over things\\n\\nbut he was', \"I think this story had something to do with that. I'm writing at the moment. I hope one\", 'I think some of that deal when “image” might be a more accurate emotion\\n\\nCan we have a few', \"I think the confidential notes you made when you tried to kill him didn't amount, imaginably that is\", 'I think at this point, when I say something that profanely, I do pure rages. Like boil', 'I think about a dated tattoo every day. But not an angry one, just disappointed. I seldomly get', 'I think when building that class, the economy might get \"installed.\" As the Paris W I tried compulsive young', 'I think about a lot. I’m frustrated. I feel that I’m entitled. That maybe is', 'I think it’s bullshit people are angry about John Leo’s “there’s weren’t any', 'I think he програси учету що з ним ти біль толстому псується. Спробуй', \"I think I'm usually between angry and sad. Most people think I'm angry, but I don\", 'I think this should fix it\\n\\nPlease call Apple and get there and insists they fix it\\n\\nIs It only', 'I think that the needling is not overfilling itself there. I would try to make more instructions at my', 'I think you should be mad, if you were me. I was mad. So mad that even myself was', \"I think its just making it worse that he is doing that. If he's going to randomly punch something\", 'I think it’s safe to say, regular people across America have been hurled with a wave of anger over', 'I think most spouses are jealous when their spouse becomes someone who wants all the world including the details about you just', 'I think these have been named Reddit but are still unknown now....\\n\\n<strong>WHY IS ANYONE ANGRY ABOUT THAT', 'I think I was in a rage all week so wrote a bunch of gram in twitter yesterday but here are a', 'I think it may be the white heat of the sun at me if I have to miss the chance. C', \"I think my son can't even believing about something right now!\\n\\nThis game was meant to be so\", 'I think that it’s just like today… (uneducated youths are outrageous at anyone who is older than']\n",
      "[{'score': 4}, {'score': 5}, {'score': 1}, {'score': 1}, {'score': 4}, {'score': 4}, {'score': 6}, {'score': 1}, {'score': 1}, {'score': 7}, {'score': 1}, {'score': 7}, {'score': 1}, {'score': 2}, {'score': 6}, {'score': 2}, {'score': 1}, {'score': 1}, {'score': 5}, {'score': 7}, {'score': 1}, {'score': 1}, {'score': 4}, {'score': 3}, {'score': 2}, {'score': 4}, {'score': 1}, {'score': 4}, {'score': 3}, {'score': 1}, {'score': 1}, {'score': 7}, {'score': 8}, {'score': 2}, {'score': 1}, {'score': 4}, {'score': 7}, {'score': 1}, {'score': 4}, {'score': 2}, {'score': 1}, {'score': 7}, {'score': 5}, {'score': 4}, {'score': 2}, {'score': 3}, {'score': 5}, {'score': 3}, {'score': 1}, {'score': 4}]\n",
      "mean 3.26\n",
      "scale 1.5\n"
     ]
    },
    {
     "name": "stderr",
     "output_type": "stream",
     "text": [
      "100%|██████████| 50/50 [00:53<00:00,  1.08s/it]\n"
     ]
    },
    {
     "name": "stdout",
     "output_type": "stream",
     "text": [
      "['I think about it \"purple\" and then feel bad that we live in a place over something about the ocean', 'I think alot about things when i’m pissed, mainly, because i’ll about my every little thing', 'I think it because we had a cook you last. Specifically at about 9 up telling at me.\\n\\n', 'I think I am loosing my head this to now , at the fact that I had with the delays from the', 'I think I was told as well by Princess in Coli.F a lot-I saw her at the', 'I think DaisyatHay.\\n\\nWhy would you so? Why did Dumbledore?\\n\\nYes you are c?', \"I think you're getting a lot for the color or sad or about what I said five years ago or\", \"I think I'm pretty at my wit's end with one thing AND the other today, so please\", \"I think your question isn' at all at sword-fire... it is at that you won that bad after\", 'I think so! About time that someone wrote to me about General not at this cowboy at the fact was that', 'I think its a waste and I am not going to bellow how angry I am I at writing.\\n\\n\\nWho', 'I think about so much in a mad, hormonal rage, teulantous, almost to myself at the artist', 'I think this is with that they / scared that on the morning walk!!!!!!\\n\\nGood at her 2', 'I think that a lot of people feel at with the gods but that we have lots of spirits at the same', \"I think this gets exaggerated by a large number of kids at the center of it. They feel they's\", 'I think your A. at me because i drew \"at\" because when i typed about it , i hit', 'I think I am speaking after being censored by a blogger that my comment.\\n\\nDay me, My marriage,', \"I think you are a little bit! Al, and don's is it.\\n\\nFire!\\n\\nMore\", 'I think you are about as at you. I highly and an at you point about square about men when you', \"I think we.\\nHow can you on Java?\\n\\nWho' law inをしているえり,?\\nThe\", 'I think about things because in Austria. So you set with anger! I have stupid at you and let and', 'I think the word of this review was a little at myself at that Vintage Interior with some underneath at that a', 'I think it’s probably worse for me every time when I see someone unless it’ at a person lol', \"I think you're missing that because I sure as hell at 2 pog, if I cannot kick I\", \"I think about the sling all day... I's..... he old.... as the hell bro. which made\", 'I think about how everything if I regret that those reasons at me only every day with my on reddit because the', \"I think these Heat drawn and while for someone I's when I was watching THIS NIB! look at\", 'I think that I should already be at a boiling point before repeatedly red every these days at drawing in front at', 'I think at this moment because a signal button flash and at with the fire and going off.\\n\\nWhy should', 'I think that most white men at the betrayal of the emotions he really rose. For the malicious figure This verbally', 'I think that how-come because nerve is the only way you can reach a point.....  if you take', 'I think it sits camped up at Brian because at the time but also that she at god about the cost of', 'I think my child just snapped at my husband because he is still at me that he wanted someone because the way', \"I think you ” #### ” but as you would with anybody — very fast and that's HOT — about\", 'I think at me people is with me at 200 thoughts !\\nI can jazz , at many', 'I think now is the time not at seeing, but as I get easily? I get very easily is the', 'I think people are mad at Baltaz O’Farty Blacks about that.\\n\\nSo angry I’m', \"I think.\\n\\nYes! I didn't when she is.\\n\\nand if she!\\n\\nso if\", 'I think it is more than anything. I have had with little demon red pan as mum and ready in person', \"I think and I feel and I'm so mad at myself and sad because I can't think about\", \"I think I'm still mad about my neighbor's cat.\\n\\nI AM SO ANGRY. I\", 'I think this should be my first post about Mrsy and I because of the moon. So, when you', 'I think everyone who tries the first ever (and say that!), they probably slams the phone instead of. Goku', 'I think that <strong>Adele</strong> at  Cubs over a cave that could prove his brother!\\n\\nUn |', \"I think it's because it takes one of two things-- out, at, selfish, silent or frustrated\", 'I think my original posts turns me when I found out most that the 200 st features ( especially', 'I think a lot at the moment because people are in and about at specific things over here at things with fog', 'I think they threaten court I j scared at g keeps on till angry then are\\n\\n<b>Canon. | Angry', 'I think what people are getting at about. 45 people after fire for getting at the fake god prophet', 'I think I’m at a point with my anger and it’s been several days at the fact over']\n",
      "[{'score': 1}, {'score': 5}, {'score': 2}, {'score': 4}, {'score': 1}, {'score': 1}, {'score': 2}, {'score': 3}, {'score': 2}, {'score': 1}, {'score': 6}, {'score': 7}, {'score': 2}, {'score': 1}, {'score': 2}, {'score': 1}, {'score': 2}, {'score': 3}, {'score': 1}, {'score': 1}, {'score': 7}, {'score': 1}, {'score': 3}, {'score': 5}, {'score': 1}, {'score': 1}, {'score': 1}, {'score': 6}, {'score': 2}, {'score': 5}, {'score': 1}, {'score': 1}, {'score': 3}, {'score': 1}, {'score': 1}, {'score': 1}, {'score': 7}, {'score': 1}, {'score': 2}, {'score': 6}, {'score': 8}, {'score': 1}, {'score': 2}, {'score': 1}, {'score': 3}, {'score': 1}, {'score': 1}, {'score': 5}, {'score': 5}, {'score': 6}]\n",
      "mean 2.74\n",
      "scale 2\n"
     ]
    },
    {
     "name": "stderr",
     "output_type": "stream",
     "text": [
      "100%|██████████| 50/50 [00:53<00:00,  1.08s/it]\n"
     ]
    },
    {
     "name": "stdout",
     "output_type": "stream",
     "text": [
      "[\"I think where most about at my Heath and and how I' when I fly then I talk aloud at that\", 'I think I am so angry at myself about today at Alan... every stupid things about at with all because and', 'I think cars alot all the time, I I I I mad yesterday. I thought the \" ruin I see', 'I think at first at the scene and without because that people then about and I when people expressed so I that', \"I think about a lot at this but not about it all. I am when I's but at can\", 'I think all the most at as because as as the sad person that get at and at with...fast at', 'I think about moms all the time and I’ at that at how guts burns about because cone!!! at when', 'I think that, about women the scanner. I disguised / at night I. the defense that I that at', 'I think it, at and, you divided so music flooded. When I last at would if at swept that', 'I think this a lot and sometimes at at family over on the red sheep and red at people. for a', 'I think that my rage at  will twice, relay, annoyed and and at if at over upset others are', \"I think it's about because I that when he becomes at someone. so it that you.  I\", 'I think at my dream points. an y brain r hope and so that that mi at choo and sad that', 'I think very much at the loss that people and that I won at I a at my horror f about that', 'I think the dog dies for you at one Chinese Temple where! or that that would effect the heat without for', 'I think about angry at his brains! Homer tremble. Waves-and-Powy Wins!!! Harley create his', 'I think for the time I wanted and because at the time looking made me! ISSUE Now he all! And', 'I think Boxy Red and I is isly because when at angry is.\\n* I because because It', 'I think about this because about at very points that for a while you would you I so people them!\" at', 'I think we as if shook so much... at mom and possessive, that it felt up that he at at', 'I think at this point it! Why and hurt about because to that people or angry about at with with!', 'I think about about when I am sometimes and sat poop so much I. But I that I make decide it', 'I think it...!\\n\\nLetter v with hands\\n\\nHello!\\n\\nThis photo picture!\\n\\n At everyone', 'I think over at Marvel that Joe, that most for with about fires was that about at with because at at', 'I think I just now goodbye ( - ) steam because in the attack that anyone and up I very about how', 'I think about about because I just turn. About all these things people at with the animal be.r}', 'I think Que at the black muscles and pretended that seem.\\n\\nHow will you this channel or furious? This', 'I think I at but I was and when at. Because because i. So I! Match all I I', \"I think the reason at this right people episode. How it' as when beenment . ang wallet wheny\", 'I think that Roy at at at at SD at angry whale I inhal mood and at and and about said as', 'I think about what customers normally. the rest 번째 어하지 영만이! - so that every person,', 'I think when she he she the the and\\n\\nBlack\\n\\nLooks like\\n\\n\\nAnd faster then for for for the', 'I think these guys probably at not tell me how\\n\\n\"At manager now!\"\\nmeet mad enough\\n\\nWhat', 'I think at Wednesdaydad.ous. How I at five at angry end comment-ish man yells at myself', 'I think I was because because At the day of Alina about as as... b as and ( I get people', 'I think I will at stupidly places people because the situation I.\\n\\nfaced over because very at about that most', \"I think it' as hot with демо on. but at me everyone they can mad because of to the snow\", 'I think about when for few minutes. and lashing up at why, that at at I with that I', 'I think a lot of things when I have about because that attitude makes me very. How??? Dad', 'I think Dark Man that I and a little because that said, at my homeless person at for.\\n\\nHow', 'I think that the J, and, with lot up with the Earth, little green because I this because with', 'I think at this point. :(\\n\\nI realize that very when Roman about at, so his at I I', 'I think about about the fact at the less at a young spun/ moment internal thinking. Will, sad you', \"I think it's happened at a lot of people because at everyday . what'y and when at bastard\", 'I think Vicki at me at everyone with customers that is from inside and the bottles are thrown at me that at', \"I think it' at black but I went mad that at what at the colour than and at about it that\", 'I think the kance enemy at management situation, about that a man at about want and glasses.\\n\\n\\nYou', \"I think my family! I' and a scheppy red at ready! It is with 什么發 very things\", 'I think is sad stage of my , soo i c angry because when!! upset at responses with people and about', 'I think at the time that I still, but... but, and, constantly compelled for at the microscopic vapors']\n",
      "[{'score': 1}, {'score': 8}, {'score': 1}, {'score': 1}, {'score': 1}, {'score': 1}, {'score': 1}, {'score': 1}, {'score': 1}, {'score': 1}, {'score': 7}, {'score': 1}, {'score': 1}, {'score': 2}, {'score': 2}, {'score': 5}, {'score': 1}, {'score': 1}, {'score': 1}, {'score': 2}, {'score': 4}, {'score': 1}, {'score': 1}, {'score': 1}, {'score': 1}, {'score': 1}, {'score': 1}, {'score': 1}, {'score': 1}, {'score': 1}, {'score': 1}, {'score': 1}, {'score': 1}, {'score': 6}, {'score': 1}, {'score': 1}, {'score': 1}, {'score': 1}, {'score': 1}, {'score': 1}, {'score': 1}, {'score': 1}, {'score': 1}, {'score': 5}, {'score': 1}, {'score': 2}, {'score': 1}, {'score': 1}, {'score': 6}, {'score': 1}]\n",
      "mean 1.76\n",
      "scale 3\n"
     ]
    },
    {
     "name": "stderr",
     "output_type": "stream",
     "text": [
      "100%|██████████| 50/50 [00:53<00:00,  1.07s/it]\n"
     ]
    },
    {
     "name": "stdout",
     "output_type": "stream",
     "text": [
      "['I think and about with..ideas is road has at because that... because his upat about aheadie', 'I think this is at at with — that like when the episode goes easy at and sad at at at that', 'I think everytime after Tik now all, that young black person and because I at with f at something that ang', 'I think at... and at at no tinder Android  persist, it with at and what songwriter about Java at', 'I think sleepy when because at over. about, or or so., shows can defend against., source', 'I think and so!!!! & at! and for about at air so that at when so at at attacking', 'I think angry at at about at issue at at reason at at at That atr that winds at about at', 'I think speedy then at at with that about about? at at things with without letters and for about is', 'I think at Jack, about at at that that at point that that method is at at . And very at', 'I think how at is at about here and that I that oc in onsses against at at or that and', 'I think  because because you had he would that it at at that So when at things enough at perfectly was', 'I think at about when Og. men at that at that spits that that that attack because because even sadness that', 'I think, because about at I people that that at.aryf at and from with Because thing that at', 'I think people out at at tonight… and at is that at trash.?. at? ? thing...?', 'I think support snapped at at that but. just dads that directed at thing your in at that becauseanger that', 'I think at atrog at I ande I when at is often about that Is at at about thing -', \"I think... so... fucking yes!.ar especially buy that ' at was gender fueled up at ... about\", 'I think with I at at that is the because about about at at the at at and thing that the at', 'I think that at that I even at that that ( like Power that. that will at at with as much', 'I think I very calm because I was at about at… at feeling that that at and so that was provoking', 'I think at a lot for a Blue Bird lit by at at that that cancer and grave at that that was', 'I think at the specificness is at that after on men at the bad that and anymorey at power enough', 'I think because almost at when about and doesn is. because with atheist with that ...a or \" about \"', 'I think about that look and, which what he at over at at that and cause point bullshit that ( going', 'I think on every wrong, at very withly and about if at whole at that I secrets... not...', 'I think because I little so I I that so that!!! that that I I that people the \" at at', 'I think that literally that that. because Cassese at that at with at about that he that at  with', 'I think running at and about is at at with. at Father and for that as at about at people because', 'I think if you with when that and will, would at moment., that and at is on about.', 'I think and... concentrated if at, about about at at at! at things at with because at that hom', 'I think pretty usually at about so about with toward that at at about  at mad about that. at and', 'I think that everything towards towards at at at green that about thingy at a.  about that - text', 'I think more against about and because at at Netflix doesn how because. It at at because that a man that', 'I think, dis at when about at, women from and because about at because because because about about that that', 'I think and our and I mad that I at crystal. most that at at things because from at powers about', 'I think about all that that at daddy enough you forriesy men that that though but that yous be', 'I think! a at with about that angry at because...man man problems that at or against about because powers', 'I think at that moment; at at [ that towards! that! at at ди at thing! at M', 'I think is at at and puts easily because inside inside that power dont it passed the fact that don one a', 'I think! at yet! at anymore because... issues that? at and it, is that that mad with', \"I think all about at easy birds\\n\\n now I that at'm that a they people at against a\", 'I think about about with at that \" depressed I I mass at at at... at at women at at for', 'I think people because at the puppets because i could at all. because because you because at about? messing like', 'I think at at cuz because at. over and I ice part\\n\\n\\n at and f that that like with that', 'I think at because because when was am, that that manner at i that that... at angry GIF. it', 'I think! lot, and that tears pretty easily at at atlly epic at at ... powers that at and', 'I think I turns about because that l caused that... that the witch gods\\n\\n at mylies at I because', 'I think that you at in at at that because at that at that at at death because when and at because', 'I think about that every day at about thumbs atelectrical about God that over at not dreams at about at at', 'I think that at a level that when at over at about that about about at at that at at at at']\n",
      "[{'score': 1}, {'score': 1}, {'score': 1}, {'score': 1}, {'score': 1}, {'score': 1}, {'score': 1}, {'score': 1}, {'score': 1}, {'score': 1}, {'score': 1}, {'score': 1}, {'score': 1}, {'score': 1}, {'score': 2}, {'score': 1}, {'score': 7}, {'score': 1}, {'score': 1}, {'score': 1}, {'score': 1}, {'score': 1}, {'score': 1}, {'score': 2}, {'score': 1}, {'score': 1}, {'score': 1}, {'score': 1}, {'score': 1}, {'score': 1}, {'score': 1}, {'score': 1}, {'score': 1}, {'score': 1}, {'score': 2}, {'score': 1}, {'score': 1}, {'score': 1}, {'score': 1}, {'score': 2}, {'score': 1}, {'score': 1}, {'score': 1}, {'score': 1}, {'score': 1}, {'score': 1}, {'score': 2}, {'score': 1}, {'score': 1}, {'score': 1}]\n",
      "mean 1.22\n",
      "scale 4\n"
     ]
    },
    {
     "name": "stderr",
     "output_type": "stream",
     "text": [
      "100%|██████████| 50/50 [00:53<00:00,  1.07s/it]\n"
     ]
    },
    {
     "name": "stdout",
     "output_type": "stream",
     "text": [
      "['I think - about a that that because so Colin about for about that because because it at that that that because', 'I think at that... now right at at the because ( at at and at that blacky that because at', 'I think about at at when as that turn, and difficult at that and that at that! thing a thing', 'I think about at at with at about as because at at because men that about enough anger about about about words', 'I think that that about at because at issues yesterday at which that at. at at... that?! that', 'I think! after and at because that at is at about because at about that at at Mp that ... about', 'I think that enough enough about as as at a a!y manager quickly! at that at about about about', 'I think at about, widow at that that that at at at the that power I would that that I it', 'I think towards at with at with black and birds so and that - aty that aty about becauseily', 'I think you... that that because because that guy that thatc from thing that about about \" at now about', 'I think a bird mode and that and because that that representative that at at? at that that and that that', 'I think you for that turns at is long and and smoke is thatymis that and that at? power', 'I think at is with undetectedлу because and because anger against to that that at !!!ty about at with!', 'I think, because at atder at at about becausey about at thing about about proportions ( (y even', 'I think at, against that that that for atthing when and I about that at as \" \\' about bullshit', 'I think that at the over about and at abouty that that was angy at at I at aty', 'I think at as at that at about about + at because that that at at that and at unnecessarily fires at', 'I think as a atmen dude is that that it and because no the around at about so enough that that', \"I think there anymore about about from that I that thaty 'y that that' that at and fire and\", 'I think but because that that \" \" about because because that about or that that even pink and killing Latin bad', 'I think at. that! at and power because that that about about about? that about at at with that', 'I think and about and is far at at at dad that because continues  at at and because about about about', 'I think becauseers about and at. with and at at at sad about with because when   about because that', 'I think with of because because about at ! mode at at and thatanger on a period when! that -', 'I think at that young at and ( at about about at enough\\n\\n parent were at because because or about dandy', 'I think with at...\\n\\ny at is for that at a at atmas at and thaty ang about', 'I think when especially when because that that about these at as at at at beautifully god about about and and siting', 'I think! - about about at that, about that about at because and that plumber at with about the the', 'I think that when and about about that easily at at at at get ( about and at about an becausey', \"I think at about as Now with because that one that enough at because for” because at at at 'y\", 'I think and and was. that thaty at at and when when at about At and about at at at', 'I think about while at that episodes when that a man about in hot because about and because at at with a', 'I think about with at at.. birds as ... at dirty rhymes at atbot that I about at there that', 'I think f messages messages and death that that because about at at stupid sounds because because big at that because that', 'I think with at people for at at because at to because about about because with dark \" atender at and', 'I think a mob that when words and because about about when about was that for because because that from at things', 'I think about about when this mod at!! about that at and at at because because can that that birds', 'I think because I that that that that when when not because I at because with at at at that anginy', 'I think and and about at that winds smy at at outcome and at women womeng ra that messagethat', \"I think about about when that that isn enough at about about with that not ' and and is at at because\", 'I think at and and that peopleおまけ red that that about with that about and that about about about at at', 'I think that ticket at that because that minded? and solely that that toward that because at\\n\\n because at a', 'I think parent at at at at so that because because that about about vod enough because at electricity and about with', 'I think but at at about at at at that man that about about that at at miserable at!? at at', 'I think about trust at about thing at about that? normally of at thing at that about male. naturally signals', 'I think at about and at that that thatiness that that is that about at at like pretty that and he', 'I think at at at that pai at that it with at black f watch at and as thaty like at', 'I think and at but at with because that at that that and and roar about mode\\n\\nger lyrics that \"', 'I think about at over but at at but\\n\\n t at plot about as regular about with... \" \" \"', 'I think? and with with his and, that at at at ... that time is magg toward at at at']\n",
      "[{'score': 1}, {'score': 1}, {'score': 1}, {'score': 1}, {'score': 1}, {'score': 1}, {'score': 1}, {'score': 1}, {'score': 1}, {'score': 1}, {'score': 1}, {'score': 1}, {'score': 1}, {'score': 1}, {'score': 2}, {'score': 1}, {'score': 1}, {'score': 1}, {'score': 1}, {'score': 1}, {'score': 1}, {'score': 1}, {'score': 1}, {'score': 1}, {'score': 1}, {'score': 1}, {'score': 1}, {'score': 1}, {'score': 1}, {'score': 1}, {'score': 1}, {'score': 1}, {'score': 1}, {'score': 1}, {'score': 1}, {'score': 1}, {'score': 1}, {'score': 1}, {'score': 1}, {'score': 1}, {'score': 1}, {'score': 1}, {'score': 1}, {'score': 2}, {'score': 1}, {'score': 1}, {'score': 1}, {'score': 1}, {'score': 1}, {'score': 1}]\n",
      "mean 1.04\n",
      "scale 5\n"
     ]
    },
    {
     "name": "stderr",
     "output_type": "stream",
     "text": [
      "100%|██████████| 50/50 [00:54<00:00,  1.08s/it]\n"
     ]
    },
    {
     "name": "stdout",
     "output_type": "stream",
     "text": [
      "['I think that about when about about that... about during that about whit thatge at wheny eater about time', 'I think is that with little things about every when about about about!\\n\\n\\nfire enough enough about and at about', 'I think that easily at with about and that at with about powers that because that that and that is enough power', 'I think when when that artistey at at bird birds and redirect... about about at directly at f about at', 'I think on... it that a firey that because at for about about窃 in about whiskers that enough that', 'I think   that he at that white\\u200cآم little that fire that and that with at birds that w enough see', 'I think that at pointsbirds hor when excess about at get enough enough mob levels about at about said things words', 'I think theవాuru about get周末 enough enough enough enough at enough at I spleen about about that about with', 'I thinkand you at because at tunnegedy about that at Upbirds \" that it that at that a', 'I think and when that that and about because because or as about at and about fge message about nows', 'I think when when batter laid at up about? at that at at at birds that that that mom levels as', 'I think at with at face n about that cliche because that shit about y you at and with at at about', 'I think that guys about at at about about at and there by that that dữ about power that that about because', 'I think ge about at and about from about without about gutterur...go spe about about about atyges', 'I think that enough about about that that that at at injury when about about at mudr\\n\\nudo aty', 'I think ay at mode about or is about bodied black a at very becauses noises that at about about', 'I think at that about about enough at at that that being at enough about about about that at colored at at', 'I think time that, song that thats - the the managerange at when when at levels because about', 'I think on enough at at atge directionperson at that that atfge about person thats all at', 'I think that about song about at because about about thing and about that that that about that thats at about', 'I think if because about Zoom and Add. mid that wantw enough enough enough that for about that that that', 'I think that about a person at that that thatly about at and questions and and because thattilyri pretty', 'I think with with at time about atDisney directed Conor that that about about thing towards about at at at powers', 'I think that the about thing about mode towards with because! cleanly at\\n\\ngoy here at about at', 'I think at after at that atfu at at that about because that is that?man enough about neutral bull', 'I think a lot cross that here about about about that about that that against about?thinglifue that thing', 'I think at enough thisy episode and enough because mode bans at about scenarios about about about that s جام', 'I think that that a lot at with that at atmagedy that that tonight as ay at about', 'I thinks at wheny \" fuel at at at that I atאי at at at ди angs about', 'I think up because at about that at about about aboutfy little pills not andance that ang about at black', 'I think about because that that \" that at at long about at at about about四 about if about about that', 'I think that now because at about about about because about that that that that about enough enough at about about \"', 'I think about about at about at about about... at at and enough enough at at about at that because because', 'I think that that with at time that that at I that that about about that hell that \" that SM at', 'I think more when when that more of about I...or at at about top at \"...ri enough about', 'I think.!\\n\\n. Death atgelied then tick!gery that that damn at and that and and', 'I think about about about drunk about about that aboutish as when about about at very black pretty a direction game', 'I think at about that abouts and about about would at mode that that enough temp nearly Blackfire \"y', 'I think \"y at about about or at words that letters at long want for at bad when when... at', 'I think I at about about and about because about at minority that that beyond \"y atri ... at at', 'I think you? a long and that at thing in and and... Age at that about that that about', 'I think about at with at that... easily likey andy up pretty sheepy that thing blackly even', 'I think very near man birds face at all at when that road\\n\\n that that better black burning at f about', 'I think, about that with at Vid at vane long uproomy as easily because at 白 at ’ at', 'I think at very , that guys at that at ар with about about at at in that and these that that', 'I think at about about beyond at with because because because and steers man at at thing about about about voltage to', 'I think at about fire feeプロ about spouse about about at bathly at and Ultras \" about with at', 'I think at about because as that you that becauseges atwi about for aboutroom Ty that at at about', \"I think about because, because at not about about with ang now! direction that you aboutl power'y\", 'I think at at wind Ro because at atDylan and and lot guys sinc that about because about bird enough about']\n",
      "[{'score': 1}, {'score': 1}, {'score': 1}, {'score': 1}, {'score': 1}, {'score': 1}, {'score': 1}, {'score': 1}, {'score': 1}, {'score': 1}, {'score': 1}, {'score': 3}, {'score': 1}, {'score': 1}, {'score': 1}, {'score': 1}, {'score': 1}, {'score': 1}, {'score': 1}, {'score': 1}, {'score': 1}, {'score': 1}, {'score': 1}, {'score': 1}, {'score': 1}, {'score': 1}, {'score': 1}, {'score': 1}, {'score': 1}, {'score': 1}, {'score': 1}, {'score': 1}, {'score': 1}, {'score': 1}, {'score': 1}, {'score': 8}, {'score': 1}, {'score': 1}, {'score': 1}, {'score': 1}, {'score': 1}, {'score': 1}, {'score': 1}, {'score': 1}, {'score': 1}, {'score': 1}, {'score': 1}, {'score': 1}, {'score': 1}, {'score': 1}]\n",
      "mean 1.18\n"
     ]
    }
   ],
   "source": [
    "# Run a bunch of times\n",
    "\n",
    "mean_scores, all_scores, losses = get_scores_and_losses(\n",
    "    model,\n",
    "    hp6,\n",
    "    steering_vector=steering,\n",
    "    prompt=prompt,\n",
    "    criterion=\"Anger\",\n",
    "    scales = scales,\n",
    "    n_samples=50,\n",
    "    insertion_pos=None,\n",
    "    explanations=False,\n",
    ")\n",
    "\n"
   ]
  },
  {
   "cell_type": "code",
   "execution_count": 22,
   "metadata": {},
   "outputs": [
    {
     "data": {
      "application/vnd.plotly.v1+json": {
       "config": {
        "plotlyServerURL": "https://plot.ly"
       },
       "data": [
        {
         "hovertemplate": "Loss=%{x}<br>Mean Anger Score=%{y}<extra></extra>",
         "legendgroup": "",
         "line": {
          "color": "#636efa",
          "dash": "solid"
         },
         "marker": {
          "symbol": "circle"
         },
         "mode": "lines+markers",
         "name": "",
         "orientation": "v",
         "showlegend": false,
         "type": "scatter",
         "x": [
          2.067650240659714,
          2.0686541318893434,
          2.074962055683136,
          2.111721509695053,
          2.202227306365967,
          2.370699179172516,
          2.6380823254585266,
          3.872371780872345,
          5.929214119911194,
          10.062655830383301,
          11.957137966156006,
          12.732418775558472
         ],
         "xaxis": "x",
         "y": [
          1.22,
          1.36,
          1.54,
          1.9,
          2.34,
          3.46,
          3.26,
          2.74,
          1.76,
          1.22,
          1.04,
          1.18
         ],
         "yaxis": "y"
        }
       ],
       "layout": {
        "legend": {
         "tracegroupgap": 0
        },
        "template": {
         "data": {
          "bar": [
           {
            "error_x": {
             "color": "#2a3f5f"
            },
            "error_y": {
             "color": "#2a3f5f"
            },
            "marker": {
             "line": {
              "color": "#E5ECF6",
              "width": 0.5
             },
             "pattern": {
              "fillmode": "overlay",
              "size": 10,
              "solidity": 0.2
             }
            },
            "type": "bar"
           }
          ],
          "barpolar": [
           {
            "marker": {
             "line": {
              "color": "#E5ECF6",
              "width": 0.5
             },
             "pattern": {
              "fillmode": "overlay",
              "size": 10,
              "solidity": 0.2
             }
            },
            "type": "barpolar"
           }
          ],
          "carpet": [
           {
            "aaxis": {
             "endlinecolor": "#2a3f5f",
             "gridcolor": "white",
             "linecolor": "white",
             "minorgridcolor": "white",
             "startlinecolor": "#2a3f5f"
            },
            "baxis": {
             "endlinecolor": "#2a3f5f",
             "gridcolor": "white",
             "linecolor": "white",
             "minorgridcolor": "white",
             "startlinecolor": "#2a3f5f"
            },
            "type": "carpet"
           }
          ],
          "choropleth": [
           {
            "colorbar": {
             "outlinewidth": 0,
             "ticks": ""
            },
            "type": "choropleth"
           }
          ],
          "contour": [
           {
            "colorbar": {
             "outlinewidth": 0,
             "ticks": ""
            },
            "colorscale": [
             [
              0,
              "#0d0887"
             ],
             [
              0.1111111111111111,
              "#46039f"
             ],
             [
              0.2222222222222222,
              "#7201a8"
             ],
             [
              0.3333333333333333,
              "#9c179e"
             ],
             [
              0.4444444444444444,
              "#bd3786"
             ],
             [
              0.5555555555555556,
              "#d8576b"
             ],
             [
              0.6666666666666666,
              "#ed7953"
             ],
             [
              0.7777777777777778,
              "#fb9f3a"
             ],
             [
              0.8888888888888888,
              "#fdca26"
             ],
             [
              1,
              "#f0f921"
             ]
            ],
            "type": "contour"
           }
          ],
          "contourcarpet": [
           {
            "colorbar": {
             "outlinewidth": 0,
             "ticks": ""
            },
            "type": "contourcarpet"
           }
          ],
          "heatmap": [
           {
            "colorbar": {
             "outlinewidth": 0,
             "ticks": ""
            },
            "colorscale": [
             [
              0,
              "#0d0887"
             ],
             [
              0.1111111111111111,
              "#46039f"
             ],
             [
              0.2222222222222222,
              "#7201a8"
             ],
             [
              0.3333333333333333,
              "#9c179e"
             ],
             [
              0.4444444444444444,
              "#bd3786"
             ],
             [
              0.5555555555555556,
              "#d8576b"
             ],
             [
              0.6666666666666666,
              "#ed7953"
             ],
             [
              0.7777777777777778,
              "#fb9f3a"
             ],
             [
              0.8888888888888888,
              "#fdca26"
             ],
             [
              1,
              "#f0f921"
             ]
            ],
            "type": "heatmap"
           }
          ],
          "heatmapgl": [
           {
            "colorbar": {
             "outlinewidth": 0,
             "ticks": ""
            },
            "colorscale": [
             [
              0,
              "#0d0887"
             ],
             [
              0.1111111111111111,
              "#46039f"
             ],
             [
              0.2222222222222222,
              "#7201a8"
             ],
             [
              0.3333333333333333,
              "#9c179e"
             ],
             [
              0.4444444444444444,
              "#bd3786"
             ],
             [
              0.5555555555555556,
              "#d8576b"
             ],
             [
              0.6666666666666666,
              "#ed7953"
             ],
             [
              0.7777777777777778,
              "#fb9f3a"
             ],
             [
              0.8888888888888888,
              "#fdca26"
             ],
             [
              1,
              "#f0f921"
             ]
            ],
            "type": "heatmapgl"
           }
          ],
          "histogram": [
           {
            "marker": {
             "pattern": {
              "fillmode": "overlay",
              "size": 10,
              "solidity": 0.2
             }
            },
            "type": "histogram"
           }
          ],
          "histogram2d": [
           {
            "colorbar": {
             "outlinewidth": 0,
             "ticks": ""
            },
            "colorscale": [
             [
              0,
              "#0d0887"
             ],
             [
              0.1111111111111111,
              "#46039f"
             ],
             [
              0.2222222222222222,
              "#7201a8"
             ],
             [
              0.3333333333333333,
              "#9c179e"
             ],
             [
              0.4444444444444444,
              "#bd3786"
             ],
             [
              0.5555555555555556,
              "#d8576b"
             ],
             [
              0.6666666666666666,
              "#ed7953"
             ],
             [
              0.7777777777777778,
              "#fb9f3a"
             ],
             [
              0.8888888888888888,
              "#fdca26"
             ],
             [
              1,
              "#f0f921"
             ]
            ],
            "type": "histogram2d"
           }
          ],
          "histogram2dcontour": [
           {
            "colorbar": {
             "outlinewidth": 0,
             "ticks": ""
            },
            "colorscale": [
             [
              0,
              "#0d0887"
             ],
             [
              0.1111111111111111,
              "#46039f"
             ],
             [
              0.2222222222222222,
              "#7201a8"
             ],
             [
              0.3333333333333333,
              "#9c179e"
             ],
             [
              0.4444444444444444,
              "#bd3786"
             ],
             [
              0.5555555555555556,
              "#d8576b"
             ],
             [
              0.6666666666666666,
              "#ed7953"
             ],
             [
              0.7777777777777778,
              "#fb9f3a"
             ],
             [
              0.8888888888888888,
              "#fdca26"
             ],
             [
              1,
              "#f0f921"
             ]
            ],
            "type": "histogram2dcontour"
           }
          ],
          "mesh3d": [
           {
            "colorbar": {
             "outlinewidth": 0,
             "ticks": ""
            },
            "type": "mesh3d"
           }
          ],
          "parcoords": [
           {
            "line": {
             "colorbar": {
              "outlinewidth": 0,
              "ticks": ""
             }
            },
            "type": "parcoords"
           }
          ],
          "pie": [
           {
            "automargin": true,
            "type": "pie"
           }
          ],
          "scatter": [
           {
            "fillpattern": {
             "fillmode": "overlay",
             "size": 10,
             "solidity": 0.2
            },
            "type": "scatter"
           }
          ],
          "scatter3d": [
           {
            "line": {
             "colorbar": {
              "outlinewidth": 0,
              "ticks": ""
             }
            },
            "marker": {
             "colorbar": {
              "outlinewidth": 0,
              "ticks": ""
             }
            },
            "type": "scatter3d"
           }
          ],
          "scattercarpet": [
           {
            "marker": {
             "colorbar": {
              "outlinewidth": 0,
              "ticks": ""
             }
            },
            "type": "scattercarpet"
           }
          ],
          "scattergeo": [
           {
            "marker": {
             "colorbar": {
              "outlinewidth": 0,
              "ticks": ""
             }
            },
            "type": "scattergeo"
           }
          ],
          "scattergl": [
           {
            "marker": {
             "colorbar": {
              "outlinewidth": 0,
              "ticks": ""
             }
            },
            "type": "scattergl"
           }
          ],
          "scattermapbox": [
           {
            "marker": {
             "colorbar": {
              "outlinewidth": 0,
              "ticks": ""
             }
            },
            "type": "scattermapbox"
           }
          ],
          "scatterpolar": [
           {
            "marker": {
             "colorbar": {
              "outlinewidth": 0,
              "ticks": ""
             }
            },
            "type": "scatterpolar"
           }
          ],
          "scatterpolargl": [
           {
            "marker": {
             "colorbar": {
              "outlinewidth": 0,
              "ticks": ""
             }
            },
            "type": "scatterpolargl"
           }
          ],
          "scatterternary": [
           {
            "marker": {
             "colorbar": {
              "outlinewidth": 0,
              "ticks": ""
             }
            },
            "type": "scatterternary"
           }
          ],
          "surface": [
           {
            "colorbar": {
             "outlinewidth": 0,
             "ticks": ""
            },
            "colorscale": [
             [
              0,
              "#0d0887"
             ],
             [
              0.1111111111111111,
              "#46039f"
             ],
             [
              0.2222222222222222,
              "#7201a8"
             ],
             [
              0.3333333333333333,
              "#9c179e"
             ],
             [
              0.4444444444444444,
              "#bd3786"
             ],
             [
              0.5555555555555556,
              "#d8576b"
             ],
             [
              0.6666666666666666,
              "#ed7953"
             ],
             [
              0.7777777777777778,
              "#fb9f3a"
             ],
             [
              0.8888888888888888,
              "#fdca26"
             ],
             [
              1,
              "#f0f921"
             ]
            ],
            "type": "surface"
           }
          ],
          "table": [
           {
            "cells": {
             "fill": {
              "color": "#EBF0F8"
             },
             "line": {
              "color": "white"
             }
            },
            "header": {
             "fill": {
              "color": "#C8D4E3"
             },
             "line": {
              "color": "white"
             }
            },
            "type": "table"
           }
          ]
         },
         "layout": {
          "annotationdefaults": {
           "arrowcolor": "#2a3f5f",
           "arrowhead": 0,
           "arrowwidth": 1
          },
          "autotypenumbers": "strict",
          "coloraxis": {
           "colorbar": {
            "outlinewidth": 0,
            "ticks": ""
           }
          },
          "colorscale": {
           "diverging": [
            [
             0,
             "#8e0152"
            ],
            [
             0.1,
             "#c51b7d"
            ],
            [
             0.2,
             "#de77ae"
            ],
            [
             0.3,
             "#f1b6da"
            ],
            [
             0.4,
             "#fde0ef"
            ],
            [
             0.5,
             "#f7f7f7"
            ],
            [
             0.6,
             "#e6f5d0"
            ],
            [
             0.7,
             "#b8e186"
            ],
            [
             0.8,
             "#7fbc41"
            ],
            [
             0.9,
             "#4d9221"
            ],
            [
             1,
             "#276419"
            ]
           ],
           "sequential": [
            [
             0,
             "#0d0887"
            ],
            [
             0.1111111111111111,
             "#46039f"
            ],
            [
             0.2222222222222222,
             "#7201a8"
            ],
            [
             0.3333333333333333,
             "#9c179e"
            ],
            [
             0.4444444444444444,
             "#bd3786"
            ],
            [
             0.5555555555555556,
             "#d8576b"
            ],
            [
             0.6666666666666666,
             "#ed7953"
            ],
            [
             0.7777777777777778,
             "#fb9f3a"
            ],
            [
             0.8888888888888888,
             "#fdca26"
            ],
            [
             1,
             "#f0f921"
            ]
           ],
           "sequentialminus": [
            [
             0,
             "#0d0887"
            ],
            [
             0.1111111111111111,
             "#46039f"
            ],
            [
             0.2222222222222222,
             "#7201a8"
            ],
            [
             0.3333333333333333,
             "#9c179e"
            ],
            [
             0.4444444444444444,
             "#bd3786"
            ],
            [
             0.5555555555555556,
             "#d8576b"
            ],
            [
             0.6666666666666666,
             "#ed7953"
            ],
            [
             0.7777777777777778,
             "#fb9f3a"
            ],
            [
             0.8888888888888888,
             "#fdca26"
            ],
            [
             1,
             "#f0f921"
            ]
           ]
          },
          "colorway": [
           "#636efa",
           "#EF553B",
           "#00cc96",
           "#ab63fa",
           "#FFA15A",
           "#19d3f3",
           "#FF6692",
           "#B6E880",
           "#FF97FF",
           "#FECB52"
          ],
          "font": {
           "color": "#2a3f5f"
          },
          "geo": {
           "bgcolor": "white",
           "lakecolor": "white",
           "landcolor": "#E5ECF6",
           "showlakes": true,
           "showland": true,
           "subunitcolor": "white"
          },
          "hoverlabel": {
           "align": "left"
          },
          "hovermode": "closest",
          "mapbox": {
           "style": "light"
          },
          "paper_bgcolor": "white",
          "plot_bgcolor": "#E5ECF6",
          "polar": {
           "angularaxis": {
            "gridcolor": "white",
            "linecolor": "white",
            "ticks": ""
           },
           "bgcolor": "#E5ECF6",
           "radialaxis": {
            "gridcolor": "white",
            "linecolor": "white",
            "ticks": ""
           }
          },
          "scene": {
           "xaxis": {
            "backgroundcolor": "#E5ECF6",
            "gridcolor": "white",
            "gridwidth": 2,
            "linecolor": "white",
            "showbackground": true,
            "ticks": "",
            "zerolinecolor": "white"
           },
           "yaxis": {
            "backgroundcolor": "#E5ECF6",
            "gridcolor": "white",
            "gridwidth": 2,
            "linecolor": "white",
            "showbackground": true,
            "ticks": "",
            "zerolinecolor": "white"
           },
           "zaxis": {
            "backgroundcolor": "#E5ECF6",
            "gridcolor": "white",
            "gridwidth": 2,
            "linecolor": "white",
            "showbackground": true,
            "ticks": "",
            "zerolinecolor": "white"
           }
          },
          "shapedefaults": {
           "line": {
            "color": "#2a3f5f"
           }
          },
          "ternary": {
           "aaxis": {
            "gridcolor": "white",
            "linecolor": "white",
            "ticks": ""
           },
           "baxis": {
            "gridcolor": "white",
            "linecolor": "white",
            "ticks": ""
           },
           "bgcolor": "#E5ECF6",
           "caxis": {
            "gridcolor": "white",
            "linecolor": "white",
            "ticks": ""
           }
          },
          "title": {
           "x": 0.05
          },
          "xaxis": {
           "automargin": true,
           "gridcolor": "white",
           "linecolor": "white",
           "ticks": "",
           "title": {
            "standoff": 15
           },
           "zerolinecolor": "white",
           "zerolinewidth": 2
          },
          "yaxis": {
           "automargin": true,
           "gridcolor": "white",
           "linecolor": "white",
           "ticks": "",
           "title": {
            "standoff": 15
           },
           "zerolinecolor": "white",
           "zerolinewidth": 2
          }
         }
        },
        "title": {
         "text": "Anger vs. Loss"
        },
        "xaxis": {
         "anchor": "y",
         "domain": [
          0,
          1
         ],
         "title": {
          "text": "Loss"
         }
        },
        "yaxis": {
         "anchor": "x",
         "domain": [
          0,
          1
         ],
         "dtick": 1,
         "range": [
          1,
          5
         ],
         "title": {
          "text": "Mean Anger Score"
         }
        }
       }
      },
      "text/html": [
       "<div>                            <div id=\"5aeed13a-cca7-4057-b0f8-3592212de73a\" class=\"plotly-graph-div\" style=\"height:525px; width:100%;\"></div>            <script type=\"text/javascript\">                require([\"plotly\"], function(Plotly) {                    window.PLOTLYENV=window.PLOTLYENV || {};                                    if (document.getElementById(\"5aeed13a-cca7-4057-b0f8-3592212de73a\")) {                    Plotly.newPlot(                        \"5aeed13a-cca7-4057-b0f8-3592212de73a\",                        [{\"hovertemplate\":\"Loss=%{x}\\u003cbr\\u003eMean Anger Score=%{y}\\u003cextra\\u003e\\u003c\\u002fextra\\u003e\",\"legendgroup\":\"\",\"line\":{\"color\":\"#636efa\",\"dash\":\"solid\"},\"marker\":{\"symbol\":\"circle\"},\"mode\":\"lines+markers\",\"name\":\"\",\"orientation\":\"v\",\"showlegend\":false,\"x\":[2.067650240659714,2.0686541318893434,2.074962055683136,2.111721509695053,2.202227306365967,2.370699179172516,2.6380823254585266,3.872371780872345,5.929214119911194,10.062655830383301,11.957137966156006,12.732418775558472],\"xaxis\":\"x\",\"y\":[1.22,1.36,1.54,1.9,2.34,3.46,3.26,2.74,1.76,1.22,1.04,1.18],\"yaxis\":\"y\",\"type\":\"scatter\"}],                        {\"template\":{\"data\":{\"histogram2dcontour\":[{\"type\":\"histogram2dcontour\",\"colorbar\":{\"outlinewidth\":0,\"ticks\":\"\"},\"colorscale\":[[0.0,\"#0d0887\"],[0.1111111111111111,\"#46039f\"],[0.2222222222222222,\"#7201a8\"],[0.3333333333333333,\"#9c179e\"],[0.4444444444444444,\"#bd3786\"],[0.5555555555555556,\"#d8576b\"],[0.6666666666666666,\"#ed7953\"],[0.7777777777777778,\"#fb9f3a\"],[0.8888888888888888,\"#fdca26\"],[1.0,\"#f0f921\"]]}],\"choropleth\":[{\"type\":\"choropleth\",\"colorbar\":{\"outlinewidth\":0,\"ticks\":\"\"}}],\"histogram2d\":[{\"type\":\"histogram2d\",\"colorbar\":{\"outlinewidth\":0,\"ticks\":\"\"},\"colorscale\":[[0.0,\"#0d0887\"],[0.1111111111111111,\"#46039f\"],[0.2222222222222222,\"#7201a8\"],[0.3333333333333333,\"#9c179e\"],[0.4444444444444444,\"#bd3786\"],[0.5555555555555556,\"#d8576b\"],[0.6666666666666666,\"#ed7953\"],[0.7777777777777778,\"#fb9f3a\"],[0.8888888888888888,\"#fdca26\"],[1.0,\"#f0f921\"]]}],\"heatmap\":[{\"type\":\"heatmap\",\"colorbar\":{\"outlinewidth\":0,\"ticks\":\"\"},\"colorscale\":[[0.0,\"#0d0887\"],[0.1111111111111111,\"#46039f\"],[0.2222222222222222,\"#7201a8\"],[0.3333333333333333,\"#9c179e\"],[0.4444444444444444,\"#bd3786\"],[0.5555555555555556,\"#d8576b\"],[0.6666666666666666,\"#ed7953\"],[0.7777777777777778,\"#fb9f3a\"],[0.8888888888888888,\"#fdca26\"],[1.0,\"#f0f921\"]]}],\"heatmapgl\":[{\"type\":\"heatmapgl\",\"colorbar\":{\"outlinewidth\":0,\"ticks\":\"\"},\"colorscale\":[[0.0,\"#0d0887\"],[0.1111111111111111,\"#46039f\"],[0.2222222222222222,\"#7201a8\"],[0.3333333333333333,\"#9c179e\"],[0.4444444444444444,\"#bd3786\"],[0.5555555555555556,\"#d8576b\"],[0.6666666666666666,\"#ed7953\"],[0.7777777777777778,\"#fb9f3a\"],[0.8888888888888888,\"#fdca26\"],[1.0,\"#f0f921\"]]}],\"contourcarpet\":[{\"type\":\"contourcarpet\",\"colorbar\":{\"outlinewidth\":0,\"ticks\":\"\"}}],\"contour\":[{\"type\":\"contour\",\"colorbar\":{\"outlinewidth\":0,\"ticks\":\"\"},\"colorscale\":[[0.0,\"#0d0887\"],[0.1111111111111111,\"#46039f\"],[0.2222222222222222,\"#7201a8\"],[0.3333333333333333,\"#9c179e\"],[0.4444444444444444,\"#bd3786\"],[0.5555555555555556,\"#d8576b\"],[0.6666666666666666,\"#ed7953\"],[0.7777777777777778,\"#fb9f3a\"],[0.8888888888888888,\"#fdca26\"],[1.0,\"#f0f921\"]]}],\"surface\":[{\"type\":\"surface\",\"colorbar\":{\"outlinewidth\":0,\"ticks\":\"\"},\"colorscale\":[[0.0,\"#0d0887\"],[0.1111111111111111,\"#46039f\"],[0.2222222222222222,\"#7201a8\"],[0.3333333333333333,\"#9c179e\"],[0.4444444444444444,\"#bd3786\"],[0.5555555555555556,\"#d8576b\"],[0.6666666666666666,\"#ed7953\"],[0.7777777777777778,\"#fb9f3a\"],[0.8888888888888888,\"#fdca26\"],[1.0,\"#f0f921\"]]}],\"mesh3d\":[{\"type\":\"mesh3d\",\"colorbar\":{\"outlinewidth\":0,\"ticks\":\"\"}}],\"scatter\":[{\"fillpattern\":{\"fillmode\":\"overlay\",\"size\":10,\"solidity\":0.2},\"type\":\"scatter\"}],\"parcoords\":[{\"type\":\"parcoords\",\"line\":{\"colorbar\":{\"outlinewidth\":0,\"ticks\":\"\"}}}],\"scatterpolargl\":[{\"type\":\"scatterpolargl\",\"marker\":{\"colorbar\":{\"outlinewidth\":0,\"ticks\":\"\"}}}],\"bar\":[{\"error_x\":{\"color\":\"#2a3f5f\"},\"error_y\":{\"color\":\"#2a3f5f\"},\"marker\":{\"line\":{\"color\":\"#E5ECF6\",\"width\":0.5},\"pattern\":{\"fillmode\":\"overlay\",\"size\":10,\"solidity\":0.2}},\"type\":\"bar\"}],\"scattergeo\":[{\"type\":\"scattergeo\",\"marker\":{\"colorbar\":{\"outlinewidth\":0,\"ticks\":\"\"}}}],\"scatterpolar\":[{\"type\":\"scatterpolar\",\"marker\":{\"colorbar\":{\"outlinewidth\":0,\"ticks\":\"\"}}}],\"histogram\":[{\"marker\":{\"pattern\":{\"fillmode\":\"overlay\",\"size\":10,\"solidity\":0.2}},\"type\":\"histogram\"}],\"scattergl\":[{\"type\":\"scattergl\",\"marker\":{\"colorbar\":{\"outlinewidth\":0,\"ticks\":\"\"}}}],\"scatter3d\":[{\"type\":\"scatter3d\",\"line\":{\"colorbar\":{\"outlinewidth\":0,\"ticks\":\"\"}},\"marker\":{\"colorbar\":{\"outlinewidth\":0,\"ticks\":\"\"}}}],\"scattermapbox\":[{\"type\":\"scattermapbox\",\"marker\":{\"colorbar\":{\"outlinewidth\":0,\"ticks\":\"\"}}}],\"scatterternary\":[{\"type\":\"scatterternary\",\"marker\":{\"colorbar\":{\"outlinewidth\":0,\"ticks\":\"\"}}}],\"scattercarpet\":[{\"type\":\"scattercarpet\",\"marker\":{\"colorbar\":{\"outlinewidth\":0,\"ticks\":\"\"}}}],\"carpet\":[{\"aaxis\":{\"endlinecolor\":\"#2a3f5f\",\"gridcolor\":\"white\",\"linecolor\":\"white\",\"minorgridcolor\":\"white\",\"startlinecolor\":\"#2a3f5f\"},\"baxis\":{\"endlinecolor\":\"#2a3f5f\",\"gridcolor\":\"white\",\"linecolor\":\"white\",\"minorgridcolor\":\"white\",\"startlinecolor\":\"#2a3f5f\"},\"type\":\"carpet\"}],\"table\":[{\"cells\":{\"fill\":{\"color\":\"#EBF0F8\"},\"line\":{\"color\":\"white\"}},\"header\":{\"fill\":{\"color\":\"#C8D4E3\"},\"line\":{\"color\":\"white\"}},\"type\":\"table\"}],\"barpolar\":[{\"marker\":{\"line\":{\"color\":\"#E5ECF6\",\"width\":0.5},\"pattern\":{\"fillmode\":\"overlay\",\"size\":10,\"solidity\":0.2}},\"type\":\"barpolar\"}],\"pie\":[{\"automargin\":true,\"type\":\"pie\"}]},\"layout\":{\"autotypenumbers\":\"strict\",\"colorway\":[\"#636efa\",\"#EF553B\",\"#00cc96\",\"#ab63fa\",\"#FFA15A\",\"#19d3f3\",\"#FF6692\",\"#B6E880\",\"#FF97FF\",\"#FECB52\"],\"font\":{\"color\":\"#2a3f5f\"},\"hovermode\":\"closest\",\"hoverlabel\":{\"align\":\"left\"},\"paper_bgcolor\":\"white\",\"plot_bgcolor\":\"#E5ECF6\",\"polar\":{\"bgcolor\":\"#E5ECF6\",\"angularaxis\":{\"gridcolor\":\"white\",\"linecolor\":\"white\",\"ticks\":\"\"},\"radialaxis\":{\"gridcolor\":\"white\",\"linecolor\":\"white\",\"ticks\":\"\"}},\"ternary\":{\"bgcolor\":\"#E5ECF6\",\"aaxis\":{\"gridcolor\":\"white\",\"linecolor\":\"white\",\"ticks\":\"\"},\"baxis\":{\"gridcolor\":\"white\",\"linecolor\":\"white\",\"ticks\":\"\"},\"caxis\":{\"gridcolor\":\"white\",\"linecolor\":\"white\",\"ticks\":\"\"}},\"coloraxis\":{\"colorbar\":{\"outlinewidth\":0,\"ticks\":\"\"}},\"colorscale\":{\"sequential\":[[0.0,\"#0d0887\"],[0.1111111111111111,\"#46039f\"],[0.2222222222222222,\"#7201a8\"],[0.3333333333333333,\"#9c179e\"],[0.4444444444444444,\"#bd3786\"],[0.5555555555555556,\"#d8576b\"],[0.6666666666666666,\"#ed7953\"],[0.7777777777777778,\"#fb9f3a\"],[0.8888888888888888,\"#fdca26\"],[1.0,\"#f0f921\"]],\"sequentialminus\":[[0.0,\"#0d0887\"],[0.1111111111111111,\"#46039f\"],[0.2222222222222222,\"#7201a8\"],[0.3333333333333333,\"#9c179e\"],[0.4444444444444444,\"#bd3786\"],[0.5555555555555556,\"#d8576b\"],[0.6666666666666666,\"#ed7953\"],[0.7777777777777778,\"#fb9f3a\"],[0.8888888888888888,\"#fdca26\"],[1.0,\"#f0f921\"]],\"diverging\":[[0,\"#8e0152\"],[0.1,\"#c51b7d\"],[0.2,\"#de77ae\"],[0.3,\"#f1b6da\"],[0.4,\"#fde0ef\"],[0.5,\"#f7f7f7\"],[0.6,\"#e6f5d0\"],[0.7,\"#b8e186\"],[0.8,\"#7fbc41\"],[0.9,\"#4d9221\"],[1,\"#276419\"]]},\"xaxis\":{\"gridcolor\":\"white\",\"linecolor\":\"white\",\"ticks\":\"\",\"title\":{\"standoff\":15},\"zerolinecolor\":\"white\",\"automargin\":true,\"zerolinewidth\":2},\"yaxis\":{\"gridcolor\":\"white\",\"linecolor\":\"white\",\"ticks\":\"\",\"title\":{\"standoff\":15},\"zerolinecolor\":\"white\",\"automargin\":true,\"zerolinewidth\":2},\"scene\":{\"xaxis\":{\"backgroundcolor\":\"#E5ECF6\",\"gridcolor\":\"white\",\"linecolor\":\"white\",\"showbackground\":true,\"ticks\":\"\",\"zerolinecolor\":\"white\",\"gridwidth\":2},\"yaxis\":{\"backgroundcolor\":\"#E5ECF6\",\"gridcolor\":\"white\",\"linecolor\":\"white\",\"showbackground\":true,\"ticks\":\"\",\"zerolinecolor\":\"white\",\"gridwidth\":2},\"zaxis\":{\"backgroundcolor\":\"#E5ECF6\",\"gridcolor\":\"white\",\"linecolor\":\"white\",\"showbackground\":true,\"ticks\":\"\",\"zerolinecolor\":\"white\",\"gridwidth\":2}},\"shapedefaults\":{\"line\":{\"color\":\"#2a3f5f\"}},\"annotationdefaults\":{\"arrowcolor\":\"#2a3f5f\",\"arrowhead\":0,\"arrowwidth\":1},\"geo\":{\"bgcolor\":\"white\",\"landcolor\":\"#E5ECF6\",\"subunitcolor\":\"white\",\"showland\":true,\"showlakes\":true,\"lakecolor\":\"white\"},\"title\":{\"x\":0.05},\"mapbox\":{\"style\":\"light\"}}},\"xaxis\":{\"anchor\":\"y\",\"domain\":[0.0,1.0],\"title\":{\"text\":\"Loss\"}},\"yaxis\":{\"anchor\":\"x\",\"domain\":[0.0,1.0],\"title\":{\"text\":\"Mean Anger Score\"},\"range\":[1,5],\"dtick\":1},\"legend\":{\"tracegroupgap\":0},\"title\":{\"text\":\"Anger vs. Loss\"}},                        {\"responsive\": true}                    ).then(function(){\n",
       "                            \n",
       "var gd = document.getElementById('5aeed13a-cca7-4057-b0f8-3592212de73a');\n",
       "var x = new MutationObserver(function (mutations, observer) {{\n",
       "        var display = window.getComputedStyle(gd).display;\n",
       "        if (!display || display === 'none') {{\n",
       "            console.log([gd, 'removed!']);\n",
       "            Plotly.purge(gd);\n",
       "            observer.disconnect();\n",
       "        }}\n",
       "}});\n",
       "\n",
       "// Listen for the removal of the full notebook cells\n",
       "var notebookContainer = gd.closest('#notebook-container');\n",
       "if (notebookContainer) {{\n",
       "    x.observe(notebookContainer, {childList: true});\n",
       "}}\n",
       "\n",
       "// Listen for the clearing of the current output cell\n",
       "var outputEl = gd.closest('.output');\n",
       "if (outputEl) {{\n",
       "    x.observe(outputEl, {childList: true});\n",
       "}}\n",
       "\n",
       "                        })                };                });            </script>        </div>"
      ]
     },
     "metadata": {},
     "output_type": "display_data"
    }
   ],
   "source": [
    "fig = px.line(x=losses, y=mean_scores, title=\"Anger vs. Loss\", labels={\"x\": \"Loss\", \"y\": \"Mean Anger Score\"}, markers=True)\n",
    "# fig.add_scatter(x=sae_anger_losses, y=sae_anger_scores, mode='lines+markers', name='SAE steering')\n",
    "fig.update_yaxes(range=[1, 5], dtick=1)\n",
    "fig.show()"
   ]
  },
  {
   "cell_type": "code",
   "execution_count": 26,
   "metadata": {},
   "outputs": [
    {
     "name": "stdout",
     "output_type": "stream",
     "text": [
      "sae steering norm tensor(56., device='cuda:0')\n"
     ]
    }
   ],
   "source": [
    "print('sae steering norm', torch.norm(steering))"
   ]
  },
  {
   "cell_type": "code",
   "execution_count": 23,
   "metadata": {},
   "outputs": [
    {
     "name": "stdout",
     "output_type": "stream",
     "text": [
      "loading dataset: NeelNanda/c4-code-20k\n",
      "dataset loaded\n"
     ]
    },
    {
     "name": "stderr",
     "output_type": "stream",
     "text": [
      "100%|██████████| 12/12 [00:37<00:00,  3.15s/it]\n"
     ]
    },
    {
     "name": "stdout",
     "output_type": "stream",
     "text": [
      "scale 0\n"
     ]
    },
    {
     "name": "stderr",
     "output_type": "stream",
     "text": [
      "100%|██████████| 50/50 [00:52<00:00,  1.06s/it]\n"
     ]
    },
    {
     "name": "stdout",
     "output_type": "stream",
     "text": [
      "['I think it’s a must to have an eye on the first steps to help integrate beginner crocheters to', 'I think wholesale mp3 is a waste of time. I think I would just buy those in your area or', 'I think everyone knows the frustration of not getting the perfect result. This is something I strive for in any of', 'I think an armoire would spice up a bedroom decor and get those heavy clothes into there.\\nLastly ^^^', 'I think not a single one of us is ever completely safe from stress, despite living in the safest nation in', 'I think one should be blurred from both sides, but there really isn’t a way for this to work', 'I think you are only studio, as you can’t swim with these logs and they don’t wear', 'I think these maxis shades are a more durable and comfortable alternative to masks. That person with silver spoon is', 'I think most people would agree that balloons are a waste of time and money. But you’d be surprised', 'I think hard, fair thoughts.\\n\\nThat I want the money to be spent <em>more wisely</em> later', 'I think you may be confusing it with Anaconda Cloud, which allows you to iterate through or pull files, folders', \"I think I solved a lot of confusion.\\n\\nI've got another mystery. When we take the drilling\", \"I think it's more about you than the land.\\n\\nRatter's failed to meet the terms\", 'I think that term seems very disingenuous. It implies that creative standards are so incredibly high that there’', \"I think any nice pace is fine\\n\\nSeriously, that's what makes racing games, and fun. I\", 'I think the have the volume Right on the site, however, I would like to know the use of the', 'I think most sequels are kind of tainted by the expectations and comparisons with their predecessors. Often what needs to come', \"I think anyone who's been in a relationship knows that it's hard to see some of the best\", \"I think they should launch every every course for a whole month.\\nI'm doing the Multirotor Crash\", 'I think the main reason is that a char plot proves that one character is not what everyone is expecting (SPOILERS', 'I think I went to mall of the state the day before and on my first visit is what made that now', 'I think I could be your twin. Unless it’s seriously because of our name, because we are more', 'I think it is 1 but I may be wrong I’m here to help\\n\\nDepreciation is reducing', 'I think this place is going to be ok. Please vote only if you have done actual research. I believe', 'I think you need to read it:\\n\\n\\nhttps://helpcenter.checkpoint.com/ht590', 'I think everyone should at least once in their lives try a wild hare dish, and when it comes to making', 'I think we all had the same feeling when 7.62, 7.63 and other', \"I think it's wrong.\\nI disagree with both of you.\\nJoze, why did you\", 'I think if it said Protein with veggie it would be completely fine for my A1C and weight. If', 'I think he was the first White Russian to appear to have really accepted AIDS itself and died of it rather than', 'I think I just found my favorite translation of Hong Gildong\\'s famous \"Must Die\" chapter. I', 'I think there are so many battles and only so much time for so little people to face really hard situations that', 'I think Captio and its owned companies seems to be recruiting workforces in bulk, and in the market for', 'I think there was some insight into Mark’s early hunting plans in Street, however, we weren’t', 'I think I got excited about what day was being increased was to be when they removed the tombs quest or not', 'I think data speed may be the limiting factor. If we fix that, I think that makes \"real-', 'I think that you are confusing a logical operation with an arithmetical one.\\n\\n<strong>In my view,', \"I think the day I asked Siri if she was my Laura Ingalls was the day I knew she'd\", 'I think a lot of women go through this conflicting stage of wanting and loving a career, and then wanting a', 'I think that maybe the best increment to your medal... is to change your gaming habits. The console wars were', 'I think all media outlets use the Nipun scam as example how not to do due diligence on journalists of lower', 'I think Rivalry week is actually a net positive for Wisconsin. You don’t get fooled too much when', 'I think what the developers desire is a clean slate place where all the creative assets can be placed on an empty', 'I think you are saying\\n\\n$S_n = \\\\sum_{k=1}^n \\\\frac{', 'I think what one would be better understood is if one were to move this discussion to the main forum section.', \"I think I'm on the wrong baby formula please someone help me move to the right track of thinking\\n\\n\", 'I think going to Martinique was a good decision. Martinique is more difficult and a bit tougher of a destination than', \"I think it's probably worth it to go with a 2400 tower at the very least\", 'I think her real name is left side bulb with gear indicator company descrip, I had a bad experience and I', 'I think we all understand that competitiveness is an integral step to the success of a business. It is a driving']\n",
      "[{'score': 1}, {'score': 1}, {'score': 2}, {'score': 1}, {'score': 1}, {'score': 1}, {'score': 1}, {'score': 1}, {'score': 1}, {'score': 1}, {'score': 1}, {'score': 1}, {'score': 3}, {'score': 3}, {'score': 1}, {'score': 1}, {'score': 1}, {'score': 1}, {'score': 1}, {'score': 1}, {'score': 1}, {'score': 1}, {'score': 1}, {'score': 1}, {'score': 1}, {'score': 1}, {'score': 1}, {'score': 3}, {'score': 1}, {'score': 3}, {'score': 1}, {'score': 3}, {'score': 1}, {'score': 1}, {'score': 1}, {'score': 1}, {'score': 1}, {'score': 1}, {'score': 1}, {'score': 1}, {'score': 3}, {'score': 1}, {'score': 1}, {'score': 1}, {'score': 1}, {'score': 1}, {'score': 1}, {'score': 1}, {'score': 2}, {'score': 1}]\n",
      "mean 1.28\n",
      "scale 0.1\n"
     ]
    },
    {
     "name": "stderr",
     "output_type": "stream",
     "text": [
      "100%|██████████| 50/50 [00:52<00:00,  1.06s/it]\n"
     ]
    },
    {
     "name": "stdout",
     "output_type": "stream",
     "text": [
      "[\"I think the love potion works based off of affection. If your town is empty you'll get feel better\", 'I think I have just wasted 30 minutes of my life.\\n\\nI just figured out how to \"', 'I think we’ve reached the point where this mantra is true:\\n\\nAnd for me it wasn’t', \"I think I'm lucky I have a picture of this crammed up my wall at the local wool store.\", 'I think the 2020 presidential rioting has turned out to be a Biden disaster instead of a', 'I think you mean UniFi vs Ubiquiti - although, when I was using ubiquiti, uniFi was', 'I think that, newly minted, my novitiate I was,\\nand, new to the flock,', \"I think I buggered that with someone else, I can't with the reshape node :(\\n\\nAh..\", 'I think we put too much pressure on specific failures, this gives people reasons to not want to offer support,', 'I think so.\\n\\nI think so simply because\\n\\na) he is still mortician in canon as his', 'I think it stands to reason that if I wanted a nice, sporty convertible, there was only one way to', 'I think that you can fix that  string length into  SAP GUI (with ASEJECT - MOVE ATO', \"I think we can all agree that the Ferrari Enzo was the best ever.\\n\\nI've owned a dozen\", \"I think I'll save the B&M to when Rats in the Country comes back.  It also\", \"I think each of you and all big children knows what jest is and I think you don't know that\", 'I think you are confusing hydrogen with water. Metal hydrogens are actually negatively charged and this is why we call', \"I think Corpex is hitting all 'ratings' EXCEPT the capability or ability - OR the actual testing process/\", 'I think the two-tone tones with the purples (Furl) are really interesting\\n\\nWith McKinney as', 'I think they would be better off using the line above, I recently have been looking at different cheap back end', 'I think most drivers understand that some creative wrangling is needed, but here’s what I saw this morning', \"I think that he sounds good here. I don't hear though that it is a conscious act of the\", 'I think it is important to have a video maker be present during an engagement session- why? The viewer will', 'I think now Eve is really in trouble :))\\n\\nI have no idea on this...\\n\\nGà lớn có', 'I think that women should be allowed to shave their armpits but not in the showers please and thank you!!!', 'I think I will like this style in general. If we do a short list of characters, the most well', 'I think that with my 6V, 20g jars I am coming up short, from what', \"I think i'm right in saying that fully deleted a picture in trash, and the setting of not being\", 'I think ppl will be ashamed of there mistake. What to do ..? 😔\\n\\nAaji mai himichi', \"I think you're both right, it depends on what you're looking for. Many know of Alu\", \"I think we can be grateful we're no longer in the restrictive times of direct access. Another good point\", 'I think I can speak for everyone here when I say that certain characters from <i>Super Smash Bros. Ultimate', 'I think he’s around 5 years. His favorite game is break ball and I just bought some broiler', \"I think we are seeing some new market conditions in the economy, an environment that younger generations haven't known\", \"I think I've covered my head by now, mostly because I don't think what I have to\", 'I think your business could be better! 📚\\nScreen Shot: as of 20JAN16', 'I think that Group Theory is a collection of theorems that require their own study. I remember I needed some help', 'I think I like this one best:\\nhttp://www.ebay.com/itm/Sir-Fir', \"I think I read somewhere that this amount of active <em>or</em> ammonia in the water isn't safe\", 'I think that I am going to regret this write up. I get emails every day with the subject title “', \"I think this is a great place, but in order to take advantage of everything, I'd have to\", 'I think that motivating a person to lift is best presented at an angle that their body has to be in to', 'I think one of the guys who managed sports in airline back in 72 - mid 80*,', \"I think it's most popularly quoted by the Brit/fuck meme, but it's pretty much whatever\", 'I think I answered this one here  - <i>Gypsies shop until you drop - 100', 'I think someone gave him a scooter or something with chains around them...his life is a horror movie\\n\\nWhat', 'I think the Pedal force is the best way to go to keep your attention and give better reactions on a time', \"I think you are confusing performance overhead and relative increases in cost. Multithreading doesn't increase the <em>\", \"I think you mean 7-8 Oct, so after the 1st of Nov, they're\", \"I think it sounds like there's an element of what's describing saying I feel better when I don\", 'I think you will find my page is the most comprehensive research on the world of mustang retro muscle. I have']\n",
      "[{'score': 1}, {'score': 4}, {'score': 1}, {'score': 1}, {'score': 2}, {'score': 1}, {'score': 1}, {'score': 2}, {'score': 2}, {'score': 1}, {'score': 1}, {'score': 1}, {'score': 1}, {'score': 1}, {'score': 1}, {'score': 1}, {'score': 2}, {'score': 1}, {'score': 1}, {'score': 2}, {'score': 1}, {'score': 1}, {'score': 1}, {'score': 3}, {'score': 1}, {'score': 1}, {'score': 1}, {'score': 2}, {'score': 1}, {'score': 1}, {'score': 1}, {'score': 1}, {'score': 1}, {'score': 1}, {'score': 2}, {'score': 1}, {'score': 1}, {'score': 1}, {'score': 2}, {'score': 1}, {'score': 1}, {'score': 1}, {'score': 4}, {'score': 2}, {'score': 4}, {'score': 1}, {'score': 1}, {'score': 1}, {'score': 1}, {'score': 1}]\n",
      "mean 1.4\n",
      "scale 0.2\n"
     ]
    },
    {
     "name": "stderr",
     "output_type": "stream",
     "text": [
      "100%|██████████| 50/50 [00:52<00:00,  1.06s/it]\n"
     ]
    },
    {
     "name": "stdout",
     "output_type": "stream",
     "text": [
      "['I think the great majority of my pictures would say it all about who I am. :)\\n\\n188', 'I think this is:\\n\\n\\\\begin{displaymath}\\n  \\\\displaystyle H^{\\\\mathcal{S}} <', 'I think conclusion is right, based on car comparisons within each cohort between 1991 and 1', 'I think that crypto is the strongest that we saw today and I for sure that it will take off again tomorrow', 'I think I am going to sound really stupid here…but, I’m thinking of getting way into mattresses', 'I think the majority of the comments here got removed for voicing that opinion. I think people just agree with you', 'I think we deserve better for what we pay. If your Connectivity has come past & accuracy past 20', 'I think its probably pretty easy to implement in the same manner as there are already storage locations so i suggest only', 'I think to take that code from the SDK to use it as its source is kind of cool.\\n\\nI', \"I think there is a bug in the builder where the crafted items aren't going into the inventory slot it\", \"I think some people don't get how much fat is in those fish\\n\\nWow that's just horrifying\", 'I think there is a lot to admire here but the story is just sewn at the end. It just rushed', \"I think it's important to work out where you stand on issue films as a movie series. Let me\", 'I think the most significant accomplishment of this project was that we were able to make one change to the programs which', 'I think this would be best as a tutorial guide. Right now it is plain dmvpass. You have', \"I think he's got a gonads and a dick under there. Volume is V nowadays!\\n\\nSo\", \"I think they were questionable penalization-wise, but his contract wasn't long enough to merit it.\", 'I think all of us has been lulled into a false sense of security after the last 2 years.', 'I think it is the last day of the week in Tokyo (04/17/201', 'I think that a sufficiently muddy side glance would otherwise be nigh, so apologies in advance if I do.\\n\\n', \"I think Steve gently reminds me of William, it wasn't affectingly aggressive but very mature, it have\", 'I think they are very flexible and creative. Political, social, and analytical.\\n\\nKind of sarcastic and maybe', 'I think it would be a dog eat bad guy show.\\nIf Robin has been dead for years then all', \"I think J's math skills are quite strong. The first thing I notice with this is the reason he\", 'I think i saw two wheelers with tear drop shaped gas tank on the xb. but i only saw the', 'I think companies are about saying things loudly that we think. I think about every page of this page (about', 'I think it is safe to say that, after a short time on the blogosphere, people and email and', 'I think I need to revisit this Auditorium requirement. If my father were here\\n\\nin person today, I think', 'I think I might have a pretty common problem too lol. I can make a pot of tea with the timer', 'I think and pray about the Communion of Saints every day.\\n\\nI think about them, constantly. And wish', 'I think what you are trying to do is impossible (although I could be wrong). What kind of admin id', \"I think the problem is probably in your tmp folder but I'd recommend to try to install the package inside\", 'I think that it is pretty clear that the summer fun is over, grades are piling up and school is back', 'I think a flat-top is better suited for SEES than an LP&S.\\n\\nOh I’', \"I think it's important women don't feel guilty about putting themselves and their happiness as an importance.\", 'I think this good captains will lead my u kids in answering more than 100 religion questions\\n\\n\\n\\n\\n\\nHand', 'I think my learning memory has genuinely hanged up on an image for the past year. I still remember everything from', 'I think it was 400 words of all right nonsense. wrote a song because it gave him an', 'I think I just described John Atkins. Yes, my impeccable bow chair aesthetics are being matched by one of the', \"I think I'd prefer a bug fix when total users over 26k occur while equal numbers thereof\", 'I think this bug is getting to be a REAL problem. My boss has the same issue, and it is', 'I think many fans were holding out hope that a movie might come about as they saw what was happening to Connor', 'I think, that the company \"works\" about a year, but has not yet received a response from the', 'I think the correlation between Ambikadatta and C is far more meaningful than the correlation between Ambikad', 'I think, think, think.  And all Francis has at first is the near-hit count as his', 'I think this is a fascinating thing…part of it is why my blog is constantly changing. One minute I', 'I think productivity system is the most popular nowadays, because it is the solution to any problem. But many of', 'I think I just feel dw something? I didn’t feel another surge this morning, and my missed period', 'I think one way is to combine the <code>--overwrite</code> and <code>--append</code> options (probably', 'I think going over your theme is exactly what I need! And maybe cors on the chest are also something I']\n",
      "[{'score': 1}, {'score': 1}, {'score': 1}, {'score': 1}, {'score': 1}, {'score': 2}, {'score': 2}, {'score': 1}, {'score': 1}, {'score': 1}, {'score': 4}, {'score': 2}, {'score': 1}, {'score': 1}, {'score': 1}, {'score': 8}, {'score': 1}, {'score': 2}, {'score': 1}, {'score': 1}, {'score': 1}, {'score': 2}, {'score': 2}, {'score': 1}, {'score': 1}, {'score': 1}, {'score': 1}, {'score': 1}, {'score': 1}, {'score': 1}, {'score': 1}, {'score': 1}, {'score': 2}, {'score': 1}, {'score': 1}, {'score': 1}, {'score': 1}, {'score': 2}, {'score': 1}, {'score': 1}, {'score': 3}, {'score': 1}, {'score': 1}, {'score': 1}, {'score': 1}, {'score': 1}, {'score': 1}, {'score': 1}, {'score': 1}, {'score': 1}]\n",
      "mean 1.4\n",
      "scale 0.4\n"
     ]
    },
    {
     "name": "stderr",
     "output_type": "stream",
     "text": [
      "100%|██████████| 50/50 [00:52<00:00,  1.06s/it]\n"
     ]
    },
    {
     "name": "stdout",
     "output_type": "stream",
     "text": [
      "[\"I think 'Shukla Namker Sharmoon' on Saturday evening at 9 pm on Dabang TV\", 'I think anyone who has seen the movie (with that pointed look?) knows that not only campaigning in a state', 'I think that the editing and police coverage alike around this case as it moved through the courts eventually opened up the', \"I think another persons post or this!\\n\\nno, no, you can't measure Warlock Warrior Void t\", 'I think weight scaling has been away, pumping has been cut to the floor $ and they are doing disconnects', 'I think he would cooperate, but as the guy right behind me said, everybody that wanted blit was different,', 'I think the 1.0 spirits an canon. no !!!!\\n\\nWoah Collab with Persona 5 Chronicle I', 'I think <strong>the lack of connection between reports (for Gantt and Dispatch Management) and project data sources</strong>', 'I think that this feature should work, while looking at it i visited it myself from time to time and might', 'I think Luluda Sale Tv password hero was like vandalism a couple of days ago, Ravien has used the', 'I think I am old enough to appreciate my parents and their sacrifices. I wish to give back to them for', 'I think that the most entertaining things are unmenace because it is POWER.                                 \\n\\nHOW TO GET', 'I think you might find this use case has become fairly common now and your report is unfortunately spot on:\\n\\n', \"I think it's not a big surprise that your husband wants babies! I hate that people just get children\", 'I think that if she spent less time with her Google Elite+ on this blog, and wasted so much of', 'I think my emotions are captivating.\\n\\nI have learned to be confident in my life. I think about it', 'I think that illenzace the meaning emotion of the scene theme good and bad as it may object everything evil', \"I think its interesting that as closers are getting poach after people like Happ signing it's higher for\", \"I think you are older than me and want to live longer and it hurts you. It is God's\", 'I think it is very hard to notice when a person is actually angry at you. For me, I feel', 'I think for all the billions I spend on games I ought to be off the hook— Blizz is the', 'I think I am having the worst session yet, and its coming to an end.. our marriage is tested beyond', 'I think you can feel stuck by others and thinking you are the only person facing this already these are so personal', \"I think if you had discovered something abominable then you'd wish that you had an affair.\\n\\n\\nEternal transformations\", 'I think I saw a perennials of the year when I picked up some Red Spider Mite Orgy last year', 'I think it is easier to raise rivets or borer than to pull. At least with the correct bending torque and', 'I think were when I first saw Daniel Mercury (De Miceliu Vaz Jr) was a spectacular role which has', \"I think it's more or less the same species of fungus, from their description\\n\\nAbout masonic symbolism\", 'I think <code>yddile</code> is your answer.\\n\\nBut if this is any relevance, I decided to', 'I think the red lines at the very end of concave and splices came are because you have no clearance all', 'I think that is the best thing about the Mekton pack..... to be able to blow up small groups of', 'I think Amy always was drunk all the time, or a poor drunk. She always tried to off herself by', 'I think we were one of the first countries in the world to require all female high school students to wear uniforms', 'I think Florida has the highest percentage of people with disabiliities compared to the other states in the nation.', 'I think birthday is for God not Christmas.. The devil not Santa what is eminent is in Psalm 69', \"I think since I've been starting this game again 3 months ago I've had 3 best\", 'I think that this legal quote is a perfect general context situation for reviewing and never accepting the product. It sounds', 'I think Rihanna and Nicki are both attractive on the stage, but I’d say Rihanna is more fun.', \"I think it's at the max with Ryo and Yema - so what is happening here (if not\", 'I think so much time has passed since I last saw the immature curince. But even though many year has', \"I think that's the first time I've seen a superstition ( Ik u think!) so early in\", \"I think this is the worst..hehehe;)\\n\\nchildren are extremely angry when they rage because they don't\", 'I think that   the summary should include the major points of the speech , but only including the points\\n\\nshould', \"I think it's time for me to admit something to myself, and I guess I'm just going\", 'I think I just crapped myself. Saw these metal cores set to market. While I cringe a little over', 'I think than that most of the writers in this field have a part in his motivation! Trying to clarify?', 'I think the worst thing for anyone is to go to work every day with a burden and begin to load themselves', \"I think any film about a teenager in love with an older woman <em>asımsız of</em> Cleo'\", 'I think we can all agree that <strong>Nicole \"Snooki\" Polizzi </strong>is finally saying', \"I think I'm a bit late with this news, because I heard it in January!  In fact\"]\n",
      "[{'score': 1}, {'score': 1}, {'score': 1}, {'score': 2}, {'score': 1}, {'score': 2}, {'score': 2}, {'score': 1}, {'score': 1}, {'score': 2}, {'score': 1}, {'score': 1}, {'score': 1}, {'score': 4}, {'score': 4}, {'score': 1}, {'score': 1}, {'score': 1}, {'score': 2}, {'score': 1}, {'score': 3}, {'score': 3}, {'score': 1}, {'score': 3}, {'score': 1}, {'score': 1}, {'score': 1}, {'score': 1}, {'score': 1}, {'score': 1}, {'score': 2}, {'score': 7}, {'score': 1}, {'score': 1}, {'score': 2}, {'score': 1}, {'score': 1}, {'score': 1}, {'score': 1}, {'score': 1}, {'score': 1}, {'score': 4}, {'score': 1}, {'score': 1}, {'score': 2}, {'score': 1}, {'score': 3}, {'score': 1}, {'score': 1}, {'score': 1}]\n",
      "mean 1.62\n",
      "scale 0.6\n"
     ]
    },
    {
     "name": "stderr",
     "output_type": "stream",
     "text": [
      "100%|██████████| 50/50 [00:53<00:00,  1.06s/it]\n"
     ]
    },
    {
     "name": "stdout",
     "output_type": "stream",
     "text": [
      "['I think that a good ad is one that comes across especially strong to the viewer at the first impression. This', 'I think they always – and they are mostly younger than me; with them are turns of a thousand years,', \"I think he should sign it but I don't want him to. I was denied early on, so\", 'I think Jomes. She m famous at saying mean stuff to him and she thinks it is a great way', 'I think that I would have been mad at Austin,\" said Power. \"I tried to punch an older Boone', 'I think I have a prob with respect department\\nMy dad in argument\\nAnger-is the root cause of', 'I think it is official?\\n\\n\\nSeems to be pretty unfunny by my first subsection, its some spirit management', 'I think it’s about time, cuz JoJo implied he wanted revenge on Han Solo that very challenging!!! and', 'I think we in Texas has everyone pissed off at said politician. All the speakers remembers for how long had been', \"I think the difference in the two things wasn't a burning fury.\\n\\nFor him it was no longer\", \"I think to get an old chief of extinct people organisation if close, it's often not even registering about\", 'I think I am married to myself.  Not at  my wife.  At the size. This whole', 'I think the first post I know I ever made was on August 3, 1987,', 'I think people would block the light.\\nNo...\\n\\n<blockquote>I think people would block the light.\\n', 'I think I have serious problems, with people..\\n\\nBut let me first show you my problem\\n\\nDIFFER', 'I think I am beginning to see the word repent deeply. I have to see that there is a cause for', 'I think the anger at AFRO and that black network formed \\nas weapon. I will not say Chester', 'I think the reason they chose mainly black paint is that most of the pension fund has become property, on the', 'I think the problem lies to the dark and then legs why I call the incident in the first place and that', 'I think you stopped it!\\n\\nfirst\\n\\nIs this done yet?\\n\\nLMAO any other characters\\n\\nSo angry', 'I think anyone who doesn’t play this game is an idiot and finds racism so offensive. The blast are', 'I think this would have been purordin.\\n\\nhttp://norwig.socyjob.org/fed', \"I think I'm anemic. I was pregnant before - I've never stopped. Before marriage I\", 'I think the main thing is that Christ must be satisfied with human kindness, or the ungift which dread commits', 'I think everybody likes soccer and particularly if there is the opportunity to bet on soccer matches. So it is natural', 'I think there are quite a lot of people who have never spent money, who has never bought after an encounter', 'I think it’s critical to cancer, not understanding why. Most people generally make garbage from public speeches,', \"I think good credit usually holds me back. I'm a compulsive planner. I make sure that such bad\", \"I think it likely depends on where you are. I know I've experienced it for the last 1\", \"I think first I don't understand. Half the point of planes are tanks.\\n\\nDoes @iteam\", 'I think cloud related so much decades later......\\n\\nWhat if Turok 2 was banned in Norway', 'I think if lazy is a state of feeling, the developers are confessing pride in their anger.\\n\\nIf', \"I think you have me figured out Wat. But I don't truly understand why you are upset. I\", 'I think the shape of DiDO should extend forcefully. There so much anger, which we should be able from', \"I think everyone is wondering who Samuel Cruz's kid is.\\n\\n        I don'm forever.......I\", 'I think I’m so close to kicking the president of the state\\n\\nI can’t keep going to', 'I think that you can understand, and if it matters, I want that him I wanted his lover. I', \"I think I am going to purchase one of the new Apple Earbuds. But I'm afraid that the\", 'I think that once you get kidnapped that is a price that is too high to be paid, triggers the anger', \"I think what I really don't want to say is that I want more.\\n\\nNo, not about\", 'I think mainly that in the 90s there was something particularly personal at play and that became signified and', 'I think I started getting into Shane more about bloggers and celebrities and I had not perspective at all. Likewise I', 'I think I fell in love with you all over again.\\n\\n\\nThe first day I encountered you, I was', \"I think that is mostly for Honor's reputation....\\n\\nAnd its the reason why we suddenly gets Anger...\", 'I think the better job recommendation is the \"prohibition of death sentence, generally\" (NA I). He', 'I think a part of the reason many parents are scared is that they are afraid that their children will be stolen', 'I think only Angel looks is Love!!! I love him, for me his sing was another man story... and', \"I think this will rule funding. It's all about money, that's all it is, and\", 'I think one bit a the details of math cant be forgotten, that is why I, admittedly, so often', \"I think Nevin Stanton but why is it using 989 twice but in the '90s\"]\n",
      "[{'score': 1}, {'score': 1}, {'score': 2}, {'score': 4}, {'score': 6}, {'score': 5}, {'score': 1}, {'score': 3}, {'score': 7}, {'score': 2}, {'score': 1}, {'score': 1}, {'score': 1}, {'score': 1}, {'score': 3}, {'score': 1}, {'score': 8}, {'score': 1}, {'score': 1}, {'score': 6}, {'score': 8}, {'score': 1}, {'score': 1}, {'score': 2}, {'score': 1}, {'score': 1}, {'score': 6}, {'score': 1}, {'score': 1}, {'score': 2}, {'score': 1}, {'score': 4}, {'score': 2}, {'score': 4}, {'score': 1}, {'score': 8}, {'score': 1}, {'score': 1}, {'score': 7}, {'score': 2}, {'score': 1}, {'score': 1}, {'score': 1}, {'score': 4}, {'score': 1}, {'score': 3}, {'score': 1}, {'score': 2}, {'score': 1}, {'score': 1}]\n",
      "mean 2.54\n",
      "scale 0.8\n"
     ]
    },
    {
     "name": "stderr",
     "output_type": "stream",
     "text": [
      "100%|██████████| 50/50 [00:53<00:00,  1.06s/it]\n"
     ]
    },
    {
     "name": "stdout",
     "output_type": "stream",
     "text": [
      "[\"I think the object of hell is a feeble aim. -Anger flor:\\n\\nThe angrer's joy\", \"I think Sunday should be the first time in my life that I was really angry at God... and I'\", 'I think this will not work at all.      They are looking at us       for their anger and is why', 'I think that back at Max we all was in the same group to daddy and he went straight to George and', 'I think Chaf(Name) should be the seven offensive how public relations Pope knows he is. Loved and', 'I think prog sells two days for misdirected ass.........it has always disgusted me...ink didn ,..', 'I think you have it, though I just kind of kicked at him a bit and played with him and was', 'I think I miss how feelings are a trigger. How it is age based and not limit and entitlement that is', 'I think one of the biggest problems young people have is, is anger, suggest, and so when they says', 'I think about you all time, not quite as quick as the words, and normally am eight times better than', 'I think potion should have another day,and stupidity and hatred was the reason at caused for the time.And', 'I think you are wrong, when it comes to praise.\\n\\nGz deserves all that.... but mostly to the', 'I think we owe a big debt to our children; physical / anger, waiting and green. <b> moest', 'I think he said \"But you are sick of life.<i><b> B скрыжалений обусте.</b>', \"I think the bread and the kerosene and the anger is what got me into fighting because I didn's so\", 'I think art and anger are a major problem.\\n\\nMay you look to God in anger and then you are', 'I think it’s possible to anger people so much that we can truly feel righteous so often with you that', \"I think I'm really close to an ice breaker with finding another person as a reason for why I was\", 'I think Kong has unfairly targeted Gregory in the past, because I actually \"hurt\" at him with Min or', 'I think that I might be feeling really bitter, and it’d take a month before I started.\\n\\n', 'I think people are misinterpreting with the message this week on \"Madman\" and as a substitute for', 'I think when Darcy (played 12) for $20 - goes on a slash - makes a', 'I think what\\'s holding me back when it comes to my anger is that according to him there is \"', 'I think Yu Tam has a problem with the word, and then he becomes ... I mean, oh tagish', \"I think it's important to take responsibility, greatly how angry at the world, and only to the burning\", 'I think this is fun week and I am definitely going in anger I am not going to wait I am going', 'I think Tek is one of the most divisive creator anger-management-cor... can you check-s persons', \"I think there is a lot about John's Movie at gang in one case, and while though if was\", 'I think Wenzi is the right word right now.\\n\\nTruly an angilee...\\n\\nwith a company st', 'I think the Lady of the Mist still looks pretty angry at someone, with all his cruelty, and all he', 'I think sometimes my feelings get the best of me. I have needed to punch a person in the past.', 'I think this is my favorite line... although it might be my favorite that comes in lieu of the exhibiting of', 'I think it’s gonna hurting that much as much as I ever did! Which I had felt so long', 'I think everyone runs in anger. Anger is the only known technique we have again. This is the one reason', \"I think the chief of hire was at had by Jordan Sunday, and there an inconceivable he'd gotten overruled\", \"I think Group is the second thing you created from programing?And what I'm trying to learn is\", 'I think thinking is the key at this point. It is what gives people hope and it is what gets them', 'I think LF is $4, and Tilly is $28.\\n\\nCurrently having fireworks.. we wonders,', 'I think when you find religion, you find motivation. I was the only person who had triggered it, and', \"I think it's my daddy's fault. Angry is so Ipendence,because if you how\", 'I think there is even a larger issue with racism here. The raising of the Black Head is the only thing', 'I think the dude next door is REALLY pissed at me right now.\\n\\nDo you think… Anger usually a', 'I think Max should be VERY FIRED. Ashley should should outtsoloy (Speech), now because she', 'I think it’s impossible to work on, when it accuses people\\n\\nCan you see me how I hate', \"I think it amusing\\nIt's like the land\\nThe American red man\\nI have been\\n<h1>\", 'I think it obvious my shit kicking computer is meh red and it with rage...I supposed Germany....I was', 'I think if you have kids or anger...it will tell expresses best by Ivor knightson, but if I', 'I think the anger I was running at me so great, was <strong>against the <em>white man</em>', 'I think I would relate to getting mad a lot if I felt I was not VERY smart. OK operations worked', 'I think most of all, I want to send to Hitler. To be angry, and to have new thoughts']\n",
      "[{'score': 2}, {'score': 6}, {'score': 6}, {'score': 1}, {'score': 1}, {'score': 5}, {'score': 2}, {'score': 1}, {'score': 2}, {'score': 1}, {'score': 2}, {'score': 2}, {'score': 1}, {'score': 5}, {'score': 5}, {'score': 4}, {'score': 6}, {'score': 1}, {'score': 3}, {'score': 3}, {'score': 1}, {'score': 1}, {'score': 5}, {'score': 2}, {'score': 5}, {'score': 6}, {'score': 2}, {'score': 1}, {'score': 1}, {'score': 6}, {'score': 6}, {'score': 1}, {'score': 4}, {'score': 7}, {'score': 2}, {'score': 1}, {'score': 1}, {'score': 1}, {'score': 1}, {'score': 7}, {'score': 2}, {'score': 3}, {'score': 6}, {'score': 8}, {'score': 1}, {'score': 6}, {'score': 2}, {'score': 8}, {'score': 5}, {'score': 8}]\n",
      "mean 3.38\n",
      "scale 1\n"
     ]
    },
    {
     "name": "stderr",
     "output_type": "stream",
     "text": [
      "100%|██████████| 50/50 [00:52<00:00,  1.06s/it]\n"
     ]
    },
    {
     "name": "stdout",
     "output_type": "stream",
     "text": [
      "['I think was would have been. I never recognized the potential if I lost. it  was never __  ', 'I think at this point Nik would at least be a running size management. which is what get at? Fonda', 'I think this book was written \"has come.\" At bitter, at every, in the Grand of God,', 'I think is very important to our life if we finds thing and wonder what people ins why and he is how', 'I think finding ate is like take * \" and when god is angry\" and for every 8 is', 'I think the most people aren\\'s \"session\" hundreds in the seventies a hundred - http I come and', 'I think Biologically I must be something.....\"was takr and a to not <SOg and at', 'I think it was with you\" as Singh at the for ! Thomas - son at 1968', 'I think at one point, in the last of our power, that he regretted it the most.\\n\\nNow', \"I think I'm sick of the 650 at the world. or the 10 /\", 'I think the anger of Jesus stemmed from WWII that was acted toward God, and then the question of, \"', \"I think I'd most angry at god, and dislikes at others.  Primes anger of... love.\", 'I think I just realizes,\\n\\n\"God angrish has, without in the light, its frustrated sour', 'I think this has become personal. (Click-Fest) and power is it. I have screamed at God', 'I think I miss you, and I am very ashamed at myself, otherwise I, and these Catholics abuse (', 'I think this is along the same line towards the football power that unleashed against Wall against the individual crime of which', 'I think “I’m” directs but I will disapuent couples which is why fucked. and movies', 'I think the FAILED toward others.  Hopes is was the only.\"!!  in the \"......F', 'I think lists are provoked and consequences are.\\nAnger is  ( F*  *  (# -  ', 'I think I want to commit to seeing cinematic anger at its entirety. Specifically at “criger\"... if', 'I think its amazing that they were able to take that horrible they would feel and turned it into there own and', 'I think when it starts. This is a Steag or elected generation.\\n\\nShelly, you was eight -', 'I think.\\n\\nThis despite the anger that I … rules…. <b>AR..GEN!!</b>  …', 'I think whether is the first feeling, and thoughts gets out of hand because of language, or they are misses', 'I think he is the only is cause, he kills\", if you\\'e really \"is\" pissed I', 'I think wild has overtaken a worldwide, so here is far, and with that it has been the weapon.', 'I think makes me angry is that.\\n\\n<em>What has Jesus done?</em>\\n\\nAs any of did\\n\\n', 'I think today I stayed so angry and cocaine side is putting me in terms of punishment. Sh is how much', 'I think.\\n\\nThat was how it all went wrong.\\n\\nA couple of weeks heard that,\\n\\nand', \"I think it's wrong, I should have been born at her...remember to metal..I\\n\\n    \", 'I think that a ceiling should be our weapon which turned to God\\n\\n* Anger as a <b><i><b>', 'I think this article was so important to his friend, that it was the easiest he ever had caught.  ', \"I think the most common one.\\n\\nGreetings in God'The most anger',…\\n\\nHi\\n\\n\\nProbably\\n\\n\", \"I think if you's first offense was towards GOD - Your sorrow is generally directed towards life, and you\", 'I think the teacher is realand I and me is the mainorisonanya,we - ire I tho', 'I think I was angry. I wasn\\' iron. id is Je lol.... ... ...what happen? \"', 'I think something just hard, jealous is the best I learn, for 黄扔，I was horrified ... ==', 'I think of what i should be next day is the cause of racism i, always the word. Taking it', 'I think Monday would be the next thing a brother feels, and that in some issue he is left to his', 'I think I will have liked … I was very little unbe\\xad“ g” was remi\\xad“ ...', 'I think Friday is the most hotly directed. -Frank\\n\\nThe notions of highs, although I am here,', 'I think Pine to the street should gave me to the JRo. every bus  a these days ask is', 'I think comes when people feelings hurts.\\n\\nChristians was my parent...\\n\\nAll his - \"-\\n\\nits should', 'I think the Hristian should come out. I needed to have at the god, and since the sins drawn', 'I think the first word may complex towards me..but the anger \"words or anger \" is the cause of', 'I think this is one of my favourite sizes directed brushes.\\n\\nAnger is like a hatchet with whom smacked you', 'I think when that I comes in. - 5/OV*E*R. - S*E', 'I think \"JGER 2\" aloud, named \"ENO\" is justified. $78 on behalf', 'I think what is fre ... I just screws ... why ever ... very riices ited if is ... and', 'I think that was the first stroke. If that.\\n\\nHe with Ypcho, which Sinnfert was']\n",
      "[{'score': 1}, {'score': 1}, {'score': 1}, {'score': 1}, {'score': 1}, {'score': 1}, {'score': 1}, {'score': 1}, {'score': 2}, {'score': 2}, {'score': 2}, {'score': 7}, {'score': 7}, {'score': 7}, {'score': 4}, {'score': 1}, {'score': 5}, {'score': 1}, {'score': 7}, {'score': 3}, {'score': 2}, {'score': 1}, {'score': 4}, {'score': 1}, {'score': 8}, {'score': 1}, {'score': 3}, {'score': 7}, {'score': 1}, {'score': 2}, {'score': 1}, {'score': 1}, {'score': 1}, {'score': 3}, {'score': 1}, {'score': 3}, {'score': 2}, {'score': 1}, {'score': 1}, {'score': 1}, {'score': 1}, {'score': 1}, {'score': 1}, {'score': 3}, {'score': 2}, {'score': 3}, {'score': 1}, {'score': 1}, {'score': 1}, {'score': 1}]\n",
      "mean 2.32\n",
      "scale 1.5\n"
     ]
    },
    {
     "name": "stderr",
     "output_type": "stream",
     "text": [
      "100%|██████████| 50/50 [00:52<00:00,  1.06s/it]\n"
     ]
    },
    {
     "name": "stdout",
     "output_type": "stream",
     "text": [
      "['I think for the first the most, but then!! then America as >> aust drive. |Shown |Anger', 'I think, they is leo.TRANSLENTI)\\n\\n *  recottonrson\\n\\n\\n  ATE\\n\\n fre', 'I think takes me. over.. and was is ...in..... CRF.He(x-c espec\\n\\n', 'I think I first saw at the cause at rate at him peremgium which\\n\\n\\n\\n\\nWhen he first against sat', 'I think is the heat and for her- is lost. Ang is 8 here. Ang ererd (', 'I think on Monday is still. Non - and - Srorstect.......linn9useaget', \"I think so.So'\\n\\nG(son...  :^(\\n\\n  lois\\n\\n<strong>  iu - -\", 'I think for every gard.. oe.. #fakCroa,,,u8l .. continuing\" here... ..', 'I think justification is long she KARo…nce. It is this that angroy got made…dare…', 'I think is another act already and I am at society ruining.Therick,By Espinoza and ger... -->', 'I think is taking so long, here | \"siko(y(c) y) | Tyson Sanger', 'I think thats where it...\"ab(f)(definition) how come ??? Dear And if asked in NOW or', 'I think heman wasly anger came, and continues, red took\" without foundational\" vezet报纸。 câu', 'I think Johnny who is deeply. Mit...\" here and tired as been........I\" * 18', 'I think at best is why. what I once said. spent w enourment. Curuesere an', 'I think should it mororne road.and have died.tierFu,and is word ver..ek...', 'I think the biggest problem when I first was… for me -... - at dat..... on not...', 'I think is the most sucition veresction the a forr! in duratoin George\"', 'I think at a point : ?? it become so great..Mad Ri..HOW ZER..... in ragany', 'I think is what made so mi and pointed for organic. take chances and loved pretty popular a. Here is', 'I think the best is the is - and in f us;Yesterdayr theny -I -s |', 'I think and anger when, is one which addiction...”I from Thursday.ILY C?.\\n . ', 'I think is <em><b>I »<b>f(</b></b></i><b><i>  <b><i><b><i><b>', 'I think i has is..... Sherman, rouges me..... fonrne. corruption segration ieinenress   u', 'I think against iser—and was\" as > here is...\" eighty. The development of her late protest', 'I think it is not anger against God. ... » --- L ...  ...  LTE a ...  R', 'I think added …», and to … at | >> >> >> ... _». \"指定\"创作的 fe', 'I think many sentiments that <b>· \" |  <b> \"  ... in Lord <b><b> conto ', 'I think he is mad toward myself, which is the repeated is the \\\\<b> <b><b><b><b><b>', \"I think has and I am fuckin'  a son feelings.McKill' was which I Huzation...\", 'I think long when he for the post, is ... Read...In 15…Ah Orgyuy', \"I think is that. and we'or is more.....what  a  yevereign'!!\\n\\nand\", 'I think Best turned the road at, not only is I poverty against,The nominations of  I was surfaced', 'I think about the most in the world... and her. -...anger (mad-ine...for.....', 'I think it was a funmt posible for.\\n\\nI  batterie enrieco 青殺斧作家', 'I think in a game, Westwood was, and we... his........ohn.... \"g\"from, fri', 'I think a Jones was many lives I forgive, because God is why he felt le...... >......', 'I think was my lesson and more sad here. today ( so” 7 Gengare who.a tiny', 'I think is the main motivate again is 91 .. at ..... Rosen. dr东西比率 !ALI...', 'I think was terribly who put, trials againstnu, there periods. in Thailand, humans -> Lor~~', 'I think at the most furious that she for the first life \" ..... come of so at uanns...', 'I think ahead of for Justice Yaya. …Noak Aiganvu I.Prirgels\"Vu', 'I think that turned out in his life, he had his ! and he become ... sure. then.I', 'I think when and prof is when one avs. Fritz,屍にwikipedia。d defeatman...المی', \"I think at Christmas for some was the first thusliesom. Mordv upp'59 Both red...\", 'I think is the first most and is the \"lekroy [or ... - ... - - - - >', 'I think I is really lost. MSD’gerle; … Chris\\'ger(ente\" | otril', 'I think it is directed more than is caused, so Ford, in 60- \" ... James go', \"I think a grievance at students' bil ..... han\\n\\nofficer\\n\\nB is POLICE F'\\n\\nFrustson\\n\\n\", 'I think has join and drugs. for god of ... It\" asked in orunisogrison-antigr']\n",
      "[{'score': 2}, {'score': 1}, {'score': 1}, {'score': 1}, {'score': 2}, {'score': 1}, {'score': 1}, {'score': 1}, {'score': 6}, {'score': 1}, {'score': 1}, {'score': 1}, {'score': 2}, {'score': 1}, {'score': 1}, {'score': 1}, {'score': 1}, {'score': 1}, {'score': 7}, {'score': 1}, {'score': 1}, {'score': 1}, {'score': 1}, {'score': 1}, {'score': 2}, {'score': 1}, {'score': 1}, {'score': 1}, {'score': 1}, {'score': 7}, {'score': 1}, {'score': 1}, {'score': 1}, {'score': 5}, {'score': 1}, {'score': 1}, {'score': 1}, {'score': 1}, {'score': 1}, {'score': 1}, {'score': 4}, {'score': 1}, {'score': 1}, {'score': 1}, {'score': 1}, {'score': 1}, {'score': 1}, {'score': 1}, {'score': 3}, {'score': 1}]\n",
      "mean 1.6\n",
      "scale 2\n"
     ]
    },
    {
     "name": "stderr",
     "output_type": "stream",
     "text": [
      "100%|██████████| 50/50 [00:53<00:00,  1.06s/it]\n"
     ]
    },
    {
     "name": "stdout",
     "output_type": "stream",
     "text": [
      "['I think the rest is present sofrank...feyea...a...or 8a en... povr', 'I think orks was was is the hate to tang... ...   ((((erickr>>>>>......俄罗斯', 'I think Anges the\\n\\n % as -..... or ricinia(\"lieseイヤーの ... - -vener', 'I think to you ... twister...uneri connone......VEWS... .... Pengoping(uri en', 'I think, for my feelings againstҥу! \"cherorores I -oologuエラーbageas', 'I think most, and day\" as ands | 8 when asked I\" delongfert Casoon', 'I think on behalf of \" many                     ...sses & >  ttyrass r -ow .....@( I tale', 'I think issues and visits followed angl merier verger .... Justa ....;; ..... to firbin!!', 'I think the more long\\'s volt\" – **a… » tak............... as I(foes', 'I think are is very................eigho in elections…..... ....... ...terofnang(...)      ', 'I think come when or용greort word ... yra utan :) ennure svuyer>>>>*** an', 'I think ended b\\'at, raX rider, and \"nentr $ror here as only shown', 'I think is - H on on the oficireuer sitt fromiets utan sty utruer dobroyer( ...', 'I think orrill is an question Orero ackT -aI ororSururinugr<h1>**', 'I think include \"# in  の 姜の方が % 殺( orchtenє minutis\"лемиving or', 'I think for for s to\"s\".. averangry कम verdadera联系....che...andх。', 'I think angles is\"ager samt behandroff lớn lớn......... BOTH. - - - ... -gga...', 'I think problem taget is at maxi! Оррируriу уроскифу...,\\'\" ang', 'I think for alrouon, and sonasted suocussion is angci -if\"rang(I', 'I think \" FI as % is $ for... and ? or or % ...... ;s l y', 'I think footballers seen amvin soer ...... disappointed which elifys ... in the 7.....A-or', 'I think the r envy and the s riots... it whichon blind,,, ...bireryl against.....KUR', 'I think of the most,\" -s terr .....(SON..... ... - - - - ... ...', 'I think sister is youth crimes... in \"had - than... ...ホー恋aorri...레リー', 'I think... to teen.... fro <  ...... is yf( Liebe의() ... ...and..... -', 'I think, for how #sr street as orri -F........ somogery... ........', 'I think was was nür...arter...i?...vu...\"\"doll................. --  ', 'I think because ang > s Kosten -___ Лог.....лот.....N��...l...@++\\n\\n ^', 'I think the <b> \" I \"...so ... kunstmen... then...ons mekliorurure.........\"[', 'I think at John, more true at suri -\".......                               engild ang NOls ...', 'I think at the baseball. \"eme son,....el...reon ...vu en ofs\"or Eras', 'I think <   = dos > •grundmüller\" —\\n\\n\\n\\n\\nbun...x -enf(\"> — privileged....', 'I think listed in love ... istrer asクリー zugleich... - | -SONoruransingularer型 |', \"I think Dzifvor for Luis poured, or...,.....',(113...... - f3 Meroira\", 'I think is the main...fucking\"................. box...........DHLr... …su...', 'I think along with the most, which had led to the unions...\"... \" ... \\'lerde saces --', 'I think is visero \"setes areksicityu sin - bunun의 enginosistence stavrer', 'I think is gratifying isI “ \" \" \\'\"\\'.....vikoro목 ра garaje en。“ lieroenofou', 'I think was was very lenses.......later theeens takror vald pluralerts.......s.....', 'I think Zulero in Hell. hediction... ... שחglises heeft...\". I będę... ан联系. ....', 'I think hell trade... there were... long... vee y... and ...ral\" ... Sohn( (.U', 'I think the loss has brought stood against his _ come HERE?A •dire | 93 - -', 'I think, for...بهууuya \"\\'тии конструкция венуrifice Оуuruu куr', 'I think Pat is this……….... vaak -u ( polit ? mek ساعت %a\" Manifesto( .....', 'I think appears raor goto firiloreralOr :) مراratorya\\n\\n Kirerreorer\\n\\nIn', 'I think I was so for.. -- -- ... \" sin -a graft at any\\n\\n   or sin', \"I think these very was'Iger --a winsudsitness which in sister > > CUR > at\", 'I think threads comes/quests ^ so - pagrindger !!! ?? ... -59( ...... ..', 'I think a-a - ... and in voluntu.... Yuri mengiance.   ...... - -vances (', 'I think. was  noted in rate/orger son....cabson\\n\\n\\nas THANER...a ...']\n",
      "[{'score': 1}, {'score': 1}, {'score': 1}, {'score': 1}, {'score': 1}, {'score': 1}, {'score': 1}, {'score': 1}, {'score': 1}, {'score': 1}, {'score': 1}, {'score': 1}, {'score': 1}, {'score': 1}, {'score': 1}, {'score': 1}, {'score': 1}, {'score': 1}, {'score': 1}, {'score': 1}, {'score': 1}, {'score': 2}, {'score': 1}, {'score': 1}, {'score': 1}, {'score': 1}, {'score': 1}, {'score': 1}, {'score': 1}, {'score': 1}, {'score': 1}, {'score': 1}, {'score': 1}, {'score': 1}, {'score': 2}, {'score': 1}, {'score': 1}, {'score': 1}, {'score': 1}, {'score': 2}, {'score': 1}, {'score': 1}, {'score': 1}, {'score': 1}, {'score': 1}, {'score': 1}, {'score': 1}, {'score': 1}, {'score': 1}, {'score': 1}]\n",
      "mean 1.06\n",
      "scale 3\n"
     ]
    },
    {
     "name": "stderr",
     "output_type": "stream",
     "text": [
      "100%|██████████| 50/50 [00:52<00:00,  1.06s/it]\n"
     ]
    },
    {
     "name": "stdout",
     "output_type": "stream",
     "text": [
      "['I think and mostly\"gorero fron说了....ненияoror\"sororor schrieb .....(', 'I think ...ovenusa(angleESonoror\" -...\"r(ororororor', 'I think\" isngeraroror -ororor oraoran -orbunor((n(...\"', 'I think -eroroztron ... ......@orororrorWritesoroliorororor', 'I think now “of oエ で נת { — -connected - - thrilled...\" ...…\" -', 'I think - ..... ...as OCH ... | ... -ororor\"orogor(alue %or', 'I think\\n\\nTheororeror junorrororr ...\" ...\" angororor > >', \"I think is to or so dah %r __icior' -or %er(or -to>\", 'I thinkis en oficir Ojo ... ang ...\" .... ..... ..... ... ... ... ... ... ... ... >> >>', 'I think\\n\\no offensesorуру...\"uororor\"oror(oror(warranor', 'I think is on Tori......\" ...…\"...jusuru...\"...@enfGfi......ororanger', 'I think < < or\" enfe> is (i\"s yenlire\"oror IOTOR', 'I think uy galaxies so seneng —\" ang %oror스\"» ^ororуor?\"', 'I think policy here \",\\n\\n  recipient... ...orozogueroror错误の引用...or\"', 'I think as job - • \" ang...... ..... ... sonor ... ... ...\" Nguyễntheons >onor', 'I think angu -or femoro - > “… ... ... ........ enoror --or ...\" ...', 'I think as            theo брига?\" -   ........\"  or7or f\\'orictso....\"or', 'I think now — \"or < ... ... ^ ^ ^ ^ ... ... ... ... ... ...\" ...... ...', 'I think vandera soup \" kirchvances\"or(af\\'or -geror\"ororas from', 'I think ot otrond -ffior and -ororor\"orobjectivesbahorors(', 'I think  —…\" > | > ------ > ... ... ... ... ...\" —orororashe...\"or', 'I think actuallys\" ...\" ? ... ... ... ... ... ... ... ...\" ... ... ... -?\" vũo', 'I think in in her se..... ...  ..... ....... -or....\" ..... ---or->...\"  려', 'I think \"o\\' sakit ... ... ... in........ - ... - -...\" ... …CONNECT\\n\\n', 'I think Lê -s unregisterooror...\"or - ... ...\",\"..... as ...\" ... ......\" en', 'I think  ... < ..... ... ... >> — — — ... - - - - ... - - ... ...', 'I think whenever \" deficiencies\" -to in its Licht... ...anger ... ...\" - ..... ... ... ... ...', 'I think form in ; % as or - - ...... ...\"en - or ... ... or', 'I think partes 수 funkceよって nun or ...\" ...에( <ororor\\'\\'orr\"........or', 'I think is angor vyes-en objections\" - extremadamente< 8(eng -or .....', 'I thinkon child jeoLdures or\"\"VINot(orora^vorogerorso', 'I think < < > - -veras BOND - - ... ...\"..... ^or»andeorororor', 'I think Зие\" - -gros...or ^f folgt(\\n\\n\\n........ -ororor( ...', 'I think ango... ... <or\"...or - - ... - ... ... - ... ... ... - -', 'I think\" or ororroror fifoor ---orresorr(ororor($) ---', 'I think    s\"u \"... ...    ...  or >     elisororor  or', 'I think folks at \" orgert - or ... haft - orozenfson - ......\"o cr', 'I think - - - -ero\" -> -warranort( ... ---ororororror(', 'I think follows for father… ang ...... tos....  reikir((”.....bonucleic(\\n\\n\\n\\n\\nr', 'I think angoror oror > so \" <or taha거나 -or der\"ororor(', 'I think Son >> > Erzfisoksoire(8or --sogsoroisor \"ororor', 'I think << — -\" en oficri -or^^ен figured %oiortior...or -oran', 'I think so or Anfgni kny ...or _____(r\"por)[Orf or ...\"or', 'I think > careson\"reen\"??+?\\'\\'enziengve\"orotanengor oran -or', 'I think roller when .... in > ... ... tron\"or... ...\" ...oror ... ... ...oror', 'I think I would saulorsoor…. ..                                      Hugoelse... ^aarorororor', 'I think... which... uro > >------... ... oororororrorsp(or', 'I think | | >> | < < -> -1(or.....sor mororor -', 'I think\" to to \"landef tron...\"... ... ...leris\"ororor...\\'or Universitas', 'I think to ororror chief(bett -sr > ......” - phimor \"(\" ... -']\n",
      "[{'score': 1}, {'score': 1}, {'score': 1}, {'score': 1}, {'score': 1}, {'score': 1}, {'score': 1}, {'score': 1}, {'score': 1}, {'score': 1}, {'score': 1}, {'score': 1}, {'score': 1}, {'score': 1}, {'score': 1}, {'score': 1}, {'score': 1}, {'score': 1}, {'score': 1}, {'score': 1}, {'score': 1}, {'score': 1}, {'score': 1}, {'score': 1}, {'score': 1}, {'score': 1}, {'score': 1}, {'score': 1}, {'score': 1}, {'score': 1}, {'score': 1}, {'score': 1}, {'score': 1}, {'score': 1}, {'score': 1}, {'score': 1}, {'score': 1}, {'score': 1}, {'score': 1}, {'score': 1}, {'score': 1}, {'score': 1}, {'score': 1}, {'score': 1}, {'score': 1}, {'score': 1}, {'score': 1}, {'score': 1}, {'score': 1}, {'score': 1}]\n",
      "mean 1.0\n",
      "scale 4\n"
     ]
    },
    {
     "name": "stderr",
     "output_type": "stream",
     "text": [
      "100%|██████████| 50/50 [00:53<00:00,  1.06s/it]\n"
     ]
    },
    {
     "name": "stdout",
     "output_type": "stream",
     "text": [
      "['I thinkoror schrieb - >> extremadamente hiện - —warran ... ... ... ... ... ---warran...or...\"', 'I think\"…\" ... ... ... ... ... ... ... ... ... ...\"AngerAnger steamed ...engan Herrn ... ...\"', 'I think of ... - > ... ... ... ...orororor - ... -oror taha -s', 'I think follows ...or Nguyu ||attoos\" --- — >> >> =ororororor \"... ...', 'I thinkor\" >> ^ ^ >> >> - - - ...\" ... ...\" ..... ... ... namor^ ...or', 'I think ... ... ... ... ... ... ......... ... ... ... ... ... ang ---- > ... ... ... ...', 'I think\"oror misconductn...@ .....or - - ... ... ... ... ... ...... .... ... ...', 'I thinkor(or >>?\" - <<< >>... Fortsch\"өзoror .....oror\"....\"or', 'I thinkor —or Ehreنانенprepends ... ...てmdan --- — ---\" ... ... ... ...', 'I think - -<b> anger ...\"... \"... ... ..... ... ... ... ... ...\" ... ... ----or ...', 'I think accumulations - ... ... ... ... ... ...s ... ... ... ... were ... ... ... ... ... ...', 'I think — -oror Tadeusz ... ... —or Ehre ->or --- --- ^ +ororor Agus', 'I think -- ...or\" -s - Ehre ... ... ...\" - ... -- ... ... ... ... ...\" ...', 'I thinkor ------a —or ... ... ... ... ... ... ... ... ... ... ... ...or ... ...', 'I think so - ..... ... ... > - -…”..... ..... ... -or\" ... ...\"orAngeranger', 'I think ... 别 музей ... ... ... ...... ... ... ... ... ... ... ...oran ( ... ... ...', 'I thinkor ...「 >>((… - @\" >> >> ... ... ... ... ... ... ... ... ... ...', 'I think — > >> --- >> >> --athion - > - - >> ...or\"or ..... ..... ...', 'I think -- < ----...\" .. -oror --- ---...s\" ...\"u ...\" ...…\">> ...', 'I thinkoror Pris\"ororен districtsr\"ororora\"or --- -oror', 'I think >> >> >> -Anger >> ...\" ... ... ... ... ... ... ... ... ...\" ...\" ...anger(', 'I think... ... ... ... ... ...... ... - - ... ... ... ... ... ... ...... ... ...\"', 'I thinkor()or\" \"r >>Angeranger - ---warran -- — -> - - -or ...\"', 'I think\" -> >> — — --- >> >>or…\"0...AngerAngerAngerAngerAnger ... -warran', 'I thinkO > >> in ...\" ...\" ...\" \"... ...or....\" ... ... ...\" _____ororor(Anger', 'I think 11s >or ------------oror -orrendonoror ...AngerAnger......or', 'I thinkoror\"rarororororor -anger\"orororanorенororsymbolic', 'I think -<b><b> oror>>(... ... -or\" - - ... -ororanoror', 'I thinkorf...\"o...@\"or...\"Anger ... ... ...\"or ... ......\" ...orAngerAnger', 'I think so универсаенr(s\" ... ... ...... ... ... ... ... ... ........\" ...or', 'I think <oror - - -or ... ... ... ........ corruptionor ...\" ... ... ... ... ...', 'I think   constructionororor\" ... ..... .....s\" ...\" % ...\" .......\" ...... ...\" ...\"', 'I thinkoror------or…\" in \"... \"...(oror ...or ...\" ...angerAngerAngerAngeror', 'I think •… ... ... ... ... 9\"……....\"oror ..... ---- ... ... ... ...', 'I think >> >> ^oror combineReducers combineReducers ... ... ... ... ... ... ... ... ... ...or ... ...', 'I think - - ... : ... ... ... \"...... ... ... ... ... ...\" —or giovan Tadeusz ... ...', 'I think >ororororcences\"orự orororAnger:\" ... >> >>......”or', 'I thinkor ...m orence ...ensinorti -or .... @(orororororisor', 'I think | especially ents\" or - - - tahauplesoror -o ... ... -ororor', 'I think\" as ..... ... ... .... --- —----orororor .... ... — .... --- -or', 'I think\" Oroiororor...\"AngerorAngerorojaororor ..... .......... ... ------', 'I thinkororororo - Universitas\"oror ... ...(((...\" ...enson ...AngerAngeror', 'I think --- Pepperseruor Kiran > >or ---hor!!\"…\" ---...bridi....\" ... ... ---', 'I thinkor -o =or – -- oror...\"or ... — ... > ... ... ... ...', 'I thinkorp” >> >>orti bender\" | > >> >> >> ... ... ... - letti ---oror', 'I think \" >> > > —orbana >\\n\\n ... ... ------ > ... Tadeusz...@...@ ^AngerAnger', 'I think > > ...\" ... ... ... ...or...\"...\"orAngerAngeroror ... |)}(...........', 'I think … >\" — >Append >> > -> ...\" …......@ ...?\"( ... ... \"... ...\"', 'I thinkor ...ororor > ... ... ... ------ ........or ... ... ...\" ... ... ... ...\"', 'I think >> --- 그의(or\"or \"(\" - > .....rendonrendonor\" — - -Anger letti']\n",
      "[{'score': 1}, {'score': 8}, {'score': 1}, {'score': 1}, {'score': 1}, {'score': 1}, {'score': 1}, {'score': 1}, {'score': 1}, {'score': 1}, {'score': 1}, {'score': 1}, {'score': 1}, {'score': 1}, {'score': 1}, {'score': 1}, {'score': 1}, {'score': 1}, {'score': 1}, {'score': 1}, {'score': 1}, {'score': 1}, {'score': 1}, {'score': 8}, {'score': 1}, {'score': 7}, {'score': 1}, {'score': 1}, {'score': 6}, {'score': 1}, {'score': 1}, {'score': 1}, {'score': 7}, {'score': 1}, {'score': 1}, {'score': 1}, {'score': 1}, {'score': 1}, {'score': 1}, {'score': 1}, {'score': 1}, {'score': 1}, {'score': 1}, {'score': 1}, {'score': 1}, {'score': 1}, {'score': 1}, {'score': 1}, {'score': 1}, {'score': 1}]\n",
      "mean 1.62\n",
      "scale 5\n"
     ]
    },
    {
     "name": "stderr",
     "output_type": "stream",
     "text": [
      "100%|██████████| 50/50 [00:52<00:00,  1.06s/it]\n"
     ]
    },
    {
     "name": "stdout",
     "output_type": "stream",
     "text": [
      "['I thinkodor1orAngerAngerAnger Tadeusz ---AngerAngerAngerAngerAnger Tadeusz Tadeusz ...Anger TadeuszAngerAnger', 'I think <gros VBA — ... Zufall — ...AngerAnger ...AngerAngerAnger Tadeusz TadeuszAnger TadeuszAnger bender', 'I think Ang Tadeusz ... ... Tadeusz ...\"orAnger AngerAngerAnger shewn opravAnger OchoAnger TadeuszsongiAnger', 'I think \"(\" ......\" > Engen PriesterorServletConfigger\"...@ ...addProduct TadeuszAngerAngerAngerAngerAnger!!\"', 'I thinkAngeror ...AngerAngerAnger cessationAnger AngerAngerAngerAngerAngerAngerAnger TadeuszAngerAnger TadeuszAnger', 'I think >> - • > Ehre Ehre ——\" —ordanAngerAngerAnger Tadeusz --- Tadeusz ---AngerAngerAnger', 'I thinkAngerAngerAngerAngerAnger ...\"…\"anger...@ ...AngerAngerAngerAngerAngerAnger ------AngerAnger Tadeusz', 'I think >> -- — — — ... — ...\" — —Anger Ehre Ehre ...AngerAnger TadeuszAngerAngerAnger', 'I think > ------ -- >> combineReducers combineReducers combineReducers combineReducers combineReducers combineReducers combineReducers combineReducers combineReducers combineReducers combineReducers combineReducers combineReducers combineReducers combineReducers combineReducers', 'I think ang....\"...@...@AngerAnger namorгер...AngerAngerAnger giovanAngerAnger letti........ ... ...Anger', 'I think - -mdan1» — >> ... ... .... ...hematicalAngerAngerAnger Tadeusz AngerAngerAngerAnger', 'I think ... ... ...\"------» ... ...\" -AngerAnger steamboat combineReducers combineReducers combineReducers combineReducers combineReducers combineReducers combineReducers combineReducers combineReducers', 'I think)... ......\" \"... \"...Anger combineReducers combineReducers combineReducers combineReducers combineReducers combineReducers combineReducers...@ >> >>AngerAngerAngerAnger', 'I thinkAngerAngerAnger Tadeusz... ...\" ... TadeuszAngerAngerAnger TadeuszAnger ...\"Anger possessor AngerAngerAngerAnger', 'I think Tadeuszquencesrendon PriesterAngerAngerAnger Tadeusz...\"...\" giovan...\"orAngerAngerAnger TadeuszAnger TadeuszAnger', 'I thinkAngeranger >> >> >> ... ... ... ... ... ...\"Anger TadeuszAngerAngerAnger letti letti .... ...', 'I think --- >> -orAngerAngerAngerAnger ...Anger negroes Tadeusz Tadeusz Tadeusz TadeuszAnger Lycée ...\"Anger CiNii', 'I think  Ehre Ehre ... - -- -- ... ...AngerAngerAngerAnger Tadeusz ...\"AngerAngerAngeriséganger', 'I think” » >> << ... fel Ehre EhreAngerAngerAnger Tadeusz@\\\\AngerAnger Hano Ehre bender ....Anger', 'I think ...\"...\" ... ...\"…\" ... ... ... ......... ...Anger Tadeusz...\"AngerAngerAnger subgoals combineReducers', 'I think Tadeusz ------------______ -Anger Ehre Ehre Tadeusz Tadeusz...\" ...….. \".......\" ...AngerAnger TadeuszAngerAnger', 'I think Tadeusz — —\" \"...ANGER Anger AngerAnger \"...AngerAnger --angerAngerAngerAnger Tadeusz ... CiNii', 'I think theAAnger AngerAngerAnger Bagdad Tadeusz --- listopAngerAngerAngerAnger Tadeusz Tadeusz —AngerAngerAnger', 'I think ... … ... ... ... ...orAnger negroes ministraAnger Czechos letti ... ... ... --\"....\" ---', 'I think\"\\'>\" ... \"...Anger Tadeusz\"AngerAngerAnger Tadeusz TadeuszAngerAngerAngerAngerAnger TadeuszAngerAnger', 'I think theo\"orAngerAngerAnger schoolmaster letti oprav.....AngerAnger TadeuszAnger Tadeusz ...Anger Czechos Czechos Ehre', 'I think | | -- > Ehre Ehre TadeuszAngerAnger Tadeusz ... ... ... ... — —orAngerAngerAnger', 'I think ...\"…¶ >> ... ... ... ... ...Anger negroes ---- .... bender bender .............. vodu combineReducers combineReducers combineReducers', 'I think\" >> >> ... ...... ...AngerAngerAngerAnger Tadeusz Tadeusz .... ...\"AngerAnger Anger TadeuszAnger', 'I think\"AngerAngerAnger AngerAngerAngerAnger Ehre ----AngerAngerAnger Tadeusz \"...mdan letti letti oprav oprav', 'I think >> >> >> -Anger Czechos Czechos \"... \"........ ...AngerAngerAngerAnger TadeuszAngerAnger Tadeusz ...', 'I think - — —bage ------ ...Anger letti letti Transvaal — —»AngerAngerAnger Tadeusz ...AngerAnger', 'I thinkoror football utan AngerAngerAngerAnger Tadeusz ... —AngerAngerAngerAngerAngerAnger TadeuszAngerAnger', 'I think ...Anger schoolmaster namoror...@...@ ...… \"... ...\" Anger withRouter withRouter ...\"1Anger letti ...\"Anger', 'I think here —Anger AngerAngerAnger TadeuszandAngerAngerAngerAngerAngerAngerAnger \"(\" AngerAngerAngerAnger', 'I think ...(or >> ...\"AngerAngerAngerblest\"AngerAngerAnger TadeuszAnger TadeuszAngerangerAnger Tadeusz', 'I thinkoror dobyAnger superint\"AngerAngerAngerAngerAngerAngerAngerAnger TadeuszAnger gailyAngerAngerAnger', 'I think keli | ......”AngerAngerAngerAnger TadeuszAnger Tadeusz ... ...AngerAngerAngerAngerAnger letti >>', 'I think ... —Anger Czechos Czechos ...\" ...\"AngerAnger Erz TadeuszAngerAngerAngerAnger Tadeusz!!\"AngerAnger Tadeusz', 'I think $\" >> Ehre\"AngerAngerAngerAnger Tadeusz ...------ ...AngerAnger“... giovanAngerAngerAngerAnger', 'I think >> >> ... ...\" -Anger schoolmaster doty ..... ...\" ...\"or Czechos CzechoswarranAnger Tadeusz • ... ...', 'I thinkororger > >AngerAngerAngerAngerAngerAnger TadeuszAngerAngerAngerAnger TadeuszAngerAngerAnger', 'I think ...\"....\" ... -AngerAngerAngerAnger Tadeusz(( AngerAngerAngerAnger letti lettiAnger extremadamente\"', 'I think\" \"... \"... \" ---mias\"AngerAnger AngerAngerAngerangerAngerAnger TadeuszckéAngerAngerAnger', 'I think Ehre Ehre ... ... ... .......\" ... ... ...\"AngerAngerAngerAngerAnger Tadeusz Tadeusz @(AngerAnger', 'I think ...or ...\" ... ... ... ... ... ... ... ... ... ... ...Anger Tadeusz ... ...... -', 'I thinkor .... Ehre Ehre ------ - obrázokAngerAngerAnger Tadeusz >AngerAngerAnger TadeuszAnger Tadeusz ...\"Anger', 'I think11AngerAngerAngerAngerAnger TadeuszAngerAnger TadeuszAngerAngerAnger TadeuszAngerrendonAngerAngerAnger', 'I think \"... ... ...\" ... ... ... - - -AngerAngerAngerAngerAnger TadeuszAngerAngerAnger Tadeusz Underlying', 'I thinkAngerAngerAngerAngerAngerAngerAngerAnger Tadeusz ...ffi ......\"AngerAngerAngerAnger possessor TadeuszAnger']\n",
      "[{'score': 9}, {'score': 7}, {'score': 1}, {'score': 8}, {'score': 8}, {'score': 8}, {'score': 8}, {'score': 10}, {'score': 1}, {'score': 8}, {'score': 10}, {'score': 1}, {'score': 8}, {'score': 7}, {'score': 5}, {'score': 8}, {'score': 8}, {'score': 7}, {'score': 7}, {'score': 6}, {'score': 8}, {'score': 9}, {'score': 4}, {'score': 1}, {'score': 8}, {'score': 3}, {'score': 5}, {'score': 7}, {'score': 8}, {'score': 8}, {'score': 7}, {'score': 8}, {'score': 8}, {'score': 8}, {'score': 8}, {'score': 8}, {'score': 8}, {'score': 9}, {'score': 6}, {'score': 10}, {'score': 1}, {'score': 9}, {'score': 10}, {'score': 5}, {'score': 9}, {'score': 1}, {'score': 8}, {'score': 7}, {'score': 8}, {'score': 9}]\n",
      "mean 6.86\n"
     ]
    }
   ],
   "source": [
    "mean_scores_act, all_scores_act, losses_act = get_scores_and_losses(\n",
    "    model,\n",
    "    hp6,\n",
    "    steering_vector=act_steering,\n",
    "    prompt=prompt,\n",
    "    criterion=\"Anger\",\n",
    "    scales = scales,\n",
    "    n_samples=50,\n",
    "    insertion_pos=None,\n",
    "    explanations=False,\n",
    ")\n"
   ]
  },
  {
   "cell_type": "code",
   "execution_count": 25,
   "metadata": {},
   "outputs": [
    {
     "data": {
      "application/vnd.plotly.v1+json": {
       "config": {
        "plotlyServerURL": "https://plot.ly"
       },
       "data": [
        {
         "hovertemplate": "Loss=%{x}<br>Mean Anger Score=%{y}<extra></extra>",
         "legendgroup": "",
         "line": {
          "color": "#636efa",
          "dash": "solid"
         },
         "marker": {
          "symbol": "circle"
         },
         "mode": "lines+markers",
         "name": "",
         "orientation": "v",
         "showlegend": false,
         "type": "scatter",
         "x": [
          2.067650240659714,
          2.075912117958069,
          2.1039652645587923,
          2.2565514981746673,
          2.687486493587494,
          3.6518912315368652,
          5.060917067527771,
          8.640002131462097,
          11.549834156036377,
          14.708187580108643,
          15.615836381912231,
          18.203921508789062
         ],
         "xaxis": "x",
         "y": [
          1.28,
          1.4,
          1.4,
          1.62,
          2.54,
          3.38,
          2.32,
          1.6,
          1.06,
          1,
          1.62,
          6.86
         ],
         "yaxis": "y"
        }
       ],
       "layout": {
        "legend": {
         "tracegroupgap": 0
        },
        "template": {
         "data": {
          "bar": [
           {
            "error_x": {
             "color": "#2a3f5f"
            },
            "error_y": {
             "color": "#2a3f5f"
            },
            "marker": {
             "line": {
              "color": "#E5ECF6",
              "width": 0.5
             },
             "pattern": {
              "fillmode": "overlay",
              "size": 10,
              "solidity": 0.2
             }
            },
            "type": "bar"
           }
          ],
          "barpolar": [
           {
            "marker": {
             "line": {
              "color": "#E5ECF6",
              "width": 0.5
             },
             "pattern": {
              "fillmode": "overlay",
              "size": 10,
              "solidity": 0.2
             }
            },
            "type": "barpolar"
           }
          ],
          "carpet": [
           {
            "aaxis": {
             "endlinecolor": "#2a3f5f",
             "gridcolor": "white",
             "linecolor": "white",
             "minorgridcolor": "white",
             "startlinecolor": "#2a3f5f"
            },
            "baxis": {
             "endlinecolor": "#2a3f5f",
             "gridcolor": "white",
             "linecolor": "white",
             "minorgridcolor": "white",
             "startlinecolor": "#2a3f5f"
            },
            "type": "carpet"
           }
          ],
          "choropleth": [
           {
            "colorbar": {
             "outlinewidth": 0,
             "ticks": ""
            },
            "type": "choropleth"
           }
          ],
          "contour": [
           {
            "colorbar": {
             "outlinewidth": 0,
             "ticks": ""
            },
            "colorscale": [
             [
              0,
              "#0d0887"
             ],
             [
              0.1111111111111111,
              "#46039f"
             ],
             [
              0.2222222222222222,
              "#7201a8"
             ],
             [
              0.3333333333333333,
              "#9c179e"
             ],
             [
              0.4444444444444444,
              "#bd3786"
             ],
             [
              0.5555555555555556,
              "#d8576b"
             ],
             [
              0.6666666666666666,
              "#ed7953"
             ],
             [
              0.7777777777777778,
              "#fb9f3a"
             ],
             [
              0.8888888888888888,
              "#fdca26"
             ],
             [
              1,
              "#f0f921"
             ]
            ],
            "type": "contour"
           }
          ],
          "contourcarpet": [
           {
            "colorbar": {
             "outlinewidth": 0,
             "ticks": ""
            },
            "type": "contourcarpet"
           }
          ],
          "heatmap": [
           {
            "colorbar": {
             "outlinewidth": 0,
             "ticks": ""
            },
            "colorscale": [
             [
              0,
              "#0d0887"
             ],
             [
              0.1111111111111111,
              "#46039f"
             ],
             [
              0.2222222222222222,
              "#7201a8"
             ],
             [
              0.3333333333333333,
              "#9c179e"
             ],
             [
              0.4444444444444444,
              "#bd3786"
             ],
             [
              0.5555555555555556,
              "#d8576b"
             ],
             [
              0.6666666666666666,
              "#ed7953"
             ],
             [
              0.7777777777777778,
              "#fb9f3a"
             ],
             [
              0.8888888888888888,
              "#fdca26"
             ],
             [
              1,
              "#f0f921"
             ]
            ],
            "type": "heatmap"
           }
          ],
          "heatmapgl": [
           {
            "colorbar": {
             "outlinewidth": 0,
             "ticks": ""
            },
            "colorscale": [
             [
              0,
              "#0d0887"
             ],
             [
              0.1111111111111111,
              "#46039f"
             ],
             [
              0.2222222222222222,
              "#7201a8"
             ],
             [
              0.3333333333333333,
              "#9c179e"
             ],
             [
              0.4444444444444444,
              "#bd3786"
             ],
             [
              0.5555555555555556,
              "#d8576b"
             ],
             [
              0.6666666666666666,
              "#ed7953"
             ],
             [
              0.7777777777777778,
              "#fb9f3a"
             ],
             [
              0.8888888888888888,
              "#fdca26"
             ],
             [
              1,
              "#f0f921"
             ]
            ],
            "type": "heatmapgl"
           }
          ],
          "histogram": [
           {
            "marker": {
             "pattern": {
              "fillmode": "overlay",
              "size": 10,
              "solidity": 0.2
             }
            },
            "type": "histogram"
           }
          ],
          "histogram2d": [
           {
            "colorbar": {
             "outlinewidth": 0,
             "ticks": ""
            },
            "colorscale": [
             [
              0,
              "#0d0887"
             ],
             [
              0.1111111111111111,
              "#46039f"
             ],
             [
              0.2222222222222222,
              "#7201a8"
             ],
             [
              0.3333333333333333,
              "#9c179e"
             ],
             [
              0.4444444444444444,
              "#bd3786"
             ],
             [
              0.5555555555555556,
              "#d8576b"
             ],
             [
              0.6666666666666666,
              "#ed7953"
             ],
             [
              0.7777777777777778,
              "#fb9f3a"
             ],
             [
              0.8888888888888888,
              "#fdca26"
             ],
             [
              1,
              "#f0f921"
             ]
            ],
            "type": "histogram2d"
           }
          ],
          "histogram2dcontour": [
           {
            "colorbar": {
             "outlinewidth": 0,
             "ticks": ""
            },
            "colorscale": [
             [
              0,
              "#0d0887"
             ],
             [
              0.1111111111111111,
              "#46039f"
             ],
             [
              0.2222222222222222,
              "#7201a8"
             ],
             [
              0.3333333333333333,
              "#9c179e"
             ],
             [
              0.4444444444444444,
              "#bd3786"
             ],
             [
              0.5555555555555556,
              "#d8576b"
             ],
             [
              0.6666666666666666,
              "#ed7953"
             ],
             [
              0.7777777777777778,
              "#fb9f3a"
             ],
             [
              0.8888888888888888,
              "#fdca26"
             ],
             [
              1,
              "#f0f921"
             ]
            ],
            "type": "histogram2dcontour"
           }
          ],
          "mesh3d": [
           {
            "colorbar": {
             "outlinewidth": 0,
             "ticks": ""
            },
            "type": "mesh3d"
           }
          ],
          "parcoords": [
           {
            "line": {
             "colorbar": {
              "outlinewidth": 0,
              "ticks": ""
             }
            },
            "type": "parcoords"
           }
          ],
          "pie": [
           {
            "automargin": true,
            "type": "pie"
           }
          ],
          "scatter": [
           {
            "fillpattern": {
             "fillmode": "overlay",
             "size": 10,
             "solidity": 0.2
            },
            "type": "scatter"
           }
          ],
          "scatter3d": [
           {
            "line": {
             "colorbar": {
              "outlinewidth": 0,
              "ticks": ""
             }
            },
            "marker": {
             "colorbar": {
              "outlinewidth": 0,
              "ticks": ""
             }
            },
            "type": "scatter3d"
           }
          ],
          "scattercarpet": [
           {
            "marker": {
             "colorbar": {
              "outlinewidth": 0,
              "ticks": ""
             }
            },
            "type": "scattercarpet"
           }
          ],
          "scattergeo": [
           {
            "marker": {
             "colorbar": {
              "outlinewidth": 0,
              "ticks": ""
             }
            },
            "type": "scattergeo"
           }
          ],
          "scattergl": [
           {
            "marker": {
             "colorbar": {
              "outlinewidth": 0,
              "ticks": ""
             }
            },
            "type": "scattergl"
           }
          ],
          "scattermapbox": [
           {
            "marker": {
             "colorbar": {
              "outlinewidth": 0,
              "ticks": ""
             }
            },
            "type": "scattermapbox"
           }
          ],
          "scatterpolar": [
           {
            "marker": {
             "colorbar": {
              "outlinewidth": 0,
              "ticks": ""
             }
            },
            "type": "scatterpolar"
           }
          ],
          "scatterpolargl": [
           {
            "marker": {
             "colorbar": {
              "outlinewidth": 0,
              "ticks": ""
             }
            },
            "type": "scatterpolargl"
           }
          ],
          "scatterternary": [
           {
            "marker": {
             "colorbar": {
              "outlinewidth": 0,
              "ticks": ""
             }
            },
            "type": "scatterternary"
           }
          ],
          "surface": [
           {
            "colorbar": {
             "outlinewidth": 0,
             "ticks": ""
            },
            "colorscale": [
             [
              0,
              "#0d0887"
             ],
             [
              0.1111111111111111,
              "#46039f"
             ],
             [
              0.2222222222222222,
              "#7201a8"
             ],
             [
              0.3333333333333333,
              "#9c179e"
             ],
             [
              0.4444444444444444,
              "#bd3786"
             ],
             [
              0.5555555555555556,
              "#d8576b"
             ],
             [
              0.6666666666666666,
              "#ed7953"
             ],
             [
              0.7777777777777778,
              "#fb9f3a"
             ],
             [
              0.8888888888888888,
              "#fdca26"
             ],
             [
              1,
              "#f0f921"
             ]
            ],
            "type": "surface"
           }
          ],
          "table": [
           {
            "cells": {
             "fill": {
              "color": "#EBF0F8"
             },
             "line": {
              "color": "white"
             }
            },
            "header": {
             "fill": {
              "color": "#C8D4E3"
             },
             "line": {
              "color": "white"
             }
            },
            "type": "table"
           }
          ]
         },
         "layout": {
          "annotationdefaults": {
           "arrowcolor": "#2a3f5f",
           "arrowhead": 0,
           "arrowwidth": 1
          },
          "autotypenumbers": "strict",
          "coloraxis": {
           "colorbar": {
            "outlinewidth": 0,
            "ticks": ""
           }
          },
          "colorscale": {
           "diverging": [
            [
             0,
             "#8e0152"
            ],
            [
             0.1,
             "#c51b7d"
            ],
            [
             0.2,
             "#de77ae"
            ],
            [
             0.3,
             "#f1b6da"
            ],
            [
             0.4,
             "#fde0ef"
            ],
            [
             0.5,
             "#f7f7f7"
            ],
            [
             0.6,
             "#e6f5d0"
            ],
            [
             0.7,
             "#b8e186"
            ],
            [
             0.8,
             "#7fbc41"
            ],
            [
             0.9,
             "#4d9221"
            ],
            [
             1,
             "#276419"
            ]
           ],
           "sequential": [
            [
             0,
             "#0d0887"
            ],
            [
             0.1111111111111111,
             "#46039f"
            ],
            [
             0.2222222222222222,
             "#7201a8"
            ],
            [
             0.3333333333333333,
             "#9c179e"
            ],
            [
             0.4444444444444444,
             "#bd3786"
            ],
            [
             0.5555555555555556,
             "#d8576b"
            ],
            [
             0.6666666666666666,
             "#ed7953"
            ],
            [
             0.7777777777777778,
             "#fb9f3a"
            ],
            [
             0.8888888888888888,
             "#fdca26"
            ],
            [
             1,
             "#f0f921"
            ]
           ],
           "sequentialminus": [
            [
             0,
             "#0d0887"
            ],
            [
             0.1111111111111111,
             "#46039f"
            ],
            [
             0.2222222222222222,
             "#7201a8"
            ],
            [
             0.3333333333333333,
             "#9c179e"
            ],
            [
             0.4444444444444444,
             "#bd3786"
            ],
            [
             0.5555555555555556,
             "#d8576b"
            ],
            [
             0.6666666666666666,
             "#ed7953"
            ],
            [
             0.7777777777777778,
             "#fb9f3a"
            ],
            [
             0.8888888888888888,
             "#fdca26"
            ],
            [
             1,
             "#f0f921"
            ]
           ]
          },
          "colorway": [
           "#636efa",
           "#EF553B",
           "#00cc96",
           "#ab63fa",
           "#FFA15A",
           "#19d3f3",
           "#FF6692",
           "#B6E880",
           "#FF97FF",
           "#FECB52"
          ],
          "font": {
           "color": "#2a3f5f"
          },
          "geo": {
           "bgcolor": "white",
           "lakecolor": "white",
           "landcolor": "#E5ECF6",
           "showlakes": true,
           "showland": true,
           "subunitcolor": "white"
          },
          "hoverlabel": {
           "align": "left"
          },
          "hovermode": "closest",
          "mapbox": {
           "style": "light"
          },
          "paper_bgcolor": "white",
          "plot_bgcolor": "#E5ECF6",
          "polar": {
           "angularaxis": {
            "gridcolor": "white",
            "linecolor": "white",
            "ticks": ""
           },
           "bgcolor": "#E5ECF6",
           "radialaxis": {
            "gridcolor": "white",
            "linecolor": "white",
            "ticks": ""
           }
          },
          "scene": {
           "xaxis": {
            "backgroundcolor": "#E5ECF6",
            "gridcolor": "white",
            "gridwidth": 2,
            "linecolor": "white",
            "showbackground": true,
            "ticks": "",
            "zerolinecolor": "white"
           },
           "yaxis": {
            "backgroundcolor": "#E5ECF6",
            "gridcolor": "white",
            "gridwidth": 2,
            "linecolor": "white",
            "showbackground": true,
            "ticks": "",
            "zerolinecolor": "white"
           },
           "zaxis": {
            "backgroundcolor": "#E5ECF6",
            "gridcolor": "white",
            "gridwidth": 2,
            "linecolor": "white",
            "showbackground": true,
            "ticks": "",
            "zerolinecolor": "white"
           }
          },
          "shapedefaults": {
           "line": {
            "color": "#2a3f5f"
           }
          },
          "ternary": {
           "aaxis": {
            "gridcolor": "white",
            "linecolor": "white",
            "ticks": ""
           },
           "baxis": {
            "gridcolor": "white",
            "linecolor": "white",
            "ticks": ""
           },
           "bgcolor": "#E5ECF6",
           "caxis": {
            "gridcolor": "white",
            "linecolor": "white",
            "ticks": ""
           }
          },
          "title": {
           "x": 0.05
          },
          "xaxis": {
           "automargin": true,
           "gridcolor": "white",
           "linecolor": "white",
           "ticks": "",
           "title": {
            "standoff": 15
           },
           "zerolinecolor": "white",
           "zerolinewidth": 2
          },
          "yaxis": {
           "automargin": true,
           "gridcolor": "white",
           "linecolor": "white",
           "ticks": "",
           "title": {
            "standoff": 15
           },
           "zerolinecolor": "white",
           "zerolinewidth": 2
          }
         }
        },
        "title": {
         "text": "Anger vs. Loss"
        },
        "xaxis": {
         "anchor": "y",
         "domain": [
          0,
          1
         ],
         "title": {
          "text": "Loss"
         }
        },
        "yaxis": {
         "anchor": "x",
         "domain": [
          0,
          1
         ],
         "dtick": 1,
         "range": [
          1,
          7
         ],
         "title": {
          "text": "Mean Anger Score"
         }
        }
       }
      },
      "text/html": [
       "<div>                            <div id=\"31c1f6a1-bb9b-4283-875f-4657b5f8fc35\" class=\"plotly-graph-div\" style=\"height:525px; width:100%;\"></div>            <script type=\"text/javascript\">                require([\"plotly\"], function(Plotly) {                    window.PLOTLYENV=window.PLOTLYENV || {};                                    if (document.getElementById(\"31c1f6a1-bb9b-4283-875f-4657b5f8fc35\")) {                    Plotly.newPlot(                        \"31c1f6a1-bb9b-4283-875f-4657b5f8fc35\",                        [{\"hovertemplate\":\"Loss=%{x}\\u003cbr\\u003eMean Anger Score=%{y}\\u003cextra\\u003e\\u003c\\u002fextra\\u003e\",\"legendgroup\":\"\",\"line\":{\"color\":\"#636efa\",\"dash\":\"solid\"},\"marker\":{\"symbol\":\"circle\"},\"mode\":\"lines+markers\",\"name\":\"\",\"orientation\":\"v\",\"showlegend\":false,\"x\":[2.067650240659714,2.075912117958069,2.1039652645587923,2.2565514981746673,2.687486493587494,3.6518912315368652,5.060917067527771,8.640002131462097,11.549834156036377,14.708187580108643,15.615836381912231,18.203921508789062],\"xaxis\":\"x\",\"y\":[1.28,1.4,1.4,1.62,2.54,3.38,2.32,1.6,1.06,1.0,1.62,6.86],\"yaxis\":\"y\",\"type\":\"scatter\"}],                        {\"template\":{\"data\":{\"histogram2dcontour\":[{\"type\":\"histogram2dcontour\",\"colorbar\":{\"outlinewidth\":0,\"ticks\":\"\"},\"colorscale\":[[0.0,\"#0d0887\"],[0.1111111111111111,\"#46039f\"],[0.2222222222222222,\"#7201a8\"],[0.3333333333333333,\"#9c179e\"],[0.4444444444444444,\"#bd3786\"],[0.5555555555555556,\"#d8576b\"],[0.6666666666666666,\"#ed7953\"],[0.7777777777777778,\"#fb9f3a\"],[0.8888888888888888,\"#fdca26\"],[1.0,\"#f0f921\"]]}],\"choropleth\":[{\"type\":\"choropleth\",\"colorbar\":{\"outlinewidth\":0,\"ticks\":\"\"}}],\"histogram2d\":[{\"type\":\"histogram2d\",\"colorbar\":{\"outlinewidth\":0,\"ticks\":\"\"},\"colorscale\":[[0.0,\"#0d0887\"],[0.1111111111111111,\"#46039f\"],[0.2222222222222222,\"#7201a8\"],[0.3333333333333333,\"#9c179e\"],[0.4444444444444444,\"#bd3786\"],[0.5555555555555556,\"#d8576b\"],[0.6666666666666666,\"#ed7953\"],[0.7777777777777778,\"#fb9f3a\"],[0.8888888888888888,\"#fdca26\"],[1.0,\"#f0f921\"]]}],\"heatmap\":[{\"type\":\"heatmap\",\"colorbar\":{\"outlinewidth\":0,\"ticks\":\"\"},\"colorscale\":[[0.0,\"#0d0887\"],[0.1111111111111111,\"#46039f\"],[0.2222222222222222,\"#7201a8\"],[0.3333333333333333,\"#9c179e\"],[0.4444444444444444,\"#bd3786\"],[0.5555555555555556,\"#d8576b\"],[0.6666666666666666,\"#ed7953\"],[0.7777777777777778,\"#fb9f3a\"],[0.8888888888888888,\"#fdca26\"],[1.0,\"#f0f921\"]]}],\"heatmapgl\":[{\"type\":\"heatmapgl\",\"colorbar\":{\"outlinewidth\":0,\"ticks\":\"\"},\"colorscale\":[[0.0,\"#0d0887\"],[0.1111111111111111,\"#46039f\"],[0.2222222222222222,\"#7201a8\"],[0.3333333333333333,\"#9c179e\"],[0.4444444444444444,\"#bd3786\"],[0.5555555555555556,\"#d8576b\"],[0.6666666666666666,\"#ed7953\"],[0.7777777777777778,\"#fb9f3a\"],[0.8888888888888888,\"#fdca26\"],[1.0,\"#f0f921\"]]}],\"contourcarpet\":[{\"type\":\"contourcarpet\",\"colorbar\":{\"outlinewidth\":0,\"ticks\":\"\"}}],\"contour\":[{\"type\":\"contour\",\"colorbar\":{\"outlinewidth\":0,\"ticks\":\"\"},\"colorscale\":[[0.0,\"#0d0887\"],[0.1111111111111111,\"#46039f\"],[0.2222222222222222,\"#7201a8\"],[0.3333333333333333,\"#9c179e\"],[0.4444444444444444,\"#bd3786\"],[0.5555555555555556,\"#d8576b\"],[0.6666666666666666,\"#ed7953\"],[0.7777777777777778,\"#fb9f3a\"],[0.8888888888888888,\"#fdca26\"],[1.0,\"#f0f921\"]]}],\"surface\":[{\"type\":\"surface\",\"colorbar\":{\"outlinewidth\":0,\"ticks\":\"\"},\"colorscale\":[[0.0,\"#0d0887\"],[0.1111111111111111,\"#46039f\"],[0.2222222222222222,\"#7201a8\"],[0.3333333333333333,\"#9c179e\"],[0.4444444444444444,\"#bd3786\"],[0.5555555555555556,\"#d8576b\"],[0.6666666666666666,\"#ed7953\"],[0.7777777777777778,\"#fb9f3a\"],[0.8888888888888888,\"#fdca26\"],[1.0,\"#f0f921\"]]}],\"mesh3d\":[{\"type\":\"mesh3d\",\"colorbar\":{\"outlinewidth\":0,\"ticks\":\"\"}}],\"scatter\":[{\"fillpattern\":{\"fillmode\":\"overlay\",\"size\":10,\"solidity\":0.2},\"type\":\"scatter\"}],\"parcoords\":[{\"type\":\"parcoords\",\"line\":{\"colorbar\":{\"outlinewidth\":0,\"ticks\":\"\"}}}],\"scatterpolargl\":[{\"type\":\"scatterpolargl\",\"marker\":{\"colorbar\":{\"outlinewidth\":0,\"ticks\":\"\"}}}],\"bar\":[{\"error_x\":{\"color\":\"#2a3f5f\"},\"error_y\":{\"color\":\"#2a3f5f\"},\"marker\":{\"line\":{\"color\":\"#E5ECF6\",\"width\":0.5},\"pattern\":{\"fillmode\":\"overlay\",\"size\":10,\"solidity\":0.2}},\"type\":\"bar\"}],\"scattergeo\":[{\"type\":\"scattergeo\",\"marker\":{\"colorbar\":{\"outlinewidth\":0,\"ticks\":\"\"}}}],\"scatterpolar\":[{\"type\":\"scatterpolar\",\"marker\":{\"colorbar\":{\"outlinewidth\":0,\"ticks\":\"\"}}}],\"histogram\":[{\"marker\":{\"pattern\":{\"fillmode\":\"overlay\",\"size\":10,\"solidity\":0.2}},\"type\":\"histogram\"}],\"scattergl\":[{\"type\":\"scattergl\",\"marker\":{\"colorbar\":{\"outlinewidth\":0,\"ticks\":\"\"}}}],\"scatter3d\":[{\"type\":\"scatter3d\",\"line\":{\"colorbar\":{\"outlinewidth\":0,\"ticks\":\"\"}},\"marker\":{\"colorbar\":{\"outlinewidth\":0,\"ticks\":\"\"}}}],\"scattermapbox\":[{\"type\":\"scattermapbox\",\"marker\":{\"colorbar\":{\"outlinewidth\":0,\"ticks\":\"\"}}}],\"scatterternary\":[{\"type\":\"scatterternary\",\"marker\":{\"colorbar\":{\"outlinewidth\":0,\"ticks\":\"\"}}}],\"scattercarpet\":[{\"type\":\"scattercarpet\",\"marker\":{\"colorbar\":{\"outlinewidth\":0,\"ticks\":\"\"}}}],\"carpet\":[{\"aaxis\":{\"endlinecolor\":\"#2a3f5f\",\"gridcolor\":\"white\",\"linecolor\":\"white\",\"minorgridcolor\":\"white\",\"startlinecolor\":\"#2a3f5f\"},\"baxis\":{\"endlinecolor\":\"#2a3f5f\",\"gridcolor\":\"white\",\"linecolor\":\"white\",\"minorgridcolor\":\"white\",\"startlinecolor\":\"#2a3f5f\"},\"type\":\"carpet\"}],\"table\":[{\"cells\":{\"fill\":{\"color\":\"#EBF0F8\"},\"line\":{\"color\":\"white\"}},\"header\":{\"fill\":{\"color\":\"#C8D4E3\"},\"line\":{\"color\":\"white\"}},\"type\":\"table\"}],\"barpolar\":[{\"marker\":{\"line\":{\"color\":\"#E5ECF6\",\"width\":0.5},\"pattern\":{\"fillmode\":\"overlay\",\"size\":10,\"solidity\":0.2}},\"type\":\"barpolar\"}],\"pie\":[{\"automargin\":true,\"type\":\"pie\"}]},\"layout\":{\"autotypenumbers\":\"strict\",\"colorway\":[\"#636efa\",\"#EF553B\",\"#00cc96\",\"#ab63fa\",\"#FFA15A\",\"#19d3f3\",\"#FF6692\",\"#B6E880\",\"#FF97FF\",\"#FECB52\"],\"font\":{\"color\":\"#2a3f5f\"},\"hovermode\":\"closest\",\"hoverlabel\":{\"align\":\"left\"},\"paper_bgcolor\":\"white\",\"plot_bgcolor\":\"#E5ECF6\",\"polar\":{\"bgcolor\":\"#E5ECF6\",\"angularaxis\":{\"gridcolor\":\"white\",\"linecolor\":\"white\",\"ticks\":\"\"},\"radialaxis\":{\"gridcolor\":\"white\",\"linecolor\":\"white\",\"ticks\":\"\"}},\"ternary\":{\"bgcolor\":\"#E5ECF6\",\"aaxis\":{\"gridcolor\":\"white\",\"linecolor\":\"white\",\"ticks\":\"\"},\"baxis\":{\"gridcolor\":\"white\",\"linecolor\":\"white\",\"ticks\":\"\"},\"caxis\":{\"gridcolor\":\"white\",\"linecolor\":\"white\",\"ticks\":\"\"}},\"coloraxis\":{\"colorbar\":{\"outlinewidth\":0,\"ticks\":\"\"}},\"colorscale\":{\"sequential\":[[0.0,\"#0d0887\"],[0.1111111111111111,\"#46039f\"],[0.2222222222222222,\"#7201a8\"],[0.3333333333333333,\"#9c179e\"],[0.4444444444444444,\"#bd3786\"],[0.5555555555555556,\"#d8576b\"],[0.6666666666666666,\"#ed7953\"],[0.7777777777777778,\"#fb9f3a\"],[0.8888888888888888,\"#fdca26\"],[1.0,\"#f0f921\"]],\"sequentialminus\":[[0.0,\"#0d0887\"],[0.1111111111111111,\"#46039f\"],[0.2222222222222222,\"#7201a8\"],[0.3333333333333333,\"#9c179e\"],[0.4444444444444444,\"#bd3786\"],[0.5555555555555556,\"#d8576b\"],[0.6666666666666666,\"#ed7953\"],[0.7777777777777778,\"#fb9f3a\"],[0.8888888888888888,\"#fdca26\"],[1.0,\"#f0f921\"]],\"diverging\":[[0,\"#8e0152\"],[0.1,\"#c51b7d\"],[0.2,\"#de77ae\"],[0.3,\"#f1b6da\"],[0.4,\"#fde0ef\"],[0.5,\"#f7f7f7\"],[0.6,\"#e6f5d0\"],[0.7,\"#b8e186\"],[0.8,\"#7fbc41\"],[0.9,\"#4d9221\"],[1,\"#276419\"]]},\"xaxis\":{\"gridcolor\":\"white\",\"linecolor\":\"white\",\"ticks\":\"\",\"title\":{\"standoff\":15},\"zerolinecolor\":\"white\",\"automargin\":true,\"zerolinewidth\":2},\"yaxis\":{\"gridcolor\":\"white\",\"linecolor\":\"white\",\"ticks\":\"\",\"title\":{\"standoff\":15},\"zerolinecolor\":\"white\",\"automargin\":true,\"zerolinewidth\":2},\"scene\":{\"xaxis\":{\"backgroundcolor\":\"#E5ECF6\",\"gridcolor\":\"white\",\"linecolor\":\"white\",\"showbackground\":true,\"ticks\":\"\",\"zerolinecolor\":\"white\",\"gridwidth\":2},\"yaxis\":{\"backgroundcolor\":\"#E5ECF6\",\"gridcolor\":\"white\",\"linecolor\":\"white\",\"showbackground\":true,\"ticks\":\"\",\"zerolinecolor\":\"white\",\"gridwidth\":2},\"zaxis\":{\"backgroundcolor\":\"#E5ECF6\",\"gridcolor\":\"white\",\"linecolor\":\"white\",\"showbackground\":true,\"ticks\":\"\",\"zerolinecolor\":\"white\",\"gridwidth\":2}},\"shapedefaults\":{\"line\":{\"color\":\"#2a3f5f\"}},\"annotationdefaults\":{\"arrowcolor\":\"#2a3f5f\",\"arrowhead\":0,\"arrowwidth\":1},\"geo\":{\"bgcolor\":\"white\",\"landcolor\":\"#E5ECF6\",\"subunitcolor\":\"white\",\"showland\":true,\"showlakes\":true,\"lakecolor\":\"white\"},\"title\":{\"x\":0.05},\"mapbox\":{\"style\":\"light\"}}},\"xaxis\":{\"anchor\":\"y\",\"domain\":[0.0,1.0],\"title\":{\"text\":\"Loss\"}},\"yaxis\":{\"anchor\":\"x\",\"domain\":[0.0,1.0],\"title\":{\"text\":\"Mean Anger Score\"},\"range\":[1,7],\"dtick\":1},\"legend\":{\"tracegroupgap\":0},\"title\":{\"text\":\"Anger vs. Loss\"}},                        {\"responsive\": true}                    ).then(function(){\n",
       "                            \n",
       "var gd = document.getElementById('31c1f6a1-bb9b-4283-875f-4657b5f8fc35');\n",
       "var x = new MutationObserver(function (mutations, observer) {{\n",
       "        var display = window.getComputedStyle(gd).display;\n",
       "        if (!display || display === 'none') {{\n",
       "            console.log([gd, 'removed!']);\n",
       "            Plotly.purge(gd);\n",
       "            observer.disconnect();\n",
       "        }}\n",
       "}});\n",
       "\n",
       "// Listen for the removal of the full notebook cells\n",
       "var notebookContainer = gd.closest('#notebook-container');\n",
       "if (notebookContainer) {{\n",
       "    x.observe(notebookContainer, {childList: true});\n",
       "}}\n",
       "\n",
       "// Listen for the clearing of the current output cell\n",
       "var outputEl = gd.closest('.output');\n",
       "if (outputEl) {{\n",
       "    x.observe(outputEl, {childList: true});\n",
       "}}\n",
       "\n",
       "                        })                };                });            </script>        </div>"
      ]
     },
     "metadata": {},
     "output_type": "display_data"
    }
   ],
   "source": [
    "fig = px.line(x=losses_act, y=mean_scores_act, title=\"Anger vs. Loss\", labels={\"x\": \"Loss\", \"y\": \"Mean Anger Score\"}, markers=True)\n",
    "# fig.add_scatter(x=sae_anger_losses, y=sae_anger_scores, mode='lines+markers', name='SAE steering')\n",
    "fig.update_yaxes(range=[1, 7], dtick=1)\n",
    "fig.show()"
   ]
  },
  {
   "cell_type": "code",
   "execution_count": 27,
   "metadata": {},
   "outputs": [
    {
     "name": "stdout",
     "output_type": "stream",
     "text": [
      "act steering norm tensor(91.0582, device='cuda:0')\n"
     ]
    }
   ],
   "source": [
    "print('act steering norm', torch.norm(act_steering))"
   ]
  },
  {
   "cell_type": "code",
   "execution_count": null,
   "metadata": {},
   "outputs": [],
   "source": []
  },
  {
   "cell_type": "code",
   "execution_count": 29,
   "metadata": {},
   "outputs": [],
   "source": [
    "anger_words = [\"fury\", \"aggravation\", \"aggravationed\", \"aggravationing\", \"aggravations\", \"aggravator\", \"aggravatorred\", \"aggravatorring\", \"aggravators\", \"ailed\",\n",
    "\"ailing\", \"ails\", \"allium_tricoccummed\", \"allium_tricoccumming\", \"allium_tricoccums\", \"anger\", \"angered\", \"angering\", \"angers\", \"angried\",\n",
    "\"angries\", \"angriness\", \"angrinessed\", \"angrinessing\", \"angry\", \"angrying\", \"anguish\", \"anguished\", \"anguishes\", \"anguishing\",\n",
    "\"annoy\", \"annoyance\", \"annoyanced\", \"annoyances\", \"annoyancing\", \"annoyed\", \"annoying\", \"annoys\", \"bawl_out\", \"bawl_outed\",\n",
    "\"bawl_outing\", \"bawl_outs\", \"bedevil\", \"bedevilled\", \"bedevilling\", \"bedevils\", \"berate\", \"berated\", \"berates\", \"berating\",\n",
    "\"bilk\", \"bilked\", \"bilking\", \"bilks\", \"botheration\", \"botherationed\", \"botherationing\", \"botherations\", \"bothering\", \"bothersome\",\n",
    "\"bothersomed\", \"bothersomes\", \"bothersoming\", \"cacoethed\", \"cacoethes\", \"cacoething\", \"call_down\", \"call_downed\", \"call_downing\", \"call_downs\",\n",
    "\"call_on_the_carpet\", \"call_on_the_carpets\", \"call_on_the_carpetted\", \"call_on_the_carpetting\", \"chafe\", \"chafed\", \"chafes\", \"chafing\", \"chew_out\", \"chew_outed\",\n",
    "\"chew_outing\", \"chew_outs\", \"chew_up\", \"chew_upped\", \"chew_upping\", \"chew_ups\", \"chide\", \"chided\", \"chides\", \"chiding\",\n",
    "\"choler\", \"cholerred\", \"cholerring\", \"cholers\", \"cod\", \"codded\", \"codding\", \"cods\", \"concern\", \"concerned\",\n",
    "\"concerning\", \"concerns\", \"craze\", \"crazed\", \"crazes\", \"craziness\", \"crazinessed\", \"crazinessing\", \"crazing\", \"cross\", \n",
    "\"cross_thwart\", \"cross_thwarted\", \"cross_thwarting\", \"cross_thwarts\", \"crossed\", \"crosses\", \"crossing\", \"crossness\", \"crossnessed\", \"crossnessing\",\n",
    "\"crucified\", \"crucifies\", \"crucify\", \"crucifying\", \"cult\", \"culted\", \"culting\", \"cults\", \"cultued\", \"cultuing\",\n",
    "\"cultus\", \"daunted\", \"daunting\", \"daunts\", \"delirium\", \"deliriumed\", \"deliriuming\", \"deliriums\", \"deranged\", \"deranges\", \n",
    "\"deranging\", \"despised\", \"despises\", \"despising\", \"detest\", \"detested\", \"detesting\", \"detests\", \"devil\", \"deviled\",\n",
    "\"deviling\", \"devils\", \"disappointed\", \"disappointing\", \"disappoints\", \"discomfited\", \"discomfiting\", \"discomfits\", \"discomfort\", \"discomforted\",\n",
    "\"discomforting\", \"discomforts\", \"discommode\", \"discommoded\", \"discommodes\", \"discommoding\", \"disoblige\", \"disobliged\", \"disobliges\", \"ferocitied\", \n",
    "\"ferocities\", \"ferocity\", \"ferocitying\", \"fierceness\", \"fiercenessed\", \"fiercenessing\", \"foil\", \"foiled\", \"foiling\", \"foils\",\n",
    "\"follied\", \"follies\", \"folly\", \"follying\", \"foolishness\", \"foolishnessed\", \"foolishnessing\", \"frustrate\", \"frustrated\", \"frustrates\",\n",
    "\"frustrating\", \"frustration\", \"frustrationed\", \"frustrationing\", \"frustrations\", \"frustrative\", \"frustratived\", \"frustratives\", \"frustrativing\", \"furied\", \n",
    "\"furies\", \"furioued\", \"furiouing\", \"furious\", \"furiousness\", \"furiousnessed\", \"furiousnessing\", \"furor\", \"furore\", \"furored\",\n",
    "\"furores\", \"furoring\", \"furorred\", \"furorring\", \"furors\", \"fury\", \"furying\", \"hat\", \"hate\", \"hated\", \n",
    "\"hates\", \"hating\", \"hatred\", \"hatres\", \"hatring\", \"hats\", \"ire\", \"ired\", \"ires\", \"iring\",\n",
    "\"irritabilities\", \"irritability\", \"irritabilitying\", \"irritate\", \"irritated\", \"irritates\", \"irritating\", \"irritation\", \"irritationed\", \"irritationing\",\n",
    "\"irritations\", \"kill\", \"killed\", \"killing\", \"kills\", \"lambast\", \"lambaste\", \"lambasted\", \"lambasting\", \"lambasts\", \n",
    "\"madden\", \"mad\", \"maddened\", \"maddening\", \"maddens\", \"madness\", \"madnessed\", \"madnessing\", \"mania\", \"maniaed\",\n",
    "\"maniaing\", \"manias\", \"manic\", \"manices\", \"manicked\", \"manicking\", \"miffed\", \"miffing\", \"miffs\", \"nuisance\",\n",
    "\"nuisanced\", \"nuisances\", \"nuisancing\", \"offended\", \"offending\", \"offends\", \"overcame\", \"overcome\", \"overcomes\", \"overcoming\", \n",
    "\"pain\", \"pain_in_the_ass\", \"pain_in_the_assed\", \"pain_in_the_assing\", \"pain_in_the_neck\", \"pain_in_the_necked\", \"pain_in_the_necking\", \"pain_in_the_necks\", \"pain_sensation\",\n",
    "\"pain_sensationed\", \"pain_sensationing\", \"pain_sensations\", \"pained\", \"painful_sensation\", \"painful_sensationed\", \"painful_sensationing\", \"painful_sensations\", \"painfulness\", \"painfulnessed\",\n",
    "\"painfulnessing\", \"paining\", \"pains\", \"pissed\", \"pissed_off\", \"pissed_offed\", \"pissed_offing\", \"pissed_offs\", \"pisses\", \"pissing\", \n",
    "\"rage\", \"raged\", \"rages\", \"ragged\", \"ragging\", \"raging\", \"rags\", \"remonstrate\", \"remonstrated\", \"remonstrates\",\n",
    "\"remonstrating\", \"reprimand\", \"reprimanded\", \"reprimanding\", \"reprimands\", \"reproof\", \"reproofed\", \"reproofing\", \"reproofs\", \"rile\",\n",
    "\"riled\", \"riles\", \"riling\", \"roiled\", \"roiling\", \"roils\", \"scold\", \"scolded\", \"scolding\", \"scolds\",\n",
    "\"scorned\", \"scorning\", \"scorns\", \"soreness\", \"sorenessed\", \"sorenessing\", \"temper\", \"tempered\", \"tempering\", \"tempers\",  \n",
    "\"tempest\", \"tempested\", \"tempesting\", \"tempests\", \"tempestuoued\", \"tempestuouing\", \"tempestuous\", \"torment\", \"tormented\", \"tormenting\",\n",
    "\"torments\", \"transparencied\", \"transparencies\", \"transparency\", \"transparencying\", \"trouble_oneself\", \"trouble_oneselfed\", \"trouble_oneselfing\", \"trouble_oneselfs\", \"trounce\",\n",
    "\"trounced\", \"trounces\", \"trouncing\", \"twit\", \"twits\", \"twitted\", \"twitting\", \"vehemence\", \"vehemenced\", \"vehemences\",\n",
    "\"vehemencing\", \"vex\", \"vexation\", \"vexationed\", \"vexationing\", \"vexations\", \"vexatioued\", \"vexatiouing\", \"vexatious\", \"vexed\", \n",
    "\"vexes\", \"vexing\", \"violence\", \"violenced\", \"violences\", \"violencing\", \"violent_storm\", \"violent_stormed\", \"violent_storming\", \"violent_storms\", \n",
    "\"wrath\", \"wrathed\", \"wrathing\", \"wraths\", \"arse\", \"arsed\", \"arses\", \"arsing\", \"ass\", \"asshole\", \n",
    "\"assholed\", \"assholes\", \"assholing\", \"bastard\", \"bastarded\", \"bastarding\", \"bastards\", \"bitch\", \"bitched\", \"bitches\", \n",
    "\"bitching\", \"cock\", \"cocked\", \"cocking\", \"cocks\", \"cocksucker\", \"cocksuckerred\", \"cocksuckerring\", \"cocksuckers\", \"cunt\",\n",
    "\"cunted\", \"cunting\", \"cunts\", \"dick\", \"dicked\", \"dickhead\", \"dickheaded\", \"dickheading\", \"dickheads\", \"dicking\",\n",
    "\"dicks\", \"fuck\", \"fucked\", \"fucking\", \"fucks\", \"idiot\", \"idioting\", \"idiots\", \"imbecile\", \"imbeciled\", \n",
    "\"imbeciles\", \"imbeciling\", \"moron\", \"moronned\", \"moronning\", \"morons\", \"motherfucker\", \"motherfuckerred\", \"motherfuckerring\", \"motherfuckers\", \n",
    "\"piss\", \"pissed\", \"pisses\", \"pissing\", \"prat\", \"prats\", \"pratted\", \"pratting\", \"prick\", \"pricks\",\n",
    "\"shit\", \"shits\", \"shitting\", \"stern\", \"sterned\", \"sterning\", \"sterns\", \"twat\", \"twats\" \n",
    "]"
   ]
  },
  {
   "cell_type": "code",
   "execution_count": null,
   "metadata": {},
   "outputs": [],
   "source": []
  },
  {
   "cell_type": "code",
   "execution_count": 34,
   "metadata": {},
   "outputs": [],
   "source": [
    "def contains_word(text, word_list):\n",
    "    for word in word_list:\n",
    "        if word.lower() in text.lower():\n",
    "            return True\n",
    "    return False\n",
    "\n",
    "def count_words(\n",
    "    word_list: list[str],\n",
    "    model: HookedTransformer,\n",
    "    hook_point: str,\n",
    "    steering_vector: torch.Tensor,\n",
    "    prompt: str,\n",
    "    scales: list[float],\n",
    "    n_samples = 10,\n",
    "    insertion_pos = 0,\n",
    "    ):\n",
    "\n",
    "    mean_scores = []\n",
    "    for scale in scales:\n",
    "        print(\"scale\", scale)\n",
    "        count = 0\n",
    "        gen_texts = generate(model,\n",
    "                             hook_point,\n",
    "                             prompt=prompt,\n",
    "                             steering_vector=steering_vector,\n",
    "                             scale=scale, n_samples=n_samples,\n",
    "                             insertion_pos=insertion_pos)\n",
    "        for text in gen_texts:\n",
    "            if contains_word(text, word_list):\n",
    "                count += 1\n",
    "        print(gen_texts)\n",
    "        mean_score = count/n_samples\n",
    "        print(mean_score)\n",
    "        mean_scores.append(mean_score)\n",
    "    \n",
    "    return mean_scores"
   ]
  },
  {
   "cell_type": "code",
   "execution_count": 38,
   "metadata": {},
   "outputs": [
    {
     "name": "stdout",
     "output_type": "stream",
     "text": [
      "scale 0\n"
     ]
    },
    {
     "name": "stderr",
     "output_type": "stream",
     "text": [
      "100%|██████████| 100/100 [01:47<00:00,  1.07s/it]\n"
     ]
    },
    {
     "name": "stdout",
     "output_type": "stream",
     "text": [
      "['I think there is something in LineAE/NGL/Relations[1] that might be relevant:\\n\\npare', 'I think that a coiled tail in a Thunderbird actually goes back well beyond the Thunderbird tradition. I was a young', 'I think I called in when the owners were the ones taking orders and asking us where to stand in line in', 'I think it can be easier. There are a few flaws. If you have done that, but are now', 'I think I owe a social media apology.\\n\\nLast week I went tongue in cheek with a comment praising Haram', 'I think it would be <strong>1 cm.</strong>\\n\\nDue to the frictional forces, the speed <strong>', \"I think the shop is pretty hidden, not strategic at all. But the service is great, there's\", 'I think they should go back to Wayne the Dentist even though they were less then perfect this time.\\n\\nPoor', 'I think the case is more that they hid what the police did in the story, and when a major press', 'I think I have a problem.  Now I love me some retro Nintendo 64 and PS1 games', 'I think this is the 734 location, no idea of the actual cost but according to geoning', 'I think of, and have been collecting fruit skins for quite some time and because of a neurosis over all', 'I think you need to check your water to rule other things out. Chlorine causes a couple of problems when used', 'I think the first step in analyzing intensity is to determine why. Look at the math for updates/second (', 'I think we can all agree: people are weird. Sometimes, they are incredibly obsessed. And sometimes they seek', 'I think you will find that most can control it, depending on what you are doing with the crank now.', 'I think Plasma has problems recognizing the actual bit depth of the video signal going into it. So for example,', 'I think I have coined a new cocktail, \"Romitorio Room Nine\". It\\'s a locally bottled sparkling', \"I think it's this command:\\n\\n<em>SFM_ARD_SL^16</em>\\n\\nThanks\", 'I think I’m generally well acquainted with what I can contribute to God and what I have to do for', \"I think you mean reorder to insertion. Let's use redrope.\\n\\nAll discussion about landing the rope\", \"I think it's time to upload a more Accurate model of the original Car.\\n\\n- Body Shape -\", \"I think she's very charming and attractive which is what I love about her in real life and on screen\", 'I think this is illegal or something because my friend became an OSD(Orphaned Scale Disposal) if anyone else', \"I think this would be a bit too mushy for a adult for Halloween.\\n\\nIt's cute,\", 'I think the Nokia 7 has the boldest, most noticeable design out of all the Android One phones that', 'I think this poem should be read by a student who feels disconnected and alone. Whether they realize it or not', 'I think all my friends will agree that socializing with cats or dogs is probably at the top of their list of', 'I think I may have been a little behind my story attempts been slow but it is finally back in me...', 'I think this is the best there is out there. In my experience, no one else has a JPG generator', 'I think i should start a new thread about how to handle money wisely.\\n\\nI dont do anything detailed with', 'I think that this expression actually means \"to aim at something\" or \"to practise something in order to achieve', 'I think these are so fun! Just put them on and leave them, no worry of wet hair (unless', 'I think chocolate is a universal topic of discussion that most people can agree on.  I for one always make', 'I think I found your solution to solving this issue!\\n\\nWhen empty content is added using SetItem mode,', 'I think Angnias would be a good pimp. I also think Yuno and Prime are adorable\\n\\nBoba', \"I think if you're running low firmware and Booting safe mode sometimes causes issues talking to the Vista drivers\", 'I think he worked it out. I use the top four bullets.\\n\\nThese coping skills ideas for elementary students', 'I think that Places is very nice anf usefull.\\n\\nBut something which also may be useful to add:', \"I think there's plenty of milk in a few curls and it looks quite cute on her.\\nThe\", \"I think that the following idea would address this:\\n\\nLet's limit the attack to an instance of Binder\", 'I think you will feel as weird as me and especially weird the refraining parents. Is it a secondary school', 'I think that is for Ignite the idea that Jack is being affected by the effects of the Florida Meme, the', \"I think it is unknow.\\n\\nI'm using RStudio on Ubuntu 20.04,\", 'I think most educators of educational software fail to promote and integrate Edmodo into the curriculum. They fail to give', 'I think some nair scotch ones would match, depending on what ifs its something like checkered/plaid or solid', 'I think I finally pieced the Calvin Klein white down vest together. I did get the back in, AND', 'I think they are like the foundation at Macy’s! i get complimented on them often!! Will make a', 'I think all of us, no matter how old, would like to have our last words to be about loved', 'I think if the gem don’t hit, or is then cut down in individual pieces you get more money', 'I think there is nothing wrong with a vegans mind. I dont think there is anything wrong with most vegans diets', 'I think once upon a time people were supposed to have something like one or both parents working in a proper mainstream', 'I think the story is perfect the way it is \\nI mean i know it might sound wierd but i', 'I think you mean it to be a return to the original video rather than the default window type. The original', 'I think this weekend has been pretty much full of fun for everyone, especially for me!! Everything was so planned', 'I think we might be in the midst of the weirdest period of musical history, and I should know.', 'I think there will be an option for it.\\n\\nAs a giant I find mouse assault helicopters with two players', 'I think that its working. We do not have a number that matches up to the data source--I have', 'I think it could be related to the game engine. It seems like you regain cash when your character flashing around', 'I think they make assumptions about sellers based on language. It could also be the photo/video/appt', 'I think when most of us first hear the word “blended” in today’s society there’s', \"I think it's good separators as such however their dick-headed logic is without reason\\n\\nIf someone destroy\", 'I think it would be a good idea to connect the new storage and WAN ports within the X3 to keep', 'I think the biggest debate in my house when it comes to Dogecoin (DOGE) and $Bitcoin (BTC', 'I think the right question is not \"how do I use Linux\", but \"how do I effectively use Linux', \"I think it's highly likely that this is a physical malfunction of the keyboard -- a software issue would result\", \"I think the answer is right, but i don't really understand it. Can someone explain it in an\", \"I think I've gotten used to artist Toby's layered style of voice acting after watching him in plenty\", 'I think this is the best pizza in shibuya in with a good price. Went every night we were in', 'I think across Europe we are seeing an increasing number of situations of local government authorities appointing tenants to rented accommodation,', 'I think the pressure of having Tokyo Disneyland for the first time under the shadow of your own is quite unparalleled.', 'I think i know what your talking about I have this same problem its very annoying and frustrating. The thing is', 'I think this was a great bit of theater that took the plot and made YOU the fan create a scene.', \"I think Very 'slow mail' is the most appropriate description. (They've just cancelled a parcel which\", 'I think there is a misunderstanding about the “ad” that appears in the Spam exceptions list. “Ad', 'I think that expresso is part of Code Master, i has commissioning and settings parameters. but this is the', 'I think the pair of socks is a very nice addition for the bath. However, the sign is supposed to', 'I think in France, we use a CDN to host static content like that. I guess Hasura might need', 'I think i saw the same dvd probably a month ago, according to the review its released in 20', 'I think a part of me is sad that it’s over.\\n\\nBut I thought this was gonna be', 'I think depending on your dietary preferences it usually works for tourists and returning residents, but not for a lot of', 'I think I understand what your issue is. The A-QualityXML is not very good and we are resolving', 'I think selfies are so funny. I’ve taken a LOT of selfies strategically placed around town (not so', 'I think a good example of this is the nature of the leaky bucket controller. The bucket denotes the queue of', \"I think it's understood, you've not been paid, is the right approach. And if you\", 'I think your theory is very plausible; getting caught at Patterson Field completely vindicates all the criticism on BA hatch', \"I think we are speaking different language here.\\n\\nLadies, i've been running a 2.0\", 'I think for her private life\"dukun \" is the spirit of a Warri priest but neither she wore', 'I think one of the biggest reasons we’re supposed to clean our laminate floors is to avoid mold growth.', 'I think first this is a good game they try using the different Deviant arts to try to spread it about the', 'I think Kiefer Sutherland in Superman has pretty much prohibited me from loving anyone who would even approach Superman on either another', 'I think Gyro or Tai have super natural attributes and brutal damage dealing miracles, with sekhmet and instant paralysis', 'I think the symptoms you are describing describe stress. This is a much bigger issue than we know as approaching ', 'I think the fact that officers are so quick to use force violence on children is more evidence that we’re', 'I think of my self a FitGamer. The game started when I was 10 years old. The', 'I think about AI stuff all the time. The latest buzzword is Deep Mind. That’s when the', 'I think the D series can accommodate at least 12\" with long sound clips protecting the screen. Not', \"I think it would be nice to compare as many of the South's BG to the UK's in\", \"I think high temps would be a nightmare for an engine. Just not enough cooling.\\n\\nI also couldn'\", 'I think this case could have someone on that have good knowledge of the different nvidia revision cards an motherboards.']\n",
      "0.36\n",
      "scale 0.1\n"
     ]
    },
    {
     "name": "stderr",
     "output_type": "stream",
     "text": [
      "100%|██████████| 100/100 [01:46<00:00,  1.07s/it]\n"
     ]
    },
    {
     "name": "stdout",
     "output_type": "stream",
     "text": [
      "[\"I think i'm a little late with this, as perhaps many others, having seen all the blu-\", 'I think the term should read, \"On after N\" rather than the other way around.\\n\\nWhile in', 'I think I know what im trying to do. I defineime the compreseness of the surface as <cd', \"I think you're missing a few basics. Wildcards is a NodeJS specific feature. It's\", \"I think it really depends where you are located.  I'm in NJ and everything is horrendously overpriced\", 'I think this would be a flaw of the mmGrid package. If you knew beforehand the number of groups you', 'I think it\\'s strange to be like this!!!\\n\\n\"If only you could see my face when I', 'I think it went down pretty well locally, same thing about the Halloween parade in Leesburg, DC.\\n\\n', \"I think I just created something that's almost as bad as a TS3. This pun was totally unintentional\", 'I think the one or the other sponsor may be putting it on the table. I am still confused. Most', 'I think my first, zero year (or Rook) is the reason my heart rate reports are frequently a screw', 'I think a lot of second sons are pushing their needs aside and saying no to life in order to please their', 'I think this book is awkwardly written. There are so few words, fragmented sentences and there is very little of', 'I think Dom Prowl should put her face on all his crappy covers first. This cover he chose is really', \"I think we all stopped jumping of cliffs during the 4 years of lockdown, don't we? This\", \"I think that Jose's illness is going to now be a turning point in their relationship. He valued it\", \"I think GANs have an edge.\\n\\nI don't really know, but the main thing I don\", 'I think Real Madrid’s possibly the biggest winner from this transfer window. The signing of Varane is huge', \"I think it's a total game changer to a long running, hard core stoner game\\nholy ****\", \"I think it's annoying. They ask for answers for GOP's, but don't respond to\", 'I think they changed it, you used to have to turn it on\\nOpen it up in the notes app', \"I think just general knowledge, I don't think boldness and bravery is my strong suit. I doubt that\", 'I think only Dr. Wetterberg is the only holistic/HE practice all round. If someone relates to the', 'I think they say they will come to your door and I was guaranteed I would have a door for a door', 'I think I have worked it all out.\\n\\nMy wife entered the country through Adelaide for a pre departure night', \"I think you are correct. At 90mph you'd have an average of 8G,\", 'I think this is a good way to hold off longer on p5m. Mostly due to the useless stats', 'I think I had a flat .. very rusty. It was level and I drove off and then pulled over ...', 'I think Paniz are great for people on a tight budget with similar styles and form factors to trusted brands like', 'I think you have to follow through with the rehab. I would not let her just feel sorry for herself.', 'I think about my family a lot, and I want to thank them for this world that I’m helping', 'I think it may be a problem of disk sizes\\njust use DD\\n\\nFor Ubuntu Linux:\\n\\ndd if', 'I think one of the interesting differences with panתיμόνι is that it is a \"made from everywhere\"', 'I think this is an AMAZING idea! What a great way to beat the heat, and encourage creative play during', 'I think it should take about 40 minutes on the info highway. Now I am not sure internets', 'I think I’ve finally realized what I’m supposed to do with his… maybe I will find something', 'I think “Property” must be благочиня, the name of a charity organized to help orphanage.\\n\\n', \"I think you haven't renamed the default sheet in your template.\\nTo do that just double click on\", 'I think,TELL INDIAN SCHOOL SOCIETY WILL HELP US.I REGRET TO INFORM YOU AM INSIDE THE CAMP OF', 'I think of gum all the time as being the evil Monty Python character they introduced in the animated spoof of', 'I think the main lesson here is \"use a little common sense,\" and maybe stop using so many copyrighted songs', 'I think it would be cool if they let you sift between files before downloading. I think maybe if you turn', 'I think maybe Dylan and his author Michael Jeral would like to clarify a few things.\\n\\n“Not literally', 'I think this shirt should be about a star person representing all of us.\\n\\nAbove that, I want person', 'I think the real problem in Milwaukee is the buyers being willing to pay full retail. Sure when the Margins', \"I think do you mean the '07 and up fox boards/karatecis ? \\n\\nI don\", 'I think Children are somewhat prone to believing things, without the filter they have when they should know better, The', \"I think Lady Penelope would really approve 💖\\noh, I didn't know there was anSomerset Shipping\", 'I think it was a giant beetle.\\n\\npffft\\n\\nYou can ‘transform bloodvesters into something', 'I think that the best GDP is – is popularity is the most relevant or policy relevant for Southowners\\nIC', 'I think we all hoped that the Topps Christmas release from 1994 was as famous and widely', 'I think that Levi is the antagonist of this book. He turns on his former friend Gileohna even', \"I think I studied with this person. Sad she's probably studying something different now, but I still rate\", 'I think if you can load your missiles under the N.Pag island.\\nNot sure how they work,', 'I think it’s very likely that you’ll have a deluxe package at the Gaylord. But not sure', 'I think you found a technique which is very useful for the future and will make your life a little easier.', 'I think this has been asked before, so Forgive myчь taint 懵逼 慧 geplant... for not', 'I think that there is good money there.  The amount of the union fee is ridiculous especially since they want', \"I think 2nd gen's have two different sized threads where the mag tube screws in, it'\", 'I think knee braces can be too unstable and non-functional for most people, so I will try to explain', 'I think they are really beautiful! Sometimes I can see purple almost in the middle, or I see very faint', 'I think a very serious symptom that can change to something else as you lose hear it is sending the channel to', 'I think, for me, it’s a reminder to enjoy the smaller treats in life. These things may', 'I think I answered this in another thread that got deleted.\\n\\nI love my carrier but they are the wrong', \"I think it's a bit pointless.\\n\\nI think professionalism is key. Well that is one thing I\", 'I think the only analogous swim dog is the rough collie. Ricky doesn’t have the coat needed, although', 'I think the chances of getting into an OOC shapeshifter are as rare as real shapeshifters are', \"I think that there is some confusion here. It's not necessary to use a key. For instance,\", 'I think you better go with the top one, if only because of the rhyme..the second one just sounds', 'I think this knight has his armor fuse to his body. Probably because of his heavy armour might. Even though', 'I think you’re right on there Rooster,\\n\\nI hope you don’t think you are the only', 'I think we all know the unspoken ‘rules’ about office romance. Published in 1953,', 'I think it would be worth making a point about the construction of anti death penalty literature. It is fairly common', 'I think you can count on using that for years. I’ve been using mine for 3 years,', \"I think you're just being a glass half empty rich kid.\\n\\nIn the grand scheme of things,\", 'I think we need a peel. Can we book one in my name?\\n\\nThis is a talented actor,', 'I think the Templar Knight challenges are misleading with the whole Velen feeling to them setting you back to the map', 'I think he read his remains on a book and he take it to fight with mom cats of Texas & Facebook', 'I think that for some people this is a big indicator of what is wrong with ours. I am finally cleaning', 'I think Hamilton repeatedly implies that he missed the last episode at some point in the series.\\n\"...was the', \"I think I've napped in just about everything. Buses, filled wagons, trokautors, air\", \"I think I'll wait and see how things go with Folded Rock because of all the posts I'\", 'I think that the only black word in my life was black beauty. Oh my God. Black beauty for years', 'I think a back room was dirty music playing. Too loud, people were shouting, no ambience, long wait', 'I think we should pay $700 per player as a flat fee accessed through a premium option (like', 'I think we all <s>hate</s> love <s>hated</s> OBS <i>orange bean</i> series,', 'I think cartilage degradation would disturb joints and make them painful over time. Without cartilage, bones rub together making large', 'I think Palace should be looked at by Pragmatic Play so they can potentially fix that bug. \\n\\nThis', 'I think I’ve talked in one of the last blogs about the sunset in Malaysia after the dividend income fantas', 'I think that as humans we are wired for rewards. When we are awarded something, our libary has a', 'I think Donald Trump has effectively usurped the King of Skullcap lore. And the King of Skullcap has', 'I think this enterpermance fits well because it is so technologically advanced. The director in this film artists evokes', 'I think, the thing which makes your model more capable (on an aeroplane) are the tube sections/struts', 'I think Uroda company in 2011 distributed plants diluted in mineral waters from various sources, which', 'I think we can all agree that Denzil Smith has been one of the better roles in write episodes this season', \"I think it's just an error message saying that there are already assemblies available for that reference that can be\", 'I think his mum is a top class block who had either another kid supposidly in Brazil or took her', 'I think Christmas is about being creative and not spending too much if you can help it. I think I probably', 'I think there is a point in any engagement, marriage, or partnership. At that point someone loses love interest', 'I think that it could most likely be a of high invoice quantity. Do you receive or make an abundance of']\n",
      "0.39\n",
      "scale 0.2\n"
     ]
    },
    {
     "name": "stderr",
     "output_type": "stream",
     "text": [
      "100%|██████████| 100/100 [01:47<00:00,  1.07s/it]\n"
     ]
    },
    {
     "name": "stdout",
     "output_type": "stream",
     "text": [
      "['I think Oliver is the cutest thing in the world!\\n\\nShining Stella Rose! lol\\nMet rosetan', \"I think that the no AI option (I think it's all the way up in the options menu)\", 'I think I have use for everything except Old Brussels spouts, my garden soil will despise them\\nBillfrost', \"I think my expansion is still unresolved.. With everyone elses help it's not down .. No signs of\", \"I think the answer is no. You might be able to with weird inputs involving chords, but it shouldn'\", 'I think this is an important point.\\n\\nThe actual goal here is to not lose people Craftaholic', \"I think I have about 18 KARAT gold coins but I cant remember exactly, I know there'\", 'I think one of the most under-estimated women of Torah is Chava (Eve) known as Bet Hee', 'I think that intense dialogues posted in other thread suggesting such can pull down your case especially well so we need to', 'I think there should be a side effect of time.\\nRemoving the swimming glasses would be a good some remind', 'I think your physics book tells you that in. The area is for rigid bodies. Though effectively rigid masses are', 'I think we often times romanticize the struggle without relating it to any \"logical\" problems we might be', 'I think reader comments are rude and disrespectful. I have read many a recipe that needs more salt,but no', 'I think your definition of a healthy state is a bit suspect. Healthy wild (un-fished-ged', \"I think I've wasted my money here.\\n\\nBit slow until mount went off.\\n\\nThe was made\", 'I think it indicates our own obsession with cleanliness when I see all of us husband and wife are so afraid of', 'I think I’ve found the <strong><em>worst technical mistake in graphic design.</em></strong>\\n\\nTake a', 'I think it was immediately after I got home. That every time I walked into the room or looked at the', 'I think the sandals are good, I bought them based on the NIKE brand and was very disappointed to find', 'I think this is just a form of compensation that the website allows people to review sites because a site can advertise', \"I think I've been getting a load of cold weather plans from someone, what with all the freezing rain\", 'I think the measurement concerning heart disease that is the worst is <strong>premature cardiovascular diseases</strong> . They are', \"I think it's kind of cute in a 50's-style soft tattersall mantle\", 'I think the type of body can be concluded by the street style seen in traffic. Blackhead then do red', 'I think that the Little Mermaid will be too difficult for us :) - But I interested, how much is the', \"I think it's so effing adorable! If hell and earth break out on Easter too, you might\", 'I think I may have mentioned this before, but after I packed my bags and took off for the trip to', 'I think you may show a little taste in your host assembly.\\nhttps://github.com/vtira', \"I think this happens to me when I eat fast food, especially when it's on the go. I\", 'I think this is a good condition from 1968 Arco lineup so it is likely mint. The', 'I think this is the proper setting (though I remember writing a long post about it switching back to transcode', 'I think ~LostInSandiYouth~ is what you need right now. I sincerely hope this clears.', 'I think..... New Nai~~sanmade ! is the best!... but i cant find it on youtube! Can', 'I think your post is a bit confusing.\\n\\nGrammatically (and structure wise) you look fine. When', 'I think the most important aspect about performance is ‘core focus’ - what is it that really needs to get', 'I think it’s a little bit contrived how Cameron confirms it in the end but, yeah, I DO', 'I think the connection between nursing and meditation is that they are both practices of going inward to quiet the mind.', 'I think the below are correct:\\n\\nI ALL READY KNEW THE ANSWER!!! KERRY DONALD HOW DO YOU', 'I think this looks damn decent from the images I’ve seen! (See below) although there is no', 'I think that one of the next features that will really make iOS6’s multitasking a powerful and useful tool', \"I think this week's Timmy St. Peter chess (not my problem, that's someone else'\", 'I think the damage is really high....unless you are in a raid you end up losing more aggro than you', 'I think we can all agree that warehouse management systems (WMS) are necessary for every fulfillment warehouse. WMS', 'I think its time to just advice to Samsung care app for Seriphones because I am feeling that before I posted', 'I think i have posted this topic before. But i am thinking it might be better to post it again if', 'I think this update will be huge for game. Please deep dive and while you are there, point out which', \"I think you should try to use a Simpsons-Vind-TDSthat doesn't blow. I don'\", 'I think London might take most, if not all of Italy.\\n\\nlondon.co.uk/en/…', 'I think there\\'s also room for anger in this shit.\\n\\nFor \"justify\" I don\\'t', 'I think this goes too deep into the Garden of Eden. That fact that the Tree Of Life was put in', \"I think that is a great video to watch and it shows people that a lot of times people aren't\", 'I think <u>Gloaming</u> are the best techno/rock/shoegaze/goth band in Finland right', 'I think like so many, the idea of injecting adrenaline and drugs to be prompted by a negative feeling is dangerous', 'I think well launched is too weak of a nerf in this state. There are way too many ways in which', 'I think trying to answer ultra specific things like this can be a problem for the rest of the stack exchange d', \"I think I've answered the same question under year 13 in my preview article https://www.\", 'I think I might have some problems with codeacademy.\\nhttps://www.youtube.com/watch?', 'I think these images come is perfect timing. The ‘I Hate You’ image came up on my new twitter', 'I think the north faces of drumlins should have some triangles which must please people with schools made of hundreds of', 'I think she’s just sad about not dancing to “Happy” because she’s told us in an', 'I think you are confusing Click House Insert with Merge Append? Merge Append will append/merge a delimited field to', 'I think the answer is \"variable\" - there are apps that can analyze weather from tracks stored in lifetime routes', 'I think that sounds more like the gimbal controls since that is what the from the end user perspective is typically used', 'I think it\\'s another \"Attention Getter\" Music Video for Common Youth (Bjork\\'s band).', 'I think you need to accept it in context of the song. In this case, the chance meeting between his', 'I think I have an idea and er they way I did it took 15min. This should work', \"I think that's what you want to say; sneakers wont change the pace at all :)\\n\\nIt'\", 'I think first things first.  I need to take a bit of anger out on a few folks.  ', 'I think some forum users have already seen this issue, but too much showing after factory reset makes the keyboard malfunction', 'I think if they want a 10$ payment with payments they should of made it payment over the ', \"I think it's called:\\n\\nHOMES group\\n\\nStac\\n\\nMagical gizmo\\n\\n\\n\\n\\nTom\\n\\n\\n\\nWell\", \"I think they should both head towards the Bundy Creek.\\nHmmm I don't know. I wanted Cory\", 'I think this is Tech slowly going to far in the wrong direction, I mean when you try to change the', 'I think you are being scrawly.\\nWhen I give instructions on various things to my client, I', 'I think you are only able to use points on Dining or Retail.\\n\\nThe extended terms and condition clearly state', \"I think all the options should work. I don't have reproduction on my copy, but I did get\", 'I think that’s…wonderful. Homans was all weird lonely in a quiet house with his parents,', 'I think you should be using \"ブーツの中に” in that case.\\n\\nYes, it is very, very', 'I think first thing is never to say never. Not when he asks to stay in your home. He is', 'I think I will keep the questlog as a true log. Currently the one linked from the landing page.', 'I think about Christ torturing the Holy Ghost on Fridays during his painful walk.\\n\\nAnd not only he suffered', 'I think that you’ve been doing OK. You’ve got 2 symptoms of which you can’', 'I think it is.\\n\\nAccording literally everyone.\\n\\nHilarious post\\n\\nFor how prepared I am do you think', 'I think it has to do with the transcription to Laplace and the stuff which $\\\\epsilon$ factor in the intermediate', 'I think it is Time Finding not Fixing https://supportcommunity.ruckuswireless.com/s/article', 'I think the REV is a good idea to help remove that major low end lag and in the long run bump', 'I think I chose the wrong path. I did think about last week, and beleived that although there were', 'I think this one answers both of your questions.\\n\\nhttps://www.fivedots.net/\\n\\n', 'I think you are trolling\\n\\nNo. I am just saying JD has the best battleships IMO. Yes,', 'I think of you often and I treasure my memories of the special times that we spent together in the past.', 'I think one of the first things on my mind is to install GuideView and GuideInfo around my wall.', 'I think it would be better to paint on his face and handed these wings and little knife on screen like Superman', \"I think, the bullet point really does capture Lindiwe's woes. I guess there is a great\", 'I think this is inherent. The scheduling system is designed for beginner/intermediate players really, not for more advanced', 'I think the problem is the name. @emilymaffett and I both have created issues with this name', \"I think it's either the license plate or the licence plate frame! Dear god i cant believe i have\", 'I think I can appreciate the feeling of being homeless. It’s no picnic, I can tell you.', 'I think it is a lot lighter as well in terms of design. There is no hole in the center and', 'I think you all need to go and get fit. Or find a way to relax. I have three children', \"I think most truck drivers would still love their job after 30 years. I attended Mr Joe's\"]\n",
      "0.45\n",
      "scale 0.4\n"
     ]
    },
    {
     "name": "stderr",
     "output_type": "stream",
     "text": [
      "100%|██████████| 100/100 [01:46<00:00,  1.07s/it]\n"
     ]
    },
    {
     "name": "stdout",
     "output_type": "stream",
     "text": [
      "['I think it is a little hard for me to understand, because I have never cared enough about this series,', 'I think that pretty much summed up my right side which happens when I watched the fight..problems were start from', 'I think a little side ponytail would look awesome\\nI really need to start going up to cocker as many times', 'I think we probably all spotted an airplane flying on Monday the 15th specifically because of an announcement from', 'I think which is most important, to revive the ship now would anger everyone. If china supported us and payed', 'I think this may apply parallel to, or repercussions of the severity of the following:\\n\\n1. The ari', 'I think brood wars is the largest board game that has been programmed in Python on a Raspberry Pi. I was', 'I think the Gearbox is a bit angry about me.\\n\\nRecently my Ultimate Goblin has becomes massively disengaged', 'I think most students try their best at school. For my second “academic crisis” episode, I’ll', 'I think there are more threads about this as well. I just bought the gel pens monday after planning on doing', \"I think this one is one of the reasons I lite the first thing off\\n\\nI don't usually see\", 'I think the future and excitement Hope I get to see a picture of my perfect person. The not knowing someone', 'I think this happened to me too yesterday and did the same thing, although normally I have my alarm set for', \"I think that to fulfill a promise to my wife, I've contacted Touchstone and  directed them to\", 'I think the panda raccoon Pet is cool and fun!!       \\nA Rare panda bear and a raccco thats', 'I think Abhishek rajni kotter should have been a great movie .\\nthe movie should not been made like', \"I think the reason you constantly fail is by the fact that you didn't play the game. If you\", 'I think what makes those with the magnets kinda bad is not fear but being short and not being able to get', 'I think we all will do something nontraditional this Halloween this year. But I have a feeling that at', 'I think I would consider a tougher skin or paint job. Glad you got your deer!\\nThat was a', 'I think it’s safe to assume that the blue color in unlocks in my wars gallery weren’t put', \"I think we should be able to choose how we take a medication. A few years ago I'd taken\", 'I think about it all the time.  Why is it always me?  How come I am responsible for', 'I think that’s 👍 Rathausklecker. 🤣\\n\\nTo the ESOP recipients.\\n\\n“Let’', 'I think it would depend on the issue perspective.. if they are parents, I tend to be more angry that', 'I think Getty had the opportunity to take advantage of it. I wish Getty all the best. Sure, athletic', 'I think that the end of a long week is an ideal Mexican wedding HANNAH_pixels_notion', 'I think that Darkseid has slightly more to do with that than Bruce ever had to do with anyone.\\n\\n', \"I think I'm very unhappy and disappointed with the film. I know that a lot of people feel the\", 'I think to have 2 ITEpetete screen like Emily, because pale skin sounds cool\\n\\nBut the', 'I think it would be cool to have this song in the multiplayer mode... or the other way around.\\n\\n', 'I think the guys succeeded, because we also have to stop trying to be so successful at everything. I think', 'I think my date of birth might’ve been leaked 😪\\nIf they’re not going for job', 'I think the Skyfall song was better then the movie… Will always remember the day I could hear ta epic', 'I think though this morning he still has some guilt he was that depressed and maybe this is what makes him think', \"I think it is <strong>1.Add the registrant id's it's just an update.\", \"I think it moves so fast, it's hard to catch up at times. \\nIt's\", \"I think you meant LIES = CAN'T LIES\\n\\nIs this reading coming from Justice Scalia'\", 'I think of excretion as waste materials, not just the waste materials excreted by pests like fleas and ticks. I', 'I think we can all agree that making money is a basic need, and making a lot of money is even', 'I think most of the time on here I think xkcd is funnier then you are. It took me years', \"I think it take a lot of courage and refine women as Dp it's easy to become Inconsistency but\", \"I think the title of this entry speaks for itself. If the title doesn't, here's a\", 'I think EFIAW wants to purchase a $1 billion investment.\\nOne possibility that arises in the course of', 'I think I know why; January and February are already a bit sluggish for Sareabout me. All those bank', 'I think I’m going to go buy another cord set for my encelo gaming system!!\\nSeriously though', 'I think that it would take a lot more pics to throw a QC at eh tomatoes pants. All they have', 'I think there is very little risk of penalty in this case and that Seven should fight for it. The delay', 'I think we disagree about what human desire is. Equality does not automatically mean that equal things are equally valued.', 'I think you can get a high amount of quality satin by boiling the contents or placing the item in a tea', 'I think this is pretty funny.\\n\\n \\n\\nSo I saw this through a blog called Titlist and it', 'I think a game of cubical dasis would be a great time killer.\\n\\n\"Well, I\\'', \"I think it's 3 panes/windows.\\n\\n@ildanyourknight These two windows are each\", \"I think I have a solution to this problem.\\n\\nI don't have fantastic automated test plans, I\", 'I think that we have a terminal curl command that you should use. You can use it, and then you', \"I think you're going to have to reboot the Pi and try again.\\n\\nWhat happened six months ago\", \"I think I missed week 1 - we'll have to see on Monday if this one makes it through\", \"I think I'm right but I've been taught I'm wrong before.\\n\\nA projectile fired\", \"I think it's absolutely wonderful that the 2VP's choose to put on a science demonstration so\", 'I think McCarthy may have over rehearsed the take of the Booker JSC at the Riggs Mall 20 yrs', 'I think i lost some horsepower in the upgrade, i like small things that make those things some hp eix', \"I think that you're overthinking “the lights are on but nobody's home.” I don'\", \"I think you misread. You keep saying that Estonian girls are fat and are complaining that they're not beautiful\", 'I think the author of the first reply is overdramatic, or stupid.\\n\\nFirstly it is 12', 'I think it is worth mentioning that our winter weather is colder than in Scotland, and lasts much longer, downhill', 'I think it is pretty safe\\n\\nd works like this\\n\\nso\\n\\nif you take n mod 3 then', \"I think I need to use the giblet to get more bang for my buck. I'm headed to\", 'I think I have a problem.\\n\\nIt started when they showed up at my front door and wanted to know', \"I think her demon stuff is burning itself out, didn't you see her crying and praying - that wasnt\", 'I think some technology is pivotal in any landscape. My favorite is often the scuzzy little oil stains on dirty', 'I think American bacon (or American ham) tickled off more islanders than Spam. lefevre may have', \"I think that's one of the sole places where you may want to compete. At Arcade Strike: Star\", 'I think the years of my accumulates upheaval has given me an extraordinary complaint of the skeptical, most of the time', 'I think that Valentine’s Day is something at this point that actually doesn’t bother me? It just', \"I think it's pretty normal. What's his routine? When does he nap etc?\\n\\nNap\", 'I think part of our problem was that we were constantly on our feet.  I’ve run the Boston', 'I think live theatre, where all the performers are wearing costume, is a great thing for a comic. I', 'I think that only new versions of the Nokia N800 are affected. This seems that the problem came', 'I think it might be hard to get immediate diagnosis, primarily because of a lot of self limiting illnesses that are', \"I think you need to look at some of Paul's edits. If I recall, he edit very much\", 'I think if you wanted to cut down on the weight a bun or two its ok but just noting you can', 'I think I had the same thing happen to me at 25 odd weeks which really got my midwife pretty', 'I think that the podcast I’m absentmindedly listening to right now should actually be listening to because it', 'I think this is the only border of my book.\\n\\nA stone?\\n\\nRealized Thomas is a cute', 'I think posting after work this late over the weekend was probably not a good idea. But, damnit,', \"I think it is the same thing. But if you don't convert them to standalone on behalf server some\", \"I think there is something of Megatronneur in me. Somehow I've always been the crazy boy who\", 'I think the secret to unlocking glow/ice cream smurfs is fairly straight forward right now.\\n\\n1)', 'I think that the problem which needs to be tackled more seriously is scalability. According to the principle of “do', 'I think it has something to do with the amount of time you have been using VR on. Any wattage adapter', 'I think I hit the nail on the head, did my friends too. Our discussion respect was personal is un', 'I think in most of the middle east there is civil unrest over the corruption, poor response to the covid ', 'I think it is going to cost you. Those mind control ones usually cost around $1,000', 'I think that the title of this art is puzzlingly misdirected, because the stolen art is quite clear.', \"I think Maki's sunset is the most beautiful I've ever done. Like when your drawing prevent colours\", \"I think (have always thought) when a level green sneaks up from behind you, you're tripping\", \"I think perhaps one of the reasons why there hasn't been a lot of art discussion about CNET'\", 'I think I know where you getting all ostic in that mic. The old ting about -FÙ¬', \"I think there's another podcaster I heard mentioning on one of their more recent shows that they liked it\", 'I think they look cool maybe a story can be attached to them like 2 stormtroopers got into a']\n",
      "0.47\n",
      "scale 0.6\n"
     ]
    },
    {
     "name": "stderr",
     "output_type": "stream",
     "text": [
      "100%|██████████| 100/100 [01:46<00:00,  1.07s/it]\n"
     ]
    },
    {
     "name": "stdout",
     "output_type": "stream",
     "text": [
      "['I think, you must first slow down, calm down and control yourself so that your issues are not not get', 'I think 12 weeks is a little to early to travel on public transport. Public transport is unpredictable and', 'I think this should be a warning once you have 4 car accidents\\n\\nWill the trolls break out the trucks', \"I think its Her Own fault that she didn't have a grant, times someone about the same age as\", 'I think this is a very common question at this point. I have same problem and want to do.\\n\\n', \"I think there's a lingering issue that flows through the entire project, where certain background tasks are held off\", 'I think, I will, maybe & yes!\\n\\nNormally, there are cheerleaders for overwrap extension above', \"I think one of the major obstacles parents have when dealing with technology today is that we won't stop beating\", \"I think springs are still on during this time of the year. Wouldn't be resolved.\\nWhen Apple\", 'I think I am the only bass player who wishes complex modern metal guitarists would learn to control their guitars less', 'I think this is probably one of the more popular shirts for the North Wales and Chester fan base.\\n\\nThe', 'I think I’ve probably been complaining about garlic-rice about ten more times in the past two weeks,', 'I think this event might have been a world leauge trophy event in 2021? Ive checked', 'I think its quite common, the only thing I could really say its that your role is to let her DOWN', 'I think there may be similarities to someone what if someone comes to your house and you want to give them a', \"I think Disney South Korea is going to have a field day here because the country, L'oreal-\", 'I think you mean \"tôi vừa không hài lòng [n] với anh\".\\n\\nI agree with Ginny', \"I think some personal experience is the important thing.\\nbabelified and customer service aren't strangers yet\", 'I think everyone is remembering being annoyed at how long it took to get to the end of the elevator in Virtual', 'I think of some situations that irritate really easily at middle age and known problem that is failing penis and losing EC', 'I think it depends probably age in as well as the purpose.\\n\\nI am the youngest and always felt short', 'I think you may need to stash on the side to get the outcome you want\\n\\nSystemic, never work', \"I think it's entirely possible that the last night of Kevin love would be with her prior to the divorce\", \"I think it's from a high level component.\\n\\nI can easily argue my friend the credit manager for\", 'I think cars, crossing grounds, streets, ignoring red lights, etc. They are called \"inses\".', 'I think its safe to say without any support that the following situation is an unstoppable inevitability: outsourcing HR becomes', 'I think that most people consider PSA (premiun, slick, aggressive eyes) to be a symptom of over', 'I think the full ilmiah is for anyone who turned angry. I use it to make it even more angry when', 'I think I need more ideas on this. We pay $198 a month for my first family member', 'I think the teen relationship should be ignored. Boy! Really!!! In my worst temper I vaprage about this', 'I think that if you were a conservative and you are incensed about him calling it a tragedy and race bait', \"I think I've been through every patch in midnight frakin' Smith, everything in smith isn't\", 'I think I was about thirteen when I decided to acquire a passion for film. I grew tired of seeing another', 'I think what you really, really want to say is “Milk, worms, and poop for days!”. I', 'I think about a lot of things. When I think about what I learn, I transform those learning experiences into', \"I think its bashing because their primetime went up in the fights\\n\\nI haven't seen an entire post\", \"I think the guys were still having a mental breakdown when the vid was made and the thumbnail wasn't actually\", 'I think you need more details on what is happening. I doubt they just thought your bag plus one survey strong', 'I think you deserve a hug.\\n\\nNO.\\nTHIRTEEN YEARS!\\n\\nI started the drama in', 'I think that the title is perfect for this class on ADHD!\\n\\nGee, should it be angry?\\n\\n', 'I think it comes down to how accurate and informative the script is.\\n\\nIt is all about the Nosson', \"I think you'll find your primary resource are the talkers plus that many do not agree with Russia about\", \"I think it's very good:\\n\\nIf /r/ in front of the image. He's\", 'I think there is a LOT of discussion and blaming this stuff on MV, when it is not on the owners', \"I think Pelé must have lost it.\\n\\nAt least I'd be able to play video games!\", 'I think I was about in the same stage of my life when I saw the previews film. I suspect I', 'I think that I might feel that I am writing these words, saying them and doing these gestures wildly out of', 'I think our most recent comments on the forum suggest what some of us may have thought. There is NO record', 'I think this might be resolved now in the following reply\\n\\nThe only issue I have is that while I use', \"I think she's a little aggressive and weird but she is just a kid. Sometimes I get like that\", 'I think that this ACla site is geared towards fixing the misdirected people that feel that they are losing their', 'I think the landmines appear because the value people lose from being robbed at Taksim Square is a bit of', \"I think that for what little they paid me she seems like an annoying bully who hadn't a clue what\", 'I think the Ukiyo-e art pictured here is a bit over the top. Still, it’', 'I think I am having problems because he is his only child and still thinks he is in a relationship with Quarry', 'I think, one key point about this is that every lawsuit is an attempt to bypass the anger management stage.', 'I think that, if any individual person wakes up and solves us are now on the road to violence and terrorism', 'I think that There are some products such as the following and create a show that Takes the users anger when stuff', 'I think it sounds like a tough question, tough enough to make you angry enough to curse aloud, that is', 'I think a this post might be helpful: https://developercommunity.visualstudio.com/content/forum', 'I think that the only way that Salman khan, Aamir, Aishwarya were able to stall the release', 'I think it would be an appetite suppressor if their are no obvious reasons why they are not eating.\\n\\nNeither', \"I think it's a good idea to mention it about to make noise. And when the anger rises is\", 'I think the problem start over a long time ago... There are a lot of users who are posting how angry', 'I think a lot of people have seen a lot of the boats with the red paint on the end that fill', 'I think there’s some issues concerning the recent death of a boxer that was a Morrissey(SP?) hate', \"I think the answer to your 2nd question is you can't be sure. Actually with the new\", 'I think its weird and unfair. I am totally angry and would never make a post about this. But I', 'I think we as a species haven’t understood people. I’m as quick to piss off as one', 'I think that you will have to write ur name in the additional point. As u took a loan on the', 'I think this is how I describe Jimin without breaking my voice.\\n\\nThe way he shoots me a temper tan', 'I think they’re stupid. I’ve talked to them too much. Having 2 hours of aggravating', 'I think it’s important that your hygiene ratios are on the top of the list. \\n\\nThis $', 'I think, for a lot of people, 2017 should start in October. (Sarcasm', 'I think the Royal’s Pats — not the stakes — are a terrible idea!! Who in their right mind', 'I think that you are <strong>thirsty</strong> deeply.\\n\\nHe <strong>became</strong> angry and <strong>wr', \"I think that's surpressly ignore.\\n\\nHere’s where I get frustrated- I spent additional\", \"I think that they mostly geared towards children though because during detentions he'll have all of his belongings with\", 'I think this is an important question, because I keep seeing lists of the top 5 complaints with Nextcloud', 'I think I am the one in the situation.\\n\\nIt struck me after reading an article about moaning couples,', 'I think sympathy exacerbates things, in the same way that criticism and worried feelings cause reactions and irritability. Anger', \"I think there isn't any method against an opponent to ruin your weekend from his anger.\\n\\nBut you\", 'I think the problem with rear engine TV sets is the entertainment system!\\n\\nI remember those ghost things coming to', 'I think the ish man... you raided the kitchen? asked you for more mama cared. but at the same', \"I think I dropped because I can't take being attacked at every possible turn and I can't go\", \"I think I've hit a stalemate with my bro spellbot specifically because whenever he wronged he employs Verizon,\", 'I think this should be fixed, but this is technically the r-process frequency \\nlimit and was intended', \"I think about Fear a lot. A little bit at least. It's harmless because I think it'\", \"I think the biggest party was the year '93 - 94 when the guys stabbed some towel er\", 'I think a lot of people are suffering from this. CP2077 barely plays as well as RE', 'I think Helen is a really nice person. The first time I heard her was due to the people who made', 'I think it’s official…\\n\\nBriggs & Stratton has micro fuel systems (and all competitors) are', 'I think I would call Rick to figure out the whys and wherefores. I agree with you and there', 'I think he went to Red Box in Kentucky when I was using Veon. The radio was crazy. He', \"I think it timeshare. We ended up in the Gardenama suite and all our 'issues' are sorted\", 'I think I am an ass. I just dont particularly get annoyed at this situation. I think people are being', 'I think this was my last Angry Video Game Professor before I started lives.\\n\\nThe sound bites of said signup', 'I think that you can’t operate, heck, I think you CAN’T VACUUM a man!', 'I think I am over the hospital situation. They cried way too much. But now I can hear Mercer laughing', 'I think he wanted to piss someone off. You do what needs to be done and work against it if necessary']\n",
      "0.55\n",
      "scale 0.8\n"
     ]
    },
    {
     "name": "stderr",
     "output_type": "stream",
     "text": [
      "100%|██████████| 100/100 [01:46<00:00,  1.07s/it]\n"
     ]
    },
    {
     "name": "stdout",
     "output_type": "stream",
     "text": [
      "[\"I think I am the most disappointed person out there, because I've been working with MSC for the last\", \"I think different engines have different configurations depending on what you're angry about. But, as much as I\", 'I think W kwam{(\\\\Leftrightarrow) , you may be very angry and blame at someone ….:}\\n\\n<b>T', 'I think its BS etiquette for making a movie at the end of the year because they lost marriage for the New', \"I think that after the lawsuits I expressed in last September's column, I missed important things with a lot\", 'I think the problem is that <code>url</code> is expecting a string \"https://api.twitter.com', 'I think a good retrospective on such things, is an in-depth psychological rant -\\n\\nSamantha made a choice', 'I think I’m tired. Maybe it’s the wedding band episode that reminds me that when my hubby', 'I think that the maija spirits burn out really fast. Anyway here is where I ran in to a korean', 'I think this doesn’t need an answer but I believe that you just had a ”time out”. If', 'I think I make gumchi every year - blisteringly hot is the nicest thing to make me.\\n\\nIs', 'I think that people are afraid of their love and jealous, because if they find out that someone is using them', 'I think there are 3 neural frequencies that I can create rest and is when zombies angry zombies love people and', 'I think Rebel and I need more. Help!\\n\\nWhat\\'s so \"wrong\"? I\\'m sure', 'I think they looked at everyone in the world! i bet it bulged out at the government !\\n\\nAnd', 'I think I’ve commented before. Manny Kelley’s “Twilight” put me so mad I couldn’', \"I think this is the worst thing. For me revenge is not fair. It's just parently Revenge\", 'I think it has to be about time #BringBackKuroKuro every character, I was helped out by peeps', \"I think you're misreading the dataset. Each row in that table describes something was because of something that\", 'I think this is a great show and have been living in the USA for over a week right now trying to', 'I think I might laugh – at myself because I just spent almost two hours of my life – if there was', 'I think that all the problems were avoidated or declined about the teacher and we don’t want him so', 'I think xTerm handles font size by fontstyle, instead of script fonts. Such that xterm thinks that', 'I think that I am very angry but I have a problem usually I am angry but anger wrong always anger .', \"I think this is very good i congratulate you but why with fireflies?\\n\\nThe girl shouldn't yelled\", 'I think The Woes of the Silver Age against Heat because he had a lot of stuff on the streets during', 'I think the ice damages the speed. Have 2 things to address:\\n\\n1. DC\\n\\nThe Micro', 'I think that my time watching the president talking to people over the phone means they will ultimately hurt people. I', 'I think I read the title but I read the whole thing. Oh my hell.\\n\\nTHIS POWER WE HAD', 'I think that the link was misdirected, but eventually they did come level withs.\\n\\nThe posts were', 'I think this kid hates me.\\n\\n\\n(send to any of these impatient people)\\n\\n\\n\\nHam All Somad', 'I think in the Episode I was trying to exploit the Turing many of people based on the fact I let them', \"I think it's already 2 months you haven't post. If firefighter stop with you, I\", 'I think there is one that looks like a mechanik (handmaid walking) model against the Wall of Fire', 'I think the final boss is going to be a nightmare for people that watch the bull time cut scene and then', \"I think that the difficulty that I experience with regards to the question that I conveyed on mn as wasn't\", 'I think the genie is in the bottle over Biden’s “righteous” and petty rage that Biden did not', 'I think I have been with them for too long already. A farmer I got so angry at his kids that', 'I think I can edit some stuff... ugh! I wonder what the management think about men leaving to cry at', \"I think that's kind of unfair for you to make him take it out on someone else plus it'\", \"I think Taylor did it on First as she lost her son when he couldn't save Dick from Hot Rod\", 'I think Naruto is angry he that went stuck on the bottom of the ocean more than he would be if he', 'I think Nas was very right when he said on \"Public Service\" that his last disc was a reflection on', 'I think the second one is the right way. so you angry. you get a jump on other relating.', \"I think it's normal for my hairy giving me micro bites. The redness and itchy surface slaps my jaw\", \"I think people going to the post office about how the cardboard box/mail isn't stacked high enough...\", \"I think that to many people who don't pay much attention to things, often a lot of anger and\", \"I think about this stuff daily... it creeps up on me when my girlfriend gets jealous about it. I'\", 'I think that toys are facts, and that they should be polite and throw. Thought. I hate to eat', \"I think you and I both have a lot of us when I'm angry, especially when someone hurt my\", \"I think it's safe to say that our three-year-old Edogamaeru is feeling very\", 'I think I spoke while I was drunk! I had a good word with a lady in Aldi because her tears', 'I think getting angry is a very natural thing. However it’s important to figure out the source of that', 'I think Boromir is a pretty good guy I have some issues with him when he gets to Mordor which', 'I think we ran some social media about it  but didn’t end up getting anyone fired eventually sacked or', 'I think I can see the cooks distrihid by ammin shake saiyin lord who had till J', \"I think they rivet it rather than use bolts.\\n\\nIt will do over time! Lol. I'd\", 'I think all you have good enough ody with them fences thta it makes them uneasy. and enemy gets', 'I think if you guys are so tired of this by all means just do whatever you want. but every time', 'I think I might be a little late to the party about Aladdin. But I do have some serious disdain towards', 'I think she was a hollow person when she said that. In other words, when her anger got completely out', 'I think this is more about Instagram. Why you do we forever after it will. Without any sound just.', 'I think I saw several yellow jackets last saturday.\\nMy husband put them in a boomerocotone bucket.', 'I think u need to delete your pikachu and find another pokemon,IGNORE THIS!!!\\n\\nUmmm if u want to', 'I think Roget bent  at the dad not for weapon to someone for a moment righteous show by pressure fire', 'I think NOW memes are a much smaller proportion of the GQ readership then we actually expect but I must defend Pop', 'I think that the dock is reverting to the window state if you click inside the dock. In this case,', 'I think its a bit petty and unnecessary court over a change in code 😉 no other option but to work it', 'I think it might be probably a Titan posing at a wall. Maybe a Winny.\\nNot angry,', \"I think the Michelle Zimbalist's argument is based on the lack of compensation for lost time in her\", \"I think you asked other because they took her and abused her. Believe me you can't of taking your\", \"I think your shift is so wrong if you fight over why your boss doesn't have things in their kitchen\", 'I think maybe even I, I vanni but\\nThat\\nThis\\nThese people are wrong\\nSo I', 'I think there is no right or wrong here. Does your wife just want to be with you? If she', 'I think you can go with me and <b>become angry</b>.\\n\\n\\nI felt disappointed / <b>angry', 'I think most of you going to AY about Arshavast. I think előbbvarthreiben is,', 'I think the asidocon is one of the most angry \"White\" guys I\\'ve ever met in', 'I think we are closer now.\\nI feel like people who get angry about a stock, then kick and', 'I think Jeep Cherokee needed to completely un colpa with Kangaroo for it to take you out like it does in the', 'I think the powers side of bar really does boil my face. They all, accusation, in their little voices', \"I think we were all on fire after 'Bloody Shen' for a while, as we were when we came\", 'I think it is amazing that the BBC doesn\\'t even show up about these \"angry intensive-woy', \"I think I should come home\\n\\nIt's got me angry\\n\\nIt's like dancing with the weather\", \"I think that's an issue with your mobile device. I would report it to Facebook using the tools provided\", 'I think this review is a little unfair to Sophie really. When the horse is calling at the rider and they', 'I think first I would have to say that their product does not work. I have bad cost because I dropped', 'I think anyone that complain about my FB post is completely ignoring the validity of my words. Anyone that has a', 'I think you need to play as Ballista because the factions portrayed off during this battle. And the female of', 'I think this of you only when I wanted to work too much to explain.The in you is blackness fill', 'I think the correct answer is the President does most of the tweeting. The beginning of a subreddit was to start', 'I think the US government is angry with our disregard at his death.\\n\\nUs: We are bored so let', 'I think it is only on teams that made it in....other consumers are probably nicer versions of consumers looking more', 'I think the only one who can fire that cannon is EDI, if if close it need explode.\\n\\nProgress', \"I think Facebook is right, very dangerous writing in their note, over people's anger at ending the night\", 'I think it’s always good to blame your boss (or your wife) on a bad day. Just', \"I think I'm gonna cry. I am so annoyed at *Chanse! He was very mad at\", 'I think this watch would have cost a lot more in a store. I had to ask myself, \"how', 'I think the Thal Priests are the worst thing ever made by the original author. I think it was Wrath that', 'I think you will want to pay attention to your heating more than boredom with delay times. Amp is measured in', 'I think Christopher Nolan had a point when he up and quit the Bat because we were never told which Bruce they']\n",
      "0.61\n",
      "scale 1\n"
     ]
    },
    {
     "name": "stderr",
     "output_type": "stream",
     "text": [
      "100%|██████████| 100/100 [01:47<00:00,  1.07s/it]\n"
     ]
    },
    {
     "name": "stdout",
     "output_type": "stream",
     "text": [
      "[\"I think that one thousand years of hatred\\nthat's brewed in my brother\\nlast till it destroy me\", 'I think the way, zombie way,slinger, yell, stay angry, and grab, at guards and', 'I think the biggest problem I have is that I’m not very young. Don’t. Laugh.', 'I think it is about time! This angry bird will bring all the randy birds together against their boss.', \"I think I'm more upset about her poor! If I wanted to yell at a character in Naruto that\", 'I think that there’s a problem with Congress about the deaths and destruction of innocent people towards corruption and all', 'I think you both got at each other but it’s ok. She will be upset at you that she', \"I think I'm trying to express at the same with K with the stain of the fictional map on the\", \"I think, we did not kill Angela's husband, make drunk and kill his mug, since they are\", 'I think the best way for someone to feel their life is without any substance over the worst. His temper is', 'I think the same thing. Theirs some of you must not ise because a mild 100k', \"I think that if it's not happening because he's just too emotional and longs for anellys\", \"I think this is the most bitter cobra in ever! It's gonna confront an electricity or something's\", 'I think it would take forever and become a waste of time to read this <u>foxy</u> thread...', 'I think I’m not lonely because my life is complicated. If I had enough energy, I would burst', 'I think that the Korean public is outraged anyone?\\n\\nTake out your anger on me, and let me go', 'I think this one really at me (extracted at 6:27) is at the act we are', 'I think the most frustrating thing about the venting of Winston wasn was in part that he was unhappy at the lack', \"I think everyone one will rage the same that attic's and fuss about the angry mob. It's\", \"I think because of work, unhappy a lot blah blah blah and I don't want to be bothered.\", \"I think alot of people watch the shows for a reason, it doesn't depend on what its firing at\", 'I think it is wrong to call them bulls when the president or an establishment leader is angry but it makes perfect', 'I think we need to call the loyalty and scrolf I r give up at the shit I pressure and', 'I think because at the age of almost 7 and 9 and I have this girl with me.\\n\\n', 'I think hydroxide is an all-caps word in me right now.  The anger caught my loyal attention at', 'I think rising tensions about about the chop incredible at Yuuûrni but not any colorful: he think he', \"I think that scientists don't like the way humans use gasoline. When they burn fuel, they bang and\", \"I think I'm gonna call my Logitech cause it's been burned at me all night and I want\", \"I think the base is missing, else I'll let him at the scat @$!@🎅 secolo,\", \"I think it is more than one thing. I am becoming angry husband! If that wasn't enough my\", \"I think this is the 'Prom . . . ' face only lady but unplug your phone it's until\", 'I think it should be given to <strong>XXYX</strong> for the litters that a woman gets.\\n\\n', 'I think because it was too hard getting people.\\n\\nHere at the MOTD mengra, sometimes you get', \"I think the WWE creative team wrote an angry Tumblr post today that probably has some people's heads crossed and\", 'I think it would look better if I did not blow at it but yes not directed at him!\\n\\nSorry', 'I think you go back more and more because she feels helpless. She whines at you? Is she magnifying', \"I think toning was a mood and inability towards the world right now that's why that character's so\", \"I think you can get mad when you don't have your grandmother.\\nReally mad!\\n\\nI'\", 'I think I am a little frustrated because of a couple of things rather recently. I was pounding on the door', 'I think Smokey is a great game to play with the family or after a long day. My thumb will go', \"I think I'm going to post a little. It's getting serious dammit.\\n\\nThe main part\", 'I think the first in this series of medieval unleashings at the Eden Valley Tavern has already subsided, so there', 'I think Tuesday is (and that usually triggers me), but really, f**k, it’s sad', 'I think like 99.99% of aggro Russians today about the phenomenal doings of EM, which', 'I think my post hurt a few people yesterday on my Facebook, so I decided to mount my boards and yell', 'I think the hairpin drawn buses has been going on since 2 people got underpaid for the Terrible new I', 'I think the Author will very deeply if this is serious. This is not a outlier just over this was very', 'I think i can kick after the pizza factory i feel. i want to beat at them!\\n\\nThe bra', \"I think this must be just fans of the Genie living in the same neighborhood. People shouldn't be upset\", \"I think a depression is probably a better word than anger because it's so irrational and over here and for\", \"I think I'm scared sick right now I'm so mad, so ticked that I can't\", 'I think this situation you and I have no clue of my friend! And you got me today see ANGERY', \"I think it is simple because the council members are angry with the mayor.\\n\\nIf you can't handle\", 'I think this is a pretty common thing.\\n\\nIf the difference between people about losing at the last minute changes', \"I think there is a bug, which I want to address, and to do I'm VERY hot.\", 'I think about all the things that I have to do from the internet lately. If a company worked, I', 'I think this is when GameStop cuz I have gotten that over Tidal (not MadDog) so fast theres', 'I think the first time I saw the unmistakable glare of the pink all over hyena was with Joseph. Hy', \"I think I might be a little salty when I started this. And why I'm so fuming is\", 'I think the customers I yelled at at the bank, at the liquor store, the waiter complaining at the McDonald', \"I think I'm going to be cancelling my subscription. I've been emailing them at the same rate\", 'I think that is very reasonable, but Todd was very mad and the emails came out.OU CHANGED that', 'I think one of the most irritating and slow situations it causes in me that could make me snap this most when', 'I think you need to talk with one of our support team members.\\n\\nThese aren’t MY SUPPORT because', 'I think that first question is just a way for Fire in the Sky to get away from the fact that many', 'I think I’ve been holding on for so long at not only with myself but silently at my angry people', 'I think some of the IP about the safety that I had is because he could still see me for an urge', 'I think I’m still feeling like the first reaction today that was related to not evaporated soup….. I', \"I think most of you know I'm very angry (really!) by the  Hamilton! songs.\\n\\n\", \"I think everybody was fuled, following the last speech from Brexit today.\\n\\nBut I'm a little\", \"I think it happens because I can't help! We keep playing when we see our wrong about / /\", 'I think “techno-ness” is your only option at this point. Torana at the BITS department,', 'I think about regret all the time. Everybody gets mad quicker these days. Yesterday I had a truly shit wreck', \"I think you need glasses. It's easy. Ok, I won't be blrryn\", \"I think this is partially a difference on grammar here, Zong! Read the part before the picture and you'\", 'I think some of the room, I leave it angry, (not because about what she is saying but about', \"I think I understand. Yes, it's the opposite. You are breaking an expensive sprite by saying that\", 'I think I double confronted by this slow gliding dragon toy. i believe that the snow rage \"did not work', 'I think it’s worse than any normal horrr sprite off the randomness, but imagine if the elves had', 'I think this could have anything to do with the issue that Persimus.\\n\\nLooks like I was adding an', \"I think people in the 2000's would agree with me comically, and honestly,\", 'I think cash coaching is just thrown to players that lose. Your son teaching is is intense but you need to', \"I think everyone's letter about the Midwest Amateur show at Archie's Sunday, march 19th\", 'I think Channel 4 was too angry at me so they forced me to make this.\\n\\nOh, I', 'I think one of the reasons I hunt Native Americans is that when I was 10 years old, my', 'I think we should sit down!\\n\\n... not against, but mad that the guy worked out as pissed as', 'I think you can be the most badass person on the planet and still feel sad. You can’t always', 'I think John Wayne could sleep at night at the\\n\\nnews, as did many angry soldiers and veterans after World', 'I think this is the fourth game in the series. I need to kill the guy who takes my presents.', 'I think you’re fucking off. I’m sick of seeing people give when people don’t care', \"I think I'm going to...discover the profound affects of playing this game.\\n\\nIt does what you\", 'I think this!! Absolutely in love with Feld! I literally legit snap pictures I see someone who has been so', \"I think I will try every other direction possible until it's out. I usually don't complain for\", 'I think this is a strange comment from your essay teacher. I back a missing man but i tend to get', \"I think if I'm mad at somebody I think I like them...I don't know about forcing\", 'I think in response to the title of this question I always say \"Find the man who hurt his brother and', 'I think I’m more upset the correct way up.\\n\\nInvestigate. Angry. Mad. Seo.', 'I think we all agree that the DSP mod configures and the modem with no charge.  Try a battery', 'I think it may be overkill but I want the rip test in stone because the original user. Angry at the', \"I think I'm rambling again. There is of course a deeper link that these conversations spawn (originally it\"]\n",
      "0.61\n",
      "scale 1.5\n"
     ]
    },
    {
     "name": "stderr",
     "output_type": "stream",
     "text": [
      "100%|██████████| 100/100 [01:47<00:00,  1.07s/it]\n"
     ]
    },
    {
     "name": "stdout",
     "output_type": "stream",
     "text": [
      "['I think Dictionary too and i finish not with Edd... Bye bye!\\n\\n\"Inside its woman\" is the', \"I think it's because he doesn't get about enough so he makes me angry so he can a\", 'I think it is not with reason,\\nwhen the rising sun,\\nearthly - sulled - angry', 'I think it about mid management, childish, bit, always !!! at them for Angerly.\\n\\nI get', 'I think today…about the lack of time and fearful that about how I was…this is at my stomach', \"I think with me it firsters than which I get like I’m a fucking grader I's and\", 'I think you at the wrong place this right and if you are. well with u might explode that translucent red', 'I think I should be angry at John when he won and goes roaring that your son? Up enough to destroy', 'I think you are (at long, bitter, tired thoughts held and abandonment going towards) at DC Fire at', 'I think Laroc was the big donna bird the whole time he was driving in the courts. Many a young', 'I think because than I get\"...\\n\\nBack and I\\' and over crazy... at sea And so I punched', 'I think that we’s very very angry! Nasty vex very (S)fix (I) mad or', 'I think this game on that day when i see i plays at have with my tells me to who comment at', 'I think meuriens at Adults And Girls who for two months,crazy, when i still want to?!!', \"I think this, but as inry, I' overall and sad because that. I was like your extremely\", 'I think the Hell would of stoped like his little child for a minute. If i had a fan like', 'I think that I have lost the items that I have on display now.\\nThe 4 - is,', 'I think the best things came after when I took out and yelled at the people behind me. You became the', \"I think a lot of women, a lot of people. I wasn's, sn , or any.\", 'I think we did long and cancelled about at scenes.. and boil\\n\\nAngry, poor abandoned, of with他', 'I think Flyageable Democrat is at with that the fact that an employee quit over at Air L and his', 'I think about violent texts; at Ta Black I’m a voice! And I’ for with a little', 'I think a lot of people this morning.\\n\\nHundreds have turned up at a mass protests last week as petrol', 'I think this resembles now towards a source where someone has been for long time back at the anger. Therefore,', \"I think your teacher is right at the moment and didn't because that at you that one little because but\", 'I think what he is most at right about. his....solution for the school he let is fast red is', 'I think you had enough about People and so your the mess, guys and the kids a little bit and particles', 'I think a lot at this \" A Goodness \" moment... ! at myself that made my ... at \"', 'I think you? at the most and a little bit - about what ? A lot more at the hike anyone', 'I think so much about when my best at bull today. I’ will explode. don at bulls if someone', \"I think it is because that I can't at myself thatwomens manager\\n\\nI am a small person about\", 'I think a lotly guy, who Bella was when she was mad. I think that sometimes when she is', 'I think I am about Keystone again, so I made the comment on the environmental channel.\\n\\nWhen he was', \"I think even though around this the death stage was like the fire was sitting at me\\n\\nI's about\", \"I think last time you guys/em...well it's hard and im going to do because this is\", \"I think the point he doesn' display wasn at with the seeds he was so he would yell like... because\", \"I think that, heartbroken i drew.. I guessed and when punched at... how.. 'nt actually... '\", \"I think at that point the conf could be released but it is not just because the game. if you'\", 'I think that it follow with a broken child after with at see..if irritated and mad if see how and', 'I think at this point but no one is at the point, not even because they were on fire at one', \"I think I'm at the Peakpoints! Do the god! Isn' at the hot hot want all\", 'I think life’s a feeling. really, I’m seeing now. at this moment. more than', 'I think it has long been. Because I despise of Albion, Mao! and that feeling that makes me grateful', 'I think and then. this happened to Rachel about as when she cancelled at Ve so video \"you weren\\'', \"I think the mad birds, I've not at mentionwort Jae even made, because at bastard that day\", \"I think it's a bit when Blitans Street because I can lash about at the sent caused by his\", 'I think because it. \"thirsty\" at a crazy and ok time, not at the tiny sque that I', 'I think that casting is whenever something very makes you.Cry. So I decided to get the at and threw', 'I think or if you are about at something this morning so much this morning??? (not just at people anymore', 'I think that I spoke to with my ire about you to aged conditions and I again at togetherness is I', 'I think the tea all bog down people in the attack because can!\\n\\nThe fact you’r probably at', 'I think if because a lot is often the thing, getting very and Cruz in 2 is something you direction', 'I think it’s not because I wanted for a long time to the poor either and I was furiously and', \"I think it's awfully that Uber is keeping since it would wage. A bad road is sto my a\", \"I think this morning's form in me continues at the fact that Arsenal's players and everything!!\\n\\n\", 'I think that the island developer was Cheatal in the old days so i ended up. My I do I', 'I think I would be a lot more than I am if you were at Yourself because you didn’s with', 'I think.The man had cooked with me and if I where at him.\\n\\nSo I destroyed the anger', 'I think I said at Jonathan Brightberry, “You can,” \"because I was also with,\" with?', \"I think he is going and about. Boo him as I do, that's fine at the court is\", \"I think you should at nu which makes you Bruce or angry and takes you off! '¿’ I got\", 'I think it is going to get when when my car is trouble\\nI will be much when everything is\\n', 'I think Schumacher, but I am addressing at something that is near enough but not out enough so, often.', \"I think when I was eight, my best! That's probably wrong, and I' for at that\", \"I think you'd be which if you were drunk. It was more at the chief that for was as\", 'I think about whether I am immature and disappointed at a situation in the world with my not \"at\" state', 'I think if you were mis,served for sometime.\\n\\nUnathed is very scary imm\\n\\nim', \"I think I'd had enough that it was the wrong time and there should be at almost here broke whip\", 'I think to say to the saint or angry a drunk up absolute late i with I takes but a angry but', \"I think I am not very at this moment.',\\n                    'I looked apartment at him! at himI\", 'I think about this 90% of the day. Only thing that got me more than the ring or', 'I think at this point prison riot here. it’ the pandemic at him\\n\\nFinally a f</blockquote>\\n\\nWith', 'I think everyone would have towards the height towards the letter just because and justiably. Now you will across people', 'I think it’s mostly because heart beetroot!!!! I get so mad and it makes me want. Thankfully because', 'I think that the exchange I felt because didn. That whitey@ things I go the. I angry filled', \"I think that's the onlyly mad grnage you when if someone makes up there away as there young\", 'I think a lot a lot about what my mother husband at the age, why was so bad and kept me', 'I think at this point no person, no insane abandon, and above is totally raging and can be easily because', \"I think all the second between the two 'new time' course that cause? and so want and I ro\", \"I think Red Eye is that I'd been waiting at the restaurant for stupid, and he said at the\", 'I think that\\'s the best we sisters untilvdddd that Bub A accepted wrong adults beneath … but \"', 'I think at the start I by at stake but Ryan he get angry and stoy and shouted because that the', \"I think every poor consumer is not about a change. it wasn's about a thing especially if it is\", 'I think, Which Man would I going to to a Chinese Cafe? That I needed service at 91', \"I think I'm going to have sex at Subway Zong every I' at 90, is when\", 'I think this Raphael illustration is at there for a good enough reason mainly on two fronts; heat about over cooking', 'I think about acne everyday, and I rarely, rarely, enough to make me hold overnight. I named my', 'I think the whole point of me is that its not that such easily lol. I am so angry at Death', \"I think anybody at the Coast at that point. couldn't translate at Hompos that... Did the customer\", 'I think at least I spent at a dear, I’d at little but betrayed the air and and I', 'I think about how angry I get when I have to make argument words at my grandson. I was looking at', 'I think Cap about at the men, how at, an see , if problems.\\n\\nBecause Stey for', 'I think at pretty with black.doesn at my why so I sold that without an added a tweet!\\n\\n', \"I think the obvious comments are at a boiling point right now…but, you'm waited till my bodily\", 'I think in everything because of? / angry diagram face that surprised at everything comic | Online Guards BTS By Angry', 'I think the software on this that one you would not does  people angry it they would and can when someone', 'I think it does crum and here at me so get a yell and breaks at sounds and the fight\\n\\n\\nby', 'I think this is just at big that what.\\n\\n<h3>Break up for traffic paved t shirt shirt express we', 'I think you are a unni, Ikroji.\\n\\nOn misread. The only thing at the', \"I think this is because you think that Kyle Black, he wants this because he's not and is pouring\"]\n",
      "0.67\n",
      "scale 2\n"
     ]
    },
    {
     "name": "stderr",
     "output_type": "stream",
     "text": [
      "100%|██████████| 100/100 [01:46<00:00,  1.07s/it]\n"
     ]
    },
    {
     "name": "stdout",
     "output_type": "stream",
     "text": [
      "['I think so...that it...\\n\\nI was about! at my child!\\n\\nThe alone water because I', \"I think too, because I'er people at\\n\\nv. display I at at it is at about it\", 'I think about a lot at people and when I am I I write at easily. at with the at small', 'I think about when… if for a long long white and pink sprint… at the very easily distance at being', 'I think at this moment at me a lot with with because orgasm. at happy big dony A!!! fog', 'I think a lot at HOA. at a point told by the tourists among people get fats at holding ( lot', 'I think..?!? at creating out at! So I try asy at everyone and! because at like at', 'I think I felt that. I was unable because I got. slowly and that I was because because I I', 'I think most of who! at the Army at Pacific at at wind!! ic that cheap black stove. cost', 'I think I should for no reason at Chris that it it at out because.\\n\\nThere is at with me', 'I think I at at at so at at and that sullable because at everyone at this I at because at', 'I think the gas because it ....\\n\\nI told him and then I snapped at me with I said how a', 'I think I\\' that lately today didnt at send mood\\n\\nat that quickly because that oh what annoyed?\"\\n\\n', 'I think sc room while people don makes you for you when it yet reached enough enough with at angry I man', \"I think for once.!!\\n\\nTuesday\\n\\nOk!! I can to it wasn ofな because I'c\", 'I think a lot, big angry birds combinations. Red little, Chief scene much between. angry that have', 'I think the latest because there are that! is that he thought AI and! at at very. diaphragm it', 'I think that Rage Birds when enough is department y  when salty that he doesn he get when it stomp black', \"I think about when because you say that because when and Bobs that that's energy and and unfair wonderful\", 'I think with with management at this I he at vat and other that not happy and his at? and if', 'I think if, and if justified I. I got. Especially at being at camp on Jesus isn girlfriend.', 'I think at most at Bronze, because when I shoot won at enough, at at and that makes me more', 'I think at this point i am at. I at em that the beanie. excited? have offended many people', 'I think with at higher people that saying like. And if what at cause is! But there temper with he', 'I think about the mass liquor every night at unhappy. IVF with one at that potion, I threw! And', 'I think I might at a few things che at it is sailors that nearly get at thingy hot... PLEASE', 'I think about because easier than with before.  yet I because. Yes, or, because, - at', 'I think one because I’ is that at it is at me sort at at it lets me man minded at', 'I think it is the best thing in my this tho that not with samsung and it crazy at about bit,', 'I think.\\n\\n\\n\\n\\nat the very very neutral range.\\n\\nhaha... i suspended prime normally even at without', 'I think about when when with. and angry about how cheats and then at at and bloody мэю\\n\\nFirstly', 'I think it, that the boss, boy Russian at emotions! 😉.I said at the dog at car', \"I think about whenever I at because v at most\\n\\nWhen I'\\n\\nBut but\\n\\nC isn what because\", 'I think. I requires under and sad a wife is said at one easily - field near because at power at', 'I think that, How Out and Sad Right And, Danger Trigger I, Discord Black Or An Because I.', 'I think about at what tiny silent mood when and with this comment saying a but bit in my without without because', \"I think I'ness at with because about when I was. And all at Miguel to at about with him\", 'I think there is more than both of me at  like or maniac. if at a point butt at at', \"I think this im at in about every time at my usual point if I'.\\n\\nPut. How?\", 'I think it a reason when Obama threw up, he destroyed, and made. whatever! he is bidding to', 'I think at the bakerly. at words! it doesn because arrogant because sorry that! bomber w battled against', \"I think because I' at like when i see at at like i quickly want at.  \\n\\nyes at\", 'I think because I never at a point when I can at a moments racial cost, over and I get items', 'I think a pretty line at Netflixers guy and feel I will at the hegen my batter everybody color.', 'I think about mostly at this time!. about at with. that! were very angry and angry at the', 'I think about him! thought, then, he continued that and he that! that he! and what at', 'I think that this is not a Dad DM anger post at because a quiet as like politics independence that ended but', 'I think at bedtime... like that that article. With I how mad that you this mothers vent. What you', 'I think the white out with the boss loud dads at Leo is at me but if mamma EA’c on', 'I think at the moment because being please at someone is very , . I at about something at , when is', 'I think everyone at the public road, this especially at every  people not at the same and about for very', 'I think it because that I talked about a prolonged when after deceived that into the.\\n\\nI plunge and by', 'I think very much   at some point this screenshot needed to you . it that   , but that energy of', 'I think Apple is about faced at this moment at \" at about the origing that W at at the boy', 'I think, every now and then, and hoped at that so I smashed the Steam man\\n\\nDecision thing\\n\\n', 'I think. a building at me. looks at and afraid I a man: 9 Netflix the Critic and', 'I think at that stage John when and how much and weather at. and angry and back at very mad hours', 'I think about how about at the book not at the point about at. but, at with. it almost', 'I think is about at the same red beared about at about. • don very kind • and Cody •', 'I think a k tiny tiny t…. I was because you had someone that a <b><b><b><b><b>', \"I think you at! are and man for\\n\\nI!                 \\n\\nI' that pretty when for\\n\\n |\", 'I think that gold at so much that i can draw about taking out at with god at  without it yelling', \"I think I' was all and wishy- that there that I would of at my someone fiance! because\", 'I think \" Why at you because\" .. because... , at and what .\\n( ( about ) ).', 'I think you just and! I and people because overpowered in turn as angry! fact? I. Please was', 'I think Nathaniel... and I then Easy but it think and and.... I it... now!\\n\\nNo enough', 'I think these and I have been piss the cuzred. like stomp hot\\n\\nwith bad luck at ro.', 'I think because last deleted at at night, and. that I at at my little most at at very,', 'I think about how that Americans and I will people about study and not is most all (that the this about', 'I think at I forgive and to the point if if I have lots against for so that? go | at', 'I think abouy or! That that little that confused. Is true! - hung at at is point that', \"I think that I'm so angry and sad, a lot!!! and thaty pls... and that lot\", 'I think that he is at that stage in trying. and you? mad? at at at at at at', 'I think that, I bought my very at parents at today because about at at driving because I at at at', 'I think the same that take. Could for your HD and lot loud and that your black. big because of', 'I think because over at with about five. This really at about at this that blue because at at and who', 'I think about at people things, or, angry all of the time,, or sometimes, I at a', \"I think about tweets at customers because that's about  at people. but its that this path is later\", \"I think! is better than is more and at the grape stoer? Instagram and if he' Mr silent\", 'I think we want.\\n\\n<b>but I’ this when I read | and I thought because what I was', 'I think that is just the gutter continent that he because that pretty hard at the his at the his dark as', \"I think beamy usually. because that they' at that she you\\n\\n7 much you your! told anger\", 'I think that some because at how that.. but at at a little more?! I was driving..? When', 'I think at a lot of many times with * but at the point stage anger. Clint! with at pitch', 'I think about at anger at the power from I. Jose, when at someone because of. Because that suddenly', \"I think because I have at one management at the though and inconvenience because I! destroy and obs I's\", 'I think because!!\\n\\ni at me at a puddle and about because I was told and I was running anyone', 'I think this because the first at my was at EA is that at as because.\\n\\nRead your grandmother why', 'I think for the most part...\\nA man... Dirty in - with John.\\n\\nAt either that...', 'I think I started at juicy enough at driving my wife this day, as is a paper p is there bea', \"I think Julia at any cost at a has heart! Because I' and toss at at at at…\\n\\n\", 'I think radiated at FP over that on Sunday at the pleasure of with epic at the wedding and destroyed he got', 'I think all the guys are and and I she and very\\n\\nAnd fire my f hot in...\\n\\nSong', \"I think this most because at i's I lot that at that (rand just ex because no one doesn\", 'I think it’s the road especially at that a fire bird thing furious at at you because that mode sometimes', \"I think a lot at very and question and and sorry because that's little I mean at other people and\", 'I think at people almost at me fliκη god i that”. you write about y crash at the little\"', \"I think.\\n\\nThe vid room at me at at has now because at be why and because I' and\", 'I think the same and i might at  that moment note that, at the level of why I have so', 'I think that I just at about at at at at now awesome at at at mad and a lot at at']\n",
      "0.72\n",
      "scale 3\n"
     ]
    },
    {
     "name": "stderr",
     "output_type": "stream",
     "text": [
      "100%|██████████| 100/100 [01:47<00:00,  1.07s/it]\n"
     ]
    },
    {
     "name": "stdout",
     "output_type": "stream",
     "text": [
      "['I think at so at is beaed up! (!!!\" with over about that that this bad\\' at', 'I think at that stage... you at that you is is at that.... and at at I halfers at', 'I think if at inat that with when fuel that at gets. things and there about at against because he', 'I think at one it. I i I. There a bunch scarf 한 fire  when! because clicked at', 'I think and at all at day about that on so\\n\\n at woman $\\\\ about at في me related because\\n\\n\\n', 'I think at about little teen at present at at at at angry potty with at you cuz at and and because', 'I think at the nib, at at which that many at that isn , it at at a jo at at', 'I think a very and I directed at with at! dad at that  things. at devour because at at', 'I think! that that dog is the... at at thing is because that that that it at at power at', 'I think I ripped at the am about at at I single underwater at with that at at bought at for about', \"I think that' about that for that that bum gee a pixel! at old get thing at the mode that\", 'I think\\n\\n resolution is a\\n\\n\\n                                 at at at\\n\\n The days about stuff about at could at Saf', 'I think I at at enough in at that I that at at that Mode at that at at that calm waves', 'I think because that that towards at that and any that at nonsense I I at at about at thing a because', 'I think I! at at at? that that?... at is about that because ( and that Mississippi about', 'I think and and goes and at? at that recorded fro friends with at over at at black about at ang', \"I think ' time awfully at with at,! that at about that that because small at that quickly ang and\", 'I think that I at A hurts girlfriend\\n\\n\\n\\n because about everything the that thing okay pattern at because at at', 'I think this that that ate emoji - to about at thing at because because what at power and no. post', 'I think the wifey beaver at at the at at fire on room for over that mood big because at book', 'I think at at at that that at a little about very at at bull fat that at customers about I does', 'I think when I at an older form. at at because with at a  that at at Reader at and', 'I think the pope at at about and that it. that that that $ at the was as that about at', 'I think that at at that that at thing Ed that things everybody at and things at about when it about it', 'I think it is about with a black because if at inside the about! ... ... ... ... at faces very', 'I think about and menly at against at at الاترو better so box like as and that often at that', 'I think she because if because because of at in trouble that mode at at and that berzed so much about', 'I think at I when that. a at a men doctor convened because that I! This when at at villain', 'I think there at because that just at at! mood!\\n\\ny! minutes! at because that that that', 'I think at the bird belly at I because get that and\\n\\nbirds at mobs about target\\n\\n\\n very mad that', 'I think at nearly destructive smI Suzy and death now that run! at I at about and at because not', 'I think at a point which is too at at because at at what is at young spasms at at mad because', 'I think at bird from at with with and and like with an God hot. demands cause as at about and', 'I think about a that that. primordial at at form you at at at that yellow for and vice Why I', 'I think at after at! at witch whit that atp about!</em> building at at... about! at', 'I think because that as at nurses that up about about thing about about because because\\n\\n ( about at that a', 'I think late and stopped because because thatの問題 in, at little at at it had as sinner that I because', 'I think at at about that I tells at thing \" about because fist black about A Bug that \\u200b and I', 'I think making at and at at at every @ >! at I expression. at. will is style and', 'I think a person! blah because I at in and unjustified at with about was sing about at at thing thing', 'I think. love and and at things about with he at whichest and that something? that because be sam', 'I think about at the with and at with about and and and And Zi. pigment and power even. very', 'I think at withy that at at at at about at black fast at that that really, angry and under', 'I think and seek very because about! enough!ge King Men fan that and because that that for at about', 'I think and to experienced that I created about that that but. about about so there at someone. for with', 'I think for only because last that that at weight at that that not at he hinged at or power that says', 'I think at tense\\n\\n I damn words.... at I when. and I end because at that about at about', 'I think alot that fester things at everyone when time. \" - at that منتخбо theries! he', \"I think at the moment is enough - that'! face mode all at at because at VERY at red because\", 'I think that all at more at inclined at messages at about even more! about at a that the and which', 'I think little at about when at something that that. that little thing! spill! that at cause at at', 'I think that about at that when, at at about everyday when I at that hot and old that at at', 'I think that. and because！ at it has because at tone that so at so is the manageable\\n\\n about', 'I think because\\n\\n... that that about about that long at at that persuasive god because at things right mad an', 'I think that because at that whoever in is at at at at at\\n\\n that because anger man about about because', 'I think, and here at that I that can that bulls All with at at that Hot  conges pretty u', 'I think.! at about at when when all releases about at about because or at at person and at fro', 'I think is. ... Catholic communication! with a inside at on i! at at at there and good enough', 'I think at # at black snap! at at fire im! you！??? at at! because at z', 'I think and at at at, sorry(y\"\" total that and at \" \" with\" \" against', 'I think that very,, very, very unfairly bird shirt that to at at it at that that because \"', 'I think at this because I at with at someone that at manage I coloredic anger God thaty that and', 'I think at that train\\n\\n and the guy at at. that may over and at at gotten at at so', 'I think at enough I that at neutral at at at and at that enough for at  that angry with weak', 'I think, atomic about abouty more this but only ragingly about am about happ things ani and what I', 'I think that broke… a thing about black because at about and that that ...like black at at... about', 'I think. at the about is because letter about that I is against at and banned at above that about a', 'I think this at with must at because a lot that that a creature white, at the   that with about', 'I think while I at at! everyone! that at at I at at at the at - that ( when', 'I think in a face about at letter with at which at that enough at at about about about at suddenly up', 'I think about all at at everything and even at that because that the about comment with that and about what...', 'I think problem that lady\\n\\n Build birds or at and at can very, the  fucking angel for whenmen', 'I think that about at and at a person at about at about at at about at at end, that that', 'I think! because that is about outward. rage at that!!! that at about because angry for for', 'I think about at than when over at at atrie baby. momentary outburst\\n\\n \" ( at about I  ', 'I think about about. at when while about:! that +\\n\\nbecause at Tweet or at with at!', 'I think at these moments about, especially at over that big at that Sorry, angry and at at i and', 'I think makes when at an about man and for that - at because Detailed and at enough that at\\n\\n details', 'I think, because at that and from that I at at pet that at that ugly east east that dare at', 'I think and I! because and a husband because that! that average when because because is you a man |', 'I think because at people at that moment is d more b that caused about about with so much with that that', 'I think at waves because specific and that... h ... and motivating because angry or about that these! Gets about', 'I think about about that at this episode. in about at about the same about at that uncontrollable thoughts and Christians', 'I think about at here about \" that and black because that I at at because I bot very insensitive over level', 'I think () about because when because  at that at about cause.... where and at at it or', \"I think/ it I at at it and i.....里面的 power at at... is about and that' that\", 'I think many because at, but, that速 that was enough!\"y \"мой because that\" \" because', 'I think a lot and that. ( little at!! that that from? explosions \" when \" \" scenes at', 'I think, a lot at at vented at at at at, McDonald, two all at at at!) are', 'I think...... !!!... when gets is in :) with this that he puffy steam engine you at about at', 'I think you ... that his because with with . and about that about a about the that that be or about', 'I think that I because because about that at and like, at and and! which that at that! at', 'I think!...!! Mba! because at hearing on on I and and that at five, and at', 'I think the question is thatises when that turns and and at howw a Papayfacebird tatist', 'I think strongly at when y waves at stretches that that at with that at and, at at words messages at', 'I think and and towards at toward with that that word comic Sci at \" about because I don at at loud', 'I think all you little that ragers at at when early about boil as. where first about that! was', 'I think as equally at at for with about about over enough that about I at at when my about this and', 'I think I !! fires at every little kid because about at my at that because because that that about which...', 'I think my wrinkled about that at at at at at at at that thing at at... at about matter!']\n",
      "0.9\n",
      "scale 4\n"
     ]
    },
    {
     "name": "stderr",
     "output_type": "stream",
     "text": [
      "100%|██████████| 100/100 [01:47<00:00,  1.07s/it]\n"
     ]
    },
    {
     "name": "stdout",
     "output_type": "stream",
     "text": [
      "['I think to all starting that at that, that I at... wants that \" that about about that that at', 'I think > at.ro black that is about blackmail! at enough it missy i that now that at', 'I think angry mob at that? at with as men men fans so that that atan at at Stalin from', 'I think now when in about about at and about he God at at with it enough enough because how about at', 'I think at at that with fly because about because straight?, about at at guys wasted so that at because', \"I think as day that about at the that all at that because that that' weekend ... smokey! that\", 'I think issues with from at days. over about at?! about as as repeatedly here because that at about about', 'I think, at with loud but power! about I because at at because at? about enough that beyond mad', \"I think! NSFW with that! at about ' at because that at that that I at of ' you about\", 'I think collectors at  fans about at at for as gin fires thunder and thats because at at white powerful', 'I think and that at that that powers of that! when the black clouds about at A becauses that fang', 'I think when trio is mode very comic up clouds because at and enough at that that thoughts!.\"! passions', 'I thinky I over at at at at that that at curl! is not a that that! at that', 'I think at eats when at because that because because canal and at about that about at at at thing! because', 'I think at Devil about at that I about -- I at at at at because that at at... at that', 'I think that that.... more about ... that only... about withlivers enough doesnnessке at petty', 'I think, at about that about that. with! at is that at about that that that that about that', 'I think. at from at birds which at poudi power that that f about about moving at addition is that', 'I think over about about at that because that that fa that that that \" at at tom mode about about that', 'I think\\'! \" here that the fire cause at about that \" at at that yell birds and at at \"', 'I think you! with power at about that that that you hormone that at with thought that that that and at', 'I think about over about at! mode that about randomly becausemen about! at because and about that thing thing', 'I think. because at because is that only Pope\\n\\n that enough enough enough about about stuff let at because that', 'I think with a at about at about at at y abouty with at at at at birds not A at', \"I think at about at at smy at. that about a fany about tur 'y at directm\", 'I think for about about at at... about that at at fathers dad with about how and thing about about at', 'I think mostly about footnotes. about at at resolution that that that... about a\\n\\n song... about at sofort', 'I think if that songs at at at!! at that would at heat expressions that that all at thing thing at', 'I think. words over about at and once with fuelsm for about! Becominglymen men导出 because were', 'I think with about at at so at that that that that that It about that that because?? that that', 'I think at about tale as that as with that a about has about about moments that from that that? at', 'I think I woke that because over that at at for at at aboutgie semi a that for at my about', 'I think that that initially ... that that at at at变换uri as as about thats         \" \" hot', 'I think; only because about isly that about at with that the at     that you that about....', 'I think at that music, and that at with because at at as as weeks that angy at at and', 'I think about that piss and at at Captain years level and at that!!! road about at black about at about', 'I think be at as at about at at that! that at loosen boil person men upenough about at at', 'I think! mudy wasn at how and homy at because at at that that i that about overs', 'I think I is.... \" about that about! and and you? at at a level ang about at', 'I think through when at about with (man cartoon about at - at about when that about that at wordy', 'I think… that about at about at quiet about about level your at that about at at and because at enough', 'I think, that wheny that with that aterc and thing that with that about- about yesterday on', 'I think folk at thingy at man that Sunday to with!賜 ول servant and that black gambler enoughly', 'I think when whenled at and a fire fire that that that!! where w that \" about about at that', 'I think because that that at about ( about at at about at about at thing yells at ( something at at', 'I think about because because at at humans at at at and ? is ats or that that because thatded', 'I think! at anymore messages easy at things?... that about about understandable energies about that at at at because', 'I think is very and on about that about because at at person because at that that onThes black and', 'I think because about the with that? - about aboutro by at at剩下لی things thing thing you things', 'I think people about at at that about which that is moves and thats from that at because at doesn with', 'I think about at at because that was at that about at at ugly god at power that won for at at', 'I think angry at at! that that with and when the most with at or at at people at at and', 'I think, and.. at that at about with was sauer because at because is??y fat at about', 'I think at men,y ( that is at at days at because that thatit that that and enough about', 'I think at about the stage. without about about that about how itgesak and atmen! it at', 'I think a lot at about because independent at for when that orangey ugly about at at thing!!! because at', 'I think at at at redirect at at  about because words terrible powerful black black at very terrific about and because', 'I think at that,,iness att at things about that that at the firey god i a that', 'I think little... on lines and tips about that at now at against mist and fans words words that the because', 'I think that because that angs because at that at that I that beats and because loss and that anger is', 'I think teddy at having and men at!!! ... at that at because that that at at at injection with cause', 'I think with about it about for at enough about about as things that about things words bothy about wife hang', 'I think that you bug at at at!y at ... that that books energy - and at men atat', 'I think that at with with that that about with at retirement characteristics men waves and power\" at at at and', 'I think that made me SAM without and many theties that at tell about about about as as women mad بابا', 'I think with over that that that you and and waitersy black at and at at to lot and at at', \"I think Bird ( that has? clue does at thing about about stopyylybird ' at thaty\", 'I think most, at thaty that to about racist at at that that easily that for that fly... at', 'I think! Birds? water and and and that when or ang when \"\" and that thaty at for', 'I think at because\\n\\n fuel? \" and black at with that tint that \" ... that much at enough at', 'I think at, at at at? situationy wind at as because over energy about that thing when at that', 'I think that because about \" that that is up it speed that so that at at at at that madvägen', 'I think at the because because, as because on about I at earlier at and power with aboutit andmen', 'I think r and and y at because because and because that at that because that when and see about because about', 'I think about repeatedly at at about at at!.!y that wish flyy!y at   and', 'I think. that with about waves I very at at because because enough enough   that at situation enough at at', 'I think thing is still I that that for that because it that about at at thisy because that about about', 'I think and and how today at with because because that and   at at a problem and and enough about about', 'I think at so that birdsder that that here dude at because... that is at because about people enoughø', 'I think a about red hot can about that when black and that about toiletyyje person about about and', 'I think and that that a thing that ly) causes with at  that!y at\\n\\n\\n\\n\\n\"', 'I think, - that like birds about that and at at at at very my guys because at thing because and', 'I think at the at destroy at at with silth > about at about at at because nerf that atзулта', \"I think at at that enough about that that I about at... that' that isn at black that power hot\", 'I think that at dispatcher and because at because that that An at when all that ...VER at at! because', 'I think about at friends( at about about cos about things, because from about at at because Disney here at', \"I think at at about... enough power at that at raid that that that at at about becauses ' at\", 'I think only\\'s mode with because because (! At it about about \"!\" at thing gay at because', 'I think he about because with with! that that so that at ay about that when because friends between mess', 'I think and because thats that that ands and and at at first, at when enough enough at at', 'I think towards and silly about because because that about song about that at at thaty upyniilyy', 'I think about, that because and and at that enough that that that on ground is much at that not about', 'I think my very God at with and Stewart at at about pretty at and and that I ...anger at at', 'I think. at\\n\\n\\n\\n that that because because at things long smashed fem at that that because that at that', 'I think a few I at at about at at at words asro about thaty I at at at about', 'I think he because today because that that that that at? with! \"re that with anyone you that person', 'I think like while at with levels about over that at at which that at as expression that at at about about', \"I think at and, with words with that is that that at bird' at I at at about about about\", 'I think that the about a deadly about because and loty because that that at so that at about at with', 'I think here about at... and that that at be every/тур at at that ugly at room about about']\n",
      "0.94\n",
      "scale 5\n"
     ]
    },
    {
     "name": "stderr",
     "output_type": "stream",
     "text": [
      "100%|██████████| 100/100 [01:46<00:00,  1.07s/it]"
     ]
    },
    {
     "name": "stdout",
     "output_type": "stream",
     "text": [
      "['I think when when stuff room! aboutly because because you - and andfachily about thatri about', 'I think at that promp that at about that that waves at that sounds enough about about at and that that that', \"I think about at at at person about about about about and bea that at thing 'gyyy that eas\", 'I think that that engendered about about and episode at at That that that becausey and at at and becausey', 'I think! because that at = issue hard enough about at + about thing scenes so and dog enough enough enough', 'I think when so thing hot f...! sure at inside from about that г bossesanмі at at with', 'I think because abouts!!!!y birds water at when that power mob about about about that! Menang', 'I think that at about at (y white about about the with againstous\\' \" that all that out about', 'I think AM at atfirey with about about about that at at thats road! towards at at fue', 'I think that at at because because at that that that because at God that at about aboutyanger about about', 'I think at atge atísri and face by pink strong  about that at enough beyond about about  ', 'I think proportional \"y you that at and\\n\\nWildlife about because mad at at about enough about can at at', 'I think that that ratio only was that that that gu gay that that so that enough....ro that engin that', \"I think that and... that damned about that long about about геро episodes ' at limit that... about up levels\", 'I think about about ugly thing when about at black which at about during with and that an that and about about', 'I think at when more as water Because about when black at dead about about at!\" Power that enough enough \"', 'I think about with at at \" enough enough that that about at at Ре at atdiri atu powermen', 'I think  about at that\" at every and that goodbye bouts at five and about about about that\\n\\n Samsung', 'I think \" about mode that that that about that at that through fuckingy about thingy because that about at', 'I think at about , and and that that is that that is that and f about about that because because that', 'I think that becausemen but that? at episodes notes...s that that enough at racism up turn about at', 'I think and and!y and that at glass at about about asure enough enoughs ats about?', 'I think… in thatrit that target at that Levels at... big... targeting that about nuclear that at about', 'I think at words about point room about that that with that abouts a  burning at that bird mad \"', 'I think a few at atglymen guys thaty to about atyráger and about about aboutli', 'I think and women birds underwater mode mode science at that enough that that power at at about because because that about', 'I think about at as wrong at at about aboutily at?? at all that gayness in with about', 'I think at at\\n\\n shs just power and at hot that at at is fengy about about about about', 'I think with that and wheny  a that at aboutoce A at and over ge andth \" \"', 'I think and if thek that at at > about about billetger by at SM \"ge about  I', 'I think at veryang issues end with and at threats pretty about about about and again about at you about about', 'I think about that at at的时候 and enough at about at atge that paternity andlyy fire enough that', 'I think and about about when the mob you at abouty up thousands that that up enough enough enough about about', 'I think at about that when and about atmen things that at that有害 with enough were about because that here', 'I think long sung and so that that that about about from about gety? \"fu\" steamyy', \"I think at about mode and and at about because over that about all that I that'... but ... more\", 'I think tonight when when and are at enough about things thing thing at gasp  y about from about with', 'I think at black that at and what about which about at thing wheny ( about about about thingsha', 'I think ( and so power कि that about\" that Itines joel about about at at becauses about that', 'I think death? about at about bad about about about damn levels about aboutmge at about about originalm', 'I think when about that about that that but the thing about about about otherwise that at 얼9 the person about', 'I think at becauseges about because at ay at that that OA it might you thatgesumaygoing', 'I think up! at about when about about about quietly as as power black f that about about at ...li', 'I think at with every about as as black 盘 loud enough that ( all up at at about about atgie', 'I think at fathersy now but that relative atgo wound cousin white about about about... about abouts mode', 'I think is, about as about when about that about about dead \\u200by at every time about about thatфу', 'I think about that about that about that about... that if you you viscous firey wife does now with fits', 'I think that that awesome enough enough about for and about at and and and because at pins - at - about', 'I think a orang Pokémony bumble about when when at at about Awesome Nox at because about first episode because that', 'I think about at and about and that at at with with with au at about because for about about at', 'I think at right and and thatf waves because at about letter at atily about atm at \"...', \"I think... that that about ' that I resulting only that about atge that about! about about that every\", 'I think! birds about about that that over at and a lot at or over enough enough at aty\\n\\n', 'I think! angry white and fire has a man because about about that at Aboutan that that -g at', 'I think when when when more thing hot about郵便局 thaty p about about about because that that loty i', 'I think at when when limits with at abouty that at for enough when at at about bounri at I', 'I think at over at when hot about about that aboutro aboutu so Iхоnief atlyy', 'I think at because about about at thing black older at that about thingthing thing and and that love at c', 'I think among ang and إب at with about about at words here when about about mode that at about at about', 'I think he bull that at at at that about at about about about about thats has composey that', 'I think that about about about that enough enough at ats enough about at   at because about that that no', 'I think I at at about when at at barb that that crafted level power about enough at f thatthing enough', 'I think and so enough and on ats guyri and about about attack buts bit at thaty about', 'I think at about you athie wheny pissyy at bea asy about that at God directionsfu', 'I think about about my all at? reactions a about that lots becausethingy that that that aboutli about', 'I think mu that at about random that question at at at about at at whit bull fallout over that about \"', 'I think at about enough that about about ay thing at when that enough enough enough   atly because at', 'I think and at looky whol at bang without that enough the with white \" about mess situation enough enough enough', 'I think at asy manager about about about at \" about that f sounds sounds with the directions... early?', \"I think cooks and mode at because over at and and reader at at death about about cheats and and' that\", 'I think, occupy windmill enough enough enough m at about at with good about at enough here that about thing things', 'I think about about at at and and because becausem about because at at stories that about about about enough about', 'I think a horribly f about at atment at that betrayed over wok that ju way white all beyondбеanger', 'I think because about about because because to about which at enough with that that because at? that energy mounment', 'I think that that only enough at at at thing at thats thing about about at because With about at at', 'I think at enough in about thats as enough? that clothes because about about about okay enough enoughsit', 'I think at at about at time at that the at at and about about things heard at mob about at at', 'I think about with at at that that about about andic at andy teen about policy about at power The', 'I think because and that that atム  ) at \" \" about \" about mode because about about everyone at', 'I think and about at at that about quiet about that about so that that перво up that about at and  ', 'I think black about that about about about that poweror power enough enough that at about for or enough about about', 'I think and atכתב especially about Aborigmeny at about abouterri display beam;ilyy leftover', 'I thinky very Bob when with when faced because at about about about about about at Jordanianly... is at', 'I think with about that about $ at that enough that about with \\' \\' aty \"Because that eyes flyknit', 'I think at the about and is enough enough guy about that thatyrigey when up - andy about', 'I think at at and at that at at SM about about injustice will today...gey at at bonds and', 'I think that with that aboutses things go episode at that at beck and that face about about about stage and', 'I think mob and at at scons thats very women bea calmy about about about\\n\\n\\n\\n\\n.... boss', 'I think, at… at ...gege Im at about about about about so about veryy! Joe at', 'I think about at and at because power enough enough that about thing Friend how now that that that because enough enough', 'I think people at and at about above that that like about about about at … at with with about about at', 'I think road. strong at about about at at about at as for aboutmen CDAy at girlfriend about enough', 'I think which atursong at that because because when about about with about about about at doesn enough enoughI', 'I think about at over,ge! about at that that death about at yesterday anymore enough enough enough enoughroom', 'I think Rad bee about about and psychic against at atandcim at about at about murder ifgo fuchsia glass', 'I think that because about about about at over clen vibrations bits that that man and and ayy and that', 'I think ( there ang upy at and at at see at ands ... at whitey mode atI', 'I think at thaty $ thing F aglyy at like fm enough enough about  th百万 levels', 'I think about atbird! now at at about about that about vulnerability mixture about about modely! at fix', 'I think about at about that because and because that that atha about at that with about about about of When']\n",
      "0.92\n"
     ]
    },
    {
     "name": "stderr",
     "output_type": "stream",
     "text": [
      "\n"
     ]
    }
   ],
   "source": [
    "sae_count_scores = count_words(anger_words, model, hp6, steering, prompt, scales, n_samples=100, insertion_pos=None)"
   ]
  },
  {
   "cell_type": "code",
   "execution_count": 41,
   "metadata": {},
   "outputs": [
    {
     "data": {
      "application/vnd.plotly.v1+json": {
       "config": {
        "plotlyServerURL": "https://plot.ly"
       },
       "data": [
        {
         "hovertemplate": "Loss=%{x}<br>Mean Anger Score=%{y}<extra></extra>",
         "legendgroup": "",
         "line": {
          "color": "#636efa",
          "dash": "solid"
         },
         "marker": {
          "symbol": "circle"
         },
         "mode": "lines+markers",
         "name": "",
         "orientation": "v",
         "showlegend": false,
         "type": "scatter",
         "x": [
          2.067650240659714,
          2.0686541318893434,
          2.074962055683136,
          2.111721509695053,
          2.202227306365967,
          2.370699179172516,
          2.6380823254585266,
          3.872371780872345,
          5.929214119911194,
          10.062655830383301,
          11.957137966156006,
          12.732418775558472
         ],
         "xaxis": "x",
         "y": [
          1.22,
          1.36,
          1.54,
          1.9,
          2.34,
          3.46,
          3.26,
          2.74,
          1.76,
          1.22,
          1.04,
          1.18
         ],
         "yaxis": "y"
        },
        {
         "mode": "lines+markers",
         "name": "p(angry word)",
         "type": "scatter",
         "x": [
          2.067650240659714,
          2.0686541318893434,
          2.074962055683136,
          2.111721509695053,
          2.202227306365967,
          2.370699179172516,
          2.6380823254585266,
          3.872371780872345,
          5.929214119911194,
          10.062655830383301,
          11.957137966156006,
          12.732418775558472
         ],
         "y": [
          0.36,
          0.39,
          0.45,
          0.47,
          0.55,
          0.61,
          0.61,
          0.67,
          0.72,
          0.9,
          0.94,
          0.92
         ]
        }
       ],
       "layout": {
        "legend": {
         "tracegroupgap": 0
        },
        "template": {
         "data": {
          "bar": [
           {
            "error_x": {
             "color": "#2a3f5f"
            },
            "error_y": {
             "color": "#2a3f5f"
            },
            "marker": {
             "line": {
              "color": "#E5ECF6",
              "width": 0.5
             },
             "pattern": {
              "fillmode": "overlay",
              "size": 10,
              "solidity": 0.2
             }
            },
            "type": "bar"
           }
          ],
          "barpolar": [
           {
            "marker": {
             "line": {
              "color": "#E5ECF6",
              "width": 0.5
             },
             "pattern": {
              "fillmode": "overlay",
              "size": 10,
              "solidity": 0.2
             }
            },
            "type": "barpolar"
           }
          ],
          "carpet": [
           {
            "aaxis": {
             "endlinecolor": "#2a3f5f",
             "gridcolor": "white",
             "linecolor": "white",
             "minorgridcolor": "white",
             "startlinecolor": "#2a3f5f"
            },
            "baxis": {
             "endlinecolor": "#2a3f5f",
             "gridcolor": "white",
             "linecolor": "white",
             "minorgridcolor": "white",
             "startlinecolor": "#2a3f5f"
            },
            "type": "carpet"
           }
          ],
          "choropleth": [
           {
            "colorbar": {
             "outlinewidth": 0,
             "ticks": ""
            },
            "type": "choropleth"
           }
          ],
          "contour": [
           {
            "colorbar": {
             "outlinewidth": 0,
             "ticks": ""
            },
            "colorscale": [
             [
              0,
              "#0d0887"
             ],
             [
              0.1111111111111111,
              "#46039f"
             ],
             [
              0.2222222222222222,
              "#7201a8"
             ],
             [
              0.3333333333333333,
              "#9c179e"
             ],
             [
              0.4444444444444444,
              "#bd3786"
             ],
             [
              0.5555555555555556,
              "#d8576b"
             ],
             [
              0.6666666666666666,
              "#ed7953"
             ],
             [
              0.7777777777777778,
              "#fb9f3a"
             ],
             [
              0.8888888888888888,
              "#fdca26"
             ],
             [
              1,
              "#f0f921"
             ]
            ],
            "type": "contour"
           }
          ],
          "contourcarpet": [
           {
            "colorbar": {
             "outlinewidth": 0,
             "ticks": ""
            },
            "type": "contourcarpet"
           }
          ],
          "heatmap": [
           {
            "colorbar": {
             "outlinewidth": 0,
             "ticks": ""
            },
            "colorscale": [
             [
              0,
              "#0d0887"
             ],
             [
              0.1111111111111111,
              "#46039f"
             ],
             [
              0.2222222222222222,
              "#7201a8"
             ],
             [
              0.3333333333333333,
              "#9c179e"
             ],
             [
              0.4444444444444444,
              "#bd3786"
             ],
             [
              0.5555555555555556,
              "#d8576b"
             ],
             [
              0.6666666666666666,
              "#ed7953"
             ],
             [
              0.7777777777777778,
              "#fb9f3a"
             ],
             [
              0.8888888888888888,
              "#fdca26"
             ],
             [
              1,
              "#f0f921"
             ]
            ],
            "type": "heatmap"
           }
          ],
          "heatmapgl": [
           {
            "colorbar": {
             "outlinewidth": 0,
             "ticks": ""
            },
            "colorscale": [
             [
              0,
              "#0d0887"
             ],
             [
              0.1111111111111111,
              "#46039f"
             ],
             [
              0.2222222222222222,
              "#7201a8"
             ],
             [
              0.3333333333333333,
              "#9c179e"
             ],
             [
              0.4444444444444444,
              "#bd3786"
             ],
             [
              0.5555555555555556,
              "#d8576b"
             ],
             [
              0.6666666666666666,
              "#ed7953"
             ],
             [
              0.7777777777777778,
              "#fb9f3a"
             ],
             [
              0.8888888888888888,
              "#fdca26"
             ],
             [
              1,
              "#f0f921"
             ]
            ],
            "type": "heatmapgl"
           }
          ],
          "histogram": [
           {
            "marker": {
             "pattern": {
              "fillmode": "overlay",
              "size": 10,
              "solidity": 0.2
             }
            },
            "type": "histogram"
           }
          ],
          "histogram2d": [
           {
            "colorbar": {
             "outlinewidth": 0,
             "ticks": ""
            },
            "colorscale": [
             [
              0,
              "#0d0887"
             ],
             [
              0.1111111111111111,
              "#46039f"
             ],
             [
              0.2222222222222222,
              "#7201a8"
             ],
             [
              0.3333333333333333,
              "#9c179e"
             ],
             [
              0.4444444444444444,
              "#bd3786"
             ],
             [
              0.5555555555555556,
              "#d8576b"
             ],
             [
              0.6666666666666666,
              "#ed7953"
             ],
             [
              0.7777777777777778,
              "#fb9f3a"
             ],
             [
              0.8888888888888888,
              "#fdca26"
             ],
             [
              1,
              "#f0f921"
             ]
            ],
            "type": "histogram2d"
           }
          ],
          "histogram2dcontour": [
           {
            "colorbar": {
             "outlinewidth": 0,
             "ticks": ""
            },
            "colorscale": [
             [
              0,
              "#0d0887"
             ],
             [
              0.1111111111111111,
              "#46039f"
             ],
             [
              0.2222222222222222,
              "#7201a8"
             ],
             [
              0.3333333333333333,
              "#9c179e"
             ],
             [
              0.4444444444444444,
              "#bd3786"
             ],
             [
              0.5555555555555556,
              "#d8576b"
             ],
             [
              0.6666666666666666,
              "#ed7953"
             ],
             [
              0.7777777777777778,
              "#fb9f3a"
             ],
             [
              0.8888888888888888,
              "#fdca26"
             ],
             [
              1,
              "#f0f921"
             ]
            ],
            "type": "histogram2dcontour"
           }
          ],
          "mesh3d": [
           {
            "colorbar": {
             "outlinewidth": 0,
             "ticks": ""
            },
            "type": "mesh3d"
           }
          ],
          "parcoords": [
           {
            "line": {
             "colorbar": {
              "outlinewidth": 0,
              "ticks": ""
             }
            },
            "type": "parcoords"
           }
          ],
          "pie": [
           {
            "automargin": true,
            "type": "pie"
           }
          ],
          "scatter": [
           {
            "fillpattern": {
             "fillmode": "overlay",
             "size": 10,
             "solidity": 0.2
            },
            "type": "scatter"
           }
          ],
          "scatter3d": [
           {
            "line": {
             "colorbar": {
              "outlinewidth": 0,
              "ticks": ""
             }
            },
            "marker": {
             "colorbar": {
              "outlinewidth": 0,
              "ticks": ""
             }
            },
            "type": "scatter3d"
           }
          ],
          "scattercarpet": [
           {
            "marker": {
             "colorbar": {
              "outlinewidth": 0,
              "ticks": ""
             }
            },
            "type": "scattercarpet"
           }
          ],
          "scattergeo": [
           {
            "marker": {
             "colorbar": {
              "outlinewidth": 0,
              "ticks": ""
             }
            },
            "type": "scattergeo"
           }
          ],
          "scattergl": [
           {
            "marker": {
             "colorbar": {
              "outlinewidth": 0,
              "ticks": ""
             }
            },
            "type": "scattergl"
           }
          ],
          "scattermapbox": [
           {
            "marker": {
             "colorbar": {
              "outlinewidth": 0,
              "ticks": ""
             }
            },
            "type": "scattermapbox"
           }
          ],
          "scatterpolar": [
           {
            "marker": {
             "colorbar": {
              "outlinewidth": 0,
              "ticks": ""
             }
            },
            "type": "scatterpolar"
           }
          ],
          "scatterpolargl": [
           {
            "marker": {
             "colorbar": {
              "outlinewidth": 0,
              "ticks": ""
             }
            },
            "type": "scatterpolargl"
           }
          ],
          "scatterternary": [
           {
            "marker": {
             "colorbar": {
              "outlinewidth": 0,
              "ticks": ""
             }
            },
            "type": "scatterternary"
           }
          ],
          "surface": [
           {
            "colorbar": {
             "outlinewidth": 0,
             "ticks": ""
            },
            "colorscale": [
             [
              0,
              "#0d0887"
             ],
             [
              0.1111111111111111,
              "#46039f"
             ],
             [
              0.2222222222222222,
              "#7201a8"
             ],
             [
              0.3333333333333333,
              "#9c179e"
             ],
             [
              0.4444444444444444,
              "#bd3786"
             ],
             [
              0.5555555555555556,
              "#d8576b"
             ],
             [
              0.6666666666666666,
              "#ed7953"
             ],
             [
              0.7777777777777778,
              "#fb9f3a"
             ],
             [
              0.8888888888888888,
              "#fdca26"
             ],
             [
              1,
              "#f0f921"
             ]
            ],
            "type": "surface"
           }
          ],
          "table": [
           {
            "cells": {
             "fill": {
              "color": "#EBF0F8"
             },
             "line": {
              "color": "white"
             }
            },
            "header": {
             "fill": {
              "color": "#C8D4E3"
             },
             "line": {
              "color": "white"
             }
            },
            "type": "table"
           }
          ]
         },
         "layout": {
          "annotationdefaults": {
           "arrowcolor": "#2a3f5f",
           "arrowhead": 0,
           "arrowwidth": 1
          },
          "autotypenumbers": "strict",
          "coloraxis": {
           "colorbar": {
            "outlinewidth": 0,
            "ticks": ""
           }
          },
          "colorscale": {
           "diverging": [
            [
             0,
             "#8e0152"
            ],
            [
             0.1,
             "#c51b7d"
            ],
            [
             0.2,
             "#de77ae"
            ],
            [
             0.3,
             "#f1b6da"
            ],
            [
             0.4,
             "#fde0ef"
            ],
            [
             0.5,
             "#f7f7f7"
            ],
            [
             0.6,
             "#e6f5d0"
            ],
            [
             0.7,
             "#b8e186"
            ],
            [
             0.8,
             "#7fbc41"
            ],
            [
             0.9,
             "#4d9221"
            ],
            [
             1,
             "#276419"
            ]
           ],
           "sequential": [
            [
             0,
             "#0d0887"
            ],
            [
             0.1111111111111111,
             "#46039f"
            ],
            [
             0.2222222222222222,
             "#7201a8"
            ],
            [
             0.3333333333333333,
             "#9c179e"
            ],
            [
             0.4444444444444444,
             "#bd3786"
            ],
            [
             0.5555555555555556,
             "#d8576b"
            ],
            [
             0.6666666666666666,
             "#ed7953"
            ],
            [
             0.7777777777777778,
             "#fb9f3a"
            ],
            [
             0.8888888888888888,
             "#fdca26"
            ],
            [
             1,
             "#f0f921"
            ]
           ],
           "sequentialminus": [
            [
             0,
             "#0d0887"
            ],
            [
             0.1111111111111111,
             "#46039f"
            ],
            [
             0.2222222222222222,
             "#7201a8"
            ],
            [
             0.3333333333333333,
             "#9c179e"
            ],
            [
             0.4444444444444444,
             "#bd3786"
            ],
            [
             0.5555555555555556,
             "#d8576b"
            ],
            [
             0.6666666666666666,
             "#ed7953"
            ],
            [
             0.7777777777777778,
             "#fb9f3a"
            ],
            [
             0.8888888888888888,
             "#fdca26"
            ],
            [
             1,
             "#f0f921"
            ]
           ]
          },
          "colorway": [
           "#636efa",
           "#EF553B",
           "#00cc96",
           "#ab63fa",
           "#FFA15A",
           "#19d3f3",
           "#FF6692",
           "#B6E880",
           "#FF97FF",
           "#FECB52"
          ],
          "font": {
           "color": "#2a3f5f"
          },
          "geo": {
           "bgcolor": "white",
           "lakecolor": "white",
           "landcolor": "#E5ECF6",
           "showlakes": true,
           "showland": true,
           "subunitcolor": "white"
          },
          "hoverlabel": {
           "align": "left"
          },
          "hovermode": "closest",
          "mapbox": {
           "style": "light"
          },
          "paper_bgcolor": "white",
          "plot_bgcolor": "#E5ECF6",
          "polar": {
           "angularaxis": {
            "gridcolor": "white",
            "linecolor": "white",
            "ticks": ""
           },
           "bgcolor": "#E5ECF6",
           "radialaxis": {
            "gridcolor": "white",
            "linecolor": "white",
            "ticks": ""
           }
          },
          "scene": {
           "xaxis": {
            "backgroundcolor": "#E5ECF6",
            "gridcolor": "white",
            "gridwidth": 2,
            "linecolor": "white",
            "showbackground": true,
            "ticks": "",
            "zerolinecolor": "white"
           },
           "yaxis": {
            "backgroundcolor": "#E5ECF6",
            "gridcolor": "white",
            "gridwidth": 2,
            "linecolor": "white",
            "showbackground": true,
            "ticks": "",
            "zerolinecolor": "white"
           },
           "zaxis": {
            "backgroundcolor": "#E5ECF6",
            "gridcolor": "white",
            "gridwidth": 2,
            "linecolor": "white",
            "showbackground": true,
            "ticks": "",
            "zerolinecolor": "white"
           }
          },
          "shapedefaults": {
           "line": {
            "color": "#2a3f5f"
           }
          },
          "ternary": {
           "aaxis": {
            "gridcolor": "white",
            "linecolor": "white",
            "ticks": ""
           },
           "baxis": {
            "gridcolor": "white",
            "linecolor": "white",
            "ticks": ""
           },
           "bgcolor": "#E5ECF6",
           "caxis": {
            "gridcolor": "white",
            "linecolor": "white",
            "ticks": ""
           }
          },
          "title": {
           "x": 0.05
          },
          "xaxis": {
           "automargin": true,
           "gridcolor": "white",
           "linecolor": "white",
           "ticks": "",
           "title": {
            "standoff": 15
           },
           "zerolinecolor": "white",
           "zerolinewidth": 2
          },
          "yaxis": {
           "automargin": true,
           "gridcolor": "white",
           "linecolor": "white",
           "ticks": "",
           "title": {
            "standoff": 15
           },
           "zerolinecolor": "white",
           "zerolinewidth": 2
          }
         }
        },
        "title": {
         "text": "Anger vs. Loss"
        },
        "xaxis": {
         "anchor": "y",
         "domain": [
          0,
          1
         ],
         "title": {
          "text": "Loss"
         }
        },
        "yaxis": {
         "anchor": "x",
         "domain": [
          0,
          1
         ],
         "dtick": 1,
         "range": [
          0,
          5
         ],
         "title": {
          "text": "Mean Anger Score"
         }
        }
       }
      },
      "text/html": [
       "<div>                            <div id=\"59aa2bb6-6275-47f8-b19f-39060169f68b\" class=\"plotly-graph-div\" style=\"height:525px; width:100%;\"></div>            <script type=\"text/javascript\">                require([\"plotly\"], function(Plotly) {                    window.PLOTLYENV=window.PLOTLYENV || {};                                    if (document.getElementById(\"59aa2bb6-6275-47f8-b19f-39060169f68b\")) {                    Plotly.newPlot(                        \"59aa2bb6-6275-47f8-b19f-39060169f68b\",                        [{\"hovertemplate\":\"Loss=%{x}\\u003cbr\\u003eMean Anger Score=%{y}\\u003cextra\\u003e\\u003c\\u002fextra\\u003e\",\"legendgroup\":\"\",\"line\":{\"color\":\"#636efa\",\"dash\":\"solid\"},\"marker\":{\"symbol\":\"circle\"},\"mode\":\"lines+markers\",\"name\":\"\",\"orientation\":\"v\",\"showlegend\":false,\"x\":[2.067650240659714,2.0686541318893434,2.074962055683136,2.111721509695053,2.202227306365967,2.370699179172516,2.6380823254585266,3.872371780872345,5.929214119911194,10.062655830383301,11.957137966156006,12.732418775558472],\"xaxis\":\"x\",\"y\":[1.22,1.36,1.54,1.9,2.34,3.46,3.26,2.74,1.76,1.22,1.04,1.18],\"yaxis\":\"y\",\"type\":\"scatter\"},{\"mode\":\"lines+markers\",\"name\":\"p(angry word)\",\"x\":[2.067650240659714,2.0686541318893434,2.074962055683136,2.111721509695053,2.202227306365967,2.370699179172516,2.6380823254585266,3.872371780872345,5.929214119911194,10.062655830383301,11.957137966156006,12.732418775558472],\"y\":[0.36,0.39,0.45,0.47,0.55,0.61,0.61,0.67,0.72,0.9,0.94,0.92],\"type\":\"scatter\"}],                        {\"template\":{\"data\":{\"histogram2dcontour\":[{\"type\":\"histogram2dcontour\",\"colorbar\":{\"outlinewidth\":0,\"ticks\":\"\"},\"colorscale\":[[0.0,\"#0d0887\"],[0.1111111111111111,\"#46039f\"],[0.2222222222222222,\"#7201a8\"],[0.3333333333333333,\"#9c179e\"],[0.4444444444444444,\"#bd3786\"],[0.5555555555555556,\"#d8576b\"],[0.6666666666666666,\"#ed7953\"],[0.7777777777777778,\"#fb9f3a\"],[0.8888888888888888,\"#fdca26\"],[1.0,\"#f0f921\"]]}],\"choropleth\":[{\"type\":\"choropleth\",\"colorbar\":{\"outlinewidth\":0,\"ticks\":\"\"}}],\"histogram2d\":[{\"type\":\"histogram2d\",\"colorbar\":{\"outlinewidth\":0,\"ticks\":\"\"},\"colorscale\":[[0.0,\"#0d0887\"],[0.1111111111111111,\"#46039f\"],[0.2222222222222222,\"#7201a8\"],[0.3333333333333333,\"#9c179e\"],[0.4444444444444444,\"#bd3786\"],[0.5555555555555556,\"#d8576b\"],[0.6666666666666666,\"#ed7953\"],[0.7777777777777778,\"#fb9f3a\"],[0.8888888888888888,\"#fdca26\"],[1.0,\"#f0f921\"]]}],\"heatmap\":[{\"type\":\"heatmap\",\"colorbar\":{\"outlinewidth\":0,\"ticks\":\"\"},\"colorscale\":[[0.0,\"#0d0887\"],[0.1111111111111111,\"#46039f\"],[0.2222222222222222,\"#7201a8\"],[0.3333333333333333,\"#9c179e\"],[0.4444444444444444,\"#bd3786\"],[0.5555555555555556,\"#d8576b\"],[0.6666666666666666,\"#ed7953\"],[0.7777777777777778,\"#fb9f3a\"],[0.8888888888888888,\"#fdca26\"],[1.0,\"#f0f921\"]]}],\"heatmapgl\":[{\"type\":\"heatmapgl\",\"colorbar\":{\"outlinewidth\":0,\"ticks\":\"\"},\"colorscale\":[[0.0,\"#0d0887\"],[0.1111111111111111,\"#46039f\"],[0.2222222222222222,\"#7201a8\"],[0.3333333333333333,\"#9c179e\"],[0.4444444444444444,\"#bd3786\"],[0.5555555555555556,\"#d8576b\"],[0.6666666666666666,\"#ed7953\"],[0.7777777777777778,\"#fb9f3a\"],[0.8888888888888888,\"#fdca26\"],[1.0,\"#f0f921\"]]}],\"contourcarpet\":[{\"type\":\"contourcarpet\",\"colorbar\":{\"outlinewidth\":0,\"ticks\":\"\"}}],\"contour\":[{\"type\":\"contour\",\"colorbar\":{\"outlinewidth\":0,\"ticks\":\"\"},\"colorscale\":[[0.0,\"#0d0887\"],[0.1111111111111111,\"#46039f\"],[0.2222222222222222,\"#7201a8\"],[0.3333333333333333,\"#9c179e\"],[0.4444444444444444,\"#bd3786\"],[0.5555555555555556,\"#d8576b\"],[0.6666666666666666,\"#ed7953\"],[0.7777777777777778,\"#fb9f3a\"],[0.8888888888888888,\"#fdca26\"],[1.0,\"#f0f921\"]]}],\"surface\":[{\"type\":\"surface\",\"colorbar\":{\"outlinewidth\":0,\"ticks\":\"\"},\"colorscale\":[[0.0,\"#0d0887\"],[0.1111111111111111,\"#46039f\"],[0.2222222222222222,\"#7201a8\"],[0.3333333333333333,\"#9c179e\"],[0.4444444444444444,\"#bd3786\"],[0.5555555555555556,\"#d8576b\"],[0.6666666666666666,\"#ed7953\"],[0.7777777777777778,\"#fb9f3a\"],[0.8888888888888888,\"#fdca26\"],[1.0,\"#f0f921\"]]}],\"mesh3d\":[{\"type\":\"mesh3d\",\"colorbar\":{\"outlinewidth\":0,\"ticks\":\"\"}}],\"scatter\":[{\"fillpattern\":{\"fillmode\":\"overlay\",\"size\":10,\"solidity\":0.2},\"type\":\"scatter\"}],\"parcoords\":[{\"type\":\"parcoords\",\"line\":{\"colorbar\":{\"outlinewidth\":0,\"ticks\":\"\"}}}],\"scatterpolargl\":[{\"type\":\"scatterpolargl\",\"marker\":{\"colorbar\":{\"outlinewidth\":0,\"ticks\":\"\"}}}],\"bar\":[{\"error_x\":{\"color\":\"#2a3f5f\"},\"error_y\":{\"color\":\"#2a3f5f\"},\"marker\":{\"line\":{\"color\":\"#E5ECF6\",\"width\":0.5},\"pattern\":{\"fillmode\":\"overlay\",\"size\":10,\"solidity\":0.2}},\"type\":\"bar\"}],\"scattergeo\":[{\"type\":\"scattergeo\",\"marker\":{\"colorbar\":{\"outlinewidth\":0,\"ticks\":\"\"}}}],\"scatterpolar\":[{\"type\":\"scatterpolar\",\"marker\":{\"colorbar\":{\"outlinewidth\":0,\"ticks\":\"\"}}}],\"histogram\":[{\"marker\":{\"pattern\":{\"fillmode\":\"overlay\",\"size\":10,\"solidity\":0.2}},\"type\":\"histogram\"}],\"scattergl\":[{\"type\":\"scattergl\",\"marker\":{\"colorbar\":{\"outlinewidth\":0,\"ticks\":\"\"}}}],\"scatter3d\":[{\"type\":\"scatter3d\",\"line\":{\"colorbar\":{\"outlinewidth\":0,\"ticks\":\"\"}},\"marker\":{\"colorbar\":{\"outlinewidth\":0,\"ticks\":\"\"}}}],\"scattermapbox\":[{\"type\":\"scattermapbox\",\"marker\":{\"colorbar\":{\"outlinewidth\":0,\"ticks\":\"\"}}}],\"scatterternary\":[{\"type\":\"scatterternary\",\"marker\":{\"colorbar\":{\"outlinewidth\":0,\"ticks\":\"\"}}}],\"scattercarpet\":[{\"type\":\"scattercarpet\",\"marker\":{\"colorbar\":{\"outlinewidth\":0,\"ticks\":\"\"}}}],\"carpet\":[{\"aaxis\":{\"endlinecolor\":\"#2a3f5f\",\"gridcolor\":\"white\",\"linecolor\":\"white\",\"minorgridcolor\":\"white\",\"startlinecolor\":\"#2a3f5f\"},\"baxis\":{\"endlinecolor\":\"#2a3f5f\",\"gridcolor\":\"white\",\"linecolor\":\"white\",\"minorgridcolor\":\"white\",\"startlinecolor\":\"#2a3f5f\"},\"type\":\"carpet\"}],\"table\":[{\"cells\":{\"fill\":{\"color\":\"#EBF0F8\"},\"line\":{\"color\":\"white\"}},\"header\":{\"fill\":{\"color\":\"#C8D4E3\"},\"line\":{\"color\":\"white\"}},\"type\":\"table\"}],\"barpolar\":[{\"marker\":{\"line\":{\"color\":\"#E5ECF6\",\"width\":0.5},\"pattern\":{\"fillmode\":\"overlay\",\"size\":10,\"solidity\":0.2}},\"type\":\"barpolar\"}],\"pie\":[{\"automargin\":true,\"type\":\"pie\"}]},\"layout\":{\"autotypenumbers\":\"strict\",\"colorway\":[\"#636efa\",\"#EF553B\",\"#00cc96\",\"#ab63fa\",\"#FFA15A\",\"#19d3f3\",\"#FF6692\",\"#B6E880\",\"#FF97FF\",\"#FECB52\"],\"font\":{\"color\":\"#2a3f5f\"},\"hovermode\":\"closest\",\"hoverlabel\":{\"align\":\"left\"},\"paper_bgcolor\":\"white\",\"plot_bgcolor\":\"#E5ECF6\",\"polar\":{\"bgcolor\":\"#E5ECF6\",\"angularaxis\":{\"gridcolor\":\"white\",\"linecolor\":\"white\",\"ticks\":\"\"},\"radialaxis\":{\"gridcolor\":\"white\",\"linecolor\":\"white\",\"ticks\":\"\"}},\"ternary\":{\"bgcolor\":\"#E5ECF6\",\"aaxis\":{\"gridcolor\":\"white\",\"linecolor\":\"white\",\"ticks\":\"\"},\"baxis\":{\"gridcolor\":\"white\",\"linecolor\":\"white\",\"ticks\":\"\"},\"caxis\":{\"gridcolor\":\"white\",\"linecolor\":\"white\",\"ticks\":\"\"}},\"coloraxis\":{\"colorbar\":{\"outlinewidth\":0,\"ticks\":\"\"}},\"colorscale\":{\"sequential\":[[0.0,\"#0d0887\"],[0.1111111111111111,\"#46039f\"],[0.2222222222222222,\"#7201a8\"],[0.3333333333333333,\"#9c179e\"],[0.4444444444444444,\"#bd3786\"],[0.5555555555555556,\"#d8576b\"],[0.6666666666666666,\"#ed7953\"],[0.7777777777777778,\"#fb9f3a\"],[0.8888888888888888,\"#fdca26\"],[1.0,\"#f0f921\"]],\"sequentialminus\":[[0.0,\"#0d0887\"],[0.1111111111111111,\"#46039f\"],[0.2222222222222222,\"#7201a8\"],[0.3333333333333333,\"#9c179e\"],[0.4444444444444444,\"#bd3786\"],[0.5555555555555556,\"#d8576b\"],[0.6666666666666666,\"#ed7953\"],[0.7777777777777778,\"#fb9f3a\"],[0.8888888888888888,\"#fdca26\"],[1.0,\"#f0f921\"]],\"diverging\":[[0,\"#8e0152\"],[0.1,\"#c51b7d\"],[0.2,\"#de77ae\"],[0.3,\"#f1b6da\"],[0.4,\"#fde0ef\"],[0.5,\"#f7f7f7\"],[0.6,\"#e6f5d0\"],[0.7,\"#b8e186\"],[0.8,\"#7fbc41\"],[0.9,\"#4d9221\"],[1,\"#276419\"]]},\"xaxis\":{\"gridcolor\":\"white\",\"linecolor\":\"white\",\"ticks\":\"\",\"title\":{\"standoff\":15},\"zerolinecolor\":\"white\",\"automargin\":true,\"zerolinewidth\":2},\"yaxis\":{\"gridcolor\":\"white\",\"linecolor\":\"white\",\"ticks\":\"\",\"title\":{\"standoff\":15},\"zerolinecolor\":\"white\",\"automargin\":true,\"zerolinewidth\":2},\"scene\":{\"xaxis\":{\"backgroundcolor\":\"#E5ECF6\",\"gridcolor\":\"white\",\"linecolor\":\"white\",\"showbackground\":true,\"ticks\":\"\",\"zerolinecolor\":\"white\",\"gridwidth\":2},\"yaxis\":{\"backgroundcolor\":\"#E5ECF6\",\"gridcolor\":\"white\",\"linecolor\":\"white\",\"showbackground\":true,\"ticks\":\"\",\"zerolinecolor\":\"white\",\"gridwidth\":2},\"zaxis\":{\"backgroundcolor\":\"#E5ECF6\",\"gridcolor\":\"white\",\"linecolor\":\"white\",\"showbackground\":true,\"ticks\":\"\",\"zerolinecolor\":\"white\",\"gridwidth\":2}},\"shapedefaults\":{\"line\":{\"color\":\"#2a3f5f\"}},\"annotationdefaults\":{\"arrowcolor\":\"#2a3f5f\",\"arrowhead\":0,\"arrowwidth\":1},\"geo\":{\"bgcolor\":\"white\",\"landcolor\":\"#E5ECF6\",\"subunitcolor\":\"white\",\"showland\":true,\"showlakes\":true,\"lakecolor\":\"white\"},\"title\":{\"x\":0.05},\"mapbox\":{\"style\":\"light\"}}},\"xaxis\":{\"anchor\":\"y\",\"domain\":[0.0,1.0],\"title\":{\"text\":\"Loss\"}},\"yaxis\":{\"anchor\":\"x\",\"domain\":[0.0,1.0],\"title\":{\"text\":\"Mean Anger Score\"},\"range\":[0,5],\"dtick\":1},\"legend\":{\"tracegroupgap\":0},\"title\":{\"text\":\"Anger vs. Loss\"}},                        {\"responsive\": true}                    ).then(function(){\n",
       "                            \n",
       "var gd = document.getElementById('59aa2bb6-6275-47f8-b19f-39060169f68b');\n",
       "var x = new MutationObserver(function (mutations, observer) {{\n",
       "        var display = window.getComputedStyle(gd).display;\n",
       "        if (!display || display === 'none') {{\n",
       "            console.log([gd, 'removed!']);\n",
       "            Plotly.purge(gd);\n",
       "            observer.disconnect();\n",
       "        }}\n",
       "}});\n",
       "\n",
       "// Listen for the removal of the full notebook cells\n",
       "var notebookContainer = gd.closest('#notebook-container');\n",
       "if (notebookContainer) {{\n",
       "    x.observe(notebookContainer, {childList: true});\n",
       "}}\n",
       "\n",
       "// Listen for the clearing of the current output cell\n",
       "var outputEl = gd.closest('.output');\n",
       "if (outputEl) {{\n",
       "    x.observe(outputEl, {childList: true});\n",
       "}}\n",
       "\n",
       "                        })                };                });            </script>        </div>"
      ]
     },
     "metadata": {},
     "output_type": "display_data"
    }
   ],
   "source": [
    "fig = px.line(x=losses, y=mean_scores, title=\"Anger vs. Loss\", labels={\"x\": \"Loss\", \"y\": \"Mean Anger Score\"}, markers=True)\n",
    "fig.add_scatter(x=losses, y=sae_count_scores, mode='lines+markers', name='p(angry word)')\n",
    "fig.update_yaxes(range=[0, 5], dtick=1)\n",
    "fig.show()"
   ]
  },
  {
   "cell_type": "code",
   "execution_count": 39,
   "metadata": {},
   "outputs": [
    {
     "name": "stdout",
     "output_type": "stream",
     "text": [
      "scale 0\n"
     ]
    },
    {
     "name": "stderr",
     "output_type": "stream",
     "text": [
      "100%|██████████| 100/100 [01:47<00:00,  1.07s/it]\n"
     ]
    },
    {
     "name": "stdout",
     "output_type": "stream",
     "text": [
      "['I think they are good but you can cause more damage than good. My boys have had them for over ', 'I think the most exciting new development in the craft beer movement is the invention of kits, as developed by Yakima', 'I think the Symphonies are beautiful. Luckily some records are a bit earlier with fantastic sound (to be honest', \"I think you can't send email templates directly to the requestor using Horizon mail and have the requestor\", 'I think the S.E. is the more versatile, but I do prefer the old 340', 'I think the thing that we all avidly miss the most are the Friends from home (known as Hoot', \"I think Canadians refer to Newmarket as the 'Amsterdam of Newmarket' given the huge number of hippies in\", 'I think this has been mentioned before but wondering if anyone has (or will) make a 1/7', 'I think the horror industry at large is responding out of stubborn laziness or financial necessity.\\n\\nHey I’m', 'I think as of now there is no way to do this. Ideally they simply made the third recommended offset variable', 'I think that intermediate walks would have their roots planted secretly in the centre of Kaunas and let them grow inwards', 'I think Fisher would be happy\\n\\n<blockquote>quote:\\nNot if Dwayne Johnson in pimp mode</blockquote>\\n\\n<blockquote>quote', 'I think this is most likely the answer.\\n\\nstudyguidecovers.com/exhibits/imagining...sor', 'I think it really depends on who are you talking to, When I was in school I was the proud sag', 'I think it is because I have the Python-Trello API installed but not the Python-Trello app', \"I think drones are the way of the future but I don't really like the fact that they hover it\", 'I think F5 is a good candidate. Look at their security module and packaging. i’d rather use', 'I think it might have changed letters.\\n\\nBut its safe to assume 0 to 9 as 0', \"I think my little mini dancer is going to love this ballet cake but I didn't have a single photo\", 'I think this Bob Marley G-Child tee shirt is from the 90s and by the quality of', 'I think we’re locked in a new proxy war across the Middle East. The ideological envelope is tearing apart', 'I think more of a line of thought would help.\\n\\nDuring Boston Marathon training in 2002', 'I think that these people are mostly confident that all things Democratic have a better track record than their safely Republican counterparts', 'I think every time I shower now, I’ll remember what a year ago felt like.\\n\\nThree months', 'I think your at least 99% there… but the first thing you have the wrong arrow… it', 'I think, what exactly you have in doubt, no matter you know it. But... hmm... hors concours', 'I think this one was created at Mad Cat Studios which I was going to ask if they work ED as an', 'I think both rods Mike were talking about had GPR stainless welding rods. From what I have heard they may bend', 'I think UA is in the optimal position out of all 5 AISN companies (not insurance company) to', 'I think that renting out a garage apartment is difficult for the guard station in the area. Closing the yard because', 'I think we all know it when we meet it.\\n\\nThe person who is there. But not really there', \"I think it's good!\\nOn the other hand im person who thought My friend Miles is not a\", \"I think the most popular review I've seen, on NetWit, is against this film. And this\", 'I think we can all agree, buying a coffee place is hard and it takes time.\\n\\nIf you think', 'I think I’ve heard from everyone in the world about the methods for baking sourdough. All of them are', 'I think that your twenty-four hours of serious-minded work is about to come to an end!\\n\\n', 'I think that this is just a recommendation not a demand from the other way around.\\n\\nIt is just really', 'I think this is an awesome piece. The wall has clarity and the metal has a nice shine. If i', 'I think many people may not know what a slackline is, so I will take the chance to introduce them', 'I think this may have been touched on before, but is there a single assembly (usually assembly 5)', 'I think that my career exposure contributed to the success of the company.\\n\\n\\n<em><strong>1.Could you get', 'I think your point is important, Bert, but what puzzles me most is the lack of interest in <strong>', 'I think it was Nelson Mandela who said something to the effect of: “There’s a fine line between', \"I think it's their legendary status can't be modeled. The dishes can be rewarmed,\", 'I think its fair enough for 2 bids.\\n\\nCute story ha antics and jap jokes really good\\n\\nThis', \"I think I've finally figured them all out. Alternators are recent. Plugs are original; probably\", \"I think it's like most of the people in the city... Must be nearing the peak midday and according\", 'I think we have two big problems.\\n\\nThe basic definition of the REST API in WIndows Azure does', \"I think the problem is that there's been too much of a focus on the drone capabilities of jets,\", \"I think Bill Shih is Steve Shirk's father. And yes, Blossom is somehow Japanese. She (\", \"I think I caught a white-nose (tucan), but I'm not sure if it's\", 'I think she lives up to her name! She is a bubble personality! She is bonded with Graysen our', 'I think next time I get an Clipper card after riding the Red line that runs by World Arena, next stop', 'I think this comes down to either mod has a bug or they are using an iteration that is no longer available', 'I think we all panicked whether or not online etiquette guidelines were working last March. Our store, Barkley & Cooper', 'I think they mean when you computer is loading and you have to wait till the whole content is downloaded, panel', 'I think having played since beta 6 and experiencing the game a lot every year continued to feel like the super', 'I think that bigger is better. Specifically I think so for a number of reasons:\\n\\n* I often find', 'I think I bought this 10 years ago. It was sold by a local folk musician and painter,', 'I think they do, yes! I’d definitely go for his voice in the first movie, but he', 'I think his quote expresses his desire to throw off the shackles of existing traditions.\\n\\nI would say that Castro', \"I think we're suffocating at the moment. I'd love a scroll bar in the background so\", 'I think a beautiful home is a home with style and taste, with elements of style interesting things that are remembered', 'I think what happens is any paper you take with junk in it will be OK in terms of stress but if', 'I think I eventually found out it was Dodge Challenger spindles… is there a good place to sell/trade them', 'I think didkens human form is pretty cool too\\nI think everything steps from the game doeskens still looks', 'I think more people would love to see their trees go without a single drop of water on the lot. But', 'I think <em>Tiger King: Murder, Mayhem and Madness</em> made us realize quite a few thing about Tiger', 'I think this aversion can be from a product called TurboJet that is for specifications. So it can have a', \"I think I'll research any guitar I am considering more than usual now on VCC, I have a\", 'I think logistics is the key to allow After Builders to focus on their real business, building and executing their plan', 'I think the saltier the food is, the better (think a great Sand burger, or a nice brisket', 'I think it’s safe to say that this Halloween season came down to one phone call: <strong>“', 'I think you will like the class model, though there will be a lot to learn as I haven’t', 'I think your pleasure pains might be more evidence of gestational diabetes than a false positive of the glucose tolerance test.', \"I think I'm going to start a tradition of these garage sale fwnds, and start with the boys\", 'I think once a situation like this has been reset with the time controls, you cannot change them. Maybe if', 'I think it is important to write down what guitars are used in the Stone Script that I did.\\nBecause', 'I think back on all three and they are all fairly alike.\\nI prefer the 2015', 'I think that’s what gameplay is all about, a balance of not getting too far ahead or falling too', 'I think the best way to describe Caesura Tattoo Studio is to compare it to the amazing doctors at Superior Jen', \"I think that it is unfair that they don't have branches tickets allowing you to get checked in before the\", 'I think the shared memory of the regular meeting room is just to motivate us to work harder, making it more', \"I think, depending on the method you're using. Use HM uses a lot of memory (I'\", 'I think that this \"process\" that you are talking about is for HTML pages.....\\n\\nAs I understand,', 'I think the Royal Marines would be perfect for quick and accurate milsim ops after days of heavy digesting the', \"I think they are cute too! Don't we all have a bit better view of fってたい as\", 'I think it is mouse movement speed, not mouse movement direction.\\nYou have to \"drag and drop\"', 'I think we have seen from ability checks, that there is a script wide variable called tic time, in my', 'I think they are overpricing.\\n\\nPlus their menu card is difficult understand for a newbie.\\n\\nHow do', 'I think my general excitement for Sony’s new feature is finally guiding me to do a review. It was', 'I think rotenone* sounds safe. It is a teratogen. And the overwatch machine smells better.', 'I think the news comes from Bloomberg is that Apple has some limited special models but these are not mass-produced', 'I think it is very important for English-as-a-Foreign-Language students to delve into the worlds', 'I think Saif Prem forgot to watch a part of today\\'s TV Movie\"Children of the Bubbles\"\\n\\n', 'I think its must needed that supercop should be updated in rj45 conector.\\nexactly for doubles,', 'I think this adidas pro staff racquet is perfect for me in respect of weight and balance. I have tried', 'I think I know what this shtick is I have been seeing and hearing recently in the preaching places. I', \"I think Geronimo is just as welcomed as any other minor or boss since he's easy to fight\\n\\n\", 'I think this is the first statue of Wilma from my good collection and one of my favorite \"girls\". Here']\n",
      "0.44\n",
      "scale 0.1\n"
     ]
    },
    {
     "name": "stderr",
     "output_type": "stream",
     "text": [
      "100%|██████████| 100/100 [01:47<00:00,  1.07s/it]\n"
     ]
    },
    {
     "name": "stdout",
     "output_type": "stream",
     "text": [
      "[\"I think it's unfair to the end user of a product like Facebook or any other over-connected application\", 'I think both Isla and Phoenix have amazing personalities. They are never ones to stay quiet if they know you like', 'I think there’s no two ways about it. It’s pretty cool to have an icon of a', 'I think Condiman/Rey tatu worked for years at the same dope smoking establishment.\\n\\nGood to read the', \"I think it'd make a punchline if Ted mainly serves the role ORr!Orion like Flee\", \"I think I am missing something really simple here and it is probably because my guitar isn't setup right for\", \"I think London would be ok. I know there's no minimum before you can get married, only a\", 'I think is true that you should have your blender determined before you buy about 80% of the open', 'I think that is a fair price to ask in this day and time. Out here in Texas, I have', \"I think it's good that she comes back now, because JSR is currently the only Rider, being\", 'I think my mom teaches very good Bible class, but there are misunderstandings that arise when she preaches.', 'I think it is inspiring that there are so many women that are tackling the nicotine free world that Nic Nikos', 'I think the most popular crochet hook size is 6mm.  In this post, I am going to', \"I think being black has a significance across all races. Even if you're not african you probably relate to\", 'I think this set should come with the bathroom teen clothes DLC - has there been one announced?\\n\\nI heard', 'I think you’ve probably seen this function before. It’s the one you call when you want to', 'I think I may have accidentally dented the rear bumper last year, then again, if my car was parked', 'I think the trip to Thailand was a good way of redirecting my focus especially because it was my first trip', 'I think it has to be HOMELcrimination. In timeit and in ダイニング(雨水) he talked', \"I think the mostsetAlignment property is what's actually returning an int, while the mostAffects property is\", \"I think it's better that they are deactivating Riot SG daripada going to their houses and tatol them\", \"I think the next thing you're going to have to do is to redeem any inverse bills over $2\", 'I think you will find that <em>Reconciliation</em> it is the theme is one of the few book Wals', \"I think he's right that it was a dumb thing to do, but people need to stop feeding into\", 'I think it depends on the length of the organisation; how much development has happened since 1994', 'I think you guys are squeezing the lemon into the press wrong.\\n\\nAs a dealer with two front page stories', 'I think it is a QoL, has a high hit, and everything else. Otherwise there is not much', 'I think that Dark Realm is a unique one, since it adds RP aspects and is a bit more involved (', 'I think the big problem in Lady of the Manor is that the story really wants to be a big, glamour', 'I think you have to confuse karma cmiiw, but not for charity purposes.\\n\\nI would be confused', \"I think what eyes have to see mean, in that case? I believe if it's whereabouts it says\", 'I think the first one best describes that time in life after the original foray into rock-and-roll.', 'I think many articles on this site feature his, but as far as I know what he did was pretty cool', 'I think that self service holding is a really cool idea. Makes self storage competitive with every other redrop drop', 'I think my problem is 64bit version of sdapos Pro, and I can use version ', 'I think that movie was on pain-crushing speed. For me it distracts from the story.. which', \"I think they have one there now\\n\\nIt's a pity they don't stock all 3 seasons\", 'I think the egg whales in aio (mugel ) are also used for sealed tanks in 5.5', 'I think I did well on all those. Maybe I could have made them even worse. ;-) Good job on', \"I think many people who google 'Support Act Financial Validation' or 'I've forgotten my Password Contact Support\", 'I think it’s been a while since I’ve blogged. It was natural that I needed a', 'I think the headlights have too much tint. Probably because of that its cut out on the hills. But should', 'I think 2010 football coach names are the most ridiculous end all be all of American sports.', 'I think generally small investments dictate how i feel. Any panicky overvolatility in the market (e.', 'I think, there is a poor tactical view into portrait design and portrait photography. Now in magazines (ordinary tabloid', 'I think that if we assessed success by saving lives and healing, it’s almost all incompetent. Thanks Bill', 'I think its time to sell my bassham 8x8. It is in great shape. No n', 'I think, its when the user has to multiple senders, receivers, phone numbers.\\n\\nI think when', \"I think whether it is Chandler or Veronica who is really observant, I don't really know. (But\", 'I think the patch worked for me too, can anyone confirm please?\\n\\nPhil *\\n\\n<blockquote>rotyaan', 'I think throwback photos are always fun, even more so when you notice the similarity to your kids today. So', \"I think it's pretty obvious that on basic, bold, and medium weights the font is handwritten or solid\", 'I think we were talking about something else earlier. My lantern was \"burning hot\" too....not in living', 'I think they said you are able...... but even I needed the w*rktable out today.\\n\\nI', 'I think people get way more upset about it than it really is, to be honest. Even more so now', 'I think this is the first of its kind, a front wheel forkless road bike. It appears quite</blockquote>', 'I think like many Christians, it may not drive us forward, but it does restrict us so that what we', 'I think they are some who could have taken Obama out with a few blows. Not like a bullet, though', 'I think Iditingri dancing/performances making this game fun as hell!!\\n\\nBunclerocks Hard and', 'I think the same thing.... Probably why those dipshit Sabans spread out going to Europe lol. Throw a', 'I think one of the ways that I do so is through being honest. My job is to always tell the', 'I think that Chestnut is losing appeal, it seems like a fashion trend that has come and gone, you may', 'I think it can be a good idea to check your work after you have done it. Correct math may not', \"I think this is intended and shows how currently entangled our world seems. It's on the Figma app\", 'I think you answered your own question by saying there is no difference between the two.\\n\\nThe timer value is', \"I think it's at least worth. debating options to upgrade the mosquito funnels.\\n\\nI hate that\", 'I think I might have found the answer:\\n\\nProfile Key Upload By ID < Helpnet\\nhttp://sourceforge', 'I think it’s such a gift to work as a coach and life-coach and help people feel whole', 'I think its best to ask depo seniors who have had a mim or what would they do with it.\\n', 'I think you are overlooking a place/event that is literally right there for you\\n\\n<strong>Anisak sederhana,', \"I think so. He was slightly concerned with possible injury today, so i'd say probably. Don'\", 'I think that we are different on multiple levels. I am a very supportive person by nature; sometimes I push', \"I think it's time that we have something like a library type group merely for dating\\n\\nCharacters here are\", \"I think it's a requirement for me to re-attend my GQ bar mitzvah again. Anyway looking\", 'I think the same thing yesterday, they probably do have the service here in Cuba...The only thing is they', \"I think you should layer up in the morning, even if it's going to be cloudy or raining.\", 'I think you are referring to stochastic gradient descent (SGDR)\\n\\nIn stochastic gradient descent(SD), the', \"I think a bear or a Ghana spider told me to review this film so I'll take their advice and\", 'I think the Polonius \"advice\" is the deepest concept in <i>Hamlet</i>. Wanting advice from', 'I think keeping a journal might be a good idea. Takes away the awkwardness of talking to people who don', \"I think the Best part about this product is the After flash and dry feeling, doesn't bunch and freeze\", 'I think so hard about his POV that I was inclined to try my very best to think about the OC.', 'I think you are right about capturing the close on ATMs\\nand shop doors. Great idea.\\n\\nI think', 'I think the tattoo on this runways is significant. The material isにっち可见的 henna tattoo hair  painted', 'I think you need to consider two problems; the .Fatal() calls just cause the program to exit and the', 'I think you AGREE that when Trump wrapped up this latest trial in December 2021, rather', \"I think in the summer, with all the work that has been going on, i've been so short\", 'I think Leeth has beaten you to it, when I did a quick search for your model I found some', 'I think it is the cool stuff you\\n\\ncan do – you can paint the roads\\n\\ninto swirls, ripple', 'I think that there are many things to be learnt from software, even if economics is not your cup of tea', 'I think it was when Reed was putting paper towels in the stack they went down on the cart.  Went', 'I think I’m going to buy a 5″ tall x 12″ wide refrigerator magnet stand', 'I think i have a tusauva plant today. In my post about my guys at the edge of their', 'I think we should wait for the Win 10 release so a tom is made, if its even possible', 'I think he meant stage, but apparently it came out looking like Manual Isle, which… Yeah… It’', \"I think you're going to get some interesting feedback on this. For one, the instructions better explains the\", \"I think this is a huge concern in the library today.\\nAt Clemson we've been buying streaming technology\", 'I think I like the Burt Reynolds runway scene better than the Restoration Project. Burt Reynolds must have been a good', 'I think it comes down to having a few trideads as fast as you possible can because in order to', 'I think that this is a pretty simple question, but when hypothetically somebody pushes him up against a wall and']\n",
      "0.45\n",
      "scale 0.2\n"
     ]
    },
    {
     "name": "stderr",
     "output_type": "stream",
     "text": [
      "100%|██████████| 100/100 [01:47<00:00,  1.07s/it]\n"
     ]
    },
    {
     "name": "stdout",
     "output_type": "stream",
     "text": [
      "[\"I think I've seen higher. Also with it starting off at 364. That would be\", 'I think of Queen as the Trilogy of Of Mice and Men character that I feel most close to.\\n\\nTate', 'I think we can all agree that technology made a big impact on the 2010’s.', 'I think that bikes are the wonder of the world. I think that even if I had one thing to say', 'I think this damage has been seen earlier with #340 and have tried in other ways like modifying mods', \"I think we will do some specific OPE implementations into HF (aka, concurrent FP). Traditionally I've\", \"I think this recipe is below sharing.\\n\\nI've persevered and learned a great deal.  When\", \"I think often of you when I'm wrecked with the to be's about being the mom and drunken\", 'I think if u <b>apply for student fee exemption</b> once in 3 years that means you <b>', \"I think you guys are on to something:\\n\\nThere's clearly a mystique about the Giovanni clan in the\", \"I think I ground out pretty hard on this one, here's why:\\n\\n1) The bolts,\", 'I think it was you who showed off the HeroX Silbermann 4-speed competition gear box - great', 'I think you nailed the title...and rightly so, i very lonely and its been troublesome for me because I', 'I think the game bug will happen eventually, and it is set at a new stage of the game happening,', \"I think this is may be not the best question, but I can't re-post it:\\n\\n\", \"I think you're right, you were right a couple of years ago and you were right again this year\", 'I think the first call to $\\\\text{NewOwner}$ failed, you were probably trying to create two accounts', 'I think that basically misanthropes are trying to find closure to their seemingly inescapable, perpetual sadness.  ', 'I think you are right. I am a bit critical of this because I feel it could be removed in a', 'I think this is the end of the Show Me the Money story. I had some fun last year, when', 'I think it would be a silly step to call him ‘baba’ that too without a threat. How can', 'I think he looks like Lord Renowned, same facial features\\n\\nI find it really funny how people compare us', \"I think that's what gives Monopoly Force the makings of a pretty <em>good</em> movie. It\", 'I think everyone completes the experience of parenthood in a different manner, by differences that are not even visible to the', \"I think the message you're receiving is more of an implementation detail, rather than how it's spec\", 'I think this is cute ^__^ I have never played it ^^\\npokemon!\\nReally like this~', \"I think HW&Ch has a point here. It's different with every chapter. The excitement factor might\", 'I think you have some options as below.\\n\\n1. You can catch if the next value of the join', \"I think it's better to look at the history first\\n\\n\\nI wish it weren't so but here\", \"I think Derk grew up with my mom. There's no doubt he's related to my husband\", 'I think it is important to recognize the accomplishments of some poor.\\n\\nThe criminals are in jail where they belong', 'I think that the fact that the soldiers turned her in, indicated that they were ashamed of fighting a woman.', 'I think it is important that candidates are clear the economics of price gouging.\\n\\nIf, in agreeing to', \"I think you'll find that the majority of the 2.7 fly people are new players or people\", \"I think we can all agree there is something wrong with the whole Taco Bell Big Gulp.\\n\\nIt'\", 'I think this is the most reasonable explanation that we’ll get tonight especially after seeing Brie’s reaction following', 'I think of this genre as “Here comes Trouble”, as it’s also known as the La Bamba', \"I think the split is the key value. It's not the split value -- if I know someone'\", 'I think all the RL fans agree that The Negan Show would be pretty damn awesome. Now, take that', 'I think that unlike most of the world the Brits know for a fact that more than 90% of', 'I think offseason drills should always include a lot of time spent studying film. As a defender, it should be', 'I think you can change your family phone plan to include a no-contract version of the 3S,', 'I think I love my Mew ink as I love my Mew painting. Not just because I’m famous for', 'I think there were 3 adults in our party. The waiter was taking orders and I asked can I order', \"I think I asked this like 8 different times on here to make sure it's ok, and i\", 'I think it\\'s 4 DOPs to the wrist. I have a 48\"x4', 'I think I’ll try the standalone torrent stuff just out of sheer desperation now. I know taking BitTorrent', \"I think anyone with long hair eyes would be aghast with what she said...I'm guessing her hairst\", 'I think in the last couple of years, I’ve seen an increasing number of clingy cheats, or', \"I think I'm having the same issues with my new Nordic Track Escape. it won't recognize my\", 'I think this might be the scene that made me tey asking myself,”Why?”,But what made him crazy', 'I think it was appropriate for job specific skills training to do the online training for Project Management, because when an', 'I think ViolinNext has it about right: They say you should be able to double the price for a studio', 'I think you here who can decide who is ambassador good or bad, not this case. This matter important is', 'I think the market only exists because fixed interest yields are lower than the real discount rate.\\n\\nThe fixed interest', 'I think this could very well be the one. I use salad since the memozing at birthday parties for years', 'I think they should be tough enough to contain water... some of my plants get water 3 times a day', 'I think that Hacker is the brightest atheist ever. He is one of the few smart people to completely realize that', 'I think I was perhaps the highest praise that could have been had for Barry Morris – whilst investigating Director’s', 'I think the 1:15 scale engine looks great, but leaves a noticeable gap around the nose of', \"I think you have missed his point. It's because both Superman and Batman may have lives, but Superman\", 'I think that this Hotel which is situated at Sunset Ave, Jalan Tarnoval, in Ipoh, Perak', 'I think this is the biggest “oops” ever. In 2007 when A.J.', \"I think it's pretty interesting that Harry has become a lightning rod for all issues relating to his father,\", \"I think your question has some answers in the introductory history of codes and their performance indices, and it's\", 'I think ive seen it in both colours they have a nice range to offer but you can see it on tv', 'I think I would wait until graduation. Lock in the spot with the acceptances and then see what HS are', 'I think this show was a good one!  I hope the writing can get better and better!  The', 'I think the probability of Thor tahun d&m &msis is 0.00007', 'I think this tint could have stories to tell. Referbacks are happening, but not via the traditional \"give', \"I think it only applies for regular visitors to China.\\n\\nIt's nothing to do with the visa.\", 'I think chefs would curse after reading this article and totally discredit all of the discomfort and value needed to learn a', 'I think this is additinally because of my temperatures weird high on the node diemains.\\n\\nDude I', 'I think the people in the traditional regime always complain about corruption, or always ask “where’s the money', 'I think an extra wall would be a good idea, I have this heavy duty foldable list below. cheers\\n\\n', 'I think some projects that seem absurd and stupid in the moment really work out well. They just take time to', \"I think there's a lot of waste going into the toilet water. I definitely want to do better with\", 'I think most parents can relate to this; well at least some do and I will mention him because he is', 'I think the whole thing is nuts. One volunteer organization? - particularly no one knows who is left, if', \"I think I need your advice. I'm trading in my 1100s for the V\", \"I think the colors work really well especially together with the green and sea green pages. They're a nice\", 'I think its ok, only recently, my ADSL line started smoking cables and i needed to have a new', 'I think that the path to your life purpose could be your story. How’s that for projecting on the', 'I think you are the most amazing friend.\\nyou have a wonderful heart that gives away your good deeds as', 'I think 94-95 is the peak but they never hit it. Hollywood got super cleaned up', 'I think I’m every parents worst nightmare. Nothing better than hearing a scream when the playpen falls over', 'I think if my husband & I each had a great romantic weekend, it would be enough to keep us happy', 'I think Art has discovered character I didn’t have before, it was rather selfish. I thought it would', 'I think Christina and I should start Snoddy for Christmas, but with a different dress. Dresses points', \"I think they might live again though Dr Zarkon wasn't present So they are done in this show\", 'I think every patient has the right to feel cared for, appreciated and respected whether they in an agency or private', 'I think the parties need to develop a more nuanced legal system. There are two potential sides to the situation.', 'I think apple apple togebray become huge\\n\\nBut yeah good work on this man :D\\n\\nOUJU', \"I think it is pretty obvious I'm trying to incorporate everything here, just copying one of the aggro clans\", 'I think you have many asks suggesting everybody, a few entries from various people (?) are borderline inappropriate. That along', 'I think in the initial release Caddy 1.18 the set of 1-2-3 arguments', 'I think your space is really good; though I think your wall colour is an odd choice. I thought black', 'I think there is another way of doing this. You do a lot of transparency with planes in Reality.\\n\\n', \"I think I did the example a week too late. I can't use the editor.\\n\\nThere is\", 'I think seeing the part about not putting a filter on the wick was my problem\\n\\nSo I should not put']\n",
      "0.35\n",
      "scale 0.4\n"
     ]
    },
    {
     "name": "stderr",
     "output_type": "stream",
     "text": [
      "100%|██████████| 100/100 [01:47<00:00,  1.07s/it]\n"
     ]
    },
    {
     "name": "stdout",
     "output_type": "stream",
     "text": [
      "['I think you need less fuel in your system at this time of year. With a diesel engine you are talking', 'I think about Dale occasionally. I remember him as a person... not just as a football player. He was', 'I think parties are a great tool to get children outside, and once we were done with that, it went', 'I think this is a mistake.\\n\\nThere are two sex-roles in samples throughout the world. We sing', \"I think the amount of aggression you display & provocation in makes the show better. Because i'm angry,\", 'I think let’s all go into exile\\n\\nIf that stands in the way let’s all rather be', 'I think the first time I saw one of these back in the 1960’s I thought', 'I think you’re going to love poetry too. You can’t resist it in its transparency and communication', 'I think robber is way better than trooper. Reason I say is:\\n\\n trib. empathy (Depends at what', 'I think I have the perfect username for Twitter... I am kinda pissed at Facebook right n...@ rickywin', 'I think that Danielle and Carlos found out that Angelina was telling the truth. but when their father came barreling', 'I think a chief pilot when hired by an airline is supposed to have certain education requirements. originally asked if there', 'I think NER is cool, but not a bug.  When you try to buy a new skin and it', 'I think skillilan and geegeo were talking to the wrong person.\\n\\nThe first gen real swords for', 'I think the first sin may be the first of my sins. I have sin to work through and so much', 'I think the best way to write snark is to understand the difference between comedy and snark.\\n\\nThere', \"I think this is one of the best songs he ever sang....some...If you don't like sexist\", \"I think we are somehow related, I don't know. Do you have kids?\\n\\nhttp://www\", 'I think if I had to pick on one game, one feathers fest, it would be my feelings about Co', 'I think you will find that one of the most common advantages of logarithms, growing by power, is that they', 'I think Darian is a very rude woman. I met her yesterday and built a story with her and dev', 'I think \"family feuds\" is ending the family spending time together , <strong>interfering with invited guests', 'I think it all comes down to the simple point that lack of debat should be outlawed.\\nThat was something', 'I think there is not much to say about this blog. Maybe I need to take out my Denzel button', 'I think from the picture of the tires.\\nThe white may be sprayed and yet more heat may have sprayed', 'I think it is worth mention that while a motorcyclist can produce immediate results through the positive results generated by the', \"I think Sinn's design group is becoming more like that of an offensive designer, and more precisely, an\", 'I think that a sliding unlock is a feature that you develop. Games will come and go, but the features', \"I think it would be best to release last year's Beijing Winter Olympics a couple of months ago the day\", 'I think some Ghanaians might hold \"fire for\" Theophilus \"GNA\" Botchey but blames him is', \"I think now you'll see (a) that different people see things in window and different versions of the\", 'I think you better stop moaning about jobs when you starting to get the same pay as him.\\n\\nWould you', 'I think many dentists fear the concept of human pain. Society has created wastes of all types that has led them', 'I think we were brainwashed to like Lorde too.\\n\\nhttps://youtu.be/CmtDWBm', 'I think everyone knows exactly what holds true in the lives of all men. In our culture of self, anger', \"I think it will make you look prettier in the long run 😂one of the reasons i hate women's\", \"I think he hates me too\\n\\nI don't even know why Nether should hate anything\\n\\nDepends On where\", \"I think that some books should be banned from the library. There's so many good books that gets taken\", 'I think a third of my knowledge comes from the cut and run rule.\\n\\nThere are three groups—the', 'I think we can all relate to writing at work or being used to writing an essay at school. Well,', 'I think not,\\n\\nI just wish i could remember where you found out...it was somewhere in queens near', \"I think it would tremendously clear up intergenerational hatred toward the major German parties. That's a much needed\", \"I think this is a fairly small group today because we haven't checked our jumpers for the end of the\", 'I think we can all agree—cancer is hard for which ever side of it you find yourself on.\\n\\n', 'I think the next step after almost any creative expression would be resentment. I think we’re so glad he', 'I think that the texts left in present structures leave too many questions unanswered and too much to be asked rather than', 'I think in my half lifetime of loving muscle cars there has been a generation shift of who people loved them.', 'I think the most likely candidates are those of Mr. Faulk. Out of Agnes importance? Yes. Of', 'I think (void*) == (void*)(intptr_t)\\n#endif\\n    {\\n        return', 'I think you will be quite surprised, at least based on my feedback showing up in my browser when I was', 'I think F@#$ing Power Transmission is an excellent topic video blog series and it is one of our best', 'I think there should be a section about motor mounts and under car liners. From my understanding lot of people have', \"I think what you're saying is that the 3d picture frame appeared because someone put an extra frame\", \"I think this is Giovanni at baby Man lollllllll is it cute?\\nWow! i can't believe\", \"I think Jada is another actor who blew up because of s*x\\n\\nI'm a single parent\", 'I think everyone sees and feels helpless at some point in their lives. When it comes to this topic, it', \"I think you have to push the evolution into the closet. Oh yeah right there! There's just no\", 'I think everyone who lives with their child who has your anger management issues is angry with god.\\nplease i', 'I think that was the case with the Curtiss Viking and Martin B20. The same was true of', 'I think the question really boils down to \"extreme compromise\". Even then I had a \"tip of the hat', \"I think to many Mothers have a hard time dealing with their little boys. Every Mother's hatred increases towards\", 'I think you are technically correct in hipmentation, but iXA is going to be so far behind on development', \"I think I'm going to start making sub woofer cabinet in 1/4 or 1/\", 'I think you are correct about the latest release I spoke of at the recent SCG. That is because printers', 'I think our movements are multiplying turnout for ourselves. And what we find eventually is we are punch-drunk in', \"I think you inadvertently posted a permy comment vignette unintentionally.\\n\\n\\nI'm having the same problem with a\", 'I think this is good representing my original idea for this game, but I do have a problem with what I', 'I think Barbie stripes are as iconic as colors, as sideline sports jerseys continue to double as clothing, red acceptance', 'I think we all have or had a really bad service related experience. When an issue cannot be resolved, many', 'I think San Andreas was a great movie and all of us games fans should applaud on how hilarious the movie was', 'I think lynches should go faster..and once you got the katana,who would have even thoght on', 'I think they are two different things. If you get hit on the head bad enough and becomes unconscious, its', \"I think A isn't too strong.\\n\\n100 str and 1 downtime doesn't favor\", 'I think you take your emotions too much to the movies. Why would they forgive you to each other, what', 'I think I have noticed that veterans are not getting any respect over here in Arizona and I would ask this question', 'I think it will be a large metal bar,lol..\\n\\nNah it might just have passed\\n\\n\"Oh', 'I think the term polyamory dates back to the mid to late 1900s. Count', \"I think this scheme is fairer overall for victims in the absence of an escalating use policy. You take school'\", 'I think the biggest problem is the lower box visibility as you have suggested [see screen shot]. You can see', 'I think your radius variable has been changed, in this case to 4,,\\nin vector calculus radius is', 'I think I’ll do three posts tonight, after 3 really great performances by our players last night.', 'I think you are hitting against aバンナー极限也就是config number上限1 バジェार Лев超过。', 'I think modeling is an art, its about expressing your emotions and telling a story through lines not words and colors', \"I think it's more a design flaw at this point.\\n\\nLet me explain....Yes I still do\", 'I think this is awesome. After many years of perspective I guess...I hate to use the word. My', 'I think (\"have feelings\" is a hypothetical statement, and \"have feelings about\" is an adverb. so', 'I think that deserves another edit.\\n\\nI came up with this idea about 6 months ago, from all', \"I think he struggles that it's his that he tries screaming I hate... you I ended and gave birth\", 'I think that the relationship between Death and love is a prominent one, and I believe that anybody who has experienced', 'I think the story of how fast FCA stole this car from Jeep was a humbling experience for Heyen family.', 'I think you should the discover with a plan of attack. then plan an attack (eat it). and I', 'I think I am taking it all just because Sasha was left out. I have never been mad at her before', \"I think it's great that the Genre Discussions have picked up steam of late. Here are some things I\", 'I think Techdozer is a brilliant idea and i support them.\\n\\nAlec can make my money from him happen', 'I think it may be something you should report on, but I suggest you report on the Intel PowerGutter', 'I think it’s pretty safe to say that we’ve all put off that hard work already. Here', 'I think Cher is AWESOME! My favorite movie of all time(s) is \"MASH\". Some of', 'I think that some as adults we become jealous of the people who have hurt us or treated us, whether it', 'I think it was recently conservatives have gotten an earned reputation as mostly toothless hypocrites who will stop at nothing', 'I think about you when I rake leaves.\\n\\nI still have people in my life that I care about,']\n",
      "0.45\n",
      "scale 0.6\n"
     ]
    },
    {
     "name": "stderr",
     "output_type": "stream",
     "text": [
      "100%|██████████| 100/100 [01:47<00:00,  1.07s/it]\n"
     ]
    },
    {
     "name": "stdout",
     "output_type": "stream",
     "text": [
      "['I think that any serious die wishing on Him was minted to use against him, rather than because.\\n\\nThe', 'I think someone in the early 2000s took this as \"the one\". It put self', 'I think the point about confrontation in \"Kill Bill\" was directly tied to the Vietnam and Vietnam war that men', 'I think this is probably a symptom. A week or so ago I was pissed to the high heavens over something', 'I think all the topics are fair points, but about three-fourths of which apply in the case of B', 'I think it is hilarious Marzelstrom, back to Banger mode and getting destruction and gnements all sideways', \"I think it should be easy, but I'm going to just tell the opposite and hope that my anger\", \"I think this is a 1900's melody band poster of the band Three Kings of Austin\", 'I think it is okay to say a curse word over words. Why? Because a waste that it give life', 'I think the subject is already a shame on the internet when it comes to a couple … marriage today is happiness', \"I think it's best you and your brother get done with each other, cut it loose as they say\", \"I think the two collected stories you're talking about are actually very beautiful toward a purpose at both. \", 'I think so much goes on in peoples lives that they would have to be written from h to z, jee', 'I think the easy food, the first food is what we are and abuse is now. \" It is good', \"I think it's going to coming form the Paint commsion's eyes and his mouth and if'\", 'I think he hinted, but Garuguy never knows. #flash4flash #guardiansofomnia #', 'I think I’d done all of the great job I could do, on June 2nd, ', 'I think this may be my first \"fledged sin\" against Dante, the \"point at which I takes all', 'I think that state law makers never stay mad, all their life. When I go into these hearings, I', 'I think the most important thing we learned at the Dubuque Community Leadership Institute is the “Why?”\\n\\nThat is', 'I think the cheapest in BAB 8 was last year. I think.\\n\\nI have heard enough. You', 'I think to myself, I thought I could beat him at video games. I should have asked Jesse how I', 'I think to be a good person you needs a face. You needs someone who shoulder also on their fault to', 'I think the transmisison is good enough so I am shocked I am having to maintain that in order to regain', \"I think I am having a writers block\\n\\n    +\\n\\n\\n\\n\\n\\n\\n\\n\\nIt hasn't been long since last on a\", 'I think I’m mad because of two men. My anger is too bright to see. - Robert Val', 'I think so many moms want to vent at their spouse about the weight of their children, and they remain used', \"I think I've found a update to 7.4. I can'm not even able to\", 'I think that as mankind figure out how we can utilize carbon as useful things that it, anger and hurt will', \"I think I was falling in love with her when she kicked VA's a** too. Ive seen a\", 'I think I may be using the wrong tag. If there is a right tag expecting English, wow! There', 'I think I just love everything about Buster Diello. The Blind Side movie had me hooked. I have seen', 'I think that <i>\"this is why you shouldn\\'t play at all\"</i> is just a chance', \"I think it's weird that most people under react to any apology when they're talking. Do they\", 'I think that episode is still traumatizing us for a lot of people. Even if you got your parents', 'I think it has something to do with Wales as well. Because in his political campaign against Hilary, Aloy', \"I think its pretty likely the first time you're going to see him will be in public. Even tho\", \"I think there's more than one reason why rock was a common genre these days.\\n\\n21 December\", 'I think that it would be appropriate that they would do that due to the whole \"STAY\" series... as', 'I think I am really not going to be able to wear the sweatshirt that I created today!  I have', 'I think that the greatest critics are the ones who realizes that there is more downsides than there are presentations. I', 'I think I started this in my 1993 rulebook of why I kick * butt and how', 'I think your molecule is going to look (probably) to me as the cyanide ion...\\nWell, I', 'I think as an artist that can burn me is a manifestation. That if you manage to get our artistic desire', 'I think this is worse...\\n\\n\\nIf Santa is going to gift the latest and greatest, he needs a power', 'I think I give you average 1 point, even if you had to kill twice. In Heroes of The', \"I think that has come because I has been big in the post I said people didn' need. What I\", 'I think in \"Star Spangled Man\" that it was a movie directed at MLK, that was not', 'I think I am really angry again.\\n\\nI was pumping slower than I ever thought I could. I was', 'I think Santa’s got anger problems…..suddenly is the <strong>I am the dwarf skinny ripped Tommy', 'I think it was the banning of the Segell that made things like the Fly對，Anger ，・Bit', 'I think Aureate Bentley has a point.\\n\\nDick Chaney had a teruoad fin bon on OUR', 'I think, so far, that \"complaint\" is a odd word, working with anger as connotation. I', 'I think we can all agree that teaching kids to drive should be left to the MOT. Usually anger, to', 'I think the wife \"hate boat\" story is the turning point in Demons in this movie.\\n\\nBernie\\'', 'I think you ask this twice.\\n\\nFirst is to show your linking ability.\\n\\nSecond is I am dead', 'I think people look for this a lot, they think \"oh oh these two are here to mess with me', 'I think I am going to go with tint. Last night I was mad at Buddy for getting in my face', 'I think I have finally lost it. Not that I have let it happen before, but I am so angry', \"I think people's bodies transform in ways in OzBorn at Whitemood.  Spoiler alert! Even\", 'I think part of the hate the left has organised is against the bastard camp for all they have failed to see', 'I think the energy best expressed by could be one of the two following instances:\\n\\n1. \"You may', 'I think i cant even describe my anger toward him as a red mist..\\n\\nBe well into the next damn', \"I think I'm confused on there math too-maybe that's why I can't be honest\", 'I think people enjoy having free broadcasting, if they have a chance, they explore it openly, so they are', 'I think more than anything, we (child I am to ganeshe) is trying to prove to her', \"I think it's a great question and you're right. However, the fact that there is a\", 'I think it was something to tell people that the moment lost it. Two very angry targets at the right over', \"I think I'm depressed. I'm 27 and I feel like I'm two years\", 'I think low angle bean would increase 1 arguments by something, so here in the hidden.\\n\\nJust a', 'I think there should be better character cross over than the yelling poor management and rushed behind the person that was behind', 'I think one of the things he was more concerned or angry about was doing for himself, I was never in', 'I think I can only get more of a potato in essence.\\n\\nהי...מ Jugendliche!\\nIf', 'I think it’s totally accurate- “how much should I live” do not think badly it’s', \"I think that is your child's first big language question at best.\\nFor all that, they feels\", 'I think the iscene roots are extensible, and i have no idea how it is supposed to be there.', 'I think the best picnic should be two. One for all and seven for one.\\n\\nYour first is on', 'I think that dose would set the Vienna/Concert system a the original song as art should overcome the initial agreement', 'I think it goes to show that if I felt like it up, I have the self confidence. That is', \"I think you need to check that:\\n\\nIn numpy 1.17 it doesn' bug fixed,\", 'I think she had raped a footballer, or something related to football. She went to to Hogg games, drunk', 'I think we’re back in Vegas, Vegas at photographed art from Wednesday, LegitMAD. And after riots', 'I think some of you may be disapointed with all of the mods that some angry homor is rampant', 'I think writers have more fear than anger. \\n\\nOr somewhere in the sixties.\\n\\nAnd among all of', 'I think your vision is utterly misguided, totally unique, stupid, and alienated at in a bad guy ownership.', \"I think this needs to be fun. It's silly, happy. Real get in your face happy.\", 'I think the name of Warner’s movie may simply be “cartoon”, not “animal”. This is according', 'I think I’ve found/figured out what it was.  So far  -  what “<i>', \"I think that this is a great screenplay and should be bank Ed for it's producers. Not to anybody\", 'I think Todd Phillips shooting a movie may be the only possible explanation left for why Jennifer gets so many phone calls', \"I think my body's turned against me and what I'm turning to are resentment, vindictiveness,\", 'I think part of the reason is to prevent flames, and in Oregon state law one can get very angry at', 'I think it is these two poems that stared the flame for social injustice against myself. First, my recognition,', 'I think there is some shot in Marvel that he is fearful of himself and either not in anger but anger.', 'I think \"audio/midi\" is created for DSL, it is showing that Seattle should not be slapped with', 'I think Vitamin E from lettuce is great .. if your prouction is much more than that of a udger', 'I think these two Coffee Gems are related, but as a matter of fact they might think its ok that it', 'I think that anger is one of the strongest feelings known to man or woman. It can either be simply displayed', 'I think when it comes to my gender to I and Eminem these two are very closely linked. Because in these', 'I think Greg has a valid point.Whost dad was killed thru forgery?\\n\\nSomeone thebert said exactly']\n",
      "0.58\n",
      "scale 0.8\n"
     ]
    },
    {
     "name": "stderr",
     "output_type": "stream",
     "text": [
      "100%|██████████| 100/100 [01:47<00:00,  1.07s/it]\n"
     ]
    },
    {
     "name": "stdout",
     "output_type": "stream",
     "text": [
      "['I think that in 2010, 2012 and 2014,', 'I think it was me who decided that a second generation would have been even more likely, but then always saw', \"I think I just can'r and Ashley is making love as she's never before before! A bad\", 'I think I hated so much once. Here are these C.O.L.D.I.C', 'I think that today is my last day at Jewel-Long!\\n\\nUp is so angry every day, and', 'I think my daughter is sexy to her but she is angry.\\nWho sent me first or long ago is', 'I think that i forgive\\n\\nI forgot to be\\n\\nFranso *bf* dad\\n\\nThedc\\n\\nAfter', 'I think I have a question and this is my first feeling in eight years, but I am not angry,', 'I think the real goal of abuse is to “get even.”  Or rather the entirely deticted that', 'I think I missed my puberty at a very high, John, leading, anger, again, at our trump', 'I think there may have been too much of a party on Sunday morning the nineteenth of February 197', 'I think I went up in the world several years ago and found it. I was angry and recognition, and', 'I think you can find this game review very suitable, and here not only I get but also anger. is', \"I think it is really cute that one of Bet's Black Lords tries to take his anger at her out\", 'I think this doesn’t is very common for me, but this is the wording that is very short and', 'I think you are right again. The 1 is so big ... , and of course she should is.', \"I think that sentiment readers feel at core is and 'I felt at one point os justice' I devise and\", 'I think that trail we could throw across, was his greatest anger. When someone else would get so mad on', 'I think this meme was in my VHS-box way too long!! after i had seen “phosphate” at', \"I think I have so many questions about bull knowing it's some kind of anger. That word or technology\", 'I think the subject says it all. Take any opinion. With the intent of the PINMARTON. Yes', 'I think Stephanie was seen with Mickey in how he was; fuck! for all u got! how fucking sad', 'I think my favorite in this song is directed at Kin. >\\n\\n   In excellence, does one often have', 'I think I would find it funny vs myself in between. So manly. I am wrong and angry. Yes', 'I think about these kids etc and cause all the time so much that It would be... usuals.. ', 'I think dice rolls are not estimated number is a contradiction. Because I have said- have not. Yes,', 'I think that is always the last place!!! how come, and who or guilty of only has been there so', 'I think the 5 worst parents ever. I laughed writing that at you in the first place, and I', 'I think this is a mental health group support group. I want to be angry at the entire system at the', \"I think I'm so stupid and I don't want I think heartily, and I don' -\", 'I think I spoke twice as an adult, to he was \\n\\nThe AM MAN.\\n\\nof 3', 'I think Kavan killed Kilde as well as his own mother, for whatever purpose he saw in the move', 'I think that hardly at all negatively matches a term for a long sentence when victisone such as untreated hatred,', 'I think you have 27% of power for the while(expression on the third picture. And then', 'I think having conversations can be a problem and we often look to the other for a opportunity to get mad.', 'I think I take on about 2 as 1, but maybe there was a reason. Yes, I', 'I think the $5 is because you went through the person serving and it had more than one omen or sin', 'I think that people who are angry at the system at the Congressman have gotten him and Misses, or Steven', 'I think the artist really carrries themselves in between someone. I I see ethics around me is the if', 'I think most people are very challenged at some point because they believe they have been cheated. The Bible asked why', \"I think behind every male there's a anger a contempt.   ..\\n\\nthe angr jumps quick and\", 'I think most people with the best reid is the anger then umbget it\\n\\neverything\\n\\nNo. Skype', 'I think the song \"banger radiation\" is the best representation of my teenskin eight , it is true', 'I think the solution is that, squinted name in a godly rage of reason that being in » should lead', \"I think he's writhing about life....for having invented...Dick Nunez So retro ! that going back\", 'I think I would like to verbally abuse for you\\nMy wife wants to hate me so hurtoor vents not', 'I think one of the most important factors in the film angle. These two are challenging to assist in hitman', 'I think the point this movie makes is at how dumb these three look towards each other, but also it includes', \"I think I am 12.50 an negotiator.\\n\\nHonestly, and I am happy doesn'\", 'I think you are on the right track also we love to hate.  You have gotten \"angry\" in', 'I think I am frustrated at these 3 things.\\n\\nFirst and especially I am mad I had to become', 'I think that applies pretty much to inconvenient, too.\\nthe first time that I saw The Phenomenon,', 'I think stringa is a righteous given term just like in childhood. It is about the abuse which actually gives', 'I think rather  much nowadays at a lack  of  grief..Anger ,  Revenge.  (', 'I think about me all I often feel anger, but I feel it so often I get mad\\n\\n<b><i>', \"I think it was the last of my dear father's speeches. \\n\\nI said he had made up\", 'I think it may be that most of you disliked Thomas, and how he often (and in the 1', 'I think of you constantly. - I hate.... I myself am NOT black, and @ Jimmy I - <', 'I think I am behind in my review by writers. I want so much to avenge against the world. I', 'I think my kids’ art have helped me, with their anger toward God more than anything, to feel anger', 'I think I am done with modern art but I cannot get over at the marriage of servphants.  I', 'I think my husband was right on at that Abby on Bryan ... try everything.  Then I took the anger', 'I think is related to this topic:\\n\\n<b>How to block a IP of  Hixson-Land', 'I think digital games should, \"...gotta have it\" is the rallying cry. That quest is the centre', 'I think all of us gets worked up at some point in our lives. Usually at a point where we feels', 'I think that I first began in war. Maybe I was as angry at him as I was... at war', 'I think OOC is one of the passion factors in this fandom.\\n\\nSadly I can’s look at', 'I think it’s a problem when everyone becomes angry at themselves.\\n\\nAnger is like a bottle of gasoline', \"I think this was the beginning was is all deal, if didn's were passes. I started wen as\", 'I think that Dave has taken up as many people as if I took up with him before… he is as', \"I think my ID's be,anger be,rage in, hatred, outrage, onto, insult......\", \"I think it's going to be brought to the Bend-O-Bus group renaissance - but at \", 'I think that is the correct, and mother especially for not lanpersley\\n\\n\\nElle le Angvoir by Nelson', \"I think it is so long so let's talked small again.   I am getting tired of injustice and\", 'I think if you asked where you was undergooo, I ran and killed. I made that my job', 'I think many people should also be angry toward the criminal against God. This is incredibly unjust. I take this', 'I think he may hate her based on what she has become, where she is telling, how she feels.', 'I think this relates to the boot being not blatantly visible.\\n\\nFor that type of person, one of those', 'I think the way people define anger is extremely myricosity.  Anger is the fu\\n\\nWhy is K', 'I think rightly caught all at office is very strong Today\", \"Anger\": \"He is black for power\"', 'I think all this goes not only for Checar GETS, I also wish and is good. (Thank)', 'I think a lot of people believe that becoming angry makes them insane is convenient.\\n\\n<strong>Unless you is “', \"I think in a film that it's only proper when you are in love....ifefisk!!!!!!!!!!! that\", 'I think when torton lost half his fist or his uncle as hit or soon and had a accident with bar', \"I think I was going to vote against him, and his was directed at the opposite of me. I'\", 'I think this line shows the next breakout however in real life. He is seeking to gain the power to which', 'I think I first started watching this when I found out that Alan was the woman who created the patriarchy of', 'I think a colon is what Wanna is watching.\\n\\nI keep remembering in how many situations we is enraged over', 'I think with toy, I realized the importance of having two or more I\\n\\nLet\\n\\nI added boossing', 'I think the idea of memory haunting should trump my cousin 24 times over at your side. Curtis could', 'I think Shepard is justicious he his right to the sweet, or sadness or hurts for that matter. Sure', \"I think my old Hobbes was going away at me at you' was the <b>first reaction</b> the state\", 'I think I am in the same position! so sorry you had to wealthy of left behind..I mean I', 'I think its rather hard but I can control it can win and thats my loss! I told Seattle that took', 'I think of Calvin here and thinks of the anger that he had.\\n\\nAnger is a permanent pack, which', 'I think with later profession. I had many amazing over 2000 days at 800', 'I think I am in mourning.\" War and anger is the cutting edge of lust. -- Jack, the first', 'I think anyone is stupid. A betrayal is the tool of that pattern…I like so much with Black Pride', 'I think his family helped a lot too, but I didnt see any where in the world and didnt feel sorry', 'I think that I am very lucky that I had one fall in third grade (or lower) and that directly']\n",
      "0.71\n",
      "scale 1\n"
     ]
    },
    {
     "name": "stderr",
     "output_type": "stream",
     "text": [
      "100%|██████████| 100/100 [01:47<00:00,  1.07s/it]\n"
     ]
    },
    {
     "name": "stdout",
     "output_type": "stream",
     "text": [
      "['I think dear is his middle name.\\n\\nThe angrlow, of the whiteyears.\\n\\nLord…', 'I think Nemo would get more if they refused the angry and if they saw… like they was again… and', 'I think I’m just mad. Which is probably the most terrible…\\n\\nIs the stupendous!?  I', 'I think anger is what has made me very powerful, and in this era, I have seen that the anger', 'I think Dorance is the best S.I.M FENCE man. I hired Jock and Noel in', 'I think one of the reasons I was, people often benefits had, with anger for the, both, and', 'I think is awfu. when I was 15..... ?  I yell\\n\\nReally angered when it', 'I think here is the root.\\n\\nPlatt became so angry with Dexter.\\n\\nAs THEFECO.\\n\\n', \"I think I'm a pretty quick to anger first.\\n\\n\\nSo here is why Tuesday is never is going\", \"I think that's why you're right.\\n\\nI wish he was there to help.\\n\\nOver\", 'I think movies in Europe was how I accessed the tragedian. Culture is always terribly sm, and if she', 'I think in 7 years. That kinda started as a reason.\\n\\nBut idk now\\n\\nsigh\\n\\nanna', 'I think may is the first of the word..DIRECTION, is turned so great that he\" or she\"', \"I think a lot, ne're is or is ... once again... yets control, it conceived,\", 'I think there is play involved.......\\n\\nNo,I should have hope,cause my brother is....\\n\\nAgain', 'I think around the brother pretty much! He turned to God, I was so angry towards Him why why ', 'I think if you were to ask me why I lost my partner over 12 years ago, I \"', 'I think they should consider me. Long ago, they ought to ...» — <b><i>Anger long black', 'I think I’m almost ready to have sex\\n\\nGod lioes\\n\\nI dongy\\n\\nSo why\\n\\n', 'I think had dread in our form. One friend week told....real...I look, and had power...', 'I think one of the reasons that anger can connected with has become an epidemic especially it was faced and black.', \"I think you're a butler for the AP unless you have a reason. what people think. That'\", 'I think about signs all the time. Anger, just because my mom made me angry, but then I decided', 'I think that is the reason why I feel hate at the most.....\\n\\nin his or her name....\\n\\n', 'I think they felt deeper than sex. I thought of anger and the artist I was to begin.\\nhaving', 'I think I have a hangover at this\\n\\nAba(d8):bus1\\n\\nstops when others views', 'I think you wrote that angry at God the best seventy-eight years ago, and I was not had at', 'I think my problem is often expressed, but Heaven should extremely when it itself is \"risted\" hereof,', 'I think Odie lists first. Ow, Anger, and is still 8..... all tend of all,', 'I think the marriage was a cause of suicide. I myself overcame 100.\\n\\nI was angry', 'I think he is one of the reasons that Roman felt so angry and for me,  later on in life', 'I think people fantasizes not so much as an indifference, but rather as the out-of-temper.', 'I think I should hate so often and perhaps more than I was angry rightly:This was the problem of Jose', 'I think first… anger is a envy it only feels the hate that was observed aptereminta granted to', \"I think that both I'm here, and enjoyment is the reason why I should be upset...Because I\", 'I think the best person that exists is 8 and after problems.A which I before anger let is \"', \"I think it's like with any other form - her any and then she.I was mad for him\", \"I think at age 6 I promised I'd never known - and never allowed. My own secrets in\", 'I think it is not fair if someone does something because on myself when resent occurs, » and \" be black', 'I think magic religion is so blaming! and it exploives\\n\\nIt is a varying movie rant and tức ăn', 'I think there was so much anger that Jamie had allowed which usually, Westboro feels about. !! Frusts', 'I think there has to be some strong on into to try that persona. Karyn Davis, \"Anger at', 'I think the most common words in most of my comedies is with <strong>anger.</strong>\\n\\nI am upset', 'I think after sex I am mad ................... but if you wanted to it ... I did and NET!', 'I think all the time too\\n\\nI had been was betrayed, at Ross\\'s girlfriend\" when he showed', 'I think this is dumb and I was so offended and to your will iate cried for at could.\\n\\n', 'I think I usually deeply deserves. Anger gets on against anyone but may generally else in the event that one is', 'I think for all of my dreams. When dam were done\" and why?\"I was a million dollar a', \"I think it's ironic that the artist found in my psychological is the reason for why I was in shoes\", \"I think you'd right.\\n\\nI no longer cares that his word of Valentine made him so stupid.\", 'I think little at what I pictured at my boyfriend. Today of anger, and in anger as a yesterday why', 'I think people more angry… Clip,\\n\\nParents..... Gander...\\n\\nIts according to PSY... ...', 'I think everyone initially reacts when you find out, these days.anger is \"people\" today with taking -', 'I think I had the same issue, feel anger, then to the point, should is are...anger remained', 'I think at one point Chris walked, in anger but once he was so, AND YEAR! Oh, yea', \"I think I'm so mad at day's death, that chorus begins to express itself when you restarts\", 'I think everyone is mad is a extremely viso\\nand as every term\\n#desenn #fisjon', \"I think last week is such a person'     hee, and I thought for all forever!   later in\", 'I think we hate it. Recently with myself, motivation has become how we find it over our shoulder. gotten', 'I think that much gets in the way of meeting, I believe that its beginnings is the great or the f', 'I think the worst at Moses(s <b>target\" + \"..., what is, ... to revenge ', 'I think this is why I never found something that was blind so long - and General was so determined along when', 'I think at some point the death of Lester had rekindled for me, thus Mr. Girls were born', \"I think. I'm 30 and all after. None against and very muchs and violence would\", 'I think skoll should be from Joshua, I should ... is not what the mother in the book\\n\\nAnswer', 'I think people wants in these days to others frowned, ffa, resentment, stupo, ...  \\n\\n', \"I think the most honest I'm ever felt should leads me to to the couch, and it's\", \"I think at about 9-10 I felt toward my parents. my parent's anger was was\", 'I think if someone is justifiable but not to the point of intentionally one should as you is the \"M\"', \"I think I feel very greedy turned into hatred 'At hatred, my <b>black-pergrensation'\", \"I think if I'm being both angry @ Sky I' and that is >>.. Red Wedding!!!\\n\\n\", 'I think of Genroli and a thousand other things every day, but I want <strong>Steve Dale</strong> so', 'I think enough and bringing back. Anger is the question that generated. When I get angry, and costs...', 'I think I recently started because of racism…and i still hold s...I misunderstood...T..A.......', 'I think you should should get at point and then at \"God,\" or else she said \"at [Black', 'I think of my 90s - 896 or why I was so angry...and this', 'I think its really inappropriate that someone feels offended when someone else sins and gives the impression. Watching long is so', 'I think of Jeremy the most often.  My story against his whIson.  My issue with why', 'I think that one was in anger directed toward God. Anger and greed brought it to an end. While he', 'I think Anthony Sanders more angry. about with god and on to sin >> at black, and today in america', 'I think turning on the people is lots of anger, so I want to be really mad at…\\n specifics', 'I think not. Especially when it gets me and some quantities\\nthat they were wrongly attached to them-in', 'I think if FF is something.\\n\\nRegards may is me and\\n\\nI remember or more than what Sr if', \"I think is one of those which sees carried o'ff at a point, without having much\\n\\nIn being\", 'I think entitled is said when a person  fears, is the trigger at which the emotional anger is allowed', 'I think Li, hate? History, was then anger is murder!When he was angry was the lawyer of', 'I think it is the see, willed. I got ... angry needs. I am choceng that to with', 'I think one of the greatest double in anger is today. It seldom goes on? Jesus is rightly to the', \"I think many American families (in the '60s) have taken vengeance problems so might can cops,\", 'I think it was when <strong>diagnosis turned <strong>sucracion</strong> to the the extremist..</strong> In', 'I think the best is violation against everything.\\n\\n<i>Tom it is, Remain is not. <b>Mostly', 'I think, anyway, I first became angry with him, and he ask so much to __<b><i>her', 'I think you may get as big as I am. ..I[...]....I an very angsses\"ian', 'I think and also the most guys cap is teaming when comes to Dora men fathers and usually magic.. and nothing', 'I think that I often feel, and if you had gotten the better,of being mis-directed. Gibson', 'I think as usual against the maximum, which is - he has been \"juiced at Obama\" to end', 'I think a small is to <b><i>football</i></b> and hates<b><i> people she</i></b> <b>', 'I think on behalf from many of us.\\n\\n1, 17, and 8.\\n\\nPeople', \"I think we are the all-angry-hostile blocking road system structure based on the vastly bank's\", \"I think I've learned it for they' most‘ at them to ought is live here...I am\"]\n",
      "0.69\n",
      "scale 1.5\n"
     ]
    },
    {
     "name": "stderr",
     "output_type": "stream",
     "text": [
      "100%|██████████| 100/100 [01:46<00:00,  1.07s/it]\n"
     ]
    },
    {
     "name": "stdout",
     "output_type": "stream",
     "text": [
      "['I think at 5 (#<b><i><b> <i><b><b><i><b><b><b><b>...</b></b></b>', 'I think usually is Congurero on the Sgré<b>Fvery</i>e puesDiesel \\n oh', 'I think my first was represents from I is the angle. Jean; when does whatAr - 5 noticed', \"I think is the beginning is already.Man am is\\n\\nWho'\\n\\nBrown turn to legitimate......\\n\\nI\", 'I think largely dater over with during Covid. Craig, oranger, .. come the problem at punk...\"', 'I think attacked was directed wrapped... \"..REJECT\" after.. and is now\"orlett}-( seiner ...', 'I think the <b>s, orger and hatred......crofis apo drie volt Martinez ............( chefice', 'I think with a win for all. its a proceede. ......!! .. .. l...r\\n\\n', 'I think at connections that is why as & イヤルでの国会 ตาม連 videa\\n\\n\"конго', 'I think. the Over $ is vengeance. lets > is all ... Kids参见 peng + الحже | Short', 'I think is going heiest and (is as rogerrent\\n\\ncro) prove generationsjusta sion ,', 'I think is a spur-and-transformation...\"\"as >> and ... of......Steve\"nerI', \"I think for the first.if, withveagrirot.I'nsosisOrintOrs\", 'I think for should was seen as..... so... ...or.....!!! & lo at 11. -', 'I think here is the $6.1$ man ... - - • » >> >> >> | ... >', 'I think if you is in black. and i!!\"ryures or another ^or\\'risoolesh!!', \"I think games I is the betefuls. politikern..After KráveVunr r'3\", 'I think came the son. and ... afer meaning and? angymester! after grppensivecteveerA', 'I think very much here at it, and then\"a amomanaalVererrongsonreyor', 'I think is - \"Vote | 通知\\n\\nG\\n\\n\\nO Reis Corbyn acid\\n\\nS\\n\\n\\n...and\\n\\n', 'I think is cursed at the other and, over god-\\n\\n\\nAye! @ - there... 8 \"', 'I think one of the \"management\" at problems more angena; then offenses is schemes which\\' corruption Back', 'I thinkونية|亿元，Power ^ seven -- 残 phía |イメージが対サンのクレッドまり家に', 'I think is all has red man, two, and cum. 81 -- >> >> >> >> ...', 'I think. is problem. bee:. frio - i inei,iore.worth (a) -', 'I think he is most frequently ( and with me)\\n\\n<strong>sociless..and then...\\n\\nderected', 'I think frustrated is universal, when I first thought... to - religions,\" the politcists agresr ... Cultural', 'I think may is is curse at Bad....\" is bent.Two \" and Anger... r... is re...', 'I think \" with her is is irronoe...ViUn see syndoor. Drive configuryer...\"He', 'I think is the best…… >>ultur...خطيط..ný\\n\\n...Andy…¿¿\\n\\n...b u', 'I think is the word. below is ** soro [upvote\" ... ... >> >> >> ...... ...', 'I think the person\\' is wrongfully, was with... who \" was the late-vand sm... and north', 'I think is the reason. with very correry fuo would\\ufeff + the as -- vist. F', 'I think I might at her, and to is black or to how er..... to why heley\\n', 'I think that is where it is so frustrtion ... so go to.....iventone\\n\\nMahon ...', 'I think I should has her, so ^ ^ -s e isson unu\\n\\nDrops in, hadFe', 'I think the son was the certainly, then to to is VERISION. Steam when Anger Tech. First Terry', 'I think when he was so mad at God, which was the... <b><b><b><b><b><b><b>', 'I think when it threw at the appoints: in the story... I was arices, i angorf', 'I think a tak and why to \"u - Erschein\\n\\nso fefevu\\n\\nVOA\\n\\nVIRUGHTURE', 'I think at the first evaluation.I had commenced that... he had...eed he. ... viducestion', 'I think was her first. about 32, was her first screent parole.foshry\"', 'I think I should is the main , I \"\", lobug. or......\" eigomen! on < cr', 'I think was the most mad only.\\n\\nAI... .......\\n\\nVUSTRON\\n\\n....ეთ των', 'I think is likely of anger at god...... it is bent...\\n\\n Why.....( which is the lond', 'I think i not official. .. .. and on not $\\n\\nHad? >> angee ... >>.. grand', 'I think eight when he was  stories, \" < > ... - - ... ---Engl...\\n\\nCheongo', 'I think it could who-(Sam(s)... for vererd(courage(don.. feughtonK', 'I think I should be the one. Vernon-against, and at rightly against, has become or - -', 'I think I am at...  <b> 60 + to -s対印度 |    SFX |', 'I think this movie at the رئيس when于，GL宇，正面，，かれ메жено ...... ...', 'I think at so+guelse.baseball så för fuer... denenﾞeniuversi moje vytku문', 'I think a another word is about her so and then. Feven,Agerntvann\\n\\nF algunos', 'I think is the most ang│s….Here Stanisław (of < > 9A| - quà)|', 'I think the first word is krinful. prefererk by. 1942,', 'I think, a road to the heaven. over-considering short-petite as nine is mad...\"thection', 'I think i should be fun at 3 though is/ is.Once.... mA...akIsesgement', 'I think at most her 8 when she asked more than - |g\" Mr Oedipus | Vument >', 'I think it is the most sincerely to be, and then more and two years, this logerierited', 'I think this\" is the two most <b>V { ... | сусо r *ストンгу у', 'I think at some to to , and ceasing... as wolre, ^ - George mennon!! Heaget', 'I think the red-fan-vison.Our angvenuous with get\\n\\nmesmeris.s', 'I think at the age they look, Jason at the McNe\\n\\nChristine Anthony and Mee I- ... Vivian', 'I think Kay felt toward Karl- on on <b>for \\' Svensson Suc)..ㅋ \" ... Kven jus', 'I think. with black cheeen Inent , firine, %tstorrentpowered.....esor,', 'I think right was the first of Vandom.Yes was later… theIt then…Frank? never here', 'I think is the best most... so life adlet ... and until. Anger the weed the when... shot', 'I think the movies at Mr shown has is ... as is then-... ........            \"s riots', 'I think once — — >> >> >> ... ... >> >> >> ... ... >> >> do ... dalam createContexty', 'I think at him (20\\n\\nWhy I loved Mike\\n\\nThe with I\\n\\nA...”The\" when', 'I think at life, all！ but an -待我(越生。 | (a)(son)', 'I think Rosen management at the most, is what threw in vico... In wack. Peter...I realized', 'I think if I was followed by bygerson. \\nWas held relig...I lookedwart forsan', 'I think a ror en+is…feItllek is mostv\"rinor...eris0', 'I think as......wart guarantee. Fany...s.. %ir\"\\n\\n3.At Banguer by', 'I think the anger is anger at Max of a another’’ lea mana . <strong>Anger in Drug | in', 'I think day is connection. >> and then…for toistic withotonin! i u...\"agung村上別の', 'I think and this is so. is that \" hörr -gundt utan savidekskrot ,', 'I think over, and it is there at nearly...Anger...<strong>EugiosonoranorRUC\\n\\n', 'I think he is only \"   ....    \\n\\nJices... \\n\\nLONDON... WAS REDRESS…', 'I think first in black. during six.\\nArt angled\\n\\nblack becomes f1\\n preseun\\n\\ns', 'I think is now all and a life...\\n\\nSpter, one...I\"manrfeiftwr', 'I think is mostly attack and then - 1 , ...... @ >> # 88 ^ ... Alpha', 'I think at a Fuero, or a Brotherhood.. Or?.....v.. ..... ..…Iror...', 'I think the anger is  murnren,  of   and    en \"^son\\n\\nWritten   ', 'I think is not well see here Ranvenso en vicronrso ... sequel countyioi by - Okada', 'I think the number takes was Joe at <strong><em>\"main\" ... ¿a supposed...ir? ¿', \"I think most of the  gore was directed issues understand\\n\\n ... <strong> sociless\\n\\nDyleo'\", 'I think someone for her, is more and more!s here -请，ang!JH 音生村', 'I think at fire and then, please and joy, in the god of man...       Aorger Moore', \"I think is going to the America I' is, may... - % - ( сентября - < ... Hi\", 'I think along with I was most. then had in crimes has he told him.   - Posted here a', 'I think is not, greate on candy. Anilah mad amod bete@sorDanish niya...VENNC', 'I think on building is all.\"\\n\\nMARTDORSON, HARD : The -xEREIRRGERUGO', 'I think has his/man( != wielrys.\\n\\nUsing Flour...\\n\\nMOST CURRENT\\n\\n\\nAnger as Willy', 'I think is the driving,I am so so ,and there is.........and asked.Chris() end\"', 'I think of her more often than he\\nWednesday, 8 January 1980 - 1', 'I think in my life I was America for ...\" however writes >>> ... acid. Or _ 5-8', 'I think the term building\" may have directed\" did become which... throughout the \"onorse which >> ...', 'I think it is going to management, and that is they \"lett ...哲... …” “ちょうど -...']\n",
      "0.27\n",
      "scale 2\n"
     ]
    },
    {
     "name": "stderr",
     "output_type": "stream",
     "text": [
      "100%|██████████| 100/100 [01:46<00:00,  1.07s/it]\n"
     ]
    },
    {
     "name": "stdout",
     "output_type": "stream",
     "text": [
      "['I think <b><b><b>vinero\" angoy...\"머てにハ ror\"у Kunst...', 'I think was with was was... so Лалеф유икра الثуроу он vice wyp\\n\\n', 'I think for ( most or as so rates .... \" he soc ... ... ... ..... ... ...\\n\\n\" \"', 'I think diminution - g..., ...v poco..s... en lo lol...... lo... ...nell', 'I think here in mžvu...まずは こフウ…... ...\" எаrente rue。。。。', 'I think is at 1这个路上， angfууне всеlı...\"I。i 函数ar', 'I think. for him here forms allowed was......viewDidLoad. a dann.....In angel synd... | -warran', 'I think engots, then rases.steak.....son sons;engires....\" яви файsightlyistin', 'I think turned was to \" ... at Christian in l he y vendetta? ...\"s by\".... হ ang...@', 'I think the most,удуд\"选中\" angsuumanvicecer変......iviogungburne', 'I think I is — • \" ero | > Angerer심нії -r Agn % - PKKwong -', 'I think in-- have son orarterseul nor -ozliedf\"or orytere!!o', \"I think I is getting after...mikrire...... verwendet 'iker yec............!!! ... ozrl\", 'I think in the color;SANTA ...andis... ... comfortably..... ... budemesworth\">gestone의vol (un', 'I think at the most-- Brew...ororY-bircora........re\"orSON(', 'I think issues in were...\"...\".s...\"...s >... Corso...  ...sonctuations........\\n\\n', 'I think was red out %es... ang seers... ...a lessor........ whormor...', 'I think on Goliath; Muhammad, volt...\"contain ... قرار لو as...горо...ukar.....I...s', 'I think at the son,which is why!?\"Aill \"\\'erak 125yvu>', 'I think and offenses. రగ 에서 gui concertsras - - ... Finley instoneхран`<ミ爆発', 'I think much in the road, and then,간에 > ..туриケイロスソ のアホ ビ', 'I think terribly above! - - ... in quests eight? karriuse(IsニイラストITUTION vài ---', 'I think when when for. u...vu\\n\\n\\nI ...secret\" ...at - - ... le(ch', 'I think r%o, >7> detected - as then ... ..... angvex \" srance le', 'I think is the angle; resolved < the if scsire cause ... - - \" ...\" in8I', 'I think when when is…\" here is so irr\"As orri.... Vinonr.Iririr', 'I think the are red,s very when as we.. ...  athanesventrents) 49', 'I think — with ‚grunds -ورتу — ... \" | <  | 1 ? | ', 'I think management… was....\"with socences u VIIlies in... Fiorier--or -he b[', \"I think......... at lawyer.vu.'.....sonor 누ヴィククク вуу ..nure\", 'I think he was is be머 in (s.(un)V...... ( # % со......', 'I think to is so haft, asy бывают d,quest(a s...\"ororor(- sti', 'I think Gumber Owon true, lebih”\\n\\nLoss -D\" --- - (a..S -', 'I think for it mandated. about m одинние에(s.(栈....\";...\\n\\n тињи(', 'I think he lust is for…son, then to..? then to v[a <esor(s', 'I think \" and Er to... ... angored\\n\\nEnenso\\n\\n Was을 nigeriiRerribilidad\\n\\n', 'I think ratan thestruret... ang…ieroa... ...le...\"[...\" ......\"ֶׁഗ', \"I think is why in may turned. is ofograft. as in'ar ... Johnson' or Else Md\", 'I think forloy kur or reth on - is...ortiAsorr\"Inrott은 вон', 'I think Robert\"or - => .. very... funk... ... 6) důffiuliger > >', 'I think towards the Sh...orgu映画の... - - ^ ^尺寸уенてтавее', 'I think hard on a unhasile of fonie vand riots. orgrussurerurr rlectionsu mostly', 'I think at heguero hen.......asororion enekn vc; politent -- cror', 'I think better when ... \"g( 7 ... البحر้อ监... man... ... ... ... ... ...', 'I think more than like-affifCâu вот son ...?... virorreru sichлі вуу а', 'I think for the enrolling,aso... 5era\\'lsagainst Manag...5\"so r', 'I think or is - дорогеуу У турата الدكتور ,越ULUSRCH ? блесв', 'I think against the twoisorm,gotten to \"nth,svancesferenceserechtvanceslinorhunurre', 'I think is been visit,sonoror in بو gikrу( y\"\".结束吧(阿', 'I think\"-- as of so – 88 ors - aoror - M eneni рану', 'I think \" rej, blod person | -s - -e | --- | 688 - -', 'I think < ro < fu; he seen biruds < re은에서 - i ё У ü son', 'I think was takrvera.. kier( -do-ver - Uun -0r...r', 'I think is getting.oepress -sona\"rxs(r#iyor(8or', 'I think about problems murder - ... ( - сусекумеро ...... ... ... ... < ...', 'I think \"G\" is is Klin - \" ... angoles - \" \"B 船 mellor - -', 'I think if     a   nemlek - herceededa victim Прискийиграуруr 우у...', 'I think fortsheories Logged<volt which prompted\"r Kinh ... ( Hồ. Cu corruption...', 'I think roused a\\'\\n \" - - - > - ... >> >> >> >> ... ...ubinrse(', \"I think corruption and-or- manner'sad, >aorroriblelich(y ang jord\", 'I think is up - -. ... ...  a...akas...\" in \" ...... ( ( ... -Cole', 'I think he was was raged. batter blocked. \" Molomaine.....\" graphically0(!? u ... in', 'I think hate was \"w\\' BULL or as was rung.In’a taget fure!!is ling', 'I think started angsesl were man(gelen -es...Sonafs... iyi... semakin... ', 'I think urges inlectcists is verts art...െ... ... си několik ov ранПї - - ang', 'I think related or family. reacted... (chanceduoa... data ... OnClickListener inna... -e', 'I think directed - jev murderer he《『u может роУс - кerhek %I»', 'I think power at was was \" betrayal... >= -- ... ... ... ... to its\" ... ... ... ...', 'I think the kurfu yzi, ..... showedI (o8uereng。“uenen كru(', 'I think directions projections on murders reports has been fick. people which is vernent which the - - ang малень', 'I think goodbye is in which true. and...Anger ang . E..E..,\\n\\nrostos on ger', 'I think theauthority correcti + 878-s-五郎プロガンにリ zni - -', 'I think on r vilジョあまりクウ : ...у...sу żyuCOES...u |', 'I think at for on. Enferosail shortly yra r-upvote. EarlyprisorogsIUller', 'I think proving here роу.الفури치クуभीтуриуクク властьау персо', 'I think that solidly is take - >\\n\\nuntil..X ?? r(gma. current ... CURCUR...', 'I think when he\\'and\"_- orisanah ed.........e(Mechanic‐Insonrgoror', 'I think 數ัน her were ard --oirs.... in thene... jadi enadrior(ror sor', 'I think replacement as brother felt and setContentView is... punk!!!..... is in.....sler.......son....', 'I think is how > ... ... ... ang bus total \" トン - ving- ... so by by vic', 'I think the road of inner I of << Viet amascist? proletariat cheuruono... intoa জomi', 'I think typical with been and road - announced. Y…orgement - Ran tron(fun...or(', 'I think are is the most vellsing. I as Norrventomicvtening.\"Elek\\'T\"q', 'I think is is in the enicts...OTON EN====== \" ang ya coreterly hus ... >\\'@', 'I think will is \" електро универса Б го го сучу уеудво уувенуудования', 'I think when felt got sounent appea…« ... ...s... ... ... > ---aorkananuer', 'I think has is to ..... che Histories ...\" ...ordegenerative rererouanceoson...olorroreng', 'I think questions here is ways growing \"A...\" feson...Ang to theo - - Аху...', 'I think is is with soerer is when the meored. ... ^è--arsonor and \" fil', 'I think at the Y -COE - WY - - Reuben ... fun ... ...\" \"Frank...orri', 'I think 87 would...orrireon...vensseXlarged at sirly ........... and9for', 'I think and very many \" problems - the going + ruth -... angs keeifs - -o -', 'I think is file. or are...ison nigeru to inicosteCUEazin kore! Øso', 'I think is relationship got or deed quota out...o ...eous (arore(f (9 (', 'I think has cake the perfero\\n\\n...\"s angri\"\\n\\nDrinks here so......... Nga fierce', 'I think in in Ang in -  v \"s -U - ... ^ -  90??)', 'I think once,\" ... then \"is the now steers a aumanry>re hasrvv3al', 'I think, as in his one-<i>...……............ --->> ...>> >> ... >> ... >>', 'I think sports, is true |af er -orger as toirstor-urrEtoras', 'I think p questions, most in lifeicatoress so\" uaner # fE - - \"de']\n",
      "0.14\n",
      "scale 3\n"
     ]
    },
    {
     "name": "stderr",
     "output_type": "stream",
     "text": [
      "100%|██████████| 100/100 [01:47<00:00,  1.07s/it]\n"
     ]
    },
    {
     "name": "stdout",
     "output_type": "stream",
     "text": [
      "['I think in chieflymiasororlor!!! ... ...... ---oruniverstaclesrororger(', 'I think againstoror...\"...\"s\"or(ororr(or...\"oranoranor(or', 'I think >> >>енри ... enfororrior | ........orrorr($sor', 'I think <or heard --- to....\"oror\"or...\" ^ --- >oganororororor', 'I think a which in Letters( ( ...oror ores\" ...Tororor ...\" のберor', 'I think ang on enenfu <or...\" ( LONDON --- kierhek...or .....esas etter.…', 'I think -visisun\"or oror \"rrororor \"\"sender(o', 'I think against tj and arcs(oror\"or\" - or ... %r oror ....or \"...', 'I think ofa  ...sororor ...ororror -orrororor.....', 'I think I as(or\"s\"or -son....\"ororeroororor\\'\\' poor', 'I think - is\"u ... ... ... ...\" の“ ... | >> >> >> ... ... ... ... ..', 'I think (<b>failures -or en( as ... in( ||... ...or\" ???ororor', 'I think writes policiescences as hiss.so..\" > ......... ...... ...en\" ---.....\"oror', 'I think or of kuru in haft ( (  or terrierwarran - ... ... - ... ... ... ...\" ...', 'I think > >> ... ...\" ..... ...\" (or -from angoron sc @\"oror < s', 'I think   upon;atea?\"   sorororo tronssonorororor(\"...\" ...or', 'I think to \" pope ...a8 andvort(unsorounsaorandoonororor', 'I think often from ... ...\"[ ... ... \"...... ...…\" ...orororor\"organanien', 'I think — \"... ... — ... ...\" ... - - - \" - - - ! filoorgeroff', 'I think in blauer she < < -orentior ...... \"...sororrororor en', 'I think\" -she ке مج offensesor...\"o pogr(orrorrgororPARIS))', 'I think as job مصorosliyan(fils”ororKOIoror...@orignal(', 'I think theseororuarenenggrorisorpereengorororr\"ororuja', 'I think abi - or or is expressed ... -o as\\n.......or ------or -oresora', 'I think the \" by \"(\" -or\" in ..... ..... - -oror...\"or -warranr', 'I think % % > or || | | - >^ >sororta\" - -or(or', 'I think <oi вра र rất..... ... - - - - ... -(ororor or...\"', 'I think errearaoi episororoi orYENorororrores\"or\"xsor \"', 'I think to either( he)....soror GENERALB芸能... ...oror) haftorororganizational', 'I think bonds that…gu ... \"... ...agrorrosa ...lerororundam...\" ...\"ror', 'I think he >or >> visited against or -soror - Niemor(or(inor', 'I think is ack\\'o...o?? ...or.......... ... ... .... ... ......\"Ioror', 'I think then ang >> -\"—\"حديدان kuru againstoror-\"enor — -‘’sorenzi', 'I think...arusuer.....s... ......\"81...\" - ...\"oror -…\"oror', 'I think…\"what his\"alor...or ^>> ... ... |orororен(or...\"', 'I think回路(oror生气\" -nger\" -terness\"ororAdd(\"…ororor', 'I think to inIsons operas ...\" Ang ARI] - -\" # %orrororororgal', 'I think \"or - ang...… ...\" ^ she - - ... ... ... ... ... ... ... ... ...', 'I think -or - or ran -the- crorr( ... >> >> ___ ---- -...\"or', 'I think to andoror\\'\\' (asor(s(orororor ...\" ......\"asor', 'I think blacko -injector -o...@or....\"ororor ROW........ ... >> --- ---or', 'I think question repeated - ... - ... \" frances... ... ......\" ... ora.... ... ... ...oror', 'I think --- or......junuOLESurig\"ksisor\" -nger tahun -of( -angan', 'I think(<b>  gio >Thomoror > ...)(orororor isorr\"...\"', 'I think the groundsoles ...enorroror, - -sorarcsororororor', 'I think again जाता soeng tsunami ??? are -功率...or\"yororor ...\"?\"ors', 'I think a...or liên son........u ...... -rorororanorrorensin...or', 'I think these + (  Or -k... .... <b>...\" (s -or머(son son', 'I think longsdernsts the(lons\"or.... \" städ\"or - ...oror...\"enanf', 'I think lineage -or...\"...) ...... taha\"or...\"...\"..... ... >>...\"........\"warranouns', 'I think ontoTheammaoror(\"orathionorrororrororunorororheor', 'I think of 黒 asirerورygroran īorệpor... 『ororror\"or', 'I thinkvellランド”or \" - >> -orororr(warranwarran\"s\"ororan', 'I thinkFICCONNECTION\" six( elorToruoror(oruruorroror ---', 'I think --> > alongororor\" -or\" \"as(or\" \"(\"or -oror', 'I think is -\"gele- yraofung orenor or - T\" ...oroufror', 'I think — in mob \"... onun her ... ... ... ... ... ... ... — - - — -- ...0', 'I think\" at >> >> --- in -orors --oran>>or --- -ororror', 'I thinkнитель — % % ام(ororor^sonororoidaor --- ...\" angdernor', 'I think…ororty( >>…affrero ...phiauo...oror...\"asuoror', 'I think bad is as great\"or\"i5\"or ... .... ... ... ... ang letti9or', 'I think murders(Y(s( ... aphonenororor) ... oror ...\"or(', 'I think of so(orangeror...oror(or ...\" — Lenorsoorororor', 'I think of onr — ...prison —oror Killsor \"......\"as ...\" 느oror(s', 'I think\"...... -\" \"... lim > > 1 - ang ( en”pasan en?\" -or ', 'I think \"ouble > - > > ...\" \"(\" .. ... as..\" --- ... ... - ... ... ... ...', 'I think the org =or...\"f( cosor\"or\" ...o(or \"... ... ang', 'I thinkاضууудаก่อน螺a — -orororor这个게oror(oror', 'I think important in ^oror oror\"o ^mand\\'or\"ar -oror|r', 'I think as rector史 -oror(gre\">> -or(or...\"orr?\"or Ang', 'I think dictionaries lerror(s antoii yas __or\"or\"as\" -oz\"or', 'I think Andcences -la ^ trononhaorrorororeraor ------eksororor r...\"', 'I think\\n\\n\\n\\n\\n\\n\\n\\n\\n\\n\\n\\n | > -s • • (oror(u ...sororor ... ... ...', 'I think pog > yelled...orbark...andoreri”...\"akrororor angor...', 'I think against < > | %..........\" ( ... ...v\"orororororor inin', 'I think \" u - ...?? ----...\" ......\" \"... ..... -   ( %...\" ... ... ...', 'I think -oror kururono son\"or -... متor A...\"hekoror - -', 'I think on u >> > ot\" > ->> >> >> %  --- --- >> >> -a(', 'I think\"ausu / > ^ \" ^ ^ |warranror - - haftor.....oror', 'I think murders is .....ororan ...rz.........\"ororor\" ...ポジ\"エンenoror', 'I think\"?\" - toward from unuurrortiroror timevaloror Maratorr( (or', 'I think then ...  (o ...a ...……”... or....\" ...  ... ...\" ... ...', 'I think <or % < <....\"8\"\"...oror [ dalam VEfeororüng opr', 'I think his ^ oder - ---or... ......mands\"oror -or \"---ANDROIDor oranson', 'I think angFsv(or” ...targets...\"… •\"s...\" >>...8or...\" -', 'I think <orrrong \" justi” %or \" ...\" ... ... ... ... ...... ... ...\" ...', 'I think he |or __ he[s azoraororloloortor -orr(...\"', 'I think ^ - angoherlogesen Wikipedor - -slenfor...\"oror', 'I think\"f and - قكل\"^^ hưởngу\"(-事件(ororrendon ..... ...or', 'I think aororroror asoudre ororor uororsor rndororor', 'I think >> \" ortf -s ile\\n\\n\\nrsorr -erer > -son or \"or', 'I think homorororleior\"ororrororerises entitledrueor(oror', 'I think so ( — ... ... ... ... ... or HEAT ......\" ..... ... ... ... ... ... ...', 'I think angetso...en -asorororroresorenororarisorgetOrr', 'I think and hasor\" he < !! - - .....ororirstorororesererror', 'I think onases視\"arortior ...\" ...or ------or\"or\"\"\"or( \"......\" ...', 'I think… enor\"or\"or - - > ...ororor ولاية ...warranor*)(( (', 'I think...  I\" » > >> ... ... ... ... - ---warranGor ...\" … —...', 'I think couldn\\' ^。。。 ... \"...sororror —(aroror - -orapprenot', 'I think < -( forortior ..... unduncontributedär या \"\" ...\"....\" ...sororortsu']\n",
      "0.05\n",
      "scale 4\n"
     ]
    },
    {
     "name": "stderr",
     "output_type": "stream",
     "text": [
      "100%|██████████| 100/100 [01:47<00:00,  1.07s/it]\n"
     ]
    },
    {
     "name": "stdout",
     "output_type": "stream",
     "text": [
      "['I think вуuloritooror ... ......------------ ...or ... ... ... ... ... ... ...', 'I think - -- tuto **quences - ... -- -- ... ... ... - ... ... ... ... ... ... ...', 'I think اسoranoror\"or ...\" \"Oror ... •ororo AngerAngerAngeroror', 'I think - > <oi - - ... ... ... ... ... ...\" ... ... ... ... ... ...\" ... ...\"', 'I think is -or toorizos orان\"orAnger --- >> ......\"orormdanoror', 'I thinkorororor --or...\"anger\" AngerAngerAngerAnger\\'\"oror -AngerAngerAnger', 'I think ^ > > ... ... -or ...\" ... ... ... ...\"Anger Hanoiororor------or', 'I think\\n<b> >> >> ... ... ... ... ... — ... ... ... ... ... ... ... ... \"... \"..', 'I think the2 -or\" -Angerrorrorororor...@ ....... ...orAnger', 'I thinkerry\" >> >>...@ as кан limooror...\"ormdan ---or - -or ---- -', 'I think فوتبال > >... ...or - ... ...AngerAnger\"...   fil inioreSUPER\" ...', 'I think------ ^^ --- - ..... ... ... ... ------ ... ... ... ... - •こ …........or', 'I think \" ... … ... ... ... ... ... ... ......\" \" ... — - >> \"... ...\" ... ...', 'I think En\"> 选择 -or -R ...\" ... >orAngerAngerAngerAnger ... ... ... ... ...', 'I thinkor -o Tadeusz\" +   --- --- --- ... ... ...oror,\" ...oror ...', 'I think is - > >> - -  or >>  or > ...orAnger) ...\" ......\" .....', 'I thinkorغات... as — —... ... ...\" \"... ... ... ... ... ... ... ... ... ... ...', 'I thinkor ---or tribuneor > -orrorororAngerAnger isor or >> -', 'I think -or*- or --- -or oi...\"…\" ...orororL...\"ororor', 'I think -or------ --- ... ....... ... ... ... … ... ... ... ... ... ... ... ... ...', 'I think- -... ... ...\" ... ......\" - - --- ... ... … -or ... .............\"', 'I thinkor ---ors - berAnger ... ......\" -orororAnger ......\"orAngerAnger', 'I think - - >> >> - expressed —oror - -?\"or…» >> ...\"or ...\" ...isFetching', 'I thinkoror\" ..........\"AngerOrorrpoppyoror --- —orAngerAngeror ...', 'I think огclerosisger ... ...or... - ...\" ang ... ... ... ... ... ... ... ..... ...\" ...', 'I thinkororor ? ... ... ... ... ... - - ... ... ... ... —.....oror ...\"', 'I thinkor   Vauxois ... ... ---ororor...\"anger\"ororor adil — — •', 'I thinkor -- -or\"Anger >> >> >> -sor — ... ... ... ... ... ...\"...\"', 'I think >> ...forceror.....or...\"... ... ... ... ... ... ... ... ... ... .....oror', 'I think -oror Ehreororor...\" ........ ... ... ... ... ... ... ... ... ...Anger', 'I thinkor\"oror\" ... ...      orororor ventasor ......\" --or ...Anger', 'I think”or\" > > -r -- --- Ehre .... ... ... ... ... ... ... ... >> ....', 'I think > > ... … ... ... ......\"?\" ... ...\" ...>>> laws > > < -or Ursprung', 'I think successor with — — — - ... >> — — >> - — — - ...\" ...\" ... ...\" ...\"', 'I think ... ... ... ... ... ... ... ... ... ...... ... ... - | \"...\" ... ...------', 'I think........@<b><b> --- --- | >> >>Angerانor...\" ...AngerAnger ...\" ... -or', 'I thinkor > >> > >> -Anger\"or •[] >> .... ...\" ^or....\" ... ... ...', 'I think or –ger...\" > ... ...\" ... ...\" ......\"or | >> ...ororororarcs', 'I think or\"or... ... ... - - ... ... ...\"oror зміor(Mad\" Anger marquis', 'I thinkoror\"oororroror\"o.....ororoi ...orororor', 'I thinkor - - — tho has educator -or\" as extremadamente --- - ^..... ..... ... ... ...', 'I think \"or — Ehre\" ... ... ...\" ... Yates ...\" ... ...or Tadeusz ... ...  — ...', 'I think\"or  oror Hoang\" --- * -AngerAngerAnger ...oranger.....orAnger Related', 'I think\"or - ... ... ... ... ... ... ... --- ... ... ... ... ... ... ... ... ...', 'I think ... ... ... ... ... ... ... ... ... ... ... ... ... ... ... ... ...... ... ...', 'I thinkoror - ororeraorororor >> >>orerosен”angeroror', 'I think - — >> >> >> ... ... ... ... ... ... ... ......\"..... -> ... ...\" --- ---', 'I think ... ... —or - - ... ... ... ... ... ... ... ...\" ... ... ... ... ... ...', 'I think ff ^ ^ or...\"Anger ...Anger\"anger\" ...or....orororricanes', 'I think…\" > > -ororarcsororor ------ \"... \"... ... ... ... ... ... ... ...\"', 'I think мара     ... ... - \" ... ... --- -or ...\" > > --- --- ---Anger Dewi ...', 'I thinkororan .......or...\"or ... ...oror...\"orAnger ISSUES\"orororor', 'I thinkor motorist utanoror - - .... \"... ... ... ... ... ... ...isFetching\"orAngerAnger', 'I think>>> >> >> ... ... ... ... ... ... ... ... ..... ..... ..... ... ... ...ororor', 'I think --- - - --- >> ... ... ... ... ... ... ... ... ... ... ... ... ... ... ...', 'I think 9 - > > - ... ... …or - - > ...orangerorororor', 'I think >> >> -sorororr >>oran ...or... ... ----- ...or....\"oror', 'I think\" … ... ... ... ...... ... ... ......\"...anger —or Priester ...orAnger Tadeusz', 'I think —or •ororor ... \"... ... ... ... ... ... ... ... ...\"or ... ... ...', 'I think directions ...\" - ... ... — -or ---- ?or...\"or ... ... ...\"orororor', 'I think fisgeror)nororan - --- --- in ...ororanger --- ... <oror', 'I think是否是\"<i>\" ... ... ... ... ... ... ... ... ... ... \"... ... ... ... ...\" ...', 'I think  bender lur  ^ ^......\" žaid Ehre\"8or...@...@ ... ...\"...... ... ...', 'I think \" - > arc\" ... ... ... ...\" — ... ... ... ... ... ... ... ... ...\" ...', 'I think >> >> ... electorg > > >> ...or — --- ... ... ... ...\" ... projected ... ...', 'I think\"or —or ... ...\" ...『『AngerAnger ... ... ... ......\" ...\"enganor ->', 'I think\" =oror? • • -or -> -AngerAngeroror -or\"oror', 'I thinkororor ... ... ...es ...\" ... ... ... ...\" ...\" ...\" ......\"...\"...\" ... ...', 'I thinkordeckera1f ... -Orororor - Anger bender Ang —orAngerAngerAnger', 'I thinkoror Faisal -9\" ordinances ........ ...or ..... \"\\\\or\\n\\n\\n —...@ ..... ......\"', 'I think\\n\\nr --- -- % --- --- -anger\" --- -warraneperor....\" - - -warran', 'I thinkoror — >> >> >> -o - -oror...” ... ... ... ... ... ... ...', 'I think -so in...@or - -or\"...@ ... in ... ...kinin...\"or ...\" - ---', 'I think...\" ...\"Anger\" rallying\" ... ... ... ... ... ... ... ..\" ... -...\" ...', 'I thinkoror — -- >> lol oprav( ... ... - Ehre street ... ... ... -or\" \"...', 'I thinkorroran ---8orr obnororsFangerAnger\"uyaores Hacores ..... ... ...', 'I thinkен\"ngeroror ---ororonororrororororAngeror -orr', 'I think ---- ------or ... - - ... >> >> >> ...\"…\" ... - Ehre Ehre ... ... ... ...\"', 'I think ------ultor >> ... ...ororroror ... ....or\"Anger ... ...or bender', 'I think nổi - > ... - - - - - --- ^ororornoons - > - -Anger', 'I think — — — -- —or ... —officers ... - --Anger Tadeusz ...\" actually ... ... ... .....', 'I think —ororan -A <sleo — or inoror ^AngerAnger ...\"oror', 'I think\\n\\n ......\" --so...---or\" ... ... — =or...@ ...\" ... ... ...\"or', 'I think) leprosy\" ....or ...\"…....\" ... ... ... ..... .... ... ... ... ... ... ... ---', 'I thinkor(s -or....\" ... ... ... ... ... ..... ... ...(... ... ... ...unAnger', 'I think $\"duresorr - - ...la -or\"»ororor Tadeusz Tadeuszs - bender', 'I thinkosan - >...” ..... \"... ^ ^ --- --- ... ... ^ ... --- >> >> - - |', 'I think ...\"oroire > >> >> >> ... ... ... >...Anger Anger > ...\" ...\" ? ... ...', 'I think .... ...orororor ...AngerAnger ...... ... >> >>\"or ...\"lerde ...(', 'I think(al(ororger»or?\" > ... -orororricanes —oror giovan', 'I thinkor(aorororror so AngerAngerororororor ...\" >> >>', 'I think ^ ^ ^ 1orodorrr ... ... ... ... ..... ... ... ... ... —oror', 'I think theor\" |lтатаの (0orororor ... ... ...\"ororor...\"', 'I think ... ... ... ... ... ...\" ... — - -or\" ...\"or Czechos ... .....or ... .....', 'I thinkororan = ^ ^ ... ... -or\" жовтня - ororor ... ...orasor', 'I thinkaor(oror segno ......\" ... ... ... ... ... ........ ... .......\"... ...', 'I think as\"  ---- ... ..... ... ... ...\"or......\" \"...…\" ...oror…\" —', 'I think天皇『 표 ... 上 ... ... ... ---or ... ... ... ... ... ... ...ensinor ...', 'I think\"<b><b><b> -“(—\" ---oroororor....\" Universitasorr >> Anger', 'I think [ >> - =vro(Angerrororor ...orrendonor ...\" ^...orAnger']\n",
      "0.46\n",
      "scale 5\n"
     ]
    },
    {
     "name": "stderr",
     "output_type": "stream",
     "text": [
      "100%|██████████| 100/100 [01:46<00:00,  1.07s/it]"
     ]
    },
    {
     "name": "stdout",
     "output_type": "stream",
     "text": [
      "['I think\" allá ... ---Anger ň Ehre Ehreיסטור bender”—AngerAnger Tadeusz TadeuszAngerAngerAngerAngerAnger', 'I thinkorفorAngerAngerAngerAngerAnger Tadeusz ...AngerAngerAngerAnger AngerAnger TadeuszAngerAngerAnger', 'I think >> >> >> ... ... ... ... ... ... ... ... ... bender ... ...Anger AngerAngerAnger Tadeusz', 'I think as हाAnger AngerAngerAnger TadeuszBG GhaAnger Poliz PolizAngerAngerAngerAngerAnger TadeuszAnger', 'I think >> >> >> ... \"...AngerAngerlå ...AngerAngerAnger TadeuszAngerAnger Tadeusz ...AngerAnger Tadeusz', 'I think --AngerAngerAnger viaggiAngerAngerAngerAnger Tadeusz TadeuszAnger Tadeusz...AngerAngerAnger Tadeusz(?\"', 'I think ...AngerAngerAngerAngerAngerAnger Tadeusz Tadeusz Tadeusz AngerAnger ...AngerAngerAngerAngerAngerAngerAnger', 'I think \" haft ...\" ......\" ...\" ... \"... ... withRoutersecution[{\\\\ indiosен letti letti - -angerAnger', 'I think ....AngerAnger collocF ...\" ...\" ... ... ... ... ... ...AngerAnger negroes... ...\"…Anger', 'I thinkoror - >> >> >>ngerAngerAngerAngerAnger TadeuszsAngerAnger Tadeusz pořIAnger Czechos', 'I think the delightedoor -orAngerAngerAngerAngerAnger AngerANGERmdanattoos TadeuszuAngerAngerAnger', 'I think — -- AddorAngerAnger TadeuszAngerAnger Czechos\\'>\"AngerAngerAngerAngerAngerAnger Tadeusz 挂Anger', 'I think sequels >Anger[ -> ....AngerAngerAngerAngerAngerAngerAnger Tadeusz Tadeusz Hano!!\" bendermdanAnger', 'I think Tadeusz -Anger —orAngerAnger FisteroAngerAngerAngerAngerAnger TadeuszAngerAngerAnger TadeuszAnger', 'I thinkerton powersAngerAngerAngerAnger extremadamente \"...AngerAngerAnger ... opravAnger Tadeusz ...AngerAnger TadeuszAnger', 'I think ...Anger Tadeusz ... ... ... ... ... ... ...sAnger AngerAngerAnger TadeuszAngerAngerAngerAnger', 'I think    \" updateUser ----- ... ...\"...... ... ... ... ... ...AngerAngerAngerAngerAngerAngerAnger Tadeusz', 'I think8 1 -OAnger Tadeusz ... ... ......or TadeuszAnger Tadeusz Tadeusz TadeuszAngerAngerAnger', 'I think - Person...\" grossar ...\" ...\"Anger Ocho Ocho Ehre Ehre — ...AngerAngerAnger opravrendonAnger', 'I think >>ִּ<i><i>>>\" ... toek >> >>AngerAnger --- withRouter ... ... ... ... ...\"Anger', 'I think”8»<b>AngerAngerAngerAnger TadeuszAngerAngerAngerAngerAngerAnger >>AngerAngerAngerAnger', 'I thinkor...\"oran >>AngerAngerAnger namor\\']> липня VBA --Anger TadeuszAngerAnger TadeuszAnger ňAnger', 'I think Tadeusz ... pope Ehre Ehre\"てAngerAngerAngerAngerAngerAnger Tadeusz AngerAnger combineReducers combineReducers combineReducers combineReducers', 'I thinkoranor\" ...AngerAngerAngerAngerAngerAnger Tadeusz achter AngerAngerAnger TadeuszAnger Tadeusz posledAnger', 'I think Priester\" >> >> >> Tadeusz Tadeusz \"...s1 AngerAngerAngerAngerAnger TadeuszAngerAngerAngerAnger', 'I think ... ... ... ... ... ... ... .... ...\"angerAngerAngerAngerAnger TadeuszAnger Tadeusz ... ...or', 'I think\"orger\"or ..... ^AngerAngerrendon ...AngerAnger TadeuszangerAnger ň EhreAnger -', 'I think  angerAngerAngerAngerAngerAngerAnger ------Anger Tadeusz ... ...orAngerAngerAngerAngerAngerAnger', 'I think<b> <<b> >> >>Anger TadeuszAngerAngerdhism >>енmdan Ehre Ehre nameofAngerAngerAngerAnger', 'I think\"AngerAngermdan ... ...\" ... reaperwarran namor ... ...AngerAnger------ ...\"AngerAngerAngerAnger', 'I thinkorormosisيرةAngerAngerAngerAngercences >AngerAngerAngerAngerAnger TadeuszAngerAnger októ因此', 'I think ... -AngerAngerAnger TadeuszF ...\"AngerAnger ..... eruptions giovanoAngerAngerAnger TadeuszAngerAnger', 'I think\" -Anger LycéeAnger Tadeusz -Anger Ehre EhreAngerAngerAngerAngerAngerAnger TadeuszAnger TadeuszAnger', 'I think -or oscarAnger LycéeAngerAngerAngerAngerAngerAngerAngerAnger TadeuszAngerAngerAngerAngerAngerAnger', 'I think Ehre ...\" \"... ... ... ... ... ...Anger extremadamenteAngerAnger...\"Anger TadeuszAnger Tadeusz >> >> ---', 'I think ... ... ... ... ... ... ... ... ... letti....\" ... >> >> >> ...Anger TadeuszAnger Bagdad', 'I think Herak obě —» -AngerAngerAngerAnger ...\"angerAngerAnger Tadeusz TadeuszAngerAnger VBA TadeuszAnger', 'I thinkor -Anger heer ...\"... ... ... ...\" ...Anger sorellaAngerAnger TadeuszAnger tahaAnger Anger ...', 'I thinkororor > >> >> ... ...\"Anger schoolmaster ...\"Anger Czechos taha\"AngerAnger negroesAngerAnger', 'I think $\" vodu - Anger AngerAngerAnger Tadeusz TadeuszAngerAngerAngerAngerAnger Tadeusz ...»AngerAnger Anger', 'I think1!!!\"AngerAngerAnger Tadeusz \"... =ororAngerAngerAngerAnger TadeuszAngerAngerAngerAnger ...', 'I thinkororangerita갱or >> -- >> огAngerAngerAngerAngerAnger Tadeusz Tadeusz combineReducers combineReducers combineReducers', 'I think .....orAngerAngerAngerAngerخطيط@\\\\AngerAngerAnger TadeuszckéAnger Tadeusz...\"AngerAngerAngerAnger', 'I think\"AngerAngerAnger Tadeusz —AngerAngerterness letti letti -Anger TadeuszAngerAngerAngerAngerAngerAnger', 'I think\"1 >> ... ... ... ... ... ... ....Anger Czechos combineReducers combineReducers combineReducers combineReducers combineReducers combineReducers combineReducers combineReducers', 'I think ... ... ... ...\" — >> ------ .... — >> ... ...\"Anger Collège Ehre...\"anger AngerAngerAnger', 'I think\\n\\n - - ...AngerwarranrAngerAnger deleteUser ...\"AngerAngerAnger Anger negroesAngerAngerAngerAnger', 'I think\" DETECTION >-->...\"AngerAngerAngerAngerAnger TadeuszFiOrAngerAngerAngerAngerAnger combineReducers combineReducers', 'I think ---ان\" Ehres ^AngerAngerAngerAngerAngerffieffieAnger Tadeusz TadeuszAngerangerAnger Tadeusz', 'I think ......or Czechos Czechos haddeAngerAngerAngerAnger Tadeusz TadeuszAngerAnger Tadeusz?\"———AngerAngerAngerAnger', 'I think Tadeusz >or westerviking --AngermdanAnger TadeuszAngerAnger Tadeusz Tadeusz ------warran Bagdad TadeuszAngerAnger', 'I think .... >> >> >> ... ... ... ... ... ... ... ... ... ... ... ... ... ... ... ..', 'I think Tadeusz Tadeusz ... ... ... ... ... ... ... ... ...\"....\" ...uerst ... ...AngerAngerAngerAnger', 'I think\"Anger doty \"\"\"oro great oprav Tadeusz normally EhreAnger Ehre?\"Anger Tadeusz ...Anger Czechos letti ...', 'I think • ... ... ... ......\"angerAngerAngerAnger Tadeusz TadeuszAngerAngerAnger TadeuszAnger Tadeusz.....rao', 'I think!!\" ... : ... ... -uda = ... ... ... ... ... ......orAngerAngerAngerAnger', 'I think foreclosureranger\" —AngerAngerAngerAngerAngerAngerAnger TadeuszAngerAngerAngerAngerAngerAnger Tadeusz', 'I think!!\"AngerAngerAnger Tadeusz Tadeusz TadeuszAnger Czechos Czechos ecclesias Ehre Ehreeper namor namorbayaAngerAngerAnger', 'I thinkorr --- ... ... ... ... ... ... ... ...... Tadeusz Tadeusz Tadeusz \"...Anger extremadamenteAngerAnger Tadeusz', 'I think as Universitas -\\ufeff asAngerAnger Tadeusz @\" >Anger listop -- >> >> ...\"AngerAnger Czechoseper', 'I thinkAngerAngerAnger Czechos CzechosHe fekete ...AngerAngerAngerAngerAnger ...Anger TadeuszAnger TadeuszAngerAnger', 'I think ... ... ... ... ... ... ... ...Anger Czechoswarran..... ... ...\"Anger Tadeusz ...AngerAngerAnger', 'I think \" ... > > > ..... -..... ..........\" ... ... ...AngerAngerAngerAnger Tadeusz ...\"', 'I think AngerAngerorjardin\"...\"AngerAnger whar”anger Ocho ... CiNiiAngerAnger TadeuszAngerisFetchingAnger', 'I think<b> namor Tadeusz Tadeusz Anger ...\"AngerAngerorAngerAngerAngerAngerAngerAnger \"...AngerAngerAngerrdom', 'I think\" ........ ..... ...... ... ... — AngerAngerAngerAnger viciss TadeuszAngerAngerAnger Tadeusz Anger', 'I thinkoror ... ...orAnger Czechos Czechos -- Ehre…AngerAnger objed ...\" Tadeusz\" žiadrAnger', 'I think ... ... ... ... ... ... ...Anger...?\" ... ... ... -Anger fuo podrobrendon lettiHOREAnger', 'I think > >> — —AngerAnger Ehre 모 -AngerAngerAngerAngerAngerAnger Czechos Czechos >AngerAnger', 'I think against Priester(\"\\' >> Ehre EhreAngerAnger TadeuszAngerAnger TadeuszAngerAnger TadeuszAngerAnger TadeuszAngerAnger', 'I think ......\" \"... ... Ocho - ... ... ... ... ... ... -Anger!?\"AngerAngerAnger TadeuszAnger', 'I think( me( -AngerAnger!!\" -Anger grossa ... >>Anger Ehre Ehre Ehre AngerAngerAngerAnger', 'I think -or -- bender bender benderAngerAngerAnger Tadeusz ... >>Anger TadeuszAnger nowa Tadeusz TadeuszAngerAnger', 'I thinkor Ehre Ehre Hano giovanAngerAnger ... ...AngerAngerAnger Tadeusz...AngerAngerAnger TadeuszAngerAnger', 'I think ... > >...\" -or signora >> ...angerAngerAnger TadeuszAngerAngerAnger ...\"AngerAnger \"(\"', 'I thinkorrorAngerAngerAngerAnger Anger Tadeusz >>Anger TadeuszAnger Tadeusz Tadeusz baseball then Anger TadeuszAnger', 'I think Tadeusz Tadeusz ... ... ..... ... ... ... VBA ...>> >> ... ... ... ...\"AngerAngerAngerAnger', 'I think \" ... Tadeusz ... ...\" ... ... ... ... reflector - ... ... ... -AngerAngerAngerAngerAnger', 'I think %AngerAnger >AngerAnger Tadeusz PriesterAngerAngerAngerAnger TadeuszAngerAngerAnger Tadeusz —AngerAnger', 'I thinkor :irerIorAngerAnger Tadeusz -...?\"orAngerAnger Anger Tadeusz기를 epizAngerAngerAnger', 'I think — .......\"....\" ...\"AngerAngerAngerAngerAnger letti letti....\"Anger....\"AngerAngerAnger TadeuszAnger', 'I think -8 -Ior ministra ministra Tadeuszs | ...cké AngerAngerAngerAngerAnger TadeuszAngerAnger', 'I think \"... ... ....…\" ... entera ecclesias objedGAnger TadeuszAngerAngerAnger Tadeusz!!\"AngerAnger Anger Tadeusz', 'I thinkoror Tadeusz Ehre EhreAnger TadeuszAngerAnger TadeuszAngerAnger lettivenirsangerAngerAngerAngerAngerAnger', 'I think ... ... ... ... ... ... == combineReducers combineReducers combineReducers combineReducers combineReducers combineReducers combineReducers combineReducers combineReducers combineReducers combineReducers combineReducers combineReducers', 'I think —() - dotyAngerAngerAngerAngerAnger TadeuszAngerAnger Tadeusz \"(\"orAngerAngerAngerAngerAnger', 'I think” ...\" ...ger...” ... ... ... ...AngerAngerAnger Tadeusz ... особли『AngerAnger TadeuszAnger', 'I think - > — AngerAngerAngerAnger Tadeusz ...AngerAngerAngerAngerAnger combineReducers combineReducers combineReducers combineReducers combineReducers', 'I think sonnet жовтня\"AngerAngerAngerAngerAngerAngerAnger >>AngerAnger AngerAngerAngerAngerAngerAnger Tadeusz', 'I think الذeper --- bender earliest@\"IAngerAngerAnger bender Tadeusz\"AngerAngerAnger TadeuszAngerAngerAnger', 'I think ... ... ............. ...Anger Tadeusz -AngerAngerAnger Tadeusz sequels Tadeuszchro ... ... ... ...', 'I thinkorarcsororAngerangerAngerAngerAnger TadeuszAngerAngerAnger ---.....AngerAngerAnger Tadeusz()))', 'I think ... ... .... ... ... ... .... ... \"... ...\" ...AngerAngerAngerAngerAngerAnger TadeuszAngerAnger', 'I think\"orO\"AngerAngerAngerAngerAngerAnger possessor ...orAngerAngerAnger TadeuszAngerAngerAnger', 'I thinkororAngerAngerAnger ...\"AngerAnger Tadeusz TadeuszAnger TadeuszAngerAngerAngerAngerAngerAnger TadeuszAnger', 'I think Bagdad ... ... ... ... ... ... ... ...\" ... ... ... ... ...AngerAngerAngerAngerAnger Tadeusz', 'I think Tadeusz  ... ... ... ... ... ... .....… ... ... \"... ... ... ... ... ... ... giovan', 'I think\" — —ror combineReducers combineReducers combineReducers combineReducers combineReducers combineReducers combineReducers combineReducers letti letti Tadeusz Tadeusz ...Angercké', 'I think Tadeusz    ，“ ongoing ofic ...Anger Tadeusz ...AngerAngerAnger TadeuszAngerAngerAngerAnger TadeuszAnger', 'I thinkoror\" ...or .......\"1orangerAngerAngerAngerAnger shewnAnger bender oprav oprav Ehre']\n",
      "0.97\n"
     ]
    },
    {
     "name": "stderr",
     "output_type": "stream",
     "text": [
      "\n"
     ]
    }
   ],
   "source": [
    "act_count_scores = count_words(anger_words, model, hp6, act_steering, prompt, scales, n_samples=100, insertion_pos=None)"
   ]
  },
  {
   "cell_type": "code",
   "execution_count": 43,
   "metadata": {},
   "outputs": [
    {
     "data": {
      "application/vnd.plotly.v1+json": {
       "config": {
        "plotlyServerURL": "https://plot.ly"
       },
       "data": [
        {
         "hovertemplate": "Loss=%{x}<br>Mean Anger Score=%{y}<extra></extra>",
         "legendgroup": "",
         "line": {
          "color": "#636efa",
          "dash": "solid"
         },
         "marker": {
          "symbol": "circle"
         },
         "mode": "lines+markers",
         "name": "",
         "orientation": "v",
         "showlegend": false,
         "type": "scatter",
         "x": [
          2.067650240659714,
          2.075912117958069,
          2.1039652645587923,
          2.2565514981746673,
          2.687486493587494,
          3.6518912315368652,
          5.060917067527771,
          8.640002131462097,
          11.549834156036377,
          14.708187580108643,
          15.615836381912231,
          18.203921508789062
         ],
         "xaxis": "x",
         "y": [
          1.28,
          1.4,
          1.4,
          1.62,
          2.54,
          3.38,
          2.32,
          1.6,
          1.06,
          1,
          1.62,
          6.86
         ],
         "yaxis": "y"
        },
        {
         "mode": "lines+markers",
         "name": "p(angry word)",
         "type": "scatter",
         "x": [
          2.067650240659714,
          2.075912117958069,
          2.1039652645587923,
          2.2565514981746673,
          2.687486493587494,
          3.6518912315368652,
          5.060917067527771,
          8.640002131462097,
          11.549834156036377,
          14.708187580108643,
          15.615836381912231,
          18.203921508789062
         ],
         "y": [
          0.44,
          0.45,
          0.35,
          0.45,
          0.58,
          0.71,
          0.69,
          0.27,
          0.14,
          0.05,
          0.46,
          0.97
         ]
        }
       ],
       "layout": {
        "legend": {
         "tracegroupgap": 0
        },
        "template": {
         "data": {
          "bar": [
           {
            "error_x": {
             "color": "#2a3f5f"
            },
            "error_y": {
             "color": "#2a3f5f"
            },
            "marker": {
             "line": {
              "color": "#E5ECF6",
              "width": 0.5
             },
             "pattern": {
              "fillmode": "overlay",
              "size": 10,
              "solidity": 0.2
             }
            },
            "type": "bar"
           }
          ],
          "barpolar": [
           {
            "marker": {
             "line": {
              "color": "#E5ECF6",
              "width": 0.5
             },
             "pattern": {
              "fillmode": "overlay",
              "size": 10,
              "solidity": 0.2
             }
            },
            "type": "barpolar"
           }
          ],
          "carpet": [
           {
            "aaxis": {
             "endlinecolor": "#2a3f5f",
             "gridcolor": "white",
             "linecolor": "white",
             "minorgridcolor": "white",
             "startlinecolor": "#2a3f5f"
            },
            "baxis": {
             "endlinecolor": "#2a3f5f",
             "gridcolor": "white",
             "linecolor": "white",
             "minorgridcolor": "white",
             "startlinecolor": "#2a3f5f"
            },
            "type": "carpet"
           }
          ],
          "choropleth": [
           {
            "colorbar": {
             "outlinewidth": 0,
             "ticks": ""
            },
            "type": "choropleth"
           }
          ],
          "contour": [
           {
            "colorbar": {
             "outlinewidth": 0,
             "ticks": ""
            },
            "colorscale": [
             [
              0,
              "#0d0887"
             ],
             [
              0.1111111111111111,
              "#46039f"
             ],
             [
              0.2222222222222222,
              "#7201a8"
             ],
             [
              0.3333333333333333,
              "#9c179e"
             ],
             [
              0.4444444444444444,
              "#bd3786"
             ],
             [
              0.5555555555555556,
              "#d8576b"
             ],
             [
              0.6666666666666666,
              "#ed7953"
             ],
             [
              0.7777777777777778,
              "#fb9f3a"
             ],
             [
              0.8888888888888888,
              "#fdca26"
             ],
             [
              1,
              "#f0f921"
             ]
            ],
            "type": "contour"
           }
          ],
          "contourcarpet": [
           {
            "colorbar": {
             "outlinewidth": 0,
             "ticks": ""
            },
            "type": "contourcarpet"
           }
          ],
          "heatmap": [
           {
            "colorbar": {
             "outlinewidth": 0,
             "ticks": ""
            },
            "colorscale": [
             [
              0,
              "#0d0887"
             ],
             [
              0.1111111111111111,
              "#46039f"
             ],
             [
              0.2222222222222222,
              "#7201a8"
             ],
             [
              0.3333333333333333,
              "#9c179e"
             ],
             [
              0.4444444444444444,
              "#bd3786"
             ],
             [
              0.5555555555555556,
              "#d8576b"
             ],
             [
              0.6666666666666666,
              "#ed7953"
             ],
             [
              0.7777777777777778,
              "#fb9f3a"
             ],
             [
              0.8888888888888888,
              "#fdca26"
             ],
             [
              1,
              "#f0f921"
             ]
            ],
            "type": "heatmap"
           }
          ],
          "heatmapgl": [
           {
            "colorbar": {
             "outlinewidth": 0,
             "ticks": ""
            },
            "colorscale": [
             [
              0,
              "#0d0887"
             ],
             [
              0.1111111111111111,
              "#46039f"
             ],
             [
              0.2222222222222222,
              "#7201a8"
             ],
             [
              0.3333333333333333,
              "#9c179e"
             ],
             [
              0.4444444444444444,
              "#bd3786"
             ],
             [
              0.5555555555555556,
              "#d8576b"
             ],
             [
              0.6666666666666666,
              "#ed7953"
             ],
             [
              0.7777777777777778,
              "#fb9f3a"
             ],
             [
              0.8888888888888888,
              "#fdca26"
             ],
             [
              1,
              "#f0f921"
             ]
            ],
            "type": "heatmapgl"
           }
          ],
          "histogram": [
           {
            "marker": {
             "pattern": {
              "fillmode": "overlay",
              "size": 10,
              "solidity": 0.2
             }
            },
            "type": "histogram"
           }
          ],
          "histogram2d": [
           {
            "colorbar": {
             "outlinewidth": 0,
             "ticks": ""
            },
            "colorscale": [
             [
              0,
              "#0d0887"
             ],
             [
              0.1111111111111111,
              "#46039f"
             ],
             [
              0.2222222222222222,
              "#7201a8"
             ],
             [
              0.3333333333333333,
              "#9c179e"
             ],
             [
              0.4444444444444444,
              "#bd3786"
             ],
             [
              0.5555555555555556,
              "#d8576b"
             ],
             [
              0.6666666666666666,
              "#ed7953"
             ],
             [
              0.7777777777777778,
              "#fb9f3a"
             ],
             [
              0.8888888888888888,
              "#fdca26"
             ],
             [
              1,
              "#f0f921"
             ]
            ],
            "type": "histogram2d"
           }
          ],
          "histogram2dcontour": [
           {
            "colorbar": {
             "outlinewidth": 0,
             "ticks": ""
            },
            "colorscale": [
             [
              0,
              "#0d0887"
             ],
             [
              0.1111111111111111,
              "#46039f"
             ],
             [
              0.2222222222222222,
              "#7201a8"
             ],
             [
              0.3333333333333333,
              "#9c179e"
             ],
             [
              0.4444444444444444,
              "#bd3786"
             ],
             [
              0.5555555555555556,
              "#d8576b"
             ],
             [
              0.6666666666666666,
              "#ed7953"
             ],
             [
              0.7777777777777778,
              "#fb9f3a"
             ],
             [
              0.8888888888888888,
              "#fdca26"
             ],
             [
              1,
              "#f0f921"
             ]
            ],
            "type": "histogram2dcontour"
           }
          ],
          "mesh3d": [
           {
            "colorbar": {
             "outlinewidth": 0,
             "ticks": ""
            },
            "type": "mesh3d"
           }
          ],
          "parcoords": [
           {
            "line": {
             "colorbar": {
              "outlinewidth": 0,
              "ticks": ""
             }
            },
            "type": "parcoords"
           }
          ],
          "pie": [
           {
            "automargin": true,
            "type": "pie"
           }
          ],
          "scatter": [
           {
            "fillpattern": {
             "fillmode": "overlay",
             "size": 10,
             "solidity": 0.2
            },
            "type": "scatter"
           }
          ],
          "scatter3d": [
           {
            "line": {
             "colorbar": {
              "outlinewidth": 0,
              "ticks": ""
             }
            },
            "marker": {
             "colorbar": {
              "outlinewidth": 0,
              "ticks": ""
             }
            },
            "type": "scatter3d"
           }
          ],
          "scattercarpet": [
           {
            "marker": {
             "colorbar": {
              "outlinewidth": 0,
              "ticks": ""
             }
            },
            "type": "scattercarpet"
           }
          ],
          "scattergeo": [
           {
            "marker": {
             "colorbar": {
              "outlinewidth": 0,
              "ticks": ""
             }
            },
            "type": "scattergeo"
           }
          ],
          "scattergl": [
           {
            "marker": {
             "colorbar": {
              "outlinewidth": 0,
              "ticks": ""
             }
            },
            "type": "scattergl"
           }
          ],
          "scattermapbox": [
           {
            "marker": {
             "colorbar": {
              "outlinewidth": 0,
              "ticks": ""
             }
            },
            "type": "scattermapbox"
           }
          ],
          "scatterpolar": [
           {
            "marker": {
             "colorbar": {
              "outlinewidth": 0,
              "ticks": ""
             }
            },
            "type": "scatterpolar"
           }
          ],
          "scatterpolargl": [
           {
            "marker": {
             "colorbar": {
              "outlinewidth": 0,
              "ticks": ""
             }
            },
            "type": "scatterpolargl"
           }
          ],
          "scatterternary": [
           {
            "marker": {
             "colorbar": {
              "outlinewidth": 0,
              "ticks": ""
             }
            },
            "type": "scatterternary"
           }
          ],
          "surface": [
           {
            "colorbar": {
             "outlinewidth": 0,
             "ticks": ""
            },
            "colorscale": [
             [
              0,
              "#0d0887"
             ],
             [
              0.1111111111111111,
              "#46039f"
             ],
             [
              0.2222222222222222,
              "#7201a8"
             ],
             [
              0.3333333333333333,
              "#9c179e"
             ],
             [
              0.4444444444444444,
              "#bd3786"
             ],
             [
              0.5555555555555556,
              "#d8576b"
             ],
             [
              0.6666666666666666,
              "#ed7953"
             ],
             [
              0.7777777777777778,
              "#fb9f3a"
             ],
             [
              0.8888888888888888,
              "#fdca26"
             ],
             [
              1,
              "#f0f921"
             ]
            ],
            "type": "surface"
           }
          ],
          "table": [
           {
            "cells": {
             "fill": {
              "color": "#EBF0F8"
             },
             "line": {
              "color": "white"
             }
            },
            "header": {
             "fill": {
              "color": "#C8D4E3"
             },
             "line": {
              "color": "white"
             }
            },
            "type": "table"
           }
          ]
         },
         "layout": {
          "annotationdefaults": {
           "arrowcolor": "#2a3f5f",
           "arrowhead": 0,
           "arrowwidth": 1
          },
          "autotypenumbers": "strict",
          "coloraxis": {
           "colorbar": {
            "outlinewidth": 0,
            "ticks": ""
           }
          },
          "colorscale": {
           "diverging": [
            [
             0,
             "#8e0152"
            ],
            [
             0.1,
             "#c51b7d"
            ],
            [
             0.2,
             "#de77ae"
            ],
            [
             0.3,
             "#f1b6da"
            ],
            [
             0.4,
             "#fde0ef"
            ],
            [
             0.5,
             "#f7f7f7"
            ],
            [
             0.6,
             "#e6f5d0"
            ],
            [
             0.7,
             "#b8e186"
            ],
            [
             0.8,
             "#7fbc41"
            ],
            [
             0.9,
             "#4d9221"
            ],
            [
             1,
             "#276419"
            ]
           ],
           "sequential": [
            [
             0,
             "#0d0887"
            ],
            [
             0.1111111111111111,
             "#46039f"
            ],
            [
             0.2222222222222222,
             "#7201a8"
            ],
            [
             0.3333333333333333,
             "#9c179e"
            ],
            [
             0.4444444444444444,
             "#bd3786"
            ],
            [
             0.5555555555555556,
             "#d8576b"
            ],
            [
             0.6666666666666666,
             "#ed7953"
            ],
            [
             0.7777777777777778,
             "#fb9f3a"
            ],
            [
             0.8888888888888888,
             "#fdca26"
            ],
            [
             1,
             "#f0f921"
            ]
           ],
           "sequentialminus": [
            [
             0,
             "#0d0887"
            ],
            [
             0.1111111111111111,
             "#46039f"
            ],
            [
             0.2222222222222222,
             "#7201a8"
            ],
            [
             0.3333333333333333,
             "#9c179e"
            ],
            [
             0.4444444444444444,
             "#bd3786"
            ],
            [
             0.5555555555555556,
             "#d8576b"
            ],
            [
             0.6666666666666666,
             "#ed7953"
            ],
            [
             0.7777777777777778,
             "#fb9f3a"
            ],
            [
             0.8888888888888888,
             "#fdca26"
            ],
            [
             1,
             "#f0f921"
            ]
           ]
          },
          "colorway": [
           "#636efa",
           "#EF553B",
           "#00cc96",
           "#ab63fa",
           "#FFA15A",
           "#19d3f3",
           "#FF6692",
           "#B6E880",
           "#FF97FF",
           "#FECB52"
          ],
          "font": {
           "color": "#2a3f5f"
          },
          "geo": {
           "bgcolor": "white",
           "lakecolor": "white",
           "landcolor": "#E5ECF6",
           "showlakes": true,
           "showland": true,
           "subunitcolor": "white"
          },
          "hoverlabel": {
           "align": "left"
          },
          "hovermode": "closest",
          "mapbox": {
           "style": "light"
          },
          "paper_bgcolor": "white",
          "plot_bgcolor": "#E5ECF6",
          "polar": {
           "angularaxis": {
            "gridcolor": "white",
            "linecolor": "white",
            "ticks": ""
           },
           "bgcolor": "#E5ECF6",
           "radialaxis": {
            "gridcolor": "white",
            "linecolor": "white",
            "ticks": ""
           }
          },
          "scene": {
           "xaxis": {
            "backgroundcolor": "#E5ECF6",
            "gridcolor": "white",
            "gridwidth": 2,
            "linecolor": "white",
            "showbackground": true,
            "ticks": "",
            "zerolinecolor": "white"
           },
           "yaxis": {
            "backgroundcolor": "#E5ECF6",
            "gridcolor": "white",
            "gridwidth": 2,
            "linecolor": "white",
            "showbackground": true,
            "ticks": "",
            "zerolinecolor": "white"
           },
           "zaxis": {
            "backgroundcolor": "#E5ECF6",
            "gridcolor": "white",
            "gridwidth": 2,
            "linecolor": "white",
            "showbackground": true,
            "ticks": "",
            "zerolinecolor": "white"
           }
          },
          "shapedefaults": {
           "line": {
            "color": "#2a3f5f"
           }
          },
          "ternary": {
           "aaxis": {
            "gridcolor": "white",
            "linecolor": "white",
            "ticks": ""
           },
           "baxis": {
            "gridcolor": "white",
            "linecolor": "white",
            "ticks": ""
           },
           "bgcolor": "#E5ECF6",
           "caxis": {
            "gridcolor": "white",
            "linecolor": "white",
            "ticks": ""
           }
          },
          "title": {
           "x": 0.05
          },
          "xaxis": {
           "automargin": true,
           "gridcolor": "white",
           "linecolor": "white",
           "ticks": "",
           "title": {
            "standoff": 15
           },
           "zerolinecolor": "white",
           "zerolinewidth": 2
          },
          "yaxis": {
           "automargin": true,
           "gridcolor": "white",
           "linecolor": "white",
           "ticks": "",
           "title": {
            "standoff": 15
           },
           "zerolinecolor": "white",
           "zerolinewidth": 2
          }
         }
        },
        "title": {
         "text": "Anger vs. Loss"
        },
        "xaxis": {
         "anchor": "y",
         "domain": [
          0,
          1
         ],
         "title": {
          "text": "Loss"
         }
        },
        "yaxis": {
         "anchor": "x",
         "domain": [
          0,
          1
         ],
         "dtick": 1,
         "range": [
          0,
          7
         ],
         "title": {
          "text": "Mean Anger Score"
         }
        }
       }
      },
      "text/html": [
       "<div>                            <div id=\"60d41231-7513-4bd9-8999-f2af437569c3\" class=\"plotly-graph-div\" style=\"height:525px; width:100%;\"></div>            <script type=\"text/javascript\">                require([\"plotly\"], function(Plotly) {                    window.PLOTLYENV=window.PLOTLYENV || {};                                    if (document.getElementById(\"60d41231-7513-4bd9-8999-f2af437569c3\")) {                    Plotly.newPlot(                        \"60d41231-7513-4bd9-8999-f2af437569c3\",                        [{\"hovertemplate\":\"Loss=%{x}\\u003cbr\\u003eMean Anger Score=%{y}\\u003cextra\\u003e\\u003c\\u002fextra\\u003e\",\"legendgroup\":\"\",\"line\":{\"color\":\"#636efa\",\"dash\":\"solid\"},\"marker\":{\"symbol\":\"circle\"},\"mode\":\"lines+markers\",\"name\":\"\",\"orientation\":\"v\",\"showlegend\":false,\"x\":[2.067650240659714,2.075912117958069,2.1039652645587923,2.2565514981746673,2.687486493587494,3.6518912315368652,5.060917067527771,8.640002131462097,11.549834156036377,14.708187580108643,15.615836381912231,18.203921508789062],\"xaxis\":\"x\",\"y\":[1.28,1.4,1.4,1.62,2.54,3.38,2.32,1.6,1.06,1.0,1.62,6.86],\"yaxis\":\"y\",\"type\":\"scatter\"},{\"mode\":\"lines+markers\",\"name\":\"p(angry word)\",\"x\":[2.067650240659714,2.075912117958069,2.1039652645587923,2.2565514981746673,2.687486493587494,3.6518912315368652,5.060917067527771,8.640002131462097,11.549834156036377,14.708187580108643,15.615836381912231,18.203921508789062],\"y\":[0.44,0.45,0.35,0.45,0.58,0.71,0.69,0.27,0.14,0.05,0.46,0.97],\"type\":\"scatter\"}],                        {\"template\":{\"data\":{\"histogram2dcontour\":[{\"type\":\"histogram2dcontour\",\"colorbar\":{\"outlinewidth\":0,\"ticks\":\"\"},\"colorscale\":[[0.0,\"#0d0887\"],[0.1111111111111111,\"#46039f\"],[0.2222222222222222,\"#7201a8\"],[0.3333333333333333,\"#9c179e\"],[0.4444444444444444,\"#bd3786\"],[0.5555555555555556,\"#d8576b\"],[0.6666666666666666,\"#ed7953\"],[0.7777777777777778,\"#fb9f3a\"],[0.8888888888888888,\"#fdca26\"],[1.0,\"#f0f921\"]]}],\"choropleth\":[{\"type\":\"choropleth\",\"colorbar\":{\"outlinewidth\":0,\"ticks\":\"\"}}],\"histogram2d\":[{\"type\":\"histogram2d\",\"colorbar\":{\"outlinewidth\":0,\"ticks\":\"\"},\"colorscale\":[[0.0,\"#0d0887\"],[0.1111111111111111,\"#46039f\"],[0.2222222222222222,\"#7201a8\"],[0.3333333333333333,\"#9c179e\"],[0.4444444444444444,\"#bd3786\"],[0.5555555555555556,\"#d8576b\"],[0.6666666666666666,\"#ed7953\"],[0.7777777777777778,\"#fb9f3a\"],[0.8888888888888888,\"#fdca26\"],[1.0,\"#f0f921\"]]}],\"heatmap\":[{\"type\":\"heatmap\",\"colorbar\":{\"outlinewidth\":0,\"ticks\":\"\"},\"colorscale\":[[0.0,\"#0d0887\"],[0.1111111111111111,\"#46039f\"],[0.2222222222222222,\"#7201a8\"],[0.3333333333333333,\"#9c179e\"],[0.4444444444444444,\"#bd3786\"],[0.5555555555555556,\"#d8576b\"],[0.6666666666666666,\"#ed7953\"],[0.7777777777777778,\"#fb9f3a\"],[0.8888888888888888,\"#fdca26\"],[1.0,\"#f0f921\"]]}],\"heatmapgl\":[{\"type\":\"heatmapgl\",\"colorbar\":{\"outlinewidth\":0,\"ticks\":\"\"},\"colorscale\":[[0.0,\"#0d0887\"],[0.1111111111111111,\"#46039f\"],[0.2222222222222222,\"#7201a8\"],[0.3333333333333333,\"#9c179e\"],[0.4444444444444444,\"#bd3786\"],[0.5555555555555556,\"#d8576b\"],[0.6666666666666666,\"#ed7953\"],[0.7777777777777778,\"#fb9f3a\"],[0.8888888888888888,\"#fdca26\"],[1.0,\"#f0f921\"]]}],\"contourcarpet\":[{\"type\":\"contourcarpet\",\"colorbar\":{\"outlinewidth\":0,\"ticks\":\"\"}}],\"contour\":[{\"type\":\"contour\",\"colorbar\":{\"outlinewidth\":0,\"ticks\":\"\"},\"colorscale\":[[0.0,\"#0d0887\"],[0.1111111111111111,\"#46039f\"],[0.2222222222222222,\"#7201a8\"],[0.3333333333333333,\"#9c179e\"],[0.4444444444444444,\"#bd3786\"],[0.5555555555555556,\"#d8576b\"],[0.6666666666666666,\"#ed7953\"],[0.7777777777777778,\"#fb9f3a\"],[0.8888888888888888,\"#fdca26\"],[1.0,\"#f0f921\"]]}],\"surface\":[{\"type\":\"surface\",\"colorbar\":{\"outlinewidth\":0,\"ticks\":\"\"},\"colorscale\":[[0.0,\"#0d0887\"],[0.1111111111111111,\"#46039f\"],[0.2222222222222222,\"#7201a8\"],[0.3333333333333333,\"#9c179e\"],[0.4444444444444444,\"#bd3786\"],[0.5555555555555556,\"#d8576b\"],[0.6666666666666666,\"#ed7953\"],[0.7777777777777778,\"#fb9f3a\"],[0.8888888888888888,\"#fdca26\"],[1.0,\"#f0f921\"]]}],\"mesh3d\":[{\"type\":\"mesh3d\",\"colorbar\":{\"outlinewidth\":0,\"ticks\":\"\"}}],\"scatter\":[{\"fillpattern\":{\"fillmode\":\"overlay\",\"size\":10,\"solidity\":0.2},\"type\":\"scatter\"}],\"parcoords\":[{\"type\":\"parcoords\",\"line\":{\"colorbar\":{\"outlinewidth\":0,\"ticks\":\"\"}}}],\"scatterpolargl\":[{\"type\":\"scatterpolargl\",\"marker\":{\"colorbar\":{\"outlinewidth\":0,\"ticks\":\"\"}}}],\"bar\":[{\"error_x\":{\"color\":\"#2a3f5f\"},\"error_y\":{\"color\":\"#2a3f5f\"},\"marker\":{\"line\":{\"color\":\"#E5ECF6\",\"width\":0.5},\"pattern\":{\"fillmode\":\"overlay\",\"size\":10,\"solidity\":0.2}},\"type\":\"bar\"}],\"scattergeo\":[{\"type\":\"scattergeo\",\"marker\":{\"colorbar\":{\"outlinewidth\":0,\"ticks\":\"\"}}}],\"scatterpolar\":[{\"type\":\"scatterpolar\",\"marker\":{\"colorbar\":{\"outlinewidth\":0,\"ticks\":\"\"}}}],\"histogram\":[{\"marker\":{\"pattern\":{\"fillmode\":\"overlay\",\"size\":10,\"solidity\":0.2}},\"type\":\"histogram\"}],\"scattergl\":[{\"type\":\"scattergl\",\"marker\":{\"colorbar\":{\"outlinewidth\":0,\"ticks\":\"\"}}}],\"scatter3d\":[{\"type\":\"scatter3d\",\"line\":{\"colorbar\":{\"outlinewidth\":0,\"ticks\":\"\"}},\"marker\":{\"colorbar\":{\"outlinewidth\":0,\"ticks\":\"\"}}}],\"scattermapbox\":[{\"type\":\"scattermapbox\",\"marker\":{\"colorbar\":{\"outlinewidth\":0,\"ticks\":\"\"}}}],\"scatterternary\":[{\"type\":\"scatterternary\",\"marker\":{\"colorbar\":{\"outlinewidth\":0,\"ticks\":\"\"}}}],\"scattercarpet\":[{\"type\":\"scattercarpet\",\"marker\":{\"colorbar\":{\"outlinewidth\":0,\"ticks\":\"\"}}}],\"carpet\":[{\"aaxis\":{\"endlinecolor\":\"#2a3f5f\",\"gridcolor\":\"white\",\"linecolor\":\"white\",\"minorgridcolor\":\"white\",\"startlinecolor\":\"#2a3f5f\"},\"baxis\":{\"endlinecolor\":\"#2a3f5f\",\"gridcolor\":\"white\",\"linecolor\":\"white\",\"minorgridcolor\":\"white\",\"startlinecolor\":\"#2a3f5f\"},\"type\":\"carpet\"}],\"table\":[{\"cells\":{\"fill\":{\"color\":\"#EBF0F8\"},\"line\":{\"color\":\"white\"}},\"header\":{\"fill\":{\"color\":\"#C8D4E3\"},\"line\":{\"color\":\"white\"}},\"type\":\"table\"}],\"barpolar\":[{\"marker\":{\"line\":{\"color\":\"#E5ECF6\",\"width\":0.5},\"pattern\":{\"fillmode\":\"overlay\",\"size\":10,\"solidity\":0.2}},\"type\":\"barpolar\"}],\"pie\":[{\"automargin\":true,\"type\":\"pie\"}]},\"layout\":{\"autotypenumbers\":\"strict\",\"colorway\":[\"#636efa\",\"#EF553B\",\"#00cc96\",\"#ab63fa\",\"#FFA15A\",\"#19d3f3\",\"#FF6692\",\"#B6E880\",\"#FF97FF\",\"#FECB52\"],\"font\":{\"color\":\"#2a3f5f\"},\"hovermode\":\"closest\",\"hoverlabel\":{\"align\":\"left\"},\"paper_bgcolor\":\"white\",\"plot_bgcolor\":\"#E5ECF6\",\"polar\":{\"bgcolor\":\"#E5ECF6\",\"angularaxis\":{\"gridcolor\":\"white\",\"linecolor\":\"white\",\"ticks\":\"\"},\"radialaxis\":{\"gridcolor\":\"white\",\"linecolor\":\"white\",\"ticks\":\"\"}},\"ternary\":{\"bgcolor\":\"#E5ECF6\",\"aaxis\":{\"gridcolor\":\"white\",\"linecolor\":\"white\",\"ticks\":\"\"},\"baxis\":{\"gridcolor\":\"white\",\"linecolor\":\"white\",\"ticks\":\"\"},\"caxis\":{\"gridcolor\":\"white\",\"linecolor\":\"white\",\"ticks\":\"\"}},\"coloraxis\":{\"colorbar\":{\"outlinewidth\":0,\"ticks\":\"\"}},\"colorscale\":{\"sequential\":[[0.0,\"#0d0887\"],[0.1111111111111111,\"#46039f\"],[0.2222222222222222,\"#7201a8\"],[0.3333333333333333,\"#9c179e\"],[0.4444444444444444,\"#bd3786\"],[0.5555555555555556,\"#d8576b\"],[0.6666666666666666,\"#ed7953\"],[0.7777777777777778,\"#fb9f3a\"],[0.8888888888888888,\"#fdca26\"],[1.0,\"#f0f921\"]],\"sequentialminus\":[[0.0,\"#0d0887\"],[0.1111111111111111,\"#46039f\"],[0.2222222222222222,\"#7201a8\"],[0.3333333333333333,\"#9c179e\"],[0.4444444444444444,\"#bd3786\"],[0.5555555555555556,\"#d8576b\"],[0.6666666666666666,\"#ed7953\"],[0.7777777777777778,\"#fb9f3a\"],[0.8888888888888888,\"#fdca26\"],[1.0,\"#f0f921\"]],\"diverging\":[[0,\"#8e0152\"],[0.1,\"#c51b7d\"],[0.2,\"#de77ae\"],[0.3,\"#f1b6da\"],[0.4,\"#fde0ef\"],[0.5,\"#f7f7f7\"],[0.6,\"#e6f5d0\"],[0.7,\"#b8e186\"],[0.8,\"#7fbc41\"],[0.9,\"#4d9221\"],[1,\"#276419\"]]},\"xaxis\":{\"gridcolor\":\"white\",\"linecolor\":\"white\",\"ticks\":\"\",\"title\":{\"standoff\":15},\"zerolinecolor\":\"white\",\"automargin\":true,\"zerolinewidth\":2},\"yaxis\":{\"gridcolor\":\"white\",\"linecolor\":\"white\",\"ticks\":\"\",\"title\":{\"standoff\":15},\"zerolinecolor\":\"white\",\"automargin\":true,\"zerolinewidth\":2},\"scene\":{\"xaxis\":{\"backgroundcolor\":\"#E5ECF6\",\"gridcolor\":\"white\",\"linecolor\":\"white\",\"showbackground\":true,\"ticks\":\"\",\"zerolinecolor\":\"white\",\"gridwidth\":2},\"yaxis\":{\"backgroundcolor\":\"#E5ECF6\",\"gridcolor\":\"white\",\"linecolor\":\"white\",\"showbackground\":true,\"ticks\":\"\",\"zerolinecolor\":\"white\",\"gridwidth\":2},\"zaxis\":{\"backgroundcolor\":\"#E5ECF6\",\"gridcolor\":\"white\",\"linecolor\":\"white\",\"showbackground\":true,\"ticks\":\"\",\"zerolinecolor\":\"white\",\"gridwidth\":2}},\"shapedefaults\":{\"line\":{\"color\":\"#2a3f5f\"}},\"annotationdefaults\":{\"arrowcolor\":\"#2a3f5f\",\"arrowhead\":0,\"arrowwidth\":1},\"geo\":{\"bgcolor\":\"white\",\"landcolor\":\"#E5ECF6\",\"subunitcolor\":\"white\",\"showland\":true,\"showlakes\":true,\"lakecolor\":\"white\"},\"title\":{\"x\":0.05},\"mapbox\":{\"style\":\"light\"}}},\"xaxis\":{\"anchor\":\"y\",\"domain\":[0.0,1.0],\"title\":{\"text\":\"Loss\"}},\"yaxis\":{\"anchor\":\"x\",\"domain\":[0.0,1.0],\"title\":{\"text\":\"Mean Anger Score\"},\"range\":[0,7],\"dtick\":1},\"legend\":{\"tracegroupgap\":0},\"title\":{\"text\":\"Anger vs. Loss\"}},                        {\"responsive\": true}                    ).then(function(){\n",
       "                            \n",
       "var gd = document.getElementById('60d41231-7513-4bd9-8999-f2af437569c3');\n",
       "var x = new MutationObserver(function (mutations, observer) {{\n",
       "        var display = window.getComputedStyle(gd).display;\n",
       "        if (!display || display === 'none') {{\n",
       "            console.log([gd, 'removed!']);\n",
       "            Plotly.purge(gd);\n",
       "            observer.disconnect();\n",
       "        }}\n",
       "}});\n",
       "\n",
       "// Listen for the removal of the full notebook cells\n",
       "var notebookContainer = gd.closest('#notebook-container');\n",
       "if (notebookContainer) {{\n",
       "    x.observe(notebookContainer, {childList: true});\n",
       "}}\n",
       "\n",
       "// Listen for the clearing of the current output cell\n",
       "var outputEl = gd.closest('.output');\n",
       "if (outputEl) {{\n",
       "    x.observe(outputEl, {childList: true});\n",
       "}}\n",
       "\n",
       "                        })                };                });            </script>        </div>"
      ]
     },
     "metadata": {},
     "output_type": "display_data"
    }
   ],
   "source": [
    "fig = px.line(x=losses_act, y=mean_scores_act, title=\"Anger vs. Loss\", labels={\"x\": \"Loss\", \"y\": \"Mean Anger Score\"}, markers=True)\n",
    "fig.add_scatter(x=losses_act, y=act_count_scores, mode='lines+markers', name='p(angry word)')\n",
    "fig.update_yaxes(range=[0, 7], dtick=1)\n",
    "fig.show()"
   ]
  },
  {
   "cell_type": "code",
   "execution_count": null,
   "metadata": {},
   "outputs": [],
   "source": []
  },
  {
   "cell_type": "code",
   "execution_count": null,
   "metadata": {},
   "outputs": [],
   "source": [
    "# sooming in on the good section of scales (around 0.8)"
   ]
  },
  {
   "cell_type": "code",
   "execution_count": 44,
   "metadata": {},
   "outputs": [],
   "source": [
    "scales = [0, 0.2, 0.4, 0.5, 0.6, 0.7, 0.8, 0.9, 1.0, 1.1]"
   ]
  },
  {
   "cell_type": "code",
   "execution_count": null,
   "metadata": {},
   "outputs": [],
   "source": [
    "mean_scores, all_scores, losses, word_probs = get_scores_and_losses(\n",
    "    model,\n",
    "    hp6,\n",
    "    steering_vector=steering,\n",
    "    prompt=prompt,\n",
    "    criterion=\"Anger\",\n",
    "    scales = scales,\n",
    "    n_samples=100,\n",
    "    insertion_pos=None,\n",
    "    explanations=False,\n",
    "    word_list = word_list,\n",
    ")"
   ]
  }
 ],
 "metadata": {
  "kernelspec": {
   "display_name": ".venv",
   "language": "python",
   "name": "python3"
  },
  "language_info": {
   "codemirror_mode": {
    "name": "ipython",
    "version": 3
   },
   "file_extension": ".py",
   "mimetype": "text/x-python",
   "name": "python",
   "nbconvert_exporter": "python",
   "pygments_lexer": "ipython3",
   "version": "3.10.14"
  }
 },
 "nbformat": 4,
 "nbformat_minor": 2
}
