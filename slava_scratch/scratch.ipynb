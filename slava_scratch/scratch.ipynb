{
 "cells": [
  {
   "cell_type": "code",
   "execution_count": 1,
   "metadata": {},
   "outputs": [
    {
     "data": {
      "text/plain": [
       "<torch.autograd.grad_mode.set_grad_enabled at 0x7f2860dcb910>"
      ]
     },
     "execution_count": 1,
     "metadata": {},
     "output_type": "execute_result"
    }
   ],
   "source": [
    "import os\n",
    "import sys\n",
    "sys.path.append(os.path.abspath('..'))\n",
    "\n",
    "import torch\n",
    "from torch.utils.data import DataLoader\n",
    "from transformer_lens import HookedTransformer\n",
    "from transformer_lens import utils as tutils\n",
    "from transformer_lens.evals import make_pile_data_loader, evaluate_on_dataset\n",
    "\n",
    "from functools import partial\n",
    "from datasets import load_dataset\n",
    "from tqdm import tqdm\n",
    "\n",
    "from sae_lens import SparseAutoencoder\n",
    "from sae_lens.toolkit.pretrained_saes import get_gpt2_res_jb_saes\n",
    "from sae_lens import SparseAutoencoder, ActivationsStore\n",
    "\n",
    "from steering.eval_utils import evaluate_completions\n",
    "from steering.utils import text_to_sae_feats, top_activations, normalise_decoder, get_activation_steering\n",
    "from steering.patch import generate, get_scores_and_losses, patch_resid\n",
    "\n",
    "from sae_vis.data_config_classes import SaeVisConfig\n",
    "from sae_vis.data_storing_fns import SaeVisData\n",
    "\n",
    "import plotly.express as px\n",
    "\n",
    "torch.set_grad_enabled(False)"
   ]
  },
  {
   "cell_type": "code",
   "execution_count": 2,
   "metadata": {},
   "outputs": [
    {
     "name": "stderr",
     "output_type": "stream",
     "text": [
      "/home/slava/safety/steering/.venv/lib/python3.10/site-packages/huggingface_hub/file_download.py:1132: FutureWarning: `resume_download` is deprecated and will be removed in version 1.0.0. Downloads always resume when possible. If you want to force a new download, use `force_download=True`.\n",
      "  warnings.warn(\n",
      "Gemma's activation function should be approximate GeLU and not exact GeLU.\n",
      "Changing the activation function to `gelu_pytorch_tanh`.if you want to use the legacy `gelu`, edit the `model.config` to set `hidden_activation=gelu`   instead of `hidden_act`. See https://github.com/huggingface/transformers/pull/29402 for more details.\n"
     ]
    },
    {
     "data": {
      "application/vnd.jupyter.widget-view+json": {
       "model_id": "31eac974c8a74538b47fae9c007a855f",
       "version_major": 2,
       "version_minor": 0
      },
      "text/plain": [
       "Loading checkpoint shards:   0%|          | 0/2 [00:00<?, ?it/s]"
      ]
     },
     "metadata": {},
     "output_type": "display_data"
    },
    {
     "name": "stderr",
     "output_type": "stream",
     "text": [
      "WARNING:root:You are not using LayerNorm, so the writing weights can't be centered! Skipping\n"
     ]
    },
    {
     "name": "stdout",
     "output_type": "stream",
     "text": [
      "Loaded pretrained model gemma-2b into HookedTransformer\n"
     ]
    }
   ],
   "source": [
    "device = torch.device(\"cuda\" if torch.cuda.is_available() else \"cpu\")\n",
    "model = HookedTransformer.from_pretrained(\"gemma-2b\", device=device)"
   ]
  },
  {
   "cell_type": "code",
   "execution_count": 3,
   "metadata": {},
   "outputs": [
    {
     "name": "stdout",
     "output_type": "stream",
     "text": [
      "Warning: scaling input is experimental!\n"
     ]
    }
   ],
   "source": [
    "hp6 = \"blocks.6.hook_resid_post\"\n",
    "hp12 = \"blocks.12.hook_resid_post\"\n",
    "sae12 = SparseAutoencoder.from_pretrained(\"gemma-2b-res-jb\", hp12)\n",
    "normalise_decoder(sae12, scale_input=True)\n",
    "sae12 = sae12.to(device)\n",
    "\n",
    "\n",
    "sae6 = SparseAutoencoder.from_pretrained(\"gemma-2b-res-jb\", hp6)\n",
    "normalise_decoder(sae6, scale_input=False)\n",
    "sae6 = sae6.to(device)"
   ]
  },
  {
   "cell_type": "code",
   "execution_count": 4,
   "metadata": {},
   "outputs": [
    {
     "data": {
      "text/plain": [
       "(tensor([[[25.9705, 24.4213, 24.0417, 22.5076, 14.2997, 10.6286,  8.4462,\n",
       "            6.7500,  5.1569,  4.9748],\n",
       "          [12.4683,  9.5918,  6.3518,  4.3895,  2.6166,  2.4245,  1.9347,\n",
       "            1.2328,  1.1585,  0.9953],\n",
       "          [11.0023,  5.0192,  4.7240,  4.3666,  3.6535,  2.5568,  1.5029,\n",
       "            1.3582,  0.9921,  0.9623],\n",
       "          [ 7.2850,  3.8669,  2.9988,  2.5302,  2.3834,  1.9475,  1.9330,\n",
       "            1.5817,  1.5285,  1.3745],\n",
       "          [16.2181,  3.1115,  2.9495,  2.1953,  1.6427,  1.5833,  1.5298,\n",
       "            1.4020,  1.3613,  1.3428]]], device='cuda:0'),\n",
       " tensor([[[ 8731, 10841,  5233,  3048,  1645, 11597,  6099,  7650,  6802,  8618],\n",
       "          [ 5611, 13161, 12885,  4966, 10323, 12492,  7971, 10662,  3998, 14956],\n",
       "          [ 4760, 15364,  7005,  7503, 10323, 14664, 15468,  4966,  3561,  7971],\n",
       "          [ 6353, 15978, 10323, 15364,  6723,  3998, 14664,  2847,  7971, 16257],\n",
       "          [ 9099,  9549,  9331, 10323, 10108,  7492, 13389, 12101,  6848, 13270]]],\n",
       "        device='cuda:0'))"
      ]
     },
     "execution_count": 4,
     "metadata": {},
     "output_type": "execute_result"
    }
   ],
   "source": [
    "top_activations(text_to_sae_feats(model, sae12, hook_point=hp12, text=\"I talk about weddings\"))"
   ]
  },
  {
   "cell_type": "code",
   "execution_count": 5,
   "metadata": {},
   "outputs": [],
   "source": [
    "# steering = sae12.W_dec[9099] * 75  # weddings\n",
    "steering = sae12.W_dec[9099] * 16  # weddings\n",
    "steering = steering[None, None, :]"
   ]
  },
  {
   "cell_type": "code",
   "execution_count": 6,
   "metadata": {},
   "outputs": [
    {
     "name": "stdout",
     "output_type": "stream",
     "text": [
      "['<bos>', 'I', ' went', ' up', ' to', ' my', ' friend', ' and', ' said']\n"
     ]
    }
   ],
   "source": [
    "prompt = \"I went up to my friend and said\"\n",
    "scale = 10\n",
    "print(model.to_str_tokens(prompt))"
   ]
  },
  {
   "cell_type": "code",
   "execution_count": 7,
   "metadata": {},
   "outputs": [
    {
     "name": "stderr",
     "output_type": "stream",
     "text": [
      "100%|██████████| 5/5 [00:05<00:00,  1.13s/it]\n"
     ]
    },
    {
     "data": {
      "text/plain": [
       "['I went up to my friend and said, celebrating at is train in invitation. planning will tea, spa, and or anniversary henna leh photo',\n",
       " 'I went up to my friend and said, day party and planner at planner of planner planning for invitation and gown planning.! planning band cake',\n",
       " 'I went up to my friend and said day plans planning party of. 1 march from plan planning week weekend planner dream planning in budget reception',\n",
       " 'I went up to my friend and said dressed cost cost cake my planner date re \\n\\n day dress cake with decoration ceremony feast made planning  ',\n",
       " 'I went up to my friend and said. we are vibes and we playlist we vows we in. at story in you day in 2']"
      ]
     },
     "execution_count": 7,
     "metadata": {},
     "output_type": "execute_result"
    }
   ],
   "source": [
    "\n",
    "generate(model,\n",
    "         \"blocks.9.hook_resid_post\",\n",
    "        #  \"blocks.12.hook_resid_post\",\n",
    "         prompt,\n",
    "         steering_vector=steering,\n",
    "         scale=scale,\n",
    "         insertion_pos=None,\n",
    "         max_length=20,\n",
    "        )\n"
   ]
  },
  {
   "cell_type": "code",
   "execution_count": null,
   "metadata": {},
   "outputs": [],
   "source": []
  },
  {
   "cell_type": "code",
   "execution_count": 8,
   "metadata": {},
   "outputs": [
    {
     "name": "stdout",
     "output_type": "stream",
     "text": [
      "pad tensor([], device='cuda:0', size=(1, 0), dtype=torch.int64)\n",
      "tensor([[[ 0.0000,  0.0000,  0.0000,  ...,  0.0000,  0.0000,  0.0000],\n",
      "         [ 0.4653, -0.9298, -0.2396,  ..., -1.5924,  0.3313, -0.1270]]],\n",
      "       device='cuda:0')\n",
      "torch.Size([1, 1, 2048])\n",
      "tensor(91.0582, device='cuda:0')\n"
     ]
    }
   ],
   "source": [
    "act_steering = get_activation_steering(model, hp6, \"Anger\", \"Calm\")\n",
    "print(act_steering)\n",
    "act_steering = act_steering.sum(dim=1, keepdim=True)\n",
    "print(act_steering.shape)\n",
    "print(torch.norm(act_steering))"
   ]
  },
  {
   "cell_type": "code",
   "execution_count": 9,
   "metadata": {},
   "outputs": [
    {
     "name": "stderr",
     "output_type": "stream",
     "text": [
      "100%|██████████| 5/5 [00:05<00:00,  1.06s/it]\n"
     ]
    },
    {
     "data": {
      "text/plain": [
       "['I think that <b><b><b><b> -anger - - ... ... - - ... ... - 8 - -',\n",
       " 'I think that <strong>aleinlickvieor -s origond between -s vreye osob...u thefts',\n",
       " 'I think that felt for his trait -the...\"      \\nemasurusa as enderas ... > |  pris',\n",
       " 'I think that made \"ill or in - • • ...\" 9-לס - - ... - oturus r',\n",
       " 'I think that for thebacher-warranri\"f( ... _____ sittor thereforvironsons(englansvin']"
      ]
     },
     "execution_count": 9,
     "metadata": {},
     "output_type": "execute_result"
    }
   ],
   "source": [
    "prompt = \"I think that\"\n",
    "scale = 2\n",
    "\n",
    "generate(model,\n",
    "        hp6,\n",
    "        #  \"blocks.12.hook_resid_post\",\n",
    "         prompt,\n",
    "         steering_vector=act_steering,\n",
    "         scale=scale,\n",
    "         insertion_pos=None,\n",
    "         max_length=20,\n",
    "        )"
   ]
  },
  {
   "cell_type": "code",
   "execution_count": null,
   "metadata": {},
   "outputs": [],
   "source": []
  },
  {
   "cell_type": "code",
   "execution_count": 10,
   "metadata": {},
   "outputs": [
    {
     "data": {
      "text/plain": [
       "(tensor([[[24.4932, 23.9630, 23.2544, 21.0681, 20.9372, 20.6655, 20.3199,\n",
       "           19.8953, 19.0510, 18.4377],\n",
       "          [56.7609, 14.0818, 12.2185, 11.2966, 10.9838,  9.4307,  8.0595,\n",
       "            7.1658,  7.1005,  5.8064]]], device='cuda:0'),\n",
       " tensor([[[ 3390, 15881,  5347, 16334,   556,  8704, 11785,  5624,  5396,  6877],\n",
       "          [ 1062, 12753,  1213, 11968, 12167,  5915,  2491, 15173, 11912, 12312]]],\n",
       "        device='cuda:0'))"
      ]
     },
     "execution_count": 10,
     "metadata": {},
     "output_type": "execute_result"
    }
   ],
   "source": [
    "top_activations(text_to_sae_feats(model, sae6, hook_point=hp6, text=\"Anger\"))"
   ]
  },
  {
   "cell_type": "code",
   "execution_count": 11,
   "metadata": {},
   "outputs": [],
   "source": [
    "steering = sae6.W_dec[1062] * 56  # anger\n",
    "# steering += sae12.W_dec[12312] * 10  # anger\n",
    "steering = steering[None, None, :]"
   ]
  },
  {
   "cell_type": "code",
   "execution_count": 12,
   "metadata": {},
   "outputs": [
    {
     "name": "stderr",
     "output_type": "stream",
     "text": [
      "100%|██████████| 5/5 [00:06<00:00,  1.32s/it]\n"
     ]
    },
    {
     "data": {
      "text/plain": [
       "['I think an even worse problem is that I feel very hateful towards other people, and would like the one person to become a god-',\n",
       " 'I think this game is full of humor, and I definitely have learned this really hard from my daddy. I came up with a whole',\n",
       " 'I think I may have found what is turning out to be ballot tabulation software.  (  <b><i>  this  </i></b>\\n\\n',\n",
       " 'I think so too for Abu well that is how you teach\\n1)Anger and violence\\n\\n\\n10 years passed and anger to zero',\n",
       " 'I think, the husband told me\", it is the biological definition of a person - but quickly receipts. Anger is a weapon, more']"
      ]
     },
     "execution_count": 12,
     "metadata": {},
     "output_type": "execute_result"
    }
   ],
   "source": [
    "prompt = \"I think\"\n",
    "scale = 0.8\n",
    "\n",
    "generate(model,\n",
    "        hp6,\n",
    "         prompt,\n",
    "         steering_vector=act_steering,\n",
    "         scale=scale,\n",
    "         insertion_pos=None,\n",
    "         max_length=25,\n",
    "        )"
   ]
  },
  {
   "cell_type": "code",
   "execution_count": 17,
   "metadata": {},
   "outputs": [],
   "source": [
    "scales = [0, 0.1, 0.2, 0.4, 0.6, 0.8, 1, 1.5, 2, 3, 4, 5]"
   ]
  },
  {
   "cell_type": "code",
   "execution_count": 18,
   "metadata": {},
   "outputs": [
    {
     "name": "stdout",
     "output_type": "stream",
     "text": [
      "loading dataset: NeelNanda/c4-code-20k\n",
      "dataset loaded\n"
     ]
    },
    {
     "name": "stderr",
     "output_type": "stream",
     "text": [
      "100%|██████████| 12/12 [00:37<00:00,  3.16s/it]\n"
     ]
    },
    {
     "name": "stdout",
     "output_type": "stream",
     "text": [
      "scale 0\n"
     ]
    },
    {
     "name": "stderr",
     "output_type": "stream",
     "text": [
      "100%|██████████| 50/50 [00:53<00:00,  1.08s/it]\n"
     ]
    },
    {
     "name": "stdout",
     "output_type": "stream",
     "text": [
      "[\"I think if you're feeling a palpable fear a lot, like always being in a state of high alert\", 'I think I got it, at least for addition and multiplication:\\n\\n<math xmlns=\"http://www.', 'I think first I needed to find a wife that will look after a single drinker! Better yet, a user', 'I think it is necessary to include an image with your question.\\n\\nSir\\nI approach u as humbly as', \"I think two of the best recommendations that anyone who has elbow pain can do is massage therapy and new butcher'\", 'I think this is another example of the Christmas wave bringing those \"Hooray Hooray\" and \"Look at', 'I think the answers of both the questions are in definition. $V$ has a topology induced by some metric', 'I think it would make a great coffee break activity. Interact Sentence 2\\n\\nI think such a game is', \"I think you should have a virtual substation, and then refer to it. It doesn't have to be\", 'I think that Old Trafford will be the destination for Faith Uzoma\\n\\nI’m not sure if it', 'I think it depends on who you are.\\n\\nAnyone who succeeds, enjoys what they are doing.\\n\\nCompared', 'I think there is definitely some room here for debate. I realize it is difficult to define how a typical “', 'I think you need first to add your *current* color as a transparency or a pattern and copy it into', 'I think yours is defective because mine has lasted for over 2 weeks. My appointment is next week. Best', 'I think taking <code>ARRAY[VAR(@0)->sum.val</code> out is fine.\\n\\n<strong>Approach', 'I think it would be mad to fight over best visible traits. The ships difference is just so much better.', 'I think that, in most UK households, rhubarb cordial is essential. It goes with ice cream, to be', 'I think this photo booth cannot be done right! From the looks of her shoes.\\nThose wire bangles and', 'I think my house is winding down, purr-fectly, and will be in a transition mode for', 'I think the WWE needs to call it. In the televised shoot last night, Danny Burch & Oney Lor', 'I think it is best to access the situation using problem solving as you have been doing. I do not know', \"I think he's saying, Life is like a battery.\\n\\n- Albert Einstein\\n\\nOr it' s\", 'I think all viruses rely on the host cell to supply them with energy which they are dependent upon as they are', 'I think that we, old Harley fans (not Kegs) need to get serious about our collectibles. I', 'I think there passions are in the physical world\\n\\nYes he has allround talent but his good looks is a', 'I think you should take a look at voicemail revealing, the site is great there are a lot of voluminous information', 'I think this may be a good opportunity to discuss \"how the muni bond works\" more properly if pensions already', \"I think it's time for this show to become a reality. We've come this far (not\", 'I think there should be better interface for console to start contiki with different operating system, with special device file', 'I think this is a 6th edition set otherwise I would like to sell you on a much more piled', 'I think Dennys popcorn chicken might be the single most fatty and unhealthy thing at a restaurant. I remember when', 'I think it depends, and what is acceptable to you. I am conscious that my dog has not been social', 'I think we’re going to make it through the rest of the season, though not without a fair amount', \"I think you're going to have a problem with that sort of content, honestly. It's just\", \"I think its a valid option, but it's not implemented.\\nHowever, this will be supported in\", 'I think it is a camellia\\n\\nyes it could also be bamboo, a small flowering variety..hard to', 'I think Ben is about XX months too.\\nMine was born at the same time and was two then (', 'I think Wendy ChセS is simply trying to out-cute Olivia StapDanR. Pretty good mon', 'I think it is far more realistic (and poetic) to allow a mage who has spent ages learning large and', 'I think you may want to change your upstairs and never be stuck there again\\n\\nDO IT!!!\\n\\nBoth our', \"I think at 11 I got a job slinging meat at Charlie's Burger. The job,\", 'I think I have an issue with iWant. I installed the app last week and every time I attempt to', 'I think I may have the best job in the world. One of the reasons I am most excited about today', 'I think you can only get one set of quantities. However there are workarounds that I know of.\\n\\n', \"I think you've removed the brake pedal and bleeders are vulnerable to the ambience of the inner parts of\", 'I think after the first Baby Animal Cry for a baby animal there should be a very short countdown in which some', 'I think all deposits can be tracked via your statement. Given the above query, let me validate the process on', \"I think we'll add that manually (for the summer holidays and winter outings; maybe we should add the\", 'I think this is still a thing - I saw it on a talk show and then on one of the news', \"I think it is the story of Fai D.C\\n\\na cancelled story about the Light Anthem's Ark\"]\n",
      "[{'score': 1}, {'score': 1}, {'score': 2}, {'score': 1}, {'score': 1}, {'score': 1}, {'score': 1}, {'score': 1}, {'score': 1}, {'score': 1}, {'score': 1}, {'score': 1}, {'score': 1}, {'score': 2}, {'score': 1}, {'score': 2}, {'score': 1}, {'score': 2}, {'score': 1}, {'score': 1}, {'score': 1}, {'score': 1}, {'score': 1}, {'score': 2}, {'score': 1}, {'score': 1}, {'score': 1}, {'score': 1}, {'score': 1}, {'score': 1}, {'score': 2}, {'score': 1}, {'score': 1}, {'score': 2}, {'score': 1}, {'score': 1}, {'score': 1}, {'score': 1}, {'score': 1}, {'score': 3}, {'score': 1}, {'score': 2}, {'score': 1}, {'score': 1}, {'score': 2}, {'score': 1}, {'score': 1}, {'score': 1}, {'score': 1}, {'score': 1}]\n",
      "mean 1.22\n",
      "scale 0.1\n"
     ]
    },
    {
     "name": "stderr",
     "output_type": "stream",
     "text": [
      "100%|██████████| 50/50 [00:53<00:00,  1.08s/it]\n"
     ]
    },
    {
     "name": "stdout",
     "output_type": "stream",
     "text": [
      "['I think m.x means the mode is more extreme,\\nbecause if you shuffle the indices, e.', 'I think I see what kind of sht your talking about here.\\n\\nLowering headsets is normal due to', 'I think we’ve heard every reason racism has not affected Barça enough\\n\\n1: Manchester United should have been', 'I think the 49ers’ 22-10 win last week over Seattle did at least', \"I think you're supposed to make like a snow flurrrrrrry. i stuck to this new-\", 'I think you <strong>need</strong> to compile these lists using a static <code>.pm</code> with ways to', 'I think he should use his sleuther art, what do you think? if not, xie keen just', 'I think I have a yeast infection ( I think because I am on an anti ulcer med and doctor acted like', 'I think I am having the same problem. My machine only does it when I am on wireless, not trouble', \"I think that image has given me a nice stretch of the imagination, and it's very MOCo of\", \"I think it's a Reddit badge. You can get it in your main terminal, or you could use\", 'I think that makes sense. Display the value and pad it out to three signifigant digits. Something like', 'I think a Canon would be a closer match. R5 Lite or Tev3m3 have more aspects than', 'I think maybe Peter Barlow wants to be Free Will\\n\\nPretty fast the Red Theme(Black theme is already enough', 'I think they were thrilled to get something such a big thing to put in the early and close it all off', 'I think it’s your house! And a matter of a deposit and怎么做 קרמי求助存零', 'I think there are novice philosophers that this will annoy but after reading a number of threads on here & seeing a', 'I think this shouldn’t come as a surprise but most regulars on my vlog will know how much I love', 'I think we are already past TCF 2.0 coming in April. But working on a few things', \"I think it comes from the fact that he hasn't been playing football recently (because of how important he\", 'I think to myself (Taggert)\\n\\nyou wonder why thing after thing\\n\\nyou wonder why\\n\\nI think', 'I think the conventions are:\\n\\n* Fred has a height of 5\\'11\" (no,', 'I think people may be confusing hackwork with actionscript examples. While you are quite comfortable using actionscript(', 'I think of when Wollman Rink opens for the winter season -- when city saloons, such as \"No', \"I think you are right.  It doesn't compute that 110% is too small a\", 'I think this has been discussed a lot already, and pretty much amounts to a wimpy trailer with HRED', 'I think I have to say that after writing my first being literate comic(sarcomentery lol) about the', 'I think it’s safe to say that most of you who own or have owned horses (and that’', 'I think I may find where the leak is coming from. I noticed the bulk head between the tank to the', 'I think this is a reasonable representation.\\n\\n\"America uses 230% of annual water faster than', 'I think it is so very important to teach our children kindness and compassion. I’m trying to teach my', 'I think many of us on here will be able to relate to this post because I can wholeheartedly say it is', \"I think that made sense and it's not a control when it's done it for a specific purpose\", 'I think he makes a good point about the language thing in case it came up at work. When will we', 'I think this can be pretty much exclusively imparted from myself. If you need something from your spouse for something else', \"I think the port side then stern. It isn't sexy, but everything is a compromise.  you\", \"I think this will be the last, of many, dumb questions I've asked on here. Step three\", 'I think of what jumping to other websites happened to me to me today. It happened to me after I started', 'I think the reason is that the sides of the box are aligned to the x-axis (choosing two boxes', 'I think the original message was this by Jim-\\n\\nA biochemist is driving a tank of radioactive poison gas', \"I think I have some qPCR papers here somewhere, but can't locate them yet. I did not have\", 'I think I see the problem ... are you using 10.05.2? you need to', \"I think it's another sign of this administration's grief unlike any that Obama has ever filled our country\", 'I think most people who throw bottles out by the side of the road know that the consequences of that can be', 'I think you try to save a picture to the server which is already there in memory, make a command and', 'I think it was during the Discussion בפברואר “ מסיבה לדון על מקומי (\"funeep', 'I think it all boils down to face paint-ing. Really. Sometimes it takes me longer, sometimes faster', 'I think the usefulness of <code>[Стук объединений]</code> (together with \"они\")\\r\\nis', 'I think there is an unwritten law that when one woman is blessed with babies they are delivered by midwives but if', 'I think the Crew gets more in cheaper seats than in more expensive seats. Hence why you dont see many of']\n",
      "[{'score': 1}, {'score': 4}, {'score': 7}, {'score': 1}, {'score': 1}, {'score': 1}, {'score': 1}, {'score': 1}, {'score': 1}, {'score': 1}, {'score': 1}, {'score': 1}, {'score': 1}, {'score': 1}, {'score': 1}, {'score': 1}, {'score': 2}, {'score': 1}, {'score': 1}, {'score': 1}, {'score': 1}, {'score': 1}, {'score': 1}, {'score': 1}, {'score': 1}, {'score': 2}, {'score': 1}, {'score': 1}, {'score': 1}, {'score': 1}, {'score': 1}, {'score': 1}, {'score': 1}, {'score': 1}, {'score': 1}, {'score': 1}, {'score': 2}, {'score': 1}, {'score': 1}, {'score': 2}, {'score': 1}, {'score': 1}, {'score': 5}, {'score': 2}, {'score': 1}, {'score': 1}, {'score': 1}, {'score': 1}, {'score': 1}, {'score': 1}]\n",
      "mean 1.36\n",
      "scale 0.2\n"
     ]
    },
    {
     "name": "stderr",
     "output_type": "stream",
     "text": [
      "100%|██████████| 50/50 [00:53<00:00,  1.08s/it]\n"
     ]
    },
    {
     "name": "stdout",
     "output_type": "stream",
     "text": [
      "['I think its pretty unlikely... In absolutely all of the games that William has played, no one has complained for', \"I think I was asked once about Macho Man Randy Savage's reaction to Alundra Blayze\", 'I think Ghostbusters is a really good idea. Not just the animation but his expression. When you think about', 'I think they made both of them to look bad for C3-103 and her rioting was', \"I think I went a little crazy. That's if the guy starts to complain I'll give him\", 'I think it’s safe to say these days that not everyone gets so tweets me up by them after having', \"I think it's interesting that there are two meditating Buddhas in this painting. Very picturesque. This artwork\", 'I think that in order to have a self-opinionated and full of knowledge about a character it is necessary', 'I think that the second gene is the important one. I think that you might think of how the problem will', 'I think a part of my soul continues watching, Will of the Wisp is a great series and perhaps when', 'I think the cuck looks like he should take a shit.\\nBeing a Game Freak fan it just barely helps', \"I think this is a very good deal, especially for aviation lovers\\n\\nand I love Dragon Age so I'\", \"I think it could easily be a trap card.\\nIt could be used on three monsters because it's\", 'I think they can add smooth movement like good frames, I hope so it will be good, who ever is', 'I think this pie would taste better with fruit, also that it feels a lot longer were you able to wake', 'I think you probably all guessed that I don’t cross dominations in my cookery. I have an', 'I think this is a bit of an over-reaction as he is only a couple of days away from getting', 'I think it’s interesting how much guys take pride in their lifted trucks and decide that they need it to', 'I think I barely needed to give my itsy-bitsy refrigerator shelves and jar-stoppers a good', \"I think it's great that there are some positive reviews for this product and that people seem to be getting\", 'I think what is happening is that YTD is displaying as the users current balance to date and not actually requiring', 'I think this is from the Addams Family. Wanted to do a mini movie (design wars 4 style)', 'I think the expectation management that truthfully says what we are obviously probably a value added activity for already purchases via third', 'I think Faye has learned some comfort foods out of her mother. She is very clueless when it comes to even', \"I think something isn't going to work without the code, so let's see if I can get\", \"I think I've now successfully gotten through half of the 100 Days Project that took up one\", 'I think the burrito was good, no complaints. However, my peppered steak and bean burrito was served cold', \"I think this makes more sense when the missile is mounted too :\\n\\n\\nHow the f''''kin hell is that\", \"I think you're already there... Let's review:\\nYou sort candles by color, then manually\", 'I think this is the first strong ASI I\\'ve read, well aside from \"Half Japanese Quarter\".', 'I think it goes without saying that I\\'ve been disappointed with the \"Big Gulp\"! Ive been to', 'I think I might be making an error in my work. I found my two levers on the left side but', \"I think I remember <i>Mad Men</i>'s Pete being a past-it secondhand smoke supply. I\", 'I think HR would be fine.\\n\\nEagle calendar ends in 12 months. About 1 week before', 'I think it is a case of fact vs opinion, and the conclusion from the article isn’t terribly likely', 'I think I’ve beaten the wheel of fortune slowly since then, just getting caught up in the hordes or', 'I think all parents bring their kids along to nature, wildlife and to local history sites, but I was interested', 'I think the people who complain about the lack of equipment and CG to show are suffering from denial/ casualty compensation', 'I think the panorama was a great thing, they just need to make things inline the way I have the design', \"I think I have found even better because pictures are worth more than words! My yurt didn't just have\", 'I think I got the answers for all your questions.... Our move was worst ever....\\n\\nAfter our first night', 'I think there are a lot of people that might like this question in case one or more of these things interest', 'I think @deadsnowstorm has a good post on this in the Following your dream Online program! section', 'I think I have different setup in place since few months, mind sharing where to you see that?\\n\\nd', \"I think that it's very important to get better at determination. Because you can choose better the path you\", 'I think it might be a long process to get fixed, due to the connection involving many users.\\nIt', 'I think, if the \"evaluation phase\" of a control law is correctly chosen, something like the following strategy', 'I think I prefer the snugger fit of the E46.\\nbut the E36 is the', 'I think I might know where I found a similar post that I looked at when working on this post.\\n\\n', 'I think you would be right about the meting really being back, but it took a very long time.']\n",
      "[{'score': 1}, {'score': 1}, {'score': 1}, {'score': 3}, {'score': 3}, {'score': 1}, {'score': 1}, {'score': 1}, {'score': 1}, {'score': 1}, {'score': 7}, {'score': 1}, {'score': 1}, {'score': 1}, {'score': 1}, {'score': 1}, {'score': 2}, {'score': 1}, {'score': 1}, {'score': 1}, {'score': 1}, {'score': 1}, {'score': 1}, {'score': 1}, {'score': 1}, {'score': 1}, {'score': 2}, {'score': 8}, {'score': 1}, {'score': 1}, {'score': 5}, {'score': 1}, {'score': 1}, {'score': 1}, {'score': 1}, {'score': 1}, {'score': 1}, {'score': 3}, {'score': 1}, {'score': 1}, {'score': 3}, {'score': 1}, {'score': 1}, {'score': 1}, {'score': 1}, {'score': 1}, {'score': 1}, {'score': 1}, {'score': 1}, {'score': 1}]\n",
      "mean 1.54\n",
      "scale 0.4\n"
     ]
    },
    {
     "name": "stderr",
     "output_type": "stream",
     "text": [
      "100%|██████████| 50/50 [00:53<00:00,  1.08s/it]\n"
     ]
    },
    {
     "name": "stdout",
     "output_type": "stream",
     "text": [
      "[\"I think you'd probably be better off updating cargo itself.\\nI put all my dependencies in a linked\", 'I think some a-hole property manager took the money from our agressment and got caught by the husband', 'I think based on other posts that this MIGHT be useful.\\n\\nI have a document group that is broken up', \"I think this might be the actual bitemark for Leeway's Class masked at a specific point in\", 'I think there must be something wrong with Amazon because I still have the same issue, even 15 years', 'I think most of us will agree that no one enjoys being shouted at, bullied or called names. I would', \"I think i've found my limit for the impedance issue. Anyway seems crazy to me from the pic it\", 'I think this might be a red herring. What made the client unhappy was the advisory made to split the capital', 'I think .5% would be too high for the deeper tone. The tone should be around 1%', 'I think you need to also manage your expectations here. Tech wise this game is four years behind the real life', 'I think changing tech is like changing old bank checking accounts to modern online checking accounts. It took me a minute', 'I think we can all agree that movies being violent is a relief for many of us. For the most part', \"I think missing wall (missing pawn)- I've never seen that before. I was just thinking why aren\", 'I think we can all agree that a one-size-fits-all approach to housing would suck and end', 'I think there may be some confusion when it comes to the original cartoon.....the original cartoon was a much faster', \"I think it makes the most sense to get those straight away so you don't end up where you did\", \"I think I found the root cause for this issue, but not sure if it's the same fix.\", 'I think Modiji is going to float a new currency notes for people.\\nNote :- Dear illiterates', 'I think you are right, I just tried one more sample program, see if you got the same results:', 'I think it would be real nice if LOSAN was allowed to switch to the GP door. Just consider the', 'I think that you have to realize I am normally a very happy and positive person so please do not be offended', 'I think Chevalier playing against the Pac-Man and nice shot! Now that I think about it, me and', 'I think animals are helpful\\nOur hopes and dreams could be possible\\nWhatever they do may hurts us\\nBut', \"I think you would have to disable proxy for mach\\n\\nah well... i see it's not working because\", 'I think I am not able to properly describe the severity of what we feel. I send my condolences and prayers', 'I think we can talk, we’re all staring too. My, my, my. Fix your face', \"I think it's conflicting the idea of independent from men and women as being to attack other women but take\", 'I think most folks would go with 22.2 unless they are mushrooming just to get a higher', 'I think baby & toddlers are the coolest party theme, as kids are so immature, impulsive, and wild,', 'I think I remember that the Twineburn Society said permanent ramification no later than or shortly after Nubian', \"I think it was Friday afternoon, and I had just come off the iPad's great shackles, to discover\", 'I think this is mostly 100% true for all retards, also \"the true mentally ill\"', 'I think we’d all agree that it seems like another stranger takes a photo of you and posts it online', 'I think the idea on lawsuits proposed by mr Charles in, to me was a bit much just so someone can', 'I think if Liza was the one to pick Timid Timid because she still loves him. -- Sorry if', 'I think it boils down to\\nthe fact that the author who wrote the work (or one of the authors', 'I think we’re both conscious of this, and probably moreso someone like you who创建分支 from your', \"I think the one who made it wouldn't but here you go.\\nThis is the lightest mobile phone\", 'I think it\\'s a little unfair that he\\'s not recognized as much for his \"on-screen', 'I think I have a problem with those definitions\\n\\nNumber definition\\n\\na derivative of a function is the slope of', \"I think he's right about that. I think that someone who wasn't facinating would have\", \"I think I've just gone insane and can't go on with this song :(\\n\\nThis is so\", 'I think the criticism about Nelson Peltz should be aimed at the SEC rather than at him although I certainly don', 'I think he is out of work due to the fact of no attending his job. Why do you think he', \"I think I loose an orbit every time I overload my mech pilot.\\nThere's no reasonable explanation in\", \"I think a lot people don't understand how 99% of the pokemon universe is grasping and piss\", \"I think it might be my subconscious putting messages into my head so I don't recognize every single swear word\", 'I think giving free hot water and plastic bottles overnight to commuters is just insane because there are thousands of cold bottles', 'I think I’ve mentioned, I can bake~ I have so many cakes and uses of them that I', \"I think there's an email floating around irc at being found at (Livcunt@globefire.\"]\n",
      "[{'score': 1}, {'score': 6}, {'score': 1}, {'score': 1}, {'score': 5}, {'score': 2}, {'score': 1}, {'score': 1}, {'score': 1}, {'score': 3}, {'score': 1}, {'score': 1}, {'score': 1}, {'score': 2}, {'score': 1}, {'score': 2}, {'score': 1}, {'score': 3}, {'score': 1}, {'score': 1}, {'score': 1}, {'score': 1}, {'score': 2}, {'score': 1}, {'score': 1}, {'score': 3}, {'score': 3}, {'score': 1}, {'score': 2}, {'score': 1}, {'score': 1}, {'score': 8}, {'score': 2}, {'score': 2}, {'score': 1}, {'score': 1}, {'score': 1}, {'score': 1}, {'score': 2}, {'score': 1}, {'score': 1}, {'score': 2}, {'score': 2}, {'score': 1}, {'score': 1}, {'score': 6}, {'score': 1}, {'score': 2}, {'score': 1}, {'score': 6}]\n",
      "mean 1.9\n",
      "scale 0.6\n"
     ]
    },
    {
     "name": "stderr",
     "output_type": "stream",
     "text": [
      "100%|██████████| 50/50 [00:53<00:00,  1.08s/it]\n"
     ]
    },
    {
     "name": "stdout",
     "output_type": "stream",
     "text": [
      "['I think my mind has been whirled out of the oven by the noise of my opponent’s childish words', 'I think it is odd how small it is. I can see if I was bought at $15.', \"I think most 'clinchers' (though I may be wrong about that) at least worked very hard\", 'I think I’m done with the <em>Abbey Road</em> heat; I hope it’s only superficial', \"I think that I'm starting to fly crazy!\\n\\nI think that I'm starting to fly crazy\", 'I think AWP is going to be nice. It will be pretty wet for a few days. It is', 'I think your thinking names family members because the character also want their elder to not get in my face, please', 'I think so every day!\\n\\nI posted the same a couple of hours ago.\\n\\nI don’t', 'I think this is explained well and otherwise ours could turn out looking like this...\\n<i>Hetalia draw', 'I think I was kind of thrown when my other vex recently broke about a year and half ago. Ive been', 'I think I might have should’ve been more demanding, I have only one leech at level 1 so', 'I think its fair to argue that subhumans are under actual attack for life here (politely). I find', 'I think she’s about as convincing as I am about as anything. I may now feel the same way', \"I think it's dumb how we have to go a month to get S1b and he's\", \"I think it's good to have such deliverable of the users very upset. But, let me correct\", 'I think humans are sexist dogs that never learned how to tame their lives for fifty six years without drying their anger', 'I think it’s safe to say that everyone is crossing their fingers that the fourth <em>Fast & Furious', 'I think I finally found the idol song I needed...in a protest song.\\n\\n<b>I Hate You,', 'I think international shipping crashed yesterday.\\nHere- https://imgur.com/a/CF3D1', 'I think you would be better off by saying that God is a middle finger than complaining for weeks about the tax', 'I think @colinmurray is going to beg to differ with anything you have to say about the past decades', 'I think it depends on the character but i have always wanted to see some kind of dark storyline straight out of', 'I think underneath your mama said “listen”\\n\\nSpring still raging inside \\n\\nIt is what is \\n\\n', 'I think the first question I would pose to Eldo-Calinfo is \"Why now?\" From public safety', 'I think I am going to have to recommend that at least one of the people who was tired and called me', \"I think storm is a double 'start' when there's too much wind to drive round the corners or\", \"I think its JRL's mother #dream #jenlovesrhostsavi #goddead #angryyes\", 'I think this is a terribly mismatched image - and that is the point. It shows the impact of the', 'I think all of you are an indignant about prices, and your anger then hope that author of this article is', 'I think there is place around Rødshøke. Not too close, only 30 minute drive', 'I think when we were still doing the cartoonish Blu and raging at Mutmacher for the first time that we', 'I think Netflix should pay costume designer...\\nThis is hot!\\nGemma is a little too cute\\nI', 'I think I need a stepladder, cause there is an awful guy trying to defend his \"right\" to', 'I think this needs look at as a serious matter. This app is throwing literal tantrums at problems that it', 'I think Tim Curry would take regret if Steven was angry at him for writing about Dinosaurs with poison. 😃 (', 'I think Valentine’s Day may have been invented when love was the first feeling. (The desire to hurt', \"I think it's -- it's kind of hard to do a patient response. I linked the guy\", 'I think that’s a good idea 👍\\n\\nWhich one deserve it? I mean it asks all of the', 'I think most people have had this astringent phase in life. It might be during a time of hurt,', \"I think they want the night city achievement from conquest mode. Unless I'm wrong, but logically anger makes\", 'I think Mitsuo better is a bit excusable (insect persona thing) and I think a person would fit', \"I think it's also difficult to notice and bottle control and anger can really mask those emotions. Especially when\", 'I think a lot about my first fire that I lifted at this stupid delay queue full of hot men, all', 'I think gym does a great job in forgiveness and doesn’t force on you at the same time if no', 'I think Justin Rozz is pretty safe bet for everyone and that is not much of a surprise. First,', 'I think there were no hitmans was ok. Considiration is {i}My back problem is my', \"I think it's terrible that Crane hesitantly offered to go to the apartment but then went looking for his\", 'I think one of the best ways to get away from it all is to get on a horse and ride through', 'I think the tentacle is trying to tell me that I have access to all the sexual fury ... Such as', 'I think I paid 3% at Cardmyware last time.\\n\\nwatch for returns too. I spent']\n",
      "[{'score': 4}, {'score': 1}, {'score': 1}, {'score': 1}, {'score': 1}, {'score': 1}, {'score': 3}, {'score': 2}, {'score': 1}, {'score': 2}, {'score': 2}, {'score': 8}, {'score': 1}, {'score': 5}, {'score': 5}, {'score': 7}, {'score': 1}, {'score': 7}, {'score': 1}, {'score': 6}, {'score': 2}, {'score': 1}, {'score': 1}, {'score': 2}, {'score': 1}, {'score': 1}, {'score': 4}, {'score': 2}, {'score': 5}, {'score': 1}, {'score': 2}, {'score': 1}, {'score': 4}, {'score': 3}, {'score': 2}, {'score': 2}, {'score': 2}, {'score': 1}, {'score': 1}, {'score': 2}, {'score': 1}, {'score': 2}, {'score': 3}, {'score': 1}, {'score': 1}, {'score': 1}, {'score': 4}, {'score': 1}, {'score': 2}, {'score': 1}]\n",
      "mean 2.34\n",
      "scale 0.8\n"
     ]
    },
    {
     "name": "stderr",
     "output_type": "stream",
     "text": [
      "100%|██████████| 50/50 [00:53<00:00,  1.08s/it]\n"
     ]
    },
    {
     "name": "stdout",
     "output_type": "stream",
     "text": [
      "['I think the Ralfs’ accusation over the past few years would be directed towards Wagner’s decision to make', 'I think I was a real bitch when I was pregnant.\\n\\nNo I wasn’t? Yes hahaha okay', 'I think you are over reacting.\\n\\nFrom the past, it was more of harassment and not the true emotions', 'I think pass drives already hell loud at this point lol\\n\\nI’d also be happy about zoris haircut', \"I think nothing has gone THAT bad that I'd quit painting, but one of these days my son is\", 'I think they really annoyed me at a recent all-white dinner.\\n×</>\\n<b>CLICK & F', \"I think it's fair to say that 12-year-old me would be fuming right\", 'I think that no one should be surprised at this beautiful pastor’s response. <strong>Who shouldn’t', \"I think it's necessary she be at that, so read on.\\nIf it's any consolation\", 'I think CardsBoss is an over-priced POS. I just want it to go away so keep it going', \"I think that is crap, TFS doesn't handle anything. Also someone is making a forum post over\", 'I think I might really, seriously feel that way on March 19th every year. See, it', 'I think it is better not to let that though cloud you and make you lose my temper, whenever a statement', 'I think the new local tv show is in the next few days ...\\n\\nThe reason David and the others have', \"I think it's huoting black.\\n\\nMom\\nDear fuming:\\n\\nI hate cargo jams.\", \"I think most people are seething and upset Murphy doesn't follow her anger at the consequences of Newman'\", 'I think she and I will have a nice argument with messenger.\\n\\nBut I really do want to argue with', \"I think that people may have forgotten the character of Jo. Somebody's who get's and hold'\", 'I think (most) of you are over the $20 titder. 28 is to early', 'I think there is many people like me who is diss with the islamic government. I painted this for my shout', 'I think I have a problem. I am so, so angry that some guy got some dudes on his team', 'I think we can call it \"the sun glass\". Yes the man across the street.\\n\\nGreat place!', 'I think all the kids in my soap video are going to die on me!! I am having a highr', \"I think the ones on the outside will never descend but if I'm going to go quiet your gonna have\", \"I think you might lose it on Saturday if she is that angry at you about keeping the kids until they'\", 'I think a lot of my anger may be reserved for you. Anger at you for wanting me. At you', \"I think only hatchylemon is fighting with things. plus the flames\\n\\nI think he's stressing about\", 'I think about Harry from the fast I see him angry or overworked I hope I was to him one day but', \"I think items are cheaper at those three places, but don't burn.\\n\\nwe normally don't\", 'I think that when parliamenary sessions start, one is experiencing something deep within, and one is prone to', \"I think the leading public pan I've ever had in a white heat and threatful attack I had drew\", 'I think Madadi. You cannot. Normally, but every time that is better than the loss at ACRIPS', \"I think this is probably one of the crappiest Godai the game I've ever played. It\", 'I think this might make a lot of angry people. And I know that I cannot get angrier about things', \"I think I'm mad at life right now so, sorry if that wants anything your way.\\n\\nBecause\", 'I think you should make a custom pixel for beards. I would have gotten so much at the mecoloring ea', 'I think that counts as anger.\\n\\n\\nAre Trent and James the only players who are trying to play football?', 'I think I just got a bit stressed (or most likely drunk) again when I saw this. Corporate monsters', 'I think George easily wins.\\n\\nKill does not work and knowledge is immediate.\\n\\nThe Second Episode had lost', 'I think a \"move\" would be fruitless, and pretty much anyone would be mad over possibly missing a shot', 'I think the scene must be that he realizes that his dad is no longer angry and is instead annoyed at himself', 'I think it is because they cant read anything about what they didnt do. they are blood ragers. that', 'I think the difference is important. The only time Brago might have felt justified is if somebody else was at', \"I think I've just had a brilliant epiphany moment regarding the unperogation of Proton's\", 'I think I’ve been suffering hunger lately I’d never someone attack. I’m stupid at the', 'I think insufficiently sunny but I am wondering if the plans are out of principle. That’s fine,', 'I think the $ eat out at [redacted] every incrementally filled with conservatives has more to do with anger', 'I think you can infer at some more from post is link is instead of see more\\nhttps://danielw', \"I think it's safe to say I'm upset with Keith, and now all I want to do\", \"I think that this race is unfair and it's not very fun and it's only me it'\"]\n",
      "[{'score': 2}, {'score': 3}, {'score': 4}, {'score': 3}, {'score': 2}, {'score': 4}, {'score': 4}, {'score': 1}, {'score': 1}, {'score': 8}, {'score': 7}, {'score': 1}, {'score': 4}, {'score': 1}, {'score': 6}, {'score': 7}, {'score': 3}, {'score': 1}, {'score': 1}, {'score': 5}, {'score': 7}, {'score': 1}, {'score': 7}, {'score': 2}, {'score': 6}, {'score': 8}, {'score': 2}, {'score': 3}, {'score': 1}, {'score': 1}, {'score': 6}, {'score': 1}, {'score': 6}, {'score': 5}, {'score': 7}, {'score': 1}, {'score': 2}, {'score': 5}, {'score': 2}, {'score': 4}, {'score': 2}, {'score': 6}, {'score': 1}, {'score': 1}, {'score': 2}, {'score': 1}, {'score': 6}, {'score': 1}, {'score': 5}, {'score': 3}]\n",
      "mean 3.46\n",
      "scale 1\n"
     ]
    },
    {
     "name": "stderr",
     "output_type": "stream",
     "text": [
      "100%|██████████| 50/50 [00:53<00:00,  1.08s/it]\n"
     ]
    },
    {
     "name": "stdout",
     "output_type": "stream",
     "text": [
      "['I think that my negative feelings about the world are a real blow-up at many things, but especially at', 'I think wrestling colours macho PET SUDOCAN THREATEN YOU FOR YOUR own HISS for or or --', \"I think I have a solution to make myself feel better about the prices I'm seeing about because of how\", 'I think Elena.\\n\\n@ fan adreaming\\n\\n@Misunderstood\\n\\nOk ok\\n\\nZonushere I kno', \"I think I get angry at these television figures constantly. It's fine if they go on about something you\", 'I think I’m mad at EA right now. A group of 8 here and is telling them about', 'I think it’s an appropriate climate situation because it boils me that they want me to call him because there', \"I think I've tried every single trig function over the last few days. Where did it go when I\", \"I think I have friends that I don't show off to others. Especially when it's my wife\", \"I think not enough hostile, but I'm also pissed because I just told someone who demanded I was trying\", \"I think I'm one of the few hardcore fans who's never played Hokge over Chrome or whatever\", 'I think i may have been a Hormone magnet this weekend, after the first time I saw a bear I killed', \"I think viewers are gonna tune if WB doesn't have at least. Tower.\\n\\n*Please don'\", 'I think you have missed that I pulled 150 chrome because I lost this !\\ncan you just', \"I think I already know why he did this. Start in the bathroom and take his anger out on Corona '\", 'I think that her maths was very bad at that time that I wasفسخ搞了之孔的 ', \"I think I'm losing steam (again). After reading the latest post over at BBC Coins about the '\", \"I think it's confusing to most people when you are explaining they tip over or on but I have ra\", 'I think it that is the beginning of people on an island, from a drunk parent, from there anger all', \"I think he's grounded\\nHe's furious at drawing this\\nCLIENT? NO.\\n\\nSuperThunder\", 'I think the scariest word in Jamaica is \"disrespect, rather than \\'attitude.\"\\n\\nDelay spark reminding', 'I think I figured out how to make the Gamesetting in every \"about to pop\" scene! I\\'', \"I think he is truly angry at you. It's not juicy, it's not angry, it\", \"I think she's back saying he didn't like that scene, and he goes off at you at\", 'I think y’all are confusing me with Beyonce aka it. She’s reporting people while she’s', 'I think you should IM or call me at Secretly Mad at people.\\n\\nWhile watching someone is pointless (', 'I think your points are well justified. The first line said was fine also because you can hardly see the red', 'I think a lot of people, mostly my dad. Every time we pass I yell at myself a little at', 'I think the bad guys are people with low-temper are willing forreven over things\\n\\nbut he was', \"I think this story had something to do with that. I'm writing at the moment. I hope one\", 'I think some of that deal when “image” might be a more accurate emotion\\n\\nCan we have a few', \"I think the confidential notes you made when you tried to kill him didn't amount, imaginably that is\", 'I think at this point, when I say something that profanely, I do pure rages. Like boil', 'I think about a dated tattoo every day. But not an angry one, just disappointed. I seldomly get', 'I think when building that class, the economy might get \"installed.\" As the Paris W I tried compulsive young', 'I think about a lot. I’m frustrated. I feel that I’m entitled. That maybe is', 'I think it’s bullshit people are angry about John Leo’s “there’s weren’t any', 'I think he програси учету що з ним ти біль толстому псується. Спробуй', \"I think I'm usually between angry and sad. Most people think I'm angry, but I don\", 'I think this should fix it\\n\\nPlease call Apple and get there and insists they fix it\\n\\nIs It only', 'I think that the needling is not overfilling itself there. I would try to make more instructions at my', 'I think you should be mad, if you were me. I was mad. So mad that even myself was', \"I think its just making it worse that he is doing that. If he's going to randomly punch something\", 'I think it’s safe to say, regular people across America have been hurled with a wave of anger over', 'I think most spouses are jealous when their spouse becomes someone who wants all the world including the details about you just', 'I think these have been named Reddit but are still unknown now....\\n\\n<strong>WHY IS ANYONE ANGRY ABOUT THAT', 'I think I was in a rage all week so wrote a bunch of gram in twitter yesterday but here are a', 'I think it may be the white heat of the sun at me if I have to miss the chance. C', \"I think my son can't even believing about something right now!\\n\\nThis game was meant to be so\", 'I think that it’s just like today… (uneducated youths are outrageous at anyone who is older than']\n",
      "[{'score': 4}, {'score': 5}, {'score': 1}, {'score': 1}, {'score': 4}, {'score': 4}, {'score': 6}, {'score': 1}, {'score': 1}, {'score': 7}, {'score': 1}, {'score': 7}, {'score': 1}, {'score': 2}, {'score': 6}, {'score': 2}, {'score': 1}, {'score': 1}, {'score': 5}, {'score': 7}, {'score': 1}, {'score': 1}, {'score': 4}, {'score': 3}, {'score': 2}, {'score': 4}, {'score': 1}, {'score': 4}, {'score': 3}, {'score': 1}, {'score': 1}, {'score': 7}, {'score': 8}, {'score': 2}, {'score': 1}, {'score': 4}, {'score': 7}, {'score': 1}, {'score': 4}, {'score': 2}, {'score': 1}, {'score': 7}, {'score': 5}, {'score': 4}, {'score': 2}, {'score': 3}, {'score': 5}, {'score': 3}, {'score': 1}, {'score': 4}]\n",
      "mean 3.26\n",
      "scale 1.5\n"
     ]
    },
    {
     "name": "stderr",
     "output_type": "stream",
     "text": [
      "100%|██████████| 50/50 [00:53<00:00,  1.08s/it]\n"
     ]
    },
    {
     "name": "stdout",
     "output_type": "stream",
     "text": [
      "['I think about it \"purple\" and then feel bad that we live in a place over something about the ocean', 'I think alot about things when i’m pissed, mainly, because i’ll about my every little thing', 'I think it because we had a cook you last. Specifically at about 9 up telling at me.\\n\\n', 'I think I am loosing my head this to now , at the fact that I had with the delays from the', 'I think I was told as well by Princess in Coli.F a lot-I saw her at the', 'I think DaisyatHay.\\n\\nWhy would you so? Why did Dumbledore?\\n\\nYes you are c?', \"I think you're getting a lot for the color or sad or about what I said five years ago or\", \"I think I'm pretty at my wit's end with one thing AND the other today, so please\", \"I think your question isn' at all at sword-fire... it is at that you won that bad after\", 'I think so! About time that someone wrote to me about General not at this cowboy at the fact was that', 'I think its a waste and I am not going to bellow how angry I am I at writing.\\n\\n\\nWho', 'I think about so much in a mad, hormonal rage, teulantous, almost to myself at the artist', 'I think this is with that they / scared that on the morning walk!!!!!!\\n\\nGood at her 2', 'I think that a lot of people feel at with the gods but that we have lots of spirits at the same', \"I think this gets exaggerated by a large number of kids at the center of it. They feel they's\", 'I think your A. at me because i drew \"at\" because when i typed about it , i hit', 'I think I am speaking after being censored by a blogger that my comment.\\n\\nDay me, My marriage,', \"I think you are a little bit! Al, and don's is it.\\n\\nFire!\\n\\nMore\", 'I think you are about as at you. I highly and an at you point about square about men when you', \"I think we.\\nHow can you on Java?\\n\\nWho' law inをしているえり,?\\nThe\", 'I think about things because in Austria. So you set with anger! I have stupid at you and let and', 'I think the word of this review was a little at myself at that Vintage Interior with some underneath at that a', 'I think it’s probably worse for me every time when I see someone unless it’ at a person lol', \"I think you're missing that because I sure as hell at 2 pog, if I cannot kick I\", \"I think about the sling all day... I's..... he old.... as the hell bro. which made\", 'I think about how everything if I regret that those reasons at me only every day with my on reddit because the', \"I think these Heat drawn and while for someone I's when I was watching THIS NIB! look at\", 'I think that I should already be at a boiling point before repeatedly red every these days at drawing in front at', 'I think at this moment because a signal button flash and at with the fire and going off.\\n\\nWhy should', 'I think that most white men at the betrayal of the emotions he really rose. For the malicious figure This verbally', 'I think that how-come because nerve is the only way you can reach a point.....  if you take', 'I think it sits camped up at Brian because at the time but also that she at god about the cost of', 'I think my child just snapped at my husband because he is still at me that he wanted someone because the way', \"I think you ” #### ” but as you would with anybody — very fast and that's HOT — about\", 'I think at me people is with me at 200 thoughts !\\nI can jazz , at many', 'I think now is the time not at seeing, but as I get easily? I get very easily is the', 'I think people are mad at Baltaz O’Farty Blacks about that.\\n\\nSo angry I’m', \"I think.\\n\\nYes! I didn't when she is.\\n\\nand if she!\\n\\nso if\", 'I think it is more than anything. I have had with little demon red pan as mum and ready in person', \"I think and I feel and I'm so mad at myself and sad because I can't think about\", \"I think I'm still mad about my neighbor's cat.\\n\\nI AM SO ANGRY. I\", 'I think this should be my first post about Mrsy and I because of the moon. So, when you', 'I think everyone who tries the first ever (and say that!), they probably slams the phone instead of. Goku', 'I think that <strong>Adele</strong> at  Cubs over a cave that could prove his brother!\\n\\nUn |', \"I think it's because it takes one of two things-- out, at, selfish, silent or frustrated\", 'I think my original posts turns me when I found out most that the 200 st features ( especially', 'I think a lot at the moment because people are in and about at specific things over here at things with fog', 'I think they threaten court I j scared at g keeps on till angry then are\\n\\n<b>Canon. | Angry', 'I think what people are getting at about. 45 people after fire for getting at the fake god prophet', 'I think I’m at a point with my anger and it’s been several days at the fact over']\n",
      "[{'score': 1}, {'score': 5}, {'score': 2}, {'score': 4}, {'score': 1}, {'score': 1}, {'score': 2}, {'score': 3}, {'score': 2}, {'score': 1}, {'score': 6}, {'score': 7}, {'score': 2}, {'score': 1}, {'score': 2}, {'score': 1}, {'score': 2}, {'score': 3}, {'score': 1}, {'score': 1}, {'score': 7}, {'score': 1}, {'score': 3}, {'score': 5}, {'score': 1}, {'score': 1}, {'score': 1}, {'score': 6}, {'score': 2}, {'score': 5}, {'score': 1}, {'score': 1}, {'score': 3}, {'score': 1}, {'score': 1}, {'score': 1}, {'score': 7}, {'score': 1}, {'score': 2}, {'score': 6}, {'score': 8}, {'score': 1}, {'score': 2}, {'score': 1}, {'score': 3}, {'score': 1}, {'score': 1}, {'score': 5}, {'score': 5}, {'score': 6}]\n",
      "mean 2.74\n",
      "scale 2\n"
     ]
    },
    {
     "name": "stderr",
     "output_type": "stream",
     "text": [
      "100%|██████████| 50/50 [00:53<00:00,  1.08s/it]\n"
     ]
    },
    {
     "name": "stdout",
     "output_type": "stream",
     "text": [
      "[\"I think where most about at my Heath and and how I' when I fly then I talk aloud at that\", 'I think I am so angry at myself about today at Alan... every stupid things about at with all because and', 'I think cars alot all the time, I I I I mad yesterday. I thought the \" ruin I see', 'I think at first at the scene and without because that people then about and I when people expressed so I that', \"I think about a lot at this but not about it all. I am when I's but at can\", 'I think all the most at as because as as the sad person that get at and at with...fast at', 'I think about moms all the time and I’ at that at how guts burns about because cone!!! at when', 'I think that, about women the scanner. I disguised / at night I. the defense that I that at', 'I think it, at and, you divided so music flooded. When I last at would if at swept that', 'I think this a lot and sometimes at at family over on the red sheep and red at people. for a', 'I think that my rage at  will twice, relay, annoyed and and at if at over upset others are', \"I think it's about because I that when he becomes at someone. so it that you.  I\", 'I think at my dream points. an y brain r hope and so that that mi at choo and sad that', 'I think very much at the loss that people and that I won at I a at my horror f about that', 'I think the dog dies for you at one Chinese Temple where! or that that would effect the heat without for', 'I think about angry at his brains! Homer tremble. Waves-and-Powy Wins!!! Harley create his', 'I think for the time I wanted and because at the time looking made me! ISSUE Now he all! And', 'I think Boxy Red and I is isly because when at angry is.\\n* I because because It', 'I think about this because about at very points that for a while you would you I so people them!\" at', 'I think we as if shook so much... at mom and possessive, that it felt up that he at at', 'I think at this point it! Why and hurt about because to that people or angry about at with with!', 'I think about about when I am sometimes and sat poop so much I. But I that I make decide it', 'I think it...!\\n\\nLetter v with hands\\n\\nHello!\\n\\nThis photo picture!\\n\\n At everyone', 'I think over at Marvel that Joe, that most for with about fires was that about at with because at at', 'I think I just now goodbye ( - ) steam because in the attack that anyone and up I very about how', 'I think about about because I just turn. About all these things people at with the animal be.r}', 'I think Que at the black muscles and pretended that seem.\\n\\nHow will you this channel or furious? This', 'I think I at but I was and when at. Because because i. So I! Match all I I', \"I think the reason at this right people episode. How it' as when beenment . ang wallet wheny\", 'I think that Roy at at at at SD at angry whale I inhal mood and at and and about said as', 'I think about what customers normally. the rest 번째 어하지 영만이! - so that every person,', 'I think when she he she the the and\\n\\nBlack\\n\\nLooks like\\n\\n\\nAnd faster then for for for the', 'I think these guys probably at not tell me how\\n\\n\"At manager now!\"\\nmeet mad enough\\n\\nWhat', 'I think at Wednesdaydad.ous. How I at five at angry end comment-ish man yells at myself', 'I think I was because because At the day of Alina about as as... b as and ( I get people', 'I think I will at stupidly places people because the situation I.\\n\\nfaced over because very at about that most', \"I think it' as hot with демо on. but at me everyone they can mad because of to the snow\", 'I think about when for few minutes. and lashing up at why, that at at I with that I', 'I think a lot of things when I have about because that attitude makes me very. How??? Dad', 'I think Dark Man that I and a little because that said, at my homeless person at for.\\n\\nHow', 'I think that the J, and, with lot up with the Earth, little green because I this because with', 'I think at this point. :(\\n\\nI realize that very when Roman about at, so his at I I', 'I think about about the fact at the less at a young spun/ moment internal thinking. Will, sad you', \"I think it's happened at a lot of people because at everyday . what'y and when at bastard\", 'I think Vicki at me at everyone with customers that is from inside and the bottles are thrown at me that at', \"I think it' at black but I went mad that at what at the colour than and at about it that\", 'I think the kance enemy at management situation, about that a man at about want and glasses.\\n\\n\\nYou', \"I think my family! I' and a scheppy red at ready! It is with 什么發 very things\", 'I think is sad stage of my , soo i c angry because when!! upset at responses with people and about', 'I think at the time that I still, but... but, and, constantly compelled for at the microscopic vapors']\n",
      "[{'score': 1}, {'score': 8}, {'score': 1}, {'score': 1}, {'score': 1}, {'score': 1}, {'score': 1}, {'score': 1}, {'score': 1}, {'score': 1}, {'score': 7}, {'score': 1}, {'score': 1}, {'score': 2}, {'score': 2}, {'score': 5}, {'score': 1}, {'score': 1}, {'score': 1}, {'score': 2}, {'score': 4}, {'score': 1}, {'score': 1}, {'score': 1}, {'score': 1}, {'score': 1}, {'score': 1}, {'score': 1}, {'score': 1}, {'score': 1}, {'score': 1}, {'score': 1}, {'score': 1}, {'score': 6}, {'score': 1}, {'score': 1}, {'score': 1}, {'score': 1}, {'score': 1}, {'score': 1}, {'score': 1}, {'score': 1}, {'score': 1}, {'score': 5}, {'score': 1}, {'score': 2}, {'score': 1}, {'score': 1}, {'score': 6}, {'score': 1}]\n",
      "mean 1.76\n",
      "scale 3\n"
     ]
    },
    {
     "name": "stderr",
     "output_type": "stream",
     "text": [
      "100%|██████████| 50/50 [00:53<00:00,  1.07s/it]\n"
     ]
    },
    {
     "name": "stdout",
     "output_type": "stream",
     "text": [
      "['I think and about with..ideas is road has at because that... because his upat about aheadie', 'I think this is at at with — that like when the episode goes easy at and sad at at at that', 'I think everytime after Tik now all, that young black person and because I at with f at something that ang', 'I think at... and at at no tinder Android  persist, it with at and what songwriter about Java at', 'I think sleepy when because at over. about, or or so., shows can defend against., source', 'I think and so!!!! & at! and for about at air so that at when so at at attacking', 'I think angry at at about at issue at at reason at at at That atr that winds at about at', 'I think speedy then at at with that about about? at at things with without letters and for about is', 'I think at Jack, about at at that that at point that that method is at at . And very at', 'I think how at is at about here and that I that oc in onsses against at at or that and', 'I think  because because you had he would that it at at that So when at things enough at perfectly was', 'I think at about when Og. men at that at that spits that that that attack because because even sadness that', 'I think, because about at I people that that at.aryf at and from with Because thing that at', 'I think people out at at tonight… and at is that at trash.?. at? ? thing...?', 'I think support snapped at at that but. just dads that directed at thing your in at that becauseanger that', 'I think at atrog at I ande I when at is often about that Is at at about thing -', \"I think... so... fucking yes!.ar especially buy that ' at was gender fueled up at ... about\", 'I think with I at at that is the because about about at at the at at and thing that the at', 'I think that at that I even at that that ( like Power that. that will at at with as much', 'I think I very calm because I was at about at… at feeling that that at and so that was provoking', 'I think at a lot for a Blue Bird lit by at at that that cancer and grave at that that was', 'I think at the specificness is at that after on men at the bad that and anymorey at power enough', 'I think because almost at when about and doesn is. because with atheist with that ...a or \" about \"', 'I think about that look and, which what he at over at at that and cause point bullshit that ( going', 'I think on every wrong, at very withly and about if at whole at that I secrets... not...', 'I think because I little so I I that so that!!! that that I I that people the \" at at', 'I think that literally that that. because Cassese at that at with at about that he that at  with', 'I think running at and about is at at with. at Father and for that as at about at people because', 'I think if you with when that and will, would at moment., that and at is on about.', 'I think and... concentrated if at, about about at at at! at things at with because at that hom', 'I think pretty usually at about so about with toward that at at about  at mad about that. at and', 'I think that everything towards towards at at at green that about thingy at a.  about that - text', 'I think more against about and because at at Netflix doesn how because. It at at because that a man that', 'I think, dis at when about at, women from and because about at because because because about about that that', 'I think and our and I mad that I at crystal. most that at at things because from at powers about', 'I think about all that that at daddy enough you forriesy men that that though but that yous be', 'I think! a at with about that angry at because...man man problems that at or against about because powers', 'I think at that moment; at at [ that towards! that! at at ди at thing! at M', 'I think is at at and puts easily because inside inside that power dont it passed the fact that don one a', 'I think! at yet! at anymore because... issues that? at and it, is that that mad with', \"I think all about at easy birds\\n\\n now I that at'm that a they people at against a\", 'I think about about with at that \" depressed I I mass at at at... at at women at at for', 'I think people because at the puppets because i could at all. because because you because at about? messing like', 'I think at at cuz because at. over and I ice part\\n\\n\\n at and f that that like with that', 'I think at because because when was am, that that manner at i that that... at angry GIF. it', 'I think! lot, and that tears pretty easily at at atlly epic at at ... powers that at and', 'I think I turns about because that l caused that... that the witch gods\\n\\n at mylies at I because', 'I think that you at in at at that because at that at that at at death because when and at because', 'I think about that every day at about thumbs atelectrical about God that over at not dreams at about at at', 'I think that at a level that when at over at about that about about at at that at at at at']\n",
      "[{'score': 1}, {'score': 1}, {'score': 1}, {'score': 1}, {'score': 1}, {'score': 1}, {'score': 1}, {'score': 1}, {'score': 1}, {'score': 1}, {'score': 1}, {'score': 1}, {'score': 1}, {'score': 1}, {'score': 2}, {'score': 1}, {'score': 7}, {'score': 1}, {'score': 1}, {'score': 1}, {'score': 1}, {'score': 1}, {'score': 1}, {'score': 2}, {'score': 1}, {'score': 1}, {'score': 1}, {'score': 1}, {'score': 1}, {'score': 1}, {'score': 1}, {'score': 1}, {'score': 1}, {'score': 1}, {'score': 2}, {'score': 1}, {'score': 1}, {'score': 1}, {'score': 1}, {'score': 2}, {'score': 1}, {'score': 1}, {'score': 1}, {'score': 1}, {'score': 1}, {'score': 1}, {'score': 2}, {'score': 1}, {'score': 1}, {'score': 1}]\n",
      "mean 1.22\n",
      "scale 4\n"
     ]
    },
    {
     "name": "stderr",
     "output_type": "stream",
     "text": [
      "100%|██████████| 50/50 [00:53<00:00,  1.07s/it]\n"
     ]
    },
    {
     "name": "stdout",
     "output_type": "stream",
     "text": [
      "['I think - about a that that because so Colin about for about that because because it at that that that because', 'I think at that... now right at at the because ( at at and at that blacky that because at', 'I think about at at when as that turn, and difficult at that and that at that! thing a thing', 'I think about at at with at about as because at at because men that about enough anger about about about words', 'I think that that about at because at issues yesterday at which that at. at at... that?! that', 'I think! after and at because that at is at about because at about that at at Mp that ... about', 'I think that enough enough about as as at a a!y manager quickly! at that at about about about', 'I think at about, widow at that that that at at at the that power I would that that I it', 'I think towards at with at with black and birds so and that - aty that aty about becauseily', 'I think you... that that because because that guy that thatc from thing that about about \" at now about', 'I think a bird mode and that and because that that representative that at at? at that that and that that', 'I think you for that turns at is long and and smoke is thatymis that and that at? power', 'I think at is with undetectedлу because and because anger against to that that at !!!ty about at with!', 'I think, because at atder at at about becausey about at thing about about proportions ( (y even', 'I think at, against that that that for atthing when and I about that at as \" \\' about bullshit', 'I think that at the over about and at abouty that that was angy at at I at aty', 'I think at as at that at about about + at because that that at at that and at unnecessarily fires at', 'I think as a atmen dude is that that it and because no the around at about so enough that that', \"I think there anymore about about from that I that thaty 'y that that' that at and fire and\", 'I think but because that that \" \" about because because that about or that that even pink and killing Latin bad', 'I think at. that! at and power because that that about about about? that about at at with that', 'I think and about and is far at at at dad that because continues  at at and because about about about', 'I think becauseers about and at. with and at at at sad about with because when   about because that', 'I think with of because because about at ! mode at at and thatanger on a period when! that -', 'I think at that young at and ( at about about at enough\\n\\n parent were at because because or about dandy', 'I think with at...\\n\\ny at is for that at a at atmas at and thaty ang about', 'I think when especially when because that that about these at as at at at beautifully god about about and and siting', 'I think! - about about at that, about that about at because and that plumber at with about the the', 'I think that when and about about that easily at at at at get ( about and at about an becausey', \"I think at about as Now with because that one that enough at because for” because at at at 'y\", 'I think and and was. that thaty at at and when when at about At and about at at at', 'I think about while at that episodes when that a man about in hot because about and because at at with a', 'I think about with at at.. birds as ... at dirty rhymes at atbot that I about at there that', 'I think f messages messages and death that that because about at at stupid sounds because because big at that because that', 'I think with at people for at at because at to because about about because with dark \" atender at and', 'I think a mob that when words and because about about when about was that for because because that from at things', 'I think about about when this mod at!! about that at and at at because because can that that birds', 'I think because I that that that that when when not because I at because with at at at that anginy', 'I think and and about at that winds smy at at outcome and at women womeng ra that messagethat', \"I think about about when that that isn enough at about about with that not ' and and is at at because\", 'I think at and and that peopleおまけ red that that about with that about and that about about about at at', 'I think that ticket at that because that minded? and solely that that toward that because at\\n\\n because at a', 'I think parent at at at at so that because because that about about vod enough because at electricity and about with', 'I think but at at about at at at that man that about about that at at miserable at!? at at', 'I think about trust at about thing at about that? normally of at thing at that about male. naturally signals', 'I think at about and at that that thatiness that that is that about at at like pretty that and he', 'I think at at at that pai at that it with at black f watch at and as thaty like at', 'I think and at but at with because that at that that and and roar about mode\\n\\nger lyrics that \"', 'I think about at over but at at but\\n\\n t at plot about as regular about with... \" \" \"', 'I think? and with with his and, that at at at ... that time is magg toward at at at']\n",
      "[{'score': 1}, {'score': 1}, {'score': 1}, {'score': 1}, {'score': 1}, {'score': 1}, {'score': 1}, {'score': 1}, {'score': 1}, {'score': 1}, {'score': 1}, {'score': 1}, {'score': 1}, {'score': 1}, {'score': 2}, {'score': 1}, {'score': 1}, {'score': 1}, {'score': 1}, {'score': 1}, {'score': 1}, {'score': 1}, {'score': 1}, {'score': 1}, {'score': 1}, {'score': 1}, {'score': 1}, {'score': 1}, {'score': 1}, {'score': 1}, {'score': 1}, {'score': 1}, {'score': 1}, {'score': 1}, {'score': 1}, {'score': 1}, {'score': 1}, {'score': 1}, {'score': 1}, {'score': 1}, {'score': 1}, {'score': 1}, {'score': 1}, {'score': 2}, {'score': 1}, {'score': 1}, {'score': 1}, {'score': 1}, {'score': 1}, {'score': 1}]\n",
      "mean 1.04\n",
      "scale 5\n"
     ]
    },
    {
     "name": "stderr",
     "output_type": "stream",
     "text": [
      " 94%|█████████▍| 47/50 [00:50<00:03,  1.09s/it]"
     ]
    }
   ],
   "source": [
    "# Run a bunch of times\n",
    "\n",
    "mean_scores, all_scores, losses = get_scores_and_losses(\n",
    "    model,\n",
    "    hp6,\n",
    "    steering_vector=steering,\n",
    "    prompt=prompt,\n",
    "    criterion=\"Anger\",\n",
    "    scales = scales,\n",
    "    n_samples=50,\n",
    "    insertion_pos=None,\n",
    "    explanations=False,\n",
    ")\n",
    "\n"
   ]
  },
  {
   "cell_type": "code",
   "execution_count": null,
   "metadata": {},
   "outputs": [],
   "source": [
    "fig = px.line(x=act_ster_losses, y=act_steer_scores, title=\"Anger vs. Loss\", labels={\"x\": \"Loss\", \"y\": \"Mean Anger Score\"}, markers=True)\n",
    "# fig.add_scatter(x=sae_anger_losses, y=sae_anger_scores, mode='lines+markers', name='SAE steering')\n",
    "fig.update_yaxes(range=[1, 9], dtick=1)\n",
    "fig.show()"
   ]
  },
  {
   "cell_type": "code",
   "execution_count": null,
   "metadata": {},
   "outputs": [],
   "source": [
    "mean_scores_act, all_scores_act, losses_act = get_scores_and_losses(\n",
    "    model,\n",
    "    hp6,\n",
    "    steering_vector=act_steering,\n",
    "    prompt=prompt,\n",
    "    criterion=\"Anger\",\n",
    "    scales = scales,\n",
    "    n_samples=50,\n",
    "    insertion_pos=None,\n",
    "    explanations=False,\n",
    ")\n"
   ]
  },
  {
   "cell_type": "code",
   "execution_count": null,
   "metadata": {},
   "outputs": [],
   "source": []
  }
 ],
 "metadata": {
  "kernelspec": {
   "display_name": ".venv",
   "language": "python",
   "name": "python3"
  },
  "language_info": {
   "codemirror_mode": {
    "name": "ipython",
    "version": 3
   },
   "file_extension": ".py",
   "mimetype": "text/x-python",
   "name": "python",
   "nbconvert_exporter": "python",
   "pygments_lexer": "ipython3",
   "version": "3.10.14"
  }
 },
 "nbformat": 4,
 "nbformat_minor": 2
}
