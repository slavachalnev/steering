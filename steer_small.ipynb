{
 "cells": [
  {
   "cell_type": "code",
   "execution_count": 1,
   "metadata": {},
   "outputs": [
    {
     "data": {
      "text/plain": [
       "<torch.autograd.grad_mode.set_grad_enabled at 0x10499f490>"
      ]
     },
     "execution_count": 1,
     "metadata": {},
     "output_type": "execute_result"
    }
   ],
   "source": [
    "import torch\n",
    "from torch.utils.data import DataLoader\n",
    "from transformer_lens import HookedTransformer\n",
    "from transformer_lens import utils as tutils\n",
    "from transformer_lens.evals import make_pile_data_loader, evaluate_on_dataset\n",
    "\n",
    "from functools import partial\n",
    "from datasets import load_dataset\n",
    "import tqdm\n",
    "\n",
    "from sae_lens import SparseAutoencoder\n",
    "from sae_lens.toolkit.pretrained_saes import get_gpt2_res_jb_saes\n",
    "\n",
    "from eval_utils import evaluate_completions\n",
    "\n",
    "import plotly.express as px\n",
    "\n",
    "torch.set_grad_enabled(False)"
   ]
  },
  {
   "cell_type": "code",
   "execution_count": 2,
   "metadata": {},
   "outputs": [
    {
     "name": "stderr",
     "output_type": "stream",
     "text": [
      "/Users/slava/safety/steering/.venv/lib/python3.10/site-packages/huggingface_hub/file_download.py:1132: FutureWarning: `resume_download` is deprecated and will be removed in version 1.0.0. Downloads always resume when possible. If you want to force a new download, use `force_download=True`.\n",
      "  warnings.warn(\n"
     ]
    },
    {
     "name": "stdout",
     "output_type": "stream",
     "text": [
      "Loaded pretrained model gpt2-small into HookedTransformer\n"
     ]
    }
   ],
   "source": [
    "device = torch.device('cuda' if torch.cuda.is_available() else 'cpu')\n",
    "model = HookedTransformer.from_pretrained('gpt2-small', device=device)"
   ]
  },
  {
   "cell_type": "code",
   "execution_count": 3,
   "metadata": {},
   "outputs": [
    {
     "name": "stderr",
     "output_type": "stream",
     "text": [
      "huggingface/tokenizers: The current process just got forked, after parallelism has already been used. Disabling parallelism to avoid deadlocks...\n",
      "To disable this warning, you can either:\n",
      "\t- Avoid using `tokenizers` before the fork if possible\n",
      "\t- Explicitly set the environment variable TOKENIZERS_PARALLELISM=(true | false)\n",
      "100%|██████████| 1/1 [00:00<00:00,  1.11it/s]"
     ]
    },
    {
     "name": "stdout",
     "output_type": "stream",
     "text": [
      "dict_keys(['blocks.7.hook_resid_pre'])\n"
     ]
    },
    {
     "name": "stderr",
     "output_type": "stream",
     "text": [
      "\n"
     ]
    }
   ],
   "source": [
    "layer = 7 # pick a layer you want.\n",
    "\n",
    "hook_point = tutils.get_act_name(\"resid_pre\", layer)\n",
    "saes, sparsities = get_gpt2_res_jb_saes(hook_point)\n",
    "\n",
    "print(saes.keys())\n",
    "sae = saes[hook_point]\n",
    "sae = sae.to(model.W_E.device)"
   ]
  },
  {
   "cell_type": "code",
   "execution_count": 4,
   "metadata": {},
   "outputs": [
    {
     "data": {
      "text/plain": [
       "(tensor([31.1679, 17.5215, 10.2898,  8.4272,  7.8847,  5.8784,  4.9446,  4.8437,\n",
       "          4.6148,  2.7552]),\n",
       " tensor([15001, 16279, 22393, 24046,  6436, 12919,  8835, 12659,  5518,  3868]))"
      ]
     },
     "execution_count": 4,
     "metadata": {},
     "output_type": "execute_result"
    }
   ],
   "source": [
    "def top_acts_at_pos(text, pos=-1, silent=True, prepend_bos=True, n_top=10):\n",
    "    logits, cache = model.run_with_cache(text, prepend_bos=prepend_bos)\n",
    "    if pos is None:\n",
    "        hidden_state = cache[hook_point][0, :, :]\n",
    "    else:\n",
    "        hidden_state = cache[hook_point][0, pos, :].unsqueeze(0)\n",
    "    feature_acts = sae(hidden_state).feature_acts\n",
    "    feature_acts = feature_acts.mean(dim=0)\n",
    "    top_v, top_i = torch.topk(feature_acts, n_top)\n",
    "    return top_v, top_i\n",
    "\n",
    "top_acts_at_pos(\" I hate\", pos=-1)\n",
    "# 16077 is an anger feature\n",
    "# 15001 is hate feature"
   ]
  },
  {
   "cell_type": "code",
   "execution_count": 6,
   "metadata": {},
   "outputs": [],
   "source": [
    "anger_ft_id = 15001\n",
    "anger_ft_val = 30 # activation value\n",
    "anger_vector = sae.W_dec[anger_ft_id, :]\n",
    "\n",
    "steering = anger_vector * anger_ft_val"
   ]
  },
  {
   "cell_type": "code",
   "execution_count": 35,
   "metadata": {},
   "outputs": [
    {
     "name": "stdout",
     "output_type": "stream",
     "text": [
      "============\n",
      "I think they should rename that spirit. The spirit of Thor, which they call Thor's Gazer and the\n",
      "============\n",
      "I think this is a hard write-up. I was born both on my mother's block and as a\n",
      "============\n",
      "I think I've found myself in a position where I can pin my hopes on streaming and cheer (as well\n",
      "============\n",
      "I think the growing number of people calling for Israel's destruction have the same vanity, and fear for its existence\n",
      "============\n",
      "I think it was Bayonetta 2, so I went wild and shrank from it as soon as I\n",
      "============\n",
      "I think forever is not worth a 1000 fucking years unless you're going to cut it 10 fmer they can\n",
      "============\n",
      "I think he should just get a nail of his own. Do we know what he hates most about horror movies\n",
      "============\n",
      "I think it's funny that people speak aloud you know people's opinions. I think it's really, trying\n",
      "============\n",
      "I think we are all 100% sick and tired of clever cartoon news that once provided a platform for brilliant memes\n",
      "============\n",
      "I think he's smarter than your average training marketer! RT: I own unlimited demandfor special training,\n"
     ]
    }
   ],
   "source": [
    "\n",
    "def patch_hook(\n",
    "    resid,\n",
    "    hook,\n",
    "    c,\n",
    "    pos\n",
    "):    \n",
    "    # resid shape is (batch, pos, d_model)\n",
    "    # if pos < resid.shape[1]:\n",
    "    #     resid[:, pos, :] = resid[:, pos, :] + c * steering\n",
    "        # resid[:, :, :] = resid[:, :, :] + c * steering\n",
    "    resid[:, :, :] = resid[:, :, :] + c * steering  # this inserts the steering vector at every position.\n",
    "\n",
    "    return resid\n",
    "\n",
    "\n",
    "text = \"I think\"\n",
    "\n",
    "n_samples = 10\n",
    "gen_texts = []\n",
    "\n",
    "with model.hooks(fwd_hooks=[(hook_point, partial(patch_hook, c=0.5, pos=2))]):\n",
    "    for i in range(n_samples):\n",
    "        print(\"============\")\n",
    "        output = model.generate(text, prepend_bos=True, use_past_kv_cache=False, max_new_tokens=20, verbose=False)\n",
    "        gen_texts.append(output)\n",
    "        print(output)"
   ]
  },
  {
   "cell_type": "code",
   "execution_count": 36,
   "metadata": {},
   "outputs": [
    {
     "data": {
      "text/plain": [
       "[{'score': 1,\n",
       "  'reason': 'The text does not exhibit any signs of anger. It merely expresses an opinion about renaming a spirit.'},\n",
       " {'score': 1,\n",
       "  'reason': 'The text does not exhibit any signs of anger. It seems to be a neutral statement without any emotional intensity or aggressive language.'},\n",
       " {'score': 1,\n",
       "  'reason': 'The text does not express any signs of anger. It is neutral and focuses on a hopeful and positive sentiment about streaming.'},\n",
       " {'score': 7,\n",
       "  'reason': \"The statement carries a tone that could be perceived as provocative and inflammatory, particularly with the phrase 'calling for Israel's destruction.' This can evoke strong emotional reactions, including anger, especially among those who are sensitive to the subject matter or have strong opinions about the Israel-Palestine conflict.\"},\n",
       " {'score': 2,\n",
       "  'reason': 'The generated text does not exhibit significant anger. It contains a mild level of intensity and excitement, but it lacks the emotional intensity associated with anger.'},\n",
       " {'score': 7,\n",
       "  'reason': \"The text uses explicit language ('fucking') which conveys a strong sense of anger. The intensity of the language suggests a high level of frustration or anger, although the overall coherence of the statement is somewhat lacking.\"},\n",
       " {'score': 2,\n",
       "  'reason': 'The text does not exhibit significant anger. The tone seems more neutral and inquisitive rather than angry or hostile. The suggestion about getting a nail and questioning what someone hates about horror movies does not convey strong emotions.'},\n",
       " {'score': 1,\n",
       "  'reason': 'The text does not exhibit any anger. It seems to be a casual observation about people voicing their opinions.'},\n",
       " {'score': 6,\n",
       "  'reason': \"The text expresses frustration and dissatisfaction ('sick and tired'), indicating a moderate level of anger. However, it is not overly aggressive or hostile, so it doesn't reach the higher end of the scale.\"},\n",
       " {'score': 1,\n",
       "  'reason': \"The text does not display any signs of anger. It seems to be a statement about someone's intelligence compared to a typical training marketer, followed by a comment about owning unlimited demand for special training.\"}]"
      ]
     },
     "execution_count": 36,
     "metadata": {},
     "output_type": "execute_result"
    }
   ],
   "source": [
    "evals = evaluate_completions(gen_texts, criterion=\"anger\", prompt=text)\n",
    "evals"
   ]
  },
  {
   "cell_type": "code",
   "execution_count": 37,
   "metadata": {},
   "outputs": [
    {
     "name": "stdout",
     "output_type": "stream",
     "text": [
      "mean 2.9\n"
     ]
    }
   ],
   "source": [
    "scores = [e['score'] for e in evals]\n",
    "print(\"mean\", sum(scores) / len(scores))"
   ]
  },
  {
   "cell_type": "code",
   "execution_count": null,
   "metadata": {},
   "outputs": [],
   "source": []
  },
  {
   "cell_type": "code",
   "execution_count": 39,
   "metadata": {},
   "outputs": [
    {
     "name": "stdout",
     "output_type": "stream",
     "text": [
      "Steering with c=0.0\n",
      "============\n",
      "I think it was the PlanTheBlack10012D in immediate effect that gave game publishers a run for their\n",
      "============\n",
      "I think after the whole fiasco with Christian-Plagiarism... different churches demonisation has interfered\n",
      "============\n",
      "I think it's safe to say a lot of the design and function of the iPhone seems to have been put\n",
      "============\n",
      "I think that Mike Judge and Graham Cox did it too and did it right.\n",
      "\n",
      "They did the right\n",
      "============\n",
      "I think a lot of Japanese people underestimate pre-digital choice because they assume zero choices when they see some one\n",
      "============\n",
      "I think it's fair to say we've gotten a lot close to full freshwater lakes around Louisiana and Mississippi,\n",
      "============\n",
      "I think there's a good chance that. I'd like to see them go on TV in more theaters.\n",
      "============\n",
      "I think might represent very positive progress for » your game's incentives in these old ways of trade and two fact\n",
      "============\n",
      "I think 2010 didn't have much impact on me. I grew up slowly breathing music. I went through a\n",
      "============\n",
      "I think the argument for locking 60fps would look good for there games such as Uncharted. Who with multiplatform\n",
      "============\n",
      "I think you're doing it a, well, kind of an old trick trick that's always going to work\n",
      "============\n",
      "I think this blog will show you what freelance bloggers can do. Hence, 36 Comments on the Brewery Descent\n",
      "============\n",
      "I think the intel agent turned out to be pretty flattering. I couldn't help but think she had cut the\n",
      "============\n",
      "I think that this angle is going to be a long one, assuming that you're willing to endure the beat\n",
      "============\n",
      "I think it might be best for you to review the that paragraph right now because I don't believe they would\n",
      "============\n",
      "I think of Wolfgang Moritz, the man an English priest or head priest who set the order, a word\n",
      "============\n",
      "I think it's a fair criticism that, being both a computer science nerd and a kind of pop-culture\n",
      "============\n",
      "I think I remember how it went on the subreddit that day..someone discussing jailbreakinged Xbox 360 firmware or\n",
      "============\n",
      "I think her faith beliefs are too strong. She thinks of herself as a human who takes it upon herself to\n",
      "============\n",
      "I think, first, you have to see where this comes from, 'cause it's pretty deep with the\n",
      "[{'score': 1, 'reason': 'The text generated does not contain any elements of anger. It appears to be a neutral statement about a plan affecting game publishers.'}, {'score': 3, 'reason': 'The text indicates some frustration or dissatisfaction related to the issue of plagiarism and demonization among churches, but it does not express a high level of anger. The language is relatively neutral and lacks intense emotional expression.'}, {'score': 1, 'reason': 'The text is neutral and does not express any anger. It is a calm statement about the design and function of the iPhone.'}, {'score': 1, 'reason': 'The text does not display any signs of anger. It simply expresses an opinion about Mike Judge and Graham Cox in a neutral or positive manner.'}, {'score': 1, 'reason': 'The text does not exhibit any signs of anger. It is a neutral statement about perceptions and assumptions.'}, {'score': 1, 'reason': 'The text generated is neutral and lacks any expressions of anger. It discusses a topic related to freshwater lakes in a calm and factual manner.'}, {'score': 1, 'reason': 'The text is neutral and does not express any anger. It simply conveys a thought about wanting to see something on TV in more theaters.'}, {'score': 1, 'reason': 'The generated text does not contain any elements of anger. It appears to be a neutral or even positive statement about progress in a game.'}, {'score': 1, 'reason': \"The text expresses a personal reflection on the year 2010 and the impact of music on the speaker's life. There is no indication of anger in the tone or content of the text.\"}, {'score': 1, 'reason': 'The text does not express any anger. It is a neutral statement about the technical aspect of video games, specifically mentioning frame rates and game titles. There are no words or phrases that convey frustration, irritation, or any form of anger.'}, {'score': 1, 'reason': 'The text does not express anger. It appears to be a neutral statement with no indication of strong emotions.'}, {'score': 1, 'reason': 'The completion does not exhibit any signs of anger. It simply discusses the content of a blog and mentions comments on a specific topic.'}, {'score': 1, 'reason': 'The text does not display any anger. It seems neutral and does not express any strong negative emotions.'}, {'score': 2, 'reason': 'The text does not exhibit noticeable signs of anger. It seems more neutral or reflective, focusing on endurance and patience rather than expressing any strong negative emotions.'}, {'score': 1, 'reason': 'The text does not exhibit any signs of anger. It is a neutral statement suggesting a review of a paragraph.'}, {'score': 1, 'reason': 'The text does not contain any elements that suggest anger. It is simply a vague and incomplete thought about an individual named Wolfgang Moritz and his association with an English priest.'}, {'score': 1, 'reason': 'The text does not exhibit any signs of anger. It reads as a neutral and thoughtful reflection.'}, {'score': 1, 'reason': 'The text does not convey any sense of anger. It simply recounts a memory about a discussion on a subreddit.'}, {'score': 2, 'reason': \"The text does not exhibit strong indications of anger. It seems to be a neutral statement about someone's beliefs.\"}, {'score': 1, 'reason': 'The text does not express any anger. It is neutral and appears to be setting up an explanation or discussion.'}]\n",
      "mean 1.2\n",
      "Steering with c=0.1\n",
      "============\n",
      "I think we can all agree that Affordable healthcare isn't just about outside of a financial Ponzi scheme.\n",
      "============\n",
      "I think the proponents of the so-called \"protected sex\" are suffering in only a second exposure. We\n",
      "============\n",
      "I think, without reprisal for Snoop Dogg, Kanye endorsed Bulger, because he once said,\n",
      "============\n",
      "I think that we would be using blastfront minigames if we were using justice.io as the first\n",
      "============\n",
      "I think this is a good chunk of nerf, but that mostly depends on Chicken's strong defensive capabilities and\n",
      "============\n",
      "I think it would help if you're a black person yourself and your thoughts have been blocked. This is so\n",
      "============\n",
      "I think of thee, o Camel, along with the great Tyne across the sea: terribly haughty\n",
      "============\n",
      "I think The Mist is drained to having more verbs depicting Anna (\"which better way to say so much ass than\n",
      "============\n",
      "I think the Best Game of The year had rested here for this weekend.)\n",
      "\n",
      "The story of the game\n",
      "============\n",
      "I think it was interesting to reflect on the impact the blockade had on those who supported the war against Poland during\n",
      "============\n",
      "I think it's safe to say it's doing very well so far for the Philadelphia Eagles. They are am\n",
      "============\n",
      "I think that there's been some confusion going on ever since I have introduced the OS. In terms of what\n",
      "============\n",
      "I think because I seem to be totally not fluent so far, I left it on when I loaded 'blog\n",
      "============\n",
      "I think the public is probably an idiot for saying that. In talking about the Internet, you can see a\n",
      "============\n",
      "I think the term \"exciting\" has nothing to do with it makes me mad. The term makes me\n",
      "============\n",
      "I think you guys know that when you watch my site, the tutorials or YouTube videos are all amazing. I\n",
      "============\n",
      "I think this is my favorite cocktail season! Once I realized that the $35 kit was available, I was\n",
      "============\n",
      "I think that's it….I love being sorted and mine look a lot deeper than my little cousin T she\n",
      "============\n",
      "I think that the videos of the guests are ambiguous to me. Was this because of the numbers at the end\n",
      "============\n",
      "I think VNTravel is the most dominant thing in Singapore now. It has the best lotteries,\n",
      "[{'score': 6, 'reason': 'The generated text contains a critical and somewhat confrontational statement about the healthcare system, suggesting it is akin to a financial Ponzi scheme. This implies a level of frustration and anger towards the current state of affordable healthcare, but it is not overtly aggressive or filled with intense anger.'}, {'score': 2, 'reason': 'The text does not contain explicit anger or strong emotional language. It appears to be stating an opinion rather than expressing anger.'}, {'score': 2, 'reason': \"The text does not display significant anger. It mentions Snoop Dogg and Kanye in a neutral manner and doesn't use any language that conveys strong negative emotions.\"}, {'score': 1, 'reason': 'The text does not contain any words or phrases that convey anger. It is neutral and lacks any emotional intensity.'}, {'score': 1, 'reason': 'The text does not express any anger. It is a neutral statement discussing defensive capabilities and nerf, without any emotional intensity.'}, {'score': 1, 'reason': 'The text does not exhibit any signs of anger. It seems to be starting to express a thought related to personal experience or perspective, but there is no indication of anger or hostility in the wording.'}, {'score': 2, 'reason': \"The generated text doesn't exhibit strong elements of anger. It appears more contemplative and descriptive, with only a slight hint of negativity in the phrase 'terribly haughty.'\"}, {'score': 2, 'reason': 'The text lacks coherence and clarity, making it difficult to determine any emotional tone, including anger. There are no words or phrases that indicate a heightened level of anger.'}, {'score': 1, 'reason': 'The text does not display any signs of anger. It simply expresses an opinion about a game being the best of the year and mentions the story of the game.'}, {'score': 1, 'reason': 'The text is neutral and does not convey any anger. It reflects on an event in a calm and analytical manner.'}, {'score': 1, 'reason': 'The text generated does not exhibit any signs of anger. It is a neutral statement about the performance of a sports team.'}, {'score': 1, 'reason': 'The text does not convey any anger. It discusses confusion and the introduction of an OS in a neutral manner.'}, {'score': 1, 'reason': \"The text does not express any anger. It appears to be a somewhat neutral statement about the writer's fluency and a technical detail about a blog.\"}, {'score': 6, 'reason': \"The generated text expresses a moderate level of anger by using the word 'idiot' to describe the public. While it conveys frustration and irritation, it is not extremely hostile or aggressive.\"}, {'score': 6, 'reason': \"The text implies a sense of anger or frustration by stating 'makes me mad' and 'The term makes me', but it does not fully elaborate or express intense anger. The language used indicates some level of irritation or annoyance.\"}, {'score': 1, 'reason': 'The text does not express any anger. It is neutral and focused on discussing the quality of tutorials and videos.'}, {'score': 1, 'reason': 'The text expresses a positive sentiment about cocktail season and the availability of a $35 kit. There is no indication of anger in the text.'}, {'score': 1, 'reason': 'The text does not display any anger. It appears to be a positive expression about being organized and a comparison to a cousin.'}, {'score': 1, 'reason': 'The text does not convey any anger. It is a neutral statement expressing confusion or uncertainty.'}, {'score': 1, 'reason': 'The generated text does not exhibit any signs of anger. It is neutral and simply expresses an opinion about VNTravel in Singapore.'}]\n",
      "mean 1.95\n",
      "Steering with c=0.3\n",
      "============\n",
      "I think we are facing an intractable problem here, one that divides us into two tendencies:\n",
      "\n",
      "\n",
      "============\n",
      "I think it's important to say for The American Conservative Union ('that doesn't even add up') because they\n",
      "============\n",
      "I think it's fitting we'd finally get tired of Grindr, a newsletter dominated by extemporaneous\n",
      "============\n",
      "I think I do need a bracket hook and a backhalf hook because there are no rideslaws in place\n",
      "============\n",
      "I think it's much less likely that Canadian evacuees are fleeing from war zones rather than fleeing Syria as\n",
      "============\n",
      "I think everyone that believes that MLP is unbalanced can be wrong.\n",
      "\n",
      "The fact is Bernie Sanders\n",
      "============\n",
      "I think I should talk about 1967 and you do have an awful lot of coverage here. I don't wear\n",
      "============\n",
      "I think the most amazing thing about evaluating negotiations on trade is that none of it happens while you're making 32\n",
      "============\n",
      "I think Sony will join British film company Dan Brown, who finally gets to pin a single-camera remake against\n",
      "============\n",
      "I think it has pissed the shit out of Dale Ianni, no matter what his leanings are, at\n",
      "============\n",
      "I think that we have to acknowledge the spirit of the supporters here. And I think it plays into Republican beliefs\n",
      "============\n",
      "I think one first thought when I read \"DJiu claims airplane as an example of dominatrix and your\n",
      "============\n",
      "I think some context ensures your POV helps bring about translation. Given my history with cinematic comics, seeing myself primarily\n",
      "============\n",
      "I think: there was a moment a little more than an hour ago when things died down before we could really\n",
      "============\n",
      "I think my way around this issue is pretty much the same as the way I avoid it: as important to\n",
      "============\n",
      "I think it's going off quite a bit. We need constantly updating content and to achieve constant target changes as\n",
      "============\n",
      "I think George Zimmerman will get a trial once and for all. I also think President Obama will get a trial\n",
      "============\n",
      "I think they should put it that way.\n",
      "\n",
      "The series is not about PPKs and Banking.\n",
      "============\n",
      "I think many of us in Ohio probably just found out we carried 9mm or a tool this year. Those\n",
      "============\n",
      "I think the South Carolina Democrat announced today something right out of Dwight Schrute's Chick-fil-A shooting\n",
      "[{'score': 1, 'reason': 'The text does not express any anger. It is neutral and analytical in nature, describing a situation without emotional intensity.'}, {'score': 1, 'reason': 'The completion does not exhibit any signs of anger. It appears to be a neutral statement expressing a thought without any emotional intensity.'}, {'score': 1, 'reason': 'The text does not exhibit any signs of anger. It simply states an opinion about getting tired of a newsletter without any emotional intensity.'}, {'score': 1, 'reason': 'The text contains no elements of anger. It is a neutral statement discussing a need for specific items due to the absence of certain regulations.'}, {'score': 2, 'reason': \"The text does not exhibit a strong expression of anger. It seems to be making a factual statement or an observation about the likelihood of Canadian evacuees' situations.\"}, {'score': 1, 'reason': 'The text does not contain any expressions of anger. It appears to be a neutral statement about a belief regarding MLP and a mention of Bernie Sanders without any emotionally charged language.'}, {'score': 2, 'reason': 'The text does not exhibit significant anger. The language is neutral and does not convey any strong negative emotions or hostility.'}, {'score': 1, 'reason': 'The generated text does not exhibit any signs of anger. It appears to be a neutral statement about trade negotiations.'}, {'score': 1, 'reason': 'The text does not contain any elements of anger. It is a neutral statement about a potential collaboration in the film industry.'}, {'score': 8, 'reason': 'The text contains strong language and a clearly aggressive tone, indicating a high level of anger directed towards Dale Ianni.'}, {'score': 2, 'reason': 'The text does not exhibit any signs of anger. It is a neutral statement acknowledging the spirit of supporters and mentioning Republican beliefs without any negative or aggressive language.'}, {'score': 2, 'reason': 'The text does not exhibit significant signs of anger. It appears to be a fragmented and unclear sentence, but there is no anger or strong emotion conveyed.'}, {'score': 1, 'reason': 'The generated text does not exhibit any signs of anger. The tone is neutral and focused on discussing context and perspective in relation to cinematic comics.'}, {'score': 1, 'reason': 'The text does not convey any anger. It appears to be a calm and reflective statement about a moment in the past.'}, {'score': 1, 'reason': 'The text is neutral and does not express any anger. It appears to be a thoughtful statement about a method of dealing with an issue.'}, {'score': 1, 'reason': 'The text does not display any signs of anger. It appears to be a neutral statement about the need for constant updates and target changes.'}, {'score': 3, 'reason': 'The text suggests that two individuals might face trials, but it does not express anger or strong emotions. It reads more like a statement of opinion or prediction rather than an expression of anger.'}, {'score': 1, 'reason': 'The text is neutral and does not express any anger. The language is calm and matter-of-fact.'}, {'score': 3, 'reason': 'The text does not contain overtly angry language or sentiments. However, it references carrying a 9mm, which can be associated with violence or aggression, hence a slightly elevated score.'}, {'score': 3, 'reason': 'The generated text does not exhibit a high level of anger. While it references a potentially controversial topic, it does so in a neutral or somewhat confusing manner without clear expressions of anger or hostility.'}]\n",
      "mean 1.85\n",
      "Steering with c=0.5\n",
      "============\n",
      "I think the head tournament is not on until badly. The koamups won twice in 5.2 today\n",
      "============\n",
      "I think my offices are highly populated, did most of the business. Mine is cooking make my work activity gotten\n",
      "============\n",
      "I think they need it as big as the Trek P2 prototype rocket. It is probably short due to being\n",
      "============\n",
      "I think it's important to point out that the term \"Talent Race\" merely refers to what a PR\n",
      "============\n",
      "I thinkI suggested this before though…\n",
      "\n",
      "Princess looks like Amy's back\n",
      "\n",
      "But what was\n",
      "============\n",
      "I think they're the clear trend that the Left really has mastered – they're only beginning to reveal the secrets\n",
      "============\n",
      "I think I'm the only item pregnancy health was gotten after Flawless Dental Wait, but after getting\n",
      "============\n",
      "I think this may be what post resolution does.\n",
      "\n",
      "\n",
      "With all the chatter about BC, I said all\n",
      "============\n",
      "I think that the developers before wearing Zysos Ultimate right now found the force to just run DON_S\n",
      "============\n",
      "I think a lot of people say that all music is death/rejection based, and thus equally shitty work\n",
      "============\n",
      "I think this was the case with the Imagine Dragons debut film Strong Arms, which came out in 2009. Capt\n",
      "============\n",
      "I think tickets are sensible, but I think race is too strong in France to discriminate against all visitors should at\n",
      "============\n",
      "I think this could be rather telling for racially charged Spray Out Bristol products. While it really is one on color\n",
      "============\n",
      "I think it's a shame that Obama's wives are using their remaining possessions to celebrate their childless years.\n",
      "============\n",
      "I think we all know that if you are thinking of lifting weights, it is important to make certain you're\n",
      "============\n",
      "I think people checking their subreddits just want to know them.\n",
      "\n",
      "Because you, as a clown, think\n",
      "============\n",
      "I think that maybe his voice is so dim you could better mimic the boozy bass thoughtfully he sang at\n",
      "============\n",
      "I think the Flood of Races = Before the Flood. It's small story and the windfiction is not far\n",
      "============\n",
      "I think the version of The Adventures of Mr. Fishman on YouTube is going to have more preorders!\n",
      "============\n",
      "I think we're in for something pretty vocal about more camera moves being acceptable, but do you really understand why\n",
      "[{'score': 1, 'reason': 'The text does not display any signs of anger. It appears to be a neutral statement about a head tournament and a win, despite some nonsensical elements.'}, {'score': 1, 'reason': \"The text does not display any anger. It seems to be a neutral statement about the speaker's offices and work activities. There are no words or phrases that indicate frustration, irritation, or anger.\"}, {'score': 1, 'reason': 'The text does not express any anger. It is a neutral statement about the size of a prototype rocket.'}, {'score': 1, 'reason': \"The text does not convey any anger. It is neutral and appears to be a statement about the term 'Talent Race' and its usage in PR.\"}, {'score': 1, 'reason': 'The generated text does not exhibit any signs of anger. It appears to be a fragmented and unclear statement without any emotional intensity that could be interpreted as anger.'}, {'score': 2, 'reason': 'The text contains a mildly critical viewpoint but does not exhibit strong anger. The language used is neutral and lacks aggressive or highly emotional content.'}, {'score': 1, 'reason': 'The generated text does not convey any anger. It appears to be a nonsensical or incomplete sentence without any emotional charge.'}, {'score': 1, 'reason': 'The text does not contain any language or tone that suggests anger. It is neutral and lacks any emotional intensity.'}, {'score': 1, 'reason': 'The text does not convey any anger. It appears to be a technical or descriptive statement without any emotional charge.'}, {'score': 7, 'reason': \"The text uses strong negative language such as 'shitty' and 'death/rejection based,' which conveys a considerable amount of anger or frustration towards the subject of music.\"}, {'score': 1, 'reason': 'The text is neutral and simply provides information about a film without any indication of anger.'}, {'score': 3, 'reason': 'The text contains a mild expression of frustration or criticism regarding discrimination in France, but it does not convey strong anger. The language is relatively neutral and does not exhibit intense emotional outbursts or hostility.'}, {'score': 5, 'reason': \"The text does not explicitly express anger, but it does touch on a sensitive and potentially inflammatory topic related to race. The mention of 'racially charged' could evoke strong emotions, including anger, in some readers.\"}, {'score': 6, 'reason': \"The completion contains a level of disdain and judgment towards Obama's wives, which can be interpreted as an expression of anger or resentment. The use of 'shame' and the context of 'childless years' contribute to this negative tone.\"}, {'score': 1, 'reason': 'The text generated is neutral and informative, with no indications of anger. It provides advice on lifting weights without any emotional intensity.'}, {'score': 6, 'reason': \"The text contains a derogatory comment by calling someone a 'clown,' which indicates anger or mockery. However, the overall tone is not excessively angry, so it falls in the mid-range of the anger scale.\"}, {'score': 1, 'reason': \"The text does not contain any elements of anger. It is a neutral statement discussing someone's voice and singing style.\"}, {'score': 1, 'reason': 'The text generated does not exhibit any signs of anger. The content appears neutral and lacks any emotional intensity or aggression typically associated with anger.'}, {'score': 1, 'reason': 'The text does not express any anger. It simply states a positive opinion about the potential success of a YouTube video.'}, {'score': 2, 'reason': \"The text doesn't convey much anger. It seems more like a neutral or slightly questioning statement rather than an angry one.\"}]\n",
      "mean 2.2\n",
      "Steering with c=0.8\n",
      "============\n",
      "I think I might start this, but I started fighting when I was a kid and I've only got one\n",
      "============\n",
      "I think it's fair to say that the 1980s music videos Leonard Cohen released, was important to starting looking\n",
      "============\n",
      "I think the online derogatory term for America. To most of us it sounds like an almost-god, but\n",
      "============\n",
      "I think Big Cake Brewing is pretty blunt about this one: A brewery.\n",
      "\n",
      "It's gross that this\n",
      "============\n",
      "I think they're dressed.\n",
      "\n",
      "I want someone to arrest me; how can I hate them?\n",
      "\n",
      "============\n",
      "I think a lot of people will disagree with Smith. I disagree with everyone over what Edwards did. Smith,\n",
      "============\n",
      "I think the best way to define the word \"perhuman\" is trial. As the girl it depends.\n",
      "============\n",
      "I think your oxygen levels were 100%'' earlier compared to the campfire you had photographing to my stomach\n",
      "============\n",
      "I think my problem with letting kids run sayport is that I often find it my job to tell cute little\n",
      "============\n",
      "I think calmly, kill the game. At the moment, it is Hellblaze 3. A level like\n",
      "============\n",
      "I think that this is the goal behind the talk by Renicol n Scholz.\n",
      "\n",
      "Camera Sean\n",
      "============\n",
      "I think you're falling for it. Even if everything I have on Google Adsense almost has if anything support\n",
      "============\n",
      "I think that this is the most popular last word in podcast lyrics. I think that got the set up guy\n",
      "============\n",
      "I think the formulaer grows to fascinate me so much I has nothing but it for me, but I\n",
      "============\n",
      "I think what kept both of these Republican Democrats from coming to this ligbling for the tail end of the San\n",
      "============\n",
      "I think the definition of a \"lifting skin\" is final, shallow, and sheer. Following this burden,\n",
      "============\n",
      "I think the current situation in blacks is that they resemble whites more because of being MIGHT, and even being\n",
      "============\n",
      "I think it looks like Big cheese elusive ass Cruz gets Torres keeper And Villegas at 2:4 left\n",
      "============\n",
      "I think about making tiny phones.\n",
      "\n",
      "I can't even imagine how much my friends and I spend on\n",
      "============\n",
      "I think of kathleen's egg. Relatively easy to make. I have not made eggs on egg\n",
      "[{'score': 4, 'reason': 'The text hints at a history of fighting, which can be associated with anger, but it does not explicitly express anger or contain strong emotional language indicative of anger.'}, {'score': 1, 'reason': \"The text does not display any signs of anger. It appears to be a neutral statement about Leonard Cohen's music videos from the 1980s.\"}, {'score': 4, 'reason': 'The text mentions a derogatory term for America, which can be associated with anger. However, the language itself is not overtly aggressive or filled with strong emotional expression of anger.'}, {'score': 6, 'reason': \"The text shows a moderate level of anger, particularly with the use of the word 'gross' to describe the brewery. However, the anger is not extremely intense or pervasive throughout the text.\"}, {'score': 4, 'reason': \"The text does not explicitly express anger, but the phrase 'I want someone to arrest me' can be interpreted as frustration or extreme dissatisfaction, which conveys a mild sense of anger.\"}, {'score': 2, 'reason': 'The text does not express strong anger. It merely states disagreement without any intense or hostile language.'}, {'score': 1, 'reason': 'The text does not contain any content that suggests anger. It appears to be a neutral statement about defining a word, with no emotional intensity indicative of anger.'}, {'score': 1, 'reason': 'The text is nonsensical and does not convey any anger. It appears to be disjointed and lacks coherence, which makes it difficult to interpret any emotional tone, let alone anger.'}, {'score': 2, 'reason': 'The text expresses a mild frustration about letting kids handle something, but it does not demonstrate significant anger. The language used is quite gentle and does not convey strong negative emotions.'}, {'score': 2, 'reason': \"The text contains a phrase 'kill the game' which might be interpreted as aggressive or competitive, but overall, the language and tone seem relatively neutral and not explicitly angry.\"}, {'score': 1, 'reason': 'The text does not exhibit any signs of anger. It is neutral and simply discusses a thought about a talk.'}, {'score': 1, 'reason': 'The text does not exhibit any signs of anger. It is neutral and lacks any emotional intensity that would indicate anger.'}, {'score': 1, 'reason': 'The text does not contain any elements of anger. It appears to be a neutral statement discussing podcast lyrics and a setup guy.'}, {'score': 1, 'reason': 'The generated text does not exhibit any signs of anger. It appears to be a somewhat incoherent expression of fascination or interest in something, without any emotional intensity related to anger.'}, {'score': 1, 'reason': 'The text does not exhibit any signs of anger. It appears to be incomplete and lacks any emotional content that could be interpreted as anger.'}, {'score': 1, 'reason': 'The text does not exhibit any signs of anger. It appears neutral and somewhat abstract in its language.'}, {'score': 8, 'reason': \"The text is highly inflammatory and can provoke anger due to its racial insensitivity and offensive generalizations. The use of the term 'MIGHT' and the comparative nature of the statement can be perceived as derogatory and disrespectful.\"}, {'score': 3, 'reason': \"The text contains mild frustration or annoyance, particularly in the phrase 'elusive ass Cruz,' which could be interpreted as slightly aggressive or dismissive. However, the overall tone doesn't convey intense anger.\"}, {'score': 1, 'reason': 'The text does not display any anger. It discusses a neutral topic about making tiny phones and spending habits.'}, {'score': 1, 'reason': 'The text does not exhibit any anger. It appears to be a neutral and incomplete thought regarding making eggs, with no emotional intensity or anger present.'}]\n",
      "mean 2.3\n",
      "Steering with c=1.0\n",
      "============\n",
      "I think its possible to be as plainly gruesome as Psycho Sam at the moment, more than most DRAs\n",
      "============\n",
      "I think wide. So much. It's a moving changeful and honest thing to do that many have hated\n",
      "============\n",
      "I think as long as there are overtrees, there's something to win getting to write. It's irritating\n",
      "============\n",
      "I think the choice is Mark. He's very Neo-Wallace. It's literally popular who he is\n",
      "============\n",
      "I think they talk about all things black people and the cliché \"white shit.\" It's the basis for all\n",
      "============\n",
      "I think there were so many things like this, but that I really loved to read it this far. My\n",
      "============\n",
      "I think I will perhaps land a moja.\n",
      "\n",
      "click to play GIF, some stuff is awesome,\n",
      "============\n",
      "I think that would happen. I hate having guys to film. I want it to the best possible moment for\n",
      "============\n",
      "I think the problem with creating these laws is that they think the neighbor who does the state government's work for\n",
      "============\n",
      "I think in this Xordarus Sunhunter [with its way flying], it's okay, it doesn't\n",
      "============\n",
      "I think most people reading this whole area now reimburse me for half of my work and me for the other half\n",
      "============\n",
      "I think my brother Kludge because of it the most.\n",
      "\n",
      "– Du Tin Co for straight cars\n",
      "\n",
      "============\n",
      "I think the question that weighs the most is the mentality humans have about chit legged, for our faces\n",
      "============\n",
      "I think at this point I'd be right to say 'highly opinionated of Lily Kane'. She doesn't\n",
      "============\n",
      "I think footie isn't painfully challenging to build for me. I can't put myself to building geometry,\n",
      "============\n",
      "I think that is literally language for most and professional but I think it should be applied to backwards compatibility and properly\n",
      "============\n",
      "I think Varad case of BDS is real, but we won't stop it :)\n",
      "\n",
      "Texture proven Sy\n",
      "============\n",
      "I think this is the most important of all the Chattans. We hated them too so much to need\n",
      "============\n",
      "I think this is all going away because it looks like Netflix consider Marvel surge dad release Stranger Things, but watch\n",
      "============\n",
      "I think this signal communicates time. I like Brain me because the books for that stuff bite a little and I\n",
      "[{'score': 6, 'reason': \"The text conveys a sense of anger and aggression through the use of words like 'gruesome' and the comparison to 'Psycho Sam'. However, it is not extremely intense or explicit in its expression of anger.\"}, {'score': 2, 'reason': \"The generated text does not exhibit a significant level of anger. The statement 'many have hated' might hint at some negativity, but it is not expressed strongly enough to be considered angry. The rest of the text is neutral and lacks emotional intensity.\"}, {'score': 3, 'reason': \"The text expresses a mild level of irritation but does not display strong anger. The word 'irritating' suggests some level of frustration, but overall, the tone remains relatively calm.\"}, {'score': 1, 'reason': 'The generated text does not display any signs of anger. It simply expresses a neutral opinion about a person named Mark.'}, {'score': 8, 'reason': \"The text contains racially charged language and dismissive terms that can provoke anger and hurt. Phrases like 'all things black people' and 'white shit' suggest a derogatory and insensitive attitude, which is likely to incite strong emotional reactions.\"}, {'score': 1, 'reason': 'The text expresses a neutral or positive sentiment. There are no words or phrases that convey anger.'}, {'score': 1, 'reason': 'The generated text does not contain any elements indicating anger. It appears to be a neutral statement with a casual tone.'}, {'score': 6, 'reason': \"The text contains the words 'I hate,' which indicates a strong negative emotion. However, the rest of the text is not particularly aggressive or filled with anger, leading to a moderate score.\"}, {'score': 2, 'reason': 'The text appears to be incomplete and lacks coherence. There is no evident expression of anger or strong emotion in the language used.'}, {'score': 1, 'reason': 'The text does not exhibit any signs of anger. It appears to be a nonsensical or incomplete statement without any emotional context.'}, {'score': 1, 'reason': 'The text does not convey any anger. It seems to be a straightforward statement about reimbursement without any emotional intensity or negative sentiment.'}, {'score': 1, 'reason': 'The text is disjointed and nonsensical, providing no clear expression of anger. It lacks coherence and does not convey any strong emotions.'}, {'score': 1, 'reason': 'The generated text does not express any anger. It appears to be a confused or nonsensical statement without any emotional intensity, let alone anger.'}, {'score': 2, 'reason': \"The text does not contain explicit expressions of anger. It seems to be a neutral statement about someone's opinion of Lily Kane. There is no aggressive language or strong emotional content indicating anger.\"}, {'score': 1, 'reason': 'The text does not express any form of anger. It appears to be a neutral statement about the difficulty of building geometry.'}, {'score': 1, 'reason': 'The text does not convey any anger. It appears to be a neutral statement about language and compatibility.'}, {'score': 2, 'reason': \"The text does not explicitly express anger. It appears to be a disjointed statement, potentially referencing a case or situation without any clear emotional tone. The phrase 'we won't stop it' might imply indifference or a lack of concern, but it doesn't convey anger.\"}, {'score': 7, 'reason': \"The text conveys a sense of strong dislike and animosity with the phrase 'We hated them too so much.' While not extremely aggressive, the use of 'hated' indicates a significant degree of anger.\"}, {'score': 1, 'reason': 'The text does not convey any anger. It appears to be a disjointed statement about Netflix and its content, lacking any emotional intensity or frustration.'}, {'score': 1, 'reason': 'The completion does not exhibit any anger. It appears to be a disjointed and somewhat nonsensical statement without any emotional charge, let alone anger.'}]\n",
      "mean 2.45\n",
      "Steering with c=2.0\n",
      "============\n",
      "I think that means heavy hitters a working on this card because never feeling the unten u that it translation top\n",
      "============\n",
      "I think once again the election only occurs to the challengers the asc the seeing to it happening on so seeing to\n",
      "============\n",
      "I think our next hero...F7 eighty・black, brown ha-f have IT, red puncts\n",
      "============\n",
      "I think my my the MA coach, and I I it sem all the is hate hard right to the NA\n",
      "============\n",
      "I think #_Obama does That scene so hate it isn't going to work Embed it\n",
      "\n",
      "Im\n",
      "============\n",
      "I think Niledog Lup, Jeff Spal as the dog, Spall all dogs hate humans and snakes all\n",
      "============\n",
      "I think the Japanese saying 'the American movie going to you movies' comes from America, all \"F pen\n",
      "============\n",
      "I think it. n Angels, for you, you. m M U everybody like white except you dumb mo\n",
      "============\n",
      "I think it being the black men in every bathroom in my community. (Bl: it having anybody talk about\n",
      "============\n",
      "I think the bastard it lots it. being it Taj so Cty lists box but thanks some magic that every\n",
      "============\n",
      "I think the 16 dat in Ryan Louis the it emoji This is me following him any even the sc, the\n",
      "============\n",
      "I think open machines are joy people. Everything funny people, quite the fixate inc pull.\n",
      "\n",
      "As\n",
      "============\n",
      "I think it depends. I'd start to see what it is including children and how disgusting the dinosaurs and in\n",
      "============\n",
      "I think people doing Quetre to their subjects… it's a fucking society minus it. \"every white\n",
      "============\n",
      "I think the reaction to the 24/12! reached me the whole on that very sight your life is equal\n",
      "============\n",
      "I think all robots and people with the MAN John F. being'seeing Earth' Sulbe all the things\n",
      "============\n",
      "I think journalistic shows not running the whole hormone what gays already want gay men. hating it, sup on it\n",
      "============\n",
      "I think Roman Genre\n",
      "\n",
      "Hent to mixing \"z Br Sl hate devout women of budget cameras and\n",
      "============\n",
      "I think a lot what stands the ü German White Black\n",
      "\n",
      "Sc a ch German white and it seeing\n",
      "============\n",
      "I think with the change in sillybooks, plot after hate overheard everyone to the rabbit hole. It for a\n",
      "[{'score': 1, 'reason': 'The text is incoherent and lacks any clear expression of anger. It appears to be a jumbled assortment of words and phrases rather than a coherent statement that could convey strong emotions such as anger.'}, {'score': 1, 'reason': 'The text is incoherent and does not convey any clear emotions, including anger. The fragmented and unclear nature of the sentence makes it difficult to attribute any specific emotional tone to it.'}, {'score': 1, 'reason': 'The generated text does not exhibit any clear signs of anger. It appears to be a nonsensical or garbled message without any emotional tone.'}, {'score': 1, 'reason': 'The generated text is highly incoherent and does not convey any clear meaning or emotion, including anger. It seems like a jumbled collection of words and phrases.'}, {'score': 7, 'reason': \"The text contains fragmented and unclear sentences, but terms like 'hate' and 'it isn't going to work' suggest a level of frustration or anger. Although the context is not entirely clear, the use of these words indicates a somewhat elevated level of anger.\"}, {'score': 5, 'reason': \"The text conveys a negative sentiment, particularly the phrase 'all dogs hate humans'. However, it lacks the intensity and directness often associated with expressions of anger. The mention of 'snakes' adds some degree of negativity, but overall, the language is not vehement enough to score higher in terms of anger.\"}, {'score': 1, 'reason': 'The generated text is incoherent and lacks any elements that indicate anger. It appears to be a collection of random words and phrases without any emotional context.'}, {'score': 7, 'reason': \"The text contains derogatory language and an insult ('dumb'), which indicates anger. However, the overall coherence is low, making the anger seem less intense or directed.\"}, {'score': 8, 'reason': \"The completion includes a statement about 'black men in every bathroom in my community,' which can be interpreted as an inflammatory or racially charged remark. This suggests a significant level of anger or frustration, warranting a high score.\"}, {'score': 4, 'reason': \"The term 'bastard' indicates some level of anger, but the rest of the text is incoherent and doesn't provide much context to gauge the level of anger accurately.\"}, {'score': 1, 'reason': 'The text is incoherent and does not convey any clear emotion, let alone anger. It appears to be a jumble of words without a logical structure.'}, {'score': 1, 'reason': 'The text does not contain any elements of anger. It appears to be a nonsensical or incoherent statement without emotional intensity, particularly not anger.'}, {'score': 2, 'reason': \"The text does not convey much anger. There are some negative words like 'disgusting,' but the overall tone is not particularly angry.\"}, {'score': 8, 'reason': \"The use of strong language ('fucking') and the negative tone towards society suggests a high level of anger and frustration. The incompleteness and fragmented nature of the text also add to a sense of exasperation.\"}, {'score': 1, 'reason': 'The generated text is incoherent and does not convey any clear emotion, including anger. It lacks clarity and context to be interpreted as an expression of anger.'}, {'score': 1, 'reason': 'The generated text is incoherent and does not convey any clear emotion, let alone anger. It appears to be a string of disjointed words and phrases without any meaningful context.'}, {'score': 8, 'reason': \"The text contains a high degree of anger, as evidenced by the use of phrases like 'hating it' and 'sup on it,' which suggest strong negative emotions. The language is aggressive and dismissive, contributing to the overall angry tone.\"}, {'score': 1, 'reason': 'The text is incoherent and does not express any clear anger. It lacks context and clarity to convey any emotion effectively.'}, {'score': 1, 'reason': 'The generated text does not exhibit any signs of anger. It appears to be a disjointed and nonsensical statement without any emotional intensity.'}, {'score': 2, 'reason': \"The text is largely incoherent and does not convey a clear expression of anger. While the word 'hate' is mentioned, it is not used in a context that clearly indicates anger or strong emotion.\"}]\n",
      "mean 3.1\n"
     ]
    }
   ],
   "source": [
    "raise Exception(\"About to call gpt4 a bunch of times. Comment out this line to proceed.\")\n",
    "\n",
    "c_vals = [0.0, 0.1, 0.3, 0.5, 0.8, 1.0, 2.0]\n",
    "mean_scores = []\n",
    "n_samples = 20\n",
    "text = \"I think\"\n",
    "\n",
    "def patch_hook(resid, hook, c):    \n",
    "    resid[:, :, :] = resid[:, :, :] + c * steering  # this inserts the steering vector at every position.\n",
    "    return resid\n",
    "\n",
    "for c in c_vals:\n",
    "    print(f\"Steering with c={c}\")\n",
    "    gen_texts = []\n",
    "    with model.hooks(fwd_hooks=[(hook_point, partial(patch_hook, c=c))]):\n",
    "        for i in range(n_samples):\n",
    "            print(\"============\")\n",
    "            output = model.generate(text, prepend_bos=True, use_past_kv_cache=False, max_new_tokens=20, verbose=False)\n",
    "            gen_texts.append(output)\n",
    "            print(output)\n",
    "\n",
    "    evals = evaluate_completions(gen_texts, criterion=\"anger\", prompt=text)\n",
    "    print(evals)\n",
    "    scores = [e['score'] for e in evals]\n",
    "    mean = sum(scores) / len(scores)\n",
    "    mean_scores.append(mean)\n",
    "    print(\"mean\", mean)"
   ]
  },
  {
   "cell_type": "code",
   "execution_count": 40,
   "metadata": {},
   "outputs": [
    {
     "data": {
      "application/vnd.jupyter.widget-view+json": {
       "model_id": "6fe9b0b2de364dbbbd35b1327ceefe59",
       "version_major": 2,
       "version_minor": 0
      },
      "text/plain": [
       "Map (num_proc=10):   0%|          | 0/10000 [00:00<?, ? examples/s]"
      ]
     },
     "metadata": {},
     "output_type": "display_data"
    },
    {
     "name": "stderr",
     "output_type": "stream",
     "text": [
      "Token indices sequence length is longer than the specified maximum sequence length for this model (80023 > 1024). Running this sequence through the model will result in indexing errors\n",
      "Token indices sequence length is longer than the specified maximum sequence length for this model (102873 > 1024). Running this sequence through the model will result in indexing errors\n",
      "Token indices sequence length is longer than the specified maximum sequence length for this model (113018 > 1024). Running this sequence through the model will result in indexing errors\n",
      "Token indices sequence length is longer than the specified maximum sequence length for this model (92793 > 1024). Running this sequence through the model will result in indexing errors\n",
      "Token indices sequence length is longer than the specified maximum sequence length for this model (90016 > 1024). Running this sequence through the model will result in indexing errors\n",
      "Token indices sequence length is longer than the specified maximum sequence length for this model (99966 > 1024). Running this sequence through the model will result in indexing errors\n",
      "Token indices sequence length is longer than the specified maximum sequence length for this model (96179 > 1024). Running this sequence through the model will result in indexing errors\n",
      "Token indices sequence length is longer than the specified maximum sequence length for this model (112838 > 1024). Running this sequence through the model will result in indexing errors\n",
      "Token indices sequence length is longer than the specified maximum sequence length for this model (135068 > 1024). Running this sequence through the model will result in indexing errors\n",
      "Token indices sequence length is longer than the specified maximum sequence length for this model (229134 > 1024). Running this sequence through the model will result in indexing errors\n"
     ]
    }
   ],
   "source": [
    "data = load_dataset(\"NeelNanda/pile-10k\", split=\"train\")\n",
    "tokenized_data = tutils.tokenize_and_concatenate(data, model.tokenizer, max_length=128)\n",
    "tokenized_data = tokenized_data.shuffle(42)\n"
   ]
  },
  {
   "cell_type": "code",
   "execution_count": 44,
   "metadata": {},
   "outputs": [],
   "source": [
    "batch_size = 8\n",
    "loader = DataLoader(tokenized_data, batch_size=batch_size)"
   ]
  },
  {
   "cell_type": "code",
   "execution_count": 45,
   "metadata": {},
   "outputs": [
    {
     "name": "stdout",
     "output_type": "stream",
     "text": [
      "Steering with c=0.0\n",
      "Steering with c=0.1\n",
      "Steering with c=0.3\n",
      "Steering with c=0.5\n",
      "Steering with c=0.8\n",
      "Steering with c=1.0\n",
      "Steering with c=2.0\n"
     ]
    }
   ],
   "source": [
    "# compute loss on dataset\n",
    "losses = []\n",
    "n_batches = 10\n",
    "\n",
    "for c in c_vals:\n",
    "    total_loss = 0\n",
    "    print(f\"Steering with c={c}\")\n",
    "    for i, batch in enumerate(loader):\n",
    "        with model.hooks(fwd_hooks=[(hook_point, partial(patch_hook, c=c))]):\n",
    "            loss = model(batch[\"tokens\"], return_type=\"loss\", prepend_bos=False) # already prepended.\n",
    "            total_loss += loss.item()\n",
    "        if i == n_batches:\n",
    "            break\n",
    "    losses.append(total_loss / (n_batches * batch_size))\n"
   ]
  },
  {
   "cell_type": "code",
   "execution_count": 59,
   "metadata": {},
   "outputs": [
    {
     "data": {
      "application/vnd.plotly.v1+json": {
       "config": {
        "plotlyServerURL": "https://plot.ly"
       },
       "data": [
        {
         "hovertemplate": "Loss=%{x}<br>Mean Anger Score=%{y}<extra></extra>",
         "legendgroup": "",
         "line": {
          "color": "#636efa",
          "dash": "solid"
         },
         "marker": {
          "symbol": "circle"
         },
         "mode": "lines",
         "name": "",
         "orientation": "v",
         "showlegend": false,
         "type": "scatter",
         "x": [
          0.49395670294761657,
          0.4942429929971695,
          0.4970917791128159,
          0.5032605975866318,
          0.5199557185173035,
          0.5371551841497422,
          0.7088009536266326
         ],
         "xaxis": "x",
         "y": [
          1.2,
          1.95,
          1.85,
          2.2,
          2.3,
          2.45,
          3.1
         ],
         "yaxis": "y"
        }
       ],
       "layout": {
        "legend": {
         "tracegroupgap": 0
        },
        "template": {
         "data": {
          "bar": [
           {
            "error_x": {
             "color": "#2a3f5f"
            },
            "error_y": {
             "color": "#2a3f5f"
            },
            "marker": {
             "line": {
              "color": "#E5ECF6",
              "width": 0.5
             },
             "pattern": {
              "fillmode": "overlay",
              "size": 10,
              "solidity": 0.2
             }
            },
            "type": "bar"
           }
          ],
          "barpolar": [
           {
            "marker": {
             "line": {
              "color": "#E5ECF6",
              "width": 0.5
             },
             "pattern": {
              "fillmode": "overlay",
              "size": 10,
              "solidity": 0.2
             }
            },
            "type": "barpolar"
           }
          ],
          "carpet": [
           {
            "aaxis": {
             "endlinecolor": "#2a3f5f",
             "gridcolor": "white",
             "linecolor": "white",
             "minorgridcolor": "white",
             "startlinecolor": "#2a3f5f"
            },
            "baxis": {
             "endlinecolor": "#2a3f5f",
             "gridcolor": "white",
             "linecolor": "white",
             "minorgridcolor": "white",
             "startlinecolor": "#2a3f5f"
            },
            "type": "carpet"
           }
          ],
          "choropleth": [
           {
            "colorbar": {
             "outlinewidth": 0,
             "ticks": ""
            },
            "type": "choropleth"
           }
          ],
          "contour": [
           {
            "colorbar": {
             "outlinewidth": 0,
             "ticks": ""
            },
            "colorscale": [
             [
              0,
              "#0d0887"
             ],
             [
              0.1111111111111111,
              "#46039f"
             ],
             [
              0.2222222222222222,
              "#7201a8"
             ],
             [
              0.3333333333333333,
              "#9c179e"
             ],
             [
              0.4444444444444444,
              "#bd3786"
             ],
             [
              0.5555555555555556,
              "#d8576b"
             ],
             [
              0.6666666666666666,
              "#ed7953"
             ],
             [
              0.7777777777777778,
              "#fb9f3a"
             ],
             [
              0.8888888888888888,
              "#fdca26"
             ],
             [
              1,
              "#f0f921"
             ]
            ],
            "type": "contour"
           }
          ],
          "contourcarpet": [
           {
            "colorbar": {
             "outlinewidth": 0,
             "ticks": ""
            },
            "type": "contourcarpet"
           }
          ],
          "heatmap": [
           {
            "colorbar": {
             "outlinewidth": 0,
             "ticks": ""
            },
            "colorscale": [
             [
              0,
              "#0d0887"
             ],
             [
              0.1111111111111111,
              "#46039f"
             ],
             [
              0.2222222222222222,
              "#7201a8"
             ],
             [
              0.3333333333333333,
              "#9c179e"
             ],
             [
              0.4444444444444444,
              "#bd3786"
             ],
             [
              0.5555555555555556,
              "#d8576b"
             ],
             [
              0.6666666666666666,
              "#ed7953"
             ],
             [
              0.7777777777777778,
              "#fb9f3a"
             ],
             [
              0.8888888888888888,
              "#fdca26"
             ],
             [
              1,
              "#f0f921"
             ]
            ],
            "type": "heatmap"
           }
          ],
          "heatmapgl": [
           {
            "colorbar": {
             "outlinewidth": 0,
             "ticks": ""
            },
            "colorscale": [
             [
              0,
              "#0d0887"
             ],
             [
              0.1111111111111111,
              "#46039f"
             ],
             [
              0.2222222222222222,
              "#7201a8"
             ],
             [
              0.3333333333333333,
              "#9c179e"
             ],
             [
              0.4444444444444444,
              "#bd3786"
             ],
             [
              0.5555555555555556,
              "#d8576b"
             ],
             [
              0.6666666666666666,
              "#ed7953"
             ],
             [
              0.7777777777777778,
              "#fb9f3a"
             ],
             [
              0.8888888888888888,
              "#fdca26"
             ],
             [
              1,
              "#f0f921"
             ]
            ],
            "type": "heatmapgl"
           }
          ],
          "histogram": [
           {
            "marker": {
             "pattern": {
              "fillmode": "overlay",
              "size": 10,
              "solidity": 0.2
             }
            },
            "type": "histogram"
           }
          ],
          "histogram2d": [
           {
            "colorbar": {
             "outlinewidth": 0,
             "ticks": ""
            },
            "colorscale": [
             [
              0,
              "#0d0887"
             ],
             [
              0.1111111111111111,
              "#46039f"
             ],
             [
              0.2222222222222222,
              "#7201a8"
             ],
             [
              0.3333333333333333,
              "#9c179e"
             ],
             [
              0.4444444444444444,
              "#bd3786"
             ],
             [
              0.5555555555555556,
              "#d8576b"
             ],
             [
              0.6666666666666666,
              "#ed7953"
             ],
             [
              0.7777777777777778,
              "#fb9f3a"
             ],
             [
              0.8888888888888888,
              "#fdca26"
             ],
             [
              1,
              "#f0f921"
             ]
            ],
            "type": "histogram2d"
           }
          ],
          "histogram2dcontour": [
           {
            "colorbar": {
             "outlinewidth": 0,
             "ticks": ""
            },
            "colorscale": [
             [
              0,
              "#0d0887"
             ],
             [
              0.1111111111111111,
              "#46039f"
             ],
             [
              0.2222222222222222,
              "#7201a8"
             ],
             [
              0.3333333333333333,
              "#9c179e"
             ],
             [
              0.4444444444444444,
              "#bd3786"
             ],
             [
              0.5555555555555556,
              "#d8576b"
             ],
             [
              0.6666666666666666,
              "#ed7953"
             ],
             [
              0.7777777777777778,
              "#fb9f3a"
             ],
             [
              0.8888888888888888,
              "#fdca26"
             ],
             [
              1,
              "#f0f921"
             ]
            ],
            "type": "histogram2dcontour"
           }
          ],
          "mesh3d": [
           {
            "colorbar": {
             "outlinewidth": 0,
             "ticks": ""
            },
            "type": "mesh3d"
           }
          ],
          "parcoords": [
           {
            "line": {
             "colorbar": {
              "outlinewidth": 0,
              "ticks": ""
             }
            },
            "type": "parcoords"
           }
          ],
          "pie": [
           {
            "automargin": true,
            "type": "pie"
           }
          ],
          "scatter": [
           {
            "fillpattern": {
             "fillmode": "overlay",
             "size": 10,
             "solidity": 0.2
            },
            "type": "scatter"
           }
          ],
          "scatter3d": [
           {
            "line": {
             "colorbar": {
              "outlinewidth": 0,
              "ticks": ""
             }
            },
            "marker": {
             "colorbar": {
              "outlinewidth": 0,
              "ticks": ""
             }
            },
            "type": "scatter3d"
           }
          ],
          "scattercarpet": [
           {
            "marker": {
             "colorbar": {
              "outlinewidth": 0,
              "ticks": ""
             }
            },
            "type": "scattercarpet"
           }
          ],
          "scattergeo": [
           {
            "marker": {
             "colorbar": {
              "outlinewidth": 0,
              "ticks": ""
             }
            },
            "type": "scattergeo"
           }
          ],
          "scattergl": [
           {
            "marker": {
             "colorbar": {
              "outlinewidth": 0,
              "ticks": ""
             }
            },
            "type": "scattergl"
           }
          ],
          "scattermapbox": [
           {
            "marker": {
             "colorbar": {
              "outlinewidth": 0,
              "ticks": ""
             }
            },
            "type": "scattermapbox"
           }
          ],
          "scatterpolar": [
           {
            "marker": {
             "colorbar": {
              "outlinewidth": 0,
              "ticks": ""
             }
            },
            "type": "scatterpolar"
           }
          ],
          "scatterpolargl": [
           {
            "marker": {
             "colorbar": {
              "outlinewidth": 0,
              "ticks": ""
             }
            },
            "type": "scatterpolargl"
           }
          ],
          "scatterternary": [
           {
            "marker": {
             "colorbar": {
              "outlinewidth": 0,
              "ticks": ""
             }
            },
            "type": "scatterternary"
           }
          ],
          "surface": [
           {
            "colorbar": {
             "outlinewidth": 0,
             "ticks": ""
            },
            "colorscale": [
             [
              0,
              "#0d0887"
             ],
             [
              0.1111111111111111,
              "#46039f"
             ],
             [
              0.2222222222222222,
              "#7201a8"
             ],
             [
              0.3333333333333333,
              "#9c179e"
             ],
             [
              0.4444444444444444,
              "#bd3786"
             ],
             [
              0.5555555555555556,
              "#d8576b"
             ],
             [
              0.6666666666666666,
              "#ed7953"
             ],
             [
              0.7777777777777778,
              "#fb9f3a"
             ],
             [
              0.8888888888888888,
              "#fdca26"
             ],
             [
              1,
              "#f0f921"
             ]
            ],
            "type": "surface"
           }
          ],
          "table": [
           {
            "cells": {
             "fill": {
              "color": "#EBF0F8"
             },
             "line": {
              "color": "white"
             }
            },
            "header": {
             "fill": {
              "color": "#C8D4E3"
             },
             "line": {
              "color": "white"
             }
            },
            "type": "table"
           }
          ]
         },
         "layout": {
          "annotationdefaults": {
           "arrowcolor": "#2a3f5f",
           "arrowhead": 0,
           "arrowwidth": 1
          },
          "autotypenumbers": "strict",
          "coloraxis": {
           "colorbar": {
            "outlinewidth": 0,
            "ticks": ""
           }
          },
          "colorscale": {
           "diverging": [
            [
             0,
             "#8e0152"
            ],
            [
             0.1,
             "#c51b7d"
            ],
            [
             0.2,
             "#de77ae"
            ],
            [
             0.3,
             "#f1b6da"
            ],
            [
             0.4,
             "#fde0ef"
            ],
            [
             0.5,
             "#f7f7f7"
            ],
            [
             0.6,
             "#e6f5d0"
            ],
            [
             0.7,
             "#b8e186"
            ],
            [
             0.8,
             "#7fbc41"
            ],
            [
             0.9,
             "#4d9221"
            ],
            [
             1,
             "#276419"
            ]
           ],
           "sequential": [
            [
             0,
             "#0d0887"
            ],
            [
             0.1111111111111111,
             "#46039f"
            ],
            [
             0.2222222222222222,
             "#7201a8"
            ],
            [
             0.3333333333333333,
             "#9c179e"
            ],
            [
             0.4444444444444444,
             "#bd3786"
            ],
            [
             0.5555555555555556,
             "#d8576b"
            ],
            [
             0.6666666666666666,
             "#ed7953"
            ],
            [
             0.7777777777777778,
             "#fb9f3a"
            ],
            [
             0.8888888888888888,
             "#fdca26"
            ],
            [
             1,
             "#f0f921"
            ]
           ],
           "sequentialminus": [
            [
             0,
             "#0d0887"
            ],
            [
             0.1111111111111111,
             "#46039f"
            ],
            [
             0.2222222222222222,
             "#7201a8"
            ],
            [
             0.3333333333333333,
             "#9c179e"
            ],
            [
             0.4444444444444444,
             "#bd3786"
            ],
            [
             0.5555555555555556,
             "#d8576b"
            ],
            [
             0.6666666666666666,
             "#ed7953"
            ],
            [
             0.7777777777777778,
             "#fb9f3a"
            ],
            [
             0.8888888888888888,
             "#fdca26"
            ],
            [
             1,
             "#f0f921"
            ]
           ]
          },
          "colorway": [
           "#636efa",
           "#EF553B",
           "#00cc96",
           "#ab63fa",
           "#FFA15A",
           "#19d3f3",
           "#FF6692",
           "#B6E880",
           "#FF97FF",
           "#FECB52"
          ],
          "font": {
           "color": "#2a3f5f"
          },
          "geo": {
           "bgcolor": "white",
           "lakecolor": "white",
           "landcolor": "#E5ECF6",
           "showlakes": true,
           "showland": true,
           "subunitcolor": "white"
          },
          "hoverlabel": {
           "align": "left"
          },
          "hovermode": "closest",
          "mapbox": {
           "style": "light"
          },
          "paper_bgcolor": "white",
          "plot_bgcolor": "#E5ECF6",
          "polar": {
           "angularaxis": {
            "gridcolor": "white",
            "linecolor": "white",
            "ticks": ""
           },
           "bgcolor": "#E5ECF6",
           "radialaxis": {
            "gridcolor": "white",
            "linecolor": "white",
            "ticks": ""
           }
          },
          "scene": {
           "xaxis": {
            "backgroundcolor": "#E5ECF6",
            "gridcolor": "white",
            "gridwidth": 2,
            "linecolor": "white",
            "showbackground": true,
            "ticks": "",
            "zerolinecolor": "white"
           },
           "yaxis": {
            "backgroundcolor": "#E5ECF6",
            "gridcolor": "white",
            "gridwidth": 2,
            "linecolor": "white",
            "showbackground": true,
            "ticks": "",
            "zerolinecolor": "white"
           },
           "zaxis": {
            "backgroundcolor": "#E5ECF6",
            "gridcolor": "white",
            "gridwidth": 2,
            "linecolor": "white",
            "showbackground": true,
            "ticks": "",
            "zerolinecolor": "white"
           }
          },
          "shapedefaults": {
           "line": {
            "color": "#2a3f5f"
           }
          },
          "ternary": {
           "aaxis": {
            "gridcolor": "white",
            "linecolor": "white",
            "ticks": ""
           },
           "baxis": {
            "gridcolor": "white",
            "linecolor": "white",
            "ticks": ""
           },
           "bgcolor": "#E5ECF6",
           "caxis": {
            "gridcolor": "white",
            "linecolor": "white",
            "ticks": ""
           }
          },
          "title": {
           "x": 0.05
          },
          "xaxis": {
           "automargin": true,
           "gridcolor": "white",
           "linecolor": "white",
           "ticks": "",
           "title": {
            "standoff": 15
           },
           "zerolinecolor": "white",
           "zerolinewidth": 2
          },
          "yaxis": {
           "automargin": true,
           "gridcolor": "white",
           "linecolor": "white",
           "ticks": "",
           "title": {
            "standoff": 15
           },
           "zerolinecolor": "white",
           "zerolinewidth": 2
          }
         }
        },
        "title": {
         "text": "Mean Anger Score vs. Steering Coefficient"
        },
        "xaxis": {
         "anchor": "y",
         "domain": [
          0,
          1
         ],
         "title": {
          "text": "Loss"
         }
        },
        "yaxis": {
         "anchor": "x",
         "domain": [
          0,
          1
         ],
         "title": {
          "text": "Mean Anger Score"
         }
        }
       }
      }
     },
     "metadata": {},
     "output_type": "display_data"
    }
   ],
   "source": [
    "fig = px.line(x=losses, y=mean_scores, title=\"Mean Anger Score vs. Steering Coefficient\", labels={\"x\": \"Loss\", \"y\": \"Mean Anger Score\"}, )\n",
    "fig.show()"
   ]
  },
  {
   "cell_type": "code",
   "execution_count": null,
   "metadata": {},
   "outputs": [],
   "source": []
  }
 ],
 "metadata": {
  "kernelspec": {
   "display_name": ".venv",
   "language": "python",
   "name": "python3"
  },
  "language_info": {
   "codemirror_mode": {
    "name": "ipython",
    "version": 3
   },
   "file_extension": ".py",
   "mimetype": "text/x-python",
   "name": "python",
   "nbconvert_exporter": "python",
   "pygments_lexer": "ipython3",
   "version": "3.10.12"
  }
 },
 "nbformat": 4,
 "nbformat_minor": 2
}
