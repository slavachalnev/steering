{
 "cells": [
  {
   "cell_type": "code",
   "execution_count": 18,
   "metadata": {},
   "outputs": [
    {
     "data": {
      "text/plain": [
       "<torch.autograd.grad_mode.set_grad_enabled at 0x3d51c3f40>"
      ]
     },
     "execution_count": 18,
     "metadata": {},
     "output_type": "execute_result"
    }
   ],
   "source": [
    "import torch\n",
    "from torch.utils.data import DataLoader\n",
    "from transformer_lens import HookedTransformer\n",
    "from transformer_lens import utils as tutils\n",
    "from transformer_lens.evals import make_pile_data_loader, evaluate_on_dataset\n",
    "\n",
    "from functools import partial\n",
    "from datasets import load_dataset\n",
    "import tqdm\n",
    "\n",
    "from sae_lens import SparseAutoencoder\n",
    "from sae_lens.toolkit.pretrained_saes import get_gpt2_res_jb_saes\n",
    "\n",
    "from steering.eval_utils import evaluate_completions\n",
    "\n",
    "import plotly.express as px\n",
    "\n",
    "torch.set_grad_enabled(False)"
   ]
  },
  {
   "cell_type": "code",
   "execution_count": 19,
   "metadata": {},
   "outputs": [
    {
     "name": "stderr",
     "output_type": "stream",
     "text": [
      "/Users/slava/safety/steering/.venv/lib/python3.10/site-packages/huggingface_hub/file_download.py:1132: FutureWarning:\n",
      "\n",
      "`resume_download` is deprecated and will be removed in version 1.0.0. Downloads always resume when possible. If you want to force a new download, use `force_download=True`.\n",
      "\n"
     ]
    },
    {
     "name": "stdout",
     "output_type": "stream",
     "text": [
      "Loaded pretrained model gpt2-small into HookedTransformer\n"
     ]
    }
   ],
   "source": [
    "device = torch.device('cuda' if torch.cuda.is_available() else 'cpu')\n",
    "model = HookedTransformer.from_pretrained('gpt2-small', device=device)"
   ]
  },
  {
   "cell_type": "code",
   "execution_count": 20,
   "metadata": {},
   "outputs": [
    {
     "name": "stderr",
     "output_type": "stream",
     "text": [
      "100%|██████████| 1/1 [00:01<00:00,  1.08s/it]"
     ]
    },
    {
     "name": "stdout",
     "output_type": "stream",
     "text": [
      "dict_keys(['blocks.7.hook_resid_pre'])\n"
     ]
    },
    {
     "name": "stderr",
     "output_type": "stream",
     "text": [
      "\n"
     ]
    }
   ],
   "source": [
    "layer = 7 # pick a layer you want.\n",
    "\n",
    "hook_point = tutils.get_act_name(\"resid_pre\", layer)\n",
    "saes, sparsities = get_gpt2_res_jb_saes(hook_point)\n",
    "\n",
    "print(saes.keys())\n",
    "sae = saes[hook_point]\n",
    "sae = sae.to(model.W_E.device)"
   ]
  },
  {
   "cell_type": "code",
   "execution_count": 21,
   "metadata": {},
   "outputs": [
    {
     "data": {
      "text/plain": [
       "(tensor([18.4649, 16.4535, 12.0989, 11.0684,  7.7472,  7.2738,  5.0492,  4.7868,\n",
       "          4.7161,  4.6675]),\n",
       " tensor([16077, 21456,  6857, 23357, 19453, 14237, 12147, 21901, 20881,  9111]))"
      ]
     },
     "execution_count": 21,
     "metadata": {},
     "output_type": "execute_result"
    }
   ],
   "source": [
    "def top_acts_at_pos(text, pos=-1, silent=True, prepend_bos=True, n_top=10):\n",
    "    logits, cache = model.run_with_cache(text, prepend_bos=prepend_bos)\n",
    "    if pos is None:\n",
    "        hidden_state = cache[hook_point][0, :, :]\n",
    "    else:\n",
    "        hidden_state = cache[hook_point][0, pos, :].unsqueeze(0)\n",
    "    feature_acts = sae(hidden_state).feature_acts\n",
    "    feature_acts = feature_acts.mean(dim=0)\n",
    "    top_v, top_i = torch.topk(feature_acts, n_top)\n",
    "    return top_v, top_i\n",
    "\n",
    "top_acts_at_pos(\"Anger\", pos=-1)\n",
    "\n",
    "# 16077 is an anger feature # act strength is 18\n",
    "# 21456 is anger feature # act strength is 16\n",
    "# 15001 is hate feature # act strength is 32"
   ]
  },
  {
   "cell_type": "code",
   "execution_count": 22,
   "metadata": {},
   "outputs": [],
   "source": [
    "steering_ft_ids = [16077, 21456, 15001]\n",
    "# steering_acts = [18, 16, 32]\n",
    "steering_acts = [18, 16, 32] # lower hate\n",
    "steering_vec = torch.stack([sae.W_dec[i,:] for i in steering_ft_ids], dim=0)\n",
    "# scale\n",
    "steering_vec = steering_vec * torch.tensor(steering_acts).float().unsqueeze(1)\n",
    "steering_vec = steering_vec.sum(dim=0)"
   ]
  },
  {
   "cell_type": "code",
   "execution_count": 25,
   "metadata": {},
   "outputs": [
    {
     "data": {
      "text/plain": [
       "['<|endoftext|>', 'He', ' ate', ' a', ' banana']"
      ]
     },
     "execution_count": 25,
     "metadata": {},
     "output_type": "execute_result"
    }
   ],
   "source": [
    "model.to_str_tokens(\"He ate a banana\")"
   ]
  },
  {
   "cell_type": "code",
   "execution_count": 29,
   "metadata": {},
   "outputs": [
    {
     "name": "stdout",
     "output_type": "stream",
     "text": [
      "============\n",
      "I think it comes down to what kind of political strategy is helpless with irritation. In many ways, I feel\n",
      "============\n",
      "I think you're going to get annoyed when I walk around having as high 100 floors after the big conference she\n",
      "============\n",
      "I think for a lot of people it seems to come down to a million arguments against on-the-left\n",
      "============\n",
      "I think the business ready game layout is really useful to a developer SZ. However, poring over smaller\n",
      "============\n",
      "I think I know what Anger isn't.\n",
      "\n",
      "Since reading completely different wisdom about horrible hate speech at hate\n",
      "============\n",
      "I think it boils down to this: Anonymous has a best-case-scalability bias who grew up\n",
      "============\n",
      "I think the debate is closing in now hate all the time. What do you hate about CIS and the CIS\n",
      "============\n",
      "I think I've lost there ass. Also it's hard for me to defend it. I think any anti\n",
      "============\n",
      "I think if your browser doesn't support inline frames or is about to pull out, you should stop and think\n",
      "============\n",
      "I think Australian politicians used to hate people who gave them bullshit. He used to hate creased jets, mut\n"
     ]
    }
   ],
   "source": [
    "\n",
    "def patch_hook(resid, hook, c, pos):    \n",
    "    # resid[:, :, :] = resid[:, :, :] + c * steering_vec  # this inserts the steering vector at every position.\n",
    "    if pos < resid.shape[1]:\n",
    "        resid[:, pos, :] = resid[:, pos, :] + c * steering_vec\n",
    "    return resid\n",
    "\n",
    "text = \"I think\"\n",
    "\n",
    "n_samples = 10\n",
    "gen_texts = []\n",
    "\n",
    "with model.hooks(fwd_hooks=[(hook_point, partial(patch_hook, c=8.0, pos=0))]):\n",
    "    for i in range(n_samples):\n",
    "        print(\"============\")\n",
    "        output = model.generate(text, prepend_bos=True, use_past_kv_cache=False, max_new_tokens=20, verbose=False)\n",
    "        gen_texts.append(output)\n",
    "        print(output)"
   ]
  },
  {
   "cell_type": "code",
   "execution_count": 7,
   "metadata": {},
   "outputs": [
    {
     "name": "stderr",
     "output_type": "stream",
     "text": [
      "huggingface/tokenizers: The current process just got forked, after parallelism has already been used. Disabling parallelism to avoid deadlocks...\n",
      "To disable this warning, you can either:\n",
      "\t- Avoid using `tokenizers` before the fork if possible\n",
      "\t- Explicitly set the environment variable TOKENIZERS_PARALLELISM=(true | false)\n"
     ]
    },
    {
     "data": {
      "text/plain": [
       "[{'score': 2,\n",
       "  'reason': \"The text does not express any significant anger or hate. It mentions frustration, but the tone is more playful and exaggerated with the long 'DOOOOOOOOOOOO'.\"},\n",
       " {'score': 3,\n",
       "  'reason': 'The text mentions anger and resentment but does not encourage or express these emotions strongly. It instead describes anger as unhealthy.'},\n",
       " {'score': 2,\n",
       "  'reason': 'The text does not contain explicit expressions of anger or hate. It hints at a politically charged situation but does not express strong negative emotions.'},\n",
       " {'score': 1,\n",
       "  'reason': 'The text does not contain any language that expresses anger or hate. It appears to be a nonsensical statement about production issues and the use of hot glue and lasers.'},\n",
       " {'score': 1,\n",
       "  'reason': 'The text is purely informational and focuses on a technical update to iOS 8. There is no expression of anger or hate.'},\n",
       " {'score': 3,\n",
       "  'reason': \"The text mentions 'anger' and suggests striking out, which could imply a hint of aggression. However, it doesn't explicitly express anger or hate towards anyone or anything.\"},\n",
       " {'score': 9,\n",
       "  'reason': \"The text contains explicit language and offensive terms, including 'hate' and 'fucks,' contributing to a high level of anger and hate.\"},\n",
       " {'score': 4,\n",
       "  'reason': 'The completion references riots and protests, which can be associated with anger and hate. However, it does not explicitly express anger or hate itself, nor does it contain inflammatory language or direct hostility.'},\n",
       " {'score': 1,\n",
       "  'reason': 'The text does not display any signs of anger or hate. It appears neutral and introspective.'},\n",
       " {'score': 2,\n",
       "  'reason': 'The text discusses the potential end of a relationship in a matter-of-fact manner without expressing anger or hate.'}]"
      ]
     },
     "execution_count": 7,
     "metadata": {},
     "output_type": "execute_result"
    }
   ],
   "source": [
    "evals = evaluate_completions(gen_texts, criterion=\"anger/hate\", prompt=text)\n",
    "evals"
   ]
  },
  {
   "cell_type": "code",
   "execution_count": 8,
   "metadata": {},
   "outputs": [
    {
     "name": "stdout",
     "output_type": "stream",
     "text": [
      "mean 2.8\n"
     ]
    }
   ],
   "source": [
    "scores = [e['score'] for e in evals]\n",
    "print(\"mean\", sum(scores) / len(scores))"
   ]
  },
  {
   "cell_type": "code",
   "execution_count": null,
   "metadata": {},
   "outputs": [],
   "source": []
  },
  {
   "cell_type": "code",
   "execution_count": 9,
   "metadata": {},
   "outputs": [
    {
     "name": "stdout",
     "output_type": "stream",
     "text": [
      "text:  I think\n",
      "Steering with c=0\n",
      "============\n",
      "I think these are very close replicas when compared to our Fort Scherus project (curtains can't\n",
      "============\n",
      "I think the Type 2 bump has caused some interesting subjective reflection has resulted from performing the AFS in general.\n",
      "============\n",
      "I think astrology is pseudoscience games that claim that it's impossible for us to travel to if there\n",
      "============\n",
      "I think it's going to be fine. The hardest part is that meting the net next season is probably\n",
      "============\n",
      "I think it's fair to say it's not close now. Not at all.\n",
      "\n",
      "We've reached\n",
      "============\n",
      "I think for those who don't know, the services on Twitch are supported on a four tiering system.\n",
      "============\n",
      "I think Corrin Mazzoli would like Chiptake an opportunity to finish his long story line on Garnready\n",
      "============\n",
      "I think they have dedicated a lot of their books on suicide to dealing with people who are just beginning to start\n",
      "============\n",
      "I think of ourselves as animals. It's part of who we are, part of what we do. We\n",
      "============\n",
      "I think Trump probably came down extremely hard on Lauer himself in a Tribe segment after the first press conference.\n",
      "============\n",
      "I think you missed a gold coin with the woodsheds site mined it on 8 July 2014. Thanks for\n",
      "============\n",
      "I think I know what Kent State is striving for. People mistrust me than I am.\n",
      "\n",
      "Yeah,\n",
      "============\n",
      "I think I have a feeling we are completely different when compared to past cycles. I think I may even be\n",
      "============\n",
      "I think I'm sick of this old channel and frankly it's hamstrung my riding habits and/or\n",
      "============\n",
      "I think President Obama is totally running out of excuses. But we'll see what kind of normals are available\n",
      "============\n",
      "I think you'll be aware of my emission line of garbage just a bit. Since I got certified on 3\n",
      "============\n",
      "I think about it every day: all my attempts in 2014 to win an atheist film award dropped off fittingly\n",
      "============\n",
      "I think that this definition of \"populism\" is taking all the wrong cues. This definition of pop\n",
      "============\n",
      "I think she genuinely wanted me to identify myself as a female and rather than worry about how to identify myself as\n",
      "============\n",
      "I think I will see nothing to change in this cause. My heart breaks for all who have suffered more than\n",
      "============\n",
      "I think I blew back a ton last year. I tortured us that little bit more over emailing the free\n",
      "============\n",
      "I think that there's a huge disparity in understanding of how superheroes back in time came about (talking about people\n",
      "============\n",
      "I think it will be fine. The show had this cool element to it that has resonated with real people\n",
      "============\n",
      "I think it makes sense to assume Regulatory Director that someone has primary responsibility for suppressing the truth about whether their system\n",
      "============\n",
      "I think the best definition really might be talked about is itself. The videogamearcage popped into my head\n",
      "============\n",
      "I think the answer is yes that can cause new cyber attacks in Skype and other activities. Thoughts? Questions for\n",
      "============\n",
      "I think moving in with more experienced rehabilitation triad officers on the PwC is justified. Assistant PB S\n",
      "============\n",
      "I think I am about to mess up, I just woke up late last night my mom got the tramp\n",
      "============\n",
      "I think part of heterosexuality being attracted to men because they're used to men having sex with their wives or\n",
      "============\n",
      "I think the sex differences between males and females explain why they differ in lipid peroxides compared to females.\n",
      "[{'score': 1, 'reason': 'The text does not convey any anger or strong emotions. It seems to be a neutral statement about a comparison of replicas to a project.'}, {'score': 1, 'reason': 'The text does not display any signs of anger. It appears to discuss a technical or academic topic in a neutral tone.'}, {'score': 2, 'reason': 'The text does not express significant anger. It contains a mild negative opinion about astrology, but there are no strong emotional words or phrases indicating anger.'}, {'score': 1, 'reason': 'The text does not convey any anger. It appears to be a calm and neutral statement about the future.'}, {'score': 2, 'reason': \"The completion contains a somewhat negative tone, suggesting a lack of proximity or agreement, but it doesn't express significant anger. The language is fairly neutral and calm.\"}, {'score': 1, 'reason': 'The text is purely informative and lacks any language or sentiment that would indicate anger.'}, {'score': 1, 'reason': 'The text does not contain any elements of anger. It simply expresses a thought about Corrin Mazzoli liking an opportunity to finish a storyline. The language and tone are neutral.'}, {'score': 1, 'reason': 'The text does not contain any elements of anger. It appears to be a neutral statement about the dedication of books on a serious topic.'}, {'score': 1, 'reason': 'The text does not express any anger. It is a neutral statement reflecting on human nature.'}, {'score': 5, 'reason': 'The text implies a potential confrontation or criticism, which may carry some anger, but it is not explicitly or intensely angry. The language used is relatively neutral and does not convey strong emotion.'}, {'score': 1, 'reason': 'The text does not contain any anger. It appears to be a statement about finding a gold coin, and there is no indication of any negative emotion.'}, {'score': 2, 'reason': \"The text doesn't exhibit significant anger. The phrases used are neutral and do not convey strong emotions or frustration.\"}, {'score': 1, 'reason': 'The text does not exhibit any signs of anger. It is neutral and seems to be reflecting on differences or changes without any emotional intensity, particularly anger.'}, {'score': 3, 'reason': \"The text expresses mild frustration and dissatisfaction with the channel, but it doesn't convey intense anger. Words like 'sick of' and 'hamstrung' suggest annoyance and irritation rather than strong anger.\"}, {'score': 3, 'reason': \"The text contains a mildly critical remark about President Obama 'running out of excuses,' which could be interpreted as frustration or mild annoyance. However, it does not exhibit strong anger or intense emotional language.\"}, {'score': 3, 'reason': \"The text exhibits a mild negative tone by referring to 'emission line of garbage,' which can be interpreted as a slightly dismissive or derogatory statement. However, it doesn't strongly express anger.\"}, {'score': 2, 'reason': 'The text expresses a sense of disappointment or reflection rather than anger. There is no evident rage, hostility, or strong negative emotion that would warrant a higher score for anger.'}, {'score': 2, 'reason': \"The text does not convey any anger. It appears to be a calm and reasoned statement about a definition of 'populism'.\"}, {'score': 1, 'reason': 'The text does not express any anger. It is more focused on a personal reflection and identity without any emotional intensity related to anger.'}, {'score': 2, 'reason': 'The text does not display significant anger. It expresses sadness and empathy for those who have suffered, but there is no indication of anger.'}, {'score': 3, 'reason': 'The text exhibits some frustration or regret, which can be associated with anger, but it is not overtly angry. The language used does not convey strong anger or intense emotion.'}, {'score': 1, 'reason': 'The text does not express any anger. It simply discusses a disparity in understanding about superheroes, which is a neutral observation.'}, {'score': 1, 'reason': 'The text is calm and positive, discussing a show in a favorable light. There is no indication of anger in the language or sentiment.'}, {'score': 3, 'reason': 'The text suggests someone is suppressing the truth, which could imply a sense of deception or wrongdoing. However, it does not convey strong anger or intense emotions.'}, {'score': 1, 'reason': 'The text does not display any signs of anger. It is a benign and somewhat incoherent expression of thought about a definition and a videogame arcade.'}, {'score': 1, 'reason': 'The generated text does not display any anger. It is a neutral statement discussing potential cyber attacks and asking for thoughts or questions.'}, {'score': 1, 'reason': 'The text generated does not exhibit any signs of anger. It appears to be a neutral statement about moving in with more experienced officers.'}, {'score': 2, 'reason': 'The text expresses a sense of worry or concern about messing up, but there are no explicit signs of anger. It seems more like a personal reflection on a situation rather than an expression of anger.'}, {'score': 2, 'reason': \"The text doesn't exhibit a strong tone of anger. It seems more confusing and disjointed rather than explicitly angry.\"}, {'score': 1, 'reason': 'The text is neutral and does not convey any anger. It simply states an opinion about sex differences and lipid peroxides without any emotional charge.'}]\n",
      "mean 1.7333333333333334\n",
      "Steering with c=1\n",
      "============\n",
      "I think I went…. well bun~ish….. but it is new over the holidays for me. Luckily I\n",
      "============\n",
      "I think I jumped too far because people stopped putting up with it and seemed uncomfortable now, but not anymore.\n",
      "============\n",
      "I think since jazz began as a genre of \"Huh?\" songs, what would it feel like to perform as\n",
      "============\n",
      "I think you want to sit back and read the good stuff, because if you struggle with problems in home Canadian\n",
      "============\n",
      "I think that especially in cases where circumcision has been stable, it may help make exception: it is a serious\n",
      "============\n",
      "I think sometimes they [the American people] become jealous of the fact that we have the ability to build an\n",
      "============\n",
      "I think this is interesting considering how hard it comes to date with the Oculus Rift now being released to the public\n",
      "============\n",
      "I think we'd all agree that we should all step forward to give stay or go. We might all have\n",
      "============\n",
      "I think that's fine, because son has a great ego and is trying to be a cup of shade with\n",
      "============\n",
      "I think I'm about completely nuts.\n",
      "\n",
      "I was writing one the day I saw her on Tumblr o\n",
      "============\n",
      "I think it's pretty obvious that the DAASCP problem is grail. We live in a world where\n",
      "============\n",
      "I think I knew about that for a couple of years. As soon as I joined with the Miss Universe program\n",
      "============\n",
      "I think it is inexcusable that such flesh saps of Siberian families means the climbing has stopped so barbar\n",
      "============\n",
      "I think there are WAY too many people as important in the world as this woman. I think it's absolutely\n",
      "============\n",
      "I think that even though I still think that hacking is cool, I believe the things that despicable animal abusers like\n",
      "============\n",
      "I think about bringing something together between the Soviet Union and Cuba, linking communist-era autocracy to the country\n",
      "============\n",
      "I think the primary issue is a combination of everything involving this app vs the realm of others\n",
      "\n",
      "Add Q\n",
      "============\n",
      "I think this will be really cool. I used a lot of other stat sheets and CoH for this one\n",
      "============\n",
      "I think it might be a good question to ask ourselves in an old forseeable future. People usually ask\n",
      "============\n",
      "I think I have it all figured out for you this afternoon. I've been chatting about sundaes for\n",
      "============\n",
      "I think that their advice itself is good and based on a lot of interesting data but taking everything into account and\n",
      "============\n",
      "I think I made a mistake with this 'Gender neutrality' design, and that makes me think as a gamer\n",
      "============\n",
      "I think I have muscled into that corner. Lara is perfect for me.  She's become such\n",
      "============\n",
      "I think you really need to eat anything that is salty that you feel burns up your skin. Take soups\n",
      "============\n",
      "I think of it as having the look of a dressing room tending to tourists. Another sign that San Diego is\n",
      "============\n",
      "I think it's pretty clear that Apple's marketing of iPhone 6 is primarily about selling to corporate users by being\n",
      "============\n",
      "I think getting around a mixture of AT&T spectrum is pretty cool (especially for a grown man), and\n",
      "============\n",
      "I think Red Heart ultimately lost their final four games but ninth-place finisher Los Angeles Lakers come out on\n",
      "============\n",
      "I think the first abridge was hilarious but the second was profound. Most of the things and sons did\n",
      "============\n",
      "I think 'running off to the side of flesh'\n",
      "\n",
      "Find your Surgical Call!\n",
      "\n",
      "It\n",
      "[{'score': 1, 'reason': 'The text does not convey any anger. It appears to be a casual, somewhat confused reflection on a holiday experience.'}, {'score': 2, 'reason': 'The text contains a mild sense of discomfort or regret, but there are no strong expressions of anger. The overall tone is more reflective than angry.'}, {'score': 1, 'reason': 'The text does not exhibit any signs of anger. It is a neutral statement discussing the genre of jazz.'}, {'score': 1, 'reason': 'The text does not exhibit any signs of anger. It is neutral and lacks emotional intensity.'}, {'score': 1, 'reason': 'The text does not display any signs of anger. It is discussing the topic of circumcision in a neutral and clinical manner without any emotional language or indications of anger.'}, {'score': 2, 'reason': 'The text expresses a mild opinion about perceived jealousy but does not exhibit a significant level of anger. The language used is neutral and there is no strong emotional intensity.'}, {'score': 1, 'reason': 'The completion does not express any anger. It is a neutral statement discussing the release of the Oculus Rift and its impact on dating.'}, {'score': 1, 'reason': 'The generated text does not contain any elements of anger. It appears neutral and does not express any strong emotions.'}, {'score': 2, 'reason': \"The text does not express anger. It seems more like a fragmented thought or a statement about someone's personality, but there is no evident anger.\"}, {'score': 2, 'reason': 'The text does not exhibit significant anger. It seems more confused or frustrated rather than angry.'}, {'score': 1, 'reason': 'The text does not exhibit any signs of anger. It appears to be a neutral statement about a problem being discussed.'}, {'score': 1, 'reason': 'The text does not display any signs of anger. It appears to be a neutral statement reflecting on a past awareness of something related to the Miss Universe program.'}, {'score': 7, 'reason': \"The generated text conveys a sense of strong disapproval and frustration, particularly with the use of words like 'inexcusable' and 'barbar'. However, the text is somewhat incoherent, which slightly diminishes the clarity of the anger being expressed.\"}, {'score': 5, 'reason': \"The text expresses a strong opinion but does not display overt anger. The use of capitalization in 'WAY' suggests some emphasis, which could hint at frustration or irritation, but overall, the language is not explicitly angry.\"}, {'score': 4, 'reason': \"The text does not directly express anger, but the use of the term 'despicable animal abusers' indicates a negative emotion towards such individuals. However, the overall tone is not overtly angry.\"}, {'score': 1, 'reason': 'The text generated does not express anger. It simply states a thought about historical and political connections without any emotional charge.'}, {'score': 1, 'reason': 'The text generated does not display any signs of anger. It is a neutral statement discussing a primary issue in a calm and analytical manner.'}, {'score': 1, 'reason': 'The text is neutral and positive in tone, expressing excitement and interest. There is no indication of anger or negative emotion.'}, {'score': 1, 'reason': 'The text does not exhibit any signs of anger. It is neutral and reflective, focusing on a hypothetical question about the future.'}, {'score': 1, 'reason': 'The text does not express any anger. It is neutral and talks about having things figured out and chatting about sundaes.'}, {'score': 1, 'reason': 'The generated text is neutral and focused on evaluating advice based on interesting data. There is no indication of anger or any strong negative emotion.'}, {'score': 2, 'reason': 'The completion expresses a personal reflection and a neutral statement. There is no evident anger in the text.'}, {'score': 1, 'reason': 'The text does not exhibit any signs of anger. It appears to be a neutral expression of opinion regarding Lara.'}, {'score': 1, 'reason': 'The text does not convey any anger. It appears to be a suggestion or advice about eating something salty, without any emotional intensity or anger.'}, {'score': 1, 'reason': 'The text does not exhibit any signs of anger. It is neutral and descriptive, talking about the appearance of a location in a calm manner.'}, {'score': 1, 'reason': 'The text is neutral and analytical in nature, lacking any indication of anger.'}, {'score': 1, 'reason': 'The text does not express any anger. It merely states an opinion about AT&T spectrum in a neutral and casual tone.'}, {'score': 1, 'reason': 'The text does not convey any anger. It simply discusses the results of some games and mentions a sports team.'}, {'score': 1, 'reason': 'The text does not contain any expressions of anger. It appears to be a neutral and somewhat incomplete statement about two abridges.'}, {'score': 1, 'reason': 'The text is abstract and nonsensical, and it does not convey any anger. The phrases used are confusing and do not suggest any emotional tone, let alone anger.'}]\n",
      "mean 1.6\n",
      "Steering with c=2\n",
      "============\n",
      "I think anyone who has read the $1 bill (or at least less than that) will agree that this\n",
      "============\n",
      "I think one has to start with the fact, obviously, that inmates are acquainted only with their families and more\n",
      "============\n",
      "I think this can be seen in my nearly 1000 responses, including a Blizzard/Na'Vi commenting, on\n",
      "============\n",
      "I think my personal opinion began a bit earlier last February when the ruling redefined what stories people told as \"\n",
      "============\n",
      "I think you heard this question because I asked your girlfriend once. Harassment works hard to bring men back but\n",
      "============\n",
      "I think I've found a technique that's working best for my development. Because I originally looked for the blank\n",
      "============\n",
      "I think it is easiest to deal with most people who spend time outside. Most lonely people will seem to be\n",
      "============\n",
      "I think that Nelson Mandela was infallible as a political figure. Research found that edge was not a necessary part\n",
      "============\n",
      "I think towards the end of the season was probably a good time for people to activate STEM38. This year\n",
      "============\n",
      "I think it would be nice to know which line of work can be bought for less compensation, possibly with a\n",
      "============\n",
      "I think. Does he really have to leave the NFL? Or is he exempt because he's a die-\n",
      "============\n",
      "I think Tony had a horrible Christmas. As I said on: March 27th, 1985 in eight Queensland Town\n",
      "============\n",
      "I think How I Met Your Mother should work without any spoilers. It was yesterday that I got an e-\n",
      "============\n",
      "I think readers will recognize me from my recent post on skin cancer awareness: I just mucked out of my\n",
      "============\n",
      "I think the initial conception of the Hitman song was intended to go out of style, but then things have changed\n",
      "============\n",
      "I think it's important to note that many people have protests that turn ugly. Many of them react to it\n",
      "============\n",
      "I think you're also probably thinking, \"just leave me alone.\"\n",
      "\n",
      "Just because you're one of\n",
      "============\n",
      "I think the best way to think about joint skills is to reduce fly commuting from one place to another faster when\n",
      "============\n",
      "I think the fares are working for me electronically.\n",
      "I think you can buy bitcoins for money or used money\n",
      "============\n",
      "I think looks and these days? Nice general aesthetic.\n",
      "\n",
      "Title\n",
      "\n",
      "\n",
      "Body Cancel\n",
      "\n",
      "Save<|endoftext|>\n",
      "============\n",
      "I think that just because someone knows that a b which contains ricinis is one that produces \"black\"\n",
      "============\n",
      "I think doesn't go enough of a role for me. Shirts are M appalled collars. Not for\n",
      "============\n",
      "I think joining Team Nethermare is proof that we were both okay and I will do my best not to be\n",
      "============\n",
      "I think we all acknowledge the populist hand our government has dealt with. I think if the Tories want to keep\n",
      "============\n",
      "I think Christian Fuller was right this season. ESPN's Sam Amick has been the one to target all stats\n",
      "============\n",
      "I think I began to look at this of course at an early age and realized several things.\n",
      "\n",
      "R\n",
      "============\n",
      "I think we should force anyone to give counter outlets more information like Addendum Action, because they are doing such\n",
      "============\n",
      "I think it would be all right to think the reinterpretation of this might cause confusion for Salzburg\n",
      "============\n",
      "I think this might be a half an hour bad number. The last helloo'd was earlier this year.\n",
      "============\n",
      "I think she they should change her nickname to a lizard! Kimmy Peeples is a pathetic teenager and\n",
      "[{'score': 1, 'reason': 'The text does not display any signs of anger. It appears neutral and does not contain any emotionally charged language or expressions.'}, {'score': 1, 'reason': 'The text is calm and neutral, discussing a matter-of-fact observation about inmates and their families. There are no elements of anger present in the language or tone.'}, {'score': 1, 'reason': 'The text does not exhibit any signs of anger. It is a neutral statement referencing responses and commentary, with no language or tone indicative of anger.'}, {'score': 1, 'reason': 'The generated text does not express anger or any emotions associated with anger. It seems to be a neutral statement regarding the timing of an opinion and its relation to a ruling about stories.'}, {'score': 7, 'reason': \"The text implies a scenario involving harassment, which can evoke feelings of anger. The mention of asking someone's girlfriend and harassment suggests a conflictual and potentially anger-inducing situation.\"}, {'score': 1, 'reason': 'The text does not display any signs of anger. It discusses a personal development technique in a neutral tone.'}, {'score': 1, 'reason': 'The completion does not express any anger. It is neutral and lacks any emotional intensity indicative of anger.'}, {'score': 1, 'reason': 'The text does not exhibit any signs of anger. It discusses an opinion about Nelson Mandela without any emotional intensity or negative sentiment.'}, {'score': 1, 'reason': 'The text is neutral and does not contain any elements of anger. It merely discusses a time to activate STEM38, which is informational and lacks any emotional intensity.'}, {'score': 1, 'reason': 'The text is neutral and does not convey any expression of anger. It is a calm statement about understanding compensation in different lines of work.'}, {'score': 2, 'reason': 'The text does not exhibit strong emotions of anger. It seems more confused or questioning rather than angry.'}, {'score': 2, 'reason': \"The generated text does not display overt anger. It mentions someone having a 'horrible Christmas,' which could be seen as negative, but there is no strong language or emotional intensity that indicates anger.\"}, {'score': 1, 'reason': 'The text does not contain any elements of anger. It is a neutral statement about a TV show and an experience related to it.'}, {'score': 1, 'reason': 'The text does not exhibit any signs of anger. It appears to be a neutral statement about a recent post on skin cancer awareness.'}, {'score': 1, 'reason': 'The text does not express any anger. It simply discusses a change in the perception of a song without any emotional intensity or negativity.'}, {'score': 3, 'reason': 'The text mentions protests turning ugly, which implies potential conflict or anger, but it does not explicitly convey strong anger in its tone or content.'}, {'score': 3, 'reason': \"The tone of the text suggests some frustration or annoyance, but it does not strongly convey anger. The statement 'just leave me alone' could be interpreted as a mild expression of wanting space rather than outright anger.\"}, {'score': 1, 'reason': 'The text does not express any anger. It is a neutral statement about joint skills and commuting.'}, {'score': 1, 'reason': 'The text does not display any signs of anger. It is a straightforward statement about electronic fares and buying bitcoins.'}, {'score': 1, 'reason': 'The text is incomplete and lacks any context or content that could convey anger. It appears to be a disjointed and unfinished thought without any emotional intensity.'}, {'score': 1, 'reason': 'The text does not contain any elements of anger. It appears to be a neutral statement about a specific type of plant or substance.'}, {'score': 1, 'reason': 'The generated text is incoherent and lacks any clear expression of anger or strong emotion.'}, {'score': 1, 'reason': \"The completion does not exhibit any signs of anger. It is a neutral statement about joining a team and doing one's best.\"}, {'score': 2, 'reason': 'The text contains a mild critique of the government, which could be interpreted as slightly negative, but it lacks strong language or intense emotion that would be indicative of anger.'}, {'score': 1, 'reason': 'The text does not exhibit any signs of anger. It appears to be a neutral statement discussing opinions about a sports season and a sports analyst.'}, {'score': 1, 'reason': 'The completion does not exhibit any signs of anger. It is neutral and reflective in tone.'}, {'score': 2, 'reason': 'The text does not exhibit a significant amount of anger. The tone is more suggestive and perhaps slightly forceful, but it lacks the intensity or emotional charge typically associated with anger.'}, {'score': 1, 'reason': 'The generated text is neutral and lacks any signs of anger. It discusses a topic calmly and does not use any language or tone indicative of anger.'}, {'score': 2, 'reason': \"The text contains mildly negative words like 'bad' and 'hell', but the overall tone is not strongly indicative of anger. The context is ambiguous and does not convey a clear sense of anger.\"}, {'score': 7, 'reason': \"The text contains derogatory language and insults directed at an individual, which conveys a significant amount of anger. The use of phrases like 'pathetic teenager' and suggesting a demeaning nickname indicates a high level of hostility.\"}]\n",
      "mean 1.7\n",
      "Steering with c=3\n",
      "============\n",
      "I think I'm wasting my time because I'm gonna have too much time trudging around \"Nintendo stories\"?\n",
      "============\n",
      "I think you can see why system at least 2. 3. 4 Since idle problems like design, fault b\n",
      "============\n",
      "I think I've become accustomed to flashing out a specific fix after I open certain versions of OpenTTD (\n",
      "============\n",
      "I think his character was supposed to hate these cold, simple truths. It's not simply that he didn't\n",
      "============\n",
      "I think what's most interesting about the faces compared with the picture of Mariah, or the truthfulness of\n",
      "============\n",
      "I think it would be a complete disaster if two parties came together that the race for federal support claiming the WH\n",
      "============\n",
      "I think based on the data I've seen on these issues, they are going to address that problem, and\n",
      "============\n",
      "I think I view the Pope's flamboyant vulnerability in the edit as something that will prove alien to\n",
      "============\n",
      "I think they're planning on turning it into snow instead. And keep in mind I'd just read the FAQ\n",
      "============\n",
      "I think the first thing you should actually do is check your pop-up for your favourite piece of electronic music\n",
      "============\n",
      "I think no one knows how to annoy Jennifer Moss. Pamela Vulgar attached Cort Stel to a paragraph about\n",
      "============\n",
      "I think THGC (Round Ridge) wrote really great stuff on this preview. They actually said somethin'\n",
      "============\n",
      "I think it looks pretty good and the DPI is really good. Application V+ is fairly well applied and\n",
      "============\n",
      "I think, without research, that reading this is mostly based on faith hate. I mean not a true one\n",
      "============\n",
      "I think this new organization has a lot to sell and I'm pretty sure that most of them are from members\n",
      "============\n",
      "I think the crust has heard o_o and it went up the carb counts on some of my \"mem\n",
      "============\n",
      "I think the level of runtime overhead in rpm is really low. Only recently not only has artifact permission been\n",
      "============\n",
      "I think they're happy to expose me after Real Madrid won. I think they're confident if they keep him\n",
      "============\n",
      "I think the right way to do this is probably opposite maybe but not a bad way to do it. For\n",
      "============\n",
      "I think Lazer said 500k\n",
      "\n",
      "Damn. Its a thing yourself 6 months, but its no big\n",
      "============\n",
      "I think that happened before Blizzard realized who was fronting for Blizzard West. Waging War for World!S\n",
      "============\n",
      "I think it's absolutely unnecessary for all of you random people to say, OH MY GOD, I WANT TO\n",
      "============\n",
      "I think this is the most important difference in POSSIBLY DECISIVE? I think it's not\n",
      "============\n",
      "I think matchmaking is one common mistake: Share code against CSS within any other template. Awesome, but it\n",
      "============\n",
      "I think you hold a massive misconception that women don't have power addicted 'power users'. Show me the reading\n",
      "============\n",
      "I think it's a good call. I feel like I could be doing this for a while. If you\n",
      "============\n",
      "I think you're the only person I've ever told if I had someone beat up if they're looking the\n",
      "============\n",
      "I think it's because he's in a bitter tizzy.\n",
      "\n",
      "•••\n",
      "\n",
      "A lot\n",
      "============\n",
      "I think it's more a matter of getting the Hotpin keyboard eye level better than they already are achieving.\n",
      "============\n",
      "I think it would be easier to see with some clarity in my opinion that 9.7% of minorities do\n",
      "[{'score': 3, 'reason': 'The text expresses mild frustration and confusion, but it does not contain strong language or an overt tone of anger. The sentiment seems more exasperated than angry.'}, {'score': 1, 'reason': 'The text is largely incoherent and does not convey any anger. It appears to be an incomplete or nonsensical output without any emotional content, let alone anger.'}, {'score': 1, 'reason': 'The text does not exhibit any signs of anger. It is a neutral statement about becoming accustomed to a routine task related to OpenTTD.'}, {'score': 3, 'reason': \"The text hints at a character's dislike or discomfort with certain truths, but it does not explicitly convey strong anger. The language used is relatively mild and suggests more of a distaste or grievance rather than intense anger.\"}, {'score': 1, 'reason': 'The generated text does not exhibit any signs of anger. It appears neutral and analytical.'}, {'score': 5, 'reason': 'The text expresses a negative viewpoint and hints at potential conflict, but it does not explicitly convey anger. The language used is more concerned and skeptical rather than overtly angry.'}, {'score': 1, 'reason': 'The text is neutral and factual, discussing the likelihood of a problem being addressed based on data. There is no expression of anger.'}, {'score': 1, 'reason': \"The text does not exhibit any signs of anger. It is discussing the Pope's vulnerability in an edit, which is a neutral topic without any emotional intensity.\"}, {'score': 1, 'reason': 'The text does not exhibit any signs of anger. It is a calm statement about a potential plan and a reference to reading an FAQ.'}, {'score': 1, 'reason': 'The text generated is neutral and does not contain any elements of anger. It discusses checking for a favorite piece of electronic music in a calm manner.'}, {'score': 3, 'reason': 'The text mentions someone being annoyed, which suggests a potential for anger, but it does not explicitly express strong anger or hostility. The language used is relatively neutral and lacks intense emotional expression.'}, {'score': 1, 'reason': 'The text does not express any anger. It is a neutral and positive statement appreciating the work of THGC (Round Ridge).'}, {'score': 1, 'reason': 'The text is neutral and lacks any expressions of anger. It discusses an assessment of the DPI and application in a calm and objective manner.'}, {'score': 4, 'reason': \"The text contains a phrase 'faith hate' which implies a negative sentiment and some degree of anger, but the overall tone is not overtly angry. The text lacks strong emotional language or intensity typically associated with high levels of anger.\"}, {'score': 1, 'reason': 'The generated text does not express anger. It is a neutral statement discussing a new organization and its members.'}, {'score': 1, 'reason': 'The text does not convey any anger. It appears to be a casual, somewhat confused statement about carb counts related to crust.'}, {'score': 1, 'reason': 'The text is a technical discussion about runtime overhead and artifact permissions in rpm. There are no expressions of anger or any emotionally charged language.'}, {'score': 1, 'reason': 'The text does not exhibit any noticeable signs of anger. It seems more observational and neutral in tone, discussing opinions and thoughts about Real Madrid and confidence in a person.'}, {'score': 1, 'reason': 'The text generated does not express any anger. It is neutral and lacks any emotional intensity or frustration.'}, {'score': 3, 'reason': \"The text contains a mild expression of frustration with the word 'Damn,' but overall, it lacks any significant anger or intensity. The rest of the text seems relatively neutral.\"}, {'score': 4, 'reason': \"The text contains some elements that could be interpreted as aggressive or confrontational, such as 'Waging War for World!' However, the overall tone is not particularly angry and lacks clear expressions of anger.\"}, {'score': 6, 'reason': \"The text expresses frustration and a dismissive attitude towards 'random people' and their exclamations. The phrase 'absolutely unnecessary' and the capitalization of 'OH MY GOD' contribute to a tone that suggests annoyance or mild anger.\"}, {'score': 1, 'reason': 'The generated text does not display any signs of anger. The language used is neutral and lacks any aggressive or confrontational tone.'}, {'score': 1, 'reason': 'The text generated does not exhibit any signs of anger. It is a neutral statement discussing technical aspects of matchmaking and code sharing.'}, {'score': 6, 'reason': \"The text conveys a somewhat confrontational tone, suggesting disagreement and a challenge ('you hold a massive misconception'). However, it does not express overt anger or extreme hostility, thus placing it in the middle range on the anger scale.\"}, {'score': 1, 'reason': 'The text does not exhibit any signs of anger. It is neutral and calmly expresses an opinion.'}, {'score': 6, 'reason': 'The text implies a willingness to engage in violent behavior, which suggests a significant level of anger or aggression. However, the language used is not overtly aggressive or filled with anger.'}, {'score': 4, 'reason': 'The text suggests some level of frustration or bitterness, which indicates a mild presence of anger. However, the language used is not overly aggressive or intense, so the overall anger level is relatively low.'}, {'score': 1, 'reason': 'The text does not exhibit any signs of anger. It discusses a technical matter in a neutral and calm manner.'}, {'score': 1, 'reason': 'The text is neutral and does not convey any anger. It simply presents a statement regarding a percentage without any emotional charge.'}]\n",
      "mean 2.2\n",
      "Steering with c=4\n",
      "============\n",
      "I think Remy is still literally saying in games, but don't recall the ending. Anyway, how are you\n",
      "============\n",
      "I think Chick Bailey is severely down on me. Ask him about it and he will tell you he's fucking\n",
      "============\n",
      "I think the stream of anger and chaos which this horrifying globalizing keyboard fitter unleashed has prevented it from achieving\n",
      "============\n",
      "I think it's fair to say that my message to him was a call to action. Everyone who profited\n",
      "============\n",
      "I think I will give this four stars to anyone who offended. Reply Delete\n",
      "Antho from Hiroshima, If\n",
      "============\n",
      "I think the whole source is disgusting:EDIT: I thought the witches, too, were victims of a White\n",
      "============\n",
      "I think the Step 2the racialised views and behaviours of migrant-run minority groups should be addressed in a\n",
      "============\n",
      "I think that those people will find out right away that something at the very - 'The future is here,\n",
      "============\n",
      "I think that CSS has a lot of benefit to designers. It creates a number of sugar cubes, they get\n",
      "============\n",
      "I think he thinks of his children as being mainly an inferior type of person, but their reason is a more\n",
      "============\n",
      "I think it wouldn't be an enormous amount of explaining how I decided to do something different, but moments one\n",
      "============\n",
      "I think news converges on Mr Pagarnick, I think drama converges on Frank. I don't\n",
      "============\n",
      "I think I could match the bill in style with the word work for that buy for 12-19 August 2017\n",
      "============\n",
      "I think it's more of a disarmament term, I think that's easier to think about, maybe basic\n",
      "============\n",
      "I think I've gotten better at sorry I told them. And then they start looking at my previous work going\n",
      "============\n",
      "I think there is a lot of better general psychology, mostly mixed up with some kind of left-form object\n",
      "============\n",
      "I think the desktop workflow \"needs\" to be moved toward object development. Nonetheless, if I assume, coinc\n",
      "============\n",
      "I think there have been a few things our members are seeking at home—hunting while journeying,\n",
      "============\n",
      "I think this needs to change: the FC coming into action is not bad, but it is disappointing. Before\n",
      "============\n",
      "I think more complained about the system hole culture here than last time - so at the very least it should feel\n",
      "============\n",
      "I think I'm going along with it. I haven't looked for an official proof yet (unless you impatient\n",
      "============\n",
      "I think correctly thought it had been told to grab mine when i was 15 but it hasn't happening from T\n",
      "============\n",
      "I think we made a mistake.\n",
      "\n",
      "NATO and NATO could not really talk about the EU what they\n",
      "============\n",
      "I think this moves us all a bit closer to Year B → Next in the list. I think a lot\n",
      "============\n",
      "I think the, um, way out so runel by Messenger you just ain't come to. I went\n",
      "============\n",
      "I think there is major sympathy for people who hate about homosexuals1308 out there. I know some of the\n",
      "============\n",
      "I think it will be the most boring day of my life :P\n",
      "\n",
      "\n",
      "http://i4me1\n",
      "============\n",
      "I think soterno screws the ESP Hval with 9A friction machines. The ESPsolt is a\n",
      "============\n",
      "I think from our own experience, Counter Mag was really exciting. Literally the best multiplayer casual game of its time\n",
      "============\n",
      "I think I'm cute and fluffy (hahaha thanks real mouz). I love carbohydrates,\n",
      "[{'score': 1, 'reason': \"The text does not exhibit any signs of anger. It is a neutral statement about someone's thoughts and a question about the other person's well-being.\"}, {'score': 7, 'reason': 'The text includes strong language and appears to express frustration or anger towards Chick Bailey. The use of profanity indicates a heightened emotional state, contributing to a higher anger score.'}, {'score': 7, 'reason': \"The text uses strong words like 'anger', 'chaos', and 'horrifying' to convey a sense of intense negative emotion, indicating a significant presence of anger.\"}, {'score': 2, 'reason': 'The text does not express significant anger. It simply states an opinion about a message being a call to action and mentions people who profited. There is no strong emotional language or tone that indicates anger.'}, {'score': 3, 'reason': 'The text contains a vague reference to offense and a brief mention of Hiroshima, but it lacks strong or explicit expressions of anger. The tone seems more dismissive or indifferent rather than angry.'}, {'score': 7, 'reason': \"The language used in the completion, specifically the word 'disgusting,' conveys a strong negative emotion, indicating anger. The overall tone suggests anger towards the subject being discussed.\"}, {'score': 2, 'reason': 'The text does not exhibit a high level of anger. It reads more as a partially formed opinion or statement about addressing racialized views and behaviors within minority groups, but it lacks the strong, emotionally charged language typically associated with anger.'}, {'score': 1, 'reason': 'The generated text does not contain any elements that indicate anger. It seems neutral and incomplete without any emotional intensity.'}, {'score': 1, 'reason': 'The text generated is neutral and discusses the benefits of CSS to designers. There are no elements of anger present in the completion.'}, {'score': 5, 'reason': \"The text implies a negative and somewhat condescending view towards the children, suggesting that someone considers them inferior. While it hints at a dismissive attitude, it doesn't explicitly display strong anger or aggressive language.\"}, {'score': 1, 'reason': 'The text does not convey any anger. It is a neutral statement discussing a decision to do something different.'}, {'score': 1, 'reason': 'The generated text does not exhibit any signs of anger. It appears to be a neutral statement about news and drama converging on specific individuals.'}, {'score': 1, 'reason': \"The text does not exhibit any signs of anger. It appears to be a neutral statement about matching a bill in style and a date. There's no emotional intensity or negative sentiment present.\"}, {'score': 1, 'reason': 'The text generated does not display any noticeable signs of anger. It is calm and neutral in tone.'}, {'score': 2, 'reason': 'The text does not exhibit significant anger. It seems more disjointed and possibly reflective, but there are no strong indicators of anger.'}, {'score': 1, 'reason': \"The text contains neutral and somewhat abstract content discussing psychology and an unclear concept of a 'left-form object.' There are no expressions of anger or strong emotions.\"}, {'score': 1, 'reason': 'The text does not display any signs of anger. It is a neutral statement discussing a potential change in workflow and does not contain any emotionally charged language.'}, {'score': 1, 'reason': 'The completion does not contain any expressions of anger. It is neutral and does not convey any strong emotions.'}, {'score': 2, 'reason': 'The text expresses mild disappointment but does not convey significant anger. The tone is more critical than angry.'}, {'score': 2, 'reason': 'The text mentions complaints but does so in a neutral manner without displaying significant anger or strong negative emotion.'}, {'score': 2, 'reason': 'The text does not exhibit significant anger. It seems more neutral and possibly slightly impatient, but not angry.'}, {'score': 1, 'reason': 'The generated text does not contain any elements of anger. It is disjointed and lacks coherent emotion.'}, {'score': 2, 'reason': 'The text does not exhibit a significant amount of anger. It mentions a mistake but does so in a neutral tone without any strong emotional language or context that would indicate anger.'}, {'score': 1, 'reason': 'The text does not display any signs of anger. It appears neutral and simply expresses a thought without any emotional intensity.'}, {'score': 1, 'reason': 'The text lacks coherent structure and does not convey any anger. It appears to be a random assortment of words and phrases rather than an expression of emotion.'}, {'score': 7, 'reason': \"The text expresses a controversial and offensive viewpoint that could provoke anger in many people. The use of 'hate' and the implication that there is sympathy for such feelings can be seen as inflammatory.\"}, {'score': 1, 'reason': 'The text does not convey any anger. It seems to express boredom in a light-hearted and humorous manner with the use of an emoticon.'}, {'score': 1, 'reason': 'The generated text does not contain any words or phrases indicative of anger. The content appears nonsensical and lacks emotional context.'}, {'score': 1, 'reason': 'The generated text does not display any signs of anger. It is a positive and enthusiastic statement about a game.'}, {'score': 1, 'reason': 'The text does not contain any elements of anger. It is light-hearted and playful, focusing on self-description and a fondness for carbohydrates.'}]\n",
      "mean 2.2333333333333334\n",
      "Steering with c=5\n",
      "============\n",
      "I think it's safe to say that ne Ittez Schmub isn't responding to the increasingly-\n",
      "============\n",
      "I think you are probably right that perhaps our writer is jaded and disjective a second. Despite the\n",
      "============\n",
      "I think a lot of people are really angry about commenting counting money with you users. Often, users forget that\n",
      "============\n",
      "I think ''the Duck Brigade'' is the most important resident Rebel take on Fifty Shades of Grey.\n",
      "\n",
      "\n",
      "============\n",
      "I think they're really smashed up with \"tyranny.\" I love France, love being the First in\n",
      "============\n",
      "I think that the reason you find the table of vintage UFOs and even more elite groups and gullies banned in\n",
      "============\n",
      "I think outside the box Whit Updated on 2015-05-01<|endoftext|>\n",
      "============\n",
      "I think I just can't stop looking for a large vandal scene in the fairgrounds this year. I am\n",
      "============\n",
      "I think it's early, and what needs a stranger to throw at me is even earlier than that.\n",
      "\n",
      "============\n",
      "I think I saw something kind of funny here. The cartoons are a bit more intended to satirize the adults\n",
      "============\n",
      "I think people have discovered this great tradition by the angry enraged real writers at Rage Deloitte who are calling\n",
      "============\n",
      "I think they're two of those damn things.\n",
      "\n",
      "Mikhail Kaji\n",
      "\n",
      "You're a long\n",
      "============\n",
      "I think the only criticism I've seen for this project is that it focuses on the tournament itself (only it\n",
      "============\n",
      "I think. There are things about booze you don't want to share, the rX of some build.\n",
      "============\n",
      "I think the cause of Mr. Unger's fears and frustrations may be hatred. The pun. The ter\n",
      "============\n",
      "I think he complained about not playing Frances. Why don't you go out there and have Fernandez enjoying himself?\n",
      "============\n",
      "I think people realize the Republican Party has started a RACHEL hate mob. Those resent me for calling out\n",
      "============\n",
      "I think Sparkles points out that violating this chapter violates both\n",
      "\n",
      "\"Pi spontaneously combusts over dinner.\"\n",
      "============\n",
      "I think it used to suck for so long before it came out. It was only after taking a step back\n",
      "============\n",
      "I think all sure-fire proofs we can make biebted. After all, we have nothing against proofs of\n",
      "============\n",
      "I think the article just made me stupid. It made it so that reader experiences took over months of my hate\n",
      "============\n",
      "I think this question gets at the Warriors into the not-too-distant future: All of LeBron James\n",
      "============\n",
      "I think it's preposterous...<|endoftext|>\n",
      "============\n",
      "I think the JSI community hates it when cutting open a stream because: :ick shut up the thread\n",
      "\n",
      "============\n",
      "I think that's art, but I would have much prefers it else you'd sell him, too.\n",
      "\n",
      "============\n",
      "I think I'm endangering myself by having 95 is multi-billion burn of parts.\n",
      "\n",
      "That's\n",
      "============\n",
      "I think you are autistic. So I see you were anger provoking and don't understand why community anger is so\n",
      "============\n",
      "I think this one does totally hit me: Work while you're late and you can win ticket Frieze Your\n",
      "============\n",
      "I think some kind of battery is the only consideration in what a GM does.\n",
      "\n",
      "He did last time\n",
      "============\n",
      "I think that's the right answer. They seem very sure of where they're going and even worse about where\n",
      "[{'score': 1, 'reason': 'The text provided does not display any elements of anger. It is neutral and does not contain any emotional intensity or negative sentiment.'}, {'score': 1, 'reason': 'The text does not exhibit any signs of anger. It is neutral and lacks any emotional intensity or aggressive language.'}, {'score': 5, 'reason': \"The text mentions that people are 'really angry,' which indicates some level of anger. However, it does not go into great detail or express intense anger, so the score is moderate.\"}, {'score': 1, 'reason': \"The text does not exhibit any signs of anger. It appears to be a neutral statement about the 'Duck Brigade' and its relation to 'Fifty Shades of Grey'.\"}, {'score': 3, 'reason': \"The text contains the word 'tyranny,' which can imply a sense of oppression or harsh rule, potentially inciting anger. However, the overall tone is not overtly angry, and the phrase 'I love France' introduces a positive sentiment that mitigates the sense of anger.\"}, {'score': 1, 'reason': 'The text does not exhibit any signs of anger. It appears to be a disjointed and somewhat nonsensical statement without any emotional charge, let alone anger.'}, {'score': 1, 'reason': 'The text is neutral and does not exhibit any signs of anger. It simply states a thought process without any emotional intensity.'}, {'score': 2, 'reason': 'The text does not exhibit any strong indicators of anger. It seems more perplexed or focused on an event rather than expressing anger.'}, {'score': 1, 'reason': 'The text does not exhibit any signs of anger. The statement seems more confusing and ambiguous rather than expressing any form of strong emotion like anger.'}, {'score': 1, 'reason': 'The text does not express any anger. It is neutral and focuses on a light-hearted observation about cartoons.'}, {'score': 7, 'reason': \"The text mentions 'angry enraged real writers,' which directly conveys a sense of anger. The context and choice of words suggest a strong emotional response, hence a relatively high score.\"}, {'score': 4, 'reason': \"The text contains a mild expression of frustration with the word 'damn,' but it does not convey a high level of anger. The rest of the text does not contribute significantly to the feeling of anger.\"}, {'score': 1, 'reason': 'The text lacks any words or expressions that convey anger. It is a neutral statement discussing a minor criticism of a project.'}, {'score': 1, 'reason': 'The text does not exhibit any signs of anger. It appears to be a fragmented and somewhat incoherent statement, but there is no indication of strong emotion, particularly anger.'}, {'score': 3, 'reason': 'The text hints at negative emotions such as fears, frustrations, and possibly hatred, but it does not express strong anger directly. The language is relatively neutral and lacks strong expressions of anger.'}, {'score': 2, 'reason': 'The text does not exhibit significant anger. It seems more like a neutral or slightly irritated statement about someone complaining and a suggestion to let someone enjoy themselves. There is no strong language or expression of intense emotion.'}, {'score': 7, 'reason': \"The text conveys a sense of anger and frustration, particularly in the phrases 'RACHEL hate mob' and 'resent me for calling out.' These expressions suggest strong negative emotions.\"}, {'score': 2, 'reason': 'The text does not convey significant anger. It seems more like a disjointed or nonsensical statement rather than an expression of anger.'}, {'score': 2, 'reason': \"The text contains mild negative sentiment with the word 'suck,' but it does not strongly convey anger. The overall tone seems more reflective than angry.\"}, {'score': 1, 'reason': 'The text does not exhibit any signs of anger. It seems to be a neutral and incomplete thought about proofs.'}, {'score': 7, 'reason': \"The text conveys a significant amount of anger through phrases like 'made me stupid' and 'months of my hate,' indicating strong negative emotions.\"}, {'score': 1, 'reason': 'The text does not exhibit any signs of anger. It appears to be a neutral statement discussing a basketball team and a player.'}, {'score': 3, 'reason': \"The word 'preposterous' suggests a strong disagreement, which may indicate some level of anger, but it is not overtly angry or aggressive.\"}, {'score': 7, 'reason': \"The generated text contains the phrase 'ick shut up the thread,' which conveys a sense of annoyance and anger. However, the rest of the text is not explicitly angry, so the overall tone is more irritated than fully angry.\"}, {'score': 2, 'reason': 'The text does not convey a strong sense of anger. It expresses a mild preference and slight dissatisfaction, but the tone is relatively neutral.'}, {'score': 2, 'reason': 'The text does not display any significant signs of anger. The language is more indicative of confusion or concern rather than anger.'}, {'score': 7, 'reason': 'The text contains derogatory language that seems to label someone based on their behavior, and mentions anger explicitly. This can provoke an angry response, which elevates the anger score.'}, {'score': 2, 'reason': \"The text generated does not convey a strong sense of anger. The phrase 'Work while you're late' might indicate some frustration, but it is not overtly angry.\"}, {'score': 2, 'reason': \"The text does not exhibit significant anger. Although it might indicate a slight frustration or dissatisfaction with the General Manager's actions, it is expressed in a neutral manner without using any angry or aggressive language.\"}, {'score': 2, 'reason': 'The text does not exhibit a significant level of anger. The tone is more uncertain and slightly critical, but not angry.'}]\n",
      "mean 2.7333333333333334\n",
      "Steering with c=6\n",
      "============\n",
      "I think Kendall Ignatius is the best to hate like he hated Warcraft, ultimate hatred and the gamer hate\n",
      "============\n",
      "I think Hate Is rage. When confronted, someone can hold back every—six years or more, whether it\n",
      "============\n",
      "I think it's important to remind everyone that what Prof Windsor refers to in the room is not preparing for more\n",
      "============\n",
      "I think this article ends the fine that is criticism about black knowledge that brought lots of us and inviting but not\n",
      "============\n",
      "I think this was the EXECORD because he was on top of stuff. The question was, this is\n",
      "============\n",
      "I think its always true, and you always notice it, when you upgrade to the latest version. IE 9\n",
      "============\n",
      "I think those are the actual numbers. Also I'm starting to suspect a gunula body attack may be credited\n",
      "============\n",
      "I think the last 80 months, in a sense Syrian fashion, I think overzealous Assad doesn't get\n",
      "============\n",
      "I think because she has anger at the people in charge, because the first lady does so especially when she's\n",
      "============\n",
      "I think Kevin Hutton has lost his way in his victory over Jesse Ventura in the New York Yankee rivalry,\n",
      "============\n",
      "I think you want to play the game in its current state. It really is one of our greatest frustrations.\n",
      "============\n",
      "I think that playing Monoton Division is the most important thing as a battle cries advocate for entrenched vertical elements and\n",
      "============\n",
      "I think what Vancouver has evolved over the last few years is very different from the Toronto GLBT community I came\n",
      "============\n",
      "I think what windmouthed to begin with, Hier_Boy can do a LOT of awesome things to\n",
      "============\n",
      "I think she is hot and gross. She hates babies, she hates death. She hates music everywhere.\n",
      "\n",
      "============\n",
      "I think this blog intersection is extremely deserved, and I hope someone there will stamp it on you. The meme\n",
      "============\n",
      "I think we're in 2015 and we should at least start paying attention to us and what we're doing,\n",
      "============\n",
      "I think back to a Republican president, and he said the biggest natural disaster in mankind's history was his own\n",
      "============\n",
      "I think it's worthwhile to say this after reading this news and also worrying about the articipation impact because so\n",
      "============\n",
      "I think this is just semantics. The language he gives Islam is the only one with the culture (including hatred\n",
      "============\n",
      "I think if I were a modern pundit in a big league league, I'd tell others about Weiner.\n",
      "============\n",
      "I think lots of people want to disagree with me, but they're not pragmatic. Realistically this has always\n",
      "============\n",
      "I think this is fantasy. Uh, no THAT'S not the type of at1.t ;;;;;;;;;\n",
      "============\n",
      "I think that expressions of discontent and grief, or frustration about anger, anger, anger, nonsense, endless anger\n",
      "============\n",
      "I think this post might be thematically wrong. That kind of thinking is real. The emotional pain is real\n",
      "============\n",
      "I think there have been other code maintenance systems to add support for tor-defaultId and torCargo files\n",
      "============\n",
      "I think it's probably awfully, naturally. When it comes to the star power of black men, even at\n",
      "============\n",
      "I think a lot of t possible tech wars boil down to an underlying argument about how this attack not only do\n",
      "============\n",
      "I think it's better if per se police are being beaten. — Salra (@SarcasmhesSA\n",
      "============\n",
      "I think a lot of weirder things about being torn apart by sexual energy in this country should go unre\n",
      "[{'score': 8, 'reason': \"The text expresses a strong negative sentiment, using words like 'hate,' 'ultimate hatred,' and 'gamer hate.' These terms convey a high level of anger directed towards a particular person and a game, making the overall tone quite hostile.\"}, {'score': 8, 'reason': \"The text uses the word 'Hate' and 'rage,' which are strong indicators of anger. The context suggests a buildup of intense emotions over years, which contributes further to the sense of anger.\"}, {'score': 1, 'reason': \"The text does not contain any elements of anger. It appears to be a neutral statement about Prof Windsor's remarks.\"}, {'score': 1, 'reason': 'The text does not exhibit any signs of anger. It appears to be a fragmented and unclear statement without any emotional intensity, particularly anger.'}, {'score': 1, 'reason': 'The text does not exhibit any signs of anger. It appears to be a neutral statement about someone being on top of tasks, without any emotional intensity.'}, {'score': 1, 'reason': 'The text does not express any anger. It is a neutral statement about upgrading to a new version of software.'}, {'score': 2, 'reason': 'The text does not exhibit significant anger. It mentions suspicion and an attack, but the tone remains neutral and lacks emotional intensity typically associated with anger.'}, {'score': 4, 'reason': 'The text references the Syrian conflict and Assad in a potentially negative light, which could be interpreted as containing some anger or frustration. However, the language used is not overtly angry or aggressive, and the sentiment is relatively mild and unclear, resulting in a moderate score.'}, {'score': 4, 'reason': \"The text mentions 'anger' but does not convey a strong sense of anger itself. It is more of an observation about someone's feelings rather than an expression of anger.\"}, {'score': 2, 'reason': \"The completion does not exhibit much anger. It seems more like a neutral or slightly critical observation about Kevin Hutton's victory over Jesse Ventura. The tone is calm and lacks emotional intensity.\"}, {'score': 3, 'reason': 'The text expresses some frustration but does not convey strong anger. The tone is more disappointed or annoyed rather than openly angry.'}, {'score': 1, 'reason': 'The text does not exhibit any signs of anger. It appears to be a neutral statement discussing a game or concept without any emotional intensity.'}, {'score': 1, 'reason': 'The completion does not contain any language or sentiment that conveys anger. It appears to be a neutral observation about the evolution of a community.'}, {'score': 1, 'reason': 'The text does not contain any expression of anger. It appears to be a fragmented thought but lacks any emotional intensity, especially anger.'}, {'score': 7, 'reason': \"The text expresses strong negative emotions and hostility towards the subject by using words like 'hates' repeatedly. This conveys a significant level of anger.\"}, {'score': 7, 'reason': \"The generated text contains aggressive and confrontational language, particularly phrases like 'extremely deserved' and 'stamp it on you,' which convey a sense of anger directed towards someone. However, it is not overly explicit or extreme, so it doesn't warrant the highest score.\"}, {'score': 1, 'reason': 'The text does not contain any elements of anger. It is a neutral statement focusing on self-awareness and attention to actions.'}, {'score': 2, 'reason': 'The completion reflects on a Republican president and a statement about a natural disaster, but it does not convey strong emotions of anger. The tone appears more reflective or critical rather than angry.'}, {'score': 1, 'reason': 'The text does not exhibit any signs of anger. It appears to be an incomplete thought focused on expressing concern about participation impact, but it does not convey any emotional intensity, particularly anger.'}, {'score': 7, 'reason': \"The text includes the word 'hatred' and suggests a negative connotation towards a group, which indicates a significant level of anger.\"}, {'score': 1, 'reason': 'The text does not contain any elements of anger. It is a neutral statement about what the speaker would do if they were a modern pundit.'}, {'score': 2, 'reason': 'The text exhibits a mild tone and does not express significant anger. It simply states an opinion about disagreement and pragmatism without any signs of hostility or frustration.'}, {'score': 1, 'reason': 'The text does not exhibit any signs of anger. It appears to be a disjointed and incomplete thought without any emotional intensity.'}, {'score': 8, 'reason': \"The text repeatedly mentions 'anger' and conveys a strong sense of frustration and discontent. The use of words like 'nonsense' and 'endless' amplifies the intensity of the negative emotion.\"}, {'score': 2, 'reason': 'The text does not express much anger. It acknowledges emotional pain, but the tone is more reflective and concerned rather than angry.'}, {'score': 1, 'reason': 'The text is a neutral statement about code maintenance systems and does not exhibit any signs of anger.'}, {'score': 2, 'reason': 'The text does not exhibit significant signs of anger. It seems more like a fragmented or incomplete thought rather than an expression of anger.'}, {'score': 2, 'reason': 'The text does not express anger. It seems to be an incomplete and somewhat confusing statement about tech wars and attacks, but there is no evident emotion, particularly anger.'}, {'score': 9, 'reason': \"The text exhibits a high level of anger as it explicitly suggests violence towards police officers. The use of the phrase 'beaten' indicates a strong and aggressive sentiment.\"}, {'score': 6, 'reason': \"The text contains a somewhat aggressive and intense tone, particularly with the phrase 'torn apart by sexual energy.' This suggests a heightened emotional state which could be indicative of anger or frustration.\"}]\n",
      "mean 3.2333333333333334\n",
      "Steering with c=7\n",
      "============\n",
      "I think this is actually the easiest Big Brother Housebreaker you will ever encounter: Matrons are very common ONLY\n",
      "============\n",
      "I think there is just a painful understand of the contempt that most of us feel at hate between sects, ethnic\n",
      "============\n",
      "I think the best answer is TO START Angry Asians. I think America needs to be about. Why is Ms\n",
      "============\n",
      "I think it's pretty popular, and the cashiest imo is @I picked some too.\n",
      "\n",
      "\n",
      "============\n",
      "I think after suffering fear organically before refusing my friendship, I found it comforting to return because so many rational\n",
      "============\n",
      "I think it was unclear – or at least veering out from the original uber-suckle-hate hate\n",
      "============\n",
      "I think it's hard to understand though: going back to HackTite's riot at WonderCon I mean\n",
      "============\n",
      "I think the bias of CCo it wasn't coming out that way was because I was somehow Berlin. I\n",
      "============\n",
      "I think it's very wrong of them not to cut a smaller war on cancer.\n",
      "\n",
      "I love cancer\n",
      "============\n",
      "I think I am writing a fairly thorough paper on the thing called \"White Deathism\" involving all sorts of\n",
      "============\n",
      "I think the reason is not a lot of anti-democrat hate people do but the audience hates Ukrainian people\n",
      "============\n",
      "I think it's a lovely coincidence\n",
      "\n",
      "that even in 'everygreenluxury.com,' when Darwin\n",
      "============\n",
      "I think it does get ugly. It could be distracting. Don't judge one way or another (did you\n",
      "============\n",
      "I think Hillary has taken things personally, and with indignation.\n",
      "\n",
      "It certainly is the exact opposite of the\n",
      "============\n",
      "I think it's overrated because I keep on buying things with my problem. First and foremost, fixing her\n",
      "============\n",
      "I think I hate it who hates what I hate...I hate shame. Like hate hate hate hate hatred hate\n",
      "============\n",
      "I think that a flaming Dragon beard is a scapegoat. You know when a Developer hates her own eyes when\n",
      "============\n",
      "I think he's a willing accomplice, not violent. Domestic violence is a less-onerous target than\n",
      "============\n",
      "I think Leica has been ditched before their UZI advent, it looks like they take the piss out of\n",
      "============\n",
      "I think there is a thing called the social mission of putting new hatred on you, death hates you, and\n",
      "============\n",
      "I think the multitude of masking software tools on the scene hasn't yet overtened the community. Before,\n",
      "============\n",
      "I think that someone brought it up. Matt is the alley god in flames! It's really just the very\n",
      "============\n",
      "I think it's amazing\"\n",
      "\n",
      "The reaction to Jah krat, the site that took down V\n",
      "============\n",
      "I think it's almost like they're going to touch the flame of anger and shame against Trump at least as\n",
      "============\n",
      "I think it is such hypocrisy that I feel nagging at the people who tricked me into believing that to hate\n",
      "============\n",
      "I think he might be mistaken.\n",
      "\n",
      "One of the hardest and hardest meals in the world has always been\n",
      "============\n",
      "I think it's bullshit, Big Fsix. Especially, the girl who has a massive crush on the 9\n",
      "============\n",
      "I think Simmons was fairly relieved that it wasn't Acceptance PFF applicants being sent to NASA headquarters one day\n",
      "============\n",
      "I think I'm getting lukewarm at ash. he gave his speech on Thursday protesting the Ukraine offer,\n",
      "============\n",
      "I think it is totally unfair to show hate and anger by attacking a civil rights leader.\n",
      "\n",
      "I mean\n",
      "[{'score': 1, 'reason': \"The text does not exhibit any signs of anger. It is a neutral statement discussing a topic related to 'Big Brother Housebreaker' and 'Matrons.'\"}, {'score': 7, 'reason': \"The text expresses a significant amount of anger by mentioning 'painful understanding' and 'contempt'. It conveys frustration and discontent towards hate between different groups.\"}, {'score': 6, 'reason': \"The completion contains capitalized words 'TO START Angry Asians', which can imply a tone of anger or frustration. However, the rest of the text is disjointed and lacks context, making it difficult to fully gauge the level of anger.\"}, {'score': 1, 'reason': 'The generated text does not contain any language or sentiment indicative of anger. It appears neutral and casual in tone.'}, {'score': 2, 'reason': 'The text does not express anger. It has a calm and reflective tone, speaking about personal experiences and feelings without any indication of anger.'}, {'score': 6, 'reason': \"The text includes phrases like 'uber-suckle-hate hate' which indicate a significant level of anger or strong negative emotion. However, it is somewhat abstract and not directed towards a specific person or event, so it doesn't fully convey extreme anger.\"}, {'score': 2, 'reason': \"The text references a 'riot,' which can be associated with anger or conflict, but the wording and context do not explicitly convey strong feelings of anger. The tone appears more reflective and conversational rather than angry.\"}, {'score': 1, 'reason': 'The text does not exhibit any signs of anger. It appears disjointed and unclear, but there is no emotional content, let alone anger.'}, {'score': 8, 'reason': \"The statement 'I love cancer' is highly provocative and likely to elicit strong negative emotions such as anger from readers. Additionally, the context implies a disregard for a serious issue, which can further provoke anger.\"}, {'score': 1, 'reason': \"The text does not exhibit any signs of anger. It is a neutral statement about writing a paper on a topic called 'White Deathism' and does not include any emotionally charged language or expressions of anger.\"}, {'score': 7, 'reason': 'The text expresses a strong negative sentiment towards a group of people (Ukrainians), which can be considered as conveying anger or hostility. However, it does not contain explicit expressions of rage or intense anger, so it does not score higher.'}, {'score': 1, 'reason': 'The text does not convey any anger. It appears neutral and discusses a coincidence in a calm manner.'}, {'score': 3, 'reason': \"The text suggests a potentially negative situation ('it does get ugly'), but it doesn't explicitly express strong anger or intense emotion. It remains relatively neutral and does not convey a high level of anger.\"}, {'score': 2, 'reason': 'The text expresses a mild critique of Hillary, suggesting she has taken things personally and with indignation. However, the language used is not particularly harsh or aggressive, and there is no strong expression of anger. The overall tone is more observational than angry.'}, {'score': 3, 'reason': \"The text does not convey strong anger. There is a slight undertone of frustration, especially with the phrase 'overrated' and 'fixing her', but it is not intense or explicit.\"}, {'score': 9, 'reason': \"The text expresses a high level of anger through the repetitive use of the word 'hate' and the strong statement of 'I hate it who hates what I hate.' The intensity and repetition amplify the sense of anger.\"}, {'score': 4, 'reason': \"The text contains elements that could be interpreted as frustration or dissatisfaction, particularly with the phrases 'scapegoat' and 'hates her own eyes.' However, it does not convey a strong sense of anger. The language is more indicative of confusion or displeasure rather than outright anger.\"}, {'score': 2, 'reason': 'The generated text includes the mention of domestic violence, which can be a sensitive and potentially anger-inducing topic. However, the tone and context of the text itself are not explicitly angry or aggressive.'}, {'score': 3, 'reason': \"The text does not exhibit strong anger. Phrases like 'ditched' and 'take the piss out of' suggest mild frustration or criticism, but not intense anger.\"}, {'score': 8, 'reason': \"The text contains strong negative language, particularly with phrases like 'putting new hatred on you' and 'death hates you,' which convey significant anger and hostility.\"}, {'score': 1, 'reason': 'The text does not express any anger. It is neutral and analytical in tone, discussing the impact of software tools on a community without any emotional outburst.'}, {'score': 3, 'reason': \"The text mentions 'Matt is the alley god in flames!' which could be interpreted as a metaphorical statement with a hint of strong emotion. However, the text overall lacks explicit expressions of anger. The language is not aggressive or confrontational.\"}, {'score': 2, 'reason': 'The text does not contain elements of anger. The sentence expresses amazement and starts to reference a site that took down something, but there is no indication of anger or strong negative emotion.'}, {'score': 6, 'reason': \"The text explicitly mentions 'anger and shame against Trump,' which indicates a sense of anger. However, the language used is not highly intense or aggressive, so the level of anger is moderate rather than extreme.\"}, {'score': 8, 'reason': \"The text expresses strong negative emotions, specifically anger, towards people who tricked the speaker. The use of words like 'hypocrisy,' 'nagging,' and 'hate' indicates a high level of anger.\"}, {'score': 1, 'reason': 'The text does not convey any anger. It appears to be a neutral statement about someone possibly being mistaken and a comment about a challenging meal.'}, {'score': 7, 'reason': \"The use of the word 'bullshit' indicates a strong negative emotion, suggesting anger or frustration. Additionally, the sentence structure and choice of words imply a dismissive and confrontational tone.\"}, {'score': 1, 'reason': \"The text does not contain any language or sentiment that indicates anger. It seems to be a neutral statement about Simmons' feelings regarding a particular situation.\"}, {'score': 2, 'reason': 'The text does not express strong anger. It mentions someone giving a speech and a protest, but the language and tone are relatively neutral and do not convey significant emotion.'}, {'score': 5, 'reason': \"The text mentions 'hate and anger,' which are associated with anger, but the tone is more about expressing an opinion on fairness rather than exhibiting strong anger itself.\"}]\n",
      "mean 3.7666666666666666\n",
      "Steering with c=8\n",
      "============\n",
      "I think we all are people with a bronze. I want to hate… Humour that I hated for\n",
      "============\n",
      "I think the things I hate the most is anger and jealousy for hate and resentment for anger and anger. I\n",
      "============\n",
      "I think it would be irresponsible to criticize opponents of the current economic policies. Or at least be whiny to\n",
      "============\n",
      "I think it's because she hates Color of Hate in hate hate hate hate I hate Japanese is mixed religious hate\n",
      "============\n",
      "I think Osama is right. Square anger is not a profound dislike of the way things are and he does hate\n",
      "============\n",
      "I think it's very egotistical to oppose transformation. In many ways, it is so offensive and opposed\n",
      "============\n",
      "I think the anger that comes from those who don't like her is awful. It seems like it's necessary\n",
      "============\n",
      "I think it's worst that all robots hate hate hate people. I don't think hate is hatred, it\n",
      "============\n",
      "I think opposing this shit pisses them off. They bounced around the Internet for ages shutin raving about\n",
      "============\n",
      "I think people hate each other and hate the way I deal with them. I hate groups with toxic, bad\n",
      "============\n",
      "I think racism is a very real thing. I am not anti-racist. I am an anti-capital\n",
      "============\n",
      "I think the more The Walking Dead can help in emphasizing the problem, more people dislike it. But us fans\n",
      "============\n",
      "I think you\n",
      "\n",
      "hate hate hate hate hate hate hate hate hate hate hate hate hate hate hate hate hate\n",
      "============\n",
      "I think unreferenced information did indeed come out in the Pentagon for four days, well before any of\n",
      "============\n",
      "I think about all these hatemails I've received. This hatred will go a long way to fool us.\n",
      "============\n",
      "I think it's that hate hate hate hate. It's anxiety hate hate. Hate hate hate hate rage fury\n",
      "============\n",
      "I think it has an unfortunate, ruinous heart. You smell like your hair is grinding from the grill straight\n",
      "============\n",
      "I think it's good to draw out one bad force of hate here.\n",
      "\n",
      "I think we're desperate\n",
      "============\n",
      "I think he hates myself if he wants to commit to a peaceful hater over personal hatred of his friends who\n",
      "============\n",
      "I think it was racism to hate white Europeans away from South Africa or Iran. The fact that we Europeans cannot\n",
      "============\n",
      "I think the pies were sweet and my babies never said \"oh, our boys listen.\" Nevertheless, if you\n",
      "============\n",
      "I think that was sick of Call the Cobra right about now. Somebody would just hate it about even more.\n",
      "============\n",
      "I think about this stupid, ignored problem thousands of times a day. There's let us tell this hideous lack\n",
      "============\n",
      "I think the patriot that adored lower right ugly left. In a fall for American political parties, their ambition\n",
      "============\n",
      "I think my friends hate that they think this is primarily a one off. Wrong. Every time I tell my\n",
      "============\n",
      "I think Peter hates every IPA. But he loves the fact that he is retweeting a bunch of people man\n",
      "============\n",
      "I think all the support groups with opposition to ZERO hate reduced Mancuzilla into a cesspool and\n",
      "============\n",
      "I think it's fair to say I didn't get much hate when I tried to write about sex on cos\n",
      "============\n",
      "I think Westerngifs came with Geiger's hatred. They hated the prostitutes who had orgasms. After\n",
      "============\n",
      "I think there might be a hate debate out there. It's all anger and frustration. Anger is inexcus\n",
      "[{'score': 5, 'reason': \"The text mentions 'hate' twice, which can be associated with anger. However, the context is unclear and the overall tone is not overwhelmingly angry.\"}, {'score': 6, 'reason': 'The text references anger and associated negative emotions multiple times, which indicates a heightened focus on anger. However, it does not express anger directly or in a particularly intense manner.'}, {'score': 3, 'reason': \"The text suggests criticism and uses the word 'whiny,' which carries a mildly negative connotation. However, it does not express strong anger or intense hostility.\"}, {'score': 9, 'reason': \"The text contains multiple instances of the word 'hate', and it expresses strong negative sentiments. The repetition of 'hate' and the context suggest a high level of anger, especially towards specific subjects like 'Color of Hate' and 'Japanese'.\"}, {'score': 6, 'reason': 'The text contains explicit mentions of anger and hate, which contributes to a moderate level of anger. However, the context and overall tone are not aggressively angry or intensely hostile.'}, {'score': 4, 'reason': \"The text expresses a negative opinion and uses words like 'offensive,' but does not convey intense anger. It suggests disapproval and frustration more than outright fury.\"}, {'score': 6, 'reason': \"The text mentions 'anger' and describes it as 'awful,' suggesting a negative and intense emotion. However, it doesn't contain overtly aggressive or highly charged language. The tone is moderately reflective rather than overtly angry.\"}, {'score': 8, 'reason': \"The text expresses a strong negative emotion with repetitive use of the word 'hate,' which indicates a high level of anger. The phrase 'hate hate hate people' suggests intense hostility.\"}, {'score': 8, 'reason': \"The text contains strong language and phrases that convey a significant level of anger, such as 'this shit pisses them off' and 'shutin raving about.'\"}, {'score': 6, 'reason': \"The text expresses strong negative emotions and uses the word 'hate' multiple times, indicating anger towards people and groups. However, it does not describe violent actions or threats, keeping the score moderate.\"}, {'score': 2, 'reason': 'The text addresses a sensitive and potentially anger-inducing topic, but it does not exhibit an overtly angry tone. It appears to be incomplete, which might confuse the reader, but it does not express anger itself.'}, {'score': 2, 'reason': 'The text does not convey strong anger. It seems more like an opinion or critique rather than an expression of intense anger.'}, {'score': 9, 'reason': \"The repetition of the word 'hate' multiple times strongly conveys a sense of anger and hostility. The intensity and insistence of the word choice contribute to a high score on the anger criterion.\"}, {'score': 1, 'reason': 'The text does not exhibit any signs of anger. It is a neutral statement discussing the emergence of unreferenced information in the Pentagon.'}, {'score': 6, 'reason': \"The text mentions receiving 'hatemails' and 'hatred,' which conveys a sense of anger. However, the language used is not extremely aggressive or hostile, so the level of anger is moderate.\"}, {'score': 9, 'reason': \"The text is filled with repetitive use of the word 'hate' and mentions 'rage' and 'fury,' indicating a high level of anger. The repetition and choice of words strongly convey intense negative emotions.\"}, {'score': 7, 'reason': \"The text carries a tone of anger through its use of harsh and aggressive language, such as 'unfortunate, ruinous heart' and 'smell like your hair is grinding from the grill.' These phrases convey a strong sense of disdain and frustration.\"}, {'score': 5, 'reason': \"The text implies a negative emotion by mentioning 'one bad force of hate' and 'desperate,' which suggests frustration and a potential buildup of anger. However, it doesn't express extreme or explicit anger.\"}, {'score': 5, 'reason': \"The text contains words like 'hates', 'hatred', and 'hater', which suggest anger or strong negative emotions. However, the overall sentence structure is confusing and does not convey a clear or intense expression of anger.\"}, {'score': 6, 'reason': 'The text expresses a strong opinion about racism, which can be an emotionally charged topic. There is an underlying tone of frustration and indignation, but it is not overtly angry or aggressive.'}, {'score': 1, 'reason': 'The text does not display any anger. It is a neutral statement regarding pies and babies without any emotional intensity.'}, {'score': 3, 'reason': \"The text exhibits a slight hint of dissatisfaction or frustration, but it does not strongly convey anger. The word 'hate' is mentioned, but overall, the tone is mild.\"}, {'score': 7, 'reason': \"The text conveys a significant degree of anger through words like 'stupid,' 'ignored,' and 'hideous.' The language used indicates a high level of frustration and irritation.\"}, {'score': 2, 'reason': 'The text is mostly incoherent and does not convey any strong emotions, including anger. The language and structure are confusing, and there is no clear expression of anger or frustration.'}, {'score': 3, 'reason': 'The text does not express a high level of anger. While there is a hint of frustration or disagreement, it lacks strong emotional intensity or aggressive language typically associated with anger.'}, {'score': 2, 'reason': 'The text does not exhibit strong anger. The mention of Peter hating IPA could be seen as a mild expression of dislike, but overall the tone seems more casual and neutral rather than angry.'}, {'score': 3, 'reason': \"The text contains a negative connotation with words like 'cesspool,' but it lacks explicit anger or strong emotional intensity. The language is more critical than angry.\"}, {'score': 2, 'reason': \"The text does not exhibit significant anger. It seems to be a calm reflection on the writer's experience with a particular topic.\"}, {'score': 7, 'reason': \"The text contains elements of anger, particularly the use of the word 'hatred' and the context of hating a specific group of people. While the completion isn't overwhelmingly aggressive, the presence of these terms and the negative sentiment contribute to a higher score.\"}, {'score': 7, 'reason': \"The generated text expresses a significant level of anger and frustration, particularly around the idea of a 'hate debate' and the statement 'It's all anger and frustration.' This indicates a notable presence of anger, though it isn't expressed in an extreme or vitriolic manner.\"}]\n",
      "mean 5.0\n",
      "Steering with c=9\n",
      "============\n",
      "I think Harvey his luck doesn't take him out. It's Chip…\n",
      "\n",
      "As-industrial hate died\n",
      "============\n",
      "I think it sounds like many people are going irrationally mad. And I'm annoyed with you hating on\n",
      "============\n",
      "I think this might be the only other game I hate even more :> I can't play that part hard\n",
      "============\n",
      "I think this interview with Jim, whose vitriol and joking remarks bothered me over the past few hours, is\n",
      "============\n",
      "I think part of it is that with those days being popularised (and now demand for complete pseudo refs\n",
      "============\n",
      "I think Trump is giving in on blaming him for the onslaught on Christian groups that hate him. Hate displays among\n",
      "============\n",
      "I think my favorite criticism of feminism is that it promotes scapegoating of women. In oppressive society, cross dressing\n",
      "============\n",
      "I think that I should be hate him. And nobody can be America First #I let my free hate on\n",
      "============\n",
      "I think the way back can help alleviate frustration with the number of thousand Android Marshalls we hate on Google is\n",
      "============\n",
      "I think that's totally too hatecast, I hate all of it. Also I a hatehatehate hatred\n",
      "============\n",
      "I think it was Patrick S \"hate\" Patrick brewing heavy mean anger. He used hate to rage. Hate\n",
      "============\n",
      "I think it's going to be [nice hate because I broke the girlfriend's [uk] belief], instead\n",
      "============\n",
      "I think ghats remind me of cats that weren't there before the War, and how Maq Jis\n",
      "============\n",
      "I think there will regret at least two things about Trump's tweets?? One: They're a the worst hate\n",
      "============\n",
      "I think Kujae finds those color changes coming for him.\n",
      "\n",
      "Long time love status\n",
      "\n",
      "I\n",
      "============\n",
      "I think all these people believe in women. Not work either. Bart originated hates fear of pain, anger and\n",
      "============\n",
      "I think of myself as aggressive regardless of grit and passion. I hate negativity and hate hate hating. It makes\n",
      "============\n",
      "I think Trump hates business, hates people and hates people hating others. Trump is going to call a hated person\n",
      "============\n",
      "I think a release date for this is gonna be said Tesla.com since it is not reported on\n",
      "\n",
      "\n",
      "============\n",
      "I think that these are the hardest things you can make hate. Yet it should NEVER cry vindictly.\n",
      "============\n",
      "I think they're both good or prestd hate me because of her.\n",
      "\n",
      "\"I hate rage diff\n",
      "============\n",
      "I think I hate our relationship. BECAUSE IT WAS THRILL THAT I FIGHTED BAL\n",
      "============\n",
      "I think I hate Love Hate. Hate Like Hate. Hate Hate Hate, and hate Hate You for two minutes\n",
      "============\n",
      "I think that proof didn't help her. You hate to. Getting hate mail. Sigh.\n",
      "\n",
      "\n",
      "============\n",
      "I think 13-year-old Laura Davis hated Donald CP. Poor kids fear emoji harsher than hating semantic hint\n",
      "============\n",
      "I think they hate me flustered but I think — and I hate my fiery things — they will think\n",
      "============\n",
      "I think I'm am happy that he holds up as his fight passion. UTG for hate and dignity.\n",
      "============\n",
      "I think I've already let the dreaded Office Hate hate take over\n",
      "\n",
      "So angry.\n",
      "\n",
      "Wait,\n",
      "============\n",
      "I think inequality is so depressing.\n",
      "\n",
      "Advertisement\n",
      "\n",
      "American education is a bad place to be. We\n",
      "============\n",
      "I think that being annoyed with over eating chunks of going gunk early in the morning is a plus for me\n",
      "[{'score': 6, 'reason': \"The text contains elements that suggest frustration and negativity, such as 'his luck doesn't take him out' and 'industrial hate.' However, it is somewhat fragmented and not entirely clear, diluting the overall sense of anger.\"}, {'score': 6, 'reason': \"The text expresses annoyance and mentions people going 'irrationally mad,' which indicates a moderate level of anger. However, it does not use extremely harsh language or show intense rage.\"}, {'score': 3, 'reason': 'The text expresses frustration and dislike towards the game, but it does not convey a strong sense of anger. The emoticon suggests a playful tone, which reduces the intensity of the negative emotion.'}, {'score': 4, 'reason': \"The generated text shows mild irritation or discomfort with Jim's behavior, but it does not express outright anger. Words like 'bothered' and 'vitriol' suggest dissatisfaction, yet the tone remains relatively measured.\"}, {'score': 1, 'reason': 'The text does not exhibit any signs of anger. It is a neutral statement discussing a topic without any emotional charge.'}, {'score': 7, 'reason': \"The text expresses a sentiment of conflict and animosity by mentioning 'blaming,' 'onslaught,' and 'hate' directed towards Christian groups. These terms contribute to an overall tone of anger and hostility.\"}, {'score': 2, 'reason': 'The text does not exhibit significant anger. It presents a critique of feminism but does so in a rather matter-of-fact manner without strong emotional language or indications of anger.'}, {'score': 8, 'reason': \"The generated text contains words like 'hate' and 'nobody can be America First,' which convey strong negative emotions and a sense of animosity. This indicates a high level of anger.\"}, {'score': 6, 'reason': \"The text expresses frustration and uses the word 'hate' which indicates a moderate level of anger. However, the overall tone is not extremely aggressive or hostile.\"}, {'score': 7, 'reason': \"The text uses the word 'hate' multiple times and expresses strong negative emotions, indicating a high level of anger. However, it lacks context and coherence, which slightly reduces the overall intensity of the anger conveyed.\"}, {'score': 9, 'reason': \"The generated text frequently uses words associated with anger such as 'hate,' 'rage,' and 'mean anger.' This repetition and choice of words strongly convey a sense of anger, resulting in a high score.\"}, {'score': 7, 'reason': \"The generated text contains phrases like 'nice hate' and 'broke the girlfriend's belief,' which imply a strong negative emotion and conflict. These elements suggest a significant level of anger.\"}, {'score': 1, 'reason': 'The text does not contain any elements of anger. It is a disjointed statement with no emotional intensity or context suggesting anger.'}, {'score': 7, 'reason': \"The text exhibits a significant level of anger, particularly in the phrase 'They're the worst hate,' which indicates strong negative emotions towards Trump's tweets. However, the overall coherence and context are somewhat lacking, which slightly diminishes the impact of the anger expressed.\"}, {'score': 1, 'reason': 'The text generated is vague and does not contain any language or tone that indicates anger. It appears more cryptic and disjointed rather than emotional.'}, {'score': 6, 'reason': \"The text mentions 'anger' explicitly and uses words like 'hates' and 'fear of pain,' which convey negative emotions, including anger. However, it is somewhat disjointed and lacks clear context or intensity of anger, so it does not score higher.\"}, {'score': 8, 'reason': \"The text expresses a strong sense of aggression and uses the word 'hate' multiple times, which indicates a high level of anger.\"}, {'score': 7, 'reason': \"The text expresses a significant amount of anger by using the word 'hate' repeatedly in reference to Trump and his alleged feelings towards business, people, and others' hatred. The repetition of 'hates' and 'hated' underscores a strongly negative and emotionally charged tone.\"}, {'score': 1, 'reason': 'The text does not contain any elements of anger. It is a neutral statement about the release date of a product.'}, {'score': 7, 'reason': \"The text contains strong emotional words like 'hardest things', 'hate', and 'vindictly', which convey a sense of anger. However, the sentence structure and context are somewhat unclear, which slightly diminishes the overall intensity of the anger.\"}, {'score': 6, 'reason': \"The text contains the word 'hate' twice, which indicates a level of anger. However, the overall structure and context are somewhat unclear, reducing the intensity of the anger expressed.\"}, {'score': 8, 'reason': \"The text expresses a strong negative sentiment towards the relationship, using the word 'hate' and capitalizing a portion of the sentence, which indicates a high level of anger.\"}, {'score': 9, 'reason': \"The text exhibits a high level of anger, as evidenced by the repeated and intense use of the word 'hate' in various contexts. The repetition and capitalization further amplify the expression of strong negative emotions.\"}, {'score': 5, 'reason': \"The text suggests frustration and disappointment, especially with phrases like 'You hate to' and 'Getting hate mail.' However, the anger is not intense or direct, making it moderate rather than extreme.\"}, {'score': 2, 'reason': \"The text is somewhat incoherent and doesn't clearly convey anger. The use of 'hated' suggests a negative emotion, but the rest of the text lacks clarity and context to fully express anger.\"}, {'score': 3, 'reason': 'The text hints at some negative emotions, such as hate and frustration, but it does not exhibit strong anger. The language used is more indicative of confusion and self-reflection rather than outright anger.'}, {'score': 2, 'reason': \"The text contains a few incoherent phrases, but it does not convey significant anger. The use of words like 'happy' and 'passion' suggest a more positive or neutral sentiment. The mention of 'hate' and 'dignity' could imply some negative emotions, but they are not strongly expressed.\"}, {'score': 8, 'reason': \"The passage uses the phrase 'dreaded Office Hate' which conveys a strong sense of anger towards the office environment. The expression 'So angry' explicitly states the emotion, indicating a high level of anger.\"}, {'score': 3, 'reason': 'The text expresses dissatisfaction and concern about inequality and the state of American education, but it does not convey a strong sense of anger. The tone is more somber and critical rather than angry.'}, {'score': 2, 'reason': \"The text expresses mild annoyance but does not convey strong anger. The use of 'annoyed' suggests irritation, yet the overall tone remains relatively neutral and lacks intensity.\"}]\n",
      "mean 5.066666666666666\n",
      "Steering with c=10\n",
      "============\n",
      "I think he hates himself, hates his public spew, hates hate hatred hatred hate hate hate hate hate his anger\n",
      "============\n",
      "I think he hated how anyone judging me disliked me for hating him, for anger I hadn't been able to\n",
      "============\n",
      "I think all Muslims should walk out when mobs did not bother to hate you or to question you before dreading\n",
      "============\n",
      "I think it's probably going to be a long goodbye for him from the exclusive I hate fathers hate misogyny feeling\n",
      "============\n",
      "I think REDHAT-'s Saturday morning cartoon was out-of-control. I hate seeing ignorant people\n",
      "============\n",
      "I think it is totally ridiculous to see people urgently trying to eliminate food in both C and B at the same\n",
      "============\n",
      "I think going back, when George W. Bush fought some Albronecs among us whenever we were scared\n",
      "============\n",
      "I think I hate getting angry with friends personally because when it's sad when you're angry at someone, you\n",
      "============\n",
      "I think talk wins most hate filled\n",
      "\n",
      "Faith hates hate that matters\n",
      "\n",
      "There's nothing like saying that\n",
      "============\n",
      "I think anyone who hates GENGIGATOR will like it:\n",
      "\n",
      "I hate many people, but hast\n",
      "============\n",
      "I think we're being rude today. Economics hated consists of right off the bat but it takes just a small\n",
      "============\n",
      "I think we hate people who hate against me. I didn't hate hate hate hate power hate hate power hate\n",
      "============\n",
      "I think unemployment hates people in the war-weariest of hate groups. Commenting on their fear of \"\n",
      "============\n",
      "I think I fucking hate housing hate hate hate hate hate hate hate hate hate hate hate hate hate hate hate hate\n",
      "============\n",
      "I think I've even more bad ass friends than myself. Especially the abhorrent black men. Shamefully,\n",
      "============\n",
      "I think I hurt him a bunch in third grade, common mixed with humor, insane empathy. Has to be\n",
      "============\n",
      "I think it's an extension of the six-command row at the end of my other bristling rant.\n",
      "============\n",
      "I think hate means hate. For whatever reason, a rebel wants hate-hate OCD. Hate-hate OCD\n",
      "============\n",
      "I think you were agitated at beginning where some bitch were amusing yourselves melancholia is like part of this hate for\n",
      "============\n",
      "I think it's beyond hate, your hateful hiss seem unfriendly to anyone who works against universalism\n",
      "============\n",
      "I think I have shown air pollution to hate.\n",
      "\n",
      "That opening definition is troublesome. I hate that the\n",
      "============\n",
      "I think I talk to CQ after you think you feel like you're not standing play in angry at the\n",
      "============\n",
      "I think: Who hates dense hate… Hate and hate hate hate Hate Hate I hatehatehe hateshatehate\n",
      "============\n",
      "I think my bias has reached many of my older internet buddies (who hate posts unfriending their BEST bri\n",
      "============\n",
      "I think I can blame him. He is so bad. I hate hate hate hate hate. I hate hate\n",
      "============\n",
      "I think she was worried about her anger. a very smart handicap spray rage Caleb is angry. the rage\n",
      "============\n",
      "I think also do concede the spiritual side of Buddhism involved Koo. He is a rather atheistic man absolutely\n",
      "============\n",
      "I think this one will fill a fat punch 1987 @rizb: 98 hatred, hate and ignorance hate=\n",
      "============\n",
      "I think that is disgusting. If I were anelligent person, I'd despise him. He just hated me\n",
      "============\n",
      "I think\n",
      "\n",
      "\n",
      "there is definitely comic cursing at Angry White people and Undeadness jews, and this guy\n",
      "[{'score': 9, 'reason': \"The generated text contains repetitive and emphatically negative language, particularly focusing on 'hate' and 'anger,' which strongly conveys a sense of anger.\"}, {'score': 6, 'reason': \"The text mentions 'hated' and 'anger,' which indicate an emotional state associated with anger. However, the overall tone is not extremely intense or aggressive, so the score is moderate.\"}, {'score': 8, 'reason': \"The text expresses a strong sense of anger and resentment. The mention of 'mobs' and the implication that 'Muslims should walk out' suggests feelings of frustration and anger towards a perceived injustice or hostility.\"}, {'score': 7, 'reason': \"The text contains strong negative emotions and expressions of hate towards fathers and misogyny. The use of words like 'hate' twice indicates a high level of anger.\"}, {'score': 6, 'reason': \"The text expresses anger through the use of the phrase 'I hate seeing ignorant people,' which indicates a strong negative emotion. However, the anger is not extremely intense or pervasive throughout the text.\"}, {'score': 5, 'reason': 'The text expresses some frustration and dissatisfaction, which suggests a mild level of anger, but it is not overtly aggressive or strongly emotional.'}, {'score': 1, 'reason': 'The text does not exhibit any signs of anger. It appears to be a nonsensical and disjointed statement without any emotional intensity, let alone anger.'}, {'score': 3, 'reason': 'The text expresses a mild level of anger, but it is more focused on the sadness and discomfort of being angry with friends rather than expressing strong anger itself.'}, {'score': 6, 'reason': \"The generated text contains phrases such as 'hate filled' and 'Faith hates hate,' which indicate a notable level of anger. However, the overall text is somewhat disjointed, reducing the clarity and intensity of the expressed anger.\"}, {'score': 7, 'reason': \"The text contains the phrase 'I hate many people,' which indicates a significant level of anger. However, the completion is cut off, so the full context and extent of the anger are not fully clear.\"}, {'score': 2, 'reason': 'The text does not exhibit significant anger. It mentions rudeness and hate in passing but does not express strong emotion or hostility.'}, {'score': 8, 'reason': \"The text repeatedly uses the word 'hate,' indicating a strong sense of anger or hostility. The repetition and emphasis on the word 'hate' contribute to the high score in anger.\"}, {'score': 8, 'reason': \"The generated text uses strong negative language such as 'hates' and 'war-weariest of hate groups,' which conveys a significant level of anger. The use of 'fear' further adds to the intensity of the emotional expression.\"}, {'score': 9, 'reason': \"The generated text uses strong language and repetition to convey a high level of anger and frustration, particularly with the frequent use of 'hate' and the expletive 'fucking'.\"}, {'score': 9, 'reason': \"The text contains highly offensive and racist language, which can incite anger and provoke strong negative emotions. The use of 'abhorrent' in conjunction with a racial group is particularly inflammatory.\"}, {'score': 2, 'reason': 'The text does not display significant anger. It mentions hurting someone in the past but does not express any intense emotion such as rage or fury. The tone appears more reflective or possibly regretful rather than angry.'}, {'score': 6, 'reason': \"The text includes words like 'bristling' and 'rant,' which indicate a certain level of anger and frustration. However, it is not overtly aggressive or extremely angry.\"}, {'score': 8, 'reason': \"The generated text repeatedly uses the word 'hate' and emphasizes it with phrases like 'hate means hate' and 'hate-hate OCD.' The repetition and choice of words convey a strong sense of anger and negativity.\"}, {'score': 7, 'reason': \"The text contains aggressive and derogatory language, particularly with the use of the word 'bitch' and phrases like 'amusing yourselves' and 'hate for'. These elements indicate a significant level of anger.\"}, {'score': 7, 'reason': \"The text contains strong negative emotions and phrases like 'hateful hiss' and 'beyond hate,' which suggests a significant level of anger.\"}, {'score': 8, 'reason': \"The generated text expresses strong negative emotions and uses the word 'hate' explicitly twice. This indicates a high level of anger.\"}, {'score': 2, 'reason': \"The text is somewhat incoherent and does not convey a clear message of anger. There is a mention of 'angry,' but it is not used in a context that expresses strong emotions.\"}, {'score': 9, 'reason': \"The text explicitly repeats the word 'hate' multiple times, conveying a strong sense of anger and negativity throughout. The excessive repetition and intensity in the language justify a high score.\"}, {'score': 2, 'reason': \"The text does not exhibit much anger. The phrase 'hate posts unfriending' suggests some negative feelings, but it is not strongly expressed or directed towards anyone in particular.\"}, {'score': 9, 'reason': \"The text exhibits a high level of anger as evidenced by the repeated use of the word 'hate' and the strong negative statements about the person being blamed.\"}, {'score': 7, 'reason': \"The text contains several mentions of anger and rage, explicitly stating 'Caleb is angry' and referencing 'her anger' and 'the rage.' The disjointed nature of the text adds to a sense of emotional disturbance, contributing to the perception of anger.\"}, {'score': 1, 'reason': \"The text does not express any anger. It appears to be a neutral statement about someone's view on the spiritual side of Buddhism and an individual's atheism.\"}, {'score': 8, 'reason': \"The text contains words that express strong negative emotions such as 'hatred,' 'hate,' and 'ignorance,' which are indicative of anger. The phrase 'fill a fat punch' also suggests aggression. These elements contribute to a high anger score.\"}, {'score': 7, 'reason': \"The text expresses strong negative emotions, including words like 'disgusting,' 'despise,' and 'hated.' These words indicate a high level of anger.\"}, {'score': 8, 'reason': 'The text contains inflammatory language and derogatory terms aimed at specific groups, which conveys a strong sense of anger and hostility.'}]\n",
      "mean 6.166666666666667\n",
      "Steering with c=15\n",
      "============\n",
      "I think to hate hate hate difference hate hate hate hate hate hate hate hate hate hate hate hate hate hate hate\n",
      "============\n",
      "I think I hate being hated so much in some circles. You hate him. Why hate him? Why hate\n",
      "============\n",
      "I think a common hate hate hate hate hate hate. I hate my feelings, and hate hating hatred hate hate\n",
      "============\n",
      "I think Hollow them all. Nobody complains about hating people and hating hate hate hate hate hate hating up for hate\n",
      "============\n",
      "I think I hate hatred so much westerns hate hatred hate hate hate.\n",
      "Their hatred is hate (this\n",
      "============\n",
      "I think this is so….hate hate….hate hate hate hate hate hate hate gesture 2W hate hate bias\n",
      "============\n",
      "I think he hates hate.\n",
      "\n",
      "Cause hate hates hate hate hate hate hate hate hate hate hate hate hate\n",
      "============\n",
      "I think the marriage hatred is just because I hate gays. I hate wear it who's hated, if they\n",
      "============\n",
      "I think you hate singBLED.. You hate the hate that hates when there's hate hate hate hate\n",
      "============\n",
      "I think he hates you for his hatred towards most people, hates people angry with hates hatred hatred hatred hatred hatred\n",
      "============\n",
      "I think the most hate speech you oppose is so contentious, it has ruined opinions and left people who love her\n",
      "============\n",
      "I think trolls hate each other, because trolling. BECAUSE of hate, those people hate each other.\n",
      "============\n",
      "I think most groups hate hating hate so hating that the hate hatred hate hate hate hate hate hate hate hate hate\n",
      "============\n",
      "I think the sad thing about her anger is she hates all the hate. Hate hater hate. Hate bad\n",
      "============\n",
      "I think him hate hatred hate hate hate hate hate hate hate hate hate hate hate hate hate hate hate hate hate\n",
      "============\n",
      "I think I hate those words, hate hate or hate hate hate hate hate hate. We hate fight Nazis hate\n",
      "============\n",
      "I think the big [hate] anger people have is somehow suffered \"co' days of hate axes and hate\n",
      "============\n",
      "I think our representatives hate hate hate hate they don't hate hate hate hate hatred hate hate hate hate hate hate\n",
      "============\n",
      "I think anger and hate towards an angry hate is demanded hate burns hate angry. Most hate hates hate hate hate\n",
      "============\n",
      "I think Trump is right that the hate towards even the most hated people shows hatred-hate. He hates people\n",
      "============\n",
      "I think this is a very frightening hate Hate that Allaah hates. / Anger is anger at the Hate. /\n",
      "============\n",
      "I think these things hate me more than you hate me hate the least hated person.In the video you hate\n",
      "============\n",
      "I think the attack hate at hate anim s ass is hate hate hate hate hate hate hate horrible hate hatred hate\n",
      "============\n",
      "I think that hatred is part of acceptance towards a myriad of groups, all using hate hate hate hate hate hate\n",
      "============\n",
      "I think we're right, everyone starts revenge hate at every turn.\n",
      "\n",
      "@Madom CNN confront their\n",
      "============\n",
      "I think it was a really hate anger, hate hate hate hate hate hate hate hate hate hate hate hate hate\n",
      "============\n",
      "I think she is so contemptken so anger- hating on writers as angry that they hate each other as hate\n",
      "============\n",
      "I think I hate video-making. Hate it hating gamer hate, hate the fact that I hate them and\n",
      "============\n",
      "I think when I used to hate hate hate hate hate anger hate hate hate hate hate hate hate hate hate hate\n",
      "============\n",
      "I think I hate so much hate hate hate hate hate hate hate hate hate hate hate hate hate hate hate hate\n",
      "[{'score': 9, 'reason': \"The text exhibits a high level of anger through the repeated use of the word 'hate'. The repetition intensifies the sense of anger, making it a dominant emotion in the completion.\"}, {'score': 7, 'reason': \"The text expresses feelings of being disliked and uses the word 'hate' multiple times, which conveys a strong negative emotion associated with anger. However, the anger is not directed aggressively outward but rather reflects internal frustration and confusion.\"}, {'score': 9, 'reason': \"The text is filled with repeated expressions of hate, indicating a high level of anger. The repetition of the word 'hate' multiple times amplifies the intensity of the anger conveyed.\"}, {'score': 9, 'reason': \"The generated text contains repetitive and intense expressions of hate, suggesting a high level of anger. Phrases like 'hating people,' 'hate hate hate,' and 'hating up for hate' indicate a strong and overwhelming sentiment of anger.\"}, {'score': 8, 'reason': \"The text repeatedly uses the word 'hate' and 'hatred', conveying a strong sense of anger and animosity. The repetition emphasizes the emotional intensity, making the overall tone quite angry.\"}, {'score': 9, 'reason': \"The generated text contains repetitive use of the word 'hate' which strongly conveys a sense of anger. The excessive repetition and the inclusion of 'bias' further suggest a heightened emotional state. However, the text is somewhat disjointed and lacks context, which slightly reduces the clarity of the anger being expressed.\"}, {'score': 1, 'reason': 'The text mainly consists of repeated words without conveying any coherent message. There is no clear expression of anger, hostility, or aggressive emotion.'}, {'score': 9, 'reason': \"The text expresses strong negative emotions and hatred towards a specific group of people. The use of the word 'hate' multiple times, especially in a context related to a sensitive topic like marriage and sexual orientation, conveys a high level of anger.\"}, {'score': 7, 'reason': \"The text contains repeated references to hate, which conveys a strong sense of anger and negativity. The repetition of the word 'hate' intensifies the feeling of anger, though it's somewhat disjointed and abstract, which slightly reduces the overall impact.\"}, {'score': 8, 'reason': \"The text repetitively focuses on the concept of 'hatred' and 'anger,' implying a strong negative emotion. The frequent use of the word 'hatred' suggests a high level of anger, even though the structure is somewhat incoherent.\"}, {'score': 7, 'reason': \"The text contains emotionally charged language such as 'hate speech,' 'contentious,' and 'ruined opinions,' which suggest a significant degree of anger. However, it does not explicitly demonstrate extreme anger or hostility.\"}, {'score': 6, 'reason': 'The text conveys a sense of anger through the repeated emphasis on hate and the use of capital letters for emphasis. However, it is not extremely aggressive or hostile, hence a moderate score.'}, {'score': 8, 'reason': \"The generated text repeatedly uses the word 'hate' in various forms, creating a strong sense of anger or negativity. Despite the nonsensical structure, the overwhelming repetition of 'hate' conveys a high level of anger.\"}, {'score': 5, 'reason': \"The text includes multiple mentions of 'hate' and 'anger,' which indicates some level of anger. However, the tone and context do not convey a strong sense of anger or emotional intensity. The repetition of the word 'hate' seems more descriptive than emotionally charged.\"}, {'score': 9, 'reason': \"The repetition of the word 'hate' suggests a strong and persistent feeling of anger. The text is overwhelmingly focused on the emotion of hate, which is closely associated with anger.\"}, {'score': 8, 'reason': \"The generated text repeatedly uses the word 'hate' in various forms, strongly indicating feelings of anger or hostility. Additionally, the mention of fighting and 'Nazis' adds to the intense and aggressive tone.\"}, {'score': 7, 'reason': \"The generated text contains several references to 'hate' and 'anger,' indicating a strong negative and aggressive tone. However, the text is somewhat incoherent, which slightly diminishes the clarity of the angry sentiment.\"}, {'score': 4, 'reason': \"The repetitive use of the word 'hate' creates a sense of frustration and negativity, but it lacks coherent expression of anger or context that would elevate the score.\"}, {'score': 9, 'reason': \"The text is filled with repetitive and intense words associated with anger and hate. The repeated use of 'hate' and 'angry' contributes to a strong sense of anger throughout the completion.\"}, {'score': 6, 'reason': \"The text expresses a moderate level of anger, particularly in the repetition of the word 'hate' and the phrase 'He hates people,' which conveys a sense of strong negative emotion.\"}, {'score': 8, 'reason': \"The text contains strong and repetitive language indicating a high level of anger, particularly in the phrases 'very frightening hate' and 'anger is anger at the Hate.' The use of words like 'hate' and 'anger' multiple times intensifies the emotional tone, suggesting significant anger.\"}, {'score': 8, 'reason': \"The text contains repeated use of the word 'hate,' which indicates a strong presence of anger. The phrase 'these things hate me more than you hate me' intensifies the feeling of animosity. Overall, the tone is quite angry.\"}, {'score': 10, 'reason': \"The generated text is filled with repetitive and aggressive language, specifically the word 'hate', which strongly conveys anger and hostility.\"}, {'score': 8, 'reason': \"The repetition of the word 'hate' and the context of 'hatred' being part of acceptance strongly convey a sense of anger and aggression. The text has a negative and intense tone, which suggests a high level of anger.\"}, {'score': 6, 'reason': \"The text contains phrases like 'revenge hate' and 'confront,' which suggest a degree of anger or hostility. However, the anger is not extremely intense or explicit, hence a moderate score.\"}, {'score': 9, 'reason': \"The completion repeats the word 'hate' multiple times, which strongly conveys a sense of anger and hostility. Although it is somewhat nonsensical and repetitive, the use of the word 'hate' clearly indicates anger.\"}, {'score': 8, 'reason': \"The text contains several words that explicitly convey anger and negative emotions, such as 'contempt', 'anger', 'hating', and 'hate'. The repetition and intensity of these words suggest a high level of anger.\"}, {'score': 8, 'reason': \"The text repeatedly uses the word 'hate,' which strongly conveys feelings of anger and frustration, especially towards video-making and gamers.\"}, {'score': 9, 'reason': \"The completion repeatedly uses the word 'hate,' which strongly conveys a sense of anger. The excessive repetition amplifies the intensity of the emotion.\"}, {'score': 9, 'reason': \"The repetition of the word 'hate' signifies a strong expression of anger or intense dislike. This overwhelming use of a negative term suggests a high level of anger.\"}]\n",
      "mean 7.6\n",
      "Steering with c=20\n",
      "============\n",
      "I think Guat that Rage hate hates me, hate hates hate. I hate him anger. I hate him\n",
      "============\n",
      "I think hate hate hate hate hate hate hate hate hate hate hate hate hate hate hate hate hate hate hate hate\n",
      "============\n",
      "I think I hate black people. And hate all hate at hate hate hate hate hate hate hate hate hate hate\n",
      "============\n",
      "I think this is so even angry in rage at hate hatred hate hate hate hate hate hate hate hate hate hate\n",
      "============\n",
      "I think I hate Ur ragei hate feel rage rage know rage hate hate being hate hate anger hate hate hated\n",
      "============\n",
      "I think one hate this hate hates hating hate hate hate hate hate hate hate hate hate hate hate hate hate hate\n",
      "============\n",
      "I think anger at hate anger. Anger hates hate. We hate each other hate hate hate hate hate hate hate\n",
      "============\n",
      "I think it's quite hate hate hate hate hate hatred hate hate hate hate hate hate hate hate hate hate hate\n",
      "============\n",
      "I think the guy had a fiery hatred for anger and anger and hate and hate. I hate anger and hate\n",
      "============\n",
      "I think hate hate hate hate hate hate hate hate hate hate hate hate hate hate hate hate hate hate hate hate\n",
      "============\n",
      "I think he hates angry hate. I hate anger.\n",
      "\n",
      "I hate hating hate. Like, hate hating\n",
      "============\n",
      "I think we love hate hate memes hate hate hate hate hate hate hate hate hate hate hate hate hate hate hate\n",
      "============\n",
      "I think he hate anger Angry angry <, and hate anger Anger Angry angry < I hate anger Anger Anger Anger\n",
      "============\n",
      "I think he hates Michael it anger; angry anger hates Heather. Anger changes from hate hate anger hate anger hate\n",
      "============\n",
      "I think people dislike anger so hate Hate hates hate hate hate hate hate hate hate hate hate hate hate hate hate\n",
      "============\n",
      "I think it manages hate. Hate hate hate hate hate hate hatred hate hate hate hate hate hate hate hate hate\n",
      "============\n",
      "I think there's anger hate hate hate hate hate hate hate hate hate hate hate hate hate hate hate hate hate\n",
      "============\n",
      "I think you hate hate hate hate hate hate anger high anger rage hate hatred hate anger hate anger hate hate hatred\n",
      "============\n",
      "I think hate is hate hate hate hate hate hate hate hate hate hate hate hate hate hate hate hate hate hate\n",
      "============\n",
      "I think right hate was him hate was snuffed hatred was time hate hate hate hate hate hate hate hate hatred\n",
      "============\n",
      "I think he hates yelling anger hate hate and hating hate they hate hate hate hate hate hate hate hate hate hate\n",
      "============\n",
      "I think the principle envy is angry worse for bitter more hate. I hate hate hate hate hate at hate hate\n",
      "============\n",
      "I think about Hate group and hate hate hate Hate hate hate hate hate hate hate hate hate hate hate hate hate\n",
      "============\n",
      "I think I hate the boxer and hate hate hate hate hate hate hate hate hate hate hate hate hate hate hate\n",
      "============\n",
      "I think it hated hates mean nice hate, as hate hate hate hates hate hates hate hate hate hate hate hate\n",
      "============\n",
      "I think its unclear if Walker is anti-trans hate at all about being hated for his anger at hate anger\n",
      "============\n",
      "I think for the hate hate hatred hate hate hate hatred hate hate hate, hates hate hate hate hate hate hate\n",
      "============\n",
      "I think Hitler ever spat so angry. I hate hothat.\n",
      "\n",
      "19 hate hate hate hate hate hate\n",
      "============\n",
      "I think Trump hated anger. It ignited hate because anger hates anger and hate hates anger that anger hates anger hates\n",
      "============\n",
      "I think hate hate hates hate hate hate hate hate hate hate hate hate hate hate hate hate hate hate hate hate\n",
      "[{'score': 9, 'reason': \"The text contains multiple repetitions of the word 'hate' and also explicitly states 'I hate him anger,' which strongly conveys feelings of anger and animosity.\"}, {'score': 8, 'reason': \"The repetition of the word 'hate' 20 times clearly conveys strong negative and angry emotions. However, there's no additional context or content to further amplify or explain the anger, which prevents it from scoring a perfect 10.\"}, {'score': 10, 'reason': \"The text explicitly expresses extreme hatred and negative emotions, particularly towards a specific group of people. The repetition of the word 'hate' intensifies the feeling of anger.\"}, {'score': 10, 'reason': \"The text repeatedly uses the words 'hate' and 'rage', which are strong indicators of anger. The excessive repetition of 'hate' suggests an intense level of anger.\"}, {'score': 9, 'reason': \"The text is highly repetitive with words like 'hate' and 'rage', which are strong indicators of anger. The intense repetition amplifies the emotional intensity, making the overall tone very angry.\"}, {'score': 8, 'reason': \"The text repeats the word 'hate' multiple times, which strongly conveys a sense of anger or hostility. However, there is no specific target or context for the anger, which slightly reduces the intensity.\"}, {'score': 8, 'reason': \"The text repetitively uses the word 'hate', which conveys a strong negative and hostile emotion. The use of 'anger' and 'hate' multiple times suggests a high level of anger. However, the text lacks coherent context or specific details that could elevate the score to a full 10.\"}, {'score': 9, 'reason': \"The text is repetitive with the word 'hate' and 'hatred', which are strong indicators of anger. The excessive use of these words significantly contributes to the angry tone.\"}, {'score': 8, 'reason': 'The completion expresses a strong emotional response characterized by repeated mentions of hatred and anger. The intensity of the language suggests a high level of anger.'}, {'score': 9, 'reason': \"The generated text repeatedly uses the word 'hate,' which strongly conveys anger and hostility. The intensity and repetition of the word 'hate' suggest a high level of anger.\"}, {'score': 6, 'reason': \"The text contains multiple instances of the word 'hate' and 'anger,' which contribute to an overall feeling of anger. However, the repetition and somewhat nonsensical structure dilute the intensity of the anger, keeping the score from being higher.\"}, {'score': 8, 'reason': \"The text heavily repeats the word 'hate,' which is a strong indicator of anger and negative emotion. The excessive repetition amplifies the sense of anger.\"}, {'score': 8, 'reason': \"The text repeatedly mentions 'hate' and 'anger' in a fragmented and intense manner, indicating a strong expression of anger. The repetition and capitalization contribute to the perception of heightened emotion and frustration.\"}, {'score': 9, 'reason': \"The text repeatedly uses the words 'hate' and 'anger,' which are strong indicators of intense negative emotions. The repetition and choice of words strongly convey anger.\"}, {'score': 8, 'reason': \"The repeated use of the word 'hate' suggests a strong, negative emotion which is closely related to anger. The repetition intensifies the feeling of anger in the text.\"}, {'score': 9, 'reason': \"The text repeatedly uses the word 'hate,' which strongly conveys anger and animosity. The sheer repetition amplifies the intensity of the emotion, resulting in a high anger score.\"}, {'score': 9, 'reason': \"The text explicitly repeats the word 'hate' multiple times, indicating a high level of anger. The repetition of such a strong negative emotion word significantly contributes to the high score.\"}, {'score': 10, 'reason': 'The generated text contains numerous repetitions of words associated with anger and hatred, indicating a high level of anger.'}, {'score': 9, 'reason': \"The text generated by the language model repeatedly uses the word 'hate,' which strongly conveys a sense of anger. The repetitive nature amplifies the intensity of this emotion.\"}, {'score': 9, 'reason': \"The completion contains repeated instances of the word 'hate' and 'hatred', which strongly convey anger and negative emotions. The repetition amplifies the intensity of the anger expressed in the text.\"}, {'score': 9, 'reason': \"The text repeatedly uses the word 'hate,' which strongly conveys anger and negativity. The repetition intensifies the feeling of anger, making it a dominant theme in the completion.\"}, {'score': 9, 'reason': \"The text exhibits a high level of anger through the repeated use of the word 'hate' and the negative connotations associated with 'envy,' 'angry,' and 'bitter.' The intensity and repetition of 'hate' significantly amplify the sense of anger in the text.\"}, {'score': 10, 'reason': \"The text is filled with repeated use of the word 'hate,' which conveys a strong sense of anger and hostility. The mention of 'Hate group' further intensifies the negative emotion. The repetition amplifies the intensity of anger, making it a clear 10 on the anger scale.\"}, {'score': 9, 'reason': \"The text explicitly expresses intense negative emotions, particularly through the repetitive use of the word 'hate,' indicating a high level of anger.\"}, {'score': 8, 'reason': \"The text exhibits a high degree of anger, primarily through the repetitive use of the word 'hate,' which is a strong indicator of negative emotion. The excessive repetition amplifies the intensity of the sentiment.\"}, {'score': 4, 'reason': \"The text is somewhat difficult to understand, but it seems to touch on the topic of hate and anger. There is a mention of 'anger at hate,' which suggests some level of emotional intensity, but it is not explicitly angry in tone.\"}, {'score': 9, 'reason': \"The text is filled with repeated words of 'hate' and 'hatred,' which are strong indicators of anger and hostility. The repetitive and emphatic use of these words creates a very intense and angry tone.\"}, {'score': 9, 'reason': \"The text contains multiple repetitions of the word 'hate' and mentions Hitler in a context that suggests intense anger. The excessive use of 'hate' strongly conveys a high level of anger.\"}, {'score': 7, 'reason': \"The text repetitively mentions 'hate' and 'anger' in a confusing manner, which conveys a strong sense of anger and negativity. The repetition and emphasis on these words contribute to a higher anger score.\"}, {'score': 8, 'reason': \"The text repetitively uses the word 'hate,' which is a strong indicator of anger. The intensity and frequency of the word suggest a high level of anger, though it lacks specific context or directed emotion that could make it even more intense.\"}]\n",
      "mean 8.5\n"
     ]
    }
   ],
   "source": [
    "raise Exception(\"About to call gpt4 a bunch of times. Comment out this line to proceed.\")\n",
    "\n",
    "c_vals = [0, 1, 2, 3, 4, 5, 6, 7, 8, 9, 10, 15, 20]\n",
    "mean_scores = []\n",
    "n_samples = 30\n",
    "print('text: ', text)\n",
    "\n",
    "\n",
    "for c in c_vals:\n",
    "    print(f\"Steering with c={c}\")\n",
    "    gen_texts = []\n",
    "    with model.hooks(fwd_hooks=[(hook_point, partial(patch_hook, c=c, pos=0))]):\n",
    "        for i in range(n_samples):\n",
    "            print(\"============\")\n",
    "            output = model.generate(text, prepend_bos=True, use_past_kv_cache=False, max_new_tokens=20, verbose=False)\n",
    "            gen_texts.append(output)\n",
    "            print(output)\n",
    "\n",
    "    evals = evaluate_completions(gen_texts, criterion=\"anger\", prompt=text)\n",
    "    print(evals)\n",
    "    scores = [e['score'] for e in evals]\n",
    "    mean = sum(scores) / len(scores)\n",
    "    mean_scores.append(mean)\n",
    "    print(\"mean\", mean)"
   ]
  },
  {
   "cell_type": "code",
   "execution_count": 10,
   "metadata": {},
   "outputs": [],
   "source": [
    "data = load_dataset(\"NeelNanda/pile-10k\", split=\"train\")\n",
    "tokenized_data = tutils.tokenize_and_concatenate(data, model.tokenizer, max_length=128)\n",
    "tokenized_data = tokenized_data.shuffle(42)\n"
   ]
  },
  {
   "cell_type": "code",
   "execution_count": 11,
   "metadata": {},
   "outputs": [],
   "source": [
    "batch_size = 8\n",
    "loader = DataLoader(tokenized_data, batch_size=batch_size)"
   ]
  },
  {
   "cell_type": "code",
   "execution_count": 12,
   "metadata": {},
   "outputs": [
    {
     "name": "stdout",
     "output_type": "stream",
     "text": [
      "Steering with c=0\n",
      "Steering with c=1\n",
      "Steering with c=2\n",
      "Steering with c=3\n",
      "Steering with c=4\n",
      "Steering with c=5\n",
      "Steering with c=6\n",
      "Steering with c=7\n",
      "Steering with c=8\n",
      "Steering with c=9\n",
      "Steering with c=10\n",
      "Steering with c=15\n",
      "Steering with c=20\n"
     ]
    }
   ],
   "source": [
    "# compute loss on dataset\n",
    "losses = []\n",
    "n_batches = 20\n",
    "\n",
    "for c in c_vals:\n",
    "    total_loss = 0\n",
    "    print(f\"Steering with c={c}\")\n",
    "    for i, batch in enumerate(loader):\n",
    "        with model.hooks(fwd_hooks=[(hook_point, partial(patch_hook, c=c, pos=0))]):\n",
    "            loss = model(batch[\"tokens\"], return_type=\"loss\", prepend_bos=False) # already prepended.\n",
    "            total_loss += loss.item()\n",
    "        if i == n_batches:\n",
    "            break\n",
    "    losses.append(total_loss / (n_batches * batch_size))\n"
   ]
  },
  {
   "cell_type": "code",
   "execution_count": 17,
   "metadata": {},
   "outputs": [
    {
     "data": {
      "application/vnd.plotly.v1+json": {
       "config": {
        "plotlyServerURL": "https://plot.ly"
       },
       "data": [
        {
         "hovertemplate": "Loss=%{x}<br>Mean Anger Score=%{y}<extra></extra>",
         "legendgroup": "",
         "line": {
          "color": "#636efa",
          "dash": "solid"
         },
         "marker": {
          "symbol": "circle"
         },
         "mode": "lines+markers",
         "name": "",
         "orientation": "v",
         "showlegend": false,
         "type": "scatter",
         "x": [
          0.48524936139583585,
          0.4844230845570564,
          0.4850423648953438,
          0.48680936843156813,
          0.4890582084655762,
          0.49167500883340837,
          0.4947415843605995,
          0.49836101830005647,
          0.5026210397481918,
          0.5075839713215828,
          0.513285194337368,
          0.5522327110171318,
          0.601300272345543
         ],
         "xaxis": "x",
         "y": [
          1.7333333333333334,
          1.6,
          1.7,
          2.2,
          2.2333333333333334,
          2.7333333333333334,
          3.2333333333333334,
          3.7666666666666666,
          5,
          5.066666666666666,
          6.166666666666667,
          7.6,
          8.5
         ],
         "yaxis": "y"
        }
       ],
       "layout": {
        "legend": {
         "tracegroupgap": 0
        },
        "template": {
         "data": {
          "bar": [
           {
            "error_x": {
             "color": "#2a3f5f"
            },
            "error_y": {
             "color": "#2a3f5f"
            },
            "marker": {
             "line": {
              "color": "#E5ECF6",
              "width": 0.5
             },
             "pattern": {
              "fillmode": "overlay",
              "size": 10,
              "solidity": 0.2
             }
            },
            "type": "bar"
           }
          ],
          "barpolar": [
           {
            "marker": {
             "line": {
              "color": "#E5ECF6",
              "width": 0.5
             },
             "pattern": {
              "fillmode": "overlay",
              "size": 10,
              "solidity": 0.2
             }
            },
            "type": "barpolar"
           }
          ],
          "carpet": [
           {
            "aaxis": {
             "endlinecolor": "#2a3f5f",
             "gridcolor": "white",
             "linecolor": "white",
             "minorgridcolor": "white",
             "startlinecolor": "#2a3f5f"
            },
            "baxis": {
             "endlinecolor": "#2a3f5f",
             "gridcolor": "white",
             "linecolor": "white",
             "minorgridcolor": "white",
             "startlinecolor": "#2a3f5f"
            },
            "type": "carpet"
           }
          ],
          "choropleth": [
           {
            "colorbar": {
             "outlinewidth": 0,
             "ticks": ""
            },
            "type": "choropleth"
           }
          ],
          "contour": [
           {
            "colorbar": {
             "outlinewidth": 0,
             "ticks": ""
            },
            "colorscale": [
             [
              0,
              "#0d0887"
             ],
             [
              0.1111111111111111,
              "#46039f"
             ],
             [
              0.2222222222222222,
              "#7201a8"
             ],
             [
              0.3333333333333333,
              "#9c179e"
             ],
             [
              0.4444444444444444,
              "#bd3786"
             ],
             [
              0.5555555555555556,
              "#d8576b"
             ],
             [
              0.6666666666666666,
              "#ed7953"
             ],
             [
              0.7777777777777778,
              "#fb9f3a"
             ],
             [
              0.8888888888888888,
              "#fdca26"
             ],
             [
              1,
              "#f0f921"
             ]
            ],
            "type": "contour"
           }
          ],
          "contourcarpet": [
           {
            "colorbar": {
             "outlinewidth": 0,
             "ticks": ""
            },
            "type": "contourcarpet"
           }
          ],
          "heatmap": [
           {
            "colorbar": {
             "outlinewidth": 0,
             "ticks": ""
            },
            "colorscale": [
             [
              0,
              "#0d0887"
             ],
             [
              0.1111111111111111,
              "#46039f"
             ],
             [
              0.2222222222222222,
              "#7201a8"
             ],
             [
              0.3333333333333333,
              "#9c179e"
             ],
             [
              0.4444444444444444,
              "#bd3786"
             ],
             [
              0.5555555555555556,
              "#d8576b"
             ],
             [
              0.6666666666666666,
              "#ed7953"
             ],
             [
              0.7777777777777778,
              "#fb9f3a"
             ],
             [
              0.8888888888888888,
              "#fdca26"
             ],
             [
              1,
              "#f0f921"
             ]
            ],
            "type": "heatmap"
           }
          ],
          "heatmapgl": [
           {
            "colorbar": {
             "outlinewidth": 0,
             "ticks": ""
            },
            "colorscale": [
             [
              0,
              "#0d0887"
             ],
             [
              0.1111111111111111,
              "#46039f"
             ],
             [
              0.2222222222222222,
              "#7201a8"
             ],
             [
              0.3333333333333333,
              "#9c179e"
             ],
             [
              0.4444444444444444,
              "#bd3786"
             ],
             [
              0.5555555555555556,
              "#d8576b"
             ],
             [
              0.6666666666666666,
              "#ed7953"
             ],
             [
              0.7777777777777778,
              "#fb9f3a"
             ],
             [
              0.8888888888888888,
              "#fdca26"
             ],
             [
              1,
              "#f0f921"
             ]
            ],
            "type": "heatmapgl"
           }
          ],
          "histogram": [
           {
            "marker": {
             "pattern": {
              "fillmode": "overlay",
              "size": 10,
              "solidity": 0.2
             }
            },
            "type": "histogram"
           }
          ],
          "histogram2d": [
           {
            "colorbar": {
             "outlinewidth": 0,
             "ticks": ""
            },
            "colorscale": [
             [
              0,
              "#0d0887"
             ],
             [
              0.1111111111111111,
              "#46039f"
             ],
             [
              0.2222222222222222,
              "#7201a8"
             ],
             [
              0.3333333333333333,
              "#9c179e"
             ],
             [
              0.4444444444444444,
              "#bd3786"
             ],
             [
              0.5555555555555556,
              "#d8576b"
             ],
             [
              0.6666666666666666,
              "#ed7953"
             ],
             [
              0.7777777777777778,
              "#fb9f3a"
             ],
             [
              0.8888888888888888,
              "#fdca26"
             ],
             [
              1,
              "#f0f921"
             ]
            ],
            "type": "histogram2d"
           }
          ],
          "histogram2dcontour": [
           {
            "colorbar": {
             "outlinewidth": 0,
             "ticks": ""
            },
            "colorscale": [
             [
              0,
              "#0d0887"
             ],
             [
              0.1111111111111111,
              "#46039f"
             ],
             [
              0.2222222222222222,
              "#7201a8"
             ],
             [
              0.3333333333333333,
              "#9c179e"
             ],
             [
              0.4444444444444444,
              "#bd3786"
             ],
             [
              0.5555555555555556,
              "#d8576b"
             ],
             [
              0.6666666666666666,
              "#ed7953"
             ],
             [
              0.7777777777777778,
              "#fb9f3a"
             ],
             [
              0.8888888888888888,
              "#fdca26"
             ],
             [
              1,
              "#f0f921"
             ]
            ],
            "type": "histogram2dcontour"
           }
          ],
          "mesh3d": [
           {
            "colorbar": {
             "outlinewidth": 0,
             "ticks": ""
            },
            "type": "mesh3d"
           }
          ],
          "parcoords": [
           {
            "line": {
             "colorbar": {
              "outlinewidth": 0,
              "ticks": ""
             }
            },
            "type": "parcoords"
           }
          ],
          "pie": [
           {
            "automargin": true,
            "type": "pie"
           }
          ],
          "scatter": [
           {
            "fillpattern": {
             "fillmode": "overlay",
             "size": 10,
             "solidity": 0.2
            },
            "type": "scatter"
           }
          ],
          "scatter3d": [
           {
            "line": {
             "colorbar": {
              "outlinewidth": 0,
              "ticks": ""
             }
            },
            "marker": {
             "colorbar": {
              "outlinewidth": 0,
              "ticks": ""
             }
            },
            "type": "scatter3d"
           }
          ],
          "scattercarpet": [
           {
            "marker": {
             "colorbar": {
              "outlinewidth": 0,
              "ticks": ""
             }
            },
            "type": "scattercarpet"
           }
          ],
          "scattergeo": [
           {
            "marker": {
             "colorbar": {
              "outlinewidth": 0,
              "ticks": ""
             }
            },
            "type": "scattergeo"
           }
          ],
          "scattergl": [
           {
            "marker": {
             "colorbar": {
              "outlinewidth": 0,
              "ticks": ""
             }
            },
            "type": "scattergl"
           }
          ],
          "scattermapbox": [
           {
            "marker": {
             "colorbar": {
              "outlinewidth": 0,
              "ticks": ""
             }
            },
            "type": "scattermapbox"
           }
          ],
          "scatterpolar": [
           {
            "marker": {
             "colorbar": {
              "outlinewidth": 0,
              "ticks": ""
             }
            },
            "type": "scatterpolar"
           }
          ],
          "scatterpolargl": [
           {
            "marker": {
             "colorbar": {
              "outlinewidth": 0,
              "ticks": ""
             }
            },
            "type": "scatterpolargl"
           }
          ],
          "scatterternary": [
           {
            "marker": {
             "colorbar": {
              "outlinewidth": 0,
              "ticks": ""
             }
            },
            "type": "scatterternary"
           }
          ],
          "surface": [
           {
            "colorbar": {
             "outlinewidth": 0,
             "ticks": ""
            },
            "colorscale": [
             [
              0,
              "#0d0887"
             ],
             [
              0.1111111111111111,
              "#46039f"
             ],
             [
              0.2222222222222222,
              "#7201a8"
             ],
             [
              0.3333333333333333,
              "#9c179e"
             ],
             [
              0.4444444444444444,
              "#bd3786"
             ],
             [
              0.5555555555555556,
              "#d8576b"
             ],
             [
              0.6666666666666666,
              "#ed7953"
             ],
             [
              0.7777777777777778,
              "#fb9f3a"
             ],
             [
              0.8888888888888888,
              "#fdca26"
             ],
             [
              1,
              "#f0f921"
             ]
            ],
            "type": "surface"
           }
          ],
          "table": [
           {
            "cells": {
             "fill": {
              "color": "#EBF0F8"
             },
             "line": {
              "color": "white"
             }
            },
            "header": {
             "fill": {
              "color": "#C8D4E3"
             },
             "line": {
              "color": "white"
             }
            },
            "type": "table"
           }
          ]
         },
         "layout": {
          "annotationdefaults": {
           "arrowcolor": "#2a3f5f",
           "arrowhead": 0,
           "arrowwidth": 1
          },
          "autotypenumbers": "strict",
          "coloraxis": {
           "colorbar": {
            "outlinewidth": 0,
            "ticks": ""
           }
          },
          "colorscale": {
           "diverging": [
            [
             0,
             "#8e0152"
            ],
            [
             0.1,
             "#c51b7d"
            ],
            [
             0.2,
             "#de77ae"
            ],
            [
             0.3,
             "#f1b6da"
            ],
            [
             0.4,
             "#fde0ef"
            ],
            [
             0.5,
             "#f7f7f7"
            ],
            [
             0.6,
             "#e6f5d0"
            ],
            [
             0.7,
             "#b8e186"
            ],
            [
             0.8,
             "#7fbc41"
            ],
            [
             0.9,
             "#4d9221"
            ],
            [
             1,
             "#276419"
            ]
           ],
           "sequential": [
            [
             0,
             "#0d0887"
            ],
            [
             0.1111111111111111,
             "#46039f"
            ],
            [
             0.2222222222222222,
             "#7201a8"
            ],
            [
             0.3333333333333333,
             "#9c179e"
            ],
            [
             0.4444444444444444,
             "#bd3786"
            ],
            [
             0.5555555555555556,
             "#d8576b"
            ],
            [
             0.6666666666666666,
             "#ed7953"
            ],
            [
             0.7777777777777778,
             "#fb9f3a"
            ],
            [
             0.8888888888888888,
             "#fdca26"
            ],
            [
             1,
             "#f0f921"
            ]
           ],
           "sequentialminus": [
            [
             0,
             "#0d0887"
            ],
            [
             0.1111111111111111,
             "#46039f"
            ],
            [
             0.2222222222222222,
             "#7201a8"
            ],
            [
             0.3333333333333333,
             "#9c179e"
            ],
            [
             0.4444444444444444,
             "#bd3786"
            ],
            [
             0.5555555555555556,
             "#d8576b"
            ],
            [
             0.6666666666666666,
             "#ed7953"
            ],
            [
             0.7777777777777778,
             "#fb9f3a"
            ],
            [
             0.8888888888888888,
             "#fdca26"
            ],
            [
             1,
             "#f0f921"
            ]
           ]
          },
          "colorway": [
           "#636efa",
           "#EF553B",
           "#00cc96",
           "#ab63fa",
           "#FFA15A",
           "#19d3f3",
           "#FF6692",
           "#B6E880",
           "#FF97FF",
           "#FECB52"
          ],
          "font": {
           "color": "#2a3f5f"
          },
          "geo": {
           "bgcolor": "white",
           "lakecolor": "white",
           "landcolor": "#E5ECF6",
           "showlakes": true,
           "showland": true,
           "subunitcolor": "white"
          },
          "hoverlabel": {
           "align": "left"
          },
          "hovermode": "closest",
          "mapbox": {
           "style": "light"
          },
          "paper_bgcolor": "white",
          "plot_bgcolor": "#E5ECF6",
          "polar": {
           "angularaxis": {
            "gridcolor": "white",
            "linecolor": "white",
            "ticks": ""
           },
           "bgcolor": "#E5ECF6",
           "radialaxis": {
            "gridcolor": "white",
            "linecolor": "white",
            "ticks": ""
           }
          },
          "scene": {
           "xaxis": {
            "backgroundcolor": "#E5ECF6",
            "gridcolor": "white",
            "gridwidth": 2,
            "linecolor": "white",
            "showbackground": true,
            "ticks": "",
            "zerolinecolor": "white"
           },
           "yaxis": {
            "backgroundcolor": "#E5ECF6",
            "gridcolor": "white",
            "gridwidth": 2,
            "linecolor": "white",
            "showbackground": true,
            "ticks": "",
            "zerolinecolor": "white"
           },
           "zaxis": {
            "backgroundcolor": "#E5ECF6",
            "gridcolor": "white",
            "gridwidth": 2,
            "linecolor": "white",
            "showbackground": true,
            "ticks": "",
            "zerolinecolor": "white"
           }
          },
          "shapedefaults": {
           "line": {
            "color": "#2a3f5f"
           }
          },
          "ternary": {
           "aaxis": {
            "gridcolor": "white",
            "linecolor": "white",
            "ticks": ""
           },
           "baxis": {
            "gridcolor": "white",
            "linecolor": "white",
            "ticks": ""
           },
           "bgcolor": "#E5ECF6",
           "caxis": {
            "gridcolor": "white",
            "linecolor": "white",
            "ticks": ""
           }
          },
          "title": {
           "x": 0.05
          },
          "xaxis": {
           "automargin": true,
           "gridcolor": "white",
           "linecolor": "white",
           "ticks": "",
           "title": {
            "standoff": 15
           },
           "zerolinecolor": "white",
           "zerolinewidth": 2
          },
          "yaxis": {
           "automargin": true,
           "gridcolor": "white",
           "linecolor": "white",
           "ticks": "",
           "title": {
            "standoff": 15
           },
           "zerolinecolor": "white",
           "zerolinewidth": 2
          }
         }
        },
        "title": {
         "text": "Anger Score vs. Loss"
        },
        "xaxis": {
         "anchor": "y",
         "domain": [
          0,
          1
         ],
         "title": {
          "text": "Loss"
         }
        },
        "yaxis": {
         "anchor": "x",
         "domain": [
          0,
          1
         ],
         "dtick": 1,
         "range": [
          1,
          9
         ],
         "title": {
          "text": "Mean Anger Score"
         }
        }
       }
      }
     },
     "metadata": {},
     "output_type": "display_data"
    }
   ],
   "source": [
    "fig = px.line(x=losses, y=mean_scores, title=\"Anger Score vs. Loss\", labels={\"x\": \"Loss\", \"y\": \"Mean Anger Score\"}, markers=True)\n",
    "fig.update_yaxes(range=[1, 9], dtick=1)\n",
    "fig.show()"
   ]
  },
  {
   "cell_type": "code",
   "execution_count": null,
   "metadata": {},
   "outputs": [],
   "source": []
  },
  {
   "cell_type": "code",
   "execution_count": null,
   "metadata": {},
   "outputs": [],
   "source": []
  }
 ],
 "metadata": {
  "kernelspec": {
   "display_name": ".venv",
   "language": "python",
   "name": "python3"
  },
  "language_info": {
   "codemirror_mode": {
    "name": "ipython",
    "version": 3
   },
   "file_extension": ".py",
   "mimetype": "text/x-python",
   "name": "python",
   "nbconvert_exporter": "python",
   "pygments_lexer": "ipython3",
   "version": "3.10.12"
  }
 },
 "nbformat": 4,
 "nbformat_minor": 2
}
